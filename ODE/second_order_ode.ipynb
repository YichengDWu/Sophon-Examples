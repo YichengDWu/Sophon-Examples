{
 "cells": [
  {
   "cell_type": "code",
   "execution_count": 4,
   "metadata": {},
   "outputs": [
    {
     "data": {
      "text/latex": [
       "$$ \\begin{align}\n",
       "\\frac{\\mathrm{d} u\\left( t \\right)}{\\mathrm{d}t} + \\frac{\\mathrm{d}}{\\mathrm{d}t} \\frac{\\mathrm{d} u\\left( t \\right)}{\\mathrm{d}t} =& 6 u\\left( t \\right)\n",
       "\\end{align}\n",
       " $$"
      ],
      "text/plain": [
       "PDESystem\n",
       "Equations: Equation[Differential(t)(u(t)) + Differential(t)(Differential(t)(u(t))) ~ 6u(t)]\n",
       "Boundary Conditions: Equation[u(0) ~ 2, Differential(t)(u(0)) ~ -1]\n",
       "Domain: Symbolics.VarDomainPairing[Symbolics.VarDomainPairing(t, 0..2)]\n",
       "Dependent Variables: Num[u(t)]\n",
       "Independent Variables: Num[t]\n",
       "Parameters: SciMLBase.NullParameters()\n",
       "Default Parameter ValuesDict{Any, Any}()"
      ]
     },
     "metadata": {},
     "output_type": "display_data"
    }
   ],
   "source": [
    "using ModelingToolkit, Sophon, DomainSets\n",
    "using Optimization, OptimizationOptimJL\n",
    "\n",
    "@parameters t\n",
    "@variables u(..)\n",
    "Dₜ = Differential(t)\n",
    "Dₜ² = Differential(t)^2\n",
    "\n",
    "eq = Dₜ²(u(t))+Dₜ(u(t))~6u(t)\n",
    "bcs = [\n",
    "    u(0)~2,\n",
    "    Dₜ(u(0))~-1\n",
    "]\n",
    "\n",
    "domain = [t∈0..2]\n",
    "@named ode = PDESystem(eq, bcs, domain, [t], [u(t)])"
   ]
  },
  {
   "cell_type": "code",
   "execution_count": 6,
   "metadata": {},
   "outputs": [
    {
     "data": {
      "text/plain": [
       "\u001b[38;2;86;182;194mOptimizationProblem\u001b[0m. In-place: \u001b[38;2;86;182;194mtrue\u001b[0m\n",
       "u0: \u001b[0mComponentVector{Float64}(layer_1 = (weight = [-0.8241336345672607; -0.619335412979126; … ; 0.5805238485336304; -0.25575506687164307;;], bias = [0.0; 0.0; … ; 0.0; 0.0;;]), layer_2 = (weight = [0.25665515661239624 0.3278225064277649 … -0.006959500722587109 0.30183443427085876; -0.2292017936706543 0.30782994627952576 … -0.04123315215110779 0.5480376482009888; … ; -0.09582050144672394 0.13058063387870789 … -0.5904499292373657 0.1005580872297287; 0.023114871233701706 0.4548139274120331 … -0.06429100781679153 -0.2131444662809372], bias = [0.0; 0.0; … ; 0.0; 0.0;;]), layer_3 = (weight = [0.027352111414074898 -0.5675317049026489 … 0.22408482432365417 -0.17273905873298645; -0.49999991059303284 -0.031044255942106247 … 0.2977629601955414 -0.09551630914211273; … ; -0.4565728008747101 -0.5259084701538086 … 0.10429059714078903 -0.49234458804130554; 0.07784325629472733 0.24327300488948822 … -0.3508818447589874 -0.3958447277545929], bias = [0.0; 0.0; … ; 0.0; 0.0;;]), layer_4 = (weight = [0.010934887453913689 0.06733578443527222 … -0.005835366435348988 0.2944986820220947; 0.5853551626205444 0.3148948550224304 … -0.11100686341524124 -0.43579739332199097; … ; 0.27355483174324036 -0.3456026613712311 … -0.13525229692459106 0.44215017557144165; 0.40298599004745483 -0.1669662594795227 … -0.257492333650589 -0.03692685440182686], bias = [0.0; 0.0; … ; 0.0; 0.0;;]), layer_5 = (weight = [-0.5974186658859253 0.21927154064178467 … -0.3160310387611389 -0.09188913553953171], bias = [0.0;;]))"
      ]
     },
     "metadata": {},
     "output_type": "display_data"
    }
   ],
   "source": [
    "sampler = QuasiRandomSampler(1000, 1)\n",
    "pinn = PINN(Siren(1,16,16,16,16,1; omega=1.0f0))\n",
    "strategy = NonAdaptiveTraining(1, 50)\n",
    "\n",
    "prob = Sophon.discretize(ode, pinn, sampler, strategy)"
   ]
  },
  {
   "cell_type": "code",
   "execution_count": 7,
   "metadata": {},
   "outputs": [
    {
     "name": "stdout",
     "output_type": "stream",
     "text": [
      "Loss: 274.9356664761556\n"
     ]
    },
    {
     "name": "stdout",
     "output_type": "stream",
     "text": [
      "Loss: 136.74736236060127\n"
     ]
    },
    {
     "name": "stdout",
     "output_type": "stream",
     "text": [
      "Loss: 40.02691774060246\n"
     ]
    },
    {
     "name": "stdout",
     "output_type": "stream",
     "text": [
      "Loss: 36.63321050704549\n",
      "Loss: 35.92008800568417\n",
      "Loss: 35.85143513652593\n"
     ]
    },
    {
     "name": "stdout",
     "output_type": "stream",
     "text": [
      "Loss: 35.751234917827034\n"
     ]
    },
    {
     "name": "stdout",
     "output_type": "stream",
     "text": [
      "Loss: 35.190345288369606\n"
     ]
    },
    {
     "name": "stdout",
     "output_type": "stream",
     "text": [
      "Loss: 35.04115542155697\n"
     ]
    },
    {
     "name": "stdout",
     "output_type": "stream",
     "text": [
      "Loss: 34.81114256736047\n",
      "Loss: 34.55072265153837\n"
     ]
    },
    {
     "name": "stdout",
     "output_type": "stream",
     "text": [
      "Loss: 34.32358193477478\n"
     ]
    },
    {
     "name": "stdout",
     "output_type": "stream",
     "text": [
      "Loss: 34.2065465384599\n",
      "Loss: 34.117948567613844\n"
     ]
    },
    {
     "name": "stdout",
     "output_type": "stream",
     "text": [
      "Loss: 33.96523920223961\n"
     ]
    },
    {
     "name": "stdout",
     "output_type": "stream",
     "text": [
      "Loss: 33.84767758389604\n",
      "Loss: 33.78966721652485\n"
     ]
    },
    {
     "name": "stdout",
     "output_type": "stream",
     "text": [
      "Loss: 33.556690252469636\n"
     ]
    },
    {
     "name": "stdout",
     "output_type": "stream",
     "text": [
      "Loss: 33.411070300731666\n"
     ]
    },
    {
     "name": "stdout",
     "output_type": "stream",
     "text": [
      "Loss: 33.231070880746984\n"
     ]
    },
    {
     "name": "stdout",
     "output_type": "stream",
     "text": [
      "Loss: 33.078157082028625\n"
     ]
    },
    {
     "name": "stdout",
     "output_type": "stream",
     "text": [
      "Loss: 32.89564510499817\n"
     ]
    },
    {
     "name": "stdout",
     "output_type": "stream",
     "text": [
      "Loss: 32.30737428418995\n"
     ]
    },
    {
     "name": "stdout",
     "output_type": "stream",
     "text": [
      "Loss: 32.25036747279231\n"
     ]
    },
    {
     "name": "stdout",
     "output_type": "stream",
     "text": [
      "Loss: 32.05048842890855\n"
     ]
    },
    {
     "name": "stdout",
     "output_type": "stream",
     "text": [
      "Loss: 31.76783907784439\n"
     ]
    },
    {
     "name": "stdout",
     "output_type": "stream",
     "text": [
      "Loss: 31.619599073966935\n",
      "Loss: 31.59174031152083\n"
     ]
    },
    {
     "name": "stdout",
     "output_type": "stream",
     "text": [
      "Loss: 31.466054141269222\n"
     ]
    },
    {
     "name": "stdout",
     "output_type": "stream",
     "text": [
      "Loss: 31.2182516313685\n"
     ]
    },
    {
     "name": "stdout",
     "output_type": "stream",
     "text": [
      "Loss: 31.10657233387434\n"
     ]
    },
    {
     "name": "stdout",
     "output_type": "stream",
     "text": [
      "Loss: 30.985010630002144\n"
     ]
    },
    {
     "name": "stdout",
     "output_type": "stream",
     "text": [
      "Loss: 30.878198543814246\n"
     ]
    },
    {
     "name": "stdout",
     "output_type": "stream",
     "text": [
      "Loss: 30.637418188258753\n"
     ]
    },
    {
     "name": "stdout",
     "output_type": "stream",
     "text": [
      "Loss: 30.551415882266785\n"
     ]
    },
    {
     "name": "stdout",
     "output_type": "stream",
     "text": [
      "Loss: 30.337400732495272\n"
     ]
    },
    {
     "name": "stdout",
     "output_type": "stream",
     "text": [
      "Loss: 30.107092620879058\n"
     ]
    },
    {
     "name": "stdout",
     "output_type": "stream",
     "text": [
      "Loss: 29.918325282297296\n"
     ]
    },
    {
     "name": "stdout",
     "output_type": "stream",
     "text": [
      "Loss: 29.75738106190981\n"
     ]
    },
    {
     "name": "stdout",
     "output_type": "stream",
     "text": [
      "Loss: 29.638018733335834\n"
     ]
    },
    {
     "name": "stdout",
     "output_type": "stream",
     "text": [
      "Loss: 29.516128265760397\n"
     ]
    },
    {
     "name": "stdout",
     "output_type": "stream",
     "text": [
      "Loss: 29.464885108025335\n",
      "Loss: 29.377888720255243\n"
     ]
    },
    {
     "name": "stdout",
     "output_type": "stream",
     "text": [
      "Loss: 29.206703208364043\n"
     ]
    },
    {
     "name": "stdout",
     "output_type": "stream",
     "text": [
      "Loss: 29.02528752316463\n"
     ]
    },
    {
     "name": "stdout",
     "output_type": "stream",
     "text": [
      "Loss: 28.973730795193774\n"
     ]
    },
    {
     "name": "stdout",
     "output_type": "stream",
     "text": [
      "Loss: 28.818825298837613\n"
     ]
    },
    {
     "name": "stdout",
     "output_type": "stream",
     "text": [
      "Loss: 28.531984624485663\n"
     ]
    },
    {
     "name": "stdout",
     "output_type": "stream",
     "text": [
      "Loss: 28.438057518970908\n",
      "Loss: 28.31307820796966\n"
     ]
    },
    {
     "name": "stdout",
     "output_type": "stream",
     "text": [
      "Loss: 28.26604518814387\n"
     ]
    },
    {
     "name": "stdout",
     "output_type": "stream",
     "text": [
      "Loss: 28.12915021162963\n"
     ]
    },
    {
     "name": "stdout",
     "output_type": "stream",
     "text": [
      "Loss: 27.945461520817503\n"
     ]
    },
    {
     "name": "stdout",
     "output_type": "stream",
     "text": [
      "Loss: 27.44852004239294\n"
     ]
    },
    {
     "name": "stdout",
     "output_type": "stream",
     "text": [
      "Loss: 27.391718470223335\n"
     ]
    },
    {
     "name": "stdout",
     "output_type": "stream",
     "text": [
      "Loss: 27.311090274509397\n"
     ]
    },
    {
     "name": "stdout",
     "output_type": "stream",
     "text": [
      "Loss: 27.221925503704895\n"
     ]
    },
    {
     "name": "stdout",
     "output_type": "stream",
     "text": [
      "Loss: 27.02165478372587\n"
     ]
    },
    {
     "name": "stdout",
     "output_type": "stream",
     "text": [
      "Loss: 26.732694088286966\n"
     ]
    },
    {
     "name": "stdout",
     "output_type": "stream",
     "text": [
      "Loss: 26.676296804509036\n"
     ]
    },
    {
     "name": "stdout",
     "output_type": "stream",
     "text": [
      "Loss: 26.536119169813997\n"
     ]
    },
    {
     "name": "stdout",
     "output_type": "stream",
     "text": [
      "Loss: 26.309864077500542\n"
     ]
    },
    {
     "name": "stdout",
     "output_type": "stream",
     "text": [
      "Loss: 26.12925718872211\n"
     ]
    },
    {
     "name": "stdout",
     "output_type": "stream",
     "text": [
      "Loss: 25.996181958154445\n"
     ]
    },
    {
     "name": "stdout",
     "output_type": "stream",
     "text": [
      "Loss: 25.76779313288351\n"
     ]
    },
    {
     "name": "stdout",
     "output_type": "stream",
     "text": [
      "Loss: 25.65616970339453\n"
     ]
    },
    {
     "name": "stdout",
     "output_type": "stream",
     "text": [
      "Loss: 25.510951466313355\n"
     ]
    },
    {
     "name": "stdout",
     "output_type": "stream",
     "text": [
      "Loss: 25.232605687642533\n"
     ]
    },
    {
     "name": "stdout",
     "output_type": "stream",
     "text": [
      "Loss: 25.074973258955385\n"
     ]
    },
    {
     "name": "stdout",
     "output_type": "stream",
     "text": [
      "Loss: 24.926089189773784\n"
     ]
    },
    {
     "name": "stdout",
     "output_type": "stream",
     "text": [
      "Loss: 24.518160225532426\n"
     ]
    },
    {
     "name": "stdout",
     "output_type": "stream",
     "text": [
      "Loss: 23.38832720346196\n"
     ]
    },
    {
     "name": "stdout",
     "output_type": "stream",
     "text": [
      "Loss: 23.06510109642538\n"
     ]
    },
    {
     "name": "stdout",
     "output_type": "stream",
     "text": [
      "Loss: 22.378119367205027\n"
     ]
    },
    {
     "name": "stdout",
     "output_type": "stream",
     "text": [
      "Loss: 22.15342077155918\n"
     ]
    },
    {
     "name": "stdout",
     "output_type": "stream",
     "text": [
      "Loss: 21.66403818464936\n"
     ]
    },
    {
     "name": "stdout",
     "output_type": "stream",
     "text": [
      "Loss: 21.445852190548226\n"
     ]
    },
    {
     "name": "stdout",
     "output_type": "stream",
     "text": [
      "Loss: 21.134966588180674\n"
     ]
    },
    {
     "name": "stdout",
     "output_type": "stream",
     "text": [
      "Loss: 21.00073737631404\n"
     ]
    },
    {
     "name": "stdout",
     "output_type": "stream",
     "text": [
      "Loss: 20.806800130394084\n"
     ]
    },
    {
     "name": "stdout",
     "output_type": "stream",
     "text": [
      "Loss: 20.60476757474543\n"
     ]
    },
    {
     "name": "stdout",
     "output_type": "stream",
     "text": [
      "Loss: 20.34780833644547\n"
     ]
    },
    {
     "name": "stdout",
     "output_type": "stream",
     "text": [
      "Loss: 20.08077333745025\n"
     ]
    },
    {
     "name": "stdout",
     "output_type": "stream",
     "text": [
      "Loss: 19.889708279241876\n"
     ]
    },
    {
     "name": "stdout",
     "output_type": "stream",
     "text": [
      "Loss: 19.65056728058765\n"
     ]
    },
    {
     "name": "stdout",
     "output_type": "stream",
     "text": [
      "Loss: 19.46968948999762\n"
     ]
    },
    {
     "name": "stdout",
     "output_type": "stream",
     "text": [
      "Loss: 19.27801680712873\n"
     ]
    },
    {
     "name": "stdout",
     "output_type": "stream",
     "text": [
      "Loss: 19.160491338050484\n"
     ]
    },
    {
     "name": "stdout",
     "output_type": "stream",
     "text": [
      "Loss: 18.908093944904703\n"
     ]
    },
    {
     "name": "stdout",
     "output_type": "stream",
     "text": [
      "Loss: 18.396094190938445\n"
     ]
    },
    {
     "name": "stdout",
     "output_type": "stream",
     "text": [
      "Loss: 18.286820359296325\n"
     ]
    },
    {
     "name": "stdout",
     "output_type": "stream",
     "text": [
      "Loss: 18.162635315590613\n"
     ]
    },
    {
     "name": "stdout",
     "output_type": "stream",
     "text": [
      "Loss: 18.082844824021386\n"
     ]
    },
    {
     "name": "stdout",
     "output_type": "stream",
     "text": [
      "Loss: 17.805258038308057\n"
     ]
    },
    {
     "name": "stdout",
     "output_type": "stream",
     "text": [
      "Loss: 17.44354090935304\n"
     ]
    },
    {
     "name": "stdout",
     "output_type": "stream",
     "text": [
      "Loss: 16.855327062682804\n"
     ]
    },
    {
     "name": "stdout",
     "output_type": "stream",
     "text": [
      "Loss: 16.51356362902951\n"
     ]
    },
    {
     "name": "stdout",
     "output_type": "stream",
     "text": [
      "Loss: 16.370166123445895\n"
     ]
    },
    {
     "name": "stdout",
     "output_type": "stream",
     "text": [
      "Loss: 16.10712372799191\n"
     ]
    },
    {
     "name": "stdout",
     "output_type": "stream",
     "text": [
      "Loss: 15.832766896766353\n"
     ]
    },
    {
     "name": "stdout",
     "output_type": "stream",
     "text": [
      "Loss: 15.098586048534965\n"
     ]
    },
    {
     "name": "stdout",
     "output_type": "stream",
     "text": [
      "Loss: 14.698620813382082\n"
     ]
    },
    {
     "name": "stdout",
     "output_type": "stream",
     "text": [
      "Loss: 14.660059886865541\n"
     ]
    },
    {
     "name": "stdout",
     "output_type": "stream",
     "text": [
      "Loss: 14.4243332297116\n"
     ]
    },
    {
     "name": "stdout",
     "output_type": "stream",
     "text": [
      "Loss: 14.13277132257918\n"
     ]
    },
    {
     "name": "stdout",
     "output_type": "stream",
     "text": [
      "Loss: 14.014499151097418\n"
     ]
    },
    {
     "name": "stdout",
     "output_type": "stream",
     "text": [
      "Loss: 13.944303592099253\n"
     ]
    },
    {
     "name": "stdout",
     "output_type": "stream",
     "text": [
      "Loss: 13.325702365063146\n"
     ]
    },
    {
     "name": "stdout",
     "output_type": "stream",
     "text": [
      "Loss: 12.577958628502698\n"
     ]
    },
    {
     "name": "stdout",
     "output_type": "stream",
     "text": [
      "Loss: 12.267310156333778\n"
     ]
    },
    {
     "name": "stdout",
     "output_type": "stream",
     "text": [
      "Loss: 11.870216185071861\n"
     ]
    },
    {
     "name": "stdout",
     "output_type": "stream",
     "text": [
      "Loss: 11.639712355528781\n"
     ]
    },
    {
     "name": "stdout",
     "output_type": "stream",
     "text": [
      "Loss: 11.497827947517305\n"
     ]
    },
    {
     "name": "stdout",
     "output_type": "stream",
     "text": [
      "Loss: 11.402818170046956\n"
     ]
    },
    {
     "name": "stdout",
     "output_type": "stream",
     "text": [
      "Loss: 11.24832175633932\n"
     ]
    },
    {
     "name": "stdout",
     "output_type": "stream",
     "text": [
      "Loss: 11.018067423011834\n"
     ]
    },
    {
     "name": "stdout",
     "output_type": "stream",
     "text": [
      "Loss: 10.491852640440873\n"
     ]
    },
    {
     "name": "stdout",
     "output_type": "stream",
     "text": [
      "Loss: 10.293321605067135\n"
     ]
    },
    {
     "name": "stdout",
     "output_type": "stream",
     "text": [
      "Loss: 10.242716429656024\n"
     ]
    },
    {
     "name": "stdout",
     "output_type": "stream",
     "text": [
      "Loss: 10.041517079348944\n"
     ]
    },
    {
     "name": "stdout",
     "output_type": "stream",
     "text": [
      "Loss: 9.738796421232564\n"
     ]
    },
    {
     "name": "stdout",
     "output_type": "stream",
     "text": [
      "Loss: 9.329743849464734\n"
     ]
    },
    {
     "name": "stdout",
     "output_type": "stream",
     "text": [
      "Loss: 9.270763135913578\n"
     ]
    },
    {
     "name": "stdout",
     "output_type": "stream",
     "text": [
      "Loss: 9.15356330984598\n"
     ]
    },
    {
     "name": "stdout",
     "output_type": "stream",
     "text": [
      "Loss: 8.910165648309269\n"
     ]
    },
    {
     "name": "stdout",
     "output_type": "stream",
     "text": [
      "Loss: 8.813726670013946\n"
     ]
    },
    {
     "name": "stdout",
     "output_type": "stream",
     "text": [
      "Loss: 8.689182180596791\n"
     ]
    },
    {
     "name": "stdout",
     "output_type": "stream",
     "text": [
      "Loss: 8.554927344910228\n"
     ]
    },
    {
     "name": "stdout",
     "output_type": "stream",
     "text": [
      "Loss: 8.430938185529453\n"
     ]
    },
    {
     "name": "stdout",
     "output_type": "stream",
     "text": [
      "Loss: 8.229912455473325\n"
     ]
    },
    {
     "name": "stdout",
     "output_type": "stream",
     "text": [
      "Loss: 8.008386077662335\n"
     ]
    },
    {
     "name": "stdout",
     "output_type": "stream",
     "text": [
      "Loss: 7.823751081391022\n"
     ]
    },
    {
     "name": "stdout",
     "output_type": "stream",
     "text": [
      "Loss: 7.623201728234534\n"
     ]
    },
    {
     "name": "stdout",
     "output_type": "stream",
     "text": [
      "Loss: 7.492900406615718\n"
     ]
    },
    {
     "name": "stdout",
     "output_type": "stream",
     "text": [
      "Loss: 7.181475751714721\n"
     ]
    },
    {
     "name": "stdout",
     "output_type": "stream",
     "text": [
      "Loss: 6.949195788284145\n"
     ]
    },
    {
     "name": "stdout",
     "output_type": "stream",
     "text": [
      "Loss: 6.801294494032431\n",
      "Loss: 6.727620939067535\n"
     ]
    },
    {
     "name": "stdout",
     "output_type": "stream",
     "text": [
      "Loss: 6.633694041523093\n"
     ]
    },
    {
     "name": "stdout",
     "output_type": "stream",
     "text": [
      "Loss: 6.557351182437343\n"
     ]
    },
    {
     "name": "stdout",
     "output_type": "stream",
     "text": [
      "Loss: 6.331583077639686\n"
     ]
    },
    {
     "name": "stdout",
     "output_type": "stream",
     "text": [
      "Loss: 6.245528186994857\n"
     ]
    },
    {
     "name": "stdout",
     "output_type": "stream",
     "text": [
      "Loss: 6.147039920530897\n"
     ]
    },
    {
     "name": "stdout",
     "output_type": "stream",
     "text": [
      "Loss: 6.058289084170891\n"
     ]
    },
    {
     "name": "stdout",
     "output_type": "stream",
     "text": [
      "Loss: 5.959104315619132\n"
     ]
    },
    {
     "name": "stdout",
     "output_type": "stream",
     "text": [
      "Loss: 5.823433501021549\n"
     ]
    },
    {
     "name": "stdout",
     "output_type": "stream",
     "text": [
      "Loss: 5.673053015579261\n"
     ]
    },
    {
     "name": "stdout",
     "output_type": "stream",
     "text": [
      "Loss: 5.612630734416357\n",
      "Loss: 5.5685001827358676\n"
     ]
    },
    {
     "name": "stdout",
     "output_type": "stream",
     "text": [
      "Loss: 5.470894274527636\n"
     ]
    },
    {
     "name": "stdout",
     "output_type": "stream",
     "text": [
      "Loss: 5.252093998417339\n"
     ]
    },
    {
     "name": "stdout",
     "output_type": "stream",
     "text": [
      "Loss: 5.082220433117815\n"
     ]
    },
    {
     "name": "stdout",
     "output_type": "stream",
     "text": [
      "Loss: 4.892936787497769\n"
     ]
    },
    {
     "name": "stdout",
     "output_type": "stream",
     "text": [
      "Loss: 4.599620692887964\n"
     ]
    },
    {
     "name": "stdout",
     "output_type": "stream",
     "text": [
      "Loss: 4.470709888463597\n"
     ]
    },
    {
     "name": "stdout",
     "output_type": "stream",
     "text": [
      "Loss: 4.386937465928483\n"
     ]
    },
    {
     "name": "stdout",
     "output_type": "stream",
     "text": [
      "Loss: 4.301647865491425\n"
     ]
    },
    {
     "name": "stdout",
     "output_type": "stream",
     "text": [
      "Loss: 4.236949744695595\n"
     ]
    },
    {
     "name": "stdout",
     "output_type": "stream",
     "text": [
      "Loss: 4.163246474104798\n"
     ]
    },
    {
     "name": "stdout",
     "output_type": "stream",
     "text": [
      "Loss: 4.0970847801487045\n"
     ]
    },
    {
     "name": "stdout",
     "output_type": "stream",
     "text": [
      "Loss: 4.033890378540029\n",
      "Loss: 3.9464680570819914\n"
     ]
    },
    {
     "name": "stdout",
     "output_type": "stream",
     "text": [
      "Loss: 3.876574949784977\n"
     ]
    },
    {
     "name": "stdout",
     "output_type": "stream",
     "text": [
      "Loss: 3.7032193817769388\n"
     ]
    },
    {
     "name": "stdout",
     "output_type": "stream",
     "text": [
      "Loss: 3.58763860143687\n"
     ]
    },
    {
     "name": "stdout",
     "output_type": "stream",
     "text": [
      "Loss: 3.4585599418768145\n"
     ]
    },
    {
     "name": "stdout",
     "output_type": "stream",
     "text": [
      "Loss: 3.332744493433839\n"
     ]
    },
    {
     "name": "stdout",
     "output_type": "stream",
     "text": [
      "Loss: 3.2479070030931254\n",
      "Loss: 3.1492577523517413\n"
     ]
    },
    {
     "name": "stdout",
     "output_type": "stream",
     "text": [
      "Loss: 3.1027269766132166\n",
      "Loss: 3.0552021959184814\n"
     ]
    },
    {
     "name": "stdout",
     "output_type": "stream",
     "text": [
      "Loss: 2.940857390276195\n"
     ]
    },
    {
     "name": "stdout",
     "output_type": "stream",
     "text": [
      "Loss: 2.844619744910561\n"
     ]
    },
    {
     "name": "stdout",
     "output_type": "stream",
     "text": [
      "Loss: 2.7797711717952374\n",
      "Loss: 2.521148755708309\n"
     ]
    },
    {
     "name": "stdout",
     "output_type": "stream",
     "text": [
      "Loss: 2.456929975776328\n"
     ]
    },
    {
     "name": "stdout",
     "output_type": "stream",
     "text": [
      "Loss: 2.3621584245504357\n"
     ]
    },
    {
     "name": "stdout",
     "output_type": "stream",
     "text": [
      "Loss: 2.2400168747143474\n"
     ]
    },
    {
     "name": "stdout",
     "output_type": "stream",
     "text": [
      "Loss: 2.181206263534539\n"
     ]
    },
    {
     "name": "stdout",
     "output_type": "stream",
     "text": [
      "Loss: 2.1128526607274773\n"
     ]
    },
    {
     "name": "stdout",
     "output_type": "stream",
     "text": [
      "Loss: 2.0807127712768736\n"
     ]
    },
    {
     "name": "stdout",
     "output_type": "stream",
     "text": [
      "Loss: 2.0333689260929453\n",
      "Loss: 1.954899347068\n"
     ]
    },
    {
     "name": "stdout",
     "output_type": "stream",
     "text": [
      "Loss: 1.9006341503387063\n"
     ]
    },
    {
     "name": "stdout",
     "output_type": "stream",
     "text": [
      "Loss: 1.866496413262989\n"
     ]
    },
    {
     "name": "stdout",
     "output_type": "stream",
     "text": [
      "Loss: 1.7914502348804529\n"
     ]
    },
    {
     "name": "stdout",
     "output_type": "stream",
     "text": [
      "Loss: 1.754679168145305\n",
      "Loss: 1.7045231934214762\n"
     ]
    },
    {
     "name": "stdout",
     "output_type": "stream",
     "text": [
      "Loss: 1.6431827566139452\n"
     ]
    },
    {
     "name": "stdout",
     "output_type": "stream",
     "text": [
      "Loss: 1.6069471849211403\n",
      "Loss: 1.5625373449097975\n"
     ]
    },
    {
     "name": "stdout",
     "output_type": "stream",
     "text": [
      "Loss: 1.502151171277426\n"
     ]
    },
    {
     "name": "stdout",
     "output_type": "stream",
     "text": [
      "Loss: 1.4490443625728968\n",
      "Loss: 1.399271616982826\n"
     ]
    },
    {
     "name": "stdout",
     "output_type": "stream",
     "text": [
      "Loss: 1.3394689710366467\n"
     ]
    },
    {
     "name": "stdout",
     "output_type": "stream",
     "text": [
      "Loss: 1.3114352760227947\n",
      "Loss: 1.288358020330237\n"
     ]
    },
    {
     "name": "stdout",
     "output_type": "stream",
     "text": [
      "Loss: 1.2708057194605782\n"
     ]
    },
    {
     "name": "stdout",
     "output_type": "stream",
     "text": [
      "Loss: 1.2260950217737243\n",
      "Loss: 1.1546814151609472\n"
     ]
    },
    {
     "name": "stdout",
     "output_type": "stream",
     "text": [
      "Loss: 1.1125390518855525\n"
     ]
    },
    {
     "name": "stdout",
     "output_type": "stream",
     "text": [
      "Loss: 1.090226506330912\n"
     ]
    },
    {
     "name": "stdout",
     "output_type": "stream",
     "text": [
      "Loss: 1.0374523398592377\n"
     ]
    },
    {
     "name": "stdout",
     "output_type": "stream",
     "text": [
      "Loss: 1.0226421557754113\n"
     ]
    },
    {
     "name": "stdout",
     "output_type": "stream",
     "text": [
      "Loss: 0.9973703868940804\n"
     ]
    },
    {
     "name": "stdout",
     "output_type": "stream",
     "text": [
      "Loss: 0.9685172373156762\n"
     ]
    },
    {
     "name": "stdout",
     "output_type": "stream",
     "text": [
      "Loss: 0.9087656293830766\n"
     ]
    },
    {
     "name": "stdout",
     "output_type": "stream",
     "text": [
      "Loss: 0.8644597648744917\n"
     ]
    },
    {
     "name": "stdout",
     "output_type": "stream",
     "text": [
      "Loss: 0.7981678929876961\n"
     ]
    },
    {
     "name": "stdout",
     "output_type": "stream",
     "text": [
      "Loss: 0.7397464810309001\n",
      "Loss: 0.7165095662562533\n"
     ]
    },
    {
     "name": "stdout",
     "output_type": "stream",
     "text": [
      "Loss: 0.6991233535270235\n"
     ]
    },
    {
     "name": "stdout",
     "output_type": "stream",
     "text": [
      "Loss: 0.6312688114446966\n"
     ]
    },
    {
     "name": "stdout",
     "output_type": "stream",
     "text": [
      "Loss: 0.5837679145475207\n"
     ]
    },
    {
     "name": "stdout",
     "output_type": "stream",
     "text": [
      "Loss: 0.5282448783020793\n"
     ]
    },
    {
     "name": "stdout",
     "output_type": "stream",
     "text": [
      "Loss: 0.4867761328539027\n"
     ]
    },
    {
     "name": "stdout",
     "output_type": "stream",
     "text": [
      "Loss: 0.4612795184027167\n"
     ]
    },
    {
     "name": "stdout",
     "output_type": "stream",
     "text": [
      "Loss: 0.41993399233265843\n",
      "Loss: 0.3913385904239283\n"
     ]
    },
    {
     "name": "stdout",
     "output_type": "stream",
     "text": [
      "Loss: 0.3564146647448206\n",
      "Loss: 0.33206146274002263\n"
     ]
    },
    {
     "name": "stdout",
     "output_type": "stream",
     "text": [
      "Loss: 0.31490089932301374\n",
      "Loss: 0.2731282458783641\n"
     ]
    },
    {
     "name": "stdout",
     "output_type": "stream",
     "text": [
      "Loss: 0.2567443685173149\n"
     ]
    },
    {
     "name": "stdout",
     "output_type": "stream",
     "text": [
      "Loss: 0.23218442433276362\n",
      "Loss: 0.2103198450275781\n"
     ]
    },
    {
     "name": "stdout",
     "output_type": "stream",
     "text": [
      "Loss: 0.1929288476141438\n",
      "Loss: 0.17957405918720376\n"
     ]
    },
    {
     "name": "stdout",
     "output_type": "stream",
     "text": [
      "Loss: 0.1699874990619421\n",
      "Loss: 0.15287311420987462\n"
     ]
    },
    {
     "name": "stdout",
     "output_type": "stream",
     "text": [
      "Loss: 0.14009383701737868\n",
      "Loss: 0.11979641119238273\n"
     ]
    },
    {
     "name": "stdout",
     "output_type": "stream",
     "text": [
      "Loss: 0.11035671902090789\n"
     ]
    },
    {
     "name": "stdout",
     "output_type": "stream",
     "text": [
      "Loss: 0.10312699374204379\n",
      "Loss: 0.09337526811192581\n"
     ]
    },
    {
     "name": "stdout",
     "output_type": "stream",
     "text": [
      "Loss: 0.0862664321591834\n",
      "Loss: 0.07962480733152216\n"
     ]
    },
    {
     "name": "stdout",
     "output_type": "stream",
     "text": [
      "Loss: 0.07514553696867236\n",
      "Loss: 0.07035349400071352\n"
     ]
    },
    {
     "name": "stdout",
     "output_type": "stream",
     "text": [
      "Loss: 0.06390070859842172\n",
      "Loss: 0.056044272693565246\n"
     ]
    },
    {
     "name": "stdout",
     "output_type": "stream",
     "text": [
      "Loss: 0.046672368234554354\n",
      "Loss: 0.0391556647627628\n"
     ]
    },
    {
     "name": "stdout",
     "output_type": "stream",
     "text": [
      "Loss: 0.033846003669014066\n",
      "Loss: 0.03241109403051556\n"
     ]
    },
    {
     "name": "stdout",
     "output_type": "stream",
     "text": [
      "Loss: 0.031043448426204805\n",
      "Loss: 0.027613261973818855\n"
     ]
    },
    {
     "name": "stdout",
     "output_type": "stream",
     "text": [
      "Loss: 0.025299632899728204\n",
      "Loss: 0.02190483636097482\n"
     ]
    },
    {
     "name": "stdout",
     "output_type": "stream",
     "text": [
      "Loss: 0.020469342221451362\n",
      "Loss: 0.019835983277573146\n",
      "Loss: 0.01933047761635049\n"
     ]
    },
    {
     "name": "stdout",
     "output_type": "stream",
     "text": [
      "Loss: 0.016887659377759538\n",
      "Loss: 0.01485048285949231\n"
     ]
    },
    {
     "name": "stdout",
     "output_type": "stream",
     "text": [
      "Loss: 0.013820803564505347\n",
      "Loss: 0.012540709200767374\n"
     ]
    },
    {
     "name": "stdout",
     "output_type": "stream",
     "text": [
      "Loss: 0.011703535869097424\n",
      "Loss: 0.011214280468195937\n"
     ]
    },
    {
     "name": "stdout",
     "output_type": "stream",
     "text": [
      "Loss: 0.01046889233109978\n",
      "Loss: 0.010145929102708881\n",
      "Loss: 0.009860519460904209\n"
     ]
    },
    {
     "name": "stdout",
     "output_type": "stream",
     "text": [
      "Loss: 0.009375817713210373\n",
      "Loss: 0.008585450602547024\n"
     ]
    },
    {
     "name": "stdout",
     "output_type": "stream",
     "text": [
      "Loss: 0.007959060604238502\n",
      "Loss: 0.0075591571960428655\n"
     ]
    },
    {
     "name": "stdout",
     "output_type": "stream",
     "text": [
      "Loss: 0.007080442460435839\n",
      "Loss: 0.0069658000834134665\n",
      "Loss: 0.006368601283160767\n"
     ]
    },
    {
     "name": "stdout",
     "output_type": "stream",
     "text": [
      "Loss: 0.005835673708235028\n",
      "Loss: 0.005597072790390481\n",
      "Loss: 0.0053298105015637575\n"
     ]
    },
    {
     "name": "stdout",
     "output_type": "stream",
     "text": [
      "Loss: 0.005239722635677872\n",
      "Loss: 0.004694365069161706\n"
     ]
    },
    {
     "name": "stdout",
     "output_type": "stream",
     "text": [
      "Loss: 0.00427478550865309\n",
      "Loss: 0.004003704893112245\n",
      "Loss: 0.003922637286130699\n"
     ]
    },
    {
     "name": "stdout",
     "output_type": "stream",
     "text": [
      "Loss: 0.0038482490796901965\n",
      "Loss: 0.0033200981467469905\n",
      "Loss: 0.003283924948378968\n"
     ]
    },
    {
     "name": "stdout",
     "output_type": "stream",
     "text": [
      "Loss: 0.003201121211296769\n",
      "Loss: 0.002922152318874702\n"
     ]
    },
    {
     "name": "stdout",
     "output_type": "stream",
     "text": [
      "Loss: 0.002571321118405398\n",
      "Loss: 0.002318033731205657\n",
      "Loss: 0.002206239135848064\n"
     ]
    },
    {
     "name": "stdout",
     "output_type": "stream",
     "text": [
      "Loss: 0.002103093335341381\n",
      "Loss: 0.0017730874368132165\n"
     ]
    },
    {
     "name": "stdout",
     "output_type": "stream",
     "text": [
      "Loss: 0.0016637491791159438\n",
      "Loss: 0.001632056921009327\n",
      "Loss: 0.0014180358730140662\n"
     ]
    },
    {
     "name": "stdout",
     "output_type": "stream",
     "text": [
      "Loss: 0.0013662091925833804\n",
      "Loss: 0.001265994223683278\n",
      "Loss: 0.0011982373487801322\n"
     ]
    },
    {
     "name": "stdout",
     "output_type": "stream",
     "text": [
      "Loss: 0.0010811309304371885\n",
      "Loss: 0.0009896321752625927\n"
     ]
    },
    {
     "name": "stdout",
     "output_type": "stream",
     "text": [
      "Loss: 0.0008878333202798827\n",
      "Loss: 0.0008250064712115925\n",
      "Loss: 0.0007869101658545864\n"
     ]
    },
    {
     "name": "stdout",
     "output_type": "stream",
     "text": [
      "Loss: 0.0007305245415460405\n",
      "Loss: 0.0006430038956894479\n"
     ]
    },
    {
     "name": "stdout",
     "output_type": "stream",
     "text": [
      "Loss: 0.0005740402710107629\n",
      "Loss: 0.0005459030187296734\n",
      "Loss: 0.00044508087645735183\n"
     ]
    },
    {
     "name": "stdout",
     "output_type": "stream",
     "text": [
      "Loss: 0.0003953580596742557\n",
      "Loss: 0.0003406735790353346\n",
      "Loss: 0.0003136456433041038\n"
     ]
    },
    {
     "name": "stdout",
     "output_type": "stream",
     "text": [
      "Loss: 0.0002802730249455347\n",
      "Loss: 0.00024228910726886284\n",
      "Loss: 0.00020439081711577485\n"
     ]
    },
    {
     "name": "stdout",
     "output_type": "stream",
     "text": [
      "Loss: 0.00016930100486145757\n",
      "Loss: 0.00015145328632367014\n"
     ]
    },
    {
     "name": "stdout",
     "output_type": "stream",
     "text": [
      "Loss: 0.00010794726716068278\n",
      "Loss: 9.020007200729048e-5\n",
      "Loss: 7.289678246108863e-5\n"
     ]
    },
    {
     "name": "stdout",
     "output_type": "stream",
     "text": [
      "Loss: 5.760816343713455e-5\n",
      "Loss: 4.8256670254900084e-5\n",
      "Loss: 4.52012768858498e-5\n"
     ]
    },
    {
     "name": "stdout",
     "output_type": "stream",
     "text": [
      "Loss: 4.314377940973971e-5\n",
      "Loss: 4.177261183366137e-5\n",
      "Loss: 4.123016326311303e-5\n"
     ]
    },
    {
     "name": "stdout",
     "output_type": "stream",
     "text": [
      "Loss: 4.088654159135414e-5\n",
      "Loss: 4.067638304688413e-5\n"
     ]
    },
    {
     "name": "stdout",
     "output_type": "stream",
     "text": [
      "Loss: 4.0103117296630266e-5\n",
      "Loss: 3.879536138309437e-5\n"
     ]
    },
    {
     "name": "stdout",
     "output_type": "stream",
     "text": [
      "Loss: 3.771919987135551e-5\n",
      "Loss: 3.573045542678192e-5\n",
      "Loss: 3.380487721411703e-5\n"
     ]
    },
    {
     "name": "stdout",
     "output_type": "stream",
     "text": [
      "Loss: 3.307823978078704e-5\n",
      "Loss: 3.216323158802103e-5\n",
      "Loss: 3.14463501717462e-5\n"
     ]
    },
    {
     "name": "stdout",
     "output_type": "stream",
     "text": [
      "Loss: 3.0233142284436315e-5\n",
      "Loss: 2.890614860909075e-5\n"
     ]
    },
    {
     "name": "stdout",
     "output_type": "stream",
     "text": [
      "Loss: 2.7084550951689622e-5\n",
      "Loss: 2.5881837825621253e-5\n",
      "Loss: 2.5236035995091324e-5\n"
     ]
    },
    {
     "name": "stdout",
     "output_type": "stream",
     "text": [
      "Loss: 2.4574394394325496e-5\n",
      "Loss: 2.3655473632329347e-5\n",
      "Loss: 2.315577925990213e-5\n"
     ]
    },
    {
     "name": "stdout",
     "output_type": "stream",
     "text": [
      "Loss: 2.2730456354600536e-5\n",
      "Loss: 2.1487711141215867e-5\n",
      "Loss: 2.1232021941610085e-5\n"
     ]
    },
    {
     "name": "stdout",
     "output_type": "stream",
     "text": [
      "Loss: 2.0050829130272577e-5\n",
      "Loss: 1.9596675570937998e-5\n",
      "Loss: 1.9411923811424742e-5\n"
     ]
    },
    {
     "name": "stdout",
     "output_type": "stream",
     "text": [
      "Loss: 1.8668203143982445e-5\n",
      "Loss: 1.8471196179882696e-5\n",
      "Loss: 1.8270291837024354e-5\n"
     ]
    },
    {
     "name": "stdout",
     "output_type": "stream",
     "text": [
      "Loss: 1.8007078624412095e-5\n",
      "Loss: 1.7810554312558633e-5\n",
      "Loss: 1.774028533906594e-5\n"
     ]
    },
    {
     "name": "stdout",
     "output_type": "stream",
     "text": [
      "Loss: 1.743798137198904e-5\n",
      "Loss: 1.7309879147542383e-5\n",
      "Loss: 1.70407515441034e-5\n"
     ]
    },
    {
     "name": "stdout",
     "output_type": "stream",
     "text": [
      "Loss: 1.688081972199814e-5\n",
      "Loss: 1.6432433127270694e-5\n",
      "Loss: 1.6159396011731964e-5\n"
     ]
    },
    {
     "name": "stdout",
     "output_type": "stream",
     "text": [
      "Loss: 1.587437176028841e-5\n",
      "Loss: 1.5280457175779157e-5\n",
      "Loss: 1.5166758544955027e-5\n"
     ]
    },
    {
     "name": "stdout",
     "output_type": "stream",
     "text": [
      "Loss: 1.4884893574765087e-5\n",
      "Loss: 1.4648317847456821e-5\n",
      "Loss: 1.4436778871854574e-5\n"
     ]
    },
    {
     "name": "stdout",
     "output_type": "stream",
     "text": [
      "Loss: 1.413863962860151e-5\n",
      "Loss: 1.3989261019521597e-5\n",
      "Loss: 1.3800197523649922e-5\n"
     ]
    },
    {
     "name": "stdout",
     "output_type": "stream",
     "text": [
      "Loss: 1.35984194211656e-5\n",
      "Loss: 1.3192858421274112e-5\n",
      "Loss: 1.266993852695336e-5\n"
     ]
    },
    {
     "name": "stdout",
     "output_type": "stream",
     "text": [
      "Loss: 1.2235292651316779e-5\n",
      "Loss: 1.1448525597243692e-5\n"
     ]
    },
    {
     "name": "stdout",
     "output_type": "stream",
     "text": [
      "Loss: 9.905428004753827e-6\n",
      "Loss: 8.432677947605157e-6\n"
     ]
    },
    {
     "name": "stdout",
     "output_type": "stream",
     "text": [
      "Loss: 7.671830637617443e-6\n",
      "Loss: 7.2298442041397745e-6\n"
     ]
    },
    {
     "name": "stdout",
     "output_type": "stream",
     "text": [
      "Loss: 6.842586969054411e-6\n",
      "Loss: 5.429779735637461e-6\n",
      "Loss: 4.39970557982814e-6\n"
     ]
    },
    {
     "name": "stdout",
     "output_type": "stream",
     "text": [
      "Loss: 3.57772532160858e-6\n",
      "Loss: 2.844752318845321e-6\n",
      "Loss: 2.3748803011921934e-6\n"
     ]
    },
    {
     "name": "stdout",
     "output_type": "stream",
     "text": [
      "Loss: 2.1072783980107018e-6\n",
      "Loss: 1.9456350303749424e-6\n",
      "Loss: 1.7529480549529112e-6\n"
     ]
    },
    {
     "name": "stdout",
     "output_type": "stream",
     "text": [
      "Loss: 1.6739332541147646e-6\n",
      "Loss: 1.5752863622643806e-6\n",
      "Loss: 1.5057900464816671e-6\n"
     ]
    },
    {
     "name": "stdout",
     "output_type": "stream",
     "text": [
      "Loss: 1.4230174233271658e-6\n",
      "Loss: 1.3026599378692238e-6\n",
      "Loss: 1.2529910616429194e-6\n"
     ]
    },
    {
     "name": "stdout",
     "output_type": "stream",
     "text": [
      "Loss: 1.2226328266278422e-6\n",
      "Loss: 1.202864580223791e-6\n",
      "Loss: 1.198469265420161e-6\n"
     ]
    },
    {
     "name": "stdout",
     "output_type": "stream",
     "text": [
      "Loss: 1.196544505709643e-6\n",
      "Loss: 1.191592002093038e-6\n"
     ]
    },
    {
     "name": "stdout",
     "output_type": "stream",
     "text": [
      "Loss: 1.1810013094601805e-6\n",
      "Loss: 1.1606523761472702e-6\n"
     ]
    },
    {
     "name": "stdout",
     "output_type": "stream",
     "text": [
      "Loss: 1.1410529320056223e-6\n",
      "Loss: 1.1324446116305382e-6\n"
     ]
    },
    {
     "name": "stdout",
     "output_type": "stream",
     "text": [
      "Loss: 1.125676563921758e-6\n",
      "Loss: 1.1229954145371158e-6\n"
     ]
    },
    {
     "name": "stdout",
     "output_type": "stream",
     "text": [
      "Loss: 1.1207337816341132e-6\n",
      "Loss: 1.1165452226771465e-6\n"
     ]
    },
    {
     "name": "stdout",
     "output_type": "stream",
     "text": [
      "Loss: 1.1063816729372067e-6\n",
      "Loss: 1.0990366233749454e-6\n",
      "Loss: 1.0801916775616869e-6\n"
     ]
    },
    {
     "name": "stdout",
     "output_type": "stream",
     "text": [
      "Loss: 1.0496562722658456e-6\n",
      "Loss: 9.979596986701828e-7\n",
      "Loss: 9.449385214200779e-7\n"
     ]
    },
    {
     "name": "stdout",
     "output_type": "stream",
     "text": [
      "Loss: 8.97158598599062e-7\n",
      "Loss: 8.605874848448351e-7\n",
      "Loss: 8.456543047093939e-7\n"
     ]
    },
    {
     "name": "stdout",
     "output_type": "stream",
     "text": [
      "Loss: 8.310698492413178e-7\n",
      "Loss: 8.129395903644849e-7\n"
     ]
    },
    {
     "name": "stdout",
     "output_type": "stream",
     "text": [
      "Loss: 7.994500029253743e-7\n",
      "Loss: 7.844271178020271e-7\n",
      "Loss: 7.725774280447342e-7\n"
     ]
    },
    {
     "name": "stdout",
     "output_type": "stream",
     "text": [
      "Loss: 7.626824409961358e-7\n",
      "Loss: 7.525394687211761e-7\n",
      "Loss: 7.505955879324096e-7\n"
     ]
    },
    {
     "name": "stdout",
     "output_type": "stream",
     "text": [
      "Loss: 7.477664622303736e-7\n",
      "Loss: 7.474720703286046e-7\n",
      "Loss: 7.47105665230158e-7\n"
     ]
    },
    {
     "name": "stdout",
     "output_type": "stream",
     "text": [
      "Loss: 7.469280949084758e-7\n",
      "Loss: 7.457066115526041e-7\n"
     ]
    },
    {
     "name": "stdout",
     "output_type": "stream",
     "text": [
      "Loss: 7.432236548124842e-7\n",
      "Loss: 7.327456385119364e-7\n",
      "Loss: 7.226293512363616e-7\n"
     ]
    },
    {
     "name": "stdout",
     "output_type": "stream",
     "text": [
      "Loss: 7.003868174929065e-7\n",
      "Loss: 6.646726119491144e-7\n",
      "Loss: 6.404617983758577e-7\n"
     ]
    },
    {
     "name": "stdout",
     "output_type": "stream",
     "text": [
      "Loss: 6.358365442662037e-7\n",
      "Loss: 6.139168366590197e-7\n",
      "Loss: 6.043127538022475e-7\n"
     ]
    },
    {
     "name": "stdout",
     "output_type": "stream",
     "text": [
      "Loss: 5.809423587225888e-7\n",
      "Loss: 5.7038175101495e-7\n",
      "Loss: 5.474412318969274e-7\n"
     ]
    },
    {
     "name": "stdout",
     "output_type": "stream",
     "text": [
      "Loss: 5.406989416252301e-7\n",
      "Loss: 5.231431955360138e-7\n",
      "Loss: 5.12394635578375e-7\n"
     ]
    },
    {
     "name": "stdout",
     "output_type": "stream",
     "text": [
      "Loss: 4.991335260636551e-7\n",
      "Loss: 4.84853124166652e-7\n",
      "Loss: 4.7034827720182103e-7\n"
     ]
    },
    {
     "name": "stdout",
     "output_type": "stream",
     "text": [
      "Loss: 4.478426514997827e-7\n",
      "Loss: 4.4541175876653526e-7\n",
      "Loss: 4.3369363753478645e-7\n"
     ]
    },
    {
     "name": "stdout",
     "output_type": "stream",
     "text": [
      "Loss: 4.296849958472279e-7\n",
      "Loss: 4.250788490787372e-7\n",
      "Loss: 4.17463491043627e-7\n"
     ]
    },
    {
     "name": "stdout",
     "output_type": "stream",
     "text": [
      "Loss: 4.1519906429550476e-7\n",
      "Loss: 4.057245836185987e-7\n",
      "Loss: 3.9783322920268897e-7\n"
     ]
    },
    {
     "name": "stdout",
     "output_type": "stream",
     "text": [
      "Loss: 3.849598295128824e-7\n",
      "Loss: 3.6775965794148583e-7\n",
      "Loss: 3.5372891248744015e-7\n"
     ]
    },
    {
     "name": "stdout",
     "output_type": "stream",
     "text": [
      "Loss: 3.4515580962802754e-7\n",
      "Loss: 3.3676008191238073e-7\n",
      "Loss: 3.3049396886610705e-7\n"
     ]
    },
    {
     "name": "stdout",
     "output_type": "stream",
     "text": [
      "Loss: 3.263112944022378e-7\n",
      "Loss: 3.2186172848389904e-7\n",
      "Loss: 3.157998244369729e-7\n"
     ]
    },
    {
     "name": "stdout",
     "output_type": "stream",
     "text": [
      "Loss: 3.0840316733142433e-7\n",
      "Loss: 3.048536947396017e-7\n",
      "Loss: 2.941679281984986e-7\n"
     ]
    },
    {
     "name": "stdout",
     "output_type": "stream",
     "text": [
      "Loss: 2.8627773654301836e-7\n",
      "Loss: 2.7900076678509914e-7\n",
      "Loss: 2.7197905720795135e-7\n"
     ]
    },
    {
     "name": "stdout",
     "output_type": "stream",
     "text": [
      "Loss: 2.6863446122586094e-7\n",
      "Loss: 2.6413648671620415e-7\n",
      "Loss: 2.595050707800055e-7\n"
     ]
    },
    {
     "name": "stdout",
     "output_type": "stream",
     "text": [
      "Loss: 2.5272279915007184e-7\n",
      "Loss: 2.468425165667356e-7\n",
      "Loss: 2.414391164153046e-7\n"
     ]
    },
    {
     "name": "stdout",
     "output_type": "stream",
     "text": [
      "Loss: 2.38982195482286e-7\n",
      "Loss: 2.3218434567997326e-7\n",
      "Loss: 2.2940673462005588e-7\n"
     ]
    },
    {
     "name": "stdout",
     "output_type": "stream",
     "text": [
      "Loss: 2.2314998251556103e-7\n",
      "Loss: 2.19411855870501e-7\n",
      "Loss: 2.1510348410499087e-7\n"
     ]
    },
    {
     "name": "stdout",
     "output_type": "stream",
     "text": [
      "Loss: 2.106850303511992e-7\n",
      "Loss: 2.0608449941006855e-7\n",
      "Loss: 2.0166895645573377e-7\n"
     ]
    },
    {
     "name": "stdout",
     "output_type": "stream",
     "text": [
      "Loss: 1.9804190722118648e-7\n",
      "Loss: 1.962437693418339e-7\n",
      "Loss: 1.9286784908433532e-7\n"
     ]
    },
    {
     "name": "stdout",
     "output_type": "stream",
     "text": [
      "Loss: 1.913178054844017e-7\n",
      "Loss: 1.8862018723264805e-7\n",
      "Loss: 1.8691297411552043e-7\n"
     ]
    },
    {
     "name": "stdout",
     "output_type": "stream",
     "text": [
      "Loss: 1.838556494130016e-7\n",
      "Loss: 1.8188141478622194e-7\n",
      "Loss: 1.795011204579088e-7\n"
     ]
    },
    {
     "name": "stdout",
     "output_type": "stream",
     "text": [
      "Loss: 1.7879975999021885e-7\n",
      "Loss: 1.7619911584670758e-7\n",
      "Loss: 1.7466127398606964e-7\n"
     ]
    },
    {
     "name": "stdout",
     "output_type": "stream",
     "text": [
      "Loss: 1.7087119613530636e-7\n",
      "Loss: 1.6850607079098142e-7\n",
      "Loss: 1.6437666632858456e-7\n"
     ]
    },
    {
     "name": "stdout",
     "output_type": "stream",
     "text": [
      "Loss: 1.6126553578019582e-7\n",
      "Loss: 1.585992854438627e-7\n",
      "Loss: 1.5611988833427302e-7\n"
     ]
    },
    {
     "name": "stdout",
     "output_type": "stream",
     "text": [
      "Loss: 1.5421527293425136e-7\n",
      "Loss: 1.4795209310304213e-7\n",
      "Loss: 1.462773545821035e-7\n"
     ]
    },
    {
     "name": "stdout",
     "output_type": "stream",
     "text": [
      "Loss: 1.4024173938277781e-7\n",
      "Loss: 1.3671702317291145e-7\n",
      "Loss: 1.3416895900467393e-7\n"
     ]
    },
    {
     "name": "stdout",
     "output_type": "stream",
     "text": [
      "Loss: 1.308222549302014e-7\n",
      "Loss: 1.29120912432708e-7\n",
      "Loss: 1.2793234309468305e-7\n"
     ]
    },
    {
     "name": "stdout",
     "output_type": "stream",
     "text": [
      "Loss: 1.268813573752092e-7\n",
      "Loss: 1.2568380699340166e-7\n",
      "Loss: 1.2433218723999852e-7\n"
     ]
    },
    {
     "name": "stdout",
     "output_type": "stream",
     "text": [
      "Loss: 1.2283342110403213e-7\n",
      "Loss: 1.2206146878986436e-7\n",
      "Loss: 1.2113121802499115e-7\n"
     ]
    },
    {
     "name": "stdout",
     "output_type": "stream",
     "text": [
      "Loss: 1.1998827306881014e-7\n",
      "Loss: 1.181551741796843e-7\n",
      "Loss: 1.1752842719639187e-7\n"
     ]
    },
    {
     "name": "stdout",
     "output_type": "stream",
     "text": [
      "Loss: 1.1348400452955278e-7\n",
      "Loss: 1.0837663265109248e-7\n",
      "Loss: 1.0597298823177547e-7\n"
     ]
    },
    {
     "name": "stdout",
     "output_type": "stream",
     "text": [
      "Loss: 9.878823113481954e-8\n",
      "Loss: 9.586802562509114e-8\n",
      "Loss: 9.469737159620804e-8\n"
     ]
    },
    {
     "name": "stdout",
     "output_type": "stream",
     "text": [
      "Loss: 9.344869559882536e-8\n",
      "Loss: 9.207580610479221e-8\n",
      "Loss: 9.125501258689172e-8\n"
     ]
    },
    {
     "name": "stdout",
     "output_type": "stream",
     "text": [
      "Loss: 9.042395677578307e-8\n",
      "Loss: 8.998645506326458e-8\n"
     ]
    },
    {
     "name": "stdout",
     "output_type": "stream",
     "text": [
      "Loss: 8.929750145328056e-8\n",
      "Loss: 8.661980663007337e-8\n"
     ]
    },
    {
     "name": "stdout",
     "output_type": "stream",
     "text": [
      "Loss: 8.228431168465792e-8\n",
      "Loss: 7.929591161546146e-8\n",
      "Loss: 7.863974599400043e-8\n"
     ]
    },
    {
     "name": "stdout",
     "output_type": "stream",
     "text": [
      "Loss: 7.710192863643491e-8\n",
      "Loss: 7.620609524581201e-8\n",
      "Loss: 7.484197098651658e-8\n"
     ]
    },
    {
     "name": "stdout",
     "output_type": "stream",
     "text": [
      "Loss: 7.350390936396305e-8\n",
      "Loss: 7.249507458734174e-8\n"
     ]
    },
    {
     "name": "stdout",
     "output_type": "stream",
     "text": [
      "Loss: 7.111846212648658e-8\n",
      "Loss: 6.917127409332334e-8\n",
      "Loss: 6.5464087316522e-8\n"
     ]
    },
    {
     "name": "stdout",
     "output_type": "stream",
     "text": [
      "Loss: 6.334974897826602e-8\n",
      "Loss: 6.255578010735612e-8\n",
      "Loss: 6.136590994047616e-8\n"
     ]
    },
    {
     "name": "stdout",
     "output_type": "stream",
     "text": [
      "Loss: 5.987688012061559e-8\n",
      "Loss: 5.799202485020723e-8\n",
      "Loss: 5.6369057655926646e-8\n"
     ]
    },
    {
     "name": "stdout",
     "output_type": "stream",
     "text": [
      "Loss: 5.4807155961830954e-8\n",
      "Loss: 5.305853945244936e-8\n",
      "Loss: 5.175732838759722e-8\n"
     ]
    },
    {
     "name": "stdout",
     "output_type": "stream",
     "text": [
      "Loss: 5.004318804561737e-8\n",
      "Loss: 4.792321949342964e-8\n",
      "Loss: 4.6429135935831625e-8\n"
     ]
    },
    {
     "name": "stdout",
     "output_type": "stream",
     "text": [
      "Loss: 4.5552663549475805e-8\n",
      "Loss: 4.405441932939403e-8\n",
      "Loss: 4.318093684501035e-8\n"
     ]
    },
    {
     "name": "stdout",
     "output_type": "stream",
     "text": [
      "Loss: 4.1328833262592187e-8\n",
      "Loss: 3.987836026997466e-8\n",
      "Loss: 3.884234756791617e-8\n"
     ]
    },
    {
     "name": "stdout",
     "output_type": "stream",
     "text": [
      "Loss: 3.758307005128051e-8\n",
      "Loss: 3.5384009950377115e-8\n"
     ]
    },
    {
     "name": "stdout",
     "output_type": "stream",
     "text": [
      "Loss: 3.4585500250815583e-8\n",
      "Loss: 3.3200375399642774e-8\n",
      "Loss: 3.203565404305493e-8\n"
     ]
    },
    {
     "name": "stdout",
     "output_type": "stream",
     "text": [
      "Loss: 3.132845135333401e-8\n",
      "Loss: 3.074057936187256e-8\n",
      "Loss: 2.9318629971624552e-8\n"
     ]
    },
    {
     "name": "stdout",
     "output_type": "stream",
     "text": [
      "Loss: 2.841742355975064e-8\n",
      "Loss: 2.7843447091126117e-8\n",
      "Loss: 2.6933988416595908e-8\n"
     ]
    },
    {
     "name": "stdout",
     "output_type": "stream",
     "text": [
      "Loss: 2.5925515550951983e-8\n",
      "Loss: 2.5327295464565765e-8\n",
      "Loss: 2.5130572317694518e-8\n"
     ]
    },
    {
     "name": "stdout",
     "output_type": "stream",
     "text": [
      "Loss: 2.44849840319673e-8\n",
      "Loss: 2.3937254908052787e-8\n",
      "Loss: 2.2911409295508567e-8\n"
     ]
    },
    {
     "name": "stdout",
     "output_type": "stream",
     "text": [
      "Loss: 2.2106782166580653e-8\n",
      "Loss: 2.1624282894901406e-8\n",
      "Loss: 2.1168937054723185e-8\n"
     ]
    },
    {
     "name": "stdout",
     "output_type": "stream",
     "text": [
      "Loss: 2.0134162306105437e-8\n",
      "Loss: 1.958796397741351e-8\n",
      "Loss: 1.9094857060615842e-8\n"
     ]
    },
    {
     "name": "stdout",
     "output_type": "stream",
     "text": [
      "Loss: 1.8826402135059174e-8\n",
      "Loss: 1.824589396817444e-8\n",
      "Loss: 1.782249765973717e-8\n"
     ]
    },
    {
     "name": "stdout",
     "output_type": "stream",
     "text": [
      "Loss: 1.7299809092291586e-8\n",
      "Loss: 1.7150745209220318e-8\n",
      "Loss: 1.6758237462955002e-8\n"
     ]
    },
    {
     "name": "stdout",
     "output_type": "stream",
     "text": [
      "Loss: 1.6591305267051377e-8\n",
      "Loss: 1.6432029464337794e-8\n"
     ]
    },
    {
     "name": "stdout",
     "output_type": "stream",
     "text": [
      "Loss: 1.620196049635157e-8\n",
      "Loss: 1.6021873254517835e-8\n"
     ]
    },
    {
     "name": "stdout",
     "output_type": "stream",
     "text": [
      "Loss: 1.578647518451407e-8\n",
      "Loss: 1.5492181155311437e-8\n",
      "Loss: 1.5473028720056625e-8\n"
     ]
    },
    {
     "name": "stdout",
     "output_type": "stream",
     "text": [
      "Loss: 1.5299262984137437e-8\n",
      "Loss: 1.5086969470659354e-8\n",
      "Loss: 1.5030070779974532e-8\n"
     ]
    },
    {
     "name": "stdout",
     "output_type": "stream",
     "text": [
      "Loss: 1.497116268189523e-8\n",
      "Loss: 1.4952501600041496e-8\n",
      "Loss: 1.4900458557478516e-8\n"
     ]
    },
    {
     "name": "stdout",
     "output_type": "stream",
     "text": [
      "Loss: 1.4887747936123164e-8\n"
     ]
    },
    {
     "name": "stdout",
     "output_type": "stream",
     "text": [
      "Loss: 1.4883197899937492e-8\n"
     ]
    },
    {
     "name": "stdout",
     "output_type": "stream",
     "text": [
      "Loss: 1.4878748634472427e-8\n"
     ]
    },
    {
     "name": "stdout",
     "output_type": "stream",
     "text": [
      "Loss: 1.4868481124809037e-8\n"
     ]
    },
    {
     "name": "stdout",
     "output_type": "stream",
     "text": [
      "Loss: 1.484598376377356e-8\n"
     ]
    },
    {
     "name": "stdout",
     "output_type": "stream",
     "text": [
      "Loss: 1.4823262927045106e-8\n"
     ]
    },
    {
     "name": "stdout",
     "output_type": "stream",
     "text": [
      "Loss: 1.4819718295448436e-8\n"
     ]
    },
    {
     "name": "stdout",
     "output_type": "stream",
     "text": [
      "Loss: 1.4816426484723583e-8\n"
     ]
    },
    {
     "name": "stdout",
     "output_type": "stream",
     "text": [
      "Loss: 1.481604178708501e-8\n"
     ]
    },
    {
     "name": "stdout",
     "output_type": "stream",
     "text": [
      "Loss: 1.4814411304005339e-8\n"
     ]
    },
    {
     "name": "stdout",
     "output_type": "stream",
     "text": [
      "Loss: 1.4814411304005339e-8\n"
     ]
    },
    {
     "name": "stdout",
     "output_type": "stream",
     "text": [
      "Loss: 1.4814411304005339e-8\n"
     ]
    },
    {
     "data": {
      "text/plain": [
       "u: \u001b[0mComponentVector{Float64}(layer_1 = (weight = [0.5695119192938922; 0.3777965983100109; … ; 0.1867228635236578; -0.5669360797237354;;], bias = [-1.3714017991614453; -0.21148954798299863; … ; -0.5891954456150054; 0.8781533060100996;;]), layer_2 = (weight = [0.018112729491084528 1.0325553459078933 … -0.14325151157674307 0.40267880868516337; -0.4905167488808895 0.17618174213752794 … 0.4883868471489762 0.06801616392318706; … ; 0.5050760599938301 1.008952934210667 … -0.9657941415238576 0.25902080049316006; -0.02433353872736413 1.2918677448694693 … -0.14070828721180478 -0.06737011640029925], bias = [-0.03080653311950684; 1.2354189918358893; … ; -0.5208681490424365; -0.39125964605677693;;]), layer_3 = (weight = [-0.8594174099865115 0.3366762245046605 … -1.476188078863834 -0.024348281754714207; -0.46878857985225536 0.9340146572263646 … -0.398906563449627 0.585851462233842; … ; -0.6672013258136272 -0.8227473464545738 … 0.9776421574458959 -0.12392214398267355; 1.1927767597696903 -0.43795234517390835 … 0.4331244842603528 -0.2960051517020079], bias = [-1.6897039000961507; -0.08775918884737688; … ; 0.6313244204851535; -0.07895054386963735;;]), layer_4 = (weight = [1.0209356890814563 0.03351315150360834 … 0.18355366360898714 -1.3268658801900153; 0.28703659296669015 1.0547094309594864 … -0.5368341498216826 -0.5349582416236056; … ; -0.9612911268123966 -0.12752105118340884 … -0.6666287015617032 0.20652039672523734; -0.3153352320387371 0.08301323894267931 … 0.36182569774405726 -0.026981221237033337], bias = [-0.5285843761941382; 0.37171282122946864; … ; -0.27929190170479923; 0.745432811660569;;]), layer_5 = (weight = [-4.174021601152444 2.5271642887004826 … -5.091921353190681 3.2702965473262613], bias = [6.726703474676739;;]))"
      ]
     },
     "metadata": {},
     "output_type": "display_data"
    }
   ],
   "source": [
    "function callback(p, l)\n",
    "    println(\"Loss: $l\")\n",
    "    return false\n",
    "end\n",
    "\n",
    "res = Optimization.solve(prob, BFGS(); maxiters=2000, callback=callback)"
   ]
  },
  {
   "cell_type": "code",
   "execution_count": 10,
   "metadata": {},
   "outputs": [
    {
     "data": {
      "image/png": "[encoded data removed]",
      "image/svg+xml": [
       "<?xml version=\"1.0\" encoding=\"utf-8\"?>\n",
       "<svg xmlns=\"http://www.w3.org/2000/svg\" xmlns:xlink=\"http://www.w3.org/1999/xlink\" width=\"600\" height=\"400\" viewBox=\"0 0 2400 1600\">\n",
       "<defs>\n",
       "  <clipPath id=\"clip460\">\n",
       "    <rect x=\"0\" y=\"0\" width=\"2400\" height=\"1600\"/>\n",
       "  </clipPath>\n",
       "</defs>\n",
       "<path clip-path=\"url(#clip460)\" d=\"M0 1600 L2400 1600 L2400 0 L0 0  Z\" fill=\"#ffffff\" fill-rule=\"evenodd\" fill-opacity=\"1\"/>\n",
       "<defs>\n",
       "  <clipPath id=\"clip461\">\n",
       "    <rect x=\"480\" y=\"0\" width=\"1681\" height=\"1600\"/>\n",
       "  </clipPath>\n",
       "</defs>\n",
       "<path clip-path=\"url(#clip460)\" d=\"M141.853 1486.45 L2352.76 1486.45 L2352.76 47.2441 L141.853 47.2441  Z\" fill=\"#ffffff\" fill-rule=\"evenodd\" fill-opacity=\"1\"/>\n",
       "<defs>\n",
       "  <clipPath id=\"clip462\">\n",
       "    <rect x=\"141\" y=\"47\" width=\"2212\" height=\"1440\"/>\n",
       "  </clipPath>\n",
       "</defs>\n",
       "<polyline clip-path=\"url(#clip462)\" style=\"stroke:#000000; stroke-linecap:round; stroke-linejoin:round; stroke-width:2; stroke-opacity:0.1; fill:none\" points=\"204.426,1486.45 204.426,47.2441 \"/>\n",
       "<polyline clip-path=\"url(#clip462)\" style=\"stroke:#000000; stroke-linecap:round; stroke-linejoin:round; stroke-width:2; stroke-opacity:0.1; fill:none\" points=\"725.865,1486.45 725.865,47.2441 \"/>\n",
       "<polyline clip-path=\"url(#clip462)\" style=\"stroke:#000000; stroke-linecap:round; stroke-linejoin:round; stroke-width:2; stroke-opacity:0.1; fill:none\" points=\"1247.3,1486.45 1247.3,47.2441 \"/>\n",
       "<polyline clip-path=\"url(#clip462)\" style=\"stroke:#000000; stroke-linecap:round; stroke-linejoin:round; stroke-width:2; stroke-opacity:0.1; fill:none\" points=\"1768.74,1486.45 1768.74,47.2441 \"/>\n",
       "<polyline clip-path=\"url(#clip462)\" style=\"stroke:#000000; stroke-linecap:round; stroke-linejoin:round; stroke-width:2; stroke-opacity:0.1; fill:none\" points=\"2290.18,1486.45 2290.18,47.2441 \"/>\n",
       "<polyline clip-path=\"url(#clip460)\" style=\"stroke:#000000; stroke-linecap:round; stroke-linejoin:round; stroke-width:4; stroke-opacity:1; fill:none\" points=\"141.853,1486.45 2352.76,1486.45 \"/>\n",
       "<polyline clip-path=\"url(#clip460)\" style=\"stroke:#000000; stroke-linecap:round; stroke-linejoin:round; stroke-width:4; stroke-opacity:1; fill:none\" points=\"204.426,1486.45 204.426,1467.55 \"/>\n",
       "<polyline clip-path=\"url(#clip460)\" style=\"stroke:#000000; stroke-linecap:round; stroke-linejoin:round; stroke-width:4; stroke-opacity:1; fill:none\" points=\"725.865,1486.45 725.865,1467.55 \"/>\n",
       "<polyline clip-path=\"url(#clip460)\" style=\"stroke:#000000; stroke-linecap:round; stroke-linejoin:round; stroke-width:4; stroke-opacity:1; fill:none\" points=\"1247.3,1486.45 1247.3,1467.55 \"/>\n",
       "<polyline clip-path=\"url(#clip460)\" style=\"stroke:#000000; stroke-linecap:round; stroke-linejoin:round; stroke-width:4; stroke-opacity:1; fill:none\" points=\"1768.74,1486.45 1768.74,1467.55 \"/>\n",
       "<polyline clip-path=\"url(#clip460)\" style=\"stroke:#000000; stroke-linecap:round; stroke-linejoin:round; stroke-width:4; stroke-opacity:1; fill:none\" points=\"2290.18,1486.45 2290.18,1467.55 \"/>\n",
       "<path clip-path=\"url(#clip460)\" d=\"M181.81 1517.37 Q178.199 1517.37 176.37 1520.93 Q174.565 1524.47 174.565 1531.6 Q174.565 1538.71 176.37 1542.27 Q178.199 1545.82 181.81 1545.82 Q185.444 1545.82 187.25 1542.27 Q189.079 1538.71 189.079 1531.6 Q189.079 1524.47 187.25 1520.93 Q185.444 1517.37 181.81 1517.37 M181.81 1513.66 Q187.62 1513.66 190.676 1518.27 Q193.754 1522.85 193.754 1531.6 Q193.754 1540.33 190.676 1544.94 Q187.62 1549.52 181.81 1549.52 Q176 1549.52 172.921 1544.94 Q169.866 1540.33 169.866 1531.6 Q169.866 1522.85 172.921 1518.27 Q176 1513.66 181.81 1513.66 Z\" fill=\"#000000\" fill-rule=\"nonzero\" fill-opacity=\"1\" /><path clip-path=\"url(#clip460)\" d=\"M201.972 1542.97 L206.856 1542.97 L206.856 1548.85 L201.972 1548.85 L201.972 1542.97 Z\" fill=\"#000000\" fill-rule=\"nonzero\" fill-opacity=\"1\" /><path clip-path=\"url(#clip460)\" d=\"M227.041 1517.37 Q223.43 1517.37 221.602 1520.93 Q219.796 1524.47 219.796 1531.6 Q219.796 1538.71 221.602 1542.27 Q223.43 1545.82 227.041 1545.82 Q230.676 1545.82 232.481 1542.27 Q234.31 1538.71 234.31 1531.6 Q234.31 1524.47 232.481 1520.93 Q230.676 1517.37 227.041 1517.37 M227.041 1513.66 Q232.851 1513.66 235.907 1518.27 Q238.986 1522.85 238.986 1531.6 Q238.986 1540.33 235.907 1544.94 Q232.851 1549.52 227.041 1549.52 Q221.231 1549.52 218.152 1544.94 Q215.097 1540.33 215.097 1531.6 Q215.097 1522.85 218.152 1518.27 Q221.231 1513.66 227.041 1513.66 Z\" fill=\"#000000\" fill-rule=\"nonzero\" fill-opacity=\"1\" /><path clip-path=\"url(#clip460)\" d=\"M703.747 1517.37 Q700.136 1517.37 698.307 1520.93 Q696.502 1524.47 696.502 1531.6 Q696.502 1538.71 698.307 1542.27 Q700.136 1545.82 703.747 1545.82 Q707.381 1545.82 709.187 1542.27 Q711.016 1538.71 711.016 1531.6 Q711.016 1524.47 709.187 1520.93 Q707.381 1517.37 703.747 1517.37 M703.747 1513.66 Q709.557 1513.66 712.613 1518.27 Q715.691 1522.85 715.691 1531.6 Q715.691 1540.33 712.613 1544.94 Q709.557 1549.52 703.747 1549.52 Q697.937 1549.52 694.858 1544.94 Q691.803 1540.33 691.803 1531.6 Q691.803 1522.85 694.858 1518.27 Q697.937 1513.66 703.747 1513.66 Z\" fill=\"#000000\" fill-rule=\"nonzero\" fill-opacity=\"1\" /><path clip-path=\"url(#clip460)\" d=\"M723.909 1542.97 L728.793 1542.97 L728.793 1548.85 L723.909 1548.85 L723.909 1542.97 Z\" fill=\"#000000\" fill-rule=\"nonzero\" fill-opacity=\"1\" /><path clip-path=\"url(#clip460)\" d=\"M739.025 1514.29 L757.381 1514.29 L757.381 1518.22 L743.307 1518.22 L743.307 1526.7 Q744.326 1526.35 745.344 1526.19 Q746.363 1526 747.381 1526 Q753.168 1526 756.548 1529.17 Q759.927 1532.34 759.927 1537.76 Q759.927 1543.34 756.455 1546.44 Q752.983 1549.52 746.664 1549.52 Q744.488 1549.52 742.219 1549.15 Q739.974 1548.78 737.566 1548.04 L737.566 1543.34 Q739.65 1544.47 741.872 1545.03 Q744.094 1545.58 746.571 1545.58 Q750.576 1545.58 752.914 1543.48 Q755.251 1541.37 755.251 1537.76 Q755.251 1534.15 752.914 1532.04 Q750.576 1529.94 746.571 1529.94 Q744.696 1529.94 742.821 1530.35 Q740.969 1530.77 739.025 1531.65 L739.025 1514.29 Z\" fill=\"#000000\" fill-rule=\"nonzero\" fill-opacity=\"1\" /><path clip-path=\"url(#clip460)\" d=\"M1214.46 1544.91 L1222.1 1544.91 L1222.1 1518.55 L1213.79 1520.21 L1213.79 1515.95 L1222.05 1514.29 L1226.73 1514.29 L1226.73 1544.91 L1234.36 1544.91 L1234.36 1548.85 L1214.46 1548.85 L1214.46 1544.91 Z\" fill=\"#000000\" fill-rule=\"nonzero\" fill-opacity=\"1\" /><path clip-path=\"url(#clip460)\" d=\"M1243.81 1542.97 L1248.69 1542.97 L1248.69 1548.85 L1243.81 1548.85 L1243.81 1542.97 Z\" fill=\"#000000\" fill-rule=\"nonzero\" fill-opacity=\"1\" /><path clip-path=\"url(#clip460)\" d=\"M1268.88 1517.37 Q1265.27 1517.37 1263.44 1520.93 Q1261.63 1524.47 1261.63 1531.6 Q1261.63 1538.71 1263.44 1542.27 Q1265.27 1545.82 1268.88 1545.82 Q1272.51 1545.82 1274.32 1542.27 Q1276.15 1538.71 1276.15 1531.6 Q1276.15 1524.47 1274.32 1520.93 Q1272.51 1517.37 1268.88 1517.37 M1268.88 1513.66 Q1274.69 1513.66 1277.74 1518.27 Q1280.82 1522.85 1280.82 1531.6 Q1280.82 1540.33 1277.74 1544.94 Q1274.69 1549.52 1268.88 1549.52 Q1263.07 1549.52 1259.99 1544.94 Q1256.93 1540.33 1256.93 1531.6 Q1256.93 1522.85 1259.99 1518.27 Q1263.07 1513.66 1268.88 1513.66 Z\" fill=\"#000000\" fill-rule=\"nonzero\" fill-opacity=\"1\" /><path clip-path=\"url(#clip460)\" d=\"M1736.39 1544.91 L1744.03 1544.91 L1744.03 1518.55 L1735.72 1520.21 L1735.72 1515.95 L1743.99 1514.29 L1748.66 1514.29 L1748.66 1544.91 L1756.3 1544.91 L1756.3 1548.85 L1736.39 1548.85 L1736.39 1544.91 Z\" fill=\"#000000\" fill-rule=\"nonzero\" fill-opacity=\"1\" /><path clip-path=\"url(#clip460)\" d=\"M1765.75 1542.97 L1770.63 1542.97 L1770.63 1548.85 L1765.75 1548.85 L1765.75 1542.97 Z\" fill=\"#000000\" fill-rule=\"nonzero\" fill-opacity=\"1\" /><path clip-path=\"url(#clip460)\" d=\"M1780.86 1514.29 L1799.22 1514.29 L1799.22 1518.22 L1785.14 1518.22 L1785.14 1526.7 Q1786.16 1526.35 1787.18 1526.19 Q1788.2 1526 1789.22 1526 Q1795.01 1526 1798.38 1529.17 Q1801.76 1532.34 1801.76 1537.76 Q1801.76 1543.34 1798.29 1546.44 Q1794.82 1549.52 1788.5 1549.52 Q1786.32 1549.52 1784.06 1549.15 Q1781.81 1548.78 1779.4 1548.04 L1779.4 1543.34 Q1781.49 1544.47 1783.71 1545.03 Q1785.93 1545.58 1788.41 1545.58 Q1792.41 1545.58 1794.75 1543.48 Q1797.09 1541.37 1797.09 1537.76 Q1797.09 1534.15 1794.75 1532.04 Q1792.41 1529.94 1788.41 1529.94 Q1786.53 1529.94 1784.66 1530.35 Q1782.81 1530.77 1780.86 1531.65 L1780.86 1514.29 Z\" fill=\"#000000\" fill-rule=\"nonzero\" fill-opacity=\"1\" /><path clip-path=\"url(#clip460)\" d=\"M2261.42 1544.91 L2277.74 1544.91 L2277.74 1548.85 L2255.8 1548.85 L2255.8 1544.91 Q2258.46 1542.16 2263.04 1537.53 Q2267.65 1532.88 2268.83 1531.53 Q2271.07 1529.01 2271.95 1527.27 Q2272.86 1525.51 2272.86 1523.82 Q2272.86 1521.07 2270.91 1519.33 Q2268.99 1517.6 2265.89 1517.6 Q2263.69 1517.6 2261.24 1518.36 Q2258.81 1519.13 2256.03 1520.68 L2256.03 1515.95 Q2258.85 1514.82 2261.31 1514.24 Q2263.76 1513.66 2265.8 1513.66 Q2271.17 1513.66 2274.36 1516.35 Q2277.56 1519.03 2277.56 1523.52 Q2277.56 1525.65 2276.75 1527.57 Q2275.96 1529.47 2273.85 1532.07 Q2273.27 1532.74 2270.17 1535.95 Q2267.07 1539.15 2261.42 1544.91 Z\" fill=\"#000000\" fill-rule=\"nonzero\" fill-opacity=\"1\" /><path clip-path=\"url(#clip460)\" d=\"M2287.56 1542.97 L2292.44 1542.97 L2292.44 1548.85 L2287.56 1548.85 L2287.56 1542.97 Z\" fill=\"#000000\" fill-rule=\"nonzero\" fill-opacity=\"1\" /><path clip-path=\"url(#clip460)\" d=\"M2312.63 1517.37 Q2309.01 1517.37 2307.19 1520.93 Q2305.38 1524.47 2305.38 1531.6 Q2305.38 1538.71 2307.19 1542.27 Q2309.01 1545.82 2312.63 1545.82 Q2316.26 1545.82 2318.06 1542.27 Q2319.89 1538.71 2319.89 1531.6 Q2319.89 1524.47 2318.06 1520.93 Q2316.26 1517.37 2312.63 1517.37 M2312.63 1513.66 Q2318.44 1513.66 2321.49 1518.27 Q2324.57 1522.85 2324.57 1531.6 Q2324.57 1540.33 2321.49 1544.94 Q2318.44 1549.52 2312.63 1549.52 Q2306.82 1549.52 2303.74 1544.94 Q2300.68 1540.33 2300.68 1531.6 Q2300.68 1522.85 2303.74 1518.27 Q2306.82 1513.66 2312.63 1513.66 Z\" fill=\"#000000\" fill-rule=\"nonzero\" fill-opacity=\"1\" /><polyline clip-path=\"url(#clip462)\" style=\"stroke:#000000; stroke-linecap:round; stroke-linejoin:round; stroke-width:2; stroke-opacity:0.1; fill:none\" points=\"141.853,1238.35 2352.76,1238.35 \"/>\n",
       "<polyline clip-path=\"url(#clip462)\" style=\"stroke:#000000; stroke-linecap:round; stroke-linejoin:round; stroke-width:2; stroke-opacity:0.1; fill:none\" points=\"141.853,980.419 2352.76,980.419 \"/>\n",
       "<polyline clip-path=\"url(#clip462)\" style=\"stroke:#000000; stroke-linecap:round; stroke-linejoin:round; stroke-width:2; stroke-opacity:0.1; fill:none\" points=\"141.853,722.492 2352.76,722.492 \"/>\n",
       "<polyline clip-path=\"url(#clip462)\" style=\"stroke:#000000; stroke-linecap:round; stroke-linejoin:round; stroke-width:2; stroke-opacity:0.1; fill:none\" points=\"141.853,464.566 2352.76,464.566 \"/>\n",
       "<polyline clip-path=\"url(#clip462)\" style=\"stroke:#000000; stroke-linecap:round; stroke-linejoin:round; stroke-width:2; stroke-opacity:0.1; fill:none\" points=\"141.853,206.639 2352.76,206.639 \"/>\n",
       "<polyline clip-path=\"url(#clip460)\" style=\"stroke:#000000; stroke-linecap:round; stroke-linejoin:round; stroke-width:4; stroke-opacity:1; fill:none\" points=\"141.853,1486.45 141.853,47.2441 \"/>\n",
       "<polyline clip-path=\"url(#clip460)\" style=\"stroke:#000000; stroke-linecap:round; stroke-linejoin:round; stroke-width:4; stroke-opacity:1; fill:none\" points=\"141.853,1238.35 160.751,1238.35 \"/>\n",
       "<polyline clip-path=\"url(#clip460)\" style=\"stroke:#000000; stroke-linecap:round; stroke-linejoin:round; stroke-width:4; stroke-opacity:1; fill:none\" points=\"141.853,980.419 160.751,980.419 \"/>\n",
       "<polyline clip-path=\"url(#clip460)\" style=\"stroke:#000000; stroke-linecap:round; stroke-linejoin:round; stroke-width:4; stroke-opacity:1; fill:none\" points=\"141.853,722.492 160.751,722.492 \"/>\n",
       "<polyline clip-path=\"url(#clip460)\" style=\"stroke:#000000; stroke-linecap:round; stroke-linejoin:round; stroke-width:4; stroke-opacity:1; fill:none\" points=\"141.853,464.566 160.751,464.566 \"/>\n",
       "<polyline clip-path=\"url(#clip460)\" style=\"stroke:#000000; stroke-linecap:round; stroke-linejoin:round; stroke-width:4; stroke-opacity:1; fill:none\" points=\"141.853,206.639 160.751,206.639 \"/>\n",
       "<path clip-path=\"url(#clip460)\" d=\"M54.5569 1251.69 L62.1958 1251.69 L62.1958 1225.33 L53.8856 1226.99 L53.8856 1222.73 L62.1495 1221.07 L66.8254 1221.07 L66.8254 1251.69 L74.4642 1251.69 L74.4642 1255.63 L54.5569 1255.63 L54.5569 1251.69 Z\" fill=\"#000000\" fill-rule=\"nonzero\" fill-opacity=\"1\" /><path clip-path=\"url(#clip460)\" d=\"M93.9086 1224.14 Q90.2975 1224.14 88.4688 1227.71 Q86.6632 1231.25 86.6632 1238.38 Q86.6632 1245.49 88.4688 1249.05 Q90.2975 1252.59 93.9086 1252.59 Q97.5428 1252.59 99.3483 1249.05 Q101.177 1245.49 101.177 1238.38 Q101.177 1231.25 99.3483 1227.71 Q97.5428 1224.14 93.9086 1224.14 M93.9086 1220.44 Q99.7187 1220.44 102.774 1225.05 Q105.853 1229.63 105.853 1238.38 Q105.853 1247.11 102.774 1251.71 Q99.7187 1256.3 93.9086 1256.3 Q88.0984 1256.3 85.0197 1251.71 Q81.9642 1247.11 81.9642 1238.38 Q81.9642 1229.63 85.0197 1225.05 Q88.0984 1220.44 93.9086 1220.44 Z\" fill=\"#000000\" fill-rule=\"nonzero\" fill-opacity=\"1\" /><path clip-path=\"url(#clip460)\" d=\"M57.7745 993.764 L74.0939 993.764 L74.0939 997.699 L52.1495 997.699 L52.1495 993.764 Q54.8115 991.009 59.3949 986.38 Q64.0013 981.727 65.1819 980.385 Q67.4272 977.861 68.3068 976.125 Q69.2096 974.366 69.2096 972.676 Q69.2096 969.922 67.2652 968.186 Q65.3439 966.449 62.2421 966.449 Q60.043 966.449 57.5893 967.213 Q55.1588 967.977 52.381 969.528 L52.381 964.806 Q55.2051 963.672 57.6588 963.093 Q60.1124 962.514 62.1495 962.514 Q67.5198 962.514 70.7142 965.199 Q73.9087 967.885 73.9087 972.375 Q73.9087 974.505 73.0985 976.426 Q72.3115 978.324 70.205 980.917 Q69.6263 981.588 66.5245 984.806 Q63.4226 988 57.7745 993.764 Z\" fill=\"#000000\" fill-rule=\"nonzero\" fill-opacity=\"1\" /><path clip-path=\"url(#clip460)\" d=\"M93.9086 966.218 Q90.2975 966.218 88.4688 969.783 Q86.6632 973.324 86.6632 980.454 Q86.6632 987.56 88.4688 991.125 Q90.2975 994.667 93.9086 994.667 Q97.5428 994.667 99.3483 991.125 Q101.177 987.56 101.177 980.454 Q101.177 973.324 99.3483 969.783 Q97.5428 966.218 93.9086 966.218 M93.9086 962.514 Q99.7187 962.514 102.774 967.121 Q105.853 971.704 105.853 980.454 Q105.853 989.181 102.774 993.787 Q99.7187 998.371 93.9086 998.371 Q88.0984 998.371 85.0197 993.787 Q81.9642 989.181 81.9642 980.454 Q81.9642 971.704 85.0197 967.121 Q88.0984 962.514 93.9086 962.514 Z\" fill=\"#000000\" fill-rule=\"nonzero\" fill-opacity=\"1\" /><path clip-path=\"url(#clip460)\" d=\"M67.9133 721.138 Q71.2698 721.856 73.1448 724.124 Q75.0429 726.393 75.0429 729.726 Q75.0429 734.842 71.5244 737.643 Q68.0059 740.444 61.5245 740.444 Q59.3486 740.444 57.0338 740.004 Q54.7421 739.587 52.2884 738.731 L52.2884 734.217 Q54.2328 735.351 56.5477 735.93 Q58.8625 736.509 61.3856 736.509 Q65.7837 736.509 68.0754 734.772 Q70.3902 733.036 70.3902 729.726 Q70.3902 726.671 68.2374 724.958 Q66.1078 723.222 62.2884 723.222 L58.2606 723.222 L58.2606 719.379 L62.4735 719.379 Q65.9226 719.379 67.7513 718.013 Q69.58 716.624 69.58 714.032 Q69.58 711.37 67.6819 709.958 Q65.8069 708.523 62.2884 708.523 Q60.3671 708.523 58.168 708.939 Q55.969 709.356 53.3301 710.236 L53.3301 706.069 Q55.9921 705.328 58.3069 704.958 Q60.6449 704.587 62.705 704.587 Q68.0291 704.587 71.1309 707.018 Q74.2327 709.425 74.2327 713.546 Q74.2327 716.416 72.5892 718.407 Q70.9457 720.374 67.9133 721.138 Z\" fill=\"#000000\" fill-rule=\"nonzero\" fill-opacity=\"1\" /><path clip-path=\"url(#clip460)\" d=\"M93.9086 708.291 Q90.2975 708.291 88.4688 711.856 Q86.6632 715.398 86.6632 722.527 Q86.6632 729.634 88.4688 733.198 Q90.2975 736.74 93.9086 736.74 Q97.5428 736.74 99.3483 733.198 Q101.177 729.634 101.177 722.527 Q101.177 715.398 99.3483 711.856 Q97.5428 708.291 93.9086 708.291 M93.9086 704.587 Q99.7187 704.587 102.774 709.194 Q105.853 713.777 105.853 722.527 Q105.853 731.254 102.774 735.86 Q99.7187 740.444 93.9086 740.444 Q88.0984 740.444 85.0197 735.86 Q81.9642 731.254 81.9642 722.527 Q81.9642 713.777 85.0197 709.194 Q88.0984 704.587 93.9086 704.587 Z\" fill=\"#000000\" fill-rule=\"nonzero\" fill-opacity=\"1\" /><path clip-path=\"url(#clip460)\" d=\"M66.5939 451.36 L54.7884 469.809 L66.5939 469.809 L66.5939 451.36 M65.367 447.286 L71.2466 447.286 L71.2466 469.809 L76.1772 469.809 L76.1772 473.698 L71.2466 473.698 L71.2466 481.846 L66.5939 481.846 L66.5939 473.698 L50.9921 473.698 L50.9921 469.184 L65.367 447.286 Z\" fill=\"#000000\" fill-rule=\"nonzero\" fill-opacity=\"1\" /><path clip-path=\"url(#clip460)\" d=\"M93.9086 450.364 Q90.2975 450.364 88.4688 453.929 Q86.6632 457.471 86.6632 464.6 Q86.6632 471.707 88.4688 475.272 Q90.2975 478.813 93.9086 478.813 Q97.5428 478.813 99.3483 475.272 Q101.177 471.707 101.177 464.6 Q101.177 457.471 99.3483 453.929 Q97.5428 450.364 93.9086 450.364 M93.9086 446.661 Q99.7187 446.661 102.774 451.267 Q105.853 455.85 105.853 464.6 Q105.853 473.327 102.774 477.934 Q99.7187 482.517 93.9086 482.517 Q88.0984 482.517 85.0197 477.934 Q81.9642 473.327 81.9642 464.6 Q81.9642 455.85 85.0197 451.267 Q88.0984 446.661 93.9086 446.661 Z\" fill=\"#000000\" fill-rule=\"nonzero\" fill-opacity=\"1\" /><path clip-path=\"url(#clip460)\" d=\"M53.793 189.359 L72.1494 189.359 L72.1494 193.294 L58.0754 193.294 L58.0754 201.766 Q59.0939 201.419 60.1124 201.257 Q61.131 201.072 62.1495 201.072 Q67.9365 201.072 71.3161 204.243 Q74.6957 207.414 74.6957 212.831 Q74.6957 218.41 71.2235 221.511 Q67.7513 224.59 61.4319 224.59 Q59.256 224.59 56.9875 224.22 Q54.7421 223.849 52.3347 223.109 L52.3347 218.41 Q54.418 219.544 56.6402 220.099 Q58.8625 220.655 61.3393 220.655 Q65.3439 220.655 67.6819 218.548 Q70.0198 216.442 70.0198 212.831 Q70.0198 209.22 67.6819 207.113 Q65.3439 205.007 61.3393 205.007 Q59.4643 205.007 57.5893 205.424 Q55.7375 205.84 53.793 206.72 L53.793 189.359 Z\" fill=\"#000000\" fill-rule=\"nonzero\" fill-opacity=\"1\" /><path clip-path=\"url(#clip460)\" d=\"M93.9086 192.438 Q90.2975 192.438 88.4688 196.002 Q86.6632 199.544 86.6632 206.674 Q86.6632 213.78 88.4688 217.345 Q90.2975 220.886 93.9086 220.886 Q97.5428 220.886 99.3483 217.345 Q101.177 213.78 101.177 206.674 Q101.177 199.544 99.3483 196.002 Q97.5428 192.438 93.9086 192.438 M93.9086 188.734 Q99.7187 188.734 102.774 193.34 Q105.853 197.924 105.853 206.674 Q105.853 215.4 102.774 220.007 Q99.7187 224.59 93.9086 224.59 Q88.0984 224.59 85.0197 220.007 Q81.9642 215.4 81.9642 206.674 Q81.9642 197.924 85.0197 193.34 Q88.0984 188.734 93.9086 188.734 Z\" fill=\"#000000\" fill-rule=\"nonzero\" fill-opacity=\"1\" /><polyline clip-path=\"url(#clip462)\" style=\"stroke:#009af9; stroke-linecap:round; stroke-linejoin:round; stroke-width:4; stroke-opacity:1; fill:none\" points=\"204.426,1444.69 206.514,1444.74 208.601,1444.79 210.689,1444.84 212.777,1444.88 214.865,1444.93 216.953,1444.97 219.041,1445.02 221.128,1445.06 223.216,1445.1 225.304,1445.14 227.392,1445.18 229.48,1445.21 231.568,1445.25 233.656,1445.28 235.743,1445.31 237.831,1445.34 239.919,1445.37 242.007,1445.4 244.095,1445.43 246.183,1445.46 248.27,1445.48 250.358,1445.5 252.446,1445.53 254.534,1445.55 256.622,1445.57 258.71,1445.59 260.797,1445.6 262.885,1445.62 264.973,1445.63 267.061,1445.65 269.149,1445.66 271.237,1445.67 273.325,1445.68 275.412,1445.69 277.5,1445.7 279.588,1445.7 281.676,1445.71 283.764,1445.71 285.852,1445.71 287.939,1445.72 290.027,1445.72 292.115,1445.71 294.203,1445.71 296.291,1445.71 298.379,1445.7 300.467,1445.7 302.554,1445.69 304.642,1445.68 306.73,1445.67 308.818,1445.66 310.906,1445.65 312.994,1445.64 315.081,1445.62 317.169,1445.61 319.257,1445.59 321.345,1445.57 323.433,1445.55 325.521,1445.53 327.609,1445.51 329.696,1445.49 331.784,1445.46 333.872,1445.44 335.96,1445.41 338.048,1445.39 340.136,1445.36 342.223,1445.33 344.311,1445.3 346.399,1445.26 348.487,1445.23 350.575,1445.2 352.663,1445.16 354.751,1445.12 356.838,1445.09 358.926,1445.05 361.014,1445.01 363.102,1444.97 365.19,1444.92 367.278,1444.88 369.365,1444.84 371.453,1444.79 373.541,1444.74 375.629,1444.69 377.717,1444.64 379.805,1444.59 381.893,1444.54 383.98,1444.49 386.068,1444.44 388.156,1444.38 390.244,1444.32 392.332,1444.27 394.42,1444.21 396.507,1444.15 398.595,1444.09 400.683,1444.03 402.771,1443.96 404.859,1443.9 406.947,1443.83 409.035,1443.77 411.122,1443.7 413.21,1443.63 415.298,1443.56 417.386,1443.49 419.474,1443.42 421.562,1443.35 423.649,1443.27 425.737,1443.2 427.825,1443.12 429.913,1443.04 432.001,1442.96 434.089,1442.88 436.177,1442.8 438.264,1442.72 440.352,1442.64 442.44,1442.55 444.528,1442.47 446.616,1442.38 448.704,1442.29 450.791,1442.21 452.879,1442.12 454.967,1442.02 457.055,1441.93 459.143,1441.84 461.231,1441.74 463.318,1441.65 465.406,1441.55 467.494,1441.45 469.582,1441.36 471.67,1441.26 473.758,1441.15 475.846,1441.05 477.933,1440.95 480.021,1440.84 482.109,1440.74 484.197,1440.63 486.285,1440.52 488.373,1440.41 490.46,1440.3 492.548,1440.19 494.636,1440.08 496.724,1439.97 498.812,1439.85 500.9,1439.74 502.988,1439.62 505.075,1439.5 507.163,1439.38 509.251,1439.26 511.339,1439.14 513.427,1439.02 515.515,1438.9 517.602,1438.77 519.69,1438.64 521.778,1438.52 523.866,1438.39 525.954,1438.26 528.042,1438.13 530.13,1438 532.217,1437.86 534.305,1437.73 536.393,1437.6 538.481,1437.46 540.569,1437.32 542.657,1437.18 544.744,1437.04 546.832,1436.9 548.92,1436.76 551.008,1436.62 553.096,1436.47 555.184,1436.33 557.272,1436.18 559.359,1436.04 561.447,1435.89 563.535,1435.74 565.623,1435.59 567.711,1435.43 569.799,1435.28 571.886,1435.13 573.974,1434.97 576.062,1434.81 578.15,1434.65 580.238,1434.5 582.326,1434.34 584.414,1434.17 586.501,1434.01 588.589,1433.85 590.677,1433.68 592.765,1433.52 594.853,1433.35 596.941,1433.18 599.028,1433.01 601.116,1432.84 603.204,1432.67 605.292,1432.49 607.38,1432.32 609.468,1432.14 611.556,1431.97 613.643,1431.79 615.731,1431.61 617.819,1431.43 619.907,1431.25 621.995,1431.06 624.083,1430.88 626.17,1430.7 628.258,1430.51 630.346,1430.32 632.434,1430.13 634.522,1429.94 636.61,1429.75 638.698,1429.56 640.785,1429.37 642.873,1429.17 644.961,1428.97 647.049,1428.78 649.137,1428.58 651.225,1428.38 653.312,1428.18 655.4,1427.98 657.488,1427.77 659.576,1427.57 661.664,1427.36 663.752,1427.15 665.839,1426.95 667.927,1426.74 670.015,1426.52 672.103,1426.31 674.191,1426.1 676.279,1425.88 678.367,1425.67 680.454,1425.45 682.542,1425.23 684.63,1425.01 686.718,1424.79 688.806,1424.57 690.894,1424.34 692.981,1424.12 695.069,1423.89 697.157,1423.67 699.245,1423.44 701.333,1423.21 703.421,1422.98 705.509,1422.74 707.596,1422.51 709.684,1422.27 711.772,1422.04 713.86,1421.8 715.948,1421.56 718.036,1421.32 720.123,1421.08 722.211,1420.83 724.299,1420.59 726.387,1420.34 728.475,1420.1 730.563,1419.85 732.651,1419.6 734.738,1419.35 736.826,1419.1 738.914,1418.84 741.002,1418.59 743.09,1418.33 745.178,1418.07 747.265,1417.81 749.353,1417.55 751.441,1417.29 753.529,1417.03 755.617,1416.76 757.705,1416.5 759.793,1416.23 761.88,1415.96 763.968,1415.69 766.056,1415.42 768.144,1415.14 770.232,1414.87 772.32,1414.59 774.407,1414.32 776.495,1414.04 778.583,1413.76 780.671,1413.48 782.759,1413.19 784.847,1412.91 786.935,1412.62 789.022,1412.33 791.11,1412.05 793.198,1411.76 795.286,1411.46 797.374,1411.17 799.462,1410.88 801.549,1410.58 803.637,1410.28 805.725,1409.98 807.813,1409.68 809.901,1409.38 811.989,1409.08 814.077,1408.77 816.164,1408.47 818.252,1408.16 820.34,1407.85 822.428,1407.54 824.516,1407.23 826.604,1406.91 828.691,1406.6 830.779,1406.28 832.867,1405.96 834.955,1405.64 837.043,1405.32 839.131,1405 841.219,1404.67 843.306,1404.35 845.394,1404.02 847.482,1403.69 849.57,1403.36 851.658,1403.02 853.746,1402.69 855.833,1402.36 857.921,1402.02 860.009,1401.68 862.097,1401.34 864.185,1401 866.273,1400.65 868.36,1400.31 870.448,1399.96 872.536,1399.61 874.624,1399.26 876.712,1398.91 878.8,1398.56 880.888,1398.2 882.975,1397.85 885.063,1397.49 887.151,1397.13 889.239,1396.77 891.327,1396.4 893.415,1396.04 895.502,1395.67 897.59,1395.3 899.678,1394.93 901.766,1394.56 903.854,1394.19 905.942,1393.81 908.03,1393.44 910.117,1393.06 912.205,1392.68 914.293,1392.3 916.381,1391.91 918.469,1391.53 920.557,1391.14 922.644,1390.75 924.732,1390.36 926.82,1389.97 928.908,1389.57 930.996,1389.18 933.084,1388.78 935.172,1388.38 937.259,1387.98 939.347,1387.58 941.435,1387.17 943.523,1386.76 945.611,1386.36 947.699,1385.94 949.786,1385.53 951.874,1385.12 953.962,1384.7 956.05,1384.28 958.138,1383.87 960.226,1383.44 962.314,1383.02 964.401,1382.6 966.489,1382.17 968.577,1381.74 970.665,1381.31 972.753,1380.88 974.841,1380.44 976.928,1380 979.016,1379.57 981.104,1379.13 983.192,1378.68 985.28,1378.24 987.368,1377.79 989.456,1377.34 991.543,1376.89 993.631,1376.44 995.719,1375.99 997.807,1375.53 999.895,1375.07 1001.98,1374.61 1004.07,1374.15 1006.16,1373.69 1008.25,1373.22 1010.33,1372.75 1012.42,1372.28 1014.51,1371.81 1016.6,1371.34 1018.69,1370.86 1020.77,1370.38 1022.86,1369.9 1024.95,1369.42 1027.04,1368.93 1029.12,1368.45 1031.21,1367.96 1033.3,1367.47 1035.39,1366.97 1037.48,1366.48 1039.56,1365.98 1041.65,1365.48 1043.74,1364.98 1045.83,1364.48 1047.92,1363.97 1050,1363.46 1052.09,1362.95 1054.18,1362.44 1056.27,1361.93 1058.35,1361.41 1060.44,1360.89 1062.53,1360.37 1064.62,1359.85 1066.71,1359.32 1068.79,1358.79 1070.88,1358.26 1072.97,1357.73 1075.06,1357.2 1077.15,1356.66 1079.23,1356.12 1081.32,1355.58 1083.41,1355.03 1085.5,1354.49 1087.58,1353.94 1089.67,1353.39 1091.76,1352.84 1093.85,1352.28 1095.94,1351.72 1098.02,1351.16 1100.11,1350.6 1102.2,1350.04 1104.29,1349.47 1106.37,1348.9 1108.46,1348.33 1110.55,1347.75 1112.64,1347.18 1114.73,1346.6 1116.81,1346.01 1118.9,1345.43 1120.99,1344.84 1123.08,1344.25 1125.17,1343.66 1127.25,1343.07 1129.34,1342.47 1131.43,1341.87 1133.52,1341.27 1135.6,1340.67 1137.69,1340.06 1139.78,1339.45 1141.87,1338.84 1143.96,1338.23 1146.04,1337.61 1148.13,1336.99 1150.22,1336.37 1152.31,1335.74 1154.4,1335.12 1156.48,1334.49 1158.57,1333.85 1160.66,1333.22 1162.75,1332.58 1164.83,1331.94 1166.92,1331.3 1169.01,1330.65 1171.1,1330 1173.19,1329.35 1175.27,1328.7 1177.36,1328.04 1179.45,1327.38 1181.54,1326.72 1183.63,1326.06 1185.71,1325.39 1187.8,1324.72 1189.89,1324.05 1191.98,1323.37 1194.06,1322.69 1196.15,1322.01 1198.24,1321.33 1200.33,1320.64 1202.42,1319.95 1204.5,1319.26 1206.59,1318.56 1208.68,1317.86 1210.77,1317.16 1212.85,1316.46 1214.94,1315.75 1217.03,1315.04 1219.12,1314.33 1221.21,1313.61 1223.29,1312.89 1225.38,1312.17 1227.47,1311.44 1229.56,1310.72 1231.65,1309.98 1233.73,1309.25 1235.82,1308.51 1237.91,1307.77 1240,1307.03 1242.08,1306.28 1244.17,1305.53 1246.26,1304.78 1248.35,1304.03 1250.44,1303.27 1252.52,1302.51 1254.61,1301.74 1256.7,1300.97 1258.79,1300.2 1260.88,1299.43 1262.96,1298.65 1265.05,1297.87 1267.14,1297.09 1269.23,1296.3 1271.31,1295.51 1273.4,1294.72 1275.49,1293.92 1277.58,1293.12 1279.67,1292.32 1281.75,1291.51 1283.84,1290.7 1285.93,1289.89 1288.02,1289.07 1290.11,1288.25 1292.19,1287.43 1294.28,1286.6 1296.37,1285.77 1298.46,1284.94 1300.54,1284.1 1302.63,1283.26 1304.72,1282.42 1306.81,1281.57 1308.9,1280.72 1310.98,1279.86 1313.07,1279.01 1315.16,1278.15 1317.25,1277.28 1319.34,1276.41 1321.42,1275.54 1323.51,1274.67 1325.6,1273.79 1327.69,1272.91 1329.77,1272.02 1331.86,1271.13 1333.95,1270.24 1336.04,1269.34 1338.13,1268.44 1340.21,1267.54 1342.3,1266.63 1344.39,1265.72 1346.48,1264.8 1348.56,1263.88 1350.65,1262.96 1352.74,1262.03 1354.83,1261.1 1356.92,1260.17 1359,1259.23 1361.09,1258.29 1363.18,1257.34 1365.27,1256.39 1367.36,1255.44 1369.44,1254.48 1371.53,1253.52 1373.62,1252.56 1375.71,1251.59 1377.79,1250.62 1379.88,1249.64 1381.97,1248.66 1384.06,1247.67 1386.15,1246.68 1388.23,1245.69 1390.32,1244.69 1392.41,1243.69 1394.5,1242.69 1396.59,1241.68 1398.67,1240.67 1400.76,1239.65 1402.85,1238.63 1404.94,1237.6 1407.02,1236.57 1409.11,1235.54 1411.2,1234.5 1413.29,1233.46 1415.38,1232.41 1417.46,1231.36 1419.55,1230.31 1421.64,1229.25 1423.73,1228.18 1425.82,1227.12 1427.9,1226.04 1429.99,1224.97 1432.08,1223.89 1434.17,1222.8 1436.25,1221.71 1438.34,1220.62 1440.43,1219.52 1442.52,1218.42 1444.61,1217.31 1446.69,1216.2 1448.78,1215.08 1450.87,1213.96 1452.96,1212.83 1455.05,1211.7 1457.13,1210.57 1459.22,1209.43 1461.31,1208.29 1463.4,1207.14 1465.48,1205.98 1467.57,1204.83 1469.66,1203.66 1471.75,1202.5 1473.84,1201.33 1475.92,1200.15 1478.01,1198.97 1480.1,1197.78 1482.19,1196.59 1484.27,1195.39 1486.36,1194.19 1488.45,1192.99 1490.54,1191.78 1492.63,1190.56 1494.71,1189.34 1496.8,1188.12 1498.89,1186.89 1500.98,1185.65 1503.07,1184.41 1505.15,1183.17 1507.24,1181.92 1509.33,1180.66 1511.42,1179.4 1513.5,1178.14 1515.59,1176.87 1517.68,1175.59 1519.77,1174.31 1521.86,1173.02 1523.94,1171.73 1526.03,1170.44 1528.12,1169.14 1530.21,1167.83 1532.3,1166.52 1534.38,1165.2 1536.47,1163.88 1538.56,1162.55 1540.65,1161.22 1542.73,1159.88 1544.82,1158.53 1546.91,1157.18 1549,1155.83 1551.09,1154.47 1553.17,1153.1 1555.26,1151.73 1557.35,1150.35 1559.44,1148.97 1561.53,1147.58 1563.61,1146.19 1565.7,1144.79 1567.79,1143.38 1569.88,1141.97 1571.96,1140.56 1574.05,1139.13 1576.14,1137.71 1578.23,1136.27 1580.32,1134.83 1582.4,1133.39 1584.49,1131.94 1586.58,1130.48 1588.67,1129.02 1590.75,1127.55 1592.84,1126.07 1594.93,1124.59 1597.02,1123.11 1599.11,1121.62 1601.19,1120.12 1603.28,1118.61 1605.37,1117.1 1607.46,1115.59 1609.55,1114.06 1611.63,1112.53 1613.72,1111 1615.81,1109.46 1617.9,1107.91 1619.98,1106.36 1622.07,1104.8 1624.16,1103.23 1626.25,1101.66 1628.34,1100.08 1630.42,1098.49 1632.51,1096.9 1634.6,1095.3 1636.69,1093.7 1638.78,1092.09 1640.86,1090.47 1642.95,1088.85 1645.04,1087.22 1647.13,1085.58 1649.21,1083.94 1651.3,1082.29 1653.39,1080.63 1655.48,1078.96 1657.57,1077.29 1659.65,1075.62 1661.74,1073.93 1663.83,1072.24 1665.92,1070.55 1668.01,1068.84 1670.09,1067.13 1672.18,1065.41 1674.27,1063.69 1676.36,1061.96 1678.44,1060.22 1680.53,1058.47 1682.62,1056.72 1684.71,1054.96 1686.8,1053.19 1688.88,1051.42 1690.97,1049.64 1693.06,1047.85 1695.15,1046.05 1697.24,1044.25 1699.32,1042.44 1701.41,1040.62 1703.5,1038.8 1705.59,1036.97 1707.67,1035.13 1709.76,1033.28 1711.85,1031.43 1713.94,1029.56 1716.03,1027.7 1718.11,1025.82 1720.2,1023.93 1722.29,1022.04 1724.38,1020.14 1726.46,1018.24 1728.55,1016.32 1730.64,1014.4 1732.73,1012.47 1734.82,1010.53 1736.9,1008.59 1738.99,1006.63 1741.08,1004.67 1743.17,1002.7 1745.26,1000.72 1747.34,998.74 1749.43,996.747 1751.52,994.746 1753.61,992.736 1755.69,990.719 1757.78,988.694 1759.87,986.66 1761.96,984.619 1764.05,982.569 1766.13,980.511 1768.22,978.445 1770.31,976.37 1772.4,974.287 1774.49,972.195 1776.57,970.096 1778.66,967.987 1780.75,965.871 1782.84,963.745 1784.92,961.612 1787.01,959.469 1789.1,957.318 1791.19,955.159 1793.28,952.991 1795.36,950.814 1797.45,948.628 1799.54,946.433 1801.63,944.23 1803.72,942.018 1805.8,939.797 1807.89,937.567 1809.98,935.328 1812.07,933.08 1814.15,930.823 1816.24,928.556 1818.33,926.281 1820.42,923.997 1822.51,921.703 1824.59,919.401 1826.68,917.089 1828.77,914.767 1830.86,912.437 1832.95,910.097 1835.03,907.747 1837.12,905.389 1839.21,903.02 1841.3,900.643 1843.38,898.255 1845.47,895.858 1847.56,893.452 1849.65,891.035 1851.74,888.609 1853.82,886.174 1855.91,883.728 1858,881.273 1860.09,878.808 1862.17,876.333 1864.26,873.848 1866.35,871.353 1868.44,868.848 1870.53,866.332 1872.61,863.807 1874.7,861.272 1876.79,858.726 1878.88,856.171 1880.97,853.605 1883.05,851.028 1885.14,848.442 1887.23,845.845 1889.32,843.237 1891.4,840.619 1893.49,837.991 1895.58,835.352 1897.67,832.702 1899.76,830.042 1901.84,827.371 1903.93,824.689 1906.02,821.996 1908.11,819.293 1910.2,816.579 1912.28,813.854 1914.37,811.118 1916.46,808.371 1918.55,805.613 1920.63,802.844 1922.72,800.064 1924.81,797.272 1926.9,794.47 1928.99,791.656 1931.07,788.831 1933.16,785.994 1935.25,783.146 1937.34,780.287 1939.43,777.416 1941.51,774.534 1943.6,771.64 1945.69,768.735 1947.78,765.817 1949.86,762.889 1951.95,759.948 1954.04,756.995 1956.13,754.031 1958.22,751.055 1960.3,748.067 1962.39,745.066 1964.48,742.054 1966.57,739.03 1968.65,735.993 1970.74,732.945 1972.83,729.884 1974.92,726.811 1977.01,723.725 1979.09,720.627 1981.18,717.517 1983.27,714.394 1985.36,711.259 1987.45,708.111 1989.53,704.95 1991.62,701.777 1993.71,698.591 1995.8,695.392 1997.88,692.18 1999.97,688.956 2002.06,685.718 2004.15,682.468 2006.24,679.204 2008.32,675.928 2010.41,672.638 2012.5,669.335 2014.59,666.018 2016.68,662.689 2018.76,659.346 2020.85,655.99 2022.94,652.62 2025.03,649.236 2027.11,645.839 2029.2,642.429 2031.29,639.004 2033.38,635.566 2035.47,632.115 2037.55,628.649 2039.64,625.169 2041.73,621.676 2043.82,618.168 2045.91,614.646 2047.99,611.111 2050.08,607.561 2052.17,603.996 2054.26,600.418 2056.34,596.825 2058.43,593.217 2060.52,589.596 2062.61,585.959 2064.7,582.308 2066.78,578.643 2068.87,574.962 2070.96,571.267 2073.05,567.557 2075.14,563.832 2077.22,560.093 2079.31,556.338 2081.4,552.568 2083.49,548.783 2085.57,544.983 2087.66,541.167 2089.75,537.336 2091.84,533.49 2093.93,529.629 2096.01,525.752 2098.1,521.859 2100.19,517.951 2102.28,514.027 2104.36,510.087 2106.45,506.132 2108.54,502.16 2110.63,498.173 2112.72,494.169 2114.8,490.15 2116.89,486.115 2118.98,482.063 2121.07,477.995 2123.16,473.91 2125.24,469.81 2127.33,465.693 2129.42,461.559 2131.51,457.409 2133.59,453.242 2135.68,449.058 2137.77,444.858 2139.86,440.64 2141.95,436.406 2144.03,432.155 2146.12,427.886 2148.21,423.601 2150.3,419.298 2152.39,414.978 2154.47,410.641 2156.56,406.287 2158.65,401.914 2160.74,397.525 2162.82,393.117 2164.91,388.693 2167,384.25 2169.09,379.789 2171.18,375.311 2173.26,370.814 2175.35,366.3 2177.44,361.767 2179.53,357.216 2181.62,352.647 2183.7,348.06 2185.79,343.454 2187.88,338.83 2189.97,334.187 2192.05,329.526 2194.14,324.845 2196.23,320.147 2198.32,315.429 2200.41,310.692 2202.49,305.936 2204.58,301.161 2206.67,296.367 2208.76,291.554 2210.85,286.722 2212.93,281.87 2215.02,276.998 2217.11,272.107 2219.2,267.197 2221.28,262.266 2223.37,257.316 2225.46,252.346 2227.55,247.356 2229.64,242.346 2231.72,237.316 2233.81,232.266 2235.9,227.196 2237.99,222.105 2240.07,216.994 2242.16,211.862 2244.25,206.709 2246.34,201.536 2248.43,196.343 2250.51,191.128 2252.6,185.892 2254.69,180.636 2256.78,175.358 2258.87,170.059 2260.95,164.739 2263.04,159.398 2265.13,154.035 2267.22,148.65 2269.3,143.244 2271.39,137.817 2273.48,132.367 2275.57,126.896 2277.66,121.403 2279.74,115.887 2281.83,110.35 2283.92,104.79 2286.01,99.2079 2288.1,93.6035 2290.18,87.9766 \"/>\n",
       "<polyline clip-path=\"url(#clip462)\" style=\"stroke:#e26f46; stroke-linecap:round; stroke-linejoin:round; stroke-width:4; stroke-opacity:1; fill:none\" points=\"204.426,1444.69 206.514,1444.74 208.601,1444.79 210.689,1444.84 212.777,1444.88 214.865,1444.93 216.953,1444.97 219.041,1445.02 221.128,1445.06 223.216,1445.1 225.304,1445.14 227.392,1445.18 229.48,1445.21 231.568,1445.25 233.656,1445.28 235.743,1445.31 237.831,1445.34 239.919,1445.37 242.007,1445.4 244.095,1445.43 246.183,1445.46 248.27,1445.48 250.358,1445.5 252.446,1445.53 254.534,1445.55 256.622,1445.57 258.71,1445.59 260.797,1445.6 262.885,1445.62 264.973,1445.63 267.061,1445.65 269.149,1445.66 271.237,1445.67 273.325,1445.68 275.412,1445.69 277.5,1445.7 279.588,1445.7 281.676,1445.71 283.764,1445.71 285.852,1445.71 287.939,1445.72 290.027,1445.72 292.115,1445.71 294.203,1445.71 296.291,1445.71 298.379,1445.7 300.467,1445.7 302.554,1445.69 304.642,1445.68 306.73,1445.67 308.818,1445.66 310.906,1445.65 312.994,1445.64 315.081,1445.62 317.169,1445.61 319.257,1445.59 321.345,1445.57 323.433,1445.55 325.521,1445.53 327.609,1445.51 329.696,1445.49 331.784,1445.46 333.872,1445.44 335.96,1445.41 338.048,1445.39 340.136,1445.36 342.223,1445.33 344.311,1445.3 346.399,1445.26 348.487,1445.23 350.575,1445.2 352.663,1445.16 354.751,1445.12 356.838,1445.09 358.926,1445.05 361.014,1445.01 363.102,1444.97 365.19,1444.92 367.278,1444.88 369.365,1444.84 371.453,1444.79 373.541,1444.74 375.629,1444.69 377.717,1444.64 379.805,1444.59 381.893,1444.54 383.98,1444.49 386.068,1444.44 388.156,1444.38 390.244,1444.32 392.332,1444.27 394.42,1444.21 396.507,1444.15 398.595,1444.09 400.683,1444.03 402.771,1443.96 404.859,1443.9 406.947,1443.83 409.035,1443.77 411.122,1443.7 413.21,1443.63 415.298,1443.56 417.386,1443.49 419.474,1443.42 421.562,1443.35 423.649,1443.27 425.737,1443.2 427.825,1443.12 429.913,1443.04 432.001,1442.96 434.089,1442.88 436.177,1442.8 438.264,1442.72 440.352,1442.64 442.44,1442.55 444.528,1442.47 446.616,1442.38 448.704,1442.29 450.791,1442.21 452.879,1442.12 454.967,1442.02 457.055,1441.93 459.143,1441.84 461.231,1441.74 463.318,1441.65 465.406,1441.55 467.494,1441.45 469.582,1441.36 471.67,1441.26 473.758,1441.15 475.846,1441.05 477.933,1440.95 480.021,1440.84 482.109,1440.74 484.197,1440.63 486.285,1440.52 488.373,1440.41 490.46,1440.3 492.548,1440.19 494.636,1440.08 496.724,1439.97 498.812,1439.85 500.9,1439.74 502.988,1439.62 505.075,1439.5 507.163,1439.38 509.251,1439.26 511.339,1439.14 513.427,1439.02 515.515,1438.9 517.602,1438.77 519.69,1438.64 521.778,1438.52 523.866,1438.39 525.954,1438.26 528.042,1438.13 530.13,1438 532.217,1437.86 534.305,1437.73 536.393,1437.6 538.481,1437.46 540.569,1437.32 542.657,1437.18 544.744,1437.04 546.832,1436.9 548.92,1436.76 551.008,1436.62 553.096,1436.47 555.184,1436.33 557.272,1436.18 559.359,1436.04 561.447,1435.89 563.535,1435.74 565.623,1435.59 567.711,1435.43 569.799,1435.28 571.886,1435.13 573.974,1434.97 576.062,1434.81 578.15,1434.65 580.238,1434.5 582.326,1434.34 584.414,1434.17 586.501,1434.01 588.589,1433.85 590.677,1433.68 592.765,1433.52 594.853,1433.35 596.941,1433.18 599.028,1433.01 601.116,1432.84 603.204,1432.67 605.292,1432.49 607.38,1432.32 609.468,1432.14 611.556,1431.97 613.643,1431.79 615.731,1431.61 617.819,1431.43 619.907,1431.25 621.995,1431.06 624.083,1430.88 626.17,1430.7 628.258,1430.51 630.346,1430.32 632.434,1430.13 634.522,1429.94 636.61,1429.75 638.698,1429.56 640.785,1429.37 642.873,1429.17 644.961,1428.97 647.049,1428.78 649.137,1428.58 651.225,1428.38 653.312,1428.18 655.4,1427.98 657.488,1427.77 659.576,1427.57 661.664,1427.36 663.752,1427.15 665.839,1426.94 667.927,1426.74 670.015,1426.52 672.103,1426.31 674.191,1426.1 676.279,1425.88 678.367,1425.67 680.454,1425.45 682.542,1425.23 684.63,1425.01 686.718,1424.79 688.806,1424.57 690.894,1424.34 692.981,1424.12 695.069,1423.89 697.157,1423.67 699.245,1423.44 701.333,1423.21 703.421,1422.98 705.509,1422.74 707.596,1422.51 709.684,1422.27 711.772,1422.04 713.86,1421.8 715.948,1421.56 718.036,1421.32 720.123,1421.08 722.211,1420.83 724.299,1420.59 726.387,1420.34 728.475,1420.1 730.563,1419.85 732.651,1419.6 734.738,1419.35 736.826,1419.1 738.914,1418.84 741.002,1418.59 743.09,1418.33 745.178,1418.07 747.265,1417.81 749.353,1417.55 751.441,1417.29 753.529,1417.03 755.617,1416.76 757.705,1416.5 759.793,1416.23 761.88,1415.96 763.968,1415.69 766.056,1415.42 768.144,1415.14 770.232,1414.87 772.32,1414.59 774.407,1414.32 776.495,1414.04 778.583,1413.76 780.671,1413.48 782.759,1413.19 784.847,1412.91 786.935,1412.62 789.022,1412.33 791.11,1412.05 793.198,1411.76 795.286,1411.46 797.374,1411.17 799.462,1410.88 801.549,1410.58 803.637,1410.28 805.725,1409.98 807.813,1409.68 809.901,1409.38 811.989,1409.08 814.077,1408.77 816.164,1408.47 818.252,1408.16 820.34,1407.85 822.428,1407.54 824.516,1407.23 826.604,1406.91 828.691,1406.6 830.779,1406.28 832.867,1405.96 834.955,1405.64 837.043,1405.32 839.131,1405 841.219,1404.67 843.306,1404.35 845.394,1404.02 847.482,1403.69 849.57,1403.36 851.658,1403.02 853.746,1402.69 855.833,1402.36 857.921,1402.02 860.009,1401.68 862.097,1401.34 864.185,1401 866.273,1400.65 868.36,1400.31 870.448,1399.96 872.536,1399.61 874.624,1399.26 876.712,1398.91 878.8,1398.56 880.888,1398.2 882.975,1397.85 885.063,1397.49 887.151,1397.13 889.239,1396.77 891.327,1396.4 893.415,1396.04 895.502,1395.67 897.59,1395.3 899.678,1394.93 901.766,1394.56 903.854,1394.19 905.942,1393.81 908.03,1393.44 910.117,1393.06 912.205,1392.68 914.293,1392.3 916.381,1391.91 918.469,1391.53 920.557,1391.14 922.644,1390.75 924.732,1390.36 926.82,1389.97 928.908,1389.57 930.996,1389.18 933.084,1388.78 935.172,1388.38 937.259,1387.98 939.347,1387.58 941.435,1387.17 943.523,1386.76 945.611,1386.36 947.699,1385.94 949.786,1385.53 951.874,1385.12 953.962,1384.7 956.05,1384.28 958.138,1383.87 960.226,1383.44 962.314,1383.02 964.401,1382.6 966.489,1382.17 968.577,1381.74 970.665,1381.31 972.753,1380.88 974.841,1380.44 976.928,1380 979.016,1379.57 981.104,1379.12 983.192,1378.68 985.28,1378.24 987.368,1377.79 989.456,1377.34 991.543,1376.89 993.631,1376.44 995.719,1375.99 997.807,1375.53 999.895,1375.07 1001.98,1374.61 1004.07,1374.15 1006.16,1373.69 1008.25,1373.22 1010.33,1372.75 1012.42,1372.28 1014.51,1371.81 1016.6,1371.34 1018.69,1370.86 1020.77,1370.38 1022.86,1369.9 1024.95,1369.42 1027.04,1368.93 1029.12,1368.45 1031.21,1367.96 1033.3,1367.47 1035.39,1366.97 1037.48,1366.48 1039.56,1365.98 1041.65,1365.48 1043.74,1364.98 1045.83,1364.48 1047.92,1363.97 1050,1363.46 1052.09,1362.95 1054.18,1362.44 1056.27,1361.93 1058.35,1361.41 1060.44,1360.89 1062.53,1360.37 1064.62,1359.85 1066.71,1359.32 1068.79,1358.79 1070.88,1358.26 1072.97,1357.73 1075.06,1357.2 1077.15,1356.66 1079.23,1356.12 1081.32,1355.58 1083.41,1355.03 1085.5,1354.49 1087.58,1353.94 1089.67,1353.39 1091.76,1352.84 1093.85,1352.28 1095.94,1351.72 1098.02,1351.16 1100.11,1350.6 1102.2,1350.04 1104.29,1349.47 1106.37,1348.9 1108.46,1348.33 1110.55,1347.75 1112.64,1347.18 1114.73,1346.6 1116.81,1346.01 1118.9,1345.43 1120.99,1344.84 1123.08,1344.25 1125.17,1343.66 1127.25,1343.07 1129.34,1342.47 1131.43,1341.87 1133.52,1341.27 1135.6,1340.67 1137.69,1340.06 1139.78,1339.45 1141.87,1338.84 1143.96,1338.23 1146.04,1337.61 1148.13,1336.99 1150.22,1336.37 1152.31,1335.74 1154.4,1335.12 1156.48,1334.49 1158.57,1333.85 1160.66,1333.22 1162.75,1332.58 1164.83,1331.94 1166.92,1331.3 1169.01,1330.65 1171.1,1330 1173.19,1329.35 1175.27,1328.7 1177.36,1328.04 1179.45,1327.38 1181.54,1326.72 1183.63,1326.06 1185.71,1325.39 1187.8,1324.72 1189.89,1324.05 1191.98,1323.37 1194.06,1322.69 1196.15,1322.01 1198.24,1321.33 1200.33,1320.64 1202.42,1319.95 1204.5,1319.26 1206.59,1318.56 1208.68,1317.86 1210.77,1317.16 1212.85,1316.46 1214.94,1315.75 1217.03,1315.04 1219.12,1314.33 1221.21,1313.61 1223.29,1312.89 1225.38,1312.17 1227.47,1311.44 1229.56,1310.72 1231.65,1309.98 1233.73,1309.25 1235.82,1308.51 1237.91,1307.77 1240,1307.03 1242.08,1306.28 1244.17,1305.53 1246.26,1304.78 1248.35,1304.03 1250.44,1303.27 1252.52,1302.51 1254.61,1301.74 1256.7,1300.97 1258.79,1300.2 1260.88,1299.43 1262.96,1298.65 1265.05,1297.87 1267.14,1297.09 1269.23,1296.3 1271.31,1295.51 1273.4,1294.72 1275.49,1293.92 1277.58,1293.12 1279.67,1292.32 1281.75,1291.51 1283.84,1290.7 1285.93,1289.89 1288.02,1289.07 1290.11,1288.25 1292.19,1287.43 1294.28,1286.6 1296.37,1285.77 1298.46,1284.94 1300.54,1284.1 1302.63,1283.26 1304.72,1282.42 1306.81,1281.57 1308.9,1280.72 1310.98,1279.86 1313.07,1279.01 1315.16,1278.15 1317.25,1277.28 1319.34,1276.41 1321.42,1275.54 1323.51,1274.67 1325.6,1273.79 1327.69,1272.91 1329.77,1272.02 1331.86,1271.13 1333.95,1270.24 1336.04,1269.34 1338.13,1268.44 1340.21,1267.54 1342.3,1266.63 1344.39,1265.72 1346.48,1264.8 1348.56,1263.88 1350.65,1262.96 1352.74,1262.03 1354.83,1261.1 1356.92,1260.17 1359,1259.23 1361.09,1258.29 1363.18,1257.34 1365.27,1256.39 1367.36,1255.44 1369.44,1254.48 1371.53,1253.52 1373.62,1252.56 1375.71,1251.59 1377.79,1250.62 1379.88,1249.64 1381.97,1248.66 1384.06,1247.67 1386.15,1246.68 1388.23,1245.69 1390.32,1244.69 1392.41,1243.69 1394.5,1242.69 1396.59,1241.68 1398.67,1240.67 1400.76,1239.65 1402.85,1238.63 1404.94,1237.6 1407.02,1236.57 1409.11,1235.54 1411.2,1234.5 1413.29,1233.46 1415.38,1232.41 1417.46,1231.36 1419.55,1230.31 1421.64,1229.25 1423.73,1228.18 1425.82,1227.12 1427.9,1226.04 1429.99,1224.97 1432.08,1223.89 1434.17,1222.8 1436.25,1221.71 1438.34,1220.62 1440.43,1219.52 1442.52,1218.42 1444.61,1217.31 1446.69,1216.2 1448.78,1215.08 1450.87,1213.96 1452.96,1212.83 1455.05,1211.7 1457.13,1210.57 1459.22,1209.43 1461.31,1208.29 1463.4,1207.14 1465.48,1205.98 1467.57,1204.83 1469.66,1203.66 1471.75,1202.5 1473.84,1201.33 1475.92,1200.15 1478.01,1198.97 1480.1,1197.78 1482.19,1196.59 1484.27,1195.39 1486.36,1194.19 1488.45,1192.99 1490.54,1191.78 1492.63,1190.56 1494.71,1189.34 1496.8,1188.12 1498.89,1186.89 1500.98,1185.65 1503.07,1184.41 1505.15,1183.17 1507.24,1181.92 1509.33,1180.66 1511.42,1179.4 1513.5,1178.14 1515.59,1176.87 1517.68,1175.59 1519.77,1174.31 1521.86,1173.02 1523.94,1171.73 1526.03,1170.44 1528.12,1169.14 1530.21,1167.83 1532.3,1166.52 1534.38,1165.2 1536.47,1163.88 1538.56,1162.55 1540.65,1161.22 1542.73,1159.88 1544.82,1158.53 1546.91,1157.18 1549,1155.83 1551.09,1154.47 1553.17,1153.1 1555.26,1151.73 1557.35,1150.35 1559.44,1148.97 1561.53,1147.58 1563.61,1146.19 1565.7,1144.79 1567.79,1143.38 1569.88,1141.97 1571.96,1140.56 1574.05,1139.13 1576.14,1137.71 1578.23,1136.27 1580.32,1134.83 1582.4,1133.39 1584.49,1131.94 1586.58,1130.48 1588.67,1129.02 1590.75,1127.55 1592.84,1126.07 1594.93,1124.59 1597.02,1123.11 1599.11,1121.62 1601.19,1120.12 1603.28,1118.61 1605.37,1117.1 1607.46,1115.59 1609.55,1114.06 1611.63,1112.53 1613.72,1111 1615.81,1109.46 1617.9,1107.91 1619.98,1106.36 1622.07,1104.8 1624.16,1103.23 1626.25,1101.66 1628.34,1100.08 1630.42,1098.49 1632.51,1096.9 1634.6,1095.3 1636.69,1093.7 1638.78,1092.09 1640.86,1090.47 1642.95,1088.85 1645.04,1087.22 1647.13,1085.58 1649.21,1083.94 1651.3,1082.29 1653.39,1080.63 1655.48,1078.96 1657.57,1077.29 1659.65,1075.62 1661.74,1073.93 1663.83,1072.24 1665.92,1070.55 1668.01,1068.84 1670.09,1067.13 1672.18,1065.41 1674.27,1063.69 1676.36,1061.96 1678.44,1060.22 1680.53,1058.47 1682.62,1056.72 1684.71,1054.96 1686.8,1053.19 1688.88,1051.42 1690.97,1049.64 1693.06,1047.85 1695.15,1046.05 1697.24,1044.25 1699.32,1042.44 1701.41,1040.62 1703.5,1038.8 1705.59,1036.97 1707.67,1035.13 1709.76,1033.28 1711.85,1031.43 1713.94,1029.56 1716.03,1027.7 1718.11,1025.82 1720.2,1023.93 1722.29,1022.04 1724.38,1020.14 1726.46,1018.24 1728.55,1016.32 1730.64,1014.4 1732.73,1012.47 1734.82,1010.53 1736.9,1008.59 1738.99,1006.63 1741.08,1004.67 1743.17,1002.7 1745.26,1000.72 1747.34,998.74 1749.43,996.747 1751.52,994.745 1753.61,992.736 1755.69,990.719 1757.78,988.694 1759.87,986.66 1761.96,984.619 1764.05,982.569 1766.13,980.511 1768.22,978.444 1770.31,976.37 1772.4,974.287 1774.49,972.195 1776.57,970.096 1778.66,967.987 1780.75,965.871 1782.84,963.745 1784.92,961.612 1787.01,959.469 1789.1,957.318 1791.19,955.159 1793.28,952.99 1795.36,950.813 1797.45,948.628 1799.54,946.433 1801.63,944.23 1803.72,942.018 1805.8,939.796 1807.89,937.566 1809.98,935.327 1812.07,933.079 1814.15,930.822 1816.24,928.556 1818.33,926.281 1820.42,923.997 1822.51,921.703 1824.59,919.401 1826.68,917.089 1828.77,914.767 1830.86,912.437 1832.95,910.097 1835.03,907.747 1837.12,905.389 1839.21,903.02 1841.3,900.642 1843.38,898.255 1845.47,895.858 1847.56,893.452 1849.65,891.035 1851.74,888.609 1853.82,886.174 1855.91,883.728 1858,881.273 1860.09,878.808 1862.17,876.333 1864.26,873.848 1866.35,871.352 1868.44,868.847 1870.53,866.332 1872.61,863.807 1874.7,861.272 1876.79,858.726 1878.88,856.171 1880.97,853.604 1883.05,851.028 1885.14,848.441 1887.23,845.844 1889.32,843.237 1891.4,840.619 1893.49,837.99 1895.58,835.351 1897.67,832.702 1899.76,830.041 1901.84,827.37 1903.93,824.689 1906.02,821.996 1908.11,819.293 1910.2,816.579 1912.28,813.854 1914.37,811.118 1916.46,808.371 1918.55,805.613 1920.63,802.844 1922.72,800.064 1924.81,797.272 1926.9,794.47 1928.99,791.656 1931.07,788.831 1933.16,785.994 1935.25,783.146 1937.34,780.287 1939.43,777.416 1941.51,774.534 1943.6,771.64 1945.69,768.734 1947.78,765.817 1949.86,762.888 1951.95,759.948 1954.04,756.995 1956.13,754.031 1958.22,751.055 1960.3,748.066 1962.39,745.066 1964.48,742.054 1966.57,739.03 1968.65,735.993 1970.74,732.945 1972.83,729.884 1974.92,726.811 1977.01,723.725 1979.09,720.627 1981.18,717.517 1983.27,714.394 1985.36,711.259 1987.45,708.111 1989.53,704.95 1991.62,701.777 1993.71,698.591 1995.8,695.392 1997.88,692.18 1999.97,688.956 2002.06,685.718 2004.15,682.468 2006.24,679.204 2008.32,675.927 2010.41,672.638 2012.5,669.335 2014.59,666.018 2016.68,662.689 2018.76,659.346 2020.85,655.989 2022.94,652.619 2025.03,649.236 2027.11,645.839 2029.2,642.429 2031.29,639.004 2033.38,635.566 2035.47,632.114 2037.55,628.649 2039.64,625.169 2041.73,621.675 2043.82,618.168 2045.91,614.646 2047.99,611.11 2050.08,607.56 2052.17,603.996 2054.26,600.417 2056.34,596.825 2058.43,593.217 2060.52,589.595 2062.61,585.959 2064.7,582.308 2066.78,578.642 2068.87,574.962 2070.96,571.267 2073.05,567.557 2075.14,563.832 2077.22,560.092 2079.31,556.337 2081.4,552.568 2083.49,548.783 2085.57,544.982 2087.66,541.167 2089.75,537.336 2091.84,533.49 2093.93,529.628 2096.01,525.751 2098.1,521.859 2100.19,517.95 2102.28,514.027 2104.36,510.087 2106.45,506.131 2108.54,502.16 2110.63,498.173 2112.72,494.169 2114.8,490.15 2116.89,486.114 2118.98,482.063 2121.07,477.995 2123.16,473.91 2125.24,469.81 2127.33,465.692 2129.42,461.559 2131.51,457.408 2133.59,453.241 2135.68,449.058 2137.77,444.857 2139.86,440.64 2141.95,436.406 2144.03,432.154 2146.12,427.886 2148.21,423.601 2150.3,419.298 2152.39,414.978 2154.47,410.641 2156.56,406.286 2158.65,401.914 2160.74,397.525 2162.82,393.117 2164.91,388.692 2167,384.25 2169.09,379.789 2171.18,375.311 2173.26,370.814 2175.35,366.3 2177.44,361.767 2179.53,357.216 2181.62,352.647 2183.7,348.06 2185.79,343.454 2187.88,338.83 2189.97,334.187 2192.05,329.525 2194.14,324.845 2196.23,320.146 2198.32,315.428 2200.41,310.692 2202.49,305.936 2204.58,301.161 2206.67,296.367 2208.76,291.554 2210.85,286.721 2212.93,281.869 2215.02,276.998 2217.11,272.107 2219.2,267.196 2221.28,262.266 2223.37,257.316 2225.46,252.346 2227.55,247.356 2229.64,242.346 2231.72,237.316 2233.81,232.266 2235.9,227.195 2237.99,222.105 2240.07,216.993 2242.16,211.861 2244.25,206.709 2246.34,201.536 2248.43,196.342 2250.51,191.128 2252.6,185.892 2254.69,180.636 2256.78,175.358 2258.87,170.059 2260.95,164.739 2263.04,159.397 2265.13,154.035 2267.22,148.65 2269.3,143.244 2271.39,137.816 2273.48,132.367 2275.57,126.896 2277.66,121.402 2279.74,115.887 2281.83,110.349 2283.92,104.79 2286.01,99.2076 2288.1,93.6032 2290.18,87.9763 \"/>\n",
       "<path clip-path=\"url(#clip460)\" d=\"M215.55 250.738 L535.829 250.738 L535.829 95.2176 L215.55 95.2176  Z\" fill=\"#ffffff\" fill-rule=\"evenodd\" fill-opacity=\"1\"/>\n",
       "<polyline clip-path=\"url(#clip460)\" style=\"stroke:#000000; stroke-linecap:round; stroke-linejoin:round; stroke-width:4; stroke-opacity:1; fill:none\" points=\"215.55,250.738 535.829,250.738 535.829,95.2176 215.55,95.2176 215.55,250.738 \"/>\n",
       "<polyline clip-path=\"url(#clip460)\" style=\"stroke:#009af9; stroke-linecap:round; stroke-linejoin:round; stroke-width:4; stroke-opacity:1; fill:none\" points=\"240.115,147.058 387.509,147.058 \"/>\n",
       "<path clip-path=\"url(#clip460)\" d=\"M416.357 160.449 L416.357 174.199 L412.074 174.199 L412.074 138.412 L416.357 138.412 L416.357 142.347 Q417.699 140.032 419.736 138.921 Q421.797 137.787 424.644 137.787 Q429.366 137.787 432.306 141.537 Q435.269 145.287 435.269 151.398 Q435.269 157.509 432.306 161.259 Q429.366 165.009 424.644 165.009 Q421.797 165.009 419.736 163.898 Q417.699 162.763 416.357 160.449 M430.847 151.398 Q430.847 146.699 428.903 144.037 Q426.982 141.352 423.602 141.352 Q420.223 141.352 418.278 144.037 Q416.357 146.699 416.357 151.398 Q416.357 156.097 418.278 158.782 Q420.223 161.444 423.602 161.444 Q426.982 161.444 428.903 158.782 Q430.847 156.097 430.847 151.398 Z\" fill=\"#000000\" fill-rule=\"nonzero\" fill-opacity=\"1\" /><path clip-path=\"url(#clip460)\" d=\"M457.352 142.393 Q456.634 141.977 455.778 141.791 Q454.945 141.583 453.926 141.583 Q450.315 141.583 448.371 143.944 Q446.449 146.282 446.449 150.68 L446.449 164.338 L442.167 164.338 L442.167 138.412 L446.449 138.412 L446.449 142.44 Q447.792 140.078 449.945 138.944 Q452.097 137.787 455.176 137.787 Q455.616 137.787 456.148 137.856 Q456.681 137.903 457.329 138.018 L457.352 142.393 Z\" fill=\"#000000\" fill-rule=\"nonzero\" fill-opacity=\"1\" /><path clip-path=\"url(#clip460)\" d=\"M482.954 150.31 L482.954 152.393 L463.37 152.393 Q463.648 156.791 466.009 159.106 Q468.394 161.398 472.63 161.398 Q475.083 161.398 477.375 160.796 Q479.69 160.194 481.958 158.99 L481.958 163.018 Q479.667 163.99 477.259 164.5 Q474.852 165.009 472.375 165.009 Q466.171 165.009 462.537 161.398 Q458.926 157.787 458.926 151.629 Q458.926 145.264 462.352 141.537 Q465.801 137.787 471.634 137.787 Q476.866 137.787 479.898 141.166 Q482.954 144.523 482.954 150.31 M478.694 149.06 Q478.648 145.565 476.727 143.481 Q474.829 141.398 471.681 141.398 Q468.116 141.398 465.963 143.412 Q463.833 145.426 463.509 149.083 L478.694 149.06 Z\" fill=\"#000000\" fill-rule=\"nonzero\" fill-opacity=\"1\" /><path clip-path=\"url(#clip460)\" d=\"M507.004 142.347 L507.004 128.319 L511.264 128.319 L511.264 164.338 L507.004 164.338 L507.004 160.449 Q505.662 162.763 503.602 163.898 Q501.565 165.009 498.694 165.009 Q493.995 165.009 491.032 161.259 Q488.093 157.509 488.093 151.398 Q488.093 145.287 491.032 141.537 Q493.995 137.787 498.694 137.787 Q501.565 137.787 503.602 138.921 Q505.662 140.032 507.004 142.347 M492.491 151.398 Q492.491 156.097 494.412 158.782 Q496.356 161.444 499.736 161.444 Q503.116 161.444 505.06 158.782 Q507.004 156.097 507.004 151.398 Q507.004 146.699 505.06 144.037 Q503.116 141.352 499.736 141.352 Q496.356 141.352 494.412 144.037 Q492.491 146.699 492.491 151.398 Z\" fill=\"#000000\" fill-rule=\"nonzero\" fill-opacity=\"1\" /><polyline clip-path=\"url(#clip460)\" style=\"stroke:#e26f46; stroke-linecap:round; stroke-linejoin:round; stroke-width:4; stroke-opacity:1; fill:none\" points=\"240.115,198.898 387.509,198.898 \"/>\n",
       "<path clip-path=\"url(#clip460)\" d=\"M419.482 182.891 L419.482 190.252 L428.255 190.252 L428.255 193.562 L419.482 193.562 L419.482 207.636 Q419.482 210.807 420.338 211.71 Q421.218 212.613 423.88 212.613 L428.255 212.613 L428.255 216.178 L423.88 216.178 Q418.949 216.178 417.074 214.349 Q415.199 212.497 415.199 207.636 L415.199 193.562 L412.074 193.562 L412.074 190.252 L415.199 190.252 L415.199 182.891 L419.482 182.891 Z\" fill=\"#000000\" fill-rule=\"nonzero\" fill-opacity=\"1\" /><path clip-path=\"url(#clip460)\" d=\"M448.88 194.233 Q448.162 193.817 447.306 193.631 Q446.472 193.423 445.454 193.423 Q441.843 193.423 439.898 195.784 Q437.977 198.122 437.977 202.52 L437.977 216.178 L433.695 216.178 L433.695 190.252 L437.977 190.252 L437.977 194.28 Q439.32 191.918 441.472 190.784 Q443.625 189.627 446.704 189.627 Q447.144 189.627 447.676 189.696 Q448.208 189.743 448.857 189.858 L448.88 194.233 Z\" fill=\"#000000\" fill-rule=\"nonzero\" fill-opacity=\"1\" /><path clip-path=\"url(#clip460)\" d=\"M452.908 205.946 L452.908 190.252 L457.167 190.252 L457.167 205.784 Q457.167 209.465 458.602 211.316 Q460.037 213.145 462.907 213.145 Q466.357 213.145 468.347 210.946 Q470.361 208.747 470.361 204.951 L470.361 190.252 L474.62 190.252 L474.62 216.178 L470.361 216.178 L470.361 212.196 Q468.81 214.557 466.75 215.715 Q464.713 216.849 462.005 216.849 Q457.537 216.849 455.222 214.071 Q452.908 211.293 452.908 205.946 M463.625 189.627 L463.625 189.627 Z\" fill=\"#000000\" fill-rule=\"nonzero\" fill-opacity=\"1\" /><path clip-path=\"url(#clip460)\" d=\"M505.569 202.15 L505.569 204.233 L485.986 204.233 Q486.264 208.631 488.625 210.946 Q491.009 213.238 495.245 213.238 Q497.699 213.238 499.991 212.636 Q502.305 212.034 504.574 210.83 L504.574 214.858 Q502.282 215.83 499.875 216.34 Q497.467 216.849 494.991 216.849 Q488.787 216.849 485.153 213.238 Q481.542 209.627 481.542 203.469 Q481.542 197.104 484.968 193.377 Q488.417 189.627 494.25 189.627 Q499.481 189.627 502.514 193.006 Q505.569 196.363 505.569 202.15 M501.31 200.9 Q501.264 197.405 499.342 195.321 Q497.444 193.238 494.296 193.238 Q490.731 193.238 488.579 195.252 Q486.449 197.266 486.125 200.923 L501.31 200.9 Z\" fill=\"#000000\" fill-rule=\"nonzero\" fill-opacity=\"1\" /></svg>\n"
      ],
      "text/html": [
       "<?xml version=\"1.0\" encoding=\"utf-8\"?>\n",
       "<svg xmlns=\"http://www.w3.org/2000/svg\" xmlns:xlink=\"http://www.w3.org/1999/xlink\" width=\"600\" height=\"400\" viewBox=\"0 0 2400 1600\">\n",
       "<defs>\n",
       "  <clipPath id=\"clip510\">\n",
       "    <rect x=\"0\" y=\"0\" width=\"2400\" height=\"1600\"/>\n",
       "  </clipPath>\n",
       "</defs>\n",
       "<path clip-path=\"url(#clip510)\" d=\"M0 1600 L2400 1600 L2400 0 L0 0  Z\" fill=\"#ffffff\" fill-rule=\"evenodd\" fill-opacity=\"1\"/>\n",
       "<defs>\n",
       "  <clipPath id=\"clip511\">\n",
       "    <rect x=\"480\" y=\"0\" width=\"1681\" height=\"1600\"/>\n",
       "  </clipPath>\n",
       "</defs>\n",
       "<path clip-path=\"url(#clip510)\" d=\"M141.853 1486.45 L2352.76 1486.45 L2352.76 47.2441 L141.853 47.2441  Z\" fill=\"#ffffff\" fill-rule=\"evenodd\" fill-opacity=\"1\"/>\n",
       "<defs>\n",
       "  <clipPath id=\"clip512\">\n",
       "    <rect x=\"141\" y=\"47\" width=\"2212\" height=\"1440\"/>\n",
       "  </clipPath>\n",
       "</defs>\n",
       "<polyline clip-path=\"url(#clip512)\" style=\"stroke:#000000; stroke-linecap:round; stroke-linejoin:round; stroke-width:2; stroke-opacity:0.1; fill:none\" points=\"204.426,1486.45 204.426,47.2441 \"/>\n",
       "<polyline clip-path=\"url(#clip512)\" style=\"stroke:#000000; stroke-linecap:round; stroke-linejoin:round; stroke-width:2; stroke-opacity:0.1; fill:none\" points=\"725.865,1486.45 725.865,47.2441 \"/>\n",
       "<polyline clip-path=\"url(#clip512)\" style=\"stroke:#000000; stroke-linecap:round; stroke-linejoin:round; stroke-width:2; stroke-opacity:0.1; fill:none\" points=\"1247.3,1486.45 1247.3,47.2441 \"/>\n",
       "<polyline clip-path=\"url(#clip512)\" style=\"stroke:#000000; stroke-linecap:round; stroke-linejoin:round; stroke-width:2; stroke-opacity:0.1; fill:none\" points=\"1768.74,1486.45 1768.74,47.2441 \"/>\n",
       "<polyline clip-path=\"url(#clip512)\" style=\"stroke:#000000; stroke-linecap:round; stroke-linejoin:round; stroke-width:2; stroke-opacity:0.1; fill:none\" points=\"2290.18,1486.45 2290.18,47.2441 \"/>\n",
       "<polyline clip-path=\"url(#clip510)\" style=\"stroke:#000000; stroke-linecap:round; stroke-linejoin:round; stroke-width:4; stroke-opacity:1; fill:none\" points=\"141.853,1486.45 2352.76,1486.45 \"/>\n",
       "<polyline clip-path=\"url(#clip510)\" style=\"stroke:#000000; stroke-linecap:round; stroke-linejoin:round; stroke-width:4; stroke-opacity:1; fill:none\" points=\"204.426,1486.45 204.426,1467.55 \"/>\n",
       "<polyline clip-path=\"url(#clip510)\" style=\"stroke:#000000; stroke-linecap:round; stroke-linejoin:round; stroke-width:4; stroke-opacity:1; fill:none\" points=\"725.865,1486.45 725.865,1467.55 \"/>\n",
       "<polyline clip-path=\"url(#clip510)\" style=\"stroke:#000000; stroke-linecap:round; stroke-linejoin:round; stroke-width:4; stroke-opacity:1; fill:none\" points=\"1247.3,1486.45 1247.3,1467.55 \"/>\n",
       "<polyline clip-path=\"url(#clip510)\" style=\"stroke:#000000; stroke-linecap:round; stroke-linejoin:round; stroke-width:4; stroke-opacity:1; fill:none\" points=\"1768.74,1486.45 1768.74,1467.55 \"/>\n",
       "<polyline clip-path=\"url(#clip510)\" style=\"stroke:#000000; stroke-linecap:round; stroke-linejoin:round; stroke-width:4; stroke-opacity:1; fill:none\" points=\"2290.18,1486.45 2290.18,1467.55 \"/>\n",
       "<path clip-path=\"url(#clip510)\" d=\"M181.81 1517.37 Q178.199 1517.37 176.37 1520.93 Q174.565 1524.47 174.565 1531.6 Q174.565 1538.71 176.37 1542.27 Q178.199 1545.82 181.81 1545.82 Q185.444 1545.82 187.25 1542.27 Q189.079 1538.71 189.079 1531.6 Q189.079 1524.47 187.25 1520.93 Q185.444 1517.37 181.81 1517.37 M181.81 1513.66 Q187.62 1513.66 190.676 1518.27 Q193.754 1522.85 193.754 1531.6 Q193.754 1540.33 190.676 1544.94 Q187.62 1549.52 181.81 1549.52 Q176 1549.52 172.921 1544.94 Q169.866 1540.33 169.866 1531.6 Q169.866 1522.85 172.921 1518.27 Q176 1513.66 181.81 1513.66 Z\" fill=\"#000000\" fill-rule=\"nonzero\" fill-opacity=\"1\" /><path clip-path=\"url(#clip510)\" d=\"M201.972 1542.97 L206.856 1542.97 L206.856 1548.85 L201.972 1548.85 L201.972 1542.97 Z\" fill=\"#000000\" fill-rule=\"nonzero\" fill-opacity=\"1\" /><path clip-path=\"url(#clip510)\" d=\"M227.041 1517.37 Q223.43 1517.37 221.602 1520.93 Q219.796 1524.47 219.796 1531.6 Q219.796 1538.71 221.602 1542.27 Q223.43 1545.82 227.041 1545.82 Q230.676 1545.82 232.481 1542.27 Q234.31 1538.71 234.31 1531.6 Q234.31 1524.47 232.481 1520.93 Q230.676 1517.37 227.041 1517.37 M227.041 1513.66 Q232.851 1513.66 235.907 1518.27 Q238.986 1522.85 238.986 1531.6 Q238.986 1540.33 235.907 1544.94 Q232.851 1549.52 227.041 1549.52 Q221.231 1549.52 218.152 1544.94 Q215.097 1540.33 215.097 1531.6 Q215.097 1522.85 218.152 1518.27 Q221.231 1513.66 227.041 1513.66 Z\" fill=\"#000000\" fill-rule=\"nonzero\" fill-opacity=\"1\" /><path clip-path=\"url(#clip510)\" d=\"M703.747 1517.37 Q700.136 1517.37 698.307 1520.93 Q696.502 1524.47 696.502 1531.6 Q696.502 1538.71 698.307 1542.27 Q700.136 1545.82 703.747 1545.82 Q707.381 1545.82 709.187 1542.27 Q711.016 1538.71 711.016 1531.6 Q711.016 1524.47 709.187 1520.93 Q707.381 1517.37 703.747 1517.37 M703.747 1513.66 Q709.557 1513.66 712.613 1518.27 Q715.691 1522.85 715.691 1531.6 Q715.691 1540.33 712.613 1544.94 Q709.557 1549.52 703.747 1549.52 Q697.937 1549.52 694.858 1544.94 Q691.803 1540.33 691.803 1531.6 Q691.803 1522.85 694.858 1518.27 Q697.937 1513.66 703.747 1513.66 Z\" fill=\"#000000\" fill-rule=\"nonzero\" fill-opacity=\"1\" /><path clip-path=\"url(#clip510)\" d=\"M723.909 1542.97 L728.793 1542.97 L728.793 1548.85 L723.909 1548.85 L723.909 1542.97 Z\" fill=\"#000000\" fill-rule=\"nonzero\" fill-opacity=\"1\" /><path clip-path=\"url(#clip510)\" d=\"M739.025 1514.29 L757.381 1514.29 L757.381 1518.22 L743.307 1518.22 L743.307 1526.7 Q744.326 1526.35 745.344 1526.19 Q746.363 1526 747.381 1526 Q753.168 1526 756.548 1529.17 Q759.927 1532.34 759.927 1537.76 Q759.927 1543.34 756.455 1546.44 Q752.983 1549.52 746.664 1549.52 Q744.488 1549.52 742.219 1549.15 Q739.974 1548.78 737.566 1548.04 L737.566 1543.34 Q739.65 1544.47 741.872 1545.03 Q744.094 1545.58 746.571 1545.58 Q750.576 1545.58 752.914 1543.48 Q755.251 1541.37 755.251 1537.76 Q755.251 1534.15 752.914 1532.04 Q750.576 1529.94 746.571 1529.94 Q744.696 1529.94 742.821 1530.35 Q740.969 1530.77 739.025 1531.65 L739.025 1514.29 Z\" fill=\"#000000\" fill-rule=\"nonzero\" fill-opacity=\"1\" /><path clip-path=\"url(#clip510)\" d=\"M1214.46 1544.91 L1222.1 1544.91 L1222.1 1518.55 L1213.79 1520.21 L1213.79 1515.95 L1222.05 1514.29 L1226.73 1514.29 L1226.73 1544.91 L1234.36 1544.91 L1234.36 1548.85 L1214.46 1548.85 L1214.46 1544.91 Z\" fill=\"#000000\" fill-rule=\"nonzero\" fill-opacity=\"1\" /><path clip-path=\"url(#clip510)\" d=\"M1243.81 1542.97 L1248.69 1542.97 L1248.69 1548.85 L1243.81 1548.85 L1243.81 1542.97 Z\" fill=\"#000000\" fill-rule=\"nonzero\" fill-opacity=\"1\" /><path clip-path=\"url(#clip510)\" d=\"M1268.88 1517.37 Q1265.27 1517.37 1263.44 1520.93 Q1261.63 1524.47 1261.63 1531.6 Q1261.63 1538.71 1263.44 1542.27 Q1265.27 1545.82 1268.88 1545.82 Q1272.51 1545.82 1274.32 1542.27 Q1276.15 1538.71 1276.15 1531.6 Q1276.15 1524.47 1274.32 1520.93 Q1272.51 1517.37 1268.88 1517.37 M1268.88 1513.66 Q1274.69 1513.66 1277.74 1518.27 Q1280.82 1522.85 1280.82 1531.6 Q1280.82 1540.33 1277.74 1544.94 Q1274.69 1549.52 1268.88 1549.52 Q1263.07 1549.52 1259.99 1544.94 Q1256.93 1540.33 1256.93 1531.6 Q1256.93 1522.85 1259.99 1518.27 Q1263.07 1513.66 1268.88 1513.66 Z\" fill=\"#000000\" fill-rule=\"nonzero\" fill-opacity=\"1\" /><path clip-path=\"url(#clip510)\" d=\"M1736.39 1544.91 L1744.03 1544.91 L1744.03 1518.55 L1735.72 1520.21 L1735.72 1515.95 L1743.99 1514.29 L1748.66 1514.29 L1748.66 1544.91 L1756.3 1544.91 L1756.3 1548.85 L1736.39 1548.85 L1736.39 1544.91 Z\" fill=\"#000000\" fill-rule=\"nonzero\" fill-opacity=\"1\" /><path clip-path=\"url(#clip510)\" d=\"M1765.75 1542.97 L1770.63 1542.97 L1770.63 1548.85 L1765.75 1548.85 L1765.75 1542.97 Z\" fill=\"#000000\" fill-rule=\"nonzero\" fill-opacity=\"1\" /><path clip-path=\"url(#clip510)\" d=\"M1780.86 1514.29 L1799.22 1514.29 L1799.22 1518.22 L1785.14 1518.22 L1785.14 1526.7 Q1786.16 1526.35 1787.18 1526.19 Q1788.2 1526 1789.22 1526 Q1795.01 1526 1798.38 1529.17 Q1801.76 1532.34 1801.76 1537.76 Q1801.76 1543.34 1798.29 1546.44 Q1794.82 1549.52 1788.5 1549.52 Q1786.32 1549.52 1784.06 1549.15 Q1781.81 1548.78 1779.4 1548.04 L1779.4 1543.34 Q1781.49 1544.47 1783.71 1545.03 Q1785.93 1545.58 1788.41 1545.58 Q1792.41 1545.58 1794.75 1543.48 Q1797.09 1541.37 1797.09 1537.76 Q1797.09 1534.15 1794.75 1532.04 Q1792.41 1529.94 1788.41 1529.94 Q1786.53 1529.94 1784.66 1530.35 Q1782.81 1530.77 1780.86 1531.65 L1780.86 1514.29 Z\" fill=\"#000000\" fill-rule=\"nonzero\" fill-opacity=\"1\" /><path clip-path=\"url(#clip510)\" d=\"M2261.42 1544.91 L2277.74 1544.91 L2277.74 1548.85 L2255.8 1548.85 L2255.8 1544.91 Q2258.46 1542.16 2263.04 1537.53 Q2267.65 1532.88 2268.83 1531.53 Q2271.07 1529.01 2271.95 1527.27 Q2272.86 1525.51 2272.86 1523.82 Q2272.86 1521.07 2270.91 1519.33 Q2268.99 1517.6 2265.89 1517.6 Q2263.69 1517.6 2261.24 1518.36 Q2258.81 1519.13 2256.03 1520.68 L2256.03 1515.95 Q2258.85 1514.82 2261.31 1514.24 Q2263.76 1513.66 2265.8 1513.66 Q2271.17 1513.66 2274.36 1516.35 Q2277.56 1519.03 2277.56 1523.52 Q2277.56 1525.65 2276.75 1527.57 Q2275.96 1529.47 2273.85 1532.07 Q2273.27 1532.74 2270.17 1535.95 Q2267.07 1539.15 2261.42 1544.91 Z\" fill=\"#000000\" fill-rule=\"nonzero\" fill-opacity=\"1\" /><path clip-path=\"url(#clip510)\" d=\"M2287.56 1542.97 L2292.44 1542.97 L2292.44 1548.85 L2287.56 1548.85 L2287.56 1542.97 Z\" fill=\"#000000\" fill-rule=\"nonzero\" fill-opacity=\"1\" /><path clip-path=\"url(#clip510)\" d=\"M2312.63 1517.37 Q2309.01 1517.37 2307.19 1520.93 Q2305.38 1524.47 2305.38 1531.6 Q2305.38 1538.71 2307.19 1542.27 Q2309.01 1545.82 2312.63 1545.82 Q2316.26 1545.82 2318.06 1542.27 Q2319.89 1538.71 2319.89 1531.6 Q2319.89 1524.47 2318.06 1520.93 Q2316.26 1517.37 2312.63 1517.37 M2312.63 1513.66 Q2318.44 1513.66 2321.49 1518.27 Q2324.57 1522.85 2324.57 1531.6 Q2324.57 1540.33 2321.49 1544.94 Q2318.44 1549.52 2312.63 1549.52 Q2306.82 1549.52 2303.74 1544.94 Q2300.68 1540.33 2300.68 1531.6 Q2300.68 1522.85 2303.74 1518.27 Q2306.82 1513.66 2312.63 1513.66 Z\" fill=\"#000000\" fill-rule=\"nonzero\" fill-opacity=\"1\" /><polyline clip-path=\"url(#clip512)\" style=\"stroke:#000000; stroke-linecap:round; stroke-linejoin:round; stroke-width:2; stroke-opacity:0.1; fill:none\" points=\"141.853,1238.35 2352.76,1238.35 \"/>\n",
       "<polyline clip-path=\"url(#clip512)\" style=\"stroke:#000000; stroke-linecap:round; stroke-linejoin:round; stroke-width:2; stroke-opacity:0.1; fill:none\" points=\"141.853,980.419 2352.76,980.419 \"/>\n",
       "<polyline clip-path=\"url(#clip512)\" style=\"stroke:#000000; stroke-linecap:round; stroke-linejoin:round; stroke-width:2; stroke-opacity:0.1; fill:none\" points=\"141.853,722.492 2352.76,722.492 \"/>\n",
       "<polyline clip-path=\"url(#clip512)\" style=\"stroke:#000000; stroke-linecap:round; stroke-linejoin:round; stroke-width:2; stroke-opacity:0.1; fill:none\" points=\"141.853,464.566 2352.76,464.566 \"/>\n",
       "<polyline clip-path=\"url(#clip512)\" style=\"stroke:#000000; stroke-linecap:round; stroke-linejoin:round; stroke-width:2; stroke-opacity:0.1; fill:none\" points=\"141.853,206.639 2352.76,206.639 \"/>\n",
       "<polyline clip-path=\"url(#clip510)\" style=\"stroke:#000000; stroke-linecap:round; stroke-linejoin:round; stroke-width:4; stroke-opacity:1; fill:none\" points=\"141.853,1486.45 141.853,47.2441 \"/>\n",
       "<polyline clip-path=\"url(#clip510)\" style=\"stroke:#000000; stroke-linecap:round; stroke-linejoin:round; stroke-width:4; stroke-opacity:1; fill:none\" points=\"141.853,1238.35 160.751,1238.35 \"/>\n",
       "<polyline clip-path=\"url(#clip510)\" style=\"stroke:#000000; stroke-linecap:round; stroke-linejoin:round; stroke-width:4; stroke-opacity:1; fill:none\" points=\"141.853,980.419 160.751,980.419 \"/>\n",
       "<polyline clip-path=\"url(#clip510)\" style=\"stroke:#000000; stroke-linecap:round; stroke-linejoin:round; stroke-width:4; stroke-opacity:1; fill:none\" points=\"141.853,722.492 160.751,722.492 \"/>\n",
       "<polyline clip-path=\"url(#clip510)\" style=\"stroke:#000000; stroke-linecap:round; stroke-linejoin:round; stroke-width:4; stroke-opacity:1; fill:none\" points=\"141.853,464.566 160.751,464.566 \"/>\n",
       "<polyline clip-path=\"url(#clip510)\" style=\"stroke:#000000; stroke-linecap:round; stroke-linejoin:round; stroke-width:4; stroke-opacity:1; fill:none\" points=\"141.853,206.639 160.751,206.639 \"/>\n",
       "<path clip-path=\"url(#clip510)\" d=\"M54.5569 1251.69 L62.1958 1251.69 L62.1958 1225.33 L53.8856 1226.99 L53.8856 1222.73 L62.1495 1221.07 L66.8254 1221.07 L66.8254 1251.69 L74.4642 1251.69 L74.4642 1255.63 L54.5569 1255.63 L54.5569 1251.69 Z\" fill=\"#000000\" fill-rule=\"nonzero\" fill-opacity=\"1\" /><path clip-path=\"url(#clip510)\" d=\"M93.9086 1224.14 Q90.2975 1224.14 88.4688 1227.71 Q86.6632 1231.25 86.6632 1238.38 Q86.6632 1245.49 88.4688 1249.05 Q90.2975 1252.59 93.9086 1252.59 Q97.5428 1252.59 99.3483 1249.05 Q101.177 1245.49 101.177 1238.38 Q101.177 1231.25 99.3483 1227.71 Q97.5428 1224.14 93.9086 1224.14 M93.9086 1220.44 Q99.7187 1220.44 102.774 1225.05 Q105.853 1229.63 105.853 1238.38 Q105.853 1247.11 102.774 1251.71 Q99.7187 1256.3 93.9086 1256.3 Q88.0984 1256.3 85.0197 1251.71 Q81.9642 1247.11 81.9642 1238.38 Q81.9642 1229.63 85.0197 1225.05 Q88.0984 1220.44 93.9086 1220.44 Z\" fill=\"#000000\" fill-rule=\"nonzero\" fill-opacity=\"1\" /><path clip-path=\"url(#clip510)\" d=\"M57.7745 993.764 L74.0939 993.764 L74.0939 997.699 L52.1495 997.699 L52.1495 993.764 Q54.8115 991.009 59.3949 986.38 Q64.0013 981.727 65.1819 980.385 Q67.4272 977.861 68.3068 976.125 Q69.2096 974.366 69.2096 972.676 Q69.2096 969.922 67.2652 968.186 Q65.3439 966.449 62.2421 966.449 Q60.043 966.449 57.5893 967.213 Q55.1588 967.977 52.381 969.528 L52.381 964.806 Q55.2051 963.672 57.6588 963.093 Q60.1124 962.514 62.1495 962.514 Q67.5198 962.514 70.7142 965.199 Q73.9087 967.885 73.9087 972.375 Q73.9087 974.505 73.0985 976.426 Q72.3115 978.324 70.205 980.917 Q69.6263 981.588 66.5245 984.806 Q63.4226 988 57.7745 993.764 Z\" fill=\"#000000\" fill-rule=\"nonzero\" fill-opacity=\"1\" /><path clip-path=\"url(#clip510)\" d=\"M93.9086 966.218 Q90.2975 966.218 88.4688 969.783 Q86.6632 973.324 86.6632 980.454 Q86.6632 987.56 88.4688 991.125 Q90.2975 994.667 93.9086 994.667 Q97.5428 994.667 99.3483 991.125 Q101.177 987.56 101.177 980.454 Q101.177 973.324 99.3483 969.783 Q97.5428 966.218 93.9086 966.218 M93.9086 962.514 Q99.7187 962.514 102.774 967.121 Q105.853 971.704 105.853 980.454 Q105.853 989.181 102.774 993.787 Q99.7187 998.371 93.9086 998.371 Q88.0984 998.371 85.0197 993.787 Q81.9642 989.181 81.9642 980.454 Q81.9642 971.704 85.0197 967.121 Q88.0984 962.514 93.9086 962.514 Z\" fill=\"#000000\" fill-rule=\"nonzero\" fill-opacity=\"1\" /><path clip-path=\"url(#clip510)\" d=\"M67.9133 721.138 Q71.2698 721.856 73.1448 724.124 Q75.0429 726.393 75.0429 729.726 Q75.0429 734.842 71.5244 737.643 Q68.0059 740.444 61.5245 740.444 Q59.3486 740.444 57.0338 740.004 Q54.7421 739.587 52.2884 738.731 L52.2884 734.217 Q54.2328 735.351 56.5477 735.93 Q58.8625 736.509 61.3856 736.509 Q65.7837 736.509 68.0754 734.772 Q70.3902 733.036 70.3902 729.726 Q70.3902 726.671 68.2374 724.958 Q66.1078 723.222 62.2884 723.222 L58.2606 723.222 L58.2606 719.379 L62.4735 719.379 Q65.9226 719.379 67.7513 718.013 Q69.58 716.624 69.58 714.032 Q69.58 711.37 67.6819 709.958 Q65.8069 708.523 62.2884 708.523 Q60.3671 708.523 58.168 708.939 Q55.969 709.356 53.3301 710.236 L53.3301 706.069 Q55.9921 705.328 58.3069 704.958 Q60.6449 704.587 62.705 704.587 Q68.0291 704.587 71.1309 707.018 Q74.2327 709.425 74.2327 713.546 Q74.2327 716.416 72.5892 718.407 Q70.9457 720.374 67.9133 721.138 Z\" fill=\"#000000\" fill-rule=\"nonzero\" fill-opacity=\"1\" /><path clip-path=\"url(#clip510)\" d=\"M93.9086 708.291 Q90.2975 708.291 88.4688 711.856 Q86.6632 715.398 86.6632 722.527 Q86.6632 729.634 88.4688 733.198 Q90.2975 736.74 93.9086 736.74 Q97.5428 736.74 99.3483 733.198 Q101.177 729.634 101.177 722.527 Q101.177 715.398 99.3483 711.856 Q97.5428 708.291 93.9086 708.291 M93.9086 704.587 Q99.7187 704.587 102.774 709.194 Q105.853 713.777 105.853 722.527 Q105.853 731.254 102.774 735.86 Q99.7187 740.444 93.9086 740.444 Q88.0984 740.444 85.0197 735.86 Q81.9642 731.254 81.9642 722.527 Q81.9642 713.777 85.0197 709.194 Q88.0984 704.587 93.9086 704.587 Z\" fill=\"#000000\" fill-rule=\"nonzero\" fill-opacity=\"1\" /><path clip-path=\"url(#clip510)\" d=\"M66.5939 451.36 L54.7884 469.809 L66.5939 469.809 L66.5939 451.36 M65.367 447.286 L71.2466 447.286 L71.2466 469.809 L76.1772 469.809 L76.1772 473.698 L71.2466 473.698 L71.2466 481.846 L66.5939 481.846 L66.5939 473.698 L50.9921 473.698 L50.9921 469.184 L65.367 447.286 Z\" fill=\"#000000\" fill-rule=\"nonzero\" fill-opacity=\"1\" /><path clip-path=\"url(#clip510)\" d=\"M93.9086 450.364 Q90.2975 450.364 88.4688 453.929 Q86.6632 457.471 86.6632 464.6 Q86.6632 471.707 88.4688 475.272 Q90.2975 478.813 93.9086 478.813 Q97.5428 478.813 99.3483 475.272 Q101.177 471.707 101.177 464.6 Q101.177 457.471 99.3483 453.929 Q97.5428 450.364 93.9086 450.364 M93.9086 446.661 Q99.7187 446.661 102.774 451.267 Q105.853 455.85 105.853 464.6 Q105.853 473.327 102.774 477.934 Q99.7187 482.517 93.9086 482.517 Q88.0984 482.517 85.0197 477.934 Q81.9642 473.327 81.9642 464.6 Q81.9642 455.85 85.0197 451.267 Q88.0984 446.661 93.9086 446.661 Z\" fill=\"#000000\" fill-rule=\"nonzero\" fill-opacity=\"1\" /><path clip-path=\"url(#clip510)\" d=\"M53.793 189.359 L72.1494 189.359 L72.1494 193.294 L58.0754 193.294 L58.0754 201.766 Q59.0939 201.419 60.1124 201.257 Q61.131 201.072 62.1495 201.072 Q67.9365 201.072 71.3161 204.243 Q74.6957 207.414 74.6957 212.831 Q74.6957 218.41 71.2235 221.511 Q67.7513 224.59 61.4319 224.59 Q59.256 224.59 56.9875 224.22 Q54.7421 223.849 52.3347 223.109 L52.3347 218.41 Q54.418 219.544 56.6402 220.099 Q58.8625 220.655 61.3393 220.655 Q65.3439 220.655 67.6819 218.548 Q70.0198 216.442 70.0198 212.831 Q70.0198 209.22 67.6819 207.113 Q65.3439 205.007 61.3393 205.007 Q59.4643 205.007 57.5893 205.424 Q55.7375 205.84 53.793 206.72 L53.793 189.359 Z\" fill=\"#000000\" fill-rule=\"nonzero\" fill-opacity=\"1\" /><path clip-path=\"url(#clip510)\" d=\"M93.9086 192.438 Q90.2975 192.438 88.4688 196.002 Q86.6632 199.544 86.6632 206.674 Q86.6632 213.78 88.4688 217.345 Q90.2975 220.886 93.9086 220.886 Q97.5428 220.886 99.3483 217.345 Q101.177 213.78 101.177 206.674 Q101.177 199.544 99.3483 196.002 Q97.5428 192.438 93.9086 192.438 M93.9086 188.734 Q99.7187 188.734 102.774 193.34 Q105.853 197.924 105.853 206.674 Q105.853 215.4 102.774 220.007 Q99.7187 224.59 93.9086 224.59 Q88.0984 224.59 85.0197 220.007 Q81.9642 215.4 81.9642 206.674 Q81.9642 197.924 85.0197 193.34 Q88.0984 188.734 93.9086 188.734 Z\" fill=\"#000000\" fill-rule=\"nonzero\" fill-opacity=\"1\" /><polyline clip-path=\"url(#clip512)\" style=\"stroke:#009af9; stroke-linecap:round; stroke-linejoin:round; stroke-width:4; stroke-opacity:1; fill:none\" points=\"204.426,1444.69 206.514,1444.74 208.601,1444.79 210.689,1444.84 212.777,1444.88 214.865,1444.93 216.953,1444.97 219.041,1445.02 221.128,1445.06 223.216,1445.1 225.304,1445.14 227.392,1445.18 229.48,1445.21 231.568,1445.25 233.656,1445.28 235.743,1445.31 237.831,1445.34 239.919,1445.37 242.007,1445.4 244.095,1445.43 246.183,1445.46 248.27,1445.48 250.358,1445.5 252.446,1445.53 254.534,1445.55 256.622,1445.57 258.71,1445.59 260.797,1445.6 262.885,1445.62 264.973,1445.63 267.061,1445.65 269.149,1445.66 271.237,1445.67 273.325,1445.68 275.412,1445.69 277.5,1445.7 279.588,1445.7 281.676,1445.71 283.764,1445.71 285.852,1445.71 287.939,1445.72 290.027,1445.72 292.115,1445.71 294.203,1445.71 296.291,1445.71 298.379,1445.7 300.467,1445.7 302.554,1445.69 304.642,1445.68 306.73,1445.67 308.818,1445.66 310.906,1445.65 312.994,1445.64 315.081,1445.62 317.169,1445.61 319.257,1445.59 321.345,1445.57 323.433,1445.55 325.521,1445.53 327.609,1445.51 329.696,1445.49 331.784,1445.46 333.872,1445.44 335.96,1445.41 338.048,1445.39 340.136,1445.36 342.223,1445.33 344.311,1445.3 346.399,1445.26 348.487,1445.23 350.575,1445.2 352.663,1445.16 354.751,1445.12 356.838,1445.09 358.926,1445.05 361.014,1445.01 363.102,1444.97 365.19,1444.92 367.278,1444.88 369.365,1444.84 371.453,1444.79 373.541,1444.74 375.629,1444.69 377.717,1444.64 379.805,1444.59 381.893,1444.54 383.98,1444.49 386.068,1444.44 388.156,1444.38 390.244,1444.32 392.332,1444.27 394.42,1444.21 396.507,1444.15 398.595,1444.09 400.683,1444.03 402.771,1443.96 404.859,1443.9 406.947,1443.83 409.035,1443.77 411.122,1443.7 413.21,1443.63 415.298,1443.56 417.386,1443.49 419.474,1443.42 421.562,1443.35 423.649,1443.27 425.737,1443.2 427.825,1443.12 429.913,1443.04 432.001,1442.96 434.089,1442.88 436.177,1442.8 438.264,1442.72 440.352,1442.64 442.44,1442.55 444.528,1442.47 446.616,1442.38 448.704,1442.29 450.791,1442.21 452.879,1442.12 454.967,1442.02 457.055,1441.93 459.143,1441.84 461.231,1441.74 463.318,1441.65 465.406,1441.55 467.494,1441.45 469.582,1441.36 471.67,1441.26 473.758,1441.15 475.846,1441.05 477.933,1440.95 480.021,1440.84 482.109,1440.74 484.197,1440.63 486.285,1440.52 488.373,1440.41 490.46,1440.3 492.548,1440.19 494.636,1440.08 496.724,1439.97 498.812,1439.85 500.9,1439.74 502.988,1439.62 505.075,1439.5 507.163,1439.38 509.251,1439.26 511.339,1439.14 513.427,1439.02 515.515,1438.9 517.602,1438.77 519.69,1438.64 521.778,1438.52 523.866,1438.39 525.954,1438.26 528.042,1438.13 530.13,1438 532.217,1437.86 534.305,1437.73 536.393,1437.6 538.481,1437.46 540.569,1437.32 542.657,1437.18 544.744,1437.04 546.832,1436.9 548.92,1436.76 551.008,1436.62 553.096,1436.47 555.184,1436.33 557.272,1436.18 559.359,1436.04 561.447,1435.89 563.535,1435.74 565.623,1435.59 567.711,1435.43 569.799,1435.28 571.886,1435.13 573.974,1434.97 576.062,1434.81 578.15,1434.65 580.238,1434.5 582.326,1434.34 584.414,1434.17 586.501,1434.01 588.589,1433.85 590.677,1433.68 592.765,1433.52 594.853,1433.35 596.941,1433.18 599.028,1433.01 601.116,1432.84 603.204,1432.67 605.292,1432.49 607.38,1432.32 609.468,1432.14 611.556,1431.97 613.643,1431.79 615.731,1431.61 617.819,1431.43 619.907,1431.25 621.995,1431.06 624.083,1430.88 626.17,1430.7 628.258,1430.51 630.346,1430.32 632.434,1430.13 634.522,1429.94 636.61,1429.75 638.698,1429.56 640.785,1429.37 642.873,1429.17 644.961,1428.97 647.049,1428.78 649.137,1428.58 651.225,1428.38 653.312,1428.18 655.4,1427.98 657.488,1427.77 659.576,1427.57 661.664,1427.36 663.752,1427.15 665.839,1426.95 667.927,1426.74 670.015,1426.52 672.103,1426.31 674.191,1426.1 676.279,1425.88 678.367,1425.67 680.454,1425.45 682.542,1425.23 684.63,1425.01 686.718,1424.79 688.806,1424.57 690.894,1424.34 692.981,1424.12 695.069,1423.89 697.157,1423.67 699.245,1423.44 701.333,1423.21 703.421,1422.98 705.509,1422.74 707.596,1422.51 709.684,1422.27 711.772,1422.04 713.86,1421.8 715.948,1421.56 718.036,1421.32 720.123,1421.08 722.211,1420.83 724.299,1420.59 726.387,1420.34 728.475,1420.1 730.563,1419.85 732.651,1419.6 734.738,1419.35 736.826,1419.1 738.914,1418.84 741.002,1418.59 743.09,1418.33 745.178,1418.07 747.265,1417.81 749.353,1417.55 751.441,1417.29 753.529,1417.03 755.617,1416.76 757.705,1416.5 759.793,1416.23 761.88,1415.96 763.968,1415.69 766.056,1415.42 768.144,1415.14 770.232,1414.87 772.32,1414.59 774.407,1414.32 776.495,1414.04 778.583,1413.76 780.671,1413.48 782.759,1413.19 784.847,1412.91 786.935,1412.62 789.022,1412.33 791.11,1412.05 793.198,1411.76 795.286,1411.46 797.374,1411.17 799.462,1410.88 801.549,1410.58 803.637,1410.28 805.725,1409.98 807.813,1409.68 809.901,1409.38 811.989,1409.08 814.077,1408.77 816.164,1408.47 818.252,1408.16 820.34,1407.85 822.428,1407.54 824.516,1407.23 826.604,1406.91 828.691,1406.6 830.779,1406.28 832.867,1405.96 834.955,1405.64 837.043,1405.32 839.131,1405 841.219,1404.67 843.306,1404.35 845.394,1404.02 847.482,1403.69 849.57,1403.36 851.658,1403.02 853.746,1402.69 855.833,1402.36 857.921,1402.02 860.009,1401.68 862.097,1401.34 864.185,1401 866.273,1400.65 868.36,1400.31 870.448,1399.96 872.536,1399.61 874.624,1399.26 876.712,1398.91 878.8,1398.56 880.888,1398.2 882.975,1397.85 885.063,1397.49 887.151,1397.13 889.239,1396.77 891.327,1396.4 893.415,1396.04 895.502,1395.67 897.59,1395.3 899.678,1394.93 901.766,1394.56 903.854,1394.19 905.942,1393.81 908.03,1393.44 910.117,1393.06 912.205,1392.68 914.293,1392.3 916.381,1391.91 918.469,1391.53 920.557,1391.14 922.644,1390.75 924.732,1390.36 926.82,1389.97 928.908,1389.57 930.996,1389.18 933.084,1388.78 935.172,1388.38 937.259,1387.98 939.347,1387.58 941.435,1387.17 943.523,1386.76 945.611,1386.36 947.699,1385.94 949.786,1385.53 951.874,1385.12 953.962,1384.7 956.05,1384.28 958.138,1383.87 960.226,1383.44 962.314,1383.02 964.401,1382.6 966.489,1382.17 968.577,1381.74 970.665,1381.31 972.753,1380.88 974.841,1380.44 976.928,1380 979.016,1379.57 981.104,1379.13 983.192,1378.68 985.28,1378.24 987.368,1377.79 989.456,1377.34 991.543,1376.89 993.631,1376.44 995.719,1375.99 997.807,1375.53 999.895,1375.07 1001.98,1374.61 1004.07,1374.15 1006.16,1373.69 1008.25,1373.22 1010.33,1372.75 1012.42,1372.28 1014.51,1371.81 1016.6,1371.34 1018.69,1370.86 1020.77,1370.38 1022.86,1369.9 1024.95,1369.42 1027.04,1368.93 1029.12,1368.45 1031.21,1367.96 1033.3,1367.47 1035.39,1366.97 1037.48,1366.48 1039.56,1365.98 1041.65,1365.48 1043.74,1364.98 1045.83,1364.48 1047.92,1363.97 1050,1363.46 1052.09,1362.95 1054.18,1362.44 1056.27,1361.93 1058.35,1361.41 1060.44,1360.89 1062.53,1360.37 1064.62,1359.85 1066.71,1359.32 1068.79,1358.79 1070.88,1358.26 1072.97,1357.73 1075.06,1357.2 1077.15,1356.66 1079.23,1356.12 1081.32,1355.58 1083.41,1355.03 1085.5,1354.49 1087.58,1353.94 1089.67,1353.39 1091.76,1352.84 1093.85,1352.28 1095.94,1351.72 1098.02,1351.16 1100.11,1350.6 1102.2,1350.04 1104.29,1349.47 1106.37,1348.9 1108.46,1348.33 1110.55,1347.75 1112.64,1347.18 1114.73,1346.6 1116.81,1346.01 1118.9,1345.43 1120.99,1344.84 1123.08,1344.25 1125.17,1343.66 1127.25,1343.07 1129.34,1342.47 1131.43,1341.87 1133.52,1341.27 1135.6,1340.67 1137.69,1340.06 1139.78,1339.45 1141.87,1338.84 1143.96,1338.23 1146.04,1337.61 1148.13,1336.99 1150.22,1336.37 1152.31,1335.74 1154.4,1335.12 1156.48,1334.49 1158.57,1333.85 1160.66,1333.22 1162.75,1332.58 1164.83,1331.94 1166.92,1331.3 1169.01,1330.65 1171.1,1330 1173.19,1329.35 1175.27,1328.7 1177.36,1328.04 1179.45,1327.38 1181.54,1326.72 1183.63,1326.06 1185.71,1325.39 1187.8,1324.72 1189.89,1324.05 1191.98,1323.37 1194.06,1322.69 1196.15,1322.01 1198.24,1321.33 1200.33,1320.64 1202.42,1319.95 1204.5,1319.26 1206.59,1318.56 1208.68,1317.86 1210.77,1317.16 1212.85,1316.46 1214.94,1315.75 1217.03,1315.04 1219.12,1314.33 1221.21,1313.61 1223.29,1312.89 1225.38,1312.17 1227.47,1311.44 1229.56,1310.72 1231.65,1309.98 1233.73,1309.25 1235.82,1308.51 1237.91,1307.77 1240,1307.03 1242.08,1306.28 1244.17,1305.53 1246.26,1304.78 1248.35,1304.03 1250.44,1303.27 1252.52,1302.51 1254.61,1301.74 1256.7,1300.97 1258.79,1300.2 1260.88,1299.43 1262.96,1298.65 1265.05,1297.87 1267.14,1297.09 1269.23,1296.3 1271.31,1295.51 1273.4,1294.72 1275.49,1293.92 1277.58,1293.12 1279.67,1292.32 1281.75,1291.51 1283.84,1290.7 1285.93,1289.89 1288.02,1289.07 1290.11,1288.25 1292.19,1287.43 1294.28,1286.6 1296.37,1285.77 1298.46,1284.94 1300.54,1284.1 1302.63,1283.26 1304.72,1282.42 1306.81,1281.57 1308.9,1280.72 1310.98,1279.86 1313.07,1279.01 1315.16,1278.15 1317.25,1277.28 1319.34,1276.41 1321.42,1275.54 1323.51,1274.67 1325.6,1273.79 1327.69,1272.91 1329.77,1272.02 1331.86,1271.13 1333.95,1270.24 1336.04,1269.34 1338.13,1268.44 1340.21,1267.54 1342.3,1266.63 1344.39,1265.72 1346.48,1264.8 1348.56,1263.88 1350.65,1262.96 1352.74,1262.03 1354.83,1261.1 1356.92,1260.17 1359,1259.23 1361.09,1258.29 1363.18,1257.34 1365.27,1256.39 1367.36,1255.44 1369.44,1254.48 1371.53,1253.52 1373.62,1252.56 1375.71,1251.59 1377.79,1250.62 1379.88,1249.64 1381.97,1248.66 1384.06,1247.67 1386.15,1246.68 1388.23,1245.69 1390.32,1244.69 1392.41,1243.69 1394.5,1242.69 1396.59,1241.68 1398.67,1240.67 1400.76,1239.65 1402.85,1238.63 1404.94,1237.6 1407.02,1236.57 1409.11,1235.54 1411.2,1234.5 1413.29,1233.46 1415.38,1232.41 1417.46,1231.36 1419.55,1230.31 1421.64,1229.25 1423.73,1228.18 1425.82,1227.12 1427.9,1226.04 1429.99,1224.97 1432.08,1223.89 1434.17,1222.8 1436.25,1221.71 1438.34,1220.62 1440.43,1219.52 1442.52,1218.42 1444.61,1217.31 1446.69,1216.2 1448.78,1215.08 1450.87,1213.96 1452.96,1212.83 1455.05,1211.7 1457.13,1210.57 1459.22,1209.43 1461.31,1208.29 1463.4,1207.14 1465.48,1205.98 1467.57,1204.83 1469.66,1203.66 1471.75,1202.5 1473.84,1201.33 1475.92,1200.15 1478.01,1198.97 1480.1,1197.78 1482.19,1196.59 1484.27,1195.39 1486.36,1194.19 1488.45,1192.99 1490.54,1191.78 1492.63,1190.56 1494.71,1189.34 1496.8,1188.12 1498.89,1186.89 1500.98,1185.65 1503.07,1184.41 1505.15,1183.17 1507.24,1181.92 1509.33,1180.66 1511.42,1179.4 1513.5,1178.14 1515.59,1176.87 1517.68,1175.59 1519.77,1174.31 1521.86,1173.02 1523.94,1171.73 1526.03,1170.44 1528.12,1169.14 1530.21,1167.83 1532.3,1166.52 1534.38,1165.2 1536.47,1163.88 1538.56,1162.55 1540.65,1161.22 1542.73,1159.88 1544.82,1158.53 1546.91,1157.18 1549,1155.83 1551.09,1154.47 1553.17,1153.1 1555.26,1151.73 1557.35,1150.35 1559.44,1148.97 1561.53,1147.58 1563.61,1146.19 1565.7,1144.79 1567.79,1143.38 1569.88,1141.97 1571.96,1140.56 1574.05,1139.13 1576.14,1137.71 1578.23,1136.27 1580.32,1134.83 1582.4,1133.39 1584.49,1131.94 1586.58,1130.48 1588.67,1129.02 1590.75,1127.55 1592.84,1126.07 1594.93,1124.59 1597.02,1123.11 1599.11,1121.62 1601.19,1120.12 1603.28,1118.61 1605.37,1117.1 1607.46,1115.59 1609.55,1114.06 1611.63,1112.53 1613.72,1111 1615.81,1109.46 1617.9,1107.91 1619.98,1106.36 1622.07,1104.8 1624.16,1103.23 1626.25,1101.66 1628.34,1100.08 1630.42,1098.49 1632.51,1096.9 1634.6,1095.3 1636.69,1093.7 1638.78,1092.09 1640.86,1090.47 1642.95,1088.85 1645.04,1087.22 1647.13,1085.58 1649.21,1083.94 1651.3,1082.29 1653.39,1080.63 1655.48,1078.96 1657.57,1077.29 1659.65,1075.62 1661.74,1073.93 1663.83,1072.24 1665.92,1070.55 1668.01,1068.84 1670.09,1067.13 1672.18,1065.41 1674.27,1063.69 1676.36,1061.96 1678.44,1060.22 1680.53,1058.47 1682.62,1056.72 1684.71,1054.96 1686.8,1053.19 1688.88,1051.42 1690.97,1049.64 1693.06,1047.85 1695.15,1046.05 1697.24,1044.25 1699.32,1042.44 1701.41,1040.62 1703.5,1038.8 1705.59,1036.97 1707.67,1035.13 1709.76,1033.28 1711.85,1031.43 1713.94,1029.56 1716.03,1027.7 1718.11,1025.82 1720.2,1023.93 1722.29,1022.04 1724.38,1020.14 1726.46,1018.24 1728.55,1016.32 1730.64,1014.4 1732.73,1012.47 1734.82,1010.53 1736.9,1008.59 1738.99,1006.63 1741.08,1004.67 1743.17,1002.7 1745.26,1000.72 1747.34,998.74 1749.43,996.747 1751.52,994.746 1753.61,992.736 1755.69,990.719 1757.78,988.694 1759.87,986.66 1761.96,984.619 1764.05,982.569 1766.13,980.511 1768.22,978.445 1770.31,976.37 1772.4,974.287 1774.49,972.195 1776.57,970.096 1778.66,967.987 1780.75,965.871 1782.84,963.745 1784.92,961.612 1787.01,959.469 1789.1,957.318 1791.19,955.159 1793.28,952.991 1795.36,950.814 1797.45,948.628 1799.54,946.433 1801.63,944.23 1803.72,942.018 1805.8,939.797 1807.89,937.567 1809.98,935.328 1812.07,933.08 1814.15,930.823 1816.24,928.556 1818.33,926.281 1820.42,923.997 1822.51,921.703 1824.59,919.401 1826.68,917.089 1828.77,914.767 1830.86,912.437 1832.95,910.097 1835.03,907.747 1837.12,905.389 1839.21,903.02 1841.3,900.643 1843.38,898.255 1845.47,895.858 1847.56,893.452 1849.65,891.035 1851.74,888.609 1853.82,886.174 1855.91,883.728 1858,881.273 1860.09,878.808 1862.17,876.333 1864.26,873.848 1866.35,871.353 1868.44,868.848 1870.53,866.332 1872.61,863.807 1874.7,861.272 1876.79,858.726 1878.88,856.171 1880.97,853.605 1883.05,851.028 1885.14,848.442 1887.23,845.845 1889.32,843.237 1891.4,840.619 1893.49,837.991 1895.58,835.352 1897.67,832.702 1899.76,830.042 1901.84,827.371 1903.93,824.689 1906.02,821.996 1908.11,819.293 1910.2,816.579 1912.28,813.854 1914.37,811.118 1916.46,808.371 1918.55,805.613 1920.63,802.844 1922.72,800.064 1924.81,797.272 1926.9,794.47 1928.99,791.656 1931.07,788.831 1933.16,785.994 1935.25,783.146 1937.34,780.287 1939.43,777.416 1941.51,774.534 1943.6,771.64 1945.69,768.735 1947.78,765.817 1949.86,762.889 1951.95,759.948 1954.04,756.995 1956.13,754.031 1958.22,751.055 1960.3,748.067 1962.39,745.066 1964.48,742.054 1966.57,739.03 1968.65,735.993 1970.74,732.945 1972.83,729.884 1974.92,726.811 1977.01,723.725 1979.09,720.627 1981.18,717.517 1983.27,714.394 1985.36,711.259 1987.45,708.111 1989.53,704.95 1991.62,701.777 1993.71,698.591 1995.8,695.392 1997.88,692.18 1999.97,688.956 2002.06,685.718 2004.15,682.468 2006.24,679.204 2008.32,675.928 2010.41,672.638 2012.5,669.335 2014.59,666.018 2016.68,662.689 2018.76,659.346 2020.85,655.99 2022.94,652.62 2025.03,649.236 2027.11,645.839 2029.2,642.429 2031.29,639.004 2033.38,635.566 2035.47,632.115 2037.55,628.649 2039.64,625.169 2041.73,621.676 2043.82,618.168 2045.91,614.646 2047.99,611.111 2050.08,607.561 2052.17,603.996 2054.26,600.418 2056.34,596.825 2058.43,593.217 2060.52,589.596 2062.61,585.959 2064.7,582.308 2066.78,578.643 2068.87,574.962 2070.96,571.267 2073.05,567.557 2075.14,563.832 2077.22,560.093 2079.31,556.338 2081.4,552.568 2083.49,548.783 2085.57,544.983 2087.66,541.167 2089.75,537.336 2091.84,533.49 2093.93,529.629 2096.01,525.752 2098.1,521.859 2100.19,517.951 2102.28,514.027 2104.36,510.087 2106.45,506.132 2108.54,502.16 2110.63,498.173 2112.72,494.169 2114.8,490.15 2116.89,486.115 2118.98,482.063 2121.07,477.995 2123.16,473.91 2125.24,469.81 2127.33,465.693 2129.42,461.559 2131.51,457.409 2133.59,453.242 2135.68,449.058 2137.77,444.858 2139.86,440.64 2141.95,436.406 2144.03,432.155 2146.12,427.886 2148.21,423.601 2150.3,419.298 2152.39,414.978 2154.47,410.641 2156.56,406.287 2158.65,401.914 2160.74,397.525 2162.82,393.117 2164.91,388.693 2167,384.25 2169.09,379.789 2171.18,375.311 2173.26,370.814 2175.35,366.3 2177.44,361.767 2179.53,357.216 2181.62,352.647 2183.7,348.06 2185.79,343.454 2187.88,338.83 2189.97,334.187 2192.05,329.526 2194.14,324.845 2196.23,320.147 2198.32,315.429 2200.41,310.692 2202.49,305.936 2204.58,301.161 2206.67,296.367 2208.76,291.554 2210.85,286.722 2212.93,281.87 2215.02,276.998 2217.11,272.107 2219.2,267.197 2221.28,262.266 2223.37,257.316 2225.46,252.346 2227.55,247.356 2229.64,242.346 2231.72,237.316 2233.81,232.266 2235.9,227.196 2237.99,222.105 2240.07,216.994 2242.16,211.862 2244.25,206.709 2246.34,201.536 2248.43,196.343 2250.51,191.128 2252.6,185.892 2254.69,180.636 2256.78,175.358 2258.87,170.059 2260.95,164.739 2263.04,159.398 2265.13,154.035 2267.22,148.65 2269.3,143.244 2271.39,137.817 2273.48,132.367 2275.57,126.896 2277.66,121.403 2279.74,115.887 2281.83,110.35 2283.92,104.79 2286.01,99.2079 2288.1,93.6035 2290.18,87.9766 \"/>\n",
       "<polyline clip-path=\"url(#clip512)\" style=\"stroke:#e26f46; stroke-linecap:round; stroke-linejoin:round; stroke-width:4; stroke-opacity:1; fill:none\" points=\"204.426,1444.69 206.514,1444.74 208.601,1444.79 210.689,1444.84 212.777,1444.88 214.865,1444.93 216.953,1444.97 219.041,1445.02 221.128,1445.06 223.216,1445.1 225.304,1445.14 227.392,1445.18 229.48,1445.21 231.568,1445.25 233.656,1445.28 235.743,1445.31 237.831,1445.34 239.919,1445.37 242.007,1445.4 244.095,1445.43 246.183,1445.46 248.27,1445.48 250.358,1445.5 252.446,1445.53 254.534,1445.55 256.622,1445.57 258.71,1445.59 260.797,1445.6 262.885,1445.62 264.973,1445.63 267.061,1445.65 269.149,1445.66 271.237,1445.67 273.325,1445.68 275.412,1445.69 277.5,1445.7 279.588,1445.7 281.676,1445.71 283.764,1445.71 285.852,1445.71 287.939,1445.72 290.027,1445.72 292.115,1445.71 294.203,1445.71 296.291,1445.71 298.379,1445.7 300.467,1445.7 302.554,1445.69 304.642,1445.68 306.73,1445.67 308.818,1445.66 310.906,1445.65 312.994,1445.64 315.081,1445.62 317.169,1445.61 319.257,1445.59 321.345,1445.57 323.433,1445.55 325.521,1445.53 327.609,1445.51 329.696,1445.49 331.784,1445.46 333.872,1445.44 335.96,1445.41 338.048,1445.39 340.136,1445.36 342.223,1445.33 344.311,1445.3 346.399,1445.26 348.487,1445.23 350.575,1445.2 352.663,1445.16 354.751,1445.12 356.838,1445.09 358.926,1445.05 361.014,1445.01 363.102,1444.97 365.19,1444.92 367.278,1444.88 369.365,1444.84 371.453,1444.79 373.541,1444.74 375.629,1444.69 377.717,1444.64 379.805,1444.59 381.893,1444.54 383.98,1444.49 386.068,1444.44 388.156,1444.38 390.244,1444.32 392.332,1444.27 394.42,1444.21 396.507,1444.15 398.595,1444.09 400.683,1444.03 402.771,1443.96 404.859,1443.9 406.947,1443.83 409.035,1443.77 411.122,1443.7 413.21,1443.63 415.298,1443.56 417.386,1443.49 419.474,1443.42 421.562,1443.35 423.649,1443.27 425.737,1443.2 427.825,1443.12 429.913,1443.04 432.001,1442.96 434.089,1442.88 436.177,1442.8 438.264,1442.72 440.352,1442.64 442.44,1442.55 444.528,1442.47 446.616,1442.38 448.704,1442.29 450.791,1442.21 452.879,1442.12 454.967,1442.02 457.055,1441.93 459.143,1441.84 461.231,1441.74 463.318,1441.65 465.406,1441.55 467.494,1441.45 469.582,1441.36 471.67,1441.26 473.758,1441.15 475.846,1441.05 477.933,1440.95 480.021,1440.84 482.109,1440.74 484.197,1440.63 486.285,1440.52 488.373,1440.41 490.46,1440.3 492.548,1440.19 494.636,1440.08 496.724,1439.97 498.812,1439.85 500.9,1439.74 502.988,1439.62 505.075,1439.5 507.163,1439.38 509.251,1439.26 511.339,1439.14 513.427,1439.02 515.515,1438.9 517.602,1438.77 519.69,1438.64 521.778,1438.52 523.866,1438.39 525.954,1438.26 528.042,1438.13 530.13,1438 532.217,1437.86 534.305,1437.73 536.393,1437.6 538.481,1437.46 540.569,1437.32 542.657,1437.18 544.744,1437.04 546.832,1436.9 548.92,1436.76 551.008,1436.62 553.096,1436.47 555.184,1436.33 557.272,1436.18 559.359,1436.04 561.447,1435.89 563.535,1435.74 565.623,1435.59 567.711,1435.43 569.799,1435.28 571.886,1435.13 573.974,1434.97 576.062,1434.81 578.15,1434.65 580.238,1434.5 582.326,1434.34 584.414,1434.17 586.501,1434.01 588.589,1433.85 590.677,1433.68 592.765,1433.52 594.853,1433.35 596.941,1433.18 599.028,1433.01 601.116,1432.84 603.204,1432.67 605.292,1432.49 607.38,1432.32 609.468,1432.14 611.556,1431.97 613.643,1431.79 615.731,1431.61 617.819,1431.43 619.907,1431.25 621.995,1431.06 624.083,1430.88 626.17,1430.7 628.258,1430.51 630.346,1430.32 632.434,1430.13 634.522,1429.94 636.61,1429.75 638.698,1429.56 640.785,1429.37 642.873,1429.17 644.961,1428.97 647.049,1428.78 649.137,1428.58 651.225,1428.38 653.312,1428.18 655.4,1427.98 657.488,1427.77 659.576,1427.57 661.664,1427.36 663.752,1427.15 665.839,1426.94 667.927,1426.74 670.015,1426.52 672.103,1426.31 674.191,1426.1 676.279,1425.88 678.367,1425.67 680.454,1425.45 682.542,1425.23 684.63,1425.01 686.718,1424.79 688.806,1424.57 690.894,1424.34 692.981,1424.12 695.069,1423.89 697.157,1423.67 699.245,1423.44 701.333,1423.21 703.421,1422.98 705.509,1422.74 707.596,1422.51 709.684,1422.27 711.772,1422.04 713.86,1421.8 715.948,1421.56 718.036,1421.32 720.123,1421.08 722.211,1420.83 724.299,1420.59 726.387,1420.34 728.475,1420.1 730.563,1419.85 732.651,1419.6 734.738,1419.35 736.826,1419.1 738.914,1418.84 741.002,1418.59 743.09,1418.33 745.178,1418.07 747.265,1417.81 749.353,1417.55 751.441,1417.29 753.529,1417.03 755.617,1416.76 757.705,1416.5 759.793,1416.23 761.88,1415.96 763.968,1415.69 766.056,1415.42 768.144,1415.14 770.232,1414.87 772.32,1414.59 774.407,1414.32 776.495,1414.04 778.583,1413.76 780.671,1413.48 782.759,1413.19 784.847,1412.91 786.935,1412.62 789.022,1412.33 791.11,1412.05 793.198,1411.76 795.286,1411.46 797.374,1411.17 799.462,1410.88 801.549,1410.58 803.637,1410.28 805.725,1409.98 807.813,1409.68 809.901,1409.38 811.989,1409.08 814.077,1408.77 816.164,1408.47 818.252,1408.16 820.34,1407.85 822.428,1407.54 824.516,1407.23 826.604,1406.91 828.691,1406.6 830.779,1406.28 832.867,1405.96 834.955,1405.64 837.043,1405.32 839.131,1405 841.219,1404.67 843.306,1404.35 845.394,1404.02 847.482,1403.69 849.57,1403.36 851.658,1403.02 853.746,1402.69 855.833,1402.36 857.921,1402.02 860.009,1401.68 862.097,1401.34 864.185,1401 866.273,1400.65 868.36,1400.31 870.448,1399.96 872.536,1399.61 874.624,1399.26 876.712,1398.91 878.8,1398.56 880.888,1398.2 882.975,1397.85 885.063,1397.49 887.151,1397.13 889.239,1396.77 891.327,1396.4 893.415,1396.04 895.502,1395.67 897.59,1395.3 899.678,1394.93 901.766,1394.56 903.854,1394.19 905.942,1393.81 908.03,1393.44 910.117,1393.06 912.205,1392.68 914.293,1392.3 916.381,1391.91 918.469,1391.53 920.557,1391.14 922.644,1390.75 924.732,1390.36 926.82,1389.97 928.908,1389.57 930.996,1389.18 933.084,1388.78 935.172,1388.38 937.259,1387.98 939.347,1387.58 941.435,1387.17 943.523,1386.76 945.611,1386.36 947.699,1385.94 949.786,1385.53 951.874,1385.12 953.962,1384.7 956.05,1384.28 958.138,1383.87 960.226,1383.44 962.314,1383.02 964.401,1382.6 966.489,1382.17 968.577,1381.74 970.665,1381.31 972.753,1380.88 974.841,1380.44 976.928,1380 979.016,1379.57 981.104,1379.12 983.192,1378.68 985.28,1378.24 987.368,1377.79 989.456,1377.34 991.543,1376.89 993.631,1376.44 995.719,1375.99 997.807,1375.53 999.895,1375.07 1001.98,1374.61 1004.07,1374.15 1006.16,1373.69 1008.25,1373.22 1010.33,1372.75 1012.42,1372.28 1014.51,1371.81 1016.6,1371.34 1018.69,1370.86 1020.77,1370.38 1022.86,1369.9 1024.95,1369.42 1027.04,1368.93 1029.12,1368.45 1031.21,1367.96 1033.3,1367.47 1035.39,1366.97 1037.48,1366.48 1039.56,1365.98 1041.65,1365.48 1043.74,1364.98 1045.83,1364.48 1047.92,1363.97 1050,1363.46 1052.09,1362.95 1054.18,1362.44 1056.27,1361.93 1058.35,1361.41 1060.44,1360.89 1062.53,1360.37 1064.62,1359.85 1066.71,1359.32 1068.79,1358.79 1070.88,1358.26 1072.97,1357.73 1075.06,1357.2 1077.15,1356.66 1079.23,1356.12 1081.32,1355.58 1083.41,1355.03 1085.5,1354.49 1087.58,1353.94 1089.67,1353.39 1091.76,1352.84 1093.85,1352.28 1095.94,1351.72 1098.02,1351.16 1100.11,1350.6 1102.2,1350.04 1104.29,1349.47 1106.37,1348.9 1108.46,1348.33 1110.55,1347.75 1112.64,1347.18 1114.73,1346.6 1116.81,1346.01 1118.9,1345.43 1120.99,1344.84 1123.08,1344.25 1125.17,1343.66 1127.25,1343.07 1129.34,1342.47 1131.43,1341.87 1133.52,1341.27 1135.6,1340.67 1137.69,1340.06 1139.78,1339.45 1141.87,1338.84 1143.96,1338.23 1146.04,1337.61 1148.13,1336.99 1150.22,1336.37 1152.31,1335.74 1154.4,1335.12 1156.48,1334.49 1158.57,1333.85 1160.66,1333.22 1162.75,1332.58 1164.83,1331.94 1166.92,1331.3 1169.01,1330.65 1171.1,1330 1173.19,1329.35 1175.27,1328.7 1177.36,1328.04 1179.45,1327.38 1181.54,1326.72 1183.63,1326.06 1185.71,1325.39 1187.8,1324.72 1189.89,1324.05 1191.98,1323.37 1194.06,1322.69 1196.15,1322.01 1198.24,1321.33 1200.33,1320.64 1202.42,1319.95 1204.5,1319.26 1206.59,1318.56 1208.68,1317.86 1210.77,1317.16 1212.85,1316.46 1214.94,1315.75 1217.03,1315.04 1219.12,1314.33 1221.21,1313.61 1223.29,1312.89 1225.38,1312.17 1227.47,1311.44 1229.56,1310.72 1231.65,1309.98 1233.73,1309.25 1235.82,1308.51 1237.91,1307.77 1240,1307.03 1242.08,1306.28 1244.17,1305.53 1246.26,1304.78 1248.35,1304.03 1250.44,1303.27 1252.52,1302.51 1254.61,1301.74 1256.7,1300.97 1258.79,1300.2 1260.88,1299.43 1262.96,1298.65 1265.05,1297.87 1267.14,1297.09 1269.23,1296.3 1271.31,1295.51 1273.4,1294.72 1275.49,1293.92 1277.58,1293.12 1279.67,1292.32 1281.75,1291.51 1283.84,1290.7 1285.93,1289.89 1288.02,1289.07 1290.11,1288.25 1292.19,1287.43 1294.28,1286.6 1296.37,1285.77 1298.46,1284.94 1300.54,1284.1 1302.63,1283.26 1304.72,1282.42 1306.81,1281.57 1308.9,1280.72 1310.98,1279.86 1313.07,1279.01 1315.16,1278.15 1317.25,1277.28 1319.34,1276.41 1321.42,1275.54 1323.51,1274.67 1325.6,1273.79 1327.69,1272.91 1329.77,1272.02 1331.86,1271.13 1333.95,1270.24 1336.04,1269.34 1338.13,1268.44 1340.21,1267.54 1342.3,1266.63 1344.39,1265.72 1346.48,1264.8 1348.56,1263.88 1350.65,1262.96 1352.74,1262.03 1354.83,1261.1 1356.92,1260.17 1359,1259.23 1361.09,1258.29 1363.18,1257.34 1365.27,1256.39 1367.36,1255.44 1369.44,1254.48 1371.53,1253.52 1373.62,1252.56 1375.71,1251.59 1377.79,1250.62 1379.88,1249.64 1381.97,1248.66 1384.06,1247.67 1386.15,1246.68 1388.23,1245.69 1390.32,1244.69 1392.41,1243.69 1394.5,1242.69 1396.59,1241.68 1398.67,1240.67 1400.76,1239.65 1402.85,1238.63 1404.94,1237.6 1407.02,1236.57 1409.11,1235.54 1411.2,1234.5 1413.29,1233.46 1415.38,1232.41 1417.46,1231.36 1419.55,1230.31 1421.64,1229.25 1423.73,1228.18 1425.82,1227.12 1427.9,1226.04 1429.99,1224.97 1432.08,1223.89 1434.17,1222.8 1436.25,1221.71 1438.34,1220.62 1440.43,1219.52 1442.52,1218.42 1444.61,1217.31 1446.69,1216.2 1448.78,1215.08 1450.87,1213.96 1452.96,1212.83 1455.05,1211.7 1457.13,1210.57 1459.22,1209.43 1461.31,1208.29 1463.4,1207.14 1465.48,1205.98 1467.57,1204.83 1469.66,1203.66 1471.75,1202.5 1473.84,1201.33 1475.92,1200.15 1478.01,1198.97 1480.1,1197.78 1482.19,1196.59 1484.27,1195.39 1486.36,1194.19 1488.45,1192.99 1490.54,1191.78 1492.63,1190.56 1494.71,1189.34 1496.8,1188.12 1498.89,1186.89 1500.98,1185.65 1503.07,1184.41 1505.15,1183.17 1507.24,1181.92 1509.33,1180.66 1511.42,1179.4 1513.5,1178.14 1515.59,1176.87 1517.68,1175.59 1519.77,1174.31 1521.86,1173.02 1523.94,1171.73 1526.03,1170.44 1528.12,1169.14 1530.21,1167.83 1532.3,1166.52 1534.38,1165.2 1536.47,1163.88 1538.56,1162.55 1540.65,1161.22 1542.73,1159.88 1544.82,1158.53 1546.91,1157.18 1549,1155.83 1551.09,1154.47 1553.17,1153.1 1555.26,1151.73 1557.35,1150.35 1559.44,1148.97 1561.53,1147.58 1563.61,1146.19 1565.7,1144.79 1567.79,1143.38 1569.88,1141.97 1571.96,1140.56 1574.05,1139.13 1576.14,1137.71 1578.23,1136.27 1580.32,1134.83 1582.4,1133.39 1584.49,1131.94 1586.58,1130.48 1588.67,1129.02 1590.75,1127.55 1592.84,1126.07 1594.93,1124.59 1597.02,1123.11 1599.11,1121.62 1601.19,1120.12 1603.28,1118.61 1605.37,1117.1 1607.46,1115.59 1609.55,1114.06 1611.63,1112.53 1613.72,1111 1615.81,1109.46 1617.9,1107.91 1619.98,1106.36 1622.07,1104.8 1624.16,1103.23 1626.25,1101.66 1628.34,1100.08 1630.42,1098.49 1632.51,1096.9 1634.6,1095.3 1636.69,1093.7 1638.78,1092.09 1640.86,1090.47 1642.95,1088.85 1645.04,1087.22 1647.13,1085.58 1649.21,1083.94 1651.3,1082.29 1653.39,1080.63 1655.48,1078.96 1657.57,1077.29 1659.65,1075.62 1661.74,1073.93 1663.83,1072.24 1665.92,1070.55 1668.01,1068.84 1670.09,1067.13 1672.18,1065.41 1674.27,1063.69 1676.36,1061.96 1678.44,1060.22 1680.53,1058.47 1682.62,1056.72 1684.71,1054.96 1686.8,1053.19 1688.88,1051.42 1690.97,1049.64 1693.06,1047.85 1695.15,1046.05 1697.24,1044.25 1699.32,1042.44 1701.41,1040.62 1703.5,1038.8 1705.59,1036.97 1707.67,1035.13 1709.76,1033.28 1711.85,1031.43 1713.94,1029.56 1716.03,1027.7 1718.11,1025.82 1720.2,1023.93 1722.29,1022.04 1724.38,1020.14 1726.46,1018.24 1728.55,1016.32 1730.64,1014.4 1732.73,1012.47 1734.82,1010.53 1736.9,1008.59 1738.99,1006.63 1741.08,1004.67 1743.17,1002.7 1745.26,1000.72 1747.34,998.74 1749.43,996.747 1751.52,994.745 1753.61,992.736 1755.69,990.719 1757.78,988.694 1759.87,986.66 1761.96,984.619 1764.05,982.569 1766.13,980.511 1768.22,978.444 1770.31,976.37 1772.4,974.287 1774.49,972.195 1776.57,970.096 1778.66,967.987 1780.75,965.871 1782.84,963.745 1784.92,961.612 1787.01,959.469 1789.1,957.318 1791.19,955.159 1793.28,952.99 1795.36,950.813 1797.45,948.628 1799.54,946.433 1801.63,944.23 1803.72,942.018 1805.8,939.796 1807.89,937.566 1809.98,935.327 1812.07,933.079 1814.15,930.822 1816.24,928.556 1818.33,926.281 1820.42,923.997 1822.51,921.703 1824.59,919.401 1826.68,917.089 1828.77,914.767 1830.86,912.437 1832.95,910.097 1835.03,907.747 1837.12,905.389 1839.21,903.02 1841.3,900.642 1843.38,898.255 1845.47,895.858 1847.56,893.452 1849.65,891.035 1851.74,888.609 1853.82,886.174 1855.91,883.728 1858,881.273 1860.09,878.808 1862.17,876.333 1864.26,873.848 1866.35,871.352 1868.44,868.847 1870.53,866.332 1872.61,863.807 1874.7,861.272 1876.79,858.726 1878.88,856.171 1880.97,853.604 1883.05,851.028 1885.14,848.441 1887.23,845.844 1889.32,843.237 1891.4,840.619 1893.49,837.99 1895.58,835.351 1897.67,832.702 1899.76,830.041 1901.84,827.37 1903.93,824.689 1906.02,821.996 1908.11,819.293 1910.2,816.579 1912.28,813.854 1914.37,811.118 1916.46,808.371 1918.55,805.613 1920.63,802.844 1922.72,800.064 1924.81,797.272 1926.9,794.47 1928.99,791.656 1931.07,788.831 1933.16,785.994 1935.25,783.146 1937.34,780.287 1939.43,777.416 1941.51,774.534 1943.6,771.64 1945.69,768.734 1947.78,765.817 1949.86,762.888 1951.95,759.948 1954.04,756.995 1956.13,754.031 1958.22,751.055 1960.3,748.066 1962.39,745.066 1964.48,742.054 1966.57,739.03 1968.65,735.993 1970.74,732.945 1972.83,729.884 1974.92,726.811 1977.01,723.725 1979.09,720.627 1981.18,717.517 1983.27,714.394 1985.36,711.259 1987.45,708.111 1989.53,704.95 1991.62,701.777 1993.71,698.591 1995.8,695.392 1997.88,692.18 1999.97,688.956 2002.06,685.718 2004.15,682.468 2006.24,679.204 2008.32,675.927 2010.41,672.638 2012.5,669.335 2014.59,666.018 2016.68,662.689 2018.76,659.346 2020.85,655.989 2022.94,652.619 2025.03,649.236 2027.11,645.839 2029.2,642.429 2031.29,639.004 2033.38,635.566 2035.47,632.114 2037.55,628.649 2039.64,625.169 2041.73,621.675 2043.82,618.168 2045.91,614.646 2047.99,611.11 2050.08,607.56 2052.17,603.996 2054.26,600.417 2056.34,596.825 2058.43,593.217 2060.52,589.595 2062.61,585.959 2064.7,582.308 2066.78,578.642 2068.87,574.962 2070.96,571.267 2073.05,567.557 2075.14,563.832 2077.22,560.092 2079.31,556.337 2081.4,552.568 2083.49,548.783 2085.57,544.982 2087.66,541.167 2089.75,537.336 2091.84,533.49 2093.93,529.628 2096.01,525.751 2098.1,521.859 2100.19,517.95 2102.28,514.027 2104.36,510.087 2106.45,506.131 2108.54,502.16 2110.63,498.173 2112.72,494.169 2114.8,490.15 2116.89,486.114 2118.98,482.063 2121.07,477.995 2123.16,473.91 2125.24,469.81 2127.33,465.692 2129.42,461.559 2131.51,457.408 2133.59,453.241 2135.68,449.058 2137.77,444.857 2139.86,440.64 2141.95,436.406 2144.03,432.154 2146.12,427.886 2148.21,423.601 2150.3,419.298 2152.39,414.978 2154.47,410.641 2156.56,406.286 2158.65,401.914 2160.74,397.525 2162.82,393.117 2164.91,388.692 2167,384.25 2169.09,379.789 2171.18,375.311 2173.26,370.814 2175.35,366.3 2177.44,361.767 2179.53,357.216 2181.62,352.647 2183.7,348.06 2185.79,343.454 2187.88,338.83 2189.97,334.187 2192.05,329.525 2194.14,324.845 2196.23,320.146 2198.32,315.428 2200.41,310.692 2202.49,305.936 2204.58,301.161 2206.67,296.367 2208.76,291.554 2210.85,286.721 2212.93,281.869 2215.02,276.998 2217.11,272.107 2219.2,267.196 2221.28,262.266 2223.37,257.316 2225.46,252.346 2227.55,247.356 2229.64,242.346 2231.72,237.316 2233.81,232.266 2235.9,227.195 2237.99,222.105 2240.07,216.993 2242.16,211.861 2244.25,206.709 2246.34,201.536 2248.43,196.342 2250.51,191.128 2252.6,185.892 2254.69,180.636 2256.78,175.358 2258.87,170.059 2260.95,164.739 2263.04,159.397 2265.13,154.035 2267.22,148.65 2269.3,143.244 2271.39,137.816 2273.48,132.367 2275.57,126.896 2277.66,121.402 2279.74,115.887 2281.83,110.349 2283.92,104.79 2286.01,99.2076 2288.1,93.6032 2290.18,87.9763 \"/>\n",
       "<path clip-path=\"url(#clip510)\" d=\"M215.55 250.738 L535.829 250.738 L535.829 95.2176 L215.55 95.2176  Z\" fill=\"#ffffff\" fill-rule=\"evenodd\" fill-opacity=\"1\"/>\n",
       "<polyline clip-path=\"url(#clip510)\" style=\"stroke:#000000; stroke-linecap:round; stroke-linejoin:round; stroke-width:4; stroke-opacity:1; fill:none\" points=\"215.55,250.738 535.829,250.738 535.829,95.2176 215.55,95.2176 215.55,250.738 \"/>\n",
       "<polyline clip-path=\"url(#clip510)\" style=\"stroke:#009af9; stroke-linecap:round; stroke-linejoin:round; stroke-width:4; stroke-opacity:1; fill:none\" points=\"240.115,147.058 387.509,147.058 \"/>\n",
       "<path clip-path=\"url(#clip510)\" d=\"M416.357 160.449 L416.357 174.199 L412.074 174.199 L412.074 138.412 L416.357 138.412 L416.357 142.347 Q417.699 140.032 419.736 138.921 Q421.797 137.787 424.644 137.787 Q429.366 137.787 432.306 141.537 Q435.269 145.287 435.269 151.398 Q435.269 157.509 432.306 161.259 Q429.366 165.009 424.644 165.009 Q421.797 165.009 419.736 163.898 Q417.699 162.763 416.357 160.449 M430.847 151.398 Q430.847 146.699 428.903 144.037 Q426.982 141.352 423.602 141.352 Q420.223 141.352 418.278 144.037 Q416.357 146.699 416.357 151.398 Q416.357 156.097 418.278 158.782 Q420.223 161.444 423.602 161.444 Q426.982 161.444 428.903 158.782 Q430.847 156.097 430.847 151.398 Z\" fill=\"#000000\" fill-rule=\"nonzero\" fill-opacity=\"1\" /><path clip-path=\"url(#clip510)\" d=\"M457.352 142.393 Q456.634 141.977 455.778 141.791 Q454.945 141.583 453.926 141.583 Q450.315 141.583 448.371 143.944 Q446.449 146.282 446.449 150.68 L446.449 164.338 L442.167 164.338 L442.167 138.412 L446.449 138.412 L446.449 142.44 Q447.792 140.078 449.945 138.944 Q452.097 137.787 455.176 137.787 Q455.616 137.787 456.148 137.856 Q456.681 137.903 457.329 138.018 L457.352 142.393 Z\" fill=\"#000000\" fill-rule=\"nonzero\" fill-opacity=\"1\" /><path clip-path=\"url(#clip510)\" d=\"M482.954 150.31 L482.954 152.393 L463.37 152.393 Q463.648 156.791 466.009 159.106 Q468.394 161.398 472.63 161.398 Q475.083 161.398 477.375 160.796 Q479.69 160.194 481.958 158.99 L481.958 163.018 Q479.667 163.99 477.259 164.5 Q474.852 165.009 472.375 165.009 Q466.171 165.009 462.537 161.398 Q458.926 157.787 458.926 151.629 Q458.926 145.264 462.352 141.537 Q465.801 137.787 471.634 137.787 Q476.866 137.787 479.898 141.166 Q482.954 144.523 482.954 150.31 M478.694 149.06 Q478.648 145.565 476.727 143.481 Q474.829 141.398 471.681 141.398 Q468.116 141.398 465.963 143.412 Q463.833 145.426 463.509 149.083 L478.694 149.06 Z\" fill=\"#000000\" fill-rule=\"nonzero\" fill-opacity=\"1\" /><path clip-path=\"url(#clip510)\" d=\"M507.004 142.347 L507.004 128.319 L511.264 128.319 L511.264 164.338 L507.004 164.338 L507.004 160.449 Q505.662 162.763 503.602 163.898 Q501.565 165.009 498.694 165.009 Q493.995 165.009 491.032 161.259 Q488.093 157.509 488.093 151.398 Q488.093 145.287 491.032 141.537 Q493.995 137.787 498.694 137.787 Q501.565 137.787 503.602 138.921 Q505.662 140.032 507.004 142.347 M492.491 151.398 Q492.491 156.097 494.412 158.782 Q496.356 161.444 499.736 161.444 Q503.116 161.444 505.06 158.782 Q507.004 156.097 507.004 151.398 Q507.004 146.699 505.06 144.037 Q503.116 141.352 499.736 141.352 Q496.356 141.352 494.412 144.037 Q492.491 146.699 492.491 151.398 Z\" fill=\"#000000\" fill-rule=\"nonzero\" fill-opacity=\"1\" /><polyline clip-path=\"url(#clip510)\" style=\"stroke:#e26f46; stroke-linecap:round; stroke-linejoin:round; stroke-width:4; stroke-opacity:1; fill:none\" points=\"240.115,198.898 387.509,198.898 \"/>\n",
       "<path clip-path=\"url(#clip510)\" d=\"M419.482 182.891 L419.482 190.252 L428.255 190.252 L428.255 193.562 L419.482 193.562 L419.482 207.636 Q419.482 210.807 420.338 211.71 Q421.218 212.613 423.88 212.613 L428.255 212.613 L428.255 216.178 L423.88 216.178 Q418.949 216.178 417.074 214.349 Q415.199 212.497 415.199 207.636 L415.199 193.562 L412.074 193.562 L412.074 190.252 L415.199 190.252 L415.199 182.891 L419.482 182.891 Z\" fill=\"#000000\" fill-rule=\"nonzero\" fill-opacity=\"1\" /><path clip-path=\"url(#clip510)\" d=\"M448.88 194.233 Q448.162 193.817 447.306 193.631 Q446.472 193.423 445.454 193.423 Q441.843 193.423 439.898 195.784 Q437.977 198.122 437.977 202.52 L437.977 216.178 L433.695 216.178 L433.695 190.252 L437.977 190.252 L437.977 194.28 Q439.32 191.918 441.472 190.784 Q443.625 189.627 446.704 189.627 Q447.144 189.627 447.676 189.696 Q448.208 189.743 448.857 189.858 L448.88 194.233 Z\" fill=\"#000000\" fill-rule=\"nonzero\" fill-opacity=\"1\" /><path clip-path=\"url(#clip510)\" d=\"M452.908 205.946 L452.908 190.252 L457.167 190.252 L457.167 205.784 Q457.167 209.465 458.602 211.316 Q460.037 213.145 462.907 213.145 Q466.357 213.145 468.347 210.946 Q470.361 208.747 470.361 204.951 L470.361 190.252 L474.62 190.252 L474.62 216.178 L470.361 216.178 L470.361 212.196 Q468.81 214.557 466.75 215.715 Q464.713 216.849 462.005 216.849 Q457.537 216.849 455.222 214.071 Q452.908 211.293 452.908 205.946 M463.625 189.627 L463.625 189.627 Z\" fill=\"#000000\" fill-rule=\"nonzero\" fill-opacity=\"1\" /><path clip-path=\"url(#clip510)\" d=\"M505.569 202.15 L505.569 204.233 L485.986 204.233 Q486.264 208.631 488.625 210.946 Q491.009 213.238 495.245 213.238 Q497.699 213.238 499.991 212.636 Q502.305 212.034 504.574 210.83 L504.574 214.858 Q502.282 215.83 499.875 216.34 Q497.467 216.849 494.991 216.849 Q488.787 216.849 485.153 213.238 Q481.542 209.627 481.542 203.469 Q481.542 197.104 484.968 193.377 Q488.417 189.627 494.25 189.627 Q499.481 189.627 502.514 193.006 Q505.569 196.363 505.569 202.15 M501.31 200.9 Q501.264 197.405 499.342 195.321 Q497.444 193.238 494.296 193.238 Q490.731 193.238 488.579 195.252 Q486.449 197.266 486.125 200.923 L501.31 200.9 Z\" fill=\"#000000\" fill-rule=\"nonzero\" fill-opacity=\"1\" /></svg>\n"
      ]
     },
     "metadata": {},
     "output_type": "display_data"
    }
   ],
   "source": [
    "xs = reshape(range(0, 2, length=1000), 1, :)\n",
    "u_pred = pinn.phi(xs, res.u)\n",
    "u_true = @. exp(2xs)+exp(-3xs)\n",
    "\n",
    "using Plots\n",
    "plot(vec(xs),vec(u_pred), label=\"pred\")\n",
    "plot!(vec(xs),vec(u_true), label=\"true\")"
   ]
  },
  {
   "attachments": {},
   "cell_type": "markdown",
   "metadata": {},
   "source": [
    "## Train with Adam"
   ]
  },
  {
   "cell_type": "code",
   "execution_count": 11,
   "metadata": {},
   "outputs": [
    {
     "name": "stdout",
     "output_type": "stream",
     "text": [
      "Loss: 274.9356664761556\n"
     ]
    },
    {
     "name": "stdout",
     "output_type": "stream",
     "text": [
      "Loss: 136.74736236060127\n"
     ]
    },
    {
     "name": "stdout",
     "output_type": "stream",
     "text": [
      "Loss: 40.02691774060246\n"
     ]
    },
    {
     "name": "stdout",
     "output_type": "stream",
     "text": [
      "Loss: 36.63321050704549\n",
      "Loss: 35.92008800568417\n",
      "Loss: 35.85143513652593\n"
     ]
    },
    {
     "name": "stdout",
     "output_type": "stream",
     "text": [
      "Loss: 35.751234917827034\n"
     ]
    },
    {
     "name": "stdout",
     "output_type": "stream",
     "text": [
      "Loss: 35.190345288369606\n"
     ]
    },
    {
     "name": "stdout",
     "output_type": "stream",
     "text": [
      "Loss: 35.04115542155697\n"
     ]
    },
    {
     "name": "stdout",
     "output_type": "stream",
     "text": [
      "Loss: 34.81114256736047\n",
      "Loss: 34.55072265153837\n"
     ]
    },
    {
     "name": "stdout",
     "output_type": "stream",
     "text": [
      "Loss: 34.32358193477478\n"
     ]
    },
    {
     "name": "stdout",
     "output_type": "stream",
     "text": [
      "Loss: 34.2065465384599\n",
      "Loss: 34.117948567613844\n"
     ]
    },
    {
     "name": "stdout",
     "output_type": "stream",
     "text": [
      "Loss: 33.96523920223961\n"
     ]
    },
    {
     "name": "stdout",
     "output_type": "stream",
     "text": [
      "Loss: 33.84767758389604\n",
      "Loss: 33.78966721652485\n"
     ]
    },
    {
     "name": "stdout",
     "output_type": "stream",
     "text": [
      "Loss: 33.556690252469636\n"
     ]
    },
    {
     "name": "stdout",
     "output_type": "stream",
     "text": [
      "Loss: 33.411070300731666\n"
     ]
    },
    {
     "name": "stdout",
     "output_type": "stream",
     "text": [
      "Loss: 33.231070880746984\n"
     ]
    },
    {
     "name": "stdout",
     "output_type": "stream",
     "text": [
      "Loss: 33.078157082028625\n"
     ]
    },
    {
     "name": "stdout",
     "output_type": "stream",
     "text": [
      "Loss: 32.89564510499817\n"
     ]
    },
    {
     "name": "stdout",
     "output_type": "stream",
     "text": [
      "Loss: 32.30737428418995\n"
     ]
    },
    {
     "name": "stdout",
     "output_type": "stream",
     "text": [
      "Loss: 32.25036747279231\n"
     ]
    },
    {
     "name": "stdout",
     "output_type": "stream",
     "text": [
      "Loss: 32.05048842890855\n"
     ]
    },
    {
     "name": "stdout",
     "output_type": "stream",
     "text": [
      "Loss: 31.76783907784439\n"
     ]
    },
    {
     "name": "stdout",
     "output_type": "stream",
     "text": [
      "Loss: 31.619599073966935\n",
      "Loss: 31.59174031152083\n"
     ]
    },
    {
     "name": "stdout",
     "output_type": "stream",
     "text": [
      "Loss: 31.466054141269222\n"
     ]
    },
    {
     "name": "stdout",
     "output_type": "stream",
     "text": [
      "Loss: 31.2182516313685\n"
     ]
    },
    {
     "name": "stdout",
     "output_type": "stream",
     "text": [
      "Loss: 31.10657233387434\n"
     ]
    },
    {
     "name": "stdout",
     "output_type": "stream",
     "text": [
      "Loss: 30.985010630002144\n"
     ]
    },
    {
     "name": "stdout",
     "output_type": "stream",
     "text": [
      "Loss: 30.878198543814246\n"
     ]
    },
    {
     "name": "stdout",
     "output_type": "stream",
     "text": [
      "Loss: 30.637418188258753\n"
     ]
    },
    {
     "name": "stdout",
     "output_type": "stream",
     "text": [
      "Loss: 30.551415882266785\n"
     ]
    },
    {
     "name": "stdout",
     "output_type": "stream",
     "text": [
      "Loss: 30.337400732495272\n"
     ]
    },
    {
     "name": "stdout",
     "output_type": "stream",
     "text": [
      "Loss: 30.107092620879058\n"
     ]
    },
    {
     "name": "stdout",
     "output_type": "stream",
     "text": [
      "Loss: 29.918325282297296\n"
     ]
    },
    {
     "name": "stdout",
     "output_type": "stream",
     "text": [
      "Loss: 29.75738106190981\n"
     ]
    },
    {
     "name": "stdout",
     "output_type": "stream",
     "text": [
      "Loss: 29.638018733335834\n"
     ]
    },
    {
     "name": "stdout",
     "output_type": "stream",
     "text": [
      "Loss: 29.516128265760397\n"
     ]
    },
    {
     "name": "stdout",
     "output_type": "stream",
     "text": [
      "Loss: 29.464885108025335\n",
      "Loss: 29.377888720255243\n"
     ]
    },
    {
     "name": "stdout",
     "output_type": "stream",
     "text": [
      "Loss: 29.206703208364043\n"
     ]
    },
    {
     "name": "stdout",
     "output_type": "stream",
     "text": [
      "Loss: 29.02528752316463\n"
     ]
    },
    {
     "name": "stdout",
     "output_type": "stream",
     "text": [
      "Loss: 28.973730795193774\n"
     ]
    },
    {
     "name": "stdout",
     "output_type": "stream",
     "text": [
      "Loss: 28.818825298837613\n"
     ]
    },
    {
     "name": "stdout",
     "output_type": "stream",
     "text": [
      "Loss: 28.531984624485663\n"
     ]
    },
    {
     "name": "stdout",
     "output_type": "stream",
     "text": [
      "Loss: 28.438057518970908\n",
      "Loss: 28.31307820796966\n"
     ]
    },
    {
     "name": "stdout",
     "output_type": "stream",
     "text": [
      "Loss: 28.26604518814387\n"
     ]
    },
    {
     "name": "stdout",
     "output_type": "stream",
     "text": [
      "Loss: 28.12915021162963\n"
     ]
    },
    {
     "name": "stdout",
     "output_type": "stream",
     "text": [
      "Loss: 27.945461520817503\n"
     ]
    },
    {
     "name": "stdout",
     "output_type": "stream",
     "text": [
      "Loss: 27.44852004239294\n"
     ]
    },
    {
     "name": "stdout",
     "output_type": "stream",
     "text": [
      "Loss: 27.391718470223335\n"
     ]
    },
    {
     "name": "stdout",
     "output_type": "stream",
     "text": [
      "Loss: 27.311090274509397\n"
     ]
    },
    {
     "name": "stdout",
     "output_type": "stream",
     "text": [
      "Loss: 27.221925503704895\n"
     ]
    },
    {
     "name": "stdout",
     "output_type": "stream",
     "text": [
      "Loss: 27.02165478372587\n"
     ]
    },
    {
     "name": "stdout",
     "output_type": "stream",
     "text": [
      "Loss: 26.732694088286966\n"
     ]
    },
    {
     "name": "stdout",
     "output_type": "stream",
     "text": [
      "Loss: 26.676296804509036\n"
     ]
    },
    {
     "name": "stdout",
     "output_type": "stream",
     "text": [
      "Loss: 26.536119169813997\n"
     ]
    },
    {
     "name": "stdout",
     "output_type": "stream",
     "text": [
      "Loss: 26.309864077500542\n"
     ]
    },
    {
     "name": "stdout",
     "output_type": "stream",
     "text": [
      "Loss: 26.12925718872211\n"
     ]
    },
    {
     "name": "stdout",
     "output_type": "stream",
     "text": [
      "Loss: 25.996181958154445\n"
     ]
    },
    {
     "name": "stdout",
     "output_type": "stream",
     "text": [
      "Loss: 25.76779313288351\n"
     ]
    },
    {
     "name": "stdout",
     "output_type": "stream",
     "text": [
      "Loss: 25.65616970339453\n"
     ]
    },
    {
     "name": "stdout",
     "output_type": "stream",
     "text": [
      "Loss: 25.510951466313355\n"
     ]
    },
    {
     "name": "stdout",
     "output_type": "stream",
     "text": [
      "Loss: 25.232605687642533\n"
     ]
    },
    {
     "name": "stdout",
     "output_type": "stream",
     "text": [
      "Loss: 25.074973258955385\n"
     ]
    },
    {
     "name": "stdout",
     "output_type": "stream",
     "text": [
      "Loss: 24.926089189773784\n"
     ]
    },
    {
     "name": "stdout",
     "output_type": "stream",
     "text": [
      "Loss: 24.518160225532426\n"
     ]
    },
    {
     "name": "stdout",
     "output_type": "stream",
     "text": [
      "Loss: 23.38832720346196\n"
     ]
    },
    {
     "name": "stdout",
     "output_type": "stream",
     "text": [
      "Loss: 23.06510109642538\n"
     ]
    },
    {
     "name": "stdout",
     "output_type": "stream",
     "text": [
      "Loss: 22.378119367205027\n"
     ]
    },
    {
     "name": "stdout",
     "output_type": "stream",
     "text": [
      "Loss: 22.15342077155918\n"
     ]
    },
    {
     "name": "stdout",
     "output_type": "stream",
     "text": [
      "Loss: 21.66403818464936\n"
     ]
    },
    {
     "name": "stdout",
     "output_type": "stream",
     "text": [
      "Loss: 21.445852190548226\n"
     ]
    },
    {
     "name": "stdout",
     "output_type": "stream",
     "text": [
      "Loss: 21.134966588180674\n"
     ]
    },
    {
     "name": "stdout",
     "output_type": "stream",
     "text": [
      "Loss: 21.00073737631404\n"
     ]
    },
    {
     "name": "stdout",
     "output_type": "stream",
     "text": [
      "Loss: 20.806800130394084\n"
     ]
    },
    {
     "name": "stdout",
     "output_type": "stream",
     "text": [
      "Loss: 20.60476757474543\n"
     ]
    },
    {
     "name": "stdout",
     "output_type": "stream",
     "text": [
      "Loss: 20.34780833644547\n"
     ]
    },
    {
     "name": "stdout",
     "output_type": "stream",
     "text": [
      "Loss: 20.08077333745025\n"
     ]
    },
    {
     "name": "stdout",
     "output_type": "stream",
     "text": [
      "Loss: 19.889708279241876\n"
     ]
    },
    {
     "name": "stdout",
     "output_type": "stream",
     "text": [
      "Loss: 19.65056728058765\n"
     ]
    },
    {
     "name": "stdout",
     "output_type": "stream",
     "text": [
      "Loss: 19.46968948999762\n"
     ]
    },
    {
     "name": "stdout",
     "output_type": "stream",
     "text": [
      "Loss: 19.27801680712873\n"
     ]
    },
    {
     "name": "stdout",
     "output_type": "stream",
     "text": [
      "Loss: 19.160491338050484\n"
     ]
    },
    {
     "name": "stdout",
     "output_type": "stream",
     "text": [
      "Loss: 18.908093944904703\n"
     ]
    },
    {
     "name": "stdout",
     "output_type": "stream",
     "text": [
      "Loss: 18.396094190938445\n"
     ]
    },
    {
     "name": "stdout",
     "output_type": "stream",
     "text": [
      "Loss: 18.286820359296325\n"
     ]
    },
    {
     "name": "stdout",
     "output_type": "stream",
     "text": [
      "Loss: 18.162635315590613\n"
     ]
    },
    {
     "name": "stdout",
     "output_type": "stream",
     "text": [
      "Loss: 18.082844824021386\n"
     ]
    },
    {
     "name": "stdout",
     "output_type": "stream",
     "text": [
      "Loss: 17.805258038308057\n"
     ]
    },
    {
     "name": "stdout",
     "output_type": "stream",
     "text": [
      "Loss: 17.44354090935304\n"
     ]
    },
    {
     "name": "stdout",
     "output_type": "stream",
     "text": [
      "Loss: 16.855327062682804\n"
     ]
    },
    {
     "name": "stdout",
     "output_type": "stream",
     "text": [
      "Loss: 16.51356362902951\n"
     ]
    },
    {
     "name": "stdout",
     "output_type": "stream",
     "text": [
      "Loss: 16.370166123445895\n"
     ]
    },
    {
     "name": "stdout",
     "output_type": "stream",
     "text": [
      "Loss: 16.10712372799191\n"
     ]
    },
    {
     "name": "stdout",
     "output_type": "stream",
     "text": [
      "Loss: 15.832766896766353\n"
     ]
    },
    {
     "name": "stdout",
     "output_type": "stream",
     "text": [
      "Loss: 15.098586048534965\n"
     ]
    },
    {
     "name": "stdout",
     "output_type": "stream",
     "text": [
      "Loss: 14.698620813382082\n"
     ]
    },
    {
     "name": "stdout",
     "output_type": "stream",
     "text": [
      "Loss: 14.660059886865541\n"
     ]
    },
    {
     "name": "stdout",
     "output_type": "stream",
     "text": [
      "Loss: 14.4243332297116\n"
     ]
    },
    {
     "name": "stdout",
     "output_type": "stream",
     "text": [
      "Loss: 14.13277132257918\n"
     ]
    },
    {
     "name": "stdout",
     "output_type": "stream",
     "text": [
      "Loss: 14.014499151097418\n"
     ]
    },
    {
     "name": "stdout",
     "output_type": "stream",
     "text": [
      "Loss: 13.944303592099253\n"
     ]
    },
    {
     "name": "stdout",
     "output_type": "stream",
     "text": [
      "Loss: 13.325702365063146\n"
     ]
    },
    {
     "name": "stdout",
     "output_type": "stream",
     "text": [
      "Loss: 12.577958628502698\n"
     ]
    },
    {
     "name": "stdout",
     "output_type": "stream",
     "text": [
      "Loss: 12.267310156333778\n"
     ]
    },
    {
     "name": "stdout",
     "output_type": "stream",
     "text": [
      "Loss: 11.870216185071861\n"
     ]
    },
    {
     "name": "stdout",
     "output_type": "stream",
     "text": [
      "Loss: 11.639712355528781\n"
     ]
    },
    {
     "name": "stdout",
     "output_type": "stream",
     "text": [
      "Loss: 11.497827947517305\n"
     ]
    },
    {
     "name": "stdout",
     "output_type": "stream",
     "text": [
      "Loss: 11.402818170046956\n"
     ]
    },
    {
     "name": "stdout",
     "output_type": "stream",
     "text": [
      "Loss: 11.24832175633932\n"
     ]
    },
    {
     "name": "stdout",
     "output_type": "stream",
     "text": [
      "Loss: 11.018067423011834\n"
     ]
    },
    {
     "name": "stdout",
     "output_type": "stream",
     "text": [
      "Loss: 10.491852640440873\n"
     ]
    },
    {
     "name": "stdout",
     "output_type": "stream",
     "text": [
      "Loss: 10.293321605067135\n"
     ]
    },
    {
     "name": "stdout",
     "output_type": "stream",
     "text": [
      "Loss: 10.242716429656024\n"
     ]
    },
    {
     "name": "stdout",
     "output_type": "stream",
     "text": [
      "Loss: 10.041517079348944\n"
     ]
    },
    {
     "name": "stdout",
     "output_type": "stream",
     "text": [
      "Loss: 9.738796421232564\n"
     ]
    },
    {
     "name": "stdout",
     "output_type": "stream",
     "text": [
      "Loss: 9.329743849464734\n"
     ]
    },
    {
     "name": "stdout",
     "output_type": "stream",
     "text": [
      "Loss: 9.270763135913578\n"
     ]
    },
    {
     "name": "stdout",
     "output_type": "stream",
     "text": [
      "Loss: 9.15356330984598\n"
     ]
    },
    {
     "name": "stdout",
     "output_type": "stream",
     "text": [
      "Loss: 8.910165648309269\n"
     ]
    },
    {
     "name": "stdout",
     "output_type": "stream",
     "text": [
      "Loss: 8.813726670013946\n"
     ]
    },
    {
     "name": "stdout",
     "output_type": "stream",
     "text": [
      "Loss: 8.689182180596791\n"
     ]
    },
    {
     "name": "stdout",
     "output_type": "stream",
     "text": [
      "Loss: 8.554927344910228\n"
     ]
    },
    {
     "name": "stdout",
     "output_type": "stream",
     "text": [
      "Loss: 8.430938185529453\n"
     ]
    },
    {
     "name": "stdout",
     "output_type": "stream",
     "text": [
      "Loss: 8.229912455473325\n"
     ]
    },
    {
     "name": "stdout",
     "output_type": "stream",
     "text": [
      "Loss: 8.008386077662335\n"
     ]
    },
    {
     "name": "stdout",
     "output_type": "stream",
     "text": [
      "Loss: 7.823751081391022\n"
     ]
    },
    {
     "name": "stdout",
     "output_type": "stream",
     "text": [
      "Loss: 7.623201728234534\n"
     ]
    },
    {
     "name": "stdout",
     "output_type": "stream",
     "text": [
      "Loss: 7.492900406615718\n"
     ]
    },
    {
     "name": "stdout",
     "output_type": "stream",
     "text": [
      "Loss: 7.181475751714721\n"
     ]
    },
    {
     "name": "stdout",
     "output_type": "stream",
     "text": [
      "Loss: 6.949195788284145\n"
     ]
    },
    {
     "name": "stdout",
     "output_type": "stream",
     "text": [
      "Loss: 6.801294494032431\n",
      "Loss: 6.727620939067535\n"
     ]
    },
    {
     "name": "stdout",
     "output_type": "stream",
     "text": [
      "Loss: 6.633694041523093\n"
     ]
    },
    {
     "name": "stdout",
     "output_type": "stream",
     "text": [
      "Loss: 6.557351182437343\n"
     ]
    },
    {
     "name": "stdout",
     "output_type": "stream",
     "text": [
      "Loss: 6.331583077639686\n"
     ]
    },
    {
     "name": "stdout",
     "output_type": "stream",
     "text": [
      "Loss: 6.245528186994857\n"
     ]
    },
    {
     "name": "stdout",
     "output_type": "stream",
     "text": [
      "Loss: 6.147039920530897\n",
      "Loss: 6.058289084170891\n"
     ]
    },
    {
     "name": "stdout",
     "output_type": "stream",
     "text": [
      "Loss: 5.959104315619132\n"
     ]
    },
    {
     "name": "stdout",
     "output_type": "stream",
     "text": [
      "Loss: 5.823433501021549\n"
     ]
    },
    {
     "name": "stdout",
     "output_type": "stream",
     "text": [
      "Loss: 5.673053015579261\n"
     ]
    },
    {
     "name": "stdout",
     "output_type": "stream",
     "text": [
      "Loss: 5.612630734416357\n",
      "Loss: 5.5685001827358676\n"
     ]
    },
    {
     "name": "stdout",
     "output_type": "stream",
     "text": [
      "Loss: 5.470894274527636\n"
     ]
    },
    {
     "name": "stdout",
     "output_type": "stream",
     "text": [
      "Loss: 5.252093998417339\n"
     ]
    },
    {
     "name": "stdout",
     "output_type": "stream",
     "text": [
      "Loss: 5.082220433117815\n"
     ]
    },
    {
     "name": "stdout",
     "output_type": "stream",
     "text": [
      "Loss: 4.892936787497769\n"
     ]
    },
    {
     "name": "stdout",
     "output_type": "stream",
     "text": [
      "Loss: 4.599620692887964\n"
     ]
    },
    {
     "name": "stdout",
     "output_type": "stream",
     "text": [
      "Loss: 4.470709888463597\n"
     ]
    },
    {
     "name": "stdout",
     "output_type": "stream",
     "text": [
      "Loss: 4.386937465928483\n"
     ]
    },
    {
     "name": "stdout",
     "output_type": "stream",
     "text": [
      "Loss: 4.301647865491425\n"
     ]
    },
    {
     "name": "stdout",
     "output_type": "stream",
     "text": [
      "Loss: 4.236949744695595\n"
     ]
    },
    {
     "name": "stdout",
     "output_type": "stream",
     "text": [
      "Loss: 4.163246474104798\n"
     ]
    },
    {
     "name": "stdout",
     "output_type": "stream",
     "text": [
      "Loss: 4.0970847801487045\n"
     ]
    },
    {
     "name": "stdout",
     "output_type": "stream",
     "text": [
      "Loss: 4.033890378540029\n"
     ]
    },
    {
     "name": "stdout",
     "output_type": "stream",
     "text": [
      "Loss: 3.9464680570819914\n"
     ]
    },
    {
     "name": "stdout",
     "output_type": "stream",
     "text": [
      "Loss: 3.876574949784977\n"
     ]
    },
    {
     "name": "stdout",
     "output_type": "stream",
     "text": [
      "Loss: 3.7032193817769388\n"
     ]
    },
    {
     "name": "stdout",
     "output_type": "stream",
     "text": [
      "Loss: 3.58763860143687\n"
     ]
    },
    {
     "name": "stdout",
     "output_type": "stream",
     "text": [
      "Loss: 3.4585599418768145\n"
     ]
    },
    {
     "name": "stdout",
     "output_type": "stream",
     "text": [
      "Loss: 3.332744493433839\n"
     ]
    },
    {
     "name": "stdout",
     "output_type": "stream",
     "text": [
      "Loss: 3.2479070030931254\n"
     ]
    },
    {
     "name": "stdout",
     "output_type": "stream",
     "text": [
      "Loss: 3.1492577523517413\n",
      "Loss: 3.1027269766132166\n"
     ]
    },
    {
     "name": "stdout",
     "output_type": "stream",
     "text": [
      "Loss: 3.0552021959184814\n"
     ]
    },
    {
     "name": "stdout",
     "output_type": "stream",
     "text": [
      "Loss: 2.940857390276195\n"
     ]
    },
    {
     "name": "stdout",
     "output_type": "stream",
     "text": [
      "Loss: 2.844619744910561\n"
     ]
    },
    {
     "name": "stdout",
     "output_type": "stream",
     "text": [
      "Loss: 2.7797711717952374\n"
     ]
    },
    {
     "name": "stdout",
     "output_type": "stream",
     "text": [
      "Loss: 2.521148755708309\n"
     ]
    },
    {
     "name": "stdout",
     "output_type": "stream",
     "text": [
      "Loss: 2.456929975776328\n"
     ]
    },
    {
     "name": "stdout",
     "output_type": "stream",
     "text": [
      "Loss: 2.3621584245504357\n"
     ]
    },
    {
     "name": "stdout",
     "output_type": "stream",
     "text": [
      "Loss: 2.2400168747143474\n"
     ]
    },
    {
     "name": "stdout",
     "output_type": "stream",
     "text": [
      "Loss: 2.181206263534539\n"
     ]
    },
    {
     "name": "stdout",
     "output_type": "stream",
     "text": [
      "Loss: 2.1128526607274773\n"
     ]
    },
    {
     "name": "stdout",
     "output_type": "stream",
     "text": [
      "Loss: 2.0807127712768736\n",
      "Loss: 2.0333689260929453\n"
     ]
    },
    {
     "name": "stdout",
     "output_type": "stream",
     "text": [
      "Loss: 1.954899347068\n",
      "Loss: 1.9006341503387063\n"
     ]
    },
    {
     "name": "stdout",
     "output_type": "stream",
     "text": [
      "Loss: 1.866496413262989\n"
     ]
    },
    {
     "name": "stdout",
     "output_type": "stream",
     "text": [
      "Loss: 1.7914502348804529\n",
      "Loss: 1.754679168145305\n"
     ]
    },
    {
     "name": "stdout",
     "output_type": "stream",
     "text": [
      "Loss: 1.7045231934214762\n"
     ]
    },
    {
     "name": "stdout",
     "output_type": "stream",
     "text": [
      "Loss: 1.6431827566139452\n",
      "Loss: 1.6069471849211403\n"
     ]
    },
    {
     "name": "stdout",
     "output_type": "stream",
     "text": [
      "Loss: 1.5625373449097975\n",
      "Loss: 1.502151171277426\n"
     ]
    },
    {
     "name": "stdout",
     "output_type": "stream",
     "text": [
      "Loss: 1.4490443625728968\n",
      "Loss: 1.399271616982826\n"
     ]
    },
    {
     "name": "stdout",
     "output_type": "stream",
     "text": [
      "Loss: 1.3394689710366467\n"
     ]
    },
    {
     "name": "stdout",
     "output_type": "stream",
     "text": [
      "Loss: 1.3114352760227947\n",
      "Loss: 1.288358020330237\n"
     ]
    },
    {
     "name": "stdout",
     "output_type": "stream",
     "text": [
      "Loss: 1.2708057194605782\n",
      "Loss: 1.2260950217737243\n"
     ]
    },
    {
     "name": "stdout",
     "output_type": "stream",
     "text": [
      "Loss: 1.1546814151609472\n"
     ]
    },
    {
     "name": "stdout",
     "output_type": "stream",
     "text": [
      "Loss: 1.1125390518855525\n"
     ]
    },
    {
     "name": "stdout",
     "output_type": "stream",
     "text": [
      "Loss: 1.090226506330912\n"
     ]
    },
    {
     "name": "stdout",
     "output_type": "stream",
     "text": [
      "Loss: 1.0374523398592377\n"
     ]
    },
    {
     "name": "stdout",
     "output_type": "stream",
     "text": [
      "Loss: 1.0226421557754113\n"
     ]
    },
    {
     "name": "stdout",
     "output_type": "stream",
     "text": [
      "Loss: 0.9973703868940804\n"
     ]
    },
    {
     "name": "stdout",
     "output_type": "stream",
     "text": [
      "Loss: 0.9685172373156762\n"
     ]
    },
    {
     "name": "stdout",
     "output_type": "stream",
     "text": [
      "Loss: 0.9087656293830766\n"
     ]
    },
    {
     "name": "stdout",
     "output_type": "stream",
     "text": [
      "Loss: 0.8644597648744917\n"
     ]
    },
    {
     "name": "stdout",
     "output_type": "stream",
     "text": [
      "Loss: 0.7981678929876961\n",
      "Loss: 0.7397464810309001\n"
     ]
    },
    {
     "name": "stdout",
     "output_type": "stream",
     "text": [
      "Loss: 0.7165095662562533\n",
      "Loss: 0.6991233535270235\n"
     ]
    },
    {
     "name": "stdout",
     "output_type": "stream",
     "text": [
      "Loss: 0.6312688114446966\n"
     ]
    },
    {
     "name": "stdout",
     "output_type": "stream",
     "text": [
      "Loss: 0.5837679145475207\n"
     ]
    },
    {
     "name": "stdout",
     "output_type": "stream",
     "text": [
      "Loss: 0.5282448783020793\n"
     ]
    },
    {
     "name": "stdout",
     "output_type": "stream",
     "text": [
      "Loss: 0.4867761328539027\n"
     ]
    },
    {
     "name": "stdout",
     "output_type": "stream",
     "text": [
      "Loss: 0.4612795184027167\n"
     ]
    },
    {
     "name": "stdout",
     "output_type": "stream",
     "text": [
      "Loss: 0.41993399233265843\n",
      "Loss: 0.3913385904239283\n"
     ]
    },
    {
     "name": "stdout",
     "output_type": "stream",
     "text": [
      "Loss: 0.3564146647448206\n",
      "Loss: 0.33206146274002263\n"
     ]
    },
    {
     "name": "stdout",
     "output_type": "stream",
     "text": [
      "Loss: 0.31490089932301374\n",
      "Loss: 0.2731282458783641\n"
     ]
    },
    {
     "name": "stdout",
     "output_type": "stream",
     "text": [
      "Loss: 0.2567443685173149\n"
     ]
    },
    {
     "name": "stdout",
     "output_type": "stream",
     "text": [
      "Loss: 0.23218442433276362\n",
      "Loss: 0.2103198450275781\n"
     ]
    },
    {
     "name": "stdout",
     "output_type": "stream",
     "text": [
      "Loss: 0.1929288476141438\n",
      "Loss: 0.17957405918720376\n"
     ]
    },
    {
     "name": "stdout",
     "output_type": "stream",
     "text": [
      "Loss: 0.1699874990619421\n",
      "Loss: 0.15287311420987462\n"
     ]
    },
    {
     "name": "stdout",
     "output_type": "stream",
     "text": [
      "Loss: 0.14009383701737868\n",
      "Loss: 0.11979641119238273\n"
     ]
    },
    {
     "name": "stdout",
     "output_type": "stream",
     "text": [
      "Loss: 0.11035671902090789\n",
      "Loss: 0.10312699374204379\n"
     ]
    },
    {
     "name": "stdout",
     "output_type": "stream",
     "text": [
      "Loss: 0.09337526811192581\n",
      "Loss: 0.0862664321591834\n"
     ]
    },
    {
     "name": "stdout",
     "output_type": "stream",
     "text": [
      "Loss: 0.07962480733152216\n",
      "Loss: 0.07514553696867236\n"
     ]
    },
    {
     "name": "stdout",
     "output_type": "stream",
     "text": [
      "Loss: 0.07035349400071352\n",
      "Loss: 0.06390070859842172\n"
     ]
    },
    {
     "name": "stdout",
     "output_type": "stream",
     "text": [
      "Loss: 0.056044272693565246\n",
      "Loss: 0.046672368234554354\n"
     ]
    },
    {
     "name": "stdout",
     "output_type": "stream",
     "text": [
      "Loss: 0.0391556647627628\n",
      "Loss: 0.033846003669014066\n"
     ]
    },
    {
     "name": "stdout",
     "output_type": "stream",
     "text": [
      "Loss: 0.03241109403051556\n",
      "Loss: 0.031043448426204805\n"
     ]
    },
    {
     "name": "stdout",
     "output_type": "stream",
     "text": [
      "Loss: 0.027613261973818855\n",
      "Loss: 0.025299632899728204\n"
     ]
    },
    {
     "name": "stdout",
     "output_type": "stream",
     "text": [
      "Loss: 0.02190483636097482\n",
      "Loss: 0.020469342221451362\n"
     ]
    },
    {
     "name": "stdout",
     "output_type": "stream",
     "text": [
      "Loss: 0.019835983277573146\n",
      "Loss: 0.01933047761635049\n"
     ]
    },
    {
     "name": "stdout",
     "output_type": "stream",
     "text": [
      "Loss: 0.016887659377759538\n",
      "Loss: 0.01485048285949231\n"
     ]
    },
    {
     "name": "stdout",
     "output_type": "stream",
     "text": [
      "Loss: 0.013820803564505347\n",
      "Loss: 0.012540709200767374\n",
      "Loss: 0.011703535869097424\n"
     ]
    },
    {
     "name": "stdout",
     "output_type": "stream",
     "text": [
      "Loss: 0.011214280468195937\n",
      "Loss: 0.01046889233109978\n"
     ]
    },
    {
     "name": "stdout",
     "output_type": "stream",
     "text": [
      "Loss: 0.010145929102708881\n",
      "Loss: 0.009860519460904209\n",
      "Loss: 0.009375817713210373\n"
     ]
    },
    {
     "name": "stdout",
     "output_type": "stream",
     "text": [
      "Loss: 0.008585450602547024\n",
      "Loss: 0.007959060604238502\n"
     ]
    },
    {
     "name": "stdout",
     "output_type": "stream",
     "text": [
      "Loss: 0.0075591571960428655\n",
      "Loss: 0.007080442460435839\n",
      "Loss: 0.0069658000834134665\n"
     ]
    },
    {
     "name": "stdout",
     "output_type": "stream",
     "text": [
      "Loss: 0.006368601283160767\n",
      "Loss: 0.005835673708235028\n"
     ]
    },
    {
     "name": "stdout",
     "output_type": "stream",
     "text": [
      "Loss: 0.005597072790390481\n",
      "Loss: 0.0053298105015637575\n",
      "Loss: 0.005239722635677872\n"
     ]
    },
    {
     "name": "stdout",
     "output_type": "stream",
     "text": [
      "Loss: 0.004694365069161706\n",
      "Loss: 0.00427478550865309\n"
     ]
    },
    {
     "name": "stdout",
     "output_type": "stream",
     "text": [
      "Loss: 0.004003704893112245\n",
      "Loss: 0.003922637286130699\n",
      "Loss: 0.0038482490796901965\n"
     ]
    },
    {
     "name": "stdout",
     "output_type": "stream",
     "text": [
      "Loss: 0.0033200981467469905\n",
      "Loss: 0.003283924948378968\n",
      "Loss: 0.003201121211296769\n"
     ]
    },
    {
     "name": "stdout",
     "output_type": "stream",
     "text": [
      "Loss: 0.002922152318874702\n",
      "Loss: 0.002571321118405398\n"
     ]
    },
    {
     "name": "stdout",
     "output_type": "stream",
     "text": [
      "Loss: 0.002318033731205657\n",
      "Loss: 0.002206239135848064\n",
      "Loss: 0.002103093335341381\n"
     ]
    },
    {
     "name": "stdout",
     "output_type": "stream",
     "text": [
      "Loss: 0.0017730874368132165\n",
      "Loss: 0.0016637491791159438\n",
      "Loss: 0.001632056921009327\n"
     ]
    },
    {
     "name": "stdout",
     "output_type": "stream",
     "text": [
      "Loss: 0.0014180358730140662\n",
      "Loss: 0.0013662091925833804\n",
      "Loss: 0.001265994223683278\n"
     ]
    },
    {
     "name": "stdout",
     "output_type": "stream",
     "text": [
      "Loss: 0.0011982373487801322\n",
      "Loss: 0.0010811309304371885\n"
     ]
    },
    {
     "name": "stdout",
     "output_type": "stream",
     "text": [
      "Loss: 0.0009896321752625927\n",
      "Loss: 0.0008878333202798827\n"
     ]
    },
    {
     "name": "stdout",
     "output_type": "stream",
     "text": [
      "Loss: 0.0008250064712115925\n",
      "Loss: 0.0007869101658545864\n",
      "Loss: 0.0007305245415460405\n"
     ]
    },
    {
     "name": "stdout",
     "output_type": "stream",
     "text": [
      "Loss: 0.0006430038956894479\n"
     ]
    },
    {
     "name": "stdout",
     "output_type": "stream",
     "text": [
      "Loss: 0.0005740402710107629\n",
      "Loss: 0.0005459030187296734\n",
      "Loss: 0.00044508087645735183\n"
     ]
    },
    {
     "name": "stdout",
     "output_type": "stream",
     "text": [
      "Loss: 0.0003953580596742557\n",
      "Loss: 0.0003406735790353346\n",
      "Loss: 0.0003136456433041038\n"
     ]
    },
    {
     "name": "stdout",
     "output_type": "stream",
     "text": [
      "Loss: 0.0002802730249455347\n",
      "Loss: 0.00024228910726886284\n",
      "Loss: 0.00020439081711577485\n"
     ]
    },
    {
     "name": "stdout",
     "output_type": "stream",
     "text": [
      "Loss: 0.00016930100486145757\n",
      "Loss: 0.00015145328632367014\n"
     ]
    },
    {
     "name": "stdout",
     "output_type": "stream",
     "text": [
      "Loss: 0.00010794726716068278\n",
      "Loss: 9.020007200729048e-5\n",
      "Loss: 7.289678246108863e-5\n"
     ]
    },
    {
     "name": "stdout",
     "output_type": "stream",
     "text": [
      "Loss: 5.760816343713455e-5\n",
      "Loss: 4.8256670254900084e-5\n",
      "Loss: 4.52012768858498e-5\n"
     ]
    },
    {
     "name": "stdout",
     "output_type": "stream",
     "text": [
      "Loss: 4.314377940973971e-5\n",
      "Loss: 4.177261183366137e-5\n",
      "Loss: 4.123016326311303e-5\n"
     ]
    },
    {
     "name": "stdout",
     "output_type": "stream",
     "text": [
      "Loss: 4.088654159135414e-5\n",
      "Loss: 4.067638304688413e-5\n",
      "Loss: 4.0103117296630266e-5\n"
     ]
    },
    {
     "name": "stdout",
     "output_type": "stream",
     "text": [
      "Loss: 3.879536138309437e-5\n",
      "Loss: 3.771919987135551e-5\n",
      "Loss: 3.573045542678192e-5\n"
     ]
    },
    {
     "name": "stdout",
     "output_type": "stream",
     "text": [
      "Loss: 3.380487721411703e-5\n",
      "Loss: 3.307823978078704e-5\n",
      "Loss: 3.216323158802103e-5\n"
     ]
    },
    {
     "name": "stdout",
     "output_type": "stream",
     "text": [
      "Loss: 3.14463501717462e-5\n",
      "Loss: 3.0233142284436315e-5\n"
     ]
    },
    {
     "name": "stdout",
     "output_type": "stream",
     "text": [
      "Loss: 2.890614860909075e-5\n",
      "Loss: 2.7084550951689622e-5\n",
      "Loss: 2.5881837825621253e-5\n"
     ]
    },
    {
     "name": "stdout",
     "output_type": "stream",
     "text": [
      "Loss: 2.5236035995091324e-5\n",
      "Loss: 2.4574394394325496e-5\n",
      "Loss: 2.3655473632329347e-5\n"
     ]
    },
    {
     "name": "stdout",
     "output_type": "stream",
     "text": [
      "Loss: 2.315577925990213e-5\n",
      "Loss: 2.2730456354600536e-5\n",
      "Loss: 2.1487711141215867e-5\n"
     ]
    },
    {
     "name": "stdout",
     "output_type": "stream",
     "text": [
      "Loss: 2.1232021941610085e-5\n",
      "Loss: 2.0050829130272577e-5\n",
      "Loss: 1.9596675570937998e-5\n"
     ]
    },
    {
     "name": "stdout",
     "output_type": "stream",
     "text": [
      "Loss: 1.9411923811424742e-5\n",
      "Loss: 1.8668203143982445e-5\n",
      "Loss: 1.8471196179882696e-5\n"
     ]
    },
    {
     "name": "stdout",
     "output_type": "stream",
     "text": [
      "Loss: 1.8270291837024354e-5\n",
      "Loss: 1.8007078624412095e-5\n",
      "Loss: 1.7810554312558633e-5\n"
     ]
    },
    {
     "name": "stdout",
     "output_type": "stream",
     "text": [
      "Loss: 1.774028533906594e-5\n",
      "Loss: 1.743798137198904e-5\n",
      "Loss: 1.7309879147542383e-5\n"
     ]
    },
    {
     "name": "stdout",
     "output_type": "stream",
     "text": [
      "Loss: 1.70407515441034e-5\n",
      "Loss: 1.688081972199814e-5\n",
      "Loss: 1.6432433127270694e-5\n"
     ]
    },
    {
     "name": "stdout",
     "output_type": "stream",
     "text": [
      "Loss: 1.6159396011731964e-5\n",
      "Loss: 1.587437176028841e-5\n",
      "Loss: 1.5280457175779157e-5\n"
     ]
    },
    {
     "name": "stdout",
     "output_type": "stream",
     "text": [
      "Loss: 1.5166758544955027e-5\n",
      "Loss: 1.4884893574765087e-5\n",
      "Loss: 1.4648317847456821e-5\n"
     ]
    },
    {
     "name": "stdout",
     "output_type": "stream",
     "text": [
      "Loss: 1.4436778871854574e-5\n",
      "Loss: 1.413863962860151e-5\n",
      "Loss: 1.3989261019521597e-5\n"
     ]
    },
    {
     "name": "stdout",
     "output_type": "stream",
     "text": [
      "Loss: 1.3800197523649922e-5\n",
      "Loss: 1.35984194211656e-5\n",
      "Loss: 1.3192858421274112e-5\n"
     ]
    },
    {
     "name": "stdout",
     "output_type": "stream",
     "text": [
      "Loss: 1.266993852695336e-5\n",
      "Loss: 1.2235292651316779e-5\n",
      "Loss: 1.1448525597243692e-5\n"
     ]
    },
    {
     "name": "stdout",
     "output_type": "stream",
     "text": [
      "Loss: 9.905428004753827e-6\n",
      "Loss: 8.432677947605157e-6\n"
     ]
    },
    {
     "name": "stdout",
     "output_type": "stream",
     "text": [
      "Loss: 7.671830637617443e-6\n",
      "Loss: 7.2298442041397745e-6\n",
      "Loss: 6.842586969054411e-6\n"
     ]
    },
    {
     "name": "stdout",
     "output_type": "stream",
     "text": [
      "Loss: 5.429779735637461e-6\n",
      "Loss: 4.39970557982814e-6\n",
      "Loss: 3.57772532160858e-6\n"
     ]
    },
    {
     "name": "stdout",
     "output_type": "stream",
     "text": [
      "Loss: 2.844752318845321e-6\n",
      "Loss: 2.3748803011921934e-6\n",
      "Loss: 2.1072783980107018e-6\n"
     ]
    },
    {
     "name": "stdout",
     "output_type": "stream",
     "text": [
      "Loss: 1.9456350303749424e-6\n",
      "Loss: 1.7529480549529112e-6\n",
      "Loss: 1.6739332541147646e-6\n"
     ]
    },
    {
     "name": "stdout",
     "output_type": "stream",
     "text": [
      "Loss: 1.5752863622643806e-6\n",
      "Loss: 1.5057900464816671e-6\n",
      "Loss: 1.4230174233271658e-6\n"
     ]
    },
    {
     "name": "stdout",
     "output_type": "stream",
     "text": [
      "Loss: 1.3026599378692238e-6\n",
      "Loss: 1.2529910616429194e-6\n",
      "Loss: 1.2226328266278422e-6\n"
     ]
    },
    {
     "name": "stdout",
     "output_type": "stream",
     "text": [
      "Loss: 1.202864580223791e-6\n",
      "Loss: 1.198469265420161e-6\n",
      "Loss: 1.196544505709643e-6\n"
     ]
    },
    {
     "name": "stdout",
     "output_type": "stream",
     "text": [
      "Loss: 1.191592002093038e-6\n",
      "Loss: 1.1810013094601805e-6\n"
     ]
    },
    {
     "name": "stdout",
     "output_type": "stream",
     "text": [
      "Loss: 1.1606523761472702e-6\n",
      "Loss: 1.1410529320056223e-6\n"
     ]
    },
    {
     "name": "stdout",
     "output_type": "stream",
     "text": [
      "Loss: 1.1324446116305382e-6\n",
      "Loss: 1.125676563921758e-6\n"
     ]
    },
    {
     "name": "stdout",
     "output_type": "stream",
     "text": [
      "Loss: 1.1229954145371158e-6\n",
      "Loss: 1.1207337816341132e-6\n"
     ]
    },
    {
     "name": "stdout",
     "output_type": "stream",
     "text": [
      "Loss: 1.1165452226771465e-6\n",
      "Loss: 1.1063816729372067e-6\n",
      "Loss: 1.0990366233749454e-6\n"
     ]
    },
    {
     "name": "stdout",
     "output_type": "stream",
     "text": [
      "Loss: 1.0801916775616869e-6\n",
      "Loss: 1.0496562722658456e-6\n"
     ]
    },
    {
     "name": "stdout",
     "output_type": "stream",
     "text": [
      "Loss: 9.979596986701828e-7\n",
      "Loss: 9.449385214200779e-7\n",
      "Loss: 8.97158598599062e-7\n"
     ]
    },
    {
     "name": "stdout",
     "output_type": "stream",
     "text": [
      "Loss: 8.605874848448351e-7\n",
      "Loss: 8.456543047093939e-7\n",
      "Loss: 8.310698492413178e-7\n"
     ]
    },
    {
     "name": "stdout",
     "output_type": "stream",
     "text": [
      "Loss: 8.129395903644849e-7\n",
      "Loss: 7.994500029253743e-7\n",
      "Loss: 7.844271178020271e-7\n"
     ]
    },
    {
     "name": "stdout",
     "output_type": "stream",
     "text": [
      "Loss: 7.725774280447342e-7\n",
      "Loss: 7.626824409961358e-7\n",
      "Loss: 7.525394687211761e-7\n"
     ]
    },
    {
     "name": "stdout",
     "output_type": "stream",
     "text": [
      "Loss: 7.505955879324096e-7\n",
      "Loss: 7.477664622303736e-7\n",
      "Loss: 7.474720703286046e-7\n"
     ]
    },
    {
     "name": "stdout",
     "output_type": "stream",
     "text": [
      "Loss: 7.47105665230158e-7\n",
      "Loss: 7.469280949084758e-7\n",
      "Loss: 7.457066115526041e-7\n"
     ]
    },
    {
     "name": "stdout",
     "output_type": "stream",
     "text": [
      "Loss: 7.432236548124842e-7\n",
      "Loss: 7.327456385119364e-7\n",
      "Loss: 7.226293512363616e-7\n"
     ]
    },
    {
     "name": "stdout",
     "output_type": "stream",
     "text": [
      "Loss: 7.003868174929065e-7\n",
      "Loss: 6.646726119491144e-7\n",
      "Loss: 6.404617983758577e-7\n"
     ]
    },
    {
     "name": "stdout",
     "output_type": "stream",
     "text": [
      "Loss: 6.358365442662037e-7\n",
      "Loss: 6.139168366590197e-7\n",
      "Loss: 6.043127538022475e-7\n"
     ]
    },
    {
     "name": "stdout",
     "output_type": "stream",
     "text": [
      "Loss: 5.809423587225888e-7\n",
      "Loss: 5.7038175101495e-7\n",
      "Loss: 5.474412318969274e-7\n"
     ]
    },
    {
     "name": "stdout",
     "output_type": "stream",
     "text": [
      "Loss: 5.406989416252301e-7\n",
      "Loss: 5.231431955360138e-7\n",
      "Loss: 5.12394635578375e-7\n",
      "Loss: 4.991335260636551e-7\n"
     ]
    },
    {
     "name": "stdout",
     "output_type": "stream",
     "text": [
      "Loss: 4.84853124166652e-7\n",
      "Loss: 4.7034827720182103e-7\n",
      "Loss: 4.478426514997827e-7\n"
     ]
    },
    {
     "name": "stdout",
     "output_type": "stream",
     "text": [
      "Loss: 4.4541175876653526e-7\n",
      "Loss: 4.3369363753478645e-7\n",
      "Loss: 4.296849958472279e-7\n",
      "Loss: 4.250788490787372e-7\n"
     ]
    },
    {
     "name": "stdout",
     "output_type": "stream",
     "text": [
      "Loss: 4.17463491043627e-7\n",
      "Loss: 4.1519906429550476e-7\n",
      "Loss: 4.057245836185987e-7\n"
     ]
    },
    {
     "name": "stdout",
     "output_type": "stream",
     "text": [
      "Loss: 3.9783322920268897e-7\n",
      "Loss: 3.849598295128824e-7\n",
      "Loss: 3.6775965794148583e-7\n"
     ]
    },
    {
     "name": "stdout",
     "output_type": "stream",
     "text": [
      "Loss: 3.5372891248744015e-7\n",
      "Loss: 3.4515580962802754e-7\n",
      "Loss: 3.3676008191238073e-7\n"
     ]
    },
    {
     "name": "stdout",
     "output_type": "stream",
     "text": [
      "Loss: 3.3049396886610705e-7\n",
      "Loss: 3.263112944022378e-7\n",
      "Loss: 3.2186172848389904e-7\n"
     ]
    },
    {
     "name": "stdout",
     "output_type": "stream",
     "text": [
      "Loss: 3.157998244369729e-7\n",
      "Loss: 3.0840316733142433e-7\n",
      "Loss: 3.048536947396017e-7\n"
     ]
    },
    {
     "name": "stdout",
     "output_type": "stream",
     "text": [
      "Loss: 2.941679281984986e-7\n",
      "Loss: 2.8627773654301836e-7\n",
      "Loss: 2.7900076678509914e-7\n",
      "Loss: 2.7197905720795135e-7\n"
     ]
    },
    {
     "name": "stdout",
     "output_type": "stream",
     "text": [
      "Loss: 2.6863446122586094e-7\n",
      "Loss: 2.6413648671620415e-7\n",
      "Loss: 2.595050707800055e-7\n",
      "Loss: 2.5272279915007184e-7\n"
     ]
    },
    {
     "name": "stdout",
     "output_type": "stream",
     "text": [
      "Loss: 2.468425165667356e-7\n",
      "Loss: 2.414391164153046e-7\n",
      "Loss: 2.38982195482286e-7\n"
     ]
    },
    {
     "name": "stdout",
     "output_type": "stream",
     "text": [
      "Loss: 2.3218434567997326e-7\n",
      "Loss: 2.2940673462005588e-7\n",
      "Loss: 2.2314998251556103e-7\n",
      "Loss: 2.19411855870501e-7\n"
     ]
    },
    {
     "name": "stdout",
     "output_type": "stream",
     "text": [
      "Loss: 2.1510348410499087e-7\n",
      "Loss: 2.106850303511992e-7\n",
      "Loss: 2.0608449941006855e-7\n"
     ]
    },
    {
     "name": "stdout",
     "output_type": "stream",
     "text": [
      "Loss: 2.0166895645573377e-7\n",
      "Loss: 1.9804190722118648e-7\n",
      "Loss: 1.962437693418339e-7\n"
     ]
    },
    {
     "name": "stdout",
     "output_type": "stream",
     "text": [
      "Loss: 1.9286784908433532e-7\n",
      "Loss: 1.913178054844017e-7\n",
      "Loss: 1.8862018723264805e-7\n"
     ]
    },
    {
     "name": "stdout",
     "output_type": "stream",
     "text": [
      "Loss: 1.8691297411552043e-7\n",
      "Loss: 1.838556494130016e-7\n",
      "Loss: 1.8188141478622194e-7\n"
     ]
    },
    {
     "name": "stdout",
     "output_type": "stream",
     "text": [
      "Loss: 1.795011204579088e-7\n",
      "Loss: 1.7879975999021885e-7\n",
      "Loss: 1.7619911584670758e-7\n",
      "Loss: 1.7466127398606964e-7\n"
     ]
    },
    {
     "name": "stdout",
     "output_type": "stream",
     "text": [
      "Loss: 1.7087119613530636e-7\n",
      "Loss: 1.6850607079098142e-7\n",
      "Loss: 1.6437666632858456e-7\n"
     ]
    },
    {
     "name": "stdout",
     "output_type": "stream",
     "text": [
      "Loss: 1.6126553578019582e-7\n",
      "Loss: 1.585992854438627e-7\n",
      "Loss: 1.5611988833427302e-7\n"
     ]
    },
    {
     "name": "stdout",
     "output_type": "stream",
     "text": [
      "Loss: 1.5421527293425136e-7\n",
      "Loss: 1.4795209310304213e-7\n",
      "Loss: 1.462773545821035e-7\n"
     ]
    },
    {
     "name": "stdout",
     "output_type": "stream",
     "text": [
      "Loss: 1.4024173938277781e-7\n",
      "Loss: 1.3671702317291145e-7\n",
      "Loss: 1.3416895900467393e-7\n"
     ]
    },
    {
     "name": "stdout",
     "output_type": "stream",
     "text": [
      "Loss: 1.308222549302014e-7\n",
      "Loss: 1.29120912432708e-7\n",
      "Loss: 1.2793234309468305e-7\n"
     ]
    },
    {
     "name": "stdout",
     "output_type": "stream",
     "text": [
      "Loss: 1.268813573752092e-7\n",
      "Loss: 1.2568380699340166e-7\n",
      "Loss: 1.2433218723999852e-7\n"
     ]
    },
    {
     "name": "stdout",
     "output_type": "stream",
     "text": [
      "Loss: 1.2283342110403213e-7\n",
      "Loss: 1.2206146878986436e-7\n"
     ]
    },
    {
     "name": "stdout",
     "output_type": "stream",
     "text": [
      "Loss: 1.2113121802499115e-7\n",
      "Loss: 1.1998827306881014e-7\n",
      "Loss: 1.181551741796843e-7\n"
     ]
    },
    {
     "name": "stdout",
     "output_type": "stream",
     "text": [
      "Loss: 1.1752842719639187e-7\n",
      "Loss: 1.1348400452955278e-7\n",
      "Loss: 1.0837663265109248e-7\n"
     ]
    },
    {
     "name": "stdout",
     "output_type": "stream",
     "text": [
      "Loss: 1.0597298823177547e-7\n",
      "Loss: 9.878823113481954e-8\n",
      "Loss: 9.586802562509114e-8\n"
     ]
    },
    {
     "name": "stdout",
     "output_type": "stream",
     "text": [
      "Loss: 9.469737159620804e-8\n",
      "Loss: 9.344869559882536e-8\n",
      "Loss: 9.207580610479221e-8\n"
     ]
    },
    {
     "name": "stdout",
     "output_type": "stream",
     "text": [
      "Loss: 9.125501258689172e-8\n",
      "Loss: 9.042395677578307e-8\n",
      "Loss: 8.998645506326458e-8\n"
     ]
    },
    {
     "name": "stdout",
     "output_type": "stream",
     "text": [
      "Loss: 8.929750145328056e-8\n",
      "Loss: 8.661980663007337e-8\n",
      "Loss: 8.228431168465792e-8\n"
     ]
    },
    {
     "name": "stdout",
     "output_type": "stream",
     "text": [
      "Loss: 7.929591161546146e-8\n",
      "Loss: 7.863974599400043e-8\n",
      "Loss: 7.710192863643491e-8\n"
     ]
    },
    {
     "name": "stdout",
     "output_type": "stream",
     "text": [
      "Loss: 7.620609524581201e-8\n",
      "Loss: 7.484197098651658e-8\n",
      "Loss: 7.350390936396305e-8\n"
     ]
    },
    {
     "name": "stdout",
     "output_type": "stream",
     "text": [
      "Loss: 7.249507458734174e-8\n",
      "Loss: 7.111846212648658e-8\n",
      "Loss: 6.917127409332334e-8\n"
     ]
    },
    {
     "name": "stdout",
     "output_type": "stream",
     "text": [
      "Loss: 6.5464087316522e-8\n",
      "Loss: 6.334974897826602e-8\n",
      "Loss: 6.255578010735612e-8\n"
     ]
    },
    {
     "name": "stdout",
     "output_type": "stream",
     "text": [
      "Loss: 6.136590994047616e-8\n",
      "Loss: 5.987688012061559e-8\n"
     ]
    },
    {
     "name": "stdout",
     "output_type": "stream",
     "text": [
      "Loss: 5.799202485020723e-8\n",
      "Loss: 5.6369057655926646e-8\n",
      "Loss: 5.4807155961830954e-8\n"
     ]
    },
    {
     "name": "stdout",
     "output_type": "stream",
     "text": [
      "Loss: 5.305853945244936e-8\n",
      "Loss: 5.175732838759722e-8\n",
      "Loss: 5.004318804561737e-8\n"
     ]
    },
    {
     "name": "stdout",
     "output_type": "stream",
     "text": [
      "Loss: 4.792321949342964e-8\n",
      "Loss: 4.6429135935831625e-8\n",
      "Loss: 4.5552663549475805e-8\n"
     ]
    },
    {
     "name": "stdout",
     "output_type": "stream",
     "text": [
      "Loss: 4.405441932939403e-8\n",
      "Loss: 4.318093684501035e-8\n",
      "Loss: 4.1328833262592187e-8\n"
     ]
    },
    {
     "name": "stdout",
     "output_type": "stream",
     "text": [
      "Loss: 3.987836026997466e-8\n",
      "Loss: 3.884234756791617e-8\n",
      "Loss: 3.758307005128051e-8\n"
     ]
    },
    {
     "name": "stdout",
     "output_type": "stream",
     "text": [
      "Loss: 3.5384009950377115e-8\n",
      "Loss: 3.4585500250815583e-8\n",
      "Loss: 3.3200375399642774e-8\n"
     ]
    },
    {
     "name": "stdout",
     "output_type": "stream",
     "text": [
      "Loss: 3.203565404305493e-8\n",
      "Loss: 3.132845135333401e-8\n",
      "Loss: 3.074057936187256e-8\n"
     ]
    },
    {
     "name": "stdout",
     "output_type": "stream",
     "text": [
      "Loss: 2.9318629971624552e-8\n",
      "Loss: 2.841742355975064e-8\n",
      "Loss: 2.7843447091126117e-8\n"
     ]
    },
    {
     "name": "stdout",
     "output_type": "stream",
     "text": [
      "Loss: 2.6933988416595908e-8\n",
      "Loss: 2.5925515550951983e-8\n",
      "Loss: 2.5327295464565765e-8\n"
     ]
    },
    {
     "name": "stdout",
     "output_type": "stream",
     "text": [
      "Loss: 2.5130572317694518e-8\n",
      "Loss: 2.44849840319673e-8\n",
      "Loss: 2.3937254908052787e-8\n"
     ]
    },
    {
     "name": "stdout",
     "output_type": "stream",
     "text": [
      "Loss: 2.2911409295508567e-8\n",
      "Loss: 2.2106782166580653e-8\n",
      "Loss: 2.1624282894901406e-8\n",
      "Loss: 2.1168937054723185e-8\n"
     ]
    },
    {
     "name": "stdout",
     "output_type": "stream",
     "text": [
      "Loss: 2.0134162306105437e-8\n",
      "Loss: 1.958796397741351e-8\n",
      "Loss: 1.9094857060615842e-8\n"
     ]
    },
    {
     "name": "stdout",
     "output_type": "stream",
     "text": [
      "Loss: 1.8826402135059174e-8\n",
      "Loss: 1.824589396817444e-8\n",
      "Loss: 1.782249765973717e-8\n"
     ]
    },
    {
     "name": "stdout",
     "output_type": "stream",
     "text": [
      "Loss: 1.7299809092291586e-8\n",
      "Loss: 1.7150745209220318e-8\n",
      "Loss: 1.6758237462955002e-8\n"
     ]
    },
    {
     "name": "stdout",
     "output_type": "stream",
     "text": [
      "Loss: 1.6591305267051377e-8\n",
      "Loss: 1.6432029464337794e-8\n",
      "Loss: 1.620196049635157e-8\n"
     ]
    },
    {
     "name": "stdout",
     "output_type": "stream",
     "text": [
      "Loss: 1.6021873254517835e-8\n",
      "Loss: 1.578647518451407e-8\n"
     ]
    },
    {
     "name": "stdout",
     "output_type": "stream",
     "text": [
      "Loss: 1.5492181155311437e-8\n",
      "Loss: 1.5473028720056625e-8\n",
      "Loss: 1.5299262984137437e-8\n"
     ]
    },
    {
     "name": "stdout",
     "output_type": "stream",
     "text": [
      "Loss: 1.5086969470659354e-8\n",
      "Loss: 1.5030070779974532e-8\n",
      "Loss: 1.497116268189523e-8\n"
     ]
    },
    {
     "name": "stdout",
     "output_type": "stream",
     "text": [
      "Loss: 1.4952501600041496e-8\n",
      "Loss: 1.4900458557478516e-8\n"
     ]
    },
    {
     "name": "stdout",
     "output_type": "stream",
     "text": [
      "Loss: 1.4887747936123164e-8\n"
     ]
    },
    {
     "name": "stdout",
     "output_type": "stream",
     "text": [
      "Loss: 1.4883197899937492e-8\n"
     ]
    },
    {
     "name": "stdout",
     "output_type": "stream",
     "text": [
      "Loss: 1.4878748634472427e-8\n"
     ]
    },
    {
     "name": "stdout",
     "output_type": "stream",
     "text": [
      "Loss: 1.4868481124809037e-8\n"
     ]
    },
    {
     "name": "stdout",
     "output_type": "stream",
     "text": [
      "Loss: 1.484598376377356e-8\n"
     ]
    },
    {
     "name": "stdout",
     "output_type": "stream",
     "text": [
      "Loss: 1.4823262927045106e-8\n"
     ]
    },
    {
     "name": "stdout",
     "output_type": "stream",
     "text": [
      "Loss: 1.4819718295448436e-8\n"
     ]
    },
    {
     "name": "stdout",
     "output_type": "stream",
     "text": [
      "Loss: 1.4816426484723583e-8\n"
     ]
    },
    {
     "name": "stdout",
     "output_type": "stream",
     "text": [
      "Loss: 1.481604178708501e-8\n"
     ]
    },
    {
     "name": "stdout",
     "output_type": "stream",
     "text": [
      "Loss: 1.4814411304005339e-8\n"
     ]
    },
    {
     "name": "stdout",
     "output_type": "stream",
     "text": [
      "Loss: 1.4814411304005339e-8\n"
     ]
    },
    {
     "name": "stdout",
     "output_type": "stream",
     "text": [
      "Loss: 1.4814411304005339e-8\n"
     ]
    },
    {
     "data": {
      "text/plain": [
       "u: \u001b[0mComponentVector{Float64}(layer_1 = (weight = [0.5695119192938922; 0.3777965983100109; … ; 0.1867228635236578; -0.5669360797237354;;], bias = [-1.3714017991614453; -0.21148954798299863; … ; -0.5891954456150054; 0.8781533060100996;;]), layer_2 = (weight = [0.018112729491084528 1.0325553459078933 … -0.14325151157674307 0.40267880868516337; -0.4905167488808895 0.17618174213752794 … 0.4883868471489762 0.06801616392318706; … ; 0.5050760599938301 1.008952934210667 … -0.9657941415238576 0.25902080049316006; -0.02433353872736413 1.2918677448694693 … -0.14070828721180478 -0.06737011640029925], bias = [-0.03080653311950684; 1.2354189918358893; … ; -0.5208681490424365; -0.39125964605677693;;]), layer_3 = (weight = [-0.8594174099865115 0.3366762245046605 … -1.476188078863834 -0.024348281754714207; -0.46878857985225536 0.9340146572263646 … -0.398906563449627 0.585851462233842; … ; -0.6672013258136272 -0.8227473464545738 … 0.9776421574458959 -0.12392214398267355; 1.1927767597696903 -0.43795234517390835 … 0.4331244842603528 -0.2960051517020079], bias = [-1.6897039000961507; -0.08775918884737688; … ; 0.6313244204851535; -0.07895054386963735;;]), layer_4 = (weight = [1.0209356890814563 0.03351315150360834 … 0.18355366360898714 -1.3268658801900153; 0.28703659296669015 1.0547094309594864 … -0.5368341498216826 -0.5349582416236056; … ; -0.9612911268123966 -0.12752105118340884 … -0.6666287015617032 0.20652039672523734; -0.3153352320387371 0.08301323894267931 … 0.36182569774405726 -0.026981221237033337], bias = [-0.5285843761941382; 0.37171282122946864; … ; -0.27929190170479923; 0.745432811660569;;]), layer_5 = (weight = [-4.174021601152444 2.5271642887004826 … -5.091921353190681 3.2702965473262613], bias = [6.726703474676739;;]))"
      ]
     },
     "metadata": {},
     "output_type": "display_data"
    }
   ],
   "source": [
    "using OptimizationOptimisers\n",
    "res = Optimization.solve(prob, BFGS(); maxiters=2000, callback=callback)"
   ]
  },
  {
   "cell_type": "code",
   "execution_count": 12,
   "metadata": {},
   "outputs": [
    {
     "data": {
      "image/png": "[encoded data removed]",
      "image/svg+xml": [
       "<?xml version=\"1.0\" encoding=\"utf-8\"?>\n",
       "<svg xmlns=\"http://www.w3.org/2000/svg\" xmlns:xlink=\"http://www.w3.org/1999/xlink\" width=\"600\" height=\"400\" viewBox=\"0 0 2400 1600\">\n",
       "<defs>\n",
       "  <clipPath id=\"clip550\">\n",
       "    <rect x=\"0\" y=\"0\" width=\"2400\" height=\"1600\"/>\n",
       "  </clipPath>\n",
       "</defs>\n",
       "<path clip-path=\"url(#clip550)\" d=\"M0 1600 L2400 1600 L2400 0 L0 0  Z\" fill=\"#ffffff\" fill-rule=\"evenodd\" fill-opacity=\"1\"/>\n",
       "<defs>\n",
       "  <clipPath id=\"clip551\">\n",
       "    <rect x=\"480\" y=\"0\" width=\"1681\" height=\"1600\"/>\n",
       "  </clipPath>\n",
       "</defs>\n",
       "<path clip-path=\"url(#clip550)\" d=\"M141.853 1486.45 L2352.76 1486.45 L2352.76 47.2441 L141.853 47.2441  Z\" fill=\"#ffffff\" fill-rule=\"evenodd\" fill-opacity=\"1\"/>\n",
       "<defs>\n",
       "  <clipPath id=\"clip552\">\n",
       "    <rect x=\"141\" y=\"47\" width=\"2212\" height=\"1440\"/>\n",
       "  </clipPath>\n",
       "</defs>\n",
       "<polyline clip-path=\"url(#clip552)\" style=\"stroke:#000000; stroke-linecap:round; stroke-linejoin:round; stroke-width:2; stroke-opacity:0.1; fill:none\" points=\"204.426,1486.45 204.426,47.2441 \"/>\n",
       "<polyline clip-path=\"url(#clip552)\" style=\"stroke:#000000; stroke-linecap:round; stroke-linejoin:round; stroke-width:2; stroke-opacity:0.1; fill:none\" points=\"725.865,1486.45 725.865,47.2441 \"/>\n",
       "<polyline clip-path=\"url(#clip552)\" style=\"stroke:#000000; stroke-linecap:round; stroke-linejoin:round; stroke-width:2; stroke-opacity:0.1; fill:none\" points=\"1247.3,1486.45 1247.3,47.2441 \"/>\n",
       "<polyline clip-path=\"url(#clip552)\" style=\"stroke:#000000; stroke-linecap:round; stroke-linejoin:round; stroke-width:2; stroke-opacity:0.1; fill:none\" points=\"1768.74,1486.45 1768.74,47.2441 \"/>\n",
       "<polyline clip-path=\"url(#clip552)\" style=\"stroke:#000000; stroke-linecap:round; stroke-linejoin:round; stroke-width:2; stroke-opacity:0.1; fill:none\" points=\"2290.18,1486.45 2290.18,47.2441 \"/>\n",
       "<polyline clip-path=\"url(#clip550)\" style=\"stroke:#000000; stroke-linecap:round; stroke-linejoin:round; stroke-width:4; stroke-opacity:1; fill:none\" points=\"141.853,1486.45 2352.76,1486.45 \"/>\n",
       "<polyline clip-path=\"url(#clip550)\" style=\"stroke:#000000; stroke-linecap:round; stroke-linejoin:round; stroke-width:4; stroke-opacity:1; fill:none\" points=\"204.426,1486.45 204.426,1467.55 \"/>\n",
       "<polyline clip-path=\"url(#clip550)\" style=\"stroke:#000000; stroke-linecap:round; stroke-linejoin:round; stroke-width:4; stroke-opacity:1; fill:none\" points=\"725.865,1486.45 725.865,1467.55 \"/>\n",
       "<polyline clip-path=\"url(#clip550)\" style=\"stroke:#000000; stroke-linecap:round; stroke-linejoin:round; stroke-width:4; stroke-opacity:1; fill:none\" points=\"1247.3,1486.45 1247.3,1467.55 \"/>\n",
       "<polyline clip-path=\"url(#clip550)\" style=\"stroke:#000000; stroke-linecap:round; stroke-linejoin:round; stroke-width:4; stroke-opacity:1; fill:none\" points=\"1768.74,1486.45 1768.74,1467.55 \"/>\n",
       "<polyline clip-path=\"url(#clip550)\" style=\"stroke:#000000; stroke-linecap:round; stroke-linejoin:round; stroke-width:4; stroke-opacity:1; fill:none\" points=\"2290.18,1486.45 2290.18,1467.55 \"/>\n",
       "<path clip-path=\"url(#clip550)\" d=\"M181.81 1517.37 Q178.199 1517.37 176.37 1520.93 Q174.565 1524.47 174.565 1531.6 Q174.565 1538.71 176.37 1542.27 Q178.199 1545.82 181.81 1545.82 Q185.444 1545.82 187.25 1542.27 Q189.079 1538.71 189.079 1531.6 Q189.079 1524.47 187.25 1520.93 Q185.444 1517.37 181.81 1517.37 M181.81 1513.66 Q187.62 1513.66 190.676 1518.27 Q193.754 1522.85 193.754 1531.6 Q193.754 1540.33 190.676 1544.94 Q187.62 1549.52 181.81 1549.52 Q176 1549.52 172.921 1544.94 Q169.866 1540.33 169.866 1531.6 Q169.866 1522.85 172.921 1518.27 Q176 1513.66 181.81 1513.66 Z\" fill=\"#000000\" fill-rule=\"nonzero\" fill-opacity=\"1\" /><path clip-path=\"url(#clip550)\" d=\"M201.972 1542.97 L206.856 1542.97 L206.856 1548.85 L201.972 1548.85 L201.972 1542.97 Z\" fill=\"#000000\" fill-rule=\"nonzero\" fill-opacity=\"1\" /><path clip-path=\"url(#clip550)\" d=\"M227.041 1517.37 Q223.43 1517.37 221.602 1520.93 Q219.796 1524.47 219.796 1531.6 Q219.796 1538.71 221.602 1542.27 Q223.43 1545.82 227.041 1545.82 Q230.676 1545.82 232.481 1542.27 Q234.31 1538.71 234.31 1531.6 Q234.31 1524.47 232.481 1520.93 Q230.676 1517.37 227.041 1517.37 M227.041 1513.66 Q232.851 1513.66 235.907 1518.27 Q238.986 1522.85 238.986 1531.6 Q238.986 1540.33 235.907 1544.94 Q232.851 1549.52 227.041 1549.52 Q221.231 1549.52 218.152 1544.94 Q215.097 1540.33 215.097 1531.6 Q215.097 1522.85 218.152 1518.27 Q221.231 1513.66 227.041 1513.66 Z\" fill=\"#000000\" fill-rule=\"nonzero\" fill-opacity=\"1\" /><path clip-path=\"url(#clip550)\" d=\"M703.747 1517.37 Q700.136 1517.37 698.307 1520.93 Q696.502 1524.47 696.502 1531.6 Q696.502 1538.71 698.307 1542.27 Q700.136 1545.82 703.747 1545.82 Q707.381 1545.82 709.187 1542.27 Q711.016 1538.71 711.016 1531.6 Q711.016 1524.47 709.187 1520.93 Q707.381 1517.37 703.747 1517.37 M703.747 1513.66 Q709.557 1513.66 712.613 1518.27 Q715.691 1522.85 715.691 1531.6 Q715.691 1540.33 712.613 1544.94 Q709.557 1549.52 703.747 1549.52 Q697.937 1549.52 694.858 1544.94 Q691.803 1540.33 691.803 1531.6 Q691.803 1522.85 694.858 1518.27 Q697.937 1513.66 703.747 1513.66 Z\" fill=\"#000000\" fill-rule=\"nonzero\" fill-opacity=\"1\" /><path clip-path=\"url(#clip550)\" d=\"M723.909 1542.97 L728.793 1542.97 L728.793 1548.85 L723.909 1548.85 L723.909 1542.97 Z\" fill=\"#000000\" fill-rule=\"nonzero\" fill-opacity=\"1\" /><path clip-path=\"url(#clip550)\" d=\"M739.025 1514.29 L757.381 1514.29 L757.381 1518.22 L743.307 1518.22 L743.307 1526.7 Q744.326 1526.35 745.344 1526.19 Q746.363 1526 747.381 1526 Q753.168 1526 756.548 1529.17 Q759.927 1532.34 759.927 1537.76 Q759.927 1543.34 756.455 1546.44 Q752.983 1549.52 746.664 1549.52 Q744.488 1549.52 742.219 1549.15 Q739.974 1548.78 737.566 1548.04 L737.566 1543.34 Q739.65 1544.47 741.872 1545.03 Q744.094 1545.58 746.571 1545.58 Q750.576 1545.58 752.914 1543.48 Q755.251 1541.37 755.251 1537.76 Q755.251 1534.15 752.914 1532.04 Q750.576 1529.94 746.571 1529.94 Q744.696 1529.94 742.821 1530.35 Q740.969 1530.77 739.025 1531.65 L739.025 1514.29 Z\" fill=\"#000000\" fill-rule=\"nonzero\" fill-opacity=\"1\" /><path clip-path=\"url(#clip550)\" d=\"M1214.46 1544.91 L1222.1 1544.91 L1222.1 1518.55 L1213.79 1520.21 L1213.79 1515.95 L1222.05 1514.29 L1226.73 1514.29 L1226.73 1544.91 L1234.36 1544.91 L1234.36 1548.85 L1214.46 1548.85 L1214.46 1544.91 Z\" fill=\"#000000\" fill-rule=\"nonzero\" fill-opacity=\"1\" /><path clip-path=\"url(#clip550)\" d=\"M1243.81 1542.97 L1248.69 1542.97 L1248.69 1548.85 L1243.81 1548.85 L1243.81 1542.97 Z\" fill=\"#000000\" fill-rule=\"nonzero\" fill-opacity=\"1\" /><path clip-path=\"url(#clip550)\" d=\"M1268.88 1517.37 Q1265.27 1517.37 1263.44 1520.93 Q1261.63 1524.47 1261.63 1531.6 Q1261.63 1538.71 1263.44 1542.27 Q1265.27 1545.82 1268.88 1545.82 Q1272.51 1545.82 1274.32 1542.27 Q1276.15 1538.71 1276.15 1531.6 Q1276.15 1524.47 1274.32 1520.93 Q1272.51 1517.37 1268.88 1517.37 M1268.88 1513.66 Q1274.69 1513.66 1277.74 1518.27 Q1280.82 1522.85 1280.82 1531.6 Q1280.82 1540.33 1277.74 1544.94 Q1274.69 1549.52 1268.88 1549.52 Q1263.07 1549.52 1259.99 1544.94 Q1256.93 1540.33 1256.93 1531.6 Q1256.93 1522.85 1259.99 1518.27 Q1263.07 1513.66 1268.88 1513.66 Z\" fill=\"#000000\" fill-rule=\"nonzero\" fill-opacity=\"1\" /><path clip-path=\"url(#clip550)\" d=\"M1736.39 1544.91 L1744.03 1544.91 L1744.03 1518.55 L1735.72 1520.21 L1735.72 1515.95 L1743.99 1514.29 L1748.66 1514.29 L1748.66 1544.91 L1756.3 1544.91 L1756.3 1548.85 L1736.39 1548.85 L1736.39 1544.91 Z\" fill=\"#000000\" fill-rule=\"nonzero\" fill-opacity=\"1\" /><path clip-path=\"url(#clip550)\" d=\"M1765.75 1542.97 L1770.63 1542.97 L1770.63 1548.85 L1765.75 1548.85 L1765.75 1542.97 Z\" fill=\"#000000\" fill-rule=\"nonzero\" fill-opacity=\"1\" /><path clip-path=\"url(#clip550)\" d=\"M1780.86 1514.29 L1799.22 1514.29 L1799.22 1518.22 L1785.14 1518.22 L1785.14 1526.7 Q1786.16 1526.35 1787.18 1526.19 Q1788.2 1526 1789.22 1526 Q1795.01 1526 1798.38 1529.17 Q1801.76 1532.34 1801.76 1537.76 Q1801.76 1543.34 1798.29 1546.44 Q1794.82 1549.52 1788.5 1549.52 Q1786.32 1549.52 1784.06 1549.15 Q1781.81 1548.78 1779.4 1548.04 L1779.4 1543.34 Q1781.49 1544.47 1783.71 1545.03 Q1785.93 1545.58 1788.41 1545.58 Q1792.41 1545.58 1794.75 1543.48 Q1797.09 1541.37 1797.09 1537.76 Q1797.09 1534.15 1794.75 1532.04 Q1792.41 1529.94 1788.41 1529.94 Q1786.53 1529.94 1784.66 1530.35 Q1782.81 1530.77 1780.86 1531.65 L1780.86 1514.29 Z\" fill=\"#000000\" fill-rule=\"nonzero\" fill-opacity=\"1\" /><path clip-path=\"url(#clip550)\" d=\"M2261.42 1544.91 L2277.74 1544.91 L2277.74 1548.85 L2255.8 1548.85 L2255.8 1544.91 Q2258.46 1542.16 2263.04 1537.53 Q2267.65 1532.88 2268.83 1531.53 Q2271.07 1529.01 2271.95 1527.27 Q2272.86 1525.51 2272.86 1523.82 Q2272.86 1521.07 2270.91 1519.33 Q2268.99 1517.6 2265.89 1517.6 Q2263.69 1517.6 2261.24 1518.36 Q2258.81 1519.13 2256.03 1520.68 L2256.03 1515.95 Q2258.85 1514.82 2261.31 1514.24 Q2263.76 1513.66 2265.8 1513.66 Q2271.17 1513.66 2274.36 1516.35 Q2277.56 1519.03 2277.56 1523.52 Q2277.56 1525.65 2276.75 1527.57 Q2275.96 1529.47 2273.85 1532.07 Q2273.27 1532.74 2270.17 1535.95 Q2267.07 1539.15 2261.42 1544.91 Z\" fill=\"#000000\" fill-rule=\"nonzero\" fill-opacity=\"1\" /><path clip-path=\"url(#clip550)\" d=\"M2287.56 1542.97 L2292.44 1542.97 L2292.44 1548.85 L2287.56 1548.85 L2287.56 1542.97 Z\" fill=\"#000000\" fill-rule=\"nonzero\" fill-opacity=\"1\" /><path clip-path=\"url(#clip550)\" d=\"M2312.63 1517.37 Q2309.01 1517.37 2307.19 1520.93 Q2305.38 1524.47 2305.38 1531.6 Q2305.38 1538.71 2307.19 1542.27 Q2309.01 1545.82 2312.63 1545.82 Q2316.26 1545.82 2318.06 1542.27 Q2319.89 1538.71 2319.89 1531.6 Q2319.89 1524.47 2318.06 1520.93 Q2316.26 1517.37 2312.63 1517.37 M2312.63 1513.66 Q2318.44 1513.66 2321.49 1518.27 Q2324.57 1522.85 2324.57 1531.6 Q2324.57 1540.33 2321.49 1544.94 Q2318.44 1549.52 2312.63 1549.52 Q2306.82 1549.52 2303.74 1544.94 Q2300.68 1540.33 2300.68 1531.6 Q2300.68 1522.85 2303.74 1518.27 Q2306.82 1513.66 2312.63 1513.66 Z\" fill=\"#000000\" fill-rule=\"nonzero\" fill-opacity=\"1\" /><polyline clip-path=\"url(#clip552)\" style=\"stroke:#000000; stroke-linecap:round; stroke-linejoin:round; stroke-width:2; stroke-opacity:0.1; fill:none\" points=\"141.853,1238.35 2352.76,1238.35 \"/>\n",
       "<polyline clip-path=\"url(#clip552)\" style=\"stroke:#000000; stroke-linecap:round; stroke-linejoin:round; stroke-width:2; stroke-opacity:0.1; fill:none\" points=\"141.853,980.419 2352.76,980.419 \"/>\n",
       "<polyline clip-path=\"url(#clip552)\" style=\"stroke:#000000; stroke-linecap:round; stroke-linejoin:round; stroke-width:2; stroke-opacity:0.1; fill:none\" points=\"141.853,722.492 2352.76,722.492 \"/>\n",
       "<polyline clip-path=\"url(#clip552)\" style=\"stroke:#000000; stroke-linecap:round; stroke-linejoin:round; stroke-width:2; stroke-opacity:0.1; fill:none\" points=\"141.853,464.566 2352.76,464.566 \"/>\n",
       "<polyline clip-path=\"url(#clip552)\" style=\"stroke:#000000; stroke-linecap:round; stroke-linejoin:round; stroke-width:2; stroke-opacity:0.1; fill:none\" points=\"141.853,206.639 2352.76,206.639 \"/>\n",
       "<polyline clip-path=\"url(#clip550)\" style=\"stroke:#000000; stroke-linecap:round; stroke-linejoin:round; stroke-width:4; stroke-opacity:1; fill:none\" points=\"141.853,1486.45 141.853,47.2441 \"/>\n",
       "<polyline clip-path=\"url(#clip550)\" style=\"stroke:#000000; stroke-linecap:round; stroke-linejoin:round; stroke-width:4; stroke-opacity:1; fill:none\" points=\"141.853,1238.35 160.751,1238.35 \"/>\n",
       "<polyline clip-path=\"url(#clip550)\" style=\"stroke:#000000; stroke-linecap:round; stroke-linejoin:round; stroke-width:4; stroke-opacity:1; fill:none\" points=\"141.853,980.419 160.751,980.419 \"/>\n",
       "<polyline clip-path=\"url(#clip550)\" style=\"stroke:#000000; stroke-linecap:round; stroke-linejoin:round; stroke-width:4; stroke-opacity:1; fill:none\" points=\"141.853,722.492 160.751,722.492 \"/>\n",
       "<polyline clip-path=\"url(#clip550)\" style=\"stroke:#000000; stroke-linecap:round; stroke-linejoin:round; stroke-width:4; stroke-opacity:1; fill:none\" points=\"141.853,464.566 160.751,464.566 \"/>\n",
       "<polyline clip-path=\"url(#clip550)\" style=\"stroke:#000000; stroke-linecap:round; stroke-linejoin:round; stroke-width:4; stroke-opacity:1; fill:none\" points=\"141.853,206.639 160.751,206.639 \"/>\n",
       "<path clip-path=\"url(#clip550)\" d=\"M54.5569 1251.69 L62.1958 1251.69 L62.1958 1225.33 L53.8856 1226.99 L53.8856 1222.73 L62.1495 1221.07 L66.8254 1221.07 L66.8254 1251.69 L74.4642 1251.69 L74.4642 1255.63 L54.5569 1255.63 L54.5569 1251.69 Z\" fill=\"#000000\" fill-rule=\"nonzero\" fill-opacity=\"1\" /><path clip-path=\"url(#clip550)\" d=\"M93.9086 1224.14 Q90.2975 1224.14 88.4688 1227.71 Q86.6632 1231.25 86.6632 1238.38 Q86.6632 1245.49 88.4688 1249.05 Q90.2975 1252.59 93.9086 1252.59 Q97.5428 1252.59 99.3483 1249.05 Q101.177 1245.49 101.177 1238.38 Q101.177 1231.25 99.3483 1227.71 Q97.5428 1224.14 93.9086 1224.14 M93.9086 1220.44 Q99.7187 1220.44 102.774 1225.05 Q105.853 1229.63 105.853 1238.38 Q105.853 1247.11 102.774 1251.71 Q99.7187 1256.3 93.9086 1256.3 Q88.0984 1256.3 85.0197 1251.71 Q81.9642 1247.11 81.9642 1238.38 Q81.9642 1229.63 85.0197 1225.05 Q88.0984 1220.44 93.9086 1220.44 Z\" fill=\"#000000\" fill-rule=\"nonzero\" fill-opacity=\"1\" /><path clip-path=\"url(#clip550)\" d=\"M57.7745 993.764 L74.0939 993.764 L74.0939 997.699 L52.1495 997.699 L52.1495 993.764 Q54.8115 991.009 59.3949 986.38 Q64.0013 981.727 65.1819 980.385 Q67.4272 977.861 68.3068 976.125 Q69.2096 974.366 69.2096 972.676 Q69.2096 969.922 67.2652 968.186 Q65.3439 966.449 62.2421 966.449 Q60.043 966.449 57.5893 967.213 Q55.1588 967.977 52.381 969.528 L52.381 964.806 Q55.2051 963.672 57.6588 963.093 Q60.1124 962.514 62.1495 962.514 Q67.5198 962.514 70.7142 965.199 Q73.9087 967.885 73.9087 972.375 Q73.9087 974.505 73.0985 976.426 Q72.3115 978.324 70.205 980.917 Q69.6263 981.588 66.5245 984.806 Q63.4226 988 57.7745 993.764 Z\" fill=\"#000000\" fill-rule=\"nonzero\" fill-opacity=\"1\" /><path clip-path=\"url(#clip550)\" d=\"M93.9086 966.218 Q90.2975 966.218 88.4688 969.783 Q86.6632 973.324 86.6632 980.454 Q86.6632 987.56 88.4688 991.125 Q90.2975 994.667 93.9086 994.667 Q97.5428 994.667 99.3483 991.125 Q101.177 987.56 101.177 980.454 Q101.177 973.324 99.3483 969.783 Q97.5428 966.218 93.9086 966.218 M93.9086 962.514 Q99.7187 962.514 102.774 967.121 Q105.853 971.704 105.853 980.454 Q105.853 989.181 102.774 993.787 Q99.7187 998.371 93.9086 998.371 Q88.0984 998.371 85.0197 993.787 Q81.9642 989.181 81.9642 980.454 Q81.9642 971.704 85.0197 967.121 Q88.0984 962.514 93.9086 962.514 Z\" fill=\"#000000\" fill-rule=\"nonzero\" fill-opacity=\"1\" /><path clip-path=\"url(#clip550)\" d=\"M67.9133 721.138 Q71.2698 721.856 73.1448 724.124 Q75.0429 726.393 75.0429 729.726 Q75.0429 734.842 71.5244 737.643 Q68.0059 740.444 61.5245 740.444 Q59.3486 740.444 57.0338 740.004 Q54.7421 739.587 52.2884 738.731 L52.2884 734.217 Q54.2328 735.351 56.5477 735.93 Q58.8625 736.509 61.3856 736.509 Q65.7837 736.509 68.0754 734.772 Q70.3902 733.036 70.3902 729.726 Q70.3902 726.671 68.2374 724.958 Q66.1078 723.222 62.2884 723.222 L58.2606 723.222 L58.2606 719.379 L62.4735 719.379 Q65.9226 719.379 67.7513 718.013 Q69.58 716.624 69.58 714.032 Q69.58 711.37 67.6819 709.958 Q65.8069 708.523 62.2884 708.523 Q60.3671 708.523 58.168 708.939 Q55.969 709.356 53.3301 710.236 L53.3301 706.069 Q55.9921 705.328 58.3069 704.958 Q60.6449 704.587 62.705 704.587 Q68.0291 704.587 71.1309 707.018 Q74.2327 709.425 74.2327 713.546 Q74.2327 716.416 72.5892 718.407 Q70.9457 720.374 67.9133 721.138 Z\" fill=\"#000000\" fill-rule=\"nonzero\" fill-opacity=\"1\" /><path clip-path=\"url(#clip550)\" d=\"M93.9086 708.291 Q90.2975 708.291 88.4688 711.856 Q86.6632 715.398 86.6632 722.527 Q86.6632 729.634 88.4688 733.198 Q90.2975 736.74 93.9086 736.74 Q97.5428 736.74 99.3483 733.198 Q101.177 729.634 101.177 722.527 Q101.177 715.398 99.3483 711.856 Q97.5428 708.291 93.9086 708.291 M93.9086 704.587 Q99.7187 704.587 102.774 709.194 Q105.853 713.777 105.853 722.527 Q105.853 731.254 102.774 735.86 Q99.7187 740.444 93.9086 740.444 Q88.0984 740.444 85.0197 735.86 Q81.9642 731.254 81.9642 722.527 Q81.9642 713.777 85.0197 709.194 Q88.0984 704.587 93.9086 704.587 Z\" fill=\"#000000\" fill-rule=\"nonzero\" fill-opacity=\"1\" /><path clip-path=\"url(#clip550)\" d=\"M66.5939 451.36 L54.7884 469.809 L66.5939 469.809 L66.5939 451.36 M65.367 447.286 L71.2466 447.286 L71.2466 469.809 L76.1772 469.809 L76.1772 473.698 L71.2466 473.698 L71.2466 481.846 L66.5939 481.846 L66.5939 473.698 L50.9921 473.698 L50.9921 469.184 L65.367 447.286 Z\" fill=\"#000000\" fill-rule=\"nonzero\" fill-opacity=\"1\" /><path clip-path=\"url(#clip550)\" d=\"M93.9086 450.364 Q90.2975 450.364 88.4688 453.929 Q86.6632 457.471 86.6632 464.6 Q86.6632 471.707 88.4688 475.272 Q90.2975 478.813 93.9086 478.813 Q97.5428 478.813 99.3483 475.272 Q101.177 471.707 101.177 464.6 Q101.177 457.471 99.3483 453.929 Q97.5428 450.364 93.9086 450.364 M93.9086 446.661 Q99.7187 446.661 102.774 451.267 Q105.853 455.85 105.853 464.6 Q105.853 473.327 102.774 477.934 Q99.7187 482.517 93.9086 482.517 Q88.0984 482.517 85.0197 477.934 Q81.9642 473.327 81.9642 464.6 Q81.9642 455.85 85.0197 451.267 Q88.0984 446.661 93.9086 446.661 Z\" fill=\"#000000\" fill-rule=\"nonzero\" fill-opacity=\"1\" /><path clip-path=\"url(#clip550)\" d=\"M53.793 189.359 L72.1494 189.359 L72.1494 193.294 L58.0754 193.294 L58.0754 201.766 Q59.0939 201.419 60.1124 201.257 Q61.131 201.072 62.1495 201.072 Q67.9365 201.072 71.3161 204.243 Q74.6957 207.414 74.6957 212.831 Q74.6957 218.41 71.2235 221.511 Q67.7513 224.59 61.4319 224.59 Q59.256 224.59 56.9875 224.22 Q54.7421 223.849 52.3347 223.109 L52.3347 218.41 Q54.418 219.544 56.6402 220.099 Q58.8625 220.655 61.3393 220.655 Q65.3439 220.655 67.6819 218.548 Q70.0198 216.442 70.0198 212.831 Q70.0198 209.22 67.6819 207.113 Q65.3439 205.007 61.3393 205.007 Q59.4643 205.007 57.5893 205.424 Q55.7375 205.84 53.793 206.72 L53.793 189.359 Z\" fill=\"#000000\" fill-rule=\"nonzero\" fill-opacity=\"1\" /><path clip-path=\"url(#clip550)\" d=\"M93.9086 192.438 Q90.2975 192.438 88.4688 196.002 Q86.6632 199.544 86.6632 206.674 Q86.6632 213.78 88.4688 217.345 Q90.2975 220.886 93.9086 220.886 Q97.5428 220.886 99.3483 217.345 Q101.177 213.78 101.177 206.674 Q101.177 199.544 99.3483 196.002 Q97.5428 192.438 93.9086 192.438 M93.9086 188.734 Q99.7187 188.734 102.774 193.34 Q105.853 197.924 105.853 206.674 Q105.853 215.4 102.774 220.007 Q99.7187 224.59 93.9086 224.59 Q88.0984 224.59 85.0197 220.007 Q81.9642 215.4 81.9642 206.674 Q81.9642 197.924 85.0197 193.34 Q88.0984 188.734 93.9086 188.734 Z\" fill=\"#000000\" fill-rule=\"nonzero\" fill-opacity=\"1\" /><polyline clip-path=\"url(#clip552)\" style=\"stroke:#009af9; stroke-linecap:round; stroke-linejoin:round; stroke-width:4; stroke-opacity:1; fill:none\" points=\"204.426,1444.69 206.514,1444.74 208.601,1444.79 210.689,1444.84 212.777,1444.88 214.865,1444.93 216.953,1444.97 219.041,1445.02 221.128,1445.06 223.216,1445.1 225.304,1445.14 227.392,1445.18 229.48,1445.21 231.568,1445.25 233.656,1445.28 235.743,1445.31 237.831,1445.34 239.919,1445.37 242.007,1445.4 244.095,1445.43 246.183,1445.46 248.27,1445.48 250.358,1445.5 252.446,1445.53 254.534,1445.55 256.622,1445.57 258.71,1445.59 260.797,1445.6 262.885,1445.62 264.973,1445.63 267.061,1445.65 269.149,1445.66 271.237,1445.67 273.325,1445.68 275.412,1445.69 277.5,1445.7 279.588,1445.7 281.676,1445.71 283.764,1445.71 285.852,1445.71 287.939,1445.72 290.027,1445.72 292.115,1445.71 294.203,1445.71 296.291,1445.71 298.379,1445.7 300.467,1445.7 302.554,1445.69 304.642,1445.68 306.73,1445.67 308.818,1445.66 310.906,1445.65 312.994,1445.64 315.081,1445.62 317.169,1445.61 319.257,1445.59 321.345,1445.57 323.433,1445.55 325.521,1445.53 327.609,1445.51 329.696,1445.49 331.784,1445.46 333.872,1445.44 335.96,1445.41 338.048,1445.39 340.136,1445.36 342.223,1445.33 344.311,1445.3 346.399,1445.26 348.487,1445.23 350.575,1445.2 352.663,1445.16 354.751,1445.12 356.838,1445.09 358.926,1445.05 361.014,1445.01 363.102,1444.97 365.19,1444.92 367.278,1444.88 369.365,1444.84 371.453,1444.79 373.541,1444.74 375.629,1444.69 377.717,1444.64 379.805,1444.59 381.893,1444.54 383.98,1444.49 386.068,1444.44 388.156,1444.38 390.244,1444.32 392.332,1444.27 394.42,1444.21 396.507,1444.15 398.595,1444.09 400.683,1444.03 402.771,1443.96 404.859,1443.9 406.947,1443.83 409.035,1443.77 411.122,1443.7 413.21,1443.63 415.298,1443.56 417.386,1443.49 419.474,1443.42 421.562,1443.35 423.649,1443.27 425.737,1443.2 427.825,1443.12 429.913,1443.04 432.001,1442.96 434.089,1442.88 436.177,1442.8 438.264,1442.72 440.352,1442.64 442.44,1442.55 444.528,1442.47 446.616,1442.38 448.704,1442.29 450.791,1442.21 452.879,1442.12 454.967,1442.02 457.055,1441.93 459.143,1441.84 461.231,1441.74 463.318,1441.65 465.406,1441.55 467.494,1441.45 469.582,1441.36 471.67,1441.26 473.758,1441.15 475.846,1441.05 477.933,1440.95 480.021,1440.84 482.109,1440.74 484.197,1440.63 486.285,1440.52 488.373,1440.41 490.46,1440.3 492.548,1440.19 494.636,1440.08 496.724,1439.97 498.812,1439.85 500.9,1439.74 502.988,1439.62 505.075,1439.5 507.163,1439.38 509.251,1439.26 511.339,1439.14 513.427,1439.02 515.515,1438.9 517.602,1438.77 519.69,1438.64 521.778,1438.52 523.866,1438.39 525.954,1438.26 528.042,1438.13 530.13,1438 532.217,1437.86 534.305,1437.73 536.393,1437.6 538.481,1437.46 540.569,1437.32 542.657,1437.18 544.744,1437.04 546.832,1436.9 548.92,1436.76 551.008,1436.62 553.096,1436.47 555.184,1436.33 557.272,1436.18 559.359,1436.04 561.447,1435.89 563.535,1435.74 565.623,1435.59 567.711,1435.43 569.799,1435.28 571.886,1435.13 573.974,1434.97 576.062,1434.81 578.15,1434.65 580.238,1434.5 582.326,1434.34 584.414,1434.17 586.501,1434.01 588.589,1433.85 590.677,1433.68 592.765,1433.52 594.853,1433.35 596.941,1433.18 599.028,1433.01 601.116,1432.84 603.204,1432.67 605.292,1432.49 607.38,1432.32 609.468,1432.14 611.556,1431.97 613.643,1431.79 615.731,1431.61 617.819,1431.43 619.907,1431.25 621.995,1431.06 624.083,1430.88 626.17,1430.7 628.258,1430.51 630.346,1430.32 632.434,1430.13 634.522,1429.94 636.61,1429.75 638.698,1429.56 640.785,1429.37 642.873,1429.17 644.961,1428.97 647.049,1428.78 649.137,1428.58 651.225,1428.38 653.312,1428.18 655.4,1427.98 657.488,1427.77 659.576,1427.57 661.664,1427.36 663.752,1427.15 665.839,1426.95 667.927,1426.74 670.015,1426.52 672.103,1426.31 674.191,1426.1 676.279,1425.88 678.367,1425.67 680.454,1425.45 682.542,1425.23 684.63,1425.01 686.718,1424.79 688.806,1424.57 690.894,1424.34 692.981,1424.12 695.069,1423.89 697.157,1423.67 699.245,1423.44 701.333,1423.21 703.421,1422.98 705.509,1422.74 707.596,1422.51 709.684,1422.27 711.772,1422.04 713.86,1421.8 715.948,1421.56 718.036,1421.32 720.123,1421.08 722.211,1420.83 724.299,1420.59 726.387,1420.34 728.475,1420.1 730.563,1419.85 732.651,1419.6 734.738,1419.35 736.826,1419.1 738.914,1418.84 741.002,1418.59 743.09,1418.33 745.178,1418.07 747.265,1417.81 749.353,1417.55 751.441,1417.29 753.529,1417.03 755.617,1416.76 757.705,1416.5 759.793,1416.23 761.88,1415.96 763.968,1415.69 766.056,1415.42 768.144,1415.14 770.232,1414.87 772.32,1414.59 774.407,1414.32 776.495,1414.04 778.583,1413.76 780.671,1413.48 782.759,1413.19 784.847,1412.91 786.935,1412.62 789.022,1412.33 791.11,1412.05 793.198,1411.76 795.286,1411.46 797.374,1411.17 799.462,1410.88 801.549,1410.58 803.637,1410.28 805.725,1409.98 807.813,1409.68 809.901,1409.38 811.989,1409.08 814.077,1408.77 816.164,1408.47 818.252,1408.16 820.34,1407.85 822.428,1407.54 824.516,1407.23 826.604,1406.91 828.691,1406.6 830.779,1406.28 832.867,1405.96 834.955,1405.64 837.043,1405.32 839.131,1405 841.219,1404.67 843.306,1404.35 845.394,1404.02 847.482,1403.69 849.57,1403.36 851.658,1403.02 853.746,1402.69 855.833,1402.36 857.921,1402.02 860.009,1401.68 862.097,1401.34 864.185,1401 866.273,1400.65 868.36,1400.31 870.448,1399.96 872.536,1399.61 874.624,1399.26 876.712,1398.91 878.8,1398.56 880.888,1398.2 882.975,1397.85 885.063,1397.49 887.151,1397.13 889.239,1396.77 891.327,1396.4 893.415,1396.04 895.502,1395.67 897.59,1395.3 899.678,1394.93 901.766,1394.56 903.854,1394.19 905.942,1393.81 908.03,1393.44 910.117,1393.06 912.205,1392.68 914.293,1392.3 916.381,1391.91 918.469,1391.53 920.557,1391.14 922.644,1390.75 924.732,1390.36 926.82,1389.97 928.908,1389.57 930.996,1389.18 933.084,1388.78 935.172,1388.38 937.259,1387.98 939.347,1387.58 941.435,1387.17 943.523,1386.76 945.611,1386.36 947.699,1385.94 949.786,1385.53 951.874,1385.12 953.962,1384.7 956.05,1384.28 958.138,1383.87 960.226,1383.44 962.314,1383.02 964.401,1382.6 966.489,1382.17 968.577,1381.74 970.665,1381.31 972.753,1380.88 974.841,1380.44 976.928,1380 979.016,1379.57 981.104,1379.13 983.192,1378.68 985.28,1378.24 987.368,1377.79 989.456,1377.34 991.543,1376.89 993.631,1376.44 995.719,1375.99 997.807,1375.53 999.895,1375.07 1001.98,1374.61 1004.07,1374.15 1006.16,1373.69 1008.25,1373.22 1010.33,1372.75 1012.42,1372.28 1014.51,1371.81 1016.6,1371.34 1018.69,1370.86 1020.77,1370.38 1022.86,1369.9 1024.95,1369.42 1027.04,1368.93 1029.12,1368.45 1031.21,1367.96 1033.3,1367.47 1035.39,1366.97 1037.48,1366.48 1039.56,1365.98 1041.65,1365.48 1043.74,1364.98 1045.83,1364.48 1047.92,1363.97 1050,1363.46 1052.09,1362.95 1054.18,1362.44 1056.27,1361.93 1058.35,1361.41 1060.44,1360.89 1062.53,1360.37 1064.62,1359.85 1066.71,1359.32 1068.79,1358.79 1070.88,1358.26 1072.97,1357.73 1075.06,1357.2 1077.15,1356.66 1079.23,1356.12 1081.32,1355.58 1083.41,1355.03 1085.5,1354.49 1087.58,1353.94 1089.67,1353.39 1091.76,1352.84 1093.85,1352.28 1095.94,1351.72 1098.02,1351.16 1100.11,1350.6 1102.2,1350.04 1104.29,1349.47 1106.37,1348.9 1108.46,1348.33 1110.55,1347.75 1112.64,1347.18 1114.73,1346.6 1116.81,1346.01 1118.9,1345.43 1120.99,1344.84 1123.08,1344.25 1125.17,1343.66 1127.25,1343.07 1129.34,1342.47 1131.43,1341.87 1133.52,1341.27 1135.6,1340.67 1137.69,1340.06 1139.78,1339.45 1141.87,1338.84 1143.96,1338.23 1146.04,1337.61 1148.13,1336.99 1150.22,1336.37 1152.31,1335.74 1154.4,1335.12 1156.48,1334.49 1158.57,1333.85 1160.66,1333.22 1162.75,1332.58 1164.83,1331.94 1166.92,1331.3 1169.01,1330.65 1171.1,1330 1173.19,1329.35 1175.27,1328.7 1177.36,1328.04 1179.45,1327.38 1181.54,1326.72 1183.63,1326.06 1185.71,1325.39 1187.8,1324.72 1189.89,1324.05 1191.98,1323.37 1194.06,1322.69 1196.15,1322.01 1198.24,1321.33 1200.33,1320.64 1202.42,1319.95 1204.5,1319.26 1206.59,1318.56 1208.68,1317.86 1210.77,1317.16 1212.85,1316.46 1214.94,1315.75 1217.03,1315.04 1219.12,1314.33 1221.21,1313.61 1223.29,1312.89 1225.38,1312.17 1227.47,1311.44 1229.56,1310.72 1231.65,1309.98 1233.73,1309.25 1235.82,1308.51 1237.91,1307.77 1240,1307.03 1242.08,1306.28 1244.17,1305.53 1246.26,1304.78 1248.35,1304.03 1250.44,1303.27 1252.52,1302.51 1254.61,1301.74 1256.7,1300.97 1258.79,1300.2 1260.88,1299.43 1262.96,1298.65 1265.05,1297.87 1267.14,1297.09 1269.23,1296.3 1271.31,1295.51 1273.4,1294.72 1275.49,1293.92 1277.58,1293.12 1279.67,1292.32 1281.75,1291.51 1283.84,1290.7 1285.93,1289.89 1288.02,1289.07 1290.11,1288.25 1292.19,1287.43 1294.28,1286.6 1296.37,1285.77 1298.46,1284.94 1300.54,1284.1 1302.63,1283.26 1304.72,1282.42 1306.81,1281.57 1308.9,1280.72 1310.98,1279.86 1313.07,1279.01 1315.16,1278.15 1317.25,1277.28 1319.34,1276.41 1321.42,1275.54 1323.51,1274.67 1325.6,1273.79 1327.69,1272.91 1329.77,1272.02 1331.86,1271.13 1333.95,1270.24 1336.04,1269.34 1338.13,1268.44 1340.21,1267.54 1342.3,1266.63 1344.39,1265.72 1346.48,1264.8 1348.56,1263.88 1350.65,1262.96 1352.74,1262.03 1354.83,1261.1 1356.92,1260.17 1359,1259.23 1361.09,1258.29 1363.18,1257.34 1365.27,1256.39 1367.36,1255.44 1369.44,1254.48 1371.53,1253.52 1373.62,1252.56 1375.71,1251.59 1377.79,1250.62 1379.88,1249.64 1381.97,1248.66 1384.06,1247.67 1386.15,1246.68 1388.23,1245.69 1390.32,1244.69 1392.41,1243.69 1394.5,1242.69 1396.59,1241.68 1398.67,1240.67 1400.76,1239.65 1402.85,1238.63 1404.94,1237.6 1407.02,1236.57 1409.11,1235.54 1411.2,1234.5 1413.29,1233.46 1415.38,1232.41 1417.46,1231.36 1419.55,1230.31 1421.64,1229.25 1423.73,1228.18 1425.82,1227.12 1427.9,1226.04 1429.99,1224.97 1432.08,1223.89 1434.17,1222.8 1436.25,1221.71 1438.34,1220.62 1440.43,1219.52 1442.52,1218.42 1444.61,1217.31 1446.69,1216.2 1448.78,1215.08 1450.87,1213.96 1452.96,1212.83 1455.05,1211.7 1457.13,1210.57 1459.22,1209.43 1461.31,1208.29 1463.4,1207.14 1465.48,1205.98 1467.57,1204.83 1469.66,1203.66 1471.75,1202.5 1473.84,1201.33 1475.92,1200.15 1478.01,1198.97 1480.1,1197.78 1482.19,1196.59 1484.27,1195.39 1486.36,1194.19 1488.45,1192.99 1490.54,1191.78 1492.63,1190.56 1494.71,1189.34 1496.8,1188.12 1498.89,1186.89 1500.98,1185.65 1503.07,1184.41 1505.15,1183.17 1507.24,1181.92 1509.33,1180.66 1511.42,1179.4 1513.5,1178.14 1515.59,1176.87 1517.68,1175.59 1519.77,1174.31 1521.86,1173.02 1523.94,1171.73 1526.03,1170.44 1528.12,1169.14 1530.21,1167.83 1532.3,1166.52 1534.38,1165.2 1536.47,1163.88 1538.56,1162.55 1540.65,1161.22 1542.73,1159.88 1544.82,1158.53 1546.91,1157.18 1549,1155.83 1551.09,1154.47 1553.17,1153.1 1555.26,1151.73 1557.35,1150.35 1559.44,1148.97 1561.53,1147.58 1563.61,1146.19 1565.7,1144.79 1567.79,1143.38 1569.88,1141.97 1571.96,1140.56 1574.05,1139.13 1576.14,1137.71 1578.23,1136.27 1580.32,1134.83 1582.4,1133.39 1584.49,1131.94 1586.58,1130.48 1588.67,1129.02 1590.75,1127.55 1592.84,1126.07 1594.93,1124.59 1597.02,1123.11 1599.11,1121.62 1601.19,1120.12 1603.28,1118.61 1605.37,1117.1 1607.46,1115.59 1609.55,1114.06 1611.63,1112.53 1613.72,1111 1615.81,1109.46 1617.9,1107.91 1619.98,1106.36 1622.07,1104.8 1624.16,1103.23 1626.25,1101.66 1628.34,1100.08 1630.42,1098.49 1632.51,1096.9 1634.6,1095.3 1636.69,1093.7 1638.78,1092.09 1640.86,1090.47 1642.95,1088.85 1645.04,1087.22 1647.13,1085.58 1649.21,1083.94 1651.3,1082.29 1653.39,1080.63 1655.48,1078.96 1657.57,1077.29 1659.65,1075.62 1661.74,1073.93 1663.83,1072.24 1665.92,1070.55 1668.01,1068.84 1670.09,1067.13 1672.18,1065.41 1674.27,1063.69 1676.36,1061.96 1678.44,1060.22 1680.53,1058.47 1682.62,1056.72 1684.71,1054.96 1686.8,1053.19 1688.88,1051.42 1690.97,1049.64 1693.06,1047.85 1695.15,1046.05 1697.24,1044.25 1699.32,1042.44 1701.41,1040.62 1703.5,1038.8 1705.59,1036.97 1707.67,1035.13 1709.76,1033.28 1711.85,1031.43 1713.94,1029.56 1716.03,1027.7 1718.11,1025.82 1720.2,1023.93 1722.29,1022.04 1724.38,1020.14 1726.46,1018.24 1728.55,1016.32 1730.64,1014.4 1732.73,1012.47 1734.82,1010.53 1736.9,1008.59 1738.99,1006.63 1741.08,1004.67 1743.17,1002.7 1745.26,1000.72 1747.34,998.74 1749.43,996.747 1751.52,994.746 1753.61,992.736 1755.69,990.719 1757.78,988.694 1759.87,986.66 1761.96,984.619 1764.05,982.569 1766.13,980.511 1768.22,978.445 1770.31,976.37 1772.4,974.287 1774.49,972.195 1776.57,970.096 1778.66,967.987 1780.75,965.871 1782.84,963.745 1784.92,961.612 1787.01,959.469 1789.1,957.318 1791.19,955.159 1793.28,952.991 1795.36,950.814 1797.45,948.628 1799.54,946.433 1801.63,944.23 1803.72,942.018 1805.8,939.797 1807.89,937.567 1809.98,935.328 1812.07,933.08 1814.15,930.823 1816.24,928.556 1818.33,926.281 1820.42,923.997 1822.51,921.703 1824.59,919.401 1826.68,917.089 1828.77,914.767 1830.86,912.437 1832.95,910.097 1835.03,907.747 1837.12,905.389 1839.21,903.02 1841.3,900.643 1843.38,898.255 1845.47,895.858 1847.56,893.452 1849.65,891.035 1851.74,888.609 1853.82,886.174 1855.91,883.728 1858,881.273 1860.09,878.808 1862.17,876.333 1864.26,873.848 1866.35,871.353 1868.44,868.848 1870.53,866.332 1872.61,863.807 1874.7,861.272 1876.79,858.726 1878.88,856.171 1880.97,853.605 1883.05,851.028 1885.14,848.442 1887.23,845.845 1889.32,843.237 1891.4,840.619 1893.49,837.991 1895.58,835.352 1897.67,832.702 1899.76,830.042 1901.84,827.371 1903.93,824.689 1906.02,821.996 1908.11,819.293 1910.2,816.579 1912.28,813.854 1914.37,811.118 1916.46,808.371 1918.55,805.613 1920.63,802.844 1922.72,800.064 1924.81,797.272 1926.9,794.47 1928.99,791.656 1931.07,788.831 1933.16,785.994 1935.25,783.146 1937.34,780.287 1939.43,777.416 1941.51,774.534 1943.6,771.64 1945.69,768.735 1947.78,765.817 1949.86,762.889 1951.95,759.948 1954.04,756.995 1956.13,754.031 1958.22,751.055 1960.3,748.067 1962.39,745.066 1964.48,742.054 1966.57,739.03 1968.65,735.993 1970.74,732.945 1972.83,729.884 1974.92,726.811 1977.01,723.725 1979.09,720.627 1981.18,717.517 1983.27,714.394 1985.36,711.259 1987.45,708.111 1989.53,704.95 1991.62,701.777 1993.71,698.591 1995.8,695.392 1997.88,692.18 1999.97,688.956 2002.06,685.718 2004.15,682.468 2006.24,679.204 2008.32,675.928 2010.41,672.638 2012.5,669.335 2014.59,666.018 2016.68,662.689 2018.76,659.346 2020.85,655.99 2022.94,652.62 2025.03,649.236 2027.11,645.839 2029.2,642.429 2031.29,639.004 2033.38,635.566 2035.47,632.115 2037.55,628.649 2039.64,625.169 2041.73,621.676 2043.82,618.168 2045.91,614.646 2047.99,611.111 2050.08,607.561 2052.17,603.996 2054.26,600.418 2056.34,596.825 2058.43,593.217 2060.52,589.596 2062.61,585.959 2064.7,582.308 2066.78,578.643 2068.87,574.962 2070.96,571.267 2073.05,567.557 2075.14,563.832 2077.22,560.093 2079.31,556.338 2081.4,552.568 2083.49,548.783 2085.57,544.983 2087.66,541.167 2089.75,537.336 2091.84,533.49 2093.93,529.629 2096.01,525.752 2098.1,521.859 2100.19,517.951 2102.28,514.027 2104.36,510.087 2106.45,506.132 2108.54,502.16 2110.63,498.173 2112.72,494.169 2114.8,490.15 2116.89,486.115 2118.98,482.063 2121.07,477.995 2123.16,473.91 2125.24,469.81 2127.33,465.693 2129.42,461.559 2131.51,457.409 2133.59,453.242 2135.68,449.058 2137.77,444.858 2139.86,440.64 2141.95,436.406 2144.03,432.155 2146.12,427.886 2148.21,423.601 2150.3,419.298 2152.39,414.978 2154.47,410.641 2156.56,406.287 2158.65,401.914 2160.74,397.525 2162.82,393.117 2164.91,388.693 2167,384.25 2169.09,379.789 2171.18,375.311 2173.26,370.814 2175.35,366.3 2177.44,361.767 2179.53,357.216 2181.62,352.647 2183.7,348.06 2185.79,343.454 2187.88,338.83 2189.97,334.187 2192.05,329.526 2194.14,324.845 2196.23,320.147 2198.32,315.429 2200.41,310.692 2202.49,305.936 2204.58,301.161 2206.67,296.367 2208.76,291.554 2210.85,286.722 2212.93,281.87 2215.02,276.998 2217.11,272.107 2219.2,267.197 2221.28,262.266 2223.37,257.316 2225.46,252.346 2227.55,247.356 2229.64,242.346 2231.72,237.316 2233.81,232.266 2235.9,227.196 2237.99,222.105 2240.07,216.994 2242.16,211.862 2244.25,206.709 2246.34,201.536 2248.43,196.343 2250.51,191.128 2252.6,185.892 2254.69,180.636 2256.78,175.358 2258.87,170.059 2260.95,164.739 2263.04,159.398 2265.13,154.035 2267.22,148.65 2269.3,143.244 2271.39,137.817 2273.48,132.367 2275.57,126.896 2277.66,121.403 2279.74,115.887 2281.83,110.35 2283.92,104.79 2286.01,99.2079 2288.1,93.6035 2290.18,87.9766 \"/>\n",
       "<polyline clip-path=\"url(#clip552)\" style=\"stroke:#e26f46; stroke-linecap:round; stroke-linejoin:round; stroke-width:4; stroke-opacity:1; fill:none\" points=\"204.426,1444.69 206.514,1444.74 208.601,1444.79 210.689,1444.84 212.777,1444.88 214.865,1444.93 216.953,1444.97 219.041,1445.02 221.128,1445.06 223.216,1445.1 225.304,1445.14 227.392,1445.18 229.48,1445.21 231.568,1445.25 233.656,1445.28 235.743,1445.31 237.831,1445.34 239.919,1445.37 242.007,1445.4 244.095,1445.43 246.183,1445.46 248.27,1445.48 250.358,1445.5 252.446,1445.53 254.534,1445.55 256.622,1445.57 258.71,1445.59 260.797,1445.6 262.885,1445.62 264.973,1445.63 267.061,1445.65 269.149,1445.66 271.237,1445.67 273.325,1445.68 275.412,1445.69 277.5,1445.7 279.588,1445.7 281.676,1445.71 283.764,1445.71 285.852,1445.71 287.939,1445.72 290.027,1445.72 292.115,1445.71 294.203,1445.71 296.291,1445.71 298.379,1445.7 300.467,1445.7 302.554,1445.69 304.642,1445.68 306.73,1445.67 308.818,1445.66 310.906,1445.65 312.994,1445.64 315.081,1445.62 317.169,1445.61 319.257,1445.59 321.345,1445.57 323.433,1445.55 325.521,1445.53 327.609,1445.51 329.696,1445.49 331.784,1445.46 333.872,1445.44 335.96,1445.41 338.048,1445.39 340.136,1445.36 342.223,1445.33 344.311,1445.3 346.399,1445.26 348.487,1445.23 350.575,1445.2 352.663,1445.16 354.751,1445.12 356.838,1445.09 358.926,1445.05 361.014,1445.01 363.102,1444.97 365.19,1444.92 367.278,1444.88 369.365,1444.84 371.453,1444.79 373.541,1444.74 375.629,1444.69 377.717,1444.64 379.805,1444.59 381.893,1444.54 383.98,1444.49 386.068,1444.44 388.156,1444.38 390.244,1444.32 392.332,1444.27 394.42,1444.21 396.507,1444.15 398.595,1444.09 400.683,1444.03 402.771,1443.96 404.859,1443.9 406.947,1443.83 409.035,1443.77 411.122,1443.7 413.21,1443.63 415.298,1443.56 417.386,1443.49 419.474,1443.42 421.562,1443.35 423.649,1443.27 425.737,1443.2 427.825,1443.12 429.913,1443.04 432.001,1442.96 434.089,1442.88 436.177,1442.8 438.264,1442.72 440.352,1442.64 442.44,1442.55 444.528,1442.47 446.616,1442.38 448.704,1442.29 450.791,1442.21 452.879,1442.12 454.967,1442.02 457.055,1441.93 459.143,1441.84 461.231,1441.74 463.318,1441.65 465.406,1441.55 467.494,1441.45 469.582,1441.36 471.67,1441.26 473.758,1441.15 475.846,1441.05 477.933,1440.95 480.021,1440.84 482.109,1440.74 484.197,1440.63 486.285,1440.52 488.373,1440.41 490.46,1440.3 492.548,1440.19 494.636,1440.08 496.724,1439.97 498.812,1439.85 500.9,1439.74 502.988,1439.62 505.075,1439.5 507.163,1439.38 509.251,1439.26 511.339,1439.14 513.427,1439.02 515.515,1438.9 517.602,1438.77 519.69,1438.64 521.778,1438.52 523.866,1438.39 525.954,1438.26 528.042,1438.13 530.13,1438 532.217,1437.86 534.305,1437.73 536.393,1437.6 538.481,1437.46 540.569,1437.32 542.657,1437.18 544.744,1437.04 546.832,1436.9 548.92,1436.76 551.008,1436.62 553.096,1436.47 555.184,1436.33 557.272,1436.18 559.359,1436.04 561.447,1435.89 563.535,1435.74 565.623,1435.59 567.711,1435.43 569.799,1435.28 571.886,1435.13 573.974,1434.97 576.062,1434.81 578.15,1434.65 580.238,1434.5 582.326,1434.34 584.414,1434.17 586.501,1434.01 588.589,1433.85 590.677,1433.68 592.765,1433.52 594.853,1433.35 596.941,1433.18 599.028,1433.01 601.116,1432.84 603.204,1432.67 605.292,1432.49 607.38,1432.32 609.468,1432.14 611.556,1431.97 613.643,1431.79 615.731,1431.61 617.819,1431.43 619.907,1431.25 621.995,1431.06 624.083,1430.88 626.17,1430.7 628.258,1430.51 630.346,1430.32 632.434,1430.13 634.522,1429.94 636.61,1429.75 638.698,1429.56 640.785,1429.37 642.873,1429.17 644.961,1428.97 647.049,1428.78 649.137,1428.58 651.225,1428.38 653.312,1428.18 655.4,1427.98 657.488,1427.77 659.576,1427.57 661.664,1427.36 663.752,1427.15 665.839,1426.94 667.927,1426.74 670.015,1426.52 672.103,1426.31 674.191,1426.1 676.279,1425.88 678.367,1425.67 680.454,1425.45 682.542,1425.23 684.63,1425.01 686.718,1424.79 688.806,1424.57 690.894,1424.34 692.981,1424.12 695.069,1423.89 697.157,1423.67 699.245,1423.44 701.333,1423.21 703.421,1422.98 705.509,1422.74 707.596,1422.51 709.684,1422.27 711.772,1422.04 713.86,1421.8 715.948,1421.56 718.036,1421.32 720.123,1421.08 722.211,1420.83 724.299,1420.59 726.387,1420.34 728.475,1420.1 730.563,1419.85 732.651,1419.6 734.738,1419.35 736.826,1419.1 738.914,1418.84 741.002,1418.59 743.09,1418.33 745.178,1418.07 747.265,1417.81 749.353,1417.55 751.441,1417.29 753.529,1417.03 755.617,1416.76 757.705,1416.5 759.793,1416.23 761.88,1415.96 763.968,1415.69 766.056,1415.42 768.144,1415.14 770.232,1414.87 772.32,1414.59 774.407,1414.32 776.495,1414.04 778.583,1413.76 780.671,1413.48 782.759,1413.19 784.847,1412.91 786.935,1412.62 789.022,1412.33 791.11,1412.05 793.198,1411.76 795.286,1411.46 797.374,1411.17 799.462,1410.88 801.549,1410.58 803.637,1410.28 805.725,1409.98 807.813,1409.68 809.901,1409.38 811.989,1409.08 814.077,1408.77 816.164,1408.47 818.252,1408.16 820.34,1407.85 822.428,1407.54 824.516,1407.23 826.604,1406.91 828.691,1406.6 830.779,1406.28 832.867,1405.96 834.955,1405.64 837.043,1405.32 839.131,1405 841.219,1404.67 843.306,1404.35 845.394,1404.02 847.482,1403.69 849.57,1403.36 851.658,1403.02 853.746,1402.69 855.833,1402.36 857.921,1402.02 860.009,1401.68 862.097,1401.34 864.185,1401 866.273,1400.65 868.36,1400.31 870.448,1399.96 872.536,1399.61 874.624,1399.26 876.712,1398.91 878.8,1398.56 880.888,1398.2 882.975,1397.85 885.063,1397.49 887.151,1397.13 889.239,1396.77 891.327,1396.4 893.415,1396.04 895.502,1395.67 897.59,1395.3 899.678,1394.93 901.766,1394.56 903.854,1394.19 905.942,1393.81 908.03,1393.44 910.117,1393.06 912.205,1392.68 914.293,1392.3 916.381,1391.91 918.469,1391.53 920.557,1391.14 922.644,1390.75 924.732,1390.36 926.82,1389.97 928.908,1389.57 930.996,1389.18 933.084,1388.78 935.172,1388.38 937.259,1387.98 939.347,1387.58 941.435,1387.17 943.523,1386.76 945.611,1386.36 947.699,1385.94 949.786,1385.53 951.874,1385.12 953.962,1384.7 956.05,1384.28 958.138,1383.87 960.226,1383.44 962.314,1383.02 964.401,1382.6 966.489,1382.17 968.577,1381.74 970.665,1381.31 972.753,1380.88 974.841,1380.44 976.928,1380 979.016,1379.57 981.104,1379.12 983.192,1378.68 985.28,1378.24 987.368,1377.79 989.456,1377.34 991.543,1376.89 993.631,1376.44 995.719,1375.99 997.807,1375.53 999.895,1375.07 1001.98,1374.61 1004.07,1374.15 1006.16,1373.69 1008.25,1373.22 1010.33,1372.75 1012.42,1372.28 1014.51,1371.81 1016.6,1371.34 1018.69,1370.86 1020.77,1370.38 1022.86,1369.9 1024.95,1369.42 1027.04,1368.93 1029.12,1368.45 1031.21,1367.96 1033.3,1367.47 1035.39,1366.97 1037.48,1366.48 1039.56,1365.98 1041.65,1365.48 1043.74,1364.98 1045.83,1364.48 1047.92,1363.97 1050,1363.46 1052.09,1362.95 1054.18,1362.44 1056.27,1361.93 1058.35,1361.41 1060.44,1360.89 1062.53,1360.37 1064.62,1359.85 1066.71,1359.32 1068.79,1358.79 1070.88,1358.26 1072.97,1357.73 1075.06,1357.2 1077.15,1356.66 1079.23,1356.12 1081.32,1355.58 1083.41,1355.03 1085.5,1354.49 1087.58,1353.94 1089.67,1353.39 1091.76,1352.84 1093.85,1352.28 1095.94,1351.72 1098.02,1351.16 1100.11,1350.6 1102.2,1350.04 1104.29,1349.47 1106.37,1348.9 1108.46,1348.33 1110.55,1347.75 1112.64,1347.18 1114.73,1346.6 1116.81,1346.01 1118.9,1345.43 1120.99,1344.84 1123.08,1344.25 1125.17,1343.66 1127.25,1343.07 1129.34,1342.47 1131.43,1341.87 1133.52,1341.27 1135.6,1340.67 1137.69,1340.06 1139.78,1339.45 1141.87,1338.84 1143.96,1338.23 1146.04,1337.61 1148.13,1336.99 1150.22,1336.37 1152.31,1335.74 1154.4,1335.12 1156.48,1334.49 1158.57,1333.85 1160.66,1333.22 1162.75,1332.58 1164.83,1331.94 1166.92,1331.3 1169.01,1330.65 1171.1,1330 1173.19,1329.35 1175.27,1328.7 1177.36,1328.04 1179.45,1327.38 1181.54,1326.72 1183.63,1326.06 1185.71,1325.39 1187.8,1324.72 1189.89,1324.05 1191.98,1323.37 1194.06,1322.69 1196.15,1322.01 1198.24,1321.33 1200.33,1320.64 1202.42,1319.95 1204.5,1319.26 1206.59,1318.56 1208.68,1317.86 1210.77,1317.16 1212.85,1316.46 1214.94,1315.75 1217.03,1315.04 1219.12,1314.33 1221.21,1313.61 1223.29,1312.89 1225.38,1312.17 1227.47,1311.44 1229.56,1310.72 1231.65,1309.98 1233.73,1309.25 1235.82,1308.51 1237.91,1307.77 1240,1307.03 1242.08,1306.28 1244.17,1305.53 1246.26,1304.78 1248.35,1304.03 1250.44,1303.27 1252.52,1302.51 1254.61,1301.74 1256.7,1300.97 1258.79,1300.2 1260.88,1299.43 1262.96,1298.65 1265.05,1297.87 1267.14,1297.09 1269.23,1296.3 1271.31,1295.51 1273.4,1294.72 1275.49,1293.92 1277.58,1293.12 1279.67,1292.32 1281.75,1291.51 1283.84,1290.7 1285.93,1289.89 1288.02,1289.07 1290.11,1288.25 1292.19,1287.43 1294.28,1286.6 1296.37,1285.77 1298.46,1284.94 1300.54,1284.1 1302.63,1283.26 1304.72,1282.42 1306.81,1281.57 1308.9,1280.72 1310.98,1279.86 1313.07,1279.01 1315.16,1278.15 1317.25,1277.28 1319.34,1276.41 1321.42,1275.54 1323.51,1274.67 1325.6,1273.79 1327.69,1272.91 1329.77,1272.02 1331.86,1271.13 1333.95,1270.24 1336.04,1269.34 1338.13,1268.44 1340.21,1267.54 1342.3,1266.63 1344.39,1265.72 1346.48,1264.8 1348.56,1263.88 1350.65,1262.96 1352.74,1262.03 1354.83,1261.1 1356.92,1260.17 1359,1259.23 1361.09,1258.29 1363.18,1257.34 1365.27,1256.39 1367.36,1255.44 1369.44,1254.48 1371.53,1253.52 1373.62,1252.56 1375.71,1251.59 1377.79,1250.62 1379.88,1249.64 1381.97,1248.66 1384.06,1247.67 1386.15,1246.68 1388.23,1245.69 1390.32,1244.69 1392.41,1243.69 1394.5,1242.69 1396.59,1241.68 1398.67,1240.67 1400.76,1239.65 1402.85,1238.63 1404.94,1237.6 1407.02,1236.57 1409.11,1235.54 1411.2,1234.5 1413.29,1233.46 1415.38,1232.41 1417.46,1231.36 1419.55,1230.31 1421.64,1229.25 1423.73,1228.18 1425.82,1227.12 1427.9,1226.04 1429.99,1224.97 1432.08,1223.89 1434.17,1222.8 1436.25,1221.71 1438.34,1220.62 1440.43,1219.52 1442.52,1218.42 1444.61,1217.31 1446.69,1216.2 1448.78,1215.08 1450.87,1213.96 1452.96,1212.83 1455.05,1211.7 1457.13,1210.57 1459.22,1209.43 1461.31,1208.29 1463.4,1207.14 1465.48,1205.98 1467.57,1204.83 1469.66,1203.66 1471.75,1202.5 1473.84,1201.33 1475.92,1200.15 1478.01,1198.97 1480.1,1197.78 1482.19,1196.59 1484.27,1195.39 1486.36,1194.19 1488.45,1192.99 1490.54,1191.78 1492.63,1190.56 1494.71,1189.34 1496.8,1188.12 1498.89,1186.89 1500.98,1185.65 1503.07,1184.41 1505.15,1183.17 1507.24,1181.92 1509.33,1180.66 1511.42,1179.4 1513.5,1178.14 1515.59,1176.87 1517.68,1175.59 1519.77,1174.31 1521.86,1173.02 1523.94,1171.73 1526.03,1170.44 1528.12,1169.14 1530.21,1167.83 1532.3,1166.52 1534.38,1165.2 1536.47,1163.88 1538.56,1162.55 1540.65,1161.22 1542.73,1159.88 1544.82,1158.53 1546.91,1157.18 1549,1155.83 1551.09,1154.47 1553.17,1153.1 1555.26,1151.73 1557.35,1150.35 1559.44,1148.97 1561.53,1147.58 1563.61,1146.19 1565.7,1144.79 1567.79,1143.38 1569.88,1141.97 1571.96,1140.56 1574.05,1139.13 1576.14,1137.71 1578.23,1136.27 1580.32,1134.83 1582.4,1133.39 1584.49,1131.94 1586.58,1130.48 1588.67,1129.02 1590.75,1127.55 1592.84,1126.07 1594.93,1124.59 1597.02,1123.11 1599.11,1121.62 1601.19,1120.12 1603.28,1118.61 1605.37,1117.1 1607.46,1115.59 1609.55,1114.06 1611.63,1112.53 1613.72,1111 1615.81,1109.46 1617.9,1107.91 1619.98,1106.36 1622.07,1104.8 1624.16,1103.23 1626.25,1101.66 1628.34,1100.08 1630.42,1098.49 1632.51,1096.9 1634.6,1095.3 1636.69,1093.7 1638.78,1092.09 1640.86,1090.47 1642.95,1088.85 1645.04,1087.22 1647.13,1085.58 1649.21,1083.94 1651.3,1082.29 1653.39,1080.63 1655.48,1078.96 1657.57,1077.29 1659.65,1075.62 1661.74,1073.93 1663.83,1072.24 1665.92,1070.55 1668.01,1068.84 1670.09,1067.13 1672.18,1065.41 1674.27,1063.69 1676.36,1061.96 1678.44,1060.22 1680.53,1058.47 1682.62,1056.72 1684.71,1054.96 1686.8,1053.19 1688.88,1051.42 1690.97,1049.64 1693.06,1047.85 1695.15,1046.05 1697.24,1044.25 1699.32,1042.44 1701.41,1040.62 1703.5,1038.8 1705.59,1036.97 1707.67,1035.13 1709.76,1033.28 1711.85,1031.43 1713.94,1029.56 1716.03,1027.7 1718.11,1025.82 1720.2,1023.93 1722.29,1022.04 1724.38,1020.14 1726.46,1018.24 1728.55,1016.32 1730.64,1014.4 1732.73,1012.47 1734.82,1010.53 1736.9,1008.59 1738.99,1006.63 1741.08,1004.67 1743.17,1002.7 1745.26,1000.72 1747.34,998.74 1749.43,996.747 1751.52,994.745 1753.61,992.736 1755.69,990.719 1757.78,988.694 1759.87,986.66 1761.96,984.619 1764.05,982.569 1766.13,980.511 1768.22,978.444 1770.31,976.37 1772.4,974.287 1774.49,972.195 1776.57,970.096 1778.66,967.987 1780.75,965.871 1782.84,963.745 1784.92,961.612 1787.01,959.469 1789.1,957.318 1791.19,955.159 1793.28,952.99 1795.36,950.813 1797.45,948.628 1799.54,946.433 1801.63,944.23 1803.72,942.018 1805.8,939.796 1807.89,937.566 1809.98,935.327 1812.07,933.079 1814.15,930.822 1816.24,928.556 1818.33,926.281 1820.42,923.997 1822.51,921.703 1824.59,919.401 1826.68,917.089 1828.77,914.767 1830.86,912.437 1832.95,910.097 1835.03,907.747 1837.12,905.389 1839.21,903.02 1841.3,900.642 1843.38,898.255 1845.47,895.858 1847.56,893.452 1849.65,891.035 1851.74,888.609 1853.82,886.174 1855.91,883.728 1858,881.273 1860.09,878.808 1862.17,876.333 1864.26,873.848 1866.35,871.352 1868.44,868.847 1870.53,866.332 1872.61,863.807 1874.7,861.272 1876.79,858.726 1878.88,856.171 1880.97,853.604 1883.05,851.028 1885.14,848.441 1887.23,845.844 1889.32,843.237 1891.4,840.619 1893.49,837.99 1895.58,835.351 1897.67,832.702 1899.76,830.041 1901.84,827.37 1903.93,824.689 1906.02,821.996 1908.11,819.293 1910.2,816.579 1912.28,813.854 1914.37,811.118 1916.46,808.371 1918.55,805.613 1920.63,802.844 1922.72,800.064 1924.81,797.272 1926.9,794.47 1928.99,791.656 1931.07,788.831 1933.16,785.994 1935.25,783.146 1937.34,780.287 1939.43,777.416 1941.51,774.534 1943.6,771.64 1945.69,768.734 1947.78,765.817 1949.86,762.888 1951.95,759.948 1954.04,756.995 1956.13,754.031 1958.22,751.055 1960.3,748.066 1962.39,745.066 1964.48,742.054 1966.57,739.03 1968.65,735.993 1970.74,732.945 1972.83,729.884 1974.92,726.811 1977.01,723.725 1979.09,720.627 1981.18,717.517 1983.27,714.394 1985.36,711.259 1987.45,708.111 1989.53,704.95 1991.62,701.777 1993.71,698.591 1995.8,695.392 1997.88,692.18 1999.97,688.956 2002.06,685.718 2004.15,682.468 2006.24,679.204 2008.32,675.927 2010.41,672.638 2012.5,669.335 2014.59,666.018 2016.68,662.689 2018.76,659.346 2020.85,655.989 2022.94,652.619 2025.03,649.236 2027.11,645.839 2029.2,642.429 2031.29,639.004 2033.38,635.566 2035.47,632.114 2037.55,628.649 2039.64,625.169 2041.73,621.675 2043.82,618.168 2045.91,614.646 2047.99,611.11 2050.08,607.56 2052.17,603.996 2054.26,600.417 2056.34,596.825 2058.43,593.217 2060.52,589.595 2062.61,585.959 2064.7,582.308 2066.78,578.642 2068.87,574.962 2070.96,571.267 2073.05,567.557 2075.14,563.832 2077.22,560.092 2079.31,556.337 2081.4,552.568 2083.49,548.783 2085.57,544.982 2087.66,541.167 2089.75,537.336 2091.84,533.49 2093.93,529.628 2096.01,525.751 2098.1,521.859 2100.19,517.95 2102.28,514.027 2104.36,510.087 2106.45,506.131 2108.54,502.16 2110.63,498.173 2112.72,494.169 2114.8,490.15 2116.89,486.114 2118.98,482.063 2121.07,477.995 2123.16,473.91 2125.24,469.81 2127.33,465.692 2129.42,461.559 2131.51,457.408 2133.59,453.241 2135.68,449.058 2137.77,444.857 2139.86,440.64 2141.95,436.406 2144.03,432.154 2146.12,427.886 2148.21,423.601 2150.3,419.298 2152.39,414.978 2154.47,410.641 2156.56,406.286 2158.65,401.914 2160.74,397.525 2162.82,393.117 2164.91,388.692 2167,384.25 2169.09,379.789 2171.18,375.311 2173.26,370.814 2175.35,366.3 2177.44,361.767 2179.53,357.216 2181.62,352.647 2183.7,348.06 2185.79,343.454 2187.88,338.83 2189.97,334.187 2192.05,329.525 2194.14,324.845 2196.23,320.146 2198.32,315.428 2200.41,310.692 2202.49,305.936 2204.58,301.161 2206.67,296.367 2208.76,291.554 2210.85,286.721 2212.93,281.869 2215.02,276.998 2217.11,272.107 2219.2,267.196 2221.28,262.266 2223.37,257.316 2225.46,252.346 2227.55,247.356 2229.64,242.346 2231.72,237.316 2233.81,232.266 2235.9,227.195 2237.99,222.105 2240.07,216.993 2242.16,211.861 2244.25,206.709 2246.34,201.536 2248.43,196.342 2250.51,191.128 2252.6,185.892 2254.69,180.636 2256.78,175.358 2258.87,170.059 2260.95,164.739 2263.04,159.397 2265.13,154.035 2267.22,148.65 2269.3,143.244 2271.39,137.816 2273.48,132.367 2275.57,126.896 2277.66,121.402 2279.74,115.887 2281.83,110.349 2283.92,104.79 2286.01,99.2076 2288.1,93.6032 2290.18,87.9763 \"/>\n",
       "<path clip-path=\"url(#clip550)\" d=\"M215.55 250.738 L535.829 250.738 L535.829 95.2176 L215.55 95.2176  Z\" fill=\"#ffffff\" fill-rule=\"evenodd\" fill-opacity=\"1\"/>\n",
       "<polyline clip-path=\"url(#clip550)\" style=\"stroke:#000000; stroke-linecap:round; stroke-linejoin:round; stroke-width:4; stroke-opacity:1; fill:none\" points=\"215.55,250.738 535.829,250.738 535.829,95.2176 215.55,95.2176 215.55,250.738 \"/>\n",
       "<polyline clip-path=\"url(#clip550)\" style=\"stroke:#009af9; stroke-linecap:round; stroke-linejoin:round; stroke-width:4; stroke-opacity:1; fill:none\" points=\"240.115,147.058 387.509,147.058 \"/>\n",
       "<path clip-path=\"url(#clip550)\" d=\"M416.357 160.449 L416.357 174.199 L412.074 174.199 L412.074 138.412 L416.357 138.412 L416.357 142.347 Q417.699 140.032 419.736 138.921 Q421.797 137.787 424.644 137.787 Q429.366 137.787 432.306 141.537 Q435.269 145.287 435.269 151.398 Q435.269 157.509 432.306 161.259 Q429.366 165.009 424.644 165.009 Q421.797 165.009 419.736 163.898 Q417.699 162.763 416.357 160.449 M430.847 151.398 Q430.847 146.699 428.903 144.037 Q426.982 141.352 423.602 141.352 Q420.223 141.352 418.278 144.037 Q416.357 146.699 416.357 151.398 Q416.357 156.097 418.278 158.782 Q420.223 161.444 423.602 161.444 Q426.982 161.444 428.903 158.782 Q430.847 156.097 430.847 151.398 Z\" fill=\"#000000\" fill-rule=\"nonzero\" fill-opacity=\"1\" /><path clip-path=\"url(#clip550)\" d=\"M457.352 142.393 Q456.634 141.977 455.778 141.791 Q454.945 141.583 453.926 141.583 Q450.315 141.583 448.371 143.944 Q446.449 146.282 446.449 150.68 L446.449 164.338 L442.167 164.338 L442.167 138.412 L446.449 138.412 L446.449 142.44 Q447.792 140.078 449.945 138.944 Q452.097 137.787 455.176 137.787 Q455.616 137.787 456.148 137.856 Q456.681 137.903 457.329 138.018 L457.352 142.393 Z\" fill=\"#000000\" fill-rule=\"nonzero\" fill-opacity=\"1\" /><path clip-path=\"url(#clip550)\" d=\"M482.954 150.31 L482.954 152.393 L463.37 152.393 Q463.648 156.791 466.009 159.106 Q468.394 161.398 472.63 161.398 Q475.083 161.398 477.375 160.796 Q479.69 160.194 481.958 158.99 L481.958 163.018 Q479.667 163.99 477.259 164.5 Q474.852 165.009 472.375 165.009 Q466.171 165.009 462.537 161.398 Q458.926 157.787 458.926 151.629 Q458.926 145.264 462.352 141.537 Q465.801 137.787 471.634 137.787 Q476.866 137.787 479.898 141.166 Q482.954 144.523 482.954 150.31 M478.694 149.06 Q478.648 145.565 476.727 143.481 Q474.829 141.398 471.681 141.398 Q468.116 141.398 465.963 143.412 Q463.833 145.426 463.509 149.083 L478.694 149.06 Z\" fill=\"#000000\" fill-rule=\"nonzero\" fill-opacity=\"1\" /><path clip-path=\"url(#clip550)\" d=\"M507.004 142.347 L507.004 128.319 L511.264 128.319 L511.264 164.338 L507.004 164.338 L507.004 160.449 Q505.662 162.763 503.602 163.898 Q501.565 165.009 498.694 165.009 Q493.995 165.009 491.032 161.259 Q488.093 157.509 488.093 151.398 Q488.093 145.287 491.032 141.537 Q493.995 137.787 498.694 137.787 Q501.565 137.787 503.602 138.921 Q505.662 140.032 507.004 142.347 M492.491 151.398 Q492.491 156.097 494.412 158.782 Q496.356 161.444 499.736 161.444 Q503.116 161.444 505.06 158.782 Q507.004 156.097 507.004 151.398 Q507.004 146.699 505.06 144.037 Q503.116 141.352 499.736 141.352 Q496.356 141.352 494.412 144.037 Q492.491 146.699 492.491 151.398 Z\" fill=\"#000000\" fill-rule=\"nonzero\" fill-opacity=\"1\" /><polyline clip-path=\"url(#clip550)\" style=\"stroke:#e26f46; stroke-linecap:round; stroke-linejoin:round; stroke-width:4; stroke-opacity:1; fill:none\" points=\"240.115,198.898 387.509,198.898 \"/>\n",
       "<path clip-path=\"url(#clip550)\" d=\"M419.482 182.891 L419.482 190.252 L428.255 190.252 L428.255 193.562 L419.482 193.562 L419.482 207.636 Q419.482 210.807 420.338 211.71 Q421.218 212.613 423.88 212.613 L428.255 212.613 L428.255 216.178 L423.88 216.178 Q418.949 216.178 417.074 214.349 Q415.199 212.497 415.199 207.636 L415.199 193.562 L412.074 193.562 L412.074 190.252 L415.199 190.252 L415.199 182.891 L419.482 182.891 Z\" fill=\"#000000\" fill-rule=\"nonzero\" fill-opacity=\"1\" /><path clip-path=\"url(#clip550)\" d=\"M448.88 194.233 Q448.162 193.817 447.306 193.631 Q446.472 193.423 445.454 193.423 Q441.843 193.423 439.898 195.784 Q437.977 198.122 437.977 202.52 L437.977 216.178 L433.695 216.178 L433.695 190.252 L437.977 190.252 L437.977 194.28 Q439.32 191.918 441.472 190.784 Q443.625 189.627 446.704 189.627 Q447.144 189.627 447.676 189.696 Q448.208 189.743 448.857 189.858 L448.88 194.233 Z\" fill=\"#000000\" fill-rule=\"nonzero\" fill-opacity=\"1\" /><path clip-path=\"url(#clip550)\" d=\"M452.908 205.946 L452.908 190.252 L457.167 190.252 L457.167 205.784 Q457.167 209.465 458.602 211.316 Q460.037 213.145 462.907 213.145 Q466.357 213.145 468.347 210.946 Q470.361 208.747 470.361 204.951 L470.361 190.252 L474.62 190.252 L474.62 216.178 L470.361 216.178 L470.361 212.196 Q468.81 214.557 466.75 215.715 Q464.713 216.849 462.005 216.849 Q457.537 216.849 455.222 214.071 Q452.908 211.293 452.908 205.946 M463.625 189.627 L463.625 189.627 Z\" fill=\"#000000\" fill-rule=\"nonzero\" fill-opacity=\"1\" /><path clip-path=\"url(#clip550)\" d=\"M505.569 202.15 L505.569 204.233 L485.986 204.233 Q486.264 208.631 488.625 210.946 Q491.009 213.238 495.245 213.238 Q497.699 213.238 499.991 212.636 Q502.305 212.034 504.574 210.83 L504.574 214.858 Q502.282 215.83 499.875 216.34 Q497.467 216.849 494.991 216.849 Q488.787 216.849 485.153 213.238 Q481.542 209.627 481.542 203.469 Q481.542 197.104 484.968 193.377 Q488.417 189.627 494.25 189.627 Q499.481 189.627 502.514 193.006 Q505.569 196.363 505.569 202.15 M501.31 200.9 Q501.264 197.405 499.342 195.321 Q497.444 193.238 494.296 193.238 Q490.731 193.238 488.579 195.252 Q486.449 197.266 486.125 200.923 L501.31 200.9 Z\" fill=\"#000000\" fill-rule=\"nonzero\" fill-opacity=\"1\" /></svg>\n"
      ],
      "text/html": [
       "<?xml version=\"1.0\" encoding=\"utf-8\"?>\n",
       "<svg xmlns=\"http://www.w3.org/2000/svg\" xmlns:xlink=\"http://www.w3.org/1999/xlink\" width=\"600\" height=\"400\" viewBox=\"0 0 2400 1600\">\n",
       "<defs>\n",
       "  <clipPath id=\"clip600\">\n",
       "    <rect x=\"0\" y=\"0\" width=\"2400\" height=\"1600\"/>\n",
       "  </clipPath>\n",
       "</defs>\n",
       "<path clip-path=\"url(#clip600)\" d=\"M0 1600 L2400 1600 L2400 0 L0 0  Z\" fill=\"#ffffff\" fill-rule=\"evenodd\" fill-opacity=\"1\"/>\n",
       "<defs>\n",
       "  <clipPath id=\"clip601\">\n",
       "    <rect x=\"480\" y=\"0\" width=\"1681\" height=\"1600\"/>\n",
       "  </clipPath>\n",
       "</defs>\n",
       "<path clip-path=\"url(#clip600)\" d=\"M141.853 1486.45 L2352.76 1486.45 L2352.76 47.2441 L141.853 47.2441  Z\" fill=\"#ffffff\" fill-rule=\"evenodd\" fill-opacity=\"1\"/>\n",
       "<defs>\n",
       "  <clipPath id=\"clip602\">\n",
       "    <rect x=\"141\" y=\"47\" width=\"2212\" height=\"1440\"/>\n",
       "  </clipPath>\n",
       "</defs>\n",
       "<polyline clip-path=\"url(#clip602)\" style=\"stroke:#000000; stroke-linecap:round; stroke-linejoin:round; stroke-width:2; stroke-opacity:0.1; fill:none\" points=\"204.426,1486.45 204.426,47.2441 \"/>\n",
       "<polyline clip-path=\"url(#clip602)\" style=\"stroke:#000000; stroke-linecap:round; stroke-linejoin:round; stroke-width:2; stroke-opacity:0.1; fill:none\" points=\"725.865,1486.45 725.865,47.2441 \"/>\n",
       "<polyline clip-path=\"url(#clip602)\" style=\"stroke:#000000; stroke-linecap:round; stroke-linejoin:round; stroke-width:2; stroke-opacity:0.1; fill:none\" points=\"1247.3,1486.45 1247.3,47.2441 \"/>\n",
       "<polyline clip-path=\"url(#clip602)\" style=\"stroke:#000000; stroke-linecap:round; stroke-linejoin:round; stroke-width:2; stroke-opacity:0.1; fill:none\" points=\"1768.74,1486.45 1768.74,47.2441 \"/>\n",
       "<polyline clip-path=\"url(#clip602)\" style=\"stroke:#000000; stroke-linecap:round; stroke-linejoin:round; stroke-width:2; stroke-opacity:0.1; fill:none\" points=\"2290.18,1486.45 2290.18,47.2441 \"/>\n",
       "<polyline clip-path=\"url(#clip600)\" style=\"stroke:#000000; stroke-linecap:round; stroke-linejoin:round; stroke-width:4; stroke-opacity:1; fill:none\" points=\"141.853,1486.45 2352.76,1486.45 \"/>\n",
       "<polyline clip-path=\"url(#clip600)\" style=\"stroke:#000000; stroke-linecap:round; stroke-linejoin:round; stroke-width:4; stroke-opacity:1; fill:none\" points=\"204.426,1486.45 204.426,1467.55 \"/>\n",
       "<polyline clip-path=\"url(#clip600)\" style=\"stroke:#000000; stroke-linecap:round; stroke-linejoin:round; stroke-width:4; stroke-opacity:1; fill:none\" points=\"725.865,1486.45 725.865,1467.55 \"/>\n",
       "<polyline clip-path=\"url(#clip600)\" style=\"stroke:#000000; stroke-linecap:round; stroke-linejoin:round; stroke-width:4; stroke-opacity:1; fill:none\" points=\"1247.3,1486.45 1247.3,1467.55 \"/>\n",
       "<polyline clip-path=\"url(#clip600)\" style=\"stroke:#000000; stroke-linecap:round; stroke-linejoin:round; stroke-width:4; stroke-opacity:1; fill:none\" points=\"1768.74,1486.45 1768.74,1467.55 \"/>\n",
       "<polyline clip-path=\"url(#clip600)\" style=\"stroke:#000000; stroke-linecap:round; stroke-linejoin:round; stroke-width:4; stroke-opacity:1; fill:none\" points=\"2290.18,1486.45 2290.18,1467.55 \"/>\n",
       "<path clip-path=\"url(#clip600)\" d=\"M181.81 1517.37 Q178.199 1517.37 176.37 1520.93 Q174.565 1524.47 174.565 1531.6 Q174.565 1538.71 176.37 1542.27 Q178.199 1545.82 181.81 1545.82 Q185.444 1545.82 187.25 1542.27 Q189.079 1538.71 189.079 1531.6 Q189.079 1524.47 187.25 1520.93 Q185.444 1517.37 181.81 1517.37 M181.81 1513.66 Q187.62 1513.66 190.676 1518.27 Q193.754 1522.85 193.754 1531.6 Q193.754 1540.33 190.676 1544.94 Q187.62 1549.52 181.81 1549.52 Q176 1549.52 172.921 1544.94 Q169.866 1540.33 169.866 1531.6 Q169.866 1522.85 172.921 1518.27 Q176 1513.66 181.81 1513.66 Z\" fill=\"#000000\" fill-rule=\"nonzero\" fill-opacity=\"1\" /><path clip-path=\"url(#clip600)\" d=\"M201.972 1542.97 L206.856 1542.97 L206.856 1548.85 L201.972 1548.85 L201.972 1542.97 Z\" fill=\"#000000\" fill-rule=\"nonzero\" fill-opacity=\"1\" /><path clip-path=\"url(#clip600)\" d=\"M227.041 1517.37 Q223.43 1517.37 221.602 1520.93 Q219.796 1524.47 219.796 1531.6 Q219.796 1538.71 221.602 1542.27 Q223.43 1545.82 227.041 1545.82 Q230.676 1545.82 232.481 1542.27 Q234.31 1538.71 234.31 1531.6 Q234.31 1524.47 232.481 1520.93 Q230.676 1517.37 227.041 1517.37 M227.041 1513.66 Q232.851 1513.66 235.907 1518.27 Q238.986 1522.85 238.986 1531.6 Q238.986 1540.33 235.907 1544.94 Q232.851 1549.52 227.041 1549.52 Q221.231 1549.52 218.152 1544.94 Q215.097 1540.33 215.097 1531.6 Q215.097 1522.85 218.152 1518.27 Q221.231 1513.66 227.041 1513.66 Z\" fill=\"#000000\" fill-rule=\"nonzero\" fill-opacity=\"1\" /><path clip-path=\"url(#clip600)\" d=\"M703.747 1517.37 Q700.136 1517.37 698.307 1520.93 Q696.502 1524.47 696.502 1531.6 Q696.502 1538.71 698.307 1542.27 Q700.136 1545.82 703.747 1545.82 Q707.381 1545.82 709.187 1542.27 Q711.016 1538.71 711.016 1531.6 Q711.016 1524.47 709.187 1520.93 Q707.381 1517.37 703.747 1517.37 M703.747 1513.66 Q709.557 1513.66 712.613 1518.27 Q715.691 1522.85 715.691 1531.6 Q715.691 1540.33 712.613 1544.94 Q709.557 1549.52 703.747 1549.52 Q697.937 1549.52 694.858 1544.94 Q691.803 1540.33 691.803 1531.6 Q691.803 1522.85 694.858 1518.27 Q697.937 1513.66 703.747 1513.66 Z\" fill=\"#000000\" fill-rule=\"nonzero\" fill-opacity=\"1\" /><path clip-path=\"url(#clip600)\" d=\"M723.909 1542.97 L728.793 1542.97 L728.793 1548.85 L723.909 1548.85 L723.909 1542.97 Z\" fill=\"#000000\" fill-rule=\"nonzero\" fill-opacity=\"1\" /><path clip-path=\"url(#clip600)\" d=\"M739.025 1514.29 L757.381 1514.29 L757.381 1518.22 L743.307 1518.22 L743.307 1526.7 Q744.326 1526.35 745.344 1526.19 Q746.363 1526 747.381 1526 Q753.168 1526 756.548 1529.17 Q759.927 1532.34 759.927 1537.76 Q759.927 1543.34 756.455 1546.44 Q752.983 1549.52 746.664 1549.52 Q744.488 1549.52 742.219 1549.15 Q739.974 1548.78 737.566 1548.04 L737.566 1543.34 Q739.65 1544.47 741.872 1545.03 Q744.094 1545.58 746.571 1545.58 Q750.576 1545.58 752.914 1543.48 Q755.251 1541.37 755.251 1537.76 Q755.251 1534.15 752.914 1532.04 Q750.576 1529.94 746.571 1529.94 Q744.696 1529.94 742.821 1530.35 Q740.969 1530.77 739.025 1531.65 L739.025 1514.29 Z\" fill=\"#000000\" fill-rule=\"nonzero\" fill-opacity=\"1\" /><path clip-path=\"url(#clip600)\" d=\"M1214.46 1544.91 L1222.1 1544.91 L1222.1 1518.55 L1213.79 1520.21 L1213.79 1515.95 L1222.05 1514.29 L1226.73 1514.29 L1226.73 1544.91 L1234.36 1544.91 L1234.36 1548.85 L1214.46 1548.85 L1214.46 1544.91 Z\" fill=\"#000000\" fill-rule=\"nonzero\" fill-opacity=\"1\" /><path clip-path=\"url(#clip600)\" d=\"M1243.81 1542.97 L1248.69 1542.97 L1248.69 1548.85 L1243.81 1548.85 L1243.81 1542.97 Z\" fill=\"#000000\" fill-rule=\"nonzero\" fill-opacity=\"1\" /><path clip-path=\"url(#clip600)\" d=\"M1268.88 1517.37 Q1265.27 1517.37 1263.44 1520.93 Q1261.63 1524.47 1261.63 1531.6 Q1261.63 1538.71 1263.44 1542.27 Q1265.27 1545.82 1268.88 1545.82 Q1272.51 1545.82 1274.32 1542.27 Q1276.15 1538.71 1276.15 1531.6 Q1276.15 1524.47 1274.32 1520.93 Q1272.51 1517.37 1268.88 1517.37 M1268.88 1513.66 Q1274.69 1513.66 1277.74 1518.27 Q1280.82 1522.85 1280.82 1531.6 Q1280.82 1540.33 1277.74 1544.94 Q1274.69 1549.52 1268.88 1549.52 Q1263.07 1549.52 1259.99 1544.94 Q1256.93 1540.33 1256.93 1531.6 Q1256.93 1522.85 1259.99 1518.27 Q1263.07 1513.66 1268.88 1513.66 Z\" fill=\"#000000\" fill-rule=\"nonzero\" fill-opacity=\"1\" /><path clip-path=\"url(#clip600)\" d=\"M1736.39 1544.91 L1744.03 1544.91 L1744.03 1518.55 L1735.72 1520.21 L1735.72 1515.95 L1743.99 1514.29 L1748.66 1514.29 L1748.66 1544.91 L1756.3 1544.91 L1756.3 1548.85 L1736.39 1548.85 L1736.39 1544.91 Z\" fill=\"#000000\" fill-rule=\"nonzero\" fill-opacity=\"1\" /><path clip-path=\"url(#clip600)\" d=\"M1765.75 1542.97 L1770.63 1542.97 L1770.63 1548.85 L1765.75 1548.85 L1765.75 1542.97 Z\" fill=\"#000000\" fill-rule=\"nonzero\" fill-opacity=\"1\" /><path clip-path=\"url(#clip600)\" d=\"M1780.86 1514.29 L1799.22 1514.29 L1799.22 1518.22 L1785.14 1518.22 L1785.14 1526.7 Q1786.16 1526.35 1787.18 1526.19 Q1788.2 1526 1789.22 1526 Q1795.01 1526 1798.38 1529.17 Q1801.76 1532.34 1801.76 1537.76 Q1801.76 1543.34 1798.29 1546.44 Q1794.82 1549.52 1788.5 1549.52 Q1786.32 1549.52 1784.06 1549.15 Q1781.81 1548.78 1779.4 1548.04 L1779.4 1543.34 Q1781.49 1544.47 1783.71 1545.03 Q1785.93 1545.58 1788.41 1545.58 Q1792.41 1545.58 1794.75 1543.48 Q1797.09 1541.37 1797.09 1537.76 Q1797.09 1534.15 1794.75 1532.04 Q1792.41 1529.94 1788.41 1529.94 Q1786.53 1529.94 1784.66 1530.35 Q1782.81 1530.77 1780.86 1531.65 L1780.86 1514.29 Z\" fill=\"#000000\" fill-rule=\"nonzero\" fill-opacity=\"1\" /><path clip-path=\"url(#clip600)\" d=\"M2261.42 1544.91 L2277.74 1544.91 L2277.74 1548.85 L2255.8 1548.85 L2255.8 1544.91 Q2258.46 1542.16 2263.04 1537.53 Q2267.65 1532.88 2268.83 1531.53 Q2271.07 1529.01 2271.95 1527.27 Q2272.86 1525.51 2272.86 1523.82 Q2272.86 1521.07 2270.91 1519.33 Q2268.99 1517.6 2265.89 1517.6 Q2263.69 1517.6 2261.24 1518.36 Q2258.81 1519.13 2256.03 1520.68 L2256.03 1515.95 Q2258.85 1514.82 2261.31 1514.24 Q2263.76 1513.66 2265.8 1513.66 Q2271.17 1513.66 2274.36 1516.35 Q2277.56 1519.03 2277.56 1523.52 Q2277.56 1525.65 2276.75 1527.57 Q2275.96 1529.47 2273.85 1532.07 Q2273.27 1532.74 2270.17 1535.95 Q2267.07 1539.15 2261.42 1544.91 Z\" fill=\"#000000\" fill-rule=\"nonzero\" fill-opacity=\"1\" /><path clip-path=\"url(#clip600)\" d=\"M2287.56 1542.97 L2292.44 1542.97 L2292.44 1548.85 L2287.56 1548.85 L2287.56 1542.97 Z\" fill=\"#000000\" fill-rule=\"nonzero\" fill-opacity=\"1\" /><path clip-path=\"url(#clip600)\" d=\"M2312.63 1517.37 Q2309.01 1517.37 2307.19 1520.93 Q2305.38 1524.47 2305.38 1531.6 Q2305.38 1538.71 2307.19 1542.27 Q2309.01 1545.82 2312.63 1545.82 Q2316.26 1545.82 2318.06 1542.27 Q2319.89 1538.71 2319.89 1531.6 Q2319.89 1524.47 2318.06 1520.93 Q2316.26 1517.37 2312.63 1517.37 M2312.63 1513.66 Q2318.44 1513.66 2321.49 1518.27 Q2324.57 1522.85 2324.57 1531.6 Q2324.57 1540.33 2321.49 1544.94 Q2318.44 1549.52 2312.63 1549.52 Q2306.82 1549.52 2303.74 1544.94 Q2300.68 1540.33 2300.68 1531.6 Q2300.68 1522.85 2303.74 1518.27 Q2306.82 1513.66 2312.63 1513.66 Z\" fill=\"#000000\" fill-rule=\"nonzero\" fill-opacity=\"1\" /><polyline clip-path=\"url(#clip602)\" style=\"stroke:#000000; stroke-linecap:round; stroke-linejoin:round; stroke-width:2; stroke-opacity:0.1; fill:none\" points=\"141.853,1238.35 2352.76,1238.35 \"/>\n",
       "<polyline clip-path=\"url(#clip602)\" style=\"stroke:#000000; stroke-linecap:round; stroke-linejoin:round; stroke-width:2; stroke-opacity:0.1; fill:none\" points=\"141.853,980.419 2352.76,980.419 \"/>\n",
       "<polyline clip-path=\"url(#clip602)\" style=\"stroke:#000000; stroke-linecap:round; stroke-linejoin:round; stroke-width:2; stroke-opacity:0.1; fill:none\" points=\"141.853,722.492 2352.76,722.492 \"/>\n",
       "<polyline clip-path=\"url(#clip602)\" style=\"stroke:#000000; stroke-linecap:round; stroke-linejoin:round; stroke-width:2; stroke-opacity:0.1; fill:none\" points=\"141.853,464.566 2352.76,464.566 \"/>\n",
       "<polyline clip-path=\"url(#clip602)\" style=\"stroke:#000000; stroke-linecap:round; stroke-linejoin:round; stroke-width:2; stroke-opacity:0.1; fill:none\" points=\"141.853,206.639 2352.76,206.639 \"/>\n",
       "<polyline clip-path=\"url(#clip600)\" style=\"stroke:#000000; stroke-linecap:round; stroke-linejoin:round; stroke-width:4; stroke-opacity:1; fill:none\" points=\"141.853,1486.45 141.853,47.2441 \"/>\n",
       "<polyline clip-path=\"url(#clip600)\" style=\"stroke:#000000; stroke-linecap:round; stroke-linejoin:round; stroke-width:4; stroke-opacity:1; fill:none\" points=\"141.853,1238.35 160.751,1238.35 \"/>\n",
       "<polyline clip-path=\"url(#clip600)\" style=\"stroke:#000000; stroke-linecap:round; stroke-linejoin:round; stroke-width:4; stroke-opacity:1; fill:none\" points=\"141.853,980.419 160.751,980.419 \"/>\n",
       "<polyline clip-path=\"url(#clip600)\" style=\"stroke:#000000; stroke-linecap:round; stroke-linejoin:round; stroke-width:4; stroke-opacity:1; fill:none\" points=\"141.853,722.492 160.751,722.492 \"/>\n",
       "<polyline clip-path=\"url(#clip600)\" style=\"stroke:#000000; stroke-linecap:round; stroke-linejoin:round; stroke-width:4; stroke-opacity:1; fill:none\" points=\"141.853,464.566 160.751,464.566 \"/>\n",
       "<polyline clip-path=\"url(#clip600)\" style=\"stroke:#000000; stroke-linecap:round; stroke-linejoin:round; stroke-width:4; stroke-opacity:1; fill:none\" points=\"141.853,206.639 160.751,206.639 \"/>\n",
       "<path clip-path=\"url(#clip600)\" d=\"M54.5569 1251.69 L62.1958 1251.69 L62.1958 1225.33 L53.8856 1226.99 L53.8856 1222.73 L62.1495 1221.07 L66.8254 1221.07 L66.8254 1251.69 L74.4642 1251.69 L74.4642 1255.63 L54.5569 1255.63 L54.5569 1251.69 Z\" fill=\"#000000\" fill-rule=\"nonzero\" fill-opacity=\"1\" /><path clip-path=\"url(#clip600)\" d=\"M93.9086 1224.14 Q90.2975 1224.14 88.4688 1227.71 Q86.6632 1231.25 86.6632 1238.38 Q86.6632 1245.49 88.4688 1249.05 Q90.2975 1252.59 93.9086 1252.59 Q97.5428 1252.59 99.3483 1249.05 Q101.177 1245.49 101.177 1238.38 Q101.177 1231.25 99.3483 1227.71 Q97.5428 1224.14 93.9086 1224.14 M93.9086 1220.44 Q99.7187 1220.44 102.774 1225.05 Q105.853 1229.63 105.853 1238.38 Q105.853 1247.11 102.774 1251.71 Q99.7187 1256.3 93.9086 1256.3 Q88.0984 1256.3 85.0197 1251.71 Q81.9642 1247.11 81.9642 1238.38 Q81.9642 1229.63 85.0197 1225.05 Q88.0984 1220.44 93.9086 1220.44 Z\" fill=\"#000000\" fill-rule=\"nonzero\" fill-opacity=\"1\" /><path clip-path=\"url(#clip600)\" d=\"M57.7745 993.764 L74.0939 993.764 L74.0939 997.699 L52.1495 997.699 L52.1495 993.764 Q54.8115 991.009 59.3949 986.38 Q64.0013 981.727 65.1819 980.385 Q67.4272 977.861 68.3068 976.125 Q69.2096 974.366 69.2096 972.676 Q69.2096 969.922 67.2652 968.186 Q65.3439 966.449 62.2421 966.449 Q60.043 966.449 57.5893 967.213 Q55.1588 967.977 52.381 969.528 L52.381 964.806 Q55.2051 963.672 57.6588 963.093 Q60.1124 962.514 62.1495 962.514 Q67.5198 962.514 70.7142 965.199 Q73.9087 967.885 73.9087 972.375 Q73.9087 974.505 73.0985 976.426 Q72.3115 978.324 70.205 980.917 Q69.6263 981.588 66.5245 984.806 Q63.4226 988 57.7745 993.764 Z\" fill=\"#000000\" fill-rule=\"nonzero\" fill-opacity=\"1\" /><path clip-path=\"url(#clip600)\" d=\"M93.9086 966.218 Q90.2975 966.218 88.4688 969.783 Q86.6632 973.324 86.6632 980.454 Q86.6632 987.56 88.4688 991.125 Q90.2975 994.667 93.9086 994.667 Q97.5428 994.667 99.3483 991.125 Q101.177 987.56 101.177 980.454 Q101.177 973.324 99.3483 969.783 Q97.5428 966.218 93.9086 966.218 M93.9086 962.514 Q99.7187 962.514 102.774 967.121 Q105.853 971.704 105.853 980.454 Q105.853 989.181 102.774 993.787 Q99.7187 998.371 93.9086 998.371 Q88.0984 998.371 85.0197 993.787 Q81.9642 989.181 81.9642 980.454 Q81.9642 971.704 85.0197 967.121 Q88.0984 962.514 93.9086 962.514 Z\" fill=\"#000000\" fill-rule=\"nonzero\" fill-opacity=\"1\" /><path clip-path=\"url(#clip600)\" d=\"M67.9133 721.138 Q71.2698 721.856 73.1448 724.124 Q75.0429 726.393 75.0429 729.726 Q75.0429 734.842 71.5244 737.643 Q68.0059 740.444 61.5245 740.444 Q59.3486 740.444 57.0338 740.004 Q54.7421 739.587 52.2884 738.731 L52.2884 734.217 Q54.2328 735.351 56.5477 735.93 Q58.8625 736.509 61.3856 736.509 Q65.7837 736.509 68.0754 734.772 Q70.3902 733.036 70.3902 729.726 Q70.3902 726.671 68.2374 724.958 Q66.1078 723.222 62.2884 723.222 L58.2606 723.222 L58.2606 719.379 L62.4735 719.379 Q65.9226 719.379 67.7513 718.013 Q69.58 716.624 69.58 714.032 Q69.58 711.37 67.6819 709.958 Q65.8069 708.523 62.2884 708.523 Q60.3671 708.523 58.168 708.939 Q55.969 709.356 53.3301 710.236 L53.3301 706.069 Q55.9921 705.328 58.3069 704.958 Q60.6449 704.587 62.705 704.587 Q68.0291 704.587 71.1309 707.018 Q74.2327 709.425 74.2327 713.546 Q74.2327 716.416 72.5892 718.407 Q70.9457 720.374 67.9133 721.138 Z\" fill=\"#000000\" fill-rule=\"nonzero\" fill-opacity=\"1\" /><path clip-path=\"url(#clip600)\" d=\"M93.9086 708.291 Q90.2975 708.291 88.4688 711.856 Q86.6632 715.398 86.6632 722.527 Q86.6632 729.634 88.4688 733.198 Q90.2975 736.74 93.9086 736.74 Q97.5428 736.74 99.3483 733.198 Q101.177 729.634 101.177 722.527 Q101.177 715.398 99.3483 711.856 Q97.5428 708.291 93.9086 708.291 M93.9086 704.587 Q99.7187 704.587 102.774 709.194 Q105.853 713.777 105.853 722.527 Q105.853 731.254 102.774 735.86 Q99.7187 740.444 93.9086 740.444 Q88.0984 740.444 85.0197 735.86 Q81.9642 731.254 81.9642 722.527 Q81.9642 713.777 85.0197 709.194 Q88.0984 704.587 93.9086 704.587 Z\" fill=\"#000000\" fill-rule=\"nonzero\" fill-opacity=\"1\" /><path clip-path=\"url(#clip600)\" d=\"M66.5939 451.36 L54.7884 469.809 L66.5939 469.809 L66.5939 451.36 M65.367 447.286 L71.2466 447.286 L71.2466 469.809 L76.1772 469.809 L76.1772 473.698 L71.2466 473.698 L71.2466 481.846 L66.5939 481.846 L66.5939 473.698 L50.9921 473.698 L50.9921 469.184 L65.367 447.286 Z\" fill=\"#000000\" fill-rule=\"nonzero\" fill-opacity=\"1\" /><path clip-path=\"url(#clip600)\" d=\"M93.9086 450.364 Q90.2975 450.364 88.4688 453.929 Q86.6632 457.471 86.6632 464.6 Q86.6632 471.707 88.4688 475.272 Q90.2975 478.813 93.9086 478.813 Q97.5428 478.813 99.3483 475.272 Q101.177 471.707 101.177 464.6 Q101.177 457.471 99.3483 453.929 Q97.5428 450.364 93.9086 450.364 M93.9086 446.661 Q99.7187 446.661 102.774 451.267 Q105.853 455.85 105.853 464.6 Q105.853 473.327 102.774 477.934 Q99.7187 482.517 93.9086 482.517 Q88.0984 482.517 85.0197 477.934 Q81.9642 473.327 81.9642 464.6 Q81.9642 455.85 85.0197 451.267 Q88.0984 446.661 93.9086 446.661 Z\" fill=\"#000000\" fill-rule=\"nonzero\" fill-opacity=\"1\" /><path clip-path=\"url(#clip600)\" d=\"M53.793 189.359 L72.1494 189.359 L72.1494 193.294 L58.0754 193.294 L58.0754 201.766 Q59.0939 201.419 60.1124 201.257 Q61.131 201.072 62.1495 201.072 Q67.9365 201.072 71.3161 204.243 Q74.6957 207.414 74.6957 212.831 Q74.6957 218.41 71.2235 221.511 Q67.7513 224.59 61.4319 224.59 Q59.256 224.59 56.9875 224.22 Q54.7421 223.849 52.3347 223.109 L52.3347 218.41 Q54.418 219.544 56.6402 220.099 Q58.8625 220.655 61.3393 220.655 Q65.3439 220.655 67.6819 218.548 Q70.0198 216.442 70.0198 212.831 Q70.0198 209.22 67.6819 207.113 Q65.3439 205.007 61.3393 205.007 Q59.4643 205.007 57.5893 205.424 Q55.7375 205.84 53.793 206.72 L53.793 189.359 Z\" fill=\"#000000\" fill-rule=\"nonzero\" fill-opacity=\"1\" /><path clip-path=\"url(#clip600)\" d=\"M93.9086 192.438 Q90.2975 192.438 88.4688 196.002 Q86.6632 199.544 86.6632 206.674 Q86.6632 213.78 88.4688 217.345 Q90.2975 220.886 93.9086 220.886 Q97.5428 220.886 99.3483 217.345 Q101.177 213.78 101.177 206.674 Q101.177 199.544 99.3483 196.002 Q97.5428 192.438 93.9086 192.438 M93.9086 188.734 Q99.7187 188.734 102.774 193.34 Q105.853 197.924 105.853 206.674 Q105.853 215.4 102.774 220.007 Q99.7187 224.59 93.9086 224.59 Q88.0984 224.59 85.0197 220.007 Q81.9642 215.4 81.9642 206.674 Q81.9642 197.924 85.0197 193.34 Q88.0984 188.734 93.9086 188.734 Z\" fill=\"#000000\" fill-rule=\"nonzero\" fill-opacity=\"1\" /><polyline clip-path=\"url(#clip602)\" style=\"stroke:#009af9; stroke-linecap:round; stroke-linejoin:round; stroke-width:4; stroke-opacity:1; fill:none\" points=\"204.426,1444.69 206.514,1444.74 208.601,1444.79 210.689,1444.84 212.777,1444.88 214.865,1444.93 216.953,1444.97 219.041,1445.02 221.128,1445.06 223.216,1445.1 225.304,1445.14 227.392,1445.18 229.48,1445.21 231.568,1445.25 233.656,1445.28 235.743,1445.31 237.831,1445.34 239.919,1445.37 242.007,1445.4 244.095,1445.43 246.183,1445.46 248.27,1445.48 250.358,1445.5 252.446,1445.53 254.534,1445.55 256.622,1445.57 258.71,1445.59 260.797,1445.6 262.885,1445.62 264.973,1445.63 267.061,1445.65 269.149,1445.66 271.237,1445.67 273.325,1445.68 275.412,1445.69 277.5,1445.7 279.588,1445.7 281.676,1445.71 283.764,1445.71 285.852,1445.71 287.939,1445.72 290.027,1445.72 292.115,1445.71 294.203,1445.71 296.291,1445.71 298.379,1445.7 300.467,1445.7 302.554,1445.69 304.642,1445.68 306.73,1445.67 308.818,1445.66 310.906,1445.65 312.994,1445.64 315.081,1445.62 317.169,1445.61 319.257,1445.59 321.345,1445.57 323.433,1445.55 325.521,1445.53 327.609,1445.51 329.696,1445.49 331.784,1445.46 333.872,1445.44 335.96,1445.41 338.048,1445.39 340.136,1445.36 342.223,1445.33 344.311,1445.3 346.399,1445.26 348.487,1445.23 350.575,1445.2 352.663,1445.16 354.751,1445.12 356.838,1445.09 358.926,1445.05 361.014,1445.01 363.102,1444.97 365.19,1444.92 367.278,1444.88 369.365,1444.84 371.453,1444.79 373.541,1444.74 375.629,1444.69 377.717,1444.64 379.805,1444.59 381.893,1444.54 383.98,1444.49 386.068,1444.44 388.156,1444.38 390.244,1444.32 392.332,1444.27 394.42,1444.21 396.507,1444.15 398.595,1444.09 400.683,1444.03 402.771,1443.96 404.859,1443.9 406.947,1443.83 409.035,1443.77 411.122,1443.7 413.21,1443.63 415.298,1443.56 417.386,1443.49 419.474,1443.42 421.562,1443.35 423.649,1443.27 425.737,1443.2 427.825,1443.12 429.913,1443.04 432.001,1442.96 434.089,1442.88 436.177,1442.8 438.264,1442.72 440.352,1442.64 442.44,1442.55 444.528,1442.47 446.616,1442.38 448.704,1442.29 450.791,1442.21 452.879,1442.12 454.967,1442.02 457.055,1441.93 459.143,1441.84 461.231,1441.74 463.318,1441.65 465.406,1441.55 467.494,1441.45 469.582,1441.36 471.67,1441.26 473.758,1441.15 475.846,1441.05 477.933,1440.95 480.021,1440.84 482.109,1440.74 484.197,1440.63 486.285,1440.52 488.373,1440.41 490.46,1440.3 492.548,1440.19 494.636,1440.08 496.724,1439.97 498.812,1439.85 500.9,1439.74 502.988,1439.62 505.075,1439.5 507.163,1439.38 509.251,1439.26 511.339,1439.14 513.427,1439.02 515.515,1438.9 517.602,1438.77 519.69,1438.64 521.778,1438.52 523.866,1438.39 525.954,1438.26 528.042,1438.13 530.13,1438 532.217,1437.86 534.305,1437.73 536.393,1437.6 538.481,1437.46 540.569,1437.32 542.657,1437.18 544.744,1437.04 546.832,1436.9 548.92,1436.76 551.008,1436.62 553.096,1436.47 555.184,1436.33 557.272,1436.18 559.359,1436.04 561.447,1435.89 563.535,1435.74 565.623,1435.59 567.711,1435.43 569.799,1435.28 571.886,1435.13 573.974,1434.97 576.062,1434.81 578.15,1434.65 580.238,1434.5 582.326,1434.34 584.414,1434.17 586.501,1434.01 588.589,1433.85 590.677,1433.68 592.765,1433.52 594.853,1433.35 596.941,1433.18 599.028,1433.01 601.116,1432.84 603.204,1432.67 605.292,1432.49 607.38,1432.32 609.468,1432.14 611.556,1431.97 613.643,1431.79 615.731,1431.61 617.819,1431.43 619.907,1431.25 621.995,1431.06 624.083,1430.88 626.17,1430.7 628.258,1430.51 630.346,1430.32 632.434,1430.13 634.522,1429.94 636.61,1429.75 638.698,1429.56 640.785,1429.37 642.873,1429.17 644.961,1428.97 647.049,1428.78 649.137,1428.58 651.225,1428.38 653.312,1428.18 655.4,1427.98 657.488,1427.77 659.576,1427.57 661.664,1427.36 663.752,1427.15 665.839,1426.95 667.927,1426.74 670.015,1426.52 672.103,1426.31 674.191,1426.1 676.279,1425.88 678.367,1425.67 680.454,1425.45 682.542,1425.23 684.63,1425.01 686.718,1424.79 688.806,1424.57 690.894,1424.34 692.981,1424.12 695.069,1423.89 697.157,1423.67 699.245,1423.44 701.333,1423.21 703.421,1422.98 705.509,1422.74 707.596,1422.51 709.684,1422.27 711.772,1422.04 713.86,1421.8 715.948,1421.56 718.036,1421.32 720.123,1421.08 722.211,1420.83 724.299,1420.59 726.387,1420.34 728.475,1420.1 730.563,1419.85 732.651,1419.6 734.738,1419.35 736.826,1419.1 738.914,1418.84 741.002,1418.59 743.09,1418.33 745.178,1418.07 747.265,1417.81 749.353,1417.55 751.441,1417.29 753.529,1417.03 755.617,1416.76 757.705,1416.5 759.793,1416.23 761.88,1415.96 763.968,1415.69 766.056,1415.42 768.144,1415.14 770.232,1414.87 772.32,1414.59 774.407,1414.32 776.495,1414.04 778.583,1413.76 780.671,1413.48 782.759,1413.19 784.847,1412.91 786.935,1412.62 789.022,1412.33 791.11,1412.05 793.198,1411.76 795.286,1411.46 797.374,1411.17 799.462,1410.88 801.549,1410.58 803.637,1410.28 805.725,1409.98 807.813,1409.68 809.901,1409.38 811.989,1409.08 814.077,1408.77 816.164,1408.47 818.252,1408.16 820.34,1407.85 822.428,1407.54 824.516,1407.23 826.604,1406.91 828.691,1406.6 830.779,1406.28 832.867,1405.96 834.955,1405.64 837.043,1405.32 839.131,1405 841.219,1404.67 843.306,1404.35 845.394,1404.02 847.482,1403.69 849.57,1403.36 851.658,1403.02 853.746,1402.69 855.833,1402.36 857.921,1402.02 860.009,1401.68 862.097,1401.34 864.185,1401 866.273,1400.65 868.36,1400.31 870.448,1399.96 872.536,1399.61 874.624,1399.26 876.712,1398.91 878.8,1398.56 880.888,1398.2 882.975,1397.85 885.063,1397.49 887.151,1397.13 889.239,1396.77 891.327,1396.4 893.415,1396.04 895.502,1395.67 897.59,1395.3 899.678,1394.93 901.766,1394.56 903.854,1394.19 905.942,1393.81 908.03,1393.44 910.117,1393.06 912.205,1392.68 914.293,1392.3 916.381,1391.91 918.469,1391.53 920.557,1391.14 922.644,1390.75 924.732,1390.36 926.82,1389.97 928.908,1389.57 930.996,1389.18 933.084,1388.78 935.172,1388.38 937.259,1387.98 939.347,1387.58 941.435,1387.17 943.523,1386.76 945.611,1386.36 947.699,1385.94 949.786,1385.53 951.874,1385.12 953.962,1384.7 956.05,1384.28 958.138,1383.87 960.226,1383.44 962.314,1383.02 964.401,1382.6 966.489,1382.17 968.577,1381.74 970.665,1381.31 972.753,1380.88 974.841,1380.44 976.928,1380 979.016,1379.57 981.104,1379.13 983.192,1378.68 985.28,1378.24 987.368,1377.79 989.456,1377.34 991.543,1376.89 993.631,1376.44 995.719,1375.99 997.807,1375.53 999.895,1375.07 1001.98,1374.61 1004.07,1374.15 1006.16,1373.69 1008.25,1373.22 1010.33,1372.75 1012.42,1372.28 1014.51,1371.81 1016.6,1371.34 1018.69,1370.86 1020.77,1370.38 1022.86,1369.9 1024.95,1369.42 1027.04,1368.93 1029.12,1368.45 1031.21,1367.96 1033.3,1367.47 1035.39,1366.97 1037.48,1366.48 1039.56,1365.98 1041.65,1365.48 1043.74,1364.98 1045.83,1364.48 1047.92,1363.97 1050,1363.46 1052.09,1362.95 1054.18,1362.44 1056.27,1361.93 1058.35,1361.41 1060.44,1360.89 1062.53,1360.37 1064.62,1359.85 1066.71,1359.32 1068.79,1358.79 1070.88,1358.26 1072.97,1357.73 1075.06,1357.2 1077.15,1356.66 1079.23,1356.12 1081.32,1355.58 1083.41,1355.03 1085.5,1354.49 1087.58,1353.94 1089.67,1353.39 1091.76,1352.84 1093.85,1352.28 1095.94,1351.72 1098.02,1351.16 1100.11,1350.6 1102.2,1350.04 1104.29,1349.47 1106.37,1348.9 1108.46,1348.33 1110.55,1347.75 1112.64,1347.18 1114.73,1346.6 1116.81,1346.01 1118.9,1345.43 1120.99,1344.84 1123.08,1344.25 1125.17,1343.66 1127.25,1343.07 1129.34,1342.47 1131.43,1341.87 1133.52,1341.27 1135.6,1340.67 1137.69,1340.06 1139.78,1339.45 1141.87,1338.84 1143.96,1338.23 1146.04,1337.61 1148.13,1336.99 1150.22,1336.37 1152.31,1335.74 1154.4,1335.12 1156.48,1334.49 1158.57,1333.85 1160.66,1333.22 1162.75,1332.58 1164.83,1331.94 1166.92,1331.3 1169.01,1330.65 1171.1,1330 1173.19,1329.35 1175.27,1328.7 1177.36,1328.04 1179.45,1327.38 1181.54,1326.72 1183.63,1326.06 1185.71,1325.39 1187.8,1324.72 1189.89,1324.05 1191.98,1323.37 1194.06,1322.69 1196.15,1322.01 1198.24,1321.33 1200.33,1320.64 1202.42,1319.95 1204.5,1319.26 1206.59,1318.56 1208.68,1317.86 1210.77,1317.16 1212.85,1316.46 1214.94,1315.75 1217.03,1315.04 1219.12,1314.33 1221.21,1313.61 1223.29,1312.89 1225.38,1312.17 1227.47,1311.44 1229.56,1310.72 1231.65,1309.98 1233.73,1309.25 1235.82,1308.51 1237.91,1307.77 1240,1307.03 1242.08,1306.28 1244.17,1305.53 1246.26,1304.78 1248.35,1304.03 1250.44,1303.27 1252.52,1302.51 1254.61,1301.74 1256.7,1300.97 1258.79,1300.2 1260.88,1299.43 1262.96,1298.65 1265.05,1297.87 1267.14,1297.09 1269.23,1296.3 1271.31,1295.51 1273.4,1294.72 1275.49,1293.92 1277.58,1293.12 1279.67,1292.32 1281.75,1291.51 1283.84,1290.7 1285.93,1289.89 1288.02,1289.07 1290.11,1288.25 1292.19,1287.43 1294.28,1286.6 1296.37,1285.77 1298.46,1284.94 1300.54,1284.1 1302.63,1283.26 1304.72,1282.42 1306.81,1281.57 1308.9,1280.72 1310.98,1279.86 1313.07,1279.01 1315.16,1278.15 1317.25,1277.28 1319.34,1276.41 1321.42,1275.54 1323.51,1274.67 1325.6,1273.79 1327.69,1272.91 1329.77,1272.02 1331.86,1271.13 1333.95,1270.24 1336.04,1269.34 1338.13,1268.44 1340.21,1267.54 1342.3,1266.63 1344.39,1265.72 1346.48,1264.8 1348.56,1263.88 1350.65,1262.96 1352.74,1262.03 1354.83,1261.1 1356.92,1260.17 1359,1259.23 1361.09,1258.29 1363.18,1257.34 1365.27,1256.39 1367.36,1255.44 1369.44,1254.48 1371.53,1253.52 1373.62,1252.56 1375.71,1251.59 1377.79,1250.62 1379.88,1249.64 1381.97,1248.66 1384.06,1247.67 1386.15,1246.68 1388.23,1245.69 1390.32,1244.69 1392.41,1243.69 1394.5,1242.69 1396.59,1241.68 1398.67,1240.67 1400.76,1239.65 1402.85,1238.63 1404.94,1237.6 1407.02,1236.57 1409.11,1235.54 1411.2,1234.5 1413.29,1233.46 1415.38,1232.41 1417.46,1231.36 1419.55,1230.31 1421.64,1229.25 1423.73,1228.18 1425.82,1227.12 1427.9,1226.04 1429.99,1224.97 1432.08,1223.89 1434.17,1222.8 1436.25,1221.71 1438.34,1220.62 1440.43,1219.52 1442.52,1218.42 1444.61,1217.31 1446.69,1216.2 1448.78,1215.08 1450.87,1213.96 1452.96,1212.83 1455.05,1211.7 1457.13,1210.57 1459.22,1209.43 1461.31,1208.29 1463.4,1207.14 1465.48,1205.98 1467.57,1204.83 1469.66,1203.66 1471.75,1202.5 1473.84,1201.33 1475.92,1200.15 1478.01,1198.97 1480.1,1197.78 1482.19,1196.59 1484.27,1195.39 1486.36,1194.19 1488.45,1192.99 1490.54,1191.78 1492.63,1190.56 1494.71,1189.34 1496.8,1188.12 1498.89,1186.89 1500.98,1185.65 1503.07,1184.41 1505.15,1183.17 1507.24,1181.92 1509.33,1180.66 1511.42,1179.4 1513.5,1178.14 1515.59,1176.87 1517.68,1175.59 1519.77,1174.31 1521.86,1173.02 1523.94,1171.73 1526.03,1170.44 1528.12,1169.14 1530.21,1167.83 1532.3,1166.52 1534.38,1165.2 1536.47,1163.88 1538.56,1162.55 1540.65,1161.22 1542.73,1159.88 1544.82,1158.53 1546.91,1157.18 1549,1155.83 1551.09,1154.47 1553.17,1153.1 1555.26,1151.73 1557.35,1150.35 1559.44,1148.97 1561.53,1147.58 1563.61,1146.19 1565.7,1144.79 1567.79,1143.38 1569.88,1141.97 1571.96,1140.56 1574.05,1139.13 1576.14,1137.71 1578.23,1136.27 1580.32,1134.83 1582.4,1133.39 1584.49,1131.94 1586.58,1130.48 1588.67,1129.02 1590.75,1127.55 1592.84,1126.07 1594.93,1124.59 1597.02,1123.11 1599.11,1121.62 1601.19,1120.12 1603.28,1118.61 1605.37,1117.1 1607.46,1115.59 1609.55,1114.06 1611.63,1112.53 1613.72,1111 1615.81,1109.46 1617.9,1107.91 1619.98,1106.36 1622.07,1104.8 1624.16,1103.23 1626.25,1101.66 1628.34,1100.08 1630.42,1098.49 1632.51,1096.9 1634.6,1095.3 1636.69,1093.7 1638.78,1092.09 1640.86,1090.47 1642.95,1088.85 1645.04,1087.22 1647.13,1085.58 1649.21,1083.94 1651.3,1082.29 1653.39,1080.63 1655.48,1078.96 1657.57,1077.29 1659.65,1075.62 1661.74,1073.93 1663.83,1072.24 1665.92,1070.55 1668.01,1068.84 1670.09,1067.13 1672.18,1065.41 1674.27,1063.69 1676.36,1061.96 1678.44,1060.22 1680.53,1058.47 1682.62,1056.72 1684.71,1054.96 1686.8,1053.19 1688.88,1051.42 1690.97,1049.64 1693.06,1047.85 1695.15,1046.05 1697.24,1044.25 1699.32,1042.44 1701.41,1040.62 1703.5,1038.8 1705.59,1036.97 1707.67,1035.13 1709.76,1033.28 1711.85,1031.43 1713.94,1029.56 1716.03,1027.7 1718.11,1025.82 1720.2,1023.93 1722.29,1022.04 1724.38,1020.14 1726.46,1018.24 1728.55,1016.32 1730.64,1014.4 1732.73,1012.47 1734.82,1010.53 1736.9,1008.59 1738.99,1006.63 1741.08,1004.67 1743.17,1002.7 1745.26,1000.72 1747.34,998.74 1749.43,996.747 1751.52,994.746 1753.61,992.736 1755.69,990.719 1757.78,988.694 1759.87,986.66 1761.96,984.619 1764.05,982.569 1766.13,980.511 1768.22,978.445 1770.31,976.37 1772.4,974.287 1774.49,972.195 1776.57,970.096 1778.66,967.987 1780.75,965.871 1782.84,963.745 1784.92,961.612 1787.01,959.469 1789.1,957.318 1791.19,955.159 1793.28,952.991 1795.36,950.814 1797.45,948.628 1799.54,946.433 1801.63,944.23 1803.72,942.018 1805.8,939.797 1807.89,937.567 1809.98,935.328 1812.07,933.08 1814.15,930.823 1816.24,928.556 1818.33,926.281 1820.42,923.997 1822.51,921.703 1824.59,919.401 1826.68,917.089 1828.77,914.767 1830.86,912.437 1832.95,910.097 1835.03,907.747 1837.12,905.389 1839.21,903.02 1841.3,900.643 1843.38,898.255 1845.47,895.858 1847.56,893.452 1849.65,891.035 1851.74,888.609 1853.82,886.174 1855.91,883.728 1858,881.273 1860.09,878.808 1862.17,876.333 1864.26,873.848 1866.35,871.353 1868.44,868.848 1870.53,866.332 1872.61,863.807 1874.7,861.272 1876.79,858.726 1878.88,856.171 1880.97,853.605 1883.05,851.028 1885.14,848.442 1887.23,845.845 1889.32,843.237 1891.4,840.619 1893.49,837.991 1895.58,835.352 1897.67,832.702 1899.76,830.042 1901.84,827.371 1903.93,824.689 1906.02,821.996 1908.11,819.293 1910.2,816.579 1912.28,813.854 1914.37,811.118 1916.46,808.371 1918.55,805.613 1920.63,802.844 1922.72,800.064 1924.81,797.272 1926.9,794.47 1928.99,791.656 1931.07,788.831 1933.16,785.994 1935.25,783.146 1937.34,780.287 1939.43,777.416 1941.51,774.534 1943.6,771.64 1945.69,768.735 1947.78,765.817 1949.86,762.889 1951.95,759.948 1954.04,756.995 1956.13,754.031 1958.22,751.055 1960.3,748.067 1962.39,745.066 1964.48,742.054 1966.57,739.03 1968.65,735.993 1970.74,732.945 1972.83,729.884 1974.92,726.811 1977.01,723.725 1979.09,720.627 1981.18,717.517 1983.27,714.394 1985.36,711.259 1987.45,708.111 1989.53,704.95 1991.62,701.777 1993.71,698.591 1995.8,695.392 1997.88,692.18 1999.97,688.956 2002.06,685.718 2004.15,682.468 2006.24,679.204 2008.32,675.928 2010.41,672.638 2012.5,669.335 2014.59,666.018 2016.68,662.689 2018.76,659.346 2020.85,655.99 2022.94,652.62 2025.03,649.236 2027.11,645.839 2029.2,642.429 2031.29,639.004 2033.38,635.566 2035.47,632.115 2037.55,628.649 2039.64,625.169 2041.73,621.676 2043.82,618.168 2045.91,614.646 2047.99,611.111 2050.08,607.561 2052.17,603.996 2054.26,600.418 2056.34,596.825 2058.43,593.217 2060.52,589.596 2062.61,585.959 2064.7,582.308 2066.78,578.643 2068.87,574.962 2070.96,571.267 2073.05,567.557 2075.14,563.832 2077.22,560.093 2079.31,556.338 2081.4,552.568 2083.49,548.783 2085.57,544.983 2087.66,541.167 2089.75,537.336 2091.84,533.49 2093.93,529.629 2096.01,525.752 2098.1,521.859 2100.19,517.951 2102.28,514.027 2104.36,510.087 2106.45,506.132 2108.54,502.16 2110.63,498.173 2112.72,494.169 2114.8,490.15 2116.89,486.115 2118.98,482.063 2121.07,477.995 2123.16,473.91 2125.24,469.81 2127.33,465.693 2129.42,461.559 2131.51,457.409 2133.59,453.242 2135.68,449.058 2137.77,444.858 2139.86,440.64 2141.95,436.406 2144.03,432.155 2146.12,427.886 2148.21,423.601 2150.3,419.298 2152.39,414.978 2154.47,410.641 2156.56,406.287 2158.65,401.914 2160.74,397.525 2162.82,393.117 2164.91,388.693 2167,384.25 2169.09,379.789 2171.18,375.311 2173.26,370.814 2175.35,366.3 2177.44,361.767 2179.53,357.216 2181.62,352.647 2183.7,348.06 2185.79,343.454 2187.88,338.83 2189.97,334.187 2192.05,329.526 2194.14,324.845 2196.23,320.147 2198.32,315.429 2200.41,310.692 2202.49,305.936 2204.58,301.161 2206.67,296.367 2208.76,291.554 2210.85,286.722 2212.93,281.87 2215.02,276.998 2217.11,272.107 2219.2,267.197 2221.28,262.266 2223.37,257.316 2225.46,252.346 2227.55,247.356 2229.64,242.346 2231.72,237.316 2233.81,232.266 2235.9,227.196 2237.99,222.105 2240.07,216.994 2242.16,211.862 2244.25,206.709 2246.34,201.536 2248.43,196.343 2250.51,191.128 2252.6,185.892 2254.69,180.636 2256.78,175.358 2258.87,170.059 2260.95,164.739 2263.04,159.398 2265.13,154.035 2267.22,148.65 2269.3,143.244 2271.39,137.817 2273.48,132.367 2275.57,126.896 2277.66,121.403 2279.74,115.887 2281.83,110.35 2283.92,104.79 2286.01,99.2079 2288.1,93.6035 2290.18,87.9766 \"/>\n",
       "<polyline clip-path=\"url(#clip602)\" style=\"stroke:#e26f46; stroke-linecap:round; stroke-linejoin:round; stroke-width:4; stroke-opacity:1; fill:none\" points=\"204.426,1444.69 206.514,1444.74 208.601,1444.79 210.689,1444.84 212.777,1444.88 214.865,1444.93 216.953,1444.97 219.041,1445.02 221.128,1445.06 223.216,1445.1 225.304,1445.14 227.392,1445.18 229.48,1445.21 231.568,1445.25 233.656,1445.28 235.743,1445.31 237.831,1445.34 239.919,1445.37 242.007,1445.4 244.095,1445.43 246.183,1445.46 248.27,1445.48 250.358,1445.5 252.446,1445.53 254.534,1445.55 256.622,1445.57 258.71,1445.59 260.797,1445.6 262.885,1445.62 264.973,1445.63 267.061,1445.65 269.149,1445.66 271.237,1445.67 273.325,1445.68 275.412,1445.69 277.5,1445.7 279.588,1445.7 281.676,1445.71 283.764,1445.71 285.852,1445.71 287.939,1445.72 290.027,1445.72 292.115,1445.71 294.203,1445.71 296.291,1445.71 298.379,1445.7 300.467,1445.7 302.554,1445.69 304.642,1445.68 306.73,1445.67 308.818,1445.66 310.906,1445.65 312.994,1445.64 315.081,1445.62 317.169,1445.61 319.257,1445.59 321.345,1445.57 323.433,1445.55 325.521,1445.53 327.609,1445.51 329.696,1445.49 331.784,1445.46 333.872,1445.44 335.96,1445.41 338.048,1445.39 340.136,1445.36 342.223,1445.33 344.311,1445.3 346.399,1445.26 348.487,1445.23 350.575,1445.2 352.663,1445.16 354.751,1445.12 356.838,1445.09 358.926,1445.05 361.014,1445.01 363.102,1444.97 365.19,1444.92 367.278,1444.88 369.365,1444.84 371.453,1444.79 373.541,1444.74 375.629,1444.69 377.717,1444.64 379.805,1444.59 381.893,1444.54 383.98,1444.49 386.068,1444.44 388.156,1444.38 390.244,1444.32 392.332,1444.27 394.42,1444.21 396.507,1444.15 398.595,1444.09 400.683,1444.03 402.771,1443.96 404.859,1443.9 406.947,1443.83 409.035,1443.77 411.122,1443.7 413.21,1443.63 415.298,1443.56 417.386,1443.49 419.474,1443.42 421.562,1443.35 423.649,1443.27 425.737,1443.2 427.825,1443.12 429.913,1443.04 432.001,1442.96 434.089,1442.88 436.177,1442.8 438.264,1442.72 440.352,1442.64 442.44,1442.55 444.528,1442.47 446.616,1442.38 448.704,1442.29 450.791,1442.21 452.879,1442.12 454.967,1442.02 457.055,1441.93 459.143,1441.84 461.231,1441.74 463.318,1441.65 465.406,1441.55 467.494,1441.45 469.582,1441.36 471.67,1441.26 473.758,1441.15 475.846,1441.05 477.933,1440.95 480.021,1440.84 482.109,1440.74 484.197,1440.63 486.285,1440.52 488.373,1440.41 490.46,1440.3 492.548,1440.19 494.636,1440.08 496.724,1439.97 498.812,1439.85 500.9,1439.74 502.988,1439.62 505.075,1439.5 507.163,1439.38 509.251,1439.26 511.339,1439.14 513.427,1439.02 515.515,1438.9 517.602,1438.77 519.69,1438.64 521.778,1438.52 523.866,1438.39 525.954,1438.26 528.042,1438.13 530.13,1438 532.217,1437.86 534.305,1437.73 536.393,1437.6 538.481,1437.46 540.569,1437.32 542.657,1437.18 544.744,1437.04 546.832,1436.9 548.92,1436.76 551.008,1436.62 553.096,1436.47 555.184,1436.33 557.272,1436.18 559.359,1436.04 561.447,1435.89 563.535,1435.74 565.623,1435.59 567.711,1435.43 569.799,1435.28 571.886,1435.13 573.974,1434.97 576.062,1434.81 578.15,1434.65 580.238,1434.5 582.326,1434.34 584.414,1434.17 586.501,1434.01 588.589,1433.85 590.677,1433.68 592.765,1433.52 594.853,1433.35 596.941,1433.18 599.028,1433.01 601.116,1432.84 603.204,1432.67 605.292,1432.49 607.38,1432.32 609.468,1432.14 611.556,1431.97 613.643,1431.79 615.731,1431.61 617.819,1431.43 619.907,1431.25 621.995,1431.06 624.083,1430.88 626.17,1430.7 628.258,1430.51 630.346,1430.32 632.434,1430.13 634.522,1429.94 636.61,1429.75 638.698,1429.56 640.785,1429.37 642.873,1429.17 644.961,1428.97 647.049,1428.78 649.137,1428.58 651.225,1428.38 653.312,1428.18 655.4,1427.98 657.488,1427.77 659.576,1427.57 661.664,1427.36 663.752,1427.15 665.839,1426.94 667.927,1426.74 670.015,1426.52 672.103,1426.31 674.191,1426.1 676.279,1425.88 678.367,1425.67 680.454,1425.45 682.542,1425.23 684.63,1425.01 686.718,1424.79 688.806,1424.57 690.894,1424.34 692.981,1424.12 695.069,1423.89 697.157,1423.67 699.245,1423.44 701.333,1423.21 703.421,1422.98 705.509,1422.74 707.596,1422.51 709.684,1422.27 711.772,1422.04 713.86,1421.8 715.948,1421.56 718.036,1421.32 720.123,1421.08 722.211,1420.83 724.299,1420.59 726.387,1420.34 728.475,1420.1 730.563,1419.85 732.651,1419.6 734.738,1419.35 736.826,1419.1 738.914,1418.84 741.002,1418.59 743.09,1418.33 745.178,1418.07 747.265,1417.81 749.353,1417.55 751.441,1417.29 753.529,1417.03 755.617,1416.76 757.705,1416.5 759.793,1416.23 761.88,1415.96 763.968,1415.69 766.056,1415.42 768.144,1415.14 770.232,1414.87 772.32,1414.59 774.407,1414.32 776.495,1414.04 778.583,1413.76 780.671,1413.48 782.759,1413.19 784.847,1412.91 786.935,1412.62 789.022,1412.33 791.11,1412.05 793.198,1411.76 795.286,1411.46 797.374,1411.17 799.462,1410.88 801.549,1410.58 803.637,1410.28 805.725,1409.98 807.813,1409.68 809.901,1409.38 811.989,1409.08 814.077,1408.77 816.164,1408.47 818.252,1408.16 820.34,1407.85 822.428,1407.54 824.516,1407.23 826.604,1406.91 828.691,1406.6 830.779,1406.28 832.867,1405.96 834.955,1405.64 837.043,1405.32 839.131,1405 841.219,1404.67 843.306,1404.35 845.394,1404.02 847.482,1403.69 849.57,1403.36 851.658,1403.02 853.746,1402.69 855.833,1402.36 857.921,1402.02 860.009,1401.68 862.097,1401.34 864.185,1401 866.273,1400.65 868.36,1400.31 870.448,1399.96 872.536,1399.61 874.624,1399.26 876.712,1398.91 878.8,1398.56 880.888,1398.2 882.975,1397.85 885.063,1397.49 887.151,1397.13 889.239,1396.77 891.327,1396.4 893.415,1396.04 895.502,1395.67 897.59,1395.3 899.678,1394.93 901.766,1394.56 903.854,1394.19 905.942,1393.81 908.03,1393.44 910.117,1393.06 912.205,1392.68 914.293,1392.3 916.381,1391.91 918.469,1391.53 920.557,1391.14 922.644,1390.75 924.732,1390.36 926.82,1389.97 928.908,1389.57 930.996,1389.18 933.084,1388.78 935.172,1388.38 937.259,1387.98 939.347,1387.58 941.435,1387.17 943.523,1386.76 945.611,1386.36 947.699,1385.94 949.786,1385.53 951.874,1385.12 953.962,1384.7 956.05,1384.28 958.138,1383.87 960.226,1383.44 962.314,1383.02 964.401,1382.6 966.489,1382.17 968.577,1381.74 970.665,1381.31 972.753,1380.88 974.841,1380.44 976.928,1380 979.016,1379.57 981.104,1379.12 983.192,1378.68 985.28,1378.24 987.368,1377.79 989.456,1377.34 991.543,1376.89 993.631,1376.44 995.719,1375.99 997.807,1375.53 999.895,1375.07 1001.98,1374.61 1004.07,1374.15 1006.16,1373.69 1008.25,1373.22 1010.33,1372.75 1012.42,1372.28 1014.51,1371.81 1016.6,1371.34 1018.69,1370.86 1020.77,1370.38 1022.86,1369.9 1024.95,1369.42 1027.04,1368.93 1029.12,1368.45 1031.21,1367.96 1033.3,1367.47 1035.39,1366.97 1037.48,1366.48 1039.56,1365.98 1041.65,1365.48 1043.74,1364.98 1045.83,1364.48 1047.92,1363.97 1050,1363.46 1052.09,1362.95 1054.18,1362.44 1056.27,1361.93 1058.35,1361.41 1060.44,1360.89 1062.53,1360.37 1064.62,1359.85 1066.71,1359.32 1068.79,1358.79 1070.88,1358.26 1072.97,1357.73 1075.06,1357.2 1077.15,1356.66 1079.23,1356.12 1081.32,1355.58 1083.41,1355.03 1085.5,1354.49 1087.58,1353.94 1089.67,1353.39 1091.76,1352.84 1093.85,1352.28 1095.94,1351.72 1098.02,1351.16 1100.11,1350.6 1102.2,1350.04 1104.29,1349.47 1106.37,1348.9 1108.46,1348.33 1110.55,1347.75 1112.64,1347.18 1114.73,1346.6 1116.81,1346.01 1118.9,1345.43 1120.99,1344.84 1123.08,1344.25 1125.17,1343.66 1127.25,1343.07 1129.34,1342.47 1131.43,1341.87 1133.52,1341.27 1135.6,1340.67 1137.69,1340.06 1139.78,1339.45 1141.87,1338.84 1143.96,1338.23 1146.04,1337.61 1148.13,1336.99 1150.22,1336.37 1152.31,1335.74 1154.4,1335.12 1156.48,1334.49 1158.57,1333.85 1160.66,1333.22 1162.75,1332.58 1164.83,1331.94 1166.92,1331.3 1169.01,1330.65 1171.1,1330 1173.19,1329.35 1175.27,1328.7 1177.36,1328.04 1179.45,1327.38 1181.54,1326.72 1183.63,1326.06 1185.71,1325.39 1187.8,1324.72 1189.89,1324.05 1191.98,1323.37 1194.06,1322.69 1196.15,1322.01 1198.24,1321.33 1200.33,1320.64 1202.42,1319.95 1204.5,1319.26 1206.59,1318.56 1208.68,1317.86 1210.77,1317.16 1212.85,1316.46 1214.94,1315.75 1217.03,1315.04 1219.12,1314.33 1221.21,1313.61 1223.29,1312.89 1225.38,1312.17 1227.47,1311.44 1229.56,1310.72 1231.65,1309.98 1233.73,1309.25 1235.82,1308.51 1237.91,1307.77 1240,1307.03 1242.08,1306.28 1244.17,1305.53 1246.26,1304.78 1248.35,1304.03 1250.44,1303.27 1252.52,1302.51 1254.61,1301.74 1256.7,1300.97 1258.79,1300.2 1260.88,1299.43 1262.96,1298.65 1265.05,1297.87 1267.14,1297.09 1269.23,1296.3 1271.31,1295.51 1273.4,1294.72 1275.49,1293.92 1277.58,1293.12 1279.67,1292.32 1281.75,1291.51 1283.84,1290.7 1285.93,1289.89 1288.02,1289.07 1290.11,1288.25 1292.19,1287.43 1294.28,1286.6 1296.37,1285.77 1298.46,1284.94 1300.54,1284.1 1302.63,1283.26 1304.72,1282.42 1306.81,1281.57 1308.9,1280.72 1310.98,1279.86 1313.07,1279.01 1315.16,1278.15 1317.25,1277.28 1319.34,1276.41 1321.42,1275.54 1323.51,1274.67 1325.6,1273.79 1327.69,1272.91 1329.77,1272.02 1331.86,1271.13 1333.95,1270.24 1336.04,1269.34 1338.13,1268.44 1340.21,1267.54 1342.3,1266.63 1344.39,1265.72 1346.48,1264.8 1348.56,1263.88 1350.65,1262.96 1352.74,1262.03 1354.83,1261.1 1356.92,1260.17 1359,1259.23 1361.09,1258.29 1363.18,1257.34 1365.27,1256.39 1367.36,1255.44 1369.44,1254.48 1371.53,1253.52 1373.62,1252.56 1375.71,1251.59 1377.79,1250.62 1379.88,1249.64 1381.97,1248.66 1384.06,1247.67 1386.15,1246.68 1388.23,1245.69 1390.32,1244.69 1392.41,1243.69 1394.5,1242.69 1396.59,1241.68 1398.67,1240.67 1400.76,1239.65 1402.85,1238.63 1404.94,1237.6 1407.02,1236.57 1409.11,1235.54 1411.2,1234.5 1413.29,1233.46 1415.38,1232.41 1417.46,1231.36 1419.55,1230.31 1421.64,1229.25 1423.73,1228.18 1425.82,1227.12 1427.9,1226.04 1429.99,1224.97 1432.08,1223.89 1434.17,1222.8 1436.25,1221.71 1438.34,1220.62 1440.43,1219.52 1442.52,1218.42 1444.61,1217.31 1446.69,1216.2 1448.78,1215.08 1450.87,1213.96 1452.96,1212.83 1455.05,1211.7 1457.13,1210.57 1459.22,1209.43 1461.31,1208.29 1463.4,1207.14 1465.48,1205.98 1467.57,1204.83 1469.66,1203.66 1471.75,1202.5 1473.84,1201.33 1475.92,1200.15 1478.01,1198.97 1480.1,1197.78 1482.19,1196.59 1484.27,1195.39 1486.36,1194.19 1488.45,1192.99 1490.54,1191.78 1492.63,1190.56 1494.71,1189.34 1496.8,1188.12 1498.89,1186.89 1500.98,1185.65 1503.07,1184.41 1505.15,1183.17 1507.24,1181.92 1509.33,1180.66 1511.42,1179.4 1513.5,1178.14 1515.59,1176.87 1517.68,1175.59 1519.77,1174.31 1521.86,1173.02 1523.94,1171.73 1526.03,1170.44 1528.12,1169.14 1530.21,1167.83 1532.3,1166.52 1534.38,1165.2 1536.47,1163.88 1538.56,1162.55 1540.65,1161.22 1542.73,1159.88 1544.82,1158.53 1546.91,1157.18 1549,1155.83 1551.09,1154.47 1553.17,1153.1 1555.26,1151.73 1557.35,1150.35 1559.44,1148.97 1561.53,1147.58 1563.61,1146.19 1565.7,1144.79 1567.79,1143.38 1569.88,1141.97 1571.96,1140.56 1574.05,1139.13 1576.14,1137.71 1578.23,1136.27 1580.32,1134.83 1582.4,1133.39 1584.49,1131.94 1586.58,1130.48 1588.67,1129.02 1590.75,1127.55 1592.84,1126.07 1594.93,1124.59 1597.02,1123.11 1599.11,1121.62 1601.19,1120.12 1603.28,1118.61 1605.37,1117.1 1607.46,1115.59 1609.55,1114.06 1611.63,1112.53 1613.72,1111 1615.81,1109.46 1617.9,1107.91 1619.98,1106.36 1622.07,1104.8 1624.16,1103.23 1626.25,1101.66 1628.34,1100.08 1630.42,1098.49 1632.51,1096.9 1634.6,1095.3 1636.69,1093.7 1638.78,1092.09 1640.86,1090.47 1642.95,1088.85 1645.04,1087.22 1647.13,1085.58 1649.21,1083.94 1651.3,1082.29 1653.39,1080.63 1655.48,1078.96 1657.57,1077.29 1659.65,1075.62 1661.74,1073.93 1663.83,1072.24 1665.92,1070.55 1668.01,1068.84 1670.09,1067.13 1672.18,1065.41 1674.27,1063.69 1676.36,1061.96 1678.44,1060.22 1680.53,1058.47 1682.62,1056.72 1684.71,1054.96 1686.8,1053.19 1688.88,1051.42 1690.97,1049.64 1693.06,1047.85 1695.15,1046.05 1697.24,1044.25 1699.32,1042.44 1701.41,1040.62 1703.5,1038.8 1705.59,1036.97 1707.67,1035.13 1709.76,1033.28 1711.85,1031.43 1713.94,1029.56 1716.03,1027.7 1718.11,1025.82 1720.2,1023.93 1722.29,1022.04 1724.38,1020.14 1726.46,1018.24 1728.55,1016.32 1730.64,1014.4 1732.73,1012.47 1734.82,1010.53 1736.9,1008.59 1738.99,1006.63 1741.08,1004.67 1743.17,1002.7 1745.26,1000.72 1747.34,998.74 1749.43,996.747 1751.52,994.745 1753.61,992.736 1755.69,990.719 1757.78,988.694 1759.87,986.66 1761.96,984.619 1764.05,982.569 1766.13,980.511 1768.22,978.444 1770.31,976.37 1772.4,974.287 1774.49,972.195 1776.57,970.096 1778.66,967.987 1780.75,965.871 1782.84,963.745 1784.92,961.612 1787.01,959.469 1789.1,957.318 1791.19,955.159 1793.28,952.99 1795.36,950.813 1797.45,948.628 1799.54,946.433 1801.63,944.23 1803.72,942.018 1805.8,939.796 1807.89,937.566 1809.98,935.327 1812.07,933.079 1814.15,930.822 1816.24,928.556 1818.33,926.281 1820.42,923.997 1822.51,921.703 1824.59,919.401 1826.68,917.089 1828.77,914.767 1830.86,912.437 1832.95,910.097 1835.03,907.747 1837.12,905.389 1839.21,903.02 1841.3,900.642 1843.38,898.255 1845.47,895.858 1847.56,893.452 1849.65,891.035 1851.74,888.609 1853.82,886.174 1855.91,883.728 1858,881.273 1860.09,878.808 1862.17,876.333 1864.26,873.848 1866.35,871.352 1868.44,868.847 1870.53,866.332 1872.61,863.807 1874.7,861.272 1876.79,858.726 1878.88,856.171 1880.97,853.604 1883.05,851.028 1885.14,848.441 1887.23,845.844 1889.32,843.237 1891.4,840.619 1893.49,837.99 1895.58,835.351 1897.67,832.702 1899.76,830.041 1901.84,827.37 1903.93,824.689 1906.02,821.996 1908.11,819.293 1910.2,816.579 1912.28,813.854 1914.37,811.118 1916.46,808.371 1918.55,805.613 1920.63,802.844 1922.72,800.064 1924.81,797.272 1926.9,794.47 1928.99,791.656 1931.07,788.831 1933.16,785.994 1935.25,783.146 1937.34,780.287 1939.43,777.416 1941.51,774.534 1943.6,771.64 1945.69,768.734 1947.78,765.817 1949.86,762.888 1951.95,759.948 1954.04,756.995 1956.13,754.031 1958.22,751.055 1960.3,748.066 1962.39,745.066 1964.48,742.054 1966.57,739.03 1968.65,735.993 1970.74,732.945 1972.83,729.884 1974.92,726.811 1977.01,723.725 1979.09,720.627 1981.18,717.517 1983.27,714.394 1985.36,711.259 1987.45,708.111 1989.53,704.95 1991.62,701.777 1993.71,698.591 1995.8,695.392 1997.88,692.18 1999.97,688.956 2002.06,685.718 2004.15,682.468 2006.24,679.204 2008.32,675.927 2010.41,672.638 2012.5,669.335 2014.59,666.018 2016.68,662.689 2018.76,659.346 2020.85,655.989 2022.94,652.619 2025.03,649.236 2027.11,645.839 2029.2,642.429 2031.29,639.004 2033.38,635.566 2035.47,632.114 2037.55,628.649 2039.64,625.169 2041.73,621.675 2043.82,618.168 2045.91,614.646 2047.99,611.11 2050.08,607.56 2052.17,603.996 2054.26,600.417 2056.34,596.825 2058.43,593.217 2060.52,589.595 2062.61,585.959 2064.7,582.308 2066.78,578.642 2068.87,574.962 2070.96,571.267 2073.05,567.557 2075.14,563.832 2077.22,560.092 2079.31,556.337 2081.4,552.568 2083.49,548.783 2085.57,544.982 2087.66,541.167 2089.75,537.336 2091.84,533.49 2093.93,529.628 2096.01,525.751 2098.1,521.859 2100.19,517.95 2102.28,514.027 2104.36,510.087 2106.45,506.131 2108.54,502.16 2110.63,498.173 2112.72,494.169 2114.8,490.15 2116.89,486.114 2118.98,482.063 2121.07,477.995 2123.16,473.91 2125.24,469.81 2127.33,465.692 2129.42,461.559 2131.51,457.408 2133.59,453.241 2135.68,449.058 2137.77,444.857 2139.86,440.64 2141.95,436.406 2144.03,432.154 2146.12,427.886 2148.21,423.601 2150.3,419.298 2152.39,414.978 2154.47,410.641 2156.56,406.286 2158.65,401.914 2160.74,397.525 2162.82,393.117 2164.91,388.692 2167,384.25 2169.09,379.789 2171.18,375.311 2173.26,370.814 2175.35,366.3 2177.44,361.767 2179.53,357.216 2181.62,352.647 2183.7,348.06 2185.79,343.454 2187.88,338.83 2189.97,334.187 2192.05,329.525 2194.14,324.845 2196.23,320.146 2198.32,315.428 2200.41,310.692 2202.49,305.936 2204.58,301.161 2206.67,296.367 2208.76,291.554 2210.85,286.721 2212.93,281.869 2215.02,276.998 2217.11,272.107 2219.2,267.196 2221.28,262.266 2223.37,257.316 2225.46,252.346 2227.55,247.356 2229.64,242.346 2231.72,237.316 2233.81,232.266 2235.9,227.195 2237.99,222.105 2240.07,216.993 2242.16,211.861 2244.25,206.709 2246.34,201.536 2248.43,196.342 2250.51,191.128 2252.6,185.892 2254.69,180.636 2256.78,175.358 2258.87,170.059 2260.95,164.739 2263.04,159.397 2265.13,154.035 2267.22,148.65 2269.3,143.244 2271.39,137.816 2273.48,132.367 2275.57,126.896 2277.66,121.402 2279.74,115.887 2281.83,110.349 2283.92,104.79 2286.01,99.2076 2288.1,93.6032 2290.18,87.9763 \"/>\n",
       "<path clip-path=\"url(#clip600)\" d=\"M215.55 250.738 L535.829 250.738 L535.829 95.2176 L215.55 95.2176  Z\" fill=\"#ffffff\" fill-rule=\"evenodd\" fill-opacity=\"1\"/>\n",
       "<polyline clip-path=\"url(#clip600)\" style=\"stroke:#000000; stroke-linecap:round; stroke-linejoin:round; stroke-width:4; stroke-opacity:1; fill:none\" points=\"215.55,250.738 535.829,250.738 535.829,95.2176 215.55,95.2176 215.55,250.738 \"/>\n",
       "<polyline clip-path=\"url(#clip600)\" style=\"stroke:#009af9; stroke-linecap:round; stroke-linejoin:round; stroke-width:4; stroke-opacity:1; fill:none\" points=\"240.115,147.058 387.509,147.058 \"/>\n",
       "<path clip-path=\"url(#clip600)\" d=\"M416.357 160.449 L416.357 174.199 L412.074 174.199 L412.074 138.412 L416.357 138.412 L416.357 142.347 Q417.699 140.032 419.736 138.921 Q421.797 137.787 424.644 137.787 Q429.366 137.787 432.306 141.537 Q435.269 145.287 435.269 151.398 Q435.269 157.509 432.306 161.259 Q429.366 165.009 424.644 165.009 Q421.797 165.009 419.736 163.898 Q417.699 162.763 416.357 160.449 M430.847 151.398 Q430.847 146.699 428.903 144.037 Q426.982 141.352 423.602 141.352 Q420.223 141.352 418.278 144.037 Q416.357 146.699 416.357 151.398 Q416.357 156.097 418.278 158.782 Q420.223 161.444 423.602 161.444 Q426.982 161.444 428.903 158.782 Q430.847 156.097 430.847 151.398 Z\" fill=\"#000000\" fill-rule=\"nonzero\" fill-opacity=\"1\" /><path clip-path=\"url(#clip600)\" d=\"M457.352 142.393 Q456.634 141.977 455.778 141.791 Q454.945 141.583 453.926 141.583 Q450.315 141.583 448.371 143.944 Q446.449 146.282 446.449 150.68 L446.449 164.338 L442.167 164.338 L442.167 138.412 L446.449 138.412 L446.449 142.44 Q447.792 140.078 449.945 138.944 Q452.097 137.787 455.176 137.787 Q455.616 137.787 456.148 137.856 Q456.681 137.903 457.329 138.018 L457.352 142.393 Z\" fill=\"#000000\" fill-rule=\"nonzero\" fill-opacity=\"1\" /><path clip-path=\"url(#clip600)\" d=\"M482.954 150.31 L482.954 152.393 L463.37 152.393 Q463.648 156.791 466.009 159.106 Q468.394 161.398 472.63 161.398 Q475.083 161.398 477.375 160.796 Q479.69 160.194 481.958 158.99 L481.958 163.018 Q479.667 163.99 477.259 164.5 Q474.852 165.009 472.375 165.009 Q466.171 165.009 462.537 161.398 Q458.926 157.787 458.926 151.629 Q458.926 145.264 462.352 141.537 Q465.801 137.787 471.634 137.787 Q476.866 137.787 479.898 141.166 Q482.954 144.523 482.954 150.31 M478.694 149.06 Q478.648 145.565 476.727 143.481 Q474.829 141.398 471.681 141.398 Q468.116 141.398 465.963 143.412 Q463.833 145.426 463.509 149.083 L478.694 149.06 Z\" fill=\"#000000\" fill-rule=\"nonzero\" fill-opacity=\"1\" /><path clip-path=\"url(#clip600)\" d=\"M507.004 142.347 L507.004 128.319 L511.264 128.319 L511.264 164.338 L507.004 164.338 L507.004 160.449 Q505.662 162.763 503.602 163.898 Q501.565 165.009 498.694 165.009 Q493.995 165.009 491.032 161.259 Q488.093 157.509 488.093 151.398 Q488.093 145.287 491.032 141.537 Q493.995 137.787 498.694 137.787 Q501.565 137.787 503.602 138.921 Q505.662 140.032 507.004 142.347 M492.491 151.398 Q492.491 156.097 494.412 158.782 Q496.356 161.444 499.736 161.444 Q503.116 161.444 505.06 158.782 Q507.004 156.097 507.004 151.398 Q507.004 146.699 505.06 144.037 Q503.116 141.352 499.736 141.352 Q496.356 141.352 494.412 144.037 Q492.491 146.699 492.491 151.398 Z\" fill=\"#000000\" fill-rule=\"nonzero\" fill-opacity=\"1\" /><polyline clip-path=\"url(#clip600)\" style=\"stroke:#e26f46; stroke-linecap:round; stroke-linejoin:round; stroke-width:4; stroke-opacity:1; fill:none\" points=\"240.115,198.898 387.509,198.898 \"/>\n",
       "<path clip-path=\"url(#clip600)\" d=\"M419.482 182.891 L419.482 190.252 L428.255 190.252 L428.255 193.562 L419.482 193.562 L419.482 207.636 Q419.482 210.807 420.338 211.71 Q421.218 212.613 423.88 212.613 L428.255 212.613 L428.255 216.178 L423.88 216.178 Q418.949 216.178 417.074 214.349 Q415.199 212.497 415.199 207.636 L415.199 193.562 L412.074 193.562 L412.074 190.252 L415.199 190.252 L415.199 182.891 L419.482 182.891 Z\" fill=\"#000000\" fill-rule=\"nonzero\" fill-opacity=\"1\" /><path clip-path=\"url(#clip600)\" d=\"M448.88 194.233 Q448.162 193.817 447.306 193.631 Q446.472 193.423 445.454 193.423 Q441.843 193.423 439.898 195.784 Q437.977 198.122 437.977 202.52 L437.977 216.178 L433.695 216.178 L433.695 190.252 L437.977 190.252 L437.977 194.28 Q439.32 191.918 441.472 190.784 Q443.625 189.627 446.704 189.627 Q447.144 189.627 447.676 189.696 Q448.208 189.743 448.857 189.858 L448.88 194.233 Z\" fill=\"#000000\" fill-rule=\"nonzero\" fill-opacity=\"1\" /><path clip-path=\"url(#clip600)\" d=\"M452.908 205.946 L452.908 190.252 L457.167 190.252 L457.167 205.784 Q457.167 209.465 458.602 211.316 Q460.037 213.145 462.907 213.145 Q466.357 213.145 468.347 210.946 Q470.361 208.747 470.361 204.951 L470.361 190.252 L474.62 190.252 L474.62 216.178 L470.361 216.178 L470.361 212.196 Q468.81 214.557 466.75 215.715 Q464.713 216.849 462.005 216.849 Q457.537 216.849 455.222 214.071 Q452.908 211.293 452.908 205.946 M463.625 189.627 L463.625 189.627 Z\" fill=\"#000000\" fill-rule=\"nonzero\" fill-opacity=\"1\" /><path clip-path=\"url(#clip600)\" d=\"M505.569 202.15 L505.569 204.233 L485.986 204.233 Q486.264 208.631 488.625 210.946 Q491.009 213.238 495.245 213.238 Q497.699 213.238 499.991 212.636 Q502.305 212.034 504.574 210.83 L504.574 214.858 Q502.282 215.83 499.875 216.34 Q497.467 216.849 494.991 216.849 Q488.787 216.849 485.153 213.238 Q481.542 209.627 481.542 203.469 Q481.542 197.104 484.968 193.377 Q488.417 189.627 494.25 189.627 Q499.481 189.627 502.514 193.006 Q505.569 196.363 505.569 202.15 M501.31 200.9 Q501.264 197.405 499.342 195.321 Q497.444 193.238 494.296 193.238 Q490.731 193.238 488.579 195.252 Q486.449 197.266 486.125 200.923 L501.31 200.9 Z\" fill=\"#000000\" fill-rule=\"nonzero\" fill-opacity=\"1\" /></svg>\n"
      ]
     },
     "metadata": {},
     "output_type": "display_data"
    }
   ],
   "source": [
    "xs = reshape(range(0, 2, length=1000), 1, :)\n",
    "u_pred = pinn.phi(xs, res.u)\n",
    "u_true = @. exp(2xs)+exp(-3xs)\n",
    "\n",
    "using Plots\n",
    "plot(vec(xs),vec(u_pred), label=\"pred\")\n",
    "plot!(vec(xs),vec(u_true), label=\"true\")"
   ]
  },
  {
   "attachments": {},
   "cell_type": "markdown",
   "metadata": {},
   "source": [
    "## Train with tanh + BFGS"
   ]
  },
  {
   "cell_type": "code",
   "execution_count": 14,
   "metadata": {},
   "outputs": [
    {
     "name": "stdout",
     "output_type": "stream",
     "text": [
      "Loss: 1055.519951006574\n"
     ]
    },
    {
     "name": "stdout",
     "output_type": "stream",
     "text": [
      "Loss: 235.49024155340533\n",
      "Loss: 160.9526367736632\n"
     ]
    },
    {
     "name": "stdout",
     "output_type": "stream",
     "text": [
      "Loss: 150.86138068360822\n",
      "Loss: 134.22765901809004\n"
     ]
    },
    {
     "name": "stdout",
     "output_type": "stream",
     "text": [
      "Loss: 133.52172880032023\n",
      "Loss: 133.48961722669705\n"
     ]
    },
    {
     "name": "stdout",
     "output_type": "stream",
     "text": [
      "Loss: 133.46463265728238\n",
      "Loss: 133.44356177491463\n"
     ]
    },
    {
     "name": "stdout",
     "output_type": "stream",
     "text": [
      "Loss: 130.38432603625097\n",
      "Loss: 130.3607602035779\n"
     ]
    },
    {
     "name": "stdout",
     "output_type": "stream",
     "text": [
      "Loss: 129.90833575372397\n"
     ]
    },
    {
     "name": "stdout",
     "output_type": "stream",
     "text": [
      "Loss: 125.59854097924544\n",
      "Loss: 125.46432553265738\n"
     ]
    },
    {
     "name": "stdout",
     "output_type": "stream",
     "text": [
      "Loss: 122.12448503005314\n"
     ]
    },
    {
     "name": "stdout",
     "output_type": "stream",
     "text": [
      "Loss: 67.31343697294781\n",
      "Loss: 64.57242218059243\n",
      "Loss: 63.38914465971058\n"
     ]
    },
    {
     "name": "stdout",
     "output_type": "stream",
     "text": [
      "Loss: 62.82446536722241\n",
      "Loss: 62.66037917155233\n"
     ]
    },
    {
     "name": "stdout",
     "output_type": "stream",
     "text": [
      "Loss: 51.891349262042645\n",
      "Loss: 50.88372817410668\n"
     ]
    },
    {
     "name": "stdout",
     "output_type": "stream",
     "text": [
      "Loss: 49.79724957448526\n"
     ]
    },
    {
     "name": "stdout",
     "output_type": "stream",
     "text": [
      "Loss: 48.16133731734041\n",
      "Loss: 47.37292658067219\n",
      "Loss: 45.66565208313126\n"
     ]
    },
    {
     "name": "stdout",
     "output_type": "stream",
     "text": [
      "Loss: 43.644137484446716\n",
      "Loss: 42.16455410575657\n"
     ]
    },
    {
     "name": "stdout",
     "output_type": "stream",
     "text": [
      "Loss: 41.058064567879725\n",
      "Loss: 38.64639365262896\n",
      "Loss: 37.9301942928897\n"
     ]
    },
    {
     "name": "stdout",
     "output_type": "stream",
     "text": [
      "Loss: 36.99448099385674\n",
      "Loss: 36.64038044744896\n",
      "Loss: 36.27052114149412\n"
     ]
    },
    {
     "name": "stdout",
     "output_type": "stream",
     "text": [
      "Loss: 35.82540957115021\n",
      "Loss: 35.70102839580255\n",
      "Loss: 35.69442364308284\n"
     ]
    },
    {
     "name": "stdout",
     "output_type": "stream",
     "text": [
      "Loss: 35.691143568554985\n",
      "Loss: 35.69007473108818\n"
     ]
    },
    {
     "name": "stdout",
     "output_type": "stream",
     "text": [
      "Loss: 35.688321125312385\n",
      "Loss: 35.68747155245181\n",
      "Loss: 35.68556432182572\n"
     ]
    },
    {
     "name": "stdout",
     "output_type": "stream",
     "text": [
      "Loss: 35.6842331363017\n",
      "Loss: 35.682267846864\n",
      "Loss: 35.68048626723384\n"
     ]
    },
    {
     "name": "stdout",
     "output_type": "stream",
     "text": [
      "Loss: 35.67926359714857\n",
      "Loss: 35.677155826227434\n",
      "Loss: 35.676184940628914\n"
     ]
    },
    {
     "name": "stdout",
     "output_type": "stream",
     "text": [
      "Loss: 35.67444956661898\n",
      "Loss: 35.67319175829453\n",
      "Loss: 35.67013109852617\n"
     ]
    },
    {
     "name": "stdout",
     "output_type": "stream",
     "text": [
      "Loss: 35.66927228845219\n",
      "Loss: 35.66822400578102\n",
      "Loss: 35.66722476378592\n"
     ]
    },
    {
     "name": "stdout",
     "output_type": "stream",
     "text": [
      "Loss: 35.666788580033824\n",
      "Loss: 35.66547677869124\n",
      "Loss: 35.6650757919464\n"
     ]
    },
    {
     "name": "stdout",
     "output_type": "stream",
     "text": [
      "Loss: 35.66413616650165\n",
      "Loss: 35.66341493211826\n",
      "Loss: 35.66234975898058\n"
     ]
    },
    {
     "name": "stdout",
     "output_type": "stream",
     "text": [
      "Loss: 35.66205938766751\n",
      "Loss: 35.661412471950555\n"
     ]
    },
    {
     "name": "stdout",
     "output_type": "stream",
     "text": [
      "Loss: 35.66116671079305\n",
      "Loss: 35.66083916342454\n",
      "Loss: 35.660295885708244\n"
     ]
    },
    {
     "name": "stdout",
     "output_type": "stream",
     "text": [
      "Loss: 35.659201212280536\n",
      "Loss: 35.65827968558674\n",
      "Loss: 35.658195359034735\n"
     ]
    },
    {
     "name": "stdout",
     "output_type": "stream",
     "text": [
      "Loss: 35.65768202114389\n",
      "Loss: 35.65718125567839\n"
     ]
    },
    {
     "name": "stdout",
     "output_type": "stream",
     "text": [
      "Loss: 35.656424666853205\n",
      "Loss: 35.65637199120155\n",
      "Loss: 35.65615631295393\n"
     ]
    },
    {
     "name": "stdout",
     "output_type": "stream",
     "text": [
      "Loss: 35.655677797418356\n",
      "Loss: 35.655518935157396\n",
      "Loss: 35.65538943336373\n"
     ]
    },
    {
     "name": "stdout",
     "output_type": "stream",
     "text": [
      "Loss: 35.65513432512505\n",
      "Loss: 35.65488994676973\n",
      "Loss: 35.65478846013232\n"
     ]
    },
    {
     "name": "stdout",
     "output_type": "stream",
     "text": [
      "Loss: 35.65440101009518\n",
      "Loss: 35.654257969145824\n",
      "Loss: 35.65392568469755\n"
     ]
    },
    {
     "name": "stdout",
     "output_type": "stream",
     "text": [
      "Loss: 35.65377347725468\n",
      "Loss: 35.65332368498506\n"
     ]
    },
    {
     "name": "stdout",
     "output_type": "stream",
     "text": [
      "Loss: 35.652982845802114\n"
     ]
    },
    {
     "name": "stdout",
     "output_type": "stream",
     "text": [
      "Loss: 35.65251974639032\n",
      "Loss: 35.652479433726135\n",
      "Loss: 35.6522078966606\n"
     ]
    },
    {
     "name": "stdout",
     "output_type": "stream",
     "text": [
      "Loss: 35.65214676934815\n",
      "Loss: 35.65209408883509\n"
     ]
    },
    {
     "name": "stdout",
     "output_type": "stream",
     "text": [
      "Loss: 35.65190022730194\n",
      "Loss: 35.65153287140768\n",
      "Loss: 35.65146161310283\n"
     ]
    },
    {
     "name": "stdout",
     "output_type": "stream",
     "text": [
      "Loss: 35.65126105930831\n",
      "Loss: 35.651058439422144\n",
      "Loss: 35.65076429062378\n"
     ]
    },
    {
     "name": "stdout",
     "output_type": "stream",
     "text": [
      "Loss: 35.650730847481086\n",
      "Loss: 35.650533404599365\n"
     ]
    },
    {
     "name": "stdout",
     "output_type": "stream",
     "text": [
      "Loss: 35.65039698130163\n",
      "Loss: 35.65033636054857\n",
      "Loss: 35.65017585919276\n"
     ]
    },
    {
     "name": "stdout",
     "output_type": "stream",
     "text": [
      "Loss: 35.65008071683865\n",
      "Loss: 35.64986560830452\n",
      "Loss: 35.64970021176756\n"
     ]
    },
    {
     "name": "stdout",
     "output_type": "stream",
     "text": [
      "Loss: 35.6495268672069\n",
      "Loss: 35.64943710129361\n",
      "Loss: 35.64931569019607\n"
     ]
    },
    {
     "name": "stdout",
     "output_type": "stream",
     "text": [
      "Loss: 35.64919311608126\n",
      "Loss: 35.64905329088411\n",
      "Loss: 35.649007653244134\n",
      "Loss: 35.64887814561446\n"
     ]
    },
    {
     "name": "stdout",
     "output_type": "stream",
     "text": [
      "Loss: 35.64875008089605\n",
      "Loss: 35.648676409873026\n",
      "Loss: 35.64847099580174\n"
     ]
    },
    {
     "name": "stdout",
     "output_type": "stream",
     "text": [
      "Loss: 35.64833516743112\n",
      "Loss: 35.6481515505473\n",
      "Loss: 35.64804289368739\n"
     ]
    },
    {
     "name": "stdout",
     "output_type": "stream",
     "text": [
      "Loss: 35.647934195530766\n",
      "Loss: 35.64774054122839\n",
      "Loss: 35.647647070135015\n"
     ]
    },
    {
     "name": "stdout",
     "output_type": "stream",
     "text": [
      "Loss: 35.647400688921216\n",
      "Loss: 35.64725793536233\n",
      "Loss: 35.64708824766699\n",
      "Loss: 35.64693298121556\n"
     ]
    },
    {
     "name": "stdout",
     "output_type": "stream",
     "text": [
      "Loss: 35.64679605601102\n",
      "Loss: 35.64658593620565\n",
      "Loss: 35.64647344215626\n"
     ]
    },
    {
     "name": "stdout",
     "output_type": "stream",
     "text": [
      "Loss: 35.64622608962993\n",
      "Loss: 35.646090920594325\n",
      "Loss: 35.64582686261018\n"
     ]
    },
    {
     "name": "stdout",
     "output_type": "stream",
     "text": [
      "Loss: 35.64569467042999\n",
      "Loss: 35.645357365030996\n"
     ]
    },
    {
     "name": "stdout",
     "output_type": "stream",
     "text": [
      "Loss: 35.64516724016969\n",
      "Loss: 35.64501700426602\n",
      "Loss: 35.64468519749912\n"
     ]
    },
    {
     "name": "stdout",
     "output_type": "stream",
     "text": [
      "Loss: 35.644413313019996\n",
      "Loss: 35.64419145486785\n",
      "Loss: 35.64375187920273\n"
     ]
    },
    {
     "name": "stdout",
     "output_type": "stream",
     "text": [
      "Loss: 35.643639698885195\n",
      "Loss: 35.643233100504055\n",
      "Loss: 35.64281701384898\n"
     ]
    },
    {
     "name": "stdout",
     "output_type": "stream",
     "text": [
      "Loss: 35.642608401737455\n"
     ]
    },
    {
     "name": "stdout",
     "output_type": "stream",
     "text": [
      "Loss: 35.64220899895666\n",
      "Loss: 35.64207669527702\n",
      "Loss: 35.64177203829631\n",
      "Loss: 35.641621738070604\n"
     ]
    },
    {
     "name": "stdout",
     "output_type": "stream",
     "text": [
      "Loss: 35.64146164877809\n",
      "Loss: 35.64095864473479\n",
      "Loss: 35.64090870348665\n"
     ]
    },
    {
     "name": "stdout",
     "output_type": "stream",
     "text": [
      "Loss: 35.640782196553786\n",
      "Loss: 35.640724241293135\n",
      "Loss: 35.64056074274868\n",
      "Loss: 35.64048862632233\n"
     ]
    },
    {
     "name": "stdout",
     "output_type": "stream",
     "text": [
      "Loss: 35.640407554202056\n",
      "Loss: 35.64035057777375\n",
      "Loss: 35.6402048936725\n"
     ]
    },
    {
     "name": "stdout",
     "output_type": "stream",
     "text": [
      "Loss: 35.64008495773702\n",
      "Loss: 35.64005079520311\n",
      "Loss: 35.640019556899645\n",
      "Loss: 35.63997759257356\n"
     ]
    },
    {
     "name": "stdout",
     "output_type": "stream",
     "text": [
      "Loss: 35.63992008060438\n",
      "Loss: 35.639879626099486\n",
      "Loss: 35.63985000550245\n"
     ]
    },
    {
     "name": "stdout",
     "output_type": "stream",
     "text": [
      "Loss: 35.63973533844882\n",
      "Loss: 35.639633888796915\n"
     ]
    },
    {
     "name": "stdout",
     "output_type": "stream",
     "text": [
      "Loss: 35.63953290492156\n",
      "Loss: 35.63951372452203\n",
      "Loss: 35.63949961715911\n"
     ]
    },
    {
     "name": "stdout",
     "output_type": "stream",
     "text": [
      "Loss: 35.63948026423297\n",
      "Loss: 35.639450301095934\n",
      "Loss: 35.63940457672535\n"
     ]
    },
    {
     "name": "stdout",
     "output_type": "stream",
     "text": [
      "Loss: 35.639334520325804\n",
      "Loss: 35.63924602042764\n",
      "Loss: 35.63920379183225\n"
     ]
    },
    {
     "name": "stdout",
     "output_type": "stream",
     "text": [
      "Loss: 35.63915146481115\n",
      "Loss: 35.63900036599358\n",
      "Loss: 35.638483294665065\n"
     ]
    },
    {
     "name": "stdout",
     "output_type": "stream",
     "text": [
      "Loss: 35.63825876688594\n",
      "Loss: 35.63780156311905\n",
      "Loss: 35.63723683416866\n"
     ]
    },
    {
     "name": "stdout",
     "output_type": "stream",
     "text": [
      "Loss: 35.63688727728864\n",
      "Loss: 35.63675789555959\n",
      "Loss: 35.636603974011585\n"
     ]
    },
    {
     "name": "stdout",
     "output_type": "stream",
     "text": [
      "Loss: 35.636413255645884\n",
      "Loss: 35.636182126606286\n"
     ]
    },
    {
     "name": "stdout",
     "output_type": "stream",
     "text": [
      "Loss: 35.63587868494874\n",
      "Loss: 35.63584246571349\n",
      "Loss: 35.63571339125688\n"
     ]
    },
    {
     "name": "stdout",
     "output_type": "stream",
     "text": [
      "Loss: 35.6355676858017\n",
      "Loss: 35.635178746338205\n",
      "Loss: 35.63426223425201\n"
     ]
    },
    {
     "name": "stdout",
     "output_type": "stream",
     "text": [
      "Loss: 35.63393400830605\n",
      "Loss: 35.633812882393975\n",
      "Loss: 35.63333540174428\n"
     ]
    },
    {
     "name": "stdout",
     "output_type": "stream",
     "text": [
      "Loss: 35.63308194011979\n",
      "Loss: 35.63257062540312\n",
      "Loss: 35.63198148199146\n",
      "Loss: 35.631398882145746\n"
     ]
    },
    {
     "name": "stdout",
     "output_type": "stream",
     "text": [
      "Loss: 35.63107790092183\n",
      "Loss: 35.63100781658396\n",
      "Loss: 35.63059908699974\n"
     ]
    },
    {
     "name": "stdout",
     "output_type": "stream",
     "text": [
      "Loss: 35.63041512123128\n",
      "Loss: 35.6300431337915\n",
      "Loss: 35.629529109621295\n"
     ]
    },
    {
     "name": "stdout",
     "output_type": "stream",
     "text": [
      "Loss: 35.62877614378021\n",
      "Loss: 35.62735531827364\n",
      "Loss: 35.6252554169939\n"
     ]
    },
    {
     "name": "stdout",
     "output_type": "stream",
     "text": [
      "Loss: 35.62355655311542\n",
      "Loss: 35.62146034973856\n",
      "Loss: 35.621187073549486\n"
     ]
    },
    {
     "name": "stdout",
     "output_type": "stream",
     "text": [
      "Loss: 35.62068084573211\n",
      "Loss: 35.62020420363712\n"
     ]
    },
    {
     "name": "stdout",
     "output_type": "stream",
     "text": [
      "Loss: 35.618635195019976\n",
      "Loss: 35.61364724536999\n"
     ]
    },
    {
     "name": "stdout",
     "output_type": "stream",
     "text": [
      "Loss: 35.61234755541943\n",
      "Loss: 35.61070469419131\n",
      "Loss: 35.60860753830783\n",
      "Loss: 35.605791211632265\n"
     ]
    },
    {
     "name": "stdout",
     "output_type": "stream",
     "text": [
      "Loss: 35.60456612564285\n",
      "Loss: 35.60179294786023\n",
      "Loss: 35.6003590281177\n",
      "Loss: 35.59720326475544\n"
     ]
    },
    {
     "name": "stdout",
     "output_type": "stream",
     "text": [
      "Loss: 35.59642814218071\n",
      "Loss: 35.59453968130333\n"
     ]
    },
    {
     "name": "stdout",
     "output_type": "stream",
     "text": [
      "Loss: 35.593202967143014\n",
      "Loss: 35.590342428687066\n",
      "Loss: 35.589668471375056\n"
     ]
    },
    {
     "name": "stdout",
     "output_type": "stream",
     "text": [
      "Loss: 35.58876931692492\n",
      "Loss: 35.588528776065424\n",
      "Loss: 35.588382774782794\n",
      "Loss: 35.58829725024264\n"
     ]
    },
    {
     "name": "stdout",
     "output_type": "stream",
     "text": [
      "Loss: 35.588212353054026\n",
      "Loss: 35.588179882475195\n"
     ]
    },
    {
     "name": "stdout",
     "output_type": "stream",
     "text": [
      "Loss: 35.58812536877399\n",
      "Loss: 35.58809600505058\n"
     ]
    },
    {
     "name": "stdout",
     "output_type": "stream",
     "text": [
      "Loss: 35.58808736383087\n",
      "Loss: 35.588069771449476\n"
     ]
    },
    {
     "name": "stdout",
     "output_type": "stream",
     "text": [
      "Loss: 35.58801744090629\n",
      "Loss: 35.58799655153722\n",
      "Loss: 35.58794461002026\n"
     ]
    },
    {
     "name": "stdout",
     "output_type": "stream",
     "text": [
      "Loss: 35.58787228242781\n",
      "Loss: 35.58773356544867\n",
      "Loss: 35.58758403666281\n"
     ]
    },
    {
     "name": "stdout",
     "output_type": "stream",
     "text": [
      "Loss: 35.587526288645854\n"
     ]
    },
    {
     "name": "stdout",
     "output_type": "stream",
     "text": [
      "Loss: 35.58746817259295\n",
      "Loss: 35.58742183467304\n",
      "Loss: 35.58731349900361\n"
     ]
    },
    {
     "name": "stdout",
     "output_type": "stream",
     "text": [
      "Loss: 35.58720827280688\n",
      "Loss: 35.5870980060577\n",
      "Loss: 35.5867511504069\n"
     ]
    },
    {
     "name": "stdout",
     "output_type": "stream",
     "text": [
      "Loss: 35.58638968002534\n",
      "Loss: 35.586240341940375\n",
      "Loss: 35.586109921541954\n"
     ]
    },
    {
     "name": "stdout",
     "output_type": "stream",
     "text": [
      "Loss: 35.585818064296994\n",
      "Loss: 35.585460397131165\n",
      "Loss: 35.585373507090765\n"
     ]
    },
    {
     "name": "stdout",
     "output_type": "stream",
     "text": [
      "Loss: 35.585295512156414\n",
      "Loss: 35.58517900902615\n",
      "Loss: 35.58497507402262\n"
     ]
    },
    {
     "name": "stdout",
     "output_type": "stream",
     "text": [
      "Loss: 35.58479225679316\n",
      "Loss: 35.58471968117589\n",
      "Loss: 35.584617552602694\n"
     ]
    },
    {
     "name": "stdout",
     "output_type": "stream",
     "text": [
      "Loss: 35.584565606324716\n",
      "Loss: 35.58442692140121\n",
      "Loss: 35.58435399546951\n"
     ]
    },
    {
     "name": "stdout",
     "output_type": "stream",
     "text": [
      "Loss: 35.584116095504164\n",
      "Loss: 35.58383634151018\n"
     ]
    },
    {
     "name": "stdout",
     "output_type": "stream",
     "text": [
      "Loss: 35.58364162874412\n",
      "Loss: 35.58346501548748\n",
      "Loss: 35.583171624516254\n",
      "Loss: 35.58304541079695\n"
     ]
    },
    {
     "name": "stdout",
     "output_type": "stream",
     "text": [
      "Loss: 35.582944973683475\n",
      "Loss: 35.58281885107915\n",
      "Loss: 35.58273176572425\n"
     ]
    },
    {
     "name": "stdout",
     "output_type": "stream",
     "text": [
      "Loss: 35.58267244423806\n",
      "Loss: 35.58265219318918\n",
      "Loss: 35.582631706729174\n"
     ]
    },
    {
     "name": "stdout",
     "output_type": "stream",
     "text": [
      "Loss: 35.58246878851872\n",
      "Loss: 35.5823369327472\n"
     ]
    },
    {
     "name": "stdout",
     "output_type": "stream",
     "text": [
      "Loss: 35.58214270017703\n",
      "Loss: 35.5819466432242\n",
      "Loss: 35.581611177242245\n"
     ]
    },
    {
     "name": "stdout",
     "output_type": "stream",
     "text": [
      "Loss: 35.58151144449806\n",
      "Loss: 35.581290035194236\n",
      "Loss: 35.581097800696575\n"
     ]
    },
    {
     "name": "stdout",
     "output_type": "stream",
     "text": [
      "Loss: 35.58097687277169\n",
      "Loss: 35.58073179444676\n"
     ]
    },
    {
     "name": "stdout",
     "output_type": "stream",
     "text": [
      "Loss: 35.58058450688223\n",
      "Loss: 35.58043032008629\n",
      "Loss: 35.58035236936107\n",
      "Loss: 35.58021354282915\n"
     ]
    },
    {
     "name": "stdout",
     "output_type": "stream",
     "text": [
      "Loss: 35.58012968498268\n",
      "Loss: 35.579994948607194\n",
      "Loss: 35.579816468861615\n"
     ]
    },
    {
     "name": "stdout",
     "output_type": "stream",
     "text": [
      "Loss: 35.57944426757067\n",
      "Loss: 35.57903980523982\n",
      "Loss: 35.5781172761778\n",
      "Loss: 35.57790412253009\n"
     ]
    },
    {
     "name": "stdout",
     "output_type": "stream",
     "text": [
      "Loss: 35.577443749077126\n",
      "Loss: 35.57725129430881\n",
      "Loss: 35.576701051010566\n"
     ]
    },
    {
     "name": "stdout",
     "output_type": "stream",
     "text": [
      "Loss: 35.57577899887229\n",
      "Loss: 35.57465530265409\n",
      "Loss: 35.574236502296486\n"
     ]
    },
    {
     "name": "stdout",
     "output_type": "stream",
     "text": [
      "Loss: 35.573358858670595\n",
      "Loss: 35.57209100062448\n",
      "Loss: 35.57140569210051\n"
     ]
    },
    {
     "name": "stdout",
     "output_type": "stream",
     "text": [
      "Loss: 35.570601757546136\n",
      "Loss: 35.570233790470255\n",
      "Loss: 35.569410564202684\n"
     ]
    },
    {
     "name": "stdout",
     "output_type": "stream",
     "text": [
      "Loss: 35.56865210846866\n",
      "Loss: 35.568412079836094\n",
      "Loss: 35.5676592688839\n"
     ]
    },
    {
     "name": "stdout",
     "output_type": "stream",
     "text": [
      "Loss: 35.56736476477269\n",
      "Loss: 35.56725688453448\n",
      "Loss: 35.5668128459111\n"
     ]
    },
    {
     "name": "stdout",
     "output_type": "stream",
     "text": [
      "Loss: 35.56659537321482\n",
      "Loss: 35.56640898997046\n",
      "Loss: 35.56633864074326\n"
     ]
    },
    {
     "name": "stdout",
     "output_type": "stream",
     "text": [
      "Loss: 35.566321863193636\n",
      "Loss: 35.5663194021466\n",
      "Loss: 35.56631890846295\n"
     ]
    },
    {
     "name": "stdout",
     "output_type": "stream",
     "text": [
      "Loss: 35.566312815194195\n",
      "Loss: 35.566273114744064\n",
      "Loss: 35.5662524092917\n"
     ]
    },
    {
     "name": "stdout",
     "output_type": "stream",
     "text": [
      "Loss: 35.56618640127268\n",
      "Loss: 35.566134287904994\n"
     ]
    },
    {
     "name": "stdout",
     "output_type": "stream",
     "text": [
      "Loss: 35.56610910109187\n",
      "Loss: 35.56609073461479\n",
      "Loss: 35.56605729281958\n"
     ]
    },
    {
     "name": "stdout",
     "output_type": "stream",
     "text": [
      "Loss: 35.566020201201184\n",
      "Loss: 35.56597927919898\n",
      "Loss: 35.5659013405762\n"
     ]
    },
    {
     "name": "stdout",
     "output_type": "stream",
     "text": [
      "Loss: 35.56588193015192\n",
      "Loss: 35.56583591641358\n",
      "Loss: 35.56576168686912\n"
     ]
    },
    {
     "name": "stdout",
     "output_type": "stream",
     "text": [
      "Loss: 35.56566567328705\n",
      "Loss: 35.56556623674679\n",
      "Loss: 35.56550895392663\n"
     ]
    },
    {
     "name": "stdout",
     "output_type": "stream",
     "text": [
      "Loss: 35.56546753277447\n",
      "Loss: 35.5654148633653\n"
     ]
    },
    {
     "name": "stdout",
     "output_type": "stream",
     "text": [
      "Loss: 35.56537387535225\n",
      "Loss: 35.56531554648086\n",
      "Loss: 35.56523188743319\n"
     ]
    },
    {
     "name": "stdout",
     "output_type": "stream",
     "text": [
      "Loss: 35.56518000864877\n",
      "Loss: 35.56506215209944\n",
      "Loss: 35.564946166247985\n"
     ]
    },
    {
     "name": "stdout",
     "output_type": "stream",
     "text": [
      "Loss: 35.564855680647334\n",
      "Loss: 35.56471876050244\n",
      "Loss: 35.56458918295952\n"
     ]
    },
    {
     "name": "stdout",
     "output_type": "stream",
     "text": [
      "Loss: 35.564515758335695\n",
      "Loss: 35.56441424198428\n",
      "Loss: 35.56429730414621\n"
     ]
    },
    {
     "name": "stdout",
     "output_type": "stream",
     "text": [
      "Loss: 35.56389045567157\n",
      "Loss: 35.56357924031444\n"
     ]
    },
    {
     "name": "stdout",
     "output_type": "stream",
     "text": [
      "Loss: 35.56310725976309\n",
      "Loss: 35.563057245036994\n",
      "Loss: 35.56278027305319\n"
     ]
    },
    {
     "name": "stdout",
     "output_type": "stream",
     "text": [
      "Loss: 35.56255023957071\n",
      "Loss: 35.56230132644768\n",
      "Loss: 35.56179076658425\n"
     ]
    },
    {
     "name": "stdout",
     "output_type": "stream",
     "text": [
      "Loss: 35.56172045150789\n",
      "Loss: 35.56099131412921\n",
      "Loss: 35.56054093280614\n"
     ]
    },
    {
     "name": "stdout",
     "output_type": "stream",
     "text": [
      "Loss: 35.56035458888322\n",
      "Loss: 35.56004679464951\n",
      "Loss: 35.55983355818185\n"
     ]
    },
    {
     "name": "stdout",
     "output_type": "stream",
     "text": [
      "Loss: 35.559434994546585\n",
      "Loss: 35.55899408411448\n",
      "Loss: 35.558681250779344\n"
     ]
    },
    {
     "name": "stdout",
     "output_type": "stream",
     "text": [
      "Loss: 35.55851680523244\n",
      "Loss: 35.55800622320605\n",
      "Loss: 35.55776215318\n"
     ]
    },
    {
     "name": "stdout",
     "output_type": "stream",
     "text": [
      "Loss: 35.55716487659\n",
      "Loss: 35.55699458710582\n",
      "Loss: 35.556641832774865\n"
     ]
    },
    {
     "name": "stdout",
     "output_type": "stream",
     "text": [
      "Loss: 35.556447418578\n",
      "Loss: 35.556360457414016\n",
      "Loss: 35.556031609972486\n"
     ]
    },
    {
     "name": "stdout",
     "output_type": "stream",
     "text": [
      "Loss: 35.55581381860796\n",
      "Loss: 35.55550946738769\n",
      "Loss: 35.55505652443885\n"
     ]
    },
    {
     "name": "stdout",
     "output_type": "stream",
     "text": [
      "Loss: 35.554111388000784\n",
      "Loss: 35.55331595651673\n",
      "Loss: 35.55256823017797\n"
     ]
    },
    {
     "name": "stdout",
     "output_type": "stream",
     "text": [
      "Loss: 35.55199680449745\n",
      "Loss: 35.55163937774455\n",
      "Loss: 35.55049704437095\n"
     ]
    },
    {
     "name": "stdout",
     "output_type": "stream",
     "text": [
      "Loss: 35.55029850980729\n",
      "Loss: 35.549019805903036\n",
      "Loss: 35.547931581969\n"
     ]
    },
    {
     "name": "stdout",
     "output_type": "stream",
     "text": [
      "Loss: 35.54753665310696\n",
      "Loss: 35.54736517634295\n",
      "Loss: 35.54722368329746\n"
     ]
    },
    {
     "name": "stdout",
     "output_type": "stream",
     "text": [
      "Loss: 35.54713773307117\n",
      "Loss: 35.54647366023445\n",
      "Loss: 35.545819295935\n"
     ]
    },
    {
     "name": "stdout",
     "output_type": "stream",
     "text": [
      "Loss: 35.54541044585883\n",
      "Loss: 35.5445463475569\n",
      "Loss: 35.543661816423516\n"
     ]
    },
    {
     "name": "stdout",
     "output_type": "stream",
     "text": [
      "Loss: 35.542025073928656\n",
      "Loss: 35.541110644825736\n",
      "Loss: 35.54054207797328\n",
      "Loss: 35.54018107313153\n"
     ]
    },
    {
     "name": "stdout",
     "output_type": "stream",
     "text": [
      "Loss: 35.5396560887381\n",
      "Loss: 35.53850823478854\n",
      "Loss: 35.537194701055974\n"
     ]
    },
    {
     "name": "stdout",
     "output_type": "stream",
     "text": [
      "Loss: 35.536697780433435\n",
      "Loss: 35.53658676380983\n",
      "Loss: 35.53656465952288\n"
     ]
    },
    {
     "name": "stdout",
     "output_type": "stream",
     "text": [
      "Loss: 35.5365559000138\n",
      "Loss: 35.53650167549585\n"
     ]
    },
    {
     "name": "stdout",
     "output_type": "stream",
     "text": [
      "Loss: 35.53624383862907\n",
      "Loss: 35.53597759996336\n",
      "Loss: 35.53578895410238\n"
     ]
    },
    {
     "name": "stdout",
     "output_type": "stream",
     "text": [
      "Loss: 35.53558102200644\n",
      "Loss: 35.5354473857953\n",
      "Loss: 35.53524876286892\n"
     ]
    },
    {
     "name": "stdout",
     "output_type": "stream",
     "text": [
      "Loss: 35.53508017737344\n",
      "Loss: 35.53494668589477\n"
     ]
    },
    {
     "name": "stdout",
     "output_type": "stream",
     "text": [
      "Loss: 35.53484132352168\n",
      "Loss: 35.53475711383422\n",
      "Loss: 35.534703963847505\n"
     ]
    },
    {
     "name": "stdout",
     "output_type": "stream",
     "text": [
      "Loss: 35.534661635402614\n",
      "Loss: 35.534602528067985\n",
      "Loss: 35.53454951452843\n"
     ]
    },
    {
     "name": "stdout",
     "output_type": "stream",
     "text": [
      "Loss: 35.53448779483259\n",
      "Loss: 35.534360935578555\n",
      "Loss: 35.53429921082221\n"
     ]
    },
    {
     "name": "stdout",
     "output_type": "stream",
     "text": [
      "Loss: 35.53424580337713\n",
      "Loss: 35.53416102554058\n",
      "Loss: 35.534082324963514\n"
     ]
    },
    {
     "name": "stdout",
     "output_type": "stream",
     "text": [
      "Loss: 35.53402984474287\n",
      "Loss: 35.53395448210748\n",
      "Loss: 35.53390077793241\n"
     ]
    },
    {
     "name": "stdout",
     "output_type": "stream",
     "text": [
      "Loss: 35.533766842611094\n",
      "Loss: 35.53367325834818\n",
      "Loss: 35.53335633152922\n"
     ]
    },
    {
     "name": "stdout",
     "output_type": "stream",
     "text": [
      "Loss: 35.533223147453185\n",
      "Loss: 35.53308627353344\n",
      "Loss: 35.53288190607335\n"
     ]
    },
    {
     "name": "stdout",
     "output_type": "stream",
     "text": [
      "Loss: 35.53270531503571\n",
      "Loss: 35.53257724010541\n",
      "Loss: 35.532109151070294\n"
     ]
    },
    {
     "name": "stdout",
     "output_type": "stream",
     "text": [
      "Loss: 35.53146658533827\n",
      "Loss: 35.53069349965401\n",
      "Loss: 35.529449810462836\n"
     ]
    },
    {
     "name": "stdout",
     "output_type": "stream",
     "text": [
      "Loss: 35.5290991874428\n",
      "Loss: 35.52819330057339\n",
      "Loss: 35.527769803094486\n"
     ]
    },
    {
     "name": "stdout",
     "output_type": "stream",
     "text": [
      "Loss: 35.527555465347525\n",
      "Loss: 35.527381549513834\n",
      "Loss: 35.52724207257785\n"
     ]
    },
    {
     "name": "stdout",
     "output_type": "stream",
     "text": [
      "Loss: 35.527061829719734\n",
      "Loss: 35.52685301473339\n"
     ]
    },
    {
     "name": "stdout",
     "output_type": "stream",
     "text": [
      "Loss: 35.52657635068521\n",
      "Loss: 35.526501950038636\n",
      "Loss: 35.52599511783213\n"
     ]
    },
    {
     "name": "stdout",
     "output_type": "stream",
     "text": [
      "Loss: 35.52537939148905\n",
      "Loss: 35.5252108858118\n",
      "Loss: 35.52446038289259\n"
     ]
    },
    {
     "name": "stdout",
     "output_type": "stream",
     "text": [
      "Loss: 35.523930769081346\n",
      "Loss: 35.52379533801089\n",
      "Loss: 35.52352741459477\n",
      "Loss: 35.52348065508409\n"
     ]
    },
    {
     "name": "stdout",
     "output_type": "stream",
     "text": [
      "Loss: 35.52334799979827\n",
      "Loss: 35.52305493845742\n",
      "Loss: 35.522738371192155\n"
     ]
    },
    {
     "name": "stdout",
     "output_type": "stream",
     "text": [
      "Loss: 35.52247497772288\n",
      "Loss: 35.52237532304282\n",
      "Loss: 35.52231833157237\n"
     ]
    },
    {
     "name": "stdout",
     "output_type": "stream",
     "text": [
      "Loss: 35.52227709367968\n",
      "Loss: 35.5222352927205\n",
      "Loss: 35.522210582878806\n"
     ]
    },
    {
     "name": "stdout",
     "output_type": "stream",
     "text": [
      "Loss: 35.52219262528535\n",
      "Loss: 35.5221865349786\n",
      "Loss: 35.52217850894009\n"
     ]
    },
    {
     "name": "stdout",
     "output_type": "stream",
     "text": [
      "Loss: 35.52212887794704\n",
      "Loss: 35.52206374712139\n",
      "Loss: 35.52196399103893\n"
     ]
    },
    {
     "name": "stdout",
     "output_type": "stream",
     "text": [
      "Loss: 35.52191078676487\n",
      "Loss: 35.52182317434816\n"
     ]
    },
    {
     "name": "stdout",
     "output_type": "stream",
     "text": [
      "Loss: 35.52179863339956\n",
      "Loss: 35.521769194418155\n",
      "Loss: 35.52175282159893\n"
     ]
    },
    {
     "name": "stdout",
     "output_type": "stream",
     "text": [
      "Loss: 35.52172853510737\n",
      "Loss: 35.52139098900238\n",
      "Loss: 35.52104207102422\n"
     ]
    },
    {
     "name": "stdout",
     "output_type": "stream",
     "text": [
      "Loss: 35.520815496473794\n",
      "Loss: 35.52072861150028\n",
      "Loss: 35.52067924501746\n"
     ]
    },
    {
     "name": "stdout",
     "output_type": "stream",
     "text": [
      "Loss: 35.52063149226405\n",
      "Loss: 35.52058124364459\n",
      "Loss: 35.52054717980372\n"
     ]
    },
    {
     "name": "stdout",
     "output_type": "stream",
     "text": [
      "Loss: 35.52053518636822\n",
      "Loss: 35.520531549721376\n",
      "Loss: 35.52053115027031\n"
     ]
    },
    {
     "name": "stdout",
     "output_type": "stream",
     "text": [
      "Loss: 35.520530551000064\n",
      "Loss: 35.52052889501356\n",
      "Loss: 35.5205265947672\n"
     ]
    },
    {
     "name": "stdout",
     "output_type": "stream",
     "text": [
      "Loss: 35.520522514144595\n",
      "Loss: 35.520483109240345\n",
      "Loss: 35.520444675387104\n"
     ]
    },
    {
     "name": "stdout",
     "output_type": "stream",
     "text": [
      "Loss: 35.52041258709569\n",
      "Loss: 35.520389258135225\n",
      "Loss: 35.52036874541133\n"
     ]
    },
    {
     "name": "stdout",
     "output_type": "stream",
     "text": [
      "Loss: 35.52035752988324\n",
      "Loss: 35.52034676502917\n",
      "Loss: 35.52033358521654\n"
     ]
    },
    {
     "name": "stdout",
     "output_type": "stream",
     "text": [
      "Loss: 35.520322698752125\n",
      "Loss: 35.520319952667506\n",
      "Loss: 35.520317539658066\n"
     ]
    },
    {
     "name": "stdout",
     "output_type": "stream",
     "text": [
      "Loss: 35.520317162036584\n",
      "Loss: 35.52031709596541\n",
      "Loss: 35.520316484261286\n"
     ]
    },
    {
     "name": "stdout",
     "output_type": "stream",
     "text": [
      "Loss: 35.52031528724426\n",
      "Loss: 35.520310449703146\n"
     ]
    },
    {
     "name": "stdout",
     "output_type": "stream",
     "text": [
      "Loss: 35.52029437173582\n",
      "Loss: 35.520277916830175\n",
      "Loss: 35.52025703396524\n"
     ]
    },
    {
     "name": "stdout",
     "output_type": "stream",
     "text": [
      "Loss: 35.520230670725134\n",
      "Loss: 35.52019502936874\n",
      "Loss: 35.520182078273045\n"
     ]
    },
    {
     "name": "stdout",
     "output_type": "stream",
     "text": [
      "Loss: 35.520169511935705\n",
      "Loss: 35.520167360238794\n",
      "Loss: 35.520164750139145\n"
     ]
    },
    {
     "name": "stdout",
     "output_type": "stream",
     "text": [
      "Loss: 35.52016433491646\n",
      "Loss: 35.520163944826756\n",
      "Loss: 35.52016420775516\n"
     ]
    },
    {
     "name": "stdout",
     "output_type": "stream",
     "text": [
      "Loss: 35.52016367843754\n",
      "Loss: 35.52016347772987\n",
      "Loss: 35.52016297167316\n"
     ]
    },
    {
     "name": "stdout",
     "output_type": "stream",
     "text": [
      "Loss: 35.52015996764357\n",
      "Loss: 35.52012861042532\n"
     ]
    },
    {
     "name": "stdout",
     "output_type": "stream",
     "text": [
      "Loss: 35.520114598363996\n",
      "Loss: 35.52010077034189\n",
      "Loss: 35.52008934110633\n",
      "Loss: 35.52006454689925\n"
     ]
    },
    {
     "name": "stdout",
     "output_type": "stream",
     "text": [
      "Loss: 35.52004985286571\n",
      "Loss: 35.52002986634398\n",
      "Loss: 35.51999521437436\n"
     ]
    },
    {
     "name": "stdout",
     "output_type": "stream",
     "text": [
      "Loss: 35.51998911792627\n",
      "Loss: 35.51996224823046\n",
      "Loss: 35.51994564928123\n",
      "Loss: 35.51991455790946\n"
     ]
    },
    {
     "name": "stdout",
     "output_type": "stream",
     "text": [
      "Loss: 35.519903892652934\n",
      "Loss: 35.51988560287082\n",
      "Loss: 35.519872197141815\n",
      "Loss: 35.51986601717008\n"
     ]
    },
    {
     "name": "stdout",
     "output_type": "stream",
     "text": [
      "Loss: 35.51985141113819\n",
      "Loss: 35.51984130983986\n",
      "Loss: 35.51981614142986\n"
     ]
    },
    {
     "name": "stdout",
     "output_type": "stream",
     "text": [
      "Loss: 35.519792558284706\n",
      "Loss: 35.51978874357699\n",
      "Loss: 35.5197785974549\n",
      "Loss: 35.51977103054667\n"
     ]
    },
    {
     "name": "stdout",
     "output_type": "stream",
     "text": [
      "Loss: 35.519764610098115\n",
      "Loss: 35.519750472340654\n",
      "Loss: 35.51973580066224\n"
     ]
    },
    {
     "name": "stdout",
     "output_type": "stream",
     "text": [
      "Loss: 35.5197159483102\n",
      "Loss: 35.5197138269476\n",
      "Loss: 35.51970014080569\n"
     ]
    },
    {
     "name": "stdout",
     "output_type": "stream",
     "text": [
      "Loss: 35.51969369993685\n",
      "Loss: 35.51968735104955\n",
      "Loss: 35.51967582915725\n"
     ]
    },
    {
     "name": "stdout",
     "output_type": "stream",
     "text": [
      "Loss: 35.51965911127615\n",
      "Loss: 35.51964169405482\n",
      "Loss: 35.51962936871122\n"
     ]
    },
    {
     "name": "stdout",
     "output_type": "stream",
     "text": [
      "Loss: 35.51962349863479\n",
      "Loss: 35.51961667745043\n",
      "Loss: 35.51960958709858\n"
     ]
    },
    {
     "name": "stdout",
     "output_type": "stream",
     "text": [
      "Loss: 35.51960081375289\n",
      "Loss: 35.51959153748534\n"
     ]
    },
    {
     "name": "stdout",
     "output_type": "stream",
     "text": [
      "Loss: 35.51958418157363\n",
      "Loss: 35.519580586027004\n",
      "Loss: 35.51957370502106\n"
     ]
    },
    {
     "name": "stdout",
     "output_type": "stream",
     "text": [
      "Loss: 35.51956356211136\n",
      "Loss: 35.51955810935319\n",
      "Loss: 35.51955562653248\n"
     ]
    },
    {
     "name": "stdout",
     "output_type": "stream",
     "text": [
      "Loss: 35.51954910455721\n",
      "Loss: 35.519543215137595\n",
      "Loss: 35.51954038649011\n"
     ]
    },
    {
     "name": "stdout",
     "output_type": "stream",
     "text": [
      "Loss: 35.51953718332467\n",
      "Loss: 35.51953347948334\n",
      "Loss: 35.519530470411596\n"
     ]
    },
    {
     "name": "stdout",
     "output_type": "stream",
     "text": [
      "Loss: 35.519528764876455\n",
      "Loss: 35.51952825417318\n",
      "Loss: 35.51952775400954\n"
     ]
    },
    {
     "name": "stdout",
     "output_type": "stream",
     "text": [
      "Loss: 35.51952481529936\n",
      "Loss: 35.519524112054675\n"
     ]
    },
    {
     "name": "stdout",
     "output_type": "stream",
     "text": [
      "Loss: 35.51952087607063\n",
      "Loss: 35.51951651130088\n"
     ]
    },
    {
     "name": "stdout",
     "output_type": "stream",
     "text": [
      "Loss: 35.5195083539321\n",
      "Loss: 35.51950708199499\n",
      "Loss: 35.519495267126246\n"
     ]
    },
    {
     "name": "stdout",
     "output_type": "stream",
     "text": [
      "Loss: 35.51947898281486\n",
      "Loss: 35.519471920431904\n",
      "Loss: 35.51945334681156\n"
     ]
    },
    {
     "name": "stdout",
     "output_type": "stream",
     "text": [
      "Loss: 35.519442735563445\n",
      "Loss: 35.51944021337104\n",
      "Loss: 35.51943793649892\n"
     ]
    },
    {
     "name": "stdout",
     "output_type": "stream",
     "text": [
      "Loss: 35.51943724375104\n",
      "Loss: 35.5194366528192\n",
      "Loss: 35.51943703314824\n"
     ]
    },
    {
     "name": "stdout",
     "output_type": "stream",
     "text": [
      "Loss: 35.51943585153785\n",
      "Loss: 35.51943071141749\n",
      "Loss: 35.519424357478464\n"
     ]
    },
    {
     "name": "stdout",
     "output_type": "stream",
     "text": [
      "Loss: 35.519421799140275\n",
      "Loss: 35.519415407346855\n",
      "Loss: 35.51941012876883\n"
     ]
    },
    {
     "name": "stdout",
     "output_type": "stream",
     "text": [
      "Loss: 35.519406937114056\n",
      "Loss: 35.519403327573684\n",
      "Loss: 35.519395415801924\n"
     ]
    },
    {
     "name": "stdout",
     "output_type": "stream",
     "text": [
      "Loss: 35.519386236054245\n",
      "Loss: 35.519383894360075\n",
      "Loss: 35.5193807188829\n",
      "Loss: 35.519378414777435\n"
     ]
    },
    {
     "name": "stdout",
     "output_type": "stream",
     "text": [
      "Loss: 35.519373806193556\n",
      "Loss: 35.51936976223637\n",
      "Loss: 35.519363973348334\n"
     ]
    },
    {
     "name": "stdout",
     "output_type": "stream",
     "text": [
      "Loss: 35.519360225490814\n",
      "Loss: 35.5193512698615\n",
      "Loss: 35.51934452273761\n"
     ]
    },
    {
     "name": "stdout",
     "output_type": "stream",
     "text": [
      "Loss: 35.51933851525864\n",
      "Loss: 35.51933432151236\n",
      "Loss: 35.519325374710725\n",
      "Loss: 35.51932132074207\n"
     ]
    },
    {
     "name": "stdout",
     "output_type": "stream",
     "text": [
      "Loss: 35.51931647560757\n",
      "Loss: 35.51931180170081\n",
      "Loss: 35.51930578950387\n",
      "Loss: 35.51929884728676\n"
     ]
    },
    {
     "name": "stdout",
     "output_type": "stream",
     "text": [
      "Loss: 35.519295640265916\n",
      "Loss: 35.51928739077916\n",
      "Loss: 35.519285993800935\n"
     ]
    },
    {
     "name": "stdout",
     "output_type": "stream",
     "text": [
      "Loss: 35.51927815879993\n",
      "Loss: 35.519271564836075\n",
      "Loss: 35.51926721257865\n"
     ]
    },
    {
     "name": "stdout",
     "output_type": "stream",
     "text": [
      "Loss: 35.51925777690688\n",
      "Loss: 35.519252934924445\n",
      "Loss: 35.51923996202431\n"
     ]
    },
    {
     "name": "stdout",
     "output_type": "stream",
     "text": [
      "Loss: 35.51923332902556\n",
      "Loss: 35.51922548393953\n",
      "Loss: 35.51922100914198\n"
     ]
    },
    {
     "name": "stdout",
     "output_type": "stream",
     "text": [
      "Loss: 35.51921966625512\n",
      "Loss: 35.51921534649779\n",
      "Loss: 35.51921299510763\n"
     ]
    },
    {
     "name": "stdout",
     "output_type": "stream",
     "text": [
      "Loss: 35.519203969008366\n",
      "Loss: 35.519196682590724\n",
      "Loss: 35.51919569952533\n",
      "Loss: 35.5191918366655\n"
     ]
    },
    {
     "name": "stdout",
     "output_type": "stream",
     "text": [
      "Loss: 35.519189418579984\n",
      "Loss: 35.51918515684702\n",
      "Loss: 35.519182243649055\n"
     ]
    },
    {
     "name": "stdout",
     "output_type": "stream",
     "text": [
      "Loss: 35.51917823986078\n",
      "Loss: 35.51916798751021\n",
      "Loss: 35.51916417821801\n"
     ]
    },
    {
     "name": "stdout",
     "output_type": "stream",
     "text": [
      "Loss: 35.51915880184688\n",
      "Loss: 35.5191564283064\n",
      "Loss: 35.51915291617004\n"
     ]
    },
    {
     "name": "stdout",
     "output_type": "stream",
     "text": [
      "Loss: 35.51915108632075\n",
      "Loss: 35.51914821462118\n",
      "Loss: 35.5191441878458\n"
     ]
    },
    {
     "name": "stdout",
     "output_type": "stream",
     "text": [
      "Loss: 35.519141654759196\n",
      "Loss: 35.519137757900104\n",
      "Loss: 35.51913541216058\n"
     ]
    },
    {
     "name": "stdout",
     "output_type": "stream",
     "text": [
      "Loss: 35.51913304716898\n",
      "Loss: 35.51912963753639\n",
      "Loss: 35.51912620245361\n"
     ]
    },
    {
     "name": "stdout",
     "output_type": "stream",
     "text": [
      "Loss: 35.51912182577405\n",
      "Loss: 35.519112112712946\n",
      "Loss: 35.51911037921373\n"
     ]
    },
    {
     "name": "stdout",
     "output_type": "stream",
     "text": [
      "Loss: 35.51910621557268\n",
      "Loss: 35.519102384848246\n",
      "Loss: 35.519098789158065\n",
      "Loss: 35.51909866162377\n"
     ]
    },
    {
     "name": "stdout",
     "output_type": "stream",
     "text": [
      "Loss: 35.51909657873399\n",
      "Loss: 35.519093787314624\n",
      "Loss: 35.51909314532739\n"
     ]
    },
    {
     "name": "stdout",
     "output_type": "stream",
     "text": [
      "Loss: 35.51909063836317\n",
      "Loss: 35.51908695009502\n",
      "Loss: 35.51908204717152\n"
     ]
    },
    {
     "name": "stdout",
     "output_type": "stream",
     "text": [
      "Loss: 35.519080930208965\n",
      "Loss: 35.5190786621653\n",
      "Loss: 35.519076271824005\n",
      "Loss: 35.519072053447786\n"
     ]
    },
    {
     "name": "stdout",
     "output_type": "stream",
     "text": [
      "Loss: 35.519068136933356\n",
      "Loss: 35.51906502027834\n",
      "Loss: 35.519062106711715\n"
     ]
    },
    {
     "name": "stdout",
     "output_type": "stream",
     "text": [
      "Loss: 35.5190579729359\n",
      "Loss: 35.51905580219799\n",
      "Loss: 35.51905285062135\n"
     ]
    },
    {
     "name": "stdout",
     "output_type": "stream",
     "text": [
      "Loss: 35.51905156402955\n",
      "Loss: 35.51904816662743\n",
      "Loss: 35.51904575412543\n"
     ]
    },
    {
     "name": "stdout",
     "output_type": "stream",
     "text": [
      "Loss: 35.51904065177679\n",
      "Loss: 35.519036247901475\n",
      "Loss: 35.51902154419701\n"
     ]
    },
    {
     "name": "stdout",
     "output_type": "stream",
     "text": [
      "Loss: 35.51901852181805\n",
      "Loss: 35.519015008027885\n",
      "Loss: 35.51901340425324\n"
     ]
    },
    {
     "name": "stdout",
     "output_type": "stream",
     "text": [
      "Loss: 35.51901122422777\n",
      "Loss: 35.5190097576477\n"
     ]
    },
    {
     "name": "stdout",
     "output_type": "stream",
     "text": [
      "Loss: 35.51900644387374\n",
      "Loss: 35.519004076971584\n",
      "Loss: 35.51900182263698\n"
     ]
    },
    {
     "name": "stdout",
     "output_type": "stream",
     "text": [
      "Loss: 35.51899946083225\n",
      "Loss: 35.518999115743284\n",
      "Loss: 35.51899574934331\n"
     ]
    },
    {
     "name": "stdout",
     "output_type": "stream",
     "text": [
      "Loss: 35.51899438351496\n",
      "Loss: 35.51899132888455\n",
      "Loss: 35.51898366665095\n"
     ]
    },
    {
     "name": "stdout",
     "output_type": "stream",
     "text": [
      "Loss: 35.5189766441486\n",
      "Loss: 35.518973282701765\n",
      "Loss: 35.5189630191668\n",
      "Loss: 35.51895791514012\n"
     ]
    },
    {
     "name": "stdout",
     "output_type": "stream",
     "text": [
      "Loss: 35.518956650435165\n",
      "Loss: 35.51895555857104\n",
      "Loss: 35.51895408439355\n"
     ]
    },
    {
     "name": "stdout",
     "output_type": "stream",
     "text": [
      "Loss: 35.51894956554485\n",
      "Loss: 35.51894358543702\n",
      "Loss: 35.51893979564897\n"
     ]
    },
    {
     "name": "stdout",
     "output_type": "stream",
     "text": [
      "Loss: 35.518938534643134\n",
      "Loss: 35.518936604434366\n",
      "Loss: 35.518934881610825\n"
     ]
    },
    {
     "name": "stdout",
     "output_type": "stream",
     "text": [
      "Loss: 35.51892923232582\n",
      "Loss: 35.51892106658742\n",
      "Loss: 35.51891676060284\n"
     ]
    },
    {
     "name": "stdout",
     "output_type": "stream",
     "text": [
      "Loss: 35.51891291766985\n",
      "Loss: 35.51891216942122\n",
      "Loss: 35.51890829214084\n"
     ]
    },
    {
     "name": "stdout",
     "output_type": "stream",
     "text": [
      "Loss: 35.518905560432735\n",
      "Loss: 35.51890494417714\n",
      "Loss: 35.518902628979994\n"
     ]
    },
    {
     "name": "stdout",
     "output_type": "stream",
     "text": [
      "Loss: 35.51889976795913\n",
      "Loss: 35.518896049912975\n",
      "Loss: 35.51889434341509\n"
     ]
    },
    {
     "name": "stdout",
     "output_type": "stream",
     "text": [
      "Loss: 35.51889303460969\n",
      "Loss: 35.518890958404384\n",
      "Loss: 35.51889024532467\n"
     ]
    },
    {
     "name": "stdout",
     "output_type": "stream",
     "text": [
      "Loss: 35.51888743202234\n",
      "Loss: 35.51888442864514\n",
      "Loss: 35.518876849445604\n"
     ]
    },
    {
     "name": "stdout",
     "output_type": "stream",
     "text": [
      "Loss: 35.518873515285556\n",
      "Loss: 35.51886894671449\n",
      "Loss: 35.51886236371112\n"
     ]
    },
    {
     "name": "stdout",
     "output_type": "stream",
     "text": [
      "Loss: 35.51885955069285\n",
      "Loss: 35.5188543025332\n",
      "Loss: 35.51884796184039\n"
     ]
    },
    {
     "name": "stdout",
     "output_type": "stream",
     "text": [
      "Loss: 35.51884222690163\n",
      "Loss: 35.51883676986566\n",
      "Loss: 35.51883345854215\n",
      "Loss: 35.51882924253127\n"
     ]
    },
    {
     "name": "stdout",
     "output_type": "stream",
     "text": [
      "Loss: 35.51882219054369\n",
      "Loss: 35.518814615914536\n",
      "Loss: 35.518809079281\n"
     ]
    },
    {
     "name": "stdout",
     "output_type": "stream",
     "text": [
      "Loss: 35.518807005158145\n",
      "Loss: 35.518802599705346\n"
     ]
    },
    {
     "name": "stdout",
     "output_type": "stream",
     "text": [
      "Loss: 35.51879990605451\n",
      "Loss: 35.51879528199615\n",
      "Loss: 35.51879191843278\n"
     ]
    },
    {
     "name": "stdout",
     "output_type": "stream",
     "text": [
      "Loss: 35.51878844567584\n",
      "Loss: 35.51878620287306\n",
      "Loss: 35.518784430025995\n"
     ]
    },
    {
     "name": "stdout",
     "output_type": "stream",
     "text": [
      "Loss: 35.51878079063185\n",
      "Loss: 35.51877534429142\n",
      "Loss: 35.51877043851344\n"
     ]
    },
    {
     "name": "stdout",
     "output_type": "stream",
     "text": [
      "Loss: 35.51876572199224\n",
      "Loss: 35.51875730647213\n",
      "Loss: 35.518751814465\n"
     ]
    },
    {
     "name": "stdout",
     "output_type": "stream",
     "text": [
      "Loss: 35.5187473241542\n",
      "Loss: 35.51874137954137\n",
      "Loss: 35.51873676959739\n"
     ]
    },
    {
     "name": "stdout",
     "output_type": "stream",
     "text": [
      "Loss: 35.518724892426555\n",
      "Loss: 35.5187192560469\n",
      "Loss: 35.51871213437406\n"
     ]
    },
    {
     "name": "stdout",
     "output_type": "stream",
     "text": [
      "Loss: 35.51870872313624\n",
      "Loss: 35.51870722565901\n"
     ]
    },
    {
     "name": "stdout",
     "output_type": "stream",
     "text": [
      "Loss: 35.518704730312045\n",
      "Loss: 35.51870077742031\n"
     ]
    },
    {
     "name": "stdout",
     "output_type": "stream",
     "text": [
      "Loss: 35.5186942876182\n",
      "Loss: 35.51869279076626\n",
      "Loss: 35.51869197667354\n"
     ]
    },
    {
     "name": "stdout",
     "output_type": "stream",
     "text": [
      "Loss: 35.518689989290294\n",
      "Loss: 35.518685958693695\n",
      "Loss: 35.518678651014845\n"
     ]
    },
    {
     "name": "stdout",
     "output_type": "stream",
     "text": [
      "Loss: 35.51866887285001\n",
      "Loss: 35.51864208041413\n",
      "Loss: 35.51863015180911\n"
     ]
    },
    {
     "name": "stdout",
     "output_type": "stream",
     "text": [
      "Loss: 35.518610897566724\n",
      "Loss: 35.518601115127325\n",
      "Loss: 35.51859092438269\n",
      "Loss: 35.51858660172166\n"
     ]
    },
    {
     "name": "stdout",
     "output_type": "stream",
     "text": [
      "Loss: 35.518582472416455\n",
      "Loss: 35.51858023944856\n",
      "Loss: 35.51857587383785\n"
     ]
    },
    {
     "name": "stdout",
     "output_type": "stream",
     "text": [
      "Loss: 35.51857375408041\n",
      "Loss: 35.518571929481546\n"
     ]
    },
    {
     "name": "stdout",
     "output_type": "stream",
     "text": [
      "Loss: 35.518570607894304\n",
      "Loss: 35.51856757697046\n",
      "Loss: 35.51856069749446\n"
     ]
    },
    {
     "name": "stdout",
     "output_type": "stream",
     "text": [
      "Loss: 35.51854912232414\n",
      "Loss: 35.518533771924105\n"
     ]
    },
    {
     "name": "stdout",
     "output_type": "stream",
     "text": [
      "Loss: 35.51852209692007\n",
      "Loss: 35.518488233317264\n",
      "Loss: 35.51841494645742\n"
     ]
    },
    {
     "name": "stdout",
     "output_type": "stream",
     "text": [
      "Loss: 35.518326005231444\n",
      "Loss: 35.518250045683516\n",
      "Loss: 35.51820414796168\n",
      "Loss: 35.518124456544044\n"
     ]
    },
    {
     "name": "stdout",
     "output_type": "stream",
     "text": [
      "Loss: 35.51811174640096\n",
      "Loss: 35.51808809539875\n",
      "Loss: 35.51807115023787\n"
     ]
    },
    {
     "name": "stdout",
     "output_type": "stream",
     "text": [
      "Loss: 35.518057388595764\n",
      "Loss: 35.518039932719525\n",
      "Loss: 35.51801714898594\n"
     ]
    },
    {
     "name": "stdout",
     "output_type": "stream",
     "text": [
      "Loss: 35.51799759498949\n",
      "Loss: 35.51797215812075\n"
     ]
    },
    {
     "name": "stdout",
     "output_type": "stream",
     "text": [
      "Loss: 35.51794211273096\n",
      "Loss: 35.51791743297577\n",
      "Loss: 35.51791457304624\n"
     ]
    },
    {
     "name": "stdout",
     "output_type": "stream",
     "text": [
      "Loss: 35.51789970870473\n",
      "Loss: 35.51789208004947\n",
      "Loss: 35.51787748009408\n"
     ]
    },
    {
     "name": "stdout",
     "output_type": "stream",
     "text": [
      "Loss: 35.51785978991494\n",
      "Loss: 35.517836833623264\n",
      "Loss: 35.517818824497034\n"
     ]
    },
    {
     "name": "stdout",
     "output_type": "stream",
     "text": [
      "Loss: 35.51780694110179\n",
      "Loss: 35.5177810338019\n",
      "Loss: 35.51776774723086\n"
     ]
    },
    {
     "name": "stdout",
     "output_type": "stream",
     "text": [
      "Loss: 35.51773941184647\n",
      "Loss: 35.51771866482639\n",
      "Loss: 35.51770185470503\n"
     ]
    },
    {
     "name": "stdout",
     "output_type": "stream",
     "text": [
      "Loss: 35.517694926280065\n",
      "Loss: 35.51768223031749\n",
      "Loss: 35.51767815701781\n"
     ]
    },
    {
     "name": "stdout",
     "output_type": "stream",
     "text": [
      "Loss: 35.517668017866534\n",
      "Loss: 35.51765442321028\n",
      "Loss: 35.51764377060865\n"
     ]
    },
    {
     "name": "stdout",
     "output_type": "stream",
     "text": [
      "Loss: 35.517635775306964\n",
      "Loss: 35.51763079395736\n",
      "Loss: 35.517626501040404\n"
     ]
    },
    {
     "name": "stdout",
     "output_type": "stream",
     "text": [
      "Loss: 35.517621403251276\n",
      "Loss: 35.517614576546\n",
      "Loss: 35.51760675848649\n"
     ]
    },
    {
     "name": "stdout",
     "output_type": "stream",
     "text": [
      "Loss: 35.51760056709079\n",
      "Loss: 35.517598734143206\n",
      "Loss: 35.51759550473746\n"
     ]
    },
    {
     "name": "stdout",
     "output_type": "stream",
     "text": [
      "Loss: 35.51759443995035\n",
      "Loss: 35.51759115359125\n",
      "Loss: 35.517588443617825\n"
     ]
    },
    {
     "name": "stdout",
     "output_type": "stream",
     "text": [
      "Loss: 35.51758334549139\n",
      "Loss: 35.51758014334232\n",
      "Loss: 35.517577015112984\n"
     ]
    },
    {
     "name": "stdout",
     "output_type": "stream",
     "text": [
      "Loss: 35.517575466236565\n",
      "Loss: 35.51757194117264\n",
      "Loss: 35.51756826872948\n"
     ]
    },
    {
     "name": "stdout",
     "output_type": "stream",
     "text": [
      "Loss: 35.51756364110178\n",
      "Loss: 35.517559118039046\n",
      "Loss: 35.51755711717199\n"
     ]
    },
    {
     "name": "stdout",
     "output_type": "stream",
     "text": [
      "Loss: 35.51755278668945\n",
      "Loss: 35.51755096917133\n",
      "Loss: 35.51754452362049\n"
     ]
    },
    {
     "name": "stdout",
     "output_type": "stream",
     "text": [
      "Loss: 35.517533857615774\n",
      "Loss: 35.51752045566758\n",
      "Loss: 35.51750730860648\n"
     ]
    },
    {
     "name": "stdout",
     "output_type": "stream",
     "text": [
      "Loss: 35.51749764177469\n",
      "Loss: 35.517472639896724\n",
      "Loss: 35.517453480839336\n",
      "Loss: 35.517444820165316\n"
     ]
    },
    {
     "name": "stdout",
     "output_type": "stream",
     "text": [
      "Loss: 35.517438568077694\n",
      "Loss: 35.51743210865061\n",
      "Loss: 35.517425276464074\n"
     ]
    },
    {
     "name": "stdout",
     "output_type": "stream",
     "text": [
      "Loss: 35.51741418861574\n",
      "Loss: 35.517385083225655\n",
      "Loss: 35.51731835309469\n"
     ]
    },
    {
     "name": "stdout",
     "output_type": "stream",
     "text": [
      "Loss: 35.517296753354316\n",
      "Loss: 35.517245584023854\n",
      "Loss: 35.517186114453544\n",
      "Loss: 35.51711829111488\n"
     ]
    },
    {
     "name": "stdout",
     "output_type": "stream",
     "text": [
      "Loss: 35.51706396450818\n",
      "Loss: 35.516998740330855\n",
      "Loss: 35.51697493478825\n"
     ]
    },
    {
     "name": "stdout",
     "output_type": "stream",
     "text": [
      "Loss: 35.516899732416434\n",
      "Loss: 35.51685599864665\n",
      "Loss: 35.516760590841585\n"
     ]
    },
    {
     "name": "stdout",
     "output_type": "stream",
     "text": [
      "Loss: 35.51671265490941\n",
      "Loss: 35.51659683357723\n",
      "Loss: 35.51656638443141\n"
     ]
    },
    {
     "name": "stdout",
     "output_type": "stream",
     "text": [
      "Loss: 35.51649536516299\n",
      "Loss: 35.51645427737403\n",
      "Loss: 35.516400671454875\n",
      "Loss: 35.516348122328154\n"
     ]
    },
    {
     "name": "stdout",
     "output_type": "stream",
     "text": [
      "Loss: 35.51630476629634\n",
      "Loss: 35.5162701127133\n",
      "Loss: 35.51625501493536\n"
     ]
    },
    {
     "name": "stdout",
     "output_type": "stream",
     "text": [
      "Loss: 35.5162361604191\n",
      "Loss: 35.51622158384849\n",
      "Loss: 35.51621255810348\n"
     ]
    },
    {
     "name": "stdout",
     "output_type": "stream",
     "text": [
      "Loss: 35.516207700110854\n",
      "Loss: 35.51620554075842\n",
      "Loss: 35.5162010928132\n"
     ]
    },
    {
     "name": "stdout",
     "output_type": "stream",
     "text": [
      "Loss: 35.51619381347989\n",
      "Loss: 35.516185759735464\n",
      "Loss: 35.5161730439971\n"
     ]
    },
    {
     "name": "stdout",
     "output_type": "stream",
     "text": [
      "Loss: 35.51615129022711\n",
      "Loss: 35.51611039485308\n",
      "Loss: 35.51604074622782\n",
      "Loss: 35.51599896483855\n"
     ]
    },
    {
     "name": "stdout",
     "output_type": "stream",
     "text": [
      "Loss: 35.515948419846815\n",
      "Loss: 35.51589073515804\n",
      "Loss: 35.51587420141649\n",
      "Loss: 35.51584430201615\n"
     ]
    },
    {
     "name": "stdout",
     "output_type": "stream",
     "text": [
      "Loss: 35.51580264324767\n",
      "Loss: 35.51574192410291\n",
      "Loss: 35.51572906645985\n"
     ]
    },
    {
     "name": "stdout",
     "output_type": "stream",
     "text": [
      "Loss: 35.51568904855646\n",
      "Loss: 35.51564181538564\n",
      "Loss: 35.51555057161122\n"
     ]
    },
    {
     "name": "stdout",
     "output_type": "stream",
     "text": [
      "Loss: 35.51553347905903\n",
      "Loss: 35.51549582328339\n",
      "Loss: 35.5154678446837\n"
     ]
    },
    {
     "name": "stdout",
     "output_type": "stream",
     "text": [
      "Loss: 35.515400806151945\n",
      "Loss: 35.51536038668185\n",
      "Loss: 35.515327142905534\n",
      "Loss: 35.51530798731349\n"
     ]
    },
    {
     "name": "stdout",
     "output_type": "stream",
     "text": [
      "Loss: 35.51527444861295\n",
      "Loss: 35.51520266783439\n",
      "Loss: 35.51513699585565\n"
     ]
    },
    {
     "name": "stdout",
     "output_type": "stream",
     "text": [
      "Loss: 35.51510462721769\n",
      "Loss: 35.51504211822054\n"
     ]
    },
    {
     "name": "stdout",
     "output_type": "stream",
     "text": [
      "Loss: 35.514983565200424\n",
      "Loss: 35.51487885031136\n"
     ]
    },
    {
     "name": "stdout",
     "output_type": "stream",
     "text": [
      "Loss: 35.5147719531367\n",
      "Loss: 35.51468443850151\n"
     ]
    },
    {
     "name": "stdout",
     "output_type": "stream",
     "text": [
      "Loss: 35.51456825783183\n",
      "Loss: 35.51452673895375\n"
     ]
    },
    {
     "name": "stdout",
     "output_type": "stream",
     "text": [
      "Loss: 35.514450133039\n",
      "Loss: 35.51430609453353\n",
      "Loss: 35.514234524273775\n",
      "Loss: 35.514143993364144\n"
     ]
    },
    {
     "name": "stdout",
     "output_type": "stream",
     "text": [
      "Loss: 35.5140758358529\n",
      "Loss: 35.51404441683079\n",
      "Loss: 35.513951414875216\n"
     ]
    },
    {
     "name": "stdout",
     "output_type": "stream",
     "text": [
      "Loss: 35.513903959795115\n",
      "Loss: 35.51382077717006\n",
      "Loss: 35.51376237814114\n"
     ]
    },
    {
     "name": "stdout",
     "output_type": "stream",
     "text": [
      "Loss: 35.51373406052609\n",
      "Loss: 35.51366997588404\n",
      "Loss: 35.51358470016435\n"
     ]
    },
    {
     "name": "stdout",
     "output_type": "stream",
     "text": [
      "Loss: 35.51348487938504\n",
      "Loss: 35.513399151234985\n",
      "Loss: 35.5131474755334\n"
     ]
    },
    {
     "name": "stdout",
     "output_type": "stream",
     "text": [
      "Loss: 35.512978503887155\n",
      "Loss: 35.51279333588448\n",
      "Loss: 35.512414580249455\n"
     ]
    },
    {
     "name": "stdout",
     "output_type": "stream",
     "text": [
      "Loss: 35.51232509419174\n",
      "Loss: 35.51220378407806\n",
      "Loss: 35.51211459833899\n"
     ]
    },
    {
     "name": "stdout",
     "output_type": "stream",
     "text": [
      "Loss: 35.51201665811304\n",
      "Loss: 35.51191536923615\n",
      "Loss: 35.51186698567318\n"
     ]
    },
    {
     "name": "stdout",
     "output_type": "stream",
     "text": [
      "Loss: 35.511807907447086\n",
      "Loss: 35.511759933377796\n",
      "Loss: 35.51171098083258\n"
     ]
    },
    {
     "name": "stdout",
     "output_type": "stream",
     "text": [
      "Loss: 35.511602338452086\n",
      "Loss: 35.51149113629465\n",
      "Loss: 35.51143237975852\n"
     ]
    },
    {
     "name": "stdout",
     "output_type": "stream",
     "text": [
      "Loss: 35.51130669437976\n",
      "Loss: 35.51122600234603\n",
      "Loss: 35.51113100750843\n"
     ]
    },
    {
     "name": "stdout",
     "output_type": "stream",
     "text": [
      "Loss: 35.51105368218248\n",
      "Loss: 35.510986614535014\n",
      "Loss: 35.51095767319417\n"
     ]
    },
    {
     "name": "stdout",
     "output_type": "stream",
     "text": [
      "Loss: 35.51087838405978\n",
      "Loss: 35.510829565110626\n",
      "Loss: 35.510797416254576\n",
      "Loss: 35.51077235121639\n"
     ]
    },
    {
     "name": "stdout",
     "output_type": "stream",
     "text": [
      "Loss: 35.510733876619334\n",
      "Loss: 35.51071506802779\n",
      "Loss: 35.51069654804894\n"
     ]
    },
    {
     "name": "stdout",
     "output_type": "stream",
     "text": [
      "Loss: 35.51067829232111\n",
      "Loss: 35.51065649338484\n",
      "Loss: 35.510643246782536\n"
     ]
    },
    {
     "name": "stdout",
     "output_type": "stream",
     "text": [
      "Loss: 35.510624731968264\n",
      "Loss: 35.51061525230019\n"
     ]
    },
    {
     "name": "stdout",
     "output_type": "stream",
     "text": [
      "Loss: 35.51060315665449\n",
      "Loss: 35.51058861221083\n",
      "Loss: 35.51056164770052\n"
     ]
    },
    {
     "name": "stdout",
     "output_type": "stream",
     "text": [
      "Loss: 35.510520821544326\n",
      "Loss: 35.51049003016678\n"
     ]
    },
    {
     "name": "stdout",
     "output_type": "stream",
     "text": [
      "Loss: 35.510473187879555\n",
      "Loss: 35.51045364708057\n",
      "Loss: 35.51042417241165\n"
     ]
    },
    {
     "name": "stdout",
     "output_type": "stream",
     "text": [
      "Loss: 35.51037377795496\n",
      "Loss: 35.51033706230691\n",
      "Loss: 35.51025459544923\n"
     ]
    },
    {
     "name": "stdout",
     "output_type": "stream",
     "text": [
      "Loss: 35.510101828516994\n",
      "Loss: 35.50969956169595\n",
      "Loss: 35.509248179604846\n"
     ]
    },
    {
     "name": "stdout",
     "output_type": "stream",
     "text": [
      "Loss: 35.50891140974536\n",
      "Loss: 35.50865972411456\n",
      "Loss: 35.50830737544243\n",
      "Loss: 35.50815153853136\n"
     ]
    },
    {
     "name": "stdout",
     "output_type": "stream",
     "text": [
      "Loss: 35.50793511888015\n",
      "Loss: 35.50788481476124\n",
      "Loss: 35.50777147143961\n"
     ]
    },
    {
     "name": "stdout",
     "output_type": "stream",
     "text": [
      "Loss: 35.50768721307234\n",
      "Loss: 35.50763055504294\n",
      "Loss: 35.50758118655277\n"
     ]
    },
    {
     "name": "stdout",
     "output_type": "stream",
     "text": [
      "Loss: 35.50750369651626\n",
      "Loss: 35.5073978186473\n",
      "Loss: 35.50730217726221\n"
     ]
    },
    {
     "name": "stdout",
     "output_type": "stream",
     "text": [
      "Loss: 35.507250373762034\n",
      "Loss: 35.50718286380939\n",
      "Loss: 35.50707902561675\n"
     ]
    },
    {
     "name": "stdout",
     "output_type": "stream",
     "text": [
      "Loss: 35.506824749254946\n",
      "Loss: 35.50638068331394\n",
      "Loss: 35.50627882941045\n"
     ]
    },
    {
     "name": "stdout",
     "output_type": "stream",
     "text": [
      "Loss: 35.506059520416656\n",
      "Loss: 35.50594043302645\n",
      "Loss: 35.50575803602727\n"
     ]
    },
    {
     "name": "stdout",
     "output_type": "stream",
     "text": [
      "Loss: 35.50565103429855\n",
      "Loss: 35.505489672591416\n",
      "Loss: 35.505444713008195\n",
      "Loss: 35.50532693533606\n"
     ]
    },
    {
     "name": "stdout",
     "output_type": "stream",
     "text": [
      "Loss: 35.50521082029339\n",
      "Loss: 35.5051255248367\n",
      "Loss: 35.50506247030539\n",
      "Loss: 35.50499224149626\n"
     ]
    },
    {
     "name": "stdout",
     "output_type": "stream",
     "text": [
      "Loss: 35.50490601594104\n",
      "Loss: 35.504859704841515\n",
      "Loss: 35.50477107455026\n"
     ]
    },
    {
     "name": "stdout",
     "output_type": "stream",
     "text": [
      "Loss: 35.50474002340838\n",
      "Loss: 35.50470204616659\n",
      "Loss: 35.504655579976784\n"
     ]
    },
    {
     "name": "stdout",
     "output_type": "stream",
     "text": [
      "Loss: 35.504624422563076\n",
      "Loss: 35.50461610258664\n",
      "Loss: 35.50458426450303\n"
     ]
    },
    {
     "name": "stdout",
     "output_type": "stream",
     "text": [
      "Loss: 35.50456714393162\n",
      "Loss: 35.504562326760876\n",
      "Loss: 35.50455994575481\n"
     ]
    },
    {
     "name": "stdout",
     "output_type": "stream",
     "text": [
      "Loss: 35.504556844780204\n",
      "Loss: 35.50455547069939\n",
      "Loss: 35.50455569742027\n"
     ]
    },
    {
     "name": "stdout",
     "output_type": "stream",
     "text": [
      "Loss: 35.50455413942117\n",
      "Loss: 35.50454628533347\n"
     ]
    },
    {
     "name": "stdout",
     "output_type": "stream",
     "text": [
      "Loss: 35.504483502147565\n",
      "Loss: 35.504443122646265\n",
      "Loss: 35.504434456524905\n"
     ]
    },
    {
     "name": "stdout",
     "output_type": "stream",
     "text": [
      "Loss: 35.5044286248268\n",
      "Loss: 35.5044240641463\n",
      "Loss: 35.504413485902596\n"
     ]
    },
    {
     "name": "stdout",
     "output_type": "stream",
     "text": [
      "Loss: 35.504401205452\n",
      "Loss: 35.50438941962389\n",
      "Loss: 35.50438752199753\n"
     ]
    },
    {
     "name": "stdout",
     "output_type": "stream",
     "text": [
      "Loss: 35.504386149441444\n",
      "Loss: 35.50438480537559\n",
      "Loss: 35.50438449409248\n"
     ]
    },
    {
     "name": "stdout",
     "output_type": "stream",
     "text": [
      "Loss: 35.50438458966501\n",
      "Loss: 35.50438444756215\n",
      "Loss: 35.50438390136488\n"
     ]
    },
    {
     "name": "stdout",
     "output_type": "stream",
     "text": [
      "Loss: 35.504384159526964\n",
      "Loss: 35.504383362009605\n"
     ]
    },
    {
     "name": "stdout",
     "output_type": "stream",
     "text": [
      "Loss: 35.50434620302249\n",
      "Loss: 35.504306647854044\n",
      "Loss: 35.50424796859066\n"
     ]
    },
    {
     "name": "stdout",
     "output_type": "stream",
     "text": [
      "Loss: 35.50419457891086\n",
      "Loss: 35.5040881417874\n",
      "Loss: 35.50405662563817\n"
     ]
    },
    {
     "name": "stdout",
     "output_type": "stream",
     "text": [
      "Loss: 35.50402220634005\n",
      "Loss: 35.50393936676161\n",
      "Loss: 35.50389171480197\n",
      "Loss: 35.503868112970835\n"
     ]
    },
    {
     "name": "stdout",
     "output_type": "stream",
     "text": [
      "Loss: 35.50382524853413\n",
      "Loss: 35.50379875933902\n",
      "Loss: 35.50374292882408\n",
      "Loss: 35.50366113051247\n"
     ]
    },
    {
     "name": "stdout",
     "output_type": "stream",
     "text": [
      "Loss: 35.50352960973534\n",
      "Loss: 35.50349502763334\n",
      "Loss: 35.503420295172994\n",
      "Loss: 35.503399053648906\n"
     ]
    },
    {
     "name": "stdout",
     "output_type": "stream",
     "text": [
      "Loss: 35.5033261310656\n",
      "Loss: 35.50326777000913\n",
      "Loss: 35.503220835187946\n",
      "Loss: 35.503152343610736\n"
     ]
    },
    {
     "name": "stdout",
     "output_type": "stream",
     "text": [
      "Loss: 35.50311648369606\n",
      "Loss: 35.50301764474776\n",
      "Loss: 35.50295215388094\n"
     ]
    },
    {
     "name": "stdout",
     "output_type": "stream",
     "text": [
      "Loss: 35.50288678953991\n",
      "Loss: 35.50280651138238\n",
      "Loss: 35.50274770838942\n",
      "Loss: 35.50268276823382\n"
     ]
    },
    {
     "name": "stdout",
     "output_type": "stream",
     "text": [
      "Loss: 35.502627020585365\n",
      "Loss: 35.50258914420636\n",
      "Loss: 35.5025340094504\n",
      "Loss: 35.50250440978899\n"
     ]
    },
    {
     "name": "stdout",
     "output_type": "stream",
     "text": [
      "Loss: 35.502466810156506\n",
      "Loss: 35.50239758971277\n",
      "Loss: 35.5023211237076\n"
     ]
    },
    {
     "name": "stdout",
     "output_type": "stream",
     "text": [
      "Loss: 35.50228459069195\n",
      "Loss: 35.50219376528552\n"
     ]
    },
    {
     "name": "stdout",
     "output_type": "stream",
     "text": [
      "Loss: 35.502145182686796\n",
      "Loss: 35.50211310963828\n",
      "Loss: 35.50204361387863\n"
     ]
    },
    {
     "name": "stdout",
     "output_type": "stream",
     "text": [
      "Loss: 35.502007703658926\n",
      "Loss: 35.501977940091194\n",
      "Loss: 35.50194648156235\n"
     ]
    },
    {
     "name": "stdout",
     "output_type": "stream",
     "text": [
      "Loss: 35.50192807087173\n",
      "Loss: 35.5019133220927\n",
      "Loss: 35.50186985936954\n"
     ]
    },
    {
     "name": "stdout",
     "output_type": "stream",
     "text": [
      "Loss: 35.50183677921952\n",
      "Loss: 35.50179227940454\n",
      "Loss: 35.501770359019076\n"
     ]
    },
    {
     "name": "stdout",
     "output_type": "stream",
     "text": [
      "Loss: 35.501739564272874\n",
      "Loss: 35.5017322897794\n",
      "Loss: 35.50171235500074\n"
     ]
    },
    {
     "name": "stdout",
     "output_type": "stream",
     "text": [
      "Loss: 35.501703953228755\n",
      "Loss: 35.5017012266845\n",
      "Loss: 35.50169956955092\n"
     ]
    },
    {
     "name": "stdout",
     "output_type": "stream",
     "text": [
      "Loss: 35.501697904364015\n",
      "Loss: 35.501695280521616\n",
      "Loss: 35.50169250429815\n"
     ]
    },
    {
     "name": "stdout",
     "output_type": "stream",
     "text": [
      "Loss: 35.50168952432073\n",
      "Loss: 35.50168705549218\n",
      "Loss: 35.50168484714957\n"
     ]
    },
    {
     "name": "stdout",
     "output_type": "stream",
     "text": [
      "Loss: 35.501679980941645\n",
      "Loss: 35.50166557799336\n",
      "Loss: 35.501632596151325\n"
     ]
    },
    {
     "name": "stdout",
     "output_type": "stream",
     "text": [
      "Loss: 35.50159507893561\n",
      "Loss: 35.50152392362858\n",
      "Loss: 35.501468154148995\n",
      "Loss: 35.50144683677001\n"
     ]
    },
    {
     "name": "stdout",
     "output_type": "stream",
     "text": [
      "Loss: 35.50141966269198\n",
      "Loss: 35.501405082387265\n",
      "Loss: 35.50137981307063\n"
     ]
    },
    {
     "name": "stdout",
     "output_type": "stream",
     "text": [
      "Loss: 35.501352765171994\n",
      "Loss: 35.50134161001938\n",
      "Loss: 35.50133145573502\n"
     ]
    },
    {
     "name": "stdout",
     "output_type": "stream",
     "text": [
      "Loss: 35.50132335589873\n",
      "Loss: 35.50131776380789\n",
      "Loss: 35.50130905558014\n"
     ]
    },
    {
     "name": "stdout",
     "output_type": "stream",
     "text": [
      "Loss: 35.501305859855\n",
      "Loss: 35.501299803026164\n",
      "Loss: 35.501292138768974\n"
     ]
    },
    {
     "name": "stdout",
     "output_type": "stream",
     "text": [
      "Loss: 35.50128452271135\n",
      "Loss: 35.501278729499546\n",
      "Loss: 35.50127300999404\n"
     ]
    },
    {
     "name": "stdout",
     "output_type": "stream",
     "text": [
      "Loss: 35.501264436525396\n",
      "Loss: 35.501258582383535\n",
      "Loss: 35.501256601090155\n"
     ]
    },
    {
     "name": "stdout",
     "output_type": "stream",
     "text": [
      "Loss: 35.50125247459658\n",
      "Loss: 35.50125070988652\n",
      "Loss: 35.50124777452184\n"
     ]
    },
    {
     "name": "stdout",
     "output_type": "stream",
     "text": [
      "Loss: 35.5012425361916\n",
      "Loss: 35.501240214305604\n",
      "Loss: 35.50123334693207\n"
     ]
    },
    {
     "name": "stdout",
     "output_type": "stream",
     "text": [
      "Loss: 35.50123139128115\n",
      "Loss: 35.50122850350094\n",
      "Loss: 35.50122655862373\n"
     ]
    },
    {
     "name": "stdout",
     "output_type": "stream",
     "text": [
      "Loss: 35.501224066825436\n",
      "Loss: 35.50121874490747\n",
      "Loss: 35.50120988475869\n"
     ]
    },
    {
     "name": "stdout",
     "output_type": "stream",
     "text": [
      "Loss: 35.50119250745219\n",
      "Loss: 35.501181791594014\n",
      "Loss: 35.50117347235744\n"
     ]
    },
    {
     "name": "stdout",
     "output_type": "stream",
     "text": [
      "Loss: 35.50116933611569\n",
      "Loss: 35.501164152328144\n",
      "Loss: 35.50115978544979\n",
      "Loss: 35.50115020875494\n"
     ]
    },
    {
     "name": "stdout",
     "output_type": "stream",
     "text": [
      "Loss: 35.50113752161842\n",
      "Loss: 35.50112844107986\n",
      "Loss: 35.50111712641186\n",
      "Loss: 35.50111165518531\n"
     ]
    },
    {
     "name": "stdout",
     "output_type": "stream",
     "text": [
      "Loss: 35.50110046852741\n",
      "Loss: 35.50109194235989\n",
      "Loss: 35.50107333667486\n",
      "Loss: 35.50106642167397\n"
     ]
    },
    {
     "name": "stdout",
     "output_type": "stream",
     "text": [
      "Loss: 35.50103221806186\n",
      "Loss: 35.501017965441115\n",
      "Loss: 35.500978286027035\n",
      "Loss: 35.50095850387869\n"
     ]
    },
    {
     "name": "stdout",
     "output_type": "stream",
     "text": [
      "Loss: 35.50090446313022\n",
      "Loss: 35.50088904750538\n",
      "Loss: 35.500828626517475\n",
      "Loss: 35.500796847447845\n"
     ]
    },
    {
     "name": "stdout",
     "output_type": "stream",
     "text": [
      "Loss: 35.50069939557356\n",
      "Loss: 35.50058737842442\n",
      "Loss: 35.50055319013132\n"
     ]
    },
    {
     "name": "stdout",
     "output_type": "stream",
     "text": [
      "Loss: 35.500452366410244\n",
      "Loss: 35.50040861236508\n",
      "Loss: 35.50035312336458\n"
     ]
    },
    {
     "name": "stdout",
     "output_type": "stream",
     "text": [
      "Loss: 35.50031985158418\n",
      "Loss: 35.50025719815412\n",
      "Loss: 35.50019327310818\n",
      "Loss: 35.50007268573978\n"
     ]
    },
    {
     "name": "stdout",
     "output_type": "stream",
     "text": [
      "Loss: 35.49997911121746\n",
      "Loss: 35.499821788713355\n",
      "Loss: 35.49973890182369\n",
      "Loss: 35.499666658261766\n"
     ]
    },
    {
     "name": "stdout",
     "output_type": "stream",
     "text": [
      "Loss: 35.499604518263446\n",
      "Loss: 35.49955650621199\n",
      "Loss: 35.49954838029809\n",
      "Loss: 35.49953245711167\n"
     ]
    },
    {
     "name": "stdout",
     "output_type": "stream",
     "text": [
      "Loss: 35.49949132964173\n",
      "Loss: 35.49941262377451\n",
      "Loss: 35.499332832780084\n"
     ]
    },
    {
     "name": "stdout",
     "output_type": "stream",
     "text": [
      "Loss: 35.49931406822397\n",
      "Loss: 35.49926819561676\n",
      "Loss: 35.49920589891813\n"
     ]
    },
    {
     "name": "stdout",
     "output_type": "stream",
     "text": [
      "Loss: 35.49904941028271\n",
      "Loss: 35.49889304854169\n",
      "Loss: 35.49873866871958\n",
      "Loss: 35.49865796571584\n"
     ]
    },
    {
     "name": "stdout",
     "output_type": "stream",
     "text": [
      "Loss: 35.498631274247245\n",
      "Loss: 35.49859736090716\n",
      "Loss: 35.49857235211628\n"
     ]
    },
    {
     "name": "stdout",
     "output_type": "stream",
     "text": [
      "Loss: 35.49852839825695\n",
      "Loss: 35.498466970937734\n",
      "Loss: 35.49839464322681\n"
     ]
    },
    {
     "name": "stdout",
     "output_type": "stream",
     "text": [
      "Loss: 35.49829399338204\n",
      "Loss: 35.49820657597874\n",
      "Loss: 35.49815667540737\n",
      "Loss: 35.498115790192394\n"
     ]
    },
    {
     "name": "stdout",
     "output_type": "stream",
     "text": [
      "Loss: 35.498085561252374\n",
      "Loss: 35.49805094201486\n"
     ]
    },
    {
     "name": "stdout",
     "output_type": "stream",
     "text": [
      "Loss: 35.49803516224086\n",
      "Loss: 35.49799888686294\n",
      "Loss: 35.49796182667432\n"
     ]
    },
    {
     "name": "stdout",
     "output_type": "stream",
     "text": [
      "Loss: 35.497928101004526\n",
      "Loss: 35.49792228165186\n",
      "Loss: 35.497910030828095\n",
      "Loss: 35.49789719344138\n"
     ]
    },
    {
     "name": "stdout",
     "output_type": "stream",
     "text": [
      "Loss: 35.49788492842582\n",
      "Loss: 35.49787596564258\n",
      "Loss: 35.49786712476828\n"
     ]
    },
    {
     "name": "stdout",
     "output_type": "stream",
     "text": [
      "Loss: 35.49785300461655\n",
      "Loss: 35.497827478802925\n",
      "Loss: 35.49781713490969\n"
     ]
    },
    {
     "name": "stdout",
     "output_type": "stream",
     "text": [
      "Loss: 35.49781000184896\n",
      "Loss: 35.497807456083564\n",
      "Loss: 35.497802874274115\n"
     ]
    },
    {
     "name": "stdout",
     "output_type": "stream",
     "text": [
      "Loss: 35.49779808932368\n",
      "Loss: 35.497793840833666\n",
      "Loss: 35.497791709925565\n"
     ]
    },
    {
     "name": "stdout",
     "output_type": "stream",
     "text": [
      "Loss: 35.49779102671061\n",
      "Loss: 35.4977859325491\n",
      "Loss: 35.49778396279837\n"
     ]
    },
    {
     "name": "stdout",
     "output_type": "stream",
     "text": [
      "Loss: 35.49778173653722\n",
      "Loss: 35.497777174122774\n",
      "Loss: 35.497769995480354\n"
     ]
    },
    {
     "name": "stdout",
     "output_type": "stream",
     "text": [
      "Loss: 35.49776442077755\n",
      "Loss: 35.49776180593193\n",
      "Loss: 35.49775547454888\n"
     ]
    },
    {
     "name": "stdout",
     "output_type": "stream",
     "text": [
      "Loss: 35.49775322789233\n",
      "Loss: 35.497751233003136\n"
     ]
    },
    {
     "name": "stdout",
     "output_type": "stream",
     "text": [
      "Loss: 35.49774742203983\n",
      "Loss: 35.497742435957335\n",
      "Loss: 35.497737831608234\n",
      "Loss: 35.497731877142286\n"
     ]
    },
    {
     "name": "stdout",
     "output_type": "stream",
     "text": [
      "Loss: 35.49772947184789\n",
      "Loss: 35.49773011092109\n",
      "Loss: 35.49773066706151\n"
     ]
    },
    {
     "name": "stdout",
     "output_type": "stream",
     "text": [
      "Loss: 35.4977288417087\n",
      "Loss: 35.4977244912755\n"
     ]
    },
    {
     "name": "stdout",
     "output_type": "stream",
     "text": [
      "Loss: 35.49771619360269\n",
      "Loss: 35.49768145084141\n",
      "Loss: 35.49764145636457\n"
     ]
    },
    {
     "name": "stdout",
     "output_type": "stream",
     "text": [
      "Loss: 35.49761960184881\n",
      "Loss: 35.497564448625866\n",
      "Loss: 35.49751065878763\n"
     ]
    },
    {
     "name": "stdout",
     "output_type": "stream",
     "text": [
      "Loss: 35.497441738874414\n",
      "Loss: 35.4974302131801\n",
      "Loss: 35.49741065119567\n"
     ]
    },
    {
     "name": "stdout",
     "output_type": "stream",
     "text": [
      "Loss: 35.49739448258077\n",
      "Loss: 35.49738646707478\n",
      "Loss: 35.49737116554711\n"
     ]
    },
    {
     "name": "stdout",
     "output_type": "stream",
     "text": [
      "Loss: 35.49736160030331\n",
      "Loss: 35.497357525541965\n",
      "Loss: 35.49735410144172\n",
      "Loss: 35.4973499264544\n"
     ]
    },
    {
     "name": "stdout",
     "output_type": "stream",
     "text": [
      "Loss: 35.49734944830954\n",
      "Loss: 35.49734894185235\n",
      "Loss: 35.497346333532015\n"
     ]
    },
    {
     "name": "stdout",
     "output_type": "stream",
     "text": [
      "Loss: 35.49734564444391\n",
      "Loss: 35.49734363674371\n",
      "Loss: 35.49734036612564\n"
     ]
    },
    {
     "name": "stdout",
     "output_type": "stream",
     "text": [
      "Loss: 35.49733739807363\n",
      "Loss: 35.49732784883815\n",
      "Loss: 35.497315059495556\n"
     ]
    },
    {
     "name": "stdout",
     "output_type": "stream",
     "text": [
      "Loss: 35.49731386366682\n",
      "Loss: 35.49730418490384\n",
      "Loss: 35.497300458777346\n",
      "Loss: 35.49729957087892\n"
     ]
    },
    {
     "name": "stdout",
     "output_type": "stream",
     "text": [
      "Loss: 35.49729678649731\n",
      "Loss: 35.49729480200241\n",
      "Loss: 35.49729437443991\n"
     ]
    },
    {
     "name": "stdout",
     "output_type": "stream",
     "text": [
      "Loss: 35.49729287745509\n",
      "Loss: 35.49729102146686\n",
      "Loss: 35.497290909175966\n"
     ]
    },
    {
     "name": "stdout",
     "output_type": "stream",
     "text": [
      "Loss: 35.497289512377336\n",
      "Loss: 35.49729116535625\n",
      "Loss: 35.49729002648986\n"
     ]
    },
    {
     "name": "stdout",
     "output_type": "stream",
     "text": [
      "Loss: 35.49728930689418\n",
      "Loss: 35.49729002725302\n",
      "Loss: 35.49729028210858\n"
     ]
    },
    {
     "name": "stdout",
     "output_type": "stream",
     "text": [
      "Loss: 35.49728899743125\n",
      "Loss: 35.497289522778495\n",
      "Loss: 35.49728828775664\n"
     ]
    },
    {
     "name": "stdout",
     "output_type": "stream",
     "text": [
      "Loss: 35.497289641102036\n",
      "Loss: 35.497288874713284\n",
      "Loss: 35.49728854183496\n"
     ]
    },
    {
     "name": "stdout",
     "output_type": "stream",
     "text": [
      "Loss: 35.49728824521217\n",
      "Loss: 35.4972906016872\n"
     ]
    },
    {
     "name": "stdout",
     "output_type": "stream",
     "text": [
      "Loss: 35.49728722424035\n",
      "Loss: 35.49728683639864\n",
      "Loss: 35.49728287090364\n"
     ]
    },
    {
     "name": "stdout",
     "output_type": "stream",
     "text": [
      "Loss: 35.497278804496574\n",
      "Loss: 35.49727314161509\n",
      "Loss: 35.4972717373628\n",
      "Loss: 35.497270634321424\n"
     ]
    },
    {
     "name": "stdout",
     "output_type": "stream",
     "text": [
      "Loss: 35.49726420338453\n",
      "Loss: 35.497260054674506\n",
      "Loss: 35.497256406864445\n"
     ]
    },
    {
     "name": "stdout",
     "output_type": "stream",
     "text": [
      "Loss: 35.49725377920437\n",
      "Loss: 35.49725146848916\n",
      "Loss: 35.4972480133593\n"
     ]
    },
    {
     "name": "stdout",
     "output_type": "stream",
     "text": [
      "Loss: 35.49724203391768\n",
      "Loss: 35.497234101635634\n",
      "Loss: 35.4972277519093\n"
     ]
    },
    {
     "name": "stdout",
     "output_type": "stream",
     "text": [
      "Loss: 35.4972134288371\n",
      "Loss: 35.497204161334245\n",
      "Loss: 35.4971946660861\n"
     ]
    },
    {
     "name": "stdout",
     "output_type": "stream",
     "text": [
      "Loss: 35.49718183821107\n",
      "Loss: 35.49718000724545\n",
      "Loss: 35.497166069593135\n"
     ]
    },
    {
     "name": "stdout",
     "output_type": "stream",
     "text": [
      "Loss: 35.49715906785857\n",
      "Loss: 35.49714832253591\n",
      "Loss: 35.49713971390235\n"
     ]
    },
    {
     "name": "stdout",
     "output_type": "stream",
     "text": [
      "Loss: 35.49713228123716\n",
      "Loss: 35.49712082075053\n",
      "Loss: 35.49711269073627\n"
     ]
    },
    {
     "name": "stdout",
     "output_type": "stream",
     "text": [
      "Loss: 35.49710542437832\n",
      "Loss: 35.49709952733886\n",
      "Loss: 35.497091466127245\n"
     ]
    },
    {
     "name": "stdout",
     "output_type": "stream",
     "text": [
      "Loss: 35.49707793987153\n",
      "Loss: 35.49706565769743\n",
      "Loss: 35.49705299095621\n"
     ]
    },
    {
     "name": "stdout",
     "output_type": "stream",
     "text": [
      "Loss: 35.497034979362056\n",
      "Loss: 35.49701689464669\n"
     ]
    },
    {
     "name": "stdout",
     "output_type": "stream",
     "text": [
      "Loss: 35.49699570576115\n",
      "Loss: 35.49698211534475\n",
      "Loss: 35.49694161261042\n"
     ]
    },
    {
     "name": "stdout",
     "output_type": "stream",
     "text": [
      "Loss: 35.49692624582868\n",
      "Loss: 35.496881491735785\n",
      "Loss: 35.49685901246893\n"
     ]
    },
    {
     "name": "stdout",
     "output_type": "stream",
     "text": [
      "Loss: 35.496784835983235\n",
      "Loss: 35.49676676238078\n",
      "Loss: 35.4966937589803\n"
     ]
    },
    {
     "name": "stdout",
     "output_type": "stream",
     "text": [
      "Loss: 35.4966367269793\n",
      "Loss: 35.4965347700518\n",
      "Loss: 35.49648743493415\n"
     ]
    },
    {
     "name": "stdout",
     "output_type": "stream",
     "text": [
      "Loss: 35.49639116630566\n",
      "Loss: 35.49624742338541\n",
      "Loss: 35.496154468011476\n"
     ]
    },
    {
     "name": "stdout",
     "output_type": "stream",
     "text": [
      "Loss: 35.49589450293547\n",
      "Loss: 35.49580163100387\n",
      "Loss: 35.495730050099915\n",
      "Loss: 35.495640373416\n"
     ]
    },
    {
     "name": "stdout",
     "output_type": "stream",
     "text": [
      "Loss: 35.49559747059637\n",
      "Loss: 35.49550011298813\n",
      "Loss: 35.495413977600656\n"
     ]
    },
    {
     "name": "stdout",
     "output_type": "stream",
     "text": [
      "Loss: 35.49525976799991\n",
      "Loss: 35.495207556800594\n"
     ]
    },
    {
     "name": "stdout",
     "output_type": "stream",
     "text": [
      "Loss: 35.49516355545616\n",
      "Loss: 35.4951488184207\n",
      "Loss: 35.49514312717828\n"
     ]
    },
    {
     "name": "stdout",
     "output_type": "stream",
     "text": [
      "Loss: 35.49513833105341\n",
      "Loss: 35.495134811039925\n",
      "Loss: 35.4951260545819\n"
     ]
    },
    {
     "name": "stdout",
     "output_type": "stream",
     "text": [
      "Loss: 35.495115559162116\n",
      "Loss: 35.49511134866549\n"
     ]
    },
    {
     "name": "stdout",
     "output_type": "stream",
     "text": [
      "Loss: 35.49511027644935\n",
      "Loss: 35.495109527656076\n"
     ]
    },
    {
     "name": "stdout",
     "output_type": "stream",
     "text": [
      "Loss: 35.495108083449075\n",
      "Loss: 35.495107517757305\n"
     ]
    },
    {
     "name": "stdout",
     "output_type": "stream",
     "text": [
      "Loss: 35.495106643024705\n",
      "Loss: 35.49510569812766\n"
     ]
    },
    {
     "name": "stdout",
     "output_type": "stream",
     "text": [
      "Loss: 35.4950994136983\n",
      "Loss: 35.49509609698983\n"
     ]
    },
    {
     "name": "stdout",
     "output_type": "stream",
     "text": [
      "Loss: 35.49509296715684\n",
      "Loss: 35.495093468266354\n",
      "Loss: 35.49509165123922\n"
     ]
    },
    {
     "name": "stdout",
     "output_type": "stream",
     "text": [
      "Loss: 35.495093156638134\n",
      "Loss: 35.495091474579894\n"
     ]
    },
    {
     "name": "stdout",
     "output_type": "stream",
     "text": [
      "Loss: 35.495089095023566\n",
      "Loss: 35.49508426802233\n"
     ]
    },
    {
     "name": "stdout",
     "output_type": "stream",
     "text": [
      "Loss: 35.49507824810603\n",
      "Loss: 35.495074420037916\n",
      "Loss: 35.495071013603\n"
     ]
    },
    {
     "name": "stdout",
     "output_type": "stream",
     "text": [
      "Loss: 35.49507003266629\n",
      "Loss: 35.49506941359045\n"
     ]
    },
    {
     "name": "stdout",
     "output_type": "stream",
     "text": [
      "Loss: 35.49507000429124\n",
      "Loss: 35.49507025695191\n"
     ]
    },
    {
     "name": "stdout",
     "output_type": "stream",
     "text": [
      "Loss: 35.495069804105476\n",
      "Loss: 35.49506932275541\n",
      "Loss: 35.49506977289035\n"
     ]
    },
    {
     "name": "stdout",
     "output_type": "stream",
     "text": [
      "Loss: 35.49506918499466\n",
      "Loss: 35.49506768167786\n"
     ]
    },
    {
     "name": "stdout",
     "output_type": "stream",
     "text": [
      "Loss: 35.495064190497686\n",
      "Loss: 35.49504842144304\n",
      "Loss: 35.49503748106864\n"
     ]
    },
    {
     "name": "stdout",
     "output_type": "stream",
     "text": [
      "Loss: 35.495013114688284\n",
      "Loss: 35.4950068639913\n",
      "Loss: 35.49499049825407\n",
      "Loss: 35.49498658960058\n"
     ]
    },
    {
     "name": "stdout",
     "output_type": "stream",
     "text": [
      "Loss: 35.49498358641533\n",
      "Loss: 35.4949827425552\n",
      "Loss: 35.49498118900205\n",
      "Loss: 35.494980312313025\n"
     ]
    },
    {
     "name": "stdout",
     "output_type": "stream",
     "text": [
      "Loss: 35.49497981211805\n",
      "Loss: 35.49497878445832\n",
      "Loss: 35.49497803145731\n"
     ]
    },
    {
     "name": "stdout",
     "output_type": "stream",
     "text": [
      "Loss: 35.494977469012056\n",
      "Loss: 35.494975743428455\n"
     ]
    },
    {
     "name": "stdout",
     "output_type": "stream",
     "text": [
      "Loss: 35.49497703724353\n",
      "Loss: 35.494975472280316\n"
     ]
    },
    {
     "name": "stdout",
     "output_type": "stream",
     "text": [
      "Loss: 35.49497218320214\n",
      "Loss: 35.49497282112286\n",
      "Loss: 35.49497405142333\n"
     ]
    },
    {
     "name": "stdout",
     "output_type": "stream",
     "text": [
      "Loss: 35.49497116926777\n",
      "Loss: 35.49497051615034\n",
      "Loss: 35.49496974483663\n"
     ]
    },
    {
     "name": "stdout",
     "output_type": "stream",
     "text": [
      "Loss: 35.49497066297711\n",
      "Loss: 35.49497088553821\n",
      "Loss: 35.494970402116124\n"
     ]
    },
    {
     "name": "stdout",
     "output_type": "stream",
     "text": [
      "Loss: 35.49497121244168\n",
      "Loss: 35.49497060200667\n",
      "Loss: 35.49497084994122\n"
     ]
    },
    {
     "name": "stdout",
     "output_type": "stream",
     "text": [
      "Loss: 35.494969905278445\n",
      "Loss: 35.49497056884521\n"
     ]
    },
    {
     "name": "stdout",
     "output_type": "stream",
     "text": [
      "Loss: 35.49496974317091\n",
      "Loss: 35.49496911145707\n"
     ]
    },
    {
     "name": "stdout",
     "output_type": "stream",
     "text": [
      "Loss: 35.494970352357406\n",
      "Loss: 35.494970021072604\n"
     ]
    },
    {
     "name": "stdout",
     "output_type": "stream",
     "text": [
      "Loss: 35.4949713876167\n",
      "Loss: 35.49497108655835\n"
     ]
    },
    {
     "name": "stdout",
     "output_type": "stream",
     "text": [
      "Loss: 35.494970014127325\n",
      "Loss: 35.49496966761583\n"
     ]
    },
    {
     "name": "stdout",
     "output_type": "stream",
     "text": [
      "Loss: 35.49496404419742\n",
      "Loss: 35.49496366810514\n",
      "Loss: 35.4949626689933\n"
     ]
    },
    {
     "name": "stdout",
     "output_type": "stream",
     "text": [
      "Loss: 35.49495685854134\n",
      "Loss: 35.494952206700766\n",
      "Loss: 35.49494905508848\n"
     ]
    },
    {
     "name": "stdout",
     "output_type": "stream",
     "text": [
      "Loss: 35.49493809486749\n",
      "Loss: 35.49493577430364\n",
      "Loss: 35.49492595769635\n"
     ]
    },
    {
     "name": "stdout",
     "output_type": "stream",
     "text": [
      "Loss: 35.49492018332577\n",
      "Loss: 35.49491560862981\n",
      "Loss: 35.49491122144938\n",
      "Loss: 35.49490269708126\n"
     ]
    },
    {
     "name": "stdout",
     "output_type": "stream",
     "text": [
      "Loss: 35.4948995578193\n",
      "Loss: 35.49489623126102\n",
      "Loss: 35.49489121650186\n"
     ]
    },
    {
     "name": "stdout",
     "output_type": "stream",
     "text": [
      "Loss: 35.49488559571642\n",
      "Loss: 35.49488162542928\n",
      "Loss: 35.49488107460035\n"
     ]
    },
    {
     "name": "stdout",
     "output_type": "stream",
     "text": [
      "Loss: 35.49487609238189\n",
      "Loss: 35.49487503138931\n",
      "Loss: 35.494871710185656\n"
     ]
    },
    {
     "name": "stdout",
     "output_type": "stream",
     "text": [
      "Loss: 35.49487048071294\n",
      "Loss: 35.49486949024563\n",
      "Loss: 35.49486688347312\n"
     ]
    },
    {
     "name": "stdout",
     "output_type": "stream",
     "text": [
      "Loss: 35.49486218592037\n",
      "Loss: 35.494859229403176\n",
      "Loss: 35.494858908260944\n"
     ]
    },
    {
     "name": "stdout",
     "output_type": "stream",
     "text": [
      "Loss: 35.49485695041902\n",
      "Loss: 35.49485589926765\n",
      "Loss: 35.494856292021325\n"
     ]
    },
    {
     "name": "stdout",
     "output_type": "stream",
     "text": [
      "Loss: 35.49485573834252\n",
      "Loss: 35.49485368251533\n",
      "Loss: 35.49485295409436\n"
     ]
    },
    {
     "name": "stdout",
     "output_type": "stream",
     "text": [
      "Loss: 35.49485244059532\n",
      "Loss: 35.49485275616197\n",
      "Loss: 35.49485005895907\n"
     ]
    },
    {
     "name": "stdout",
     "output_type": "stream",
     "text": [
      "Loss: 35.49484873232823\n",
      "Loss: 35.494848071080504\n",
      "Loss: 35.49484579212131\n"
     ]
    },
    {
     "name": "stdout",
     "output_type": "stream",
     "text": [
      "Loss: 35.494844687907545\n",
      "Loss: 35.494844365116286\n",
      "Loss: 35.49484200359588\n"
     ]
    },
    {
     "name": "stdout",
     "output_type": "stream",
     "text": [
      "Loss: 35.49483961634693\n",
      "Loss: 35.4948382766392\n",
      "Loss: 35.494838127689604\n"
     ]
    },
    {
     "name": "stdout",
     "output_type": "stream",
     "text": [
      "Loss: 35.49483692654283\n",
      "Loss: 35.49483589465903\n",
      "Loss: 35.49483640548301\n"
     ]
    },
    {
     "name": "stdout",
     "output_type": "stream",
     "text": [
      "Loss: 35.49483504895369\n",
      "Loss: 35.49483480182707\n",
      "Loss: 35.49483396075314\n"
     ]
    },
    {
     "name": "stdout",
     "output_type": "stream",
     "text": [
      "Loss: 35.49483175956205\n",
      "Loss: 35.49482769520778\n",
      "Loss: 35.4948256117172\n",
      "Loss: 35.49482395473766\n"
     ]
    },
    {
     "name": "stdout",
     "output_type": "stream",
     "text": [
      "Loss: 35.49482434817607\n",
      "Loss: 35.494822537443255\n",
      "Loss: 35.4948211862188\n"
     ]
    },
    {
     "name": "stdout",
     "output_type": "stream",
     "text": [
      "Loss: 35.49481978904513\n",
      "Loss: 35.4948179237257\n",
      "Loss: 35.49481690968874\n"
     ]
    },
    {
     "name": "stdout",
     "output_type": "stream",
     "text": [
      "Loss: 35.49481413863125\n",
      "Loss: 35.49481427764671\n",
      "Loss: 35.494812650207194\n"
     ]
    },
    {
     "name": "stdout",
     "output_type": "stream",
     "text": [
      "Loss: 35.49480945346239\n",
      "Loss: 35.49480835822041\n",
      "Loss: 35.49480784471103\n"
     ]
    },
    {
     "name": "stdout",
     "output_type": "stream",
     "text": [
      "Loss: 35.49480363674184\n",
      "Loss: 35.49480014025139\n",
      "Loss: 35.49480094082702\n"
     ]
    },
    {
     "name": "stdout",
     "output_type": "stream",
     "text": [
      "Loss: 35.49480065273864\n",
      "Loss: 35.494796970703895\n",
      "Loss: 35.4947976104544\n"
     ]
    },
    {
     "name": "stdout",
     "output_type": "stream",
     "text": [
      "Loss: 35.49479598382481\n",
      "Loss: 35.49479609803064\n",
      "Loss: 35.494795875824124\n"
     ]
    },
    {
     "name": "stdout",
     "output_type": "stream",
     "text": [
      "Loss: 35.49479530756575\n",
      "Loss: 35.49479420956991\n",
      "Loss: 35.494794731524806\n"
     ]
    },
    {
     "name": "stdout",
     "output_type": "stream",
     "text": [
      "Loss: 35.49479251207589\n",
      "Loss: 35.494792017114634\n",
      "Loss: 35.49478735073673\n"
     ]
    },
    {
     "name": "stdout",
     "output_type": "stream",
     "text": [
      "Loss: 35.494788059255214\n",
      "Loss: 35.49478703101932\n",
      "Loss: 35.49478516994105\n",
      "Loss: 35.49478403142368\n"
     ]
    },
    {
     "name": "stdout",
     "output_type": "stream",
     "text": [
      "Loss: 35.49478300955349\n",
      "Loss: 35.49478211780676\n",
      "Loss: 35.49478136432708\n",
      "Loss: 35.49478077256338\n"
     ]
    },
    {
     "name": "stdout",
     "output_type": "stream",
     "text": [
      "Loss: 35.49478090627345\n",
      "Loss: 35.494778789267826\n"
     ]
    },
    {
     "name": "stdout",
     "output_type": "stream",
     "text": [
      "Loss: 35.49477769616587\n",
      "Loss: 35.4947785521455\n",
      "Loss: 35.49477732108886\n"
     ]
    },
    {
     "name": "stdout",
     "output_type": "stream",
     "text": [
      "Loss: 35.49477646018575\n",
      "Loss: 35.49477434923054\n"
     ]
    },
    {
     "name": "stdout",
     "output_type": "stream",
     "text": [
      "Loss: 35.4947739372235\n",
      "Loss: 35.49477257140178\n",
      "Loss: 35.49477353560497\n"
     ]
    },
    {
     "name": "stdout",
     "output_type": "stream",
     "text": [
      "Loss: 35.494772022227444\n",
      "Loss: 35.49477162280257\n",
      "Loss: 35.494772081299296\n"
     ]
    },
    {
     "name": "stdout",
     "output_type": "stream",
     "text": [
      "Loss: 35.49477071802817\n",
      "Loss: 35.49476989519404\n",
      "Loss: 35.494769093169474\n"
     ]
    },
    {
     "name": "stdout",
     "output_type": "stream",
     "text": [
      "Loss: 35.494767829766964\n",
      "Loss: 35.49476654894335\n"
     ]
    },
    {
     "name": "stdout",
     "output_type": "stream",
     "text": [
      "Loss: 35.49476570348422\n",
      "Loss: 35.494764103605384\n",
      "Loss: 35.49476326888502\n"
     ]
    },
    {
     "name": "stdout",
     "output_type": "stream",
     "text": [
      "Loss: 35.49476009383272\n",
      "Loss: 35.49475983077746\n",
      "Loss: 35.49475926629663\n"
     ]
    },
    {
     "name": "stdout",
     "output_type": "stream",
     "text": [
      "Loss: 35.49475683575911\n",
      "Loss: 35.494754562509684\n",
      "Loss: 35.49475334892585\n"
     ]
    },
    {
     "name": "stdout",
     "output_type": "stream",
     "text": [
      "Loss: 35.49475293739555\n",
      "Loss: 35.49475015486665\n",
      "Loss: 35.49475014994468\n"
     ]
    },
    {
     "name": "stdout",
     "output_type": "stream",
     "text": [
      "Loss: 35.494746613422876\n",
      "Loss: 35.49474623322149\n",
      "Loss: 35.49474204698045\n"
     ]
    },
    {
     "name": "stdout",
     "output_type": "stream",
     "text": [
      "Loss: 35.49474027285147\n",
      "Loss: 35.49473854743697\n",
      "Loss: 35.4947338811884\n"
     ]
    },
    {
     "name": "stdout",
     "output_type": "stream",
     "text": [
      "Loss: 35.49473034255361\n",
      "Loss: 35.49472734050004\n",
      "Loss: 35.494727431177196\n",
      "Loss: 35.49472293291453\n"
     ]
    },
    {
     "name": "stdout",
     "output_type": "stream",
     "text": [
      "Loss: 35.49472321299588\n",
      "Loss: 35.494719359447856\n",
      "Loss: 35.49471877501046\n"
     ]
    },
    {
     "name": "stdout",
     "output_type": "stream",
     "text": [
      "Loss: 35.49471592903928\n",
      "Loss: 35.49471243744726\n"
     ]
    },
    {
     "name": "stdout",
     "output_type": "stream",
     "text": [
      "Loss: 35.4947072569215\n",
      "Loss: 35.494704680161284\n",
      "Loss: 35.49470328985126\n"
     ]
    },
    {
     "name": "stdout",
     "output_type": "stream",
     "text": [
      "Loss: 35.49470045067695\n",
      "Loss: 35.49469945447756\n",
      "Loss: 35.49469708375309\n"
     ]
    },
    {
     "name": "stdout",
     "output_type": "stream",
     "text": [
      "Loss: 35.494694529409216\n",
      "Loss: 35.494693256528535\n",
      "Loss: 35.49469230470365\n"
     ]
    },
    {
     "name": "stdout",
     "output_type": "stream",
     "text": [
      "Loss: 35.494689503588546\n",
      "Loss: 35.494688380878245\n",
      "Loss: 35.49468768639985\n"
     ]
    },
    {
     "name": "stdout",
     "output_type": "stream",
     "text": [
      "Loss: 35.494686916451364\n",
      "Loss: 35.49468589768958\n",
      "Loss: 35.49468444581569\n"
     ]
    },
    {
     "name": "stdout",
     "output_type": "stream",
     "text": [
      "Loss: 35.494685128203734\n",
      "Loss: 35.4946853471766\n",
      "Loss: 35.49468402873921\n"
     ]
    },
    {
     "name": "stdout",
     "output_type": "stream",
     "text": [
      "Loss: 35.49468503081349\n",
      "Loss: 35.494684801035085\n",
      "Loss: 35.49468438872503\n"
     ]
    },
    {
     "name": "stdout",
     "output_type": "stream",
     "text": [
      "Loss: 35.49468494726993\n",
      "Loss: 35.49468526903316\n",
      "Loss: 35.49468530991011\n"
     ]
    },
    {
     "name": "stdout",
     "output_type": "stream",
     "text": [
      "Loss: 35.49468600978571\n",
      "Loss: 35.49468466854684\n",
      "Loss: 35.49468390177647\n"
     ]
    },
    {
     "name": "stdout",
     "output_type": "stream",
     "text": [
      "Loss: 35.49468514845111\n",
      "Loss: 35.49468486183152\n",
      "Loss: 35.49468426699707\n"
     ]
    },
    {
     "name": "stdout",
     "output_type": "stream",
     "text": [
      "Loss: 35.49468505640772\n",
      "Loss: 35.494685067392595\n",
      "Loss: 35.49468456753616\n"
     ]
    },
    {
     "name": "stdout",
     "output_type": "stream",
     "text": [
      "Loss: 35.494685344398285\n",
      "Loss: 35.49468463368278\n",
      "Loss: 35.494683602457435\n"
     ]
    },
    {
     "name": "stdout",
     "output_type": "stream",
     "text": [
      "Loss: 35.49468530671597\n",
      "Loss: 35.494684936734295\n"
     ]
    },
    {
     "name": "stdout",
     "output_type": "stream",
     "text": [
      "Loss: 35.49468486434743\n",
      "Loss: 35.494683730835455\n",
      "Loss: 35.49468246814774\n"
     ]
    },
    {
     "name": "stdout",
     "output_type": "stream",
     "text": [
      "Loss: 35.494683890035944\n",
      "Loss: 35.49468438121537\n",
      "Loss: 35.494682608727594\n"
     ]
    },
    {
     "name": "stdout",
     "output_type": "stream",
     "text": [
      "Loss: 35.49468279610909\n",
      "Loss: 35.494681269980894\n",
      "Loss: 35.4946812762439\n"
     ]
    },
    {
     "name": "stdout",
     "output_type": "stream",
     "text": [
      "Loss: 35.494679500519275\n",
      "Loss: 35.49467819193493\n",
      "Loss: 35.4946789656277\n"
     ]
    },
    {
     "name": "stdout",
     "output_type": "stream",
     "text": [
      "Loss: 35.494677940263784\n",
      "Loss: 35.494675408096725\n",
      "Loss: 35.49467434429766\n"
     ]
    },
    {
     "name": "stdout",
     "output_type": "stream",
     "text": [
      "Loss: 35.49467413807289\n",
      "Loss: 35.49467271578056\n",
      "Loss: 35.49467329594366\n"
     ]
    },
    {
     "name": "stdout",
     "output_type": "stream",
     "text": [
      "Loss: 35.494671129237105\n",
      "Loss: 35.49467100088786\n",
      "Loss: 35.49467237105336\n"
     ]
    },
    {
     "name": "stdout",
     "output_type": "stream",
     "text": [
      "Loss: 35.494670310799194\n",
      "Loss: 35.494670851597775\n",
      "Loss: 35.49467129130625\n"
     ]
    },
    {
     "name": "stdout",
     "output_type": "stream",
     "text": [
      "Loss: 35.49466975976841\n",
      "Loss: 35.49466889271063\n",
      "Loss: 35.494668404494874\n"
     ]
    },
    {
     "name": "stdout",
     "output_type": "stream",
     "text": [
      "Loss: 35.494668282008554\n",
      "Loss: 35.494669073697146\n",
      "Loss: 35.494668619420366\n"
     ]
    },
    {
     "name": "stdout",
     "output_type": "stream",
     "text": [
      "Loss: 35.49466760046643\n",
      "Loss: 35.494668615694884\n",
      "Loss: 35.4946677447756\n",
      "Loss: 35.494667969147294\n"
     ]
    },
    {
     "name": "stdout",
     "output_type": "stream",
     "text": [
      "Loss: 35.49466937382049\n",
      "Loss: 35.49466725971664\n",
      "Loss: 35.494669503687994\n"
     ]
    },
    {
     "name": "stdout",
     "output_type": "stream",
     "text": [
      "Loss: 35.494667281630775\n",
      "Loss: 35.49466899570104\n",
      "Loss: 35.49466848245178\n"
     ]
    },
    {
     "name": "stdout",
     "output_type": "stream",
     "text": [
      "Loss: 35.494667618924886\n",
      "Loss: 35.49466839477546\n"
     ]
    },
    {
     "name": "stdout",
     "output_type": "stream",
     "text": [
      "Loss: 35.49466839055137\n",
      "Loss: 35.494668470828586\n"
     ]
    },
    {
     "name": "stdout",
     "output_type": "stream",
     "text": [
      "Loss: 35.49466778006008\n",
      "Loss: 35.49466662559738\n",
      "Loss: 35.494665447659116\n"
     ]
    },
    {
     "name": "stdout",
     "output_type": "stream",
     "text": [
      "Loss: 35.49466487342257\n",
      "Loss: 35.49466436253714\n",
      "Loss: 35.494664695927305\n"
     ]
    },
    {
     "name": "stdout",
     "output_type": "stream",
     "text": [
      "Loss: 35.4946646005913\n",
      "Loss: 35.49466425671159\n",
      "Loss: 35.49466317941459\n"
     ]
    },
    {
     "name": "stdout",
     "output_type": "stream",
     "text": [
      "Loss: 35.494662184120564\n",
      "Loss: 35.49466305117505\n",
      "Loss: 35.494662450787075\n"
     ]
    },
    {
     "name": "stdout",
     "output_type": "stream",
     "text": [
      "Loss: 35.494663278616784\n",
      "Loss: 35.494661592017714\n",
      "Loss: 35.494661423001034\n"
     ]
    },
    {
     "name": "stdout",
     "output_type": "stream",
     "text": [
      "Loss: 35.49466122673418\n",
      "Loss: 35.49466084222635\n",
      "Loss: 35.4946601307536\n"
     ]
    },
    {
     "name": "stdout",
     "output_type": "stream",
     "text": [
      "Loss: 35.49466090707521\n",
      "Loss: 35.49466106149383\n",
      "Loss: 35.494659715035695\n"
     ]
    },
    {
     "name": "stdout",
     "output_type": "stream",
     "text": [
      "Loss: 35.494661067204724\n",
      "Loss: 35.49466035040474\n",
      "Loss: 35.49466002042966\n"
     ]
    },
    {
     "name": "stdout",
     "output_type": "stream",
     "text": [
      "Loss: 35.49466080000568\n",
      "Loss: 35.494660377364106\n",
      "Loss: 35.494661529418465\n",
      "Loss: 35.49466005222473\n"
     ]
    },
    {
     "name": "stdout",
     "output_type": "stream",
     "text": [
      "Loss: 35.49466056902986\n",
      "Loss: 35.49466068199526\n",
      "Loss: 35.4946613872291\n"
     ]
    },
    {
     "name": "stdout",
     "output_type": "stream",
     "text": [
      "Loss: 35.49466041385789\n",
      "Loss: 35.49466099851681\n",
      "Loss: 35.4946596513096\n"
     ]
    },
    {
     "name": "stdout",
     "output_type": "stream",
     "text": [
      "Loss: 35.494659908692995\n",
      "Loss: 35.49466070342191\n",
      "Loss: 35.49466011556129\n"
     ]
    },
    {
     "name": "stdout",
     "output_type": "stream",
     "text": [
      "Loss: 35.49466057439145\n",
      "Loss: 35.49465876606079\n",
      "Loss: 35.494660009932744\n",
      "Loss: 35.49466029581371\n"
     ]
    },
    {
     "name": "stdout",
     "output_type": "stream",
     "text": [
      "Loss: 35.49465931145165\n",
      "Loss: 35.494659983269095\n",
      "Loss: 35.494661746005384\n"
     ]
    },
    {
     "name": "stdout",
     "output_type": "stream",
     "text": [
      "Loss: 35.49465984210096\n",
      "Loss: 35.49465925842157\n",
      "Loss: 35.49466036895635\n"
     ]
    },
    {
     "name": "stdout",
     "output_type": "stream",
     "text": [
      "Loss: 35.494660644522384\n",
      "Loss: 35.4946595445266\n",
      "Loss: 35.49466014434878\n",
      "Loss: 35.49465917074639\n"
     ]
    },
    {
     "name": "stdout",
     "output_type": "stream",
     "text": [
      "Loss: 35.494659727918716\n",
      "Loss: 35.49465881197933\n",
      "Loss: 35.49465819492977\n"
     ]
    },
    {
     "name": "stdout",
     "output_type": "stream",
     "text": [
      "Loss: 35.49465927244847\n",
      "Loss: 35.49465961890727\n",
      "Loss: 35.49465943134086\n"
     ]
    },
    {
     "name": "stdout",
     "output_type": "stream",
     "text": [
      "Loss: 35.494659405030276\n",
      "Loss: 35.49465917756535\n",
      "Loss: 35.49465900957958\n"
     ]
    },
    {
     "name": "stdout",
     "output_type": "stream",
     "text": [
      "Loss: 35.494659151263455\n",
      "Loss: 35.494659209112704\n",
      "Loss: 35.494659269586656\n"
     ]
    },
    {
     "name": "stdout",
     "output_type": "stream",
     "text": [
      "Loss: 35.49465873518762\n",
      "Loss: 35.49466014501191\n",
      "Loss: 35.49465979201077\n"
     ]
    },
    {
     "name": "stdout",
     "output_type": "stream",
     "text": [
      "Loss: 35.494659213066264\n",
      "Loss: 35.49465973494863\n"
     ]
    },
    {
     "name": "stdout",
     "output_type": "stream",
     "text": [
      "Loss: 35.49465964798728\n",
      "Loss: 35.494660733657525\n",
      "Loss: 35.49465916619939\n"
     ]
    },
    {
     "name": "stdout",
     "output_type": "stream",
     "text": [
      "Loss: 35.49465979644327\n",
      "Loss: 35.49465892662597\n"
     ]
    },
    {
     "name": "stdout",
     "output_type": "stream",
     "text": [
      "Loss: 35.49465812921187\n",
      "Loss: 35.4946592248016\n"
     ]
    },
    {
     "name": "stdout",
     "output_type": "stream",
     "text": [
      "Loss: 35.494658815678086\n",
      "Loss: 35.49465904718306\n"
     ]
    },
    {
     "name": "stdout",
     "output_type": "stream",
     "text": [
      "Loss: 35.494659563151494\n",
      "Loss: 35.49465952184826\n",
      "Loss: 35.494658675811294\n"
     ]
    },
    {
     "name": "stdout",
     "output_type": "stream",
     "text": [
      "Loss: 35.49465850791366\n",
      "Loss: 35.494659677817744\n",
      "Loss: 35.49465855292638\n"
     ]
    },
    {
     "name": "stdout",
     "output_type": "stream",
     "text": [
      "Loss: 35.49465948888602\n",
      "Loss: 35.4946586260196\n",
      "Loss: 35.49465960959544\n"
     ]
    },
    {
     "name": "stdout",
     "output_type": "stream",
     "text": [
      "Loss: 35.49466036789484\n",
      "Loss: 35.49466064262175\n",
      "Loss: 35.49465916493414\n"
     ]
    },
    {
     "name": "stdout",
     "output_type": "stream",
     "text": [
      "Loss: 35.49466012750587\n",
      "Loss: 35.49465915449619\n"
     ]
    },
    {
     "name": "stdout",
     "output_type": "stream",
     "text": [
      "Loss: 35.49465837704085\n",
      "Loss: 35.49465898422737\n",
      "Loss: 35.4946598632429\n"
     ]
    },
    {
     "name": "stdout",
     "output_type": "stream",
     "text": [
      "Loss: 35.4946586635532\n",
      "Loss: 35.494659742423295\n",
      "Loss: 35.494658583393814\n",
      "Loss: 35.494659877335394\n"
     ]
    },
    {
     "name": "stdout",
     "output_type": "stream",
     "text": [
      "Loss: 35.49465963202421\n",
      "Loss: 35.49465913020779\n",
      "Loss: 35.494657918509596\n"
     ]
    },
    {
     "name": "stdout",
     "output_type": "stream",
     "text": [
      "Loss: 35.49465823415465\n",
      "Loss: 35.49465727931639\n",
      "Loss: 35.49465776868145\n"
     ]
    },
    {
     "name": "stdout",
     "output_type": "stream",
     "text": [
      "Loss: 35.494656789085056\n",
      "Loss: 35.49465732846503\n",
      "Loss: 35.49465785254893\n"
     ]
    },
    {
     "name": "stdout",
     "output_type": "stream",
     "text": [
      "Loss: 35.49465688551039\n",
      "Loss: 35.49465712830124\n",
      "Loss: 35.494656522621476\n",
      "Loss: 35.494656144078434\n"
     ]
    },
    {
     "name": "stdout",
     "output_type": "stream",
     "text": [
      "Loss: 35.4946547905333\n",
      "Loss: 35.49465551744253\n",
      "Loss: 35.49465453311094\n"
     ]
    },
    {
     "name": "stdout",
     "output_type": "stream",
     "text": [
      "Loss: 35.49465506426078\n",
      "Loss: 35.494655014078155\n",
      "Loss: 35.49465434076259\n"
     ]
    },
    {
     "name": "stdout",
     "output_type": "stream",
     "text": [
      "Loss: 35.494655784306985\n",
      "Loss: 35.494654051634924\n",
      "Loss: 35.494654686209955\n"
     ]
    },
    {
     "name": "stdout",
     "output_type": "stream",
     "text": [
      "Loss: 35.49465305280605\n",
      "Loss: 35.49465354934988\n",
      "Loss: 35.49465419886133\n"
     ]
    },
    {
     "name": "stdout",
     "output_type": "stream",
     "text": [
      "Loss: 35.49465326550721\n",
      "Loss: 35.49465357519229\n",
      "Loss: 35.49465363368065\n",
      "Loss: 35.49465135399937\n"
     ]
    },
    {
     "name": "stdout",
     "output_type": "stream",
     "text": [
      "Loss: 35.49465101611785\n",
      "Loss: 35.49465146150775\n",
      "Loss: 35.4946505753192\n"
     ]
    },
    {
     "name": "stdout",
     "output_type": "stream",
     "text": [
      "Loss: 35.4946496118834\n",
      "Loss: 35.49465028060157\n",
      "Loss: 35.49464962898173\n",
      "Loss: 35.494649435353274\n"
     ]
    },
    {
     "name": "stdout",
     "output_type": "stream",
     "text": [
      "Loss: 35.494649027833\n",
      "Loss: 35.494647549382705\n",
      "Loss: 35.49464822337764\n"
     ]
    },
    {
     "name": "stdout",
     "output_type": "stream",
     "text": [
      "Loss: 35.49464916033932\n",
      "Loss: 35.49464771155889\n",
      "Loss: 35.49464772029173\n"
     ]
    },
    {
     "name": "stdout",
     "output_type": "stream",
     "text": [
      "Loss: 35.494648370159354\n",
      "Loss: 35.49464727745211\n",
      "Loss: 35.494647821140425\n"
     ]
    },
    {
     "name": "stdout",
     "output_type": "stream",
     "text": [
      "Loss: 35.494647311367785\n",
      "Loss: 35.494647656094635\n",
      "Loss: 35.49464780480849\n"
     ]
    },
    {
     "name": "stdout",
     "output_type": "stream",
     "text": [
      "Loss: 35.49464759265968\n",
      "Loss: 35.49464746567495\n",
      "Loss: 35.49464509273176\n"
     ]
    },
    {
     "name": "stdout",
     "output_type": "stream",
     "text": [
      "Loss: 35.49464399585697\n",
      "Loss: 35.49464292772407\n",
      "Loss: 35.49464269587525\n"
     ]
    },
    {
     "name": "stdout",
     "output_type": "stream",
     "text": [
      "Loss: 35.49464218489071\n",
      "Loss: 35.49464185245273\n",
      "Loss: 35.49464194373376\n"
     ]
    },
    {
     "name": "stdout",
     "output_type": "stream",
     "text": [
      "Loss: 35.49464010833564\n",
      "Loss: 35.49463954951681\n",
      "Loss: 35.494638607761416\n"
     ]
    },
    {
     "name": "stdout",
     "output_type": "stream",
     "text": [
      "Loss: 35.49463848600236\n",
      "Loss: 35.49463706577321\n",
      "Loss: 35.49463533296544\n",
      "Loss: 35.4946349546777\n"
     ]
    },
    {
     "name": "stdout",
     "output_type": "stream",
     "text": [
      "Loss: 35.49463280037561\n",
      "Loss: 35.49463176402995\n",
      "Loss: 35.494629540023475\n"
     ]
    },
    {
     "name": "stdout",
     "output_type": "stream",
     "text": [
      "Loss: 35.49462617437199\n",
      "Loss: 35.494625769156045\n"
     ]
    },
    {
     "name": "stdout",
     "output_type": "stream",
     "text": [
      "Loss: 35.49462490571141\n",
      "Loss: 35.494621721969885\n",
      "Loss: 35.49461802177037\n"
     ]
    },
    {
     "name": "stdout",
     "output_type": "stream",
     "text": [
      "Loss: 35.49461487834534\n",
      "Loss: 35.49461151335076\n",
      "Loss: 35.49460813395651\n"
     ]
    },
    {
     "name": "stdout",
     "output_type": "stream",
     "text": [
      "Loss: 35.49460623770068\n",
      "Loss: 35.49460188835731\n",
      "Loss: 35.49460188306623\n",
      "Loss: 35.49459929650077\n"
     ]
    },
    {
     "name": "stdout",
     "output_type": "stream",
     "text": [
      "Loss: 35.49459875713508\n",
      "Loss: 35.49459595073168\n",
      "Loss: 35.49459552386136\n"
     ]
    },
    {
     "name": "stdout",
     "output_type": "stream",
     "text": [
      "Loss: 35.494595105621045\n",
      "Loss: 35.494593846873705\n",
      "Loss: 35.4945925520224\n"
     ]
    },
    {
     "name": "stdout",
     "output_type": "stream",
     "text": [
      "Loss: 35.49459110191394\n",
      "Loss: 35.4945914766567\n",
      "Loss: 35.494589806410616\n",
      "Loss: 35.49458723424027\n"
     ]
    },
    {
     "name": "stdout",
     "output_type": "stream",
     "text": [
      "Loss: 35.49458752245282\n",
      "Loss: 35.49458754497042\n",
      "Loss: 35.494586016196074\n"
     ]
    },
    {
     "name": "stdout",
     "output_type": "stream",
     "text": [
      "Loss: 35.49458624547068\n",
      "Loss: 35.49458641979062\n",
      "Loss: 35.49458730838122\n"
     ]
    },
    {
     "name": "stdout",
     "output_type": "stream",
     "text": [
      "Loss: 35.494586054129826\n",
      "Loss: 35.49458633428445\n"
     ]
    },
    {
     "name": "stdout",
     "output_type": "stream",
     "text": [
      "Loss: 35.494585494321306\n",
      "Loss: 35.49458441973526\n"
     ]
    },
    {
     "name": "stdout",
     "output_type": "stream",
     "text": [
      "Loss: 35.49458258372889\n",
      "Loss: 35.494581764681584\n",
      "Loss: 35.49458271854932\n"
     ]
    },
    {
     "name": "stdout",
     "output_type": "stream",
     "text": [
      "Loss: 35.494582008070694\n",
      "Loss: 35.49458004609931\n"
     ]
    },
    {
     "name": "stdout",
     "output_type": "stream",
     "text": [
      "Loss: 35.49457805981369\n",
      "Loss: 35.49457578251891\n",
      "Loss: 35.49457538403068\n"
     ]
    },
    {
     "name": "stdout",
     "output_type": "stream",
     "text": [
      "Loss: 35.49457268860897\n",
      "Loss: 35.49457306305715\n",
      "Loss: 35.49456928417665\n"
     ]
    },
    {
     "name": "stdout",
     "output_type": "stream",
     "text": [
      "Loss: 35.494569082259524\n",
      "Loss: 35.49456662520081\n",
      "Loss: 35.49456279683446\n"
     ]
    },
    {
     "name": "stdout",
     "output_type": "stream",
     "text": [
      "Loss: 35.49456173445795\n",
      "Loss: 35.49456119202434\n",
      "Loss: 35.49455967976145\n"
     ]
    },
    {
     "name": "stdout",
     "output_type": "stream",
     "text": [
      "Loss: 35.49455719956572\n",
      "Loss: 35.49455565518388\n",
      "Loss: 35.49455499446708\n"
     ]
    },
    {
     "name": "stdout",
     "output_type": "stream",
     "text": [
      "Loss: 35.49455385328609\n",
      "Loss: 35.49455270988116\n",
      "Loss: 35.49455255823212\n"
     ]
    },
    {
     "name": "stdout",
     "output_type": "stream",
     "text": [
      "Loss: 35.49455139560295\n",
      "Loss: 35.49455148588702\n",
      "Loss: 35.49455021235001\n",
      "Loss: 35.49454920739723\n"
     ]
    },
    {
     "name": "stdout",
     "output_type": "stream",
     "text": [
      "Loss: 35.49454568817379\n",
      "Loss: 35.49454637376136\n",
      "Loss: 35.494545165010955\n"
     ]
    },
    {
     "name": "stdout",
     "output_type": "stream",
     "text": [
      "Loss: 35.49454278218185\n",
      "Loss: 35.494540699834545\n",
      "Loss: 35.494539273369284\n",
      "Loss: 35.4945379563426\n"
     ]
    },
    {
     "name": "stdout",
     "output_type": "stream",
     "text": [
      "Loss: 35.494535617922736\n",
      "Loss: 35.494535408717816\n",
      "Loss: 35.49453462885024\n"
     ]
    },
    {
     "name": "stdout",
     "output_type": "stream",
     "text": [
      "Loss: 35.494535589240385\n",
      "Loss: 35.494532807132046\n",
      "Loss: 35.49453342865702\n"
     ]
    },
    {
     "name": "stdout",
     "output_type": "stream",
     "text": [
      "Loss: 35.494532759973325\n",
      "Loss: 35.49453005823846\n",
      "Loss: 35.494527583551815\n"
     ]
    },
    {
     "name": "stdout",
     "output_type": "stream",
     "text": [
      "Loss: 35.49452613355751\n",
      "Loss: 35.49452268743237\n",
      "Loss: 35.494519199508105\n",
      "Loss: 35.49451712948604\n"
     ]
    },
    {
     "name": "stdout",
     "output_type": "stream",
     "text": [
      "Loss: 35.494515102517354\n",
      "Loss: 35.49451400512706\n",
      "Loss: 35.49451354126732\n"
     ]
    },
    {
     "name": "stdout",
     "output_type": "stream",
     "text": [
      "Loss: 35.49451169115487\n",
      "Loss: 35.49450899644071\n"
     ]
    },
    {
     "name": "stdout",
     "output_type": "stream",
     "text": [
      "Loss: 35.494506250641024\n",
      "Loss: 35.49450671848602\n",
      "Loss: 35.49450481947161\n",
      "Loss: 35.49450408244273\n"
     ]
    },
    {
     "name": "stdout",
     "output_type": "stream",
     "text": [
      "Loss: 35.494502101011165\n",
      "Loss: 35.49449883996168\n",
      "Loss: 35.4944971269294\n"
     ]
    },
    {
     "name": "stdout",
     "output_type": "stream",
     "text": [
      "Loss: 35.49449280339507\n",
      "Loss: 35.49448964359915\n",
      "Loss: 35.49448472430292\n"
     ]
    },
    {
     "name": "stdout",
     "output_type": "stream",
     "text": [
      "Loss: 35.494483077297836\n",
      "Loss: 35.49447822028685\n",
      "Loss: 35.494476583961614\n",
      "Loss: 35.49447439547384\n"
     ]
    },
    {
     "name": "stdout",
     "output_type": "stream",
     "text": [
      "Loss: 35.494472395211424\n",
      "Loss: 35.49447181124395\n",
      "Loss: 35.494471160213635\n"
     ]
    },
    {
     "name": "stdout",
     "output_type": "stream",
     "text": [
      "Loss: 35.49446969400384\n",
      "Loss: 35.49446873473888\n"
     ]
    },
    {
     "name": "stdout",
     "output_type": "stream",
     "text": [
      "Loss: 35.49446894946028\n",
      "Loss: 35.49446783272593\n",
      "Loss: 35.49446579272761\n"
     ]
    },
    {
     "name": "stdout",
     "output_type": "stream",
     "text": [
      "Loss: 35.49446537595597\n",
      "Loss: 35.49446166035418\n",
      "Loss: 35.494454574796926\n"
     ]
    },
    {
     "name": "stdout",
     "output_type": "stream",
     "text": [
      "Loss: 35.494453039116735\n",
      "Loss: 35.49444914202473\n",
      "Loss: 35.494447459935856\n",
      "Loss: 35.494444203222386\n"
     ]
    },
    {
     "name": "stdout",
     "output_type": "stream",
     "text": [
      "Loss: 35.49444207713519\n",
      "Loss: 35.49443897304744\n",
      "Loss: 35.49443664118967\n"
     ]
    },
    {
     "name": "stdout",
     "output_type": "stream",
     "text": [
      "Loss: 35.49443384867876\n",
      "Loss: 35.49443244818858\n",
      "Loss: 35.49442942265997\n",
      "Loss: 35.49442772208097\n"
     ]
    },
    {
     "name": "stdout",
     "output_type": "stream",
     "text": [
      "Loss: 35.494426870541034\n",
      "Loss: 35.494425005593946\n",
      "Loss: 35.4944249516999\n",
      "Loss: 35.49442499862259\n"
     ]
    },
    {
     "name": "stdout",
     "output_type": "stream",
     "text": [
      "Loss: 35.49442322356793\n",
      "Loss: 35.49442129508823\n",
      "Loss: 35.4944206114327\n",
      "Loss: 35.4944185024207\n"
     ]
    },
    {
     "name": "stdout",
     "output_type": "stream",
     "text": [
      "Loss: 35.49441611328797\n",
      "Loss: 35.494416164980194\n",
      "Loss: 35.4944129787296\n",
      "Loss: 35.49441241690448\n"
     ]
    },
    {
     "name": "stdout",
     "output_type": "stream",
     "text": [
      "Loss: 35.494409496871306\n",
      "Loss: 35.494404901108\n",
      "Loss: 35.49440422552313\n",
      "Loss: 35.49440024588293\n"
     ]
    },
    {
     "name": "stdout",
     "output_type": "stream",
     "text": [
      "Loss: 35.49439583900868\n",
      "Loss: 35.49439342899479\n",
      "Loss: 35.494389779215666\n",
      "Loss: 35.49438210459366\n"
     ]
    },
    {
     "name": "stdout",
     "output_type": "stream",
     "text": [
      "Loss: 35.49437869559523\n",
      "Loss: 35.49437252580174\n",
      "Loss: 35.49436520781448\n"
     ]
    },
    {
     "name": "stdout",
     "output_type": "stream",
     "text": [
      "Loss: 35.49434962750592\n",
      "Loss: 35.49434039884745\n",
      "Loss: 35.494339167541874\n"
     ]
    },
    {
     "name": "stdout",
     "output_type": "stream",
     "text": [
      "Loss: 35.49433020232061\n",
      "Loss: 35.494327691506314\n",
      "Loss: 35.49432203653461\n"
     ]
    },
    {
     "name": "stdout",
     "output_type": "stream",
     "text": [
      "Loss: 35.494320498281\n",
      "Loss: 35.494316688749734\n",
      "Loss: 35.494316542953364\n",
      "Loss: 35.49431616828863\n"
     ]
    },
    {
     "name": "stdout",
     "output_type": "stream",
     "text": [
      "Loss: 35.4943160564373\n",
      "Loss: 35.494316606469916\n"
     ]
    },
    {
     "name": "stdout",
     "output_type": "stream",
     "text": [
      "Loss: 35.49431409472595\n",
      "Loss: 35.49431161279307\n",
      "Loss: 35.49431077371174\n",
      "Loss: 35.49430750010754\n"
     ]
    },
    {
     "name": "stdout",
     "output_type": "stream",
     "text": [
      "Loss: 35.49430856792452\n",
      "Loss: 35.49430824284956\n",
      "Loss: 35.494306191545704\n"
     ]
    },
    {
     "name": "stdout",
     "output_type": "stream",
     "text": [
      "Loss: 35.49430745069443\n",
      "Loss: 35.49430658799376\n",
      "Loss: 35.494306666824414\n"
     ]
    },
    {
     "name": "stdout",
     "output_type": "stream",
     "text": [
      "Loss: 35.49430644556418\n",
      "Loss: 35.494306678659406\n",
      "Loss: 35.49430668451902\n"
     ]
    },
    {
     "name": "stdout",
     "output_type": "stream",
     "text": [
      "Loss: 35.494304963391045\n",
      "Loss: 35.49430553452671\n"
     ]
    },
    {
     "data": {
      "text/plain": [
       "u: \u001b[0mComponentVector{Float64}(layer_1 = (weight = [7.2675058531774015; 5.804634139590163; … ; -3.185031431450799; 0.9068987143526375;;], bias = [62.97695731258684; 86.55980924929841; … ; -18.8932652602875; -47.24635764489291;;]), layer_2 = (weight = [-0.3748899920524635 1.2325847325005073 … 0.6618325339079654 0.9401053876402646; -0.4089586628211948 -1.8929422668115552 … 0.7086862256835438 -0.0022797941619712376; … ; 0.12062753992760683 0.2709181531321018 … 2.7956509876462374 2.888498875495775; 0.4322988274118838 -0.8198437948373288 … -1.6251471558273958 -1.7329191410244664], bias = [-42.762233445348606; 23.150747609690523; … ; 33.74849586053378; -24.437622455064595;;]), layer_3 = (weight = [-8.421148665847822 -5.730170004210376 … 8.999966083068365 10.399118911776247; 9.99668675088667 4.965912871042933 … -13.313447967013749 -16.33797070994769; … ; -4.112464771671983 -0.5820661563737507 … 8.044151407212176 10.995403537691823; 1.6033170656462743 1.1012635646671511 … -3.025557792418384 -5.250915323351263], bias = [-41.685823947463106; 69.21088423589919; … ; 14.330798092372984; -15.435700962947369;;]), layer_4 = (weight = [-2.9317880748238303 -7.361020324486607 … 4.449217366223294 2.052358281909742; -2.278014078931871 -1.6143319502709474 … 1.3561537328716256 0.21830103725622826; … ; -0.6380069724591849 -7.655732788798787 … 2.8262326993404163 2.837973272641778; 7.483978078739145 -0.6489531984410999 … -7.838754848707196 3.1850897909938465], bias = [32.89452361172135; 16.40464683231952; … ; 29.05221605286949; -26.08212071777083;;]), layer_5 = (weight = [2.39896189525009 8.853486425891763 … -14.14396504939524 4.278236347476571], bias = [59.887765757603894;;]))"
      ]
     },
     "metadata": {},
     "output_type": "display_data"
    }
   ],
   "source": [
    "pinn = PINN(FullyConnected((1, 16, 16, 16, 16, 1), tanh))\n",
    "prob = Sophon.discretize(ode, pinn, sampler, strategy)\n",
    "\n",
    "res = Optimization.solve(prob, BFGS(); maxiters=2000, callback=callback)"
   ]
  },
  {
   "cell_type": "code",
   "execution_count": 15,
   "metadata": {},
   "outputs": [
    {
     "data": {
      "image/png": "[encoded data removed]",
      "image/svg+xml": [
       "<?xml version=\"1.0\" encoding=\"utf-8\"?>\n",
       "<svg xmlns=\"http://www.w3.org/2000/svg\" xmlns:xlink=\"http://www.w3.org/1999/xlink\" width=\"600\" height=\"400\" viewBox=\"0 0 2400 1600\">\n",
       "<defs>\n",
       "  <clipPath id=\"clip640\">\n",
       "    <rect x=\"0\" y=\"0\" width=\"2400\" height=\"1600\"/>\n",
       "  </clipPath>\n",
       "</defs>\n",
       "<path clip-path=\"url(#clip640)\" d=\"M0 1600 L2400 1600 L2400 0 L0 0  Z\" fill=\"#ffffff\" fill-rule=\"evenodd\" fill-opacity=\"1\"/>\n",
       "<defs>\n",
       "  <clipPath id=\"clip641\">\n",
       "    <rect x=\"480\" y=\"0\" width=\"1681\" height=\"1600\"/>\n",
       "  </clipPath>\n",
       "</defs>\n",
       "<path clip-path=\"url(#clip640)\" d=\"M141.853 1486.45 L2352.76 1486.45 L2352.76 47.2441 L141.853 47.2441  Z\" fill=\"#ffffff\" fill-rule=\"evenodd\" fill-opacity=\"1\"/>\n",
       "<defs>\n",
       "  <clipPath id=\"clip642\">\n",
       "    <rect x=\"141\" y=\"47\" width=\"2212\" height=\"1440\"/>\n",
       "  </clipPath>\n",
       "</defs>\n",
       "<polyline clip-path=\"url(#clip642)\" style=\"stroke:#000000; stroke-linecap:round; stroke-linejoin:round; stroke-width:2; stroke-opacity:0.1; fill:none\" points=\"204.426,1486.45 204.426,47.2441 \"/>\n",
       "<polyline clip-path=\"url(#clip642)\" style=\"stroke:#000000; stroke-linecap:round; stroke-linejoin:round; stroke-width:2; stroke-opacity:0.1; fill:none\" points=\"725.865,1486.45 725.865,47.2441 \"/>\n",
       "<polyline clip-path=\"url(#clip642)\" style=\"stroke:#000000; stroke-linecap:round; stroke-linejoin:round; stroke-width:2; stroke-opacity:0.1; fill:none\" points=\"1247.3,1486.45 1247.3,47.2441 \"/>\n",
       "<polyline clip-path=\"url(#clip642)\" style=\"stroke:#000000; stroke-linecap:round; stroke-linejoin:round; stroke-width:2; stroke-opacity:0.1; fill:none\" points=\"1768.74,1486.45 1768.74,47.2441 \"/>\n",
       "<polyline clip-path=\"url(#clip642)\" style=\"stroke:#000000; stroke-linecap:round; stroke-linejoin:round; stroke-width:2; stroke-opacity:0.1; fill:none\" points=\"2290.18,1486.45 2290.18,47.2441 \"/>\n",
       "<polyline clip-path=\"url(#clip640)\" style=\"stroke:#000000; stroke-linecap:round; stroke-linejoin:round; stroke-width:4; stroke-opacity:1; fill:none\" points=\"141.853,1486.45 2352.76,1486.45 \"/>\n",
       "<polyline clip-path=\"url(#clip640)\" style=\"stroke:#000000; stroke-linecap:round; stroke-linejoin:round; stroke-width:4; stroke-opacity:1; fill:none\" points=\"204.426,1486.45 204.426,1467.55 \"/>\n",
       "<polyline clip-path=\"url(#clip640)\" style=\"stroke:#000000; stroke-linecap:round; stroke-linejoin:round; stroke-width:4; stroke-opacity:1; fill:none\" points=\"725.865,1486.45 725.865,1467.55 \"/>\n",
       "<polyline clip-path=\"url(#clip640)\" style=\"stroke:#000000; stroke-linecap:round; stroke-linejoin:round; stroke-width:4; stroke-opacity:1; fill:none\" points=\"1247.3,1486.45 1247.3,1467.55 \"/>\n",
       "<polyline clip-path=\"url(#clip640)\" style=\"stroke:#000000; stroke-linecap:round; stroke-linejoin:round; stroke-width:4; stroke-opacity:1; fill:none\" points=\"1768.74,1486.45 1768.74,1467.55 \"/>\n",
       "<polyline clip-path=\"url(#clip640)\" style=\"stroke:#000000; stroke-linecap:round; stroke-linejoin:round; stroke-width:4; stroke-opacity:1; fill:none\" points=\"2290.18,1486.45 2290.18,1467.55 \"/>\n",
       "<path clip-path=\"url(#clip640)\" d=\"M181.81 1517.37 Q178.199 1517.37 176.37 1520.93 Q174.565 1524.47 174.565 1531.6 Q174.565 1538.71 176.37 1542.27 Q178.199 1545.82 181.81 1545.82 Q185.444 1545.82 187.25 1542.27 Q189.079 1538.71 189.079 1531.6 Q189.079 1524.47 187.25 1520.93 Q185.444 1517.37 181.81 1517.37 M181.81 1513.66 Q187.62 1513.66 190.676 1518.27 Q193.754 1522.85 193.754 1531.6 Q193.754 1540.33 190.676 1544.94 Q187.62 1549.52 181.81 1549.52 Q176 1549.52 172.921 1544.94 Q169.866 1540.33 169.866 1531.6 Q169.866 1522.85 172.921 1518.27 Q176 1513.66 181.81 1513.66 Z\" fill=\"#000000\" fill-rule=\"nonzero\" fill-opacity=\"1\" /><path clip-path=\"url(#clip640)\" d=\"M201.972 1542.97 L206.856 1542.97 L206.856 1548.85 L201.972 1548.85 L201.972 1542.97 Z\" fill=\"#000000\" fill-rule=\"nonzero\" fill-opacity=\"1\" /><path clip-path=\"url(#clip640)\" d=\"M227.041 1517.37 Q223.43 1517.37 221.602 1520.93 Q219.796 1524.47 219.796 1531.6 Q219.796 1538.71 221.602 1542.27 Q223.43 1545.82 227.041 1545.82 Q230.676 1545.82 232.481 1542.27 Q234.31 1538.71 234.31 1531.6 Q234.31 1524.47 232.481 1520.93 Q230.676 1517.37 227.041 1517.37 M227.041 1513.66 Q232.851 1513.66 235.907 1518.27 Q238.986 1522.85 238.986 1531.6 Q238.986 1540.33 235.907 1544.94 Q232.851 1549.52 227.041 1549.52 Q221.231 1549.52 218.152 1544.94 Q215.097 1540.33 215.097 1531.6 Q215.097 1522.85 218.152 1518.27 Q221.231 1513.66 227.041 1513.66 Z\" fill=\"#000000\" fill-rule=\"nonzero\" fill-opacity=\"1\" /><path clip-path=\"url(#clip640)\" d=\"M703.747 1517.37 Q700.136 1517.37 698.307 1520.93 Q696.502 1524.47 696.502 1531.6 Q696.502 1538.71 698.307 1542.27 Q700.136 1545.82 703.747 1545.82 Q707.381 1545.82 709.187 1542.27 Q711.016 1538.71 711.016 1531.6 Q711.016 1524.47 709.187 1520.93 Q707.381 1517.37 703.747 1517.37 M703.747 1513.66 Q709.557 1513.66 712.613 1518.27 Q715.691 1522.85 715.691 1531.6 Q715.691 1540.33 712.613 1544.94 Q709.557 1549.52 703.747 1549.52 Q697.937 1549.52 694.858 1544.94 Q691.803 1540.33 691.803 1531.6 Q691.803 1522.85 694.858 1518.27 Q697.937 1513.66 703.747 1513.66 Z\" fill=\"#000000\" fill-rule=\"nonzero\" fill-opacity=\"1\" /><path clip-path=\"url(#clip640)\" d=\"M723.909 1542.97 L728.793 1542.97 L728.793 1548.85 L723.909 1548.85 L723.909 1542.97 Z\" fill=\"#000000\" fill-rule=\"nonzero\" fill-opacity=\"1\" /><path clip-path=\"url(#clip640)\" d=\"M739.025 1514.29 L757.381 1514.29 L757.381 1518.22 L743.307 1518.22 L743.307 1526.7 Q744.326 1526.35 745.344 1526.19 Q746.363 1526 747.381 1526 Q753.168 1526 756.548 1529.17 Q759.927 1532.34 759.927 1537.76 Q759.927 1543.34 756.455 1546.44 Q752.983 1549.52 746.664 1549.52 Q744.488 1549.52 742.219 1549.15 Q739.974 1548.78 737.566 1548.04 L737.566 1543.34 Q739.65 1544.47 741.872 1545.03 Q744.094 1545.58 746.571 1545.58 Q750.576 1545.58 752.914 1543.48 Q755.251 1541.37 755.251 1537.76 Q755.251 1534.15 752.914 1532.04 Q750.576 1529.94 746.571 1529.94 Q744.696 1529.94 742.821 1530.35 Q740.969 1530.77 739.025 1531.65 L739.025 1514.29 Z\" fill=\"#000000\" fill-rule=\"nonzero\" fill-opacity=\"1\" /><path clip-path=\"url(#clip640)\" d=\"M1214.46 1544.91 L1222.1 1544.91 L1222.1 1518.55 L1213.79 1520.21 L1213.79 1515.95 L1222.05 1514.29 L1226.73 1514.29 L1226.73 1544.91 L1234.36 1544.91 L1234.36 1548.85 L1214.46 1548.85 L1214.46 1544.91 Z\" fill=\"#000000\" fill-rule=\"nonzero\" fill-opacity=\"1\" /><path clip-path=\"url(#clip640)\" d=\"M1243.81 1542.97 L1248.69 1542.97 L1248.69 1548.85 L1243.81 1548.85 L1243.81 1542.97 Z\" fill=\"#000000\" fill-rule=\"nonzero\" fill-opacity=\"1\" /><path clip-path=\"url(#clip640)\" d=\"M1268.88 1517.37 Q1265.27 1517.37 1263.44 1520.93 Q1261.63 1524.47 1261.63 1531.6 Q1261.63 1538.71 1263.44 1542.27 Q1265.27 1545.82 1268.88 1545.82 Q1272.51 1545.82 1274.32 1542.27 Q1276.15 1538.71 1276.15 1531.6 Q1276.15 1524.47 1274.32 1520.93 Q1272.51 1517.37 1268.88 1517.37 M1268.88 1513.66 Q1274.69 1513.66 1277.74 1518.27 Q1280.82 1522.85 1280.82 1531.6 Q1280.82 1540.33 1277.74 1544.94 Q1274.69 1549.52 1268.88 1549.52 Q1263.07 1549.52 1259.99 1544.94 Q1256.93 1540.33 1256.93 1531.6 Q1256.93 1522.85 1259.99 1518.27 Q1263.07 1513.66 1268.88 1513.66 Z\" fill=\"#000000\" fill-rule=\"nonzero\" fill-opacity=\"1\" /><path clip-path=\"url(#clip640)\" d=\"M1736.39 1544.91 L1744.03 1544.91 L1744.03 1518.55 L1735.72 1520.21 L1735.72 1515.95 L1743.99 1514.29 L1748.66 1514.29 L1748.66 1544.91 L1756.3 1544.91 L1756.3 1548.85 L1736.39 1548.85 L1736.39 1544.91 Z\" fill=\"#000000\" fill-rule=\"nonzero\" fill-opacity=\"1\" /><path clip-path=\"url(#clip640)\" d=\"M1765.75 1542.97 L1770.63 1542.97 L1770.63 1548.85 L1765.75 1548.85 L1765.75 1542.97 Z\" fill=\"#000000\" fill-rule=\"nonzero\" fill-opacity=\"1\" /><path clip-path=\"url(#clip640)\" d=\"M1780.86 1514.29 L1799.22 1514.29 L1799.22 1518.22 L1785.14 1518.22 L1785.14 1526.7 Q1786.16 1526.35 1787.18 1526.19 Q1788.2 1526 1789.22 1526 Q1795.01 1526 1798.38 1529.17 Q1801.76 1532.34 1801.76 1537.76 Q1801.76 1543.34 1798.29 1546.44 Q1794.82 1549.52 1788.5 1549.52 Q1786.32 1549.52 1784.06 1549.15 Q1781.81 1548.78 1779.4 1548.04 L1779.4 1543.34 Q1781.49 1544.47 1783.71 1545.03 Q1785.93 1545.58 1788.41 1545.58 Q1792.41 1545.58 1794.75 1543.48 Q1797.09 1541.37 1797.09 1537.76 Q1797.09 1534.15 1794.75 1532.04 Q1792.41 1529.94 1788.41 1529.94 Q1786.53 1529.94 1784.66 1530.35 Q1782.81 1530.77 1780.86 1531.65 L1780.86 1514.29 Z\" fill=\"#000000\" fill-rule=\"nonzero\" fill-opacity=\"1\" /><path clip-path=\"url(#clip640)\" d=\"M2261.42 1544.91 L2277.74 1544.91 L2277.74 1548.85 L2255.8 1548.85 L2255.8 1544.91 Q2258.46 1542.16 2263.04 1537.53 Q2267.65 1532.88 2268.83 1531.53 Q2271.07 1529.01 2271.95 1527.27 Q2272.86 1525.51 2272.86 1523.82 Q2272.86 1521.07 2270.91 1519.33 Q2268.99 1517.6 2265.89 1517.6 Q2263.69 1517.6 2261.24 1518.36 Q2258.81 1519.13 2256.03 1520.68 L2256.03 1515.95 Q2258.85 1514.82 2261.31 1514.24 Q2263.76 1513.66 2265.8 1513.66 Q2271.17 1513.66 2274.36 1516.35 Q2277.56 1519.03 2277.56 1523.52 Q2277.56 1525.65 2276.75 1527.57 Q2275.96 1529.47 2273.85 1532.07 Q2273.27 1532.74 2270.17 1535.95 Q2267.07 1539.15 2261.42 1544.91 Z\" fill=\"#000000\" fill-rule=\"nonzero\" fill-opacity=\"1\" /><path clip-path=\"url(#clip640)\" d=\"M2287.56 1542.97 L2292.44 1542.97 L2292.44 1548.85 L2287.56 1548.85 L2287.56 1542.97 Z\" fill=\"#000000\" fill-rule=\"nonzero\" fill-opacity=\"1\" /><path clip-path=\"url(#clip640)\" d=\"M2312.63 1517.37 Q2309.01 1517.37 2307.19 1520.93 Q2305.38 1524.47 2305.38 1531.6 Q2305.38 1538.71 2307.19 1542.27 Q2309.01 1545.82 2312.63 1545.82 Q2316.26 1545.82 2318.06 1542.27 Q2319.89 1538.71 2319.89 1531.6 Q2319.89 1524.47 2318.06 1520.93 Q2316.26 1517.37 2312.63 1517.37 M2312.63 1513.66 Q2318.44 1513.66 2321.49 1518.27 Q2324.57 1522.85 2324.57 1531.6 Q2324.57 1540.33 2321.49 1544.94 Q2318.44 1549.52 2312.63 1549.52 Q2306.82 1549.52 2303.74 1544.94 Q2300.68 1540.33 2300.68 1531.6 Q2300.68 1522.85 2303.74 1518.27 Q2306.82 1513.66 2312.63 1513.66 Z\" fill=\"#000000\" fill-rule=\"nonzero\" fill-opacity=\"1\" /><polyline clip-path=\"url(#clip642)\" style=\"stroke:#000000; stroke-linecap:round; stroke-linejoin:round; stroke-width:2; stroke-opacity:0.1; fill:none\" points=\"141.853,1449.31 2352.76,1449.31 \"/>\n",
       "<polyline clip-path=\"url(#clip642)\" style=\"stroke:#000000; stroke-linecap:round; stroke-linejoin:round; stroke-width:2; stroke-opacity:0.1; fill:none\" points=\"141.853,1199.99 2352.76,1199.99 \"/>\n",
       "<polyline clip-path=\"url(#clip642)\" style=\"stroke:#000000; stroke-linecap:round; stroke-linejoin:round; stroke-width:2; stroke-opacity:0.1; fill:none\" points=\"141.853,950.659 2352.76,950.659 \"/>\n",
       "<polyline clip-path=\"url(#clip642)\" style=\"stroke:#000000; stroke-linecap:round; stroke-linejoin:round; stroke-width:2; stroke-opacity:0.1; fill:none\" points=\"141.853,701.333 2352.76,701.333 \"/>\n",
       "<polyline clip-path=\"url(#clip642)\" style=\"stroke:#000000; stroke-linecap:round; stroke-linejoin:round; stroke-width:2; stroke-opacity:0.1; fill:none\" points=\"141.853,452.008 2352.76,452.008 \"/>\n",
       "<polyline clip-path=\"url(#clip642)\" style=\"stroke:#000000; stroke-linecap:round; stroke-linejoin:round; stroke-width:2; stroke-opacity:0.1; fill:none\" points=\"141.853,202.682 2352.76,202.682 \"/>\n",
       "<polyline clip-path=\"url(#clip640)\" style=\"stroke:#000000; stroke-linecap:round; stroke-linejoin:round; stroke-width:4; stroke-opacity:1; fill:none\" points=\"141.853,1486.45 141.853,47.2441 \"/>\n",
       "<polyline clip-path=\"url(#clip640)\" style=\"stroke:#000000; stroke-linecap:round; stroke-linejoin:round; stroke-width:4; stroke-opacity:1; fill:none\" points=\"141.853,1449.31 160.751,1449.31 \"/>\n",
       "<polyline clip-path=\"url(#clip640)\" style=\"stroke:#000000; stroke-linecap:round; stroke-linejoin:round; stroke-width:4; stroke-opacity:1; fill:none\" points=\"141.853,1199.99 160.751,1199.99 \"/>\n",
       "<polyline clip-path=\"url(#clip640)\" style=\"stroke:#000000; stroke-linecap:round; stroke-linejoin:round; stroke-width:4; stroke-opacity:1; fill:none\" points=\"141.853,950.659 160.751,950.659 \"/>\n",
       "<polyline clip-path=\"url(#clip640)\" style=\"stroke:#000000; stroke-linecap:round; stroke-linejoin:round; stroke-width:4; stroke-opacity:1; fill:none\" points=\"141.853,701.333 160.751,701.333 \"/>\n",
       "<polyline clip-path=\"url(#clip640)\" style=\"stroke:#000000; stroke-linecap:round; stroke-linejoin:round; stroke-width:4; stroke-opacity:1; fill:none\" points=\"141.853,452.008 160.751,452.008 \"/>\n",
       "<polyline clip-path=\"url(#clip640)\" style=\"stroke:#000000; stroke-linecap:round; stroke-linejoin:round; stroke-width:4; stroke-opacity:1; fill:none\" points=\"141.853,202.682 160.751,202.682 \"/>\n",
       "<path clip-path=\"url(#clip640)\" d=\"M93.9086 1435.11 Q90.2975 1435.11 88.4688 1438.67 Q86.6632 1442.22 86.6632 1449.35 Q86.6632 1456.45 88.4688 1460.02 Q90.2975 1463.56 93.9086 1463.56 Q97.5428 1463.56 99.3483 1460.02 Q101.177 1456.45 101.177 1449.35 Q101.177 1442.22 99.3483 1438.67 Q97.5428 1435.11 93.9086 1435.11 M93.9086 1431.41 Q99.7187 1431.41 102.774 1436.01 Q105.853 1440.6 105.853 1449.35 Q105.853 1458.07 102.774 1462.68 Q99.7187 1467.26 93.9086 1467.26 Q88.0984 1467.26 85.0197 1462.68 Q81.9642 1458.07 81.9642 1449.35 Q81.9642 1440.6 85.0197 1436.01 Q88.0984 1431.41 93.9086 1431.41 Z\" fill=\"#000000\" fill-rule=\"nonzero\" fill-opacity=\"1\" /><path clip-path=\"url(#clip640)\" d=\"M54.5569 1213.33 L62.1958 1213.33 L62.1958 1186.96 L53.8856 1188.63 L53.8856 1184.37 L62.1495 1182.71 L66.8254 1182.71 L66.8254 1213.33 L74.4642 1213.33 L74.4642 1217.27 L54.5569 1217.27 L54.5569 1213.33 Z\" fill=\"#000000\" fill-rule=\"nonzero\" fill-opacity=\"1\" /><path clip-path=\"url(#clip640)\" d=\"M93.9086 1185.78 Q90.2975 1185.78 88.4688 1189.35 Q86.6632 1192.89 86.6632 1200.02 Q86.6632 1207.13 88.4688 1210.69 Q90.2975 1214.23 93.9086 1214.23 Q97.5428 1214.23 99.3483 1210.69 Q101.177 1207.13 101.177 1200.02 Q101.177 1192.89 99.3483 1189.35 Q97.5428 1185.78 93.9086 1185.78 M93.9086 1182.08 Q99.7187 1182.08 102.774 1186.69 Q105.853 1191.27 105.853 1200.02 Q105.853 1208.75 102.774 1213.35 Q99.7187 1217.94 93.9086 1217.94 Q88.0984 1217.94 85.0197 1213.35 Q81.9642 1208.75 81.9642 1200.02 Q81.9642 1191.27 85.0197 1186.69 Q88.0984 1182.08 93.9086 1182.08 Z\" fill=\"#000000\" fill-rule=\"nonzero\" fill-opacity=\"1\" /><path clip-path=\"url(#clip640)\" d=\"M57.7745 964.004 L74.0939 964.004 L74.0939 967.939 L52.1495 967.939 L52.1495 964.004 Q54.8115 961.249 59.3949 956.62 Q64.0013 951.967 65.1819 950.625 Q67.4272 948.101 68.3068 946.365 Q69.2096 944.606 69.2096 942.916 Q69.2096 940.162 67.2652 938.426 Q65.3439 936.689 62.2421 936.689 Q60.043 936.689 57.5893 937.453 Q55.1588 938.217 52.381 939.768 L52.381 935.046 Q55.2051 933.912 57.6588 933.333 Q60.1124 932.754 62.1495 932.754 Q67.5198 932.754 70.7142 935.439 Q73.9087 938.125 73.9087 942.615 Q73.9087 944.745 73.0985 946.666 Q72.3115 948.564 70.205 951.157 Q69.6263 951.828 66.5245 955.046 Q63.4226 958.24 57.7745 964.004 Z\" fill=\"#000000\" fill-rule=\"nonzero\" fill-opacity=\"1\" /><path clip-path=\"url(#clip640)\" d=\"M93.9086 936.458 Q90.2975 936.458 88.4688 940.023 Q86.6632 943.564 86.6632 950.694 Q86.6632 957.8 88.4688 961.365 Q90.2975 964.907 93.9086 964.907 Q97.5428 964.907 99.3483 961.365 Q101.177 957.8 101.177 950.694 Q101.177 943.564 99.3483 940.023 Q97.5428 936.458 93.9086 936.458 M93.9086 932.754 Q99.7187 932.754 102.774 937.361 Q105.853 941.944 105.853 950.694 Q105.853 959.421 102.774 964.027 Q99.7187 968.611 93.9086 968.611 Q88.0984 968.611 85.0197 964.027 Q81.9642 959.421 81.9642 950.694 Q81.9642 941.944 85.0197 937.361 Q88.0984 932.754 93.9086 932.754 Z\" fill=\"#000000\" fill-rule=\"nonzero\" fill-opacity=\"1\" /><path clip-path=\"url(#clip640)\" d=\"M67.9133 699.979 Q71.2698 700.697 73.1448 702.965 Q75.0429 705.234 75.0429 708.567 Q75.0429 713.683 71.5244 716.484 Q68.0059 719.285 61.5245 719.285 Q59.3486 719.285 57.0338 718.845 Q54.7421 718.428 52.2884 717.572 L52.2884 713.058 Q54.2328 714.192 56.5477 714.771 Q58.8625 715.35 61.3856 715.35 Q65.7837 715.35 68.0754 713.613 Q70.3902 711.877 70.3902 708.567 Q70.3902 705.512 68.2374 703.799 Q66.1078 702.063 62.2884 702.063 L58.2606 702.063 L58.2606 698.22 L62.4735 698.22 Q65.9226 698.22 67.7513 696.854 Q69.58 695.465 69.58 692.873 Q69.58 690.211 67.6819 688.799 Q65.8069 687.364 62.2884 687.364 Q60.3671 687.364 58.168 687.78 Q55.969 688.197 53.3301 689.077 L53.3301 684.91 Q55.9921 684.169 58.3069 683.799 Q60.6449 683.428 62.705 683.428 Q68.0291 683.428 71.1309 685.859 Q74.2327 688.266 74.2327 692.387 Q74.2327 695.257 72.5892 697.248 Q70.9457 699.215 67.9133 699.979 Z\" fill=\"#000000\" fill-rule=\"nonzero\" fill-opacity=\"1\" /><path clip-path=\"url(#clip640)\" d=\"M93.9086 687.132 Q90.2975 687.132 88.4688 690.697 Q86.6632 694.239 86.6632 701.368 Q86.6632 708.475 88.4688 712.039 Q90.2975 715.581 93.9086 715.581 Q97.5428 715.581 99.3483 712.039 Q101.177 708.475 101.177 701.368 Q101.177 694.239 99.3483 690.697 Q97.5428 687.132 93.9086 687.132 M93.9086 683.428 Q99.7187 683.428 102.774 688.035 Q105.853 692.618 105.853 701.368 Q105.853 710.095 102.774 714.701 Q99.7187 719.285 93.9086 719.285 Q88.0984 719.285 85.0197 714.701 Q81.9642 710.095 81.9642 701.368 Q81.9642 692.618 85.0197 688.035 Q88.0984 683.428 93.9086 683.428 Z\" fill=\"#000000\" fill-rule=\"nonzero\" fill-opacity=\"1\" /><path clip-path=\"url(#clip640)\" d=\"M66.5939 438.802 L54.7884 457.251 L66.5939 457.251 L66.5939 438.802 M65.367 434.728 L71.2466 434.728 L71.2466 457.251 L76.1772 457.251 L76.1772 461.14 L71.2466 461.14 L71.2466 469.288 L66.5939 469.288 L66.5939 461.14 L50.9921 461.14 L50.9921 456.626 L65.367 434.728 Z\" fill=\"#000000\" fill-rule=\"nonzero\" fill-opacity=\"1\" /><path clip-path=\"url(#clip640)\" d=\"M93.9086 437.806 Q90.2975 437.806 88.4688 441.371 Q86.6632 444.913 86.6632 452.042 Q86.6632 459.149 88.4688 462.714 Q90.2975 466.255 93.9086 466.255 Q97.5428 466.255 99.3483 462.714 Q101.177 459.149 101.177 452.042 Q101.177 444.913 99.3483 441.371 Q97.5428 437.806 93.9086 437.806 M93.9086 434.103 Q99.7187 434.103 102.774 438.709 Q105.853 443.292 105.853 452.042 Q105.853 460.769 102.774 465.376 Q99.7187 469.959 93.9086 469.959 Q88.0984 469.959 85.0197 465.376 Q81.9642 460.769 81.9642 452.042 Q81.9642 443.292 85.0197 438.709 Q88.0984 434.103 93.9086 434.103 Z\" fill=\"#000000\" fill-rule=\"nonzero\" fill-opacity=\"1\" /><path clip-path=\"url(#clip640)\" d=\"M53.793 185.402 L72.1494 185.402 L72.1494 189.337 L58.0754 189.337 L58.0754 197.809 Q59.0939 197.462 60.1124 197.3 Q61.131 197.115 62.1495 197.115 Q67.9365 197.115 71.3161 200.286 Q74.6957 203.457 74.6957 208.874 Q74.6957 214.453 71.2235 217.554 Q67.7513 220.633 61.4319 220.633 Q59.256 220.633 56.9875 220.263 Q54.7421 219.892 52.3347 219.152 L52.3347 214.453 Q54.418 215.587 56.6402 216.142 Q58.8625 216.698 61.3393 216.698 Q65.3439 216.698 67.6819 214.591 Q70.0198 212.485 70.0198 208.874 Q70.0198 205.263 67.6819 203.156 Q65.3439 201.05 61.3393 201.05 Q59.4643 201.05 57.5893 201.467 Q55.7375 201.883 53.793 202.763 L53.793 185.402 Z\" fill=\"#000000\" fill-rule=\"nonzero\" fill-opacity=\"1\" /><path clip-path=\"url(#clip640)\" d=\"M93.9086 188.481 Q90.2975 188.481 88.4688 192.045 Q86.6632 195.587 86.6632 202.717 Q86.6632 209.823 88.4688 213.388 Q90.2975 216.929 93.9086 216.929 Q97.5428 216.929 99.3483 213.388 Q101.177 209.823 101.177 202.717 Q101.177 195.587 99.3483 192.045 Q97.5428 188.481 93.9086 188.481 M93.9086 184.777 Q99.7187 184.777 102.774 189.383 Q105.853 193.967 105.853 202.717 Q105.853 211.443 102.774 216.05 Q99.7187 220.633 93.9086 220.633 Q88.0984 220.633 85.0197 216.05 Q81.9642 211.443 81.9642 202.717 Q81.9642 193.967 85.0197 189.383 Q88.0984 184.777 93.9086 184.777 Z\" fill=\"#000000\" fill-rule=\"nonzero\" fill-opacity=\"1\" /><polyline clip-path=\"url(#clip642)\" style=\"stroke:#009af9; stroke-linecap:round; stroke-linejoin:round; stroke-width:4; stroke-opacity:1; fill:none\" points=\"204.426,1410.07 206.514,1410.12 208.601,1410.18 210.689,1410.24 212.777,1410.3 214.865,1410.36 216.953,1410.42 219.041,1410.48 221.128,1410.54 223.216,1410.6 225.304,1410.67 227.392,1410.73 229.48,1410.79 231.568,1410.85 233.656,1410.92 235.743,1410.98 237.831,1411.04 239.919,1411.11 242.007,1411.17 244.095,1411.24 246.183,1411.3 248.27,1411.37 250.358,1411.43 252.446,1411.5 254.534,1411.56 256.622,1411.63 258.71,1411.69 260.797,1411.76 262.885,1411.82 264.973,1411.89 267.061,1411.96 269.149,1412.02 271.237,1412.09 273.325,1412.16 275.412,1412.23 277.5,1412.29 279.588,1412.36 281.676,1412.43 283.764,1412.5 285.852,1412.57 287.939,1412.64 290.027,1412.7 292.115,1412.77 294.203,1412.84 296.291,1412.91 298.379,1412.98 300.467,1413.05 302.554,1413.12 304.642,1413.19 306.73,1413.26 308.818,1413.33 310.906,1413.4 312.994,1413.47 315.081,1413.54 317.169,1413.61 319.257,1413.68 321.345,1413.75 323.433,1413.82 325.521,1413.89 327.609,1413.96 329.696,1414.04 331.784,1414.11 333.872,1414.18 335.96,1414.25 338.048,1414.32 340.136,1414.39 342.223,1414.47 344.311,1414.54 346.399,1414.61 348.487,1414.68 350.575,1414.76 352.663,1414.83 354.751,1414.9 356.838,1414.98 358.926,1415.05 361.014,1415.12 363.102,1415.2 365.19,1415.27 367.278,1415.34 369.365,1415.42 371.453,1415.49 373.541,1415.56 375.629,1415.64 377.717,1415.71 379.805,1415.78 381.893,1415.86 383.98,1415.93 386.068,1416.01 388.156,1416.08 390.244,1416.15 392.332,1416.23 394.42,1416.3 396.507,1416.38 398.595,1416.45 400.683,1416.53 402.771,1416.6 404.859,1416.68 406.947,1416.75 409.035,1416.82 411.122,1416.9 413.21,1416.97 415.298,1417.05 417.386,1417.12 419.474,1417.2 421.562,1417.27 423.649,1417.35 425.737,1417.42 427.825,1417.5 429.913,1417.57 432.001,1417.65 434.089,1417.72 436.177,1417.8 438.264,1417.87 440.352,1417.95 442.44,1418.02 444.528,1418.1 446.616,1418.17 448.704,1418.25 450.791,1418.32 452.879,1418.4 454.967,1418.47 457.055,1418.55 459.143,1418.62 461.231,1418.7 463.318,1418.77 465.406,1418.85 467.494,1418.92 469.582,1419 471.67,1419.07 473.758,1419.15 475.846,1419.22 477.933,1419.3 480.021,1419.37 482.109,1419.44 484.197,1419.52 486.285,1419.59 488.373,1419.67 490.46,1419.74 492.548,1419.82 494.636,1419.89 496.724,1419.97 498.812,1420.04 500.9,1420.12 502.988,1420.19 505.075,1420.27 507.163,1420.34 509.251,1420.41 511.339,1420.49 513.427,1420.56 515.515,1420.64 517.602,1420.71 519.69,1420.78 521.778,1420.86 523.866,1420.93 525.954,1421.01 528.042,1421.08 530.13,1421.15 532.217,1421.23 534.305,1421.3 536.393,1421.37 538.481,1421.45 540.569,1421.52 542.657,1421.59 544.744,1421.66 546.832,1421.74 548.92,1421.81 551.008,1421.88 553.096,1421.95 555.184,1422.03 557.272,1422.1 559.359,1422.17 561.447,1422.24 563.535,1422.32 565.623,1422.39 567.711,1422.46 569.799,1422.53 571.886,1422.6 573.974,1422.67 576.062,1422.75 578.15,1422.82 580.238,1422.89 582.326,1422.96 584.414,1423.03 586.501,1423.1 588.589,1423.17 590.677,1423.24 592.765,1423.31 594.853,1423.38 596.941,1423.46 599.028,1423.53 601.116,1423.6 603.204,1423.67 605.292,1423.74 607.38,1423.81 609.468,1423.88 611.556,1423.95 613.643,1424.02 615.731,1424.09 617.819,1424.16 619.907,1424.23 621.995,1424.3 624.083,1424.36 626.17,1424.43 628.258,1424.5 630.346,1424.57 632.434,1424.64 634.522,1424.71 636.61,1424.78 638.698,1424.85 640.785,1424.92 642.873,1424.98 644.961,1425.05 647.049,1425.12 649.137,1425.19 651.225,1425.26 653.312,1425.33 655.4,1425.39 657.488,1425.46 659.576,1425.53 661.664,1425.6 663.752,1425.66 665.839,1425.73 667.927,1425.8 670.015,1425.87 672.103,1425.93 674.191,1426 676.279,1426.07 678.367,1426.13 680.454,1426.2 682.542,1426.27 684.63,1426.33 686.718,1426.4 688.806,1426.47 690.894,1426.53 692.981,1426.6 695.069,1426.66 697.157,1426.73 699.245,1426.79 701.333,1426.86 703.421,1426.92 705.509,1426.99 707.596,1427.05 709.684,1427.12 711.772,1427.18 713.86,1427.25 715.948,1427.31 718.036,1427.38 720.123,1427.44 722.211,1427.51 724.299,1427.57 726.387,1427.63 728.475,1427.7 730.563,1427.76 732.651,1427.82 734.738,1427.89 736.826,1427.95 738.914,1428.01 741.002,1428.08 743.09,1428.14 745.178,1428.2 747.265,1428.27 749.353,1428.33 751.441,1428.39 753.529,1428.45 755.617,1428.51 757.705,1428.58 759.793,1428.64 761.88,1428.7 763.968,1428.76 766.056,1428.82 768.144,1428.88 770.232,1428.94 772.32,1429.01 774.407,1429.07 776.495,1429.13 778.583,1429.19 780.671,1429.25 782.759,1429.31 784.847,1429.37 786.935,1429.43 789.022,1429.49 791.11,1429.55 793.198,1429.61 795.286,1429.67 797.374,1429.73 799.462,1429.79 801.549,1429.84 803.637,1429.9 805.725,1429.96 807.813,1430.02 809.901,1430.08 811.989,1430.14 814.077,1430.2 816.164,1430.25 818.252,1430.31 820.34,1430.37 822.428,1430.43 824.516,1430.48 826.604,1430.54 828.691,1430.6 830.779,1430.66 832.867,1430.71 834.955,1430.77 837.043,1430.83 839.131,1430.88 841.219,1430.94 843.306,1431 845.394,1431.05 847.482,1431.11 849.57,1431.17 851.658,1431.22 853.746,1431.28 855.833,1431.33 857.921,1431.39 860.009,1431.44 862.097,1431.5 864.185,1431.55 866.273,1431.61 868.36,1431.66 870.448,1431.72 872.536,1431.77 874.624,1431.83 876.712,1431.88 878.8,1431.93 880.888,1431.99 882.975,1432.04 885.063,1432.1 887.151,1432.15 889.239,1432.2 891.327,1432.26 893.415,1432.31 895.502,1432.36 897.59,1432.41 899.678,1432.47 901.766,1432.52 903.854,1432.57 905.942,1432.62 908.03,1432.68 910.117,1432.73 912.205,1432.78 914.293,1432.83 916.381,1432.88 918.469,1432.94 920.557,1432.99 922.644,1433.04 924.732,1433.09 926.82,1433.14 928.908,1433.19 930.996,1433.24 933.084,1433.29 935.172,1433.34 937.259,1433.39 939.347,1433.44 941.435,1433.49 943.523,1433.54 945.611,1433.59 947.699,1433.64 949.786,1433.69 951.874,1433.74 953.962,1433.79 956.05,1433.84 958.138,1433.89 960.226,1433.94 962.314,1433.98 964.401,1434.03 966.489,1434.08 968.577,1434.13 970.665,1434.18 972.753,1434.23 974.841,1434.27 976.928,1434.32 979.016,1434.37 981.104,1434.42 983.192,1434.46 985.28,1434.51 987.368,1434.56 989.456,1434.6 991.543,1434.65 993.631,1434.7 995.719,1434.74 997.807,1434.79 999.895,1434.84 1001.98,1434.88 1004.07,1434.93 1006.16,1434.97 1008.25,1435.02 1010.33,1435.06 1012.42,1435.11 1014.51,1435.16 1016.6,1435.2 1018.69,1435.25 1020.77,1435.29 1022.86,1435.33 1024.95,1435.38 1027.04,1435.42 1029.12,1435.47 1031.21,1435.51 1033.3,1435.56 1035.39,1435.6 1037.48,1435.64 1039.56,1435.69 1041.65,1435.73 1043.74,1435.77 1045.83,1435.82 1047.92,1435.86 1050,1435.9 1052.09,1435.95 1054.18,1435.99 1056.27,1436.03 1058.35,1436.08 1060.44,1436.12 1062.53,1436.16 1064.62,1436.2 1066.71,1436.24 1068.79,1436.29 1070.88,1436.33 1072.97,1436.37 1075.06,1436.41 1077.15,1436.45 1079.23,1436.49 1081.32,1436.53 1083.41,1436.58 1085.5,1436.62 1087.58,1436.66 1089.67,1436.7 1091.76,1436.74 1093.85,1436.78 1095.94,1436.82 1098.02,1436.86 1100.11,1436.9 1102.2,1436.94 1104.29,1436.98 1106.37,1437.02 1108.46,1437.06 1110.55,1437.1 1112.64,1437.14 1114.73,1437.18 1116.81,1437.22 1118.9,1437.26 1120.99,1437.29 1123.08,1437.33 1125.17,1437.37 1127.25,1437.41 1129.34,1437.45 1131.43,1437.49 1133.52,1437.52 1135.6,1437.56 1137.69,1437.6 1139.78,1437.64 1141.87,1437.68 1143.96,1437.71 1146.04,1437.75 1148.13,1437.79 1150.22,1437.83 1152.31,1437.86 1154.4,1437.9 1156.48,1437.94 1158.57,1437.97 1160.66,1438.01 1162.75,1438.05 1164.83,1438.08 1166.92,1438.12 1169.01,1438.16 1171.1,1438.19 1173.19,1438.23 1175.27,1438.26 1177.36,1438.3 1179.45,1438.34 1181.54,1438.37 1183.63,1438.41 1185.71,1438.44 1187.8,1438.48 1189.89,1438.51 1191.98,1438.55 1194.06,1438.58 1196.15,1438.62 1198.24,1438.65 1200.33,1438.68 1202.42,1438.72 1204.5,1438.75 1206.59,1438.79 1208.68,1438.82 1210.77,1438.86 1212.85,1438.89 1214.94,1438.92 1217.03,1438.96 1219.12,1438.99 1221.21,1439.02 1223.29,1439.06 1225.38,1439.09 1227.47,1439.12 1229.56,1439.15 1231.65,1439.19 1233.73,1439.22 1235.82,1439.25 1237.91,1439.28 1240,1439.32 1242.08,1439.35 1244.17,1439.38 1246.26,1439.41 1248.35,1439.45 1250.44,1439.48 1252.52,1439.51 1254.61,1439.54 1256.7,1439.57 1258.79,1439.6 1260.88,1439.63 1262.96,1439.66 1265.05,1439.7 1267.14,1439.73 1269.23,1439.76 1271.31,1439.79 1273.4,1439.82 1275.49,1439.85 1277.58,1439.88 1279.67,1439.91 1281.75,1439.94 1283.84,1439.97 1285.93,1440 1288.02,1440.03 1290.11,1440.06 1292.19,1440.09 1294.28,1440.12 1296.37,1440.15 1298.46,1440.18 1300.54,1440.2 1302.63,1440.23 1304.72,1440.26 1306.81,1440.29 1308.9,1440.32 1310.98,1440.35 1313.07,1440.38 1315.16,1440.41 1317.25,1440.43 1319.34,1440.46 1321.42,1440.49 1323.51,1440.52 1325.6,1440.55 1327.69,1440.57 1329.77,1440.6 1331.86,1440.63 1333.95,1440.66 1336.04,1440.68 1338.13,1440.71 1340.21,1440.74 1342.3,1440.77 1344.39,1440.79 1346.48,1440.82 1348.56,1440.85 1350.65,1440.87 1352.74,1440.9 1354.83,1440.93 1356.92,1440.95 1359,1440.98 1361.09,1441 1363.18,1441.03 1365.27,1441.06 1367.36,1441.08 1369.44,1441.11 1371.53,1441.13 1373.62,1441.16 1375.71,1441.19 1377.79,1441.21 1379.88,1441.24 1381.97,1441.26 1384.06,1441.29 1386.15,1441.31 1388.23,1441.34 1390.32,1441.36 1392.41,1441.39 1394.5,1441.41 1396.59,1441.44 1398.67,1441.46 1400.76,1441.48 1402.85,1441.51 1404.94,1441.53 1407.02,1441.56 1409.11,1441.58 1411.2,1441.61 1413.29,1441.63 1415.38,1441.65 1417.46,1441.68 1419.55,1441.7 1421.64,1441.72 1423.73,1441.75 1425.82,1441.77 1427.9,1441.79 1429.99,1441.82 1432.08,1441.84 1434.17,1441.86 1436.25,1441.89 1438.34,1441.91 1440.43,1441.93 1442.52,1441.95 1444.61,1441.98 1446.69,1442 1448.78,1442.02 1450.87,1442.04 1452.96,1442.07 1455.05,1442.09 1457.13,1442.11 1459.22,1442.13 1461.31,1442.16 1463.4,1442.18 1465.48,1442.2 1467.57,1442.22 1469.66,1442.24 1471.75,1442.26 1473.84,1442.28 1475.92,1442.31 1478.01,1442.33 1480.1,1442.35 1482.19,1442.37 1484.27,1442.39 1486.36,1442.41 1488.45,1442.43 1490.54,1442.45 1492.63,1442.47 1494.71,1442.49 1496.8,1442.52 1498.89,1442.54 1500.98,1442.56 1503.07,1442.58 1505.15,1442.6 1507.24,1442.62 1509.33,1442.64 1511.42,1442.66 1513.5,1442.68 1515.59,1442.7 1517.68,1442.72 1519.77,1442.74 1521.86,1442.76 1523.94,1442.77 1526.03,1442.79 1528.12,1442.81 1530.21,1442.83 1532.3,1442.85 1534.38,1442.87 1536.47,1442.89 1538.56,1442.91 1540.65,1442.93 1542.73,1442.95 1544.82,1442.96 1546.91,1442.98 1549,1443 1551.09,1443.02 1553.17,1443.04 1555.26,1443.06 1557.35,1443.08 1559.44,1443.09 1561.53,1443.11 1563.61,1443.13 1565.7,1443.15 1567.79,1443.16 1569.88,1443.18 1571.96,1443.2 1574.05,1443.22 1576.14,1443.24 1578.23,1443.25 1580.32,1443.27 1582.4,1443.29 1584.49,1443.3 1586.58,1443.32 1588.67,1443.34 1590.75,1443.36 1592.84,1443.37 1594.93,1443.39 1597.02,1443.41 1599.11,1443.42 1601.19,1443.44 1603.28,1443.45 1605.37,1443.47 1607.46,1443.49 1609.55,1443.5 1611.63,1443.52 1613.72,1443.54 1615.81,1443.55 1617.9,1443.57 1619.98,1443.58 1622.07,1443.6 1624.16,1443.61 1626.25,1443.63 1628.34,1443.65 1630.42,1443.66 1632.51,1443.68 1634.6,1443.69 1636.69,1443.71 1638.78,1443.72 1640.86,1443.74 1642.95,1443.75 1645.04,1443.77 1647.13,1443.78 1649.21,1443.8 1651.3,1443.81 1653.39,1443.83 1655.48,1443.84 1657.57,1443.85 1659.65,1443.87 1661.74,1443.88 1663.83,1443.9 1665.92,1443.91 1668.01,1443.92 1670.09,1443.94 1672.18,1443.95 1674.27,1443.97 1676.36,1443.98 1678.44,1443.99 1680.53,1444.01 1682.62,1444.02 1684.71,1444.03 1686.8,1444.05 1688.88,1444.06 1690.97,1444.07 1693.06,1444.09 1695.15,1444.1 1697.24,1444.11 1699.32,1444.13 1701.41,1444.14 1703.5,1444.15 1705.59,1444.16 1707.67,1444.18 1709.76,1444.19 1711.85,1444.2 1713.94,1444.21 1716.03,1444.23 1718.11,1444.24 1720.2,1444.25 1722.29,1444.26 1724.38,1444.27 1726.46,1444.29 1728.55,1444.3 1730.64,1444.31 1732.73,1444.32 1734.82,1444.33 1736.9,1444.34 1738.99,1444.36 1741.08,1444.37 1743.17,1444.38 1745.26,1444.39 1747.34,1444.4 1749.43,1444.41 1751.52,1444.42 1753.61,1444.43 1755.69,1444.45 1757.78,1444.46 1759.87,1444.47 1761.96,1444.48 1764.05,1444.49 1766.13,1444.5 1768.22,1444.51 1770.31,1444.52 1772.4,1444.53 1774.49,1444.54 1776.57,1444.55 1778.66,1444.56 1780.75,1444.57 1782.84,1444.58 1784.92,1444.59 1787.01,1444.6 1789.1,1444.61 1791.19,1444.62 1793.28,1444.63 1795.36,1444.64 1797.45,1444.65 1799.54,1444.66 1801.63,1444.67 1803.72,1444.68 1805.8,1444.69 1807.89,1444.7 1809.98,1444.71 1812.07,1444.72 1814.15,1444.73 1816.24,1444.73 1818.33,1444.74 1820.42,1444.75 1822.51,1444.76 1824.59,1444.77 1826.68,1444.78 1828.77,1444.79 1830.86,1444.8 1832.95,1444.8 1835.03,1444.81 1837.12,1444.82 1839.21,1444.83 1841.3,1444.84 1843.38,1444.85 1845.47,1444.85 1847.56,1444.86 1849.65,1444.87 1851.74,1444.88 1853.82,1444.89 1855.91,1444.89 1858,1444.9 1860.09,1444.91 1862.17,1444.92 1864.26,1444.93 1866.35,1444.93 1868.44,1444.94 1870.53,1444.95 1872.61,1444.96 1874.7,1444.96 1876.79,1444.97 1878.88,1444.98 1880.97,1444.99 1883.05,1444.99 1885.14,1445 1887.23,1445.01 1889.32,1445.01 1891.4,1445.02 1893.49,1445.03 1895.58,1445.04 1897.67,1445.04 1899.76,1445.05 1901.84,1445.06 1903.93,1445.06 1906.02,1445.07 1908.11,1445.08 1910.2,1445.08 1912.28,1445.09 1914.37,1445.1 1916.46,1445.1 1918.55,1445.11 1920.63,1445.11 1922.72,1445.12 1924.81,1445.13 1926.9,1445.13 1928.99,1445.14 1931.07,1445.15 1933.16,1445.15 1935.25,1445.16 1937.34,1445.16 1939.43,1445.17 1941.51,1445.18 1943.6,1445.18 1945.69,1445.19 1947.78,1445.19 1949.86,1445.2 1951.95,1445.2 1954.04,1445.21 1956.13,1445.22 1958.22,1445.22 1960.3,1445.23 1962.39,1445.23 1964.48,1445.24 1966.57,1445.24 1968.65,1445.25 1970.74,1445.25 1972.83,1445.26 1974.92,1445.26 1977.01,1445.27 1979.09,1445.27 1981.18,1445.28 1983.27,1445.28 1985.36,1445.29 1987.45,1445.29 1989.53,1445.3 1991.62,1445.3 1993.71,1445.31 1995.8,1445.31 1997.88,1445.32 1999.97,1445.32 2002.06,1445.33 2004.15,1445.33 2006.24,1445.34 2008.32,1445.34 2010.41,1445.35 2012.5,1445.35 2014.59,1445.35 2016.68,1445.36 2018.76,1445.36 2020.85,1445.37 2022.94,1445.37 2025.03,1445.38 2027.11,1445.38 2029.2,1445.39 2031.29,1445.39 2033.38,1445.39 2035.47,1445.4 2037.55,1445.4 2039.64,1445.41 2041.73,1445.41 2043.82,1445.41 2045.91,1445.42 2047.99,1445.42 2050.08,1445.43 2052.17,1445.43 2054.26,1445.43 2056.34,1445.44 2058.43,1445.44 2060.52,1445.45 2062.61,1445.45 2064.7,1445.45 2066.78,1445.46 2068.87,1445.46 2070.96,1445.46 2073.05,1445.47 2075.14,1445.47 2077.22,1445.47 2079.31,1445.48 2081.4,1445.48 2083.49,1445.48 2085.57,1445.49 2087.66,1445.49 2089.75,1445.49 2091.84,1445.5 2093.93,1445.5 2096.01,1445.5 2098.1,1445.51 2100.19,1445.51 2102.28,1445.51 2104.36,1445.52 2106.45,1445.52 2108.54,1445.52 2110.63,1445.53 2112.72,1445.53 2114.8,1445.53 2116.89,1445.54 2118.98,1445.54 2121.07,1445.54 2123.16,1445.54 2125.24,1445.55 2127.33,1445.55 2129.42,1445.55 2131.51,1445.56 2133.59,1445.56 2135.68,1445.56 2137.77,1445.56 2139.86,1445.57 2141.95,1445.57 2144.03,1445.57 2146.12,1445.58 2148.21,1445.58 2150.3,1445.58 2152.39,1445.58 2154.47,1445.59 2156.56,1445.59 2158.65,1445.59 2160.74,1445.59 2162.82,1445.6 2164.91,1445.6 2167,1445.6 2169.09,1445.6 2171.18,1445.61 2173.26,1445.61 2175.35,1445.61 2177.44,1445.61 2179.53,1445.62 2181.62,1445.62 2183.7,1445.62 2185.79,1445.62 2187.88,1445.62 2189.97,1445.63 2192.05,1445.63 2194.14,1445.63 2196.23,1445.63 2198.32,1445.64 2200.41,1445.64 2202.49,1445.64 2204.58,1445.64 2206.67,1445.64 2208.76,1445.65 2210.85,1445.65 2212.93,1445.65 2215.02,1445.65 2217.11,1445.65 2219.2,1445.66 2221.28,1445.66 2223.37,1445.66 2225.46,1445.66 2227.55,1445.66 2229.64,1445.67 2231.72,1445.67 2233.81,1445.67 2235.9,1445.67 2237.99,1445.67 2240.07,1445.68 2242.16,1445.68 2244.25,1445.68 2246.34,1445.68 2248.43,1445.68 2250.51,1445.68 2252.6,1445.69 2254.69,1445.69 2256.78,1445.69 2258.87,1445.69 2260.95,1445.69 2263.04,1445.7 2265.13,1445.7 2267.22,1445.7 2269.3,1445.7 2271.39,1445.7 2273.48,1445.7 2275.57,1445.7 2277.66,1445.71 2279.74,1445.71 2281.83,1445.71 2283.92,1445.71 2286.01,1445.71 2288.1,1445.71 2290.18,1445.72 \"/>\n",
       "<polyline clip-path=\"url(#clip642)\" style=\"stroke:#e26f46; stroke-linecap:round; stroke-linejoin:round; stroke-width:4; stroke-opacity:1; fill:none\" points=\"204.426,1399.45 206.514,1399.5 208.601,1399.54 210.689,1399.59 212.777,1399.64 214.865,1399.68 216.953,1399.72 219.041,1399.76 221.128,1399.8 223.216,1399.84 225.304,1399.88 227.392,1399.92 229.48,1399.95 231.568,1399.99 233.656,1400.02 235.743,1400.05 237.831,1400.08 239.919,1400.11 242.007,1400.14 244.095,1400.16 246.183,1400.19 248.27,1400.21 250.358,1400.24 252.446,1400.26 254.534,1400.28 256.622,1400.3 258.71,1400.31 260.797,1400.33 262.885,1400.35 264.973,1400.36 267.061,1400.37 269.149,1400.39 271.237,1400.4 273.325,1400.41 275.412,1400.41 277.5,1400.42 279.588,1400.43 281.676,1400.43 283.764,1400.44 285.852,1400.44 287.939,1400.44 290.027,1400.44 292.115,1400.44 294.203,1400.44 296.291,1400.43 298.379,1400.43 300.467,1400.42 302.554,1400.42 304.642,1400.41 306.73,1400.4 308.818,1400.39 310.906,1400.38 312.994,1400.36 315.081,1400.35 317.169,1400.33 319.257,1400.32 321.345,1400.3 323.433,1400.28 325.521,1400.26 327.609,1400.24 329.696,1400.22 331.784,1400.2 333.872,1400.17 335.96,1400.15 338.048,1400.12 340.136,1400.09 342.223,1400.06 344.311,1400.03 346.399,1400 348.487,1399.97 350.575,1399.94 352.663,1399.9 354.751,1399.87 356.838,1399.83 358.926,1399.79 361.014,1399.75 363.102,1399.71 365.19,1399.67 367.278,1399.63 369.365,1399.59 371.453,1399.54 373.541,1399.5 375.629,1399.45 377.717,1399.4 379.805,1399.36 381.893,1399.31 383.98,1399.25 386.068,1399.2 388.156,1399.15 390.244,1399.1 392.332,1399.04 394.42,1398.98 396.507,1398.93 398.595,1398.87 400.683,1398.81 402.771,1398.75 404.859,1398.68 406.947,1398.62 409.035,1398.56 411.122,1398.49 413.21,1398.43 415.298,1398.36 417.386,1398.29 419.474,1398.22 421.562,1398.15 423.649,1398.08 425.737,1398.01 427.825,1397.93 429.913,1397.86 432.001,1397.78 434.089,1397.7 436.177,1397.62 438.264,1397.55 440.352,1397.46 442.44,1397.38 444.528,1397.3 446.616,1397.22 448.704,1397.13 450.791,1397.05 452.879,1396.96 454.967,1396.87 457.055,1396.78 459.143,1396.69 461.231,1396.6 463.318,1396.51 465.406,1396.41 467.494,1396.32 469.582,1396.22 471.67,1396.13 473.758,1396.03 475.846,1395.93 477.933,1395.83 480.021,1395.73 482.109,1395.63 484.197,1395.53 486.285,1395.42 488.373,1395.32 490.46,1395.21 492.548,1395.1 494.636,1394.99 496.724,1394.88 498.812,1394.77 500.9,1394.66 502.988,1394.55 505.075,1394.43 507.163,1394.32 509.251,1394.2 511.339,1394.08 513.427,1393.97 515.515,1393.85 517.602,1393.73 519.69,1393.6 521.778,1393.48 523.866,1393.36 525.954,1393.23 528.042,1393.11 530.13,1392.98 532.217,1392.85 534.305,1392.72 536.393,1392.59 538.481,1392.46 540.569,1392.33 542.657,1392.19 544.744,1392.06 546.832,1391.92 548.92,1391.78 551.008,1391.65 553.096,1391.51 555.184,1391.37 557.272,1391.22 559.359,1391.08 561.447,1390.94 563.535,1390.79 565.623,1390.65 567.711,1390.5 569.799,1390.35 571.886,1390.2 573.974,1390.05 576.062,1389.9 578.15,1389.75 580.238,1389.59 582.326,1389.44 584.414,1389.28 586.501,1389.13 588.589,1388.97 590.677,1388.81 592.765,1388.65 594.853,1388.48 596.941,1388.32 599.028,1388.16 601.116,1387.99 603.204,1387.83 605.292,1387.66 607.38,1387.49 609.468,1387.32 611.556,1387.15 613.643,1386.98 615.731,1386.8 617.819,1386.63 619.907,1386.45 621.995,1386.28 624.083,1386.1 626.17,1385.92 628.258,1385.74 630.346,1385.56 632.434,1385.38 634.522,1385.19 636.61,1385.01 638.698,1384.82 640.785,1384.63 642.873,1384.45 644.961,1384.26 647.049,1384.07 649.137,1383.87 651.225,1383.68 653.312,1383.49 655.4,1383.29 657.488,1383.09 659.576,1382.9 661.664,1382.7 663.752,1382.5 665.839,1382.29 667.927,1382.09 670.015,1381.89 672.103,1381.68 674.191,1381.48 676.279,1381.27 678.367,1381.06 680.454,1380.85 682.542,1380.64 684.63,1380.43 686.718,1380.21 688.806,1380 690.894,1379.78 692.981,1379.56 695.069,1379.35 697.157,1379.13 699.245,1378.9 701.333,1378.68 703.421,1378.46 705.509,1378.23 707.596,1378.01 709.684,1377.78 711.772,1377.55 713.86,1377.32 715.948,1377.09 718.036,1376.86 720.123,1376.62 722.211,1376.39 724.299,1376.15 726.387,1375.91 728.475,1375.68 730.563,1375.44 732.651,1375.19 734.738,1374.95 736.826,1374.71 738.914,1374.46 741.002,1374.21 743.09,1373.97 745.178,1373.72 747.265,1373.47 749.353,1373.21 751.441,1372.96 753.529,1372.71 755.617,1372.45 757.705,1372.19 759.793,1371.93 761.88,1371.67 763.968,1371.41 766.056,1371.15 768.144,1370.89 770.232,1370.62 772.32,1370.35 774.407,1370.09 776.495,1369.82 778.583,1369.55 780.671,1369.27 782.759,1369 784.847,1368.73 786.935,1368.45 789.022,1368.17 791.11,1367.89 793.198,1367.61 795.286,1367.33 797.374,1367.05 799.462,1366.76 801.549,1366.48 803.637,1366.19 805.725,1365.9 807.813,1365.61 809.901,1365.32 811.989,1365.02 814.077,1364.73 816.164,1364.43 818.252,1364.13 820.34,1363.84 822.428,1363.54 824.516,1363.23 826.604,1362.93 828.691,1362.62 830.779,1362.32 832.867,1362.01 834.955,1361.7 837.043,1361.39 839.131,1361.08 841.219,1360.76 843.306,1360.45 845.394,1360.13 847.482,1359.81 849.57,1359.49 851.658,1359.17 853.746,1358.85 855.833,1358.53 857.921,1358.2 860.009,1357.87 862.097,1357.54 864.185,1357.21 866.273,1356.88 868.36,1356.55 870.448,1356.21 872.536,1355.87 874.624,1355.54 876.712,1355.2 878.8,1354.85 880.888,1354.51 882.975,1354.17 885.063,1353.82 887.151,1353.47 889.239,1353.12 891.327,1352.77 893.415,1352.42 895.502,1352.06 897.59,1351.71 899.678,1351.35 901.766,1350.99 903.854,1350.63 905.942,1350.27 908.03,1349.9 910.117,1349.54 912.205,1349.17 914.293,1348.8 916.381,1348.43 918.469,1348.06 920.557,1347.68 922.644,1347.31 924.732,1346.93 926.82,1346.55 928.908,1346.17 930.996,1345.79 933.084,1345.4 935.172,1345.02 937.259,1344.63 939.347,1344.24 941.435,1343.85 943.523,1343.45 945.611,1343.06 947.699,1342.66 949.786,1342.26 951.874,1341.86 953.962,1341.46 956.05,1341.06 958.138,1340.65 960.226,1340.24 962.314,1339.83 964.401,1339.42 966.489,1339.01 968.577,1338.6 970.665,1338.18 972.753,1337.76 974.841,1337.34 976.928,1336.92 979.016,1336.5 981.104,1336.07 983.192,1335.64 985.28,1335.21 987.368,1334.78 989.456,1334.35 991.543,1333.91 993.631,1333.48 995.719,1333.04 997.807,1332.6 999.895,1332.15 1001.98,1331.71 1004.07,1331.26 1006.16,1330.81 1008.25,1330.36 1010.33,1329.91 1012.42,1329.46 1014.51,1329 1016.6,1328.54 1018.69,1328.08 1020.77,1327.62 1022.86,1327.15 1024.95,1326.69 1027.04,1326.22 1029.12,1325.75 1031.21,1325.28 1033.3,1324.8 1035.39,1324.32 1037.48,1323.85 1039.56,1323.36 1041.65,1322.88 1043.74,1322.4 1045.83,1321.91 1047.92,1321.42 1050,1320.93 1052.09,1320.44 1054.18,1319.94 1056.27,1319.44 1058.35,1318.94 1060.44,1318.44 1062.53,1317.94 1064.62,1317.43 1066.71,1316.93 1068.79,1316.42 1070.88,1315.9 1072.97,1315.39 1075.06,1314.87 1077.15,1314.35 1079.23,1313.83 1081.32,1313.31 1083.41,1312.78 1085.5,1312.25 1087.58,1311.72 1089.67,1311.19 1091.76,1310.66 1093.85,1310.12 1095.94,1309.58 1098.02,1309.04 1100.11,1308.5 1102.2,1307.95 1104.29,1307.4 1106.37,1306.85 1108.46,1306.3 1110.55,1305.74 1112.64,1305.19 1114.73,1304.63 1116.81,1304.06 1118.9,1303.5 1120.99,1302.93 1123.08,1302.36 1125.17,1301.79 1127.25,1301.22 1129.34,1300.64 1131.43,1300.06 1133.52,1299.48 1135.6,1298.89 1137.69,1298.31 1139.78,1297.72 1141.87,1297.13 1143.96,1296.53 1146.04,1295.94 1148.13,1295.34 1150.22,1294.74 1152.31,1294.13 1154.4,1293.53 1156.48,1292.92 1158.57,1292.31 1160.66,1291.69 1162.75,1291.08 1164.83,1290.46 1166.92,1289.84 1169.01,1289.21 1171.1,1288.59 1173.19,1287.96 1175.27,1287.32 1177.36,1286.69 1179.45,1286.05 1181.54,1285.41 1183.63,1284.77 1185.71,1284.13 1187.8,1283.48 1189.89,1282.83 1191.98,1282.17 1194.06,1281.52 1196.15,1280.86 1198.24,1280.2 1200.33,1279.53 1202.42,1278.87 1204.5,1278.2 1206.59,1277.52 1208.68,1276.85 1210.77,1276.17 1212.85,1275.49 1214.94,1274.81 1217.03,1274.12 1219.12,1273.43 1221.21,1272.74 1223.29,1272.04 1225.38,1271.35 1227.47,1270.64 1229.56,1269.94 1231.65,1269.23 1233.73,1268.52 1235.82,1267.81 1237.91,1267.1 1240,1266.38 1242.08,1265.66 1244.17,1264.93 1246.26,1264.21 1248.35,1263.48 1250.44,1262.74 1252.52,1262.01 1254.61,1261.27 1256.7,1260.52 1258.79,1259.78 1260.88,1259.03 1262.96,1258.28 1265.05,1257.53 1267.14,1256.77 1269.23,1256.01 1271.31,1255.24 1273.4,1254.48 1275.49,1253.71 1277.58,1252.93 1279.67,1252.16 1281.75,1251.38 1283.84,1250.59 1285.93,1249.81 1288.02,1249.02 1290.11,1248.23 1292.19,1247.43 1294.28,1246.63 1296.37,1245.83 1298.46,1245.02 1300.54,1244.21 1302.63,1243.4 1304.72,1242.59 1306.81,1241.77 1308.9,1240.94 1310.98,1240.12 1313.07,1239.29 1315.16,1238.46 1317.25,1237.62 1319.34,1236.78 1321.42,1235.94 1323.51,1235.09 1325.6,1234.25 1327.69,1233.39 1329.77,1232.54 1331.86,1231.68 1333.95,1230.81 1336.04,1229.95 1338.13,1229.07 1340.21,1228.2 1342.3,1227.32 1344.39,1226.44 1346.48,1225.56 1348.56,1224.67 1350.65,1223.78 1352.74,1222.88 1354.83,1221.98 1356.92,1221.08 1359,1220.17 1361.09,1219.26 1363.18,1218.35 1365.27,1217.43 1367.36,1216.51 1369.44,1215.58 1371.53,1214.65 1373.62,1213.72 1375.71,1212.79 1377.79,1211.85 1379.88,1210.9 1381.97,1209.95 1384.06,1209 1386.15,1208.05 1388.23,1207.09 1390.32,1206.12 1392.41,1205.15 1394.5,1204.18 1396.59,1203.21 1398.67,1202.23 1400.76,1201.25 1402.85,1200.26 1404.94,1199.27 1407.02,1198.27 1409.11,1197.27 1411.2,1196.27 1413.29,1195.26 1415.38,1194.25 1417.46,1193.23 1419.55,1192.21 1421.64,1191.19 1423.73,1190.16 1425.82,1189.13 1427.9,1188.09 1429.99,1187.05 1432.08,1186.01 1434.17,1184.96 1436.25,1183.91 1438.34,1182.85 1440.43,1181.79 1442.52,1180.72 1444.61,1179.65 1446.69,1178.57 1448.78,1177.5 1450.87,1176.41 1452.96,1175.32 1455.05,1174.23 1457.13,1173.13 1459.22,1172.03 1461.31,1170.93 1463.4,1169.82 1465.48,1168.7 1467.57,1167.58 1469.66,1166.46 1471.75,1165.33 1473.84,1164.2 1475.92,1163.06 1478.01,1161.92 1480.1,1160.77 1482.19,1159.62 1484.27,1158.47 1486.36,1157.31 1488.45,1156.14 1490.54,1154.97 1492.63,1153.8 1494.71,1152.62 1496.8,1151.43 1498.89,1150.24 1500.98,1149.05 1503.07,1147.85 1505.15,1146.65 1507.24,1145.44 1509.33,1144.22 1511.42,1143.01 1513.5,1141.78 1515.59,1140.56 1517.68,1139.32 1519.77,1138.08 1521.86,1136.84 1523.94,1135.59 1526.03,1134.34 1528.12,1133.08 1530.21,1131.82 1532.3,1130.55 1534.38,1129.28 1536.47,1128 1538.56,1126.72 1540.65,1125.43 1542.73,1124.13 1544.82,1122.83 1546.91,1121.53 1549,1120.22 1551.09,1118.9 1553.17,1117.58 1555.26,1116.26 1557.35,1114.93 1559.44,1113.59 1561.53,1112.25 1563.61,1110.9 1565.7,1109.55 1567.79,1108.19 1569.88,1106.83 1571.96,1105.46 1574.05,1104.08 1576.14,1102.7 1578.23,1101.32 1580.32,1099.92 1582.4,1098.53 1584.49,1097.13 1586.58,1095.72 1588.67,1094.3 1590.75,1092.88 1592.84,1091.46 1594.93,1090.03 1597.02,1088.59 1599.11,1087.15 1601.19,1085.7 1603.28,1084.24 1605.37,1082.78 1607.46,1081.32 1609.55,1079.85 1611.63,1078.37 1613.72,1076.88 1615.81,1075.39 1617.9,1073.9 1619.98,1072.4 1622.07,1070.89 1624.16,1069.37 1626.25,1067.85 1628.34,1066.33 1630.42,1064.8 1632.51,1063.26 1634.6,1061.71 1636.69,1060.16 1638.78,1058.6 1640.86,1057.04 1642.95,1055.47 1645.04,1053.89 1647.13,1052.31 1649.21,1050.72 1651.3,1049.13 1653.39,1047.53 1655.48,1045.92 1657.57,1044.3 1659.65,1042.68 1661.74,1041.06 1663.83,1039.42 1665.92,1037.78 1668.01,1036.13 1670.09,1034.48 1672.18,1032.82 1674.27,1031.15 1676.36,1029.48 1678.44,1027.8 1680.53,1026.11 1682.62,1024.41 1684.71,1022.71 1686.8,1021.01 1688.88,1019.29 1690.97,1017.57 1693.06,1015.84 1695.15,1014.1 1697.24,1012.36 1699.32,1010.61 1701.41,1008.86 1703.5,1007.09 1705.59,1005.32 1707.67,1003.54 1709.76,1001.76 1711.85,999.965 1713.94,998.166 1716.03,996.359 1718.11,994.545 1720.2,992.724 1722.29,990.895 1724.38,989.059 1726.46,987.215 1728.55,985.365 1730.64,983.506 1732.73,981.641 1734.82,979.767 1736.9,977.887 1738.99,975.998 1741.08,974.102 1743.17,972.199 1745.26,970.288 1747.34,968.369 1749.43,966.442 1751.52,964.508 1753.61,962.566 1755.69,960.616 1757.78,958.658 1759.87,956.692 1761.96,954.719 1764.05,952.737 1766.13,950.748 1768.22,948.75 1770.31,946.745 1772.4,944.731 1774.49,942.71 1776.57,940.68 1778.66,938.642 1780.75,936.596 1782.84,934.541 1784.92,932.479 1787.01,930.408 1789.1,928.329 1791.19,926.241 1793.28,924.145 1795.36,922.041 1797.45,919.928 1799.54,917.806 1801.63,915.677 1803.72,913.538 1805.8,911.391 1807.89,909.235 1809.98,907.071 1812.07,904.898 1814.15,902.716 1816.24,900.526 1818.33,898.326 1820.42,896.118 1822.51,893.901 1824.59,891.675 1826.68,889.44 1828.77,887.197 1830.86,884.944 1832.95,882.682 1835.03,880.411 1837.12,878.131 1839.21,875.841 1841.3,873.543 1843.38,871.235 1845.47,868.918 1847.56,866.592 1849.65,864.256 1851.74,861.911 1853.82,859.556 1855.91,857.192 1858,854.819 1860.09,852.436 1862.17,850.043 1864.26,847.641 1866.35,845.23 1868.44,842.808 1870.53,840.377 1872.61,837.936 1874.7,835.485 1876.79,833.024 1878.88,830.554 1880.97,828.073 1883.05,825.583 1885.14,823.083 1887.23,820.572 1889.32,818.051 1891.4,815.521 1893.49,812.98 1895.58,810.429 1897.67,807.868 1899.76,805.296 1901.84,802.714 1903.93,800.122 1906.02,797.519 1908.11,794.906 1910.2,792.282 1912.28,789.648 1914.37,787.003 1916.46,784.348 1918.55,781.682 1920.63,779.005 1922.72,776.318 1924.81,773.62 1926.9,770.91 1928.99,768.19 1931.07,765.459 1933.16,762.718 1935.25,759.965 1937.34,757.201 1939.43,754.426 1941.51,751.639 1943.6,748.842 1945.69,746.033 1947.78,743.214 1949.86,740.382 1951.95,737.54 1954.04,734.686 1956.13,731.82 1958.22,728.943 1960.3,726.055 1962.39,723.155 1964.48,720.243 1966.57,717.319 1968.65,714.384 1970.74,711.437 1972.83,708.478 1974.92,705.508 1977.01,702.525 1979.09,699.53 1981.18,696.524 1983.27,693.505 1985.36,690.474 1987.45,687.431 1989.53,684.376 1991.62,681.309 1993.71,678.229 1995.8,675.137 1997.88,672.032 1999.97,668.915 2002.06,665.785 2004.15,662.643 2006.24,659.489 2008.32,656.321 2010.41,653.141 2012.5,649.948 2014.59,646.743 2016.68,643.524 2018.76,640.292 2020.85,637.048 2022.94,633.791 2025.03,630.52 2027.11,627.236 2029.2,623.939 2031.29,620.629 2033.38,617.306 2035.47,613.969 2037.55,610.619 2039.64,607.255 2041.73,603.878 2043.82,600.488 2045.91,597.083 2047.99,593.666 2050.08,590.234 2052.17,586.789 2054.26,583.329 2056.34,579.856 2058.43,576.369 2060.52,572.868 2062.61,569.353 2064.7,565.824 2066.78,562.28 2068.87,558.723 2070.96,555.151 2073.05,551.565 2075.14,547.964 2077.22,544.349 2079.31,540.719 2081.4,537.075 2083.49,533.416 2085.57,529.743 2087.66,526.055 2089.75,522.352 2091.84,518.634 2093.93,514.901 2096.01,511.153 2098.1,507.39 2100.19,503.612 2102.28,499.819 2104.36,496.011 2106.45,492.187 2108.54,488.348 2110.63,484.494 2112.72,480.624 2114.8,476.739 2116.89,472.838 2118.98,468.921 2121.07,464.989 2123.16,461.041 2125.24,457.077 2127.33,453.097 2129.42,449.101 2131.51,445.089 2133.59,441.061 2135.68,437.017 2137.77,432.956 2139.86,428.88 2141.95,424.787 2144.03,420.677 2146.12,416.551 2148.21,412.409 2150.3,408.25 2152.39,404.074 2154.47,399.881 2156.56,395.672 2158.65,391.445 2160.74,387.202 2162.82,382.942 2164.91,378.664 2167,374.37 2169.09,370.058 2171.18,365.729 2173.26,361.382 2175.35,357.018 2177.44,352.637 2179.53,348.238 2181.62,343.821 2183.7,339.387 2185.79,334.935 2187.88,330.465 2189.97,325.977 2192.05,321.471 2194.14,316.946 2196.23,312.404 2198.32,307.844 2200.41,303.265 2202.49,298.668 2204.58,294.052 2206.67,289.418 2208.76,284.765 2210.85,280.094 2212.93,275.404 2215.02,270.695 2217.11,265.967 2219.2,261.22 2221.28,256.454 2223.37,251.669 2225.46,246.865 2227.55,242.041 2229.64,237.198 2231.72,232.336 2233.81,227.454 2235.9,222.553 2237.99,217.632 2240.07,212.691 2242.16,207.73 2244.25,202.75 2246.34,197.749 2248.43,192.729 2250.51,187.688 2252.6,182.627 2254.69,177.546 2256.78,172.444 2258.87,167.322 2260.95,162.179 2263.04,157.016 2265.13,151.832 2267.22,146.627 2269.3,141.401 2271.39,136.154 2273.48,130.887 2275.57,125.598 2277.66,120.288 2279.74,114.956 2281.83,109.603 2283.92,104.229 2286.01,98.8331 2288.1,93.4155 2290.18,87.9763 \"/>\n",
       "<path clip-path=\"url(#clip640)\" d=\"M215.55 250.738 L535.829 250.738 L535.829 95.2176 L215.55 95.2176  Z\" fill=\"#ffffff\" fill-rule=\"evenodd\" fill-opacity=\"1\"/>\n",
       "<polyline clip-path=\"url(#clip640)\" style=\"stroke:#000000; stroke-linecap:round; stroke-linejoin:round; stroke-width:4; stroke-opacity:1; fill:none\" points=\"215.55,250.738 535.829,250.738 535.829,95.2176 215.55,95.2176 215.55,250.738 \"/>\n",
       "<polyline clip-path=\"url(#clip640)\" style=\"stroke:#009af9; stroke-linecap:round; stroke-linejoin:round; stroke-width:4; stroke-opacity:1; fill:none\" points=\"240.115,147.058 387.509,147.058 \"/>\n",
       "<path clip-path=\"url(#clip640)\" d=\"M416.357 160.449 L416.357 174.199 L412.074 174.199 L412.074 138.412 L416.357 138.412 L416.357 142.347 Q417.699 140.032 419.736 138.921 Q421.797 137.787 424.644 137.787 Q429.366 137.787 432.306 141.537 Q435.269 145.287 435.269 151.398 Q435.269 157.509 432.306 161.259 Q429.366 165.009 424.644 165.009 Q421.797 165.009 419.736 163.898 Q417.699 162.763 416.357 160.449 M430.847 151.398 Q430.847 146.699 428.903 144.037 Q426.982 141.352 423.602 141.352 Q420.223 141.352 418.278 144.037 Q416.357 146.699 416.357 151.398 Q416.357 156.097 418.278 158.782 Q420.223 161.444 423.602 161.444 Q426.982 161.444 428.903 158.782 Q430.847 156.097 430.847 151.398 Z\" fill=\"#000000\" fill-rule=\"nonzero\" fill-opacity=\"1\" /><path clip-path=\"url(#clip640)\" d=\"M457.352 142.393 Q456.634 141.977 455.778 141.791 Q454.945 141.583 453.926 141.583 Q450.315 141.583 448.371 143.944 Q446.449 146.282 446.449 150.68 L446.449 164.338 L442.167 164.338 L442.167 138.412 L446.449 138.412 L446.449 142.44 Q447.792 140.078 449.945 138.944 Q452.097 137.787 455.176 137.787 Q455.616 137.787 456.148 137.856 Q456.681 137.903 457.329 138.018 L457.352 142.393 Z\" fill=\"#000000\" fill-rule=\"nonzero\" fill-opacity=\"1\" /><path clip-path=\"url(#clip640)\" d=\"M482.954 150.31 L482.954 152.393 L463.37 152.393 Q463.648 156.791 466.009 159.106 Q468.394 161.398 472.63 161.398 Q475.083 161.398 477.375 160.796 Q479.69 160.194 481.958 158.99 L481.958 163.018 Q479.667 163.99 477.259 164.5 Q474.852 165.009 472.375 165.009 Q466.171 165.009 462.537 161.398 Q458.926 157.787 458.926 151.629 Q458.926 145.264 462.352 141.537 Q465.801 137.787 471.634 137.787 Q476.866 137.787 479.898 141.166 Q482.954 144.523 482.954 150.31 M478.694 149.06 Q478.648 145.565 476.727 143.481 Q474.829 141.398 471.681 141.398 Q468.116 141.398 465.963 143.412 Q463.833 145.426 463.509 149.083 L478.694 149.06 Z\" fill=\"#000000\" fill-rule=\"nonzero\" fill-opacity=\"1\" /><path clip-path=\"url(#clip640)\" d=\"M507.004 142.347 L507.004 128.319 L511.264 128.319 L511.264 164.338 L507.004 164.338 L507.004 160.449 Q505.662 162.763 503.602 163.898 Q501.565 165.009 498.694 165.009 Q493.995 165.009 491.032 161.259 Q488.093 157.509 488.093 151.398 Q488.093 145.287 491.032 141.537 Q493.995 137.787 498.694 137.787 Q501.565 137.787 503.602 138.921 Q505.662 140.032 507.004 142.347 M492.491 151.398 Q492.491 156.097 494.412 158.782 Q496.356 161.444 499.736 161.444 Q503.116 161.444 505.06 158.782 Q507.004 156.097 507.004 151.398 Q507.004 146.699 505.06 144.037 Q503.116 141.352 499.736 141.352 Q496.356 141.352 494.412 144.037 Q492.491 146.699 492.491 151.398 Z\" fill=\"#000000\" fill-rule=\"nonzero\" fill-opacity=\"1\" /><polyline clip-path=\"url(#clip640)\" style=\"stroke:#e26f46; stroke-linecap:round; stroke-linejoin:round; stroke-width:4; stroke-opacity:1; fill:none\" points=\"240.115,198.898 387.509,198.898 \"/>\n",
       "<path clip-path=\"url(#clip640)\" d=\"M419.482 182.891 L419.482 190.252 L428.255 190.252 L428.255 193.562 L419.482 193.562 L419.482 207.636 Q419.482 210.807 420.338 211.71 Q421.218 212.613 423.88 212.613 L428.255 212.613 L428.255 216.178 L423.88 216.178 Q418.949 216.178 417.074 214.349 Q415.199 212.497 415.199 207.636 L415.199 193.562 L412.074 193.562 L412.074 190.252 L415.199 190.252 L415.199 182.891 L419.482 182.891 Z\" fill=\"#000000\" fill-rule=\"nonzero\" fill-opacity=\"1\" /><path clip-path=\"url(#clip640)\" d=\"M448.88 194.233 Q448.162 193.817 447.306 193.631 Q446.472 193.423 445.454 193.423 Q441.843 193.423 439.898 195.784 Q437.977 198.122 437.977 202.52 L437.977 216.178 L433.695 216.178 L433.695 190.252 L437.977 190.252 L437.977 194.28 Q439.32 191.918 441.472 190.784 Q443.625 189.627 446.704 189.627 Q447.144 189.627 447.676 189.696 Q448.208 189.743 448.857 189.858 L448.88 194.233 Z\" fill=\"#000000\" fill-rule=\"nonzero\" fill-opacity=\"1\" /><path clip-path=\"url(#clip640)\" d=\"M452.908 205.946 L452.908 190.252 L457.167 190.252 L457.167 205.784 Q457.167 209.465 458.602 211.316 Q460.037 213.145 462.907 213.145 Q466.357 213.145 468.347 210.946 Q470.361 208.747 470.361 204.951 L470.361 190.252 L474.62 190.252 L474.62 216.178 L470.361 216.178 L470.361 212.196 Q468.81 214.557 466.75 215.715 Q464.713 216.849 462.005 216.849 Q457.537 216.849 455.222 214.071 Q452.908 211.293 452.908 205.946 M463.625 189.627 L463.625 189.627 Z\" fill=\"#000000\" fill-rule=\"nonzero\" fill-opacity=\"1\" /><path clip-path=\"url(#clip640)\" d=\"M505.569 202.15 L505.569 204.233 L485.986 204.233 Q486.264 208.631 488.625 210.946 Q491.009 213.238 495.245 213.238 Q497.699 213.238 499.991 212.636 Q502.305 212.034 504.574 210.83 L504.574 214.858 Q502.282 215.83 499.875 216.34 Q497.467 216.849 494.991 216.849 Q488.787 216.849 485.153 213.238 Q481.542 209.627 481.542 203.469 Q481.542 197.104 484.968 193.377 Q488.417 189.627 494.25 189.627 Q499.481 189.627 502.514 193.006 Q505.569 196.363 505.569 202.15 M501.31 200.9 Q501.264 197.405 499.342 195.321 Q497.444 193.238 494.296 193.238 Q490.731 193.238 488.579 195.252 Q486.449 197.266 486.125 200.923 L501.31 200.9 Z\" fill=\"#000000\" fill-rule=\"nonzero\" fill-opacity=\"1\" /></svg>\n"
      ],
      "text/html": [
       "<?xml version=\"1.0\" encoding=\"utf-8\"?>\n",
       "<svg xmlns=\"http://www.w3.org/2000/svg\" xmlns:xlink=\"http://www.w3.org/1999/xlink\" width=\"600\" height=\"400\" viewBox=\"0 0 2400 1600\">\n",
       "<defs>\n",
       "  <clipPath id=\"clip690\">\n",
       "    <rect x=\"0\" y=\"0\" width=\"2400\" height=\"1600\"/>\n",
       "  </clipPath>\n",
       "</defs>\n",
       "<path clip-path=\"url(#clip690)\" d=\"M0 1600 L2400 1600 L2400 0 L0 0  Z\" fill=\"#ffffff\" fill-rule=\"evenodd\" fill-opacity=\"1\"/>\n",
       "<defs>\n",
       "  <clipPath id=\"clip691\">\n",
       "    <rect x=\"480\" y=\"0\" width=\"1681\" height=\"1600\"/>\n",
       "  </clipPath>\n",
       "</defs>\n",
       "<path clip-path=\"url(#clip690)\" d=\"M141.853 1486.45 L2352.76 1486.45 L2352.76 47.2441 L141.853 47.2441  Z\" fill=\"#ffffff\" fill-rule=\"evenodd\" fill-opacity=\"1\"/>\n",
       "<defs>\n",
       "  <clipPath id=\"clip692\">\n",
       "    <rect x=\"141\" y=\"47\" width=\"2212\" height=\"1440\"/>\n",
       "  </clipPath>\n",
       "</defs>\n",
       "<polyline clip-path=\"url(#clip692)\" style=\"stroke:#000000; stroke-linecap:round; stroke-linejoin:round; stroke-width:2; stroke-opacity:0.1; fill:none\" points=\"204.426,1486.45 204.426,47.2441 \"/>\n",
       "<polyline clip-path=\"url(#clip692)\" style=\"stroke:#000000; stroke-linecap:round; stroke-linejoin:round; stroke-width:2; stroke-opacity:0.1; fill:none\" points=\"725.865,1486.45 725.865,47.2441 \"/>\n",
       "<polyline clip-path=\"url(#clip692)\" style=\"stroke:#000000; stroke-linecap:round; stroke-linejoin:round; stroke-width:2; stroke-opacity:0.1; fill:none\" points=\"1247.3,1486.45 1247.3,47.2441 \"/>\n",
       "<polyline clip-path=\"url(#clip692)\" style=\"stroke:#000000; stroke-linecap:round; stroke-linejoin:round; stroke-width:2; stroke-opacity:0.1; fill:none\" points=\"1768.74,1486.45 1768.74,47.2441 \"/>\n",
       "<polyline clip-path=\"url(#clip692)\" style=\"stroke:#000000; stroke-linecap:round; stroke-linejoin:round; stroke-width:2; stroke-opacity:0.1; fill:none\" points=\"2290.18,1486.45 2290.18,47.2441 \"/>\n",
       "<polyline clip-path=\"url(#clip690)\" style=\"stroke:#000000; stroke-linecap:round; stroke-linejoin:round; stroke-width:4; stroke-opacity:1; fill:none\" points=\"141.853,1486.45 2352.76,1486.45 \"/>\n",
       "<polyline clip-path=\"url(#clip690)\" style=\"stroke:#000000; stroke-linecap:round; stroke-linejoin:round; stroke-width:4; stroke-opacity:1; fill:none\" points=\"204.426,1486.45 204.426,1467.55 \"/>\n",
       "<polyline clip-path=\"url(#clip690)\" style=\"stroke:#000000; stroke-linecap:round; stroke-linejoin:round; stroke-width:4; stroke-opacity:1; fill:none\" points=\"725.865,1486.45 725.865,1467.55 \"/>\n",
       "<polyline clip-path=\"url(#clip690)\" style=\"stroke:#000000; stroke-linecap:round; stroke-linejoin:round; stroke-width:4; stroke-opacity:1; fill:none\" points=\"1247.3,1486.45 1247.3,1467.55 \"/>\n",
       "<polyline clip-path=\"url(#clip690)\" style=\"stroke:#000000; stroke-linecap:round; stroke-linejoin:round; stroke-width:4; stroke-opacity:1; fill:none\" points=\"1768.74,1486.45 1768.74,1467.55 \"/>\n",
       "<polyline clip-path=\"url(#clip690)\" style=\"stroke:#000000; stroke-linecap:round; stroke-linejoin:round; stroke-width:4; stroke-opacity:1; fill:none\" points=\"2290.18,1486.45 2290.18,1467.55 \"/>\n",
       "<path clip-path=\"url(#clip690)\" d=\"M181.81 1517.37 Q178.199 1517.37 176.37 1520.93 Q174.565 1524.47 174.565 1531.6 Q174.565 1538.71 176.37 1542.27 Q178.199 1545.82 181.81 1545.82 Q185.444 1545.82 187.25 1542.27 Q189.079 1538.71 189.079 1531.6 Q189.079 1524.47 187.25 1520.93 Q185.444 1517.37 181.81 1517.37 M181.81 1513.66 Q187.62 1513.66 190.676 1518.27 Q193.754 1522.85 193.754 1531.6 Q193.754 1540.33 190.676 1544.94 Q187.62 1549.52 181.81 1549.52 Q176 1549.52 172.921 1544.94 Q169.866 1540.33 169.866 1531.6 Q169.866 1522.85 172.921 1518.27 Q176 1513.66 181.81 1513.66 Z\" fill=\"#000000\" fill-rule=\"nonzero\" fill-opacity=\"1\" /><path clip-path=\"url(#clip690)\" d=\"M201.972 1542.97 L206.856 1542.97 L206.856 1548.85 L201.972 1548.85 L201.972 1542.97 Z\" fill=\"#000000\" fill-rule=\"nonzero\" fill-opacity=\"1\" /><path clip-path=\"url(#clip690)\" d=\"M227.041 1517.37 Q223.43 1517.37 221.602 1520.93 Q219.796 1524.47 219.796 1531.6 Q219.796 1538.71 221.602 1542.27 Q223.43 1545.82 227.041 1545.82 Q230.676 1545.82 232.481 1542.27 Q234.31 1538.71 234.31 1531.6 Q234.31 1524.47 232.481 1520.93 Q230.676 1517.37 227.041 1517.37 M227.041 1513.66 Q232.851 1513.66 235.907 1518.27 Q238.986 1522.85 238.986 1531.6 Q238.986 1540.33 235.907 1544.94 Q232.851 1549.52 227.041 1549.52 Q221.231 1549.52 218.152 1544.94 Q215.097 1540.33 215.097 1531.6 Q215.097 1522.85 218.152 1518.27 Q221.231 1513.66 227.041 1513.66 Z\" fill=\"#000000\" fill-rule=\"nonzero\" fill-opacity=\"1\" /><path clip-path=\"url(#clip690)\" d=\"M703.747 1517.37 Q700.136 1517.37 698.307 1520.93 Q696.502 1524.47 696.502 1531.6 Q696.502 1538.71 698.307 1542.27 Q700.136 1545.82 703.747 1545.82 Q707.381 1545.82 709.187 1542.27 Q711.016 1538.71 711.016 1531.6 Q711.016 1524.47 709.187 1520.93 Q707.381 1517.37 703.747 1517.37 M703.747 1513.66 Q709.557 1513.66 712.613 1518.27 Q715.691 1522.85 715.691 1531.6 Q715.691 1540.33 712.613 1544.94 Q709.557 1549.52 703.747 1549.52 Q697.937 1549.52 694.858 1544.94 Q691.803 1540.33 691.803 1531.6 Q691.803 1522.85 694.858 1518.27 Q697.937 1513.66 703.747 1513.66 Z\" fill=\"#000000\" fill-rule=\"nonzero\" fill-opacity=\"1\" /><path clip-path=\"url(#clip690)\" d=\"M723.909 1542.97 L728.793 1542.97 L728.793 1548.85 L723.909 1548.85 L723.909 1542.97 Z\" fill=\"#000000\" fill-rule=\"nonzero\" fill-opacity=\"1\" /><path clip-path=\"url(#clip690)\" d=\"M739.025 1514.29 L757.381 1514.29 L757.381 1518.22 L743.307 1518.22 L743.307 1526.7 Q744.326 1526.35 745.344 1526.19 Q746.363 1526 747.381 1526 Q753.168 1526 756.548 1529.17 Q759.927 1532.34 759.927 1537.76 Q759.927 1543.34 756.455 1546.44 Q752.983 1549.52 746.664 1549.52 Q744.488 1549.52 742.219 1549.15 Q739.974 1548.78 737.566 1548.04 L737.566 1543.34 Q739.65 1544.47 741.872 1545.03 Q744.094 1545.58 746.571 1545.58 Q750.576 1545.58 752.914 1543.48 Q755.251 1541.37 755.251 1537.76 Q755.251 1534.15 752.914 1532.04 Q750.576 1529.94 746.571 1529.94 Q744.696 1529.94 742.821 1530.35 Q740.969 1530.77 739.025 1531.65 L739.025 1514.29 Z\" fill=\"#000000\" fill-rule=\"nonzero\" fill-opacity=\"1\" /><path clip-path=\"url(#clip690)\" d=\"M1214.46 1544.91 L1222.1 1544.91 L1222.1 1518.55 L1213.79 1520.21 L1213.79 1515.95 L1222.05 1514.29 L1226.73 1514.29 L1226.73 1544.91 L1234.36 1544.91 L1234.36 1548.85 L1214.46 1548.85 L1214.46 1544.91 Z\" fill=\"#000000\" fill-rule=\"nonzero\" fill-opacity=\"1\" /><path clip-path=\"url(#clip690)\" d=\"M1243.81 1542.97 L1248.69 1542.97 L1248.69 1548.85 L1243.81 1548.85 L1243.81 1542.97 Z\" fill=\"#000000\" fill-rule=\"nonzero\" fill-opacity=\"1\" /><path clip-path=\"url(#clip690)\" d=\"M1268.88 1517.37 Q1265.27 1517.37 1263.44 1520.93 Q1261.63 1524.47 1261.63 1531.6 Q1261.63 1538.71 1263.44 1542.27 Q1265.27 1545.82 1268.88 1545.82 Q1272.51 1545.82 1274.32 1542.27 Q1276.15 1538.71 1276.15 1531.6 Q1276.15 1524.47 1274.32 1520.93 Q1272.51 1517.37 1268.88 1517.37 M1268.88 1513.66 Q1274.69 1513.66 1277.74 1518.27 Q1280.82 1522.85 1280.82 1531.6 Q1280.82 1540.33 1277.74 1544.94 Q1274.69 1549.52 1268.88 1549.52 Q1263.07 1549.52 1259.99 1544.94 Q1256.93 1540.33 1256.93 1531.6 Q1256.93 1522.85 1259.99 1518.27 Q1263.07 1513.66 1268.88 1513.66 Z\" fill=\"#000000\" fill-rule=\"nonzero\" fill-opacity=\"1\" /><path clip-path=\"url(#clip690)\" d=\"M1736.39 1544.91 L1744.03 1544.91 L1744.03 1518.55 L1735.72 1520.21 L1735.72 1515.95 L1743.99 1514.29 L1748.66 1514.29 L1748.66 1544.91 L1756.3 1544.91 L1756.3 1548.85 L1736.39 1548.85 L1736.39 1544.91 Z\" fill=\"#000000\" fill-rule=\"nonzero\" fill-opacity=\"1\" /><path clip-path=\"url(#clip690)\" d=\"M1765.75 1542.97 L1770.63 1542.97 L1770.63 1548.85 L1765.75 1548.85 L1765.75 1542.97 Z\" fill=\"#000000\" fill-rule=\"nonzero\" fill-opacity=\"1\" /><path clip-path=\"url(#clip690)\" d=\"M1780.86 1514.29 L1799.22 1514.29 L1799.22 1518.22 L1785.14 1518.22 L1785.14 1526.7 Q1786.16 1526.35 1787.18 1526.19 Q1788.2 1526 1789.22 1526 Q1795.01 1526 1798.38 1529.17 Q1801.76 1532.34 1801.76 1537.76 Q1801.76 1543.34 1798.29 1546.44 Q1794.82 1549.52 1788.5 1549.52 Q1786.32 1549.52 1784.06 1549.15 Q1781.81 1548.78 1779.4 1548.04 L1779.4 1543.34 Q1781.49 1544.47 1783.71 1545.03 Q1785.93 1545.58 1788.41 1545.58 Q1792.41 1545.58 1794.75 1543.48 Q1797.09 1541.37 1797.09 1537.76 Q1797.09 1534.15 1794.75 1532.04 Q1792.41 1529.94 1788.41 1529.94 Q1786.53 1529.94 1784.66 1530.35 Q1782.81 1530.77 1780.86 1531.65 L1780.86 1514.29 Z\" fill=\"#000000\" fill-rule=\"nonzero\" fill-opacity=\"1\" /><path clip-path=\"url(#clip690)\" d=\"M2261.42 1544.91 L2277.74 1544.91 L2277.74 1548.85 L2255.8 1548.85 L2255.8 1544.91 Q2258.46 1542.16 2263.04 1537.53 Q2267.65 1532.88 2268.83 1531.53 Q2271.07 1529.01 2271.95 1527.27 Q2272.86 1525.51 2272.86 1523.82 Q2272.86 1521.07 2270.91 1519.33 Q2268.99 1517.6 2265.89 1517.6 Q2263.69 1517.6 2261.24 1518.36 Q2258.81 1519.13 2256.03 1520.68 L2256.03 1515.95 Q2258.85 1514.82 2261.31 1514.24 Q2263.76 1513.66 2265.8 1513.66 Q2271.17 1513.66 2274.36 1516.35 Q2277.56 1519.03 2277.56 1523.52 Q2277.56 1525.65 2276.75 1527.57 Q2275.96 1529.47 2273.85 1532.07 Q2273.27 1532.74 2270.17 1535.95 Q2267.07 1539.15 2261.42 1544.91 Z\" fill=\"#000000\" fill-rule=\"nonzero\" fill-opacity=\"1\" /><path clip-path=\"url(#clip690)\" d=\"M2287.56 1542.97 L2292.44 1542.97 L2292.44 1548.85 L2287.56 1548.85 L2287.56 1542.97 Z\" fill=\"#000000\" fill-rule=\"nonzero\" fill-opacity=\"1\" /><path clip-path=\"url(#clip690)\" d=\"M2312.63 1517.37 Q2309.01 1517.37 2307.19 1520.93 Q2305.38 1524.47 2305.38 1531.6 Q2305.38 1538.71 2307.19 1542.27 Q2309.01 1545.82 2312.63 1545.82 Q2316.26 1545.82 2318.06 1542.27 Q2319.89 1538.71 2319.89 1531.6 Q2319.89 1524.47 2318.06 1520.93 Q2316.26 1517.37 2312.63 1517.37 M2312.63 1513.66 Q2318.44 1513.66 2321.49 1518.27 Q2324.57 1522.85 2324.57 1531.6 Q2324.57 1540.33 2321.49 1544.94 Q2318.44 1549.52 2312.63 1549.52 Q2306.82 1549.52 2303.74 1544.94 Q2300.68 1540.33 2300.68 1531.6 Q2300.68 1522.85 2303.74 1518.27 Q2306.82 1513.66 2312.63 1513.66 Z\" fill=\"#000000\" fill-rule=\"nonzero\" fill-opacity=\"1\" /><polyline clip-path=\"url(#clip692)\" style=\"stroke:#000000; stroke-linecap:round; stroke-linejoin:round; stroke-width:2; stroke-opacity:0.1; fill:none\" points=\"141.853,1449.31 2352.76,1449.31 \"/>\n",
       "<polyline clip-path=\"url(#clip692)\" style=\"stroke:#000000; stroke-linecap:round; stroke-linejoin:round; stroke-width:2; stroke-opacity:0.1; fill:none\" points=\"141.853,1199.99 2352.76,1199.99 \"/>\n",
       "<polyline clip-path=\"url(#clip692)\" style=\"stroke:#000000; stroke-linecap:round; stroke-linejoin:round; stroke-width:2; stroke-opacity:0.1; fill:none\" points=\"141.853,950.659 2352.76,950.659 \"/>\n",
       "<polyline clip-path=\"url(#clip692)\" style=\"stroke:#000000; stroke-linecap:round; stroke-linejoin:round; stroke-width:2; stroke-opacity:0.1; fill:none\" points=\"141.853,701.333 2352.76,701.333 \"/>\n",
       "<polyline clip-path=\"url(#clip692)\" style=\"stroke:#000000; stroke-linecap:round; stroke-linejoin:round; stroke-width:2; stroke-opacity:0.1; fill:none\" points=\"141.853,452.008 2352.76,452.008 \"/>\n",
       "<polyline clip-path=\"url(#clip692)\" style=\"stroke:#000000; stroke-linecap:round; stroke-linejoin:round; stroke-width:2; stroke-opacity:0.1; fill:none\" points=\"141.853,202.682 2352.76,202.682 \"/>\n",
       "<polyline clip-path=\"url(#clip690)\" style=\"stroke:#000000; stroke-linecap:round; stroke-linejoin:round; stroke-width:4; stroke-opacity:1; fill:none\" points=\"141.853,1486.45 141.853,47.2441 \"/>\n",
       "<polyline clip-path=\"url(#clip690)\" style=\"stroke:#000000; stroke-linecap:round; stroke-linejoin:round; stroke-width:4; stroke-opacity:1; fill:none\" points=\"141.853,1449.31 160.751,1449.31 \"/>\n",
       "<polyline clip-path=\"url(#clip690)\" style=\"stroke:#000000; stroke-linecap:round; stroke-linejoin:round; stroke-width:4; stroke-opacity:1; fill:none\" points=\"141.853,1199.99 160.751,1199.99 \"/>\n",
       "<polyline clip-path=\"url(#clip690)\" style=\"stroke:#000000; stroke-linecap:round; stroke-linejoin:round; stroke-width:4; stroke-opacity:1; fill:none\" points=\"141.853,950.659 160.751,950.659 \"/>\n",
       "<polyline clip-path=\"url(#clip690)\" style=\"stroke:#000000; stroke-linecap:round; stroke-linejoin:round; stroke-width:4; stroke-opacity:1; fill:none\" points=\"141.853,701.333 160.751,701.333 \"/>\n",
       "<polyline clip-path=\"url(#clip690)\" style=\"stroke:#000000; stroke-linecap:round; stroke-linejoin:round; stroke-width:4; stroke-opacity:1; fill:none\" points=\"141.853,452.008 160.751,452.008 \"/>\n",
       "<polyline clip-path=\"url(#clip690)\" style=\"stroke:#000000; stroke-linecap:round; stroke-linejoin:round; stroke-width:4; stroke-opacity:1; fill:none\" points=\"141.853,202.682 160.751,202.682 \"/>\n",
       "<path clip-path=\"url(#clip690)\" d=\"M93.9086 1435.11 Q90.2975 1435.11 88.4688 1438.67 Q86.6632 1442.22 86.6632 1449.35 Q86.6632 1456.45 88.4688 1460.02 Q90.2975 1463.56 93.9086 1463.56 Q97.5428 1463.56 99.3483 1460.02 Q101.177 1456.45 101.177 1449.35 Q101.177 1442.22 99.3483 1438.67 Q97.5428 1435.11 93.9086 1435.11 M93.9086 1431.41 Q99.7187 1431.41 102.774 1436.01 Q105.853 1440.6 105.853 1449.35 Q105.853 1458.07 102.774 1462.68 Q99.7187 1467.26 93.9086 1467.26 Q88.0984 1467.26 85.0197 1462.68 Q81.9642 1458.07 81.9642 1449.35 Q81.9642 1440.6 85.0197 1436.01 Q88.0984 1431.41 93.9086 1431.41 Z\" fill=\"#000000\" fill-rule=\"nonzero\" fill-opacity=\"1\" /><path clip-path=\"url(#clip690)\" d=\"M54.5569 1213.33 L62.1958 1213.33 L62.1958 1186.96 L53.8856 1188.63 L53.8856 1184.37 L62.1495 1182.71 L66.8254 1182.71 L66.8254 1213.33 L74.4642 1213.33 L74.4642 1217.27 L54.5569 1217.27 L54.5569 1213.33 Z\" fill=\"#000000\" fill-rule=\"nonzero\" fill-opacity=\"1\" /><path clip-path=\"url(#clip690)\" d=\"M93.9086 1185.78 Q90.2975 1185.78 88.4688 1189.35 Q86.6632 1192.89 86.6632 1200.02 Q86.6632 1207.13 88.4688 1210.69 Q90.2975 1214.23 93.9086 1214.23 Q97.5428 1214.23 99.3483 1210.69 Q101.177 1207.13 101.177 1200.02 Q101.177 1192.89 99.3483 1189.35 Q97.5428 1185.78 93.9086 1185.78 M93.9086 1182.08 Q99.7187 1182.08 102.774 1186.69 Q105.853 1191.27 105.853 1200.02 Q105.853 1208.75 102.774 1213.35 Q99.7187 1217.94 93.9086 1217.94 Q88.0984 1217.94 85.0197 1213.35 Q81.9642 1208.75 81.9642 1200.02 Q81.9642 1191.27 85.0197 1186.69 Q88.0984 1182.08 93.9086 1182.08 Z\" fill=\"#000000\" fill-rule=\"nonzero\" fill-opacity=\"1\" /><path clip-path=\"url(#clip690)\" d=\"M57.7745 964.004 L74.0939 964.004 L74.0939 967.939 L52.1495 967.939 L52.1495 964.004 Q54.8115 961.249 59.3949 956.62 Q64.0013 951.967 65.1819 950.625 Q67.4272 948.101 68.3068 946.365 Q69.2096 944.606 69.2096 942.916 Q69.2096 940.162 67.2652 938.426 Q65.3439 936.689 62.2421 936.689 Q60.043 936.689 57.5893 937.453 Q55.1588 938.217 52.381 939.768 L52.381 935.046 Q55.2051 933.912 57.6588 933.333 Q60.1124 932.754 62.1495 932.754 Q67.5198 932.754 70.7142 935.439 Q73.9087 938.125 73.9087 942.615 Q73.9087 944.745 73.0985 946.666 Q72.3115 948.564 70.205 951.157 Q69.6263 951.828 66.5245 955.046 Q63.4226 958.24 57.7745 964.004 Z\" fill=\"#000000\" fill-rule=\"nonzero\" fill-opacity=\"1\" /><path clip-path=\"url(#clip690)\" d=\"M93.9086 936.458 Q90.2975 936.458 88.4688 940.023 Q86.6632 943.564 86.6632 950.694 Q86.6632 957.8 88.4688 961.365 Q90.2975 964.907 93.9086 964.907 Q97.5428 964.907 99.3483 961.365 Q101.177 957.8 101.177 950.694 Q101.177 943.564 99.3483 940.023 Q97.5428 936.458 93.9086 936.458 M93.9086 932.754 Q99.7187 932.754 102.774 937.361 Q105.853 941.944 105.853 950.694 Q105.853 959.421 102.774 964.027 Q99.7187 968.611 93.9086 968.611 Q88.0984 968.611 85.0197 964.027 Q81.9642 959.421 81.9642 950.694 Q81.9642 941.944 85.0197 937.361 Q88.0984 932.754 93.9086 932.754 Z\" fill=\"#000000\" fill-rule=\"nonzero\" fill-opacity=\"1\" /><path clip-path=\"url(#clip690)\" d=\"M67.9133 699.979 Q71.2698 700.697 73.1448 702.965 Q75.0429 705.234 75.0429 708.567 Q75.0429 713.683 71.5244 716.484 Q68.0059 719.285 61.5245 719.285 Q59.3486 719.285 57.0338 718.845 Q54.7421 718.428 52.2884 717.572 L52.2884 713.058 Q54.2328 714.192 56.5477 714.771 Q58.8625 715.35 61.3856 715.35 Q65.7837 715.35 68.0754 713.613 Q70.3902 711.877 70.3902 708.567 Q70.3902 705.512 68.2374 703.799 Q66.1078 702.063 62.2884 702.063 L58.2606 702.063 L58.2606 698.22 L62.4735 698.22 Q65.9226 698.22 67.7513 696.854 Q69.58 695.465 69.58 692.873 Q69.58 690.211 67.6819 688.799 Q65.8069 687.364 62.2884 687.364 Q60.3671 687.364 58.168 687.78 Q55.969 688.197 53.3301 689.077 L53.3301 684.91 Q55.9921 684.169 58.3069 683.799 Q60.6449 683.428 62.705 683.428 Q68.0291 683.428 71.1309 685.859 Q74.2327 688.266 74.2327 692.387 Q74.2327 695.257 72.5892 697.248 Q70.9457 699.215 67.9133 699.979 Z\" fill=\"#000000\" fill-rule=\"nonzero\" fill-opacity=\"1\" /><path clip-path=\"url(#clip690)\" d=\"M93.9086 687.132 Q90.2975 687.132 88.4688 690.697 Q86.6632 694.239 86.6632 701.368 Q86.6632 708.475 88.4688 712.039 Q90.2975 715.581 93.9086 715.581 Q97.5428 715.581 99.3483 712.039 Q101.177 708.475 101.177 701.368 Q101.177 694.239 99.3483 690.697 Q97.5428 687.132 93.9086 687.132 M93.9086 683.428 Q99.7187 683.428 102.774 688.035 Q105.853 692.618 105.853 701.368 Q105.853 710.095 102.774 714.701 Q99.7187 719.285 93.9086 719.285 Q88.0984 719.285 85.0197 714.701 Q81.9642 710.095 81.9642 701.368 Q81.9642 692.618 85.0197 688.035 Q88.0984 683.428 93.9086 683.428 Z\" fill=\"#000000\" fill-rule=\"nonzero\" fill-opacity=\"1\" /><path clip-path=\"url(#clip690)\" d=\"M66.5939 438.802 L54.7884 457.251 L66.5939 457.251 L66.5939 438.802 M65.367 434.728 L71.2466 434.728 L71.2466 457.251 L76.1772 457.251 L76.1772 461.14 L71.2466 461.14 L71.2466 469.288 L66.5939 469.288 L66.5939 461.14 L50.9921 461.14 L50.9921 456.626 L65.367 434.728 Z\" fill=\"#000000\" fill-rule=\"nonzero\" fill-opacity=\"1\" /><path clip-path=\"url(#clip690)\" d=\"M93.9086 437.806 Q90.2975 437.806 88.4688 441.371 Q86.6632 444.913 86.6632 452.042 Q86.6632 459.149 88.4688 462.714 Q90.2975 466.255 93.9086 466.255 Q97.5428 466.255 99.3483 462.714 Q101.177 459.149 101.177 452.042 Q101.177 444.913 99.3483 441.371 Q97.5428 437.806 93.9086 437.806 M93.9086 434.103 Q99.7187 434.103 102.774 438.709 Q105.853 443.292 105.853 452.042 Q105.853 460.769 102.774 465.376 Q99.7187 469.959 93.9086 469.959 Q88.0984 469.959 85.0197 465.376 Q81.9642 460.769 81.9642 452.042 Q81.9642 443.292 85.0197 438.709 Q88.0984 434.103 93.9086 434.103 Z\" fill=\"#000000\" fill-rule=\"nonzero\" fill-opacity=\"1\" /><path clip-path=\"url(#clip690)\" d=\"M53.793 185.402 L72.1494 185.402 L72.1494 189.337 L58.0754 189.337 L58.0754 197.809 Q59.0939 197.462 60.1124 197.3 Q61.131 197.115 62.1495 197.115 Q67.9365 197.115 71.3161 200.286 Q74.6957 203.457 74.6957 208.874 Q74.6957 214.453 71.2235 217.554 Q67.7513 220.633 61.4319 220.633 Q59.256 220.633 56.9875 220.263 Q54.7421 219.892 52.3347 219.152 L52.3347 214.453 Q54.418 215.587 56.6402 216.142 Q58.8625 216.698 61.3393 216.698 Q65.3439 216.698 67.6819 214.591 Q70.0198 212.485 70.0198 208.874 Q70.0198 205.263 67.6819 203.156 Q65.3439 201.05 61.3393 201.05 Q59.4643 201.05 57.5893 201.467 Q55.7375 201.883 53.793 202.763 L53.793 185.402 Z\" fill=\"#000000\" fill-rule=\"nonzero\" fill-opacity=\"1\" /><path clip-path=\"url(#clip690)\" d=\"M93.9086 188.481 Q90.2975 188.481 88.4688 192.045 Q86.6632 195.587 86.6632 202.717 Q86.6632 209.823 88.4688 213.388 Q90.2975 216.929 93.9086 216.929 Q97.5428 216.929 99.3483 213.388 Q101.177 209.823 101.177 202.717 Q101.177 195.587 99.3483 192.045 Q97.5428 188.481 93.9086 188.481 M93.9086 184.777 Q99.7187 184.777 102.774 189.383 Q105.853 193.967 105.853 202.717 Q105.853 211.443 102.774 216.05 Q99.7187 220.633 93.9086 220.633 Q88.0984 220.633 85.0197 216.05 Q81.9642 211.443 81.9642 202.717 Q81.9642 193.967 85.0197 189.383 Q88.0984 184.777 93.9086 184.777 Z\" fill=\"#000000\" fill-rule=\"nonzero\" fill-opacity=\"1\" /><polyline clip-path=\"url(#clip692)\" style=\"stroke:#009af9; stroke-linecap:round; stroke-linejoin:round; stroke-width:4; stroke-opacity:1; fill:none\" points=\"204.426,1410.07 206.514,1410.12 208.601,1410.18 210.689,1410.24 212.777,1410.3 214.865,1410.36 216.953,1410.42 219.041,1410.48 221.128,1410.54 223.216,1410.6 225.304,1410.67 227.392,1410.73 229.48,1410.79 231.568,1410.85 233.656,1410.92 235.743,1410.98 237.831,1411.04 239.919,1411.11 242.007,1411.17 244.095,1411.24 246.183,1411.3 248.27,1411.37 250.358,1411.43 252.446,1411.5 254.534,1411.56 256.622,1411.63 258.71,1411.69 260.797,1411.76 262.885,1411.82 264.973,1411.89 267.061,1411.96 269.149,1412.02 271.237,1412.09 273.325,1412.16 275.412,1412.23 277.5,1412.29 279.588,1412.36 281.676,1412.43 283.764,1412.5 285.852,1412.57 287.939,1412.64 290.027,1412.7 292.115,1412.77 294.203,1412.84 296.291,1412.91 298.379,1412.98 300.467,1413.05 302.554,1413.12 304.642,1413.19 306.73,1413.26 308.818,1413.33 310.906,1413.4 312.994,1413.47 315.081,1413.54 317.169,1413.61 319.257,1413.68 321.345,1413.75 323.433,1413.82 325.521,1413.89 327.609,1413.96 329.696,1414.04 331.784,1414.11 333.872,1414.18 335.96,1414.25 338.048,1414.32 340.136,1414.39 342.223,1414.47 344.311,1414.54 346.399,1414.61 348.487,1414.68 350.575,1414.76 352.663,1414.83 354.751,1414.9 356.838,1414.98 358.926,1415.05 361.014,1415.12 363.102,1415.2 365.19,1415.27 367.278,1415.34 369.365,1415.42 371.453,1415.49 373.541,1415.56 375.629,1415.64 377.717,1415.71 379.805,1415.78 381.893,1415.86 383.98,1415.93 386.068,1416.01 388.156,1416.08 390.244,1416.15 392.332,1416.23 394.42,1416.3 396.507,1416.38 398.595,1416.45 400.683,1416.53 402.771,1416.6 404.859,1416.68 406.947,1416.75 409.035,1416.82 411.122,1416.9 413.21,1416.97 415.298,1417.05 417.386,1417.12 419.474,1417.2 421.562,1417.27 423.649,1417.35 425.737,1417.42 427.825,1417.5 429.913,1417.57 432.001,1417.65 434.089,1417.72 436.177,1417.8 438.264,1417.87 440.352,1417.95 442.44,1418.02 444.528,1418.1 446.616,1418.17 448.704,1418.25 450.791,1418.32 452.879,1418.4 454.967,1418.47 457.055,1418.55 459.143,1418.62 461.231,1418.7 463.318,1418.77 465.406,1418.85 467.494,1418.92 469.582,1419 471.67,1419.07 473.758,1419.15 475.846,1419.22 477.933,1419.3 480.021,1419.37 482.109,1419.44 484.197,1419.52 486.285,1419.59 488.373,1419.67 490.46,1419.74 492.548,1419.82 494.636,1419.89 496.724,1419.97 498.812,1420.04 500.9,1420.12 502.988,1420.19 505.075,1420.27 507.163,1420.34 509.251,1420.41 511.339,1420.49 513.427,1420.56 515.515,1420.64 517.602,1420.71 519.69,1420.78 521.778,1420.86 523.866,1420.93 525.954,1421.01 528.042,1421.08 530.13,1421.15 532.217,1421.23 534.305,1421.3 536.393,1421.37 538.481,1421.45 540.569,1421.52 542.657,1421.59 544.744,1421.66 546.832,1421.74 548.92,1421.81 551.008,1421.88 553.096,1421.95 555.184,1422.03 557.272,1422.1 559.359,1422.17 561.447,1422.24 563.535,1422.32 565.623,1422.39 567.711,1422.46 569.799,1422.53 571.886,1422.6 573.974,1422.67 576.062,1422.75 578.15,1422.82 580.238,1422.89 582.326,1422.96 584.414,1423.03 586.501,1423.1 588.589,1423.17 590.677,1423.24 592.765,1423.31 594.853,1423.38 596.941,1423.46 599.028,1423.53 601.116,1423.6 603.204,1423.67 605.292,1423.74 607.38,1423.81 609.468,1423.88 611.556,1423.95 613.643,1424.02 615.731,1424.09 617.819,1424.16 619.907,1424.23 621.995,1424.3 624.083,1424.36 626.17,1424.43 628.258,1424.5 630.346,1424.57 632.434,1424.64 634.522,1424.71 636.61,1424.78 638.698,1424.85 640.785,1424.92 642.873,1424.98 644.961,1425.05 647.049,1425.12 649.137,1425.19 651.225,1425.26 653.312,1425.33 655.4,1425.39 657.488,1425.46 659.576,1425.53 661.664,1425.6 663.752,1425.66 665.839,1425.73 667.927,1425.8 670.015,1425.87 672.103,1425.93 674.191,1426 676.279,1426.07 678.367,1426.13 680.454,1426.2 682.542,1426.27 684.63,1426.33 686.718,1426.4 688.806,1426.47 690.894,1426.53 692.981,1426.6 695.069,1426.66 697.157,1426.73 699.245,1426.79 701.333,1426.86 703.421,1426.92 705.509,1426.99 707.596,1427.05 709.684,1427.12 711.772,1427.18 713.86,1427.25 715.948,1427.31 718.036,1427.38 720.123,1427.44 722.211,1427.51 724.299,1427.57 726.387,1427.63 728.475,1427.7 730.563,1427.76 732.651,1427.82 734.738,1427.89 736.826,1427.95 738.914,1428.01 741.002,1428.08 743.09,1428.14 745.178,1428.2 747.265,1428.27 749.353,1428.33 751.441,1428.39 753.529,1428.45 755.617,1428.51 757.705,1428.58 759.793,1428.64 761.88,1428.7 763.968,1428.76 766.056,1428.82 768.144,1428.88 770.232,1428.94 772.32,1429.01 774.407,1429.07 776.495,1429.13 778.583,1429.19 780.671,1429.25 782.759,1429.31 784.847,1429.37 786.935,1429.43 789.022,1429.49 791.11,1429.55 793.198,1429.61 795.286,1429.67 797.374,1429.73 799.462,1429.79 801.549,1429.84 803.637,1429.9 805.725,1429.96 807.813,1430.02 809.901,1430.08 811.989,1430.14 814.077,1430.2 816.164,1430.25 818.252,1430.31 820.34,1430.37 822.428,1430.43 824.516,1430.48 826.604,1430.54 828.691,1430.6 830.779,1430.66 832.867,1430.71 834.955,1430.77 837.043,1430.83 839.131,1430.88 841.219,1430.94 843.306,1431 845.394,1431.05 847.482,1431.11 849.57,1431.17 851.658,1431.22 853.746,1431.28 855.833,1431.33 857.921,1431.39 860.009,1431.44 862.097,1431.5 864.185,1431.55 866.273,1431.61 868.36,1431.66 870.448,1431.72 872.536,1431.77 874.624,1431.83 876.712,1431.88 878.8,1431.93 880.888,1431.99 882.975,1432.04 885.063,1432.1 887.151,1432.15 889.239,1432.2 891.327,1432.26 893.415,1432.31 895.502,1432.36 897.59,1432.41 899.678,1432.47 901.766,1432.52 903.854,1432.57 905.942,1432.62 908.03,1432.68 910.117,1432.73 912.205,1432.78 914.293,1432.83 916.381,1432.88 918.469,1432.94 920.557,1432.99 922.644,1433.04 924.732,1433.09 926.82,1433.14 928.908,1433.19 930.996,1433.24 933.084,1433.29 935.172,1433.34 937.259,1433.39 939.347,1433.44 941.435,1433.49 943.523,1433.54 945.611,1433.59 947.699,1433.64 949.786,1433.69 951.874,1433.74 953.962,1433.79 956.05,1433.84 958.138,1433.89 960.226,1433.94 962.314,1433.98 964.401,1434.03 966.489,1434.08 968.577,1434.13 970.665,1434.18 972.753,1434.23 974.841,1434.27 976.928,1434.32 979.016,1434.37 981.104,1434.42 983.192,1434.46 985.28,1434.51 987.368,1434.56 989.456,1434.6 991.543,1434.65 993.631,1434.7 995.719,1434.74 997.807,1434.79 999.895,1434.84 1001.98,1434.88 1004.07,1434.93 1006.16,1434.97 1008.25,1435.02 1010.33,1435.06 1012.42,1435.11 1014.51,1435.16 1016.6,1435.2 1018.69,1435.25 1020.77,1435.29 1022.86,1435.33 1024.95,1435.38 1027.04,1435.42 1029.12,1435.47 1031.21,1435.51 1033.3,1435.56 1035.39,1435.6 1037.48,1435.64 1039.56,1435.69 1041.65,1435.73 1043.74,1435.77 1045.83,1435.82 1047.92,1435.86 1050,1435.9 1052.09,1435.95 1054.18,1435.99 1056.27,1436.03 1058.35,1436.08 1060.44,1436.12 1062.53,1436.16 1064.62,1436.2 1066.71,1436.24 1068.79,1436.29 1070.88,1436.33 1072.97,1436.37 1075.06,1436.41 1077.15,1436.45 1079.23,1436.49 1081.32,1436.53 1083.41,1436.58 1085.5,1436.62 1087.58,1436.66 1089.67,1436.7 1091.76,1436.74 1093.85,1436.78 1095.94,1436.82 1098.02,1436.86 1100.11,1436.9 1102.2,1436.94 1104.29,1436.98 1106.37,1437.02 1108.46,1437.06 1110.55,1437.1 1112.64,1437.14 1114.73,1437.18 1116.81,1437.22 1118.9,1437.26 1120.99,1437.29 1123.08,1437.33 1125.17,1437.37 1127.25,1437.41 1129.34,1437.45 1131.43,1437.49 1133.52,1437.52 1135.6,1437.56 1137.69,1437.6 1139.78,1437.64 1141.87,1437.68 1143.96,1437.71 1146.04,1437.75 1148.13,1437.79 1150.22,1437.83 1152.31,1437.86 1154.4,1437.9 1156.48,1437.94 1158.57,1437.97 1160.66,1438.01 1162.75,1438.05 1164.83,1438.08 1166.92,1438.12 1169.01,1438.16 1171.1,1438.19 1173.19,1438.23 1175.27,1438.26 1177.36,1438.3 1179.45,1438.34 1181.54,1438.37 1183.63,1438.41 1185.71,1438.44 1187.8,1438.48 1189.89,1438.51 1191.98,1438.55 1194.06,1438.58 1196.15,1438.62 1198.24,1438.65 1200.33,1438.68 1202.42,1438.72 1204.5,1438.75 1206.59,1438.79 1208.68,1438.82 1210.77,1438.86 1212.85,1438.89 1214.94,1438.92 1217.03,1438.96 1219.12,1438.99 1221.21,1439.02 1223.29,1439.06 1225.38,1439.09 1227.47,1439.12 1229.56,1439.15 1231.65,1439.19 1233.73,1439.22 1235.82,1439.25 1237.91,1439.28 1240,1439.32 1242.08,1439.35 1244.17,1439.38 1246.26,1439.41 1248.35,1439.45 1250.44,1439.48 1252.52,1439.51 1254.61,1439.54 1256.7,1439.57 1258.79,1439.6 1260.88,1439.63 1262.96,1439.66 1265.05,1439.7 1267.14,1439.73 1269.23,1439.76 1271.31,1439.79 1273.4,1439.82 1275.49,1439.85 1277.58,1439.88 1279.67,1439.91 1281.75,1439.94 1283.84,1439.97 1285.93,1440 1288.02,1440.03 1290.11,1440.06 1292.19,1440.09 1294.28,1440.12 1296.37,1440.15 1298.46,1440.18 1300.54,1440.2 1302.63,1440.23 1304.72,1440.26 1306.81,1440.29 1308.9,1440.32 1310.98,1440.35 1313.07,1440.38 1315.16,1440.41 1317.25,1440.43 1319.34,1440.46 1321.42,1440.49 1323.51,1440.52 1325.6,1440.55 1327.69,1440.57 1329.77,1440.6 1331.86,1440.63 1333.95,1440.66 1336.04,1440.68 1338.13,1440.71 1340.21,1440.74 1342.3,1440.77 1344.39,1440.79 1346.48,1440.82 1348.56,1440.85 1350.65,1440.87 1352.74,1440.9 1354.83,1440.93 1356.92,1440.95 1359,1440.98 1361.09,1441 1363.18,1441.03 1365.27,1441.06 1367.36,1441.08 1369.44,1441.11 1371.53,1441.13 1373.62,1441.16 1375.71,1441.19 1377.79,1441.21 1379.88,1441.24 1381.97,1441.26 1384.06,1441.29 1386.15,1441.31 1388.23,1441.34 1390.32,1441.36 1392.41,1441.39 1394.5,1441.41 1396.59,1441.44 1398.67,1441.46 1400.76,1441.48 1402.85,1441.51 1404.94,1441.53 1407.02,1441.56 1409.11,1441.58 1411.2,1441.61 1413.29,1441.63 1415.38,1441.65 1417.46,1441.68 1419.55,1441.7 1421.64,1441.72 1423.73,1441.75 1425.82,1441.77 1427.9,1441.79 1429.99,1441.82 1432.08,1441.84 1434.17,1441.86 1436.25,1441.89 1438.34,1441.91 1440.43,1441.93 1442.52,1441.95 1444.61,1441.98 1446.69,1442 1448.78,1442.02 1450.87,1442.04 1452.96,1442.07 1455.05,1442.09 1457.13,1442.11 1459.22,1442.13 1461.31,1442.16 1463.4,1442.18 1465.48,1442.2 1467.57,1442.22 1469.66,1442.24 1471.75,1442.26 1473.84,1442.28 1475.92,1442.31 1478.01,1442.33 1480.1,1442.35 1482.19,1442.37 1484.27,1442.39 1486.36,1442.41 1488.45,1442.43 1490.54,1442.45 1492.63,1442.47 1494.71,1442.49 1496.8,1442.52 1498.89,1442.54 1500.98,1442.56 1503.07,1442.58 1505.15,1442.6 1507.24,1442.62 1509.33,1442.64 1511.42,1442.66 1513.5,1442.68 1515.59,1442.7 1517.68,1442.72 1519.77,1442.74 1521.86,1442.76 1523.94,1442.77 1526.03,1442.79 1528.12,1442.81 1530.21,1442.83 1532.3,1442.85 1534.38,1442.87 1536.47,1442.89 1538.56,1442.91 1540.65,1442.93 1542.73,1442.95 1544.82,1442.96 1546.91,1442.98 1549,1443 1551.09,1443.02 1553.17,1443.04 1555.26,1443.06 1557.35,1443.08 1559.44,1443.09 1561.53,1443.11 1563.61,1443.13 1565.7,1443.15 1567.79,1443.16 1569.88,1443.18 1571.96,1443.2 1574.05,1443.22 1576.14,1443.24 1578.23,1443.25 1580.32,1443.27 1582.4,1443.29 1584.49,1443.3 1586.58,1443.32 1588.67,1443.34 1590.75,1443.36 1592.84,1443.37 1594.93,1443.39 1597.02,1443.41 1599.11,1443.42 1601.19,1443.44 1603.28,1443.45 1605.37,1443.47 1607.46,1443.49 1609.55,1443.5 1611.63,1443.52 1613.72,1443.54 1615.81,1443.55 1617.9,1443.57 1619.98,1443.58 1622.07,1443.6 1624.16,1443.61 1626.25,1443.63 1628.34,1443.65 1630.42,1443.66 1632.51,1443.68 1634.6,1443.69 1636.69,1443.71 1638.78,1443.72 1640.86,1443.74 1642.95,1443.75 1645.04,1443.77 1647.13,1443.78 1649.21,1443.8 1651.3,1443.81 1653.39,1443.83 1655.48,1443.84 1657.57,1443.85 1659.65,1443.87 1661.74,1443.88 1663.83,1443.9 1665.92,1443.91 1668.01,1443.92 1670.09,1443.94 1672.18,1443.95 1674.27,1443.97 1676.36,1443.98 1678.44,1443.99 1680.53,1444.01 1682.62,1444.02 1684.71,1444.03 1686.8,1444.05 1688.88,1444.06 1690.97,1444.07 1693.06,1444.09 1695.15,1444.1 1697.24,1444.11 1699.32,1444.13 1701.41,1444.14 1703.5,1444.15 1705.59,1444.16 1707.67,1444.18 1709.76,1444.19 1711.85,1444.2 1713.94,1444.21 1716.03,1444.23 1718.11,1444.24 1720.2,1444.25 1722.29,1444.26 1724.38,1444.27 1726.46,1444.29 1728.55,1444.3 1730.64,1444.31 1732.73,1444.32 1734.82,1444.33 1736.9,1444.34 1738.99,1444.36 1741.08,1444.37 1743.17,1444.38 1745.26,1444.39 1747.34,1444.4 1749.43,1444.41 1751.52,1444.42 1753.61,1444.43 1755.69,1444.45 1757.78,1444.46 1759.87,1444.47 1761.96,1444.48 1764.05,1444.49 1766.13,1444.5 1768.22,1444.51 1770.31,1444.52 1772.4,1444.53 1774.49,1444.54 1776.57,1444.55 1778.66,1444.56 1780.75,1444.57 1782.84,1444.58 1784.92,1444.59 1787.01,1444.6 1789.1,1444.61 1791.19,1444.62 1793.28,1444.63 1795.36,1444.64 1797.45,1444.65 1799.54,1444.66 1801.63,1444.67 1803.72,1444.68 1805.8,1444.69 1807.89,1444.7 1809.98,1444.71 1812.07,1444.72 1814.15,1444.73 1816.24,1444.73 1818.33,1444.74 1820.42,1444.75 1822.51,1444.76 1824.59,1444.77 1826.68,1444.78 1828.77,1444.79 1830.86,1444.8 1832.95,1444.8 1835.03,1444.81 1837.12,1444.82 1839.21,1444.83 1841.3,1444.84 1843.38,1444.85 1845.47,1444.85 1847.56,1444.86 1849.65,1444.87 1851.74,1444.88 1853.82,1444.89 1855.91,1444.89 1858,1444.9 1860.09,1444.91 1862.17,1444.92 1864.26,1444.93 1866.35,1444.93 1868.44,1444.94 1870.53,1444.95 1872.61,1444.96 1874.7,1444.96 1876.79,1444.97 1878.88,1444.98 1880.97,1444.99 1883.05,1444.99 1885.14,1445 1887.23,1445.01 1889.32,1445.01 1891.4,1445.02 1893.49,1445.03 1895.58,1445.04 1897.67,1445.04 1899.76,1445.05 1901.84,1445.06 1903.93,1445.06 1906.02,1445.07 1908.11,1445.08 1910.2,1445.08 1912.28,1445.09 1914.37,1445.1 1916.46,1445.1 1918.55,1445.11 1920.63,1445.11 1922.72,1445.12 1924.81,1445.13 1926.9,1445.13 1928.99,1445.14 1931.07,1445.15 1933.16,1445.15 1935.25,1445.16 1937.34,1445.16 1939.43,1445.17 1941.51,1445.18 1943.6,1445.18 1945.69,1445.19 1947.78,1445.19 1949.86,1445.2 1951.95,1445.2 1954.04,1445.21 1956.13,1445.22 1958.22,1445.22 1960.3,1445.23 1962.39,1445.23 1964.48,1445.24 1966.57,1445.24 1968.65,1445.25 1970.74,1445.25 1972.83,1445.26 1974.92,1445.26 1977.01,1445.27 1979.09,1445.27 1981.18,1445.28 1983.27,1445.28 1985.36,1445.29 1987.45,1445.29 1989.53,1445.3 1991.62,1445.3 1993.71,1445.31 1995.8,1445.31 1997.88,1445.32 1999.97,1445.32 2002.06,1445.33 2004.15,1445.33 2006.24,1445.34 2008.32,1445.34 2010.41,1445.35 2012.5,1445.35 2014.59,1445.35 2016.68,1445.36 2018.76,1445.36 2020.85,1445.37 2022.94,1445.37 2025.03,1445.38 2027.11,1445.38 2029.2,1445.39 2031.29,1445.39 2033.38,1445.39 2035.47,1445.4 2037.55,1445.4 2039.64,1445.41 2041.73,1445.41 2043.82,1445.41 2045.91,1445.42 2047.99,1445.42 2050.08,1445.43 2052.17,1445.43 2054.26,1445.43 2056.34,1445.44 2058.43,1445.44 2060.52,1445.45 2062.61,1445.45 2064.7,1445.45 2066.78,1445.46 2068.87,1445.46 2070.96,1445.46 2073.05,1445.47 2075.14,1445.47 2077.22,1445.47 2079.31,1445.48 2081.4,1445.48 2083.49,1445.48 2085.57,1445.49 2087.66,1445.49 2089.75,1445.49 2091.84,1445.5 2093.93,1445.5 2096.01,1445.5 2098.1,1445.51 2100.19,1445.51 2102.28,1445.51 2104.36,1445.52 2106.45,1445.52 2108.54,1445.52 2110.63,1445.53 2112.72,1445.53 2114.8,1445.53 2116.89,1445.54 2118.98,1445.54 2121.07,1445.54 2123.16,1445.54 2125.24,1445.55 2127.33,1445.55 2129.42,1445.55 2131.51,1445.56 2133.59,1445.56 2135.68,1445.56 2137.77,1445.56 2139.86,1445.57 2141.95,1445.57 2144.03,1445.57 2146.12,1445.58 2148.21,1445.58 2150.3,1445.58 2152.39,1445.58 2154.47,1445.59 2156.56,1445.59 2158.65,1445.59 2160.74,1445.59 2162.82,1445.6 2164.91,1445.6 2167,1445.6 2169.09,1445.6 2171.18,1445.61 2173.26,1445.61 2175.35,1445.61 2177.44,1445.61 2179.53,1445.62 2181.62,1445.62 2183.7,1445.62 2185.79,1445.62 2187.88,1445.62 2189.97,1445.63 2192.05,1445.63 2194.14,1445.63 2196.23,1445.63 2198.32,1445.64 2200.41,1445.64 2202.49,1445.64 2204.58,1445.64 2206.67,1445.64 2208.76,1445.65 2210.85,1445.65 2212.93,1445.65 2215.02,1445.65 2217.11,1445.65 2219.2,1445.66 2221.28,1445.66 2223.37,1445.66 2225.46,1445.66 2227.55,1445.66 2229.64,1445.67 2231.72,1445.67 2233.81,1445.67 2235.9,1445.67 2237.99,1445.67 2240.07,1445.68 2242.16,1445.68 2244.25,1445.68 2246.34,1445.68 2248.43,1445.68 2250.51,1445.68 2252.6,1445.69 2254.69,1445.69 2256.78,1445.69 2258.87,1445.69 2260.95,1445.69 2263.04,1445.7 2265.13,1445.7 2267.22,1445.7 2269.3,1445.7 2271.39,1445.7 2273.48,1445.7 2275.57,1445.7 2277.66,1445.71 2279.74,1445.71 2281.83,1445.71 2283.92,1445.71 2286.01,1445.71 2288.1,1445.71 2290.18,1445.72 \"/>\n",
       "<polyline clip-path=\"url(#clip692)\" style=\"stroke:#e26f46; stroke-linecap:round; stroke-linejoin:round; stroke-width:4; stroke-opacity:1; fill:none\" points=\"204.426,1399.45 206.514,1399.5 208.601,1399.54 210.689,1399.59 212.777,1399.64 214.865,1399.68 216.953,1399.72 219.041,1399.76 221.128,1399.8 223.216,1399.84 225.304,1399.88 227.392,1399.92 229.48,1399.95 231.568,1399.99 233.656,1400.02 235.743,1400.05 237.831,1400.08 239.919,1400.11 242.007,1400.14 244.095,1400.16 246.183,1400.19 248.27,1400.21 250.358,1400.24 252.446,1400.26 254.534,1400.28 256.622,1400.3 258.71,1400.31 260.797,1400.33 262.885,1400.35 264.973,1400.36 267.061,1400.37 269.149,1400.39 271.237,1400.4 273.325,1400.41 275.412,1400.41 277.5,1400.42 279.588,1400.43 281.676,1400.43 283.764,1400.44 285.852,1400.44 287.939,1400.44 290.027,1400.44 292.115,1400.44 294.203,1400.44 296.291,1400.43 298.379,1400.43 300.467,1400.42 302.554,1400.42 304.642,1400.41 306.73,1400.4 308.818,1400.39 310.906,1400.38 312.994,1400.36 315.081,1400.35 317.169,1400.33 319.257,1400.32 321.345,1400.3 323.433,1400.28 325.521,1400.26 327.609,1400.24 329.696,1400.22 331.784,1400.2 333.872,1400.17 335.96,1400.15 338.048,1400.12 340.136,1400.09 342.223,1400.06 344.311,1400.03 346.399,1400 348.487,1399.97 350.575,1399.94 352.663,1399.9 354.751,1399.87 356.838,1399.83 358.926,1399.79 361.014,1399.75 363.102,1399.71 365.19,1399.67 367.278,1399.63 369.365,1399.59 371.453,1399.54 373.541,1399.5 375.629,1399.45 377.717,1399.4 379.805,1399.36 381.893,1399.31 383.98,1399.25 386.068,1399.2 388.156,1399.15 390.244,1399.1 392.332,1399.04 394.42,1398.98 396.507,1398.93 398.595,1398.87 400.683,1398.81 402.771,1398.75 404.859,1398.68 406.947,1398.62 409.035,1398.56 411.122,1398.49 413.21,1398.43 415.298,1398.36 417.386,1398.29 419.474,1398.22 421.562,1398.15 423.649,1398.08 425.737,1398.01 427.825,1397.93 429.913,1397.86 432.001,1397.78 434.089,1397.7 436.177,1397.62 438.264,1397.55 440.352,1397.46 442.44,1397.38 444.528,1397.3 446.616,1397.22 448.704,1397.13 450.791,1397.05 452.879,1396.96 454.967,1396.87 457.055,1396.78 459.143,1396.69 461.231,1396.6 463.318,1396.51 465.406,1396.41 467.494,1396.32 469.582,1396.22 471.67,1396.13 473.758,1396.03 475.846,1395.93 477.933,1395.83 480.021,1395.73 482.109,1395.63 484.197,1395.53 486.285,1395.42 488.373,1395.32 490.46,1395.21 492.548,1395.1 494.636,1394.99 496.724,1394.88 498.812,1394.77 500.9,1394.66 502.988,1394.55 505.075,1394.43 507.163,1394.32 509.251,1394.2 511.339,1394.08 513.427,1393.97 515.515,1393.85 517.602,1393.73 519.69,1393.6 521.778,1393.48 523.866,1393.36 525.954,1393.23 528.042,1393.11 530.13,1392.98 532.217,1392.85 534.305,1392.72 536.393,1392.59 538.481,1392.46 540.569,1392.33 542.657,1392.19 544.744,1392.06 546.832,1391.92 548.92,1391.78 551.008,1391.65 553.096,1391.51 555.184,1391.37 557.272,1391.22 559.359,1391.08 561.447,1390.94 563.535,1390.79 565.623,1390.65 567.711,1390.5 569.799,1390.35 571.886,1390.2 573.974,1390.05 576.062,1389.9 578.15,1389.75 580.238,1389.59 582.326,1389.44 584.414,1389.28 586.501,1389.13 588.589,1388.97 590.677,1388.81 592.765,1388.65 594.853,1388.48 596.941,1388.32 599.028,1388.16 601.116,1387.99 603.204,1387.83 605.292,1387.66 607.38,1387.49 609.468,1387.32 611.556,1387.15 613.643,1386.98 615.731,1386.8 617.819,1386.63 619.907,1386.45 621.995,1386.28 624.083,1386.1 626.17,1385.92 628.258,1385.74 630.346,1385.56 632.434,1385.38 634.522,1385.19 636.61,1385.01 638.698,1384.82 640.785,1384.63 642.873,1384.45 644.961,1384.26 647.049,1384.07 649.137,1383.87 651.225,1383.68 653.312,1383.49 655.4,1383.29 657.488,1383.09 659.576,1382.9 661.664,1382.7 663.752,1382.5 665.839,1382.29 667.927,1382.09 670.015,1381.89 672.103,1381.68 674.191,1381.48 676.279,1381.27 678.367,1381.06 680.454,1380.85 682.542,1380.64 684.63,1380.43 686.718,1380.21 688.806,1380 690.894,1379.78 692.981,1379.56 695.069,1379.35 697.157,1379.13 699.245,1378.9 701.333,1378.68 703.421,1378.46 705.509,1378.23 707.596,1378.01 709.684,1377.78 711.772,1377.55 713.86,1377.32 715.948,1377.09 718.036,1376.86 720.123,1376.62 722.211,1376.39 724.299,1376.15 726.387,1375.91 728.475,1375.68 730.563,1375.44 732.651,1375.19 734.738,1374.95 736.826,1374.71 738.914,1374.46 741.002,1374.21 743.09,1373.97 745.178,1373.72 747.265,1373.47 749.353,1373.21 751.441,1372.96 753.529,1372.71 755.617,1372.45 757.705,1372.19 759.793,1371.93 761.88,1371.67 763.968,1371.41 766.056,1371.15 768.144,1370.89 770.232,1370.62 772.32,1370.35 774.407,1370.09 776.495,1369.82 778.583,1369.55 780.671,1369.27 782.759,1369 784.847,1368.73 786.935,1368.45 789.022,1368.17 791.11,1367.89 793.198,1367.61 795.286,1367.33 797.374,1367.05 799.462,1366.76 801.549,1366.48 803.637,1366.19 805.725,1365.9 807.813,1365.61 809.901,1365.32 811.989,1365.02 814.077,1364.73 816.164,1364.43 818.252,1364.13 820.34,1363.84 822.428,1363.54 824.516,1363.23 826.604,1362.93 828.691,1362.62 830.779,1362.32 832.867,1362.01 834.955,1361.7 837.043,1361.39 839.131,1361.08 841.219,1360.76 843.306,1360.45 845.394,1360.13 847.482,1359.81 849.57,1359.49 851.658,1359.17 853.746,1358.85 855.833,1358.53 857.921,1358.2 860.009,1357.87 862.097,1357.54 864.185,1357.21 866.273,1356.88 868.36,1356.55 870.448,1356.21 872.536,1355.87 874.624,1355.54 876.712,1355.2 878.8,1354.85 880.888,1354.51 882.975,1354.17 885.063,1353.82 887.151,1353.47 889.239,1353.12 891.327,1352.77 893.415,1352.42 895.502,1352.06 897.59,1351.71 899.678,1351.35 901.766,1350.99 903.854,1350.63 905.942,1350.27 908.03,1349.9 910.117,1349.54 912.205,1349.17 914.293,1348.8 916.381,1348.43 918.469,1348.06 920.557,1347.68 922.644,1347.31 924.732,1346.93 926.82,1346.55 928.908,1346.17 930.996,1345.79 933.084,1345.4 935.172,1345.02 937.259,1344.63 939.347,1344.24 941.435,1343.85 943.523,1343.45 945.611,1343.06 947.699,1342.66 949.786,1342.26 951.874,1341.86 953.962,1341.46 956.05,1341.06 958.138,1340.65 960.226,1340.24 962.314,1339.83 964.401,1339.42 966.489,1339.01 968.577,1338.6 970.665,1338.18 972.753,1337.76 974.841,1337.34 976.928,1336.92 979.016,1336.5 981.104,1336.07 983.192,1335.64 985.28,1335.21 987.368,1334.78 989.456,1334.35 991.543,1333.91 993.631,1333.48 995.719,1333.04 997.807,1332.6 999.895,1332.15 1001.98,1331.71 1004.07,1331.26 1006.16,1330.81 1008.25,1330.36 1010.33,1329.91 1012.42,1329.46 1014.51,1329 1016.6,1328.54 1018.69,1328.08 1020.77,1327.62 1022.86,1327.15 1024.95,1326.69 1027.04,1326.22 1029.12,1325.75 1031.21,1325.28 1033.3,1324.8 1035.39,1324.32 1037.48,1323.85 1039.56,1323.36 1041.65,1322.88 1043.74,1322.4 1045.83,1321.91 1047.92,1321.42 1050,1320.93 1052.09,1320.44 1054.18,1319.94 1056.27,1319.44 1058.35,1318.94 1060.44,1318.44 1062.53,1317.94 1064.62,1317.43 1066.71,1316.93 1068.79,1316.42 1070.88,1315.9 1072.97,1315.39 1075.06,1314.87 1077.15,1314.35 1079.23,1313.83 1081.32,1313.31 1083.41,1312.78 1085.5,1312.25 1087.58,1311.72 1089.67,1311.19 1091.76,1310.66 1093.85,1310.12 1095.94,1309.58 1098.02,1309.04 1100.11,1308.5 1102.2,1307.95 1104.29,1307.4 1106.37,1306.85 1108.46,1306.3 1110.55,1305.74 1112.64,1305.19 1114.73,1304.63 1116.81,1304.06 1118.9,1303.5 1120.99,1302.93 1123.08,1302.36 1125.17,1301.79 1127.25,1301.22 1129.34,1300.64 1131.43,1300.06 1133.52,1299.48 1135.6,1298.89 1137.69,1298.31 1139.78,1297.72 1141.87,1297.13 1143.96,1296.53 1146.04,1295.94 1148.13,1295.34 1150.22,1294.74 1152.31,1294.13 1154.4,1293.53 1156.48,1292.92 1158.57,1292.31 1160.66,1291.69 1162.75,1291.08 1164.83,1290.46 1166.92,1289.84 1169.01,1289.21 1171.1,1288.59 1173.19,1287.96 1175.27,1287.32 1177.36,1286.69 1179.45,1286.05 1181.54,1285.41 1183.63,1284.77 1185.71,1284.13 1187.8,1283.48 1189.89,1282.83 1191.98,1282.17 1194.06,1281.52 1196.15,1280.86 1198.24,1280.2 1200.33,1279.53 1202.42,1278.87 1204.5,1278.2 1206.59,1277.52 1208.68,1276.85 1210.77,1276.17 1212.85,1275.49 1214.94,1274.81 1217.03,1274.12 1219.12,1273.43 1221.21,1272.74 1223.29,1272.04 1225.38,1271.35 1227.47,1270.64 1229.56,1269.94 1231.65,1269.23 1233.73,1268.52 1235.82,1267.81 1237.91,1267.1 1240,1266.38 1242.08,1265.66 1244.17,1264.93 1246.26,1264.21 1248.35,1263.48 1250.44,1262.74 1252.52,1262.01 1254.61,1261.27 1256.7,1260.52 1258.79,1259.78 1260.88,1259.03 1262.96,1258.28 1265.05,1257.53 1267.14,1256.77 1269.23,1256.01 1271.31,1255.24 1273.4,1254.48 1275.49,1253.71 1277.58,1252.93 1279.67,1252.16 1281.75,1251.38 1283.84,1250.59 1285.93,1249.81 1288.02,1249.02 1290.11,1248.23 1292.19,1247.43 1294.28,1246.63 1296.37,1245.83 1298.46,1245.02 1300.54,1244.21 1302.63,1243.4 1304.72,1242.59 1306.81,1241.77 1308.9,1240.94 1310.98,1240.12 1313.07,1239.29 1315.16,1238.46 1317.25,1237.62 1319.34,1236.78 1321.42,1235.94 1323.51,1235.09 1325.6,1234.25 1327.69,1233.39 1329.77,1232.54 1331.86,1231.68 1333.95,1230.81 1336.04,1229.95 1338.13,1229.07 1340.21,1228.2 1342.3,1227.32 1344.39,1226.44 1346.48,1225.56 1348.56,1224.67 1350.65,1223.78 1352.74,1222.88 1354.83,1221.98 1356.92,1221.08 1359,1220.17 1361.09,1219.26 1363.18,1218.35 1365.27,1217.43 1367.36,1216.51 1369.44,1215.58 1371.53,1214.65 1373.62,1213.72 1375.71,1212.79 1377.79,1211.85 1379.88,1210.9 1381.97,1209.95 1384.06,1209 1386.15,1208.05 1388.23,1207.09 1390.32,1206.12 1392.41,1205.15 1394.5,1204.18 1396.59,1203.21 1398.67,1202.23 1400.76,1201.25 1402.85,1200.26 1404.94,1199.27 1407.02,1198.27 1409.11,1197.27 1411.2,1196.27 1413.29,1195.26 1415.38,1194.25 1417.46,1193.23 1419.55,1192.21 1421.64,1191.19 1423.73,1190.16 1425.82,1189.13 1427.9,1188.09 1429.99,1187.05 1432.08,1186.01 1434.17,1184.96 1436.25,1183.91 1438.34,1182.85 1440.43,1181.79 1442.52,1180.72 1444.61,1179.65 1446.69,1178.57 1448.78,1177.5 1450.87,1176.41 1452.96,1175.32 1455.05,1174.23 1457.13,1173.13 1459.22,1172.03 1461.31,1170.93 1463.4,1169.82 1465.48,1168.7 1467.57,1167.58 1469.66,1166.46 1471.75,1165.33 1473.84,1164.2 1475.92,1163.06 1478.01,1161.92 1480.1,1160.77 1482.19,1159.62 1484.27,1158.47 1486.36,1157.31 1488.45,1156.14 1490.54,1154.97 1492.63,1153.8 1494.71,1152.62 1496.8,1151.43 1498.89,1150.24 1500.98,1149.05 1503.07,1147.85 1505.15,1146.65 1507.24,1145.44 1509.33,1144.22 1511.42,1143.01 1513.5,1141.78 1515.59,1140.56 1517.68,1139.32 1519.77,1138.08 1521.86,1136.84 1523.94,1135.59 1526.03,1134.34 1528.12,1133.08 1530.21,1131.82 1532.3,1130.55 1534.38,1129.28 1536.47,1128 1538.56,1126.72 1540.65,1125.43 1542.73,1124.13 1544.82,1122.83 1546.91,1121.53 1549,1120.22 1551.09,1118.9 1553.17,1117.58 1555.26,1116.26 1557.35,1114.93 1559.44,1113.59 1561.53,1112.25 1563.61,1110.9 1565.7,1109.55 1567.79,1108.19 1569.88,1106.83 1571.96,1105.46 1574.05,1104.08 1576.14,1102.7 1578.23,1101.32 1580.32,1099.92 1582.4,1098.53 1584.49,1097.13 1586.58,1095.72 1588.67,1094.3 1590.75,1092.88 1592.84,1091.46 1594.93,1090.03 1597.02,1088.59 1599.11,1087.15 1601.19,1085.7 1603.28,1084.24 1605.37,1082.78 1607.46,1081.32 1609.55,1079.85 1611.63,1078.37 1613.72,1076.88 1615.81,1075.39 1617.9,1073.9 1619.98,1072.4 1622.07,1070.89 1624.16,1069.37 1626.25,1067.85 1628.34,1066.33 1630.42,1064.8 1632.51,1063.26 1634.6,1061.71 1636.69,1060.16 1638.78,1058.6 1640.86,1057.04 1642.95,1055.47 1645.04,1053.89 1647.13,1052.31 1649.21,1050.72 1651.3,1049.13 1653.39,1047.53 1655.48,1045.92 1657.57,1044.3 1659.65,1042.68 1661.74,1041.06 1663.83,1039.42 1665.92,1037.78 1668.01,1036.13 1670.09,1034.48 1672.18,1032.82 1674.27,1031.15 1676.36,1029.48 1678.44,1027.8 1680.53,1026.11 1682.62,1024.41 1684.71,1022.71 1686.8,1021.01 1688.88,1019.29 1690.97,1017.57 1693.06,1015.84 1695.15,1014.1 1697.24,1012.36 1699.32,1010.61 1701.41,1008.86 1703.5,1007.09 1705.59,1005.32 1707.67,1003.54 1709.76,1001.76 1711.85,999.965 1713.94,998.166 1716.03,996.359 1718.11,994.545 1720.2,992.724 1722.29,990.895 1724.38,989.059 1726.46,987.215 1728.55,985.365 1730.64,983.506 1732.73,981.641 1734.82,979.767 1736.9,977.887 1738.99,975.998 1741.08,974.102 1743.17,972.199 1745.26,970.288 1747.34,968.369 1749.43,966.442 1751.52,964.508 1753.61,962.566 1755.69,960.616 1757.78,958.658 1759.87,956.692 1761.96,954.719 1764.05,952.737 1766.13,950.748 1768.22,948.75 1770.31,946.745 1772.4,944.731 1774.49,942.71 1776.57,940.68 1778.66,938.642 1780.75,936.596 1782.84,934.541 1784.92,932.479 1787.01,930.408 1789.1,928.329 1791.19,926.241 1793.28,924.145 1795.36,922.041 1797.45,919.928 1799.54,917.806 1801.63,915.677 1803.72,913.538 1805.8,911.391 1807.89,909.235 1809.98,907.071 1812.07,904.898 1814.15,902.716 1816.24,900.526 1818.33,898.326 1820.42,896.118 1822.51,893.901 1824.59,891.675 1826.68,889.44 1828.77,887.197 1830.86,884.944 1832.95,882.682 1835.03,880.411 1837.12,878.131 1839.21,875.841 1841.3,873.543 1843.38,871.235 1845.47,868.918 1847.56,866.592 1849.65,864.256 1851.74,861.911 1853.82,859.556 1855.91,857.192 1858,854.819 1860.09,852.436 1862.17,850.043 1864.26,847.641 1866.35,845.23 1868.44,842.808 1870.53,840.377 1872.61,837.936 1874.7,835.485 1876.79,833.024 1878.88,830.554 1880.97,828.073 1883.05,825.583 1885.14,823.083 1887.23,820.572 1889.32,818.051 1891.4,815.521 1893.49,812.98 1895.58,810.429 1897.67,807.868 1899.76,805.296 1901.84,802.714 1903.93,800.122 1906.02,797.519 1908.11,794.906 1910.2,792.282 1912.28,789.648 1914.37,787.003 1916.46,784.348 1918.55,781.682 1920.63,779.005 1922.72,776.318 1924.81,773.62 1926.9,770.91 1928.99,768.19 1931.07,765.459 1933.16,762.718 1935.25,759.965 1937.34,757.201 1939.43,754.426 1941.51,751.639 1943.6,748.842 1945.69,746.033 1947.78,743.214 1949.86,740.382 1951.95,737.54 1954.04,734.686 1956.13,731.82 1958.22,728.943 1960.3,726.055 1962.39,723.155 1964.48,720.243 1966.57,717.319 1968.65,714.384 1970.74,711.437 1972.83,708.478 1974.92,705.508 1977.01,702.525 1979.09,699.53 1981.18,696.524 1983.27,693.505 1985.36,690.474 1987.45,687.431 1989.53,684.376 1991.62,681.309 1993.71,678.229 1995.8,675.137 1997.88,672.032 1999.97,668.915 2002.06,665.785 2004.15,662.643 2006.24,659.489 2008.32,656.321 2010.41,653.141 2012.5,649.948 2014.59,646.743 2016.68,643.524 2018.76,640.292 2020.85,637.048 2022.94,633.791 2025.03,630.52 2027.11,627.236 2029.2,623.939 2031.29,620.629 2033.38,617.306 2035.47,613.969 2037.55,610.619 2039.64,607.255 2041.73,603.878 2043.82,600.488 2045.91,597.083 2047.99,593.666 2050.08,590.234 2052.17,586.789 2054.26,583.329 2056.34,579.856 2058.43,576.369 2060.52,572.868 2062.61,569.353 2064.7,565.824 2066.78,562.28 2068.87,558.723 2070.96,555.151 2073.05,551.565 2075.14,547.964 2077.22,544.349 2079.31,540.719 2081.4,537.075 2083.49,533.416 2085.57,529.743 2087.66,526.055 2089.75,522.352 2091.84,518.634 2093.93,514.901 2096.01,511.153 2098.1,507.39 2100.19,503.612 2102.28,499.819 2104.36,496.011 2106.45,492.187 2108.54,488.348 2110.63,484.494 2112.72,480.624 2114.8,476.739 2116.89,472.838 2118.98,468.921 2121.07,464.989 2123.16,461.041 2125.24,457.077 2127.33,453.097 2129.42,449.101 2131.51,445.089 2133.59,441.061 2135.68,437.017 2137.77,432.956 2139.86,428.88 2141.95,424.787 2144.03,420.677 2146.12,416.551 2148.21,412.409 2150.3,408.25 2152.39,404.074 2154.47,399.881 2156.56,395.672 2158.65,391.445 2160.74,387.202 2162.82,382.942 2164.91,378.664 2167,374.37 2169.09,370.058 2171.18,365.729 2173.26,361.382 2175.35,357.018 2177.44,352.637 2179.53,348.238 2181.62,343.821 2183.7,339.387 2185.79,334.935 2187.88,330.465 2189.97,325.977 2192.05,321.471 2194.14,316.946 2196.23,312.404 2198.32,307.844 2200.41,303.265 2202.49,298.668 2204.58,294.052 2206.67,289.418 2208.76,284.765 2210.85,280.094 2212.93,275.404 2215.02,270.695 2217.11,265.967 2219.2,261.22 2221.28,256.454 2223.37,251.669 2225.46,246.865 2227.55,242.041 2229.64,237.198 2231.72,232.336 2233.81,227.454 2235.9,222.553 2237.99,217.632 2240.07,212.691 2242.16,207.73 2244.25,202.75 2246.34,197.749 2248.43,192.729 2250.51,187.688 2252.6,182.627 2254.69,177.546 2256.78,172.444 2258.87,167.322 2260.95,162.179 2263.04,157.016 2265.13,151.832 2267.22,146.627 2269.3,141.401 2271.39,136.154 2273.48,130.887 2275.57,125.598 2277.66,120.288 2279.74,114.956 2281.83,109.603 2283.92,104.229 2286.01,98.8331 2288.1,93.4155 2290.18,87.9763 \"/>\n",
       "<path clip-path=\"url(#clip690)\" d=\"M215.55 250.738 L535.829 250.738 L535.829 95.2176 L215.55 95.2176  Z\" fill=\"#ffffff\" fill-rule=\"evenodd\" fill-opacity=\"1\"/>\n",
       "<polyline clip-path=\"url(#clip690)\" style=\"stroke:#000000; stroke-linecap:round; stroke-linejoin:round; stroke-width:4; stroke-opacity:1; fill:none\" points=\"215.55,250.738 535.829,250.738 535.829,95.2176 215.55,95.2176 215.55,250.738 \"/>\n",
       "<polyline clip-path=\"url(#clip690)\" style=\"stroke:#009af9; stroke-linecap:round; stroke-linejoin:round; stroke-width:4; stroke-opacity:1; fill:none\" points=\"240.115,147.058 387.509,147.058 \"/>\n",
       "<path clip-path=\"url(#clip690)\" d=\"M416.357 160.449 L416.357 174.199 L412.074 174.199 L412.074 138.412 L416.357 138.412 L416.357 142.347 Q417.699 140.032 419.736 138.921 Q421.797 137.787 424.644 137.787 Q429.366 137.787 432.306 141.537 Q435.269 145.287 435.269 151.398 Q435.269 157.509 432.306 161.259 Q429.366 165.009 424.644 165.009 Q421.797 165.009 419.736 163.898 Q417.699 162.763 416.357 160.449 M430.847 151.398 Q430.847 146.699 428.903 144.037 Q426.982 141.352 423.602 141.352 Q420.223 141.352 418.278 144.037 Q416.357 146.699 416.357 151.398 Q416.357 156.097 418.278 158.782 Q420.223 161.444 423.602 161.444 Q426.982 161.444 428.903 158.782 Q430.847 156.097 430.847 151.398 Z\" fill=\"#000000\" fill-rule=\"nonzero\" fill-opacity=\"1\" /><path clip-path=\"url(#clip690)\" d=\"M457.352 142.393 Q456.634 141.977 455.778 141.791 Q454.945 141.583 453.926 141.583 Q450.315 141.583 448.371 143.944 Q446.449 146.282 446.449 150.68 L446.449 164.338 L442.167 164.338 L442.167 138.412 L446.449 138.412 L446.449 142.44 Q447.792 140.078 449.945 138.944 Q452.097 137.787 455.176 137.787 Q455.616 137.787 456.148 137.856 Q456.681 137.903 457.329 138.018 L457.352 142.393 Z\" fill=\"#000000\" fill-rule=\"nonzero\" fill-opacity=\"1\" /><path clip-path=\"url(#clip690)\" d=\"M482.954 150.31 L482.954 152.393 L463.37 152.393 Q463.648 156.791 466.009 159.106 Q468.394 161.398 472.63 161.398 Q475.083 161.398 477.375 160.796 Q479.69 160.194 481.958 158.99 L481.958 163.018 Q479.667 163.99 477.259 164.5 Q474.852 165.009 472.375 165.009 Q466.171 165.009 462.537 161.398 Q458.926 157.787 458.926 151.629 Q458.926 145.264 462.352 141.537 Q465.801 137.787 471.634 137.787 Q476.866 137.787 479.898 141.166 Q482.954 144.523 482.954 150.31 M478.694 149.06 Q478.648 145.565 476.727 143.481 Q474.829 141.398 471.681 141.398 Q468.116 141.398 465.963 143.412 Q463.833 145.426 463.509 149.083 L478.694 149.06 Z\" fill=\"#000000\" fill-rule=\"nonzero\" fill-opacity=\"1\" /><path clip-path=\"url(#clip690)\" d=\"M507.004 142.347 L507.004 128.319 L511.264 128.319 L511.264 164.338 L507.004 164.338 L507.004 160.449 Q505.662 162.763 503.602 163.898 Q501.565 165.009 498.694 165.009 Q493.995 165.009 491.032 161.259 Q488.093 157.509 488.093 151.398 Q488.093 145.287 491.032 141.537 Q493.995 137.787 498.694 137.787 Q501.565 137.787 503.602 138.921 Q505.662 140.032 507.004 142.347 M492.491 151.398 Q492.491 156.097 494.412 158.782 Q496.356 161.444 499.736 161.444 Q503.116 161.444 505.06 158.782 Q507.004 156.097 507.004 151.398 Q507.004 146.699 505.06 144.037 Q503.116 141.352 499.736 141.352 Q496.356 141.352 494.412 144.037 Q492.491 146.699 492.491 151.398 Z\" fill=\"#000000\" fill-rule=\"nonzero\" fill-opacity=\"1\" /><polyline clip-path=\"url(#clip690)\" style=\"stroke:#e26f46; stroke-linecap:round; stroke-linejoin:round; stroke-width:4; stroke-opacity:1; fill:none\" points=\"240.115,198.898 387.509,198.898 \"/>\n",
       "<path clip-path=\"url(#clip690)\" d=\"M419.482 182.891 L419.482 190.252 L428.255 190.252 L428.255 193.562 L419.482 193.562 L419.482 207.636 Q419.482 210.807 420.338 211.71 Q421.218 212.613 423.88 212.613 L428.255 212.613 L428.255 216.178 L423.88 216.178 Q418.949 216.178 417.074 214.349 Q415.199 212.497 415.199 207.636 L415.199 193.562 L412.074 193.562 L412.074 190.252 L415.199 190.252 L415.199 182.891 L419.482 182.891 Z\" fill=\"#000000\" fill-rule=\"nonzero\" fill-opacity=\"1\" /><path clip-path=\"url(#clip690)\" d=\"M448.88 194.233 Q448.162 193.817 447.306 193.631 Q446.472 193.423 445.454 193.423 Q441.843 193.423 439.898 195.784 Q437.977 198.122 437.977 202.52 L437.977 216.178 L433.695 216.178 L433.695 190.252 L437.977 190.252 L437.977 194.28 Q439.32 191.918 441.472 190.784 Q443.625 189.627 446.704 189.627 Q447.144 189.627 447.676 189.696 Q448.208 189.743 448.857 189.858 L448.88 194.233 Z\" fill=\"#000000\" fill-rule=\"nonzero\" fill-opacity=\"1\" /><path clip-path=\"url(#clip690)\" d=\"M452.908 205.946 L452.908 190.252 L457.167 190.252 L457.167 205.784 Q457.167 209.465 458.602 211.316 Q460.037 213.145 462.907 213.145 Q466.357 213.145 468.347 210.946 Q470.361 208.747 470.361 204.951 L470.361 190.252 L474.62 190.252 L474.62 216.178 L470.361 216.178 L470.361 212.196 Q468.81 214.557 466.75 215.715 Q464.713 216.849 462.005 216.849 Q457.537 216.849 455.222 214.071 Q452.908 211.293 452.908 205.946 M463.625 189.627 L463.625 189.627 Z\" fill=\"#000000\" fill-rule=\"nonzero\" fill-opacity=\"1\" /><path clip-path=\"url(#clip690)\" d=\"M505.569 202.15 L505.569 204.233 L485.986 204.233 Q486.264 208.631 488.625 210.946 Q491.009 213.238 495.245 213.238 Q497.699 213.238 499.991 212.636 Q502.305 212.034 504.574 210.83 L504.574 214.858 Q502.282 215.83 499.875 216.34 Q497.467 216.849 494.991 216.849 Q488.787 216.849 485.153 213.238 Q481.542 209.627 481.542 203.469 Q481.542 197.104 484.968 193.377 Q488.417 189.627 494.25 189.627 Q499.481 189.627 502.514 193.006 Q505.569 196.363 505.569 202.15 M501.31 200.9 Q501.264 197.405 499.342 195.321 Q497.444 193.238 494.296 193.238 Q490.731 193.238 488.579 195.252 Q486.449 197.266 486.125 200.923 L501.31 200.9 Z\" fill=\"#000000\" fill-rule=\"nonzero\" fill-opacity=\"1\" /></svg>\n"
      ]
     },
     "metadata": {},
     "output_type": "display_data"
    }
   ],
   "source": [
    "xs = reshape(range(0, 2, length=1000), 1, :)\n",
    "u_pred = pinn.phi(xs, res.u)\n",
    "u_true = @. exp(2xs)+exp(-3xs)\n",
    "\n",
    "using Plots\n",
    "plot(vec(xs),vec(u_pred), label=\"pred\")\n",
    "plot!(vec(xs),vec(u_true), label=\"true\")"
   ]
  }
 ],
 "metadata": {
  "kernelspec": {
   "display_name": "Julia 1.9.0",
   "language": "julia",
   "name": "julia-1.9"
  },
  "language_info": {
   "file_extension": ".jl",
   "mimetype": "application/julia",
   "name": "julia",
   "version": "1.9.0"
  },
  "orig_nbformat": 4
 },
 "nbformat": 4,
 "nbformat_minor": 2
}
