{
 "cells": [
  {
   "cell_type": "code",
   "execution_count": 1,
   "metadata": {},
   "outputs": [
    {
     "data": {
      "text/latex": [
       "$$ \\begin{align}\n",
       "\\frac{\\mathrm{d} u\\left( t \\right)}{\\mathrm{d}t} + \\frac{\\mathrm{d}}{\\mathrm{d}t} \\frac{\\mathrm{d} u\\left( t \\right)}{\\mathrm{d}t} =& 6 u\\left( t \\right)\n",
       "\\end{align}\n",
       " $$"
      ],
      "text/plain": [
       "PDESystem\n",
       "Equations: Equation[Differential(t)(u(t)) + Differential(t)(Differential(t)(u(t))) ~ 6u(t)]\n",
       "Boundary Conditions: Equation[u(0) ~ 2, Differential(t)(u(0)) ~ -1]\n",
       "Domain: Symbolics.VarDomainPairing[Symbolics.VarDomainPairing(t, 0..2)]\n",
       "Dependent Variables: Num[u(t)]\n",
       "Independent Variables: Num[t]\n",
       "Parameters: SciMLBase.NullParameters()\n",
       "Default Parameter ValuesDict{Any, Any}()"
      ]
     },
     "metadata": {},
     "output_type": "display_data"
    }
   ],
   "source": [
    "using ModelingToolkit, Sophon, DomainSets\n",
    "using Optimization, OptimizationOptimJL\n",
    "\n",
    "@parameters t\n",
    "@variables u(..)\n",
    "Dₜ = Differential(t)\n",
    "Dₜ² = Differential(t)^2\n",
    "\n",
    "eq = Dₜ²(u(t))+Dₜ(u(t))~6u(t)\n",
    "bcs = [\n",
    "    u(0)~2,\n",
    "    Dₜ(u(0))~-1\n",
    "]\n",
    "\n",
    "domain = [t∈0..2]\n",
    "@named ode = PDESystem(eq, bcs, domain, [t], [u(t)])"
   ]
  },
  {
   "cell_type": "code",
   "execution_count": 2,
   "metadata": {},
   "outputs": [
    {
     "data": {
      "text/plain": [
       "\u001b[38;2;86;182;194mOptimizationProblem\u001b[0m. In-place: \u001b[38;2;86;182;194mtrue\u001b[0m\n",
       "u0: \u001b[0mComponentVector{Float64}(layer_1 = (weight = [0.6964869499206543; -0.5511996746063232; … ; -0.6775871515274048; 0.964974045753479;;], bias = [0.0; 0.0; … ; 0.0; 0.0;;]), layer_2 = (weight = [-0.04419638589024544 0.5659594535827637 … -0.21709831058979034 -0.033189449459314346; 0.5235389471054077 -0.43671461939811707 … 0.16180935502052307 -0.5157831311225891; … ; -0.06792855262756348 -0.034215908497571945 … -0.37870916724205017 0.08685261011123657; -0.14252416789531708 0.27819928526878357 … 0.5468639731407166 -0.1414407640695572], bias = [0.0; 0.0; … ; 0.0; 0.0;;]), layer_3 = (weight = [0.16432379186153412 -0.6033838987350464 … 0.6083216071128845 -0.0017621585866436362; 0.2772686779499054 -0.14034932851791382 … -0.19077499210834503 0.4631214737892151; … ; 0.49410971999168396 -0.2876322567462921 … -0.14021632075309753 0.4967819154262543; 0.19366027414798737 0.526829183101654 … 0.362162321805954 -0.060238972306251526], bias = [0.0; 0.0; … ; 0.0; 0.0;;]), layer_4 = (weight = [0.18771927058696747 -0.3896178603172302 … -0.5601364970207214 -0.004926510155200958; 0.2598141133785248 -0.5709421634674072 … -0.5505543351173401 -0.2579837739467621; … ; 0.027019375935196877 -0.1436668336391449 … 0.03486794978380203 -0.0038563963025808334; 0.5415236949920654 0.5429517030715942 … 0.46201273798942566 0.24022647738456726], bias = [0.0; 0.0; … ; 0.0; 0.0;;]), layer_5 = (weight = [0.12417169660329819 -0.4214739501476288 … -0.051022808998823166 -0.4685475826263428], bias = [0.0;;]))"
      ]
     },
     "metadata": {},
     "output_type": "display_data"
    }
   ],
   "source": [
    "sampler = QuasiRandomSampler(1000, 1)\n",
    "pinn = PINN(Siren(1,16,16,16,16,1; omega=1.0f0))\n",
    "strategy = NonAdaptiveTraining(1, 50)\n",
    "\n",
    "prob = Sophon.discretize(ode, pinn, sampler, strategy)"
   ]
  },
  {
   "cell_type": "code",
   "execution_count": 3,
   "metadata": {},
   "outputs": [
    {
     "name": "stdout",
     "output_type": "stream",
     "text": [
      "Loss: 1618.0907730450188\n"
     ]
    },
    {
     "name": "stdout",
     "output_type": "stream",
     "text": [
      "Loss: 254.33300301103083\n"
     ]
    },
    {
     "name": "stdout",
     "output_type": "stream",
     "text": [
      "Loss: 82.25293993786224\n"
     ]
    },
    {
     "name": "stdout",
     "output_type": "stream",
     "text": [
      "Loss: 62.14295459358837\n"
     ]
    },
    {
     "name": "stdout",
     "output_type": "stream",
     "text": [
      "Loss: 54.14875806307767\n"
     ]
    },
    {
     "name": "stdout",
     "output_type": "stream",
     "text": [
      "Loss: 44.9064585882211\n"
     ]
    },
    {
     "name": "stdout",
     "output_type": "stream",
     "text": [
      "Loss: 41.82134517423199\n"
     ]
    },
    {
     "name": "stdout",
     "output_type": "stream",
     "text": [
      "Loss: 38.864355374188875\n",
      "Loss: 36.31132527477902\n"
     ]
    },
    {
     "name": "stdout",
     "output_type": "stream",
     "text": [
      "Loss: 35.82169546711288\n",
      "Loss: 35.78109312678044\n"
     ]
    },
    {
     "name": "stdout",
     "output_type": "stream",
     "text": [
      "Loss: 35.44523902854922\n",
      "Loss: 35.26804086174116\n"
     ]
    },
    {
     "name": "stdout",
     "output_type": "stream",
     "text": [
      "Loss: 35.08199733886772\n",
      "Loss: 34.88421376729105\n"
     ]
    },
    {
     "name": "stdout",
     "output_type": "stream",
     "text": [
      "Loss: 34.705664178351164\n",
      "Loss: 34.62252479655921\n",
      "Loss: 34.58039583220161\n"
     ]
    },
    {
     "name": "stdout",
     "output_type": "stream",
     "text": [
      "Loss: 34.37914929700474\n"
     ]
    },
    {
     "name": "stdout",
     "output_type": "stream",
     "text": [
      "Loss: 34.263796681489815\n",
      "Loss: 34.18490661935264\n"
     ]
    },
    {
     "name": "stdout",
     "output_type": "stream",
     "text": [
      "Loss: 33.98182234636196\n"
     ]
    },
    {
     "name": "stdout",
     "output_type": "stream",
     "text": [
      "Loss: 33.597889062906944\n"
     ]
    },
    {
     "name": "stdout",
     "output_type": "stream",
     "text": [
      "Loss: 33.50706140370753\n"
     ]
    },
    {
     "name": "stdout",
     "output_type": "stream",
     "text": [
      "Loss: 33.150497373043464\n",
      "Loss: 33.02554723795855\n"
     ]
    },
    {
     "name": "stdout",
     "output_type": "stream",
     "text": [
      "Loss: 32.934477426947645\n",
      "Loss: 32.5850957458107\n"
     ]
    },
    {
     "name": "stdout",
     "output_type": "stream",
     "text": [
      "Loss: 32.42390974386136\n"
     ]
    },
    {
     "name": "stdout",
     "output_type": "stream",
     "text": [
      "Loss: 32.28861312054747\n"
     ]
    },
    {
     "name": "stdout",
     "output_type": "stream",
     "text": [
      "Loss: 32.130551890085684\n"
     ]
    },
    {
     "name": "stdout",
     "output_type": "stream",
     "text": [
      "Loss: 31.90512524464877\n"
     ]
    },
    {
     "name": "stdout",
     "output_type": "stream",
     "text": [
      "Loss: 31.86082859322745\n"
     ]
    },
    {
     "name": "stdout",
     "output_type": "stream",
     "text": [
      "Loss: 31.7927579026127\n"
     ]
    },
    {
     "name": "stdout",
     "output_type": "stream",
     "text": [
      "Loss: 31.618864080725913\n"
     ]
    },
    {
     "name": "stdout",
     "output_type": "stream",
     "text": [
      "Loss: 31.525773078270877\n"
     ]
    },
    {
     "name": "stdout",
     "output_type": "stream",
     "text": [
      "Loss: 31.424715412567533\n"
     ]
    },
    {
     "name": "stdout",
     "output_type": "stream",
     "text": [
      "Loss: 31.19873339341563\n"
     ]
    },
    {
     "name": "stdout",
     "output_type": "stream",
     "text": [
      "Loss: 31.066170044067746\n",
      "Loss: 30.958908886185018\n"
     ]
    },
    {
     "name": "stdout",
     "output_type": "stream",
     "text": [
      "Loss: 30.81608143597702\n"
     ]
    },
    {
     "name": "stdout",
     "output_type": "stream",
     "text": [
      "Loss: 30.57409281786345\n"
     ]
    },
    {
     "name": "stdout",
     "output_type": "stream",
     "text": [
      "Loss: 30.13081325908937\n"
     ]
    },
    {
     "name": "stdout",
     "output_type": "stream",
     "text": [
      "Loss: 30.043502102587695\n"
     ]
    },
    {
     "name": "stdout",
     "output_type": "stream",
     "text": [
      "Loss: 29.754924627793198\n"
     ]
    },
    {
     "name": "stdout",
     "output_type": "stream",
     "text": [
      "Loss: 29.65656182945534\n"
     ]
    },
    {
     "name": "stdout",
     "output_type": "stream",
     "text": [
      "Loss: 29.154425324320723\n"
     ]
    },
    {
     "name": "stdout",
     "output_type": "stream",
     "text": [
      "Loss: 29.022096328076834\n"
     ]
    },
    {
     "name": "stdout",
     "output_type": "stream",
     "text": [
      "Loss: 28.52617244992703\n"
     ]
    },
    {
     "name": "stdout",
     "output_type": "stream",
     "text": [
      "Loss: 28.382165307517848\n"
     ]
    },
    {
     "name": "stdout",
     "output_type": "stream",
     "text": [
      "Loss: 28.24773205794174\n"
     ]
    },
    {
     "name": "stdout",
     "output_type": "stream",
     "text": [
      "Loss: 28.187251265233503\n"
     ]
    },
    {
     "name": "stdout",
     "output_type": "stream",
     "text": [
      "Loss: 28.077474058596383\n"
     ]
    },
    {
     "name": "stdout",
     "output_type": "stream",
     "text": [
      "Loss: 27.745294333170182\n"
     ]
    },
    {
     "name": "stdout",
     "output_type": "stream",
     "text": [
      "Loss: 26.788279968494233\n"
     ]
    },
    {
     "name": "stdout",
     "output_type": "stream",
     "text": [
      "Loss: 26.565074722766727\n"
     ]
    },
    {
     "name": "stdout",
     "output_type": "stream",
     "text": [
      "Loss: 26.383397571386478\n"
     ]
    },
    {
     "name": "stdout",
     "output_type": "stream",
     "text": [
      "Loss: 26.15172610914203\n"
     ]
    },
    {
     "name": "stdout",
     "output_type": "stream",
     "text": [
      "Loss: 25.67400517914361\n"
     ]
    },
    {
     "name": "stdout",
     "output_type": "stream",
     "text": [
      "Loss: 25.48658217368795\n"
     ]
    },
    {
     "name": "stdout",
     "output_type": "stream",
     "text": [
      "Loss: 25.323554210876082\n"
     ]
    },
    {
     "name": "stdout",
     "output_type": "stream",
     "text": [
      "Loss: 24.925830089997536\n"
     ]
    },
    {
     "name": "stdout",
     "output_type": "stream",
     "text": [
      "Loss: 24.852350604555028\n",
      "Loss: 24.691655434563692\n"
     ]
    },
    {
     "name": "stdout",
     "output_type": "stream",
     "text": [
      "Loss: 24.528583352672076\n"
     ]
    },
    {
     "name": "stdout",
     "output_type": "stream",
     "text": [
      "Loss: 24.467216110960585\n"
     ]
    },
    {
     "name": "stdout",
     "output_type": "stream",
     "text": [
      "Loss: 24.178746895044277\n"
     ]
    },
    {
     "name": "stdout",
     "output_type": "stream",
     "text": [
      "Loss: 23.922739819296176\n"
     ]
    },
    {
     "name": "stdout",
     "output_type": "stream",
     "text": [
      "Loss: 23.80502985960722\n"
     ]
    },
    {
     "name": "stdout",
     "output_type": "stream",
     "text": [
      "Loss: 23.674486334602545\n"
     ]
    },
    {
     "name": "stdout",
     "output_type": "stream",
     "text": [
      "Loss: 23.435600687768883\n"
     ]
    },
    {
     "name": "stdout",
     "output_type": "stream",
     "text": [
      "Loss: 23.131335805493887\n"
     ]
    },
    {
     "name": "stdout",
     "output_type": "stream",
     "text": [
      "Loss: 22.967513484277557\n"
     ]
    },
    {
     "name": "stdout",
     "output_type": "stream",
     "text": [
      "Loss: 22.73751614363645\n"
     ]
    },
    {
     "name": "stdout",
     "output_type": "stream",
     "text": [
      "Loss: 22.637261695475598\n"
     ]
    },
    {
     "name": "stdout",
     "output_type": "stream",
     "text": [
      "Loss: 22.416562720874005\n"
     ]
    },
    {
     "name": "stdout",
     "output_type": "stream",
     "text": [
      "Loss: 21.958046617679898\n"
     ]
    },
    {
     "name": "stdout",
     "output_type": "stream",
     "text": [
      "Loss: 21.738583569442003\n"
     ]
    },
    {
     "name": "stdout",
     "output_type": "stream",
     "text": [
      "Loss: 21.48818280673094\n"
     ]
    },
    {
     "name": "stdout",
     "output_type": "stream",
     "text": [
      "Loss: 20.884470845179372\n"
     ]
    },
    {
     "name": "stdout",
     "output_type": "stream",
     "text": [
      "Loss: 20.578819497475983\n"
     ]
    },
    {
     "name": "stdout",
     "output_type": "stream",
     "text": [
      "Loss: 20.47853177380316\n"
     ]
    },
    {
     "name": "stdout",
     "output_type": "stream",
     "text": [
      "Loss: 20.09520711737898\n"
     ]
    },
    {
     "name": "stdout",
     "output_type": "stream",
     "text": [
      "Loss: 19.573915296178722\n"
     ]
    },
    {
     "name": "stdout",
     "output_type": "stream",
     "text": [
      "Loss: 19.451049769720342\n"
     ]
    },
    {
     "name": "stdout",
     "output_type": "stream",
     "text": [
      "Loss: 19.092341403174217\n"
     ]
    },
    {
     "name": "stdout",
     "output_type": "stream",
     "text": [
      "Loss: 18.589467577193727\n"
     ]
    },
    {
     "name": "stdout",
     "output_type": "stream",
     "text": [
      "Loss: 17.743228380574106\n"
     ]
    },
    {
     "name": "stdout",
     "output_type": "stream",
     "text": [
      "Loss: 17.331678367060533\n"
     ]
    },
    {
     "name": "stdout",
     "output_type": "stream",
     "text": [
      "Loss: 17.23504371510989\n"
     ]
    },
    {
     "name": "stdout",
     "output_type": "stream",
     "text": [
      "Loss: 17.11998521004879\n"
     ]
    },
    {
     "name": "stdout",
     "output_type": "stream",
     "text": [
      "Loss: 16.887413544497637\n"
     ]
    },
    {
     "name": "stdout",
     "output_type": "stream",
     "text": [
      "Loss: 16.55725562827451\n"
     ]
    },
    {
     "name": "stdout",
     "output_type": "stream",
     "text": [
      "Loss: 16.387256215418326\n"
     ]
    },
    {
     "name": "stdout",
     "output_type": "stream",
     "text": [
      "Loss: 16.280726368133003\n"
     ]
    },
    {
     "name": "stdout",
     "output_type": "stream",
     "text": [
      "Loss: 16.132288515616725\n"
     ]
    },
    {
     "name": "stdout",
     "output_type": "stream",
     "text": [
      "Loss: 15.461851257140296\n"
     ]
    },
    {
     "name": "stdout",
     "output_type": "stream",
     "text": [
      "Loss: 15.33037470467529\n"
     ]
    },
    {
     "name": "stdout",
     "output_type": "stream",
     "text": [
      "Loss: 15.030010564268235\n"
     ]
    },
    {
     "name": "stdout",
     "output_type": "stream",
     "text": [
      "Loss: 14.83858340040681\n"
     ]
    },
    {
     "name": "stdout",
     "output_type": "stream",
     "text": [
      "Loss: 14.714725237561105\n"
     ]
    },
    {
     "name": "stdout",
     "output_type": "stream",
     "text": [
      "Loss: 14.616674085352722\n"
     ]
    },
    {
     "name": "stdout",
     "output_type": "stream",
     "text": [
      "Loss: 13.923181518650283\n"
     ]
    },
    {
     "name": "stdout",
     "output_type": "stream",
     "text": [
      "Loss: 13.785852862149776\n"
     ]
    },
    {
     "name": "stdout",
     "output_type": "stream",
     "text": [
      "Loss: 13.631100045166063\n"
     ]
    },
    {
     "name": "stdout",
     "output_type": "stream",
     "text": [
      "Loss: 13.511910078670073\n"
     ]
    },
    {
     "name": "stdout",
     "output_type": "stream",
     "text": [
      "Loss: 13.281379434475822\n"
     ]
    },
    {
     "name": "stdout",
     "output_type": "stream",
     "text": [
      "Loss: 13.057994292481974\n"
     ]
    },
    {
     "name": "stdout",
     "output_type": "stream",
     "text": [
      "Loss: 12.932906610965144\n"
     ]
    },
    {
     "name": "stdout",
     "output_type": "stream",
     "text": [
      "Loss: 12.596252767747373\n"
     ]
    },
    {
     "name": "stdout",
     "output_type": "stream",
     "text": [
      "Loss: 12.43792039310497\n"
     ]
    },
    {
     "name": "stdout",
     "output_type": "stream",
     "text": [
      "Loss: 12.201930324697331\n"
     ]
    },
    {
     "name": "stdout",
     "output_type": "stream",
     "text": [
      "Loss: 12.011156932183521\n"
     ]
    },
    {
     "name": "stdout",
     "output_type": "stream",
     "text": [
      "Loss: 11.726211710199282\n"
     ]
    },
    {
     "name": "stdout",
     "output_type": "stream",
     "text": [
      "Loss: 11.492848749276781\n"
     ]
    },
    {
     "name": "stdout",
     "output_type": "stream",
     "text": [
      "Loss: 11.374240434823129\n"
     ]
    },
    {
     "name": "stdout",
     "output_type": "stream",
     "text": [
      "Loss: 10.890156616047577\n"
     ]
    },
    {
     "name": "stdout",
     "output_type": "stream",
     "text": [
      "Loss: 10.682330789282316\n"
     ]
    },
    {
     "name": "stdout",
     "output_type": "stream",
     "text": [
      "Loss: 10.504642789585974\n"
     ]
    },
    {
     "name": "stdout",
     "output_type": "stream",
     "text": [
      "Loss: 10.232230303765798\n"
     ]
    },
    {
     "name": "stdout",
     "output_type": "stream",
     "text": [
      "Loss: 9.925166419543705\n"
     ]
    },
    {
     "name": "stdout",
     "output_type": "stream",
     "text": [
      "Loss: 9.749932744518343\n"
     ]
    },
    {
     "name": "stdout",
     "output_type": "stream",
     "text": [
      "Loss: 9.497595879571628\n"
     ]
    },
    {
     "name": "stdout",
     "output_type": "stream",
     "text": [
      "Loss: 8.99783360201556\n"
     ]
    },
    {
     "name": "stdout",
     "output_type": "stream",
     "text": [
      "Loss: 8.902716251698127\n"
     ]
    },
    {
     "name": "stdout",
     "output_type": "stream",
     "text": [
      "Loss: 8.693993323804275\n"
     ]
    },
    {
     "name": "stdout",
     "output_type": "stream",
     "text": [
      "Loss: 8.51788912009529\n"
     ]
    },
    {
     "name": "stdout",
     "output_type": "stream",
     "text": [
      "Loss: 8.347156086943546\n",
      "Loss: 8.236739519657608\n"
     ]
    },
    {
     "name": "stdout",
     "output_type": "stream",
     "text": [
      "Loss: 8.152808401066647\n",
      "Loss: 8.052563766772613\n"
     ]
    },
    {
     "name": "stdout",
     "output_type": "stream",
     "text": [
      "Loss: 7.894498874405871\n"
     ]
    },
    {
     "name": "stdout",
     "output_type": "stream",
     "text": [
      "Loss: 7.6878029347859025\n"
     ]
    },
    {
     "name": "stdout",
     "output_type": "stream",
     "text": [
      "Loss: 7.3952121106852315\n"
     ]
    },
    {
     "name": "stdout",
     "output_type": "stream",
     "text": [
      "Loss: 7.0431590548825165\n"
     ]
    },
    {
     "name": "stdout",
     "output_type": "stream",
     "text": [
      "Loss: 6.904409418747859\n"
     ]
    },
    {
     "name": "stdout",
     "output_type": "stream",
     "text": [
      "Loss: 6.664574990961325\n"
     ]
    },
    {
     "name": "stdout",
     "output_type": "stream",
     "text": [
      "Loss: 6.52209242228043\n"
     ]
    },
    {
     "name": "stdout",
     "output_type": "stream",
     "text": [
      "Loss: 6.355458534399139\n"
     ]
    },
    {
     "name": "stdout",
     "output_type": "stream",
     "text": [
      "Loss: 6.100811040504667\n"
     ]
    },
    {
     "name": "stdout",
     "output_type": "stream",
     "text": [
      "Loss: 5.998469635535445\n"
     ]
    },
    {
     "name": "stdout",
     "output_type": "stream",
     "text": [
      "Loss: 5.80043557767168\n"
     ]
    },
    {
     "name": "stdout",
     "output_type": "stream",
     "text": [
      "Loss: 5.052099689474969\n"
     ]
    },
    {
     "name": "stdout",
     "output_type": "stream",
     "text": [
      "Loss: 4.822117129553252\n"
     ]
    },
    {
     "name": "stdout",
     "output_type": "stream",
     "text": [
      "Loss: 4.76987332229137\n"
     ]
    },
    {
     "name": "stdout",
     "output_type": "stream",
     "text": [
      "Loss: 4.6024310044020424\n"
     ]
    },
    {
     "name": "stdout",
     "output_type": "stream",
     "text": [
      "Loss: 4.513800278480737\n"
     ]
    },
    {
     "name": "stdout",
     "output_type": "stream",
     "text": [
      "Loss: 4.272890714113138\n"
     ]
    },
    {
     "name": "stdout",
     "output_type": "stream",
     "text": [
      "Loss: 4.155558552699652\n"
     ]
    },
    {
     "name": "stdout",
     "output_type": "stream",
     "text": [
      "Loss: 4.08291567037323\n"
     ]
    },
    {
     "name": "stdout",
     "output_type": "stream",
     "text": [
      "Loss: 4.015067382960887\n"
     ]
    },
    {
     "name": "stdout",
     "output_type": "stream",
     "text": [
      "Loss: 3.902239581281984\n"
     ]
    },
    {
     "name": "stdout",
     "output_type": "stream",
     "text": [
      "Loss: 3.818722125965245\n"
     ]
    },
    {
     "name": "stdout",
     "output_type": "stream",
     "text": [
      "Loss: 3.7282461207522357\n"
     ]
    },
    {
     "name": "stdout",
     "output_type": "stream",
     "text": [
      "Loss: 3.6654037608893386\n"
     ]
    },
    {
     "name": "stdout",
     "output_type": "stream",
     "text": [
      "Loss: 3.372467054562288\n"
     ]
    },
    {
     "name": "stdout",
     "output_type": "stream",
     "text": [
      "Loss: 3.2942048485281257\n"
     ]
    },
    {
     "name": "stdout",
     "output_type": "stream",
     "text": [
      "Loss: 3.253508580408564\n"
     ]
    },
    {
     "name": "stdout",
     "output_type": "stream",
     "text": [
      "Loss: 3.1374236350985774\n"
     ]
    },
    {
     "name": "stdout",
     "output_type": "stream",
     "text": [
      "Loss: 2.9225628185404715\n"
     ]
    },
    {
     "name": "stdout",
     "output_type": "stream",
     "text": [
      "Loss: 2.879291678510779\n"
     ]
    },
    {
     "name": "stdout",
     "output_type": "stream",
     "text": [
      "Loss: 2.8228210911698315\n"
     ]
    },
    {
     "name": "stdout",
     "output_type": "stream",
     "text": [
      "Loss: 2.743204514538746\n"
     ]
    },
    {
     "name": "stdout",
     "output_type": "stream",
     "text": [
      "Loss: 2.6721959486906273\n"
     ]
    },
    {
     "name": "stdout",
     "output_type": "stream",
     "text": [
      "Loss: 2.6272430078599047\n"
     ]
    },
    {
     "name": "stdout",
     "output_type": "stream",
     "text": [
      "Loss: 2.5683869331988576\n"
     ]
    },
    {
     "name": "stdout",
     "output_type": "stream",
     "text": [
      "Loss: 2.529725199623582\n"
     ]
    },
    {
     "name": "stdout",
     "output_type": "stream",
     "text": [
      "Loss: 2.493081346798256\n"
     ]
    },
    {
     "name": "stdout",
     "output_type": "stream",
     "text": [
      "Loss: 2.3156032975753793\n"
     ]
    },
    {
     "name": "stdout",
     "output_type": "stream",
     "text": [
      "Loss: 2.2442166304786895\n"
     ]
    },
    {
     "name": "stdout",
     "output_type": "stream",
     "text": [
      "Loss: 2.1980651977431034\n"
     ]
    },
    {
     "name": "stdout",
     "output_type": "stream",
     "text": [
      "Loss: 2.1402608909176677\n",
      "Loss: 2.0648959270939544\n"
     ]
    },
    {
     "name": "stdout",
     "output_type": "stream",
     "text": [
      "Loss: 2.0159100715002296\n"
     ]
    },
    {
     "name": "stdout",
     "output_type": "stream",
     "text": [
      "Loss: 1.917290548834924\n"
     ]
    },
    {
     "name": "stdout",
     "output_type": "stream",
     "text": [
      "Loss: 1.8083867003549583\n"
     ]
    },
    {
     "name": "stdout",
     "output_type": "stream",
     "text": [
      "Loss: 1.7074148924219181\n"
     ]
    },
    {
     "name": "stdout",
     "output_type": "stream",
     "text": [
      "Loss: 1.6350226600324458\n"
     ]
    },
    {
     "name": "stdout",
     "output_type": "stream",
     "text": [
      "Loss: 1.5045597160585213\n"
     ]
    },
    {
     "name": "stdout",
     "output_type": "stream",
     "text": [
      "Loss: 1.450504556812598\n"
     ]
    },
    {
     "name": "stdout",
     "output_type": "stream",
     "text": [
      "Loss: 1.3760809377775494\n"
     ]
    },
    {
     "name": "stdout",
     "output_type": "stream",
     "text": [
      "Loss: 1.2569042173010045\n"
     ]
    },
    {
     "name": "stdout",
     "output_type": "stream",
     "text": [
      "Loss: 1.2335513058129826\n"
     ]
    },
    {
     "name": "stdout",
     "output_type": "stream",
     "text": [
      "Loss: 1.1978504932580958\n",
      "Loss: 1.1620369889079025\n"
     ]
    },
    {
     "name": "stdout",
     "output_type": "stream",
     "text": [
      "Loss: 1.1258923105238372\n"
     ]
    },
    {
     "name": "stdout",
     "output_type": "stream",
     "text": [
      "Loss: 1.080288027907913\n",
      "Loss: 1.074277465148033\n"
     ]
    },
    {
     "name": "stdout",
     "output_type": "stream",
     "text": [
      "Loss: 1.0137774056447748\n"
     ]
    },
    {
     "name": "stdout",
     "output_type": "stream",
     "text": [
      "Loss: 0.9750878418598402\n"
     ]
    },
    {
     "name": "stdout",
     "output_type": "stream",
     "text": [
      "Loss: 0.9519003662351313\n",
      "Loss: 0.9258239961009369\n"
     ]
    },
    {
     "name": "stdout",
     "output_type": "stream",
     "text": [
      "Loss: 0.8756979054088608\n"
     ]
    },
    {
     "name": "stdout",
     "output_type": "stream",
     "text": [
      "Loss: 0.7653247943093843\n"
     ]
    },
    {
     "name": "stdout",
     "output_type": "stream",
     "text": [
      "Loss: 0.6895702768624887\n"
     ]
    },
    {
     "name": "stdout",
     "output_type": "stream",
     "text": [
      "Loss: 0.6402472893611652\n",
      "Loss: 0.6296372039771687\n"
     ]
    },
    {
     "name": "stdout",
     "output_type": "stream",
     "text": [
      "Loss: 0.598138541357603\n",
      "Loss: 0.5556752296352019\n"
     ]
    },
    {
     "name": "stdout",
     "output_type": "stream",
     "text": [
      "Loss: 0.50835043272121\n"
     ]
    },
    {
     "name": "stdout",
     "output_type": "stream",
     "text": [
      "Loss: 0.4533676647991167\n"
     ]
    },
    {
     "name": "stdout",
     "output_type": "stream",
     "text": [
      "Loss: 0.4234898017489941\n",
      "Loss: 0.37449736304750136\n"
     ]
    },
    {
     "name": "stdout",
     "output_type": "stream",
     "text": [
      "Loss: 0.35802019719799894\n",
      "Loss: 0.33961442701232886\n"
     ]
    },
    {
     "name": "stdout",
     "output_type": "stream",
     "text": [
      "Loss: 0.31457093833532895\n",
      "Loss: 0.3020260808902762\n"
     ]
    },
    {
     "name": "stdout",
     "output_type": "stream",
     "text": [
      "Loss: 0.29732480827861907\n",
      "Loss: 0.2899061047118818\n"
     ]
    },
    {
     "name": "stdout",
     "output_type": "stream",
     "text": [
      "Loss: 0.28366119155126135\n",
      "Loss: 0.2759057242641376\n"
     ]
    },
    {
     "name": "stdout",
     "output_type": "stream",
     "text": [
      "Loss: 0.26195939350059194\n"
     ]
    },
    {
     "name": "stdout",
     "output_type": "stream",
     "text": [
      "Loss: 0.2259712781840078\n",
      "Loss: 0.21601273775665197\n"
     ]
    },
    {
     "name": "stdout",
     "output_type": "stream",
     "text": [
      "Loss: 0.20483242096289186\n",
      "Loss: 0.19592280130977016\n",
      "Loss: 0.18947836514205904\n"
     ]
    },
    {
     "name": "stdout",
     "output_type": "stream",
     "text": [
      "Loss: 0.18303524056351705\n",
      "Loss: 0.1773226071172626\n"
     ]
    },
    {
     "name": "stdout",
     "output_type": "stream",
     "text": [
      "Loss: 0.17066700422385486\n",
      "Loss: 0.15562457324340212\n"
     ]
    },
    {
     "name": "stdout",
     "output_type": "stream",
     "text": [
      "Loss: 0.13910297491112977\n",
      "Loss: 0.12774591541941877\n"
     ]
    },
    {
     "name": "stdout",
     "output_type": "stream",
     "text": [
      "Loss: 0.12774602583777933\n"
     ]
    },
    {
     "name": "stdout",
     "output_type": "stream",
     "text": [
      "Loss: 0.12015264986004061\n",
      "Loss: 0.11009077332366127\n"
     ]
    },
    {
     "name": "stdout",
     "output_type": "stream",
     "text": [
      "Loss: 0.1026910229570988\n",
      "Loss: 0.09533942849767793\n"
     ]
    },
    {
     "name": "stdout",
     "output_type": "stream",
     "text": [
      "Loss: 0.0838115126955823\n",
      "Loss: 0.0770266182307875\n"
     ]
    },
    {
     "name": "stdout",
     "output_type": "stream",
     "text": [
      "Loss: 0.07082754233880041\n",
      "Loss: 0.06014139028115198\n"
     ]
    },
    {
     "name": "stdout",
     "output_type": "stream",
     "text": [
      "Loss: 0.05406389013318139\n",
      "Loss: 0.049220552336350296\n"
     ]
    },
    {
     "name": "stdout",
     "output_type": "stream",
     "text": [
      "Loss: 0.04355208816928339\n",
      "Loss: 0.04002500633498656\n"
     ]
    },
    {
     "name": "stdout",
     "output_type": "stream",
     "text": [
      "Loss: 0.03409510495152703\n",
      "Loss: 0.031206753581506357\n"
     ]
    },
    {
     "name": "stdout",
     "output_type": "stream",
     "text": [
      "Loss: 0.029710029975031832\n",
      "Loss: 0.025503617025641374\n"
     ]
    },
    {
     "name": "stdout",
     "output_type": "stream",
     "text": [
      "Loss: 0.02378558161176677\n",
      "Loss: 0.021279146905308702\n"
     ]
    },
    {
     "name": "stdout",
     "output_type": "stream",
     "text": [
      "Loss: 0.020194495221420722\n",
      "Loss: 0.01905057175481795\n"
     ]
    },
    {
     "name": "stdout",
     "output_type": "stream",
     "text": [
      "Loss: 0.01777565465465441\n",
      "Loss: 0.016598007558586418\n"
     ]
    },
    {
     "name": "stdout",
     "output_type": "stream",
     "text": [
      "Loss: 0.014933737050776955\n",
      "Loss: 0.013283021644814789\n"
     ]
    },
    {
     "name": "stdout",
     "output_type": "stream",
     "text": [
      "Loss: 0.01195197025341229\n",
      "Loss: 0.01025637208150301\n"
     ]
    },
    {
     "name": "stdout",
     "output_type": "stream",
     "text": [
      "Loss: 0.009407381260600175\n",
      "Loss: 0.008052836858308047\n"
     ]
    },
    {
     "name": "stdout",
     "output_type": "stream",
     "text": [
      "Loss: 0.006874491242221775\n",
      "Loss: 0.005925283355277132\n"
     ]
    },
    {
     "name": "stdout",
     "output_type": "stream",
     "text": [
      "Loss: 0.00559077192930842\n",
      "Loss: 0.005160754103234383\n"
     ]
    },
    {
     "name": "stdout",
     "output_type": "stream",
     "text": [
      "Loss: 0.004707255332939255\n",
      "Loss: 0.004637823758143042\n",
      "Loss: 0.004262956914218166\n"
     ]
    },
    {
     "name": "stdout",
     "output_type": "stream",
     "text": [
      "Loss: 0.0037556464775677935\n",
      "Loss: 0.003553068808079978\n"
     ]
    },
    {
     "name": "stdout",
     "output_type": "stream",
     "text": [
      "Loss: 0.0031965994103994428\n"
     ]
    },
    {
     "name": "stdout",
     "output_type": "stream",
     "text": [
      "Loss: 0.0029340389386957135\n",
      "Loss: 0.002689769258460673\n"
     ]
    },
    {
     "name": "stdout",
     "output_type": "stream",
     "text": [
      "Loss: 0.0025647466577997133\n",
      "Loss: 0.002431886024874432\n"
     ]
    },
    {
     "name": "stdout",
     "output_type": "stream",
     "text": [
      "Loss: 0.002373191214751052\n",
      "Loss: 0.0021437792320972604\n"
     ]
    },
    {
     "name": "stdout",
     "output_type": "stream",
     "text": [
      "Loss: 0.0020461169164836842\n",
      "Loss: 0.0018644388080122543\n"
     ]
    },
    {
     "name": "stdout",
     "output_type": "stream",
     "text": [
      "Loss: 0.0017433976338086371\n",
      "Loss: 0.0017181348486440572\n",
      "Loss: 0.0016350342206997394\n"
     ]
    },
    {
     "name": "stdout",
     "output_type": "stream",
     "text": [
      "Loss: 0.0015674435196246588\n",
      "Loss: 0.0014694213499861417\n",
      "Loss: 0.001406299393974135\n"
     ]
    },
    {
     "name": "stdout",
     "output_type": "stream",
     "text": [
      "Loss: 0.0013038011517372179\n",
      "Loss: 0.0012367547243359125\n"
     ]
    },
    {
     "name": "stdout",
     "output_type": "stream",
     "text": [
      "Loss: 0.0011321194476324988\n",
      "Loss: 0.0011062237585296678\n"
     ]
    },
    {
     "name": "stdout",
     "output_type": "stream",
     "text": [
      "Loss: 0.001019622451809448\n"
     ]
    },
    {
     "name": "stdout",
     "output_type": "stream",
     "text": [
      "Loss: 0.0009319803804162691\n",
      "Loss: 0.0008616546657621538\n"
     ]
    },
    {
     "name": "stdout",
     "output_type": "stream",
     "text": [
      "Loss: 0.0008264051226242893\n",
      "Loss: 0.0007756286412311719\n"
     ]
    },
    {
     "name": "stdout",
     "output_type": "stream",
     "text": [
      "Loss: 0.0007327819754085367\n",
      "Loss: 0.0006723442288530143\n",
      "Loss: 0.0006521615561083988\n"
     ]
    },
    {
     "name": "stdout",
     "output_type": "stream",
     "text": [
      "Loss: 0.000584712610280174\n",
      "Loss: 0.0005237017850335105\n",
      "Loss: 0.0004829251317394585\n"
     ]
    },
    {
     "name": "stdout",
     "output_type": "stream",
     "text": [
      "Loss: 0.000443436984784001\n",
      "Loss: 0.0004105526916661325\n",
      "Loss: 0.0003928597540636304\n"
     ]
    },
    {
     "name": "stdout",
     "output_type": "stream",
     "text": [
      "Loss: 0.0003651578082210207\n",
      "Loss: 0.0003545811877829219\n",
      "Loss: 0.00034647401163732434\n"
     ]
    },
    {
     "name": "stdout",
     "output_type": "stream",
     "text": [
      "Loss: 0.0003160642073351323\n",
      "Loss: 0.0002973581824973299\n",
      "Loss: 0.0002896417260491627\n"
     ]
    },
    {
     "name": "stdout",
     "output_type": "stream",
     "text": [
      "Loss: 0.0002864001437589534\n",
      "Loss: 0.0002786859659138991\n",
      "Loss: 0.0002648862965362601\n"
     ]
    },
    {
     "name": "stdout",
     "output_type": "stream",
     "text": [
      "Loss: 0.00025843942630555055\n",
      "Loss: 0.0002503327263002505\n"
     ]
    },
    {
     "name": "stdout",
     "output_type": "stream",
     "text": [
      "Loss: 0.0002382580420261925\n",
      "Loss: 0.00022731126419691048\n",
      "Loss: 0.00022051912118297473\n"
     ]
    },
    {
     "name": "stdout",
     "output_type": "stream",
     "text": [
      "Loss: 0.0001722889540098795\n",
      "Loss: 0.00016853464635039497\n"
     ]
    },
    {
     "name": "stdout",
     "output_type": "stream",
     "text": [
      "Loss: 0.00015083119425345933\n",
      "Loss: 0.0001432480937224581\n",
      "Loss: 0.0001376112704109259\n"
     ]
    },
    {
     "name": "stdout",
     "output_type": "stream",
     "text": [
      "Loss: 0.0001326834905728768\n",
      "Loss: 0.0001293893689287285\n"
     ]
    },
    {
     "name": "stdout",
     "output_type": "stream",
     "text": [
      "Loss: 0.00011175313317385402\n",
      "Loss: 0.00010543071621919662\n",
      "Loss: 8.97715003388861e-5\n"
     ]
    },
    {
     "name": "stdout",
     "output_type": "stream",
     "text": [
      "Loss: 7.473519788617447e-5\n",
      "Loss: 6.992777112643804e-5\n"
     ]
    },
    {
     "name": "stdout",
     "output_type": "stream",
     "text": [
      "Loss: 5.657038774131136e-5\n",
      "Loss: 5.321569339505255e-5\n",
      "Loss: 4.7649967832786066e-5\n"
     ]
    },
    {
     "name": "stdout",
     "output_type": "stream",
     "text": [
      "Loss: 4.262126696274038e-5\n",
      "Loss: 3.7793100536058423e-5\n",
      "Loss: 3.4612368138497686e-5\n"
     ]
    },
    {
     "name": "stdout",
     "output_type": "stream",
     "text": [
      "Loss: 3.2534214941560776e-5\n",
      "Loss: 3.0933321472788734e-5\n",
      "Loss: 3.0102473445052918e-5\n"
     ]
    },
    {
     "name": "stdout",
     "output_type": "stream",
     "text": [
      "Loss: 2.841863705053044e-5\n",
      "Loss: 2.6792901557193497e-5\n",
      "Loss: 2.544187322470298e-5\n"
     ]
    },
    {
     "name": "stdout",
     "output_type": "stream",
     "text": [
      "Loss: 2.158548581554454e-5\n",
      "Loss: 2.054040169581522e-5\n",
      "Loss: 1.9216000158824363e-5\n"
     ]
    },
    {
     "name": "stdout",
     "output_type": "stream",
     "text": [
      "Loss: 1.8448425493964047e-5\n",
      "Loss: 1.7959254631589274e-5\n",
      "Loss: 1.7812646457945018e-5\n"
     ]
    },
    {
     "name": "stdout",
     "output_type": "stream",
     "text": [
      "Loss: 1.7679429145701517e-5\n",
      "Loss: 1.7439865376153024e-5\n",
      "Loss: 1.7014475002039357e-5\n"
     ]
    },
    {
     "name": "stdout",
     "output_type": "stream",
     "text": [
      "Loss: 1.611902308374046e-5\n",
      "Loss: 1.4547003268873184e-5\n",
      "Loss: 1.3354016795879799e-5\n"
     ]
    },
    {
     "name": "stdout",
     "output_type": "stream",
     "text": [
      "Loss: 1.2687229630965929e-5\n",
      "Loss: 1.2192456359865e-5\n",
      "Loss: 1.1810716591577549e-5\n"
     ]
    },
    {
     "name": "stdout",
     "output_type": "stream",
     "text": [
      "Loss: 1.1121221344508093e-5\n",
      "Loss: 1.0739401579066216e-5\n",
      "Loss: 1.0546849503009458e-5\n"
     ]
    },
    {
     "name": "stdout",
     "output_type": "stream",
     "text": [
      "Loss: 9.966217055093472e-6\n",
      "Loss: 9.624537247953248e-6\n",
      "Loss: 9.560437492219792e-6\n"
     ]
    },
    {
     "name": "stdout",
     "output_type": "stream",
     "text": [
      "Loss: 9.25359278261432e-6\n",
      "Loss: 9.13443216142119e-6\n",
      "Loss: 8.985330742985633e-6\n"
     ]
    },
    {
     "name": "stdout",
     "output_type": "stream",
     "text": [
      "Loss: 8.88318815060965e-6\n",
      "Loss: 8.812432829529533e-6\n",
      "Loss: 8.747175544119042e-6\n"
     ]
    },
    {
     "name": "stdout",
     "output_type": "stream",
     "text": [
      "Loss: 8.699860406986773e-6\n",
      "Loss: 8.663256979531067e-6\n",
      "Loss: 8.627538173541683e-6\n"
     ]
    },
    {
     "name": "stdout",
     "output_type": "stream",
     "text": [
      "Loss: 8.545673719774398e-6\n",
      "Loss: 8.459778057985353e-6\n",
      "Loss: 8.404642453658977e-6\n"
     ]
    },
    {
     "name": "stdout",
     "output_type": "stream",
     "text": [
      "Loss: 8.333558478571829e-6\n",
      "Loss: 8.20860504635834e-6\n"
     ]
    },
    {
     "name": "stdout",
     "output_type": "stream",
     "text": [
      "Loss: 7.730048671163497e-6\n",
      "Loss: 7.141243787878501e-6\n",
      "Loss: 6.839009738890836e-6\n"
     ]
    },
    {
     "name": "stdout",
     "output_type": "stream",
     "text": [
      "Loss: 6.190835740092962e-6\n",
      "Loss: 5.7661341262461555e-6\n"
     ]
    },
    {
     "name": "stdout",
     "output_type": "stream",
     "text": [
      "Loss: 5.592080302558417e-6\n",
      "Loss: 5.329507379783572e-6\n",
      "Loss: 4.640393752842165e-6\n"
     ]
    },
    {
     "name": "stdout",
     "output_type": "stream",
     "text": [
      "Loss: 4.475471921940258e-6\n",
      "Loss: 4.214802390589268e-6\n",
      "Loss: 4.0376309383772146e-6\n"
     ]
    },
    {
     "name": "stdout",
     "output_type": "stream",
     "text": [
      "Loss: 3.8327993647194314e-6\n",
      "Loss: 3.3681917589897044e-6\n",
      "Loss: 2.9533654019542624e-6\n"
     ]
    },
    {
     "name": "stdout",
     "output_type": "stream",
     "text": [
      "Loss: 2.776603557808984e-6\n",
      "Loss: 2.6129240035246987e-6\n",
      "Loss: 2.420490004927229e-6\n"
     ]
    },
    {
     "name": "stdout",
     "output_type": "stream",
     "text": [
      "Loss: 2.3625696646027716e-6\n",
      "Loss: 2.322029040579645e-6\n",
      "Loss: 2.1873531683675017e-6\n"
     ]
    },
    {
     "name": "stdout",
     "output_type": "stream",
     "text": [
      "Loss: 2.1489288496223048e-6\n",
      "Loss: 2.118053628397731e-6\n",
      "Loss: 2.099517942240434e-6\n"
     ]
    },
    {
     "name": "stdout",
     "output_type": "stream",
     "text": [
      "Loss: 2.077104551413595e-6\n",
      "Loss: 2.0681027904689516e-6\n",
      "Loss: 2.059412078732176e-6\n"
     ]
    },
    {
     "name": "stdout",
     "output_type": "stream",
     "text": [
      "Loss: 2.0479480261084616e-6\n",
      "Loss: 2.0338031741196804e-6\n",
      "Loss: 2.0187892506691766e-6\n"
     ]
    },
    {
     "name": "stdout",
     "output_type": "stream",
     "text": [
      "Loss: 2.0154662877439133e-6\n",
      "Loss: 2.014362794322001e-6\n",
      "Loss: 2.011393686643631e-6\n"
     ]
    },
    {
     "name": "stdout",
     "output_type": "stream",
     "text": [
      "Loss: 2.008092914672239e-6\n",
      "Loss: 2.00145402535522e-6\n"
     ]
    },
    {
     "name": "stdout",
     "output_type": "stream",
     "text": [
      "Loss: 1.991372814563225e-6\n",
      "Loss: 1.9799273012911846e-6\n"
     ]
    },
    {
     "name": "stdout",
     "output_type": "stream",
     "text": [
      "Loss: 1.9685157099917405e-6\n",
      "Loss: 1.959601208283292e-6\n"
     ]
    },
    {
     "name": "stdout",
     "output_type": "stream",
     "text": [
      "Loss: 1.9521672746184342e-6\n",
      "Loss: 1.946303409342863e-6\n"
     ]
    },
    {
     "name": "stdout",
     "output_type": "stream",
     "text": [
      "Loss: 1.919573534354195e-6\n",
      "Loss: 1.8952115096663208e-6\n"
     ]
    },
    {
     "name": "stdout",
     "output_type": "stream",
     "text": [
      "Loss: 1.8659931126861668e-6\n",
      "Loss: 1.8196011890535705e-6\n",
      "Loss: 1.7489574362029117e-6\n"
     ]
    },
    {
     "name": "stdout",
     "output_type": "stream",
     "text": [
      "Loss: 1.7215127928133282e-6\n",
      "Loss: 1.6799027904466087e-6\n",
      "Loss: 1.6338633470184817e-6\n"
     ]
    },
    {
     "name": "stdout",
     "output_type": "stream",
     "text": [
      "Loss: 1.6168944088679108e-6\n",
      "Loss: 1.5502102471374586e-6\n",
      "Loss: 1.530002712075252e-6\n"
     ]
    },
    {
     "name": "stdout",
     "output_type": "stream",
     "text": [
      "Loss: 1.5118977968192722e-6\n",
      "Loss: 1.486915105777492e-6\n",
      "Loss: 1.4664420568154792e-6\n"
     ]
    },
    {
     "name": "stdout",
     "output_type": "stream",
     "text": [
      "Loss: 1.4391041117931336e-6\n",
      "Loss: 1.3843738791145231e-6\n",
      "Loss: 1.3551801479556967e-6\n"
     ]
    },
    {
     "name": "stdout",
     "output_type": "stream",
     "text": [
      "Loss: 1.3128011707734757e-6\n",
      "Loss: 1.2894617789435123e-6\n",
      "Loss: 1.2588800218328273e-6\n"
     ]
    },
    {
     "name": "stdout",
     "output_type": "stream",
     "text": [
      "Loss: 1.2082706091371492e-6\n",
      "Loss: 1.171049283362832e-6\n"
     ]
    },
    {
     "name": "stdout",
     "output_type": "stream",
     "text": [
      "Loss: 1.1369227867455545e-6\n",
      "Loss: 1.1258546226547277e-6\n",
      "Loss: 1.1125072291001515e-6\n"
     ]
    },
    {
     "name": "stdout",
     "output_type": "stream",
     "text": [
      "Loss: 1.083499375888223e-6\n",
      "Loss: 1.0634128228965465e-6\n",
      "Loss: 1.0493027078866064e-6\n"
     ]
    },
    {
     "name": "stdout",
     "output_type": "stream",
     "text": [
      "Loss: 1.0208480751018841e-6\n",
      "Loss: 9.869205400710044e-7\n"
     ]
    },
    {
     "name": "stdout",
     "output_type": "stream",
     "text": [
      "Loss: 9.477922245436817e-7\n",
      "Loss: 9.380281087368195e-7\n",
      "Loss: 9.175826070073834e-7\n"
     ]
    },
    {
     "name": "stdout",
     "output_type": "stream",
     "text": [
      "Loss: 8.968687196721198e-7\n",
      "Loss: 8.883660705292525e-7\n",
      "Loss: 8.82158656190784e-7\n"
     ]
    },
    {
     "name": "stdout",
     "output_type": "stream",
     "text": [
      "Loss: 8.674986126714955e-7\n",
      "Loss: 8.639897220000667e-7\n",
      "Loss: 8.522547281961403e-7\n"
     ]
    },
    {
     "name": "stdout",
     "output_type": "stream",
     "text": [
      "Loss: 8.387426959268008e-7\n",
      "Loss: 8.215867619955617e-7\n",
      "Loss: 8.010852467557737e-7\n"
     ]
    },
    {
     "name": "stdout",
     "output_type": "stream",
     "text": [
      "Loss: 7.691823421896144e-7\n",
      "Loss: 7.21102825035192e-7\n",
      "Loss: 7.171339698107058e-7\n"
     ]
    },
    {
     "name": "stdout",
     "output_type": "stream",
     "text": [
      "Loss: 6.984522040287049e-7\n",
      "Loss: 6.60323149043681e-7\n",
      "Loss: 6.459056460654883e-7\n"
     ]
    },
    {
     "name": "stdout",
     "output_type": "stream",
     "text": [
      "Loss: 6.38550059515438e-7\n",
      "Loss: 6.121309749279422e-7\n",
      "Loss: 5.957524568395577e-7\n"
     ]
    },
    {
     "name": "stdout",
     "output_type": "stream",
     "text": [
      "Loss: 5.676641522943999e-7\n",
      "Loss: 5.427008704744689e-7\n",
      "Loss: 5.176601978234679e-7\n"
     ]
    },
    {
     "name": "stdout",
     "output_type": "stream",
     "text": [
      "Loss: 5.065164986927419e-7\n",
      "Loss: 4.919101281517858e-7\n",
      "Loss: 4.894825579956579e-7\n"
     ]
    },
    {
     "name": "stdout",
     "output_type": "stream",
     "text": [
      "Loss: 4.787673349324708e-7\n",
      "Loss: 4.7189974434835824e-7\n",
      "Loss: 4.562614934608257e-7\n"
     ]
    },
    {
     "name": "stdout",
     "output_type": "stream",
     "text": [
      "Loss: 4.4107932785905994e-7\n",
      "Loss: 4.283125153148955e-7\n",
      "Loss: 4.163052538501493e-7\n"
     ]
    },
    {
     "name": "stdout",
     "output_type": "stream",
     "text": [
      "Loss: 4.0998036752586376e-7\n",
      "Loss: 4.0477292896167327e-7\n",
      "Loss: 3.964133089210197e-7\n"
     ]
    },
    {
     "name": "stdout",
     "output_type": "stream",
     "text": [
      "Loss: 3.878911631372486e-7\n",
      "Loss: 3.763155646631409e-7\n",
      "Loss: 3.6336010554455616e-7\n"
     ]
    },
    {
     "name": "stdout",
     "output_type": "stream",
     "text": [
      "Loss: 3.596416273605368e-7\n",
      "Loss: 3.5552830592527555e-7\n",
      "Loss: 3.534083760465372e-7\n",
      "Loss: 3.503028166132176e-7\n"
     ]
    },
    {
     "name": "stdout",
     "output_type": "stream",
     "text": [
      "Loss: 3.439147555246151e-7\n",
      "Loss: 3.3844276597611916e-7\n",
      "Loss: 3.3343298333969013e-7\n"
     ]
    },
    {
     "name": "stdout",
     "output_type": "stream",
     "text": [
      "Loss: 3.2388178756559835e-7\n",
      "Loss: 3.1804722024587444e-7\n"
     ]
    },
    {
     "name": "stdout",
     "output_type": "stream",
     "text": [
      "Loss: 3.1348631769885683e-7\n"
     ]
    },
    {
     "name": "stdout",
     "output_type": "stream",
     "text": [
      "Loss: 3.101034105023135e-7\n",
      "Loss: 3.062394209128751e-7\n"
     ]
    },
    {
     "name": "stdout",
     "output_type": "stream",
     "text": [
      "Loss: 3.021994421310303e-7\n",
      "Loss: 2.9805970200012477e-7\n"
     ]
    },
    {
     "name": "stdout",
     "output_type": "stream",
     "text": [
      "Loss: 2.920072467904321e-7\n",
      "Loss: 2.889738178111201e-7\n",
      "Loss: 2.845204878757917e-7\n"
     ]
    },
    {
     "name": "stdout",
     "output_type": "stream",
     "text": [
      "Loss: 2.809469091591048e-7\n",
      "Loss: 2.7606023408380417e-7\n",
      "Loss: 2.741503613843905e-7\n"
     ]
    },
    {
     "name": "stdout",
     "output_type": "stream",
     "text": [
      "Loss: 2.70900762192057e-7\n",
      "Loss: 2.678655839942987e-7\n",
      "Loss: 2.659633214742802e-7\n"
     ]
    },
    {
     "name": "stdout",
     "output_type": "stream",
     "text": [
      "Loss: 2.6448142875327894e-7\n",
      "Loss: 2.6375860900182807e-7\n",
      "Loss: 2.627904572733541e-7\n"
     ]
    },
    {
     "name": "stdout",
     "output_type": "stream",
     "text": [
      "Loss: 2.620817019333932e-7\n",
      "Loss: 2.6083831470820485e-7\n"
     ]
    },
    {
     "name": "stdout",
     "output_type": "stream",
     "text": [
      "Loss: 2.5972602707521737e-7\n",
      "Loss: 2.5880258612258115e-7\n",
      "Loss: 2.581751723760646e-7\n"
     ]
    },
    {
     "name": "stdout",
     "output_type": "stream",
     "text": [
      "Loss: 2.575403282473146e-7\n",
      "Loss: 2.563102917320026e-7\n"
     ]
    },
    {
     "name": "stdout",
     "output_type": "stream",
     "text": [
      "Loss: 2.554079862265601e-7\n",
      "Loss: 2.5511580890418815e-7\n"
     ]
    },
    {
     "name": "stdout",
     "output_type": "stream",
     "text": [
      "Loss: 2.549371948438062e-7\n",
      "Loss: 2.54813124601218e-7\n",
      "Loss: 2.5459554985929625e-7\n"
     ]
    },
    {
     "name": "stdout",
     "output_type": "stream",
     "text": [
      "Loss: 2.545760297161008e-7\n"
     ]
    },
    {
     "name": "stdout",
     "output_type": "stream",
     "text": [
      "Loss: 2.5456245386590693e-7\n",
      "Loss: 2.5442940596767643e-7\n"
     ]
    },
    {
     "name": "stdout",
     "output_type": "stream",
     "text": [
      "Loss: 2.5301299830547257e-7\n",
      "Loss: 2.5151275221723847e-7\n",
      "Loss: 2.5092064400684533e-7\n"
     ]
    },
    {
     "name": "stdout",
     "output_type": "stream",
     "text": [
      "Loss: 2.5061637665425925e-7\n",
      "Loss: 2.5020078438590995e-7\n",
      "Loss: 2.50080888286823e-7\n"
     ]
    },
    {
     "name": "stdout",
     "output_type": "stream",
     "text": [
      "Loss: 2.498992397562022e-7\n",
      "Loss: 2.497900424099859e-7\n"
     ]
    },
    {
     "name": "stdout",
     "output_type": "stream",
     "text": [
      "Loss: 2.497876242840551e-7\n",
      "Loss: 2.497046701368411e-7\n"
     ]
    },
    {
     "name": "stdout",
     "output_type": "stream",
     "text": [
      "Loss: 2.493541203909392e-7\n",
      "Loss: 2.4875316668878347e-7\n"
     ]
    },
    {
     "name": "stdout",
     "output_type": "stream",
     "text": [
      "Loss: 2.4707106405237824e-7\n",
      "Loss: 2.463257251709065e-7\n",
      "Loss: 2.45707210767481e-7\n"
     ]
    },
    {
     "name": "stdout",
     "output_type": "stream",
     "text": [
      "Loss: 2.453603767893026e-7\n"
     ]
    },
    {
     "name": "stdout",
     "output_type": "stream",
     "text": [
      "Loss: 2.453114729388673e-7\n",
      "Loss: 2.4512931477049767e-7\n"
     ]
    },
    {
     "name": "stdout",
     "output_type": "stream",
     "text": [
      "Loss: 2.4494258082755157e-7\n",
      "Loss: 2.4368693148293474e-7\n"
     ]
    },
    {
     "name": "stdout",
     "output_type": "stream",
     "text": [
      "Loss: 2.433639869697581e-7\n",
      "Loss: 2.4266654412845704e-7\n"
     ]
    },
    {
     "name": "stdout",
     "output_type": "stream",
     "text": [
      "Loss: 2.4135461908334354e-7\n",
      "Loss: 2.389086806191253e-7\n",
      "Loss: 2.3558404057220634e-7\n"
     ]
    },
    {
     "name": "stdout",
     "output_type": "stream",
     "text": [
      "Loss: 2.3452111474334545e-7\n",
      "Loss: 2.3373488935588101e-7\n",
      "Loss: 2.3330132077257595e-7\n"
     ]
    },
    {
     "name": "stdout",
     "output_type": "stream",
     "text": [
      "Loss: 2.3286231726197172e-7\n",
      "Loss: 2.3223777641681075e-7\n",
      "Loss: 2.3025043547557936e-7\n"
     ]
    },
    {
     "name": "stdout",
     "output_type": "stream",
     "text": [
      "Loss: 2.2806142772415693e-7\n",
      "Loss: 2.2578979785090811e-7\n",
      "Loss: 2.2067738263981337e-7\n"
     ]
    },
    {
     "name": "stdout",
     "output_type": "stream",
     "text": [
      "Loss: 2.1837445842801317e-7\n",
      "Loss: 2.1395767309122722e-7\n"
     ]
    },
    {
     "name": "stdout",
     "output_type": "stream",
     "text": [
      "Loss: 2.116676510925252e-7\n",
      "Loss: 2.0549972633310915e-7\n",
      "Loss: 2.0349331539511788e-7\n"
     ]
    },
    {
     "name": "stdout",
     "output_type": "stream",
     "text": [
      "Loss: 1.9921258121782518e-7\n",
      "Loss: 1.9801775338932088e-7\n",
      "Loss: 1.9064158210974007e-7\n"
     ]
    },
    {
     "name": "stdout",
     "output_type": "stream",
     "text": [
      "Loss: 1.8810925036497087e-7\n",
      "Loss: 1.8578988070396568e-7\n",
      "Loss: 1.7901034719248964e-7\n",
      "Loss: 1.7775553396185453e-7\n"
     ]
    },
    {
     "name": "stdout",
     "output_type": "stream",
     "text": [
      "Loss: 1.7439980979886213e-7\n",
      "Loss: 1.7210736398239883e-7\n",
      "Loss: 1.6824038355170873e-7\n",
      "Loss: 1.6439660105385705e-7\n"
     ]
    },
    {
     "name": "stdout",
     "output_type": "stream",
     "text": [
      "Loss: 1.623814040976135e-7\n",
      "Loss: 1.562172588597242e-7\n",
      "Loss: 1.5449853399414358e-7\n"
     ]
    },
    {
     "name": "stdout",
     "output_type": "stream",
     "text": [
      "Loss: 1.5185639351496814e-7\n",
      "Loss: 1.4639684656870603e-7\n",
      "Loss: 1.4373852282023214e-7\n"
     ]
    },
    {
     "name": "stdout",
     "output_type": "stream",
     "text": [
      "Loss: 1.3833235834349566e-7\n",
      "Loss: 1.36584478913274e-7\n",
      "Loss: 1.3470974277706952e-7\n"
     ]
    },
    {
     "name": "stdout",
     "output_type": "stream",
     "text": [
      "Loss: 1.3382316971609555e-7\n",
      "Loss: 1.3302313449707506e-7\n",
      "Loss: 1.3242021411853416e-7\n"
     ]
    },
    {
     "name": "stdout",
     "output_type": "stream",
     "text": [
      "Loss: 1.313510881878844e-7\n",
      "Loss: 1.305511893206096e-7\n",
      "Loss: 1.281426358147491e-7\n"
     ]
    },
    {
     "name": "stdout",
     "output_type": "stream",
     "text": [
      "Loss: 1.247437069567853e-7\n",
      "Loss: 1.2303098744018443e-7\n",
      "Loss: 1.194240822744692e-7\n"
     ]
    },
    {
     "name": "stdout",
     "output_type": "stream",
     "text": [
      "Loss: 1.1837641775119238e-7\n",
      "Loss: 1.1456291215796253e-7\n",
      "Loss: 1.125936141373746e-7\n",
      "Loss: 1.0873399437135026e-7\n"
     ]
    },
    {
     "name": "stdout",
     "output_type": "stream",
     "text": [
      "Loss: 1.0622030351473907e-7\n",
      "Loss: 1.0146836697780166e-7\n",
      "Loss: 9.807580760869275e-8\n"
     ]
    },
    {
     "name": "stdout",
     "output_type": "stream",
     "text": [
      "Loss: 9.453235373441838e-8\n",
      "Loss: 9.118132433730924e-8\n",
      "Loss: 9.01621788201172e-8\n"
     ]
    },
    {
     "name": "stdout",
     "output_type": "stream",
     "text": [
      "Loss: 8.901381822141547e-8\n",
      "Loss: 8.742762376920686e-8\n",
      "Loss: 8.592571003066718e-8\n"
     ]
    },
    {
     "name": "stdout",
     "output_type": "stream",
     "text": [
      "Loss: 8.317694523729626e-8\n",
      "Loss: 8.24426537773814e-8\n",
      "Loss: 8.168652116295709e-8\n"
     ]
    },
    {
     "name": "stdout",
     "output_type": "stream",
     "text": [
      "Loss: 8.018339520695142e-8\n",
      "Loss: 7.936722246507687e-8\n",
      "Loss: 7.840598667801379e-8\n"
     ]
    },
    {
     "name": "stdout",
     "output_type": "stream",
     "text": [
      "Loss: 7.784204001835047e-8\n",
      "Loss: 7.706169521144166e-8\n",
      "Loss: 7.633110481685531e-8\n"
     ]
    },
    {
     "name": "stdout",
     "output_type": "stream",
     "text": [
      "Loss: 7.580462730533003e-8\n",
      "Loss: 7.521243157166583e-8\n",
      "Loss: 7.48473878620592e-8\n"
     ]
    },
    {
     "name": "stdout",
     "output_type": "stream",
     "text": [
      "Loss: 7.419826921935293e-8\n",
      "Loss: 7.376673725083944e-8\n"
     ]
    },
    {
     "name": "stdout",
     "output_type": "stream",
     "text": [
      "Loss: 7.360156537634797e-8\n",
      "Loss: 7.347345312403736e-8\n",
      "Loss: 7.283362247304438e-8\n"
     ]
    },
    {
     "name": "stdout",
     "output_type": "stream",
     "text": [
      "Loss: 7.2693009584026e-8\n",
      "Loss: 7.241858169989124e-8\n",
      "Loss: 7.216133961203078e-8\n",
      "Loss: 7.209889342491161e-8\n"
     ]
    },
    {
     "name": "stdout",
     "output_type": "stream",
     "text": [
      "Loss: 7.17476500217061e-8\n",
      "Loss: 7.144375978571103e-8\n"
     ]
    },
    {
     "name": "stdout",
     "output_type": "stream",
     "text": [
      "Loss: 7.05648394797777e-8\n",
      "Loss: 6.918572937431904e-8\n"
     ]
    },
    {
     "name": "stdout",
     "output_type": "stream",
     "text": [
      "Loss: 6.892373076939473e-8\n",
      "Loss: 6.762163842185017e-8\n",
      "Loss: 6.578159792604837e-8\n"
     ]
    },
    {
     "name": "stdout",
     "output_type": "stream",
     "text": [
      "Loss: 6.525058358088714e-8\n",
      "Loss: 6.490520279911422e-8\n",
      "Loss: 6.477268916419517e-8\n"
     ]
    },
    {
     "name": "stdout",
     "output_type": "stream",
     "text": [
      "Loss: 6.464201338651374e-8\n",
      "Loss: 6.455802248122208e-8\n",
      "Loss: 6.444896367658388e-8\n"
     ]
    },
    {
     "name": "stdout",
     "output_type": "stream",
     "text": [
      "Loss: 6.413660774098346e-8\n",
      "Loss: 6.393689784723427e-8\n"
     ]
    },
    {
     "name": "stdout",
     "output_type": "stream",
     "text": [
      "Loss: 6.324396938253423e-8\n",
      "Loss: 6.213406248899246e-8\n",
      "Loss: 6.064795556485801e-8\n"
     ]
    },
    {
     "name": "stdout",
     "output_type": "stream",
     "text": [
      "Loss: 5.938819124746659e-8\n",
      "Loss: 5.7928854783406554e-8\n",
      "Loss: 5.67963841550134e-8\n"
     ]
    },
    {
     "name": "stdout",
     "output_type": "stream",
     "text": [
      "Loss: 5.554557238033773e-8\n",
      "Loss: 5.421178559679083e-8\n",
      "Loss: 5.3155499915729085e-8\n"
     ]
    },
    {
     "name": "stdout",
     "output_type": "stream",
     "text": [
      "Loss: 5.2347495106223114e-8\n",
      "Loss: 5.1765840913069605e-8\n",
      "Loss: 5.1333016420153335e-8\n"
     ]
    },
    {
     "name": "stdout",
     "output_type": "stream",
     "text": [
      "Loss: 5.0709151130430606e-8\n",
      "Loss: 4.9506835865097075e-8\n"
     ]
    },
    {
     "name": "stdout",
     "output_type": "stream",
     "text": [
      "Loss: 4.835697109619519e-8\n",
      "Loss: 4.785680416170296e-8\n",
      "Loss: 4.7026465308688465e-8\n"
     ]
    },
    {
     "name": "stdout",
     "output_type": "stream",
     "text": [
      "Loss: 4.6421748592199e-8\n",
      "Loss: 4.583613162345445e-8\n",
      "Loss: 4.505601449659288e-8\n"
     ]
    },
    {
     "name": "stdout",
     "output_type": "stream",
     "text": [
      "Loss: 4.449664894991211e-8\n",
      "Loss: 4.416189070193683e-8\n"
     ]
    },
    {
     "name": "stdout",
     "output_type": "stream",
     "text": [
      "Loss: 4.3855475642257915e-8\n",
      "Loss: 4.3443054953596585e-8\n",
      "Loss: 4.3059717113908874e-8\n"
     ]
    },
    {
     "name": "stdout",
     "output_type": "stream",
     "text": [
      "Loss: 4.28728291127881e-8\n",
      "Loss: 4.2621849849250676e-8\n",
      "Loss: 4.2456857970523474e-8\n"
     ]
    },
    {
     "name": "stdout",
     "output_type": "stream",
     "text": [
      "Loss: 4.2429918106504735e-8\n"
     ]
    },
    {
     "name": "stdout",
     "output_type": "stream",
     "text": [
      "Loss: 4.2424519163330643e-8\n"
     ]
    },
    {
     "name": "stdout",
     "output_type": "stream",
     "text": [
      "Loss: 4.242446872250819e-8\n"
     ]
    },
    {
     "name": "stdout",
     "output_type": "stream",
     "text": [
      "Loss: 4.2420520116069506e-8\n"
     ]
    },
    {
     "name": "stdout",
     "output_type": "stream",
     "text": [
      "Loss: 4.2420520116069506e-8\n"
     ]
    },
    {
     "data": {
      "text/plain": [
       "u: \u001b[0mComponentVector{Float64}(layer_1 = (weight = [-0.8070801481271199; 0.5698366890790556; … ; 0.5001955183552536; 0.34331667315935566;;], bias = [-0.1596982042522412; -1.4017392924802976; … ; 1.2397883100277405; 1.084103580674713;;]), layer_2 = (weight = [-0.030020945995432903 0.3095959193435948 … -0.04660998215221947 -0.20779280174065473; -0.05550143561010515 -0.4542057387141958 … 0.4974875582515483 -2.215523650668936; … ; 0.32505356632077914 0.059568922690185364 … -1.0215152341698461 -0.7571659987853037; -0.9331291315853874 0.9419096997887497 … 0.9198982173039721 -0.36088256631693005], bias = [-1.0126803768839434; -0.5443935136899364; … ; -0.3756006482344202; 0.6203221849716191;;]), layer_3 = (weight = [1.8284035603245272 -1.0016487541473276 … 0.08389508982068766 0.01799270673102648; 0.809910313161092 -1.3253334601074638 … -0.7559582801227062 1.2379180980279607; … ; -0.17821286941496225 -2.875572751503291 … 0.1748590401501401 1.022636947323299; -0.9944311603900935 0.9406267136565069 … 0.7132657338442997 -0.46894788767819834], bias = [0.156465073049959; -1.3245315489943732; … ; 0.06778334952126176; 0.6796470971282214;;]), layer_4 = (weight = [0.05906067726833705 -0.7216808007115385 … -0.19730007005895725 0.313987131006178; 0.018067327994275472 0.21159785488956578 … 1.0265413005277777 0.3606684058987754; … ; -0.7825079934472359 -2.370981479258927 … -0.28140336530980575 0.944122163361136; -0.22456863836391433 0.42614762661443273 … -0.9526736282411749 0.5992422916861242], bias = [0.7085056624919462; -1.1695201459840587; … ; 1.2158381566680696; 1.2758705869271363;;]), layer_5 = (weight = [4.975930747221944 -3.822722650835848 … -5.235789800217351 -3.522840414202406], bias = [8.26158312067688;;]))"
      ]
     },
     "metadata": {},
     "output_type": "display_data"
    }
   ],
   "source": [
    "function callback(p, l)\n",
    "    println(\"Loss: $l\")\n",
    "    return false\n",
    "end\n",
    "\n",
    "res = Optimization.solve(prob, BFGS(); maxiters=2000, callback=callback)"
   ]
  },
  {
   "cell_type": "code",
   "execution_count": 4,
   "metadata": {},
   "outputs": [
    {
     "data": {
      "image/png": "[encoded data removed]",
      "image/svg+xml": [
       "<?xml version=\"1.0\" encoding=\"utf-8\"?>\n",
       "<svg xmlns=\"http://www.w3.org/2000/svg\" xmlns:xlink=\"http://www.w3.org/1999/xlink\" width=\"600\" height=\"400\" viewBox=\"0 0 2400 1600\">\n",
       "<defs>\n",
       "  <clipPath id=\"clip380\">\n",
       "    <rect x=\"0\" y=\"0\" width=\"2400\" height=\"1600\"/>\n",
       "  </clipPath>\n",
       "</defs>\n",
       "<path clip-path=\"url(#clip380)\" d=\"M0 1600 L2400 1600 L2400 0 L0 0  Z\" fill=\"#ffffff\" fill-rule=\"evenodd\" fill-opacity=\"1\"/>\n",
       "<defs>\n",
       "  <clipPath id=\"clip381\">\n",
       "    <rect x=\"480\" y=\"0\" width=\"1681\" height=\"1600\"/>\n",
       "  </clipPath>\n",
       "</defs>\n",
       "<path clip-path=\"url(#clip380)\" d=\"M141.853 1486.45 L2352.76 1486.45 L2352.76 47.2441 L141.853 47.2441  Z\" fill=\"#ffffff\" fill-rule=\"evenodd\" fill-opacity=\"1\"/>\n",
       "<defs>\n",
       "  <clipPath id=\"clip382\">\n",
       "    <rect x=\"141\" y=\"47\" width=\"2212\" height=\"1440\"/>\n",
       "  </clipPath>\n",
       "</defs>\n",
       "<polyline clip-path=\"url(#clip382)\" style=\"stroke:#000000; stroke-linecap:round; stroke-linejoin:round; stroke-width:2; stroke-opacity:0.1; fill:none\" points=\"204.426,1486.45 204.426,47.2441 \"/>\n",
       "<polyline clip-path=\"url(#clip382)\" style=\"stroke:#000000; stroke-linecap:round; stroke-linejoin:round; stroke-width:2; stroke-opacity:0.1; fill:none\" points=\"725.865,1486.45 725.865,47.2441 \"/>\n",
       "<polyline clip-path=\"url(#clip382)\" style=\"stroke:#000000; stroke-linecap:round; stroke-linejoin:round; stroke-width:2; stroke-opacity:0.1; fill:none\" points=\"1247.3,1486.45 1247.3,47.2441 \"/>\n",
       "<polyline clip-path=\"url(#clip382)\" style=\"stroke:#000000; stroke-linecap:round; stroke-linejoin:round; stroke-width:2; stroke-opacity:0.1; fill:none\" points=\"1768.74,1486.45 1768.74,47.2441 \"/>\n",
       "<polyline clip-path=\"url(#clip382)\" style=\"stroke:#000000; stroke-linecap:round; stroke-linejoin:round; stroke-width:2; stroke-opacity:0.1; fill:none\" points=\"2290.18,1486.45 2290.18,47.2441 \"/>\n",
       "<polyline clip-path=\"url(#clip380)\" style=\"stroke:#000000; stroke-linecap:round; stroke-linejoin:round; stroke-width:4; stroke-opacity:1; fill:none\" points=\"141.853,1486.45 2352.76,1486.45 \"/>\n",
       "<polyline clip-path=\"url(#clip380)\" style=\"stroke:#000000; stroke-linecap:round; stroke-linejoin:round; stroke-width:4; stroke-opacity:1; fill:none\" points=\"204.426,1486.45 204.426,1467.55 \"/>\n",
       "<polyline clip-path=\"url(#clip380)\" style=\"stroke:#000000; stroke-linecap:round; stroke-linejoin:round; stroke-width:4; stroke-opacity:1; fill:none\" points=\"725.865,1486.45 725.865,1467.55 \"/>\n",
       "<polyline clip-path=\"url(#clip380)\" style=\"stroke:#000000; stroke-linecap:round; stroke-linejoin:round; stroke-width:4; stroke-opacity:1; fill:none\" points=\"1247.3,1486.45 1247.3,1467.55 \"/>\n",
       "<polyline clip-path=\"url(#clip380)\" style=\"stroke:#000000; stroke-linecap:round; stroke-linejoin:round; stroke-width:4; stroke-opacity:1; fill:none\" points=\"1768.74,1486.45 1768.74,1467.55 \"/>\n",
       "<polyline clip-path=\"url(#clip380)\" style=\"stroke:#000000; stroke-linecap:round; stroke-linejoin:round; stroke-width:4; stroke-opacity:1; fill:none\" points=\"2290.18,1486.45 2290.18,1467.55 \"/>\n",
       "<path clip-path=\"url(#clip380)\" d=\"M181.81 1517.37 Q178.199 1517.37 176.37 1520.93 Q174.565 1524.47 174.565 1531.6 Q174.565 1538.71 176.37 1542.27 Q178.199 1545.82 181.81 1545.82 Q185.444 1545.82 187.25 1542.27 Q189.079 1538.71 189.079 1531.6 Q189.079 1524.47 187.25 1520.93 Q185.444 1517.37 181.81 1517.37 M181.81 1513.66 Q187.62 1513.66 190.676 1518.27 Q193.754 1522.85 193.754 1531.6 Q193.754 1540.33 190.676 1544.94 Q187.62 1549.52 181.81 1549.52 Q176 1549.52 172.921 1544.94 Q169.866 1540.33 169.866 1531.6 Q169.866 1522.85 172.921 1518.27 Q176 1513.66 181.81 1513.66 Z\" fill=\"#000000\" fill-rule=\"nonzero\" fill-opacity=\"1\" /><path clip-path=\"url(#clip380)\" d=\"M201.972 1542.97 L206.856 1542.97 L206.856 1548.85 L201.972 1548.85 L201.972 1542.97 Z\" fill=\"#000000\" fill-rule=\"nonzero\" fill-opacity=\"1\" /><path clip-path=\"url(#clip380)\" d=\"M227.041 1517.37 Q223.43 1517.37 221.602 1520.93 Q219.796 1524.47 219.796 1531.6 Q219.796 1538.71 221.602 1542.27 Q223.43 1545.82 227.041 1545.82 Q230.676 1545.82 232.481 1542.27 Q234.31 1538.71 234.31 1531.6 Q234.31 1524.47 232.481 1520.93 Q230.676 1517.37 227.041 1517.37 M227.041 1513.66 Q232.851 1513.66 235.907 1518.27 Q238.986 1522.85 238.986 1531.6 Q238.986 1540.33 235.907 1544.94 Q232.851 1549.52 227.041 1549.52 Q221.231 1549.52 218.152 1544.94 Q215.097 1540.33 215.097 1531.6 Q215.097 1522.85 218.152 1518.27 Q221.231 1513.66 227.041 1513.66 Z\" fill=\"#000000\" fill-rule=\"nonzero\" fill-opacity=\"1\" /><path clip-path=\"url(#clip380)\" d=\"M703.747 1517.37 Q700.136 1517.37 698.307 1520.93 Q696.502 1524.47 696.502 1531.6 Q696.502 1538.71 698.307 1542.27 Q700.136 1545.82 703.747 1545.82 Q707.381 1545.82 709.187 1542.27 Q711.016 1538.71 711.016 1531.6 Q711.016 1524.47 709.187 1520.93 Q707.381 1517.37 703.747 1517.37 M703.747 1513.66 Q709.557 1513.66 712.613 1518.27 Q715.691 1522.85 715.691 1531.6 Q715.691 1540.33 712.613 1544.94 Q709.557 1549.52 703.747 1549.52 Q697.937 1549.52 694.858 1544.94 Q691.803 1540.33 691.803 1531.6 Q691.803 1522.85 694.858 1518.27 Q697.937 1513.66 703.747 1513.66 Z\" fill=\"#000000\" fill-rule=\"nonzero\" fill-opacity=\"1\" /><path clip-path=\"url(#clip380)\" d=\"M723.909 1542.97 L728.793 1542.97 L728.793 1548.85 L723.909 1548.85 L723.909 1542.97 Z\" fill=\"#000000\" fill-rule=\"nonzero\" fill-opacity=\"1\" /><path clip-path=\"url(#clip380)\" d=\"M739.025 1514.29 L757.381 1514.29 L757.381 1518.22 L743.307 1518.22 L743.307 1526.7 Q744.326 1526.35 745.344 1526.19 Q746.363 1526 747.381 1526 Q753.168 1526 756.548 1529.17 Q759.927 1532.34 759.927 1537.76 Q759.927 1543.34 756.455 1546.44 Q752.983 1549.52 746.664 1549.52 Q744.488 1549.52 742.219 1549.15 Q739.974 1548.78 737.566 1548.04 L737.566 1543.34 Q739.65 1544.47 741.872 1545.03 Q744.094 1545.58 746.571 1545.58 Q750.576 1545.58 752.914 1543.48 Q755.251 1541.37 755.251 1537.76 Q755.251 1534.15 752.914 1532.04 Q750.576 1529.94 746.571 1529.94 Q744.696 1529.94 742.821 1530.35 Q740.969 1530.77 739.025 1531.65 L739.025 1514.29 Z\" fill=\"#000000\" fill-rule=\"nonzero\" fill-opacity=\"1\" /><path clip-path=\"url(#clip380)\" d=\"M1214.46 1544.91 L1222.1 1544.91 L1222.1 1518.55 L1213.79 1520.21 L1213.79 1515.95 L1222.05 1514.29 L1226.73 1514.29 L1226.73 1544.91 L1234.36 1544.91 L1234.36 1548.85 L1214.46 1548.85 L1214.46 1544.91 Z\" fill=\"#000000\" fill-rule=\"nonzero\" fill-opacity=\"1\" /><path clip-path=\"url(#clip380)\" d=\"M1243.81 1542.97 L1248.69 1542.97 L1248.69 1548.85 L1243.81 1548.85 L1243.81 1542.97 Z\" fill=\"#000000\" fill-rule=\"nonzero\" fill-opacity=\"1\" /><path clip-path=\"url(#clip380)\" d=\"M1268.88 1517.37 Q1265.27 1517.37 1263.44 1520.93 Q1261.63 1524.47 1261.63 1531.6 Q1261.63 1538.71 1263.44 1542.27 Q1265.27 1545.82 1268.88 1545.82 Q1272.51 1545.82 1274.32 1542.27 Q1276.15 1538.71 1276.15 1531.6 Q1276.15 1524.47 1274.32 1520.93 Q1272.51 1517.37 1268.88 1517.37 M1268.88 1513.66 Q1274.69 1513.66 1277.74 1518.27 Q1280.82 1522.85 1280.82 1531.6 Q1280.82 1540.33 1277.74 1544.94 Q1274.69 1549.52 1268.88 1549.52 Q1263.07 1549.52 1259.99 1544.94 Q1256.93 1540.33 1256.93 1531.6 Q1256.93 1522.85 1259.99 1518.27 Q1263.07 1513.66 1268.88 1513.66 Z\" fill=\"#000000\" fill-rule=\"nonzero\" fill-opacity=\"1\" /><path clip-path=\"url(#clip380)\" d=\"M1736.39 1544.91 L1744.03 1544.91 L1744.03 1518.55 L1735.72 1520.21 L1735.72 1515.95 L1743.99 1514.29 L1748.66 1514.29 L1748.66 1544.91 L1756.3 1544.91 L1756.3 1548.85 L1736.39 1548.85 L1736.39 1544.91 Z\" fill=\"#000000\" fill-rule=\"nonzero\" fill-opacity=\"1\" /><path clip-path=\"url(#clip380)\" d=\"M1765.75 1542.97 L1770.63 1542.97 L1770.63 1548.85 L1765.75 1548.85 L1765.75 1542.97 Z\" fill=\"#000000\" fill-rule=\"nonzero\" fill-opacity=\"1\" /><path clip-path=\"url(#clip380)\" d=\"M1780.86 1514.29 L1799.22 1514.29 L1799.22 1518.22 L1785.14 1518.22 L1785.14 1526.7 Q1786.16 1526.35 1787.18 1526.19 Q1788.2 1526 1789.22 1526 Q1795.01 1526 1798.38 1529.17 Q1801.76 1532.34 1801.76 1537.76 Q1801.76 1543.34 1798.29 1546.44 Q1794.82 1549.52 1788.5 1549.52 Q1786.32 1549.52 1784.06 1549.15 Q1781.81 1548.78 1779.4 1548.04 L1779.4 1543.34 Q1781.49 1544.47 1783.71 1545.03 Q1785.93 1545.58 1788.41 1545.58 Q1792.41 1545.58 1794.75 1543.48 Q1797.09 1541.37 1797.09 1537.76 Q1797.09 1534.15 1794.75 1532.04 Q1792.41 1529.94 1788.41 1529.94 Q1786.53 1529.94 1784.66 1530.35 Q1782.81 1530.77 1780.86 1531.65 L1780.86 1514.29 Z\" fill=\"#000000\" fill-rule=\"nonzero\" fill-opacity=\"1\" /><path clip-path=\"url(#clip380)\" d=\"M2261.42 1544.91 L2277.74 1544.91 L2277.74 1548.85 L2255.8 1548.85 L2255.8 1544.91 Q2258.46 1542.16 2263.04 1537.53 Q2267.65 1532.88 2268.83 1531.53 Q2271.07 1529.01 2271.95 1527.27 Q2272.86 1525.51 2272.86 1523.82 Q2272.86 1521.07 2270.91 1519.33 Q2268.99 1517.6 2265.89 1517.6 Q2263.69 1517.6 2261.24 1518.36 Q2258.81 1519.13 2256.03 1520.68 L2256.03 1515.95 Q2258.85 1514.82 2261.31 1514.24 Q2263.76 1513.66 2265.8 1513.66 Q2271.17 1513.66 2274.36 1516.35 Q2277.56 1519.03 2277.56 1523.52 Q2277.56 1525.65 2276.75 1527.57 Q2275.96 1529.47 2273.85 1532.07 Q2273.27 1532.74 2270.17 1535.95 Q2267.07 1539.15 2261.42 1544.91 Z\" fill=\"#000000\" fill-rule=\"nonzero\" fill-opacity=\"1\" /><path clip-path=\"url(#clip380)\" d=\"M2287.56 1542.97 L2292.44 1542.97 L2292.44 1548.85 L2287.56 1548.85 L2287.56 1542.97 Z\" fill=\"#000000\" fill-rule=\"nonzero\" fill-opacity=\"1\" /><path clip-path=\"url(#clip380)\" d=\"M2312.63 1517.37 Q2309.01 1517.37 2307.19 1520.93 Q2305.38 1524.47 2305.38 1531.6 Q2305.38 1538.71 2307.19 1542.27 Q2309.01 1545.82 2312.63 1545.82 Q2316.26 1545.82 2318.06 1542.27 Q2319.89 1538.71 2319.89 1531.6 Q2319.89 1524.47 2318.06 1520.93 Q2316.26 1517.37 2312.63 1517.37 M2312.63 1513.66 Q2318.44 1513.66 2321.49 1518.27 Q2324.57 1522.85 2324.57 1531.6 Q2324.57 1540.33 2321.49 1544.94 Q2318.44 1549.52 2312.63 1549.52 Q2306.82 1549.52 2303.74 1544.94 Q2300.68 1540.33 2300.68 1531.6 Q2300.68 1522.85 2303.74 1518.27 Q2306.82 1513.66 2312.63 1513.66 Z\" fill=\"#000000\" fill-rule=\"nonzero\" fill-opacity=\"1\" /><polyline clip-path=\"url(#clip382)\" style=\"stroke:#000000; stroke-linecap:round; stroke-linejoin:round; stroke-width:2; stroke-opacity:0.1; fill:none\" points=\"141.853,1238.35 2352.76,1238.35 \"/>\n",
       "<polyline clip-path=\"url(#clip382)\" style=\"stroke:#000000; stroke-linecap:round; stroke-linejoin:round; stroke-width:2; stroke-opacity:0.1; fill:none\" points=\"141.853,980.419 2352.76,980.419 \"/>\n",
       "<polyline clip-path=\"url(#clip382)\" style=\"stroke:#000000; stroke-linecap:round; stroke-linejoin:round; stroke-width:2; stroke-opacity:0.1; fill:none\" points=\"141.853,722.492 2352.76,722.492 \"/>\n",
       "<polyline clip-path=\"url(#clip382)\" style=\"stroke:#000000; stroke-linecap:round; stroke-linejoin:round; stroke-width:2; stroke-opacity:0.1; fill:none\" points=\"141.853,464.566 2352.76,464.566 \"/>\n",
       "<polyline clip-path=\"url(#clip382)\" style=\"stroke:#000000; stroke-linecap:round; stroke-linejoin:round; stroke-width:2; stroke-opacity:0.1; fill:none\" points=\"141.853,206.639 2352.76,206.639 \"/>\n",
       "<polyline clip-path=\"url(#clip380)\" style=\"stroke:#000000; stroke-linecap:round; stroke-linejoin:round; stroke-width:4; stroke-opacity:1; fill:none\" points=\"141.853,1486.45 141.853,47.2441 \"/>\n",
       "<polyline clip-path=\"url(#clip380)\" style=\"stroke:#000000; stroke-linecap:round; stroke-linejoin:round; stroke-width:4; stroke-opacity:1; fill:none\" points=\"141.853,1238.35 160.751,1238.35 \"/>\n",
       "<polyline clip-path=\"url(#clip380)\" style=\"stroke:#000000; stroke-linecap:round; stroke-linejoin:round; stroke-width:4; stroke-opacity:1; fill:none\" points=\"141.853,980.419 160.751,980.419 \"/>\n",
       "<polyline clip-path=\"url(#clip380)\" style=\"stroke:#000000; stroke-linecap:round; stroke-linejoin:round; stroke-width:4; stroke-opacity:1; fill:none\" points=\"141.853,722.492 160.751,722.492 \"/>\n",
       "<polyline clip-path=\"url(#clip380)\" style=\"stroke:#000000; stroke-linecap:round; stroke-linejoin:round; stroke-width:4; stroke-opacity:1; fill:none\" points=\"141.853,464.566 160.751,464.566 \"/>\n",
       "<polyline clip-path=\"url(#clip380)\" style=\"stroke:#000000; stroke-linecap:round; stroke-linejoin:round; stroke-width:4; stroke-opacity:1; fill:none\" points=\"141.853,206.639 160.751,206.639 \"/>\n",
       "<path clip-path=\"url(#clip380)\" d=\"M54.5569 1251.69 L62.1958 1251.69 L62.1958 1225.33 L53.8856 1226.99 L53.8856 1222.73 L62.1495 1221.07 L66.8254 1221.07 L66.8254 1251.69 L74.4642 1251.69 L74.4642 1255.63 L54.5569 1255.63 L54.5569 1251.69 Z\" fill=\"#000000\" fill-rule=\"nonzero\" fill-opacity=\"1\" /><path clip-path=\"url(#clip380)\" d=\"M93.9086 1224.14 Q90.2975 1224.14 88.4688 1227.71 Q86.6632 1231.25 86.6632 1238.38 Q86.6632 1245.49 88.4688 1249.05 Q90.2975 1252.59 93.9086 1252.59 Q97.5428 1252.59 99.3483 1249.05 Q101.177 1245.49 101.177 1238.38 Q101.177 1231.25 99.3483 1227.71 Q97.5428 1224.14 93.9086 1224.14 M93.9086 1220.44 Q99.7187 1220.44 102.774 1225.05 Q105.853 1229.63 105.853 1238.38 Q105.853 1247.11 102.774 1251.71 Q99.7187 1256.3 93.9086 1256.3 Q88.0984 1256.3 85.0197 1251.71 Q81.9642 1247.11 81.9642 1238.38 Q81.9642 1229.63 85.0197 1225.05 Q88.0984 1220.44 93.9086 1220.44 Z\" fill=\"#000000\" fill-rule=\"nonzero\" fill-opacity=\"1\" /><path clip-path=\"url(#clip380)\" d=\"M57.7745 993.764 L74.0939 993.764 L74.0939 997.699 L52.1495 997.699 L52.1495 993.764 Q54.8115 991.009 59.3949 986.38 Q64.0013 981.727 65.1819 980.385 Q67.4272 977.861 68.3068 976.125 Q69.2096 974.366 69.2096 972.676 Q69.2096 969.922 67.2652 968.186 Q65.3439 966.449 62.2421 966.449 Q60.043 966.449 57.5893 967.213 Q55.1588 967.977 52.381 969.528 L52.381 964.806 Q55.2051 963.672 57.6588 963.093 Q60.1124 962.514 62.1495 962.514 Q67.5198 962.514 70.7142 965.199 Q73.9087 967.885 73.9087 972.375 Q73.9087 974.505 73.0985 976.426 Q72.3115 978.324 70.205 980.917 Q69.6263 981.588 66.5245 984.806 Q63.4226 988 57.7745 993.764 Z\" fill=\"#000000\" fill-rule=\"nonzero\" fill-opacity=\"1\" /><path clip-path=\"url(#clip380)\" d=\"M93.9086 966.218 Q90.2975 966.218 88.4688 969.783 Q86.6632 973.324 86.6632 980.454 Q86.6632 987.56 88.4688 991.125 Q90.2975 994.667 93.9086 994.667 Q97.5428 994.667 99.3483 991.125 Q101.177 987.56 101.177 980.454 Q101.177 973.324 99.3483 969.783 Q97.5428 966.218 93.9086 966.218 M93.9086 962.514 Q99.7187 962.514 102.774 967.121 Q105.853 971.704 105.853 980.454 Q105.853 989.181 102.774 993.787 Q99.7187 998.371 93.9086 998.371 Q88.0984 998.371 85.0197 993.787 Q81.9642 989.181 81.9642 980.454 Q81.9642 971.704 85.0197 967.121 Q88.0984 962.514 93.9086 962.514 Z\" fill=\"#000000\" fill-rule=\"nonzero\" fill-opacity=\"1\" /><path clip-path=\"url(#clip380)\" d=\"M67.9133 721.138 Q71.2698 721.856 73.1448 724.124 Q75.0429 726.393 75.0429 729.726 Q75.0429 734.842 71.5244 737.643 Q68.0059 740.444 61.5245 740.444 Q59.3486 740.444 57.0338 740.004 Q54.7421 739.587 52.2884 738.731 L52.2884 734.217 Q54.2328 735.351 56.5477 735.93 Q58.8625 736.509 61.3856 736.509 Q65.7837 736.509 68.0754 734.772 Q70.3902 733.036 70.3902 729.726 Q70.3902 726.671 68.2374 724.958 Q66.1078 723.222 62.2884 723.222 L58.2606 723.222 L58.2606 719.379 L62.4735 719.379 Q65.9226 719.379 67.7513 718.013 Q69.58 716.624 69.58 714.032 Q69.58 711.37 67.6819 709.958 Q65.8069 708.523 62.2884 708.523 Q60.3671 708.523 58.168 708.939 Q55.969 709.356 53.3301 710.236 L53.3301 706.069 Q55.9921 705.328 58.3069 704.958 Q60.6449 704.587 62.705 704.587 Q68.0291 704.587 71.1309 707.018 Q74.2327 709.425 74.2327 713.546 Q74.2327 716.416 72.5892 718.407 Q70.9457 720.374 67.9133 721.138 Z\" fill=\"#000000\" fill-rule=\"nonzero\" fill-opacity=\"1\" /><path clip-path=\"url(#clip380)\" d=\"M93.9086 708.291 Q90.2975 708.291 88.4688 711.856 Q86.6632 715.398 86.6632 722.527 Q86.6632 729.634 88.4688 733.198 Q90.2975 736.74 93.9086 736.74 Q97.5428 736.74 99.3483 733.198 Q101.177 729.634 101.177 722.527 Q101.177 715.398 99.3483 711.856 Q97.5428 708.291 93.9086 708.291 M93.9086 704.587 Q99.7187 704.587 102.774 709.194 Q105.853 713.777 105.853 722.527 Q105.853 731.254 102.774 735.86 Q99.7187 740.444 93.9086 740.444 Q88.0984 740.444 85.0197 735.86 Q81.9642 731.254 81.9642 722.527 Q81.9642 713.777 85.0197 709.194 Q88.0984 704.587 93.9086 704.587 Z\" fill=\"#000000\" fill-rule=\"nonzero\" fill-opacity=\"1\" /><path clip-path=\"url(#clip380)\" d=\"M66.5939 451.36 L54.7884 469.809 L66.5939 469.809 L66.5939 451.36 M65.367 447.286 L71.2466 447.286 L71.2466 469.809 L76.1772 469.809 L76.1772 473.698 L71.2466 473.698 L71.2466 481.846 L66.5939 481.846 L66.5939 473.698 L50.9921 473.698 L50.9921 469.184 L65.367 447.286 Z\" fill=\"#000000\" fill-rule=\"nonzero\" fill-opacity=\"1\" /><path clip-path=\"url(#clip380)\" d=\"M93.9086 450.364 Q90.2975 450.364 88.4688 453.929 Q86.6632 457.471 86.6632 464.6 Q86.6632 471.707 88.4688 475.272 Q90.2975 478.813 93.9086 478.813 Q97.5428 478.813 99.3483 475.272 Q101.177 471.707 101.177 464.6 Q101.177 457.471 99.3483 453.929 Q97.5428 450.364 93.9086 450.364 M93.9086 446.661 Q99.7187 446.661 102.774 451.267 Q105.853 455.85 105.853 464.6 Q105.853 473.327 102.774 477.934 Q99.7187 482.517 93.9086 482.517 Q88.0984 482.517 85.0197 477.934 Q81.9642 473.327 81.9642 464.6 Q81.9642 455.85 85.0197 451.267 Q88.0984 446.661 93.9086 446.661 Z\" fill=\"#000000\" fill-rule=\"nonzero\" fill-opacity=\"1\" /><path clip-path=\"url(#clip380)\" d=\"M53.793 189.359 L72.1494 189.359 L72.1494 193.294 L58.0754 193.294 L58.0754 201.766 Q59.0939 201.419 60.1124 201.257 Q61.131 201.072 62.1495 201.072 Q67.9365 201.072 71.3161 204.243 Q74.6957 207.414 74.6957 212.831 Q74.6957 218.41 71.2235 221.511 Q67.7513 224.59 61.4319 224.59 Q59.256 224.59 56.9875 224.22 Q54.7421 223.849 52.3347 223.109 L52.3347 218.41 Q54.418 219.544 56.6402 220.099 Q58.8625 220.655 61.3393 220.655 Q65.3439 220.655 67.6819 218.548 Q70.0198 216.442 70.0198 212.831 Q70.0198 209.22 67.6819 207.113 Q65.3439 205.007 61.3393 205.007 Q59.4643 205.007 57.5893 205.424 Q55.7375 205.84 53.793 206.72 L53.793 189.359 Z\" fill=\"#000000\" fill-rule=\"nonzero\" fill-opacity=\"1\" /><path clip-path=\"url(#clip380)\" d=\"M93.9086 192.438 Q90.2975 192.438 88.4688 196.002 Q86.6632 199.544 86.6632 206.674 Q86.6632 213.78 88.4688 217.345 Q90.2975 220.886 93.9086 220.886 Q97.5428 220.886 99.3483 217.345 Q101.177 213.78 101.177 206.674 Q101.177 199.544 99.3483 196.002 Q97.5428 192.438 93.9086 192.438 M93.9086 188.734 Q99.7187 188.734 102.774 193.34 Q105.853 197.924 105.853 206.674 Q105.853 215.4 102.774 220.007 Q99.7187 224.59 93.9086 224.59 Q88.0984 224.59 85.0197 220.007 Q81.9642 215.4 81.9642 206.674 Q81.9642 197.924 85.0197 193.34 Q88.0984 188.734 93.9086 188.734 Z\" fill=\"#000000\" fill-rule=\"nonzero\" fill-opacity=\"1\" /><polyline clip-path=\"url(#clip382)\" style=\"stroke:#009af9; stroke-linecap:round; stroke-linejoin:round; stroke-width:4; stroke-opacity:1; fill:none\" points=\"204.426,1444.69 206.514,1444.74 208.601,1444.79 210.689,1444.84 212.777,1444.88 214.865,1444.93 216.953,1444.97 219.041,1445.02 221.128,1445.06 223.216,1445.1 225.304,1445.14 227.392,1445.18 229.48,1445.21 231.568,1445.25 233.656,1445.28 235.743,1445.31 237.831,1445.34 239.919,1445.37 242.007,1445.4 244.095,1445.43 246.183,1445.46 248.27,1445.48 250.358,1445.5 252.446,1445.53 254.534,1445.55 256.622,1445.57 258.71,1445.59 260.797,1445.6 262.885,1445.62 264.973,1445.63 267.061,1445.65 269.149,1445.66 271.237,1445.67 273.325,1445.68 275.412,1445.69 277.5,1445.7 279.588,1445.7 281.676,1445.71 283.764,1445.71 285.852,1445.71 287.939,1445.72 290.027,1445.72 292.115,1445.71 294.203,1445.71 296.291,1445.71 298.379,1445.7 300.467,1445.7 302.554,1445.69 304.642,1445.68 306.73,1445.67 308.818,1445.66 310.906,1445.65 312.994,1445.64 315.081,1445.62 317.169,1445.61 319.257,1445.59 321.345,1445.57 323.433,1445.55 325.521,1445.53 327.609,1445.51 329.696,1445.49 331.784,1445.46 333.872,1445.44 335.96,1445.41 338.048,1445.39 340.136,1445.36 342.223,1445.33 344.311,1445.3 346.399,1445.26 348.487,1445.23 350.575,1445.2 352.663,1445.16 354.751,1445.12 356.838,1445.09 358.926,1445.05 361.014,1445.01 363.102,1444.97 365.19,1444.92 367.278,1444.88 369.365,1444.84 371.453,1444.79 373.541,1444.74 375.629,1444.69 377.717,1444.64 379.805,1444.59 381.893,1444.54 383.98,1444.49 386.068,1444.44 388.156,1444.38 390.244,1444.32 392.332,1444.27 394.42,1444.21 396.507,1444.15 398.595,1444.09 400.683,1444.03 402.771,1443.96 404.859,1443.9 406.947,1443.83 409.035,1443.77 411.122,1443.7 413.21,1443.63 415.298,1443.56 417.386,1443.49 419.474,1443.42 421.562,1443.35 423.649,1443.27 425.737,1443.2 427.825,1443.12 429.913,1443.04 432.001,1442.96 434.089,1442.88 436.177,1442.8 438.264,1442.72 440.352,1442.64 442.44,1442.55 444.528,1442.47 446.616,1442.38 448.704,1442.29 450.791,1442.21 452.879,1442.12 454.967,1442.02 457.055,1441.93 459.143,1441.84 461.231,1441.74 463.318,1441.65 465.406,1441.55 467.494,1441.45 469.582,1441.36 471.67,1441.26 473.758,1441.15 475.846,1441.05 477.933,1440.95 480.021,1440.84 482.109,1440.74 484.197,1440.63 486.285,1440.52 488.373,1440.41 490.46,1440.3 492.548,1440.19 494.636,1440.08 496.724,1439.97 498.812,1439.85 500.9,1439.74 502.988,1439.62 505.075,1439.5 507.163,1439.38 509.251,1439.26 511.339,1439.14 513.427,1439.02 515.515,1438.9 517.602,1438.77 519.69,1438.64 521.778,1438.52 523.866,1438.39 525.954,1438.26 528.042,1438.13 530.13,1438 532.217,1437.86 534.305,1437.73 536.393,1437.6 538.481,1437.46 540.569,1437.32 542.657,1437.18 544.744,1437.04 546.832,1436.9 548.92,1436.76 551.008,1436.62 553.096,1436.47 555.184,1436.33 557.272,1436.18 559.359,1436.04 561.447,1435.89 563.535,1435.74 565.623,1435.59 567.711,1435.43 569.799,1435.28 571.886,1435.13 573.974,1434.97 576.062,1434.81 578.15,1434.65 580.238,1434.5 582.326,1434.34 584.414,1434.17 586.501,1434.01 588.589,1433.85 590.677,1433.68 592.765,1433.52 594.853,1433.35 596.941,1433.18 599.028,1433.01 601.116,1432.84 603.204,1432.67 605.292,1432.49 607.38,1432.32 609.468,1432.14 611.556,1431.97 613.643,1431.79 615.731,1431.61 617.819,1431.43 619.907,1431.25 621.995,1431.06 624.083,1430.88 626.17,1430.7 628.258,1430.51 630.346,1430.32 632.434,1430.13 634.522,1429.94 636.61,1429.75 638.698,1429.56 640.785,1429.37 642.873,1429.17 644.961,1428.97 647.049,1428.78 649.137,1428.58 651.225,1428.38 653.312,1428.18 655.4,1427.98 657.488,1427.77 659.576,1427.57 661.664,1427.36 663.752,1427.15 665.839,1426.94 667.927,1426.74 670.015,1426.52 672.103,1426.31 674.191,1426.1 676.279,1425.88 678.367,1425.67 680.454,1425.45 682.542,1425.23 684.63,1425.01 686.718,1424.79 688.806,1424.57 690.894,1424.34 692.981,1424.12 695.069,1423.89 697.157,1423.67 699.245,1423.44 701.333,1423.21 703.421,1422.98 705.509,1422.74 707.596,1422.51 709.684,1422.27 711.772,1422.04 713.86,1421.8 715.948,1421.56 718.036,1421.32 720.123,1421.08 722.211,1420.83 724.299,1420.59 726.387,1420.34 728.475,1420.1 730.563,1419.85 732.651,1419.6 734.738,1419.35 736.826,1419.1 738.914,1418.84 741.002,1418.59 743.09,1418.33 745.178,1418.07 747.265,1417.81 749.353,1417.55 751.441,1417.29 753.529,1417.03 755.617,1416.76 757.705,1416.5 759.793,1416.23 761.88,1415.96 763.968,1415.69 766.056,1415.42 768.144,1415.14 770.232,1414.87 772.32,1414.59 774.407,1414.32 776.495,1414.04 778.583,1413.76 780.671,1413.48 782.759,1413.19 784.847,1412.91 786.935,1412.62 789.022,1412.33 791.11,1412.05 793.198,1411.76 795.286,1411.46 797.374,1411.17 799.462,1410.88 801.549,1410.58 803.637,1410.28 805.725,1409.98 807.813,1409.68 809.901,1409.38 811.989,1409.08 814.077,1408.77 816.164,1408.47 818.252,1408.16 820.34,1407.85 822.428,1407.54 824.516,1407.23 826.604,1406.91 828.691,1406.6 830.779,1406.28 832.867,1405.96 834.955,1405.64 837.043,1405.32 839.131,1405 841.219,1404.67 843.306,1404.35 845.394,1404.02 847.482,1403.69 849.57,1403.36 851.658,1403.02 853.746,1402.69 855.833,1402.36 857.921,1402.02 860.009,1401.68 862.097,1401.34 864.185,1401 866.273,1400.65 868.36,1400.31 870.448,1399.96 872.536,1399.61 874.624,1399.26 876.712,1398.91 878.8,1398.56 880.888,1398.2 882.975,1397.85 885.063,1397.49 887.151,1397.13 889.239,1396.77 891.327,1396.4 893.415,1396.04 895.502,1395.67 897.59,1395.3 899.678,1394.93 901.766,1394.56 903.854,1394.19 905.942,1393.81 908.03,1393.44 910.117,1393.06 912.205,1392.68 914.293,1392.3 916.381,1391.91 918.469,1391.53 920.557,1391.14 922.644,1390.75 924.732,1390.36 926.82,1389.97 928.908,1389.57 930.996,1389.18 933.084,1388.78 935.172,1388.38 937.259,1387.98 939.347,1387.58 941.435,1387.17 943.523,1386.76 945.611,1386.36 947.699,1385.94 949.786,1385.53 951.874,1385.12 953.962,1384.7 956.05,1384.28 958.138,1383.87 960.226,1383.44 962.314,1383.02 964.401,1382.6 966.489,1382.17 968.577,1381.74 970.665,1381.31 972.753,1380.88 974.841,1380.44 976.928,1380 979.016,1379.57 981.104,1379.12 983.192,1378.68 985.28,1378.24 987.368,1377.79 989.456,1377.34 991.543,1376.89 993.631,1376.44 995.719,1375.99 997.807,1375.53 999.895,1375.07 1001.98,1374.61 1004.07,1374.15 1006.16,1373.69 1008.25,1373.22 1010.33,1372.75 1012.42,1372.28 1014.51,1371.81 1016.6,1371.34 1018.69,1370.86 1020.77,1370.38 1022.86,1369.9 1024.95,1369.42 1027.04,1368.93 1029.12,1368.45 1031.21,1367.96 1033.3,1367.47 1035.39,1366.97 1037.48,1366.48 1039.56,1365.98 1041.65,1365.48 1043.74,1364.98 1045.83,1364.48 1047.92,1363.97 1050,1363.46 1052.09,1362.95 1054.18,1362.44 1056.27,1361.93 1058.35,1361.41 1060.44,1360.89 1062.53,1360.37 1064.62,1359.85 1066.71,1359.32 1068.79,1358.79 1070.88,1358.26 1072.97,1357.73 1075.06,1357.2 1077.15,1356.66 1079.23,1356.12 1081.32,1355.58 1083.41,1355.03 1085.5,1354.49 1087.58,1353.94 1089.67,1353.39 1091.76,1352.84 1093.85,1352.28 1095.94,1351.72 1098.02,1351.16 1100.11,1350.6 1102.2,1350.04 1104.29,1349.47 1106.37,1348.9 1108.46,1348.33 1110.55,1347.75 1112.64,1347.18 1114.73,1346.6 1116.81,1346.01 1118.9,1345.43 1120.99,1344.84 1123.08,1344.25 1125.17,1343.66 1127.25,1343.07 1129.34,1342.47 1131.43,1341.87 1133.52,1341.27 1135.6,1340.67 1137.69,1340.06 1139.78,1339.45 1141.87,1338.84 1143.96,1338.23 1146.04,1337.61 1148.13,1336.99 1150.22,1336.37 1152.31,1335.74 1154.4,1335.12 1156.48,1334.49 1158.57,1333.85 1160.66,1333.22 1162.75,1332.58 1164.83,1331.94 1166.92,1331.3 1169.01,1330.65 1171.1,1330 1173.19,1329.35 1175.27,1328.7 1177.36,1328.04 1179.45,1327.38 1181.54,1326.72 1183.63,1326.06 1185.71,1325.39 1187.8,1324.72 1189.89,1324.05 1191.98,1323.37 1194.06,1322.69 1196.15,1322.01 1198.24,1321.33 1200.33,1320.64 1202.42,1319.95 1204.5,1319.26 1206.59,1318.56 1208.68,1317.86 1210.77,1317.16 1212.85,1316.46 1214.94,1315.75 1217.03,1315.04 1219.12,1314.33 1221.21,1313.61 1223.29,1312.89 1225.38,1312.17 1227.47,1311.44 1229.56,1310.72 1231.65,1309.98 1233.73,1309.25 1235.82,1308.51 1237.91,1307.77 1240,1307.03 1242.08,1306.28 1244.17,1305.53 1246.26,1304.78 1248.35,1304.03 1250.44,1303.27 1252.52,1302.51 1254.61,1301.74 1256.7,1300.97 1258.79,1300.2 1260.88,1299.43 1262.96,1298.65 1265.05,1297.87 1267.14,1297.09 1269.23,1296.3 1271.31,1295.51 1273.4,1294.72 1275.49,1293.92 1277.58,1293.12 1279.67,1292.32 1281.75,1291.51 1283.84,1290.7 1285.93,1289.89 1288.02,1289.07 1290.11,1288.25 1292.19,1287.43 1294.28,1286.6 1296.37,1285.77 1298.46,1284.94 1300.54,1284.1 1302.63,1283.26 1304.72,1282.42 1306.81,1281.57 1308.9,1280.72 1310.98,1279.86 1313.07,1279.01 1315.16,1278.15 1317.25,1277.28 1319.34,1276.41 1321.42,1275.54 1323.51,1274.67 1325.6,1273.79 1327.69,1272.91 1329.77,1272.02 1331.86,1271.13 1333.95,1270.24 1336.04,1269.34 1338.13,1268.44 1340.21,1267.54 1342.3,1266.63 1344.39,1265.72 1346.48,1264.8 1348.56,1263.88 1350.65,1262.96 1352.74,1262.03 1354.83,1261.1 1356.92,1260.17 1359,1259.23 1361.09,1258.29 1363.18,1257.34 1365.27,1256.39 1367.36,1255.44 1369.44,1254.48 1371.53,1253.52 1373.62,1252.56 1375.71,1251.59 1377.79,1250.62 1379.88,1249.64 1381.97,1248.66 1384.06,1247.67 1386.15,1246.68 1388.23,1245.69 1390.32,1244.69 1392.41,1243.69 1394.5,1242.69 1396.59,1241.68 1398.67,1240.67 1400.76,1239.65 1402.85,1238.63 1404.94,1237.6 1407.02,1236.57 1409.11,1235.54 1411.2,1234.5 1413.29,1233.46 1415.38,1232.41 1417.46,1231.36 1419.55,1230.31 1421.64,1229.25 1423.73,1228.18 1425.82,1227.12 1427.9,1226.04 1429.99,1224.97 1432.08,1223.89 1434.17,1222.8 1436.25,1221.71 1438.34,1220.62 1440.43,1219.52 1442.52,1218.42 1444.61,1217.31 1446.69,1216.2 1448.78,1215.08 1450.87,1213.96 1452.96,1212.83 1455.05,1211.7 1457.13,1210.57 1459.22,1209.43 1461.31,1208.29 1463.4,1207.14 1465.48,1205.98 1467.57,1204.83 1469.66,1203.66 1471.75,1202.5 1473.84,1201.33 1475.92,1200.15 1478.01,1198.97 1480.1,1197.78 1482.19,1196.59 1484.27,1195.39 1486.36,1194.19 1488.45,1192.99 1490.54,1191.78 1492.63,1190.56 1494.71,1189.34 1496.8,1188.12 1498.89,1186.89 1500.98,1185.65 1503.07,1184.41 1505.15,1183.17 1507.24,1181.92 1509.33,1180.66 1511.42,1179.4 1513.5,1178.14 1515.59,1176.87 1517.68,1175.59 1519.77,1174.31 1521.86,1173.02 1523.94,1171.73 1526.03,1170.44 1528.12,1169.14 1530.21,1167.83 1532.3,1166.52 1534.38,1165.2 1536.47,1163.88 1538.56,1162.55 1540.65,1161.22 1542.73,1159.88 1544.82,1158.53 1546.91,1157.18 1549,1155.83 1551.09,1154.47 1553.17,1153.1 1555.26,1151.73 1557.35,1150.35 1559.44,1148.97 1561.53,1147.58 1563.61,1146.19 1565.7,1144.79 1567.79,1143.38 1569.88,1141.97 1571.96,1140.56 1574.05,1139.13 1576.14,1137.71 1578.23,1136.27 1580.32,1134.83 1582.4,1133.39 1584.49,1131.94 1586.58,1130.48 1588.67,1129.02 1590.75,1127.55 1592.84,1126.08 1594.93,1124.59 1597.02,1123.11 1599.11,1121.62 1601.19,1120.12 1603.28,1118.61 1605.37,1117.1 1607.46,1115.59 1609.55,1114.06 1611.63,1112.53 1613.72,1111 1615.81,1109.46 1617.9,1107.91 1619.98,1106.36 1622.07,1104.8 1624.16,1103.23 1626.25,1101.66 1628.34,1100.08 1630.42,1098.49 1632.51,1096.9 1634.6,1095.3 1636.69,1093.7 1638.78,1092.09 1640.86,1090.47 1642.95,1088.85 1645.04,1087.22 1647.13,1085.58 1649.21,1083.94 1651.3,1082.29 1653.39,1080.63 1655.48,1078.96 1657.57,1077.29 1659.65,1075.62 1661.74,1073.93 1663.83,1072.24 1665.92,1070.55 1668.01,1068.84 1670.09,1067.13 1672.18,1065.41 1674.27,1063.69 1676.36,1061.96 1678.44,1060.22 1680.53,1058.47 1682.62,1056.72 1684.71,1054.96 1686.8,1053.19 1688.88,1051.42 1690.97,1049.64 1693.06,1047.85 1695.15,1046.05 1697.24,1044.25 1699.32,1042.44 1701.41,1040.62 1703.5,1038.8 1705.59,1036.97 1707.67,1035.13 1709.76,1033.28 1711.85,1031.43 1713.94,1029.56 1716.03,1027.7 1718.11,1025.82 1720.2,1023.93 1722.29,1022.04 1724.38,1020.14 1726.46,1018.24 1728.55,1016.32 1730.64,1014.4 1732.73,1012.47 1734.82,1010.53 1736.9,1008.59 1738.99,1006.63 1741.08,1004.67 1743.17,1002.7 1745.26,1000.72 1747.34,998.74 1749.43,996.747 1751.52,994.746 1753.61,992.737 1755.69,990.719 1757.78,988.694 1759.87,986.661 1761.96,984.619 1764.05,982.569 1766.13,980.511 1768.22,978.445 1770.31,976.37 1772.4,974.287 1774.49,972.196 1776.57,970.096 1778.66,967.987 1780.75,965.871 1782.84,963.746 1784.92,961.612 1787.01,959.469 1789.1,957.318 1791.19,955.159 1793.28,952.991 1795.36,950.814 1797.45,948.628 1799.54,946.433 1801.63,944.23 1803.72,942.018 1805.8,939.797 1807.89,937.567 1809.98,935.328 1812.07,933.08 1814.15,930.823 1816.24,928.557 1818.33,926.281 1820.42,923.997 1822.51,921.704 1824.59,919.401 1826.68,917.089 1828.77,914.768 1830.86,912.437 1832.95,910.097 1835.03,907.748 1837.12,905.389 1839.21,903.02 1841.3,900.643 1843.38,898.255 1845.47,895.858 1847.56,893.452 1849.65,891.036 1851.74,888.61 1853.82,886.174 1855.91,883.728 1858,881.273 1860.09,878.808 1862.17,876.333 1864.26,873.848 1866.35,871.353 1868.44,868.848 1870.53,866.333 1872.61,863.807 1874.7,861.272 1876.79,858.727 1878.88,856.171 1880.97,853.605 1883.05,851.028 1885.14,848.442 1887.23,845.845 1889.32,843.237 1891.4,840.619 1893.49,837.991 1895.58,835.352 1897.67,832.702 1899.76,830.042 1901.84,827.371 1903.93,824.689 1906.02,821.997 1908.11,819.293 1910.2,816.579 1912.28,813.854 1914.37,811.118 1916.46,808.371 1918.55,805.613 1920.63,802.844 1922.72,800.064 1924.81,797.272 1926.9,794.47 1928.99,791.656 1931.07,788.831 1933.16,785.994 1935.25,783.147 1937.34,780.287 1939.43,777.416 1941.51,774.534 1943.6,771.64 1945.69,768.735 1947.78,765.818 1949.86,762.889 1951.95,759.948 1954.04,756.995 1956.13,754.031 1958.22,751.055 1960.3,748.067 1962.39,745.067 1964.48,742.054 1966.57,739.03 1968.65,735.994 1970.74,732.945 1972.83,729.884 1974.92,726.811 1977.01,723.725 1979.09,720.627 1981.18,717.517 1983.27,714.394 1985.36,711.259 1987.45,708.111 1989.53,704.95 1991.62,701.777 1993.71,698.591 1995.8,695.392 1997.88,692.18 1999.97,688.956 2002.06,685.718 2004.15,682.468 2006.24,679.204 2008.32,675.928 2010.41,672.638 2012.5,669.335 2014.59,666.019 2016.68,662.689 2018.76,659.346 2020.85,655.99 2022.94,652.62 2025.03,649.236 2027.11,645.839 2029.2,642.429 2031.29,639.005 2033.38,635.567 2035.47,632.115 2037.55,628.649 2039.64,625.169 2041.73,621.676 2043.82,618.168 2045.91,614.646 2047.99,611.111 2050.08,607.561 2052.17,603.996 2054.26,600.418 2056.34,596.825 2058.43,593.218 2060.52,589.596 2062.61,585.959 2064.7,582.308 2066.78,578.643 2068.87,574.962 2070.96,571.267 2073.05,567.557 2075.14,563.832 2077.22,560.093 2079.31,556.338 2081.4,552.568 2083.49,548.783 2085.57,544.983 2087.66,541.167 2089.75,537.337 2091.84,533.49 2093.93,529.629 2096.01,525.752 2098.1,521.859 2100.19,517.951 2102.28,514.027 2104.36,510.087 2106.45,506.132 2108.54,502.16 2110.63,498.173 2112.72,494.17 2114.8,490.15 2116.89,486.115 2118.98,482.063 2121.07,477.995 2123.16,473.911 2125.24,469.81 2127.33,465.693 2129.42,461.559 2131.51,457.409 2133.59,453.242 2135.68,449.058 2137.77,444.858 2139.86,440.64 2141.95,436.406 2144.03,432.155 2146.12,427.887 2148.21,423.601 2150.3,419.298 2152.39,414.979 2154.47,410.641 2156.56,406.287 2158.65,401.915 2160.74,397.525 2162.82,393.118 2164.91,388.693 2167,384.25 2169.09,379.789 2171.18,375.311 2173.26,370.814 2175.35,366.3 2177.44,361.767 2179.53,357.217 2181.62,352.648 2183.7,348.06 2185.79,343.454 2187.88,338.83 2189.97,334.187 2192.05,329.526 2194.14,324.846 2196.23,320.147 2198.32,315.429 2200.41,310.692 2202.49,305.936 2204.58,301.162 2206.67,296.367 2208.76,291.554 2210.85,286.722 2212.93,281.87 2215.02,276.998 2217.11,272.107 2219.2,267.197 2221.28,262.266 2223.37,257.316 2225.46,252.346 2227.55,247.356 2229.64,242.347 2231.72,237.317 2233.81,232.266 2235.9,227.196 2237.99,222.105 2240.07,216.994 2242.16,211.862 2244.25,206.71 2246.34,201.537 2248.43,196.343 2250.51,191.128 2252.6,185.893 2254.69,180.636 2256.78,175.358 2258.87,170.059 2260.95,164.739 2263.04,159.398 2265.13,154.035 2267.22,148.651 2269.3,143.245 2271.39,137.817 2273.48,132.367 2275.57,126.896 2277.66,121.403 2279.74,115.887 2281.83,110.35 2283.92,104.79 2286.01,99.2081 2288.1,93.6037 2290.18,87.9768 \"/>\n",
       "<polyline clip-path=\"url(#clip382)\" style=\"stroke:#e26f46; stroke-linecap:round; stroke-linejoin:round; stroke-width:4; stroke-opacity:1; fill:none\" points=\"204.426,1444.69 206.514,1444.74 208.601,1444.79 210.689,1444.84 212.777,1444.88 214.865,1444.93 216.953,1444.97 219.041,1445.02 221.128,1445.06 223.216,1445.1 225.304,1445.14 227.392,1445.18 229.48,1445.21 231.568,1445.25 233.656,1445.28 235.743,1445.31 237.831,1445.34 239.919,1445.37 242.007,1445.4 244.095,1445.43 246.183,1445.46 248.27,1445.48 250.358,1445.5 252.446,1445.53 254.534,1445.55 256.622,1445.57 258.71,1445.59 260.797,1445.6 262.885,1445.62 264.973,1445.63 267.061,1445.65 269.149,1445.66 271.237,1445.67 273.325,1445.68 275.412,1445.69 277.5,1445.7 279.588,1445.7 281.676,1445.71 283.764,1445.71 285.852,1445.71 287.939,1445.72 290.027,1445.72 292.115,1445.71 294.203,1445.71 296.291,1445.71 298.379,1445.7 300.467,1445.7 302.554,1445.69 304.642,1445.68 306.73,1445.67 308.818,1445.66 310.906,1445.65 312.994,1445.64 315.081,1445.62 317.169,1445.61 319.257,1445.59 321.345,1445.57 323.433,1445.55 325.521,1445.53 327.609,1445.51 329.696,1445.49 331.784,1445.46 333.872,1445.44 335.96,1445.41 338.048,1445.39 340.136,1445.36 342.223,1445.33 344.311,1445.3 346.399,1445.26 348.487,1445.23 350.575,1445.2 352.663,1445.16 354.751,1445.12 356.838,1445.09 358.926,1445.05 361.014,1445.01 363.102,1444.97 365.19,1444.92 367.278,1444.88 369.365,1444.84 371.453,1444.79 373.541,1444.74 375.629,1444.69 377.717,1444.64 379.805,1444.59 381.893,1444.54 383.98,1444.49 386.068,1444.44 388.156,1444.38 390.244,1444.32 392.332,1444.27 394.42,1444.21 396.507,1444.15 398.595,1444.09 400.683,1444.03 402.771,1443.96 404.859,1443.9 406.947,1443.83 409.035,1443.77 411.122,1443.7 413.21,1443.63 415.298,1443.56 417.386,1443.49 419.474,1443.42 421.562,1443.35 423.649,1443.27 425.737,1443.2 427.825,1443.12 429.913,1443.04 432.001,1442.96 434.089,1442.88 436.177,1442.8 438.264,1442.72 440.352,1442.64 442.44,1442.55 444.528,1442.47 446.616,1442.38 448.704,1442.29 450.791,1442.21 452.879,1442.12 454.967,1442.02 457.055,1441.93 459.143,1441.84 461.231,1441.74 463.318,1441.65 465.406,1441.55 467.494,1441.45 469.582,1441.36 471.67,1441.26 473.758,1441.15 475.846,1441.05 477.933,1440.95 480.021,1440.84 482.109,1440.74 484.197,1440.63 486.285,1440.52 488.373,1440.41 490.46,1440.3 492.548,1440.19 494.636,1440.08 496.724,1439.97 498.812,1439.85 500.9,1439.74 502.988,1439.62 505.075,1439.5 507.163,1439.38 509.251,1439.26 511.339,1439.14 513.427,1439.02 515.515,1438.9 517.602,1438.77 519.69,1438.64 521.778,1438.52 523.866,1438.39 525.954,1438.26 528.042,1438.13 530.13,1438 532.217,1437.86 534.305,1437.73 536.393,1437.6 538.481,1437.46 540.569,1437.32 542.657,1437.18 544.744,1437.04 546.832,1436.9 548.92,1436.76 551.008,1436.62 553.096,1436.47 555.184,1436.33 557.272,1436.18 559.359,1436.04 561.447,1435.89 563.535,1435.74 565.623,1435.59 567.711,1435.43 569.799,1435.28 571.886,1435.13 573.974,1434.97 576.062,1434.81 578.15,1434.65 580.238,1434.5 582.326,1434.34 584.414,1434.17 586.501,1434.01 588.589,1433.85 590.677,1433.68 592.765,1433.52 594.853,1433.35 596.941,1433.18 599.028,1433.01 601.116,1432.84 603.204,1432.67 605.292,1432.49 607.38,1432.32 609.468,1432.14 611.556,1431.97 613.643,1431.79 615.731,1431.61 617.819,1431.43 619.907,1431.25 621.995,1431.06 624.083,1430.88 626.17,1430.7 628.258,1430.51 630.346,1430.32 632.434,1430.13 634.522,1429.94 636.61,1429.75 638.698,1429.56 640.785,1429.37 642.873,1429.17 644.961,1428.97 647.049,1428.78 649.137,1428.58 651.225,1428.38 653.312,1428.18 655.4,1427.98 657.488,1427.77 659.576,1427.57 661.664,1427.36 663.752,1427.15 665.839,1426.94 667.927,1426.74 670.015,1426.52 672.103,1426.31 674.191,1426.1 676.279,1425.88 678.367,1425.67 680.454,1425.45 682.542,1425.23 684.63,1425.01 686.718,1424.79 688.806,1424.57 690.894,1424.34 692.981,1424.12 695.069,1423.89 697.157,1423.67 699.245,1423.44 701.333,1423.21 703.421,1422.98 705.509,1422.74 707.596,1422.51 709.684,1422.27 711.772,1422.04 713.86,1421.8 715.948,1421.56 718.036,1421.32 720.123,1421.08 722.211,1420.83 724.299,1420.59 726.387,1420.34 728.475,1420.1 730.563,1419.85 732.651,1419.6 734.738,1419.35 736.826,1419.1 738.914,1418.84 741.002,1418.59 743.09,1418.33 745.178,1418.07 747.265,1417.81 749.353,1417.55 751.441,1417.29 753.529,1417.03 755.617,1416.76 757.705,1416.5 759.793,1416.23 761.88,1415.96 763.968,1415.69 766.056,1415.42 768.144,1415.14 770.232,1414.87 772.32,1414.59 774.407,1414.32 776.495,1414.04 778.583,1413.76 780.671,1413.48 782.759,1413.19 784.847,1412.91 786.935,1412.62 789.022,1412.33 791.11,1412.05 793.198,1411.76 795.286,1411.46 797.374,1411.17 799.462,1410.88 801.549,1410.58 803.637,1410.28 805.725,1409.98 807.813,1409.68 809.901,1409.38 811.989,1409.08 814.077,1408.77 816.164,1408.47 818.252,1408.16 820.34,1407.85 822.428,1407.54 824.516,1407.23 826.604,1406.91 828.691,1406.6 830.779,1406.28 832.867,1405.96 834.955,1405.64 837.043,1405.32 839.131,1405 841.219,1404.67 843.306,1404.35 845.394,1404.02 847.482,1403.69 849.57,1403.36 851.658,1403.02 853.746,1402.69 855.833,1402.36 857.921,1402.02 860.009,1401.68 862.097,1401.34 864.185,1401 866.273,1400.65 868.36,1400.31 870.448,1399.96 872.536,1399.61 874.624,1399.26 876.712,1398.91 878.8,1398.56 880.888,1398.2 882.975,1397.85 885.063,1397.49 887.151,1397.13 889.239,1396.77 891.327,1396.4 893.415,1396.04 895.502,1395.67 897.59,1395.3 899.678,1394.93 901.766,1394.56 903.854,1394.19 905.942,1393.81 908.03,1393.44 910.117,1393.06 912.205,1392.68 914.293,1392.3 916.381,1391.91 918.469,1391.53 920.557,1391.14 922.644,1390.75 924.732,1390.36 926.82,1389.97 928.908,1389.57 930.996,1389.18 933.084,1388.78 935.172,1388.38 937.259,1387.98 939.347,1387.58 941.435,1387.17 943.523,1386.76 945.611,1386.36 947.699,1385.94 949.786,1385.53 951.874,1385.12 953.962,1384.7 956.05,1384.28 958.138,1383.87 960.226,1383.44 962.314,1383.02 964.401,1382.6 966.489,1382.17 968.577,1381.74 970.665,1381.31 972.753,1380.88 974.841,1380.44 976.928,1380 979.016,1379.57 981.104,1379.12 983.192,1378.68 985.28,1378.24 987.368,1377.79 989.456,1377.34 991.543,1376.89 993.631,1376.44 995.719,1375.99 997.807,1375.53 999.895,1375.07 1001.98,1374.61 1004.07,1374.15 1006.16,1373.69 1008.25,1373.22 1010.33,1372.75 1012.42,1372.28 1014.51,1371.81 1016.6,1371.34 1018.69,1370.86 1020.77,1370.38 1022.86,1369.9 1024.95,1369.42 1027.04,1368.93 1029.12,1368.45 1031.21,1367.96 1033.3,1367.47 1035.39,1366.97 1037.48,1366.48 1039.56,1365.98 1041.65,1365.48 1043.74,1364.98 1045.83,1364.48 1047.92,1363.97 1050,1363.46 1052.09,1362.95 1054.18,1362.44 1056.27,1361.93 1058.35,1361.41 1060.44,1360.89 1062.53,1360.37 1064.62,1359.85 1066.71,1359.32 1068.79,1358.79 1070.88,1358.26 1072.97,1357.73 1075.06,1357.2 1077.15,1356.66 1079.23,1356.12 1081.32,1355.58 1083.41,1355.03 1085.5,1354.49 1087.58,1353.94 1089.67,1353.39 1091.76,1352.84 1093.85,1352.28 1095.94,1351.72 1098.02,1351.16 1100.11,1350.6 1102.2,1350.04 1104.29,1349.47 1106.37,1348.9 1108.46,1348.33 1110.55,1347.75 1112.64,1347.18 1114.73,1346.6 1116.81,1346.01 1118.9,1345.43 1120.99,1344.84 1123.08,1344.25 1125.17,1343.66 1127.25,1343.07 1129.34,1342.47 1131.43,1341.87 1133.52,1341.27 1135.6,1340.67 1137.69,1340.06 1139.78,1339.45 1141.87,1338.84 1143.96,1338.23 1146.04,1337.61 1148.13,1336.99 1150.22,1336.37 1152.31,1335.74 1154.4,1335.12 1156.48,1334.49 1158.57,1333.85 1160.66,1333.22 1162.75,1332.58 1164.83,1331.94 1166.92,1331.3 1169.01,1330.65 1171.1,1330 1173.19,1329.35 1175.27,1328.7 1177.36,1328.04 1179.45,1327.38 1181.54,1326.72 1183.63,1326.06 1185.71,1325.39 1187.8,1324.72 1189.89,1324.05 1191.98,1323.37 1194.06,1322.69 1196.15,1322.01 1198.24,1321.33 1200.33,1320.64 1202.42,1319.95 1204.5,1319.26 1206.59,1318.56 1208.68,1317.86 1210.77,1317.16 1212.85,1316.46 1214.94,1315.75 1217.03,1315.04 1219.12,1314.33 1221.21,1313.61 1223.29,1312.89 1225.38,1312.17 1227.47,1311.44 1229.56,1310.72 1231.65,1309.98 1233.73,1309.25 1235.82,1308.51 1237.91,1307.77 1240,1307.03 1242.08,1306.28 1244.17,1305.53 1246.26,1304.78 1248.35,1304.03 1250.44,1303.27 1252.52,1302.51 1254.61,1301.74 1256.7,1300.97 1258.79,1300.2 1260.88,1299.43 1262.96,1298.65 1265.05,1297.87 1267.14,1297.09 1269.23,1296.3 1271.31,1295.51 1273.4,1294.72 1275.49,1293.92 1277.58,1293.12 1279.67,1292.32 1281.75,1291.51 1283.84,1290.7 1285.93,1289.89 1288.02,1289.07 1290.11,1288.25 1292.19,1287.43 1294.28,1286.6 1296.37,1285.77 1298.46,1284.94 1300.54,1284.1 1302.63,1283.26 1304.72,1282.42 1306.81,1281.57 1308.9,1280.72 1310.98,1279.86 1313.07,1279.01 1315.16,1278.15 1317.25,1277.28 1319.34,1276.41 1321.42,1275.54 1323.51,1274.67 1325.6,1273.79 1327.69,1272.91 1329.77,1272.02 1331.86,1271.13 1333.95,1270.24 1336.04,1269.34 1338.13,1268.44 1340.21,1267.54 1342.3,1266.63 1344.39,1265.72 1346.48,1264.8 1348.56,1263.88 1350.65,1262.96 1352.74,1262.03 1354.83,1261.1 1356.92,1260.17 1359,1259.23 1361.09,1258.29 1363.18,1257.34 1365.27,1256.39 1367.36,1255.44 1369.44,1254.48 1371.53,1253.52 1373.62,1252.56 1375.71,1251.59 1377.79,1250.62 1379.88,1249.64 1381.97,1248.66 1384.06,1247.67 1386.15,1246.68 1388.23,1245.69 1390.32,1244.69 1392.41,1243.69 1394.5,1242.69 1396.59,1241.68 1398.67,1240.67 1400.76,1239.65 1402.85,1238.63 1404.94,1237.6 1407.02,1236.57 1409.11,1235.54 1411.2,1234.5 1413.29,1233.46 1415.38,1232.41 1417.46,1231.36 1419.55,1230.31 1421.64,1229.25 1423.73,1228.18 1425.82,1227.12 1427.9,1226.04 1429.99,1224.97 1432.08,1223.89 1434.17,1222.8 1436.25,1221.71 1438.34,1220.62 1440.43,1219.52 1442.52,1218.42 1444.61,1217.31 1446.69,1216.2 1448.78,1215.08 1450.87,1213.96 1452.96,1212.83 1455.05,1211.7 1457.13,1210.57 1459.22,1209.43 1461.31,1208.29 1463.4,1207.14 1465.48,1205.98 1467.57,1204.83 1469.66,1203.66 1471.75,1202.5 1473.84,1201.33 1475.92,1200.15 1478.01,1198.97 1480.1,1197.78 1482.19,1196.59 1484.27,1195.39 1486.36,1194.19 1488.45,1192.99 1490.54,1191.78 1492.63,1190.56 1494.71,1189.34 1496.8,1188.12 1498.89,1186.89 1500.98,1185.65 1503.07,1184.41 1505.15,1183.17 1507.24,1181.92 1509.33,1180.66 1511.42,1179.4 1513.5,1178.14 1515.59,1176.87 1517.68,1175.59 1519.77,1174.31 1521.86,1173.02 1523.94,1171.73 1526.03,1170.44 1528.12,1169.14 1530.21,1167.83 1532.3,1166.52 1534.38,1165.2 1536.47,1163.88 1538.56,1162.55 1540.65,1161.22 1542.73,1159.88 1544.82,1158.53 1546.91,1157.18 1549,1155.83 1551.09,1154.47 1553.17,1153.1 1555.26,1151.73 1557.35,1150.35 1559.44,1148.97 1561.53,1147.58 1563.61,1146.19 1565.7,1144.79 1567.79,1143.38 1569.88,1141.97 1571.96,1140.56 1574.05,1139.13 1576.14,1137.71 1578.23,1136.27 1580.32,1134.83 1582.4,1133.39 1584.49,1131.94 1586.58,1130.48 1588.67,1129.02 1590.75,1127.55 1592.84,1126.07 1594.93,1124.59 1597.02,1123.11 1599.11,1121.62 1601.19,1120.12 1603.28,1118.61 1605.37,1117.1 1607.46,1115.59 1609.55,1114.06 1611.63,1112.53 1613.72,1111 1615.81,1109.46 1617.9,1107.91 1619.98,1106.36 1622.07,1104.8 1624.16,1103.23 1626.25,1101.66 1628.34,1100.08 1630.42,1098.49 1632.51,1096.9 1634.6,1095.3 1636.69,1093.7 1638.78,1092.09 1640.86,1090.47 1642.95,1088.85 1645.04,1087.22 1647.13,1085.58 1649.21,1083.94 1651.3,1082.29 1653.39,1080.63 1655.48,1078.96 1657.57,1077.29 1659.65,1075.62 1661.74,1073.93 1663.83,1072.24 1665.92,1070.55 1668.01,1068.84 1670.09,1067.13 1672.18,1065.41 1674.27,1063.69 1676.36,1061.96 1678.44,1060.22 1680.53,1058.47 1682.62,1056.72 1684.71,1054.96 1686.8,1053.19 1688.88,1051.42 1690.97,1049.64 1693.06,1047.85 1695.15,1046.05 1697.24,1044.25 1699.32,1042.44 1701.41,1040.62 1703.5,1038.8 1705.59,1036.97 1707.67,1035.13 1709.76,1033.28 1711.85,1031.43 1713.94,1029.56 1716.03,1027.7 1718.11,1025.82 1720.2,1023.93 1722.29,1022.04 1724.38,1020.14 1726.46,1018.24 1728.55,1016.32 1730.64,1014.4 1732.73,1012.47 1734.82,1010.53 1736.9,1008.59 1738.99,1006.63 1741.08,1004.67 1743.17,1002.7 1745.26,1000.72 1747.34,998.74 1749.43,996.747 1751.52,994.745 1753.61,992.736 1755.69,990.719 1757.78,988.694 1759.87,986.66 1761.96,984.619 1764.05,982.569 1766.13,980.511 1768.22,978.444 1770.31,976.37 1772.4,974.287 1774.49,972.195 1776.57,970.096 1778.66,967.987 1780.75,965.871 1782.84,963.745 1784.92,961.612 1787.01,959.469 1789.1,957.318 1791.19,955.159 1793.28,952.99 1795.36,950.813 1797.45,948.628 1799.54,946.433 1801.63,944.23 1803.72,942.018 1805.8,939.796 1807.89,937.566 1809.98,935.327 1812.07,933.079 1814.15,930.822 1816.24,928.556 1818.33,926.281 1820.42,923.997 1822.51,921.703 1824.59,919.401 1826.68,917.089 1828.77,914.767 1830.86,912.437 1832.95,910.097 1835.03,907.747 1837.12,905.389 1839.21,903.02 1841.3,900.642 1843.38,898.255 1845.47,895.858 1847.56,893.452 1849.65,891.035 1851.74,888.609 1853.82,886.174 1855.91,883.728 1858,881.273 1860.09,878.808 1862.17,876.333 1864.26,873.847 1866.35,871.352 1868.44,868.847 1870.53,866.332 1872.61,863.807 1874.7,861.272 1876.79,858.726 1878.88,856.171 1880.97,853.604 1883.05,851.028 1885.14,848.441 1887.23,845.844 1889.32,843.237 1891.4,840.619 1893.49,837.99 1895.58,835.351 1897.67,832.702 1899.76,830.041 1901.84,827.37 1903.93,824.689 1906.02,821.996 1908.11,819.293 1910.2,816.579 1912.28,813.854 1914.37,811.118 1916.46,808.371 1918.55,805.613 1920.63,802.844 1922.72,800.064 1924.81,797.272 1926.9,794.47 1928.99,791.656 1931.07,788.831 1933.16,785.994 1935.25,783.146 1937.34,780.287 1939.43,777.416 1941.51,774.534 1943.6,771.64 1945.69,768.734 1947.78,765.817 1949.86,762.888 1951.95,759.948 1954.04,756.995 1956.13,754.031 1958.22,751.055 1960.3,748.066 1962.39,745.066 1964.48,742.054 1966.57,739.03 1968.65,735.993 1970.74,732.945 1972.83,729.884 1974.92,726.811 1977.01,723.725 1979.09,720.627 1981.18,717.517 1983.27,714.394 1985.36,711.259 1987.45,708.111 1989.53,704.95 1991.62,701.777 1993.71,698.591 1995.8,695.392 1997.88,692.18 1999.97,688.956 2002.06,685.718 2004.15,682.468 2006.24,679.204 2008.32,675.927 2010.41,672.638 2012.5,669.335 2014.59,666.018 2016.68,662.689 2018.76,659.346 2020.85,655.989 2022.94,652.619 2025.03,649.236 2027.11,645.839 2029.2,642.429 2031.29,639.004 2033.38,635.566 2035.47,632.114 2037.55,628.649 2039.64,625.169 2041.73,621.675 2043.82,618.168 2045.91,614.646 2047.99,611.11 2050.08,607.56 2052.17,603.996 2054.26,600.417 2056.34,596.825 2058.43,593.217 2060.52,589.595 2062.61,585.959 2064.7,582.308 2066.78,578.642 2068.87,574.962 2070.96,571.267 2073.05,567.557 2075.14,563.832 2077.22,560.092 2079.31,556.337 2081.4,552.568 2083.49,548.783 2085.57,544.982 2087.66,541.167 2089.75,537.336 2091.84,533.49 2093.93,529.628 2096.01,525.751 2098.1,521.859 2100.19,517.95 2102.28,514.027 2104.36,510.087 2106.45,506.131 2108.54,502.16 2110.63,498.173 2112.72,494.169 2114.8,490.15 2116.89,486.114 2118.98,482.063 2121.07,477.995 2123.16,473.91 2125.24,469.81 2127.33,465.692 2129.42,461.559 2131.51,457.408 2133.59,453.241 2135.68,449.058 2137.77,444.857 2139.86,440.64 2141.95,436.406 2144.03,432.154 2146.12,427.886 2148.21,423.601 2150.3,419.298 2152.39,414.978 2154.47,410.641 2156.56,406.286 2158.65,401.914 2160.74,397.525 2162.82,393.117 2164.91,388.692 2167,384.25 2169.09,379.789 2171.18,375.311 2173.26,370.814 2175.35,366.3 2177.44,361.767 2179.53,357.216 2181.62,352.647 2183.7,348.06 2185.79,343.454 2187.88,338.83 2189.97,334.187 2192.05,329.525 2194.14,324.845 2196.23,320.146 2198.32,315.428 2200.41,310.692 2202.49,305.936 2204.58,301.161 2206.67,296.367 2208.76,291.554 2210.85,286.721 2212.93,281.869 2215.02,276.998 2217.11,272.107 2219.2,267.196 2221.28,262.266 2223.37,257.316 2225.46,252.346 2227.55,247.356 2229.64,242.346 2231.72,237.316 2233.81,232.266 2235.9,227.195 2237.99,222.105 2240.07,216.993 2242.16,211.861 2244.25,206.709 2246.34,201.536 2248.43,196.342 2250.51,191.128 2252.6,185.892 2254.69,180.636 2256.78,175.358 2258.87,170.059 2260.95,164.739 2263.04,159.397 2265.13,154.035 2267.22,148.65 2269.3,143.244 2271.39,137.816 2273.48,132.367 2275.57,126.896 2277.66,121.402 2279.74,115.887 2281.83,110.349 2283.92,104.79 2286.01,99.2076 2288.1,93.6032 2290.18,87.9763 \"/>\n",
       "<path clip-path=\"url(#clip380)\" d=\"M215.55 250.738 L535.829 250.738 L535.829 95.2176 L215.55 95.2176  Z\" fill=\"#ffffff\" fill-rule=\"evenodd\" fill-opacity=\"1\"/>\n",
       "<polyline clip-path=\"url(#clip380)\" style=\"stroke:#000000; stroke-linecap:round; stroke-linejoin:round; stroke-width:4; stroke-opacity:1; fill:none\" points=\"215.55,250.738 535.829,250.738 535.829,95.2176 215.55,95.2176 215.55,250.738 \"/>\n",
       "<polyline clip-path=\"url(#clip380)\" style=\"stroke:#009af9; stroke-linecap:round; stroke-linejoin:round; stroke-width:4; stroke-opacity:1; fill:none\" points=\"240.115,147.058 387.509,147.058 \"/>\n",
       "<path clip-path=\"url(#clip380)\" d=\"M416.357 160.449 L416.357 174.199 L412.074 174.199 L412.074 138.412 L416.357 138.412 L416.357 142.347 Q417.699 140.032 419.736 138.921 Q421.797 137.787 424.644 137.787 Q429.366 137.787 432.306 141.537 Q435.269 145.287 435.269 151.398 Q435.269 157.509 432.306 161.259 Q429.366 165.009 424.644 165.009 Q421.797 165.009 419.736 163.898 Q417.699 162.763 416.357 160.449 M430.847 151.398 Q430.847 146.699 428.903 144.037 Q426.982 141.352 423.602 141.352 Q420.223 141.352 418.278 144.037 Q416.357 146.699 416.357 151.398 Q416.357 156.097 418.278 158.782 Q420.223 161.444 423.602 161.444 Q426.982 161.444 428.903 158.782 Q430.847 156.097 430.847 151.398 Z\" fill=\"#000000\" fill-rule=\"nonzero\" fill-opacity=\"1\" /><path clip-path=\"url(#clip380)\" d=\"M457.352 142.393 Q456.634 141.977 455.778 141.791 Q454.945 141.583 453.926 141.583 Q450.315 141.583 448.371 143.944 Q446.449 146.282 446.449 150.68 L446.449 164.338 L442.167 164.338 L442.167 138.412 L446.449 138.412 L446.449 142.44 Q447.792 140.078 449.945 138.944 Q452.097 137.787 455.176 137.787 Q455.616 137.787 456.148 137.856 Q456.681 137.903 457.329 138.018 L457.352 142.393 Z\" fill=\"#000000\" fill-rule=\"nonzero\" fill-opacity=\"1\" /><path clip-path=\"url(#clip380)\" d=\"M482.954 150.31 L482.954 152.393 L463.37 152.393 Q463.648 156.791 466.009 159.106 Q468.394 161.398 472.63 161.398 Q475.083 161.398 477.375 160.796 Q479.69 160.194 481.958 158.99 L481.958 163.018 Q479.667 163.99 477.259 164.5 Q474.852 165.009 472.375 165.009 Q466.171 165.009 462.537 161.398 Q458.926 157.787 458.926 151.629 Q458.926 145.264 462.352 141.537 Q465.801 137.787 471.634 137.787 Q476.866 137.787 479.898 141.166 Q482.954 144.523 482.954 150.31 M478.694 149.06 Q478.648 145.565 476.727 143.481 Q474.829 141.398 471.681 141.398 Q468.116 141.398 465.963 143.412 Q463.833 145.426 463.509 149.083 L478.694 149.06 Z\" fill=\"#000000\" fill-rule=\"nonzero\" fill-opacity=\"1\" /><path clip-path=\"url(#clip380)\" d=\"M507.004 142.347 L507.004 128.319 L511.264 128.319 L511.264 164.338 L507.004 164.338 L507.004 160.449 Q505.662 162.763 503.602 163.898 Q501.565 165.009 498.694 165.009 Q493.995 165.009 491.032 161.259 Q488.093 157.509 488.093 151.398 Q488.093 145.287 491.032 141.537 Q493.995 137.787 498.694 137.787 Q501.565 137.787 503.602 138.921 Q505.662 140.032 507.004 142.347 M492.491 151.398 Q492.491 156.097 494.412 158.782 Q496.356 161.444 499.736 161.444 Q503.116 161.444 505.06 158.782 Q507.004 156.097 507.004 151.398 Q507.004 146.699 505.06 144.037 Q503.116 141.352 499.736 141.352 Q496.356 141.352 494.412 144.037 Q492.491 146.699 492.491 151.398 Z\" fill=\"#000000\" fill-rule=\"nonzero\" fill-opacity=\"1\" /><polyline clip-path=\"url(#clip380)\" style=\"stroke:#e26f46; stroke-linecap:round; stroke-linejoin:round; stroke-width:4; stroke-opacity:1; fill:none\" points=\"240.115,198.898 387.509,198.898 \"/>\n",
       "<path clip-path=\"url(#clip380)\" d=\"M419.482 182.891 L419.482 190.252 L428.255 190.252 L428.255 193.562 L419.482 193.562 L419.482 207.636 Q419.482 210.807 420.338 211.71 Q421.218 212.613 423.88 212.613 L428.255 212.613 L428.255 216.178 L423.88 216.178 Q418.949 216.178 417.074 214.349 Q415.199 212.497 415.199 207.636 L415.199 193.562 L412.074 193.562 L412.074 190.252 L415.199 190.252 L415.199 182.891 L419.482 182.891 Z\" fill=\"#000000\" fill-rule=\"nonzero\" fill-opacity=\"1\" /><path clip-path=\"url(#clip380)\" d=\"M448.88 194.233 Q448.162 193.817 447.306 193.631 Q446.472 193.423 445.454 193.423 Q441.843 193.423 439.898 195.784 Q437.977 198.122 437.977 202.52 L437.977 216.178 L433.695 216.178 L433.695 190.252 L437.977 190.252 L437.977 194.28 Q439.32 191.918 441.472 190.784 Q443.625 189.627 446.704 189.627 Q447.144 189.627 447.676 189.696 Q448.208 189.743 448.857 189.858 L448.88 194.233 Z\" fill=\"#000000\" fill-rule=\"nonzero\" fill-opacity=\"1\" /><path clip-path=\"url(#clip380)\" d=\"M452.908 205.946 L452.908 190.252 L457.167 190.252 L457.167 205.784 Q457.167 209.465 458.602 211.316 Q460.037 213.145 462.907 213.145 Q466.357 213.145 468.347 210.946 Q470.361 208.747 470.361 204.951 L470.361 190.252 L474.62 190.252 L474.62 216.178 L470.361 216.178 L470.361 212.196 Q468.81 214.557 466.75 215.715 Q464.713 216.849 462.005 216.849 Q457.537 216.849 455.222 214.071 Q452.908 211.293 452.908 205.946 M463.625 189.627 L463.625 189.627 Z\" fill=\"#000000\" fill-rule=\"nonzero\" fill-opacity=\"1\" /><path clip-path=\"url(#clip380)\" d=\"M505.569 202.15 L505.569 204.233 L485.986 204.233 Q486.264 208.631 488.625 210.946 Q491.009 213.238 495.245 213.238 Q497.699 213.238 499.991 212.636 Q502.305 212.034 504.574 210.83 L504.574 214.858 Q502.282 215.83 499.875 216.34 Q497.467 216.849 494.991 216.849 Q488.787 216.849 485.153 213.238 Q481.542 209.627 481.542 203.469 Q481.542 197.104 484.968 193.377 Q488.417 189.627 494.25 189.627 Q499.481 189.627 502.514 193.006 Q505.569 196.363 505.569 202.15 M501.31 200.9 Q501.264 197.405 499.342 195.321 Q497.444 193.238 494.296 193.238 Q490.731 193.238 488.579 195.252 Q486.449 197.266 486.125 200.923 L501.31 200.9 Z\" fill=\"#000000\" fill-rule=\"nonzero\" fill-opacity=\"1\" /></svg>\n"
      ],
      "text/html": [
       "<?xml version=\"1.0\" encoding=\"utf-8\"?>\n",
       "<svg xmlns=\"http://www.w3.org/2000/svg\" xmlns:xlink=\"http://www.w3.org/1999/xlink\" width=\"600\" height=\"400\" viewBox=\"0 0 2400 1600\">\n",
       "<defs>\n",
       "  <clipPath id=\"clip430\">\n",
       "    <rect x=\"0\" y=\"0\" width=\"2400\" height=\"1600\"/>\n",
       "  </clipPath>\n",
       "</defs>\n",
       "<path clip-path=\"url(#clip430)\" d=\"M0 1600 L2400 1600 L2400 0 L0 0  Z\" fill=\"#ffffff\" fill-rule=\"evenodd\" fill-opacity=\"1\"/>\n",
       "<defs>\n",
       "  <clipPath id=\"clip431\">\n",
       "    <rect x=\"480\" y=\"0\" width=\"1681\" height=\"1600\"/>\n",
       "  </clipPath>\n",
       "</defs>\n",
       "<path clip-path=\"url(#clip430)\" d=\"M141.853 1486.45 L2352.76 1486.45 L2352.76 47.2441 L141.853 47.2441  Z\" fill=\"#ffffff\" fill-rule=\"evenodd\" fill-opacity=\"1\"/>\n",
       "<defs>\n",
       "  <clipPath id=\"clip432\">\n",
       "    <rect x=\"141\" y=\"47\" width=\"2212\" height=\"1440\"/>\n",
       "  </clipPath>\n",
       "</defs>\n",
       "<polyline clip-path=\"url(#clip432)\" style=\"stroke:#000000; stroke-linecap:round; stroke-linejoin:round; stroke-width:2; stroke-opacity:0.1; fill:none\" points=\"204.426,1486.45 204.426,47.2441 \"/>\n",
       "<polyline clip-path=\"url(#clip432)\" style=\"stroke:#000000; stroke-linecap:round; stroke-linejoin:round; stroke-width:2; stroke-opacity:0.1; fill:none\" points=\"725.865,1486.45 725.865,47.2441 \"/>\n",
       "<polyline clip-path=\"url(#clip432)\" style=\"stroke:#000000; stroke-linecap:round; stroke-linejoin:round; stroke-width:2; stroke-opacity:0.1; fill:none\" points=\"1247.3,1486.45 1247.3,47.2441 \"/>\n",
       "<polyline clip-path=\"url(#clip432)\" style=\"stroke:#000000; stroke-linecap:round; stroke-linejoin:round; stroke-width:2; stroke-opacity:0.1; fill:none\" points=\"1768.74,1486.45 1768.74,47.2441 \"/>\n",
       "<polyline clip-path=\"url(#clip432)\" style=\"stroke:#000000; stroke-linecap:round; stroke-linejoin:round; stroke-width:2; stroke-opacity:0.1; fill:none\" points=\"2290.18,1486.45 2290.18,47.2441 \"/>\n",
       "<polyline clip-path=\"url(#clip430)\" style=\"stroke:#000000; stroke-linecap:round; stroke-linejoin:round; stroke-width:4; stroke-opacity:1; fill:none\" points=\"141.853,1486.45 2352.76,1486.45 \"/>\n",
       "<polyline clip-path=\"url(#clip430)\" style=\"stroke:#000000; stroke-linecap:round; stroke-linejoin:round; stroke-width:4; stroke-opacity:1; fill:none\" points=\"204.426,1486.45 204.426,1467.55 \"/>\n",
       "<polyline clip-path=\"url(#clip430)\" style=\"stroke:#000000; stroke-linecap:round; stroke-linejoin:round; stroke-width:4; stroke-opacity:1; fill:none\" points=\"725.865,1486.45 725.865,1467.55 \"/>\n",
       "<polyline clip-path=\"url(#clip430)\" style=\"stroke:#000000; stroke-linecap:round; stroke-linejoin:round; stroke-width:4; stroke-opacity:1; fill:none\" points=\"1247.3,1486.45 1247.3,1467.55 \"/>\n",
       "<polyline clip-path=\"url(#clip430)\" style=\"stroke:#000000; stroke-linecap:round; stroke-linejoin:round; stroke-width:4; stroke-opacity:1; fill:none\" points=\"1768.74,1486.45 1768.74,1467.55 \"/>\n",
       "<polyline clip-path=\"url(#clip430)\" style=\"stroke:#000000; stroke-linecap:round; stroke-linejoin:round; stroke-width:4; stroke-opacity:1; fill:none\" points=\"2290.18,1486.45 2290.18,1467.55 \"/>\n",
       "<path clip-path=\"url(#clip430)\" d=\"M181.81 1517.37 Q178.199 1517.37 176.37 1520.93 Q174.565 1524.47 174.565 1531.6 Q174.565 1538.71 176.37 1542.27 Q178.199 1545.82 181.81 1545.82 Q185.444 1545.82 187.25 1542.27 Q189.079 1538.71 189.079 1531.6 Q189.079 1524.47 187.25 1520.93 Q185.444 1517.37 181.81 1517.37 M181.81 1513.66 Q187.62 1513.66 190.676 1518.27 Q193.754 1522.85 193.754 1531.6 Q193.754 1540.33 190.676 1544.94 Q187.62 1549.52 181.81 1549.52 Q176 1549.52 172.921 1544.94 Q169.866 1540.33 169.866 1531.6 Q169.866 1522.85 172.921 1518.27 Q176 1513.66 181.81 1513.66 Z\" fill=\"#000000\" fill-rule=\"nonzero\" fill-opacity=\"1\" /><path clip-path=\"url(#clip430)\" d=\"M201.972 1542.97 L206.856 1542.97 L206.856 1548.85 L201.972 1548.85 L201.972 1542.97 Z\" fill=\"#000000\" fill-rule=\"nonzero\" fill-opacity=\"1\" /><path clip-path=\"url(#clip430)\" d=\"M227.041 1517.37 Q223.43 1517.37 221.602 1520.93 Q219.796 1524.47 219.796 1531.6 Q219.796 1538.71 221.602 1542.27 Q223.43 1545.82 227.041 1545.82 Q230.676 1545.82 232.481 1542.27 Q234.31 1538.71 234.31 1531.6 Q234.31 1524.47 232.481 1520.93 Q230.676 1517.37 227.041 1517.37 M227.041 1513.66 Q232.851 1513.66 235.907 1518.27 Q238.986 1522.85 238.986 1531.6 Q238.986 1540.33 235.907 1544.94 Q232.851 1549.52 227.041 1549.52 Q221.231 1549.52 218.152 1544.94 Q215.097 1540.33 215.097 1531.6 Q215.097 1522.85 218.152 1518.27 Q221.231 1513.66 227.041 1513.66 Z\" fill=\"#000000\" fill-rule=\"nonzero\" fill-opacity=\"1\" /><path clip-path=\"url(#clip430)\" d=\"M703.747 1517.37 Q700.136 1517.37 698.307 1520.93 Q696.502 1524.47 696.502 1531.6 Q696.502 1538.71 698.307 1542.27 Q700.136 1545.82 703.747 1545.82 Q707.381 1545.82 709.187 1542.27 Q711.016 1538.71 711.016 1531.6 Q711.016 1524.47 709.187 1520.93 Q707.381 1517.37 703.747 1517.37 M703.747 1513.66 Q709.557 1513.66 712.613 1518.27 Q715.691 1522.85 715.691 1531.6 Q715.691 1540.33 712.613 1544.94 Q709.557 1549.52 703.747 1549.52 Q697.937 1549.52 694.858 1544.94 Q691.803 1540.33 691.803 1531.6 Q691.803 1522.85 694.858 1518.27 Q697.937 1513.66 703.747 1513.66 Z\" fill=\"#000000\" fill-rule=\"nonzero\" fill-opacity=\"1\" /><path clip-path=\"url(#clip430)\" d=\"M723.909 1542.97 L728.793 1542.97 L728.793 1548.85 L723.909 1548.85 L723.909 1542.97 Z\" fill=\"#000000\" fill-rule=\"nonzero\" fill-opacity=\"1\" /><path clip-path=\"url(#clip430)\" d=\"M739.025 1514.29 L757.381 1514.29 L757.381 1518.22 L743.307 1518.22 L743.307 1526.7 Q744.326 1526.35 745.344 1526.19 Q746.363 1526 747.381 1526 Q753.168 1526 756.548 1529.17 Q759.927 1532.34 759.927 1537.76 Q759.927 1543.34 756.455 1546.44 Q752.983 1549.52 746.664 1549.52 Q744.488 1549.52 742.219 1549.15 Q739.974 1548.78 737.566 1548.04 L737.566 1543.34 Q739.65 1544.47 741.872 1545.03 Q744.094 1545.58 746.571 1545.58 Q750.576 1545.58 752.914 1543.48 Q755.251 1541.37 755.251 1537.76 Q755.251 1534.15 752.914 1532.04 Q750.576 1529.94 746.571 1529.94 Q744.696 1529.94 742.821 1530.35 Q740.969 1530.77 739.025 1531.65 L739.025 1514.29 Z\" fill=\"#000000\" fill-rule=\"nonzero\" fill-opacity=\"1\" /><path clip-path=\"url(#clip430)\" d=\"M1214.46 1544.91 L1222.1 1544.91 L1222.1 1518.55 L1213.79 1520.21 L1213.79 1515.95 L1222.05 1514.29 L1226.73 1514.29 L1226.73 1544.91 L1234.36 1544.91 L1234.36 1548.85 L1214.46 1548.85 L1214.46 1544.91 Z\" fill=\"#000000\" fill-rule=\"nonzero\" fill-opacity=\"1\" /><path clip-path=\"url(#clip430)\" d=\"M1243.81 1542.97 L1248.69 1542.97 L1248.69 1548.85 L1243.81 1548.85 L1243.81 1542.97 Z\" fill=\"#000000\" fill-rule=\"nonzero\" fill-opacity=\"1\" /><path clip-path=\"url(#clip430)\" d=\"M1268.88 1517.37 Q1265.27 1517.37 1263.44 1520.93 Q1261.63 1524.47 1261.63 1531.6 Q1261.63 1538.71 1263.44 1542.27 Q1265.27 1545.82 1268.88 1545.82 Q1272.51 1545.82 1274.32 1542.27 Q1276.15 1538.71 1276.15 1531.6 Q1276.15 1524.47 1274.32 1520.93 Q1272.51 1517.37 1268.88 1517.37 M1268.88 1513.66 Q1274.69 1513.66 1277.74 1518.27 Q1280.82 1522.85 1280.82 1531.6 Q1280.82 1540.33 1277.74 1544.94 Q1274.69 1549.52 1268.88 1549.52 Q1263.07 1549.52 1259.99 1544.94 Q1256.93 1540.33 1256.93 1531.6 Q1256.93 1522.85 1259.99 1518.27 Q1263.07 1513.66 1268.88 1513.66 Z\" fill=\"#000000\" fill-rule=\"nonzero\" fill-opacity=\"1\" /><path clip-path=\"url(#clip430)\" d=\"M1736.39 1544.91 L1744.03 1544.91 L1744.03 1518.55 L1735.72 1520.21 L1735.72 1515.95 L1743.99 1514.29 L1748.66 1514.29 L1748.66 1544.91 L1756.3 1544.91 L1756.3 1548.85 L1736.39 1548.85 L1736.39 1544.91 Z\" fill=\"#000000\" fill-rule=\"nonzero\" fill-opacity=\"1\" /><path clip-path=\"url(#clip430)\" d=\"M1765.75 1542.97 L1770.63 1542.97 L1770.63 1548.85 L1765.75 1548.85 L1765.75 1542.97 Z\" fill=\"#000000\" fill-rule=\"nonzero\" fill-opacity=\"1\" /><path clip-path=\"url(#clip430)\" d=\"M1780.86 1514.29 L1799.22 1514.29 L1799.22 1518.22 L1785.14 1518.22 L1785.14 1526.7 Q1786.16 1526.35 1787.18 1526.19 Q1788.2 1526 1789.22 1526 Q1795.01 1526 1798.38 1529.17 Q1801.76 1532.34 1801.76 1537.76 Q1801.76 1543.34 1798.29 1546.44 Q1794.82 1549.52 1788.5 1549.52 Q1786.32 1549.52 1784.06 1549.15 Q1781.81 1548.78 1779.4 1548.04 L1779.4 1543.34 Q1781.49 1544.47 1783.71 1545.03 Q1785.93 1545.58 1788.41 1545.58 Q1792.41 1545.58 1794.75 1543.48 Q1797.09 1541.37 1797.09 1537.76 Q1797.09 1534.15 1794.75 1532.04 Q1792.41 1529.94 1788.41 1529.94 Q1786.53 1529.94 1784.66 1530.35 Q1782.81 1530.77 1780.86 1531.65 L1780.86 1514.29 Z\" fill=\"#000000\" fill-rule=\"nonzero\" fill-opacity=\"1\" /><path clip-path=\"url(#clip430)\" d=\"M2261.42 1544.91 L2277.74 1544.91 L2277.74 1548.85 L2255.8 1548.85 L2255.8 1544.91 Q2258.46 1542.16 2263.04 1537.53 Q2267.65 1532.88 2268.83 1531.53 Q2271.07 1529.01 2271.95 1527.27 Q2272.86 1525.51 2272.86 1523.82 Q2272.86 1521.07 2270.91 1519.33 Q2268.99 1517.6 2265.89 1517.6 Q2263.69 1517.6 2261.24 1518.36 Q2258.81 1519.13 2256.03 1520.68 L2256.03 1515.95 Q2258.85 1514.82 2261.31 1514.24 Q2263.76 1513.66 2265.8 1513.66 Q2271.17 1513.66 2274.36 1516.35 Q2277.56 1519.03 2277.56 1523.52 Q2277.56 1525.65 2276.75 1527.57 Q2275.96 1529.47 2273.85 1532.07 Q2273.27 1532.74 2270.17 1535.95 Q2267.07 1539.15 2261.42 1544.91 Z\" fill=\"#000000\" fill-rule=\"nonzero\" fill-opacity=\"1\" /><path clip-path=\"url(#clip430)\" d=\"M2287.56 1542.97 L2292.44 1542.97 L2292.44 1548.85 L2287.56 1548.85 L2287.56 1542.97 Z\" fill=\"#000000\" fill-rule=\"nonzero\" fill-opacity=\"1\" /><path clip-path=\"url(#clip430)\" d=\"M2312.63 1517.37 Q2309.01 1517.37 2307.19 1520.93 Q2305.38 1524.47 2305.38 1531.6 Q2305.38 1538.71 2307.19 1542.27 Q2309.01 1545.82 2312.63 1545.82 Q2316.26 1545.82 2318.06 1542.27 Q2319.89 1538.71 2319.89 1531.6 Q2319.89 1524.47 2318.06 1520.93 Q2316.26 1517.37 2312.63 1517.37 M2312.63 1513.66 Q2318.44 1513.66 2321.49 1518.27 Q2324.57 1522.85 2324.57 1531.6 Q2324.57 1540.33 2321.49 1544.94 Q2318.44 1549.52 2312.63 1549.52 Q2306.82 1549.52 2303.74 1544.94 Q2300.68 1540.33 2300.68 1531.6 Q2300.68 1522.85 2303.74 1518.27 Q2306.82 1513.66 2312.63 1513.66 Z\" fill=\"#000000\" fill-rule=\"nonzero\" fill-opacity=\"1\" /><polyline clip-path=\"url(#clip432)\" style=\"stroke:#000000; stroke-linecap:round; stroke-linejoin:round; stroke-width:2; stroke-opacity:0.1; fill:none\" points=\"141.853,1238.35 2352.76,1238.35 \"/>\n",
       "<polyline clip-path=\"url(#clip432)\" style=\"stroke:#000000; stroke-linecap:round; stroke-linejoin:round; stroke-width:2; stroke-opacity:0.1; fill:none\" points=\"141.853,980.419 2352.76,980.419 \"/>\n",
       "<polyline clip-path=\"url(#clip432)\" style=\"stroke:#000000; stroke-linecap:round; stroke-linejoin:round; stroke-width:2; stroke-opacity:0.1; fill:none\" points=\"141.853,722.492 2352.76,722.492 \"/>\n",
       "<polyline clip-path=\"url(#clip432)\" style=\"stroke:#000000; stroke-linecap:round; stroke-linejoin:round; stroke-width:2; stroke-opacity:0.1; fill:none\" points=\"141.853,464.566 2352.76,464.566 \"/>\n",
       "<polyline clip-path=\"url(#clip432)\" style=\"stroke:#000000; stroke-linecap:round; stroke-linejoin:round; stroke-width:2; stroke-opacity:0.1; fill:none\" points=\"141.853,206.639 2352.76,206.639 \"/>\n",
       "<polyline clip-path=\"url(#clip430)\" style=\"stroke:#000000; stroke-linecap:round; stroke-linejoin:round; stroke-width:4; stroke-opacity:1; fill:none\" points=\"141.853,1486.45 141.853,47.2441 \"/>\n",
       "<polyline clip-path=\"url(#clip430)\" style=\"stroke:#000000; stroke-linecap:round; stroke-linejoin:round; stroke-width:4; stroke-opacity:1; fill:none\" points=\"141.853,1238.35 160.751,1238.35 \"/>\n",
       "<polyline clip-path=\"url(#clip430)\" style=\"stroke:#000000; stroke-linecap:round; stroke-linejoin:round; stroke-width:4; stroke-opacity:1; fill:none\" points=\"141.853,980.419 160.751,980.419 \"/>\n",
       "<polyline clip-path=\"url(#clip430)\" style=\"stroke:#000000; stroke-linecap:round; stroke-linejoin:round; stroke-width:4; stroke-opacity:1; fill:none\" points=\"141.853,722.492 160.751,722.492 \"/>\n",
       "<polyline clip-path=\"url(#clip430)\" style=\"stroke:#000000; stroke-linecap:round; stroke-linejoin:round; stroke-width:4; stroke-opacity:1; fill:none\" points=\"141.853,464.566 160.751,464.566 \"/>\n",
       "<polyline clip-path=\"url(#clip430)\" style=\"stroke:#000000; stroke-linecap:round; stroke-linejoin:round; stroke-width:4; stroke-opacity:1; fill:none\" points=\"141.853,206.639 160.751,206.639 \"/>\n",
       "<path clip-path=\"url(#clip430)\" d=\"M54.5569 1251.69 L62.1958 1251.69 L62.1958 1225.33 L53.8856 1226.99 L53.8856 1222.73 L62.1495 1221.07 L66.8254 1221.07 L66.8254 1251.69 L74.4642 1251.69 L74.4642 1255.63 L54.5569 1255.63 L54.5569 1251.69 Z\" fill=\"#000000\" fill-rule=\"nonzero\" fill-opacity=\"1\" /><path clip-path=\"url(#clip430)\" d=\"M93.9086 1224.14 Q90.2975 1224.14 88.4688 1227.71 Q86.6632 1231.25 86.6632 1238.38 Q86.6632 1245.49 88.4688 1249.05 Q90.2975 1252.59 93.9086 1252.59 Q97.5428 1252.59 99.3483 1249.05 Q101.177 1245.49 101.177 1238.38 Q101.177 1231.25 99.3483 1227.71 Q97.5428 1224.14 93.9086 1224.14 M93.9086 1220.44 Q99.7187 1220.44 102.774 1225.05 Q105.853 1229.63 105.853 1238.38 Q105.853 1247.11 102.774 1251.71 Q99.7187 1256.3 93.9086 1256.3 Q88.0984 1256.3 85.0197 1251.71 Q81.9642 1247.11 81.9642 1238.38 Q81.9642 1229.63 85.0197 1225.05 Q88.0984 1220.44 93.9086 1220.44 Z\" fill=\"#000000\" fill-rule=\"nonzero\" fill-opacity=\"1\" /><path clip-path=\"url(#clip430)\" d=\"M57.7745 993.764 L74.0939 993.764 L74.0939 997.699 L52.1495 997.699 L52.1495 993.764 Q54.8115 991.009 59.3949 986.38 Q64.0013 981.727 65.1819 980.385 Q67.4272 977.861 68.3068 976.125 Q69.2096 974.366 69.2096 972.676 Q69.2096 969.922 67.2652 968.186 Q65.3439 966.449 62.2421 966.449 Q60.043 966.449 57.5893 967.213 Q55.1588 967.977 52.381 969.528 L52.381 964.806 Q55.2051 963.672 57.6588 963.093 Q60.1124 962.514 62.1495 962.514 Q67.5198 962.514 70.7142 965.199 Q73.9087 967.885 73.9087 972.375 Q73.9087 974.505 73.0985 976.426 Q72.3115 978.324 70.205 980.917 Q69.6263 981.588 66.5245 984.806 Q63.4226 988 57.7745 993.764 Z\" fill=\"#000000\" fill-rule=\"nonzero\" fill-opacity=\"1\" /><path clip-path=\"url(#clip430)\" d=\"M93.9086 966.218 Q90.2975 966.218 88.4688 969.783 Q86.6632 973.324 86.6632 980.454 Q86.6632 987.56 88.4688 991.125 Q90.2975 994.667 93.9086 994.667 Q97.5428 994.667 99.3483 991.125 Q101.177 987.56 101.177 980.454 Q101.177 973.324 99.3483 969.783 Q97.5428 966.218 93.9086 966.218 M93.9086 962.514 Q99.7187 962.514 102.774 967.121 Q105.853 971.704 105.853 980.454 Q105.853 989.181 102.774 993.787 Q99.7187 998.371 93.9086 998.371 Q88.0984 998.371 85.0197 993.787 Q81.9642 989.181 81.9642 980.454 Q81.9642 971.704 85.0197 967.121 Q88.0984 962.514 93.9086 962.514 Z\" fill=\"#000000\" fill-rule=\"nonzero\" fill-opacity=\"1\" /><path clip-path=\"url(#clip430)\" d=\"M67.9133 721.138 Q71.2698 721.856 73.1448 724.124 Q75.0429 726.393 75.0429 729.726 Q75.0429 734.842 71.5244 737.643 Q68.0059 740.444 61.5245 740.444 Q59.3486 740.444 57.0338 740.004 Q54.7421 739.587 52.2884 738.731 L52.2884 734.217 Q54.2328 735.351 56.5477 735.93 Q58.8625 736.509 61.3856 736.509 Q65.7837 736.509 68.0754 734.772 Q70.3902 733.036 70.3902 729.726 Q70.3902 726.671 68.2374 724.958 Q66.1078 723.222 62.2884 723.222 L58.2606 723.222 L58.2606 719.379 L62.4735 719.379 Q65.9226 719.379 67.7513 718.013 Q69.58 716.624 69.58 714.032 Q69.58 711.37 67.6819 709.958 Q65.8069 708.523 62.2884 708.523 Q60.3671 708.523 58.168 708.939 Q55.969 709.356 53.3301 710.236 L53.3301 706.069 Q55.9921 705.328 58.3069 704.958 Q60.6449 704.587 62.705 704.587 Q68.0291 704.587 71.1309 707.018 Q74.2327 709.425 74.2327 713.546 Q74.2327 716.416 72.5892 718.407 Q70.9457 720.374 67.9133 721.138 Z\" fill=\"#000000\" fill-rule=\"nonzero\" fill-opacity=\"1\" /><path clip-path=\"url(#clip430)\" d=\"M93.9086 708.291 Q90.2975 708.291 88.4688 711.856 Q86.6632 715.398 86.6632 722.527 Q86.6632 729.634 88.4688 733.198 Q90.2975 736.74 93.9086 736.74 Q97.5428 736.74 99.3483 733.198 Q101.177 729.634 101.177 722.527 Q101.177 715.398 99.3483 711.856 Q97.5428 708.291 93.9086 708.291 M93.9086 704.587 Q99.7187 704.587 102.774 709.194 Q105.853 713.777 105.853 722.527 Q105.853 731.254 102.774 735.86 Q99.7187 740.444 93.9086 740.444 Q88.0984 740.444 85.0197 735.86 Q81.9642 731.254 81.9642 722.527 Q81.9642 713.777 85.0197 709.194 Q88.0984 704.587 93.9086 704.587 Z\" fill=\"#000000\" fill-rule=\"nonzero\" fill-opacity=\"1\" /><path clip-path=\"url(#clip430)\" d=\"M66.5939 451.36 L54.7884 469.809 L66.5939 469.809 L66.5939 451.36 M65.367 447.286 L71.2466 447.286 L71.2466 469.809 L76.1772 469.809 L76.1772 473.698 L71.2466 473.698 L71.2466 481.846 L66.5939 481.846 L66.5939 473.698 L50.9921 473.698 L50.9921 469.184 L65.367 447.286 Z\" fill=\"#000000\" fill-rule=\"nonzero\" fill-opacity=\"1\" /><path clip-path=\"url(#clip430)\" d=\"M93.9086 450.364 Q90.2975 450.364 88.4688 453.929 Q86.6632 457.471 86.6632 464.6 Q86.6632 471.707 88.4688 475.272 Q90.2975 478.813 93.9086 478.813 Q97.5428 478.813 99.3483 475.272 Q101.177 471.707 101.177 464.6 Q101.177 457.471 99.3483 453.929 Q97.5428 450.364 93.9086 450.364 M93.9086 446.661 Q99.7187 446.661 102.774 451.267 Q105.853 455.85 105.853 464.6 Q105.853 473.327 102.774 477.934 Q99.7187 482.517 93.9086 482.517 Q88.0984 482.517 85.0197 477.934 Q81.9642 473.327 81.9642 464.6 Q81.9642 455.85 85.0197 451.267 Q88.0984 446.661 93.9086 446.661 Z\" fill=\"#000000\" fill-rule=\"nonzero\" fill-opacity=\"1\" /><path clip-path=\"url(#clip430)\" d=\"M53.793 189.359 L72.1494 189.359 L72.1494 193.294 L58.0754 193.294 L58.0754 201.766 Q59.0939 201.419 60.1124 201.257 Q61.131 201.072 62.1495 201.072 Q67.9365 201.072 71.3161 204.243 Q74.6957 207.414 74.6957 212.831 Q74.6957 218.41 71.2235 221.511 Q67.7513 224.59 61.4319 224.59 Q59.256 224.59 56.9875 224.22 Q54.7421 223.849 52.3347 223.109 L52.3347 218.41 Q54.418 219.544 56.6402 220.099 Q58.8625 220.655 61.3393 220.655 Q65.3439 220.655 67.6819 218.548 Q70.0198 216.442 70.0198 212.831 Q70.0198 209.22 67.6819 207.113 Q65.3439 205.007 61.3393 205.007 Q59.4643 205.007 57.5893 205.424 Q55.7375 205.84 53.793 206.72 L53.793 189.359 Z\" fill=\"#000000\" fill-rule=\"nonzero\" fill-opacity=\"1\" /><path clip-path=\"url(#clip430)\" d=\"M93.9086 192.438 Q90.2975 192.438 88.4688 196.002 Q86.6632 199.544 86.6632 206.674 Q86.6632 213.78 88.4688 217.345 Q90.2975 220.886 93.9086 220.886 Q97.5428 220.886 99.3483 217.345 Q101.177 213.78 101.177 206.674 Q101.177 199.544 99.3483 196.002 Q97.5428 192.438 93.9086 192.438 M93.9086 188.734 Q99.7187 188.734 102.774 193.34 Q105.853 197.924 105.853 206.674 Q105.853 215.4 102.774 220.007 Q99.7187 224.59 93.9086 224.59 Q88.0984 224.59 85.0197 220.007 Q81.9642 215.4 81.9642 206.674 Q81.9642 197.924 85.0197 193.34 Q88.0984 188.734 93.9086 188.734 Z\" fill=\"#000000\" fill-rule=\"nonzero\" fill-opacity=\"1\" /><polyline clip-path=\"url(#clip432)\" style=\"stroke:#009af9; stroke-linecap:round; stroke-linejoin:round; stroke-width:4; stroke-opacity:1; fill:none\" points=\"204.426,1444.69 206.514,1444.74 208.601,1444.79 210.689,1444.84 212.777,1444.88 214.865,1444.93 216.953,1444.97 219.041,1445.02 221.128,1445.06 223.216,1445.1 225.304,1445.14 227.392,1445.18 229.48,1445.21 231.568,1445.25 233.656,1445.28 235.743,1445.31 237.831,1445.34 239.919,1445.37 242.007,1445.4 244.095,1445.43 246.183,1445.46 248.27,1445.48 250.358,1445.5 252.446,1445.53 254.534,1445.55 256.622,1445.57 258.71,1445.59 260.797,1445.6 262.885,1445.62 264.973,1445.63 267.061,1445.65 269.149,1445.66 271.237,1445.67 273.325,1445.68 275.412,1445.69 277.5,1445.7 279.588,1445.7 281.676,1445.71 283.764,1445.71 285.852,1445.71 287.939,1445.72 290.027,1445.72 292.115,1445.71 294.203,1445.71 296.291,1445.71 298.379,1445.7 300.467,1445.7 302.554,1445.69 304.642,1445.68 306.73,1445.67 308.818,1445.66 310.906,1445.65 312.994,1445.64 315.081,1445.62 317.169,1445.61 319.257,1445.59 321.345,1445.57 323.433,1445.55 325.521,1445.53 327.609,1445.51 329.696,1445.49 331.784,1445.46 333.872,1445.44 335.96,1445.41 338.048,1445.39 340.136,1445.36 342.223,1445.33 344.311,1445.3 346.399,1445.26 348.487,1445.23 350.575,1445.2 352.663,1445.16 354.751,1445.12 356.838,1445.09 358.926,1445.05 361.014,1445.01 363.102,1444.97 365.19,1444.92 367.278,1444.88 369.365,1444.84 371.453,1444.79 373.541,1444.74 375.629,1444.69 377.717,1444.64 379.805,1444.59 381.893,1444.54 383.98,1444.49 386.068,1444.44 388.156,1444.38 390.244,1444.32 392.332,1444.27 394.42,1444.21 396.507,1444.15 398.595,1444.09 400.683,1444.03 402.771,1443.96 404.859,1443.9 406.947,1443.83 409.035,1443.77 411.122,1443.7 413.21,1443.63 415.298,1443.56 417.386,1443.49 419.474,1443.42 421.562,1443.35 423.649,1443.27 425.737,1443.2 427.825,1443.12 429.913,1443.04 432.001,1442.96 434.089,1442.88 436.177,1442.8 438.264,1442.72 440.352,1442.64 442.44,1442.55 444.528,1442.47 446.616,1442.38 448.704,1442.29 450.791,1442.21 452.879,1442.12 454.967,1442.02 457.055,1441.93 459.143,1441.84 461.231,1441.74 463.318,1441.65 465.406,1441.55 467.494,1441.45 469.582,1441.36 471.67,1441.26 473.758,1441.15 475.846,1441.05 477.933,1440.95 480.021,1440.84 482.109,1440.74 484.197,1440.63 486.285,1440.52 488.373,1440.41 490.46,1440.3 492.548,1440.19 494.636,1440.08 496.724,1439.97 498.812,1439.85 500.9,1439.74 502.988,1439.62 505.075,1439.5 507.163,1439.38 509.251,1439.26 511.339,1439.14 513.427,1439.02 515.515,1438.9 517.602,1438.77 519.69,1438.64 521.778,1438.52 523.866,1438.39 525.954,1438.26 528.042,1438.13 530.13,1438 532.217,1437.86 534.305,1437.73 536.393,1437.6 538.481,1437.46 540.569,1437.32 542.657,1437.18 544.744,1437.04 546.832,1436.9 548.92,1436.76 551.008,1436.62 553.096,1436.47 555.184,1436.33 557.272,1436.18 559.359,1436.04 561.447,1435.89 563.535,1435.74 565.623,1435.59 567.711,1435.43 569.799,1435.28 571.886,1435.13 573.974,1434.97 576.062,1434.81 578.15,1434.65 580.238,1434.5 582.326,1434.34 584.414,1434.17 586.501,1434.01 588.589,1433.85 590.677,1433.68 592.765,1433.52 594.853,1433.35 596.941,1433.18 599.028,1433.01 601.116,1432.84 603.204,1432.67 605.292,1432.49 607.38,1432.32 609.468,1432.14 611.556,1431.97 613.643,1431.79 615.731,1431.61 617.819,1431.43 619.907,1431.25 621.995,1431.06 624.083,1430.88 626.17,1430.7 628.258,1430.51 630.346,1430.32 632.434,1430.13 634.522,1429.94 636.61,1429.75 638.698,1429.56 640.785,1429.37 642.873,1429.17 644.961,1428.97 647.049,1428.78 649.137,1428.58 651.225,1428.38 653.312,1428.18 655.4,1427.98 657.488,1427.77 659.576,1427.57 661.664,1427.36 663.752,1427.15 665.839,1426.94 667.927,1426.74 670.015,1426.52 672.103,1426.31 674.191,1426.1 676.279,1425.88 678.367,1425.67 680.454,1425.45 682.542,1425.23 684.63,1425.01 686.718,1424.79 688.806,1424.57 690.894,1424.34 692.981,1424.12 695.069,1423.89 697.157,1423.67 699.245,1423.44 701.333,1423.21 703.421,1422.98 705.509,1422.74 707.596,1422.51 709.684,1422.27 711.772,1422.04 713.86,1421.8 715.948,1421.56 718.036,1421.32 720.123,1421.08 722.211,1420.83 724.299,1420.59 726.387,1420.34 728.475,1420.1 730.563,1419.85 732.651,1419.6 734.738,1419.35 736.826,1419.1 738.914,1418.84 741.002,1418.59 743.09,1418.33 745.178,1418.07 747.265,1417.81 749.353,1417.55 751.441,1417.29 753.529,1417.03 755.617,1416.76 757.705,1416.5 759.793,1416.23 761.88,1415.96 763.968,1415.69 766.056,1415.42 768.144,1415.14 770.232,1414.87 772.32,1414.59 774.407,1414.32 776.495,1414.04 778.583,1413.76 780.671,1413.48 782.759,1413.19 784.847,1412.91 786.935,1412.62 789.022,1412.33 791.11,1412.05 793.198,1411.76 795.286,1411.46 797.374,1411.17 799.462,1410.88 801.549,1410.58 803.637,1410.28 805.725,1409.98 807.813,1409.68 809.901,1409.38 811.989,1409.08 814.077,1408.77 816.164,1408.47 818.252,1408.16 820.34,1407.85 822.428,1407.54 824.516,1407.23 826.604,1406.91 828.691,1406.6 830.779,1406.28 832.867,1405.96 834.955,1405.64 837.043,1405.32 839.131,1405 841.219,1404.67 843.306,1404.35 845.394,1404.02 847.482,1403.69 849.57,1403.36 851.658,1403.02 853.746,1402.69 855.833,1402.36 857.921,1402.02 860.009,1401.68 862.097,1401.34 864.185,1401 866.273,1400.65 868.36,1400.31 870.448,1399.96 872.536,1399.61 874.624,1399.26 876.712,1398.91 878.8,1398.56 880.888,1398.2 882.975,1397.85 885.063,1397.49 887.151,1397.13 889.239,1396.77 891.327,1396.4 893.415,1396.04 895.502,1395.67 897.59,1395.3 899.678,1394.93 901.766,1394.56 903.854,1394.19 905.942,1393.81 908.03,1393.44 910.117,1393.06 912.205,1392.68 914.293,1392.3 916.381,1391.91 918.469,1391.53 920.557,1391.14 922.644,1390.75 924.732,1390.36 926.82,1389.97 928.908,1389.57 930.996,1389.18 933.084,1388.78 935.172,1388.38 937.259,1387.98 939.347,1387.58 941.435,1387.17 943.523,1386.76 945.611,1386.36 947.699,1385.94 949.786,1385.53 951.874,1385.12 953.962,1384.7 956.05,1384.28 958.138,1383.87 960.226,1383.44 962.314,1383.02 964.401,1382.6 966.489,1382.17 968.577,1381.74 970.665,1381.31 972.753,1380.88 974.841,1380.44 976.928,1380 979.016,1379.57 981.104,1379.12 983.192,1378.68 985.28,1378.24 987.368,1377.79 989.456,1377.34 991.543,1376.89 993.631,1376.44 995.719,1375.99 997.807,1375.53 999.895,1375.07 1001.98,1374.61 1004.07,1374.15 1006.16,1373.69 1008.25,1373.22 1010.33,1372.75 1012.42,1372.28 1014.51,1371.81 1016.6,1371.34 1018.69,1370.86 1020.77,1370.38 1022.86,1369.9 1024.95,1369.42 1027.04,1368.93 1029.12,1368.45 1031.21,1367.96 1033.3,1367.47 1035.39,1366.97 1037.48,1366.48 1039.56,1365.98 1041.65,1365.48 1043.74,1364.98 1045.83,1364.48 1047.92,1363.97 1050,1363.46 1052.09,1362.95 1054.18,1362.44 1056.27,1361.93 1058.35,1361.41 1060.44,1360.89 1062.53,1360.37 1064.62,1359.85 1066.71,1359.32 1068.79,1358.79 1070.88,1358.26 1072.97,1357.73 1075.06,1357.2 1077.15,1356.66 1079.23,1356.12 1081.32,1355.58 1083.41,1355.03 1085.5,1354.49 1087.58,1353.94 1089.67,1353.39 1091.76,1352.84 1093.85,1352.28 1095.94,1351.72 1098.02,1351.16 1100.11,1350.6 1102.2,1350.04 1104.29,1349.47 1106.37,1348.9 1108.46,1348.33 1110.55,1347.75 1112.64,1347.18 1114.73,1346.6 1116.81,1346.01 1118.9,1345.43 1120.99,1344.84 1123.08,1344.25 1125.17,1343.66 1127.25,1343.07 1129.34,1342.47 1131.43,1341.87 1133.52,1341.27 1135.6,1340.67 1137.69,1340.06 1139.78,1339.45 1141.87,1338.84 1143.96,1338.23 1146.04,1337.61 1148.13,1336.99 1150.22,1336.37 1152.31,1335.74 1154.4,1335.12 1156.48,1334.49 1158.57,1333.85 1160.66,1333.22 1162.75,1332.58 1164.83,1331.94 1166.92,1331.3 1169.01,1330.65 1171.1,1330 1173.19,1329.35 1175.27,1328.7 1177.36,1328.04 1179.45,1327.38 1181.54,1326.72 1183.63,1326.06 1185.71,1325.39 1187.8,1324.72 1189.89,1324.05 1191.98,1323.37 1194.06,1322.69 1196.15,1322.01 1198.24,1321.33 1200.33,1320.64 1202.42,1319.95 1204.5,1319.26 1206.59,1318.56 1208.68,1317.86 1210.77,1317.16 1212.85,1316.46 1214.94,1315.75 1217.03,1315.04 1219.12,1314.33 1221.21,1313.61 1223.29,1312.89 1225.38,1312.17 1227.47,1311.44 1229.56,1310.72 1231.65,1309.98 1233.73,1309.25 1235.82,1308.51 1237.91,1307.77 1240,1307.03 1242.08,1306.28 1244.17,1305.53 1246.26,1304.78 1248.35,1304.03 1250.44,1303.27 1252.52,1302.51 1254.61,1301.74 1256.7,1300.97 1258.79,1300.2 1260.88,1299.43 1262.96,1298.65 1265.05,1297.87 1267.14,1297.09 1269.23,1296.3 1271.31,1295.51 1273.4,1294.72 1275.49,1293.92 1277.58,1293.12 1279.67,1292.32 1281.75,1291.51 1283.84,1290.7 1285.93,1289.89 1288.02,1289.07 1290.11,1288.25 1292.19,1287.43 1294.28,1286.6 1296.37,1285.77 1298.46,1284.94 1300.54,1284.1 1302.63,1283.26 1304.72,1282.42 1306.81,1281.57 1308.9,1280.72 1310.98,1279.86 1313.07,1279.01 1315.16,1278.15 1317.25,1277.28 1319.34,1276.41 1321.42,1275.54 1323.51,1274.67 1325.6,1273.79 1327.69,1272.91 1329.77,1272.02 1331.86,1271.13 1333.95,1270.24 1336.04,1269.34 1338.13,1268.44 1340.21,1267.54 1342.3,1266.63 1344.39,1265.72 1346.48,1264.8 1348.56,1263.88 1350.65,1262.96 1352.74,1262.03 1354.83,1261.1 1356.92,1260.17 1359,1259.23 1361.09,1258.29 1363.18,1257.34 1365.27,1256.39 1367.36,1255.44 1369.44,1254.48 1371.53,1253.52 1373.62,1252.56 1375.71,1251.59 1377.79,1250.62 1379.88,1249.64 1381.97,1248.66 1384.06,1247.67 1386.15,1246.68 1388.23,1245.69 1390.32,1244.69 1392.41,1243.69 1394.5,1242.69 1396.59,1241.68 1398.67,1240.67 1400.76,1239.65 1402.85,1238.63 1404.94,1237.6 1407.02,1236.57 1409.11,1235.54 1411.2,1234.5 1413.29,1233.46 1415.38,1232.41 1417.46,1231.36 1419.55,1230.31 1421.64,1229.25 1423.73,1228.18 1425.82,1227.12 1427.9,1226.04 1429.99,1224.97 1432.08,1223.89 1434.17,1222.8 1436.25,1221.71 1438.34,1220.62 1440.43,1219.52 1442.52,1218.42 1444.61,1217.31 1446.69,1216.2 1448.78,1215.08 1450.87,1213.96 1452.96,1212.83 1455.05,1211.7 1457.13,1210.57 1459.22,1209.43 1461.31,1208.29 1463.4,1207.14 1465.48,1205.98 1467.57,1204.83 1469.66,1203.66 1471.75,1202.5 1473.84,1201.33 1475.92,1200.15 1478.01,1198.97 1480.1,1197.78 1482.19,1196.59 1484.27,1195.39 1486.36,1194.19 1488.45,1192.99 1490.54,1191.78 1492.63,1190.56 1494.71,1189.34 1496.8,1188.12 1498.89,1186.89 1500.98,1185.65 1503.07,1184.41 1505.15,1183.17 1507.24,1181.92 1509.33,1180.66 1511.42,1179.4 1513.5,1178.14 1515.59,1176.87 1517.68,1175.59 1519.77,1174.31 1521.86,1173.02 1523.94,1171.73 1526.03,1170.44 1528.12,1169.14 1530.21,1167.83 1532.3,1166.52 1534.38,1165.2 1536.47,1163.88 1538.56,1162.55 1540.65,1161.22 1542.73,1159.88 1544.82,1158.53 1546.91,1157.18 1549,1155.83 1551.09,1154.47 1553.17,1153.1 1555.26,1151.73 1557.35,1150.35 1559.44,1148.97 1561.53,1147.58 1563.61,1146.19 1565.7,1144.79 1567.79,1143.38 1569.88,1141.97 1571.96,1140.56 1574.05,1139.13 1576.14,1137.71 1578.23,1136.27 1580.32,1134.83 1582.4,1133.39 1584.49,1131.94 1586.58,1130.48 1588.67,1129.02 1590.75,1127.55 1592.84,1126.08 1594.93,1124.59 1597.02,1123.11 1599.11,1121.62 1601.19,1120.12 1603.28,1118.61 1605.37,1117.1 1607.46,1115.59 1609.55,1114.06 1611.63,1112.53 1613.72,1111 1615.81,1109.46 1617.9,1107.91 1619.98,1106.36 1622.07,1104.8 1624.16,1103.23 1626.25,1101.66 1628.34,1100.08 1630.42,1098.49 1632.51,1096.9 1634.6,1095.3 1636.69,1093.7 1638.78,1092.09 1640.86,1090.47 1642.95,1088.85 1645.04,1087.22 1647.13,1085.58 1649.21,1083.94 1651.3,1082.29 1653.39,1080.63 1655.48,1078.96 1657.57,1077.29 1659.65,1075.62 1661.74,1073.93 1663.83,1072.24 1665.92,1070.55 1668.01,1068.84 1670.09,1067.13 1672.18,1065.41 1674.27,1063.69 1676.36,1061.96 1678.44,1060.22 1680.53,1058.47 1682.62,1056.72 1684.71,1054.96 1686.8,1053.19 1688.88,1051.42 1690.97,1049.64 1693.06,1047.85 1695.15,1046.05 1697.24,1044.25 1699.32,1042.44 1701.41,1040.62 1703.5,1038.8 1705.59,1036.97 1707.67,1035.13 1709.76,1033.28 1711.85,1031.43 1713.94,1029.56 1716.03,1027.7 1718.11,1025.82 1720.2,1023.93 1722.29,1022.04 1724.38,1020.14 1726.46,1018.24 1728.55,1016.32 1730.64,1014.4 1732.73,1012.47 1734.82,1010.53 1736.9,1008.59 1738.99,1006.63 1741.08,1004.67 1743.17,1002.7 1745.26,1000.72 1747.34,998.74 1749.43,996.747 1751.52,994.746 1753.61,992.737 1755.69,990.719 1757.78,988.694 1759.87,986.661 1761.96,984.619 1764.05,982.569 1766.13,980.511 1768.22,978.445 1770.31,976.37 1772.4,974.287 1774.49,972.196 1776.57,970.096 1778.66,967.987 1780.75,965.871 1782.84,963.746 1784.92,961.612 1787.01,959.469 1789.1,957.318 1791.19,955.159 1793.28,952.991 1795.36,950.814 1797.45,948.628 1799.54,946.433 1801.63,944.23 1803.72,942.018 1805.8,939.797 1807.89,937.567 1809.98,935.328 1812.07,933.08 1814.15,930.823 1816.24,928.557 1818.33,926.281 1820.42,923.997 1822.51,921.704 1824.59,919.401 1826.68,917.089 1828.77,914.768 1830.86,912.437 1832.95,910.097 1835.03,907.748 1837.12,905.389 1839.21,903.02 1841.3,900.643 1843.38,898.255 1845.47,895.858 1847.56,893.452 1849.65,891.036 1851.74,888.61 1853.82,886.174 1855.91,883.728 1858,881.273 1860.09,878.808 1862.17,876.333 1864.26,873.848 1866.35,871.353 1868.44,868.848 1870.53,866.333 1872.61,863.807 1874.7,861.272 1876.79,858.727 1878.88,856.171 1880.97,853.605 1883.05,851.028 1885.14,848.442 1887.23,845.845 1889.32,843.237 1891.4,840.619 1893.49,837.991 1895.58,835.352 1897.67,832.702 1899.76,830.042 1901.84,827.371 1903.93,824.689 1906.02,821.997 1908.11,819.293 1910.2,816.579 1912.28,813.854 1914.37,811.118 1916.46,808.371 1918.55,805.613 1920.63,802.844 1922.72,800.064 1924.81,797.272 1926.9,794.47 1928.99,791.656 1931.07,788.831 1933.16,785.994 1935.25,783.147 1937.34,780.287 1939.43,777.416 1941.51,774.534 1943.6,771.64 1945.69,768.735 1947.78,765.818 1949.86,762.889 1951.95,759.948 1954.04,756.995 1956.13,754.031 1958.22,751.055 1960.3,748.067 1962.39,745.067 1964.48,742.054 1966.57,739.03 1968.65,735.994 1970.74,732.945 1972.83,729.884 1974.92,726.811 1977.01,723.725 1979.09,720.627 1981.18,717.517 1983.27,714.394 1985.36,711.259 1987.45,708.111 1989.53,704.95 1991.62,701.777 1993.71,698.591 1995.8,695.392 1997.88,692.18 1999.97,688.956 2002.06,685.718 2004.15,682.468 2006.24,679.204 2008.32,675.928 2010.41,672.638 2012.5,669.335 2014.59,666.019 2016.68,662.689 2018.76,659.346 2020.85,655.99 2022.94,652.62 2025.03,649.236 2027.11,645.839 2029.2,642.429 2031.29,639.005 2033.38,635.567 2035.47,632.115 2037.55,628.649 2039.64,625.169 2041.73,621.676 2043.82,618.168 2045.91,614.646 2047.99,611.111 2050.08,607.561 2052.17,603.996 2054.26,600.418 2056.34,596.825 2058.43,593.218 2060.52,589.596 2062.61,585.959 2064.7,582.308 2066.78,578.643 2068.87,574.962 2070.96,571.267 2073.05,567.557 2075.14,563.832 2077.22,560.093 2079.31,556.338 2081.4,552.568 2083.49,548.783 2085.57,544.983 2087.66,541.167 2089.75,537.337 2091.84,533.49 2093.93,529.629 2096.01,525.752 2098.1,521.859 2100.19,517.951 2102.28,514.027 2104.36,510.087 2106.45,506.132 2108.54,502.16 2110.63,498.173 2112.72,494.17 2114.8,490.15 2116.89,486.115 2118.98,482.063 2121.07,477.995 2123.16,473.911 2125.24,469.81 2127.33,465.693 2129.42,461.559 2131.51,457.409 2133.59,453.242 2135.68,449.058 2137.77,444.858 2139.86,440.64 2141.95,436.406 2144.03,432.155 2146.12,427.887 2148.21,423.601 2150.3,419.298 2152.39,414.979 2154.47,410.641 2156.56,406.287 2158.65,401.915 2160.74,397.525 2162.82,393.118 2164.91,388.693 2167,384.25 2169.09,379.789 2171.18,375.311 2173.26,370.814 2175.35,366.3 2177.44,361.767 2179.53,357.217 2181.62,352.648 2183.7,348.06 2185.79,343.454 2187.88,338.83 2189.97,334.187 2192.05,329.526 2194.14,324.846 2196.23,320.147 2198.32,315.429 2200.41,310.692 2202.49,305.936 2204.58,301.162 2206.67,296.367 2208.76,291.554 2210.85,286.722 2212.93,281.87 2215.02,276.998 2217.11,272.107 2219.2,267.197 2221.28,262.266 2223.37,257.316 2225.46,252.346 2227.55,247.356 2229.64,242.347 2231.72,237.317 2233.81,232.266 2235.9,227.196 2237.99,222.105 2240.07,216.994 2242.16,211.862 2244.25,206.71 2246.34,201.537 2248.43,196.343 2250.51,191.128 2252.6,185.893 2254.69,180.636 2256.78,175.358 2258.87,170.059 2260.95,164.739 2263.04,159.398 2265.13,154.035 2267.22,148.651 2269.3,143.245 2271.39,137.817 2273.48,132.367 2275.57,126.896 2277.66,121.403 2279.74,115.887 2281.83,110.35 2283.92,104.79 2286.01,99.2081 2288.1,93.6037 2290.18,87.9768 \"/>\n",
       "<polyline clip-path=\"url(#clip432)\" style=\"stroke:#e26f46; stroke-linecap:round; stroke-linejoin:round; stroke-width:4; stroke-opacity:1; fill:none\" points=\"204.426,1444.69 206.514,1444.74 208.601,1444.79 210.689,1444.84 212.777,1444.88 214.865,1444.93 216.953,1444.97 219.041,1445.02 221.128,1445.06 223.216,1445.1 225.304,1445.14 227.392,1445.18 229.48,1445.21 231.568,1445.25 233.656,1445.28 235.743,1445.31 237.831,1445.34 239.919,1445.37 242.007,1445.4 244.095,1445.43 246.183,1445.46 248.27,1445.48 250.358,1445.5 252.446,1445.53 254.534,1445.55 256.622,1445.57 258.71,1445.59 260.797,1445.6 262.885,1445.62 264.973,1445.63 267.061,1445.65 269.149,1445.66 271.237,1445.67 273.325,1445.68 275.412,1445.69 277.5,1445.7 279.588,1445.7 281.676,1445.71 283.764,1445.71 285.852,1445.71 287.939,1445.72 290.027,1445.72 292.115,1445.71 294.203,1445.71 296.291,1445.71 298.379,1445.7 300.467,1445.7 302.554,1445.69 304.642,1445.68 306.73,1445.67 308.818,1445.66 310.906,1445.65 312.994,1445.64 315.081,1445.62 317.169,1445.61 319.257,1445.59 321.345,1445.57 323.433,1445.55 325.521,1445.53 327.609,1445.51 329.696,1445.49 331.784,1445.46 333.872,1445.44 335.96,1445.41 338.048,1445.39 340.136,1445.36 342.223,1445.33 344.311,1445.3 346.399,1445.26 348.487,1445.23 350.575,1445.2 352.663,1445.16 354.751,1445.12 356.838,1445.09 358.926,1445.05 361.014,1445.01 363.102,1444.97 365.19,1444.92 367.278,1444.88 369.365,1444.84 371.453,1444.79 373.541,1444.74 375.629,1444.69 377.717,1444.64 379.805,1444.59 381.893,1444.54 383.98,1444.49 386.068,1444.44 388.156,1444.38 390.244,1444.32 392.332,1444.27 394.42,1444.21 396.507,1444.15 398.595,1444.09 400.683,1444.03 402.771,1443.96 404.859,1443.9 406.947,1443.83 409.035,1443.77 411.122,1443.7 413.21,1443.63 415.298,1443.56 417.386,1443.49 419.474,1443.42 421.562,1443.35 423.649,1443.27 425.737,1443.2 427.825,1443.12 429.913,1443.04 432.001,1442.96 434.089,1442.88 436.177,1442.8 438.264,1442.72 440.352,1442.64 442.44,1442.55 444.528,1442.47 446.616,1442.38 448.704,1442.29 450.791,1442.21 452.879,1442.12 454.967,1442.02 457.055,1441.93 459.143,1441.84 461.231,1441.74 463.318,1441.65 465.406,1441.55 467.494,1441.45 469.582,1441.36 471.67,1441.26 473.758,1441.15 475.846,1441.05 477.933,1440.95 480.021,1440.84 482.109,1440.74 484.197,1440.63 486.285,1440.52 488.373,1440.41 490.46,1440.3 492.548,1440.19 494.636,1440.08 496.724,1439.97 498.812,1439.85 500.9,1439.74 502.988,1439.62 505.075,1439.5 507.163,1439.38 509.251,1439.26 511.339,1439.14 513.427,1439.02 515.515,1438.9 517.602,1438.77 519.69,1438.64 521.778,1438.52 523.866,1438.39 525.954,1438.26 528.042,1438.13 530.13,1438 532.217,1437.86 534.305,1437.73 536.393,1437.6 538.481,1437.46 540.569,1437.32 542.657,1437.18 544.744,1437.04 546.832,1436.9 548.92,1436.76 551.008,1436.62 553.096,1436.47 555.184,1436.33 557.272,1436.18 559.359,1436.04 561.447,1435.89 563.535,1435.74 565.623,1435.59 567.711,1435.43 569.799,1435.28 571.886,1435.13 573.974,1434.97 576.062,1434.81 578.15,1434.65 580.238,1434.5 582.326,1434.34 584.414,1434.17 586.501,1434.01 588.589,1433.85 590.677,1433.68 592.765,1433.52 594.853,1433.35 596.941,1433.18 599.028,1433.01 601.116,1432.84 603.204,1432.67 605.292,1432.49 607.38,1432.32 609.468,1432.14 611.556,1431.97 613.643,1431.79 615.731,1431.61 617.819,1431.43 619.907,1431.25 621.995,1431.06 624.083,1430.88 626.17,1430.7 628.258,1430.51 630.346,1430.32 632.434,1430.13 634.522,1429.94 636.61,1429.75 638.698,1429.56 640.785,1429.37 642.873,1429.17 644.961,1428.97 647.049,1428.78 649.137,1428.58 651.225,1428.38 653.312,1428.18 655.4,1427.98 657.488,1427.77 659.576,1427.57 661.664,1427.36 663.752,1427.15 665.839,1426.94 667.927,1426.74 670.015,1426.52 672.103,1426.31 674.191,1426.1 676.279,1425.88 678.367,1425.67 680.454,1425.45 682.542,1425.23 684.63,1425.01 686.718,1424.79 688.806,1424.57 690.894,1424.34 692.981,1424.12 695.069,1423.89 697.157,1423.67 699.245,1423.44 701.333,1423.21 703.421,1422.98 705.509,1422.74 707.596,1422.51 709.684,1422.27 711.772,1422.04 713.86,1421.8 715.948,1421.56 718.036,1421.32 720.123,1421.08 722.211,1420.83 724.299,1420.59 726.387,1420.34 728.475,1420.1 730.563,1419.85 732.651,1419.6 734.738,1419.35 736.826,1419.1 738.914,1418.84 741.002,1418.59 743.09,1418.33 745.178,1418.07 747.265,1417.81 749.353,1417.55 751.441,1417.29 753.529,1417.03 755.617,1416.76 757.705,1416.5 759.793,1416.23 761.88,1415.96 763.968,1415.69 766.056,1415.42 768.144,1415.14 770.232,1414.87 772.32,1414.59 774.407,1414.32 776.495,1414.04 778.583,1413.76 780.671,1413.48 782.759,1413.19 784.847,1412.91 786.935,1412.62 789.022,1412.33 791.11,1412.05 793.198,1411.76 795.286,1411.46 797.374,1411.17 799.462,1410.88 801.549,1410.58 803.637,1410.28 805.725,1409.98 807.813,1409.68 809.901,1409.38 811.989,1409.08 814.077,1408.77 816.164,1408.47 818.252,1408.16 820.34,1407.85 822.428,1407.54 824.516,1407.23 826.604,1406.91 828.691,1406.6 830.779,1406.28 832.867,1405.96 834.955,1405.64 837.043,1405.32 839.131,1405 841.219,1404.67 843.306,1404.35 845.394,1404.02 847.482,1403.69 849.57,1403.36 851.658,1403.02 853.746,1402.69 855.833,1402.36 857.921,1402.02 860.009,1401.68 862.097,1401.34 864.185,1401 866.273,1400.65 868.36,1400.31 870.448,1399.96 872.536,1399.61 874.624,1399.26 876.712,1398.91 878.8,1398.56 880.888,1398.2 882.975,1397.85 885.063,1397.49 887.151,1397.13 889.239,1396.77 891.327,1396.4 893.415,1396.04 895.502,1395.67 897.59,1395.3 899.678,1394.93 901.766,1394.56 903.854,1394.19 905.942,1393.81 908.03,1393.44 910.117,1393.06 912.205,1392.68 914.293,1392.3 916.381,1391.91 918.469,1391.53 920.557,1391.14 922.644,1390.75 924.732,1390.36 926.82,1389.97 928.908,1389.57 930.996,1389.18 933.084,1388.78 935.172,1388.38 937.259,1387.98 939.347,1387.58 941.435,1387.17 943.523,1386.76 945.611,1386.36 947.699,1385.94 949.786,1385.53 951.874,1385.12 953.962,1384.7 956.05,1384.28 958.138,1383.87 960.226,1383.44 962.314,1383.02 964.401,1382.6 966.489,1382.17 968.577,1381.74 970.665,1381.31 972.753,1380.88 974.841,1380.44 976.928,1380 979.016,1379.57 981.104,1379.12 983.192,1378.68 985.28,1378.24 987.368,1377.79 989.456,1377.34 991.543,1376.89 993.631,1376.44 995.719,1375.99 997.807,1375.53 999.895,1375.07 1001.98,1374.61 1004.07,1374.15 1006.16,1373.69 1008.25,1373.22 1010.33,1372.75 1012.42,1372.28 1014.51,1371.81 1016.6,1371.34 1018.69,1370.86 1020.77,1370.38 1022.86,1369.9 1024.95,1369.42 1027.04,1368.93 1029.12,1368.45 1031.21,1367.96 1033.3,1367.47 1035.39,1366.97 1037.48,1366.48 1039.56,1365.98 1041.65,1365.48 1043.74,1364.98 1045.83,1364.48 1047.92,1363.97 1050,1363.46 1052.09,1362.95 1054.18,1362.44 1056.27,1361.93 1058.35,1361.41 1060.44,1360.89 1062.53,1360.37 1064.62,1359.85 1066.71,1359.32 1068.79,1358.79 1070.88,1358.26 1072.97,1357.73 1075.06,1357.2 1077.15,1356.66 1079.23,1356.12 1081.32,1355.58 1083.41,1355.03 1085.5,1354.49 1087.58,1353.94 1089.67,1353.39 1091.76,1352.84 1093.85,1352.28 1095.94,1351.72 1098.02,1351.16 1100.11,1350.6 1102.2,1350.04 1104.29,1349.47 1106.37,1348.9 1108.46,1348.33 1110.55,1347.75 1112.64,1347.18 1114.73,1346.6 1116.81,1346.01 1118.9,1345.43 1120.99,1344.84 1123.08,1344.25 1125.17,1343.66 1127.25,1343.07 1129.34,1342.47 1131.43,1341.87 1133.52,1341.27 1135.6,1340.67 1137.69,1340.06 1139.78,1339.45 1141.87,1338.84 1143.96,1338.23 1146.04,1337.61 1148.13,1336.99 1150.22,1336.37 1152.31,1335.74 1154.4,1335.12 1156.48,1334.49 1158.57,1333.85 1160.66,1333.22 1162.75,1332.58 1164.83,1331.94 1166.92,1331.3 1169.01,1330.65 1171.1,1330 1173.19,1329.35 1175.27,1328.7 1177.36,1328.04 1179.45,1327.38 1181.54,1326.72 1183.63,1326.06 1185.71,1325.39 1187.8,1324.72 1189.89,1324.05 1191.98,1323.37 1194.06,1322.69 1196.15,1322.01 1198.24,1321.33 1200.33,1320.64 1202.42,1319.95 1204.5,1319.26 1206.59,1318.56 1208.68,1317.86 1210.77,1317.16 1212.85,1316.46 1214.94,1315.75 1217.03,1315.04 1219.12,1314.33 1221.21,1313.61 1223.29,1312.89 1225.38,1312.17 1227.47,1311.44 1229.56,1310.72 1231.65,1309.98 1233.73,1309.25 1235.82,1308.51 1237.91,1307.77 1240,1307.03 1242.08,1306.28 1244.17,1305.53 1246.26,1304.78 1248.35,1304.03 1250.44,1303.27 1252.52,1302.51 1254.61,1301.74 1256.7,1300.97 1258.79,1300.2 1260.88,1299.43 1262.96,1298.65 1265.05,1297.87 1267.14,1297.09 1269.23,1296.3 1271.31,1295.51 1273.4,1294.72 1275.49,1293.92 1277.58,1293.12 1279.67,1292.32 1281.75,1291.51 1283.84,1290.7 1285.93,1289.89 1288.02,1289.07 1290.11,1288.25 1292.19,1287.43 1294.28,1286.6 1296.37,1285.77 1298.46,1284.94 1300.54,1284.1 1302.63,1283.26 1304.72,1282.42 1306.81,1281.57 1308.9,1280.72 1310.98,1279.86 1313.07,1279.01 1315.16,1278.15 1317.25,1277.28 1319.34,1276.41 1321.42,1275.54 1323.51,1274.67 1325.6,1273.79 1327.69,1272.91 1329.77,1272.02 1331.86,1271.13 1333.95,1270.24 1336.04,1269.34 1338.13,1268.44 1340.21,1267.54 1342.3,1266.63 1344.39,1265.72 1346.48,1264.8 1348.56,1263.88 1350.65,1262.96 1352.74,1262.03 1354.83,1261.1 1356.92,1260.17 1359,1259.23 1361.09,1258.29 1363.18,1257.34 1365.27,1256.39 1367.36,1255.44 1369.44,1254.48 1371.53,1253.52 1373.62,1252.56 1375.71,1251.59 1377.79,1250.62 1379.88,1249.64 1381.97,1248.66 1384.06,1247.67 1386.15,1246.68 1388.23,1245.69 1390.32,1244.69 1392.41,1243.69 1394.5,1242.69 1396.59,1241.68 1398.67,1240.67 1400.76,1239.65 1402.85,1238.63 1404.94,1237.6 1407.02,1236.57 1409.11,1235.54 1411.2,1234.5 1413.29,1233.46 1415.38,1232.41 1417.46,1231.36 1419.55,1230.31 1421.64,1229.25 1423.73,1228.18 1425.82,1227.12 1427.9,1226.04 1429.99,1224.97 1432.08,1223.89 1434.17,1222.8 1436.25,1221.71 1438.34,1220.62 1440.43,1219.52 1442.52,1218.42 1444.61,1217.31 1446.69,1216.2 1448.78,1215.08 1450.87,1213.96 1452.96,1212.83 1455.05,1211.7 1457.13,1210.57 1459.22,1209.43 1461.31,1208.29 1463.4,1207.14 1465.48,1205.98 1467.57,1204.83 1469.66,1203.66 1471.75,1202.5 1473.84,1201.33 1475.92,1200.15 1478.01,1198.97 1480.1,1197.78 1482.19,1196.59 1484.27,1195.39 1486.36,1194.19 1488.45,1192.99 1490.54,1191.78 1492.63,1190.56 1494.71,1189.34 1496.8,1188.12 1498.89,1186.89 1500.98,1185.65 1503.07,1184.41 1505.15,1183.17 1507.24,1181.92 1509.33,1180.66 1511.42,1179.4 1513.5,1178.14 1515.59,1176.87 1517.68,1175.59 1519.77,1174.31 1521.86,1173.02 1523.94,1171.73 1526.03,1170.44 1528.12,1169.14 1530.21,1167.83 1532.3,1166.52 1534.38,1165.2 1536.47,1163.88 1538.56,1162.55 1540.65,1161.22 1542.73,1159.88 1544.82,1158.53 1546.91,1157.18 1549,1155.83 1551.09,1154.47 1553.17,1153.1 1555.26,1151.73 1557.35,1150.35 1559.44,1148.97 1561.53,1147.58 1563.61,1146.19 1565.7,1144.79 1567.79,1143.38 1569.88,1141.97 1571.96,1140.56 1574.05,1139.13 1576.14,1137.71 1578.23,1136.27 1580.32,1134.83 1582.4,1133.39 1584.49,1131.94 1586.58,1130.48 1588.67,1129.02 1590.75,1127.55 1592.84,1126.07 1594.93,1124.59 1597.02,1123.11 1599.11,1121.62 1601.19,1120.12 1603.28,1118.61 1605.37,1117.1 1607.46,1115.59 1609.55,1114.06 1611.63,1112.53 1613.72,1111 1615.81,1109.46 1617.9,1107.91 1619.98,1106.36 1622.07,1104.8 1624.16,1103.23 1626.25,1101.66 1628.34,1100.08 1630.42,1098.49 1632.51,1096.9 1634.6,1095.3 1636.69,1093.7 1638.78,1092.09 1640.86,1090.47 1642.95,1088.85 1645.04,1087.22 1647.13,1085.58 1649.21,1083.94 1651.3,1082.29 1653.39,1080.63 1655.48,1078.96 1657.57,1077.29 1659.65,1075.62 1661.74,1073.93 1663.83,1072.24 1665.92,1070.55 1668.01,1068.84 1670.09,1067.13 1672.18,1065.41 1674.27,1063.69 1676.36,1061.96 1678.44,1060.22 1680.53,1058.47 1682.62,1056.72 1684.71,1054.96 1686.8,1053.19 1688.88,1051.42 1690.97,1049.64 1693.06,1047.85 1695.15,1046.05 1697.24,1044.25 1699.32,1042.44 1701.41,1040.62 1703.5,1038.8 1705.59,1036.97 1707.67,1035.13 1709.76,1033.28 1711.85,1031.43 1713.94,1029.56 1716.03,1027.7 1718.11,1025.82 1720.2,1023.93 1722.29,1022.04 1724.38,1020.14 1726.46,1018.24 1728.55,1016.32 1730.64,1014.4 1732.73,1012.47 1734.82,1010.53 1736.9,1008.59 1738.99,1006.63 1741.08,1004.67 1743.17,1002.7 1745.26,1000.72 1747.34,998.74 1749.43,996.747 1751.52,994.745 1753.61,992.736 1755.69,990.719 1757.78,988.694 1759.87,986.66 1761.96,984.619 1764.05,982.569 1766.13,980.511 1768.22,978.444 1770.31,976.37 1772.4,974.287 1774.49,972.195 1776.57,970.096 1778.66,967.987 1780.75,965.871 1782.84,963.745 1784.92,961.612 1787.01,959.469 1789.1,957.318 1791.19,955.159 1793.28,952.99 1795.36,950.813 1797.45,948.628 1799.54,946.433 1801.63,944.23 1803.72,942.018 1805.8,939.796 1807.89,937.566 1809.98,935.327 1812.07,933.079 1814.15,930.822 1816.24,928.556 1818.33,926.281 1820.42,923.997 1822.51,921.703 1824.59,919.401 1826.68,917.089 1828.77,914.767 1830.86,912.437 1832.95,910.097 1835.03,907.747 1837.12,905.389 1839.21,903.02 1841.3,900.642 1843.38,898.255 1845.47,895.858 1847.56,893.452 1849.65,891.035 1851.74,888.609 1853.82,886.174 1855.91,883.728 1858,881.273 1860.09,878.808 1862.17,876.333 1864.26,873.847 1866.35,871.352 1868.44,868.847 1870.53,866.332 1872.61,863.807 1874.7,861.272 1876.79,858.726 1878.88,856.171 1880.97,853.604 1883.05,851.028 1885.14,848.441 1887.23,845.844 1889.32,843.237 1891.4,840.619 1893.49,837.99 1895.58,835.351 1897.67,832.702 1899.76,830.041 1901.84,827.37 1903.93,824.689 1906.02,821.996 1908.11,819.293 1910.2,816.579 1912.28,813.854 1914.37,811.118 1916.46,808.371 1918.55,805.613 1920.63,802.844 1922.72,800.064 1924.81,797.272 1926.9,794.47 1928.99,791.656 1931.07,788.831 1933.16,785.994 1935.25,783.146 1937.34,780.287 1939.43,777.416 1941.51,774.534 1943.6,771.64 1945.69,768.734 1947.78,765.817 1949.86,762.888 1951.95,759.948 1954.04,756.995 1956.13,754.031 1958.22,751.055 1960.3,748.066 1962.39,745.066 1964.48,742.054 1966.57,739.03 1968.65,735.993 1970.74,732.945 1972.83,729.884 1974.92,726.811 1977.01,723.725 1979.09,720.627 1981.18,717.517 1983.27,714.394 1985.36,711.259 1987.45,708.111 1989.53,704.95 1991.62,701.777 1993.71,698.591 1995.8,695.392 1997.88,692.18 1999.97,688.956 2002.06,685.718 2004.15,682.468 2006.24,679.204 2008.32,675.927 2010.41,672.638 2012.5,669.335 2014.59,666.018 2016.68,662.689 2018.76,659.346 2020.85,655.989 2022.94,652.619 2025.03,649.236 2027.11,645.839 2029.2,642.429 2031.29,639.004 2033.38,635.566 2035.47,632.114 2037.55,628.649 2039.64,625.169 2041.73,621.675 2043.82,618.168 2045.91,614.646 2047.99,611.11 2050.08,607.56 2052.17,603.996 2054.26,600.417 2056.34,596.825 2058.43,593.217 2060.52,589.595 2062.61,585.959 2064.7,582.308 2066.78,578.642 2068.87,574.962 2070.96,571.267 2073.05,567.557 2075.14,563.832 2077.22,560.092 2079.31,556.337 2081.4,552.568 2083.49,548.783 2085.57,544.982 2087.66,541.167 2089.75,537.336 2091.84,533.49 2093.93,529.628 2096.01,525.751 2098.1,521.859 2100.19,517.95 2102.28,514.027 2104.36,510.087 2106.45,506.131 2108.54,502.16 2110.63,498.173 2112.72,494.169 2114.8,490.15 2116.89,486.114 2118.98,482.063 2121.07,477.995 2123.16,473.91 2125.24,469.81 2127.33,465.692 2129.42,461.559 2131.51,457.408 2133.59,453.241 2135.68,449.058 2137.77,444.857 2139.86,440.64 2141.95,436.406 2144.03,432.154 2146.12,427.886 2148.21,423.601 2150.3,419.298 2152.39,414.978 2154.47,410.641 2156.56,406.286 2158.65,401.914 2160.74,397.525 2162.82,393.117 2164.91,388.692 2167,384.25 2169.09,379.789 2171.18,375.311 2173.26,370.814 2175.35,366.3 2177.44,361.767 2179.53,357.216 2181.62,352.647 2183.7,348.06 2185.79,343.454 2187.88,338.83 2189.97,334.187 2192.05,329.525 2194.14,324.845 2196.23,320.146 2198.32,315.428 2200.41,310.692 2202.49,305.936 2204.58,301.161 2206.67,296.367 2208.76,291.554 2210.85,286.721 2212.93,281.869 2215.02,276.998 2217.11,272.107 2219.2,267.196 2221.28,262.266 2223.37,257.316 2225.46,252.346 2227.55,247.356 2229.64,242.346 2231.72,237.316 2233.81,232.266 2235.9,227.195 2237.99,222.105 2240.07,216.993 2242.16,211.861 2244.25,206.709 2246.34,201.536 2248.43,196.342 2250.51,191.128 2252.6,185.892 2254.69,180.636 2256.78,175.358 2258.87,170.059 2260.95,164.739 2263.04,159.397 2265.13,154.035 2267.22,148.65 2269.3,143.244 2271.39,137.816 2273.48,132.367 2275.57,126.896 2277.66,121.402 2279.74,115.887 2281.83,110.349 2283.92,104.79 2286.01,99.2076 2288.1,93.6032 2290.18,87.9763 \"/>\n",
       "<path clip-path=\"url(#clip430)\" d=\"M215.55 250.738 L535.829 250.738 L535.829 95.2176 L215.55 95.2176  Z\" fill=\"#ffffff\" fill-rule=\"evenodd\" fill-opacity=\"1\"/>\n",
       "<polyline clip-path=\"url(#clip430)\" style=\"stroke:#000000; stroke-linecap:round; stroke-linejoin:round; stroke-width:4; stroke-opacity:1; fill:none\" points=\"215.55,250.738 535.829,250.738 535.829,95.2176 215.55,95.2176 215.55,250.738 \"/>\n",
       "<polyline clip-path=\"url(#clip430)\" style=\"stroke:#009af9; stroke-linecap:round; stroke-linejoin:round; stroke-width:4; stroke-opacity:1; fill:none\" points=\"240.115,147.058 387.509,147.058 \"/>\n",
       "<path clip-path=\"url(#clip430)\" d=\"M416.357 160.449 L416.357 174.199 L412.074 174.199 L412.074 138.412 L416.357 138.412 L416.357 142.347 Q417.699 140.032 419.736 138.921 Q421.797 137.787 424.644 137.787 Q429.366 137.787 432.306 141.537 Q435.269 145.287 435.269 151.398 Q435.269 157.509 432.306 161.259 Q429.366 165.009 424.644 165.009 Q421.797 165.009 419.736 163.898 Q417.699 162.763 416.357 160.449 M430.847 151.398 Q430.847 146.699 428.903 144.037 Q426.982 141.352 423.602 141.352 Q420.223 141.352 418.278 144.037 Q416.357 146.699 416.357 151.398 Q416.357 156.097 418.278 158.782 Q420.223 161.444 423.602 161.444 Q426.982 161.444 428.903 158.782 Q430.847 156.097 430.847 151.398 Z\" fill=\"#000000\" fill-rule=\"nonzero\" fill-opacity=\"1\" /><path clip-path=\"url(#clip430)\" d=\"M457.352 142.393 Q456.634 141.977 455.778 141.791 Q454.945 141.583 453.926 141.583 Q450.315 141.583 448.371 143.944 Q446.449 146.282 446.449 150.68 L446.449 164.338 L442.167 164.338 L442.167 138.412 L446.449 138.412 L446.449 142.44 Q447.792 140.078 449.945 138.944 Q452.097 137.787 455.176 137.787 Q455.616 137.787 456.148 137.856 Q456.681 137.903 457.329 138.018 L457.352 142.393 Z\" fill=\"#000000\" fill-rule=\"nonzero\" fill-opacity=\"1\" /><path clip-path=\"url(#clip430)\" d=\"M482.954 150.31 L482.954 152.393 L463.37 152.393 Q463.648 156.791 466.009 159.106 Q468.394 161.398 472.63 161.398 Q475.083 161.398 477.375 160.796 Q479.69 160.194 481.958 158.99 L481.958 163.018 Q479.667 163.99 477.259 164.5 Q474.852 165.009 472.375 165.009 Q466.171 165.009 462.537 161.398 Q458.926 157.787 458.926 151.629 Q458.926 145.264 462.352 141.537 Q465.801 137.787 471.634 137.787 Q476.866 137.787 479.898 141.166 Q482.954 144.523 482.954 150.31 M478.694 149.06 Q478.648 145.565 476.727 143.481 Q474.829 141.398 471.681 141.398 Q468.116 141.398 465.963 143.412 Q463.833 145.426 463.509 149.083 L478.694 149.06 Z\" fill=\"#000000\" fill-rule=\"nonzero\" fill-opacity=\"1\" /><path clip-path=\"url(#clip430)\" d=\"M507.004 142.347 L507.004 128.319 L511.264 128.319 L511.264 164.338 L507.004 164.338 L507.004 160.449 Q505.662 162.763 503.602 163.898 Q501.565 165.009 498.694 165.009 Q493.995 165.009 491.032 161.259 Q488.093 157.509 488.093 151.398 Q488.093 145.287 491.032 141.537 Q493.995 137.787 498.694 137.787 Q501.565 137.787 503.602 138.921 Q505.662 140.032 507.004 142.347 M492.491 151.398 Q492.491 156.097 494.412 158.782 Q496.356 161.444 499.736 161.444 Q503.116 161.444 505.06 158.782 Q507.004 156.097 507.004 151.398 Q507.004 146.699 505.06 144.037 Q503.116 141.352 499.736 141.352 Q496.356 141.352 494.412 144.037 Q492.491 146.699 492.491 151.398 Z\" fill=\"#000000\" fill-rule=\"nonzero\" fill-opacity=\"1\" /><polyline clip-path=\"url(#clip430)\" style=\"stroke:#e26f46; stroke-linecap:round; stroke-linejoin:round; stroke-width:4; stroke-opacity:1; fill:none\" points=\"240.115,198.898 387.509,198.898 \"/>\n",
       "<path clip-path=\"url(#clip430)\" d=\"M419.482 182.891 L419.482 190.252 L428.255 190.252 L428.255 193.562 L419.482 193.562 L419.482 207.636 Q419.482 210.807 420.338 211.71 Q421.218 212.613 423.88 212.613 L428.255 212.613 L428.255 216.178 L423.88 216.178 Q418.949 216.178 417.074 214.349 Q415.199 212.497 415.199 207.636 L415.199 193.562 L412.074 193.562 L412.074 190.252 L415.199 190.252 L415.199 182.891 L419.482 182.891 Z\" fill=\"#000000\" fill-rule=\"nonzero\" fill-opacity=\"1\" /><path clip-path=\"url(#clip430)\" d=\"M448.88 194.233 Q448.162 193.817 447.306 193.631 Q446.472 193.423 445.454 193.423 Q441.843 193.423 439.898 195.784 Q437.977 198.122 437.977 202.52 L437.977 216.178 L433.695 216.178 L433.695 190.252 L437.977 190.252 L437.977 194.28 Q439.32 191.918 441.472 190.784 Q443.625 189.627 446.704 189.627 Q447.144 189.627 447.676 189.696 Q448.208 189.743 448.857 189.858 L448.88 194.233 Z\" fill=\"#000000\" fill-rule=\"nonzero\" fill-opacity=\"1\" /><path clip-path=\"url(#clip430)\" d=\"M452.908 205.946 L452.908 190.252 L457.167 190.252 L457.167 205.784 Q457.167 209.465 458.602 211.316 Q460.037 213.145 462.907 213.145 Q466.357 213.145 468.347 210.946 Q470.361 208.747 470.361 204.951 L470.361 190.252 L474.62 190.252 L474.62 216.178 L470.361 216.178 L470.361 212.196 Q468.81 214.557 466.75 215.715 Q464.713 216.849 462.005 216.849 Q457.537 216.849 455.222 214.071 Q452.908 211.293 452.908 205.946 M463.625 189.627 L463.625 189.627 Z\" fill=\"#000000\" fill-rule=\"nonzero\" fill-opacity=\"1\" /><path clip-path=\"url(#clip430)\" d=\"M505.569 202.15 L505.569 204.233 L485.986 204.233 Q486.264 208.631 488.625 210.946 Q491.009 213.238 495.245 213.238 Q497.699 213.238 499.991 212.636 Q502.305 212.034 504.574 210.83 L504.574 214.858 Q502.282 215.83 499.875 216.34 Q497.467 216.849 494.991 216.849 Q488.787 216.849 485.153 213.238 Q481.542 209.627 481.542 203.469 Q481.542 197.104 484.968 193.377 Q488.417 189.627 494.25 189.627 Q499.481 189.627 502.514 193.006 Q505.569 196.363 505.569 202.15 M501.31 200.9 Q501.264 197.405 499.342 195.321 Q497.444 193.238 494.296 193.238 Q490.731 193.238 488.579 195.252 Q486.449 197.266 486.125 200.923 L501.31 200.9 Z\" fill=\"#000000\" fill-rule=\"nonzero\" fill-opacity=\"1\" /></svg>\n"
      ]
     },
     "metadata": {},
     "output_type": "display_data"
    }
   ],
   "source": [
    "xs = reshape(range(0, 2, length=1000), 1, :)\n",
    "u_pred = pinn.phi(xs, res.u)\n",
    "u_true = @. exp(2xs)+exp(-3xs)\n",
    "\n",
    "using Plots\n",
    "plot(vec(xs),vec(u_pred), label=\"pred\")\n",
    "plot!(vec(xs),vec(u_true), label=\"true\")"
   ]
  },
  {
   "attachments": {},
   "cell_type": "markdown",
   "metadata": {},
   "source": [
    "## Train with Adam"
   ]
  },
  {
   "cell_type": "code",
   "execution_count": 5,
   "metadata": {},
   "outputs": [
    {
     "name": "stdout",
     "output_type": "stream",
     "text": [
      "Loss: 1618.0907730450188\n"
     ]
    },
    {
     "name": "stdout",
     "output_type": "stream",
     "text": [
      "Loss: 1441.8117137868614\n",
      "Loss: 1276.9822134044275\n",
      "Loss: 1123.795051136553\n",
      "Loss: 982.3795819961042\n",
      "Loss: 852.7827372327239\n"
     ]
    },
    {
     "name": "stdout",
     "output_type": "stream",
     "text": [
      "Loss: 734.9661034171388\n",
      "Loss: 628.8100989775322\n",
      "Loss: 534.1194829159876\n",
      "Loss: 450.62178774860024\n",
      "Loss: 377.963358742442\n",
      "Loss: 315.7076081724218\n",
      "Loss: 263.3344076810089\n"
     ]
    },
    {
     "name": "stdout",
     "output_type": "stream",
     "text": [
      "Loss: 220.23900226105067\n",
      "Loss: 185.73108693420014\n",
      "Loss: 159.03491186776037\n",
      "Loss: 139.29301485427808\n",
      "Loss: 125.57470879498992\n",
      "Loss: 116.89143088569794\n",
      "Loss: 112.21977998212618\n",
      "Loss: 110.53248951857564\n"
     ]
    },
    {
     "name": "stdout",
     "output_type": "stream",
     "text": [
      "Loss: 110.83581530362387\n",
      "Loss: 112.2106345911287\n",
      "Loss: 113.85288840645812\n",
      "Loss: 115.10786826928214\n",
      "Loss: 115.49304859800012\n",
      "Loss: 114.70601901271269\n",
      "Loss: 112.61696706661644\n"
     ]
    },
    {
     "name": "stdout",
     "output_type": "stream",
     "text": [
      "Loss: 109.2478937661498\n",
      "Loss: 104.74253265996808\n",
      "Loss: 99.33151851810354\n",
      "Loss: 93.29695329021308\n",
      "Loss: 86.93967247567704\n",
      "Loss: 80.55142276573831\n",
      "Loss: 74.39316026436006\n",
      "Loss: 68.67993078079877\n"
     ]
    },
    {
     "name": "stdout",
     "output_type": "stream",
     "text": [
      "Loss: 63.57209899121468\n",
      "Loss: 59.17230807328968\n",
      "Loss: 55.52723968156449\n",
      "Loss: 52.63314557238344\n",
      "Loss: 50.444036374966515\n",
      "Loss: 48.881472601983454\n",
      "Loss: 47.84499367102087\n",
      "Loss: 47.22235341045764\n",
      "Loss: 46.898888120720656\n"
     ]
    },
    {
     "name": "stdout",
     "output_type": "stream",
     "text": [
      "Loss: 46.765511922851054\n",
      "Loss: 46.72501120364856\n",
      "Loss: 46.69647894666776\n",
      "Loss: 46.617885547638686\n",
      "Loss: 46.44691539530826\n",
      "Loss: 46.1602988053583\n",
      "Loss: 45.7519351265601\n",
      "Loss: 45.23013423809735\n"
     ]
    },
    {
     "name": "stdout",
     "output_type": "stream",
     "text": [
      "Loss: 44.614307272529025\n",
      "Loss: 43.93141640705373\n",
      "Loss: 43.21246088368941\n",
      "Loss: 42.48922799767947\n",
      "Loss: 41.79149188694353\n",
      "Loss: 41.14478795294517\n",
      "Loss: 40.568841559385675\n",
      "Loss: 40.07667672500735\n"
     ]
    },
    {
     "name": "stdout",
     "output_type": "stream",
     "text": [
      "Loss: 39.6743834246537\n",
      "Loss: 39.36148048265441\n",
      "Loss: 39.13177064741563\n",
      "Loss: 38.97456135575328\n",
      "Loss: 38.87610520635148\n",
      "Loss: 38.82111169647839\n",
      "Loss: 38.79419040989407\n",
      "Loss: 38.78110668296488\n"
     ]
    },
    {
     "name": "stdout",
     "output_type": "stream",
     "text": [
      "Loss: 38.76976101089004\n",
      "Loss: 38.75083964576195\n",
      "Loss: 38.71812112507014\n",
      "Loss: 38.668458629253145\n",
      "Loss: 38.6014868204668\n",
      "Loss: 38.51912169480633\n",
      "Loss: 38.424933218907434\n",
      "Loss: 38.32347003545544\n",
      "Loss: 38.219608652949404\n"
     ]
    },
    {
     "name": "stdout",
     "output_type": "stream",
     "text": [
      "Loss: 38.11798629560562\n",
      "Loss: 38.022556989187386\n",
      "Loss: 37.936294324183194\n",
      "Loss: 37.86104333227624\n",
      "Loss: 37.79751112634054\n",
      "Loss: 37.74537231461459\n",
      "Loss: 37.70345953174978\n",
      "Loss: 37.67000496490999\n"
     ]
    },
    {
     "name": "stdout",
     "output_type": "stream",
     "text": [
      "Loss: 37.6429006995215\n",
      "Loss: 37.61994855038072\n",
      "Loss: 37.59907728121463\n",
      "Loss: 37.57851089144328\n",
      "Loss: 37.556880396862\n",
      "Loss: 37.533277289315784\n",
      "Loss: 37.507253848399216\n",
      "Loss: 37.47877890032173\n"
     ]
    },
    {
     "name": "stdout",
     "output_type": "stream",
     "text": [
      "Loss: 37.44816113930022\n",
      "Loss: 37.415952693849945\n",
      "Loss: 37.382846169122175\n",
      "Loss: 37.349575724770084\n",
      "Loss: 37.316831995912985\n",
      "Loss: 37.28519638114336\n",
      "Loss: 37.255098182209856\n",
      "Loss: 37.226795050808995\n"
     ]
    },
    {
     "name": "stdout",
     "output_type": "stream",
     "text": [
      "Loss: 37.20037461343666\n",
      "Loss: 37.17577363260301\n",
      "Loss: 37.15280969185541\n",
      "Loss: 37.1312198287834\n",
      "Loss: 37.11070108974599\n",
      "Loss: 37.090948361431096\n",
      "Loss: 37.07168594109808\n",
      "Loss: 37.052690213279234\n"
     ]
    },
    {
     "name": "stdout",
     "output_type": "stream",
     "text": [
      "Loss: 37.033803346330636\n",
      "Loss: 37.01493712847741\n",
      "Loss: 36.99606887838727\n",
      "Loss: 36.977230852173044\n",
      "Loss: 36.958495770741614\n",
      "Loss: 36.93996016347751\n",
      "Loss: 36.9217284892074\n",
      "Loss: 36.903898700975404\n"
     ]
    },
    {
     "name": "stdout",
     "output_type": "stream",
     "text": [
      "Loss: 36.88655147043502\n",
      "Loss: 36.86974299848933\n",
      "Loss: 36.85350187733726\n",
      "Loss: 36.83782961068867\n",
      "Loss: 36.82270391264959\n",
      "Loss: 36.808084192453045\n",
      "Loss: 36.79391817783655\n"
     ]
    },
    {
     "name": "stdout",
     "output_type": "stream",
     "text": [
      "Loss: 36.780148496031536\n",
      "Loss: 36.766719021272166\n",
      "Loss: 36.75357956830858\n",
      "Loss: 36.74068963773489\n",
      "Loss: 36.728019853923286\n",
      "Loss: 36.71555256028127\n",
      "Loss: 36.70328058875005\n",
      "Loss: 36.69120518857426\n"
     ]
    },
    {
     "name": "stdout",
     "output_type": "stream",
     "text": [
      "Loss: 36.67933366412637\n",
      "Loss: 36.66767638551569\n",
      "Loss: 36.65624420359681\n",
      "Loss: 36.645046487453556\n",
      "Loss: 36.63408939238615\n",
      "Loss: 36.623374913128686\n",
      "Loss: 36.61290086117128\n",
      "Loss: 36.60266099338555\n"
     ]
    },
    {
     "name": "stdout",
     "output_type": "stream",
     "text": [
      "Loss: 36.592645862209004\n",
      "Loss: 36.58284386848399\n",
      "Loss: 36.57324229089294\n",
      "Loss: 36.56382841338533\n",
      "Loss: 36.55459044249937\n",
      "Loss: 36.54551811033497\n",
      "Loss: 36.53660299533055\n",
      "Loss: 36.52783879271192\n"
     ]
    },
    {
     "name": "stdout",
     "output_type": "stream",
     "text": [
      "Loss: 36.51922095744107\n",
      "Loss: 36.51074657692027\n",
      "Loss: 36.50241370265925\n",
      "Loss: 36.49422113722282\n",
      "Loss: 36.48616782203449\n",
      "Loss: 36.478252463904894\n",
      "Loss: 36.47047336561544\n",
      "Loss: 36.46282810271713\n",
      "Loss: 36.45531367465638\n"
     ]
    },
    {
     "name": "stdout",
     "output_type": "stream",
     "text": [
      "Loss: 36.447926518406916\n",
      "Loss: 36.44066252415063\n",
      "Loss: 36.433517393471284\n",
      "Loss: 36.426486729623505\n",
      "Loss: 36.419566183152156\n",
      "Loss: 36.41275177312402\n",
      "Loss: 36.40603983700881\n",
      "Loss: 36.3994270868238\n"
     ]
    },
    {
     "name": "stdout",
     "output_type": "stream",
     "text": [
      "Loss: 36.392910694007476\n",
      "Loss: 36.38648819259515\n",
      "Loss: 36.380157382139004\n",
      "Loss: 36.37391630810234\n",
      "Loss: 36.36776321170569\n",
      "Loss: 36.36169628599782\n",
      "Loss: 36.355713756951495\n",
      "Loss: 36.349813828657275\n"
     ]
    },
    {
     "name": "stdout",
     "output_type": "stream",
     "text": [
      "Loss: 36.3439945608817\n",
      "Loss: 36.33825404743771\n",
      "Loss: 36.33259023535493\n",
      "Loss: 36.3270011326642\n",
      "Loss: 36.32148467081856\n",
      "Loss: 36.316038877879656\n",
      "Loss: 36.31066181188998\n",
      "Loss: 36.30535173475746\n"
     ]
    },
    {
     "name": "stdout",
     "output_type": "stream",
     "text": [
      "Loss: 36.30010684142128\n",
      "Loss: 36.294925552714155\n",
      "Loss: 36.28980633911256\n",
      "Loss: 36.2847477987858\n",
      "Loss: 36.27974858207257\n",
      "Loss: 36.274807400613454\n",
      "Loss: 36.26992295807076\n",
      "Loss: 36.26509402353129\n"
     ]
    },
    {
     "name": "stdout",
     "output_type": "stream",
     "text": [
      "Loss: 36.2603194324758\n",
      "Loss: 36.25559797996584\n",
      "Loss: 36.25092846361148\n",
      "Loss: 36.24630977172589\n",
      "Loss: 36.241740727095724\n",
      "Loss: 36.23722019717143\n",
      "Loss: 36.232747158159974\n",
      "Loss: 36.22832051952386\n"
     ]
    },
    {
     "name": "stdout",
     "output_type": "stream",
     "text": [
      "Loss: 36.223939299608695\n",
      "Loss: 36.219602551140426\n",
      "Loss: 36.21530936531167\n",
      "Loss: 36.21105885727997\n",
      "Loss: 36.206850178484586\n",
      "Loss: 36.20268255723892\n",
      "Loss: 36.198555154987794\n",
      "Loss: 36.19446725159476\n"
     ]
    },
    {
     "name": "stdout",
     "output_type": "stream",
     "text": [
      "Loss: 36.19041813193352\n",
      "Loss: 36.186407055491976\n",
      "Loss: 36.182433375182924\n",
      "Loss: 36.17849638512145\n",
      "Loss: 36.17459541368083\n",
      "Loss: 36.1707298452063\n",
      "Loss: 36.1668990470001\n",
      "Loss: 36.16310244436593\n"
     ]
    },
    {
     "name": "stdout",
     "output_type": "stream",
     "text": [
      "Loss: 36.159339406941015\n",
      "Loss: 36.15560941955153\n",
      "Loss: 36.15191188636979\n",
      "Loss: 36.148246340310294\n",
      "Loss: 36.14461221792302\n",
      "Loss: 36.14100906854911\n",
      "Loss: 36.13743636339867\n",
      "Loss: 36.133893688534435\n"
     ]
    },
    {
     "name": "stdout",
     "output_type": "stream",
     "text": [
      "Loss: 36.130380564652945\n",
      "Loss: 36.12689660018781\n",
      "Loss: 36.12344129735751\n",
      "Loss: 36.1200143042484\n",
      "Loss: 36.11661515809794\n",
      "Loss: 36.11324352952634\n",
      "Loss: 36.109899001112616\n",
      "Loss: 36.10658118686634\n"
     ]
    },
    {
     "name": "stdout",
     "output_type": "stream",
     "text": [
      "Loss: 36.10328979029335\n",
      "Loss: 36.100024407987725\n",
      "Loss: 36.09678466101331\n",
      "Loss: 36.09357030386818\n",
      "Loss: 36.09038100371275\n",
      "Loss: 36.087216390389315\n",
      "Loss: 36.084076215586954\n",
      "Loss: 36.08096016148588\n"
     ]
    },
    {
     "name": "stdout",
     "output_type": "stream",
     "text": [
      "Loss: 36.0778679670349\n",
      "Loss: 36.07479931688135\n",
      "Loss: 36.07175396692028\n",
      "Loss: 36.068731587353334\n",
      "Loss: 36.06573201169275\n",
      "Loss: 36.06275493984595\n",
      "Loss: 36.05980012289921\n",
      "Loss: 36.05686731415083\n"
     ]
    },
    {
     "name": "stdout",
     "output_type": "stream",
     "text": [
      "Loss: 36.053956291936984\n",
      "Loss: 36.05106680698718\n",
      "Loss: 36.04819864620173\n",
      "Loss: 36.04535159691223\n",
      "Loss: 36.04252543433557\n",
      "Loss: 36.039719922889255\n",
      "Loss: 36.036934919359965\n",
      "Loss: 36.0341701578122\n"
     ]
    },
    {
     "name": "stdout",
     "output_type": "stream",
     "text": [
      "Loss: 36.031425477168085\n",
      "Loss: 36.02870066883225\n",
      "Loss: 36.02599553634215\n",
      "Loss: 36.02330991237452\n",
      "Loss: 36.02064358662962\n",
      "Loss: 36.01799644201843\n",
      "Loss: 36.015368180464264\n",
      "Loss: 36.01275874851282\n"
     ]
    },
    {
     "name": "stdout",
     "output_type": "stream",
     "text": [
      "Loss: 36.010167910624965\n",
      "Loss: 36.00759556978438\n",
      "Loss: 36.00504147285537\n",
      "Loss: 36.00250549915927\n",
      "Loss: 35.999987493182076\n",
      "Loss: 35.997487297823476\n",
      "Loss: 35.99500475122208\n",
      "Loss: 35.9925397161665\n"
     ]
    },
    {
     "name": "stdout",
     "output_type": "stream",
     "text": [
      "Loss: 35.99009203558446\n",
      "Loss: 35.98766155992516\n",
      "Loss: 35.985248155119734\n",
      "Loss: 35.98285166213836\n",
      "Loss: 35.98047196639045\n",
      "Loss: 35.97810889093207\n",
      "Loss: 35.97576232715979\n",
      "Loss: 35.97343214746294\n"
     ]
    },
    {
     "name": "stdout",
     "output_type": "stream",
     "text": [
      "Loss: 35.97111817947836\n",
      "Loss: 35.968820359827994\n",
      "Loss: 35.966538483194924\n",
      "Loss: 35.96427248890778\n",
      "Loss: 35.96202221253185\n",
      "Loss: 35.95978750694607\n"
     ]
    },
    {
     "name": "stdout",
     "output_type": "stream",
     "text": [
      "Loss: 35.95756829375027\n",
      "Loss: 35.9553644505981\n",
      "Loss: 35.95317581651107\n",
      "Loss: 35.951002296826665\n",
      "Loss: 35.94884380472938\n",
      "Loss: 35.94670016863221\n",
      "Loss: 35.94457131778456\n"
     ]
    },
    {
     "name": "stdout",
     "output_type": "stream",
     "text": [
      "Loss: 35.942457079468575\n",
      "Loss: 35.94035738999345\n",
      "Loss: 35.93827217287386\n",
      "Loss: 35.936201202413066\n",
      "Loss: 35.93414446966372\n",
      "Loss: 35.93210182544583\n",
      "Loss: 35.93007319254733\n",
      "Loss: 35.928058409825624\n"
     ]
    },
    {
     "name": "stdout",
     "output_type": "stream",
     "text": [
      "Loss: 35.92605743069852\n",
      "Loss: 35.92407011406511\n",
      "Loss: 35.92209636817531\n",
      "Loss: 35.92013609460627\n",
      "Loss: 35.918189133245576\n",
      "Loss: 35.9162554762037\n",
      "Loss: 35.914334977890626\n"
     ]
    },
    {
     "name": "stdout",
     "output_type": "stream",
     "text": [
      "Loss: 35.91242754996012\n",
      "Loss: 35.91053310411366\n",
      "Loss: 35.90865152153344\n",
      "Loss: 35.90678264770124\n",
      "Loss: 35.9049264712953\n",
      "Loss: 35.90308290949188\n",
      "Loss: 35.90125181155058\n",
      "Loss: 35.89943310679371\n"
     ]
    },
    {
     "name": "stdout",
     "output_type": "stream",
     "text": [
      "Loss: 35.89762670976952\n",
      "Loss: 35.89583250556121\n",
      "Loss: 35.894050384413546\n",
      "Loss: 35.89228033823886\n",
      "Loss: 35.890522219697004\n",
      "Loss: 35.88877592204682\n",
      "Loss: 35.88704137505963\n",
      "Loss: 35.88531852095318\n"
     ]
    },
    {
     "name": "stdout",
     "output_type": "stream",
     "text": [
      "Loss: 35.883607201597826\n",
      "Loss: 35.881907398914244\n",
      "Loss: 35.880219004101455\n",
      "Loss: 35.878541932501236\n",
      "Loss: 35.876876085333926\n",
      "Loss: 35.87522137874279\n",
      "Loss: 35.873577760503736\n",
      "Loss: 35.871945103531445\n",
      "Loss: 35.8703233646924\n"
     ]
    },
    {
     "name": "stdout",
     "output_type": "stream",
     "text": [
      "Loss: 35.86871244906164\n",
      "Loss: 35.86711226046496\n",
      "Loss: 35.86552271550409\n",
      "Loss: 35.863943761308526\n",
      "Loss: 35.862375300308145\n",
      "Loss: 35.860817248080444\n",
      "Loss: 35.859269542851195\n",
      "Loss: 35.857732110852\n"
     ]
    },
    {
     "name": "stdout",
     "output_type": "stream",
     "text": [
      "Loss: 35.85620484101244\n",
      "Loss: 35.854687659451415\n",
      "Loss: 35.853180554405625\n",
      "Loss: 35.85168339350578\n",
      "Loss: 35.85019609367894\n",
      "Loss: 35.84871858581276\n",
      "Loss: 35.84725082885993\n",
      "Loss: 35.84579272028676\n"
     ]
    },
    {
     "name": "stdout",
     "output_type": "stream",
     "text": [
      "Loss: 35.844344202884564\n",
      "Loss: 35.84290519006518\n",
      "Loss: 35.84147560587062\n",
      "Loss: 35.84005539507789\n",
      "Loss: 35.8386444664906\n",
      "Loss: 35.8372428079312\n",
      "Loss: 35.83585024748288\n",
      "Loss: 35.83446678606763\n"
     ]
    },
    {
     "name": "stdout",
     "output_type": "stream",
     "text": [
      "Loss: 35.83309231633966\n",
      "Loss: 35.831726831718655\n",
      "Loss: 35.830370187701114\n",
      "Loss: 35.82902237398656\n",
      "Loss: 35.827683319301364\n",
      "Loss: 35.82635293017605\n",
      "Loss: 35.82503112232073\n",
      "Loss: 35.82371789673646\n",
      "Loss: 35.8224131081331\n"
     ]
    },
    {
     "name": "stdout",
     "output_type": "stream",
     "text": [
      "Loss: 35.821116747319316\n",
      "Loss: 35.81982872491036\n",
      "Loss: 35.81854900128603\n",
      "Loss: 35.81727745281459\n",
      "Loss: 35.81601413363521\n",
      "Loss: 35.814758837472745\n",
      "Loss: 35.81351161674355\n",
      "Loss: 35.812272358887675\n"
     ]
    },
    {
     "name": "stdout",
     "output_type": "stream",
     "text": [
      "Loss: 35.811041006569354\n",
      "Loss: 35.80981747552199\n",
      "Loss: 35.80860175159219\n",
      "Loss: 35.80739374477264\n",
      "Loss: 35.80619340635812\n",
      "Loss: 35.8050006739241\n",
      "Loss: 35.80381547183884\n",
      "Loss: 35.80263777147636\n"
     ]
    },
    {
     "name": "stdout",
     "output_type": "stream",
     "text": [
      "Loss: 35.80146749580781\n",
      "Loss: 35.80030458157354\n",
      "Loss: 35.79914901359435\n",
      "Loss: 35.798000675067506\n",
      "Loss: 35.79685954087648\n",
      "Loss: 35.795725552817586\n",
      "Loss: 35.79459865690594\n",
      "Loss: 35.7934788111872\n"
     ]
    },
    {
     "name": "stdout",
     "output_type": "stream",
     "text": [
      "Loss: 35.792365888898544\n",
      "Loss: 35.791259930878404\n",
      "Loss: 35.79016085062136\n",
      "Loss: 35.78906857416612\n",
      "Loss: 35.78798304151895\n",
      "Loss: 35.78690422846655\n",
      "Loss: 35.78583209348209\n",
      "Loss: 35.78476654425449\n",
      "Loss: 35.7837075357583\n"
     ]
    },
    {
     "name": "stdout",
     "output_type": "stream",
     "text": [
      "Loss: 35.782655061830646\n",
      "Loss: 35.781609003680686\n",
      "Loss: 35.78056934605498\n",
      "Loss: 35.77953604817562\n",
      "Loss: 35.77850903532107\n",
      "Loss: 35.77748830273808\n",
      "Loss: 35.776473724899\n",
      "Loss: 35.77546532680773\n"
     ]
    },
    {
     "name": "stdout",
     "output_type": "stream",
     "text": [
      "Loss: 35.77446302640081\n",
      "Loss: 35.77346675941983\n",
      "Loss: 35.77247654122137\n",
      "Loss: 35.77149224604371\n",
      "Loss: 35.77051384907867\n",
      "Loss: 35.76954131540111\n",
      "Loss: 35.76857460206613\n",
      "Loss: 35.76761365572791\n"
     ]
    },
    {
     "name": "stdout",
     "output_type": "stream",
     "text": [
      "Loss: 35.76665845147507\n",
      "Loss: 35.765708931775094\n",
      "Loss: 35.76476500154653\n",
      "Loss: 35.76382669231011\n",
      "Loss: 35.76289390327683\n",
      "Loss: 35.76196663726312\n",
      "Loss: 35.76104481498126\n",
      "Loss: 35.76012839090523\n"
     ]
    },
    {
     "name": "stdout",
     "output_type": "stream",
     "text": [
      "Loss: 35.75921736677233\n",
      "Loss: 35.75831164528829\n",
      "Loss: 35.75741118800588\n",
      "Loss: 35.75651599540404\n",
      "Loss: 35.75562600211864\n",
      "Loss: 35.754741132737074\n",
      "Loss: 35.75386140172774\n",
      "Loss: 35.75298674830828\n",
      "Loss: 35.75211709450198\n"
     ]
    },
    {
     "name": "stdout",
     "output_type": "stream",
     "text": [
      "Loss: 35.75125246417542\n",
      "Loss: 35.750392773924084\n",
      "Loss: 35.74953799066485\n",
      "Loss: 35.7486880848143\n",
      "Loss: 35.747843002348645\n",
      "Loss: 35.74700270746419\n",
      "Loss: 35.74616718375044\n",
      "Loss: 35.745336359328704\n"
     ]
    },
    {
     "name": "stdout",
     "output_type": "stream",
     "text": [
      "Loss: 35.74451019758129\n",
      "Loss: 35.74368870628538\n",
      "Loss: 35.74287181311188\n",
      "Loss: 35.742059441584786\n",
      "Loss: 35.74125164446751\n",
      "Loss: 35.7404483132876\n",
      "Loss: 35.739649435724516\n",
      "Loss: 35.73885500120634\n"
     ]
    },
    {
     "name": "stdout",
     "output_type": "stream",
     "text": [
      "Loss: 35.738064915133165\n",
      "Loss: 35.73727917016783\n",
      "Loss: 35.736497743365966\n",
      "Loss: 35.73572057600372\n",
      "Loss: 35.73494765078206\n",
      "Loss: 35.73417895754842\n",
      "Loss: 35.733414392586276\n",
      "Loss: 35.732653990754606\n"
     ]
    },
    {
     "name": "stdout",
     "output_type": "stream",
     "text": [
      "Loss: 35.73189767740242\n",
      "Loss: 35.731145451027444\n",
      "Loss: 35.73039722308435\n",
      "Loss: 35.72965300777902\n",
      "Loss: 35.72891278676787\n",
      "Loss: 35.72817645458145\n",
      "Loss: 35.72744403719448\n",
      "Loss: 35.72671550692736\n",
      "Loss: 35.72599081071246\n"
     ]
    },
    {
     "name": "stdout",
     "output_type": "stream",
     "text": [
      "Loss: 35.72526990968549\n",
      "Loss: 35.724552778502286\n",
      "Loss: 35.72383938618822\n",
      "Loss: 35.72312972750525\n",
      "Loss: 35.72242371065717\n",
      "Loss: 35.72172137559071\n",
      "Loss: 35.72102264785766\n",
      "Loss: 35.72032752439706\n",
      "Loss: 35.71963595121916\n"
     ]
    },
    {
     "name": "stdout",
     "output_type": "stream",
     "text": [
      "Loss: 35.71894789751577\n",
      "Loss: 35.71826335541584\n",
      "Loss: 35.71758230070854\n",
      "Loss: 35.71690461911855\n",
      "Loss: 35.71623041521003\n",
      "Loss: 35.71555956679717\n",
      "Loss: 35.7148921022264\n",
      "Loss: 35.71422792409515\n"
     ]
    },
    {
     "name": "stdout",
     "output_type": "stream",
     "text": [
      "Loss: 35.713567076636714\n",
      "Loss: 35.71290948467604\n",
      "Loss: 35.7122551712334\n",
      "Loss: 35.711604016764014\n",
      "Loss: 35.71095608192012\n",
      "Loss: 35.71031131280609\n",
      "Loss: 35.709669662948464\n",
      "Loss: 35.70903112687737\n"
     ]
    },
    {
     "name": "stdout",
     "output_type": "stream",
     "text": [
      "Loss: 35.70839570096135\n",
      "Loss: 35.707763316928585\n",
      "Loss: 35.70713395526066\n",
      "Loss: 35.70650759177017\n",
      "Loss: 35.705884198736875\n",
      "Loss: 35.70526378540684\n",
      "Loss: 35.704646299296925\n"
     ]
    },
    {
     "name": "stdout",
     "output_type": "stream",
     "text": [
      "Loss: 35.70403171721948\n",
      "Loss: 35.7034200029035\n",
      "Loss: 35.70281112724308\n",
      "Loss: 35.702205103353315\n",
      "Loss: 35.701601883764724\n",
      "Loss: 35.70100142361101\n",
      "Loss: 35.70040376928548\n"
     ]
    },
    {
     "name": "stdout",
     "output_type": "stream",
     "text": [
      "Loss: 35.69980879235016\n",
      "Loss: 35.69921657034645\n",
      "Loss: 35.69862703697985\n",
      "Loss: 35.69804011737837\n",
      "Loss: 35.69745586147666\n",
      "Loss: 35.696874276686\n",
      "Loss: 35.69629523535944\n"
     ]
    },
    {
     "name": "stdout",
     "output_type": "stream",
     "text": [
      "Loss: 35.69571876299897\n",
      "Loss: 35.695144852996854\n",
      "Loss: 35.69457347995469\n",
      "Loss: 35.69400458015536\n",
      "Loss: 35.69343820571252\n",
      "Loss: 35.69287426404138\n",
      "Loss: 35.69231280113693\n"
     ]
    },
    {
     "name": "stdout",
     "output_type": "stream",
     "text": [
      "Loss: 35.69175373870364\n",
      "Loss: 35.69119705427223\n",
      "Loss: 35.690642777865285\n",
      "Loss: 35.69009086053894\n",
      "Loss: 35.689541254587965\n",
      "Loss: 35.688993978219656\n",
      "Loss: 35.68844900551895\n"
     ]
    },
    {
     "name": "stdout",
     "output_type": "stream",
     "text": [
      "Loss: 35.68790631746632\n",
      "Loss: 35.68736584771289\n",
      "Loss: 35.686827637258595\n",
      "Loss: 35.686291620166806\n",
      "Loss: 35.68575785987452\n",
      "Loss: 35.68522622170501\n",
      "Loss: 35.68469677306364\n"
     ]
    },
    {
     "name": "stdout",
     "output_type": "stream",
     "text": [
      "Loss: 35.684169452574196\n",
      "Loss: 35.68364423832442\n",
      "Loss: 35.68312115347214\n",
      "Loss: 35.68260010730251\n",
      "Loss: 35.6820811471046\n",
      "Loss: 35.6815642539797\n",
      "Loss: 35.68104937590716\n"
     ]
    },
    {
     "name": "stdout",
     "output_type": "stream",
     "text": [
      "Loss: 35.68053651531574\n",
      "Loss: 35.680025641112685\n",
      "Loss: 35.679516729896704\n",
      "Loss: 35.67900977567309\n",
      "Loss: 35.678504760872876\n",
      "Loss: 35.67800170347641\n",
      "Loss: 35.67750049346842\n",
      "Loss: 35.67700122270703\n"
     ]
    },
    {
     "name": "stdout",
     "output_type": "stream",
     "text": [
      "Loss: 35.676503775629115\n",
      "Loss: 35.676008192746075\n",
      "Loss: 35.6755144561218\n",
      "Loss: 35.67502257213915\n",
      "Loss: 35.67453243205332\n",
      "Loss: 35.67404412885539\n"
     ]
    },
    {
     "name": "stdout",
     "output_type": "stream",
     "text": [
      "Loss: 35.67355757713123\n",
      "Loss: 35.673072756012864\n",
      "Loss: 35.67258969467283\n",
      "Loss: 35.67210835522656\n",
      "Loss: 35.671628724520176\n",
      "Loss: 35.67115079527696\n",
      "Loss: 35.67067452367513\n"
     ]
    },
    {
     "name": "stdout",
     "output_type": "stream",
     "text": [
      "Loss: 35.67019994670285\n",
      "Loss: 35.669726971749604\n",
      "Loss: 35.66925565984664\n",
      "Loss: 35.6687859278745\n",
      "Loss: 35.66831783045562\n",
      "Loss: 35.66785133431764\n",
      "Loss: 35.6673863455634\n",
      "Loss: 35.66692297898822\n"
     ]
    },
    {
     "name": "stdout",
     "output_type": "stream",
     "text": [
      "Loss: 35.666461129192115\n",
      "Loss: 35.66600082146226\n",
      "Loss: 35.66554200900982\n",
      "Loss: 35.66508468874454\n",
      "Loss: 35.66462886801548\n",
      "Loss: 35.66417454647697\n",
      "Loss: 35.663721621972456\n",
      "Loss: 35.66327018042521\n"
     ]
    },
    {
     "name": "stdout",
     "output_type": "stream",
     "text": [
      "Loss: 35.66282019721736\n",
      "Loss: 35.66237157821751\n",
      "Loss: 35.66192441270496\n",
      "Loss: 35.66147858813539\n",
      "Loss: 35.66103418343787\n",
      "Loss: 35.66059112630294\n",
      "Loss: 35.66014942747522\n",
      "Loss: 35.65970906349411\n"
     ]
    },
    {
     "name": "stdout",
     "output_type": "stream",
     "text": [
      "Loss: 35.659270062687014\n",
      "Loss: 35.658832328058416\n",
      "Loss: 35.65839592768701\n",
      "Loss: 35.657960782509136\n",
      "Loss: 35.65752694630372\n",
      "Loss: 35.657094346854294\n",
      "Loss: 35.65666305843827\n",
      "Loss: 35.65623296239787\n"
     ]
    },
    {
     "name": "stdout",
     "output_type": "stream",
     "text": [
      "Loss: 35.655804099339626\n",
      "Loss: 35.655376473329135\n",
      "Loss: 35.65495003039552\n",
      "Loss: 35.65452481435847\n",
      "Loss: 35.65410077356729\n",
      "Loss: 35.653677888286396\n",
      "Loss: 35.65325617925416\n"
     ]
    },
    {
     "name": "stdout",
     "output_type": "stream",
     "text": [
      "Loss: 35.65283560135854\n",
      "Loss: 35.65241617103141\n",
      "Loss: 35.65199787624851\n",
      "Loss: 35.651580707253316\n",
      "Loss: 35.651164639152555\n",
      "Loss: 35.65074965121427\n",
      "Loss: 35.6503357575607\n"
     ]
    },
    {
     "name": "stdout",
     "output_type": "stream",
     "text": [
      "Loss: 35.649922929111305\n",
      "Loss: 35.64951116990447\n",
      "Loss: 35.649100482526805\n",
      "Loss: 35.648690790017184\n",
      "Loss: 35.64828215281574\n",
      "Loss: 35.64787457336401\n",
      "Loss: 35.6474679526856\n"
     ]
    },
    {
     "name": "stdout",
     "output_type": "stream",
     "text": [
      "Loss: 35.64706238184989\n",
      "Loss: 35.64665776152255\n",
      "Loss: 35.64625416005893\n",
      "Loss: 35.64585151037625\n",
      "Loss: 35.64544983988146\n",
      "Loss: 35.64504912333395\n",
      "Loss: 35.64464934046826\n",
      "Loss: 35.64425047287217\n"
     ]
    },
    {
     "name": "stdout",
     "output_type": "stream",
     "text": [
      "Loss: 35.6438525415869\n",
      "Loss: 35.643455549981844\n",
      "Loss: 35.643059444757974\n",
      "Loss: 35.64266423166322\n",
      "Loss: 35.64226994799616\n",
      "Loss: 35.6418764900796\n",
      "Loss: 35.64148394941906\n",
      "Loss: 35.64109222405468\n"
     ]
    },
    {
     "name": "stdout",
     "output_type": "stream",
     "text": [
      "Loss: 35.64070139576157\n",
      "Loss: 35.640311396419804\n",
      "Loss: 35.639922211761984\n",
      "Loss: 35.63953391040956\n",
      "Loss: 35.63914638181428\n",
      "Loss: 35.63875969771627\n",
      "Loss: 35.63837374526997\n",
      "Loss: 35.637988641799325\n"
     ]
    },
    {
     "name": "stdout",
     "output_type": "stream",
     "text": [
      "Loss: 35.63760434020791\n",
      "Loss: 35.63722081315995\n",
      "Loss: 35.63683802901187\n",
      "Loss: 35.636456000145685\n",
      "Loss: 35.63607477394812\n",
      "Loss: 35.63569425570267\n",
      "Loss: 35.635314471507996\n",
      "Loss: 35.634935418268526\n",
      "Loss: 35.63455711647945\n"
     ]
    },
    {
     "name": "stdout",
     "output_type": "stream",
     "text": [
      "Loss: 35.634179509978296\n",
      "Loss: 35.63380264376161\n",
      "Loss: 35.633426430108834\n",
      "Loss: 35.63305094072605\n",
      "Loss: 35.63267613455443\n",
      "Loss: 35.63230200492043\n",
      "Loss: 35.631928547843195\n",
      "Loss: 35.631555740360525\n",
      "Loss: 35.63118361762818\n"
     ]
    },
    {
     "name": "stdout",
     "output_type": "stream",
     "text": [
      "Loss: 35.630812160610326\n",
      "Loss: 35.630441281316756\n",
      "Loss: 35.630071087100895\n",
      "Loss: 35.62970151592678\n",
      "Loss: 35.6293325726003\n",
      "Loss: 35.62896423913243\n",
      "Loss: 35.62859650246939\n",
      "Loss: 35.62822940313602\n"
     ]
    },
    {
     "name": "stdout",
     "output_type": "stream",
     "text": [
      "Loss: 35.627862870662135\n",
      "Loss: 35.62749693745032\n",
      "Loss: 35.62713159619727\n",
      "Loss: 35.62676682222061\n",
      "Loss: 35.62640261704352\n",
      "Loss: 35.62603900535727\n",
      "Loss: 35.62567590325721\n",
      "Loss: 35.625313392341916\n"
     ]
    },
    {
     "name": "stdout",
     "output_type": "stream",
     "text": [
      "Loss: 35.624951428405225\n",
      "Loss: 35.62458998844188\n",
      "Loss: 35.62422909496774\n",
      "Loss: 35.62386875075117\n",
      "Loss: 35.62350891191585\n",
      "Loss: 35.623149572897866\n",
      "Loss: 35.62279076263181\n",
      "Loss: 35.62243244060662\n"
     ]
    },
    {
     "name": "stdout",
     "output_type": "stream",
     "text": [
      "Loss: 35.622074585762206\n",
      "Loss: 35.62171729793222\n",
      "Loss: 35.62136047905734\n",
      "Loss: 35.62100414916995\n",
      "Loss: 35.6206482647602\n",
      "Loss: 35.62029286637634\n",
      "Loss: 35.61993794940628\n",
      "Loss: 35.61958349511179\n"
     ]
    },
    {
     "name": "stdout",
     "output_type": "stream",
     "text": [
      "Loss: 35.6192294569529\n",
      "Loss: 35.61887590176907\n",
      "Loss: 35.618522812474914\n",
      "Loss: 35.618170146584795\n",
      "Loss: 35.617817878542475\n",
      "Loss: 35.617466096061776\n",
      "Loss: 35.61711473127575\n",
      "Loss: 35.616763759430924\n"
     ]
    },
    {
     "name": "stdout",
     "output_type": "stream",
     "text": [
      "Loss: 35.616413236225945\n",
      "Loss: 35.61606309344856\n",
      "Loss: 35.61571335228548\n",
      "Loss: 35.61536405454621\n",
      "Loss: 35.61501513206696\n",
      "Loss: 35.61466659470951\n"
     ]
    },
    {
     "name": "stdout",
     "output_type": "stream",
     "text": [
      "Loss: 35.61431843518505\n",
      "Loss: 35.61397070815442\n",
      "Loss: 35.613623296576485\n",
      "Loss: 35.61327628090532\n",
      "Loss: 35.612929654045\n",
      "Loss: 35.61258337980805\n",
      "Loss: 35.61223747331743\n",
      "Loss: 35.611891895128565\n"
     ]
    },
    {
     "name": "stdout",
     "output_type": "stream",
     "text": [
      "Loss: 35.61154670310291\n",
      "Loss: 35.61120184336524\n",
      "Loss: 35.610857305854914\n",
      "Loss: 35.61051314835754\n",
      "Loss: 35.61016931556036\n",
      "Loss: 35.60982577638155\n",
      "Loss: 35.6094825834223\n",
      "Loss: 35.60913971697982\n",
      "Loss: 35.60879714947599\n"
     ]
    },
    {
     "name": "stdout",
     "output_type": "stream",
     "text": [
      "Loss: 35.60845493398857\n",
      "Loss: 35.60811300494118\n",
      "Loss: 35.607771409995706\n",
      "Loss: 35.60743011104039\n",
      "Loss: 35.60708908516261\n",
      "Loss: 35.60674838131873\n",
      "Loss: 35.60640791848223\n",
      "Loss: 35.60606778308707\n",
      "Loss: 35.60572791469072\n"
     ]
    },
    {
     "name": "stdout",
     "output_type": "stream",
     "text": [
      "Loss: 35.60538837335011\n",
      "Loss: 35.60504908566831\n",
      "Loss: 35.604710035170854\n",
      "Loss: 35.60437127540211\n",
      "Loss: 35.604032801582235\n",
      "Loss: 35.60369457633412\n",
      "Loss: 35.60335658046039\n",
      "Loss: 35.603018865672915\n"
     ]
    },
    {
     "name": "stdout",
     "output_type": "stream",
     "text": [
      "Loss: 35.60268141319518\n",
      "Loss: 35.60234418035095\n",
      "Loss: 35.60200724165448\n",
      "Loss: 35.60167049518771\n",
      "Loss: 35.60133399767177\n",
      "Loss: 35.60099775219656\n",
      "Loss: 35.60066173032831\n",
      "Loss: 35.600325923531315\n"
     ]
    },
    {
     "name": "stdout",
     "output_type": "stream",
     "text": [
      "Loss: 35.599990361761755\n",
      "Loss: 35.59965503974578\n",
      "Loss: 35.59931989457802\n",
      "Loss: 35.598984989035486\n",
      "Loss: 35.59865029767468\n",
      "Loss: 35.59831579990621\n",
      "Loss: 35.597981511605624\n",
      "Loss: 35.597647451299274\n"
     ]
    },
    {
     "name": "stdout",
     "output_type": "stream",
     "text": [
      "Loss: 35.59731357359913\n",
      "Loss: 35.596979893473666\n",
      "Loss: 35.59664641368878\n",
      "Loss: 35.596313140927904\n",
      "Loss: 35.595980045675205\n",
      "Loss: 35.59564712842206\n"
     ]
    },
    {
     "name": "stdout",
     "output_type": "stream",
     "text": [
      "Loss: 35.595314422687835\n",
      "Loss: 35.594981861504884\n",
      "Loss: 35.59464949628213\n",
      "Loss: 35.594317320406056\n",
      "Loss: 35.593985300844025\n",
      "Loss: 35.59365346503695\n",
      "Loss: 35.593321798959984\n"
     ]
    },
    {
     "name": "stdout",
     "output_type": "stream",
     "text": [
      "Loss: 35.59299029636307\n",
      "Loss: 35.59265893167998\n",
      "Loss: 35.592327763432934\n",
      "Loss: 35.59199673819929\n",
      "Loss: 35.59166585472826\n",
      "Loss: 35.59133514135344\n",
      "Loss: 35.59100457269059\n"
     ]
    },
    {
     "name": "stdout",
     "output_type": "stream",
     "text": [
      "Loss: 35.590674162267646\n",
      "Loss: 35.59034390820329\n",
      "Loss: 35.59001374849249\n",
      "Loss: 35.58968376706139\n",
      "Loss: 35.589353934068185\n",
      "Loss: 35.58902420900144\n",
      "Loss: 35.58869463930376\n",
      "Loss: 35.58836519570624\n"
     ]
    },
    {
     "name": "stdout",
     "output_type": "stream",
     "text": [
      "Loss: 35.58803587583692\n",
      "Loss: 35.58770670653421\n",
      "Loss: 35.58737762729252\n",
      "Loss: 35.587048668611494\n",
      "Loss: 35.586719849371555\n",
      "Loss: 35.58639116547549\n",
      "Loss: 35.58606257931531\n",
      "Loss: 35.58573407924085\n"
     ]
    },
    {
     "name": "stdout",
     "output_type": "stream",
     "text": [
      "Loss: 35.58540573832209\n",
      "Loss: 35.585077504139456\n",
      "Loss: 35.5847493819945\n",
      "Loss: 35.58442132887171\n",
      "Loss: 35.584093391908134\n",
      "Loss: 35.58376556037669\n",
      "Loss: 35.58343784139139\n",
      "Loss: 35.583110220861464\n"
     ]
    },
    {
     "name": "stdout",
     "output_type": "stream",
     "text": [
      "Loss: 35.58278268623139\n",
      "Loss: 35.5824552544146\n",
      "Loss: 35.58212789889457\n",
      "Loss: 35.58180064766256\n",
      "Loss: 35.58147347667254\n",
      "Loss: 35.58114639399094\n",
      "Loss: 35.580819404002774\n",
      "Loss: 35.58049250375575\n"
     ]
    },
    {
     "name": "stdout",
     "output_type": "stream",
     "text": [
      "Loss: 35.5801656820682\n",
      "Loss: 35.57983894256836\n",
      "Loss: 35.579512258591414\n",
      "Loss: 35.579185672397976\n",
      "Loss: 35.57885912962958\n",
      "Loss: 35.578532702533884\n",
      "Loss: 35.5782063221322\n",
      "Loss: 35.57788000631341\n"
     ]
    },
    {
     "name": "stdout",
     "output_type": "stream",
     "text": [
      "Loss: 35.57755375956203\n",
      "Loss: 35.57722760484326\n",
      "Loss: 35.57690149856488\n",
      "Loss: 35.57657545124943\n",
      "Loss: 35.57624947677594\n",
      "Loss: 35.57592355192825\n",
      "Loss: 35.57559765031733\n",
      "Loss: 35.57527185943708\n"
     ]
    },
    {
     "name": "stdout",
     "output_type": "stream",
     "text": [
      "Loss: 35.57494610450857\n",
      "Loss: 35.574620413785574\n",
      "Loss: 35.57429475640552\n",
      "Loss: 35.57396914335861\n",
      "Loss: 35.57364359363111\n",
      "Loss: 35.57331811267935\n",
      "Loss: 35.57299266689042\n",
      "Loss: 35.57266723403067\n"
     ]
    },
    {
     "name": "stdout",
     "output_type": "stream",
     "text": [
      "Loss: 35.57234186611137\n",
      "Loss: 35.57201656018349\n",
      "Loss: 35.5716912338423\n",
      "Loss: 35.5713659953642\n",
      "Loss: 35.57104079296591\n",
      "Loss: 35.57071564373968\n",
      "Loss: 35.57039050082929\n",
      "Loss: 35.570065362633855\n"
     ]
    },
    {
     "name": "stdout",
     "output_type": "stream",
     "text": [
      "Loss: 35.56974027579297\n",
      "Loss: 35.56941527253154\n",
      "Loss: 35.56909023968644\n",
      "Loss: 35.56876524997056\n",
      "Loss: 35.56844030175073\n",
      "Loss: 35.56811535635178\n",
      "Loss: 35.56779046024127\n",
      "Loss: 35.56746556061854\n"
     ]
    },
    {
     "name": "stdout",
     "output_type": "stream",
     "text": [
      "Loss: 35.567140659721005\n",
      "Loss: 35.56681583717271\n",
      "Loss: 35.566491052884345\n",
      "Loss: 35.56616620471693\n",
      "Loss: 35.565841440093415\n",
      "Loss: 35.565516653609876\n",
      "Loss: 35.565191910758685\n",
      "Loss: 35.56486714063241\n"
     ]
    },
    {
     "name": "stdout",
     "output_type": "stream",
     "text": [
      "Loss: 35.56454240365981\n",
      "Loss: 35.56421771197761\n",
      "Loss: 35.563892986366476\n",
      "Loss: 35.56356827918536\n",
      "Loss: 35.56324358531701\n",
      "Loss: 35.56291887432239\n",
      "Loss: 35.56259419422249\n",
      "Loss: 35.56226950939318\n"
     ]
    },
    {
     "name": "stdout",
     "output_type": "stream",
     "text": [
      "Loss: 35.56194485610842\n",
      "Loss: 35.56162016781373\n",
      "Loss: 35.561295513849764\n",
      "Loss: 35.56097082390554\n",
      "Loss: 35.56064611935089\n",
      "Loss: 35.560321482037416\n",
      "Loss: 35.559996781789934\n"
     ]
    },
    {
     "name": "stdout",
     "output_type": "stream",
     "text": [
      "Loss: 35.559672111259104\n",
      "Loss: 35.55934740697114\n",
      "Loss: 35.559022701088715\n",
      "Loss: 35.55869800449013\n",
      "Loss: 35.558373298402046\n",
      "Loss: 35.55804857297465\n",
      "Loss: 35.55772383104431\n",
      "Loss: 35.55739911162915\n"
     ]
    },
    {
     "name": "stdout",
     "output_type": "stream",
     "text": [
      "Loss: 35.55707437232287\n",
      "Loss: 35.556749584475554\n",
      "Loss: 35.55642480954542\n",
      "Loss: 35.556100009924336\n",
      "Loss: 35.55577518562402\n",
      "Loss: 35.55545035490667\n",
      "Loss: 35.555125514900524\n",
      "Loss: 35.554800660586054\n"
     ]
    },
    {
     "name": "stdout",
     "output_type": "stream",
     "text": [
      "Loss: 35.55447576524153\n",
      "Loss: 35.55415083743439\n",
      "Loss: 35.553825939078855\n",
      "Loss: 35.55350098037343\n",
      "Loss: 35.55317602223025\n",
      "Loss: 35.55285101959001\n",
      "Loss: 35.55252598478545\n"
     ]
    },
    {
     "name": "stdout",
     "output_type": "stream",
     "text": [
      "Loss: 35.55220093630289\n",
      "Loss: 35.55187586906305\n",
      "Loss: 35.55155077737697\n",
      "Loss: 35.55122564621156\n",
      "Loss: 35.550900469111056\n",
      "Loss: 35.550575266140086\n",
      "Loss: 35.55025005648647\n"
     ]
    },
    {
     "name": "stdout",
     "output_type": "stream",
     "text": [
      "Loss: 35.54992481685044\n",
      "Loss: 35.54959952000039\n",
      "Loss: 35.54927419151495\n",
      "Loss: 35.54894884129852\n",
      "Loss: 35.54862344752883\n",
      "Loss: 35.5482980468356\n",
      "Loss: 35.547972600354306\n",
      "Loss: 35.547647065474536\n"
     ]
    },
    {
     "name": "stdout",
     "output_type": "stream",
     "text": [
      "Loss: 35.54732152983846\n",
      "Loss: 35.54699594010594\n",
      "Loss: 35.54667033552619\n",
      "Loss: 35.54634468883277\n",
      "Loss: 35.54601899062241\n",
      "Loss: 35.54569325828724\n",
      "Loss: 35.54536744595432\n",
      "Loss: 35.54504164081373\n"
     ]
    },
    {
     "name": "stdout",
     "output_type": "stream",
     "text": [
      "Loss: 35.54471578093696\n",
      "Loss: 35.54438985021707\n",
      "Loss: 35.54406389250177\n",
      "Loss: 35.54373786988452\n",
      "Loss: 35.54341181677209\n",
      "Loss: 35.543085709499984\n",
      "Loss: 35.542759551193015\n",
      "Loss: 35.54243334306602\n"
     ]
    },
    {
     "name": "stdout",
     "output_type": "stream",
     "text": [
      "Loss: 35.54210710112566\n",
      "Loss: 35.54178077624587\n",
      "Loss: 35.541454418563525\n",
      "Loss: 35.541128018439785\n",
      "Loss: 35.54080154431446\n",
      "Loss: 35.54047501481308\n",
      "Loss: 35.540148465115784\n",
      "Loss: 35.53982181779155\n"
     ]
    },
    {
     "name": "stdout",
     "output_type": "stream",
     "text": [
      "Loss: 35.53949515196584\n",
      "Loss: 35.5391684129956\n",
      "Loss: 35.53884160711254\n",
      "Loss: 35.53851473566591\n",
      "Loss: 35.53818780690811\n",
      "Loss: 35.537860830267405\n",
      "Loss: 35.537533807818996\n",
      "Loss: 35.53720670498171\n"
     ]
    },
    {
     "name": "stdout",
     "output_type": "stream",
     "text": [
      "Loss: 35.53687954169405\n",
      "Loss: 35.5365523255564\n",
      "Loss: 35.53622503573349\n",
      "Loss: 35.535897655179596\n",
      "Loss: 35.53557026453328\n",
      "Loss: 35.535242780235826\n",
      "Loss: 35.53491523399539\n",
      "Loss: 35.53458760748589\n"
     ]
    },
    {
     "name": "stdout",
     "output_type": "stream",
     "text": [
      "Loss: 35.53425995285758\n",
      "Loss: 35.533932176262255\n",
      "Loss: 35.53360436969917\n",
      "Loss: 35.53327649869515\n",
      "Loss: 35.532948527902676\n",
      "Loss: 35.53262050075633\n",
      "Loss: 35.53229239487923\n",
      "Loss: 35.53196421482506\n"
     ]
    },
    {
     "name": "stdout",
     "output_type": "stream",
     "text": [
      "Loss: 35.53163597586047\n",
      "Loss: 35.5313076679755\n",
      "Loss: 35.53097928854519\n",
      "Loss: 35.53065080696853\n",
      "Loss: 35.53032226957043\n",
      "Loss: 35.52999362477591\n",
      "Loss: 35.52966494409161\n",
      "Loss: 35.52933617352093\n"
     ]
    },
    {
     "name": "stdout",
     "output_type": "stream",
     "text": [
      "Loss: 35.52900732448204\n",
      "Loss: 35.52867838062347\n",
      "Loss: 35.528349398134964\n",
      "Loss: 35.52802028696553\n",
      "Loss: 35.527691108482095\n",
      "Loss: 35.527361869101725\n",
      "Loss: 35.527032541214396\n",
      "Loss: 35.526703109423295\n"
     ]
    },
    {
     "name": "stdout",
     "output_type": "stream",
     "text": [
      "Loss: 35.52637360948065\n",
      "Loss: 35.52604401026917\n",
      "Loss: 35.52571434771826\n",
      "Loss: 35.52538462554561\n",
      "Loss: 35.52505477832465\n",
      "Loss: 35.52472485195935\n",
      "Loss: 35.524394838105536\n",
      "Loss: 35.52406473295421\n"
     ]
    },
    {
     "name": "stdout",
     "output_type": "stream",
     "text": [
      "Loss: 35.52373454654468\n",
      "Loss: 35.52340425710443\n",
      "Loss: 35.52307387348125\n",
      "Loss: 35.52274341898293\n",
      "Loss: 35.52241285759353\n",
      "Loss: 35.522082220961586\n",
      "Loss: 35.5217515009858\n",
      "Loss: 35.52142065975576\n"
     ]
    },
    {
     "name": "stdout",
     "output_type": "stream",
     "text": [
      "Loss: 35.52108972381446\n",
      "Loss: 35.52075871795314\n",
      "Loss: 35.520427620252434\n",
      "Loss: 35.52009639423183\n",
      "Loss: 35.51976507308289\n",
      "Loss: 35.51943368930988\n",
      "Loss: 35.51910218918772\n",
      "Loss: 35.51877057165162\n"
     ]
    },
    {
     "name": "stdout",
     "output_type": "stream",
     "text": [
      "Loss: 35.518438872699384\n",
      "Loss: 35.518107082145455\n",
      "Loss: 35.51777519816637\n",
      "Loss: 35.51744317689255\n",
      "Loss: 35.51711108458994\n",
      "Loss: 35.51677885601498\n",
      "Loss: 35.51644658422575\n",
      "Loss: 35.51611415592773\n"
     ]
    },
    {
     "name": "stdout",
     "output_type": "stream",
     "text": [
      "Loss: 35.51578162559704\n",
      "Loss: 35.51544903216089\n",
      "Loss: 35.515116286667464\n",
      "Loss: 35.514783440918066\n",
      "Loss: 35.51445051843358\n",
      "Loss: 35.51411746364851\n",
      "Loss: 35.51378428957224\n",
      "Loss: 35.51345103779993\n",
      "Loss: 35.51311765084444\n"
     ]
    },
    {
     "name": "stdout",
     "output_type": "stream",
     "text": [
      "Loss: 35.512784151494394\n",
      "Loss: 35.512450573131574\n",
      "Loss: 35.512116845366386\n",
      "Loss: 35.51178300151916\n",
      "Loss: 35.51144907771162\n",
      "Loss: 35.51111501511995\n",
      "Loss: 35.51078086371218\n",
      "Loss: 35.51044658108471\n"
     ]
    },
    {
     "name": "stdout",
     "output_type": "stream",
     "text": [
      "Loss: 35.51011217218942\n",
      "Loss: 35.50977764589995\n",
      "Loss: 35.509443007549656\n",
      "Loss: 35.50910827272327\n",
      "Loss: 35.508773368588166\n",
      "Loss: 35.50843840270234\n",
      "Loss: 35.508103274681964\n",
      "Loss: 35.50776807092022\n",
      "Loss: 35.50743267904436\n"
     ]
    },
    {
     "name": "stdout",
     "output_type": "stream",
     "text": [
      "Loss: 35.50709720571357\n",
      "Loss: 35.506761610009015\n",
      "Loss: 35.5064258681008\n",
      "Loss: 35.50609004064783\n",
      "Loss: 35.50575405859063\n",
      "Loss: 35.50541795436414\n",
      "Loss: 35.50508171209708\n",
      "Loss: 35.5047453644271\n"
     ]
    },
    {
     "name": "stdout",
     "output_type": "stream",
     "text": [
      "Loss: 35.504408857281575\n",
      "Loss: 35.504072243042046\n",
      "Loss: 35.503735495816144\n",
      "Loss: 35.50339862739073\n",
      "Loss: 35.503061622563806\n",
      "Loss: 35.50272445784157\n",
      "Loss: 35.50238721479971\n",
      "Loss: 35.50204978283554\n",
      "Loss: 35.50171224111778\n"
     ]
    },
    {
     "name": "stdout",
     "output_type": "stream",
     "text": [
      "Loss: 35.501374575623906\n",
      "Loss: 35.50103678000388\n",
      "Loss: 35.50069879914232\n",
      "Loss: 35.50036071417811\n",
      "Loss: 35.500022495054054\n",
      "Loss: 35.49968412160606\n",
      "Loss: 35.499345622082565\n",
      "Loss: 35.49900696966105\n"
     ]
    },
    {
     "name": "stdout",
     "output_type": "stream",
     "text": [
      "Loss: 35.49866817471941\n",
      "Loss: 35.4983292571964\n",
      "Loss: 35.49799018744365\n",
      "Loss: 35.49765096084147\n",
      "Loss: 35.4973115953626\n",
      "Loss: 35.496972094272884\n",
      "Loss: 35.4966324488303\n",
      "Loss: 35.49629266665276\n"
     ]
    },
    {
     "name": "stdout",
     "output_type": "stream",
     "text": [
      "Loss: 35.49595270910844\n",
      "Loss: 35.49561261736432\n",
      "Loss: 35.49527235347485\n",
      "Loss: 35.494931952674044\n",
      "Loss: 35.49459142698353\n",
      "Loss: 35.494250730002264\n",
      "Loss: 35.493909865457816\n",
      "Loss: 35.4935688755761\n"
     ]
    },
    {
     "name": "stdout",
     "output_type": "stream",
     "text": [
      "Loss: 35.493227712546\n",
      "Loss: 35.492886380045434\n",
      "Loss: 35.492544907702765\n",
      "Loss: 35.49220329355204\n",
      "Loss: 35.49186151131426\n",
      "Loss: 35.491519533458494\n",
      "Loss: 35.49117744786863\n",
      "Loss: 35.49083518249553\n"
     ]
    },
    {
     "name": "stdout",
     "output_type": "stream",
     "text": [
      "Loss: 35.49049276229654\n",
      "Loss: 35.49015018022116\n",
      "Loss: 35.48980742949706\n",
      "Loss: 35.4894645230739\n",
      "Loss: 35.48912144618737\n",
      "Loss: 35.48877820178107\n",
      "Loss: 35.48843481293741\n",
      "Loss: 35.48809122336023\n"
     ]
    },
    {
     "name": "stdout",
     "output_type": "stream",
     "text": [
      "Loss: 35.487747463469\n",
      "Loss: 35.487403554710426\n",
      "Loss: 35.48705948249465\n",
      "Loss: 35.48671522192625\n",
      "Loss: 35.486370828249285\n",
      "Loss: 35.4860262111879\n",
      "Loss: 35.485681441401105\n",
      "Loss: 35.48533647948798\n"
     ]
    },
    {
     "name": "stdout",
     "output_type": "stream",
     "text": [
      "Loss: 35.48499137547496\n",
      "Loss: 35.48464607836824\n",
      "Loss: 35.484300593470664\n",
      "Loss: 35.483954971101184\n",
      "Loss: 35.48360912484391\n",
      "Loss: 35.483263115593026\n",
      "Loss: 35.48291692337976\n"
     ]
    },
    {
     "name": "stdout",
     "output_type": "stream",
     "text": [
      "Loss: 35.482570567749924\n",
      "Loss: 35.482224015648214\n",
      "Loss: 35.48187725925239\n",
      "Loss: 35.481530347690864\n",
      "Loss: 35.48118324586613\n",
      "Loss: 35.48083594943279\n",
      "Loss: 35.48048845618687\n",
      "Loss: 35.48014078053618\n"
     ]
    },
    {
     "name": "stdout",
     "output_type": "stream",
     "text": [
      "Loss: 35.479792912567675\n",
      "Loss: 35.47944489072301\n",
      "Loss: 35.47909662445488\n",
      "Loss: 35.4787481955076\n",
      "Loss: 35.478399599522255\n",
      "Loss: 35.478050793189816\n",
      "Loss: 35.47770174879595\n",
      "Loss: 35.47735254436955\n"
     ]
    },
    {
     "name": "stdout",
     "output_type": "stream",
     "text": [
      "Loss: 35.47700310573927\n",
      "Loss: 35.47665353857946\n",
      "Loss: 35.47630370731628\n",
      "Loss: 35.47595370975004\n",
      "Loss: 35.475603492399046\n",
      "Loss: 35.4752530905168\n",
      "Loss: 35.47490247434996\n",
      "Loss: 35.47455167462687\n"
     ]
    },
    {
     "name": "stdout",
     "output_type": "stream",
     "text": [
      "Loss: 35.47420064050109\n",
      "Loss: 35.473849418081365\n",
      "Loss: 35.473497982799415\n",
      "Loss: 35.4731463527358\n",
      "Loss: 35.472794469060126\n",
      "Loss: 35.47244241130475\n",
      "Loss: 35.47209013568272\n",
      "Loss: 35.471737658723434\n"
     ]
    },
    {
     "name": "stdout",
     "output_type": "stream",
     "text": [
      "Loss: 35.47138495268249\n",
      "Loss: 35.471032026142474\n",
      "Loss: 35.47067889240934\n",
      "Loss: 35.47032554724855\n",
      "Loss: 35.46997199353978\n",
      "Loss: 35.46961820092827\n",
      "Loss: 35.46926419209943\n"
     ]
    },
    {
     "name": "stdout",
     "output_type": "stream",
     "text": [
      "Loss: 35.46890996074612\n",
      "Loss: 35.46855550582379\n",
      "Loss: 35.46820085510223\n",
      "Loss: 35.467845938301956\n",
      "Loss: 35.467490807452904\n",
      "Loss: 35.467135462300135\n",
      "Loss: 35.46677989713431\n",
      "Loss: 35.4664241012174\n"
     ]
    },
    {
     "name": "stdout",
     "output_type": "stream",
     "text": [
      "Loss: 35.46606806826044\n",
      "Loss: 35.46571177116902\n",
      "Loss: 35.465355265566856\n",
      "Loss: 35.46499855552074\n",
      "Loss: 35.464641568598815\n",
      "Loss: 35.464284371828455\n",
      "Loss: 35.46392694005027\n",
      "Loss: 35.46356925651334\n"
     ]
    },
    {
     "name": "stdout",
     "output_type": "stream",
     "text": [
      "Loss: 35.46321133797483\n",
      "Loss: 35.46285316955906\n",
      "Loss: 35.46249477302684\n",
      "Loss: 35.46213614238\n",
      "Loss: 35.4617772364492\n",
      "Loss: 35.46141810577093\n",
      "Loss: 35.461058740619656\n",
      "Loss: 35.460699118922165\n"
     ]
    },
    {
     "name": "stdout",
     "output_type": "stream",
     "text": [
      "Loss: 35.46033923080376\n",
      "Loss: 35.459979085933504\n",
      "Loss: 35.459618718898305\n",
      "Loss: 35.459258075259\n",
      "Loss: 35.45889721844619\n",
      "Loss: 35.45853604728384\n",
      "Loss: 35.458174689442416\n",
      "Loss: 35.45781300924695\n"
     ]
    },
    {
     "name": "stdout",
     "output_type": "stream",
     "text": [
      "Loss: 35.45745111388869\n",
      "Loss: 35.4570889753636\n",
      "Loss: 35.456726511597125\n",
      "Loss: 35.456363833297125\n",
      "Loss: 35.456000857024584\n",
      "Loss: 35.45563765065992\n",
      "Loss: 35.45527413351447\n",
      "Loss: 35.4549104085738\n"
     ]
    },
    {
     "name": "stdout",
     "output_type": "stream",
     "text": [
      "Loss: 35.45454637072576\n",
      "Loss: 35.45418209345527\n",
      "Loss: 35.45381751108635\n",
      "Loss: 35.45345267386594\n",
      "Loss: 35.45308755768608\n",
      "Loss: 35.45272216955129\n",
      "Loss: 35.45235651177105\n",
      "Loss: 35.45199055376664\n"
     ]
    },
    {
     "name": "stdout",
     "output_type": "stream",
     "text": [
      "Loss: 35.45162435287795\n",
      "Loss: 35.451257853960726\n",
      "Loss: 35.45089107060038\n",
      "Loss: 35.45052400515493\n",
      "Loss: 35.450156654994984\n",
      "Loss: 35.449788999810764\n",
      "Loss: 35.44942108612801\n",
      "Loss: 35.449052891126236\n",
      "Loss: 35.448684362818554\n"
     ]
    },
    {
     "name": "stdout",
     "output_type": "stream",
     "text": [
      "Loss: 35.44831558072901\n",
      "Loss: 35.447946490698804\n",
      "Loss: 35.44757711511787\n",
      "Loss: 35.44720746019324\n",
      "Loss: 35.446837486403034\n",
      "Loss: 35.446467211582096\n",
      "Loss: 35.4460966610045\n",
      "Loss: 35.44572577125093\n"
     ]
    },
    {
     "name": "stdout",
     "output_type": "stream",
     "text": [
      "Loss: 35.44535461070789\n",
      "Loss: 35.444983139318495\n",
      "Loss: 35.44461135438841\n",
      "Loss: 35.44423926455238\n",
      "Loss: 35.44386686830991\n",
      "Loss: 35.44349418473667\n",
      "Loss: 35.44312114766225\n",
      "Loss: 35.44274783974837\n"
     ]
    },
    {
     "name": "stdout",
     "output_type": "stream",
     "text": [
      "Loss: 35.442374216405305\n",
      "Loss: 35.442000259506514\n",
      "Loss: 35.44162597843096\n",
      "Loss: 35.44125141829965\n",
      "Loss: 35.44087648990829\n",
      "Loss: 35.44050127293343\n",
      "Loss: 35.44012570812694\n",
      "Loss: 35.439749820189526\n",
      "Loss: 35.43937360948013\n"
     ]
    },
    {
     "name": "stdout",
     "output_type": "stream",
     "text": [
      "Loss: 35.43899709856668\n",
      "Loss: 35.438620225779495\n",
      "Loss: 35.43824306615769\n",
      "Loss: 35.43786553659863\n",
      "Loss: 35.437487688605195\n",
      "Loss: 35.437109509635725\n",
      "Loss: 35.43673100249135\n",
      "Loss: 35.43635214024286\n"
     ]
    },
    {
     "name": "stdout",
     "output_type": "stream",
     "text": [
      "Loss: 35.435972955392366\n",
      "Loss: 35.43559341286792\n",
      "Loss: 35.43521351722687\n",
      "Loss: 35.43483331025779\n",
      "Loss: 35.434452754659766\n",
      "Loss: 35.43407184151414\n",
      "Loss: 35.43369059274615\n",
      "Loss: 35.43330895288131\n"
     ]
    },
    {
     "name": "stdout",
     "output_type": "stream",
     "text": [
      "Loss: 35.43292700527088\n",
      "Loss: 35.432544685376165\n",
      "Loss: 35.4321620176399\n",
      "Loss: 35.43177900290339\n",
      "Loss: 35.43139562292175\n",
      "Loss: 35.4310118649017\n",
      "Loss: 35.43062775838967\n",
      "Loss: 35.430243322814924\n"
     ]
    },
    {
     "name": "stdout",
     "output_type": "stream",
     "text": [
      "Loss: 35.42985846536275\n",
      "Loss: 35.429473269668385\n",
      "Loss: 35.42908770980226\n",
      "Loss: 35.42870180253997\n",
      "Loss: 35.42831549238951\n",
      "Loss: 35.42792880414722\n",
      "Loss: 35.42754177620993\n",
      "Loss: 35.42715435944997\n"
     ]
    },
    {
     "name": "stdout",
     "output_type": "stream",
     "text": [
      "Loss: 35.42676658427145\n",
      "Loss: 35.42637835029124\n",
      "Loss: 35.425989806186614\n",
      "Loss: 35.42560086194724\n",
      "Loss: 35.42521156008349\n",
      "Loss: 35.42482185163155\n",
      "Loss: 35.42443172421291\n",
      "Loss: 35.42404126090252\n"
     ]
    },
    {
     "name": "stdout",
     "output_type": "stream",
     "text": [
      "Loss: 35.4236503927189\n",
      "Loss: 35.423259116342344\n",
      "Loss: 35.42286742455432\n",
      "Loss: 35.42247538367017\n",
      "Loss: 35.42208293467181\n",
      "Loss: 35.42169010008966\n",
      "Loss: 35.42129680371882\n",
      "Loss: 35.42090318585314\n",
      "Loss: 35.420509104536855\n"
     ]
    },
    {
     "name": "stdout",
     "output_type": "stream",
     "text": [
      "Loss: 35.420114619769016\n",
      "Loss: 35.419719752034894\n",
      "Loss: 35.41932445975063\n",
      "Loss: 35.418928790107465\n",
      "Loss: 35.41853267061471\n",
      "Loss: 35.418136160832596\n",
      "Loss: 35.417739193680326\n",
      "Loss: 35.41734182317698\n"
     ]
    },
    {
     "name": "stdout",
     "output_type": "stream",
     "text": [
      "Loss: 35.41694405212351\n",
      "Loss: 35.41654585381694\n",
      "Loss: 35.41614719445203\n",
      "Loss: 35.41574816963177\n",
      "Loss: 35.41534869211934\n",
      "Loss: 35.414948774605776\n",
      "Loss: 35.41454845509464\n",
      "Loss: 35.41414766189176\n"
     ]
    },
    {
     "name": "stdout",
     "output_type": "stream",
     "text": [
      "Loss: 35.41374645848383\n",
      "Loss: 35.413344809375815\n",
      "Loss: 35.412942742898174\n",
      "Loss: 35.412540181938354\n",
      "Loss: 35.41213723031059\n",
      "Loss: 35.41173383201447\n",
      "Loss: 35.41132998287243\n",
      "Loss: 35.410925664427594\n"
     ]
    },
    {
     "name": "stdout",
     "output_type": "stream",
     "text": [
      "Loss: 35.410520899586444\n",
      "Loss: 35.41011570320307\n",
      "Loss: 35.409710053995944\n",
      "Loss: 35.40930391743896\n",
      "Loss: 35.40889733064895\n",
      "Loss: 35.40849029827563\n",
      "Loss: 35.4080828257318\n",
      "Loss: 35.407674870491874\n",
      "Loss: 35.40726642394185\n"
     ]
    },
    {
     "name": "stdout",
     "output_type": "stream",
     "text": [
      "Loss: 35.40685755861726\n",
      "Loss: 35.40644820219625\n",
      "Loss: 35.40603836156574\n",
      "Loss: 35.4056280728256\n",
      "Loss: 35.405217277084226\n",
      "Loss: 35.40480601414586\n",
      "Loss: 35.404394289174945\n",
      "Loss: 35.40398207343125\n"
     ]
    },
    {
     "name": "stdout",
     "output_type": "stream",
     "text": [
      "Loss: 35.403569384883596\n",
      "Loss: 35.40315620314659\n",
      "Loss: 35.4027425264314\n",
      "Loss: 35.40232836871657\n",
      "Loss: 35.40191371541656\n",
      "Loss: 35.40149859029866\n",
      "Loss: 35.401082956729766\n",
      "Loss: 35.4006668332056\n"
     ]
    },
    {
     "name": "stdout",
     "output_type": "stream",
     "text": [
      "Loss: 35.400250205847975\n",
      "Loss: 35.39983304559013\n",
      "Loss: 35.3994154491135\n",
      "Loss: 35.39899726609923\n",
      "Loss: 35.398578627154194\n",
      "Loss: 35.398159489106604\n",
      "Loss: 35.39773980515288\n",
      "Loss: 35.39731963118769\n"
     ]
    },
    {
     "name": "stdout",
     "output_type": "stream",
     "text": [
      "Loss: 35.396898929761576\n",
      "Loss: 35.39647771908101\n",
      "Loss: 35.396055993582564\n",
      "Loss: 35.3956337196827\n",
      "Loss: 35.39521096100841\n",
      "Loss: 35.394787655256586\n",
      "Loss: 35.39436382962769\n",
      "Loss: 35.39393945387421\n",
      "Loss: 35.393514561874234\n"
     ]
    },
    {
     "name": "stdout",
     "output_type": "stream",
     "text": [
      "Loss: 35.39308914019474\n",
      "Loss: 35.39266316905855\n",
      "Loss: 35.39223666883256\n",
      "Loss: 35.391809632575864\n",
      "Loss: 35.39138202849392\n",
      "Loss: 35.390953918023605\n",
      "Loss: 35.39052521869007\n",
      "Loss: 35.39009600166929\n"
     ]
    },
    {
     "name": "stdout",
     "output_type": "stream",
     "text": [
      "Loss: 35.38966620547619\n",
      "Loss: 35.38923588995678\n",
      "Loss: 35.3888049750144\n",
      "Loss: 35.38837354427429\n",
      "Loss: 35.38794153360857\n",
      "Loss: 35.38750896753138\n",
      "Loss: 35.3870758397907\n",
      "Loss: 35.386642120580696\n"
     ]
    },
    {
     "name": "stdout",
     "output_type": "stream",
     "text": [
      "Loss: 35.38620784230885\n",
      "Loss: 35.38577300864275\n",
      "Loss: 35.38533759173492\n",
      "Loss: 35.38490159873072\n",
      "Loss: 35.3844650147218\n",
      "Loss: 35.384027846384434\n",
      "Loss: 35.38359011775977\n"
     ]
    },
    {
     "name": "stdout",
     "output_type": "stream",
     "text": [
      "Loss: 35.38315180637283\n",
      "Loss: 35.38271287920511\n",
      "Loss: 35.38227336893781\n",
      "Loss: 35.38183328606166\n",
      "Loss: 35.381392592728474\n",
      "Loss: 35.38095132966066\n",
      "Loss: 35.38050942804805\n"
     ]
    },
    {
     "name": "stdout",
     "output_type": "stream",
     "text": [
      "Loss: 35.38006694608265\n",
      "Loss: 35.379623864443126\n",
      "Loss: 35.37918017134626\n",
      "Loss: 35.3787358883409\n",
      "Loss: 35.378290937225884\n",
      "Loss: 35.377845434556164\n",
      "Loss: 35.377399272886336\n",
      "Loss: 35.37695253053472\n"
     ]
    },
    {
     "name": "stdout",
     "output_type": "stream",
     "text": [
      "Loss: 35.37650514682792\n",
      "Loss: 35.37605712969261\n",
      "Loss: 35.37560851443045\n",
      "Loss: 35.37515925587385\n",
      "Loss: 35.37470938108929\n",
      "Loss: 35.37425884532288\n",
      "Loss: 35.37380771204399\n",
      "Loss: 35.37335593095008\n"
     ]
    },
    {
     "name": "stdout",
     "output_type": "stream",
     "text": [
      "Loss: 35.37290348819864\n",
      "Loss: 35.37245045244552\n",
      "Loss: 35.371996726302996\n",
      "Loss: 35.371542353517206\n",
      "Loss: 35.37108735989493\n",
      "Loss: 35.370631702926175\n",
      "Loss: 35.37017539136547\n",
      "Loss: 35.369718422424725\n"
     ]
    },
    {
     "name": "stdout",
     "output_type": "stream",
     "text": [
      "Loss: 35.36926077069097\n",
      "Loss: 35.36880249331985\n",
      "Loss: 35.36834352134661\n",
      "Loss: 35.36788390951481\n",
      "Loss: 35.36742363278172\n",
      "Loss: 35.36696265161688\n",
      "Loss: 35.366501004536744\n",
      "Loss: 35.366038701598406\n"
     ]
    },
    {
     "name": "stdout",
     "output_type": "stream",
     "text": [
      "Loss: 35.36557571845351\n",
      "Loss: 35.365112023167555\n",
      "Loss: 35.36464766822867\n",
      "Loss: 35.36418262666866\n",
      "Loss: 35.363716899971436\n",
      "Loss: 35.36325047667872\n",
      "Loss: 35.362783339457685\n",
      "Loss: 35.36231554229712\n"
     ]
    },
    {
     "name": "stdout",
     "output_type": "stream",
     "text": [
      "Loss: 35.3618469992193\n",
      "Loss: 35.3613777910092\n",
      "Loss: 35.36090785931509\n",
      "Loss: 35.3604372333111\n",
      "Loss: 35.359965877358036\n",
      "Loss: 35.35949383545633\n",
      "Loss: 35.35902108408445\n",
      "Loss: 35.35854757252406\n"
     ]
    },
    {
     "name": "stdout",
     "output_type": "stream",
     "text": [
      "Loss: 35.35807334777569\n",
      "Loss: 35.35759843993904\n",
      "Loss: 35.35712278533204\n",
      "Loss: 35.35664638570405\n",
      "Loss: 35.356169266054245\n",
      "Loss: 35.35569141443017\n",
      "Loss: 35.355212831744026\n",
      "Loss: 35.35473348828459\n"
     ]
    },
    {
     "name": "stdout",
     "output_type": "stream",
     "text": [
      "Loss: 35.35425342677038\n",
      "Loss: 35.35377261731178\n",
      "Loss: 35.353291033668604\n",
      "Loss: 35.352808735278536\n",
      "Loss: 35.35232568546404\n",
      "Loss: 35.35184187071312\n",
      "Loss: 35.35135728058741\n",
      "Loss: 35.35087194307893\n"
     ]
    },
    {
     "name": "stdout",
     "output_type": "stream",
     "text": [
      "Loss: 35.350385827146624\n",
      "Loss: 35.34989896051152\n",
      "Loss: 35.34941132622082\n",
      "Loss: 35.348922913179834\n",
      "Loss: 35.348433725993864\n",
      "Loss: 35.347943781608066\n",
      "Loss: 35.347453014458075\n",
      "Loss: 35.34696147045955\n"
     ]
    },
    {
     "name": "stdout",
     "output_type": "stream",
     "text": [
      "Loss: 35.3464691811101\n",
      "Loss: 35.34597606708668\n",
      "Loss: 35.345482187128\n",
      "Loss: 35.34498748832399\n",
      "Loss: 35.3444920298553\n",
      "Loss: 35.34399571350617\n",
      "Loss: 35.3434986243134\n",
      "Loss: 35.343000721550254\n"
     ]
    },
    {
     "name": "stdout",
     "output_type": "stream",
     "text": [
      "Loss: 35.34250203442578\n",
      "Loss: 35.342002531117295\n",
      "Loss: 35.341502196537434\n",
      "Loss: 35.34100103209266\n",
      "Loss: 35.340499068267974\n",
      "Loss: 35.33999627496096\n",
      "Loss: 35.33949265246292\n",
      "Loss: 35.338988215076256\n"
     ]
    },
    {
     "name": "stdout",
     "output_type": "stream",
     "text": [
      "Loss: 35.338482930799145\n",
      "Loss: 35.33797681854278\n",
      "Loss: 35.337469867859774\n",
      "Loss: 35.33696211807668\n",
      "Loss: 35.33645344609306\n",
      "Loss: 35.33594397310685\n",
      "Loss: 35.335433638776436\n",
      "Loss: 35.33492244303522\n"
     ]
    },
    {
     "name": "stdout",
     "output_type": "stream",
     "text": [
      "Loss: 35.334410446738325\n",
      "Loss: 35.3338975181492\n",
      "Loss: 35.33338378397901\n",
      "Loss: 35.33286913668805\n",
      "Loss: 35.33235363552398\n",
      "Loss: 35.33183730171416\n",
      "Loss: 35.33132004508717\n",
      "Loss: 35.33080194495128\n"
     ]
    },
    {
     "name": "stdout",
     "output_type": "stream",
     "text": [
      "Loss: 35.33028296132737\n",
      "Loss: 35.329763086157506\n",
      "Loss: 35.3292423252511\n",
      "Loss: 35.32872066047157\n",
      "Loss: 35.32819812588966\n",
      "Loss: 35.327674700621756\n",
      "Loss: 35.32715038702909\n",
      "Loss: 35.326625139026554\n",
      "Loss: 35.326099004954315\n"
     ]
    },
    {
     "name": "stdout",
     "output_type": "stream",
     "text": [
      "Loss: 35.325571952492695\n",
      "Loss: 35.32504400287795\n",
      "Loss: 35.32451510818585\n",
      "Loss: 35.32398533240735\n",
      "Loss: 35.323454614677\n",
      "Loss: 35.322923000487485\n",
      "Loss: 35.32239045682032\n",
      "Loss: 35.32185698176268\n"
     ]
    },
    {
     "name": "stdout",
     "output_type": "stream",
     "text": [
      "Loss: 35.32132255781822\n",
      "Loss: 35.32078720941553\n",
      "Loss: 35.32025090257135\n",
      "Loss: 35.31971368024561\n",
      "Loss: 35.31917550815448\n",
      "Loss: 35.318636371499515\n",
      "Loss: 35.31809628938487\n",
      "Loss: 35.31755526112674\n",
      "Loss: 35.31701327050374\n"
     ]
    },
    {
     "name": "stdout",
     "output_type": "stream",
     "text": [
      "Loss: 35.31647030678797\n",
      "Loss: 35.31592640585711\n",
      "Loss: 35.31538153271145\n",
      "Loss: 35.31483567874411\n",
      "Loss: 35.31428884688912\n",
      "Loss: 35.313741056844556\n",
      "Loss: 35.31319227007242\n",
      "Loss: 35.312642496542\n"
     ]
    },
    {
     "name": "stdout",
     "output_type": "stream",
     "text": [
      "Loss: 35.312091728981414\n",
      "Loss: 35.311539964493456\n",
      "Loss: 35.31098726195682\n",
      "Loss: 35.31043351173698\n",
      "Loss: 35.30987876281824\n",
      "Loss: 35.309323025487274\n",
      "Loss: 35.30876629917921\n",
      "Loss: 35.30820851712916\n"
     ]
    },
    {
     "name": "stdout",
     "output_type": "stream",
     "text": [
      "Loss: 35.30764973935596\n",
      "Loss: 35.30708996328232\n",
      "Loss: 35.306529169440665\n",
      "Loss: 35.30596733565297\n",
      "Loss: 35.305404472633285\n",
      "Loss: 35.30484055200931\n",
      "Loss: 35.30427563044317\n",
      "Loss: 35.3037097037333\n"
     ]
    },
    {
     "name": "stdout",
     "output_type": "stream",
     "text": [
      "Loss: 35.303142679706795\n",
      "Loss: 35.302574653917446\n",
      "Loss: 35.30200553507806\n",
      "Loss: 35.30143539250016\n",
      "Loss: 35.30086419840361\n",
      "Loss: 35.30029194843746\n",
      "Loss: 35.29971862170315\n",
      "Loss: 35.29914422598016\n"
     ]
    },
    {
     "name": "stdout",
     "output_type": "stream",
     "text": [
      "Loss: 35.29856878572263\n",
      "Loss: 35.297992250952035\n",
      "Loss: 35.297414669083835\n",
      "Loss: 35.29683596959482\n",
      "Loss: 35.29625623282068\n",
      "Loss: 35.29567538239045\n",
      "Loss: 35.29509344481682\n",
      "Loss: 35.29451042632449\n"
     ]
    },
    {
     "name": "stdout",
     "output_type": "stream",
     "text": [
      "Loss: 35.29392631388225\n",
      "Loss: 35.29334108981139\n",
      "Loss: 35.29275475708732\n",
      "Loss: 35.29216734218409\n",
      "Loss: 35.29157877189735\n",
      "Loss: 35.29098913859075\n",
      "Loss: 35.29039834866336\n",
      "Loss: 35.28980646226294\n",
      "Loss: 35.289213443215644\n"
     ]
    },
    {
     "name": "stdout",
     "output_type": "stream",
     "text": [
      "Loss: 35.288619309613594\n",
      "Loss: 35.288024014850635\n",
      "Loss: 35.287427599974365\n",
      "Loss: 35.2868300355884\n",
      "Loss: 35.28623135307599\n",
      "Loss: 35.28563150827088\n",
      "Loss: 35.28503053147796\n",
      "Loss: 35.284428373126715\n"
     ]
    },
    {
     "name": "stdout",
     "output_type": "stream",
     "text": [
      "Loss: 35.28382506706952\n",
      "Loss: 35.283220607703925\n",
      "Loss: 35.28261498639679\n",
      "Loss: 35.282008182648795\n",
      "Loss: 35.281400213832626\n",
      "Loss: 35.28079105567498\n",
      "Loss: 35.28018074568465\n",
      "Loss: 35.279569251912655\n"
     ]
    },
    {
     "name": "stdout",
     "output_type": "stream",
     "text": [
      "Loss: 35.27895653150917\n",
      "Loss: 35.27834267829603\n",
      "Loss: 35.27772758440247\n",
      "Loss: 35.27711132810431\n",
      "Loss: 35.276493843273634\n",
      "Loss: 35.27587516910781\n",
      "Loss: 35.27525527723615\n",
      "Loss: 35.27463418040613\n"
     ]
    },
    {
     "name": "stdout",
     "output_type": "stream",
     "text": [
      "Loss: 35.27401187852471\n",
      "Loss: 35.27338832589207\n",
      "Loss: 35.272763563787095\n",
      "Loss: 35.2721375641457\n",
      "Loss: 35.27151034690111\n",
      "Loss: 35.27088189095407\n",
      "Loss: 35.27025218550086\n",
      "Loss: 35.269621253576325\n",
      "Loss: 35.26898906203886\n"
     ]
    },
    {
     "name": "stdout",
     "output_type": "stream",
     "text": [
      "Loss: 35.26835562941733\n",
      "Loss: 35.2677209526912\n",
      "Loss: 35.267084996826824\n",
      "Loss: 35.26644778888977\n",
      "Loss: 35.26580932769822\n",
      "Loss: 35.26516957165911\n",
      "Loss: 35.26452855464145\n",
      "Loss: 35.26388625229769\n"
     ]
    },
    {
     "name": "stdout",
     "output_type": "stream",
     "text": [
      "Loss: 35.263242691182825\n",
      "Loss: 35.26259781677571\n",
      "Loss: 35.26195166437689\n",
      "Loss: 35.26130419301405\n",
      "Loss: 35.26065547983933\n",
      "Loss: 35.26000541385326\n",
      "Loss: 35.25935407809409\n",
      "Loss: 35.258701418189936\n"
     ]
    },
    {
     "name": "stdout",
     "output_type": "stream",
     "text": [
      "Loss: 35.25804746538964\n",
      "Loss: 35.257392177691415\n",
      "Loss: 35.25673556840022\n",
      "Loss: 35.25607764532212\n",
      "Loss: 35.25541836945875\n",
      "Loss: 35.25475781734207\n",
      "Loss: 35.25409585914981\n",
      "Loss: 35.25343260796886\n"
     ]
    },
    {
     "name": "stdout",
     "output_type": "stream",
     "text": [
      "Loss: 35.2527679738141\n",
      "Loss: 35.25210201711142\n",
      "Loss: 35.2514347136976\n",
      "Loss: 35.25076601837784\n",
      "Loss: 35.25009601702644\n",
      "Loss: 35.24942462899023\n",
      "Loss: 35.2487518524012\n",
      "Loss: 35.24807774102305\n",
      "Loss: 35.24740221846646\n"
     ]
    },
    {
     "name": "stdout",
     "output_type": "stream",
     "text": [
      "Loss: 35.2467253424709\n",
      "Loss: 35.2460470691911\n",
      "Loss: 35.24536740094521\n",
      "Loss: 35.244686350049264\n",
      "Loss: 35.24400389765693\n",
      "Loss: 35.24332002168836\n",
      "Loss: 35.24263478537687\n",
      "Loss: 35.24194812085593\n"
     ]
    },
    {
     "name": "stdout",
     "output_type": "stream",
     "text": [
      "Loss: 35.241260062928795\n",
      "Loss: 35.240570542848104\n",
      "Loss: 35.239879622525386\n",
      "Loss: 35.23918728057295\n",
      "Loss: 35.23849351788079\n",
      "Loss: 35.23779832179349\n",
      "Loss: 35.23710169854245\n",
      "Loss: 35.23640358801549\n"
     ]
    },
    {
     "name": "stdout",
     "output_type": "stream",
     "text": [
      "Loss: 35.23570405093084\n",
      "Loss: 35.23500310570039\n",
      "Loss: 35.23430066624396\n",
      "Loss: 35.23359676057591\n",
      "Loss: 35.23289141836562\n",
      "Loss: 35.232184592098655\n",
      "Loss: 35.23147630723161\n",
      "Loss: 35.230766533167355\n"
     ]
    },
    {
     "name": "stdout",
     "output_type": "stream",
     "text": [
      "Loss: 35.230055306685145\n",
      "Loss: 35.229342569980716\n",
      "Loss: 35.22862838515874\n",
      "Loss: 35.22791265588266\n",
      "Loss: 35.22719545236798\n",
      "Loss: 35.22647675217938\n",
      "Loss: 35.225756541637814\n",
      "Loss: 35.22503486173053\n"
     ]
    },
    {
     "name": "stdout",
     "output_type": "stream",
     "text": [
      "Loss: 35.22431163449213\n",
      "Loss: 35.22358689718966\n",
      "Loss: 35.222860618013094\n",
      "Loss: 35.22213284062082\n",
      "Loss: 35.22140351456004\n",
      "Loss: 35.220672683469225\n",
      "Loss: 35.21994028972456\n",
      "Loss: 35.21920635541093\n"
     ]
    },
    {
     "name": "stdout",
     "output_type": "stream",
     "text": [
      "Loss: 35.2184708752158\n",
      "Loss: 35.21773386539265\n",
      "Loss: 35.21699526951398\n",
      "Loss: 35.216255156073295\n",
      "Loss: 35.215513448799406\n",
      "Loss: 35.21477016244946\n",
      "Loss: 35.21402531021777\n"
     ]
    },
    {
     "name": "stdout",
     "output_type": "stream",
     "text": [
      "Loss: 35.213278883548995\n",
      "Loss: 35.21253091319311\n",
      "Loss: 35.21178133460837\n",
      "Loss: 35.2110301760877\n",
      "Loss: 35.21027740402085\n",
      "Loss: 35.20952303609833\n",
      "Loss: 35.20876707126479\n",
      "Loss: 35.2080095075745\n"
     ]
    },
    {
     "name": "stdout",
     "output_type": "stream",
     "text": [
      "Loss: 35.2072503306165\n",
      "Loss: 35.20648952202423\n",
      "Loss: 35.20572711013561\n",
      "Loss: 35.20496306122156\n",
      "Loss: 35.20419740354219\n",
      "Loss: 35.203430107657475\n",
      "Loss: 35.20266118060563\n",
      "Loss: 35.201890600757764\n"
     ]
    },
    {
     "name": "stdout",
     "output_type": "stream",
     "text": [
      "Loss: 35.201118404603946\n",
      "Loss: 35.20034455473485\n",
      "Loss: 35.19956902712477\n",
      "Loss: 35.19879184638941\n",
      "Loss: 35.19801298907829\n",
      "Loss: 35.197232495368155\n",
      "Loss: 35.19645032241785\n",
      "Loss: 35.19566646942568\n"
     ]
    },
    {
     "name": "stdout",
     "output_type": "stream",
     "text": [
      "Loss: 35.19488095314997\n",
      "Loss: 35.19409372878302\n",
      "Loss: 35.193304814357234\n",
      "Loss: 35.192514219583444\n",
      "Loss: 35.19172193818402\n",
      "Loss: 35.19092794609208\n",
      "Loss: 35.190132259167484\n",
      "Loss: 35.189334870831395\n"
     ]
    },
    {
     "name": "stdout",
     "output_type": "stream",
     "text": [
      "Loss: 35.18853572116376\n",
      "Loss: 35.18773487744646\n",
      "Loss: 35.1869323356811\n",
      "Loss: 35.18612804442023\n",
      "Loss: 35.18532200005726\n",
      "Loss: 35.18451425219034\n",
      "Loss: 35.1837047732924\n",
      "Loss: 35.182893532636626\n",
      "Loss: 35.1820805161382\n"
     ]
    },
    {
     "name": "stdout",
     "output_type": "stream",
     "text": [
      "Loss: 35.18126579191844\n",
      "Loss: 35.18044929251382\n",
      "Loss: 35.17963101351296\n",
      "Loss: 35.17881100765407\n",
      "Loss: 35.1779892130382\n",
      "Loss: 35.17716563032779\n",
      "Loss: 35.1763402673387\n",
      "Loss: 35.17551314898585\n"
     ]
    },
    {
     "name": "stdout",
     "output_type": "stream",
     "text": [
      "Loss: 35.17468421210448\n",
      "Loss: 35.173853493360554\n",
      "Loss: 35.17302098963473\n",
      "Loss: 35.1721866650282\n",
      "Loss: 35.171350541663365\n",
      "Loss: 35.17051259509443\n",
      "Loss: 35.16967287772886\n",
      "Loss: 35.168831319069874\n"
     ]
    },
    {
     "name": "stdout",
     "output_type": "stream",
     "text": [
      "Loss: 35.16798792898571\n",
      "Loss: 35.167142707731834\n",
      "Loss: 35.16629566983656\n",
      "Loss: 35.16544679147979\n",
      "Loss: 35.1645960583599\n",
      "Loss: 35.16374349776562\n",
      "Loss: 35.16288909122297\n",
      "Loss: 35.16203279686087\n"
     ]
    },
    {
     "name": "stdout",
     "output_type": "stream",
     "text": [
      "Loss: 35.16117470769507\n",
      "Loss: 35.16031470763403\n",
      "Loss: 35.15945285240593\n",
      "Loss: 35.158589135219046\n",
      "Loss: 35.15772355040682\n",
      "Loss: 35.15685607052489\n",
      "Loss: 35.15598670486448\n",
      "Loss: 35.15511545281018\n"
     ]
    },
    {
     "name": "stdout",
     "output_type": "stream",
     "text": [
      "Loss: 35.1542423212257\n",
      "Loss: 35.153367300445474\n",
      "Loss: 35.15249036300503\n",
      "Loss: 35.1516115243235\n",
      "Loss: 35.150730760417744\n",
      "Loss: 35.14984812731511\n",
      "Loss: 35.148963536309346\n",
      "Loss: 35.148077056394165\n"
     ]
    },
    {
     "name": "stdout",
     "output_type": "stream",
     "text": [
      "Loss: 35.14718861020608\n",
      "Loss: 35.14629825182309\n",
      "Loss: 35.145405959659264\n",
      "Loss: 35.14451173514361\n",
      "Loss: 35.14361554684448\n",
      "Loss: 35.142717432461815\n",
      "Loss: 35.14181738512214\n",
      "Loss: 35.140915354221576\n"
     ]
    },
    {
     "name": "stdout",
     "output_type": "stream",
     "text": [
      "Loss: 35.14001135498239\n",
      "Loss: 35.13910540019103\n",
      "Loss: 35.13819750111849\n",
      "Loss: 35.137287588229206\n",
      "Loss: 35.13637572477578\n",
      "Loss: 35.1354618808285\n",
      "Loss: 35.13454605991293\n",
      "Loss: 35.13362827029549\n"
     ]
    },
    {
     "name": "stdout",
     "output_type": "stream",
     "text": [
      "Loss: 35.13270842400711\n",
      "Loss: 35.131786601367295\n",
      "Loss: 35.130862809379444\n",
      "Loss: 35.12993697457401\n",
      "Loss: 35.12900916477243\n",
      "Loss: 35.128079307077854\n",
      "Loss: 35.12714743896252\n",
      "Loss: 35.12621357246552\n"
     ]
    },
    {
     "name": "stdout",
     "output_type": "stream",
     "text": [
      "Loss: 35.12527764145116\n",
      "Loss: 35.12433971597992\n",
      "Loss: 35.12339973947135\n",
      "Loss: 35.12245775469031\n",
      "Loss: 35.121513704172564\n",
      "Loss: 35.12056758207126\n",
      "Loss: 35.11961944805223\n",
      "Loss: 35.11866924139787\n"
     ]
    },
    {
     "name": "stdout",
     "output_type": "stream",
     "text": [
      "Loss: 35.117716983711354\n",
      "Loss: 35.11676265253409\n",
      "Loss: 35.1158062748116\n",
      "Loss: 35.114847815047604\n",
      "Loss: 35.113887269204135\n",
      "Loss: 35.11292465927714\n",
      "Loss: 35.111959961390475\n",
      "Loss: 35.1109931896195\n"
     ]
    },
    {
     "name": "stdout",
     "output_type": "stream",
     "text": [
      "Loss: 35.11002429630124\n",
      "Loss: 35.10905332920964\n",
      "Loss: 35.10808028705115\n",
      "Loss: 35.10710512294539\n",
      "Loss: 35.106127840215706\n",
      "Loss: 35.10514846908365\n",
      "Loss: 35.10416696522865\n",
      "Loss: 35.10318336312502\n"
     ]
    },
    {
     "name": "stdout",
     "output_type": "stream",
     "text": [
      "Loss: 35.10219766865112\n",
      "Loss: 35.101209786662295\n",
      "Loss: 35.10021981531145\n",
      "Loss: 35.09922770386984\n",
      "Loss: 35.098233446009864\n",
      "Loss: 35.097237056546305\n",
      "Loss: 35.09623852003928\n",
      "Loss: 35.0952378267958\n"
     ]
    },
    {
     "name": "stdout",
     "output_type": "stream",
     "text": [
      "Loss: 35.094235020246316\n",
      "Loss: 35.09323002434504\n",
      "Loss: 35.09222289831768\n",
      "Loss: 35.09121359729713\n",
      "Loss: 35.090202117204484\n",
      "Loss: 35.089188504698406\n",
      "Loss: 35.08817266185126\n",
      "Loss: 35.087154700586595\n"
     ]
    },
    {
     "name": "stdout",
     "output_type": "stream",
     "text": [
      "Loss: 35.08613454852382\n",
      "Loss: 35.08511218177792\n",
      "Loss: 35.084087659984455\n",
      "Loss: 35.08306097091109\n",
      "Loss: 35.08203201193027\n",
      "Loss: 35.081000921263566\n",
      "Loss: 35.07996760125324\n",
      "Loss: 35.07893210115883\n",
      "Loss: 35.07789438796013\n"
     ]
    },
    {
     "name": "stdout",
     "output_type": "stream",
     "text": [
      "Loss: 35.07685442465453\n",
      "Loss: 35.07581230544328\n",
      "Loss: 35.074767916119185\n",
      "Loss: 35.07372134963877\n",
      "Loss: 35.072672558183385\n",
      "Loss: 35.07162151201158\n",
      "Loss: 35.07056825772098\n",
      "Loss: 35.06951274380469\n"
     ]
    },
    {
     "name": "stdout",
     "output_type": "stream",
     "text": [
      "Loss: 35.06845503575098\n",
      "Loss: 35.06739506588015\n",
      "Loss: 35.06633285337204\n",
      "Loss: 35.06526838679998\n",
      "Loss: 35.06420167425367\n",
      "Loss: 35.06313273593799\n",
      "Loss: 35.06206152923548\n",
      "Loss: 35.0609880522768\n"
     ]
    },
    {
     "name": "stdout",
     "output_type": "stream",
     "text": [
      "Loss: 35.05991229033999\n",
      "Loss: 35.05883429403618\n",
      "Loss: 35.05775405681068\n",
      "Loss: 35.05667150956719\n",
      "Loss: 35.055586679755834\n",
      "Loss: 35.05449965134688\n",
      "Loss: 35.05341025049839\n",
      "Loss: 35.05231863424278\n"
     ]
    },
    {
     "name": "stdout",
     "output_type": "stream",
     "text": [
      "Loss: 35.05122470280493\n",
      "Loss: 35.05012848378344\n",
      "Loss: 35.04903000683147\n",
      "Loss: 35.04792920642492\n",
      "Loss: 35.046826108664895\n",
      "Loss: 35.04572073121063\n",
      "Loss: 35.04461305064151\n",
      "Loss: 35.04350305522\n"
     ]
    },
    {
     "name": "stdout",
     "output_type": "stream",
     "text": [
      "Loss: 35.042390765640064\n",
      "Loss: 35.04127614536002\n",
      "Loss: 35.040159241439675\n",
      "Loss: 35.03904003315381\n",
      "Loss: 35.03791849337742\n",
      "Loss: 35.03679462528455\n",
      "Loss: 35.035668447443555\n",
      "Loss: 35.03453994323555\n",
      "Loss: 35.03340914225567\n"
     ]
    },
    {
     "name": "stdout",
     "output_type": "stream",
     "text": [
      "Loss: 35.03227598058474\n",
      "Loss: 35.0311405286316\n",
      "Loss: 35.03000266761259\n",
      "Loss: 35.02886257014351\n",
      "Loss: 35.02772005728621\n",
      "Loss: 35.02657524743498\n",
      "Loss: 35.025428118861385\n",
      "Loss: 35.02427860509631\n"
     ]
    },
    {
     "name": "stdout",
     "output_type": "stream",
     "text": [
      "Loss: 35.02312676639072\n",
      "Loss: 35.021972579007\n",
      "Loss: 35.02081603589868\n",
      "Loss: 35.019657128743404\n",
      "Loss: 35.01849588524291\n",
      "Loss: 35.01733231556718\n",
      "Loss: 35.01616636993369\n",
      "Loss: 35.01499806526916\n"
     ]
    },
    {
     "name": "stdout",
     "output_type": "stream",
     "text": [
      "Loss: 35.01382742669302\n",
      "Loss: 35.01265436209251\n",
      "Loss: 35.011478976142484\n",
      "Loss: 35.01030123633641\n",
      "Loss: 35.0091211287774\n",
      "Loss: 35.00793865048221\n",
      "Loss: 35.006753794184604\n",
      "Loss: 35.00556656302017\n"
     ]
    },
    {
     "name": "stdout",
     "output_type": "stream",
     "text": [
      "Loss: 35.00437698177642\n",
      "Loss: 35.00318502309345\n",
      "Loss: 35.001990713633\n",
      "Loss: 35.000793938666355\n",
      "Loss: 34.99959488047169\n",
      "Loss: 34.99839340051104\n",
      "Loss: 34.997189567580264\n",
      "Loss: 34.99598333248567\n",
      "Loss: 34.99477472360519\n"
     ]
    },
    {
     "name": "stdout",
     "output_type": "stream",
     "text": [
      "Loss: 34.99356374152578\n",
      "Loss: 34.99235036711694\n",
      "Loss: 34.991134618196284\n",
      "Loss: 34.989916451521395\n",
      "Loss: 34.98869594286584\n",
      "Loss: 34.98747300885483\n",
      "Loss: 34.9862477103857\n",
      "Loss: 34.985020009391526\n",
      "Loss: 34.98378991413244\n"
     ]
    },
    {
     "name": "stdout",
     "output_type": "stream",
     "text": [
      "Loss: 34.98255746814444\n",
      "Loss: 34.98132260517774\n",
      "Loss: 34.98008535493359\n",
      "Loss: 34.9788457270259\n",
      "Loss: 34.97760366102284\n",
      "Loss: 34.976359266052896\n",
      "Loss: 34.97511241162773\n",
      "Loss: 34.973863200148536\n",
      "Loss: 34.97261161292797\n"
     ]
    },
    {
     "name": "stdout",
     "output_type": "stream",
     "text": [
      "Loss: 34.97135761157475\n",
      "Loss: 34.970101210212874\n",
      "Loss: 34.96884243047258\n",
      "Loss: 34.967581235669\n",
      "Loss: 34.96631764115504\n",
      "Loss: 34.96505166634705\n",
      "Loss: 34.96378332892925\n",
      "Loss: 34.96251256193854\n"
     ]
    },
    {
     "name": "stdout",
     "output_type": "stream",
     "text": [
      "Loss: 34.96123941439896\n",
      "Loss: 34.959963853009555\n",
      "Loss: 34.95868594248244\n",
      "Loss: 34.957405597223506\n",
      "Loss: 34.95612287096402\n",
      "Loss: 34.95483775495641\n",
      "Loss: 34.95355025703794\n",
      "Loss: 34.9522603390512\n"
     ]
    },
    {
     "name": "stdout",
     "output_type": "stream",
     "text": [
      "Loss: 34.95096803369614\n",
      "Loss: 34.94967338389652\n",
      "Loss: 34.94837630981206\n",
      "Loss: 34.947076828254666\n",
      "Loss: 34.94577499843549\n",
      "Loss: 34.944470784935454\n",
      "Loss: 34.94316413196111\n",
      "Loss: 34.941855143110786\n"
     ]
    },
    {
     "name": "stdout",
     "output_type": "stream",
     "text": [
      "Loss: 34.940543741344236\n",
      "Loss: 34.939229982344635\n",
      "Loss: 34.93791383176807\n",
      "Loss: 34.93659527131835\n",
      "Loss: 34.93527437448744\n",
      "Loss: 34.93395110246848\n",
      "Loss: 34.932625411664\n",
      "Loss: 34.93129739153216\n"
     ]
    },
    {
     "name": "stdout",
     "output_type": "stream",
     "text": [
      "Loss: 34.92996693947128\n",
      "Loss: 34.92863416737183\n",
      "Loss: 34.92729900389487\n",
      "Loss: 34.92596147237505\n",
      "Loss: 34.92462157558492\n",
      "Loss: 34.923279301575526\n",
      "Loss: 34.921934677269874\n",
      "Loss: 34.92058765814295\n"
     ]
    },
    {
     "name": "stdout",
     "output_type": "stream",
     "text": [
      "Loss: 34.919238317833305\n",
      "Loss: 34.91788661468395\n",
      "Loss: 34.91653254334211\n",
      "Loss: 34.915176129128305\n",
      "Loss: 34.91381735424281\n",
      "Loss: 34.91245619247462\n",
      "Loss: 34.9110927609686\n",
      "Loss: 34.90972693104285\n"
     ]
    },
    {
     "name": "stdout",
     "output_type": "stream",
     "text": [
      "Loss: 34.90835877513544\n",
      "Loss: 34.906988254943876\n",
      "Loss: 34.90561540232713\n",
      "Loss: 34.9042402532549\n",
      "Loss: 34.90286273048184\n",
      "Loss: 34.90148290697257\n",
      "Loss: 34.90010071496455\n",
      "Loss: 34.89871624119673\n"
     ]
    },
    {
     "name": "stdout",
     "output_type": "stream",
     "text": [
      "Loss: 34.89732942427036\n",
      "Loss: 34.895940306321776\n",
      "Loss: 34.8945488922499\n",
      "Loss: 34.89315507747751\n",
      "Loss: 34.89175903119557\n",
      "Loss: 34.89036065210584\n",
      "Loss: 34.888959959838644\n"
     ]
    },
    {
     "name": "stdout",
     "output_type": "stream",
     "text": [
      "Loss: 34.88755699672551\n",
      "Loss: 34.88615171054787\n",
      "Loss: 34.88474416547847\n",
      "Loss: 34.88333426914693\n",
      "Loss: 34.881922158872506\n",
      "Loss: 34.8805077203182\n",
      "Loss: 34.879091032124705\n",
      "Loss: 34.87767202303791\n"
     ]
    },
    {
     "name": "stdout",
     "output_type": "stream",
     "text": [
      "Loss: 34.87625079512635\n",
      "Loss: 34.87482727034286\n",
      "Loss: 34.873401492079374\n",
      "Loss: 34.87197343259267\n",
      "Loss: 34.87054315276079\n",
      "Loss: 34.86911060645954\n",
      "Loss: 34.86767580747853\n",
      "Loss: 34.86623879009733\n"
     ]
    },
    {
     "name": "stdout",
     "output_type": "stream",
     "text": [
      "Loss: 34.864799490272006\n",
      "Loss: 34.863357987494545\n",
      "Loss: 34.86191425264697\n",
      "Loss: 34.860468298177054\n",
      "Loss: 34.85902009629113\n",
      "Loss: 34.85756972020295\n",
      "Loss: 34.85611710458826\n",
      "Loss: 34.854662282363186\n",
      "Loss: 34.85320527008586\n"
     ]
    },
    {
     "name": "stdout",
     "output_type": "stream",
     "text": [
      "Loss: 34.85174606520356\n",
      "Loss: 34.85028464381284\n",
      "Loss: 34.84882105413589\n",
      "Loss: 34.847355272394196\n",
      "Loss: 34.84588734108418\n",
      "Loss: 34.84441721930266\n",
      "Loss: 34.842944933357245\n",
      "Loss: 34.84147050373899\n"
     ]
    },
    {
     "name": "stdout",
     "output_type": "stream",
     "text": [
      "Loss: 34.83999388287165\n",
      "Loss: 34.838515149664325\n",
      "Loss: 34.83703422925231\n",
      "Loss: 34.83555122832311\n",
      "Loss: 34.83555122832311\n"
     ]
    },
    {
     "data": {
      "text/plain": [
       "u: \u001b[0mComponentVector{Float64}(layer_1 = (weight = [0.6663701932496385; -0.529586389369348; … ; -0.654937251581752; 1.0186658791108325;;], bias = [0.038874962985706925; 0.04491587889518308; … ; -0.03256644523446106; 0.0689933672380843;;]), layer_2 = (weight = [-0.05062281155122428 0.5712690467430234 … -0.21093814075957057 -0.044403196648817034; 0.5133430314113545 -0.4311766244756845 … 0.1713136119737224 -0.535530651970931; … ; -0.07267899715281274 -0.03394132475958686 … -0.3745739830149075 0.0733352613173718; -0.11922004612778123 0.2551488327591368 … 0.5236332603268189 -0.11816893661368758], bias = [0.06485065821907408; 0.05619045848415791; … ; 0.05272399444910876; -0.030663569680798367;;]), layer_3 = (weight = [0.15409718585493967 -0.6241788865372165 … 0.6153699820517841 -0.012988590361942318; 0.30983152645773365 -0.12821690731347526 … -0.21852536938473927 0.4772882107994184; … ; 0.4725749608401273 -0.28315090965974393 … -0.1126334667296282 0.494549829123892; 0.19813943535527526 0.5544385451610114 … 0.3604647079068511 -0.045565708719818784], bias = [-0.06826302146275785; 0.056559268497725704; … ; 0.09681225440710074; 0.05729659597480068;;]), layer_4 = (weight = [0.1908124421984287 -0.37297755845021174 … -0.5850091121505795 -0.020059947277041575; 0.29130151927554443 -0.5776061781397903 … -0.5244467222310583 -0.23840846724584167; … ; 0.024863092427413355 -0.17375613336423817 … 0.08284767182493352 0.02654753726276251; 0.5267125565715903 0.5214273804111977 … 0.49001967715053724 0.25512089019319023], bias = [0.061559812400432755; -0.08211700042257648; … ; -0.05677356131407464; -0.05334722301083807;;]), layer_5 = (weight = [0.11733559646690389 -0.4050617817645485 … -0.06672605157259584 -0.4654180008120987], bias = [0.0794614757223581;;]))"
      ]
     },
     "metadata": {},
     "output_type": "display_data"
    }
   ],
   "source": [
    "using OptimizationOptimisers\n",
    "res = Optimization.solve(prob, Adam(); maxiters=2000, callback=callback)"
   ]
  },
  {
   "cell_type": "code",
   "execution_count": 6,
   "metadata": {},
   "outputs": [
    {
     "data": {
      "image/png": "[encoded data removed]",
      "image/svg+xml": [
       "<?xml version=\"1.0\" encoding=\"utf-8\"?>\n",
       "<svg xmlns=\"http://www.w3.org/2000/svg\" xmlns:xlink=\"http://www.w3.org/1999/xlink\" width=\"600\" height=\"400\" viewBox=\"0 0 2400 1600\">\n",
       "<defs>\n",
       "  <clipPath id=\"clip470\">\n",
       "    <rect x=\"0\" y=\"0\" width=\"2400\" height=\"1600\"/>\n",
       "  </clipPath>\n",
       "</defs>\n",
       "<path clip-path=\"url(#clip470)\" d=\"M0 1600 L2400 1600 L2400 0 L0 0  Z\" fill=\"#ffffff\" fill-rule=\"evenodd\" fill-opacity=\"1\"/>\n",
       "<defs>\n",
       "  <clipPath id=\"clip471\">\n",
       "    <rect x=\"480\" y=\"0\" width=\"1681\" height=\"1600\"/>\n",
       "  </clipPath>\n",
       "</defs>\n",
       "<path clip-path=\"url(#clip470)\" d=\"M141.853 1486.45 L2352.76 1486.45 L2352.76 47.2441 L141.853 47.2441  Z\" fill=\"#ffffff\" fill-rule=\"evenodd\" fill-opacity=\"1\"/>\n",
       "<defs>\n",
       "  <clipPath id=\"clip472\">\n",
       "    <rect x=\"141\" y=\"47\" width=\"2212\" height=\"1440\"/>\n",
       "  </clipPath>\n",
       "</defs>\n",
       "<polyline clip-path=\"url(#clip472)\" style=\"stroke:#000000; stroke-linecap:round; stroke-linejoin:round; stroke-width:2; stroke-opacity:0.1; fill:none\" points=\"204.426,1486.45 204.426,47.2441 \"/>\n",
       "<polyline clip-path=\"url(#clip472)\" style=\"stroke:#000000; stroke-linecap:round; stroke-linejoin:round; stroke-width:2; stroke-opacity:0.1; fill:none\" points=\"725.865,1486.45 725.865,47.2441 \"/>\n",
       "<polyline clip-path=\"url(#clip472)\" style=\"stroke:#000000; stroke-linecap:round; stroke-linejoin:round; stroke-width:2; stroke-opacity:0.1; fill:none\" points=\"1247.3,1486.45 1247.3,47.2441 \"/>\n",
       "<polyline clip-path=\"url(#clip472)\" style=\"stroke:#000000; stroke-linecap:round; stroke-linejoin:round; stroke-width:2; stroke-opacity:0.1; fill:none\" points=\"1768.74,1486.45 1768.74,47.2441 \"/>\n",
       "<polyline clip-path=\"url(#clip472)\" style=\"stroke:#000000; stroke-linecap:round; stroke-linejoin:round; stroke-width:2; stroke-opacity:0.1; fill:none\" points=\"2290.18,1486.45 2290.18,47.2441 \"/>\n",
       "<polyline clip-path=\"url(#clip470)\" style=\"stroke:#000000; stroke-linecap:round; stroke-linejoin:round; stroke-width:4; stroke-opacity:1; fill:none\" points=\"141.853,1486.45 2352.76,1486.45 \"/>\n",
       "<polyline clip-path=\"url(#clip470)\" style=\"stroke:#000000; stroke-linecap:round; stroke-linejoin:round; stroke-width:4; stroke-opacity:1; fill:none\" points=\"204.426,1486.45 204.426,1467.55 \"/>\n",
       "<polyline clip-path=\"url(#clip470)\" style=\"stroke:#000000; stroke-linecap:round; stroke-linejoin:round; stroke-width:4; stroke-opacity:1; fill:none\" points=\"725.865,1486.45 725.865,1467.55 \"/>\n",
       "<polyline clip-path=\"url(#clip470)\" style=\"stroke:#000000; stroke-linecap:round; stroke-linejoin:round; stroke-width:4; stroke-opacity:1; fill:none\" points=\"1247.3,1486.45 1247.3,1467.55 \"/>\n",
       "<polyline clip-path=\"url(#clip470)\" style=\"stroke:#000000; stroke-linecap:round; stroke-linejoin:round; stroke-width:4; stroke-opacity:1; fill:none\" points=\"1768.74,1486.45 1768.74,1467.55 \"/>\n",
       "<polyline clip-path=\"url(#clip470)\" style=\"stroke:#000000; stroke-linecap:round; stroke-linejoin:round; stroke-width:4; stroke-opacity:1; fill:none\" points=\"2290.18,1486.45 2290.18,1467.55 \"/>\n",
       "<path clip-path=\"url(#clip470)\" d=\"M181.81 1517.37 Q178.199 1517.37 176.37 1520.93 Q174.565 1524.47 174.565 1531.6 Q174.565 1538.71 176.37 1542.27 Q178.199 1545.82 181.81 1545.82 Q185.444 1545.82 187.25 1542.27 Q189.079 1538.71 189.079 1531.6 Q189.079 1524.47 187.25 1520.93 Q185.444 1517.37 181.81 1517.37 M181.81 1513.66 Q187.62 1513.66 190.676 1518.27 Q193.754 1522.85 193.754 1531.6 Q193.754 1540.33 190.676 1544.94 Q187.62 1549.52 181.81 1549.52 Q176 1549.52 172.921 1544.94 Q169.866 1540.33 169.866 1531.6 Q169.866 1522.85 172.921 1518.27 Q176 1513.66 181.81 1513.66 Z\" fill=\"#000000\" fill-rule=\"nonzero\" fill-opacity=\"1\" /><path clip-path=\"url(#clip470)\" d=\"M201.972 1542.97 L206.856 1542.97 L206.856 1548.85 L201.972 1548.85 L201.972 1542.97 Z\" fill=\"#000000\" fill-rule=\"nonzero\" fill-opacity=\"1\" /><path clip-path=\"url(#clip470)\" d=\"M227.041 1517.37 Q223.43 1517.37 221.602 1520.93 Q219.796 1524.47 219.796 1531.6 Q219.796 1538.71 221.602 1542.27 Q223.43 1545.82 227.041 1545.82 Q230.676 1545.82 232.481 1542.27 Q234.31 1538.71 234.31 1531.6 Q234.31 1524.47 232.481 1520.93 Q230.676 1517.37 227.041 1517.37 M227.041 1513.66 Q232.851 1513.66 235.907 1518.27 Q238.986 1522.85 238.986 1531.6 Q238.986 1540.33 235.907 1544.94 Q232.851 1549.52 227.041 1549.52 Q221.231 1549.52 218.152 1544.94 Q215.097 1540.33 215.097 1531.6 Q215.097 1522.85 218.152 1518.27 Q221.231 1513.66 227.041 1513.66 Z\" fill=\"#000000\" fill-rule=\"nonzero\" fill-opacity=\"1\" /><path clip-path=\"url(#clip470)\" d=\"M703.747 1517.37 Q700.136 1517.37 698.307 1520.93 Q696.502 1524.47 696.502 1531.6 Q696.502 1538.71 698.307 1542.27 Q700.136 1545.82 703.747 1545.82 Q707.381 1545.82 709.187 1542.27 Q711.016 1538.71 711.016 1531.6 Q711.016 1524.47 709.187 1520.93 Q707.381 1517.37 703.747 1517.37 M703.747 1513.66 Q709.557 1513.66 712.613 1518.27 Q715.691 1522.85 715.691 1531.6 Q715.691 1540.33 712.613 1544.94 Q709.557 1549.52 703.747 1549.52 Q697.937 1549.52 694.858 1544.94 Q691.803 1540.33 691.803 1531.6 Q691.803 1522.85 694.858 1518.27 Q697.937 1513.66 703.747 1513.66 Z\" fill=\"#000000\" fill-rule=\"nonzero\" fill-opacity=\"1\" /><path clip-path=\"url(#clip470)\" d=\"M723.909 1542.97 L728.793 1542.97 L728.793 1548.85 L723.909 1548.85 L723.909 1542.97 Z\" fill=\"#000000\" fill-rule=\"nonzero\" fill-opacity=\"1\" /><path clip-path=\"url(#clip470)\" d=\"M739.025 1514.29 L757.381 1514.29 L757.381 1518.22 L743.307 1518.22 L743.307 1526.7 Q744.326 1526.35 745.344 1526.19 Q746.363 1526 747.381 1526 Q753.168 1526 756.548 1529.17 Q759.927 1532.34 759.927 1537.76 Q759.927 1543.34 756.455 1546.44 Q752.983 1549.52 746.664 1549.52 Q744.488 1549.52 742.219 1549.15 Q739.974 1548.78 737.566 1548.04 L737.566 1543.34 Q739.65 1544.47 741.872 1545.03 Q744.094 1545.58 746.571 1545.58 Q750.576 1545.58 752.914 1543.48 Q755.251 1541.37 755.251 1537.76 Q755.251 1534.15 752.914 1532.04 Q750.576 1529.94 746.571 1529.94 Q744.696 1529.94 742.821 1530.35 Q740.969 1530.77 739.025 1531.65 L739.025 1514.29 Z\" fill=\"#000000\" fill-rule=\"nonzero\" fill-opacity=\"1\" /><path clip-path=\"url(#clip470)\" d=\"M1214.46 1544.91 L1222.1 1544.91 L1222.1 1518.55 L1213.79 1520.21 L1213.79 1515.95 L1222.05 1514.29 L1226.73 1514.29 L1226.73 1544.91 L1234.36 1544.91 L1234.36 1548.85 L1214.46 1548.85 L1214.46 1544.91 Z\" fill=\"#000000\" fill-rule=\"nonzero\" fill-opacity=\"1\" /><path clip-path=\"url(#clip470)\" d=\"M1243.81 1542.97 L1248.69 1542.97 L1248.69 1548.85 L1243.81 1548.85 L1243.81 1542.97 Z\" fill=\"#000000\" fill-rule=\"nonzero\" fill-opacity=\"1\" /><path clip-path=\"url(#clip470)\" d=\"M1268.88 1517.37 Q1265.27 1517.37 1263.44 1520.93 Q1261.63 1524.47 1261.63 1531.6 Q1261.63 1538.71 1263.44 1542.27 Q1265.27 1545.82 1268.88 1545.82 Q1272.51 1545.82 1274.32 1542.27 Q1276.15 1538.71 1276.15 1531.6 Q1276.15 1524.47 1274.32 1520.93 Q1272.51 1517.37 1268.88 1517.37 M1268.88 1513.66 Q1274.69 1513.66 1277.74 1518.27 Q1280.82 1522.85 1280.82 1531.6 Q1280.82 1540.33 1277.74 1544.94 Q1274.69 1549.52 1268.88 1549.52 Q1263.07 1549.52 1259.99 1544.94 Q1256.93 1540.33 1256.93 1531.6 Q1256.93 1522.85 1259.99 1518.27 Q1263.07 1513.66 1268.88 1513.66 Z\" fill=\"#000000\" fill-rule=\"nonzero\" fill-opacity=\"1\" /><path clip-path=\"url(#clip470)\" d=\"M1736.39 1544.91 L1744.03 1544.91 L1744.03 1518.55 L1735.72 1520.21 L1735.72 1515.95 L1743.99 1514.29 L1748.66 1514.29 L1748.66 1544.91 L1756.3 1544.91 L1756.3 1548.85 L1736.39 1548.85 L1736.39 1544.91 Z\" fill=\"#000000\" fill-rule=\"nonzero\" fill-opacity=\"1\" /><path clip-path=\"url(#clip470)\" d=\"M1765.75 1542.97 L1770.63 1542.97 L1770.63 1548.85 L1765.75 1548.85 L1765.75 1542.97 Z\" fill=\"#000000\" fill-rule=\"nonzero\" fill-opacity=\"1\" /><path clip-path=\"url(#clip470)\" d=\"M1780.86 1514.29 L1799.22 1514.29 L1799.22 1518.22 L1785.14 1518.22 L1785.14 1526.7 Q1786.16 1526.35 1787.18 1526.19 Q1788.2 1526 1789.22 1526 Q1795.01 1526 1798.38 1529.17 Q1801.76 1532.34 1801.76 1537.76 Q1801.76 1543.34 1798.29 1546.44 Q1794.82 1549.52 1788.5 1549.52 Q1786.32 1549.52 1784.06 1549.15 Q1781.81 1548.78 1779.4 1548.04 L1779.4 1543.34 Q1781.49 1544.47 1783.71 1545.03 Q1785.93 1545.58 1788.41 1545.58 Q1792.41 1545.58 1794.75 1543.48 Q1797.09 1541.37 1797.09 1537.76 Q1797.09 1534.15 1794.75 1532.04 Q1792.41 1529.94 1788.41 1529.94 Q1786.53 1529.94 1784.66 1530.35 Q1782.81 1530.77 1780.86 1531.65 L1780.86 1514.29 Z\" fill=\"#000000\" fill-rule=\"nonzero\" fill-opacity=\"1\" /><path clip-path=\"url(#clip470)\" d=\"M2261.42 1544.91 L2277.74 1544.91 L2277.74 1548.85 L2255.8 1548.85 L2255.8 1544.91 Q2258.46 1542.16 2263.04 1537.53 Q2267.65 1532.88 2268.83 1531.53 Q2271.07 1529.01 2271.95 1527.27 Q2272.86 1525.51 2272.86 1523.82 Q2272.86 1521.07 2270.91 1519.33 Q2268.99 1517.6 2265.89 1517.6 Q2263.69 1517.6 2261.24 1518.36 Q2258.81 1519.13 2256.03 1520.68 L2256.03 1515.95 Q2258.85 1514.82 2261.31 1514.24 Q2263.76 1513.66 2265.8 1513.66 Q2271.17 1513.66 2274.36 1516.35 Q2277.56 1519.03 2277.56 1523.52 Q2277.56 1525.65 2276.75 1527.57 Q2275.96 1529.47 2273.85 1532.07 Q2273.27 1532.74 2270.17 1535.95 Q2267.07 1539.15 2261.42 1544.91 Z\" fill=\"#000000\" fill-rule=\"nonzero\" fill-opacity=\"1\" /><path clip-path=\"url(#clip470)\" d=\"M2287.56 1542.97 L2292.44 1542.97 L2292.44 1548.85 L2287.56 1548.85 L2287.56 1542.97 Z\" fill=\"#000000\" fill-rule=\"nonzero\" fill-opacity=\"1\" /><path clip-path=\"url(#clip470)\" d=\"M2312.63 1517.37 Q2309.01 1517.37 2307.19 1520.93 Q2305.38 1524.47 2305.38 1531.6 Q2305.38 1538.71 2307.19 1542.27 Q2309.01 1545.82 2312.63 1545.82 Q2316.26 1545.82 2318.06 1542.27 Q2319.89 1538.71 2319.89 1531.6 Q2319.89 1524.47 2318.06 1520.93 Q2316.26 1517.37 2312.63 1517.37 M2312.63 1513.66 Q2318.44 1513.66 2321.49 1518.27 Q2324.57 1522.85 2324.57 1531.6 Q2324.57 1540.33 2321.49 1544.94 Q2318.44 1549.52 2312.63 1549.52 Q2306.82 1549.52 2303.74 1544.94 Q2300.68 1540.33 2300.68 1531.6 Q2300.68 1522.85 2303.74 1518.27 Q2306.82 1513.66 2312.63 1513.66 Z\" fill=\"#000000\" fill-rule=\"nonzero\" fill-opacity=\"1\" /><polyline clip-path=\"url(#clip472)\" style=\"stroke:#000000; stroke-linecap:round; stroke-linejoin:round; stroke-width:2; stroke-opacity:0.1; fill:none\" points=\"141.853,1455.42 2352.76,1455.42 \"/>\n",
       "<polyline clip-path=\"url(#clip472)\" style=\"stroke:#000000; stroke-linecap:round; stroke-linejoin:round; stroke-width:2; stroke-opacity:0.1; fill:none\" points=\"141.853,1204.97 2352.76,1204.97 \"/>\n",
       "<polyline clip-path=\"url(#clip472)\" style=\"stroke:#000000; stroke-linecap:round; stroke-linejoin:round; stroke-width:2; stroke-opacity:0.1; fill:none\" points=\"141.853,954.529 2352.76,954.529 \"/>\n",
       "<polyline clip-path=\"url(#clip472)\" style=\"stroke:#000000; stroke-linecap:round; stroke-linejoin:round; stroke-width:2; stroke-opacity:0.1; fill:none\" points=\"141.853,704.085 2352.76,704.085 \"/>\n",
       "<polyline clip-path=\"url(#clip472)\" style=\"stroke:#000000; stroke-linecap:round; stroke-linejoin:round; stroke-width:2; stroke-opacity:0.1; fill:none\" points=\"141.853,453.64 2352.76,453.64 \"/>\n",
       "<polyline clip-path=\"url(#clip472)\" style=\"stroke:#000000; stroke-linecap:round; stroke-linejoin:round; stroke-width:2; stroke-opacity:0.1; fill:none\" points=\"141.853,203.196 2352.76,203.196 \"/>\n",
       "<polyline clip-path=\"url(#clip470)\" style=\"stroke:#000000; stroke-linecap:round; stroke-linejoin:round; stroke-width:4; stroke-opacity:1; fill:none\" points=\"141.853,1486.45 141.853,47.2441 \"/>\n",
       "<polyline clip-path=\"url(#clip470)\" style=\"stroke:#000000; stroke-linecap:round; stroke-linejoin:round; stroke-width:4; stroke-opacity:1; fill:none\" points=\"141.853,1455.42 160.751,1455.42 \"/>\n",
       "<polyline clip-path=\"url(#clip470)\" style=\"stroke:#000000; stroke-linecap:round; stroke-linejoin:round; stroke-width:4; stroke-opacity:1; fill:none\" points=\"141.853,1204.97 160.751,1204.97 \"/>\n",
       "<polyline clip-path=\"url(#clip470)\" style=\"stroke:#000000; stroke-linecap:round; stroke-linejoin:round; stroke-width:4; stroke-opacity:1; fill:none\" points=\"141.853,954.529 160.751,954.529 \"/>\n",
       "<polyline clip-path=\"url(#clip470)\" style=\"stroke:#000000; stroke-linecap:round; stroke-linejoin:round; stroke-width:4; stroke-opacity:1; fill:none\" points=\"141.853,704.085 160.751,704.085 \"/>\n",
       "<polyline clip-path=\"url(#clip470)\" style=\"stroke:#000000; stroke-linecap:round; stroke-linejoin:round; stroke-width:4; stroke-opacity:1; fill:none\" points=\"141.853,453.64 160.751,453.64 \"/>\n",
       "<polyline clip-path=\"url(#clip470)\" style=\"stroke:#000000; stroke-linecap:round; stroke-linejoin:round; stroke-width:4; stroke-opacity:1; fill:none\" points=\"141.853,203.196 160.751,203.196 \"/>\n",
       "<path clip-path=\"url(#clip470)\" d=\"M93.9086 1441.22 Q90.2975 1441.22 88.4688 1444.78 Q86.6632 1448.32 86.6632 1455.45 Q86.6632 1462.56 88.4688 1466.12 Q90.2975 1469.66 93.9086 1469.66 Q97.5428 1469.66 99.3483 1466.12 Q101.177 1462.56 101.177 1455.45 Q101.177 1448.32 99.3483 1444.78 Q97.5428 1441.22 93.9086 1441.22 M93.9086 1437.51 Q99.7187 1437.51 102.774 1442.12 Q105.853 1446.7 105.853 1455.45 Q105.853 1464.18 102.774 1468.78 Q99.7187 1473.37 93.9086 1473.37 Q88.0984 1473.37 85.0197 1468.78 Q81.9642 1464.18 81.9642 1455.45 Q81.9642 1446.7 85.0197 1442.12 Q88.0984 1437.51 93.9086 1437.51 Z\" fill=\"#000000\" fill-rule=\"nonzero\" fill-opacity=\"1\" /><path clip-path=\"url(#clip470)\" d=\"M54.5569 1218.32 L62.1958 1218.32 L62.1958 1191.95 L53.8856 1193.62 L53.8856 1189.36 L62.1495 1187.69 L66.8254 1187.69 L66.8254 1218.32 L74.4642 1218.32 L74.4642 1222.25 L54.5569 1222.25 L54.5569 1218.32 Z\" fill=\"#000000\" fill-rule=\"nonzero\" fill-opacity=\"1\" /><path clip-path=\"url(#clip470)\" d=\"M93.9086 1190.77 Q90.2975 1190.77 88.4688 1194.34 Q86.6632 1197.88 86.6632 1205.01 Q86.6632 1212.11 88.4688 1215.68 Q90.2975 1219.22 93.9086 1219.22 Q97.5428 1219.22 99.3483 1215.68 Q101.177 1212.11 101.177 1205.01 Q101.177 1197.88 99.3483 1194.34 Q97.5428 1190.77 93.9086 1190.77 M93.9086 1187.07 Q99.7187 1187.07 102.774 1191.67 Q105.853 1196.26 105.853 1205.01 Q105.853 1213.73 102.774 1218.34 Q99.7187 1222.92 93.9086 1222.92 Q88.0984 1222.92 85.0197 1218.34 Q81.9642 1213.73 81.9642 1205.01 Q81.9642 1196.26 85.0197 1191.67 Q88.0984 1187.07 93.9086 1187.07 Z\" fill=\"#000000\" fill-rule=\"nonzero\" fill-opacity=\"1\" /><path clip-path=\"url(#clip470)\" d=\"M57.7745 967.874 L74.0939 967.874 L74.0939 971.809 L52.1495 971.809 L52.1495 967.874 Q54.8115 965.119 59.3949 960.489 Q64.0013 955.837 65.1819 954.494 Q67.4272 951.971 68.3068 950.235 Q69.2096 948.476 69.2096 946.786 Q69.2096 944.031 67.2652 942.295 Q65.3439 940.559 62.2421 940.559 Q60.043 940.559 57.5893 941.323 Q55.1588 942.087 52.381 943.638 L52.381 938.915 Q55.2051 937.781 57.6588 937.202 Q60.1124 936.624 62.1495 936.624 Q67.5198 936.624 70.7142 939.309 Q73.9087 941.994 73.9087 946.485 Q73.9087 948.614 73.0985 950.536 Q72.3115 952.434 70.205 955.026 Q69.6263 955.698 66.5245 958.915 Q63.4226 962.11 57.7745 967.874 Z\" fill=\"#000000\" fill-rule=\"nonzero\" fill-opacity=\"1\" /><path clip-path=\"url(#clip470)\" d=\"M93.9086 940.327 Q90.2975 940.327 88.4688 943.892 Q86.6632 947.434 86.6632 954.563 Q86.6632 961.67 88.4688 965.235 Q90.2975 968.776 93.9086 968.776 Q97.5428 968.776 99.3483 965.235 Q101.177 961.67 101.177 954.563 Q101.177 947.434 99.3483 943.892 Q97.5428 940.327 93.9086 940.327 M93.9086 936.624 Q99.7187 936.624 102.774 941.23 Q105.853 945.814 105.853 954.563 Q105.853 963.29 102.774 967.897 Q99.7187 972.48 93.9086 972.48 Q88.0984 972.48 85.0197 967.897 Q81.9642 963.29 81.9642 954.563 Q81.9642 945.814 85.0197 941.23 Q88.0984 936.624 93.9086 936.624 Z\" fill=\"#000000\" fill-rule=\"nonzero\" fill-opacity=\"1\" /><path clip-path=\"url(#clip470)\" d=\"M67.9133 702.73 Q71.2698 703.448 73.1448 705.717 Q75.0429 707.985 75.0429 711.318 Q75.0429 716.434 71.5244 719.235 Q68.0059 722.036 61.5245 722.036 Q59.3486 722.036 57.0338 721.596 Q54.7421 721.179 52.2884 720.323 L52.2884 715.809 Q54.2328 716.943 56.5477 717.522 Q58.8625 718.101 61.3856 718.101 Q65.7837 718.101 68.0754 716.365 Q70.3902 714.629 70.3902 711.318 Q70.3902 708.263 68.2374 706.55 Q66.1078 704.814 62.2884 704.814 L58.2606 704.814 L58.2606 700.971 L62.4735 700.971 Q65.9226 700.971 67.7513 699.605 Q69.58 698.217 69.58 695.624 Q69.58 692.962 67.6819 691.55 Q65.8069 690.115 62.2884 690.115 Q60.3671 690.115 58.168 690.531 Q55.969 690.948 53.3301 691.828 L53.3301 687.661 Q55.9921 686.92 58.3069 686.55 Q60.6449 686.18 62.705 686.18 Q68.0291 686.18 71.1309 688.61 Q74.2327 691.018 74.2327 695.138 Q74.2327 698.008 72.5892 699.999 Q70.9457 701.967 67.9133 702.73 Z\" fill=\"#000000\" fill-rule=\"nonzero\" fill-opacity=\"1\" /><path clip-path=\"url(#clip470)\" d=\"M93.9086 689.883 Q90.2975 689.883 88.4688 693.448 Q86.6632 696.99 86.6632 704.119 Q86.6632 711.226 88.4688 714.791 Q90.2975 718.332 93.9086 718.332 Q97.5428 718.332 99.3483 714.791 Q101.177 711.226 101.177 704.119 Q101.177 696.99 99.3483 693.448 Q97.5428 689.883 93.9086 689.883 M93.9086 686.18 Q99.7187 686.18 102.774 690.786 Q105.853 695.369 105.853 704.119 Q105.853 712.846 102.774 717.453 Q99.7187 722.036 93.9086 722.036 Q88.0984 722.036 85.0197 717.453 Q81.9642 712.846 81.9642 704.119 Q81.9642 695.369 85.0197 690.786 Q88.0984 686.18 93.9086 686.18 Z\" fill=\"#000000\" fill-rule=\"nonzero\" fill-opacity=\"1\" /><path clip-path=\"url(#clip470)\" d=\"M66.5939 440.435 L54.7884 458.883 L66.5939 458.883 L66.5939 440.435 M65.367 436.36 L71.2466 436.36 L71.2466 458.883 L76.1772 458.883 L76.1772 462.772 L71.2466 462.772 L71.2466 470.92 L66.5939 470.92 L66.5939 462.772 L50.9921 462.772 L50.9921 458.258 L65.367 436.36 Z\" fill=\"#000000\" fill-rule=\"nonzero\" fill-opacity=\"1\" /><path clip-path=\"url(#clip470)\" d=\"M93.9086 439.439 Q90.2975 439.439 88.4688 443.004 Q86.6632 446.546 86.6632 453.675 Q86.6632 460.782 88.4688 464.346 Q90.2975 467.888 93.9086 467.888 Q97.5428 467.888 99.3483 464.346 Q101.177 460.782 101.177 453.675 Q101.177 446.546 99.3483 443.004 Q97.5428 439.439 93.9086 439.439 M93.9086 435.735 Q99.7187 435.735 102.774 440.342 Q105.853 444.925 105.853 453.675 Q105.853 462.402 102.774 467.008 Q99.7187 471.592 93.9086 471.592 Q88.0984 471.592 85.0197 467.008 Q81.9642 462.402 81.9642 453.675 Q81.9642 444.925 85.0197 440.342 Q88.0984 435.735 93.9086 435.735 Z\" fill=\"#000000\" fill-rule=\"nonzero\" fill-opacity=\"1\" /><path clip-path=\"url(#clip470)\" d=\"M53.793 185.916 L72.1494 185.916 L72.1494 189.851 L58.0754 189.851 L58.0754 198.324 Q59.0939 197.976 60.1124 197.814 Q61.131 197.629 62.1495 197.629 Q67.9365 197.629 71.3161 200.801 Q74.6957 203.972 74.6957 209.388 Q74.6957 214.967 71.2235 218.069 Q67.7513 221.148 61.4319 221.148 Q59.256 221.148 56.9875 220.777 Q54.7421 220.407 52.3347 219.666 L52.3347 214.967 Q54.418 216.101 56.6402 216.657 Q58.8625 217.212 61.3393 217.212 Q65.3439 217.212 67.6819 215.106 Q70.0198 213 70.0198 209.388 Q70.0198 205.777 67.6819 203.671 Q65.3439 201.564 61.3393 201.564 Q59.4643 201.564 57.5893 201.981 Q55.7375 202.398 53.793 203.277 L53.793 185.916 Z\" fill=\"#000000\" fill-rule=\"nonzero\" fill-opacity=\"1\" /><path clip-path=\"url(#clip470)\" d=\"M93.9086 188.995 Q90.2975 188.995 88.4688 192.56 Q86.6632 196.101 86.6632 203.231 Q86.6632 210.337 88.4688 213.902 Q90.2975 217.444 93.9086 217.444 Q97.5428 217.444 99.3483 213.902 Q101.177 210.337 101.177 203.231 Q101.177 196.101 99.3483 192.56 Q97.5428 188.995 93.9086 188.995 M93.9086 185.291 Q99.7187 185.291 102.774 189.898 Q105.853 194.481 105.853 203.231 Q105.853 211.958 102.774 216.564 Q99.7187 221.148 93.9086 221.148 Q88.0984 221.148 85.0197 216.564 Q81.9642 211.958 81.9642 203.231 Q81.9642 194.481 85.0197 189.898 Q88.0984 185.291 93.9086 185.291 Z\" fill=\"#000000\" fill-rule=\"nonzero\" fill-opacity=\"1\" /><polyline clip-path=\"url(#clip472)\" style=\"stroke:#009af9; stroke-linecap:round; stroke-linejoin:round; stroke-width:4; stroke-opacity:1; fill:none\" points=\"204.426,1415.9 206.514,1415.96 208.601,1416.02 210.689,1416.07 212.777,1416.13 214.865,1416.19 216.953,1416.25 219.041,1416.31 221.128,1416.37 223.216,1416.43 225.304,1416.49 227.392,1416.55 229.48,1416.61 231.568,1416.67 233.656,1416.73 235.743,1416.79 237.831,1416.85 239.919,1416.91 242.007,1416.98 244.095,1417.04 246.183,1417.1 248.27,1417.16 250.358,1417.23 252.446,1417.29 254.534,1417.35 256.622,1417.42 258.71,1417.48 260.797,1417.55 262.885,1417.61 264.973,1417.68 267.061,1417.74 269.149,1417.81 271.237,1417.87 273.325,1417.94 275.412,1418 277.5,1418.07 279.588,1418.14 281.676,1418.2 283.764,1418.27 285.852,1418.34 287.939,1418.4 290.027,1418.47 292.115,1418.54 294.203,1418.61 296.291,1418.67 298.379,1418.74 300.467,1418.81 302.554,1418.88 304.642,1418.95 306.73,1419.01 308.818,1419.08 310.906,1419.15 312.994,1419.22 315.081,1419.29 317.169,1419.36 319.257,1419.43 321.345,1419.5 323.433,1419.57 325.521,1419.64 327.609,1419.71 329.696,1419.78 331.784,1419.85 333.872,1419.92 335.96,1419.99 338.048,1420.06 340.136,1420.14 342.223,1420.21 344.311,1420.28 346.399,1420.35 348.487,1420.42 350.575,1420.49 352.663,1420.56 354.751,1420.64 356.838,1420.71 358.926,1420.78 361.014,1420.85 363.102,1420.92 365.19,1421 367.278,1421.07 369.365,1421.14 371.453,1421.21 373.541,1421.29 375.629,1421.36 377.717,1421.43 379.805,1421.51 381.893,1421.58 383.98,1421.65 386.068,1421.72 388.156,1421.8 390.244,1421.87 392.332,1421.94 394.42,1422.02 396.507,1422.09 398.595,1422.16 400.683,1422.24 402.771,1422.31 404.859,1422.38 406.947,1422.46 409.035,1422.53 411.122,1422.61 413.21,1422.68 415.298,1422.75 417.386,1422.83 419.474,1422.9 421.562,1422.97 423.649,1423.05 425.737,1423.12 427.825,1423.2 429.913,1423.27 432.001,1423.34 434.089,1423.42 436.177,1423.49 438.264,1423.57 440.352,1423.64 442.44,1423.71 444.528,1423.79 446.616,1423.86 448.704,1423.93 450.791,1424.01 452.879,1424.08 454.967,1424.16 457.055,1424.23 459.143,1424.3 461.231,1424.38 463.318,1424.45 465.406,1424.52 467.494,1424.6 469.582,1424.67 471.67,1424.75 473.758,1424.82 475.846,1424.89 477.933,1424.97 480.021,1425.04 482.109,1425.11 484.197,1425.19 486.285,1425.26 488.373,1425.33 490.46,1425.41 492.548,1425.48 494.636,1425.55 496.724,1425.63 498.812,1425.7 500.9,1425.77 502.988,1425.84 505.075,1425.92 507.163,1425.99 509.251,1426.06 511.339,1426.14 513.427,1426.21 515.515,1426.28 517.602,1426.35 519.69,1426.43 521.778,1426.5 523.866,1426.57 525.954,1426.64 528.042,1426.71 530.13,1426.79 532.217,1426.86 534.305,1426.93 536.393,1427 538.481,1427.07 540.569,1427.15 542.657,1427.22 544.744,1427.29 546.832,1427.36 548.92,1427.43 551.008,1427.5 553.096,1427.57 555.184,1427.64 557.272,1427.71 559.359,1427.79 561.447,1427.86 563.535,1427.93 565.623,1428 567.711,1428.07 569.799,1428.14 571.886,1428.21 573.974,1428.28 576.062,1428.35 578.15,1428.42 580.238,1428.49 582.326,1428.56 584.414,1428.63 586.501,1428.7 588.589,1428.77 590.677,1428.83 592.765,1428.9 594.853,1428.97 596.941,1429.04 599.028,1429.11 601.116,1429.18 603.204,1429.25 605.292,1429.32 607.38,1429.38 609.468,1429.45 611.556,1429.52 613.643,1429.59 615.731,1429.66 617.819,1429.72 619.907,1429.79 621.995,1429.86 624.083,1429.93 626.17,1429.99 628.258,1430.06 630.346,1430.13 632.434,1430.19 634.522,1430.26 636.61,1430.33 638.698,1430.39 640.785,1430.46 642.873,1430.53 644.961,1430.59 647.049,1430.66 649.137,1430.72 651.225,1430.79 653.312,1430.85 655.4,1430.92 657.488,1430.99 659.576,1431.05 661.664,1431.12 663.752,1431.18 665.839,1431.24 667.927,1431.31 670.015,1431.37 672.103,1431.44 674.191,1431.5 676.279,1431.57 678.367,1431.63 680.454,1431.69 682.542,1431.76 684.63,1431.82 686.718,1431.88 688.806,1431.95 690.894,1432.01 692.981,1432.07 695.069,1432.14 697.157,1432.2 699.245,1432.26 701.333,1432.32 703.421,1432.39 705.509,1432.45 707.596,1432.51 709.684,1432.57 711.772,1432.63 713.86,1432.69 715.948,1432.75 718.036,1432.82 720.123,1432.88 722.211,1432.94 724.299,1433 726.387,1433.06 728.475,1433.12 730.563,1433.18 732.651,1433.24 734.738,1433.3 736.826,1433.36 738.914,1433.42 741.002,1433.48 743.09,1433.54 745.178,1433.6 747.265,1433.66 749.353,1433.71 751.441,1433.77 753.529,1433.83 755.617,1433.89 757.705,1433.95 759.793,1434.01 761.88,1434.06 763.968,1434.12 766.056,1434.18 768.144,1434.24 770.232,1434.3 772.32,1434.35 774.407,1434.41 776.495,1434.47 778.583,1434.52 780.671,1434.58 782.759,1434.64 784.847,1434.69 786.935,1434.75 789.022,1434.8 791.11,1434.86 793.198,1434.92 795.286,1434.97 797.374,1435.03 799.462,1435.08 801.549,1435.14 803.637,1435.19 805.725,1435.25 807.813,1435.3 809.901,1435.36 811.989,1435.41 814.077,1435.46 816.164,1435.52 818.252,1435.57 820.34,1435.63 822.428,1435.68 824.516,1435.73 826.604,1435.79 828.691,1435.84 830.779,1435.89 832.867,1435.94 834.955,1436 837.043,1436.05 839.131,1436.1 841.219,1436.15 843.306,1436.21 845.394,1436.26 847.482,1436.31 849.57,1436.36 851.658,1436.41 853.746,1436.46 855.833,1436.51 857.921,1436.57 860.009,1436.62 862.097,1436.67 864.185,1436.72 866.273,1436.77 868.36,1436.82 870.448,1436.87 872.536,1436.92 874.624,1436.97 876.712,1437.02 878.8,1437.07 880.888,1437.11 882.975,1437.16 885.063,1437.21 887.151,1437.26 889.239,1437.31 891.327,1437.36 893.415,1437.41 895.502,1437.45 897.59,1437.5 899.678,1437.55 901.766,1437.6 903.854,1437.65 905.942,1437.69 908.03,1437.74 910.117,1437.79 912.205,1437.83 914.293,1437.88 916.381,1437.93 918.469,1437.97 920.557,1438.02 922.644,1438.07 924.732,1438.11 926.82,1438.16 928.908,1438.2 930.996,1438.25 933.084,1438.29 935.172,1438.34 937.259,1438.38 939.347,1438.43 941.435,1438.47 943.523,1438.52 945.611,1438.56 947.699,1438.61 949.786,1438.65 951.874,1438.7 953.962,1438.74 956.05,1438.78 958.138,1438.83 960.226,1438.87 962.314,1438.91 964.401,1438.96 966.489,1439 968.577,1439.04 970.665,1439.08 972.753,1439.13 974.841,1439.17 976.928,1439.21 979.016,1439.25 981.104,1439.3 983.192,1439.34 985.28,1439.38 987.368,1439.42 989.456,1439.46 991.543,1439.5 993.631,1439.54 995.719,1439.58 997.807,1439.62 999.895,1439.67 1001.98,1439.71 1004.07,1439.75 1006.16,1439.79 1008.25,1439.83 1010.33,1439.87 1012.42,1439.91 1014.51,1439.95 1016.6,1439.98 1018.69,1440.02 1020.77,1440.06 1022.86,1440.1 1024.95,1440.14 1027.04,1440.18 1029.12,1440.22 1031.21,1440.26 1033.3,1440.29 1035.39,1440.33 1037.48,1440.37 1039.56,1440.41 1041.65,1440.45 1043.74,1440.48 1045.83,1440.52 1047.92,1440.56 1050,1440.59 1052.09,1440.63 1054.18,1440.67 1056.27,1440.7 1058.35,1440.74 1060.44,1440.78 1062.53,1440.81 1064.62,1440.85 1066.71,1440.89 1068.79,1440.92 1070.88,1440.96 1072.97,1440.99 1075.06,1441.03 1077.15,1441.06 1079.23,1441.1 1081.32,1441.13 1083.41,1441.17 1085.5,1441.2 1087.58,1441.24 1089.67,1441.27 1091.76,1441.31 1093.85,1441.34 1095.94,1441.37 1098.02,1441.41 1100.11,1441.44 1102.2,1441.47 1104.29,1441.51 1106.37,1441.54 1108.46,1441.57 1110.55,1441.61 1112.64,1441.64 1114.73,1441.67 1116.81,1441.71 1118.9,1441.74 1120.99,1441.77 1123.08,1441.8 1125.17,1441.83 1127.25,1441.87 1129.34,1441.9 1131.43,1441.93 1133.52,1441.96 1135.6,1441.99 1137.69,1442.02 1139.78,1442.05 1141.87,1442.09 1143.96,1442.12 1146.04,1442.15 1148.13,1442.18 1150.22,1442.21 1152.31,1442.24 1154.4,1442.27 1156.48,1442.3 1158.57,1442.33 1160.66,1442.36 1162.75,1442.39 1164.83,1442.42 1166.92,1442.45 1169.01,1442.48 1171.1,1442.5 1173.19,1442.53 1175.27,1442.56 1177.36,1442.59 1179.45,1442.62 1181.54,1442.65 1183.63,1442.68 1185.71,1442.7 1187.8,1442.73 1189.89,1442.76 1191.98,1442.79 1194.06,1442.82 1196.15,1442.84 1198.24,1442.87 1200.33,1442.9 1202.42,1442.92 1204.5,1442.95 1206.59,1442.98 1208.68,1443.01 1210.77,1443.03 1212.85,1443.06 1214.94,1443.08 1217.03,1443.11 1219.12,1443.14 1221.21,1443.16 1223.29,1443.19 1225.38,1443.21 1227.47,1443.24 1229.56,1443.27 1231.65,1443.29 1233.73,1443.32 1235.82,1443.34 1237.91,1443.37 1240,1443.39 1242.08,1443.42 1244.17,1443.44 1246.26,1443.46 1248.35,1443.49 1250.44,1443.51 1252.52,1443.54 1254.61,1443.56 1256.7,1443.58 1258.79,1443.61 1260.88,1443.63 1262.96,1443.65 1265.05,1443.68 1267.14,1443.7 1269.23,1443.72 1271.31,1443.75 1273.4,1443.77 1275.49,1443.79 1277.58,1443.82 1279.67,1443.84 1281.75,1443.86 1283.84,1443.88 1285.93,1443.9 1288.02,1443.93 1290.11,1443.95 1292.19,1443.97 1294.28,1443.99 1296.37,1444.01 1298.46,1444.03 1300.54,1444.05 1302.63,1444.08 1304.72,1444.1 1306.81,1444.12 1308.9,1444.14 1310.98,1444.16 1313.07,1444.18 1315.16,1444.2 1317.25,1444.22 1319.34,1444.24 1321.42,1444.26 1323.51,1444.28 1325.6,1444.3 1327.69,1444.32 1329.77,1444.34 1331.86,1444.36 1333.95,1444.37 1336.04,1444.39 1338.13,1444.41 1340.21,1444.43 1342.3,1444.45 1344.39,1444.47 1346.48,1444.49 1348.56,1444.5 1350.65,1444.52 1352.74,1444.54 1354.83,1444.56 1356.92,1444.58 1359,1444.59 1361.09,1444.61 1363.18,1444.63 1365.27,1444.65 1367.36,1444.66 1369.44,1444.68 1371.53,1444.7 1373.62,1444.71 1375.71,1444.73 1377.79,1444.75 1379.88,1444.76 1381.97,1444.78 1384.06,1444.79 1386.15,1444.81 1388.23,1444.83 1390.32,1444.84 1392.41,1444.86 1394.5,1444.87 1396.59,1444.89 1398.67,1444.9 1400.76,1444.92 1402.85,1444.93 1404.94,1444.95 1407.02,1444.96 1409.11,1444.98 1411.2,1444.99 1413.29,1445 1415.38,1445.02 1417.46,1445.03 1419.55,1445.05 1421.64,1445.06 1423.73,1445.07 1425.82,1445.09 1427.9,1445.1 1429.99,1445.11 1432.08,1445.12 1434.17,1445.14 1436.25,1445.15 1438.34,1445.16 1440.43,1445.18 1442.52,1445.19 1444.61,1445.2 1446.69,1445.21 1448.78,1445.22 1450.87,1445.24 1452.96,1445.25 1455.05,1445.26 1457.13,1445.27 1459.22,1445.28 1461.31,1445.29 1463.4,1445.3 1465.48,1445.31 1467.57,1445.32 1469.66,1445.34 1471.75,1445.35 1473.84,1445.36 1475.92,1445.37 1478.01,1445.38 1480.1,1445.39 1482.19,1445.4 1484.27,1445.41 1486.36,1445.41 1488.45,1445.42 1490.54,1445.43 1492.63,1445.44 1494.71,1445.45 1496.8,1445.46 1498.89,1445.47 1500.98,1445.48 1503.07,1445.48 1505.15,1445.49 1507.24,1445.5 1509.33,1445.51 1511.42,1445.52 1513.5,1445.52 1515.59,1445.53 1517.68,1445.54 1519.77,1445.55 1521.86,1445.55 1523.94,1445.56 1526.03,1445.57 1528.12,1445.57 1530.21,1445.58 1532.3,1445.59 1534.38,1445.59 1536.47,1445.6 1538.56,1445.6 1540.65,1445.61 1542.73,1445.62 1544.82,1445.62 1546.91,1445.63 1549,1445.63 1551.09,1445.64 1553.17,1445.64 1555.26,1445.65 1557.35,1445.65 1559.44,1445.65 1561.53,1445.66 1563.61,1445.66 1565.7,1445.67 1567.79,1445.67 1569.88,1445.67 1571.96,1445.68 1574.05,1445.68 1576.14,1445.68 1578.23,1445.69 1580.32,1445.69 1582.4,1445.69 1584.49,1445.7 1586.58,1445.7 1588.67,1445.7 1590.75,1445.7 1592.84,1445.7 1594.93,1445.71 1597.02,1445.71 1599.11,1445.71 1601.19,1445.71 1603.28,1445.71 1605.37,1445.71 1607.46,1445.71 1609.55,1445.71 1611.63,1445.71 1613.72,1445.72 1615.81,1445.72 1617.9,1445.72 1619.98,1445.72 1622.07,1445.72 1624.16,1445.72 1626.25,1445.71 1628.34,1445.71 1630.42,1445.71 1632.51,1445.71 1634.6,1445.71 1636.69,1445.71 1638.78,1445.71 1640.86,1445.71 1642.95,1445.7 1645.04,1445.7 1647.13,1445.7 1649.21,1445.7 1651.3,1445.7 1653.39,1445.69 1655.48,1445.69 1657.57,1445.69 1659.65,1445.68 1661.74,1445.68 1663.83,1445.68 1665.92,1445.67 1668.01,1445.67 1670.09,1445.67 1672.18,1445.66 1674.27,1445.66 1676.36,1445.65 1678.44,1445.65 1680.53,1445.64 1682.62,1445.64 1684.71,1445.63 1686.8,1445.63 1688.88,1445.62 1690.97,1445.62 1693.06,1445.61 1695.15,1445.61 1697.24,1445.6 1699.32,1445.59 1701.41,1445.59 1703.5,1445.58 1705.59,1445.57 1707.67,1445.57 1709.76,1445.56 1711.85,1445.55 1713.94,1445.54 1716.03,1445.54 1718.11,1445.53 1720.2,1445.52 1722.29,1445.51 1724.38,1445.5 1726.46,1445.5 1728.55,1445.49 1730.64,1445.48 1732.73,1445.47 1734.82,1445.46 1736.9,1445.45 1738.99,1445.44 1741.08,1445.43 1743.17,1445.42 1745.26,1445.41 1747.34,1445.4 1749.43,1445.39 1751.52,1445.38 1753.61,1445.37 1755.69,1445.36 1757.78,1445.35 1759.87,1445.34 1761.96,1445.32 1764.05,1445.31 1766.13,1445.3 1768.22,1445.29 1770.31,1445.28 1772.4,1445.26 1774.49,1445.25 1776.57,1445.24 1778.66,1445.23 1780.75,1445.21 1782.84,1445.2 1784.92,1445.19 1787.01,1445.17 1789.1,1445.16 1791.19,1445.14 1793.28,1445.13 1795.36,1445.12 1797.45,1445.1 1799.54,1445.09 1801.63,1445.07 1803.72,1445.06 1805.8,1445.04 1807.89,1445.03 1809.98,1445.01 1812.07,1444.99 1814.15,1444.98 1816.24,1444.96 1818.33,1444.95 1820.42,1444.93 1822.51,1444.91 1824.59,1444.9 1826.68,1444.88 1828.77,1444.86 1830.86,1444.84 1832.95,1444.83 1835.03,1444.81 1837.12,1444.79 1839.21,1444.77 1841.3,1444.75 1843.38,1444.73 1845.47,1444.72 1847.56,1444.7 1849.65,1444.68 1851.74,1444.66 1853.82,1444.64 1855.91,1444.62 1858,1444.6 1860.09,1444.58 1862.17,1444.56 1864.26,1444.54 1866.35,1444.52 1868.44,1444.5 1870.53,1444.48 1872.61,1444.45 1874.7,1444.43 1876.79,1444.41 1878.88,1444.39 1880.97,1444.37 1883.05,1444.35 1885.14,1444.32 1887.23,1444.3 1889.32,1444.28 1891.4,1444.26 1893.49,1444.23 1895.58,1444.21 1897.67,1444.19 1899.76,1444.16 1901.84,1444.14 1903.93,1444.11 1906.02,1444.09 1908.11,1444.06 1910.2,1444.04 1912.28,1444.02 1914.37,1443.99 1916.46,1443.97 1918.55,1443.94 1920.63,1443.91 1922.72,1443.89 1924.81,1443.86 1926.9,1443.84 1928.99,1443.81 1931.07,1443.78 1933.16,1443.76 1935.25,1443.73 1937.34,1443.7 1939.43,1443.68 1941.51,1443.65 1943.6,1443.62 1945.69,1443.59 1947.78,1443.56 1949.86,1443.54 1951.95,1443.51 1954.04,1443.48 1956.13,1443.45 1958.22,1443.42 1960.3,1443.39 1962.39,1443.36 1964.48,1443.33 1966.57,1443.3 1968.65,1443.27 1970.74,1443.24 1972.83,1443.21 1974.92,1443.18 1977.01,1443.15 1979.09,1443.12 1981.18,1443.09 1983.27,1443.06 1985.36,1443.03 1987.45,1442.99 1989.53,1442.96 1991.62,1442.93 1993.71,1442.9 1995.8,1442.86 1997.88,1442.83 1999.97,1442.8 2002.06,1442.77 2004.15,1442.73 2006.24,1442.7 2008.32,1442.66 2010.41,1442.63 2012.5,1442.6 2014.59,1442.56 2016.68,1442.53 2018.76,1442.49 2020.85,1442.46 2022.94,1442.42 2025.03,1442.39 2027.11,1442.35 2029.2,1442.32 2031.29,1442.28 2033.38,1442.25 2035.47,1442.21 2037.55,1442.17 2039.64,1442.14 2041.73,1442.1 2043.82,1442.06 2045.91,1442.02 2047.99,1441.99 2050.08,1441.95 2052.17,1441.91 2054.26,1441.87 2056.34,1441.84 2058.43,1441.8 2060.52,1441.76 2062.61,1441.72 2064.7,1441.68 2066.78,1441.64 2068.87,1441.6 2070.96,1441.56 2073.05,1441.52 2075.14,1441.48 2077.22,1441.44 2079.31,1441.4 2081.4,1441.36 2083.49,1441.32 2085.57,1441.28 2087.66,1441.24 2089.75,1441.2 2091.84,1441.16 2093.93,1441.12 2096.01,1441.07 2098.1,1441.03 2100.19,1440.99 2102.28,1440.95 2104.36,1440.9 2106.45,1440.86 2108.54,1440.82 2110.63,1440.78 2112.72,1440.73 2114.8,1440.69 2116.89,1440.64 2118.98,1440.6 2121.07,1440.56 2123.16,1440.51 2125.24,1440.47 2127.33,1440.42 2129.42,1440.38 2131.51,1440.33 2133.59,1440.29 2135.68,1440.24 2137.77,1440.2 2139.86,1440.15 2141.95,1440.1 2144.03,1440.06 2146.12,1440.01 2148.21,1439.97 2150.3,1439.92 2152.39,1439.87 2154.47,1439.82 2156.56,1439.78 2158.65,1439.73 2160.74,1439.68 2162.82,1439.63 2164.91,1439.59 2167,1439.54 2169.09,1439.49 2171.18,1439.44 2173.26,1439.39 2175.35,1439.34 2177.44,1439.29 2179.53,1439.24 2181.62,1439.19 2183.7,1439.14 2185.79,1439.09 2187.88,1439.04 2189.97,1438.99 2192.05,1438.94 2194.14,1438.89 2196.23,1438.84 2198.32,1438.79 2200.41,1438.74 2202.49,1438.69 2204.58,1438.64 2206.67,1438.58 2208.76,1438.53 2210.85,1438.48 2212.93,1438.43 2215.02,1438.37 2217.11,1438.32 2219.2,1438.27 2221.28,1438.21 2223.37,1438.16 2225.46,1438.11 2227.55,1438.05 2229.64,1438 2231.72,1437.95 2233.81,1437.89 2235.9,1437.84 2237.99,1437.78 2240.07,1437.73 2242.16,1437.67 2244.25,1437.62 2246.34,1437.56 2248.43,1437.51 2250.51,1437.45 2252.6,1437.4 2254.69,1437.34 2256.78,1437.28 2258.87,1437.23 2260.95,1437.17 2263.04,1437.11 2265.13,1437.06 2267.22,1437 2269.3,1436.94 2271.39,1436.88 2273.48,1436.83 2275.57,1436.77 2277.66,1436.71 2279.74,1436.65 2281.83,1436.59 2283.92,1436.54 2286.01,1436.48 2288.1,1436.42 2290.18,1436.36 \"/>\n",
       "<polyline clip-path=\"url(#clip472)\" style=\"stroke:#e26f46; stroke-linecap:round; stroke-linejoin:round; stroke-width:4; stroke-opacity:1; fill:none\" points=\"204.426,1405.33 206.514,1405.38 208.601,1405.43 210.689,1405.47 212.777,1405.52 214.865,1405.56 216.953,1405.61 219.041,1405.65 221.128,1405.69 223.216,1405.73 225.304,1405.76 227.392,1405.8 229.48,1405.84 231.568,1405.87 233.656,1405.9 235.743,1405.94 237.831,1405.97 239.919,1405.99 242.007,1406.02 244.095,1406.05 246.183,1406.07 248.27,1406.1 250.358,1406.12 252.446,1406.14 254.534,1406.16 256.622,1406.18 258.71,1406.2 260.797,1406.22 262.885,1406.23 264.973,1406.25 267.061,1406.26 269.149,1406.27 271.237,1406.28 273.325,1406.29 275.412,1406.3 277.5,1406.31 279.588,1406.31 281.676,1406.32 283.764,1406.32 285.852,1406.33 287.939,1406.33 290.027,1406.33 292.115,1406.33 294.203,1406.32 296.291,1406.32 298.379,1406.31 300.467,1406.31 302.554,1406.3 304.642,1406.29 306.73,1406.28 308.818,1406.27 310.906,1406.26 312.994,1406.25 315.081,1406.24 317.169,1406.22 319.257,1406.2 321.345,1406.19 323.433,1406.17 325.521,1406.15 327.609,1406.13 329.696,1406.11 331.784,1406.08 333.872,1406.06 335.96,1406.03 338.048,1406.01 340.136,1405.98 342.223,1405.95 344.311,1405.92 346.399,1405.89 348.487,1405.86 350.575,1405.82 352.663,1405.79 354.751,1405.75 356.838,1405.72 358.926,1405.68 361.014,1405.64 363.102,1405.6 365.19,1405.56 367.278,1405.51 369.365,1405.47 371.453,1405.43 373.541,1405.38 375.629,1405.33 377.717,1405.29 379.805,1405.24 381.893,1405.19 383.98,1405.14 386.068,1405.08 388.156,1405.03 390.244,1404.98 392.332,1404.92 394.42,1404.86 396.507,1404.81 398.595,1404.75 400.683,1404.69 402.771,1404.63 404.859,1404.56 406.947,1404.5 409.035,1404.44 411.122,1404.37 413.21,1404.3 415.298,1404.24 417.386,1404.17 419.474,1404.1 421.562,1404.03 423.649,1403.95 425.737,1403.88 427.825,1403.81 429.913,1403.73 432.001,1403.66 434.089,1403.58 436.177,1403.5 438.264,1403.42 440.352,1403.34 442.44,1403.26 444.528,1403.17 446.616,1403.09 448.704,1403 450.791,1402.92 452.879,1402.83 454.967,1402.74 457.055,1402.65 459.143,1402.56 461.231,1402.47 463.318,1402.38 465.406,1402.28 467.494,1402.19 469.582,1402.09 471.67,1402 473.758,1401.9 475.846,1401.8 477.933,1401.7 480.021,1401.6 482.109,1401.49 484.197,1401.39 486.285,1401.29 488.373,1401.18 490.46,1401.07 492.548,1400.96 494.636,1400.86 496.724,1400.75 498.812,1400.63 500.9,1400.52 502.988,1400.41 505.075,1400.29 507.163,1400.18 509.251,1400.06 511.339,1399.94 513.427,1399.82 515.515,1399.7 517.602,1399.58 519.69,1399.46 521.778,1399.34 523.866,1399.21 525.954,1399.09 528.042,1398.96 530.13,1398.83 532.217,1398.7 534.305,1398.57 536.393,1398.44 538.481,1398.31 540.569,1398.18 542.657,1398.04 544.744,1397.91 546.832,1397.77 548.92,1397.63 551.008,1397.49 553.096,1397.35 555.184,1397.21 557.272,1397.07 559.359,1396.93 561.447,1396.78 563.535,1396.64 565.623,1396.49 567.711,1396.34 569.799,1396.19 571.886,1396.04 573.974,1395.89 576.062,1395.74 578.15,1395.59 580.238,1395.43 582.326,1395.28 584.414,1395.12 586.501,1394.96 588.589,1394.8 590.677,1394.64 592.765,1394.48 594.853,1394.32 596.941,1394.15 599.028,1393.99 601.116,1393.82 603.204,1393.66 605.292,1393.49 607.38,1393.32 609.468,1393.15 611.556,1392.98 613.643,1392.8 615.731,1392.63 617.819,1392.45 619.907,1392.28 621.995,1392.1 624.083,1391.92 626.17,1391.74 628.258,1391.56 630.346,1391.38 632.434,1391.2 634.522,1391.01 636.61,1390.83 638.698,1390.64 640.785,1390.45 642.873,1390.26 644.961,1390.07 647.049,1389.88 649.137,1389.69 651.225,1389.49 653.312,1389.3 655.4,1389.1 657.488,1388.9 659.576,1388.7 661.664,1388.5 663.752,1388.3 665.839,1388.1 667.927,1387.9 670.015,1387.69 672.103,1387.49 674.191,1387.28 676.279,1387.07 678.367,1386.86 680.454,1386.65 682.542,1386.44 684.63,1386.22 686.718,1386.01 688.806,1385.79 690.894,1385.58 692.981,1385.36 695.069,1385.14 697.157,1384.92 699.245,1384.69 701.333,1384.47 703.421,1384.25 705.509,1384.02 707.596,1383.79 709.684,1383.56 711.772,1383.34 713.86,1383.1 715.948,1382.87 718.036,1382.64 720.123,1382.4 722.211,1382.17 724.299,1381.93 726.387,1381.69 728.475,1381.45 730.563,1381.21 732.651,1380.97 734.738,1380.72 736.826,1380.48 738.914,1380.23 741.002,1379.98 743.09,1379.73 745.178,1379.48 747.265,1379.23 749.353,1378.98 751.441,1378.73 753.529,1378.47 755.617,1378.21 757.705,1377.95 759.793,1377.69 761.88,1377.43 763.968,1377.17 766.056,1376.91 768.144,1376.64 770.232,1376.37 772.32,1376.11 774.407,1375.84 776.495,1375.57 778.583,1375.29 780.671,1375.02 782.759,1374.75 784.847,1374.47 786.935,1374.19 789.022,1373.91 791.11,1373.63 793.198,1373.35 795.286,1373.07 797.374,1372.78 799.462,1372.5 801.549,1372.21 803.637,1371.92 805.725,1371.63 807.813,1371.34 809.901,1371.05 811.989,1370.75 814.077,1370.46 816.164,1370.16 818.252,1369.86 820.34,1369.56 822.428,1369.26 824.516,1368.95 826.604,1368.65 828.691,1368.34 830.779,1368.03 832.867,1367.73 834.955,1367.41 837.043,1367.1 839.131,1366.79 841.219,1366.47 843.306,1366.16 845.394,1365.84 847.482,1365.52 849.57,1365.2 851.658,1364.87 853.746,1364.55 855.833,1364.22 857.921,1363.9 860.009,1363.57 862.097,1363.24 864.185,1362.91 866.273,1362.57 868.36,1362.24 870.448,1361.9 872.536,1361.56 874.624,1361.22 876.712,1360.88 878.8,1360.54 880.888,1360.19 882.975,1359.85 885.063,1359.5 887.151,1359.15 889.239,1358.8 891.327,1358.44 893.415,1358.09 895.502,1357.73 897.59,1357.38 899.678,1357.02 901.766,1356.66 903.854,1356.29 905.942,1355.93 908.03,1355.56 910.117,1355.2 912.205,1354.83 914.293,1354.46 916.381,1354.08 918.469,1353.71 920.557,1353.33 922.644,1352.96 924.732,1352.58 926.82,1352.2 928.908,1351.81 930.996,1351.43 933.084,1351.04 935.172,1350.65 937.259,1350.26 939.347,1349.87 941.435,1349.48 943.523,1349.08 945.611,1348.69 947.699,1348.29 949.786,1347.89 951.874,1347.49 953.962,1347.08 956.05,1346.68 958.138,1346.27 960.226,1345.86 962.314,1345.45 964.401,1345.04 966.489,1344.62 968.577,1344.21 970.665,1343.79 972.753,1343.37 974.841,1342.95 976.928,1342.52 979.016,1342.1 981.104,1341.67 983.192,1341.24 985.28,1340.81 987.368,1340.37 989.456,1339.94 991.543,1339.5 993.631,1339.06 995.719,1338.62 997.807,1338.18 999.895,1337.73 1001.98,1337.29 1004.07,1336.84 1006.16,1336.39 1008.25,1335.93 1010.33,1335.48 1012.42,1335.02 1014.51,1334.57 1016.6,1334.1 1018.69,1333.64 1020.77,1333.18 1022.86,1332.71 1024.95,1332.24 1027.04,1331.77 1029.12,1331.3 1031.21,1330.82 1033.3,1330.35 1035.39,1329.87 1037.48,1329.39 1039.56,1328.91 1041.65,1328.42 1043.74,1327.93 1045.83,1327.44 1047.92,1326.95 1050,1326.46 1052.09,1325.97 1054.18,1325.47 1056.27,1324.97 1058.35,1324.47 1060.44,1323.96 1062.53,1323.46 1064.62,1322.95 1066.71,1322.44 1068.79,1321.93 1070.88,1321.41 1072.97,1320.89 1075.06,1320.37 1077.15,1319.85 1079.23,1319.33 1081.32,1318.8 1083.41,1318.28 1085.5,1317.75 1087.58,1317.21 1089.67,1316.68 1091.76,1316.14 1093.85,1315.6 1095.94,1315.06 1098.02,1314.52 1100.11,1313.97 1102.2,1313.42 1104.29,1312.87 1106.37,1312.32 1108.46,1311.76 1110.55,1311.2 1112.64,1310.64 1114.73,1310.08 1116.81,1309.52 1118.9,1308.95 1120.99,1308.38 1123.08,1307.81 1125.17,1307.23 1127.25,1306.66 1129.34,1306.08 1131.43,1305.5 1133.52,1304.91 1135.6,1304.33 1137.69,1303.74 1139.78,1303.15 1141.87,1302.55 1143.96,1301.96 1146.04,1301.36 1148.13,1300.76 1150.22,1300.15 1152.31,1299.54 1154.4,1298.94 1156.48,1298.32 1158.57,1297.71 1160.66,1297.09 1162.75,1296.47 1164.83,1295.85 1166.92,1295.23 1169.01,1294.6 1171.1,1293.97 1173.19,1293.34 1175.27,1292.7 1177.36,1292.07 1179.45,1291.43 1181.54,1290.78 1183.63,1290.14 1185.71,1289.49 1187.8,1288.84 1189.89,1288.19 1191.98,1287.53 1194.06,1286.87 1196.15,1286.21 1198.24,1285.54 1200.33,1284.88 1202.42,1284.21 1204.5,1283.54 1206.59,1282.86 1208.68,1282.18 1210.77,1281.5 1212.85,1280.82 1214.94,1280.13 1217.03,1279.44 1219.12,1278.75 1221.21,1278.05 1223.29,1277.35 1225.38,1276.65 1227.47,1275.95 1229.56,1275.24 1231.65,1274.53 1233.73,1273.82 1235.82,1273.1 1237.91,1272.39 1240,1271.66 1242.08,1270.94 1244.17,1270.21 1246.26,1269.48 1248.35,1268.75 1250.44,1268.01 1252.52,1267.27 1254.61,1266.53 1256.7,1265.78 1258.79,1265.04 1260.88,1264.28 1262.96,1263.53 1265.05,1262.77 1267.14,1262.01 1269.23,1261.25 1271.31,1260.48 1273.4,1259.71 1275.49,1258.93 1277.58,1258.16 1279.67,1257.38 1281.75,1256.59 1283.84,1255.81 1285.93,1255.02 1288.02,1254.23 1290.11,1253.43 1292.19,1252.63 1294.28,1251.83 1296.37,1251.02 1298.46,1250.21 1300.54,1249.4 1302.63,1248.58 1304.72,1247.76 1306.81,1246.94 1308.9,1246.12 1310.98,1245.29 1313.07,1244.45 1315.16,1243.62 1317.25,1242.78 1319.34,1241.94 1321.42,1241.09 1323.51,1240.24 1325.6,1239.39 1327.69,1238.53 1329.77,1237.67 1331.86,1236.81 1333.95,1235.94 1336.04,1235.07 1338.13,1234.19 1340.21,1233.32 1342.3,1232.43 1344.39,1231.55 1346.48,1230.66 1348.56,1229.77 1350.65,1228.87 1352.74,1227.97 1354.83,1227.07 1356.92,1226.16 1359,1225.25 1361.09,1224.34 1363.18,1223.42 1365.27,1222.5 1367.36,1221.57 1369.44,1220.64 1371.53,1219.71 1373.62,1218.77 1375.71,1217.83 1377.79,1216.89 1379.88,1215.94 1381.97,1214.99 1384.06,1214.03 1386.15,1213.07 1388.23,1212.11 1390.32,1211.14 1392.41,1210.17 1394.5,1209.19 1396.59,1208.21 1398.67,1207.23 1400.76,1206.24 1402.85,1205.25 1404.94,1204.25 1407.02,1203.25 1409.11,1202.25 1411.2,1201.24 1413.29,1200.23 1415.38,1199.21 1417.46,1198.19 1419.55,1197.17 1421.64,1196.14 1423.73,1195.11 1425.82,1194.07 1427.9,1193.03 1429.99,1191.98 1432.08,1190.93 1434.17,1189.88 1436.25,1188.82 1438.34,1187.76 1440.43,1186.69 1442.52,1185.62 1444.61,1184.55 1446.69,1183.47 1448.78,1182.38 1450.87,1181.29 1452.96,1180.2 1455.05,1179.1 1457.13,1178 1459.22,1176.9 1461.31,1175.79 1463.4,1174.67 1465.48,1173.55 1467.57,1172.43 1469.66,1171.3 1471.75,1170.16 1473.84,1169.03 1475.92,1167.88 1478.01,1166.74 1480.1,1165.58 1482.19,1164.43 1484.27,1163.27 1486.36,1162.1 1488.45,1160.93 1490.54,1159.76 1492.63,1158.58 1494.71,1157.39 1496.8,1156.2 1498.89,1155.01 1500.98,1153.81 1503.07,1152.6 1505.15,1151.39 1507.24,1150.18 1509.33,1148.96 1511.42,1147.74 1513.5,1146.51 1515.59,1145.28 1517.68,1144.04 1519.77,1142.79 1521.86,1141.55 1523.94,1140.29 1526.03,1139.03 1528.12,1137.77 1530.21,1136.5 1532.3,1135.23 1534.38,1133.95 1536.47,1132.66 1538.56,1131.37 1540.65,1130.08 1542.73,1128.78 1544.82,1127.47 1546.91,1126.16 1549,1124.85 1551.09,1123.53 1553.17,1122.2 1555.26,1120.87 1557.35,1119.53 1559.44,1118.19 1561.53,1116.84 1563.61,1115.49 1565.7,1114.13 1567.79,1112.77 1569.88,1111.4 1571.96,1110.02 1574.05,1108.64 1576.14,1107.25 1578.23,1105.86 1580.32,1104.46 1582.4,1103.06 1584.49,1101.65 1586.58,1100.24 1588.67,1098.82 1590.75,1097.39 1592.84,1095.96 1594.93,1094.52 1597.02,1093.08 1599.11,1091.63 1601.19,1090.17 1603.28,1088.71 1605.37,1087.25 1607.46,1085.77 1609.55,1084.29 1611.63,1082.81 1613.72,1081.32 1615.81,1079.82 1617.9,1078.32 1619.98,1076.81 1622.07,1075.3 1624.16,1073.78 1626.25,1072.25 1628.34,1070.72 1630.42,1069.18 1632.51,1067.63 1634.6,1066.08 1636.69,1064.52 1638.78,1062.96 1640.86,1061.39 1642.95,1059.81 1645.04,1058.23 1647.13,1056.64 1649.21,1055.04 1651.3,1053.44 1653.39,1051.83 1655.48,1050.22 1657.57,1048.59 1659.65,1046.97 1661.74,1045.33 1663.83,1043.69 1665.92,1042.04 1668.01,1040.39 1670.09,1038.72 1672.18,1037.06 1674.27,1035.38 1676.36,1033.7 1678.44,1032.01 1680.53,1030.32 1682.62,1028.61 1684.71,1026.91 1686.8,1025.19 1688.88,1023.47 1690.97,1021.74 1693.06,1020 1695.15,1018.26 1697.24,1016.51 1699.32,1014.75 1701.41,1012.99 1703.5,1011.21 1705.59,1009.44 1707.67,1007.65 1709.76,1005.86 1711.85,1004.06 1713.94,1002.25 1716.03,1000.43 1718.11,998.611 1720.2,996.782 1722.29,994.945 1724.38,993.101 1726.46,991.249 1728.55,989.39 1730.64,987.523 1732.73,985.649 1734.82,983.767 1736.9,981.878 1738.99,979.981 1741.08,978.077 1743.17,976.165 1745.26,974.245 1747.34,972.318 1749.43,970.382 1751.52,968.439 1753.61,966.488 1755.69,964.53 1757.78,962.563 1759.87,960.589 1761.96,958.606 1764.05,956.616 1766.13,954.618 1768.22,952.611 1770.31,950.597 1772.4,948.574 1774.49,946.543 1776.57,944.504 1778.66,942.457 1780.75,940.402 1782.84,938.339 1784.92,936.267 1787.01,934.186 1789.1,932.098 1791.19,930.001 1793.28,927.896 1795.36,925.782 1797.45,923.659 1799.54,921.529 1801.63,919.389 1803.72,917.241 1805.8,915.084 1807.89,912.919 1809.98,910.745 1812.07,908.562 1814.15,906.371 1816.24,904.17 1818.33,901.961 1820.42,899.743 1822.51,897.516 1824.59,895.28 1826.68,893.035 1828.77,890.781 1830.86,888.518 1832.95,886.246 1835.03,883.965 1837.12,881.675 1839.21,879.375 1841.3,877.066 1843.38,874.748 1845.47,872.421 1847.56,870.084 1849.65,867.738 1851.74,865.382 1853.82,863.017 1855.91,860.643 1858,858.259 1860.09,855.865 1862.17,853.462 1864.26,851.049 1866.35,848.626 1868.44,846.194 1870.53,843.752 1872.61,841.3 1874.7,838.838 1876.79,836.366 1878.88,833.885 1880.97,831.393 1883.05,828.891 1885.14,826.38 1887.23,823.858 1889.32,821.326 1891.4,818.784 1893.49,816.232 1895.58,813.669 1897.67,811.097 1899.76,808.514 1901.84,805.92 1903.93,803.316 1906.02,800.702 1908.11,798.077 1910.2,795.441 1912.28,792.796 1914.37,790.139 1916.46,787.472 1918.55,784.794 1920.63,782.105 1922.72,779.405 1924.81,776.695 1926.9,773.974 1928.99,771.241 1931.07,768.498 1933.16,765.744 1935.25,762.979 1937.34,760.202 1939.43,757.415 1941.51,754.616 1943.6,751.806 1945.69,748.985 1947.78,746.152 1949.86,743.309 1951.95,740.453 1954.04,737.586 1956.13,734.708 1958.22,731.818 1960.3,728.917 1962.39,726.004 1964.48,723.079 1966.57,720.142 1968.65,717.194 1970.74,714.234 1972.83,711.261 1974.92,708.277 1977.01,705.281 1979.09,702.273 1981.18,699.253 1983.27,696.221 1985.36,693.177 1987.45,690.12 1989.53,687.051 1991.62,683.97 1993.71,680.876 1995.8,677.77 1997.88,674.652 1999.97,671.521 2002.06,668.377 2004.15,665.221 2006.24,662.052 2008.32,658.87 2010.41,655.676 2012.5,652.469 2014.59,649.249 2016.68,646.016 2018.76,642.77 2020.85,639.511 2022.94,636.239 2025.03,632.953 2027.11,629.655 2029.2,626.343 2031.29,623.018 2033.38,619.68 2035.47,616.328 2037.55,612.963 2039.64,609.585 2041.73,606.192 2043.82,602.787 2045.91,599.367 2047.99,595.934 2050.08,592.487 2052.17,589.026 2054.26,585.551 2056.34,582.062 2058.43,578.56 2060.52,575.043 2062.61,571.512 2064.7,567.967 2066.78,564.408 2068.87,560.834 2070.96,557.246 2073.05,553.644 2075.14,550.027 2077.22,546.396 2079.31,542.75 2081.4,539.089 2083.49,535.414 2085.57,531.724 2087.66,528.02 2089.75,524.3 2091.84,520.565 2093.93,516.816 2096.01,513.051 2098.1,509.271 2100.19,505.477 2102.28,501.666 2104.36,497.841 2106.45,494 2108.54,490.144 2110.63,486.272 2112.72,482.385 2114.8,478.482 2116.89,474.564 2118.98,470.63 2121.07,466.68 2123.16,462.714 2125.24,458.732 2127.33,454.734 2129.42,450.721 2131.51,446.691 2133.59,442.645 2135.68,438.582 2137.77,434.504 2139.86,430.409 2141.95,426.297 2144.03,422.17 2146.12,418.025 2148.21,413.864 2150.3,409.686 2152.39,405.492 2154.47,401.28 2156.56,397.052 2158.65,392.807 2160.74,388.544 2162.82,384.265 2164.91,379.968 2167,375.654 2169.09,371.323 2171.18,366.975 2173.26,362.609 2175.35,358.225 2177.44,353.824 2179.53,349.405 2181.62,344.969 2183.7,340.515 2185.79,336.042 2187.88,331.552 2189.97,327.044 2192.05,322.518 2194.14,317.973 2196.23,313.411 2198.32,308.83 2200.41,304.23 2202.49,299.613 2204.58,294.976 2206.67,290.321 2208.76,285.648 2210.85,280.955 2212.93,276.244 2215.02,271.514 2217.11,266.765 2219.2,261.997 2221.28,257.21 2223.37,252.403 2225.46,247.577 2227.55,242.732 2229.64,237.868 2231.72,232.984 2233.81,228.08 2235.9,223.156 2237.99,218.213 2240.07,213.25 2242.16,208.267 2244.25,203.265 2246.34,198.242 2248.43,193.198 2250.51,188.135 2252.6,183.051 2254.69,177.947 2256.78,172.823 2258.87,167.678 2260.95,162.512 2263.04,157.325 2265.13,152.118 2267.22,146.89 2269.3,141.641 2271.39,136.37 2273.48,131.079 2275.57,125.766 2277.66,120.432 2279.74,115.077 2281.83,109.7 2283.92,104.302 2286.01,98.8818 2288.1,93.4399 2290.18,87.9763 \"/>\n",
       "<path clip-path=\"url(#clip470)\" d=\"M215.55 250.738 L535.829 250.738 L535.829 95.2176 L215.55 95.2176  Z\" fill=\"#ffffff\" fill-rule=\"evenodd\" fill-opacity=\"1\"/>\n",
       "<polyline clip-path=\"url(#clip470)\" style=\"stroke:#000000; stroke-linecap:round; stroke-linejoin:round; stroke-width:4; stroke-opacity:1; fill:none\" points=\"215.55,250.738 535.829,250.738 535.829,95.2176 215.55,95.2176 215.55,250.738 \"/>\n",
       "<polyline clip-path=\"url(#clip470)\" style=\"stroke:#009af9; stroke-linecap:round; stroke-linejoin:round; stroke-width:4; stroke-opacity:1; fill:none\" points=\"240.115,147.058 387.509,147.058 \"/>\n",
       "<path clip-path=\"url(#clip470)\" d=\"M416.357 160.449 L416.357 174.199 L412.074 174.199 L412.074 138.412 L416.357 138.412 L416.357 142.347 Q417.699 140.032 419.736 138.921 Q421.797 137.787 424.644 137.787 Q429.366 137.787 432.306 141.537 Q435.269 145.287 435.269 151.398 Q435.269 157.509 432.306 161.259 Q429.366 165.009 424.644 165.009 Q421.797 165.009 419.736 163.898 Q417.699 162.763 416.357 160.449 M430.847 151.398 Q430.847 146.699 428.903 144.037 Q426.982 141.352 423.602 141.352 Q420.223 141.352 418.278 144.037 Q416.357 146.699 416.357 151.398 Q416.357 156.097 418.278 158.782 Q420.223 161.444 423.602 161.444 Q426.982 161.444 428.903 158.782 Q430.847 156.097 430.847 151.398 Z\" fill=\"#000000\" fill-rule=\"nonzero\" fill-opacity=\"1\" /><path clip-path=\"url(#clip470)\" d=\"M457.352 142.393 Q456.634 141.977 455.778 141.791 Q454.945 141.583 453.926 141.583 Q450.315 141.583 448.371 143.944 Q446.449 146.282 446.449 150.68 L446.449 164.338 L442.167 164.338 L442.167 138.412 L446.449 138.412 L446.449 142.44 Q447.792 140.078 449.945 138.944 Q452.097 137.787 455.176 137.787 Q455.616 137.787 456.148 137.856 Q456.681 137.903 457.329 138.018 L457.352 142.393 Z\" fill=\"#000000\" fill-rule=\"nonzero\" fill-opacity=\"1\" /><path clip-path=\"url(#clip470)\" d=\"M482.954 150.31 L482.954 152.393 L463.37 152.393 Q463.648 156.791 466.009 159.106 Q468.394 161.398 472.63 161.398 Q475.083 161.398 477.375 160.796 Q479.69 160.194 481.958 158.99 L481.958 163.018 Q479.667 163.99 477.259 164.5 Q474.852 165.009 472.375 165.009 Q466.171 165.009 462.537 161.398 Q458.926 157.787 458.926 151.629 Q458.926 145.264 462.352 141.537 Q465.801 137.787 471.634 137.787 Q476.866 137.787 479.898 141.166 Q482.954 144.523 482.954 150.31 M478.694 149.06 Q478.648 145.565 476.727 143.481 Q474.829 141.398 471.681 141.398 Q468.116 141.398 465.963 143.412 Q463.833 145.426 463.509 149.083 L478.694 149.06 Z\" fill=\"#000000\" fill-rule=\"nonzero\" fill-opacity=\"1\" /><path clip-path=\"url(#clip470)\" d=\"M507.004 142.347 L507.004 128.319 L511.264 128.319 L511.264 164.338 L507.004 164.338 L507.004 160.449 Q505.662 162.763 503.602 163.898 Q501.565 165.009 498.694 165.009 Q493.995 165.009 491.032 161.259 Q488.093 157.509 488.093 151.398 Q488.093 145.287 491.032 141.537 Q493.995 137.787 498.694 137.787 Q501.565 137.787 503.602 138.921 Q505.662 140.032 507.004 142.347 M492.491 151.398 Q492.491 156.097 494.412 158.782 Q496.356 161.444 499.736 161.444 Q503.116 161.444 505.06 158.782 Q507.004 156.097 507.004 151.398 Q507.004 146.699 505.06 144.037 Q503.116 141.352 499.736 141.352 Q496.356 141.352 494.412 144.037 Q492.491 146.699 492.491 151.398 Z\" fill=\"#000000\" fill-rule=\"nonzero\" fill-opacity=\"1\" /><polyline clip-path=\"url(#clip470)\" style=\"stroke:#e26f46; stroke-linecap:round; stroke-linejoin:round; stroke-width:4; stroke-opacity:1; fill:none\" points=\"240.115,198.898 387.509,198.898 \"/>\n",
       "<path clip-path=\"url(#clip470)\" d=\"M419.482 182.891 L419.482 190.252 L428.255 190.252 L428.255 193.562 L419.482 193.562 L419.482 207.636 Q419.482 210.807 420.338 211.71 Q421.218 212.613 423.88 212.613 L428.255 212.613 L428.255 216.178 L423.88 216.178 Q418.949 216.178 417.074 214.349 Q415.199 212.497 415.199 207.636 L415.199 193.562 L412.074 193.562 L412.074 190.252 L415.199 190.252 L415.199 182.891 L419.482 182.891 Z\" fill=\"#000000\" fill-rule=\"nonzero\" fill-opacity=\"1\" /><path clip-path=\"url(#clip470)\" d=\"M448.88 194.233 Q448.162 193.817 447.306 193.631 Q446.472 193.423 445.454 193.423 Q441.843 193.423 439.898 195.784 Q437.977 198.122 437.977 202.52 L437.977 216.178 L433.695 216.178 L433.695 190.252 L437.977 190.252 L437.977 194.28 Q439.32 191.918 441.472 190.784 Q443.625 189.627 446.704 189.627 Q447.144 189.627 447.676 189.696 Q448.208 189.743 448.857 189.858 L448.88 194.233 Z\" fill=\"#000000\" fill-rule=\"nonzero\" fill-opacity=\"1\" /><path clip-path=\"url(#clip470)\" d=\"M452.908 205.946 L452.908 190.252 L457.167 190.252 L457.167 205.784 Q457.167 209.465 458.602 211.316 Q460.037 213.145 462.907 213.145 Q466.357 213.145 468.347 210.946 Q470.361 208.747 470.361 204.951 L470.361 190.252 L474.62 190.252 L474.62 216.178 L470.361 216.178 L470.361 212.196 Q468.81 214.557 466.75 215.715 Q464.713 216.849 462.005 216.849 Q457.537 216.849 455.222 214.071 Q452.908 211.293 452.908 205.946 M463.625 189.627 L463.625 189.627 Z\" fill=\"#000000\" fill-rule=\"nonzero\" fill-opacity=\"1\" /><path clip-path=\"url(#clip470)\" d=\"M505.569 202.15 L505.569 204.233 L485.986 204.233 Q486.264 208.631 488.625 210.946 Q491.009 213.238 495.245 213.238 Q497.699 213.238 499.991 212.636 Q502.305 212.034 504.574 210.83 L504.574 214.858 Q502.282 215.83 499.875 216.34 Q497.467 216.849 494.991 216.849 Q488.787 216.849 485.153 213.238 Q481.542 209.627 481.542 203.469 Q481.542 197.104 484.968 193.377 Q488.417 189.627 494.25 189.627 Q499.481 189.627 502.514 193.006 Q505.569 196.363 505.569 202.15 M501.31 200.9 Q501.264 197.405 499.342 195.321 Q497.444 193.238 494.296 193.238 Q490.731 193.238 488.579 195.252 Q486.449 197.266 486.125 200.923 L501.31 200.9 Z\" fill=\"#000000\" fill-rule=\"nonzero\" fill-opacity=\"1\" /></svg>\n"
      ],
      "text/html": [
       "<?xml version=\"1.0\" encoding=\"utf-8\"?>\n",
       "<svg xmlns=\"http://www.w3.org/2000/svg\" xmlns:xlink=\"http://www.w3.org/1999/xlink\" width=\"600\" height=\"400\" viewBox=\"0 0 2400 1600\">\n",
       "<defs>\n",
       "  <clipPath id=\"clip520\">\n",
       "    <rect x=\"0\" y=\"0\" width=\"2400\" height=\"1600\"/>\n",
       "  </clipPath>\n",
       "</defs>\n",
       "<path clip-path=\"url(#clip520)\" d=\"M0 1600 L2400 1600 L2400 0 L0 0  Z\" fill=\"#ffffff\" fill-rule=\"evenodd\" fill-opacity=\"1\"/>\n",
       "<defs>\n",
       "  <clipPath id=\"clip521\">\n",
       "    <rect x=\"480\" y=\"0\" width=\"1681\" height=\"1600\"/>\n",
       "  </clipPath>\n",
       "</defs>\n",
       "<path clip-path=\"url(#clip520)\" d=\"M141.853 1486.45 L2352.76 1486.45 L2352.76 47.2441 L141.853 47.2441  Z\" fill=\"#ffffff\" fill-rule=\"evenodd\" fill-opacity=\"1\"/>\n",
       "<defs>\n",
       "  <clipPath id=\"clip522\">\n",
       "    <rect x=\"141\" y=\"47\" width=\"2212\" height=\"1440\"/>\n",
       "  </clipPath>\n",
       "</defs>\n",
       "<polyline clip-path=\"url(#clip522)\" style=\"stroke:#000000; stroke-linecap:round; stroke-linejoin:round; stroke-width:2; stroke-opacity:0.1; fill:none\" points=\"204.426,1486.45 204.426,47.2441 \"/>\n",
       "<polyline clip-path=\"url(#clip522)\" style=\"stroke:#000000; stroke-linecap:round; stroke-linejoin:round; stroke-width:2; stroke-opacity:0.1; fill:none\" points=\"725.865,1486.45 725.865,47.2441 \"/>\n",
       "<polyline clip-path=\"url(#clip522)\" style=\"stroke:#000000; stroke-linecap:round; stroke-linejoin:round; stroke-width:2; stroke-opacity:0.1; fill:none\" points=\"1247.3,1486.45 1247.3,47.2441 \"/>\n",
       "<polyline clip-path=\"url(#clip522)\" style=\"stroke:#000000; stroke-linecap:round; stroke-linejoin:round; stroke-width:2; stroke-opacity:0.1; fill:none\" points=\"1768.74,1486.45 1768.74,47.2441 \"/>\n",
       "<polyline clip-path=\"url(#clip522)\" style=\"stroke:#000000; stroke-linecap:round; stroke-linejoin:round; stroke-width:2; stroke-opacity:0.1; fill:none\" points=\"2290.18,1486.45 2290.18,47.2441 \"/>\n",
       "<polyline clip-path=\"url(#clip520)\" style=\"stroke:#000000; stroke-linecap:round; stroke-linejoin:round; stroke-width:4; stroke-opacity:1; fill:none\" points=\"141.853,1486.45 2352.76,1486.45 \"/>\n",
       "<polyline clip-path=\"url(#clip520)\" style=\"stroke:#000000; stroke-linecap:round; stroke-linejoin:round; stroke-width:4; stroke-opacity:1; fill:none\" points=\"204.426,1486.45 204.426,1467.55 \"/>\n",
       "<polyline clip-path=\"url(#clip520)\" style=\"stroke:#000000; stroke-linecap:round; stroke-linejoin:round; stroke-width:4; stroke-opacity:1; fill:none\" points=\"725.865,1486.45 725.865,1467.55 \"/>\n",
       "<polyline clip-path=\"url(#clip520)\" style=\"stroke:#000000; stroke-linecap:round; stroke-linejoin:round; stroke-width:4; stroke-opacity:1; fill:none\" points=\"1247.3,1486.45 1247.3,1467.55 \"/>\n",
       "<polyline clip-path=\"url(#clip520)\" style=\"stroke:#000000; stroke-linecap:round; stroke-linejoin:round; stroke-width:4; stroke-opacity:1; fill:none\" points=\"1768.74,1486.45 1768.74,1467.55 \"/>\n",
       "<polyline clip-path=\"url(#clip520)\" style=\"stroke:#000000; stroke-linecap:round; stroke-linejoin:round; stroke-width:4; stroke-opacity:1; fill:none\" points=\"2290.18,1486.45 2290.18,1467.55 \"/>\n",
       "<path clip-path=\"url(#clip520)\" d=\"M181.81 1517.37 Q178.199 1517.37 176.37 1520.93 Q174.565 1524.47 174.565 1531.6 Q174.565 1538.71 176.37 1542.27 Q178.199 1545.82 181.81 1545.82 Q185.444 1545.82 187.25 1542.27 Q189.079 1538.71 189.079 1531.6 Q189.079 1524.47 187.25 1520.93 Q185.444 1517.37 181.81 1517.37 M181.81 1513.66 Q187.62 1513.66 190.676 1518.27 Q193.754 1522.85 193.754 1531.6 Q193.754 1540.33 190.676 1544.94 Q187.62 1549.52 181.81 1549.52 Q176 1549.52 172.921 1544.94 Q169.866 1540.33 169.866 1531.6 Q169.866 1522.85 172.921 1518.27 Q176 1513.66 181.81 1513.66 Z\" fill=\"#000000\" fill-rule=\"nonzero\" fill-opacity=\"1\" /><path clip-path=\"url(#clip520)\" d=\"M201.972 1542.97 L206.856 1542.97 L206.856 1548.85 L201.972 1548.85 L201.972 1542.97 Z\" fill=\"#000000\" fill-rule=\"nonzero\" fill-opacity=\"1\" /><path clip-path=\"url(#clip520)\" d=\"M227.041 1517.37 Q223.43 1517.37 221.602 1520.93 Q219.796 1524.47 219.796 1531.6 Q219.796 1538.71 221.602 1542.27 Q223.43 1545.82 227.041 1545.82 Q230.676 1545.82 232.481 1542.27 Q234.31 1538.71 234.31 1531.6 Q234.31 1524.47 232.481 1520.93 Q230.676 1517.37 227.041 1517.37 M227.041 1513.66 Q232.851 1513.66 235.907 1518.27 Q238.986 1522.85 238.986 1531.6 Q238.986 1540.33 235.907 1544.94 Q232.851 1549.52 227.041 1549.52 Q221.231 1549.52 218.152 1544.94 Q215.097 1540.33 215.097 1531.6 Q215.097 1522.85 218.152 1518.27 Q221.231 1513.66 227.041 1513.66 Z\" fill=\"#000000\" fill-rule=\"nonzero\" fill-opacity=\"1\" /><path clip-path=\"url(#clip520)\" d=\"M703.747 1517.37 Q700.136 1517.37 698.307 1520.93 Q696.502 1524.47 696.502 1531.6 Q696.502 1538.71 698.307 1542.27 Q700.136 1545.82 703.747 1545.82 Q707.381 1545.82 709.187 1542.27 Q711.016 1538.71 711.016 1531.6 Q711.016 1524.47 709.187 1520.93 Q707.381 1517.37 703.747 1517.37 M703.747 1513.66 Q709.557 1513.66 712.613 1518.27 Q715.691 1522.85 715.691 1531.6 Q715.691 1540.33 712.613 1544.94 Q709.557 1549.52 703.747 1549.52 Q697.937 1549.52 694.858 1544.94 Q691.803 1540.33 691.803 1531.6 Q691.803 1522.85 694.858 1518.27 Q697.937 1513.66 703.747 1513.66 Z\" fill=\"#000000\" fill-rule=\"nonzero\" fill-opacity=\"1\" /><path clip-path=\"url(#clip520)\" d=\"M723.909 1542.97 L728.793 1542.97 L728.793 1548.85 L723.909 1548.85 L723.909 1542.97 Z\" fill=\"#000000\" fill-rule=\"nonzero\" fill-opacity=\"1\" /><path clip-path=\"url(#clip520)\" d=\"M739.025 1514.29 L757.381 1514.29 L757.381 1518.22 L743.307 1518.22 L743.307 1526.7 Q744.326 1526.35 745.344 1526.19 Q746.363 1526 747.381 1526 Q753.168 1526 756.548 1529.17 Q759.927 1532.34 759.927 1537.76 Q759.927 1543.34 756.455 1546.44 Q752.983 1549.52 746.664 1549.52 Q744.488 1549.52 742.219 1549.15 Q739.974 1548.78 737.566 1548.04 L737.566 1543.34 Q739.65 1544.47 741.872 1545.03 Q744.094 1545.58 746.571 1545.58 Q750.576 1545.58 752.914 1543.48 Q755.251 1541.37 755.251 1537.76 Q755.251 1534.15 752.914 1532.04 Q750.576 1529.94 746.571 1529.94 Q744.696 1529.94 742.821 1530.35 Q740.969 1530.77 739.025 1531.65 L739.025 1514.29 Z\" fill=\"#000000\" fill-rule=\"nonzero\" fill-opacity=\"1\" /><path clip-path=\"url(#clip520)\" d=\"M1214.46 1544.91 L1222.1 1544.91 L1222.1 1518.55 L1213.79 1520.21 L1213.79 1515.95 L1222.05 1514.29 L1226.73 1514.29 L1226.73 1544.91 L1234.36 1544.91 L1234.36 1548.85 L1214.46 1548.85 L1214.46 1544.91 Z\" fill=\"#000000\" fill-rule=\"nonzero\" fill-opacity=\"1\" /><path clip-path=\"url(#clip520)\" d=\"M1243.81 1542.97 L1248.69 1542.97 L1248.69 1548.85 L1243.81 1548.85 L1243.81 1542.97 Z\" fill=\"#000000\" fill-rule=\"nonzero\" fill-opacity=\"1\" /><path clip-path=\"url(#clip520)\" d=\"M1268.88 1517.37 Q1265.27 1517.37 1263.44 1520.93 Q1261.63 1524.47 1261.63 1531.6 Q1261.63 1538.71 1263.44 1542.27 Q1265.27 1545.82 1268.88 1545.82 Q1272.51 1545.82 1274.32 1542.27 Q1276.15 1538.71 1276.15 1531.6 Q1276.15 1524.47 1274.32 1520.93 Q1272.51 1517.37 1268.88 1517.37 M1268.88 1513.66 Q1274.69 1513.66 1277.74 1518.27 Q1280.82 1522.85 1280.82 1531.6 Q1280.82 1540.33 1277.74 1544.94 Q1274.69 1549.52 1268.88 1549.52 Q1263.07 1549.52 1259.99 1544.94 Q1256.93 1540.33 1256.93 1531.6 Q1256.93 1522.85 1259.99 1518.27 Q1263.07 1513.66 1268.88 1513.66 Z\" fill=\"#000000\" fill-rule=\"nonzero\" fill-opacity=\"1\" /><path clip-path=\"url(#clip520)\" d=\"M1736.39 1544.91 L1744.03 1544.91 L1744.03 1518.55 L1735.72 1520.21 L1735.72 1515.95 L1743.99 1514.29 L1748.66 1514.29 L1748.66 1544.91 L1756.3 1544.91 L1756.3 1548.85 L1736.39 1548.85 L1736.39 1544.91 Z\" fill=\"#000000\" fill-rule=\"nonzero\" fill-opacity=\"1\" /><path clip-path=\"url(#clip520)\" d=\"M1765.75 1542.97 L1770.63 1542.97 L1770.63 1548.85 L1765.75 1548.85 L1765.75 1542.97 Z\" fill=\"#000000\" fill-rule=\"nonzero\" fill-opacity=\"1\" /><path clip-path=\"url(#clip520)\" d=\"M1780.86 1514.29 L1799.22 1514.29 L1799.22 1518.22 L1785.14 1518.22 L1785.14 1526.7 Q1786.16 1526.35 1787.18 1526.19 Q1788.2 1526 1789.22 1526 Q1795.01 1526 1798.38 1529.17 Q1801.76 1532.34 1801.76 1537.76 Q1801.76 1543.34 1798.29 1546.44 Q1794.82 1549.52 1788.5 1549.52 Q1786.32 1549.52 1784.06 1549.15 Q1781.81 1548.78 1779.4 1548.04 L1779.4 1543.34 Q1781.49 1544.47 1783.71 1545.03 Q1785.93 1545.58 1788.41 1545.58 Q1792.41 1545.58 1794.75 1543.48 Q1797.09 1541.37 1797.09 1537.76 Q1797.09 1534.15 1794.75 1532.04 Q1792.41 1529.94 1788.41 1529.94 Q1786.53 1529.94 1784.66 1530.35 Q1782.81 1530.77 1780.86 1531.65 L1780.86 1514.29 Z\" fill=\"#000000\" fill-rule=\"nonzero\" fill-opacity=\"1\" /><path clip-path=\"url(#clip520)\" d=\"M2261.42 1544.91 L2277.74 1544.91 L2277.74 1548.85 L2255.8 1548.85 L2255.8 1544.91 Q2258.46 1542.16 2263.04 1537.53 Q2267.65 1532.88 2268.83 1531.53 Q2271.07 1529.01 2271.95 1527.27 Q2272.86 1525.51 2272.86 1523.82 Q2272.86 1521.07 2270.91 1519.33 Q2268.99 1517.6 2265.89 1517.6 Q2263.69 1517.6 2261.24 1518.36 Q2258.81 1519.13 2256.03 1520.68 L2256.03 1515.95 Q2258.85 1514.82 2261.31 1514.24 Q2263.76 1513.66 2265.8 1513.66 Q2271.17 1513.66 2274.36 1516.35 Q2277.56 1519.03 2277.56 1523.52 Q2277.56 1525.65 2276.75 1527.57 Q2275.96 1529.47 2273.85 1532.07 Q2273.27 1532.74 2270.17 1535.95 Q2267.07 1539.15 2261.42 1544.91 Z\" fill=\"#000000\" fill-rule=\"nonzero\" fill-opacity=\"1\" /><path clip-path=\"url(#clip520)\" d=\"M2287.56 1542.97 L2292.44 1542.97 L2292.44 1548.85 L2287.56 1548.85 L2287.56 1542.97 Z\" fill=\"#000000\" fill-rule=\"nonzero\" fill-opacity=\"1\" /><path clip-path=\"url(#clip520)\" d=\"M2312.63 1517.37 Q2309.01 1517.37 2307.19 1520.93 Q2305.38 1524.47 2305.38 1531.6 Q2305.38 1538.71 2307.19 1542.27 Q2309.01 1545.82 2312.63 1545.82 Q2316.26 1545.82 2318.06 1542.27 Q2319.89 1538.71 2319.89 1531.6 Q2319.89 1524.47 2318.06 1520.93 Q2316.26 1517.37 2312.63 1517.37 M2312.63 1513.66 Q2318.44 1513.66 2321.49 1518.27 Q2324.57 1522.85 2324.57 1531.6 Q2324.57 1540.33 2321.49 1544.94 Q2318.44 1549.52 2312.63 1549.52 Q2306.82 1549.52 2303.74 1544.94 Q2300.68 1540.33 2300.68 1531.6 Q2300.68 1522.85 2303.74 1518.27 Q2306.82 1513.66 2312.63 1513.66 Z\" fill=\"#000000\" fill-rule=\"nonzero\" fill-opacity=\"1\" /><polyline clip-path=\"url(#clip522)\" style=\"stroke:#000000; stroke-linecap:round; stroke-linejoin:round; stroke-width:2; stroke-opacity:0.1; fill:none\" points=\"141.853,1455.42 2352.76,1455.42 \"/>\n",
       "<polyline clip-path=\"url(#clip522)\" style=\"stroke:#000000; stroke-linecap:round; stroke-linejoin:round; stroke-width:2; stroke-opacity:0.1; fill:none\" points=\"141.853,1204.97 2352.76,1204.97 \"/>\n",
       "<polyline clip-path=\"url(#clip522)\" style=\"stroke:#000000; stroke-linecap:round; stroke-linejoin:round; stroke-width:2; stroke-opacity:0.1; fill:none\" points=\"141.853,954.529 2352.76,954.529 \"/>\n",
       "<polyline clip-path=\"url(#clip522)\" style=\"stroke:#000000; stroke-linecap:round; stroke-linejoin:round; stroke-width:2; stroke-opacity:0.1; fill:none\" points=\"141.853,704.085 2352.76,704.085 \"/>\n",
       "<polyline clip-path=\"url(#clip522)\" style=\"stroke:#000000; stroke-linecap:round; stroke-linejoin:round; stroke-width:2; stroke-opacity:0.1; fill:none\" points=\"141.853,453.64 2352.76,453.64 \"/>\n",
       "<polyline clip-path=\"url(#clip522)\" style=\"stroke:#000000; stroke-linecap:round; stroke-linejoin:round; stroke-width:2; stroke-opacity:0.1; fill:none\" points=\"141.853,203.196 2352.76,203.196 \"/>\n",
       "<polyline clip-path=\"url(#clip520)\" style=\"stroke:#000000; stroke-linecap:round; stroke-linejoin:round; stroke-width:4; stroke-opacity:1; fill:none\" points=\"141.853,1486.45 141.853,47.2441 \"/>\n",
       "<polyline clip-path=\"url(#clip520)\" style=\"stroke:#000000; stroke-linecap:round; stroke-linejoin:round; stroke-width:4; stroke-opacity:1; fill:none\" points=\"141.853,1455.42 160.751,1455.42 \"/>\n",
       "<polyline clip-path=\"url(#clip520)\" style=\"stroke:#000000; stroke-linecap:round; stroke-linejoin:round; stroke-width:4; stroke-opacity:1; fill:none\" points=\"141.853,1204.97 160.751,1204.97 \"/>\n",
       "<polyline clip-path=\"url(#clip520)\" style=\"stroke:#000000; stroke-linecap:round; stroke-linejoin:round; stroke-width:4; stroke-opacity:1; fill:none\" points=\"141.853,954.529 160.751,954.529 \"/>\n",
       "<polyline clip-path=\"url(#clip520)\" style=\"stroke:#000000; stroke-linecap:round; stroke-linejoin:round; stroke-width:4; stroke-opacity:1; fill:none\" points=\"141.853,704.085 160.751,704.085 \"/>\n",
       "<polyline clip-path=\"url(#clip520)\" style=\"stroke:#000000; stroke-linecap:round; stroke-linejoin:round; stroke-width:4; stroke-opacity:1; fill:none\" points=\"141.853,453.64 160.751,453.64 \"/>\n",
       "<polyline clip-path=\"url(#clip520)\" style=\"stroke:#000000; stroke-linecap:round; stroke-linejoin:round; stroke-width:4; stroke-opacity:1; fill:none\" points=\"141.853,203.196 160.751,203.196 \"/>\n",
       "<path clip-path=\"url(#clip520)\" d=\"M93.9086 1441.22 Q90.2975 1441.22 88.4688 1444.78 Q86.6632 1448.32 86.6632 1455.45 Q86.6632 1462.56 88.4688 1466.12 Q90.2975 1469.66 93.9086 1469.66 Q97.5428 1469.66 99.3483 1466.12 Q101.177 1462.56 101.177 1455.45 Q101.177 1448.32 99.3483 1444.78 Q97.5428 1441.22 93.9086 1441.22 M93.9086 1437.51 Q99.7187 1437.51 102.774 1442.12 Q105.853 1446.7 105.853 1455.45 Q105.853 1464.18 102.774 1468.78 Q99.7187 1473.37 93.9086 1473.37 Q88.0984 1473.37 85.0197 1468.78 Q81.9642 1464.18 81.9642 1455.45 Q81.9642 1446.7 85.0197 1442.12 Q88.0984 1437.51 93.9086 1437.51 Z\" fill=\"#000000\" fill-rule=\"nonzero\" fill-opacity=\"1\" /><path clip-path=\"url(#clip520)\" d=\"M54.5569 1218.32 L62.1958 1218.32 L62.1958 1191.95 L53.8856 1193.62 L53.8856 1189.36 L62.1495 1187.69 L66.8254 1187.69 L66.8254 1218.32 L74.4642 1218.32 L74.4642 1222.25 L54.5569 1222.25 L54.5569 1218.32 Z\" fill=\"#000000\" fill-rule=\"nonzero\" fill-opacity=\"1\" /><path clip-path=\"url(#clip520)\" d=\"M93.9086 1190.77 Q90.2975 1190.77 88.4688 1194.34 Q86.6632 1197.88 86.6632 1205.01 Q86.6632 1212.11 88.4688 1215.68 Q90.2975 1219.22 93.9086 1219.22 Q97.5428 1219.22 99.3483 1215.68 Q101.177 1212.11 101.177 1205.01 Q101.177 1197.88 99.3483 1194.34 Q97.5428 1190.77 93.9086 1190.77 M93.9086 1187.07 Q99.7187 1187.07 102.774 1191.67 Q105.853 1196.26 105.853 1205.01 Q105.853 1213.73 102.774 1218.34 Q99.7187 1222.92 93.9086 1222.92 Q88.0984 1222.92 85.0197 1218.34 Q81.9642 1213.73 81.9642 1205.01 Q81.9642 1196.26 85.0197 1191.67 Q88.0984 1187.07 93.9086 1187.07 Z\" fill=\"#000000\" fill-rule=\"nonzero\" fill-opacity=\"1\" /><path clip-path=\"url(#clip520)\" d=\"M57.7745 967.874 L74.0939 967.874 L74.0939 971.809 L52.1495 971.809 L52.1495 967.874 Q54.8115 965.119 59.3949 960.489 Q64.0013 955.837 65.1819 954.494 Q67.4272 951.971 68.3068 950.235 Q69.2096 948.476 69.2096 946.786 Q69.2096 944.031 67.2652 942.295 Q65.3439 940.559 62.2421 940.559 Q60.043 940.559 57.5893 941.323 Q55.1588 942.087 52.381 943.638 L52.381 938.915 Q55.2051 937.781 57.6588 937.202 Q60.1124 936.624 62.1495 936.624 Q67.5198 936.624 70.7142 939.309 Q73.9087 941.994 73.9087 946.485 Q73.9087 948.614 73.0985 950.536 Q72.3115 952.434 70.205 955.026 Q69.6263 955.698 66.5245 958.915 Q63.4226 962.11 57.7745 967.874 Z\" fill=\"#000000\" fill-rule=\"nonzero\" fill-opacity=\"1\" /><path clip-path=\"url(#clip520)\" d=\"M93.9086 940.327 Q90.2975 940.327 88.4688 943.892 Q86.6632 947.434 86.6632 954.563 Q86.6632 961.67 88.4688 965.235 Q90.2975 968.776 93.9086 968.776 Q97.5428 968.776 99.3483 965.235 Q101.177 961.67 101.177 954.563 Q101.177 947.434 99.3483 943.892 Q97.5428 940.327 93.9086 940.327 M93.9086 936.624 Q99.7187 936.624 102.774 941.23 Q105.853 945.814 105.853 954.563 Q105.853 963.29 102.774 967.897 Q99.7187 972.48 93.9086 972.48 Q88.0984 972.48 85.0197 967.897 Q81.9642 963.29 81.9642 954.563 Q81.9642 945.814 85.0197 941.23 Q88.0984 936.624 93.9086 936.624 Z\" fill=\"#000000\" fill-rule=\"nonzero\" fill-opacity=\"1\" /><path clip-path=\"url(#clip520)\" d=\"M67.9133 702.73 Q71.2698 703.448 73.1448 705.717 Q75.0429 707.985 75.0429 711.318 Q75.0429 716.434 71.5244 719.235 Q68.0059 722.036 61.5245 722.036 Q59.3486 722.036 57.0338 721.596 Q54.7421 721.179 52.2884 720.323 L52.2884 715.809 Q54.2328 716.943 56.5477 717.522 Q58.8625 718.101 61.3856 718.101 Q65.7837 718.101 68.0754 716.365 Q70.3902 714.629 70.3902 711.318 Q70.3902 708.263 68.2374 706.55 Q66.1078 704.814 62.2884 704.814 L58.2606 704.814 L58.2606 700.971 L62.4735 700.971 Q65.9226 700.971 67.7513 699.605 Q69.58 698.217 69.58 695.624 Q69.58 692.962 67.6819 691.55 Q65.8069 690.115 62.2884 690.115 Q60.3671 690.115 58.168 690.531 Q55.969 690.948 53.3301 691.828 L53.3301 687.661 Q55.9921 686.92 58.3069 686.55 Q60.6449 686.18 62.705 686.18 Q68.0291 686.18 71.1309 688.61 Q74.2327 691.018 74.2327 695.138 Q74.2327 698.008 72.5892 699.999 Q70.9457 701.967 67.9133 702.73 Z\" fill=\"#000000\" fill-rule=\"nonzero\" fill-opacity=\"1\" /><path clip-path=\"url(#clip520)\" d=\"M93.9086 689.883 Q90.2975 689.883 88.4688 693.448 Q86.6632 696.99 86.6632 704.119 Q86.6632 711.226 88.4688 714.791 Q90.2975 718.332 93.9086 718.332 Q97.5428 718.332 99.3483 714.791 Q101.177 711.226 101.177 704.119 Q101.177 696.99 99.3483 693.448 Q97.5428 689.883 93.9086 689.883 M93.9086 686.18 Q99.7187 686.18 102.774 690.786 Q105.853 695.369 105.853 704.119 Q105.853 712.846 102.774 717.453 Q99.7187 722.036 93.9086 722.036 Q88.0984 722.036 85.0197 717.453 Q81.9642 712.846 81.9642 704.119 Q81.9642 695.369 85.0197 690.786 Q88.0984 686.18 93.9086 686.18 Z\" fill=\"#000000\" fill-rule=\"nonzero\" fill-opacity=\"1\" /><path clip-path=\"url(#clip520)\" d=\"M66.5939 440.435 L54.7884 458.883 L66.5939 458.883 L66.5939 440.435 M65.367 436.36 L71.2466 436.36 L71.2466 458.883 L76.1772 458.883 L76.1772 462.772 L71.2466 462.772 L71.2466 470.92 L66.5939 470.92 L66.5939 462.772 L50.9921 462.772 L50.9921 458.258 L65.367 436.36 Z\" fill=\"#000000\" fill-rule=\"nonzero\" fill-opacity=\"1\" /><path clip-path=\"url(#clip520)\" d=\"M93.9086 439.439 Q90.2975 439.439 88.4688 443.004 Q86.6632 446.546 86.6632 453.675 Q86.6632 460.782 88.4688 464.346 Q90.2975 467.888 93.9086 467.888 Q97.5428 467.888 99.3483 464.346 Q101.177 460.782 101.177 453.675 Q101.177 446.546 99.3483 443.004 Q97.5428 439.439 93.9086 439.439 M93.9086 435.735 Q99.7187 435.735 102.774 440.342 Q105.853 444.925 105.853 453.675 Q105.853 462.402 102.774 467.008 Q99.7187 471.592 93.9086 471.592 Q88.0984 471.592 85.0197 467.008 Q81.9642 462.402 81.9642 453.675 Q81.9642 444.925 85.0197 440.342 Q88.0984 435.735 93.9086 435.735 Z\" fill=\"#000000\" fill-rule=\"nonzero\" fill-opacity=\"1\" /><path clip-path=\"url(#clip520)\" d=\"M53.793 185.916 L72.1494 185.916 L72.1494 189.851 L58.0754 189.851 L58.0754 198.324 Q59.0939 197.976 60.1124 197.814 Q61.131 197.629 62.1495 197.629 Q67.9365 197.629 71.3161 200.801 Q74.6957 203.972 74.6957 209.388 Q74.6957 214.967 71.2235 218.069 Q67.7513 221.148 61.4319 221.148 Q59.256 221.148 56.9875 220.777 Q54.7421 220.407 52.3347 219.666 L52.3347 214.967 Q54.418 216.101 56.6402 216.657 Q58.8625 217.212 61.3393 217.212 Q65.3439 217.212 67.6819 215.106 Q70.0198 213 70.0198 209.388 Q70.0198 205.777 67.6819 203.671 Q65.3439 201.564 61.3393 201.564 Q59.4643 201.564 57.5893 201.981 Q55.7375 202.398 53.793 203.277 L53.793 185.916 Z\" fill=\"#000000\" fill-rule=\"nonzero\" fill-opacity=\"1\" /><path clip-path=\"url(#clip520)\" d=\"M93.9086 188.995 Q90.2975 188.995 88.4688 192.56 Q86.6632 196.101 86.6632 203.231 Q86.6632 210.337 88.4688 213.902 Q90.2975 217.444 93.9086 217.444 Q97.5428 217.444 99.3483 213.902 Q101.177 210.337 101.177 203.231 Q101.177 196.101 99.3483 192.56 Q97.5428 188.995 93.9086 188.995 M93.9086 185.291 Q99.7187 185.291 102.774 189.898 Q105.853 194.481 105.853 203.231 Q105.853 211.958 102.774 216.564 Q99.7187 221.148 93.9086 221.148 Q88.0984 221.148 85.0197 216.564 Q81.9642 211.958 81.9642 203.231 Q81.9642 194.481 85.0197 189.898 Q88.0984 185.291 93.9086 185.291 Z\" fill=\"#000000\" fill-rule=\"nonzero\" fill-opacity=\"1\" /><polyline clip-path=\"url(#clip522)\" style=\"stroke:#009af9; stroke-linecap:round; stroke-linejoin:round; stroke-width:4; stroke-opacity:1; fill:none\" points=\"204.426,1415.9 206.514,1415.96 208.601,1416.02 210.689,1416.07 212.777,1416.13 214.865,1416.19 216.953,1416.25 219.041,1416.31 221.128,1416.37 223.216,1416.43 225.304,1416.49 227.392,1416.55 229.48,1416.61 231.568,1416.67 233.656,1416.73 235.743,1416.79 237.831,1416.85 239.919,1416.91 242.007,1416.98 244.095,1417.04 246.183,1417.1 248.27,1417.16 250.358,1417.23 252.446,1417.29 254.534,1417.35 256.622,1417.42 258.71,1417.48 260.797,1417.55 262.885,1417.61 264.973,1417.68 267.061,1417.74 269.149,1417.81 271.237,1417.87 273.325,1417.94 275.412,1418 277.5,1418.07 279.588,1418.14 281.676,1418.2 283.764,1418.27 285.852,1418.34 287.939,1418.4 290.027,1418.47 292.115,1418.54 294.203,1418.61 296.291,1418.67 298.379,1418.74 300.467,1418.81 302.554,1418.88 304.642,1418.95 306.73,1419.01 308.818,1419.08 310.906,1419.15 312.994,1419.22 315.081,1419.29 317.169,1419.36 319.257,1419.43 321.345,1419.5 323.433,1419.57 325.521,1419.64 327.609,1419.71 329.696,1419.78 331.784,1419.85 333.872,1419.92 335.96,1419.99 338.048,1420.06 340.136,1420.14 342.223,1420.21 344.311,1420.28 346.399,1420.35 348.487,1420.42 350.575,1420.49 352.663,1420.56 354.751,1420.64 356.838,1420.71 358.926,1420.78 361.014,1420.85 363.102,1420.92 365.19,1421 367.278,1421.07 369.365,1421.14 371.453,1421.21 373.541,1421.29 375.629,1421.36 377.717,1421.43 379.805,1421.51 381.893,1421.58 383.98,1421.65 386.068,1421.72 388.156,1421.8 390.244,1421.87 392.332,1421.94 394.42,1422.02 396.507,1422.09 398.595,1422.16 400.683,1422.24 402.771,1422.31 404.859,1422.38 406.947,1422.46 409.035,1422.53 411.122,1422.61 413.21,1422.68 415.298,1422.75 417.386,1422.83 419.474,1422.9 421.562,1422.97 423.649,1423.05 425.737,1423.12 427.825,1423.2 429.913,1423.27 432.001,1423.34 434.089,1423.42 436.177,1423.49 438.264,1423.57 440.352,1423.64 442.44,1423.71 444.528,1423.79 446.616,1423.86 448.704,1423.93 450.791,1424.01 452.879,1424.08 454.967,1424.16 457.055,1424.23 459.143,1424.3 461.231,1424.38 463.318,1424.45 465.406,1424.52 467.494,1424.6 469.582,1424.67 471.67,1424.75 473.758,1424.82 475.846,1424.89 477.933,1424.97 480.021,1425.04 482.109,1425.11 484.197,1425.19 486.285,1425.26 488.373,1425.33 490.46,1425.41 492.548,1425.48 494.636,1425.55 496.724,1425.63 498.812,1425.7 500.9,1425.77 502.988,1425.84 505.075,1425.92 507.163,1425.99 509.251,1426.06 511.339,1426.14 513.427,1426.21 515.515,1426.28 517.602,1426.35 519.69,1426.43 521.778,1426.5 523.866,1426.57 525.954,1426.64 528.042,1426.71 530.13,1426.79 532.217,1426.86 534.305,1426.93 536.393,1427 538.481,1427.07 540.569,1427.15 542.657,1427.22 544.744,1427.29 546.832,1427.36 548.92,1427.43 551.008,1427.5 553.096,1427.57 555.184,1427.64 557.272,1427.71 559.359,1427.79 561.447,1427.86 563.535,1427.93 565.623,1428 567.711,1428.07 569.799,1428.14 571.886,1428.21 573.974,1428.28 576.062,1428.35 578.15,1428.42 580.238,1428.49 582.326,1428.56 584.414,1428.63 586.501,1428.7 588.589,1428.77 590.677,1428.83 592.765,1428.9 594.853,1428.97 596.941,1429.04 599.028,1429.11 601.116,1429.18 603.204,1429.25 605.292,1429.32 607.38,1429.38 609.468,1429.45 611.556,1429.52 613.643,1429.59 615.731,1429.66 617.819,1429.72 619.907,1429.79 621.995,1429.86 624.083,1429.93 626.17,1429.99 628.258,1430.06 630.346,1430.13 632.434,1430.19 634.522,1430.26 636.61,1430.33 638.698,1430.39 640.785,1430.46 642.873,1430.53 644.961,1430.59 647.049,1430.66 649.137,1430.72 651.225,1430.79 653.312,1430.85 655.4,1430.92 657.488,1430.99 659.576,1431.05 661.664,1431.12 663.752,1431.18 665.839,1431.24 667.927,1431.31 670.015,1431.37 672.103,1431.44 674.191,1431.5 676.279,1431.57 678.367,1431.63 680.454,1431.69 682.542,1431.76 684.63,1431.82 686.718,1431.88 688.806,1431.95 690.894,1432.01 692.981,1432.07 695.069,1432.14 697.157,1432.2 699.245,1432.26 701.333,1432.32 703.421,1432.39 705.509,1432.45 707.596,1432.51 709.684,1432.57 711.772,1432.63 713.86,1432.69 715.948,1432.75 718.036,1432.82 720.123,1432.88 722.211,1432.94 724.299,1433 726.387,1433.06 728.475,1433.12 730.563,1433.18 732.651,1433.24 734.738,1433.3 736.826,1433.36 738.914,1433.42 741.002,1433.48 743.09,1433.54 745.178,1433.6 747.265,1433.66 749.353,1433.71 751.441,1433.77 753.529,1433.83 755.617,1433.89 757.705,1433.95 759.793,1434.01 761.88,1434.06 763.968,1434.12 766.056,1434.18 768.144,1434.24 770.232,1434.3 772.32,1434.35 774.407,1434.41 776.495,1434.47 778.583,1434.52 780.671,1434.58 782.759,1434.64 784.847,1434.69 786.935,1434.75 789.022,1434.8 791.11,1434.86 793.198,1434.92 795.286,1434.97 797.374,1435.03 799.462,1435.08 801.549,1435.14 803.637,1435.19 805.725,1435.25 807.813,1435.3 809.901,1435.36 811.989,1435.41 814.077,1435.46 816.164,1435.52 818.252,1435.57 820.34,1435.63 822.428,1435.68 824.516,1435.73 826.604,1435.79 828.691,1435.84 830.779,1435.89 832.867,1435.94 834.955,1436 837.043,1436.05 839.131,1436.1 841.219,1436.15 843.306,1436.21 845.394,1436.26 847.482,1436.31 849.57,1436.36 851.658,1436.41 853.746,1436.46 855.833,1436.51 857.921,1436.57 860.009,1436.62 862.097,1436.67 864.185,1436.72 866.273,1436.77 868.36,1436.82 870.448,1436.87 872.536,1436.92 874.624,1436.97 876.712,1437.02 878.8,1437.07 880.888,1437.11 882.975,1437.16 885.063,1437.21 887.151,1437.26 889.239,1437.31 891.327,1437.36 893.415,1437.41 895.502,1437.45 897.59,1437.5 899.678,1437.55 901.766,1437.6 903.854,1437.65 905.942,1437.69 908.03,1437.74 910.117,1437.79 912.205,1437.83 914.293,1437.88 916.381,1437.93 918.469,1437.97 920.557,1438.02 922.644,1438.07 924.732,1438.11 926.82,1438.16 928.908,1438.2 930.996,1438.25 933.084,1438.29 935.172,1438.34 937.259,1438.38 939.347,1438.43 941.435,1438.47 943.523,1438.52 945.611,1438.56 947.699,1438.61 949.786,1438.65 951.874,1438.7 953.962,1438.74 956.05,1438.78 958.138,1438.83 960.226,1438.87 962.314,1438.91 964.401,1438.96 966.489,1439 968.577,1439.04 970.665,1439.08 972.753,1439.13 974.841,1439.17 976.928,1439.21 979.016,1439.25 981.104,1439.3 983.192,1439.34 985.28,1439.38 987.368,1439.42 989.456,1439.46 991.543,1439.5 993.631,1439.54 995.719,1439.58 997.807,1439.62 999.895,1439.67 1001.98,1439.71 1004.07,1439.75 1006.16,1439.79 1008.25,1439.83 1010.33,1439.87 1012.42,1439.91 1014.51,1439.95 1016.6,1439.98 1018.69,1440.02 1020.77,1440.06 1022.86,1440.1 1024.95,1440.14 1027.04,1440.18 1029.12,1440.22 1031.21,1440.26 1033.3,1440.29 1035.39,1440.33 1037.48,1440.37 1039.56,1440.41 1041.65,1440.45 1043.74,1440.48 1045.83,1440.52 1047.92,1440.56 1050,1440.59 1052.09,1440.63 1054.18,1440.67 1056.27,1440.7 1058.35,1440.74 1060.44,1440.78 1062.53,1440.81 1064.62,1440.85 1066.71,1440.89 1068.79,1440.92 1070.88,1440.96 1072.97,1440.99 1075.06,1441.03 1077.15,1441.06 1079.23,1441.1 1081.32,1441.13 1083.41,1441.17 1085.5,1441.2 1087.58,1441.24 1089.67,1441.27 1091.76,1441.31 1093.85,1441.34 1095.94,1441.37 1098.02,1441.41 1100.11,1441.44 1102.2,1441.47 1104.29,1441.51 1106.37,1441.54 1108.46,1441.57 1110.55,1441.61 1112.64,1441.64 1114.73,1441.67 1116.81,1441.71 1118.9,1441.74 1120.99,1441.77 1123.08,1441.8 1125.17,1441.83 1127.25,1441.87 1129.34,1441.9 1131.43,1441.93 1133.52,1441.96 1135.6,1441.99 1137.69,1442.02 1139.78,1442.05 1141.87,1442.09 1143.96,1442.12 1146.04,1442.15 1148.13,1442.18 1150.22,1442.21 1152.31,1442.24 1154.4,1442.27 1156.48,1442.3 1158.57,1442.33 1160.66,1442.36 1162.75,1442.39 1164.83,1442.42 1166.92,1442.45 1169.01,1442.48 1171.1,1442.5 1173.19,1442.53 1175.27,1442.56 1177.36,1442.59 1179.45,1442.62 1181.54,1442.65 1183.63,1442.68 1185.71,1442.7 1187.8,1442.73 1189.89,1442.76 1191.98,1442.79 1194.06,1442.82 1196.15,1442.84 1198.24,1442.87 1200.33,1442.9 1202.42,1442.92 1204.5,1442.95 1206.59,1442.98 1208.68,1443.01 1210.77,1443.03 1212.85,1443.06 1214.94,1443.08 1217.03,1443.11 1219.12,1443.14 1221.21,1443.16 1223.29,1443.19 1225.38,1443.21 1227.47,1443.24 1229.56,1443.27 1231.65,1443.29 1233.73,1443.32 1235.82,1443.34 1237.91,1443.37 1240,1443.39 1242.08,1443.42 1244.17,1443.44 1246.26,1443.46 1248.35,1443.49 1250.44,1443.51 1252.52,1443.54 1254.61,1443.56 1256.7,1443.58 1258.79,1443.61 1260.88,1443.63 1262.96,1443.65 1265.05,1443.68 1267.14,1443.7 1269.23,1443.72 1271.31,1443.75 1273.4,1443.77 1275.49,1443.79 1277.58,1443.82 1279.67,1443.84 1281.75,1443.86 1283.84,1443.88 1285.93,1443.9 1288.02,1443.93 1290.11,1443.95 1292.19,1443.97 1294.28,1443.99 1296.37,1444.01 1298.46,1444.03 1300.54,1444.05 1302.63,1444.08 1304.72,1444.1 1306.81,1444.12 1308.9,1444.14 1310.98,1444.16 1313.07,1444.18 1315.16,1444.2 1317.25,1444.22 1319.34,1444.24 1321.42,1444.26 1323.51,1444.28 1325.6,1444.3 1327.69,1444.32 1329.77,1444.34 1331.86,1444.36 1333.95,1444.37 1336.04,1444.39 1338.13,1444.41 1340.21,1444.43 1342.3,1444.45 1344.39,1444.47 1346.48,1444.49 1348.56,1444.5 1350.65,1444.52 1352.74,1444.54 1354.83,1444.56 1356.92,1444.58 1359,1444.59 1361.09,1444.61 1363.18,1444.63 1365.27,1444.65 1367.36,1444.66 1369.44,1444.68 1371.53,1444.7 1373.62,1444.71 1375.71,1444.73 1377.79,1444.75 1379.88,1444.76 1381.97,1444.78 1384.06,1444.79 1386.15,1444.81 1388.23,1444.83 1390.32,1444.84 1392.41,1444.86 1394.5,1444.87 1396.59,1444.89 1398.67,1444.9 1400.76,1444.92 1402.85,1444.93 1404.94,1444.95 1407.02,1444.96 1409.11,1444.98 1411.2,1444.99 1413.29,1445 1415.38,1445.02 1417.46,1445.03 1419.55,1445.05 1421.64,1445.06 1423.73,1445.07 1425.82,1445.09 1427.9,1445.1 1429.99,1445.11 1432.08,1445.12 1434.17,1445.14 1436.25,1445.15 1438.34,1445.16 1440.43,1445.18 1442.52,1445.19 1444.61,1445.2 1446.69,1445.21 1448.78,1445.22 1450.87,1445.24 1452.96,1445.25 1455.05,1445.26 1457.13,1445.27 1459.22,1445.28 1461.31,1445.29 1463.4,1445.3 1465.48,1445.31 1467.57,1445.32 1469.66,1445.34 1471.75,1445.35 1473.84,1445.36 1475.92,1445.37 1478.01,1445.38 1480.1,1445.39 1482.19,1445.4 1484.27,1445.41 1486.36,1445.41 1488.45,1445.42 1490.54,1445.43 1492.63,1445.44 1494.71,1445.45 1496.8,1445.46 1498.89,1445.47 1500.98,1445.48 1503.07,1445.48 1505.15,1445.49 1507.24,1445.5 1509.33,1445.51 1511.42,1445.52 1513.5,1445.52 1515.59,1445.53 1517.68,1445.54 1519.77,1445.55 1521.86,1445.55 1523.94,1445.56 1526.03,1445.57 1528.12,1445.57 1530.21,1445.58 1532.3,1445.59 1534.38,1445.59 1536.47,1445.6 1538.56,1445.6 1540.65,1445.61 1542.73,1445.62 1544.82,1445.62 1546.91,1445.63 1549,1445.63 1551.09,1445.64 1553.17,1445.64 1555.26,1445.65 1557.35,1445.65 1559.44,1445.65 1561.53,1445.66 1563.61,1445.66 1565.7,1445.67 1567.79,1445.67 1569.88,1445.67 1571.96,1445.68 1574.05,1445.68 1576.14,1445.68 1578.23,1445.69 1580.32,1445.69 1582.4,1445.69 1584.49,1445.7 1586.58,1445.7 1588.67,1445.7 1590.75,1445.7 1592.84,1445.7 1594.93,1445.71 1597.02,1445.71 1599.11,1445.71 1601.19,1445.71 1603.28,1445.71 1605.37,1445.71 1607.46,1445.71 1609.55,1445.71 1611.63,1445.71 1613.72,1445.72 1615.81,1445.72 1617.9,1445.72 1619.98,1445.72 1622.07,1445.72 1624.16,1445.72 1626.25,1445.71 1628.34,1445.71 1630.42,1445.71 1632.51,1445.71 1634.6,1445.71 1636.69,1445.71 1638.78,1445.71 1640.86,1445.71 1642.95,1445.7 1645.04,1445.7 1647.13,1445.7 1649.21,1445.7 1651.3,1445.7 1653.39,1445.69 1655.48,1445.69 1657.57,1445.69 1659.65,1445.68 1661.74,1445.68 1663.83,1445.68 1665.92,1445.67 1668.01,1445.67 1670.09,1445.67 1672.18,1445.66 1674.27,1445.66 1676.36,1445.65 1678.44,1445.65 1680.53,1445.64 1682.62,1445.64 1684.71,1445.63 1686.8,1445.63 1688.88,1445.62 1690.97,1445.62 1693.06,1445.61 1695.15,1445.61 1697.24,1445.6 1699.32,1445.59 1701.41,1445.59 1703.5,1445.58 1705.59,1445.57 1707.67,1445.57 1709.76,1445.56 1711.85,1445.55 1713.94,1445.54 1716.03,1445.54 1718.11,1445.53 1720.2,1445.52 1722.29,1445.51 1724.38,1445.5 1726.46,1445.5 1728.55,1445.49 1730.64,1445.48 1732.73,1445.47 1734.82,1445.46 1736.9,1445.45 1738.99,1445.44 1741.08,1445.43 1743.17,1445.42 1745.26,1445.41 1747.34,1445.4 1749.43,1445.39 1751.52,1445.38 1753.61,1445.37 1755.69,1445.36 1757.78,1445.35 1759.87,1445.34 1761.96,1445.32 1764.05,1445.31 1766.13,1445.3 1768.22,1445.29 1770.31,1445.28 1772.4,1445.26 1774.49,1445.25 1776.57,1445.24 1778.66,1445.23 1780.75,1445.21 1782.84,1445.2 1784.92,1445.19 1787.01,1445.17 1789.1,1445.16 1791.19,1445.14 1793.28,1445.13 1795.36,1445.12 1797.45,1445.1 1799.54,1445.09 1801.63,1445.07 1803.72,1445.06 1805.8,1445.04 1807.89,1445.03 1809.98,1445.01 1812.07,1444.99 1814.15,1444.98 1816.24,1444.96 1818.33,1444.95 1820.42,1444.93 1822.51,1444.91 1824.59,1444.9 1826.68,1444.88 1828.77,1444.86 1830.86,1444.84 1832.95,1444.83 1835.03,1444.81 1837.12,1444.79 1839.21,1444.77 1841.3,1444.75 1843.38,1444.73 1845.47,1444.72 1847.56,1444.7 1849.65,1444.68 1851.74,1444.66 1853.82,1444.64 1855.91,1444.62 1858,1444.6 1860.09,1444.58 1862.17,1444.56 1864.26,1444.54 1866.35,1444.52 1868.44,1444.5 1870.53,1444.48 1872.61,1444.45 1874.7,1444.43 1876.79,1444.41 1878.88,1444.39 1880.97,1444.37 1883.05,1444.35 1885.14,1444.32 1887.23,1444.3 1889.32,1444.28 1891.4,1444.26 1893.49,1444.23 1895.58,1444.21 1897.67,1444.19 1899.76,1444.16 1901.84,1444.14 1903.93,1444.11 1906.02,1444.09 1908.11,1444.06 1910.2,1444.04 1912.28,1444.02 1914.37,1443.99 1916.46,1443.97 1918.55,1443.94 1920.63,1443.91 1922.72,1443.89 1924.81,1443.86 1926.9,1443.84 1928.99,1443.81 1931.07,1443.78 1933.16,1443.76 1935.25,1443.73 1937.34,1443.7 1939.43,1443.68 1941.51,1443.65 1943.6,1443.62 1945.69,1443.59 1947.78,1443.56 1949.86,1443.54 1951.95,1443.51 1954.04,1443.48 1956.13,1443.45 1958.22,1443.42 1960.3,1443.39 1962.39,1443.36 1964.48,1443.33 1966.57,1443.3 1968.65,1443.27 1970.74,1443.24 1972.83,1443.21 1974.92,1443.18 1977.01,1443.15 1979.09,1443.12 1981.18,1443.09 1983.27,1443.06 1985.36,1443.03 1987.45,1442.99 1989.53,1442.96 1991.62,1442.93 1993.71,1442.9 1995.8,1442.86 1997.88,1442.83 1999.97,1442.8 2002.06,1442.77 2004.15,1442.73 2006.24,1442.7 2008.32,1442.66 2010.41,1442.63 2012.5,1442.6 2014.59,1442.56 2016.68,1442.53 2018.76,1442.49 2020.85,1442.46 2022.94,1442.42 2025.03,1442.39 2027.11,1442.35 2029.2,1442.32 2031.29,1442.28 2033.38,1442.25 2035.47,1442.21 2037.55,1442.17 2039.64,1442.14 2041.73,1442.1 2043.82,1442.06 2045.91,1442.02 2047.99,1441.99 2050.08,1441.95 2052.17,1441.91 2054.26,1441.87 2056.34,1441.84 2058.43,1441.8 2060.52,1441.76 2062.61,1441.72 2064.7,1441.68 2066.78,1441.64 2068.87,1441.6 2070.96,1441.56 2073.05,1441.52 2075.14,1441.48 2077.22,1441.44 2079.31,1441.4 2081.4,1441.36 2083.49,1441.32 2085.57,1441.28 2087.66,1441.24 2089.75,1441.2 2091.84,1441.16 2093.93,1441.12 2096.01,1441.07 2098.1,1441.03 2100.19,1440.99 2102.28,1440.95 2104.36,1440.9 2106.45,1440.86 2108.54,1440.82 2110.63,1440.78 2112.72,1440.73 2114.8,1440.69 2116.89,1440.64 2118.98,1440.6 2121.07,1440.56 2123.16,1440.51 2125.24,1440.47 2127.33,1440.42 2129.42,1440.38 2131.51,1440.33 2133.59,1440.29 2135.68,1440.24 2137.77,1440.2 2139.86,1440.15 2141.95,1440.1 2144.03,1440.06 2146.12,1440.01 2148.21,1439.97 2150.3,1439.92 2152.39,1439.87 2154.47,1439.82 2156.56,1439.78 2158.65,1439.73 2160.74,1439.68 2162.82,1439.63 2164.91,1439.59 2167,1439.54 2169.09,1439.49 2171.18,1439.44 2173.26,1439.39 2175.35,1439.34 2177.44,1439.29 2179.53,1439.24 2181.62,1439.19 2183.7,1439.14 2185.79,1439.09 2187.88,1439.04 2189.97,1438.99 2192.05,1438.94 2194.14,1438.89 2196.23,1438.84 2198.32,1438.79 2200.41,1438.74 2202.49,1438.69 2204.58,1438.64 2206.67,1438.58 2208.76,1438.53 2210.85,1438.48 2212.93,1438.43 2215.02,1438.37 2217.11,1438.32 2219.2,1438.27 2221.28,1438.21 2223.37,1438.16 2225.46,1438.11 2227.55,1438.05 2229.64,1438 2231.72,1437.95 2233.81,1437.89 2235.9,1437.84 2237.99,1437.78 2240.07,1437.73 2242.16,1437.67 2244.25,1437.62 2246.34,1437.56 2248.43,1437.51 2250.51,1437.45 2252.6,1437.4 2254.69,1437.34 2256.78,1437.28 2258.87,1437.23 2260.95,1437.17 2263.04,1437.11 2265.13,1437.06 2267.22,1437 2269.3,1436.94 2271.39,1436.88 2273.48,1436.83 2275.57,1436.77 2277.66,1436.71 2279.74,1436.65 2281.83,1436.59 2283.92,1436.54 2286.01,1436.48 2288.1,1436.42 2290.18,1436.36 \"/>\n",
       "<polyline clip-path=\"url(#clip522)\" style=\"stroke:#e26f46; stroke-linecap:round; stroke-linejoin:round; stroke-width:4; stroke-opacity:1; fill:none\" points=\"204.426,1405.33 206.514,1405.38 208.601,1405.43 210.689,1405.47 212.777,1405.52 214.865,1405.56 216.953,1405.61 219.041,1405.65 221.128,1405.69 223.216,1405.73 225.304,1405.76 227.392,1405.8 229.48,1405.84 231.568,1405.87 233.656,1405.9 235.743,1405.94 237.831,1405.97 239.919,1405.99 242.007,1406.02 244.095,1406.05 246.183,1406.07 248.27,1406.1 250.358,1406.12 252.446,1406.14 254.534,1406.16 256.622,1406.18 258.71,1406.2 260.797,1406.22 262.885,1406.23 264.973,1406.25 267.061,1406.26 269.149,1406.27 271.237,1406.28 273.325,1406.29 275.412,1406.3 277.5,1406.31 279.588,1406.31 281.676,1406.32 283.764,1406.32 285.852,1406.33 287.939,1406.33 290.027,1406.33 292.115,1406.33 294.203,1406.32 296.291,1406.32 298.379,1406.31 300.467,1406.31 302.554,1406.3 304.642,1406.29 306.73,1406.28 308.818,1406.27 310.906,1406.26 312.994,1406.25 315.081,1406.24 317.169,1406.22 319.257,1406.2 321.345,1406.19 323.433,1406.17 325.521,1406.15 327.609,1406.13 329.696,1406.11 331.784,1406.08 333.872,1406.06 335.96,1406.03 338.048,1406.01 340.136,1405.98 342.223,1405.95 344.311,1405.92 346.399,1405.89 348.487,1405.86 350.575,1405.82 352.663,1405.79 354.751,1405.75 356.838,1405.72 358.926,1405.68 361.014,1405.64 363.102,1405.6 365.19,1405.56 367.278,1405.51 369.365,1405.47 371.453,1405.43 373.541,1405.38 375.629,1405.33 377.717,1405.29 379.805,1405.24 381.893,1405.19 383.98,1405.14 386.068,1405.08 388.156,1405.03 390.244,1404.98 392.332,1404.92 394.42,1404.86 396.507,1404.81 398.595,1404.75 400.683,1404.69 402.771,1404.63 404.859,1404.56 406.947,1404.5 409.035,1404.44 411.122,1404.37 413.21,1404.3 415.298,1404.24 417.386,1404.17 419.474,1404.1 421.562,1404.03 423.649,1403.95 425.737,1403.88 427.825,1403.81 429.913,1403.73 432.001,1403.66 434.089,1403.58 436.177,1403.5 438.264,1403.42 440.352,1403.34 442.44,1403.26 444.528,1403.17 446.616,1403.09 448.704,1403 450.791,1402.92 452.879,1402.83 454.967,1402.74 457.055,1402.65 459.143,1402.56 461.231,1402.47 463.318,1402.38 465.406,1402.28 467.494,1402.19 469.582,1402.09 471.67,1402 473.758,1401.9 475.846,1401.8 477.933,1401.7 480.021,1401.6 482.109,1401.49 484.197,1401.39 486.285,1401.29 488.373,1401.18 490.46,1401.07 492.548,1400.96 494.636,1400.86 496.724,1400.75 498.812,1400.63 500.9,1400.52 502.988,1400.41 505.075,1400.29 507.163,1400.18 509.251,1400.06 511.339,1399.94 513.427,1399.82 515.515,1399.7 517.602,1399.58 519.69,1399.46 521.778,1399.34 523.866,1399.21 525.954,1399.09 528.042,1398.96 530.13,1398.83 532.217,1398.7 534.305,1398.57 536.393,1398.44 538.481,1398.31 540.569,1398.18 542.657,1398.04 544.744,1397.91 546.832,1397.77 548.92,1397.63 551.008,1397.49 553.096,1397.35 555.184,1397.21 557.272,1397.07 559.359,1396.93 561.447,1396.78 563.535,1396.64 565.623,1396.49 567.711,1396.34 569.799,1396.19 571.886,1396.04 573.974,1395.89 576.062,1395.74 578.15,1395.59 580.238,1395.43 582.326,1395.28 584.414,1395.12 586.501,1394.96 588.589,1394.8 590.677,1394.64 592.765,1394.48 594.853,1394.32 596.941,1394.15 599.028,1393.99 601.116,1393.82 603.204,1393.66 605.292,1393.49 607.38,1393.32 609.468,1393.15 611.556,1392.98 613.643,1392.8 615.731,1392.63 617.819,1392.45 619.907,1392.28 621.995,1392.1 624.083,1391.92 626.17,1391.74 628.258,1391.56 630.346,1391.38 632.434,1391.2 634.522,1391.01 636.61,1390.83 638.698,1390.64 640.785,1390.45 642.873,1390.26 644.961,1390.07 647.049,1389.88 649.137,1389.69 651.225,1389.49 653.312,1389.3 655.4,1389.1 657.488,1388.9 659.576,1388.7 661.664,1388.5 663.752,1388.3 665.839,1388.1 667.927,1387.9 670.015,1387.69 672.103,1387.49 674.191,1387.28 676.279,1387.07 678.367,1386.86 680.454,1386.65 682.542,1386.44 684.63,1386.22 686.718,1386.01 688.806,1385.79 690.894,1385.58 692.981,1385.36 695.069,1385.14 697.157,1384.92 699.245,1384.69 701.333,1384.47 703.421,1384.25 705.509,1384.02 707.596,1383.79 709.684,1383.56 711.772,1383.34 713.86,1383.1 715.948,1382.87 718.036,1382.64 720.123,1382.4 722.211,1382.17 724.299,1381.93 726.387,1381.69 728.475,1381.45 730.563,1381.21 732.651,1380.97 734.738,1380.72 736.826,1380.48 738.914,1380.23 741.002,1379.98 743.09,1379.73 745.178,1379.48 747.265,1379.23 749.353,1378.98 751.441,1378.73 753.529,1378.47 755.617,1378.21 757.705,1377.95 759.793,1377.69 761.88,1377.43 763.968,1377.17 766.056,1376.91 768.144,1376.64 770.232,1376.37 772.32,1376.11 774.407,1375.84 776.495,1375.57 778.583,1375.29 780.671,1375.02 782.759,1374.75 784.847,1374.47 786.935,1374.19 789.022,1373.91 791.11,1373.63 793.198,1373.35 795.286,1373.07 797.374,1372.78 799.462,1372.5 801.549,1372.21 803.637,1371.92 805.725,1371.63 807.813,1371.34 809.901,1371.05 811.989,1370.75 814.077,1370.46 816.164,1370.16 818.252,1369.86 820.34,1369.56 822.428,1369.26 824.516,1368.95 826.604,1368.65 828.691,1368.34 830.779,1368.03 832.867,1367.73 834.955,1367.41 837.043,1367.1 839.131,1366.79 841.219,1366.47 843.306,1366.16 845.394,1365.84 847.482,1365.52 849.57,1365.2 851.658,1364.87 853.746,1364.55 855.833,1364.22 857.921,1363.9 860.009,1363.57 862.097,1363.24 864.185,1362.91 866.273,1362.57 868.36,1362.24 870.448,1361.9 872.536,1361.56 874.624,1361.22 876.712,1360.88 878.8,1360.54 880.888,1360.19 882.975,1359.85 885.063,1359.5 887.151,1359.15 889.239,1358.8 891.327,1358.44 893.415,1358.09 895.502,1357.73 897.59,1357.38 899.678,1357.02 901.766,1356.66 903.854,1356.29 905.942,1355.93 908.03,1355.56 910.117,1355.2 912.205,1354.83 914.293,1354.46 916.381,1354.08 918.469,1353.71 920.557,1353.33 922.644,1352.96 924.732,1352.58 926.82,1352.2 928.908,1351.81 930.996,1351.43 933.084,1351.04 935.172,1350.65 937.259,1350.26 939.347,1349.87 941.435,1349.48 943.523,1349.08 945.611,1348.69 947.699,1348.29 949.786,1347.89 951.874,1347.49 953.962,1347.08 956.05,1346.68 958.138,1346.27 960.226,1345.86 962.314,1345.45 964.401,1345.04 966.489,1344.62 968.577,1344.21 970.665,1343.79 972.753,1343.37 974.841,1342.95 976.928,1342.52 979.016,1342.1 981.104,1341.67 983.192,1341.24 985.28,1340.81 987.368,1340.37 989.456,1339.94 991.543,1339.5 993.631,1339.06 995.719,1338.62 997.807,1338.18 999.895,1337.73 1001.98,1337.29 1004.07,1336.84 1006.16,1336.39 1008.25,1335.93 1010.33,1335.48 1012.42,1335.02 1014.51,1334.57 1016.6,1334.1 1018.69,1333.64 1020.77,1333.18 1022.86,1332.71 1024.95,1332.24 1027.04,1331.77 1029.12,1331.3 1031.21,1330.82 1033.3,1330.35 1035.39,1329.87 1037.48,1329.39 1039.56,1328.91 1041.65,1328.42 1043.74,1327.93 1045.83,1327.44 1047.92,1326.95 1050,1326.46 1052.09,1325.97 1054.18,1325.47 1056.27,1324.97 1058.35,1324.47 1060.44,1323.96 1062.53,1323.46 1064.62,1322.95 1066.71,1322.44 1068.79,1321.93 1070.88,1321.41 1072.97,1320.89 1075.06,1320.37 1077.15,1319.85 1079.23,1319.33 1081.32,1318.8 1083.41,1318.28 1085.5,1317.75 1087.58,1317.21 1089.67,1316.68 1091.76,1316.14 1093.85,1315.6 1095.94,1315.06 1098.02,1314.52 1100.11,1313.97 1102.2,1313.42 1104.29,1312.87 1106.37,1312.32 1108.46,1311.76 1110.55,1311.2 1112.64,1310.64 1114.73,1310.08 1116.81,1309.52 1118.9,1308.95 1120.99,1308.38 1123.08,1307.81 1125.17,1307.23 1127.25,1306.66 1129.34,1306.08 1131.43,1305.5 1133.52,1304.91 1135.6,1304.33 1137.69,1303.74 1139.78,1303.15 1141.87,1302.55 1143.96,1301.96 1146.04,1301.36 1148.13,1300.76 1150.22,1300.15 1152.31,1299.54 1154.4,1298.94 1156.48,1298.32 1158.57,1297.71 1160.66,1297.09 1162.75,1296.47 1164.83,1295.85 1166.92,1295.23 1169.01,1294.6 1171.1,1293.97 1173.19,1293.34 1175.27,1292.7 1177.36,1292.07 1179.45,1291.43 1181.54,1290.78 1183.63,1290.14 1185.71,1289.49 1187.8,1288.84 1189.89,1288.19 1191.98,1287.53 1194.06,1286.87 1196.15,1286.21 1198.24,1285.54 1200.33,1284.88 1202.42,1284.21 1204.5,1283.54 1206.59,1282.86 1208.68,1282.18 1210.77,1281.5 1212.85,1280.82 1214.94,1280.13 1217.03,1279.44 1219.12,1278.75 1221.21,1278.05 1223.29,1277.35 1225.38,1276.65 1227.47,1275.95 1229.56,1275.24 1231.65,1274.53 1233.73,1273.82 1235.82,1273.1 1237.91,1272.39 1240,1271.66 1242.08,1270.94 1244.17,1270.21 1246.26,1269.48 1248.35,1268.75 1250.44,1268.01 1252.52,1267.27 1254.61,1266.53 1256.7,1265.78 1258.79,1265.04 1260.88,1264.28 1262.96,1263.53 1265.05,1262.77 1267.14,1262.01 1269.23,1261.25 1271.31,1260.48 1273.4,1259.71 1275.49,1258.93 1277.58,1258.16 1279.67,1257.38 1281.75,1256.59 1283.84,1255.81 1285.93,1255.02 1288.02,1254.23 1290.11,1253.43 1292.19,1252.63 1294.28,1251.83 1296.37,1251.02 1298.46,1250.21 1300.54,1249.4 1302.63,1248.58 1304.72,1247.76 1306.81,1246.94 1308.9,1246.12 1310.98,1245.29 1313.07,1244.45 1315.16,1243.62 1317.25,1242.78 1319.34,1241.94 1321.42,1241.09 1323.51,1240.24 1325.6,1239.39 1327.69,1238.53 1329.77,1237.67 1331.86,1236.81 1333.95,1235.94 1336.04,1235.07 1338.13,1234.19 1340.21,1233.32 1342.3,1232.43 1344.39,1231.55 1346.48,1230.66 1348.56,1229.77 1350.65,1228.87 1352.74,1227.97 1354.83,1227.07 1356.92,1226.16 1359,1225.25 1361.09,1224.34 1363.18,1223.42 1365.27,1222.5 1367.36,1221.57 1369.44,1220.64 1371.53,1219.71 1373.62,1218.77 1375.71,1217.83 1377.79,1216.89 1379.88,1215.94 1381.97,1214.99 1384.06,1214.03 1386.15,1213.07 1388.23,1212.11 1390.32,1211.14 1392.41,1210.17 1394.5,1209.19 1396.59,1208.21 1398.67,1207.23 1400.76,1206.24 1402.85,1205.25 1404.94,1204.25 1407.02,1203.25 1409.11,1202.25 1411.2,1201.24 1413.29,1200.23 1415.38,1199.21 1417.46,1198.19 1419.55,1197.17 1421.64,1196.14 1423.73,1195.11 1425.82,1194.07 1427.9,1193.03 1429.99,1191.98 1432.08,1190.93 1434.17,1189.88 1436.25,1188.82 1438.34,1187.76 1440.43,1186.69 1442.52,1185.62 1444.61,1184.55 1446.69,1183.47 1448.78,1182.38 1450.87,1181.29 1452.96,1180.2 1455.05,1179.1 1457.13,1178 1459.22,1176.9 1461.31,1175.79 1463.4,1174.67 1465.48,1173.55 1467.57,1172.43 1469.66,1171.3 1471.75,1170.16 1473.84,1169.03 1475.92,1167.88 1478.01,1166.74 1480.1,1165.58 1482.19,1164.43 1484.27,1163.27 1486.36,1162.1 1488.45,1160.93 1490.54,1159.76 1492.63,1158.58 1494.71,1157.39 1496.8,1156.2 1498.89,1155.01 1500.98,1153.81 1503.07,1152.6 1505.15,1151.39 1507.24,1150.18 1509.33,1148.96 1511.42,1147.74 1513.5,1146.51 1515.59,1145.28 1517.68,1144.04 1519.77,1142.79 1521.86,1141.55 1523.94,1140.29 1526.03,1139.03 1528.12,1137.77 1530.21,1136.5 1532.3,1135.23 1534.38,1133.95 1536.47,1132.66 1538.56,1131.37 1540.65,1130.08 1542.73,1128.78 1544.82,1127.47 1546.91,1126.16 1549,1124.85 1551.09,1123.53 1553.17,1122.2 1555.26,1120.87 1557.35,1119.53 1559.44,1118.19 1561.53,1116.84 1563.61,1115.49 1565.7,1114.13 1567.79,1112.77 1569.88,1111.4 1571.96,1110.02 1574.05,1108.64 1576.14,1107.25 1578.23,1105.86 1580.32,1104.46 1582.4,1103.06 1584.49,1101.65 1586.58,1100.24 1588.67,1098.82 1590.75,1097.39 1592.84,1095.96 1594.93,1094.52 1597.02,1093.08 1599.11,1091.63 1601.19,1090.17 1603.28,1088.71 1605.37,1087.25 1607.46,1085.77 1609.55,1084.29 1611.63,1082.81 1613.72,1081.32 1615.81,1079.82 1617.9,1078.32 1619.98,1076.81 1622.07,1075.3 1624.16,1073.78 1626.25,1072.25 1628.34,1070.72 1630.42,1069.18 1632.51,1067.63 1634.6,1066.08 1636.69,1064.52 1638.78,1062.96 1640.86,1061.39 1642.95,1059.81 1645.04,1058.23 1647.13,1056.64 1649.21,1055.04 1651.3,1053.44 1653.39,1051.83 1655.48,1050.22 1657.57,1048.59 1659.65,1046.97 1661.74,1045.33 1663.83,1043.69 1665.92,1042.04 1668.01,1040.39 1670.09,1038.72 1672.18,1037.06 1674.27,1035.38 1676.36,1033.7 1678.44,1032.01 1680.53,1030.32 1682.62,1028.61 1684.71,1026.91 1686.8,1025.19 1688.88,1023.47 1690.97,1021.74 1693.06,1020 1695.15,1018.26 1697.24,1016.51 1699.32,1014.75 1701.41,1012.99 1703.5,1011.21 1705.59,1009.44 1707.67,1007.65 1709.76,1005.86 1711.85,1004.06 1713.94,1002.25 1716.03,1000.43 1718.11,998.611 1720.2,996.782 1722.29,994.945 1724.38,993.101 1726.46,991.249 1728.55,989.39 1730.64,987.523 1732.73,985.649 1734.82,983.767 1736.9,981.878 1738.99,979.981 1741.08,978.077 1743.17,976.165 1745.26,974.245 1747.34,972.318 1749.43,970.382 1751.52,968.439 1753.61,966.488 1755.69,964.53 1757.78,962.563 1759.87,960.589 1761.96,958.606 1764.05,956.616 1766.13,954.618 1768.22,952.611 1770.31,950.597 1772.4,948.574 1774.49,946.543 1776.57,944.504 1778.66,942.457 1780.75,940.402 1782.84,938.339 1784.92,936.267 1787.01,934.186 1789.1,932.098 1791.19,930.001 1793.28,927.896 1795.36,925.782 1797.45,923.659 1799.54,921.529 1801.63,919.389 1803.72,917.241 1805.8,915.084 1807.89,912.919 1809.98,910.745 1812.07,908.562 1814.15,906.371 1816.24,904.17 1818.33,901.961 1820.42,899.743 1822.51,897.516 1824.59,895.28 1826.68,893.035 1828.77,890.781 1830.86,888.518 1832.95,886.246 1835.03,883.965 1837.12,881.675 1839.21,879.375 1841.3,877.066 1843.38,874.748 1845.47,872.421 1847.56,870.084 1849.65,867.738 1851.74,865.382 1853.82,863.017 1855.91,860.643 1858,858.259 1860.09,855.865 1862.17,853.462 1864.26,851.049 1866.35,848.626 1868.44,846.194 1870.53,843.752 1872.61,841.3 1874.7,838.838 1876.79,836.366 1878.88,833.885 1880.97,831.393 1883.05,828.891 1885.14,826.38 1887.23,823.858 1889.32,821.326 1891.4,818.784 1893.49,816.232 1895.58,813.669 1897.67,811.097 1899.76,808.514 1901.84,805.92 1903.93,803.316 1906.02,800.702 1908.11,798.077 1910.2,795.441 1912.28,792.796 1914.37,790.139 1916.46,787.472 1918.55,784.794 1920.63,782.105 1922.72,779.405 1924.81,776.695 1926.9,773.974 1928.99,771.241 1931.07,768.498 1933.16,765.744 1935.25,762.979 1937.34,760.202 1939.43,757.415 1941.51,754.616 1943.6,751.806 1945.69,748.985 1947.78,746.152 1949.86,743.309 1951.95,740.453 1954.04,737.586 1956.13,734.708 1958.22,731.818 1960.3,728.917 1962.39,726.004 1964.48,723.079 1966.57,720.142 1968.65,717.194 1970.74,714.234 1972.83,711.261 1974.92,708.277 1977.01,705.281 1979.09,702.273 1981.18,699.253 1983.27,696.221 1985.36,693.177 1987.45,690.12 1989.53,687.051 1991.62,683.97 1993.71,680.876 1995.8,677.77 1997.88,674.652 1999.97,671.521 2002.06,668.377 2004.15,665.221 2006.24,662.052 2008.32,658.87 2010.41,655.676 2012.5,652.469 2014.59,649.249 2016.68,646.016 2018.76,642.77 2020.85,639.511 2022.94,636.239 2025.03,632.953 2027.11,629.655 2029.2,626.343 2031.29,623.018 2033.38,619.68 2035.47,616.328 2037.55,612.963 2039.64,609.585 2041.73,606.192 2043.82,602.787 2045.91,599.367 2047.99,595.934 2050.08,592.487 2052.17,589.026 2054.26,585.551 2056.34,582.062 2058.43,578.56 2060.52,575.043 2062.61,571.512 2064.7,567.967 2066.78,564.408 2068.87,560.834 2070.96,557.246 2073.05,553.644 2075.14,550.027 2077.22,546.396 2079.31,542.75 2081.4,539.089 2083.49,535.414 2085.57,531.724 2087.66,528.02 2089.75,524.3 2091.84,520.565 2093.93,516.816 2096.01,513.051 2098.1,509.271 2100.19,505.477 2102.28,501.666 2104.36,497.841 2106.45,494 2108.54,490.144 2110.63,486.272 2112.72,482.385 2114.8,478.482 2116.89,474.564 2118.98,470.63 2121.07,466.68 2123.16,462.714 2125.24,458.732 2127.33,454.734 2129.42,450.721 2131.51,446.691 2133.59,442.645 2135.68,438.582 2137.77,434.504 2139.86,430.409 2141.95,426.297 2144.03,422.17 2146.12,418.025 2148.21,413.864 2150.3,409.686 2152.39,405.492 2154.47,401.28 2156.56,397.052 2158.65,392.807 2160.74,388.544 2162.82,384.265 2164.91,379.968 2167,375.654 2169.09,371.323 2171.18,366.975 2173.26,362.609 2175.35,358.225 2177.44,353.824 2179.53,349.405 2181.62,344.969 2183.7,340.515 2185.79,336.042 2187.88,331.552 2189.97,327.044 2192.05,322.518 2194.14,317.973 2196.23,313.411 2198.32,308.83 2200.41,304.23 2202.49,299.613 2204.58,294.976 2206.67,290.321 2208.76,285.648 2210.85,280.955 2212.93,276.244 2215.02,271.514 2217.11,266.765 2219.2,261.997 2221.28,257.21 2223.37,252.403 2225.46,247.577 2227.55,242.732 2229.64,237.868 2231.72,232.984 2233.81,228.08 2235.9,223.156 2237.99,218.213 2240.07,213.25 2242.16,208.267 2244.25,203.265 2246.34,198.242 2248.43,193.198 2250.51,188.135 2252.6,183.051 2254.69,177.947 2256.78,172.823 2258.87,167.678 2260.95,162.512 2263.04,157.325 2265.13,152.118 2267.22,146.89 2269.3,141.641 2271.39,136.37 2273.48,131.079 2275.57,125.766 2277.66,120.432 2279.74,115.077 2281.83,109.7 2283.92,104.302 2286.01,98.8818 2288.1,93.4399 2290.18,87.9763 \"/>\n",
       "<path clip-path=\"url(#clip520)\" d=\"M215.55 250.738 L535.829 250.738 L535.829 95.2176 L215.55 95.2176  Z\" fill=\"#ffffff\" fill-rule=\"evenodd\" fill-opacity=\"1\"/>\n",
       "<polyline clip-path=\"url(#clip520)\" style=\"stroke:#000000; stroke-linecap:round; stroke-linejoin:round; stroke-width:4; stroke-opacity:1; fill:none\" points=\"215.55,250.738 535.829,250.738 535.829,95.2176 215.55,95.2176 215.55,250.738 \"/>\n",
       "<polyline clip-path=\"url(#clip520)\" style=\"stroke:#009af9; stroke-linecap:round; stroke-linejoin:round; stroke-width:4; stroke-opacity:1; fill:none\" points=\"240.115,147.058 387.509,147.058 \"/>\n",
       "<path clip-path=\"url(#clip520)\" d=\"M416.357 160.449 L416.357 174.199 L412.074 174.199 L412.074 138.412 L416.357 138.412 L416.357 142.347 Q417.699 140.032 419.736 138.921 Q421.797 137.787 424.644 137.787 Q429.366 137.787 432.306 141.537 Q435.269 145.287 435.269 151.398 Q435.269 157.509 432.306 161.259 Q429.366 165.009 424.644 165.009 Q421.797 165.009 419.736 163.898 Q417.699 162.763 416.357 160.449 M430.847 151.398 Q430.847 146.699 428.903 144.037 Q426.982 141.352 423.602 141.352 Q420.223 141.352 418.278 144.037 Q416.357 146.699 416.357 151.398 Q416.357 156.097 418.278 158.782 Q420.223 161.444 423.602 161.444 Q426.982 161.444 428.903 158.782 Q430.847 156.097 430.847 151.398 Z\" fill=\"#000000\" fill-rule=\"nonzero\" fill-opacity=\"1\" /><path clip-path=\"url(#clip520)\" d=\"M457.352 142.393 Q456.634 141.977 455.778 141.791 Q454.945 141.583 453.926 141.583 Q450.315 141.583 448.371 143.944 Q446.449 146.282 446.449 150.68 L446.449 164.338 L442.167 164.338 L442.167 138.412 L446.449 138.412 L446.449 142.44 Q447.792 140.078 449.945 138.944 Q452.097 137.787 455.176 137.787 Q455.616 137.787 456.148 137.856 Q456.681 137.903 457.329 138.018 L457.352 142.393 Z\" fill=\"#000000\" fill-rule=\"nonzero\" fill-opacity=\"1\" /><path clip-path=\"url(#clip520)\" d=\"M482.954 150.31 L482.954 152.393 L463.37 152.393 Q463.648 156.791 466.009 159.106 Q468.394 161.398 472.63 161.398 Q475.083 161.398 477.375 160.796 Q479.69 160.194 481.958 158.99 L481.958 163.018 Q479.667 163.99 477.259 164.5 Q474.852 165.009 472.375 165.009 Q466.171 165.009 462.537 161.398 Q458.926 157.787 458.926 151.629 Q458.926 145.264 462.352 141.537 Q465.801 137.787 471.634 137.787 Q476.866 137.787 479.898 141.166 Q482.954 144.523 482.954 150.31 M478.694 149.06 Q478.648 145.565 476.727 143.481 Q474.829 141.398 471.681 141.398 Q468.116 141.398 465.963 143.412 Q463.833 145.426 463.509 149.083 L478.694 149.06 Z\" fill=\"#000000\" fill-rule=\"nonzero\" fill-opacity=\"1\" /><path clip-path=\"url(#clip520)\" d=\"M507.004 142.347 L507.004 128.319 L511.264 128.319 L511.264 164.338 L507.004 164.338 L507.004 160.449 Q505.662 162.763 503.602 163.898 Q501.565 165.009 498.694 165.009 Q493.995 165.009 491.032 161.259 Q488.093 157.509 488.093 151.398 Q488.093 145.287 491.032 141.537 Q493.995 137.787 498.694 137.787 Q501.565 137.787 503.602 138.921 Q505.662 140.032 507.004 142.347 M492.491 151.398 Q492.491 156.097 494.412 158.782 Q496.356 161.444 499.736 161.444 Q503.116 161.444 505.06 158.782 Q507.004 156.097 507.004 151.398 Q507.004 146.699 505.06 144.037 Q503.116 141.352 499.736 141.352 Q496.356 141.352 494.412 144.037 Q492.491 146.699 492.491 151.398 Z\" fill=\"#000000\" fill-rule=\"nonzero\" fill-opacity=\"1\" /><polyline clip-path=\"url(#clip520)\" style=\"stroke:#e26f46; stroke-linecap:round; stroke-linejoin:round; stroke-width:4; stroke-opacity:1; fill:none\" points=\"240.115,198.898 387.509,198.898 \"/>\n",
       "<path clip-path=\"url(#clip520)\" d=\"M419.482 182.891 L419.482 190.252 L428.255 190.252 L428.255 193.562 L419.482 193.562 L419.482 207.636 Q419.482 210.807 420.338 211.71 Q421.218 212.613 423.88 212.613 L428.255 212.613 L428.255 216.178 L423.88 216.178 Q418.949 216.178 417.074 214.349 Q415.199 212.497 415.199 207.636 L415.199 193.562 L412.074 193.562 L412.074 190.252 L415.199 190.252 L415.199 182.891 L419.482 182.891 Z\" fill=\"#000000\" fill-rule=\"nonzero\" fill-opacity=\"1\" /><path clip-path=\"url(#clip520)\" d=\"M448.88 194.233 Q448.162 193.817 447.306 193.631 Q446.472 193.423 445.454 193.423 Q441.843 193.423 439.898 195.784 Q437.977 198.122 437.977 202.52 L437.977 216.178 L433.695 216.178 L433.695 190.252 L437.977 190.252 L437.977 194.28 Q439.32 191.918 441.472 190.784 Q443.625 189.627 446.704 189.627 Q447.144 189.627 447.676 189.696 Q448.208 189.743 448.857 189.858 L448.88 194.233 Z\" fill=\"#000000\" fill-rule=\"nonzero\" fill-opacity=\"1\" /><path clip-path=\"url(#clip520)\" d=\"M452.908 205.946 L452.908 190.252 L457.167 190.252 L457.167 205.784 Q457.167 209.465 458.602 211.316 Q460.037 213.145 462.907 213.145 Q466.357 213.145 468.347 210.946 Q470.361 208.747 470.361 204.951 L470.361 190.252 L474.62 190.252 L474.62 216.178 L470.361 216.178 L470.361 212.196 Q468.81 214.557 466.75 215.715 Q464.713 216.849 462.005 216.849 Q457.537 216.849 455.222 214.071 Q452.908 211.293 452.908 205.946 M463.625 189.627 L463.625 189.627 Z\" fill=\"#000000\" fill-rule=\"nonzero\" fill-opacity=\"1\" /><path clip-path=\"url(#clip520)\" d=\"M505.569 202.15 L505.569 204.233 L485.986 204.233 Q486.264 208.631 488.625 210.946 Q491.009 213.238 495.245 213.238 Q497.699 213.238 499.991 212.636 Q502.305 212.034 504.574 210.83 L504.574 214.858 Q502.282 215.83 499.875 216.34 Q497.467 216.849 494.991 216.849 Q488.787 216.849 485.153 213.238 Q481.542 209.627 481.542 203.469 Q481.542 197.104 484.968 193.377 Q488.417 189.627 494.25 189.627 Q499.481 189.627 502.514 193.006 Q505.569 196.363 505.569 202.15 M501.31 200.9 Q501.264 197.405 499.342 195.321 Q497.444 193.238 494.296 193.238 Q490.731 193.238 488.579 195.252 Q486.449 197.266 486.125 200.923 L501.31 200.9 Z\" fill=\"#000000\" fill-rule=\"nonzero\" fill-opacity=\"1\" /></svg>\n"
      ]
     },
     "metadata": {},
     "output_type": "display_data"
    }
   ],
   "source": [
    "xs = reshape(range(0, 2, length=1000), 1, :)\n",
    "u_pred = pinn.phi(xs, res.u)\n",
    "u_true = @. exp(2xs)+exp(-3xs)\n",
    "\n",
    "using Plots\n",
    "plot(vec(xs),vec(u_pred), label=\"pred\")\n",
    "plot!(vec(xs),vec(u_true), label=\"true\")"
   ]
  },
  {
   "attachments": {},
   "cell_type": "markdown",
   "metadata": {},
   "source": [
    "## Train with tanh + BFGS"
   ]
  },
  {
   "cell_type": "code",
   "execution_count": 7,
   "metadata": {},
   "outputs": [
    {
     "name": "stdout",
     "output_type": "stream",
     "text": [
      "Loss: 352.82961718652416\n"
     ]
    },
    {
     "name": "stdout",
     "output_type": "stream",
     "text": [
      "Loss: 253.667027368971\n"
     ]
    },
    {
     "name": "stdout",
     "output_type": "stream",
     "text": [
      "Loss: 199.31718852093286\n",
      "Loss: 51.30581701934081\n"
     ]
    },
    {
     "name": "stdout",
     "output_type": "stream",
     "text": [
      "Loss: 45.48732638266744\n",
      "Loss: 38.91418091067364\n"
     ]
    },
    {
     "name": "stdout",
     "output_type": "stream",
     "text": [
      "Loss: 38.064319336167856\n",
      "Loss: 37.19348740343686\n"
     ]
    },
    {
     "name": "stdout",
     "output_type": "stream",
     "text": [
      "Loss: 36.87264082258361\n",
      "Loss: 36.02457574519249\n",
      "Loss: 35.87491629552943\n"
     ]
    },
    {
     "name": "stdout",
     "output_type": "stream",
     "text": [
      "Loss: 35.69188219938039\n",
      "Loss: 35.638215184607525\n",
      "Loss: 35.60047330743581\n",
      "Loss: 35.59284740229278\n"
     ]
    },
    {
     "name": "stdout",
     "output_type": "stream",
     "text": [
      "Loss: 35.57758120099359\n",
      "Loss: 35.567320482783174\n"
     ]
    },
    {
     "name": "stdout",
     "output_type": "stream",
     "text": [
      "Loss: 35.555660897507735\n",
      "Loss: 35.53506942223094\n"
     ]
    },
    {
     "name": "stdout",
     "output_type": "stream",
     "text": [
      "Loss: 35.52121175586689\n",
      "Loss: 35.4930253482328\n"
     ]
    },
    {
     "name": "stdout",
     "output_type": "stream",
     "text": [
      "Loss: 35.48560368702868\n",
      "Loss: 35.46114370042684\n"
     ]
    },
    {
     "name": "stdout",
     "output_type": "stream",
     "text": [
      "Loss: 35.443480656360286\n",
      "Loss: 35.43854073962542\n",
      "Loss: 35.40035747344635\n"
     ]
    },
    {
     "name": "stdout",
     "output_type": "stream",
     "text": [
      "Loss: 35.361418636955484\n",
      "Loss: 35.33933689492996\n"
     ]
    },
    {
     "name": "stdout",
     "output_type": "stream",
     "text": [
      "Loss: 35.323173837137574\n",
      "Loss: 35.3139261942276\n"
     ]
    },
    {
     "name": "stdout",
     "output_type": "stream",
     "text": [
      "Loss: 35.278175532899425\n"
     ]
    },
    {
     "name": "stdout",
     "output_type": "stream",
     "text": [
      "Loss: 35.20014047623635\n",
      "Loss: 35.15302610016962\n"
     ]
    },
    {
     "name": "stdout",
     "output_type": "stream",
     "text": [
      "Loss: 35.07704323475029\n"
     ]
    },
    {
     "name": "stdout",
     "output_type": "stream",
     "text": [
      "Loss: 35.01192585478502\n"
     ]
    },
    {
     "name": "stdout",
     "output_type": "stream",
     "text": [
      "Loss: 34.95824657365167\n",
      "Loss: 34.89169557120671\n"
     ]
    },
    {
     "name": "stdout",
     "output_type": "stream",
     "text": [
      "Loss: 34.81032530388625\n"
     ]
    },
    {
     "name": "stdout",
     "output_type": "stream",
     "text": [
      "Loss: 34.763551034144186\n",
      "Loss: 34.75706493626465\n"
     ]
    },
    {
     "name": "stdout",
     "output_type": "stream",
     "text": [
      "Loss: 34.489106558050096\n"
     ]
    },
    {
     "name": "stdout",
     "output_type": "stream",
     "text": [
      "Loss: 34.4349724795442\n",
      "Loss: 34.317373141215356\n"
     ]
    },
    {
     "name": "stdout",
     "output_type": "stream",
     "text": [
      "Loss: 34.230586490159226\n",
      "Loss: 34.12466615957322\n"
     ]
    },
    {
     "name": "stdout",
     "output_type": "stream",
     "text": [
      "Loss: 34.06075802965756\n"
     ]
    },
    {
     "name": "stdout",
     "output_type": "stream",
     "text": [
      "Loss: 33.93338378812551\n"
     ]
    },
    {
     "name": "stdout",
     "output_type": "stream",
     "text": [
      "Loss: 33.864619310345724\n",
      "Loss: 33.730141403563046\n"
     ]
    },
    {
     "name": "stdout",
     "output_type": "stream",
     "text": [
      "Loss: 33.62895197860624\n",
      "Loss: 33.50308759078195\n"
     ]
    },
    {
     "name": "stdout",
     "output_type": "stream",
     "text": [
      "Loss: 33.36666391008945\n",
      "Loss: 33.29573981767064\n"
     ]
    },
    {
     "name": "stdout",
     "output_type": "stream",
     "text": [
      "Loss: 33.155078923918985\n"
     ]
    },
    {
     "name": "stdout",
     "output_type": "stream",
     "text": [
      "Loss: 32.83401537233\n"
     ]
    },
    {
     "name": "stdout",
     "output_type": "stream",
     "text": [
      "Loss: 32.73398990777921\n",
      "Loss: 32.59406027497674\n"
     ]
    },
    {
     "name": "stdout",
     "output_type": "stream",
     "text": [
      "Loss: 32.52573130035849\n",
      "Loss: 32.48552704007579\n"
     ]
    },
    {
     "name": "stdout",
     "output_type": "stream",
     "text": [
      "Loss: 32.246595362366165\n"
     ]
    },
    {
     "name": "stdout",
     "output_type": "stream",
     "text": [
      "Loss: 31.596884857212938\n"
     ]
    },
    {
     "name": "stdout",
     "output_type": "stream",
     "text": [
      "Loss: 31.3208694663176\n"
     ]
    },
    {
     "name": "stdout",
     "output_type": "stream",
     "text": [
      "Loss: 30.655438214560565\n"
     ]
    },
    {
     "name": "stdout",
     "output_type": "stream",
     "text": [
      "Loss: 30.427553595776352\n",
      "Loss: 30.36497187196184\n"
     ]
    },
    {
     "name": "stdout",
     "output_type": "stream",
     "text": [
      "Loss: 30.109598754909854\n"
     ]
    },
    {
     "name": "stdout",
     "output_type": "stream",
     "text": [
      "Loss: 30.014775964775193\n"
     ]
    },
    {
     "name": "stdout",
     "output_type": "stream",
     "text": [
      "Loss: 29.916929116570138\n"
     ]
    },
    {
     "name": "stdout",
     "output_type": "stream",
     "text": [
      "Loss: 29.856357741923738\n",
      "Loss: 29.77405244575815\n"
     ]
    },
    {
     "name": "stdout",
     "output_type": "stream",
     "text": [
      "Loss: 29.686039112642305\n"
     ]
    },
    {
     "name": "stdout",
     "output_type": "stream",
     "text": [
      "Loss: 29.339731670677843\n"
     ]
    },
    {
     "name": "stdout",
     "output_type": "stream",
     "text": [
      "Loss: 28.99852217345609\n"
     ]
    },
    {
     "name": "stdout",
     "output_type": "stream",
     "text": [
      "Loss: 28.844107487020562\n"
     ]
    },
    {
     "name": "stdout",
     "output_type": "stream",
     "text": [
      "Loss: 28.785008374402004\n",
      "Loss: 28.71871691409599\n"
     ]
    },
    {
     "name": "stdout",
     "output_type": "stream",
     "text": [
      "Loss: 28.6135174909705\n",
      "Loss: 28.37313686942441\n"
     ]
    },
    {
     "name": "stdout",
     "output_type": "stream",
     "text": [
      "Loss: 28.127185162948706\n",
      "Loss: 27.72067183351382\n"
     ]
    },
    {
     "name": "stdout",
     "output_type": "stream",
     "text": [
      "Loss: 27.410691821095536\n"
     ]
    },
    {
     "name": "stdout",
     "output_type": "stream",
     "text": [
      "Loss: 27.158325295557802\n"
     ]
    },
    {
     "name": "stdout",
     "output_type": "stream",
     "text": [
      "Loss: 26.863949735043416\n"
     ]
    },
    {
     "name": "stdout",
     "output_type": "stream",
     "text": [
      "Loss: 26.559795628952173\n"
     ]
    },
    {
     "name": "stdout",
     "output_type": "stream",
     "text": [
      "Loss: 26.285971491205462\n"
     ]
    },
    {
     "name": "stdout",
     "output_type": "stream",
     "text": [
      "Loss: 25.82594796945574\n",
      "Loss: 25.594869228631726\n"
     ]
    },
    {
     "name": "stdout",
     "output_type": "stream",
     "text": [
      "Loss: 25.398708083241974\n"
     ]
    },
    {
     "name": "stdout",
     "output_type": "stream",
     "text": [
      "Loss: 25.213553931912802\n",
      "Loss: 24.992216881905144\n"
     ]
    },
    {
     "name": "stdout",
     "output_type": "stream",
     "text": [
      "Loss: 24.788846260964434\n"
     ]
    },
    {
     "name": "stdout",
     "output_type": "stream",
     "text": [
      "Loss: 24.551475032373503\n"
     ]
    },
    {
     "name": "stdout",
     "output_type": "stream",
     "text": [
      "Loss: 24.21980141575859\n"
     ]
    },
    {
     "name": "stdout",
     "output_type": "stream",
     "text": [
      "Loss: 23.988452662301484\n"
     ]
    },
    {
     "name": "stdout",
     "output_type": "stream",
     "text": [
      "Loss: 23.700662740607676\n"
     ]
    },
    {
     "name": "stdout",
     "output_type": "stream",
     "text": [
      "Loss: 23.53998689622841\n"
     ]
    },
    {
     "name": "stdout",
     "output_type": "stream",
     "text": [
      "Loss: 23.262746319982362\n"
     ]
    },
    {
     "name": "stdout",
     "output_type": "stream",
     "text": [
      "Loss: 22.85264393614635\n",
      "Loss: 22.648599283394002\n"
     ]
    },
    {
     "name": "stdout",
     "output_type": "stream",
     "text": [
      "Loss: 22.54276337121891\n"
     ]
    },
    {
     "name": "stdout",
     "output_type": "stream",
     "text": [
      "Loss: 22.13120586829099\n"
     ]
    },
    {
     "name": "stdout",
     "output_type": "stream",
     "text": [
      "Loss: 21.408925831627084\n"
     ]
    },
    {
     "name": "stdout",
     "output_type": "stream",
     "text": [
      "Loss: 21.127369379403255\n"
     ]
    },
    {
     "name": "stdout",
     "output_type": "stream",
     "text": [
      "Loss: 20.6872090389956\n",
      "Loss: 20.532813021201516\n"
     ]
    },
    {
     "name": "stdout",
     "output_type": "stream",
     "text": [
      "Loss: 20.193704750645303\n"
     ]
    },
    {
     "name": "stdout",
     "output_type": "stream",
     "text": [
      "Loss: 19.744079875203052\n"
     ]
    },
    {
     "name": "stdout",
     "output_type": "stream",
     "text": [
      "Loss: 19.558325747363998\n"
     ]
    },
    {
     "name": "stdout",
     "output_type": "stream",
     "text": [
      "Loss: 19.17644521782676\n"
     ]
    },
    {
     "name": "stdout",
     "output_type": "stream",
     "text": [
      "Loss: 18.866374576570216\n"
     ]
    },
    {
     "name": "stdout",
     "output_type": "stream",
     "text": [
      "Loss: 18.39570873160837\n"
     ]
    },
    {
     "name": "stdout",
     "output_type": "stream",
     "text": [
      "Loss: 18.147075161765724\n"
     ]
    },
    {
     "name": "stdout",
     "output_type": "stream",
     "text": [
      "Loss: 17.94826590610163\n"
     ]
    },
    {
     "name": "stdout",
     "output_type": "stream",
     "text": [
      "Loss: 17.403488689424215\n"
     ]
    },
    {
     "name": "stdout",
     "output_type": "stream",
     "text": [
      "Loss: 16.832535565166847\n"
     ]
    },
    {
     "name": "stdout",
     "output_type": "stream",
     "text": [
      "Loss: 16.43183018038833\n"
     ]
    },
    {
     "name": "stdout",
     "output_type": "stream",
     "text": [
      "Loss: 16.015595422385392\n"
     ]
    },
    {
     "name": "stdout",
     "output_type": "stream",
     "text": [
      "Loss: 15.771841181725557\n"
     ]
    },
    {
     "name": "stdout",
     "output_type": "stream",
     "text": [
      "Loss: 15.46611732578652\n"
     ]
    },
    {
     "name": "stdout",
     "output_type": "stream",
     "text": [
      "Loss: 14.578981186751381\n"
     ]
    },
    {
     "name": "stdout",
     "output_type": "stream",
     "text": [
      "Loss: 14.391493562522426\n"
     ]
    },
    {
     "name": "stdout",
     "output_type": "stream",
     "text": [
      "Loss: 13.940967604345541\n"
     ]
    },
    {
     "name": "stdout",
     "output_type": "stream",
     "text": [
      "Loss: 13.401436310965186\n"
     ]
    },
    {
     "name": "stdout",
     "output_type": "stream",
     "text": [
      "Loss: 12.72907294844434\n"
     ]
    },
    {
     "name": "stdout",
     "output_type": "stream",
     "text": [
      "Loss: 12.612658585027898\n",
      "Loss: 12.458691024987818\n"
     ]
    },
    {
     "name": "stdout",
     "output_type": "stream",
     "text": [
      "Loss: 12.39829823591783\n"
     ]
    },
    {
     "name": "stdout",
     "output_type": "stream",
     "text": [
      "Loss: 12.121055408229381\n"
     ]
    },
    {
     "name": "stdout",
     "output_type": "stream",
     "text": [
      "Loss: 11.899171046205568\n"
     ]
    },
    {
     "name": "stdout",
     "output_type": "stream",
     "text": [
      "Loss: 11.725390569280748\n"
     ]
    },
    {
     "name": "stdout",
     "output_type": "stream",
     "text": [
      "Loss: 11.056118606100982\n"
     ]
    },
    {
     "name": "stdout",
     "output_type": "stream",
     "text": [
      "Loss: 10.586478910477048\n"
     ]
    },
    {
     "name": "stdout",
     "output_type": "stream",
     "text": [
      "Loss: 10.356824890023402\n"
     ]
    },
    {
     "name": "stdout",
     "output_type": "stream",
     "text": [
      "Loss: 10.251628351077287\n"
     ]
    },
    {
     "name": "stdout",
     "output_type": "stream",
     "text": [
      "Loss: 9.572909278882959\n"
     ]
    },
    {
     "name": "stdout",
     "output_type": "stream",
     "text": [
      "Loss: 9.129595623294227\n"
     ]
    },
    {
     "name": "stdout",
     "output_type": "stream",
     "text": [
      "Loss: 9.065961415704933\n"
     ]
    },
    {
     "name": "stdout",
     "output_type": "stream",
     "text": [
      "Loss: 8.517189937545773\n"
     ]
    },
    {
     "name": "stdout",
     "output_type": "stream",
     "text": [
      "Loss: 8.419033315942293\n",
      "Loss: 8.37252401289015\n"
     ]
    },
    {
     "name": "stdout",
     "output_type": "stream",
     "text": [
      "Loss: 8.179825055929998\n"
     ]
    },
    {
     "name": "stdout",
     "output_type": "stream",
     "text": [
      "Loss: 7.902089525567978\n"
     ]
    },
    {
     "name": "stdout",
     "output_type": "stream",
     "text": [
      "Loss: 7.713442040271901\n"
     ]
    },
    {
     "name": "stdout",
     "output_type": "stream",
     "text": [
      "Loss: 7.188829306128582\n"
     ]
    },
    {
     "name": "stdout",
     "output_type": "stream",
     "text": [
      "Loss: 6.718136586557648\n"
     ]
    },
    {
     "name": "stdout",
     "output_type": "stream",
     "text": [
      "Loss: 6.329350173998759\n"
     ]
    },
    {
     "name": "stdout",
     "output_type": "stream",
     "text": [
      "Loss: 6.021833038480816\n"
     ]
    },
    {
     "name": "stdout",
     "output_type": "stream",
     "text": [
      "Loss: 5.541627595466912\n"
     ]
    },
    {
     "name": "stdout",
     "output_type": "stream",
     "text": [
      "Loss: 5.4235915908628956\n"
     ]
    },
    {
     "name": "stdout",
     "output_type": "stream",
     "text": [
      "Loss: 5.247625761515581\n"
     ]
    },
    {
     "name": "stdout",
     "output_type": "stream",
     "text": [
      "Loss: 5.163272816427091\n"
     ]
    },
    {
     "name": "stdout",
     "output_type": "stream",
     "text": [
      "Loss: 4.8370695858787425\n"
     ]
    },
    {
     "name": "stdout",
     "output_type": "stream",
     "text": [
      "Loss: 4.488704071650027\n"
     ]
    },
    {
     "name": "stdout",
     "output_type": "stream",
     "text": [
      "Loss: 3.9984904577960707\n"
     ]
    },
    {
     "name": "stdout",
     "output_type": "stream",
     "text": [
      "Loss: 3.8423484934152006\n"
     ]
    },
    {
     "name": "stdout",
     "output_type": "stream",
     "text": [
      "Loss: 3.5058472300460997\n",
      "Loss: 3.318552280744249\n"
     ]
    },
    {
     "name": "stdout",
     "output_type": "stream",
     "text": [
      "Loss: 3.2674332621181823\n",
      "Loss: 3.2254617843640063\n"
     ]
    },
    {
     "name": "stdout",
     "output_type": "stream",
     "text": [
      "Loss: 3.1099516425682823\n"
     ]
    },
    {
     "name": "stdout",
     "output_type": "stream",
     "text": [
      "Loss: 2.8598334850505136\n",
      "Loss: 2.7912519479370026\n"
     ]
    },
    {
     "name": "stdout",
     "output_type": "stream",
     "text": [
      "Loss: 2.550848921857663\n"
     ]
    },
    {
     "name": "stdout",
     "output_type": "stream",
     "text": [
      "Loss: 2.244048298261978\n",
      "Loss: 2.133243361078534\n"
     ]
    },
    {
     "name": "stdout",
     "output_type": "stream",
     "text": [
      "Loss: 2.0035618906341215\n",
      "Loss: 1.9577457184808438\n"
     ]
    },
    {
     "name": "stdout",
     "output_type": "stream",
     "text": [
      "Loss: 1.8584011509433498\n",
      "Loss: 1.7667512472481528\n"
     ]
    },
    {
     "name": "stdout",
     "output_type": "stream",
     "text": [
      "Loss: 1.713299009745014\n",
      "Loss: 1.6298127841253607\n"
     ]
    },
    {
     "name": "stdout",
     "output_type": "stream",
     "text": [
      "Loss: 1.476349309319335\n"
     ]
    },
    {
     "name": "stdout",
     "output_type": "stream",
     "text": [
      "Loss: 1.2769939896906546\n",
      "Loss: 1.181210627803239\n"
     ]
    },
    {
     "name": "stdout",
     "output_type": "stream",
     "text": [
      "Loss: 1.0249404468927226\n",
      "Loss: 0.9689687825311062\n"
     ]
    },
    {
     "name": "stdout",
     "output_type": "stream",
     "text": [
      "Loss: 0.8958865448227228\n"
     ]
    },
    {
     "name": "stdout",
     "output_type": "stream",
     "text": [
      "Loss: 0.81597910363443\n"
     ]
    },
    {
     "name": "stdout",
     "output_type": "stream",
     "text": [
      "Loss: 0.75421130828765\n",
      "Loss: 0.6768710819718279\n"
     ]
    },
    {
     "name": "stdout",
     "output_type": "stream",
     "text": [
      "Loss: 0.5743870665133717\n",
      "Loss: 0.533467434764557\n"
     ]
    },
    {
     "name": "stdout",
     "output_type": "stream",
     "text": [
      "Loss: 0.49186945339823945\n"
     ]
    },
    {
     "name": "stdout",
     "output_type": "stream",
     "text": [
      "Loss: 0.39915117274592776\n",
      "Loss: 0.374738508999725\n"
     ]
    },
    {
     "name": "stdout",
     "output_type": "stream",
     "text": [
      "Loss: 0.3332590051282858\n",
      "Loss: 0.2946516891867301\n"
     ]
    },
    {
     "name": "stdout",
     "output_type": "stream",
     "text": [
      "Loss: 0.2599533026524191\n",
      "Loss: 0.25040505679462427\n"
     ]
    },
    {
     "name": "stdout",
     "output_type": "stream",
     "text": [
      "Loss: 0.22192318008258874\n"
     ]
    },
    {
     "name": "stdout",
     "output_type": "stream",
     "text": [
      "Loss: 0.17928593459231046\n",
      "Loss: 0.15276294202781965\n"
     ]
    },
    {
     "name": "stdout",
     "output_type": "stream",
     "text": [
      "Loss: 0.11946425972972408\n",
      "Loss: 0.10328914891640495\n",
      "Loss: 0.09591786885064015\n"
     ]
    },
    {
     "name": "stdout",
     "output_type": "stream",
     "text": [
      "Loss: 0.06657561293034822\n",
      "Loss: 0.04445477973205528\n"
     ]
    },
    {
     "name": "stdout",
     "output_type": "stream",
     "text": [
      "Loss: 0.03653793300836284\n",
      "Loss: 0.027032405058182895\n"
     ]
    },
    {
     "name": "stdout",
     "output_type": "stream",
     "text": [
      "Loss: 0.02385728083030095\n",
      "Loss: 0.02181714819564949\n",
      "Loss: 0.020209084709357714\n"
     ]
    },
    {
     "name": "stdout",
     "output_type": "stream",
     "text": [
      "Loss: 0.016669659007250436\n",
      "Loss: 0.014946018100571192\n",
      "Loss: 0.01374674996985789\n"
     ]
    },
    {
     "name": "stdout",
     "output_type": "stream",
     "text": [
      "Loss: 0.012739372407864248\n",
      "Loss: 0.012533970987810804\n",
      "Loss: 0.009805693694647438\n",
      "Loss: 0.009013919433016767\n"
     ]
    },
    {
     "name": "stdout",
     "output_type": "stream",
     "text": [
      "Loss: 0.0072757944526846184\n",
      "Loss: 0.006391038848364672\n",
      "Loss: 0.005772720856012202\n"
     ]
    },
    {
     "name": "stdout",
     "output_type": "stream",
     "text": [
      "Loss: 0.004836939094661739\n",
      "Loss: 0.004517108409471012\n",
      "Loss: 0.0038155479910464835\n",
      "Loss: 0.0034896787598249226\n"
     ]
    },
    {
     "name": "stdout",
     "output_type": "stream",
     "text": [
      "Loss: 0.0030660735623598604\n",
      "Loss: 0.0029031111575912485\n",
      "Loss: 0.002685571062763062\n"
     ]
    },
    {
     "name": "stdout",
     "output_type": "stream",
     "text": [
      "Loss: 0.002231693211809344\n",
      "Loss: 0.0020591187316347697\n",
      "Loss: 0.001913026471710581\n",
      "Loss: 0.0018121131917060744\n"
     ]
    },
    {
     "name": "stdout",
     "output_type": "stream",
     "text": [
      "Loss: 0.0016376515638933072\n",
      "Loss: 0.001555227906278396\n",
      "Loss: 0.001453586939061178\n"
     ]
    },
    {
     "name": "stdout",
     "output_type": "stream",
     "text": [
      "Loss: 0.001332845142891236\n",
      "Loss: 0.0012428250395681612\n",
      "Loss: 0.0011607126603520748\n"
     ]
    },
    {
     "name": "stdout",
     "output_type": "stream",
     "text": [
      "Loss: 0.0010403639529753153\n",
      "Loss: 0.0009279777956800612\n"
     ]
    },
    {
     "name": "stdout",
     "output_type": "stream",
     "text": [
      "Loss: 0.0008743173051982007\n",
      "Loss: 0.0007416813902625454\n"
     ]
    },
    {
     "name": "stdout",
     "output_type": "stream",
     "text": [
      "Loss: 0.0006660897698087147\n",
      "Loss: 0.0006038120757645474\n",
      "Loss: 0.0005686758230606685\n"
     ]
    },
    {
     "name": "stdout",
     "output_type": "stream",
     "text": [
      "Loss: 0.000499003575785437\n",
      "Loss: 0.0003827678439709284\n"
     ]
    },
    {
     "name": "stdout",
     "output_type": "stream",
     "text": [
      "Loss: 0.00030221985334413966\n",
      "Loss: 0.0002531381884720347\n",
      "Loss: 0.00019776798374605413\n"
     ]
    },
    {
     "name": "stdout",
     "output_type": "stream",
     "text": [
      "Loss: 0.00018320122761810183\n",
      "Loss: 0.00014334374718192683\n",
      "Loss: 0.00012943876799322558\n"
     ]
    },
    {
     "name": "stdout",
     "output_type": "stream",
     "text": [
      "Loss: 0.00011734583220506413\n",
      "Loss: 0.00011172824349257117\n",
      "Loss: 0.00010218652405790544\n",
      "Loss: 9.667017123959268e-5\n"
     ]
    },
    {
     "name": "stdout",
     "output_type": "stream",
     "text": [
      "Loss: 9.297633151701328e-5\n",
      "Loss: 8.826286344285795e-5\n",
      "Loss: 8.224144440092779e-5\n"
     ]
    },
    {
     "name": "stdout",
     "output_type": "stream",
     "text": [
      "Loss: 7.437883034437887e-5\n",
      "Loss: 6.162985010717571e-5\n",
      "Loss: 5.091532970028061e-5\n"
     ]
    },
    {
     "name": "stdout",
     "output_type": "stream",
     "text": [
      "Loss: 4.8350502594302645e-5\n",
      "Loss: 4.348780332921903e-5\n",
      "Loss: 3.933407602313794e-5\n"
     ]
    },
    {
     "name": "stdout",
     "output_type": "stream",
     "text": [
      "Loss: 3.769260715180093e-5\n",
      "Loss: 3.6514690165336505e-5\n",
      "Loss: 3.59826806638893e-5\n"
     ]
    },
    {
     "name": "stdout",
     "output_type": "stream",
     "text": [
      "Loss: 3.581119579356773e-5\n",
      "Loss: 3.5678149730967553e-5\n",
      "Loss: 3.5630128326084306e-5\n"
     ]
    },
    {
     "name": "stdout",
     "output_type": "stream",
     "text": [
      "Loss: 3.550357192399559e-5\n",
      "Loss: 3.525212287382189e-5\n"
     ]
    },
    {
     "name": "stdout",
     "output_type": "stream",
     "text": [
      "Loss: 3.3977549689455266e-5\n",
      "Loss: 3.32791050972358e-5\n"
     ]
    },
    {
     "name": "stdout",
     "output_type": "stream",
     "text": [
      "Loss: 3.2185678787731946e-5\n",
      "Loss: 3.05874110081923e-5\n",
      "Loss: 2.9662020636282174e-5\n"
     ]
    },
    {
     "name": "stdout",
     "output_type": "stream",
     "text": [
      "Loss: 2.7572798023031692e-5\n",
      "Loss: 2.659483937443704e-5\n",
      "Loss: 2.52752475686545e-5\n",
      "Loss: 2.4288144877985187e-5\n"
     ]
    },
    {
     "name": "stdout",
     "output_type": "stream",
     "text": [
      "Loss: 2.343886370723084e-5\n",
      "Loss: 2.3066958122424914e-5\n",
      "Loss: 2.2766285770106e-5\n"
     ]
    },
    {
     "name": "stdout",
     "output_type": "stream",
     "text": [
      "Loss: 2.249023976696737e-5\n",
      "Loss: 2.193232086048537e-5\n",
      "Loss: 2.1457824900628132e-5\n"
     ]
    },
    {
     "name": "stdout",
     "output_type": "stream",
     "text": [
      "Loss: 2.1014229796305722e-5\n",
      "Loss: 2.0811377151175597e-5\n",
      "Loss: 2.051509725300236e-5\n"
     ]
    },
    {
     "name": "stdout",
     "output_type": "stream",
     "text": [
      "Loss: 2.0093028451903477e-5\n",
      "Loss: 1.9660593960521007e-5\n",
      "Loss: 1.9245590348281242e-5\n"
     ]
    },
    {
     "name": "stdout",
     "output_type": "stream",
     "text": [
      "Loss: 1.8906406020519792e-5\n",
      "Loss: 1.8502367382821484e-5\n"
     ]
    },
    {
     "name": "stdout",
     "output_type": "stream",
     "text": [
      "Loss: 1.8076500664444508e-5\n",
      "Loss: 1.7793112925675972e-5\n",
      "Loss: 1.7508520412743077e-5\n"
     ]
    },
    {
     "name": "stdout",
     "output_type": "stream",
     "text": [
      "Loss: 1.7412304038536655e-5\n",
      "Loss: 1.737461828036848e-5\n",
      "Loss: 1.732978999189437e-5\n"
     ]
    },
    {
     "name": "stdout",
     "output_type": "stream",
     "text": [
      "Loss: 1.728550174241551e-5\n",
      "Loss: 1.70516445358714e-5\n"
     ]
    },
    {
     "name": "stdout",
     "output_type": "stream",
     "text": [
      "Loss: 1.659000706960519e-5\n",
      "Loss: 1.590933682965667e-5\n"
     ]
    },
    {
     "name": "stdout",
     "output_type": "stream",
     "text": [
      "Loss: 1.5040646229878908e-5\n",
      "Loss: 1.4746573179500025e-5\n",
      "Loss: 1.3600214259853752e-5\n"
     ]
    },
    {
     "name": "stdout",
     "output_type": "stream",
     "text": [
      "Loss: 1.2645218682466551e-5\n",
      "Loss: 1.1616477403129116e-5\n",
      "Loss: 1.1066419141703108e-5\n"
     ]
    },
    {
     "name": "stdout",
     "output_type": "stream",
     "text": [
      "Loss: 1.0539802910138055e-5\n",
      "Loss: 1.0450534154236759e-5\n",
      "Loss: 9.846464144650535e-6\n"
     ]
    },
    {
     "name": "stdout",
     "output_type": "stream",
     "text": [
      "Loss: 9.342051777819975e-6\n",
      "Loss: 8.844122852786562e-6\n",
      "Loss: 8.282662409616945e-6\n"
     ]
    },
    {
     "name": "stdout",
     "output_type": "stream",
     "text": [
      "Loss: 7.885122549007554e-6\n",
      "Loss: 7.489833563230778e-6\n",
      "Loss: 6.770047791209853e-6\n",
      "Loss: 6.54796352781666e-6\n"
     ]
    },
    {
     "name": "stdout",
     "output_type": "stream",
     "text": [
      "Loss: 6.315319149324775e-6\n",
      "Loss: 6.112375955569189e-6\n",
      "Loss: 5.962309463330804e-6\n"
     ]
    },
    {
     "name": "stdout",
     "output_type": "stream",
     "text": [
      "Loss: 5.752583531726825e-6\n",
      "Loss: 5.6447613596272515e-6\n",
      "Loss: 5.5168336206568095e-6\n",
      "Loss: 5.42889581880834e-6\n"
     ]
    },
    {
     "name": "stdout",
     "output_type": "stream",
     "text": [
      "Loss: 5.3636506814965435e-6\n",
      "Loss: 5.30123943520822e-6\n",
      "Loss: 5.247055024003847e-6\n"
     ]
    },
    {
     "name": "stdout",
     "output_type": "stream",
     "text": [
      "Loss: 5.227128470782192e-6\n",
      "Loss: 5.219097312010439e-6\n",
      "Loss: 5.2033461710436515e-6\n"
     ]
    },
    {
     "name": "stdout",
     "output_type": "stream",
     "text": [
      "Loss: 5.190596891297011e-6\n",
      "Loss: 5.186184964405456e-6\n",
      "Loss: 5.185526008545985e-6\n"
     ]
    },
    {
     "name": "stdout",
     "output_type": "stream",
     "text": [
      "Loss: 5.181006551286956e-6\n",
      "Loss: 5.177832697100824e-6\n",
      "Loss: 5.1728902166726764e-6\n"
     ]
    },
    {
     "name": "stdout",
     "output_type": "stream",
     "text": [
      "Loss: 5.171571466752775e-6\n",
      "Loss: 5.168606447764544e-6\n"
     ]
    },
    {
     "name": "stdout",
     "output_type": "stream",
     "text": [
      "Loss: 5.1614083277158916e-6\n",
      "Loss: 5.113607051221483e-6\n"
     ]
    },
    {
     "name": "stdout",
     "output_type": "stream",
     "text": [
      "Loss: 5.043565002533639e-6\n",
      "Loss: 4.919775889549436e-6\n",
      "Loss: 4.779972547015724e-6\n"
     ]
    },
    {
     "name": "stdout",
     "output_type": "stream",
     "text": [
      "Loss: 4.753552599129972e-6\n",
      "Loss: 4.670876508348787e-6\n",
      "Loss: 4.617011756207699e-6\n"
     ]
    },
    {
     "name": "stdout",
     "output_type": "stream",
     "text": [
      "Loss: 4.453457488737337e-6\n",
      "Loss: 4.391236988806187e-6\n",
      "Loss: 4.290519101601516e-6\n"
     ]
    },
    {
     "name": "stdout",
     "output_type": "stream",
     "text": [
      "Loss: 4.271088688729329e-6\n",
      "Loss: 4.23613712049457e-6\n",
      "Loss: 4.208542325229651e-6\n",
      "Loss: 4.161571276945178e-6\n"
     ]
    },
    {
     "name": "stdout",
     "output_type": "stream",
     "text": [
      "Loss: 4.101347557218008e-6\n",
      "Loss: 4.0524671577388295e-6\n",
      "Loss: 3.995319625345187e-6\n"
     ]
    },
    {
     "name": "stdout",
     "output_type": "stream",
     "text": [
      "Loss: 3.9071182529631425e-6\n",
      "Loss: 3.855871502113489e-6\n",
      "Loss: 3.7886066389045822e-6\n"
     ]
    },
    {
     "name": "stdout",
     "output_type": "stream",
     "text": [
      "Loss: 3.7525254957680348e-6\n",
      "Loss: 3.724794801536194e-6\n",
      "Loss: 3.6906123219342146e-6\n"
     ]
    },
    {
     "name": "stdout",
     "output_type": "stream",
     "text": [
      "Loss: 3.6711336610284462e-6\n",
      "Loss: 3.659302581079244e-6\n",
      "Loss: 3.6562139263165427e-6\n"
     ]
    },
    {
     "name": "stdout",
     "output_type": "stream",
     "text": [
      "Loss: 3.6300384322787467e-6\n",
      "Loss: 3.575099301628355e-6\n",
      "Loss: 3.4709087177144577e-6\n"
     ]
    },
    {
     "name": "stdout",
     "output_type": "stream",
     "text": [
      "Loss: 3.430668614663787e-6\n",
      "Loss: 3.3219458671077506e-6\n",
      "Loss: 3.283912952865979e-6\n",
      "Loss: 3.24585835685006e-6\n"
     ]
    },
    {
     "name": "stdout",
     "output_type": "stream",
     "text": [
      "Loss: 3.213581991778018e-6\n",
      "Loss: 3.189522495269697e-6\n",
      "Loss: 3.171217107353244e-6\n"
     ]
    },
    {
     "name": "stdout",
     "output_type": "stream",
     "text": [
      "Loss: 3.148159434061314e-6\n",
      "Loss: 3.128334622654173e-6\n",
      "Loss: 3.105993832189878e-6\n"
     ]
    },
    {
     "name": "stdout",
     "output_type": "stream",
     "text": [
      "Loss: 3.0800262975602176e-6\n",
      "Loss: 3.0582137108122163e-6\n",
      "Loss: 3.0380278277174943e-6\n"
     ]
    },
    {
     "name": "stdout",
     "output_type": "stream",
     "text": [
      "Loss: 3.0127078444137443e-6\n",
      "Loss: 2.992865779514595e-6\n",
      "Loss: 2.9752136952530733e-6\n",
      "Loss: 2.956192105381072e-6\n"
     ]
    },
    {
     "name": "stdout",
     "output_type": "stream",
     "text": [
      "Loss: 2.9451718900684353e-6\n",
      "Loss: 2.929870365184477e-6\n"
     ]
    },
    {
     "name": "stdout",
     "output_type": "stream",
     "text": [
      "Loss: 2.908702054019879e-6\n",
      "Loss: 2.903342825269169e-6\n"
     ]
    },
    {
     "name": "stdout",
     "output_type": "stream",
     "text": [
      "Loss: 2.8844586778610496e-6\n",
      "Loss: 2.8670633216158373e-6\n",
      "Loss: 2.8468125646797196e-6\n"
     ]
    },
    {
     "name": "stdout",
     "output_type": "stream",
     "text": [
      "Loss: 2.8356581608828104e-6\n",
      "Loss: 2.805841455486813e-6\n",
      "Loss: 2.7840177918018427e-6\n"
     ]
    },
    {
     "name": "stdout",
     "output_type": "stream",
     "text": [
      "Loss: 2.7635548023038763e-6\n",
      "Loss: 2.751436540116614e-6\n",
      "Loss: 2.74804747964327e-6\n",
      "Loss: 2.733892301776987e-6\n"
     ]
    },
    {
     "name": "stdout",
     "output_type": "stream",
     "text": [
      "Loss: 2.7263335284919323e-6\n",
      "Loss: 2.7242094628124654e-6\n",
      "Loss: 2.7235809862486045e-6\n"
     ]
    },
    {
     "name": "stdout",
     "output_type": "stream",
     "text": [
      "Loss: 2.718193808769481e-6\n",
      "Loss: 2.714725475458366e-6\n",
      "Loss: 2.7088976859099933e-6\n"
     ]
    },
    {
     "name": "stdout",
     "output_type": "stream",
     "text": [
      "Loss: 2.7088797578366637e-6\n",
      "Loss: 2.7079055792226337e-6\n",
      "Loss: 2.7041707113866215e-6\n"
     ]
    },
    {
     "name": "stdout",
     "output_type": "stream",
     "text": [
      "Loss: 2.6994694705706153e-6\n",
      "Loss: 2.6956695512950454e-6\n",
      "Loss: 2.6945452021915727e-6\n"
     ]
    },
    {
     "name": "stdout",
     "output_type": "stream",
     "text": [
      "Loss: 2.694476129198454e-6\n",
      "Loss: 2.6919893114041432e-6\n"
     ]
    },
    {
     "name": "stdout",
     "output_type": "stream",
     "text": [
      "Loss: 2.690189591194381e-6\n"
     ]
    },
    {
     "name": "stdout",
     "output_type": "stream",
     "text": [
      "Loss: 2.689686728236146e-6\n",
      "Loss: 2.688135461520727e-6\n"
     ]
    },
    {
     "name": "stdout",
     "output_type": "stream",
     "text": [
      "Loss: 2.6881308549783256e-6\n"
     ]
    },
    {
     "name": "stdout",
     "output_type": "stream",
     "text": [
      "Loss: 2.688077863883268e-6\n"
     ]
    },
    {
     "name": "stdout",
     "output_type": "stream",
     "text": [
      "Loss: 2.6880567815702687e-6\n"
     ]
    },
    {
     "name": "stdout",
     "output_type": "stream",
     "text": [
      "Loss: 2.6880175771367887e-6\n"
     ]
    },
    {
     "name": "stdout",
     "output_type": "stream",
     "text": [
      "Loss: 2.6879167476750696e-6\n"
     ]
    },
    {
     "name": "stdout",
     "output_type": "stream",
     "text": [
      "Loss: 2.6879104575464128e-6\n"
     ]
    },
    {
     "name": "stdout",
     "output_type": "stream",
     "text": [
      "Loss: 2.6879104575464128e-6\n"
     ]
    },
    {
     "name": "stdout",
     "output_type": "stream",
     "text": [
      "Loss: 2.6879104575464128e-6\n"
     ]
    },
    {
     "data": {
      "text/plain": [
       "u: \u001b[0mComponentVector{Float64}(layer_1 = (weight = [-0.05798526437294699; 0.6353602974260246; … ; -0.5152176358919242; -4.326707369899907;;], bias = [1.3802631390815714; 3.857909514751938; … ; 1.2072189837571092; 10.326368102557232;;]), layer_2 = (weight = [-0.29796603053326803 1.428082987256034 … -0.2452353955032299 -0.45114420363490537; 2.5402703685788417 -0.11509846626958903 … -1.084758529819544 -2.2162603904893725; … ; 1.0734294167720828 0.7453274093811406 … -0.20407585903475242 1.3181181419616166; -0.9068994245195169 2.1750053895668886 … 2.9163036122284667 -4.295405076857272], bias = [-1.431208884223131; 1.4323535455980176; … ; 0.24678087008283892; 0.5805458322279752;;]), layer_3 = (weight = [0.9652779731973667 0.21355214965722494 … -0.44282041428691005 0.5274887046270454; -2.040628354739509 1.3808389428487942 … 0.8558325234564215 1.5254042822200442; … ; -0.1834341260683268 -0.686475104234179 … 0.5008196477085756 -1.8661883157862922; 1.2626335776440654 0.9866409880109959 … 0.5092348005458658 0.24923046661200765], bias = [1.019161230927992; -0.9134291209614799; … ; -1.5378425022306403; 0.8642418005806206;;]), layer_4 = (weight = [0.5489628020799957 0.9211205227193204 … -1.8151052341691014 2.509854554262239; 0.22321828137140287 -0.09839835904330324 … -0.5366831934572672 -0.3450850598610923; … ; 2.0017309018440836 -0.4984770455806444 … -0.21316167036619693 -0.485272026315691; 0.525183702305507 0.657725132947348 … -0.7188161048836438 0.6159652562227607], bias = [2.610927297737759; 0.5408330747892955; … ; -0.2915499638740621; 0.2831765170815294;;]), layer_5 = (weight = [6.6302495797262875 -3.727686211223342 … 4.363693067478545 3.303979474907742], bias = [1.5868289910406659;;]))"
      ]
     },
     "metadata": {},
     "output_type": "display_data"
    }
   ],
   "source": [
    "pinn = PINN(FullyConnected((1, 16, 16, 16, 16, 1), tanh))\n",
    "prob = Sophon.discretize(ode, pinn, sampler, strategy)\n",
    "\n",
    "res = Optimization.solve(prob, BFGS(); maxiters=2000, callback=callback)"
   ]
  },
  {
   "cell_type": "code",
   "execution_count": 8,
   "metadata": {},
   "outputs": [
    {
     "data": {
      "image/png": "[encoded data removed]",
      "image/svg+xml": [
       "<?xml version=\"1.0\" encoding=\"utf-8\"?>\n",
       "<svg xmlns=\"http://www.w3.org/2000/svg\" xmlns:xlink=\"http://www.w3.org/1999/xlink\" width=\"600\" height=\"400\" viewBox=\"0 0 2400 1600\">\n",
       "<defs>\n",
       "  <clipPath id=\"clip560\">\n",
       "    <rect x=\"0\" y=\"0\" width=\"2400\" height=\"1600\"/>\n",
       "  </clipPath>\n",
       "</defs>\n",
       "<path clip-path=\"url(#clip560)\" d=\"M0 1600 L2400 1600 L2400 0 L0 0  Z\" fill=\"#ffffff\" fill-rule=\"evenodd\" fill-opacity=\"1\"/>\n",
       "<defs>\n",
       "  <clipPath id=\"clip561\">\n",
       "    <rect x=\"480\" y=\"0\" width=\"1681\" height=\"1600\"/>\n",
       "  </clipPath>\n",
       "</defs>\n",
       "<path clip-path=\"url(#clip560)\" d=\"M141.853 1486.45 L2352.76 1486.45 L2352.76 47.2441 L141.853 47.2441  Z\" fill=\"#ffffff\" fill-rule=\"evenodd\" fill-opacity=\"1\"/>\n",
       "<defs>\n",
       "  <clipPath id=\"clip562\">\n",
       "    <rect x=\"141\" y=\"47\" width=\"2212\" height=\"1440\"/>\n",
       "  </clipPath>\n",
       "</defs>\n",
       "<polyline clip-path=\"url(#clip562)\" style=\"stroke:#000000; stroke-linecap:round; stroke-linejoin:round; stroke-width:2; stroke-opacity:0.1; fill:none\" points=\"204.426,1486.45 204.426,47.2441 \"/>\n",
       "<polyline clip-path=\"url(#clip562)\" style=\"stroke:#000000; stroke-linecap:round; stroke-linejoin:round; stroke-width:2; stroke-opacity:0.1; fill:none\" points=\"725.865,1486.45 725.865,47.2441 \"/>\n",
       "<polyline clip-path=\"url(#clip562)\" style=\"stroke:#000000; stroke-linecap:round; stroke-linejoin:round; stroke-width:2; stroke-opacity:0.1; fill:none\" points=\"1247.3,1486.45 1247.3,47.2441 \"/>\n",
       "<polyline clip-path=\"url(#clip562)\" style=\"stroke:#000000; stroke-linecap:round; stroke-linejoin:round; stroke-width:2; stroke-opacity:0.1; fill:none\" points=\"1768.74,1486.45 1768.74,47.2441 \"/>\n",
       "<polyline clip-path=\"url(#clip562)\" style=\"stroke:#000000; stroke-linecap:round; stroke-linejoin:round; stroke-width:2; stroke-opacity:0.1; fill:none\" points=\"2290.18,1486.45 2290.18,47.2441 \"/>\n",
       "<polyline clip-path=\"url(#clip560)\" style=\"stroke:#000000; stroke-linecap:round; stroke-linejoin:round; stroke-width:4; stroke-opacity:1; fill:none\" points=\"141.853,1486.45 2352.76,1486.45 \"/>\n",
       "<polyline clip-path=\"url(#clip560)\" style=\"stroke:#000000; stroke-linecap:round; stroke-linejoin:round; stroke-width:4; stroke-opacity:1; fill:none\" points=\"204.426,1486.45 204.426,1467.55 \"/>\n",
       "<polyline clip-path=\"url(#clip560)\" style=\"stroke:#000000; stroke-linecap:round; stroke-linejoin:round; stroke-width:4; stroke-opacity:1; fill:none\" points=\"725.865,1486.45 725.865,1467.55 \"/>\n",
       "<polyline clip-path=\"url(#clip560)\" style=\"stroke:#000000; stroke-linecap:round; stroke-linejoin:round; stroke-width:4; stroke-opacity:1; fill:none\" points=\"1247.3,1486.45 1247.3,1467.55 \"/>\n",
       "<polyline clip-path=\"url(#clip560)\" style=\"stroke:#000000; stroke-linecap:round; stroke-linejoin:round; stroke-width:4; stroke-opacity:1; fill:none\" points=\"1768.74,1486.45 1768.74,1467.55 \"/>\n",
       "<polyline clip-path=\"url(#clip560)\" style=\"stroke:#000000; stroke-linecap:round; stroke-linejoin:round; stroke-width:4; stroke-opacity:1; fill:none\" points=\"2290.18,1486.45 2290.18,1467.55 \"/>\n",
       "<path clip-path=\"url(#clip560)\" d=\"M181.81 1517.37 Q178.199 1517.37 176.37 1520.93 Q174.565 1524.47 174.565 1531.6 Q174.565 1538.71 176.37 1542.27 Q178.199 1545.82 181.81 1545.82 Q185.444 1545.82 187.25 1542.27 Q189.079 1538.71 189.079 1531.6 Q189.079 1524.47 187.25 1520.93 Q185.444 1517.37 181.81 1517.37 M181.81 1513.66 Q187.62 1513.66 190.676 1518.27 Q193.754 1522.85 193.754 1531.6 Q193.754 1540.33 190.676 1544.94 Q187.62 1549.52 181.81 1549.52 Q176 1549.52 172.921 1544.94 Q169.866 1540.33 169.866 1531.6 Q169.866 1522.85 172.921 1518.27 Q176 1513.66 181.81 1513.66 Z\" fill=\"#000000\" fill-rule=\"nonzero\" fill-opacity=\"1\" /><path clip-path=\"url(#clip560)\" d=\"M201.972 1542.97 L206.856 1542.97 L206.856 1548.85 L201.972 1548.85 L201.972 1542.97 Z\" fill=\"#000000\" fill-rule=\"nonzero\" fill-opacity=\"1\" /><path clip-path=\"url(#clip560)\" d=\"M227.041 1517.37 Q223.43 1517.37 221.602 1520.93 Q219.796 1524.47 219.796 1531.6 Q219.796 1538.71 221.602 1542.27 Q223.43 1545.82 227.041 1545.82 Q230.676 1545.82 232.481 1542.27 Q234.31 1538.71 234.31 1531.6 Q234.31 1524.47 232.481 1520.93 Q230.676 1517.37 227.041 1517.37 M227.041 1513.66 Q232.851 1513.66 235.907 1518.27 Q238.986 1522.85 238.986 1531.6 Q238.986 1540.33 235.907 1544.94 Q232.851 1549.52 227.041 1549.52 Q221.231 1549.52 218.152 1544.94 Q215.097 1540.33 215.097 1531.6 Q215.097 1522.85 218.152 1518.27 Q221.231 1513.66 227.041 1513.66 Z\" fill=\"#000000\" fill-rule=\"nonzero\" fill-opacity=\"1\" /><path clip-path=\"url(#clip560)\" d=\"M703.747 1517.37 Q700.136 1517.37 698.307 1520.93 Q696.502 1524.47 696.502 1531.6 Q696.502 1538.71 698.307 1542.27 Q700.136 1545.82 703.747 1545.82 Q707.381 1545.82 709.187 1542.27 Q711.016 1538.71 711.016 1531.6 Q711.016 1524.47 709.187 1520.93 Q707.381 1517.37 703.747 1517.37 M703.747 1513.66 Q709.557 1513.66 712.613 1518.27 Q715.691 1522.85 715.691 1531.6 Q715.691 1540.33 712.613 1544.94 Q709.557 1549.52 703.747 1549.52 Q697.937 1549.52 694.858 1544.94 Q691.803 1540.33 691.803 1531.6 Q691.803 1522.85 694.858 1518.27 Q697.937 1513.66 703.747 1513.66 Z\" fill=\"#000000\" fill-rule=\"nonzero\" fill-opacity=\"1\" /><path clip-path=\"url(#clip560)\" d=\"M723.909 1542.97 L728.793 1542.97 L728.793 1548.85 L723.909 1548.85 L723.909 1542.97 Z\" fill=\"#000000\" fill-rule=\"nonzero\" fill-opacity=\"1\" /><path clip-path=\"url(#clip560)\" d=\"M739.025 1514.29 L757.381 1514.29 L757.381 1518.22 L743.307 1518.22 L743.307 1526.7 Q744.326 1526.35 745.344 1526.19 Q746.363 1526 747.381 1526 Q753.168 1526 756.548 1529.17 Q759.927 1532.34 759.927 1537.76 Q759.927 1543.34 756.455 1546.44 Q752.983 1549.52 746.664 1549.52 Q744.488 1549.52 742.219 1549.15 Q739.974 1548.78 737.566 1548.04 L737.566 1543.34 Q739.65 1544.47 741.872 1545.03 Q744.094 1545.58 746.571 1545.58 Q750.576 1545.58 752.914 1543.48 Q755.251 1541.37 755.251 1537.76 Q755.251 1534.15 752.914 1532.04 Q750.576 1529.94 746.571 1529.94 Q744.696 1529.94 742.821 1530.35 Q740.969 1530.77 739.025 1531.65 L739.025 1514.29 Z\" fill=\"#000000\" fill-rule=\"nonzero\" fill-opacity=\"1\" /><path clip-path=\"url(#clip560)\" d=\"M1214.46 1544.91 L1222.1 1544.91 L1222.1 1518.55 L1213.79 1520.21 L1213.79 1515.95 L1222.05 1514.29 L1226.73 1514.29 L1226.73 1544.91 L1234.36 1544.91 L1234.36 1548.85 L1214.46 1548.85 L1214.46 1544.91 Z\" fill=\"#000000\" fill-rule=\"nonzero\" fill-opacity=\"1\" /><path clip-path=\"url(#clip560)\" d=\"M1243.81 1542.97 L1248.69 1542.97 L1248.69 1548.85 L1243.81 1548.85 L1243.81 1542.97 Z\" fill=\"#000000\" fill-rule=\"nonzero\" fill-opacity=\"1\" /><path clip-path=\"url(#clip560)\" d=\"M1268.88 1517.37 Q1265.27 1517.37 1263.44 1520.93 Q1261.63 1524.47 1261.63 1531.6 Q1261.63 1538.71 1263.44 1542.27 Q1265.27 1545.82 1268.88 1545.82 Q1272.51 1545.82 1274.32 1542.27 Q1276.15 1538.71 1276.15 1531.6 Q1276.15 1524.47 1274.32 1520.93 Q1272.51 1517.37 1268.88 1517.37 M1268.88 1513.66 Q1274.69 1513.66 1277.74 1518.27 Q1280.82 1522.85 1280.82 1531.6 Q1280.82 1540.33 1277.74 1544.94 Q1274.69 1549.52 1268.88 1549.52 Q1263.07 1549.52 1259.99 1544.94 Q1256.93 1540.33 1256.93 1531.6 Q1256.93 1522.85 1259.99 1518.27 Q1263.07 1513.66 1268.88 1513.66 Z\" fill=\"#000000\" fill-rule=\"nonzero\" fill-opacity=\"1\" /><path clip-path=\"url(#clip560)\" d=\"M1736.39 1544.91 L1744.03 1544.91 L1744.03 1518.55 L1735.72 1520.21 L1735.72 1515.95 L1743.99 1514.29 L1748.66 1514.29 L1748.66 1544.91 L1756.3 1544.91 L1756.3 1548.85 L1736.39 1548.85 L1736.39 1544.91 Z\" fill=\"#000000\" fill-rule=\"nonzero\" fill-opacity=\"1\" /><path clip-path=\"url(#clip560)\" d=\"M1765.75 1542.97 L1770.63 1542.97 L1770.63 1548.85 L1765.75 1548.85 L1765.75 1542.97 Z\" fill=\"#000000\" fill-rule=\"nonzero\" fill-opacity=\"1\" /><path clip-path=\"url(#clip560)\" d=\"M1780.86 1514.29 L1799.22 1514.29 L1799.22 1518.22 L1785.14 1518.22 L1785.14 1526.7 Q1786.16 1526.35 1787.18 1526.19 Q1788.2 1526 1789.22 1526 Q1795.01 1526 1798.38 1529.17 Q1801.76 1532.34 1801.76 1537.76 Q1801.76 1543.34 1798.29 1546.44 Q1794.82 1549.52 1788.5 1549.52 Q1786.32 1549.52 1784.06 1549.15 Q1781.81 1548.78 1779.4 1548.04 L1779.4 1543.34 Q1781.49 1544.47 1783.71 1545.03 Q1785.93 1545.58 1788.41 1545.58 Q1792.41 1545.58 1794.75 1543.48 Q1797.09 1541.37 1797.09 1537.76 Q1797.09 1534.15 1794.75 1532.04 Q1792.41 1529.94 1788.41 1529.94 Q1786.53 1529.94 1784.66 1530.35 Q1782.81 1530.77 1780.86 1531.65 L1780.86 1514.29 Z\" fill=\"#000000\" fill-rule=\"nonzero\" fill-opacity=\"1\" /><path clip-path=\"url(#clip560)\" d=\"M2261.42 1544.91 L2277.74 1544.91 L2277.74 1548.85 L2255.8 1548.85 L2255.8 1544.91 Q2258.46 1542.16 2263.04 1537.53 Q2267.65 1532.88 2268.83 1531.53 Q2271.07 1529.01 2271.95 1527.27 Q2272.86 1525.51 2272.86 1523.82 Q2272.86 1521.07 2270.91 1519.33 Q2268.99 1517.6 2265.89 1517.6 Q2263.69 1517.6 2261.24 1518.36 Q2258.81 1519.13 2256.03 1520.68 L2256.03 1515.95 Q2258.85 1514.82 2261.31 1514.24 Q2263.76 1513.66 2265.8 1513.66 Q2271.17 1513.66 2274.36 1516.35 Q2277.56 1519.03 2277.56 1523.52 Q2277.56 1525.65 2276.75 1527.57 Q2275.96 1529.47 2273.85 1532.07 Q2273.27 1532.74 2270.17 1535.95 Q2267.07 1539.15 2261.42 1544.91 Z\" fill=\"#000000\" fill-rule=\"nonzero\" fill-opacity=\"1\" /><path clip-path=\"url(#clip560)\" d=\"M2287.56 1542.97 L2292.44 1542.97 L2292.44 1548.85 L2287.56 1548.85 L2287.56 1542.97 Z\" fill=\"#000000\" fill-rule=\"nonzero\" fill-opacity=\"1\" /><path clip-path=\"url(#clip560)\" d=\"M2312.63 1517.37 Q2309.01 1517.37 2307.19 1520.93 Q2305.38 1524.47 2305.38 1531.6 Q2305.38 1538.71 2307.19 1542.27 Q2309.01 1545.82 2312.63 1545.82 Q2316.26 1545.82 2318.06 1542.27 Q2319.89 1538.71 2319.89 1531.6 Q2319.89 1524.47 2318.06 1520.93 Q2316.26 1517.37 2312.63 1517.37 M2312.63 1513.66 Q2318.44 1513.66 2321.49 1518.27 Q2324.57 1522.85 2324.57 1531.6 Q2324.57 1540.33 2321.49 1544.94 Q2318.44 1549.52 2312.63 1549.52 Q2306.82 1549.52 2303.74 1544.94 Q2300.68 1540.33 2300.68 1531.6 Q2300.68 1522.85 2303.74 1518.27 Q2306.82 1513.66 2312.63 1513.66 Z\" fill=\"#000000\" fill-rule=\"nonzero\" fill-opacity=\"1\" /><polyline clip-path=\"url(#clip562)\" style=\"stroke:#000000; stroke-linecap:round; stroke-linejoin:round; stroke-width:2; stroke-opacity:0.1; fill:none\" points=\"141.853,1238.35 2352.76,1238.35 \"/>\n",
       "<polyline clip-path=\"url(#clip562)\" style=\"stroke:#000000; stroke-linecap:round; stroke-linejoin:round; stroke-width:2; stroke-opacity:0.1; fill:none\" points=\"141.853,980.42 2352.76,980.42 \"/>\n",
       "<polyline clip-path=\"url(#clip562)\" style=\"stroke:#000000; stroke-linecap:round; stroke-linejoin:round; stroke-width:2; stroke-opacity:0.1; fill:none\" points=\"141.853,722.494 2352.76,722.494 \"/>\n",
       "<polyline clip-path=\"url(#clip562)\" style=\"stroke:#000000; stroke-linecap:round; stroke-linejoin:round; stroke-width:2; stroke-opacity:0.1; fill:none\" points=\"141.853,464.568 2352.76,464.568 \"/>\n",
       "<polyline clip-path=\"url(#clip562)\" style=\"stroke:#000000; stroke-linecap:round; stroke-linejoin:round; stroke-width:2; stroke-opacity:0.1; fill:none\" points=\"141.853,206.641 2352.76,206.641 \"/>\n",
       "<polyline clip-path=\"url(#clip560)\" style=\"stroke:#000000; stroke-linecap:round; stroke-linejoin:round; stroke-width:4; stroke-opacity:1; fill:none\" points=\"141.853,1486.45 141.853,47.2441 \"/>\n",
       "<polyline clip-path=\"url(#clip560)\" style=\"stroke:#000000; stroke-linecap:round; stroke-linejoin:round; stroke-width:4; stroke-opacity:1; fill:none\" points=\"141.853,1238.35 160.751,1238.35 \"/>\n",
       "<polyline clip-path=\"url(#clip560)\" style=\"stroke:#000000; stroke-linecap:round; stroke-linejoin:round; stroke-width:4; stroke-opacity:1; fill:none\" points=\"141.853,980.42 160.751,980.42 \"/>\n",
       "<polyline clip-path=\"url(#clip560)\" style=\"stroke:#000000; stroke-linecap:round; stroke-linejoin:round; stroke-width:4; stroke-opacity:1; fill:none\" points=\"141.853,722.494 160.751,722.494 \"/>\n",
       "<polyline clip-path=\"url(#clip560)\" style=\"stroke:#000000; stroke-linecap:round; stroke-linejoin:round; stroke-width:4; stroke-opacity:1; fill:none\" points=\"141.853,464.568 160.751,464.568 \"/>\n",
       "<polyline clip-path=\"url(#clip560)\" style=\"stroke:#000000; stroke-linecap:round; stroke-linejoin:round; stroke-width:4; stroke-opacity:1; fill:none\" points=\"141.853,206.641 160.751,206.641 \"/>\n",
       "<path clip-path=\"url(#clip560)\" d=\"M54.5569 1251.69 L62.1958 1251.69 L62.1958 1225.33 L53.8856 1226.99 L53.8856 1222.73 L62.1495 1221.07 L66.8254 1221.07 L66.8254 1251.69 L74.4642 1251.69 L74.4642 1255.63 L54.5569 1255.63 L54.5569 1251.69 Z\" fill=\"#000000\" fill-rule=\"nonzero\" fill-opacity=\"1\" /><path clip-path=\"url(#clip560)\" d=\"M93.9086 1224.15 Q90.2975 1224.15 88.4688 1227.71 Q86.6632 1231.25 86.6632 1238.38 Q86.6632 1245.49 88.4688 1249.05 Q90.2975 1252.59 93.9086 1252.59 Q97.5428 1252.59 99.3483 1249.05 Q101.177 1245.49 101.177 1238.38 Q101.177 1231.25 99.3483 1227.71 Q97.5428 1224.15 93.9086 1224.15 M93.9086 1220.44 Q99.7187 1220.44 102.774 1225.05 Q105.853 1229.63 105.853 1238.38 Q105.853 1247.11 102.774 1251.71 Q99.7187 1256.3 93.9086 1256.3 Q88.0984 1256.3 85.0197 1251.71 Q81.9642 1247.11 81.9642 1238.38 Q81.9642 1229.63 85.0197 1225.05 Q88.0984 1220.44 93.9086 1220.44 Z\" fill=\"#000000\" fill-rule=\"nonzero\" fill-opacity=\"1\" /><path clip-path=\"url(#clip560)\" d=\"M57.7745 993.765 L74.0939 993.765 L74.0939 997.7 L52.1495 997.7 L52.1495 993.765 Q54.8115 991.01 59.3949 986.381 Q64.0013 981.728 65.1819 980.385 Q67.4272 977.862 68.3068 976.126 Q69.2096 974.367 69.2096 972.677 Q69.2096 969.923 67.2652 968.186 Q65.3439 966.45 62.2421 966.45 Q60.043 966.45 57.5893 967.214 Q55.1588 967.978 52.381 969.529 L52.381 964.807 Q55.2051 963.673 57.6588 963.094 Q60.1124 962.515 62.1495 962.515 Q67.5198 962.515 70.7142 965.2 Q73.9087 967.886 73.9087 972.376 Q73.9087 974.506 73.0985 976.427 Q72.3115 978.325 70.205 980.918 Q69.6263 981.589 66.5245 984.807 Q63.4226 988.001 57.7745 993.765 Z\" fill=\"#000000\" fill-rule=\"nonzero\" fill-opacity=\"1\" /><path clip-path=\"url(#clip560)\" d=\"M93.9086 966.219 Q90.2975 966.219 88.4688 969.784 Q86.6632 973.325 86.6632 980.455 Q86.6632 987.561 88.4688 991.126 Q90.2975 994.668 93.9086 994.668 Q97.5428 994.668 99.3483 991.126 Q101.177 987.561 101.177 980.455 Q101.177 973.325 99.3483 969.784 Q97.5428 966.219 93.9086 966.219 M93.9086 962.515 Q99.7187 962.515 102.774 967.122 Q105.853 971.705 105.853 980.455 Q105.853 989.182 102.774 993.788 Q99.7187 998.371 93.9086 998.371 Q88.0984 998.371 85.0197 993.788 Q81.9642 989.182 81.9642 980.455 Q81.9642 971.705 85.0197 967.122 Q88.0984 962.515 93.9086 962.515 Z\" fill=\"#000000\" fill-rule=\"nonzero\" fill-opacity=\"1\" /><path clip-path=\"url(#clip560)\" d=\"M67.9133 721.14 Q71.2698 721.857 73.1448 724.126 Q75.0429 726.394 75.0429 729.728 Q75.0429 734.843 71.5244 737.644 Q68.0059 740.445 61.5245 740.445 Q59.3486 740.445 57.0338 740.005 Q54.7421 739.589 52.2884 738.732 L52.2884 734.218 Q54.2328 735.353 56.5477 735.931 Q58.8625 736.51 61.3856 736.51 Q65.7837 736.51 68.0754 734.774 Q70.3902 733.038 70.3902 729.728 Q70.3902 726.672 68.2374 724.959 Q66.1078 723.223 62.2884 723.223 L58.2606 723.223 L58.2606 719.38 L62.4735 719.38 Q65.9226 719.38 67.7513 718.015 Q69.58 716.626 69.58 714.033 Q69.58 711.371 67.6819 709.959 Q65.8069 708.524 62.2884 708.524 Q60.3671 708.524 58.168 708.941 Q55.969 709.357 53.3301 710.237 L53.3301 706.07 Q55.9921 705.33 58.3069 704.959 Q60.6449 704.589 62.705 704.589 Q68.0291 704.589 71.1309 707.019 Q74.2327 709.427 74.2327 713.547 Q74.2327 716.417 72.5892 718.408 Q70.9457 720.376 67.9133 721.14 Z\" fill=\"#000000\" fill-rule=\"nonzero\" fill-opacity=\"1\" /><path clip-path=\"url(#clip560)\" d=\"M93.9086 708.293 Q90.2975 708.293 88.4688 711.857 Q86.6632 715.399 86.6632 722.529 Q86.6632 729.635 88.4688 733.2 Q90.2975 736.741 93.9086 736.741 Q97.5428 736.741 99.3483 733.2 Q101.177 729.635 101.177 722.529 Q101.177 715.399 99.3483 711.857 Q97.5428 708.293 93.9086 708.293 M93.9086 704.589 Q99.7187 704.589 102.774 709.195 Q105.853 713.779 105.853 722.529 Q105.853 731.255 102.774 735.862 Q99.7187 740.445 93.9086 740.445 Q88.0984 740.445 85.0197 735.862 Q81.9642 731.255 81.9642 722.529 Q81.9642 713.779 85.0197 709.195 Q88.0984 704.589 93.9086 704.589 Z\" fill=\"#000000\" fill-rule=\"nonzero\" fill-opacity=\"1\" /><path clip-path=\"url(#clip560)\" d=\"M66.5939 451.362 L54.7884 469.811 L66.5939 469.811 L66.5939 451.362 M65.367 447.288 L71.2466 447.288 L71.2466 469.811 L76.1772 469.811 L76.1772 473.699 L71.2466 473.699 L71.2466 481.848 L66.5939 481.848 L66.5939 473.699 L50.9921 473.699 L50.9921 469.186 L65.367 447.288 Z\" fill=\"#000000\" fill-rule=\"nonzero\" fill-opacity=\"1\" /><path clip-path=\"url(#clip560)\" d=\"M93.9086 450.366 Q90.2975 450.366 88.4688 453.931 Q86.6632 457.473 86.6632 464.602 Q86.6632 471.709 88.4688 475.273 Q90.2975 478.815 93.9086 478.815 Q97.5428 478.815 99.3483 475.273 Q101.177 471.709 101.177 464.602 Q101.177 457.473 99.3483 453.931 Q97.5428 450.366 93.9086 450.366 M93.9086 446.663 Q99.7187 446.663 102.774 451.269 Q105.853 455.852 105.853 464.602 Q105.853 473.329 102.774 477.936 Q99.7187 482.519 93.9086 482.519 Q88.0984 482.519 85.0197 477.936 Q81.9642 473.329 81.9642 464.602 Q81.9642 455.852 85.0197 451.269 Q88.0984 446.663 93.9086 446.663 Z\" fill=\"#000000\" fill-rule=\"nonzero\" fill-opacity=\"1\" /><path clip-path=\"url(#clip560)\" d=\"M53.793 189.361 L72.1494 189.361 L72.1494 193.296 L58.0754 193.296 L58.0754 201.769 Q59.0939 201.421 60.1124 201.259 Q61.131 201.074 62.1495 201.074 Q67.9365 201.074 71.3161 204.245 Q74.6957 207.417 74.6957 212.833 Q74.6957 218.412 71.2235 221.514 Q67.7513 224.593 61.4319 224.593 Q59.256 224.593 56.9875 224.222 Q54.7421 223.852 52.3347 223.111 L52.3347 218.412 Q54.418 219.546 56.6402 220.102 Q58.8625 220.657 61.3393 220.657 Q65.3439 220.657 67.6819 218.551 Q70.0198 216.444 70.0198 212.833 Q70.0198 209.222 67.6819 207.116 Q65.3439 205.009 61.3393 205.009 Q59.4643 205.009 57.5893 205.426 Q55.7375 205.843 53.793 206.722 L53.793 189.361 Z\" fill=\"#000000\" fill-rule=\"nonzero\" fill-opacity=\"1\" /><path clip-path=\"url(#clip560)\" d=\"M93.9086 192.44 Q90.2975 192.44 88.4688 196.005 Q86.6632 199.546 86.6632 206.676 Q86.6632 213.782 88.4688 217.347 Q90.2975 220.889 93.9086 220.889 Q97.5428 220.889 99.3483 217.347 Q101.177 213.782 101.177 206.676 Q101.177 199.546 99.3483 196.005 Q97.5428 192.44 93.9086 192.44 M93.9086 188.736 Q99.7187 188.736 102.774 193.343 Q105.853 197.926 105.853 206.676 Q105.853 215.403 102.774 220.009 Q99.7187 224.593 93.9086 224.593 Q88.0984 224.593 85.0197 220.009 Q81.9642 215.403 81.9642 206.676 Q81.9642 197.926 85.0197 193.343 Q88.0984 188.736 93.9086 188.736 Z\" fill=\"#000000\" fill-rule=\"nonzero\" fill-opacity=\"1\" /><polyline clip-path=\"url(#clip562)\" style=\"stroke:#009af9; stroke-linecap:round; stroke-linejoin:round; stroke-width:4; stroke-opacity:1; fill:none\" points=\"204.426,1444.69 206.514,1444.74 208.601,1444.79 210.689,1444.84 212.777,1444.88 214.865,1444.93 216.953,1444.97 219.041,1445.02 221.128,1445.06 223.216,1445.1 225.304,1445.14 227.392,1445.18 229.48,1445.21 231.568,1445.25 233.656,1445.28 235.743,1445.31 237.831,1445.34 239.919,1445.37 242.007,1445.4 244.095,1445.43 246.183,1445.46 248.27,1445.48 250.358,1445.5 252.446,1445.53 254.534,1445.55 256.622,1445.57 258.71,1445.59 260.797,1445.6 262.885,1445.62 264.973,1445.63 267.061,1445.65 269.149,1445.66 271.237,1445.67 273.325,1445.68 275.412,1445.69 277.5,1445.7 279.588,1445.7 281.676,1445.71 283.764,1445.71 285.852,1445.71 287.939,1445.72 290.027,1445.72 292.115,1445.71 294.203,1445.71 296.291,1445.71 298.379,1445.7 300.467,1445.7 302.554,1445.69 304.642,1445.68 306.73,1445.67 308.818,1445.66 310.906,1445.65 312.994,1445.64 315.081,1445.62 317.169,1445.61 319.257,1445.59 321.345,1445.57 323.433,1445.55 325.521,1445.53 327.609,1445.51 329.696,1445.49 331.784,1445.46 333.872,1445.44 335.96,1445.41 338.048,1445.39 340.136,1445.36 342.223,1445.33 344.311,1445.3 346.399,1445.26 348.487,1445.23 350.575,1445.2 352.663,1445.16 354.751,1445.12 356.838,1445.09 358.926,1445.05 361.014,1445.01 363.102,1444.97 365.19,1444.92 367.278,1444.88 369.365,1444.84 371.453,1444.79 373.541,1444.74 375.629,1444.69 377.717,1444.64 379.805,1444.59 381.893,1444.54 383.98,1444.49 386.068,1444.44 388.156,1444.38 390.244,1444.32 392.332,1444.27 394.42,1444.21 396.507,1444.15 398.595,1444.09 400.683,1444.03 402.771,1443.96 404.859,1443.9 406.947,1443.83 409.035,1443.77 411.122,1443.7 413.21,1443.63 415.298,1443.56 417.386,1443.49 419.474,1443.42 421.562,1443.35 423.649,1443.27 425.737,1443.2 427.825,1443.12 429.913,1443.04 432.001,1442.96 434.089,1442.88 436.177,1442.8 438.264,1442.72 440.352,1442.64 442.44,1442.55 444.528,1442.47 446.616,1442.38 448.704,1442.29 450.791,1442.21 452.879,1442.12 454.967,1442.02 457.055,1441.93 459.143,1441.84 461.231,1441.74 463.318,1441.65 465.406,1441.55 467.494,1441.45 469.582,1441.36 471.67,1441.26 473.758,1441.15 475.846,1441.05 477.933,1440.95 480.021,1440.84 482.109,1440.74 484.197,1440.63 486.285,1440.52 488.373,1440.41 490.46,1440.3 492.548,1440.19 494.636,1440.08 496.724,1439.97 498.812,1439.85 500.9,1439.74 502.988,1439.62 505.075,1439.5 507.163,1439.38 509.251,1439.26 511.339,1439.14 513.427,1439.02 515.515,1438.89 517.602,1438.77 519.69,1438.64 521.778,1438.52 523.866,1438.39 525.954,1438.26 528.042,1438.13 530.13,1438 532.217,1437.86 534.305,1437.73 536.393,1437.6 538.481,1437.46 540.569,1437.32 542.657,1437.18 544.744,1437.04 546.832,1436.9 548.92,1436.76 551.008,1436.62 553.096,1436.47 555.184,1436.33 557.272,1436.18 559.359,1436.04 561.447,1435.89 563.535,1435.74 565.623,1435.59 567.711,1435.43 569.799,1435.28 571.886,1435.13 573.974,1434.97 576.062,1434.81 578.15,1434.65 580.238,1434.5 582.326,1434.34 584.414,1434.17 586.501,1434.01 588.589,1433.85 590.677,1433.68 592.765,1433.52 594.853,1433.35 596.941,1433.18 599.028,1433.01 601.116,1432.84 603.204,1432.67 605.292,1432.49 607.38,1432.32 609.468,1432.14 611.556,1431.97 613.643,1431.79 615.731,1431.61 617.819,1431.43 619.907,1431.25 621.995,1431.06 624.083,1430.88 626.17,1430.7 628.258,1430.51 630.346,1430.32 632.434,1430.13 634.522,1429.94 636.61,1429.75 638.698,1429.56 640.785,1429.37 642.873,1429.17 644.961,1428.97 647.049,1428.78 649.137,1428.58 651.225,1428.38 653.312,1428.18 655.4,1427.98 657.488,1427.77 659.576,1427.57 661.664,1427.36 663.752,1427.15 665.839,1426.94 667.927,1426.74 670.015,1426.52 672.103,1426.31 674.191,1426.1 676.279,1425.88 678.367,1425.67 680.454,1425.45 682.542,1425.23 684.63,1425.01 686.718,1424.79 688.806,1424.57 690.894,1424.34 692.981,1424.12 695.069,1423.89 697.157,1423.67 699.245,1423.44 701.333,1423.21 703.421,1422.98 705.509,1422.74 707.596,1422.51 709.684,1422.27 711.772,1422.04 713.86,1421.8 715.948,1421.56 718.036,1421.32 720.123,1421.08 722.211,1420.83 724.299,1420.59 726.387,1420.34 728.475,1420.1 730.563,1419.85 732.651,1419.6 734.738,1419.35 736.826,1419.1 738.914,1418.84 741.002,1418.59 743.09,1418.33 745.178,1418.07 747.265,1417.81 749.353,1417.55 751.441,1417.29 753.529,1417.03 755.617,1416.76 757.705,1416.5 759.793,1416.23 761.88,1415.96 763.968,1415.69 766.056,1415.42 768.144,1415.14 770.232,1414.87 772.32,1414.59 774.407,1414.32 776.495,1414.04 778.583,1413.76 780.671,1413.48 782.759,1413.19 784.847,1412.91 786.935,1412.62 789.022,1412.33 791.11,1412.05 793.198,1411.76 795.286,1411.46 797.374,1411.17 799.462,1410.88 801.549,1410.58 803.637,1410.28 805.725,1409.98 807.813,1409.68 809.901,1409.38 811.989,1409.08 814.077,1408.77 816.164,1408.47 818.252,1408.16 820.34,1407.85 822.428,1407.54 824.516,1407.23 826.604,1406.91 828.691,1406.6 830.779,1406.28 832.867,1405.96 834.955,1405.64 837.043,1405.32 839.131,1405 841.219,1404.67 843.306,1404.35 845.394,1404.02 847.482,1403.69 849.57,1403.36 851.658,1403.02 853.746,1402.69 855.833,1402.36 857.921,1402.02 860.009,1401.68 862.097,1401.34 864.185,1401 866.273,1400.65 868.36,1400.31 870.448,1399.96 872.536,1399.61 874.624,1399.26 876.712,1398.91 878.8,1398.56 880.888,1398.2 882.975,1397.85 885.063,1397.49 887.151,1397.13 889.239,1396.77 891.327,1396.4 893.415,1396.04 895.502,1395.67 897.59,1395.3 899.678,1394.93 901.766,1394.56 903.854,1394.19 905.942,1393.81 908.03,1393.44 910.117,1393.06 912.205,1392.68 914.293,1392.3 916.381,1391.91 918.469,1391.53 920.557,1391.14 922.644,1390.75 924.732,1390.36 926.82,1389.97 928.908,1389.57 930.996,1389.18 933.084,1388.78 935.172,1388.38 937.259,1387.98 939.347,1387.58 941.435,1387.17 943.523,1386.76 945.611,1386.35 947.699,1385.94 949.786,1385.53 951.874,1385.12 953.962,1384.7 956.05,1384.28 958.138,1383.86 960.226,1383.44 962.314,1383.02 964.401,1382.59 966.489,1382.17 968.577,1381.74 970.665,1381.31 972.753,1380.87 974.841,1380.44 976.928,1380 979.016,1379.57 981.104,1379.12 983.192,1378.68 985.28,1378.24 987.368,1377.79 989.456,1377.34 991.543,1376.89 993.631,1376.44 995.719,1375.99 997.807,1375.53 999.895,1375.07 1001.98,1374.61 1004.07,1374.15 1006.16,1373.69 1008.25,1373.22 1010.33,1372.75 1012.42,1372.28 1014.51,1371.81 1016.6,1371.34 1018.69,1370.86 1020.77,1370.38 1022.86,1369.9 1024.95,1369.42 1027.04,1368.93 1029.12,1368.45 1031.21,1367.96 1033.3,1367.47 1035.39,1366.97 1037.48,1366.48 1039.56,1365.98 1041.65,1365.48 1043.74,1364.98 1045.83,1364.48 1047.92,1363.97 1050,1363.46 1052.09,1362.95 1054.18,1362.44 1056.27,1361.93 1058.35,1361.41 1060.44,1360.89 1062.53,1360.37 1064.62,1359.85 1066.71,1359.32 1068.79,1358.79 1070.88,1358.26 1072.97,1357.73 1075.06,1357.2 1077.15,1356.66 1079.23,1356.12 1081.32,1355.58 1083.41,1355.03 1085.5,1354.49 1087.58,1353.94 1089.67,1353.39 1091.76,1352.84 1093.85,1352.28 1095.94,1351.72 1098.02,1351.16 1100.11,1350.6 1102.2,1350.04 1104.29,1349.47 1106.37,1348.9 1108.46,1348.33 1110.55,1347.75 1112.64,1347.18 1114.73,1346.6 1116.81,1346.01 1118.9,1345.43 1120.99,1344.84 1123.08,1344.25 1125.17,1343.66 1127.25,1343.07 1129.34,1342.47 1131.43,1341.87 1133.52,1341.27 1135.6,1340.67 1137.69,1340.06 1139.78,1339.45 1141.87,1338.84 1143.96,1338.23 1146.04,1337.61 1148.13,1336.99 1150.22,1336.37 1152.31,1335.74 1154.4,1335.12 1156.48,1334.49 1158.57,1333.85 1160.66,1333.22 1162.75,1332.58 1164.83,1331.94 1166.92,1331.3 1169.01,1330.65 1171.1,1330 1173.19,1329.35 1175.27,1328.7 1177.36,1328.04 1179.45,1327.38 1181.54,1326.72 1183.63,1326.06 1185.71,1325.39 1187.8,1324.72 1189.89,1324.05 1191.98,1323.37 1194.06,1322.69 1196.15,1322.01 1198.24,1321.33 1200.33,1320.64 1202.42,1319.95 1204.5,1319.26 1206.59,1318.56 1208.68,1317.86 1210.77,1317.16 1212.85,1316.46 1214.94,1315.75 1217.03,1315.04 1219.12,1314.33 1221.21,1313.61 1223.29,1312.89 1225.38,1312.17 1227.47,1311.44 1229.56,1310.72 1231.65,1309.98 1233.73,1309.25 1235.82,1308.51 1237.91,1307.77 1240,1307.03 1242.08,1306.28 1244.17,1305.53 1246.26,1304.78 1248.35,1304.03 1250.44,1303.27 1252.52,1302.51 1254.61,1301.74 1256.7,1300.97 1258.79,1300.2 1260.88,1299.43 1262.96,1298.65 1265.05,1297.87 1267.14,1297.09 1269.23,1296.3 1271.31,1295.51 1273.4,1294.72 1275.49,1293.92 1277.58,1293.12 1279.67,1292.32 1281.75,1291.51 1283.84,1290.7 1285.93,1289.89 1288.02,1289.07 1290.11,1288.25 1292.19,1287.43 1294.28,1286.6 1296.37,1285.77 1298.46,1284.94 1300.54,1284.1 1302.63,1283.26 1304.72,1282.42 1306.81,1281.57 1308.9,1280.72 1310.98,1279.86 1313.07,1279.01 1315.16,1278.15 1317.25,1277.28 1319.34,1276.41 1321.42,1275.54 1323.51,1274.67 1325.6,1273.79 1327.69,1272.91 1329.77,1272.02 1331.86,1271.13 1333.95,1270.24 1336.04,1269.34 1338.13,1268.44 1340.21,1267.54 1342.3,1266.63 1344.39,1265.72 1346.48,1264.8 1348.56,1263.88 1350.65,1262.96 1352.74,1262.03 1354.83,1261.1 1356.92,1260.17 1359,1259.23 1361.09,1258.29 1363.18,1257.34 1365.27,1256.39 1367.36,1255.44 1369.44,1254.48 1371.53,1253.52 1373.62,1252.56 1375.71,1251.59 1377.79,1250.62 1379.88,1249.64 1381.97,1248.66 1384.06,1247.67 1386.15,1246.68 1388.23,1245.69 1390.32,1244.69 1392.41,1243.69 1394.5,1242.69 1396.59,1241.68 1398.67,1240.67 1400.76,1239.65 1402.85,1238.63 1404.94,1237.6 1407.02,1236.57 1409.11,1235.54 1411.2,1234.5 1413.29,1233.46 1415.38,1232.41 1417.46,1231.36 1419.55,1230.31 1421.64,1229.25 1423.73,1228.18 1425.82,1227.12 1427.9,1226.04 1429.99,1224.97 1432.08,1223.89 1434.17,1222.8 1436.25,1221.71 1438.34,1220.62 1440.43,1219.52 1442.52,1218.42 1444.61,1217.31 1446.69,1216.2 1448.78,1215.08 1450.87,1213.96 1452.96,1212.83 1455.05,1211.7 1457.13,1210.57 1459.22,1209.43 1461.31,1208.29 1463.4,1207.14 1465.48,1205.98 1467.57,1204.83 1469.66,1203.66 1471.75,1202.5 1473.84,1201.33 1475.92,1200.15 1478.01,1198.97 1480.1,1197.78 1482.19,1196.59 1484.27,1195.39 1486.36,1194.19 1488.45,1192.99 1490.54,1191.78 1492.63,1190.56 1494.71,1189.34 1496.8,1188.12 1498.89,1186.89 1500.98,1185.65 1503.07,1184.41 1505.15,1183.17 1507.24,1181.92 1509.33,1180.66 1511.42,1179.4 1513.5,1178.14 1515.59,1176.87 1517.68,1175.59 1519.77,1174.31 1521.86,1173.02 1523.94,1171.73 1526.03,1170.44 1528.12,1169.14 1530.21,1167.83 1532.3,1166.52 1534.38,1165.2 1536.47,1163.88 1538.56,1162.55 1540.65,1161.21 1542.73,1159.88 1544.82,1158.53 1546.91,1157.18 1549,1155.83 1551.09,1154.47 1553.17,1153.1 1555.26,1151.73 1557.35,1150.35 1559.44,1148.97 1561.53,1147.58 1563.61,1146.19 1565.7,1144.79 1567.79,1143.38 1569.88,1141.97 1571.96,1140.56 1574.05,1139.13 1576.14,1137.71 1578.23,1136.27 1580.32,1134.83 1582.4,1133.39 1584.49,1131.94 1586.58,1130.48 1588.67,1129.02 1590.75,1127.55 1592.84,1126.07 1594.93,1124.59 1597.02,1123.11 1599.11,1121.62 1601.19,1120.12 1603.28,1118.61 1605.37,1117.1 1607.46,1115.59 1609.55,1114.06 1611.63,1112.53 1613.72,1111 1615.81,1109.46 1617.9,1107.91 1619.98,1106.36 1622.07,1104.8 1624.16,1103.23 1626.25,1101.66 1628.34,1100.08 1630.42,1098.49 1632.51,1096.9 1634.6,1095.3 1636.69,1093.7 1638.78,1092.09 1640.86,1090.47 1642.95,1088.85 1645.04,1087.22 1647.13,1085.58 1649.21,1083.94 1651.3,1082.29 1653.39,1080.63 1655.48,1078.96 1657.57,1077.29 1659.65,1075.62 1661.74,1073.93 1663.83,1072.24 1665.92,1070.55 1668.01,1068.84 1670.09,1067.13 1672.18,1065.41 1674.27,1063.69 1676.36,1061.96 1678.44,1060.22 1680.53,1058.47 1682.62,1056.72 1684.71,1054.96 1686.8,1053.19 1688.88,1051.42 1690.97,1049.64 1693.06,1047.85 1695.15,1046.05 1697.24,1044.25 1699.32,1042.44 1701.41,1040.62 1703.5,1038.8 1705.59,1036.97 1707.67,1035.13 1709.76,1033.28 1711.85,1031.43 1713.94,1029.56 1716.03,1027.7 1718.11,1025.82 1720.2,1023.93 1722.29,1022.04 1724.38,1020.14 1726.46,1018.24 1728.55,1016.32 1730.64,1014.4 1732.73,1012.47 1734.82,1010.53 1736.9,1008.59 1738.99,1006.63 1741.08,1004.67 1743.17,1002.7 1745.26,1000.72 1747.34,998.74 1749.43,996.746 1751.52,994.745 1753.61,992.736 1755.69,990.719 1757.78,988.694 1759.87,986.66 1761.96,984.619 1764.05,982.569 1766.13,980.511 1768.22,978.444 1770.31,976.37 1772.4,974.287 1774.49,972.195 1776.57,970.095 1778.66,967.987 1780.75,965.87 1782.84,963.745 1784.92,961.611 1787.01,959.469 1789.1,957.318 1791.19,955.159 1793.28,952.99 1795.36,950.813 1797.45,948.628 1799.54,946.433 1801.63,944.23 1803.72,942.017 1805.8,939.796 1807.89,937.566 1809.98,935.327 1812.07,933.079 1814.15,930.822 1816.24,928.556 1818.33,926.281 1820.42,923.997 1822.51,921.703 1824.59,919.4 1826.68,917.088 1828.77,914.767 1830.86,912.437 1832.95,910.097 1835.03,907.747 1837.12,905.388 1839.21,903.02 1841.3,900.642 1843.38,898.255 1845.47,895.858 1847.56,893.451 1849.65,891.035 1851.74,888.609 1853.82,886.173 1855.91,883.728 1858,881.273 1860.09,878.808 1862.17,876.332 1864.26,873.847 1866.35,871.352 1868.44,868.847 1870.53,866.332 1872.61,863.807 1874.7,861.272 1876.79,858.726 1878.88,856.17 1880.97,853.604 1883.05,851.028 1885.14,848.441 1887.23,845.844 1889.32,843.237 1891.4,840.619 1893.49,837.99 1895.58,835.351 1897.67,832.702 1899.76,830.041 1901.84,827.37 1903.93,824.689 1906.02,821.996 1908.11,819.293 1910.2,816.579 1912.28,813.854 1914.37,811.118 1916.46,808.371 1918.55,805.613 1920.63,802.844 1922.72,800.064 1924.81,797.272 1926.9,794.47 1928.99,791.656 1931.07,788.831 1933.16,785.994 1935.25,783.146 1937.34,780.287 1939.43,777.416 1941.51,774.534 1943.6,771.64 1945.69,768.734 1947.78,765.817 1949.86,762.888 1951.95,759.948 1954.04,756.995 1956.13,754.031 1958.22,751.055 1960.3,748.067 1962.39,745.066 1964.48,742.054 1966.57,739.03 1968.65,735.993 1970.74,732.945 1972.83,729.884 1974.92,726.811 1977.01,723.725 1979.09,720.627 1981.18,717.517 1983.27,714.394 1985.36,711.259 1987.45,708.111 1989.53,704.95 1991.62,701.777 1993.71,698.591 1995.8,695.392 1997.88,692.18 1999.97,688.956 2002.06,685.718 2004.15,682.468 2006.24,679.204 2008.32,675.927 2010.41,672.638 2012.5,669.334 2014.59,666.018 2016.68,662.689 2018.76,659.346 2020.85,655.989 2022.94,652.619 2025.03,649.236 2027.11,645.839 2029.2,642.428 2031.29,639.004 2033.38,635.566 2035.47,632.114 2037.55,628.649 2039.64,625.169 2041.73,621.675 2043.82,618.168 2045.91,614.646 2047.99,611.11 2050.08,607.56 2052.17,603.996 2054.26,600.417 2056.34,596.824 2058.43,593.217 2060.52,589.595 2062.61,585.959 2064.7,582.308 2066.78,578.642 2068.87,574.962 2070.96,571.267 2073.05,567.557 2075.14,563.832 2077.22,560.092 2079.31,556.337 2081.4,552.568 2083.49,548.783 2085.57,544.982 2087.66,541.167 2089.75,537.336 2091.84,533.49 2093.93,529.628 2096.01,525.751 2098.1,521.859 2100.19,517.95 2102.28,514.026 2104.36,510.087 2106.45,506.131 2108.54,502.16 2110.63,498.173 2112.72,494.169 2114.8,490.15 2116.89,486.114 2118.98,482.063 2121.07,477.995 2123.16,473.91 2125.24,469.81 2127.33,465.692 2129.42,461.559 2131.51,457.408 2133.59,453.241 2135.68,449.058 2137.77,444.857 2139.86,440.64 2141.95,436.406 2144.03,432.154 2146.12,427.886 2148.21,423.601 2150.3,419.298 2152.39,414.978 2154.47,410.641 2156.56,406.286 2158.65,401.914 2160.74,397.524 2162.82,393.117 2164.91,388.692 2167,384.249 2169.09,379.789 2171.18,375.31 2173.26,370.814 2175.35,366.3 2177.44,361.767 2179.53,357.216 2181.62,352.647 2183.7,348.06 2185.79,343.454 2187.88,338.83 2189.97,334.187 2192.05,329.525 2194.14,324.845 2196.23,320.146 2198.32,315.428 2200.41,310.692 2202.49,305.936 2204.58,301.161 2206.67,296.367 2208.76,291.554 2210.85,286.721 2212.93,281.869 2215.02,276.998 2217.11,272.107 2219.2,267.196 2221.28,262.266 2223.37,257.316 2225.46,252.346 2227.55,247.356 2229.64,242.346 2231.72,237.316 2233.81,232.266 2235.9,227.195 2237.99,222.105 2240.07,216.993 2242.16,211.861 2244.25,206.709 2246.34,201.536 2248.43,196.342 2250.51,191.128 2252.6,185.892 2254.69,180.635 2256.78,175.358 2258.87,170.059 2260.95,164.739 2263.04,159.397 2265.13,154.035 2267.22,148.65 2269.3,143.244 2271.39,137.816 2273.48,132.367 2275.57,126.896 2277.66,121.402 2279.74,115.887 2281.83,110.349 2283.92,104.79 2286.01,99.2076 2288.1,93.6032 2290.18,87.9763 \"/>\n",
       "<polyline clip-path=\"url(#clip562)\" style=\"stroke:#e26f46; stroke-linecap:round; stroke-linejoin:round; stroke-width:4; stroke-opacity:1; fill:none\" points=\"204.426,1444.69 206.514,1444.74 208.601,1444.79 210.689,1444.84 212.777,1444.88 214.865,1444.93 216.953,1444.97 219.041,1445.02 221.128,1445.06 223.216,1445.1 225.304,1445.14 227.392,1445.18 229.48,1445.21 231.568,1445.25 233.656,1445.28 235.743,1445.31 237.831,1445.34 239.919,1445.37 242.007,1445.4 244.095,1445.43 246.183,1445.46 248.27,1445.48 250.358,1445.5 252.446,1445.53 254.534,1445.55 256.622,1445.57 258.71,1445.59 260.797,1445.6 262.885,1445.62 264.973,1445.63 267.061,1445.65 269.149,1445.66 271.237,1445.67 273.325,1445.68 275.412,1445.69 277.5,1445.7 279.588,1445.7 281.676,1445.71 283.764,1445.71 285.852,1445.71 287.939,1445.72 290.027,1445.72 292.115,1445.71 294.203,1445.71 296.291,1445.71 298.379,1445.7 300.467,1445.7 302.554,1445.69 304.642,1445.68 306.73,1445.67 308.818,1445.66 310.906,1445.65 312.994,1445.64 315.081,1445.62 317.169,1445.61 319.257,1445.59 321.345,1445.57 323.433,1445.55 325.521,1445.53 327.609,1445.51 329.696,1445.49 331.784,1445.46 333.872,1445.44 335.96,1445.41 338.048,1445.39 340.136,1445.36 342.223,1445.33 344.311,1445.3 346.399,1445.26 348.487,1445.23 350.575,1445.2 352.663,1445.16 354.751,1445.12 356.838,1445.09 358.926,1445.05 361.014,1445.01 363.102,1444.97 365.19,1444.92 367.278,1444.88 369.365,1444.84 371.453,1444.79 373.541,1444.74 375.629,1444.69 377.717,1444.64 379.805,1444.59 381.893,1444.54 383.98,1444.49 386.068,1444.44 388.156,1444.38 390.244,1444.32 392.332,1444.27 394.42,1444.21 396.507,1444.15 398.595,1444.09 400.683,1444.03 402.771,1443.96 404.859,1443.9 406.947,1443.83 409.035,1443.77 411.122,1443.7 413.21,1443.63 415.298,1443.56 417.386,1443.49 419.474,1443.42 421.562,1443.35 423.649,1443.27 425.737,1443.2 427.825,1443.12 429.913,1443.04 432.001,1442.96 434.089,1442.88 436.177,1442.8 438.264,1442.72 440.352,1442.64 442.44,1442.55 444.528,1442.47 446.616,1442.38 448.704,1442.29 450.791,1442.21 452.879,1442.12 454.967,1442.02 457.055,1441.93 459.143,1441.84 461.231,1441.74 463.318,1441.65 465.406,1441.55 467.494,1441.45 469.582,1441.36 471.67,1441.26 473.758,1441.15 475.846,1441.05 477.933,1440.95 480.021,1440.84 482.109,1440.74 484.197,1440.63 486.285,1440.52 488.373,1440.41 490.46,1440.3 492.548,1440.19 494.636,1440.08 496.724,1439.97 498.812,1439.85 500.9,1439.74 502.988,1439.62 505.075,1439.5 507.163,1439.38 509.251,1439.26 511.339,1439.14 513.427,1439.02 515.515,1438.9 517.602,1438.77 519.69,1438.64 521.778,1438.52 523.866,1438.39 525.954,1438.26 528.042,1438.13 530.13,1438 532.217,1437.86 534.305,1437.73 536.393,1437.6 538.481,1437.46 540.569,1437.32 542.657,1437.18 544.744,1437.04 546.832,1436.9 548.92,1436.76 551.008,1436.62 553.096,1436.47 555.184,1436.33 557.272,1436.18 559.359,1436.04 561.447,1435.89 563.535,1435.74 565.623,1435.59 567.711,1435.43 569.799,1435.28 571.886,1435.13 573.974,1434.97 576.062,1434.81 578.15,1434.65 580.238,1434.5 582.326,1434.34 584.414,1434.17 586.501,1434.01 588.589,1433.85 590.677,1433.68 592.765,1433.52 594.853,1433.35 596.941,1433.18 599.028,1433.01 601.116,1432.84 603.204,1432.67 605.292,1432.49 607.38,1432.32 609.468,1432.14 611.556,1431.97 613.643,1431.79 615.731,1431.61 617.819,1431.43 619.907,1431.25 621.995,1431.06 624.083,1430.88 626.17,1430.7 628.258,1430.51 630.346,1430.32 632.434,1430.13 634.522,1429.94 636.61,1429.75 638.698,1429.56 640.785,1429.37 642.873,1429.17 644.961,1428.97 647.049,1428.78 649.137,1428.58 651.225,1428.38 653.312,1428.18 655.4,1427.98 657.488,1427.77 659.576,1427.57 661.664,1427.36 663.752,1427.15 665.839,1426.95 667.927,1426.74 670.015,1426.52 672.103,1426.31 674.191,1426.1 676.279,1425.88 678.367,1425.67 680.454,1425.45 682.542,1425.23 684.63,1425.01 686.718,1424.79 688.806,1424.57 690.894,1424.34 692.981,1424.12 695.069,1423.89 697.157,1423.67 699.245,1423.44 701.333,1423.21 703.421,1422.98 705.509,1422.74 707.596,1422.51 709.684,1422.27 711.772,1422.04 713.86,1421.8 715.948,1421.56 718.036,1421.32 720.123,1421.08 722.211,1420.83 724.299,1420.59 726.387,1420.34 728.475,1420.1 730.563,1419.85 732.651,1419.6 734.738,1419.35 736.826,1419.1 738.914,1418.84 741.002,1418.59 743.09,1418.33 745.178,1418.07 747.265,1417.81 749.353,1417.55 751.441,1417.29 753.529,1417.03 755.617,1416.76 757.705,1416.5 759.793,1416.23 761.88,1415.96 763.968,1415.69 766.056,1415.42 768.144,1415.14 770.232,1414.87 772.32,1414.59 774.407,1414.32 776.495,1414.04 778.583,1413.76 780.671,1413.48 782.759,1413.19 784.847,1412.91 786.935,1412.62 789.022,1412.33 791.11,1412.05 793.198,1411.76 795.286,1411.46 797.374,1411.17 799.462,1410.88 801.549,1410.58 803.637,1410.28 805.725,1409.98 807.813,1409.68 809.901,1409.38 811.989,1409.08 814.077,1408.77 816.164,1408.47 818.252,1408.16 820.34,1407.85 822.428,1407.54 824.516,1407.23 826.604,1406.91 828.691,1406.6 830.779,1406.28 832.867,1405.96 834.955,1405.64 837.043,1405.32 839.131,1405 841.219,1404.67 843.306,1404.35 845.394,1404.02 847.482,1403.69 849.57,1403.36 851.658,1403.02 853.746,1402.69 855.833,1402.36 857.921,1402.02 860.009,1401.68 862.097,1401.34 864.185,1401 866.273,1400.65 868.36,1400.31 870.448,1399.96 872.536,1399.61 874.624,1399.26 876.712,1398.91 878.8,1398.56 880.888,1398.2 882.975,1397.85 885.063,1397.49 887.151,1397.13 889.239,1396.77 891.327,1396.4 893.415,1396.04 895.502,1395.67 897.59,1395.3 899.678,1394.93 901.766,1394.56 903.854,1394.19 905.942,1393.81 908.03,1393.44 910.117,1393.06 912.205,1392.68 914.293,1392.3 916.381,1391.91 918.469,1391.53 920.557,1391.14 922.644,1390.75 924.732,1390.36 926.82,1389.97 928.908,1389.57 930.996,1389.18 933.084,1388.78 935.172,1388.38 937.259,1387.98 939.347,1387.58 941.435,1387.17 943.523,1386.76 945.611,1386.36 947.699,1385.94 949.786,1385.53 951.874,1385.12 953.962,1384.7 956.05,1384.28 958.138,1383.87 960.226,1383.44 962.314,1383.02 964.401,1382.6 966.489,1382.17 968.577,1381.74 970.665,1381.31 972.753,1380.88 974.841,1380.44 976.928,1380 979.016,1379.57 981.104,1379.13 983.192,1378.68 985.28,1378.24 987.368,1377.79 989.456,1377.34 991.543,1376.89 993.631,1376.44 995.719,1375.99 997.807,1375.53 999.895,1375.07 1001.98,1374.61 1004.07,1374.15 1006.16,1373.69 1008.25,1373.22 1010.33,1372.75 1012.42,1372.28 1014.51,1371.81 1016.6,1371.34 1018.69,1370.86 1020.77,1370.38 1022.86,1369.9 1024.95,1369.42 1027.04,1368.93 1029.12,1368.45 1031.21,1367.96 1033.3,1367.47 1035.39,1366.97 1037.48,1366.48 1039.56,1365.98 1041.65,1365.48 1043.74,1364.98 1045.83,1364.48 1047.92,1363.97 1050,1363.46 1052.09,1362.95 1054.18,1362.44 1056.27,1361.93 1058.35,1361.41 1060.44,1360.89 1062.53,1360.37 1064.62,1359.85 1066.71,1359.32 1068.79,1358.79 1070.88,1358.26 1072.97,1357.73 1075.06,1357.2 1077.15,1356.66 1079.23,1356.12 1081.32,1355.58 1083.41,1355.03 1085.5,1354.49 1087.58,1353.94 1089.67,1353.39 1091.76,1352.84 1093.85,1352.28 1095.94,1351.72 1098.02,1351.16 1100.11,1350.6 1102.2,1350.04 1104.29,1349.47 1106.37,1348.9 1108.46,1348.33 1110.55,1347.75 1112.64,1347.18 1114.73,1346.6 1116.81,1346.01 1118.9,1345.43 1120.99,1344.84 1123.08,1344.25 1125.17,1343.66 1127.25,1343.07 1129.34,1342.47 1131.43,1341.87 1133.52,1341.27 1135.6,1340.67 1137.69,1340.06 1139.78,1339.45 1141.87,1338.84 1143.96,1338.23 1146.04,1337.61 1148.13,1336.99 1150.22,1336.37 1152.31,1335.74 1154.4,1335.12 1156.48,1334.49 1158.57,1333.85 1160.66,1333.22 1162.75,1332.58 1164.83,1331.94 1166.92,1331.3 1169.01,1330.65 1171.1,1330 1173.19,1329.35 1175.27,1328.7 1177.36,1328.04 1179.45,1327.38 1181.54,1326.72 1183.63,1326.06 1185.71,1325.39 1187.8,1324.72 1189.89,1324.05 1191.98,1323.37 1194.06,1322.69 1196.15,1322.01 1198.24,1321.33 1200.33,1320.64 1202.42,1319.95 1204.5,1319.26 1206.59,1318.56 1208.68,1317.86 1210.77,1317.16 1212.85,1316.46 1214.94,1315.75 1217.03,1315.04 1219.12,1314.33 1221.21,1313.61 1223.29,1312.89 1225.38,1312.17 1227.47,1311.44 1229.56,1310.72 1231.65,1309.98 1233.73,1309.25 1235.82,1308.51 1237.91,1307.77 1240,1307.03 1242.08,1306.28 1244.17,1305.54 1246.26,1304.78 1248.35,1304.03 1250.44,1303.27 1252.52,1302.51 1254.61,1301.74 1256.7,1300.97 1258.79,1300.2 1260.88,1299.43 1262.96,1298.65 1265.05,1297.87 1267.14,1297.09 1269.23,1296.3 1271.31,1295.51 1273.4,1294.72 1275.49,1293.92 1277.58,1293.12 1279.67,1292.32 1281.75,1291.51 1283.84,1290.7 1285.93,1289.89 1288.02,1289.07 1290.11,1288.25 1292.19,1287.43 1294.28,1286.6 1296.37,1285.77 1298.46,1284.94 1300.54,1284.1 1302.63,1283.26 1304.72,1282.42 1306.81,1281.57 1308.9,1280.72 1310.98,1279.87 1313.07,1279.01 1315.16,1278.15 1317.25,1277.28 1319.34,1276.41 1321.42,1275.54 1323.51,1274.67 1325.6,1273.79 1327.69,1272.91 1329.77,1272.02 1331.86,1271.13 1333.95,1270.24 1336.04,1269.34 1338.13,1268.44 1340.21,1267.54 1342.3,1266.63 1344.39,1265.72 1346.48,1264.8 1348.56,1263.88 1350.65,1262.96 1352.74,1262.03 1354.83,1261.1 1356.92,1260.17 1359,1259.23 1361.09,1258.29 1363.18,1257.34 1365.27,1256.39 1367.36,1255.44 1369.44,1254.48 1371.53,1253.52 1373.62,1252.56 1375.71,1251.59 1377.79,1250.62 1379.88,1249.64 1381.97,1248.66 1384.06,1247.67 1386.15,1246.68 1388.23,1245.69 1390.32,1244.7 1392.41,1243.69 1394.5,1242.69 1396.59,1241.68 1398.67,1240.67 1400.76,1239.65 1402.85,1238.63 1404.94,1237.6 1407.02,1236.57 1409.11,1235.54 1411.2,1234.5 1413.29,1233.46 1415.38,1232.41 1417.46,1231.36 1419.55,1230.31 1421.64,1229.25 1423.73,1228.18 1425.82,1227.12 1427.9,1226.04 1429.99,1224.97 1432.08,1223.89 1434.17,1222.8 1436.25,1221.71 1438.34,1220.62 1440.43,1219.52 1442.52,1218.42 1444.61,1217.31 1446.69,1216.2 1448.78,1215.08 1450.87,1213.96 1452.96,1212.83 1455.05,1211.7 1457.13,1210.57 1459.22,1209.43 1461.31,1208.29 1463.4,1207.14 1465.48,1205.99 1467.57,1204.83 1469.66,1203.67 1471.75,1202.5 1473.84,1201.33 1475.92,1200.15 1478.01,1198.97 1480.1,1197.78 1482.19,1196.59 1484.27,1195.39 1486.36,1194.19 1488.45,1192.99 1490.54,1191.78 1492.63,1190.56 1494.71,1189.34 1496.8,1188.12 1498.89,1186.89 1500.98,1185.65 1503.07,1184.41 1505.15,1183.17 1507.24,1181.92 1509.33,1180.66 1511.42,1179.4 1513.5,1178.14 1515.59,1176.87 1517.68,1175.59 1519.77,1174.31 1521.86,1173.02 1523.94,1171.73 1526.03,1170.44 1528.12,1169.14 1530.21,1167.83 1532.3,1166.52 1534.38,1165.2 1536.47,1163.88 1538.56,1162.55 1540.65,1161.22 1542.73,1159.88 1544.82,1158.53 1546.91,1157.18 1549,1155.83 1551.09,1154.47 1553.17,1153.1 1555.26,1151.73 1557.35,1150.35 1559.44,1148.97 1561.53,1147.58 1563.61,1146.19 1565.7,1144.79 1567.79,1143.38 1569.88,1141.97 1571.96,1140.56 1574.05,1139.14 1576.14,1137.71 1578.23,1136.27 1580.32,1134.83 1582.4,1133.39 1584.49,1131.94 1586.58,1130.48 1588.67,1129.02 1590.75,1127.55 1592.84,1126.08 1594.93,1124.59 1597.02,1123.11 1599.11,1121.62 1601.19,1120.12 1603.28,1118.61 1605.37,1117.1 1607.46,1115.59 1609.55,1114.06 1611.63,1112.53 1613.72,1111 1615.81,1109.46 1617.9,1107.91 1619.98,1106.36 1622.07,1104.8 1624.16,1103.23 1626.25,1101.66 1628.34,1100.08 1630.42,1098.49 1632.51,1096.9 1634.6,1095.3 1636.69,1093.7 1638.78,1092.09 1640.86,1090.47 1642.95,1088.85 1645.04,1087.22 1647.13,1085.58 1649.21,1083.94 1651.3,1082.29 1653.39,1080.63 1655.48,1078.97 1657.57,1077.3 1659.65,1075.62 1661.74,1073.93 1663.83,1072.24 1665.92,1070.55 1668.01,1068.84 1670.09,1067.13 1672.18,1065.41 1674.27,1063.69 1676.36,1061.96 1678.44,1060.22 1680.53,1058.47 1682.62,1056.72 1684.71,1054.96 1686.8,1053.19 1688.88,1051.42 1690.97,1049.64 1693.06,1047.85 1695.15,1046.05 1697.24,1044.25 1699.32,1042.44 1701.41,1040.62 1703.5,1038.8 1705.59,1036.97 1707.67,1035.13 1709.76,1033.28 1711.85,1031.43 1713.94,1029.57 1716.03,1027.7 1718.11,1025.82 1720.2,1023.94 1722.29,1022.04 1724.38,1020.14 1726.46,1018.24 1728.55,1016.32 1730.64,1014.4 1732.73,1012.47 1734.82,1010.53 1736.9,1008.59 1738.99,1006.63 1741.08,1004.67 1743.17,1002.7 1745.26,1000.73 1747.34,998.74 1749.43,996.747 1751.52,994.746 1753.61,992.737 1755.69,990.72 1757.78,988.695 1759.87,986.661 1761.96,984.62 1764.05,982.57 1766.13,980.512 1768.22,978.445 1770.31,976.371 1772.4,974.288 1774.49,972.196 1776.57,970.096 1778.66,967.988 1780.75,965.871 1782.84,963.746 1784.92,961.613 1787.01,959.47 1789.1,957.319 1791.19,955.16 1793.28,952.991 1795.36,950.814 1797.45,948.629 1799.54,946.434 1801.63,944.231 1803.72,942.019 1805.8,939.797 1807.89,937.567 1809.98,935.328 1812.07,933.08 1814.15,930.823 1816.24,928.557 1818.33,926.282 1820.42,923.998 1822.51,921.704 1824.59,919.402 1826.68,917.09 1828.77,914.768 1830.86,912.438 1832.95,910.098 1835.03,907.748 1837.12,905.39 1839.21,903.021 1841.3,900.643 1843.38,898.256 1845.47,895.859 1847.56,893.453 1849.65,891.036 1851.74,888.61 1853.82,886.175 1855.91,883.729 1858,881.274 1860.09,878.809 1862.17,876.334 1864.26,873.849 1866.35,871.354 1868.44,868.849 1870.53,866.333 1872.61,863.808 1874.7,861.273 1876.79,858.727 1878.88,856.172 1880.97,853.606 1883.05,851.029 1885.14,848.443 1887.23,845.846 1889.32,843.238 1891.4,840.62 1893.49,837.992 1895.58,835.353 1897.67,832.703 1899.76,830.043 1901.84,827.372 1903.93,824.69 1906.02,821.998 1908.11,819.294 1910.2,816.58 1912.28,813.855 1914.37,811.119 1916.46,808.372 1918.55,805.614 1920.63,802.845 1922.72,800.065 1924.81,797.273 1926.9,794.471 1928.99,791.657 1931.07,788.832 1933.16,785.995 1935.25,783.148 1937.34,780.288 1939.43,777.417 1941.51,774.535 1943.6,771.641 1945.69,768.736 1947.78,765.819 1949.86,762.89 1951.95,759.949 1954.04,756.997 1956.13,754.032 1958.22,751.056 1960.3,748.068 1962.39,745.068 1964.48,742.055 1966.57,739.031 1968.65,735.995 1970.74,732.946 1972.83,729.885 1974.92,726.812 1977.01,723.726 1979.09,720.629 1981.18,717.518 1983.27,714.395 1985.36,711.26 1987.45,708.112 1989.53,704.951 1991.62,701.778 1993.71,698.592 1995.8,695.393 1997.88,692.182 1999.97,688.957 2002.06,685.72 2004.15,682.469 2006.24,679.206 2008.32,675.929 2010.41,672.639 2012.5,669.336 2014.59,666.02 2016.68,662.69 2018.76,659.347 2020.85,655.991 2022.94,652.621 2025.03,649.238 2027.11,645.841 2029.2,642.43 2031.29,639.006 2033.38,635.568 2035.47,632.116 2037.55,628.65 2039.64,625.171 2041.73,621.677 2043.82,618.169 2045.91,614.648 2047.99,611.112 2050.08,607.562 2052.17,603.998 2054.26,600.419 2056.34,596.826 2058.43,593.219 2060.52,589.597 2062.61,585.961 2064.7,582.31 2066.78,578.644 2068.87,574.964 2070.96,571.269 2073.05,567.559 2075.14,563.834 2077.22,560.094 2079.31,556.339 2081.4,552.569 2083.49,548.784 2085.57,544.984 2087.66,541.169 2089.75,537.338 2091.84,533.492 2093.93,529.63 2096.01,525.753 2098.1,521.861 2100.19,517.952 2102.28,514.028 2104.36,510.089 2106.45,506.133 2108.54,502.162 2110.63,498.174 2112.72,494.171 2114.8,490.152 2116.89,486.116 2118.98,482.064 2121.07,477.996 2123.16,473.912 2125.24,469.811 2127.33,465.694 2129.42,461.561 2131.51,457.41 2133.59,453.243 2135.68,449.06 2137.77,444.859 2139.86,440.642 2141.95,436.408 2144.03,432.156 2146.12,427.888 2148.21,423.603 2150.3,419.3 2152.39,414.98 2154.47,410.643 2156.56,406.288 2158.65,401.916 2160.74,397.527 2162.82,393.119 2164.91,388.694 2167,384.252 2169.09,379.791 2171.18,375.313 2173.26,370.816 2175.35,366.302 2177.44,361.769 2179.53,357.218 2181.62,352.649 2183.7,348.062 2185.79,343.456 2187.88,338.832 2189.97,334.189 2192.05,329.528 2194.14,324.847 2196.23,320.148 2198.32,315.431 2200.41,310.694 2202.49,305.938 2204.58,301.163 2206.67,296.369 2208.76,291.556 2210.85,286.723 2212.93,281.872 2215.02,277 2217.11,272.109 2219.2,267.199 2221.28,262.268 2223.37,257.318 2225.46,252.348 2227.55,247.358 2229.64,242.348 2231.72,237.318 2233.81,232.268 2235.9,227.198 2237.99,222.107 2240.07,216.996 2242.16,211.864 2244.25,206.712 2246.34,201.538 2248.43,196.345 2250.51,191.13 2252.6,185.895 2254.69,180.638 2256.78,175.36 2258.87,170.061 2260.95,164.741 2263.04,159.4 2265.13,154.037 2267.22,148.653 2269.3,143.247 2271.39,137.819 2273.48,132.369 2275.57,126.898 2277.66,121.405 2279.74,115.889 2281.83,110.352 2283.92,104.792 2286.01,99.2102 2288.1,93.6058 2290.18,87.9789 \"/>\n",
       "<path clip-path=\"url(#clip560)\" d=\"M215.55 250.738 L535.829 250.738 L535.829 95.2176 L215.55 95.2176  Z\" fill=\"#ffffff\" fill-rule=\"evenodd\" fill-opacity=\"1\"/>\n",
       "<polyline clip-path=\"url(#clip560)\" style=\"stroke:#000000; stroke-linecap:round; stroke-linejoin:round; stroke-width:4; stroke-opacity:1; fill:none\" points=\"215.55,250.738 535.829,250.738 535.829,95.2176 215.55,95.2176 215.55,250.738 \"/>\n",
       "<polyline clip-path=\"url(#clip560)\" style=\"stroke:#009af9; stroke-linecap:round; stroke-linejoin:round; stroke-width:4; stroke-opacity:1; fill:none\" points=\"240.115,147.058 387.509,147.058 \"/>\n",
       "<path clip-path=\"url(#clip560)\" d=\"M416.357 160.449 L416.357 174.199 L412.074 174.199 L412.074 138.412 L416.357 138.412 L416.357 142.347 Q417.699 140.032 419.736 138.921 Q421.797 137.787 424.644 137.787 Q429.366 137.787 432.306 141.537 Q435.269 145.287 435.269 151.398 Q435.269 157.509 432.306 161.259 Q429.366 165.009 424.644 165.009 Q421.797 165.009 419.736 163.898 Q417.699 162.763 416.357 160.449 M430.847 151.398 Q430.847 146.699 428.903 144.037 Q426.982 141.352 423.602 141.352 Q420.223 141.352 418.278 144.037 Q416.357 146.699 416.357 151.398 Q416.357 156.097 418.278 158.782 Q420.223 161.444 423.602 161.444 Q426.982 161.444 428.903 158.782 Q430.847 156.097 430.847 151.398 Z\" fill=\"#000000\" fill-rule=\"nonzero\" fill-opacity=\"1\" /><path clip-path=\"url(#clip560)\" d=\"M457.352 142.393 Q456.634 141.977 455.778 141.791 Q454.945 141.583 453.926 141.583 Q450.315 141.583 448.371 143.944 Q446.449 146.282 446.449 150.68 L446.449 164.338 L442.167 164.338 L442.167 138.412 L446.449 138.412 L446.449 142.44 Q447.792 140.078 449.945 138.944 Q452.097 137.787 455.176 137.787 Q455.616 137.787 456.148 137.856 Q456.681 137.903 457.329 138.018 L457.352 142.393 Z\" fill=\"#000000\" fill-rule=\"nonzero\" fill-opacity=\"1\" /><path clip-path=\"url(#clip560)\" d=\"M482.954 150.31 L482.954 152.393 L463.37 152.393 Q463.648 156.791 466.009 159.106 Q468.394 161.398 472.63 161.398 Q475.083 161.398 477.375 160.796 Q479.69 160.194 481.958 158.99 L481.958 163.018 Q479.667 163.99 477.259 164.5 Q474.852 165.009 472.375 165.009 Q466.171 165.009 462.537 161.398 Q458.926 157.787 458.926 151.629 Q458.926 145.264 462.352 141.537 Q465.801 137.787 471.634 137.787 Q476.866 137.787 479.898 141.166 Q482.954 144.523 482.954 150.31 M478.694 149.06 Q478.648 145.565 476.727 143.481 Q474.829 141.398 471.681 141.398 Q468.116 141.398 465.963 143.412 Q463.833 145.426 463.509 149.083 L478.694 149.06 Z\" fill=\"#000000\" fill-rule=\"nonzero\" fill-opacity=\"1\" /><path clip-path=\"url(#clip560)\" d=\"M507.004 142.347 L507.004 128.319 L511.264 128.319 L511.264 164.338 L507.004 164.338 L507.004 160.449 Q505.662 162.763 503.602 163.898 Q501.565 165.009 498.694 165.009 Q493.995 165.009 491.032 161.259 Q488.093 157.509 488.093 151.398 Q488.093 145.287 491.032 141.537 Q493.995 137.787 498.694 137.787 Q501.565 137.787 503.602 138.921 Q505.662 140.032 507.004 142.347 M492.491 151.398 Q492.491 156.097 494.412 158.782 Q496.356 161.444 499.736 161.444 Q503.116 161.444 505.06 158.782 Q507.004 156.097 507.004 151.398 Q507.004 146.699 505.06 144.037 Q503.116 141.352 499.736 141.352 Q496.356 141.352 494.412 144.037 Q492.491 146.699 492.491 151.398 Z\" fill=\"#000000\" fill-rule=\"nonzero\" fill-opacity=\"1\" /><polyline clip-path=\"url(#clip560)\" style=\"stroke:#e26f46; stroke-linecap:round; stroke-linejoin:round; stroke-width:4; stroke-opacity:1; fill:none\" points=\"240.115,198.898 387.509,198.898 \"/>\n",
       "<path clip-path=\"url(#clip560)\" d=\"M419.482 182.891 L419.482 190.252 L428.255 190.252 L428.255 193.562 L419.482 193.562 L419.482 207.636 Q419.482 210.807 420.338 211.71 Q421.218 212.613 423.88 212.613 L428.255 212.613 L428.255 216.178 L423.88 216.178 Q418.949 216.178 417.074 214.349 Q415.199 212.497 415.199 207.636 L415.199 193.562 L412.074 193.562 L412.074 190.252 L415.199 190.252 L415.199 182.891 L419.482 182.891 Z\" fill=\"#000000\" fill-rule=\"nonzero\" fill-opacity=\"1\" /><path clip-path=\"url(#clip560)\" d=\"M448.88 194.233 Q448.162 193.817 447.306 193.631 Q446.472 193.423 445.454 193.423 Q441.843 193.423 439.898 195.784 Q437.977 198.122 437.977 202.52 L437.977 216.178 L433.695 216.178 L433.695 190.252 L437.977 190.252 L437.977 194.28 Q439.32 191.918 441.472 190.784 Q443.625 189.627 446.704 189.627 Q447.144 189.627 447.676 189.696 Q448.208 189.743 448.857 189.858 L448.88 194.233 Z\" fill=\"#000000\" fill-rule=\"nonzero\" fill-opacity=\"1\" /><path clip-path=\"url(#clip560)\" d=\"M452.908 205.946 L452.908 190.252 L457.167 190.252 L457.167 205.784 Q457.167 209.465 458.602 211.316 Q460.037 213.145 462.907 213.145 Q466.357 213.145 468.347 210.946 Q470.361 208.747 470.361 204.951 L470.361 190.252 L474.62 190.252 L474.62 216.178 L470.361 216.178 L470.361 212.196 Q468.81 214.557 466.75 215.715 Q464.713 216.849 462.005 216.849 Q457.537 216.849 455.222 214.071 Q452.908 211.293 452.908 205.946 M463.625 189.627 L463.625 189.627 Z\" fill=\"#000000\" fill-rule=\"nonzero\" fill-opacity=\"1\" /><path clip-path=\"url(#clip560)\" d=\"M505.569 202.15 L505.569 204.233 L485.986 204.233 Q486.264 208.631 488.625 210.946 Q491.009 213.238 495.245 213.238 Q497.699 213.238 499.991 212.636 Q502.305 212.034 504.574 210.83 L504.574 214.858 Q502.282 215.83 499.875 216.34 Q497.467 216.849 494.991 216.849 Q488.787 216.849 485.153 213.238 Q481.542 209.627 481.542 203.469 Q481.542 197.104 484.968 193.377 Q488.417 189.627 494.25 189.627 Q499.481 189.627 502.514 193.006 Q505.569 196.363 505.569 202.15 M501.31 200.9 Q501.264 197.405 499.342 195.321 Q497.444 193.238 494.296 193.238 Q490.731 193.238 488.579 195.252 Q486.449 197.266 486.125 200.923 L501.31 200.9 Z\" fill=\"#000000\" fill-rule=\"nonzero\" fill-opacity=\"1\" /></svg>\n"
      ],
      "text/html": [
       "<?xml version=\"1.0\" encoding=\"utf-8\"?>\n",
       "<svg xmlns=\"http://www.w3.org/2000/svg\" xmlns:xlink=\"http://www.w3.org/1999/xlink\" width=\"600\" height=\"400\" viewBox=\"0 0 2400 1600\">\n",
       "<defs>\n",
       "  <clipPath id=\"clip610\">\n",
       "    <rect x=\"0\" y=\"0\" width=\"2400\" height=\"1600\"/>\n",
       "  </clipPath>\n",
       "</defs>\n",
       "<path clip-path=\"url(#clip610)\" d=\"M0 1600 L2400 1600 L2400 0 L0 0  Z\" fill=\"#ffffff\" fill-rule=\"evenodd\" fill-opacity=\"1\"/>\n",
       "<defs>\n",
       "  <clipPath id=\"clip611\">\n",
       "    <rect x=\"480\" y=\"0\" width=\"1681\" height=\"1600\"/>\n",
       "  </clipPath>\n",
       "</defs>\n",
       "<path clip-path=\"url(#clip610)\" d=\"M141.853 1486.45 L2352.76 1486.45 L2352.76 47.2441 L141.853 47.2441  Z\" fill=\"#ffffff\" fill-rule=\"evenodd\" fill-opacity=\"1\"/>\n",
       "<defs>\n",
       "  <clipPath id=\"clip612\">\n",
       "    <rect x=\"141\" y=\"47\" width=\"2212\" height=\"1440\"/>\n",
       "  </clipPath>\n",
       "</defs>\n",
       "<polyline clip-path=\"url(#clip612)\" style=\"stroke:#000000; stroke-linecap:round; stroke-linejoin:round; stroke-width:2; stroke-opacity:0.1; fill:none\" points=\"204.426,1486.45 204.426,47.2441 \"/>\n",
       "<polyline clip-path=\"url(#clip612)\" style=\"stroke:#000000; stroke-linecap:round; stroke-linejoin:round; stroke-width:2; stroke-opacity:0.1; fill:none\" points=\"725.865,1486.45 725.865,47.2441 \"/>\n",
       "<polyline clip-path=\"url(#clip612)\" style=\"stroke:#000000; stroke-linecap:round; stroke-linejoin:round; stroke-width:2; stroke-opacity:0.1; fill:none\" points=\"1247.3,1486.45 1247.3,47.2441 \"/>\n",
       "<polyline clip-path=\"url(#clip612)\" style=\"stroke:#000000; stroke-linecap:round; stroke-linejoin:round; stroke-width:2; stroke-opacity:0.1; fill:none\" points=\"1768.74,1486.45 1768.74,47.2441 \"/>\n",
       "<polyline clip-path=\"url(#clip612)\" style=\"stroke:#000000; stroke-linecap:round; stroke-linejoin:round; stroke-width:2; stroke-opacity:0.1; fill:none\" points=\"2290.18,1486.45 2290.18,47.2441 \"/>\n",
       "<polyline clip-path=\"url(#clip610)\" style=\"stroke:#000000; stroke-linecap:round; stroke-linejoin:round; stroke-width:4; stroke-opacity:1; fill:none\" points=\"141.853,1486.45 2352.76,1486.45 \"/>\n",
       "<polyline clip-path=\"url(#clip610)\" style=\"stroke:#000000; stroke-linecap:round; stroke-linejoin:round; stroke-width:4; stroke-opacity:1; fill:none\" points=\"204.426,1486.45 204.426,1467.55 \"/>\n",
       "<polyline clip-path=\"url(#clip610)\" style=\"stroke:#000000; stroke-linecap:round; stroke-linejoin:round; stroke-width:4; stroke-opacity:1; fill:none\" points=\"725.865,1486.45 725.865,1467.55 \"/>\n",
       "<polyline clip-path=\"url(#clip610)\" style=\"stroke:#000000; stroke-linecap:round; stroke-linejoin:round; stroke-width:4; stroke-opacity:1; fill:none\" points=\"1247.3,1486.45 1247.3,1467.55 \"/>\n",
       "<polyline clip-path=\"url(#clip610)\" style=\"stroke:#000000; stroke-linecap:round; stroke-linejoin:round; stroke-width:4; stroke-opacity:1; fill:none\" points=\"1768.74,1486.45 1768.74,1467.55 \"/>\n",
       "<polyline clip-path=\"url(#clip610)\" style=\"stroke:#000000; stroke-linecap:round; stroke-linejoin:round; stroke-width:4; stroke-opacity:1; fill:none\" points=\"2290.18,1486.45 2290.18,1467.55 \"/>\n",
       "<path clip-path=\"url(#clip610)\" d=\"M181.81 1517.37 Q178.199 1517.37 176.37 1520.93 Q174.565 1524.47 174.565 1531.6 Q174.565 1538.71 176.37 1542.27 Q178.199 1545.82 181.81 1545.82 Q185.444 1545.82 187.25 1542.27 Q189.079 1538.71 189.079 1531.6 Q189.079 1524.47 187.25 1520.93 Q185.444 1517.37 181.81 1517.37 M181.81 1513.66 Q187.62 1513.66 190.676 1518.27 Q193.754 1522.85 193.754 1531.6 Q193.754 1540.33 190.676 1544.94 Q187.62 1549.52 181.81 1549.52 Q176 1549.52 172.921 1544.94 Q169.866 1540.33 169.866 1531.6 Q169.866 1522.85 172.921 1518.27 Q176 1513.66 181.81 1513.66 Z\" fill=\"#000000\" fill-rule=\"nonzero\" fill-opacity=\"1\" /><path clip-path=\"url(#clip610)\" d=\"M201.972 1542.97 L206.856 1542.97 L206.856 1548.85 L201.972 1548.85 L201.972 1542.97 Z\" fill=\"#000000\" fill-rule=\"nonzero\" fill-opacity=\"1\" /><path clip-path=\"url(#clip610)\" d=\"M227.041 1517.37 Q223.43 1517.37 221.602 1520.93 Q219.796 1524.47 219.796 1531.6 Q219.796 1538.71 221.602 1542.27 Q223.43 1545.82 227.041 1545.82 Q230.676 1545.82 232.481 1542.27 Q234.31 1538.71 234.31 1531.6 Q234.31 1524.47 232.481 1520.93 Q230.676 1517.37 227.041 1517.37 M227.041 1513.66 Q232.851 1513.66 235.907 1518.27 Q238.986 1522.85 238.986 1531.6 Q238.986 1540.33 235.907 1544.94 Q232.851 1549.52 227.041 1549.52 Q221.231 1549.52 218.152 1544.94 Q215.097 1540.33 215.097 1531.6 Q215.097 1522.85 218.152 1518.27 Q221.231 1513.66 227.041 1513.66 Z\" fill=\"#000000\" fill-rule=\"nonzero\" fill-opacity=\"1\" /><path clip-path=\"url(#clip610)\" d=\"M703.747 1517.37 Q700.136 1517.37 698.307 1520.93 Q696.502 1524.47 696.502 1531.6 Q696.502 1538.71 698.307 1542.27 Q700.136 1545.82 703.747 1545.82 Q707.381 1545.82 709.187 1542.27 Q711.016 1538.71 711.016 1531.6 Q711.016 1524.47 709.187 1520.93 Q707.381 1517.37 703.747 1517.37 M703.747 1513.66 Q709.557 1513.66 712.613 1518.27 Q715.691 1522.85 715.691 1531.6 Q715.691 1540.33 712.613 1544.94 Q709.557 1549.52 703.747 1549.52 Q697.937 1549.52 694.858 1544.94 Q691.803 1540.33 691.803 1531.6 Q691.803 1522.85 694.858 1518.27 Q697.937 1513.66 703.747 1513.66 Z\" fill=\"#000000\" fill-rule=\"nonzero\" fill-opacity=\"1\" /><path clip-path=\"url(#clip610)\" d=\"M723.909 1542.97 L728.793 1542.97 L728.793 1548.85 L723.909 1548.85 L723.909 1542.97 Z\" fill=\"#000000\" fill-rule=\"nonzero\" fill-opacity=\"1\" /><path clip-path=\"url(#clip610)\" d=\"M739.025 1514.29 L757.381 1514.29 L757.381 1518.22 L743.307 1518.22 L743.307 1526.7 Q744.326 1526.35 745.344 1526.19 Q746.363 1526 747.381 1526 Q753.168 1526 756.548 1529.17 Q759.927 1532.34 759.927 1537.76 Q759.927 1543.34 756.455 1546.44 Q752.983 1549.52 746.664 1549.52 Q744.488 1549.52 742.219 1549.15 Q739.974 1548.78 737.566 1548.04 L737.566 1543.34 Q739.65 1544.47 741.872 1545.03 Q744.094 1545.58 746.571 1545.58 Q750.576 1545.58 752.914 1543.48 Q755.251 1541.37 755.251 1537.76 Q755.251 1534.15 752.914 1532.04 Q750.576 1529.94 746.571 1529.94 Q744.696 1529.94 742.821 1530.35 Q740.969 1530.77 739.025 1531.65 L739.025 1514.29 Z\" fill=\"#000000\" fill-rule=\"nonzero\" fill-opacity=\"1\" /><path clip-path=\"url(#clip610)\" d=\"M1214.46 1544.91 L1222.1 1544.91 L1222.1 1518.55 L1213.79 1520.21 L1213.79 1515.95 L1222.05 1514.29 L1226.73 1514.29 L1226.73 1544.91 L1234.36 1544.91 L1234.36 1548.85 L1214.46 1548.85 L1214.46 1544.91 Z\" fill=\"#000000\" fill-rule=\"nonzero\" fill-opacity=\"1\" /><path clip-path=\"url(#clip610)\" d=\"M1243.81 1542.97 L1248.69 1542.97 L1248.69 1548.85 L1243.81 1548.85 L1243.81 1542.97 Z\" fill=\"#000000\" fill-rule=\"nonzero\" fill-opacity=\"1\" /><path clip-path=\"url(#clip610)\" d=\"M1268.88 1517.37 Q1265.27 1517.37 1263.44 1520.93 Q1261.63 1524.47 1261.63 1531.6 Q1261.63 1538.71 1263.44 1542.27 Q1265.27 1545.82 1268.88 1545.82 Q1272.51 1545.82 1274.32 1542.27 Q1276.15 1538.71 1276.15 1531.6 Q1276.15 1524.47 1274.32 1520.93 Q1272.51 1517.37 1268.88 1517.37 M1268.88 1513.66 Q1274.69 1513.66 1277.74 1518.27 Q1280.82 1522.85 1280.82 1531.6 Q1280.82 1540.33 1277.74 1544.94 Q1274.69 1549.52 1268.88 1549.52 Q1263.07 1549.52 1259.99 1544.94 Q1256.93 1540.33 1256.93 1531.6 Q1256.93 1522.85 1259.99 1518.27 Q1263.07 1513.66 1268.88 1513.66 Z\" fill=\"#000000\" fill-rule=\"nonzero\" fill-opacity=\"1\" /><path clip-path=\"url(#clip610)\" d=\"M1736.39 1544.91 L1744.03 1544.91 L1744.03 1518.55 L1735.72 1520.21 L1735.72 1515.95 L1743.99 1514.29 L1748.66 1514.29 L1748.66 1544.91 L1756.3 1544.91 L1756.3 1548.85 L1736.39 1548.85 L1736.39 1544.91 Z\" fill=\"#000000\" fill-rule=\"nonzero\" fill-opacity=\"1\" /><path clip-path=\"url(#clip610)\" d=\"M1765.75 1542.97 L1770.63 1542.97 L1770.63 1548.85 L1765.75 1548.85 L1765.75 1542.97 Z\" fill=\"#000000\" fill-rule=\"nonzero\" fill-opacity=\"1\" /><path clip-path=\"url(#clip610)\" d=\"M1780.86 1514.29 L1799.22 1514.29 L1799.22 1518.22 L1785.14 1518.22 L1785.14 1526.7 Q1786.16 1526.35 1787.18 1526.19 Q1788.2 1526 1789.22 1526 Q1795.01 1526 1798.38 1529.17 Q1801.76 1532.34 1801.76 1537.76 Q1801.76 1543.34 1798.29 1546.44 Q1794.82 1549.52 1788.5 1549.52 Q1786.32 1549.52 1784.06 1549.15 Q1781.81 1548.78 1779.4 1548.04 L1779.4 1543.34 Q1781.49 1544.47 1783.71 1545.03 Q1785.93 1545.58 1788.41 1545.58 Q1792.41 1545.58 1794.75 1543.48 Q1797.09 1541.37 1797.09 1537.76 Q1797.09 1534.15 1794.75 1532.04 Q1792.41 1529.94 1788.41 1529.94 Q1786.53 1529.94 1784.66 1530.35 Q1782.81 1530.77 1780.86 1531.65 L1780.86 1514.29 Z\" fill=\"#000000\" fill-rule=\"nonzero\" fill-opacity=\"1\" /><path clip-path=\"url(#clip610)\" d=\"M2261.42 1544.91 L2277.74 1544.91 L2277.74 1548.85 L2255.8 1548.85 L2255.8 1544.91 Q2258.46 1542.16 2263.04 1537.53 Q2267.65 1532.88 2268.83 1531.53 Q2271.07 1529.01 2271.95 1527.27 Q2272.86 1525.51 2272.86 1523.82 Q2272.86 1521.07 2270.91 1519.33 Q2268.99 1517.6 2265.89 1517.6 Q2263.69 1517.6 2261.24 1518.36 Q2258.81 1519.13 2256.03 1520.68 L2256.03 1515.95 Q2258.85 1514.82 2261.31 1514.24 Q2263.76 1513.66 2265.8 1513.66 Q2271.17 1513.66 2274.36 1516.35 Q2277.56 1519.03 2277.56 1523.52 Q2277.56 1525.65 2276.75 1527.57 Q2275.96 1529.47 2273.85 1532.07 Q2273.27 1532.74 2270.17 1535.95 Q2267.07 1539.15 2261.42 1544.91 Z\" fill=\"#000000\" fill-rule=\"nonzero\" fill-opacity=\"1\" /><path clip-path=\"url(#clip610)\" d=\"M2287.56 1542.97 L2292.44 1542.97 L2292.44 1548.85 L2287.56 1548.85 L2287.56 1542.97 Z\" fill=\"#000000\" fill-rule=\"nonzero\" fill-opacity=\"1\" /><path clip-path=\"url(#clip610)\" d=\"M2312.63 1517.37 Q2309.01 1517.37 2307.19 1520.93 Q2305.38 1524.47 2305.38 1531.6 Q2305.38 1538.71 2307.19 1542.27 Q2309.01 1545.82 2312.63 1545.82 Q2316.26 1545.82 2318.06 1542.27 Q2319.89 1538.71 2319.89 1531.6 Q2319.89 1524.47 2318.06 1520.93 Q2316.26 1517.37 2312.63 1517.37 M2312.63 1513.66 Q2318.44 1513.66 2321.49 1518.27 Q2324.57 1522.85 2324.57 1531.6 Q2324.57 1540.33 2321.49 1544.94 Q2318.44 1549.52 2312.63 1549.52 Q2306.82 1549.52 2303.74 1544.94 Q2300.68 1540.33 2300.68 1531.6 Q2300.68 1522.85 2303.74 1518.27 Q2306.82 1513.66 2312.63 1513.66 Z\" fill=\"#000000\" fill-rule=\"nonzero\" fill-opacity=\"1\" /><polyline clip-path=\"url(#clip612)\" style=\"stroke:#000000; stroke-linecap:round; stroke-linejoin:round; stroke-width:2; stroke-opacity:0.1; fill:none\" points=\"141.853,1238.35 2352.76,1238.35 \"/>\n",
       "<polyline clip-path=\"url(#clip612)\" style=\"stroke:#000000; stroke-linecap:round; stroke-linejoin:round; stroke-width:2; stroke-opacity:0.1; fill:none\" points=\"141.853,980.42 2352.76,980.42 \"/>\n",
       "<polyline clip-path=\"url(#clip612)\" style=\"stroke:#000000; stroke-linecap:round; stroke-linejoin:round; stroke-width:2; stroke-opacity:0.1; fill:none\" points=\"141.853,722.494 2352.76,722.494 \"/>\n",
       "<polyline clip-path=\"url(#clip612)\" style=\"stroke:#000000; stroke-linecap:round; stroke-linejoin:round; stroke-width:2; stroke-opacity:0.1; fill:none\" points=\"141.853,464.568 2352.76,464.568 \"/>\n",
       "<polyline clip-path=\"url(#clip612)\" style=\"stroke:#000000; stroke-linecap:round; stroke-linejoin:round; stroke-width:2; stroke-opacity:0.1; fill:none\" points=\"141.853,206.641 2352.76,206.641 \"/>\n",
       "<polyline clip-path=\"url(#clip610)\" style=\"stroke:#000000; stroke-linecap:round; stroke-linejoin:round; stroke-width:4; stroke-opacity:1; fill:none\" points=\"141.853,1486.45 141.853,47.2441 \"/>\n",
       "<polyline clip-path=\"url(#clip610)\" style=\"stroke:#000000; stroke-linecap:round; stroke-linejoin:round; stroke-width:4; stroke-opacity:1; fill:none\" points=\"141.853,1238.35 160.751,1238.35 \"/>\n",
       "<polyline clip-path=\"url(#clip610)\" style=\"stroke:#000000; stroke-linecap:round; stroke-linejoin:round; stroke-width:4; stroke-opacity:1; fill:none\" points=\"141.853,980.42 160.751,980.42 \"/>\n",
       "<polyline clip-path=\"url(#clip610)\" style=\"stroke:#000000; stroke-linecap:round; stroke-linejoin:round; stroke-width:4; stroke-opacity:1; fill:none\" points=\"141.853,722.494 160.751,722.494 \"/>\n",
       "<polyline clip-path=\"url(#clip610)\" style=\"stroke:#000000; stroke-linecap:round; stroke-linejoin:round; stroke-width:4; stroke-opacity:1; fill:none\" points=\"141.853,464.568 160.751,464.568 \"/>\n",
       "<polyline clip-path=\"url(#clip610)\" style=\"stroke:#000000; stroke-linecap:round; stroke-linejoin:round; stroke-width:4; stroke-opacity:1; fill:none\" points=\"141.853,206.641 160.751,206.641 \"/>\n",
       "<path clip-path=\"url(#clip610)\" d=\"M54.5569 1251.69 L62.1958 1251.69 L62.1958 1225.33 L53.8856 1226.99 L53.8856 1222.73 L62.1495 1221.07 L66.8254 1221.07 L66.8254 1251.69 L74.4642 1251.69 L74.4642 1255.63 L54.5569 1255.63 L54.5569 1251.69 Z\" fill=\"#000000\" fill-rule=\"nonzero\" fill-opacity=\"1\" /><path clip-path=\"url(#clip610)\" d=\"M93.9086 1224.15 Q90.2975 1224.15 88.4688 1227.71 Q86.6632 1231.25 86.6632 1238.38 Q86.6632 1245.49 88.4688 1249.05 Q90.2975 1252.59 93.9086 1252.59 Q97.5428 1252.59 99.3483 1249.05 Q101.177 1245.49 101.177 1238.38 Q101.177 1231.25 99.3483 1227.71 Q97.5428 1224.15 93.9086 1224.15 M93.9086 1220.44 Q99.7187 1220.44 102.774 1225.05 Q105.853 1229.63 105.853 1238.38 Q105.853 1247.11 102.774 1251.71 Q99.7187 1256.3 93.9086 1256.3 Q88.0984 1256.3 85.0197 1251.71 Q81.9642 1247.11 81.9642 1238.38 Q81.9642 1229.63 85.0197 1225.05 Q88.0984 1220.44 93.9086 1220.44 Z\" fill=\"#000000\" fill-rule=\"nonzero\" fill-opacity=\"1\" /><path clip-path=\"url(#clip610)\" d=\"M57.7745 993.765 L74.0939 993.765 L74.0939 997.7 L52.1495 997.7 L52.1495 993.765 Q54.8115 991.01 59.3949 986.381 Q64.0013 981.728 65.1819 980.385 Q67.4272 977.862 68.3068 976.126 Q69.2096 974.367 69.2096 972.677 Q69.2096 969.923 67.2652 968.186 Q65.3439 966.45 62.2421 966.45 Q60.043 966.45 57.5893 967.214 Q55.1588 967.978 52.381 969.529 L52.381 964.807 Q55.2051 963.673 57.6588 963.094 Q60.1124 962.515 62.1495 962.515 Q67.5198 962.515 70.7142 965.2 Q73.9087 967.886 73.9087 972.376 Q73.9087 974.506 73.0985 976.427 Q72.3115 978.325 70.205 980.918 Q69.6263 981.589 66.5245 984.807 Q63.4226 988.001 57.7745 993.765 Z\" fill=\"#000000\" fill-rule=\"nonzero\" fill-opacity=\"1\" /><path clip-path=\"url(#clip610)\" d=\"M93.9086 966.219 Q90.2975 966.219 88.4688 969.784 Q86.6632 973.325 86.6632 980.455 Q86.6632 987.561 88.4688 991.126 Q90.2975 994.668 93.9086 994.668 Q97.5428 994.668 99.3483 991.126 Q101.177 987.561 101.177 980.455 Q101.177 973.325 99.3483 969.784 Q97.5428 966.219 93.9086 966.219 M93.9086 962.515 Q99.7187 962.515 102.774 967.122 Q105.853 971.705 105.853 980.455 Q105.853 989.182 102.774 993.788 Q99.7187 998.371 93.9086 998.371 Q88.0984 998.371 85.0197 993.788 Q81.9642 989.182 81.9642 980.455 Q81.9642 971.705 85.0197 967.122 Q88.0984 962.515 93.9086 962.515 Z\" fill=\"#000000\" fill-rule=\"nonzero\" fill-opacity=\"1\" /><path clip-path=\"url(#clip610)\" d=\"M67.9133 721.14 Q71.2698 721.857 73.1448 724.126 Q75.0429 726.394 75.0429 729.728 Q75.0429 734.843 71.5244 737.644 Q68.0059 740.445 61.5245 740.445 Q59.3486 740.445 57.0338 740.005 Q54.7421 739.589 52.2884 738.732 L52.2884 734.218 Q54.2328 735.353 56.5477 735.931 Q58.8625 736.51 61.3856 736.51 Q65.7837 736.51 68.0754 734.774 Q70.3902 733.038 70.3902 729.728 Q70.3902 726.672 68.2374 724.959 Q66.1078 723.223 62.2884 723.223 L58.2606 723.223 L58.2606 719.38 L62.4735 719.38 Q65.9226 719.38 67.7513 718.015 Q69.58 716.626 69.58 714.033 Q69.58 711.371 67.6819 709.959 Q65.8069 708.524 62.2884 708.524 Q60.3671 708.524 58.168 708.941 Q55.969 709.357 53.3301 710.237 L53.3301 706.07 Q55.9921 705.33 58.3069 704.959 Q60.6449 704.589 62.705 704.589 Q68.0291 704.589 71.1309 707.019 Q74.2327 709.427 74.2327 713.547 Q74.2327 716.417 72.5892 718.408 Q70.9457 720.376 67.9133 721.14 Z\" fill=\"#000000\" fill-rule=\"nonzero\" fill-opacity=\"1\" /><path clip-path=\"url(#clip610)\" d=\"M93.9086 708.293 Q90.2975 708.293 88.4688 711.857 Q86.6632 715.399 86.6632 722.529 Q86.6632 729.635 88.4688 733.2 Q90.2975 736.741 93.9086 736.741 Q97.5428 736.741 99.3483 733.2 Q101.177 729.635 101.177 722.529 Q101.177 715.399 99.3483 711.857 Q97.5428 708.293 93.9086 708.293 M93.9086 704.589 Q99.7187 704.589 102.774 709.195 Q105.853 713.779 105.853 722.529 Q105.853 731.255 102.774 735.862 Q99.7187 740.445 93.9086 740.445 Q88.0984 740.445 85.0197 735.862 Q81.9642 731.255 81.9642 722.529 Q81.9642 713.779 85.0197 709.195 Q88.0984 704.589 93.9086 704.589 Z\" fill=\"#000000\" fill-rule=\"nonzero\" fill-opacity=\"1\" /><path clip-path=\"url(#clip610)\" d=\"M66.5939 451.362 L54.7884 469.811 L66.5939 469.811 L66.5939 451.362 M65.367 447.288 L71.2466 447.288 L71.2466 469.811 L76.1772 469.811 L76.1772 473.699 L71.2466 473.699 L71.2466 481.848 L66.5939 481.848 L66.5939 473.699 L50.9921 473.699 L50.9921 469.186 L65.367 447.288 Z\" fill=\"#000000\" fill-rule=\"nonzero\" fill-opacity=\"1\" /><path clip-path=\"url(#clip610)\" d=\"M93.9086 450.366 Q90.2975 450.366 88.4688 453.931 Q86.6632 457.473 86.6632 464.602 Q86.6632 471.709 88.4688 475.273 Q90.2975 478.815 93.9086 478.815 Q97.5428 478.815 99.3483 475.273 Q101.177 471.709 101.177 464.602 Q101.177 457.473 99.3483 453.931 Q97.5428 450.366 93.9086 450.366 M93.9086 446.663 Q99.7187 446.663 102.774 451.269 Q105.853 455.852 105.853 464.602 Q105.853 473.329 102.774 477.936 Q99.7187 482.519 93.9086 482.519 Q88.0984 482.519 85.0197 477.936 Q81.9642 473.329 81.9642 464.602 Q81.9642 455.852 85.0197 451.269 Q88.0984 446.663 93.9086 446.663 Z\" fill=\"#000000\" fill-rule=\"nonzero\" fill-opacity=\"1\" /><path clip-path=\"url(#clip610)\" d=\"M53.793 189.361 L72.1494 189.361 L72.1494 193.296 L58.0754 193.296 L58.0754 201.769 Q59.0939 201.421 60.1124 201.259 Q61.131 201.074 62.1495 201.074 Q67.9365 201.074 71.3161 204.245 Q74.6957 207.417 74.6957 212.833 Q74.6957 218.412 71.2235 221.514 Q67.7513 224.593 61.4319 224.593 Q59.256 224.593 56.9875 224.222 Q54.7421 223.852 52.3347 223.111 L52.3347 218.412 Q54.418 219.546 56.6402 220.102 Q58.8625 220.657 61.3393 220.657 Q65.3439 220.657 67.6819 218.551 Q70.0198 216.444 70.0198 212.833 Q70.0198 209.222 67.6819 207.116 Q65.3439 205.009 61.3393 205.009 Q59.4643 205.009 57.5893 205.426 Q55.7375 205.843 53.793 206.722 L53.793 189.361 Z\" fill=\"#000000\" fill-rule=\"nonzero\" fill-opacity=\"1\" /><path clip-path=\"url(#clip610)\" d=\"M93.9086 192.44 Q90.2975 192.44 88.4688 196.005 Q86.6632 199.546 86.6632 206.676 Q86.6632 213.782 88.4688 217.347 Q90.2975 220.889 93.9086 220.889 Q97.5428 220.889 99.3483 217.347 Q101.177 213.782 101.177 206.676 Q101.177 199.546 99.3483 196.005 Q97.5428 192.44 93.9086 192.44 M93.9086 188.736 Q99.7187 188.736 102.774 193.343 Q105.853 197.926 105.853 206.676 Q105.853 215.403 102.774 220.009 Q99.7187 224.593 93.9086 224.593 Q88.0984 224.593 85.0197 220.009 Q81.9642 215.403 81.9642 206.676 Q81.9642 197.926 85.0197 193.343 Q88.0984 188.736 93.9086 188.736 Z\" fill=\"#000000\" fill-rule=\"nonzero\" fill-opacity=\"1\" /><polyline clip-path=\"url(#clip612)\" style=\"stroke:#009af9; stroke-linecap:round; stroke-linejoin:round; stroke-width:4; stroke-opacity:1; fill:none\" points=\"204.426,1444.69 206.514,1444.74 208.601,1444.79 210.689,1444.84 212.777,1444.88 214.865,1444.93 216.953,1444.97 219.041,1445.02 221.128,1445.06 223.216,1445.1 225.304,1445.14 227.392,1445.18 229.48,1445.21 231.568,1445.25 233.656,1445.28 235.743,1445.31 237.831,1445.34 239.919,1445.37 242.007,1445.4 244.095,1445.43 246.183,1445.46 248.27,1445.48 250.358,1445.5 252.446,1445.53 254.534,1445.55 256.622,1445.57 258.71,1445.59 260.797,1445.6 262.885,1445.62 264.973,1445.63 267.061,1445.65 269.149,1445.66 271.237,1445.67 273.325,1445.68 275.412,1445.69 277.5,1445.7 279.588,1445.7 281.676,1445.71 283.764,1445.71 285.852,1445.71 287.939,1445.72 290.027,1445.72 292.115,1445.71 294.203,1445.71 296.291,1445.71 298.379,1445.7 300.467,1445.7 302.554,1445.69 304.642,1445.68 306.73,1445.67 308.818,1445.66 310.906,1445.65 312.994,1445.64 315.081,1445.62 317.169,1445.61 319.257,1445.59 321.345,1445.57 323.433,1445.55 325.521,1445.53 327.609,1445.51 329.696,1445.49 331.784,1445.46 333.872,1445.44 335.96,1445.41 338.048,1445.39 340.136,1445.36 342.223,1445.33 344.311,1445.3 346.399,1445.26 348.487,1445.23 350.575,1445.2 352.663,1445.16 354.751,1445.12 356.838,1445.09 358.926,1445.05 361.014,1445.01 363.102,1444.97 365.19,1444.92 367.278,1444.88 369.365,1444.84 371.453,1444.79 373.541,1444.74 375.629,1444.69 377.717,1444.64 379.805,1444.59 381.893,1444.54 383.98,1444.49 386.068,1444.44 388.156,1444.38 390.244,1444.32 392.332,1444.27 394.42,1444.21 396.507,1444.15 398.595,1444.09 400.683,1444.03 402.771,1443.96 404.859,1443.9 406.947,1443.83 409.035,1443.77 411.122,1443.7 413.21,1443.63 415.298,1443.56 417.386,1443.49 419.474,1443.42 421.562,1443.35 423.649,1443.27 425.737,1443.2 427.825,1443.12 429.913,1443.04 432.001,1442.96 434.089,1442.88 436.177,1442.8 438.264,1442.72 440.352,1442.64 442.44,1442.55 444.528,1442.47 446.616,1442.38 448.704,1442.29 450.791,1442.21 452.879,1442.12 454.967,1442.02 457.055,1441.93 459.143,1441.84 461.231,1441.74 463.318,1441.65 465.406,1441.55 467.494,1441.45 469.582,1441.36 471.67,1441.26 473.758,1441.15 475.846,1441.05 477.933,1440.95 480.021,1440.84 482.109,1440.74 484.197,1440.63 486.285,1440.52 488.373,1440.41 490.46,1440.3 492.548,1440.19 494.636,1440.08 496.724,1439.97 498.812,1439.85 500.9,1439.74 502.988,1439.62 505.075,1439.5 507.163,1439.38 509.251,1439.26 511.339,1439.14 513.427,1439.02 515.515,1438.89 517.602,1438.77 519.69,1438.64 521.778,1438.52 523.866,1438.39 525.954,1438.26 528.042,1438.13 530.13,1438 532.217,1437.86 534.305,1437.73 536.393,1437.6 538.481,1437.46 540.569,1437.32 542.657,1437.18 544.744,1437.04 546.832,1436.9 548.92,1436.76 551.008,1436.62 553.096,1436.47 555.184,1436.33 557.272,1436.18 559.359,1436.04 561.447,1435.89 563.535,1435.74 565.623,1435.59 567.711,1435.43 569.799,1435.28 571.886,1435.13 573.974,1434.97 576.062,1434.81 578.15,1434.65 580.238,1434.5 582.326,1434.34 584.414,1434.17 586.501,1434.01 588.589,1433.85 590.677,1433.68 592.765,1433.52 594.853,1433.35 596.941,1433.18 599.028,1433.01 601.116,1432.84 603.204,1432.67 605.292,1432.49 607.38,1432.32 609.468,1432.14 611.556,1431.97 613.643,1431.79 615.731,1431.61 617.819,1431.43 619.907,1431.25 621.995,1431.06 624.083,1430.88 626.17,1430.7 628.258,1430.51 630.346,1430.32 632.434,1430.13 634.522,1429.94 636.61,1429.75 638.698,1429.56 640.785,1429.37 642.873,1429.17 644.961,1428.97 647.049,1428.78 649.137,1428.58 651.225,1428.38 653.312,1428.18 655.4,1427.98 657.488,1427.77 659.576,1427.57 661.664,1427.36 663.752,1427.15 665.839,1426.94 667.927,1426.74 670.015,1426.52 672.103,1426.31 674.191,1426.1 676.279,1425.88 678.367,1425.67 680.454,1425.45 682.542,1425.23 684.63,1425.01 686.718,1424.79 688.806,1424.57 690.894,1424.34 692.981,1424.12 695.069,1423.89 697.157,1423.67 699.245,1423.44 701.333,1423.21 703.421,1422.98 705.509,1422.74 707.596,1422.51 709.684,1422.27 711.772,1422.04 713.86,1421.8 715.948,1421.56 718.036,1421.32 720.123,1421.08 722.211,1420.83 724.299,1420.59 726.387,1420.34 728.475,1420.1 730.563,1419.85 732.651,1419.6 734.738,1419.35 736.826,1419.1 738.914,1418.84 741.002,1418.59 743.09,1418.33 745.178,1418.07 747.265,1417.81 749.353,1417.55 751.441,1417.29 753.529,1417.03 755.617,1416.76 757.705,1416.5 759.793,1416.23 761.88,1415.96 763.968,1415.69 766.056,1415.42 768.144,1415.14 770.232,1414.87 772.32,1414.59 774.407,1414.32 776.495,1414.04 778.583,1413.76 780.671,1413.48 782.759,1413.19 784.847,1412.91 786.935,1412.62 789.022,1412.33 791.11,1412.05 793.198,1411.76 795.286,1411.46 797.374,1411.17 799.462,1410.88 801.549,1410.58 803.637,1410.28 805.725,1409.98 807.813,1409.68 809.901,1409.38 811.989,1409.08 814.077,1408.77 816.164,1408.47 818.252,1408.16 820.34,1407.85 822.428,1407.54 824.516,1407.23 826.604,1406.91 828.691,1406.6 830.779,1406.28 832.867,1405.96 834.955,1405.64 837.043,1405.32 839.131,1405 841.219,1404.67 843.306,1404.35 845.394,1404.02 847.482,1403.69 849.57,1403.36 851.658,1403.02 853.746,1402.69 855.833,1402.36 857.921,1402.02 860.009,1401.68 862.097,1401.34 864.185,1401 866.273,1400.65 868.36,1400.31 870.448,1399.96 872.536,1399.61 874.624,1399.26 876.712,1398.91 878.8,1398.56 880.888,1398.2 882.975,1397.85 885.063,1397.49 887.151,1397.13 889.239,1396.77 891.327,1396.4 893.415,1396.04 895.502,1395.67 897.59,1395.3 899.678,1394.93 901.766,1394.56 903.854,1394.19 905.942,1393.81 908.03,1393.44 910.117,1393.06 912.205,1392.68 914.293,1392.3 916.381,1391.91 918.469,1391.53 920.557,1391.14 922.644,1390.75 924.732,1390.36 926.82,1389.97 928.908,1389.57 930.996,1389.18 933.084,1388.78 935.172,1388.38 937.259,1387.98 939.347,1387.58 941.435,1387.17 943.523,1386.76 945.611,1386.35 947.699,1385.94 949.786,1385.53 951.874,1385.12 953.962,1384.7 956.05,1384.28 958.138,1383.86 960.226,1383.44 962.314,1383.02 964.401,1382.59 966.489,1382.17 968.577,1381.74 970.665,1381.31 972.753,1380.87 974.841,1380.44 976.928,1380 979.016,1379.57 981.104,1379.12 983.192,1378.68 985.28,1378.24 987.368,1377.79 989.456,1377.34 991.543,1376.89 993.631,1376.44 995.719,1375.99 997.807,1375.53 999.895,1375.07 1001.98,1374.61 1004.07,1374.15 1006.16,1373.69 1008.25,1373.22 1010.33,1372.75 1012.42,1372.28 1014.51,1371.81 1016.6,1371.34 1018.69,1370.86 1020.77,1370.38 1022.86,1369.9 1024.95,1369.42 1027.04,1368.93 1029.12,1368.45 1031.21,1367.96 1033.3,1367.47 1035.39,1366.97 1037.48,1366.48 1039.56,1365.98 1041.65,1365.48 1043.74,1364.98 1045.83,1364.48 1047.92,1363.97 1050,1363.46 1052.09,1362.95 1054.18,1362.44 1056.27,1361.93 1058.35,1361.41 1060.44,1360.89 1062.53,1360.37 1064.62,1359.85 1066.71,1359.32 1068.79,1358.79 1070.88,1358.26 1072.97,1357.73 1075.06,1357.2 1077.15,1356.66 1079.23,1356.12 1081.32,1355.58 1083.41,1355.03 1085.5,1354.49 1087.58,1353.94 1089.67,1353.39 1091.76,1352.84 1093.85,1352.28 1095.94,1351.72 1098.02,1351.16 1100.11,1350.6 1102.2,1350.04 1104.29,1349.47 1106.37,1348.9 1108.46,1348.33 1110.55,1347.75 1112.64,1347.18 1114.73,1346.6 1116.81,1346.01 1118.9,1345.43 1120.99,1344.84 1123.08,1344.25 1125.17,1343.66 1127.25,1343.07 1129.34,1342.47 1131.43,1341.87 1133.52,1341.27 1135.6,1340.67 1137.69,1340.06 1139.78,1339.45 1141.87,1338.84 1143.96,1338.23 1146.04,1337.61 1148.13,1336.99 1150.22,1336.37 1152.31,1335.74 1154.4,1335.12 1156.48,1334.49 1158.57,1333.85 1160.66,1333.22 1162.75,1332.58 1164.83,1331.94 1166.92,1331.3 1169.01,1330.65 1171.1,1330 1173.19,1329.35 1175.27,1328.7 1177.36,1328.04 1179.45,1327.38 1181.54,1326.72 1183.63,1326.06 1185.71,1325.39 1187.8,1324.72 1189.89,1324.05 1191.98,1323.37 1194.06,1322.69 1196.15,1322.01 1198.24,1321.33 1200.33,1320.64 1202.42,1319.95 1204.5,1319.26 1206.59,1318.56 1208.68,1317.86 1210.77,1317.16 1212.85,1316.46 1214.94,1315.75 1217.03,1315.04 1219.12,1314.33 1221.21,1313.61 1223.29,1312.89 1225.38,1312.17 1227.47,1311.44 1229.56,1310.72 1231.65,1309.98 1233.73,1309.25 1235.82,1308.51 1237.91,1307.77 1240,1307.03 1242.08,1306.28 1244.17,1305.53 1246.26,1304.78 1248.35,1304.03 1250.44,1303.27 1252.52,1302.51 1254.61,1301.74 1256.7,1300.97 1258.79,1300.2 1260.88,1299.43 1262.96,1298.65 1265.05,1297.87 1267.14,1297.09 1269.23,1296.3 1271.31,1295.51 1273.4,1294.72 1275.49,1293.92 1277.58,1293.12 1279.67,1292.32 1281.75,1291.51 1283.84,1290.7 1285.93,1289.89 1288.02,1289.07 1290.11,1288.25 1292.19,1287.43 1294.28,1286.6 1296.37,1285.77 1298.46,1284.94 1300.54,1284.1 1302.63,1283.26 1304.72,1282.42 1306.81,1281.57 1308.9,1280.72 1310.98,1279.86 1313.07,1279.01 1315.16,1278.15 1317.25,1277.28 1319.34,1276.41 1321.42,1275.54 1323.51,1274.67 1325.6,1273.79 1327.69,1272.91 1329.77,1272.02 1331.86,1271.13 1333.95,1270.24 1336.04,1269.34 1338.13,1268.44 1340.21,1267.54 1342.3,1266.63 1344.39,1265.72 1346.48,1264.8 1348.56,1263.88 1350.65,1262.96 1352.74,1262.03 1354.83,1261.1 1356.92,1260.17 1359,1259.23 1361.09,1258.29 1363.18,1257.34 1365.27,1256.39 1367.36,1255.44 1369.44,1254.48 1371.53,1253.52 1373.62,1252.56 1375.71,1251.59 1377.79,1250.62 1379.88,1249.64 1381.97,1248.66 1384.06,1247.67 1386.15,1246.68 1388.23,1245.69 1390.32,1244.69 1392.41,1243.69 1394.5,1242.69 1396.59,1241.68 1398.67,1240.67 1400.76,1239.65 1402.85,1238.63 1404.94,1237.6 1407.02,1236.57 1409.11,1235.54 1411.2,1234.5 1413.29,1233.46 1415.38,1232.41 1417.46,1231.36 1419.55,1230.31 1421.64,1229.25 1423.73,1228.18 1425.82,1227.12 1427.9,1226.04 1429.99,1224.97 1432.08,1223.89 1434.17,1222.8 1436.25,1221.71 1438.34,1220.62 1440.43,1219.52 1442.52,1218.42 1444.61,1217.31 1446.69,1216.2 1448.78,1215.08 1450.87,1213.96 1452.96,1212.83 1455.05,1211.7 1457.13,1210.57 1459.22,1209.43 1461.31,1208.29 1463.4,1207.14 1465.48,1205.98 1467.57,1204.83 1469.66,1203.66 1471.75,1202.5 1473.84,1201.33 1475.92,1200.15 1478.01,1198.97 1480.1,1197.78 1482.19,1196.59 1484.27,1195.39 1486.36,1194.19 1488.45,1192.99 1490.54,1191.78 1492.63,1190.56 1494.71,1189.34 1496.8,1188.12 1498.89,1186.89 1500.98,1185.65 1503.07,1184.41 1505.15,1183.17 1507.24,1181.92 1509.33,1180.66 1511.42,1179.4 1513.5,1178.14 1515.59,1176.87 1517.68,1175.59 1519.77,1174.31 1521.86,1173.02 1523.94,1171.73 1526.03,1170.44 1528.12,1169.14 1530.21,1167.83 1532.3,1166.52 1534.38,1165.2 1536.47,1163.88 1538.56,1162.55 1540.65,1161.21 1542.73,1159.88 1544.82,1158.53 1546.91,1157.18 1549,1155.83 1551.09,1154.47 1553.17,1153.1 1555.26,1151.73 1557.35,1150.35 1559.44,1148.97 1561.53,1147.58 1563.61,1146.19 1565.7,1144.79 1567.79,1143.38 1569.88,1141.97 1571.96,1140.56 1574.05,1139.13 1576.14,1137.71 1578.23,1136.27 1580.32,1134.83 1582.4,1133.39 1584.49,1131.94 1586.58,1130.48 1588.67,1129.02 1590.75,1127.55 1592.84,1126.07 1594.93,1124.59 1597.02,1123.11 1599.11,1121.62 1601.19,1120.12 1603.28,1118.61 1605.37,1117.1 1607.46,1115.59 1609.55,1114.06 1611.63,1112.53 1613.72,1111 1615.81,1109.46 1617.9,1107.91 1619.98,1106.36 1622.07,1104.8 1624.16,1103.23 1626.25,1101.66 1628.34,1100.08 1630.42,1098.49 1632.51,1096.9 1634.6,1095.3 1636.69,1093.7 1638.78,1092.09 1640.86,1090.47 1642.95,1088.85 1645.04,1087.22 1647.13,1085.58 1649.21,1083.94 1651.3,1082.29 1653.39,1080.63 1655.48,1078.96 1657.57,1077.29 1659.65,1075.62 1661.74,1073.93 1663.83,1072.24 1665.92,1070.55 1668.01,1068.84 1670.09,1067.13 1672.18,1065.41 1674.27,1063.69 1676.36,1061.96 1678.44,1060.22 1680.53,1058.47 1682.62,1056.72 1684.71,1054.96 1686.8,1053.19 1688.88,1051.42 1690.97,1049.64 1693.06,1047.85 1695.15,1046.05 1697.24,1044.25 1699.32,1042.44 1701.41,1040.62 1703.5,1038.8 1705.59,1036.97 1707.67,1035.13 1709.76,1033.28 1711.85,1031.43 1713.94,1029.56 1716.03,1027.7 1718.11,1025.82 1720.2,1023.93 1722.29,1022.04 1724.38,1020.14 1726.46,1018.24 1728.55,1016.32 1730.64,1014.4 1732.73,1012.47 1734.82,1010.53 1736.9,1008.59 1738.99,1006.63 1741.08,1004.67 1743.17,1002.7 1745.26,1000.72 1747.34,998.74 1749.43,996.746 1751.52,994.745 1753.61,992.736 1755.69,990.719 1757.78,988.694 1759.87,986.66 1761.96,984.619 1764.05,982.569 1766.13,980.511 1768.22,978.444 1770.31,976.37 1772.4,974.287 1774.49,972.195 1776.57,970.095 1778.66,967.987 1780.75,965.87 1782.84,963.745 1784.92,961.611 1787.01,959.469 1789.1,957.318 1791.19,955.159 1793.28,952.99 1795.36,950.813 1797.45,948.628 1799.54,946.433 1801.63,944.23 1803.72,942.017 1805.8,939.796 1807.89,937.566 1809.98,935.327 1812.07,933.079 1814.15,930.822 1816.24,928.556 1818.33,926.281 1820.42,923.997 1822.51,921.703 1824.59,919.4 1826.68,917.088 1828.77,914.767 1830.86,912.437 1832.95,910.097 1835.03,907.747 1837.12,905.388 1839.21,903.02 1841.3,900.642 1843.38,898.255 1845.47,895.858 1847.56,893.451 1849.65,891.035 1851.74,888.609 1853.82,886.173 1855.91,883.728 1858,881.273 1860.09,878.808 1862.17,876.332 1864.26,873.847 1866.35,871.352 1868.44,868.847 1870.53,866.332 1872.61,863.807 1874.7,861.272 1876.79,858.726 1878.88,856.17 1880.97,853.604 1883.05,851.028 1885.14,848.441 1887.23,845.844 1889.32,843.237 1891.4,840.619 1893.49,837.99 1895.58,835.351 1897.67,832.702 1899.76,830.041 1901.84,827.37 1903.93,824.689 1906.02,821.996 1908.11,819.293 1910.2,816.579 1912.28,813.854 1914.37,811.118 1916.46,808.371 1918.55,805.613 1920.63,802.844 1922.72,800.064 1924.81,797.272 1926.9,794.47 1928.99,791.656 1931.07,788.831 1933.16,785.994 1935.25,783.146 1937.34,780.287 1939.43,777.416 1941.51,774.534 1943.6,771.64 1945.69,768.734 1947.78,765.817 1949.86,762.888 1951.95,759.948 1954.04,756.995 1956.13,754.031 1958.22,751.055 1960.3,748.067 1962.39,745.066 1964.48,742.054 1966.57,739.03 1968.65,735.993 1970.74,732.945 1972.83,729.884 1974.92,726.811 1977.01,723.725 1979.09,720.627 1981.18,717.517 1983.27,714.394 1985.36,711.259 1987.45,708.111 1989.53,704.95 1991.62,701.777 1993.71,698.591 1995.8,695.392 1997.88,692.18 1999.97,688.956 2002.06,685.718 2004.15,682.468 2006.24,679.204 2008.32,675.927 2010.41,672.638 2012.5,669.334 2014.59,666.018 2016.68,662.689 2018.76,659.346 2020.85,655.989 2022.94,652.619 2025.03,649.236 2027.11,645.839 2029.2,642.428 2031.29,639.004 2033.38,635.566 2035.47,632.114 2037.55,628.649 2039.64,625.169 2041.73,621.675 2043.82,618.168 2045.91,614.646 2047.99,611.11 2050.08,607.56 2052.17,603.996 2054.26,600.417 2056.34,596.824 2058.43,593.217 2060.52,589.595 2062.61,585.959 2064.7,582.308 2066.78,578.642 2068.87,574.962 2070.96,571.267 2073.05,567.557 2075.14,563.832 2077.22,560.092 2079.31,556.337 2081.4,552.568 2083.49,548.783 2085.57,544.982 2087.66,541.167 2089.75,537.336 2091.84,533.49 2093.93,529.628 2096.01,525.751 2098.1,521.859 2100.19,517.95 2102.28,514.026 2104.36,510.087 2106.45,506.131 2108.54,502.16 2110.63,498.173 2112.72,494.169 2114.8,490.15 2116.89,486.114 2118.98,482.063 2121.07,477.995 2123.16,473.91 2125.24,469.81 2127.33,465.692 2129.42,461.559 2131.51,457.408 2133.59,453.241 2135.68,449.058 2137.77,444.857 2139.86,440.64 2141.95,436.406 2144.03,432.154 2146.12,427.886 2148.21,423.601 2150.3,419.298 2152.39,414.978 2154.47,410.641 2156.56,406.286 2158.65,401.914 2160.74,397.524 2162.82,393.117 2164.91,388.692 2167,384.249 2169.09,379.789 2171.18,375.31 2173.26,370.814 2175.35,366.3 2177.44,361.767 2179.53,357.216 2181.62,352.647 2183.7,348.06 2185.79,343.454 2187.88,338.83 2189.97,334.187 2192.05,329.525 2194.14,324.845 2196.23,320.146 2198.32,315.428 2200.41,310.692 2202.49,305.936 2204.58,301.161 2206.67,296.367 2208.76,291.554 2210.85,286.721 2212.93,281.869 2215.02,276.998 2217.11,272.107 2219.2,267.196 2221.28,262.266 2223.37,257.316 2225.46,252.346 2227.55,247.356 2229.64,242.346 2231.72,237.316 2233.81,232.266 2235.9,227.195 2237.99,222.105 2240.07,216.993 2242.16,211.861 2244.25,206.709 2246.34,201.536 2248.43,196.342 2250.51,191.128 2252.6,185.892 2254.69,180.635 2256.78,175.358 2258.87,170.059 2260.95,164.739 2263.04,159.397 2265.13,154.035 2267.22,148.65 2269.3,143.244 2271.39,137.816 2273.48,132.367 2275.57,126.896 2277.66,121.402 2279.74,115.887 2281.83,110.349 2283.92,104.79 2286.01,99.2076 2288.1,93.6032 2290.18,87.9763 \"/>\n",
       "<polyline clip-path=\"url(#clip612)\" style=\"stroke:#e26f46; stroke-linecap:round; stroke-linejoin:round; stroke-width:4; stroke-opacity:1; fill:none\" points=\"204.426,1444.69 206.514,1444.74 208.601,1444.79 210.689,1444.84 212.777,1444.88 214.865,1444.93 216.953,1444.97 219.041,1445.02 221.128,1445.06 223.216,1445.1 225.304,1445.14 227.392,1445.18 229.48,1445.21 231.568,1445.25 233.656,1445.28 235.743,1445.31 237.831,1445.34 239.919,1445.37 242.007,1445.4 244.095,1445.43 246.183,1445.46 248.27,1445.48 250.358,1445.5 252.446,1445.53 254.534,1445.55 256.622,1445.57 258.71,1445.59 260.797,1445.6 262.885,1445.62 264.973,1445.63 267.061,1445.65 269.149,1445.66 271.237,1445.67 273.325,1445.68 275.412,1445.69 277.5,1445.7 279.588,1445.7 281.676,1445.71 283.764,1445.71 285.852,1445.71 287.939,1445.72 290.027,1445.72 292.115,1445.71 294.203,1445.71 296.291,1445.71 298.379,1445.7 300.467,1445.7 302.554,1445.69 304.642,1445.68 306.73,1445.67 308.818,1445.66 310.906,1445.65 312.994,1445.64 315.081,1445.62 317.169,1445.61 319.257,1445.59 321.345,1445.57 323.433,1445.55 325.521,1445.53 327.609,1445.51 329.696,1445.49 331.784,1445.46 333.872,1445.44 335.96,1445.41 338.048,1445.39 340.136,1445.36 342.223,1445.33 344.311,1445.3 346.399,1445.26 348.487,1445.23 350.575,1445.2 352.663,1445.16 354.751,1445.12 356.838,1445.09 358.926,1445.05 361.014,1445.01 363.102,1444.97 365.19,1444.92 367.278,1444.88 369.365,1444.84 371.453,1444.79 373.541,1444.74 375.629,1444.69 377.717,1444.64 379.805,1444.59 381.893,1444.54 383.98,1444.49 386.068,1444.44 388.156,1444.38 390.244,1444.32 392.332,1444.27 394.42,1444.21 396.507,1444.15 398.595,1444.09 400.683,1444.03 402.771,1443.96 404.859,1443.9 406.947,1443.83 409.035,1443.77 411.122,1443.7 413.21,1443.63 415.298,1443.56 417.386,1443.49 419.474,1443.42 421.562,1443.35 423.649,1443.27 425.737,1443.2 427.825,1443.12 429.913,1443.04 432.001,1442.96 434.089,1442.88 436.177,1442.8 438.264,1442.72 440.352,1442.64 442.44,1442.55 444.528,1442.47 446.616,1442.38 448.704,1442.29 450.791,1442.21 452.879,1442.12 454.967,1442.02 457.055,1441.93 459.143,1441.84 461.231,1441.74 463.318,1441.65 465.406,1441.55 467.494,1441.45 469.582,1441.36 471.67,1441.26 473.758,1441.15 475.846,1441.05 477.933,1440.95 480.021,1440.84 482.109,1440.74 484.197,1440.63 486.285,1440.52 488.373,1440.41 490.46,1440.3 492.548,1440.19 494.636,1440.08 496.724,1439.97 498.812,1439.85 500.9,1439.74 502.988,1439.62 505.075,1439.5 507.163,1439.38 509.251,1439.26 511.339,1439.14 513.427,1439.02 515.515,1438.9 517.602,1438.77 519.69,1438.64 521.778,1438.52 523.866,1438.39 525.954,1438.26 528.042,1438.13 530.13,1438 532.217,1437.86 534.305,1437.73 536.393,1437.6 538.481,1437.46 540.569,1437.32 542.657,1437.18 544.744,1437.04 546.832,1436.9 548.92,1436.76 551.008,1436.62 553.096,1436.47 555.184,1436.33 557.272,1436.18 559.359,1436.04 561.447,1435.89 563.535,1435.74 565.623,1435.59 567.711,1435.43 569.799,1435.28 571.886,1435.13 573.974,1434.97 576.062,1434.81 578.15,1434.65 580.238,1434.5 582.326,1434.34 584.414,1434.17 586.501,1434.01 588.589,1433.85 590.677,1433.68 592.765,1433.52 594.853,1433.35 596.941,1433.18 599.028,1433.01 601.116,1432.84 603.204,1432.67 605.292,1432.49 607.38,1432.32 609.468,1432.14 611.556,1431.97 613.643,1431.79 615.731,1431.61 617.819,1431.43 619.907,1431.25 621.995,1431.06 624.083,1430.88 626.17,1430.7 628.258,1430.51 630.346,1430.32 632.434,1430.13 634.522,1429.94 636.61,1429.75 638.698,1429.56 640.785,1429.37 642.873,1429.17 644.961,1428.97 647.049,1428.78 649.137,1428.58 651.225,1428.38 653.312,1428.18 655.4,1427.98 657.488,1427.77 659.576,1427.57 661.664,1427.36 663.752,1427.15 665.839,1426.95 667.927,1426.74 670.015,1426.52 672.103,1426.31 674.191,1426.1 676.279,1425.88 678.367,1425.67 680.454,1425.45 682.542,1425.23 684.63,1425.01 686.718,1424.79 688.806,1424.57 690.894,1424.34 692.981,1424.12 695.069,1423.89 697.157,1423.67 699.245,1423.44 701.333,1423.21 703.421,1422.98 705.509,1422.74 707.596,1422.51 709.684,1422.27 711.772,1422.04 713.86,1421.8 715.948,1421.56 718.036,1421.32 720.123,1421.08 722.211,1420.83 724.299,1420.59 726.387,1420.34 728.475,1420.1 730.563,1419.85 732.651,1419.6 734.738,1419.35 736.826,1419.1 738.914,1418.84 741.002,1418.59 743.09,1418.33 745.178,1418.07 747.265,1417.81 749.353,1417.55 751.441,1417.29 753.529,1417.03 755.617,1416.76 757.705,1416.5 759.793,1416.23 761.88,1415.96 763.968,1415.69 766.056,1415.42 768.144,1415.14 770.232,1414.87 772.32,1414.59 774.407,1414.32 776.495,1414.04 778.583,1413.76 780.671,1413.48 782.759,1413.19 784.847,1412.91 786.935,1412.62 789.022,1412.33 791.11,1412.05 793.198,1411.76 795.286,1411.46 797.374,1411.17 799.462,1410.88 801.549,1410.58 803.637,1410.28 805.725,1409.98 807.813,1409.68 809.901,1409.38 811.989,1409.08 814.077,1408.77 816.164,1408.47 818.252,1408.16 820.34,1407.85 822.428,1407.54 824.516,1407.23 826.604,1406.91 828.691,1406.6 830.779,1406.28 832.867,1405.96 834.955,1405.64 837.043,1405.32 839.131,1405 841.219,1404.67 843.306,1404.35 845.394,1404.02 847.482,1403.69 849.57,1403.36 851.658,1403.02 853.746,1402.69 855.833,1402.36 857.921,1402.02 860.009,1401.68 862.097,1401.34 864.185,1401 866.273,1400.65 868.36,1400.31 870.448,1399.96 872.536,1399.61 874.624,1399.26 876.712,1398.91 878.8,1398.56 880.888,1398.2 882.975,1397.85 885.063,1397.49 887.151,1397.13 889.239,1396.77 891.327,1396.4 893.415,1396.04 895.502,1395.67 897.59,1395.3 899.678,1394.93 901.766,1394.56 903.854,1394.19 905.942,1393.81 908.03,1393.44 910.117,1393.06 912.205,1392.68 914.293,1392.3 916.381,1391.91 918.469,1391.53 920.557,1391.14 922.644,1390.75 924.732,1390.36 926.82,1389.97 928.908,1389.57 930.996,1389.18 933.084,1388.78 935.172,1388.38 937.259,1387.98 939.347,1387.58 941.435,1387.17 943.523,1386.76 945.611,1386.36 947.699,1385.94 949.786,1385.53 951.874,1385.12 953.962,1384.7 956.05,1384.28 958.138,1383.87 960.226,1383.44 962.314,1383.02 964.401,1382.6 966.489,1382.17 968.577,1381.74 970.665,1381.31 972.753,1380.88 974.841,1380.44 976.928,1380 979.016,1379.57 981.104,1379.13 983.192,1378.68 985.28,1378.24 987.368,1377.79 989.456,1377.34 991.543,1376.89 993.631,1376.44 995.719,1375.99 997.807,1375.53 999.895,1375.07 1001.98,1374.61 1004.07,1374.15 1006.16,1373.69 1008.25,1373.22 1010.33,1372.75 1012.42,1372.28 1014.51,1371.81 1016.6,1371.34 1018.69,1370.86 1020.77,1370.38 1022.86,1369.9 1024.95,1369.42 1027.04,1368.93 1029.12,1368.45 1031.21,1367.96 1033.3,1367.47 1035.39,1366.97 1037.48,1366.48 1039.56,1365.98 1041.65,1365.48 1043.74,1364.98 1045.83,1364.48 1047.92,1363.97 1050,1363.46 1052.09,1362.95 1054.18,1362.44 1056.27,1361.93 1058.35,1361.41 1060.44,1360.89 1062.53,1360.37 1064.62,1359.85 1066.71,1359.32 1068.79,1358.79 1070.88,1358.26 1072.97,1357.73 1075.06,1357.2 1077.15,1356.66 1079.23,1356.12 1081.32,1355.58 1083.41,1355.03 1085.5,1354.49 1087.58,1353.94 1089.67,1353.39 1091.76,1352.84 1093.85,1352.28 1095.94,1351.72 1098.02,1351.16 1100.11,1350.6 1102.2,1350.04 1104.29,1349.47 1106.37,1348.9 1108.46,1348.33 1110.55,1347.75 1112.64,1347.18 1114.73,1346.6 1116.81,1346.01 1118.9,1345.43 1120.99,1344.84 1123.08,1344.25 1125.17,1343.66 1127.25,1343.07 1129.34,1342.47 1131.43,1341.87 1133.52,1341.27 1135.6,1340.67 1137.69,1340.06 1139.78,1339.45 1141.87,1338.84 1143.96,1338.23 1146.04,1337.61 1148.13,1336.99 1150.22,1336.37 1152.31,1335.74 1154.4,1335.12 1156.48,1334.49 1158.57,1333.85 1160.66,1333.22 1162.75,1332.58 1164.83,1331.94 1166.92,1331.3 1169.01,1330.65 1171.1,1330 1173.19,1329.35 1175.27,1328.7 1177.36,1328.04 1179.45,1327.38 1181.54,1326.72 1183.63,1326.06 1185.71,1325.39 1187.8,1324.72 1189.89,1324.05 1191.98,1323.37 1194.06,1322.69 1196.15,1322.01 1198.24,1321.33 1200.33,1320.64 1202.42,1319.95 1204.5,1319.26 1206.59,1318.56 1208.68,1317.86 1210.77,1317.16 1212.85,1316.46 1214.94,1315.75 1217.03,1315.04 1219.12,1314.33 1221.21,1313.61 1223.29,1312.89 1225.38,1312.17 1227.47,1311.44 1229.56,1310.72 1231.65,1309.98 1233.73,1309.25 1235.82,1308.51 1237.91,1307.77 1240,1307.03 1242.08,1306.28 1244.17,1305.54 1246.26,1304.78 1248.35,1304.03 1250.44,1303.27 1252.52,1302.51 1254.61,1301.74 1256.7,1300.97 1258.79,1300.2 1260.88,1299.43 1262.96,1298.65 1265.05,1297.87 1267.14,1297.09 1269.23,1296.3 1271.31,1295.51 1273.4,1294.72 1275.49,1293.92 1277.58,1293.12 1279.67,1292.32 1281.75,1291.51 1283.84,1290.7 1285.93,1289.89 1288.02,1289.07 1290.11,1288.25 1292.19,1287.43 1294.28,1286.6 1296.37,1285.77 1298.46,1284.94 1300.54,1284.1 1302.63,1283.26 1304.72,1282.42 1306.81,1281.57 1308.9,1280.72 1310.98,1279.87 1313.07,1279.01 1315.16,1278.15 1317.25,1277.28 1319.34,1276.41 1321.42,1275.54 1323.51,1274.67 1325.6,1273.79 1327.69,1272.91 1329.77,1272.02 1331.86,1271.13 1333.95,1270.24 1336.04,1269.34 1338.13,1268.44 1340.21,1267.54 1342.3,1266.63 1344.39,1265.72 1346.48,1264.8 1348.56,1263.88 1350.65,1262.96 1352.74,1262.03 1354.83,1261.1 1356.92,1260.17 1359,1259.23 1361.09,1258.29 1363.18,1257.34 1365.27,1256.39 1367.36,1255.44 1369.44,1254.48 1371.53,1253.52 1373.62,1252.56 1375.71,1251.59 1377.79,1250.62 1379.88,1249.64 1381.97,1248.66 1384.06,1247.67 1386.15,1246.68 1388.23,1245.69 1390.32,1244.7 1392.41,1243.69 1394.5,1242.69 1396.59,1241.68 1398.67,1240.67 1400.76,1239.65 1402.85,1238.63 1404.94,1237.6 1407.02,1236.57 1409.11,1235.54 1411.2,1234.5 1413.29,1233.46 1415.38,1232.41 1417.46,1231.36 1419.55,1230.31 1421.64,1229.25 1423.73,1228.18 1425.82,1227.12 1427.9,1226.04 1429.99,1224.97 1432.08,1223.89 1434.17,1222.8 1436.25,1221.71 1438.34,1220.62 1440.43,1219.52 1442.52,1218.42 1444.61,1217.31 1446.69,1216.2 1448.78,1215.08 1450.87,1213.96 1452.96,1212.83 1455.05,1211.7 1457.13,1210.57 1459.22,1209.43 1461.31,1208.29 1463.4,1207.14 1465.48,1205.99 1467.57,1204.83 1469.66,1203.67 1471.75,1202.5 1473.84,1201.33 1475.92,1200.15 1478.01,1198.97 1480.1,1197.78 1482.19,1196.59 1484.27,1195.39 1486.36,1194.19 1488.45,1192.99 1490.54,1191.78 1492.63,1190.56 1494.71,1189.34 1496.8,1188.12 1498.89,1186.89 1500.98,1185.65 1503.07,1184.41 1505.15,1183.17 1507.24,1181.92 1509.33,1180.66 1511.42,1179.4 1513.5,1178.14 1515.59,1176.87 1517.68,1175.59 1519.77,1174.31 1521.86,1173.02 1523.94,1171.73 1526.03,1170.44 1528.12,1169.14 1530.21,1167.83 1532.3,1166.52 1534.38,1165.2 1536.47,1163.88 1538.56,1162.55 1540.65,1161.22 1542.73,1159.88 1544.82,1158.53 1546.91,1157.18 1549,1155.83 1551.09,1154.47 1553.17,1153.1 1555.26,1151.73 1557.35,1150.35 1559.44,1148.97 1561.53,1147.58 1563.61,1146.19 1565.7,1144.79 1567.79,1143.38 1569.88,1141.97 1571.96,1140.56 1574.05,1139.14 1576.14,1137.71 1578.23,1136.27 1580.32,1134.83 1582.4,1133.39 1584.49,1131.94 1586.58,1130.48 1588.67,1129.02 1590.75,1127.55 1592.84,1126.08 1594.93,1124.59 1597.02,1123.11 1599.11,1121.62 1601.19,1120.12 1603.28,1118.61 1605.37,1117.1 1607.46,1115.59 1609.55,1114.06 1611.63,1112.53 1613.72,1111 1615.81,1109.46 1617.9,1107.91 1619.98,1106.36 1622.07,1104.8 1624.16,1103.23 1626.25,1101.66 1628.34,1100.08 1630.42,1098.49 1632.51,1096.9 1634.6,1095.3 1636.69,1093.7 1638.78,1092.09 1640.86,1090.47 1642.95,1088.85 1645.04,1087.22 1647.13,1085.58 1649.21,1083.94 1651.3,1082.29 1653.39,1080.63 1655.48,1078.97 1657.57,1077.3 1659.65,1075.62 1661.74,1073.93 1663.83,1072.24 1665.92,1070.55 1668.01,1068.84 1670.09,1067.13 1672.18,1065.41 1674.27,1063.69 1676.36,1061.96 1678.44,1060.22 1680.53,1058.47 1682.62,1056.72 1684.71,1054.96 1686.8,1053.19 1688.88,1051.42 1690.97,1049.64 1693.06,1047.85 1695.15,1046.05 1697.24,1044.25 1699.32,1042.44 1701.41,1040.62 1703.5,1038.8 1705.59,1036.97 1707.67,1035.13 1709.76,1033.28 1711.85,1031.43 1713.94,1029.57 1716.03,1027.7 1718.11,1025.82 1720.2,1023.94 1722.29,1022.04 1724.38,1020.14 1726.46,1018.24 1728.55,1016.32 1730.64,1014.4 1732.73,1012.47 1734.82,1010.53 1736.9,1008.59 1738.99,1006.63 1741.08,1004.67 1743.17,1002.7 1745.26,1000.73 1747.34,998.74 1749.43,996.747 1751.52,994.746 1753.61,992.737 1755.69,990.72 1757.78,988.695 1759.87,986.661 1761.96,984.62 1764.05,982.57 1766.13,980.512 1768.22,978.445 1770.31,976.371 1772.4,974.288 1774.49,972.196 1776.57,970.096 1778.66,967.988 1780.75,965.871 1782.84,963.746 1784.92,961.613 1787.01,959.47 1789.1,957.319 1791.19,955.16 1793.28,952.991 1795.36,950.814 1797.45,948.629 1799.54,946.434 1801.63,944.231 1803.72,942.019 1805.8,939.797 1807.89,937.567 1809.98,935.328 1812.07,933.08 1814.15,930.823 1816.24,928.557 1818.33,926.282 1820.42,923.998 1822.51,921.704 1824.59,919.402 1826.68,917.09 1828.77,914.768 1830.86,912.438 1832.95,910.098 1835.03,907.748 1837.12,905.39 1839.21,903.021 1841.3,900.643 1843.38,898.256 1845.47,895.859 1847.56,893.453 1849.65,891.036 1851.74,888.61 1853.82,886.175 1855.91,883.729 1858,881.274 1860.09,878.809 1862.17,876.334 1864.26,873.849 1866.35,871.354 1868.44,868.849 1870.53,866.333 1872.61,863.808 1874.7,861.273 1876.79,858.727 1878.88,856.172 1880.97,853.606 1883.05,851.029 1885.14,848.443 1887.23,845.846 1889.32,843.238 1891.4,840.62 1893.49,837.992 1895.58,835.353 1897.67,832.703 1899.76,830.043 1901.84,827.372 1903.93,824.69 1906.02,821.998 1908.11,819.294 1910.2,816.58 1912.28,813.855 1914.37,811.119 1916.46,808.372 1918.55,805.614 1920.63,802.845 1922.72,800.065 1924.81,797.273 1926.9,794.471 1928.99,791.657 1931.07,788.832 1933.16,785.995 1935.25,783.148 1937.34,780.288 1939.43,777.417 1941.51,774.535 1943.6,771.641 1945.69,768.736 1947.78,765.819 1949.86,762.89 1951.95,759.949 1954.04,756.997 1956.13,754.032 1958.22,751.056 1960.3,748.068 1962.39,745.068 1964.48,742.055 1966.57,739.031 1968.65,735.995 1970.74,732.946 1972.83,729.885 1974.92,726.812 1977.01,723.726 1979.09,720.629 1981.18,717.518 1983.27,714.395 1985.36,711.26 1987.45,708.112 1989.53,704.951 1991.62,701.778 1993.71,698.592 1995.8,695.393 1997.88,692.182 1999.97,688.957 2002.06,685.72 2004.15,682.469 2006.24,679.206 2008.32,675.929 2010.41,672.639 2012.5,669.336 2014.59,666.02 2016.68,662.69 2018.76,659.347 2020.85,655.991 2022.94,652.621 2025.03,649.238 2027.11,645.841 2029.2,642.43 2031.29,639.006 2033.38,635.568 2035.47,632.116 2037.55,628.65 2039.64,625.171 2041.73,621.677 2043.82,618.169 2045.91,614.648 2047.99,611.112 2050.08,607.562 2052.17,603.998 2054.26,600.419 2056.34,596.826 2058.43,593.219 2060.52,589.597 2062.61,585.961 2064.7,582.31 2066.78,578.644 2068.87,574.964 2070.96,571.269 2073.05,567.559 2075.14,563.834 2077.22,560.094 2079.31,556.339 2081.4,552.569 2083.49,548.784 2085.57,544.984 2087.66,541.169 2089.75,537.338 2091.84,533.492 2093.93,529.63 2096.01,525.753 2098.1,521.861 2100.19,517.952 2102.28,514.028 2104.36,510.089 2106.45,506.133 2108.54,502.162 2110.63,498.174 2112.72,494.171 2114.8,490.152 2116.89,486.116 2118.98,482.064 2121.07,477.996 2123.16,473.912 2125.24,469.811 2127.33,465.694 2129.42,461.561 2131.51,457.41 2133.59,453.243 2135.68,449.06 2137.77,444.859 2139.86,440.642 2141.95,436.408 2144.03,432.156 2146.12,427.888 2148.21,423.603 2150.3,419.3 2152.39,414.98 2154.47,410.643 2156.56,406.288 2158.65,401.916 2160.74,397.527 2162.82,393.119 2164.91,388.694 2167,384.252 2169.09,379.791 2171.18,375.313 2173.26,370.816 2175.35,366.302 2177.44,361.769 2179.53,357.218 2181.62,352.649 2183.7,348.062 2185.79,343.456 2187.88,338.832 2189.97,334.189 2192.05,329.528 2194.14,324.847 2196.23,320.148 2198.32,315.431 2200.41,310.694 2202.49,305.938 2204.58,301.163 2206.67,296.369 2208.76,291.556 2210.85,286.723 2212.93,281.872 2215.02,277 2217.11,272.109 2219.2,267.199 2221.28,262.268 2223.37,257.318 2225.46,252.348 2227.55,247.358 2229.64,242.348 2231.72,237.318 2233.81,232.268 2235.9,227.198 2237.99,222.107 2240.07,216.996 2242.16,211.864 2244.25,206.712 2246.34,201.538 2248.43,196.345 2250.51,191.13 2252.6,185.895 2254.69,180.638 2256.78,175.36 2258.87,170.061 2260.95,164.741 2263.04,159.4 2265.13,154.037 2267.22,148.653 2269.3,143.247 2271.39,137.819 2273.48,132.369 2275.57,126.898 2277.66,121.405 2279.74,115.889 2281.83,110.352 2283.92,104.792 2286.01,99.2102 2288.1,93.6058 2290.18,87.9789 \"/>\n",
       "<path clip-path=\"url(#clip610)\" d=\"M215.55 250.738 L535.829 250.738 L535.829 95.2176 L215.55 95.2176  Z\" fill=\"#ffffff\" fill-rule=\"evenodd\" fill-opacity=\"1\"/>\n",
       "<polyline clip-path=\"url(#clip610)\" style=\"stroke:#000000; stroke-linecap:round; stroke-linejoin:round; stroke-width:4; stroke-opacity:1; fill:none\" points=\"215.55,250.738 535.829,250.738 535.829,95.2176 215.55,95.2176 215.55,250.738 \"/>\n",
       "<polyline clip-path=\"url(#clip610)\" style=\"stroke:#009af9; stroke-linecap:round; stroke-linejoin:round; stroke-width:4; stroke-opacity:1; fill:none\" points=\"240.115,147.058 387.509,147.058 \"/>\n",
       "<path clip-path=\"url(#clip610)\" d=\"M416.357 160.449 L416.357 174.199 L412.074 174.199 L412.074 138.412 L416.357 138.412 L416.357 142.347 Q417.699 140.032 419.736 138.921 Q421.797 137.787 424.644 137.787 Q429.366 137.787 432.306 141.537 Q435.269 145.287 435.269 151.398 Q435.269 157.509 432.306 161.259 Q429.366 165.009 424.644 165.009 Q421.797 165.009 419.736 163.898 Q417.699 162.763 416.357 160.449 M430.847 151.398 Q430.847 146.699 428.903 144.037 Q426.982 141.352 423.602 141.352 Q420.223 141.352 418.278 144.037 Q416.357 146.699 416.357 151.398 Q416.357 156.097 418.278 158.782 Q420.223 161.444 423.602 161.444 Q426.982 161.444 428.903 158.782 Q430.847 156.097 430.847 151.398 Z\" fill=\"#000000\" fill-rule=\"nonzero\" fill-opacity=\"1\" /><path clip-path=\"url(#clip610)\" d=\"M457.352 142.393 Q456.634 141.977 455.778 141.791 Q454.945 141.583 453.926 141.583 Q450.315 141.583 448.371 143.944 Q446.449 146.282 446.449 150.68 L446.449 164.338 L442.167 164.338 L442.167 138.412 L446.449 138.412 L446.449 142.44 Q447.792 140.078 449.945 138.944 Q452.097 137.787 455.176 137.787 Q455.616 137.787 456.148 137.856 Q456.681 137.903 457.329 138.018 L457.352 142.393 Z\" fill=\"#000000\" fill-rule=\"nonzero\" fill-opacity=\"1\" /><path clip-path=\"url(#clip610)\" d=\"M482.954 150.31 L482.954 152.393 L463.37 152.393 Q463.648 156.791 466.009 159.106 Q468.394 161.398 472.63 161.398 Q475.083 161.398 477.375 160.796 Q479.69 160.194 481.958 158.99 L481.958 163.018 Q479.667 163.99 477.259 164.5 Q474.852 165.009 472.375 165.009 Q466.171 165.009 462.537 161.398 Q458.926 157.787 458.926 151.629 Q458.926 145.264 462.352 141.537 Q465.801 137.787 471.634 137.787 Q476.866 137.787 479.898 141.166 Q482.954 144.523 482.954 150.31 M478.694 149.06 Q478.648 145.565 476.727 143.481 Q474.829 141.398 471.681 141.398 Q468.116 141.398 465.963 143.412 Q463.833 145.426 463.509 149.083 L478.694 149.06 Z\" fill=\"#000000\" fill-rule=\"nonzero\" fill-opacity=\"1\" /><path clip-path=\"url(#clip610)\" d=\"M507.004 142.347 L507.004 128.319 L511.264 128.319 L511.264 164.338 L507.004 164.338 L507.004 160.449 Q505.662 162.763 503.602 163.898 Q501.565 165.009 498.694 165.009 Q493.995 165.009 491.032 161.259 Q488.093 157.509 488.093 151.398 Q488.093 145.287 491.032 141.537 Q493.995 137.787 498.694 137.787 Q501.565 137.787 503.602 138.921 Q505.662 140.032 507.004 142.347 M492.491 151.398 Q492.491 156.097 494.412 158.782 Q496.356 161.444 499.736 161.444 Q503.116 161.444 505.06 158.782 Q507.004 156.097 507.004 151.398 Q507.004 146.699 505.06 144.037 Q503.116 141.352 499.736 141.352 Q496.356 141.352 494.412 144.037 Q492.491 146.699 492.491 151.398 Z\" fill=\"#000000\" fill-rule=\"nonzero\" fill-opacity=\"1\" /><polyline clip-path=\"url(#clip610)\" style=\"stroke:#e26f46; stroke-linecap:round; stroke-linejoin:round; stroke-width:4; stroke-opacity:1; fill:none\" points=\"240.115,198.898 387.509,198.898 \"/>\n",
       "<path clip-path=\"url(#clip610)\" d=\"M419.482 182.891 L419.482 190.252 L428.255 190.252 L428.255 193.562 L419.482 193.562 L419.482 207.636 Q419.482 210.807 420.338 211.71 Q421.218 212.613 423.88 212.613 L428.255 212.613 L428.255 216.178 L423.88 216.178 Q418.949 216.178 417.074 214.349 Q415.199 212.497 415.199 207.636 L415.199 193.562 L412.074 193.562 L412.074 190.252 L415.199 190.252 L415.199 182.891 L419.482 182.891 Z\" fill=\"#000000\" fill-rule=\"nonzero\" fill-opacity=\"1\" /><path clip-path=\"url(#clip610)\" d=\"M448.88 194.233 Q448.162 193.817 447.306 193.631 Q446.472 193.423 445.454 193.423 Q441.843 193.423 439.898 195.784 Q437.977 198.122 437.977 202.52 L437.977 216.178 L433.695 216.178 L433.695 190.252 L437.977 190.252 L437.977 194.28 Q439.32 191.918 441.472 190.784 Q443.625 189.627 446.704 189.627 Q447.144 189.627 447.676 189.696 Q448.208 189.743 448.857 189.858 L448.88 194.233 Z\" fill=\"#000000\" fill-rule=\"nonzero\" fill-opacity=\"1\" /><path clip-path=\"url(#clip610)\" d=\"M452.908 205.946 L452.908 190.252 L457.167 190.252 L457.167 205.784 Q457.167 209.465 458.602 211.316 Q460.037 213.145 462.907 213.145 Q466.357 213.145 468.347 210.946 Q470.361 208.747 470.361 204.951 L470.361 190.252 L474.62 190.252 L474.62 216.178 L470.361 216.178 L470.361 212.196 Q468.81 214.557 466.75 215.715 Q464.713 216.849 462.005 216.849 Q457.537 216.849 455.222 214.071 Q452.908 211.293 452.908 205.946 M463.625 189.627 L463.625 189.627 Z\" fill=\"#000000\" fill-rule=\"nonzero\" fill-opacity=\"1\" /><path clip-path=\"url(#clip610)\" d=\"M505.569 202.15 L505.569 204.233 L485.986 204.233 Q486.264 208.631 488.625 210.946 Q491.009 213.238 495.245 213.238 Q497.699 213.238 499.991 212.636 Q502.305 212.034 504.574 210.83 L504.574 214.858 Q502.282 215.83 499.875 216.34 Q497.467 216.849 494.991 216.849 Q488.787 216.849 485.153 213.238 Q481.542 209.627 481.542 203.469 Q481.542 197.104 484.968 193.377 Q488.417 189.627 494.25 189.627 Q499.481 189.627 502.514 193.006 Q505.569 196.363 505.569 202.15 M501.31 200.9 Q501.264 197.405 499.342 195.321 Q497.444 193.238 494.296 193.238 Q490.731 193.238 488.579 195.252 Q486.449 197.266 486.125 200.923 L501.31 200.9 Z\" fill=\"#000000\" fill-rule=\"nonzero\" fill-opacity=\"1\" /></svg>\n"
      ]
     },
     "metadata": {},
     "output_type": "display_data"
    }
   ],
   "source": [
    "xs = reshape(range(0, 2, length=1000), 1, :)\n",
    "u_pred = pinn.phi(xs, res.u)\n",
    "u_true = @. exp(2xs)+exp(-3xs)\n",
    "\n",
    "using Plots\n",
    "plot(vec(xs),vec(u_pred), label=\"pred\")\n",
    "plot!(vec(xs),vec(u_true), label=\"true\")"
   ]
  }
 ],
 "metadata": {
  "kernelspec": {
   "display_name": "Julia 1.9.0",
   "language": "julia",
   "name": "julia-1.9"
  },
  "language_info": {
   "file_extension": ".jl",
   "mimetype": "application/julia",
   "name": "julia",
   "version": "1.9.0"
  },
  "orig_nbformat": 4
 },
 "nbformat": 4,
 "nbformat_minor": 2
}
