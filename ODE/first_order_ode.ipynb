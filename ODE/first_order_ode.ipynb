{
 "cells": [
  {
   "cell_type": "code",
   "execution_count": 1,
   "metadata": {},
   "outputs": [
    {
     "data": {
      "text/latex": [
       "$$ \\begin{align}\n",
       "\\frac{\\mathrm{d} u\\left( t \\right)}{\\mathrm{d}t} =& \\cos\\left( 0.01 t \\right)\n",
       "\\end{align}\n",
       " $$"
      ],
      "text/plain": [
       "PDESystem\n",
       "Equations: Equation[Differential(t)(u(t)) ~ cos(0.01t)]\n",
       "Boundary Conditions: Equation[u(0) ~ 0]\n",
       "Domain: Symbolics.VarDomainPairing[Symbolics.VarDomainPairing(t, -600..600)]\n",
       "Dependent Variables: Num[u(t)]\n",
       "Independent Variables: Num[t]\n",
       "Parameters: SciMLBase.NullParameters()\n",
       "Default Parameter ValuesDict{Any, Any}()"
      ]
     },
     "metadata": {},
     "output_type": "display_data"
    }
   ],
   "source": [
    "using ModelingToolkit, Sophon, DomainSets\n",
    "using Optimization, OptimizationOptimJL\n",
    "\n",
    "@parameters t\n",
    "@variables u(..)\n",
    "Dₜ = Differential(t)\n",
    "ω = 0.01\n",
    "\n",
    "eq = Dₜ(u(t))~cos(0.01*t)\n",
    "bcs = [\n",
    "    u(0)~0,\n",
    "]\n",
    "\n",
    "domain = [t∈-600..600]\n",
    "@named ode = PDESystem(eq, bcs, domain, [t], [u(t)])"
   ]
  },
  {
   "cell_type": "code",
   "execution_count": 2,
   "metadata": {},
   "outputs": [
    {
     "data": {
      "text/plain": [
       "\u001b[38;2;86;182;194mOptimizationProblem\u001b[0m. In-place: \u001b[38;2;86;182;194mtrue\u001b[0m\n",
       "u0: \u001b[0mComponentVector{Float64}(layer_1 = (weight = [-0.003309581195935607; -0.004154556896537542; … ; 0.009818446822464466; -0.0066983457654714584;;], bias = [0.0; 0.0; … ; 0.0; 0.0;;]), layer_2 = (weight = [0.1387418657541275 0.5637615323066711 … -0.42849135398864746 -0.20847907662391663; 0.1903318166732788 0.587463915348053 … 0.3471759557723999 -0.28931453824043274; … ; 0.08978905528783798 0.1805209070444107 … -0.2314082384109497 0.43300431966781616; -0.001872681314125657 0.17248553037643433 … 0.1124790608882904 0.25642696022987366], bias = [0.0; 0.0; … ; 0.0; 0.0;;]), layer_3 = (weight = [-0.08432869613170624 0.5357442498207092 … 0.3560633361339569 -0.18185995519161224; -0.27841922640800476 0.03247543051838875 … 0.004639691207557917 0.5854868292808533; … ; -0.4239901304244995 -0.03430168330669403 … 0.0905781164765358 -0.32851171493530273; -0.5172685384750366 0.5143831372261047 … -0.5401006937026978 0.1189761832356453], bias = [0.0; 0.0; … ; 0.0; 0.0;;]), layer_4 = (weight = [-0.5582516193389893 0.21375882625579834 … -0.4014865756034851 -0.20576061308383942; -0.5527246594429016 0.40591907501220703 … 0.4172614514827728 0.173406720161438; … ; -0.40079358220100403 0.2080388069152832 … -0.14985013008117676 0.2635972797870636; 0.6032842993736267 0.5397590398788452 … 0.12493623048067093 -0.09246043860912323], bias = [0.0; 0.0; … ; 0.0; 0.0;;]), layer_5 = (weight = [0.1878993660211563 0.6040582060813904 … -0.5671328902244568 0.0015552021795883775], bias = [0.0;;]))"
      ]
     },
     "metadata": {},
     "output_type": "display_data"
    }
   ],
   "source": [
    "sampler = QuasiRandomSampler(1000, 1)\n",
    "pinn = PINN(Siren(1,16,16,16,16,1; omega=0.01f0))\n",
    "strategy = NonAdaptiveTraining(1, 50)\n",
    "\n",
    "prob = Sophon.discretize(ode, pinn, sampler, strategy)"
   ]
  },
  {
   "cell_type": "code",
   "execution_count": 3,
   "metadata": {},
   "outputs": [
    {
     "name": "stdout",
     "output_type": "stream",
     "text": [
      "Loss: 0.47441860626855425\n"
     ]
    },
    {
     "name": "stdout",
     "output_type": "stream",
     "text": [
      "Loss: 0.47342007994170937\n",
      "Loss: 0.4726667257942472\n"
     ]
    },
    {
     "name": "stdout",
     "output_type": "stream",
     "text": [
      "Loss: 0.4659517907250018\n",
      "Loss: 0.4642183804398342\n"
     ]
    },
    {
     "name": "stdout",
     "output_type": "stream",
     "text": [
      "Loss: 0.4640607316865682\n",
      "Loss: 0.4638420281434894\n",
      "Loss: 0.4627347212336706\n"
     ]
    },
    {
     "name": "stdout",
     "output_type": "stream",
     "text": [
      "Loss: 0.46231011413282935\n",
      "Loss: 0.46202539424553635\n",
      "Loss: 0.4619046163803581\n",
      "Loss: 0.4618546116443397\n"
     ]
    },
    {
     "name": "stdout",
     "output_type": "stream",
     "text": [
      "Loss: 0.461810423497064\n",
      "Loss: 0.46176381279296125\n",
      "Loss: 0.4616753373606838\n"
     ]
    },
    {
     "name": "stdout",
     "output_type": "stream",
     "text": [
      "Loss: 0.4613277314117843\n",
      "Loss: 0.4610581176591158\n"
     ]
    },
    {
     "name": "stdout",
     "output_type": "stream",
     "text": [
      "Loss: 0.4609250213000308\n",
      "Loss: 0.46090485355646826\n",
      "Loss: 0.4592763266820605\n",
      "Loss: 0.4585713011880117\n",
      "Loss: 0.4576207633660694\n"
     ]
    },
    {
     "name": "stdout",
     "output_type": "stream",
     "text": [
      "Loss: 0.4536262354763967\n",
      "Loss: 0.45292066156282634\n",
      "Loss: 0.4510542772841001\n",
      "Loss: 0.4487091807137655\n",
      "Loss: 0.44640003364484815\n"
     ]
    },
    {
     "name": "stdout",
     "output_type": "stream",
     "text": [
      "Loss: 0.4445340475327045\n",
      "Loss: 0.44204695559580803\n",
      "Loss: 0.4414598552859432\n",
      "Loss: 0.4354570575789822\n",
      "Loss: 0.4337977528748489\n"
     ]
    },
    {
     "name": "stdout",
     "output_type": "stream",
     "text": [
      "Loss: 0.43122340125062975\n",
      "Loss: 0.41892263528105117\n",
      "Loss: 0.4169491293260023\n"
     ]
    },
    {
     "name": "stdout",
     "output_type": "stream",
     "text": [
      "Loss: 0.4010724885835492\n",
      "Loss: 0.39780945730893136\n"
     ]
    },
    {
     "name": "stdout",
     "output_type": "stream",
     "text": [
      "Loss: 0.3955045330452961\n",
      "Loss: 0.39090090897363344\n"
     ]
    },
    {
     "name": "stdout",
     "output_type": "stream",
     "text": [
      "Loss: 0.38553492318768984\n",
      "Loss: 0.3841680502914109\n",
      "Loss: 0.38161815143716404\n",
      "Loss: 0.37864479995147066\n",
      "Loss: 0.3767750145082561\n"
     ]
    },
    {
     "name": "stdout",
     "output_type": "stream",
     "text": [
      "Loss: 0.3745770399690152\n",
      "Loss: 0.3732436585122287\n"
     ]
    },
    {
     "name": "stdout",
     "output_type": "stream",
     "text": [
      "Loss: 0.3684765010542624\n",
      "Loss: 0.3676565989383246\n",
      "Loss: 0.361804259542928\n",
      "Loss: 0.3613739875385186\n",
      "Loss: 0.3596828318512014\n"
     ]
    },
    {
     "name": "stdout",
     "output_type": "stream",
     "text": [
      "Loss: 0.3555622893528768\n",
      "Loss: 0.3518559478381779\n",
      "Loss: 0.34687088472555816\n"
     ]
    },
    {
     "name": "stdout",
     "output_type": "stream",
     "text": [
      "Loss: 0.3401144977958321\n",
      "Loss: 0.33276769525107425\n",
      "Loss: 0.32962398245094837\n"
     ]
    },
    {
     "name": "stdout",
     "output_type": "stream",
     "text": [
      "Loss: 0.32400570010921714\n",
      "Loss: 0.3224834038955729\n",
      "Loss: 0.31825771032746003\n"
     ]
    },
    {
     "name": "stdout",
     "output_type": "stream",
     "text": [
      "Loss: 0.3120525227242516\n",
      "Loss: 0.3022725964877631\n"
     ]
    },
    {
     "name": "stdout",
     "output_type": "stream",
     "text": [
      "Loss: 0.29745496794691484\n",
      "Loss: 0.28988684822282546\n",
      "Loss: 0.2874097243626544\n",
      "Loss: 0.28371076596769473\n"
     ]
    },
    {
     "name": "stdout",
     "output_type": "stream",
     "text": [
      "Loss: 0.2792925736248628\n",
      "Loss: 0.26950594900363695\n",
      "Loss: 0.26860457372973295\n",
      "Loss: 0.26519188189936094\n"
     ]
    },
    {
     "name": "stdout",
     "output_type": "stream",
     "text": [
      "Loss: 0.2631104659214837\n",
      "Loss: 0.26074651289492434\n",
      "Loss: 0.25788801448756177\n"
     ]
    },
    {
     "name": "stdout",
     "output_type": "stream",
     "text": [
      "Loss: 0.2553557673635004\n",
      "Loss: 0.25097527341527254\n"
     ]
    },
    {
     "name": "stdout",
     "output_type": "stream",
     "text": [
      "Loss: 0.24643547309558786\n",
      "Loss: 0.2417884184879784\n"
     ]
    },
    {
     "name": "stdout",
     "output_type": "stream",
     "text": [
      "Loss: 0.23837851104236651\n",
      "Loss: 0.23511923983130648\n",
      "Loss: 0.23249294980138582\n"
     ]
    },
    {
     "name": "stdout",
     "output_type": "stream",
     "text": [
      "Loss: 0.22794911895247424\n",
      "Loss: 0.21595673201736365\n",
      "Loss: 0.21531481616204903\n"
     ]
    },
    {
     "name": "stdout",
     "output_type": "stream",
     "text": [
      "Loss: 0.20996612503149537\n",
      "Loss: 0.20814486815717087\n",
      "Loss: 0.20410821351906294\n"
     ]
    },
    {
     "name": "stdout",
     "output_type": "stream",
     "text": [
      "Loss: 0.20226056955887056\n",
      "Loss: 0.19405183178612104\n",
      "Loss: 0.19346972541004925\n",
      "Loss: 0.1850945492433154\n"
     ]
    },
    {
     "name": "stdout",
     "output_type": "stream",
     "text": [
      "Loss: 0.18310766119004174\n",
      "Loss: 0.17929413415064305\n",
      "Loss: 0.17196123337750713\n"
     ]
    },
    {
     "name": "stdout",
     "output_type": "stream",
     "text": [
      "Loss: 0.1676403737710772\n",
      "Loss: 0.16577918035940079\n",
      "Loss: 0.16357370010802125\n"
     ]
    },
    {
     "name": "stdout",
     "output_type": "stream",
     "text": [
      "Loss: 0.16236899318554218\n",
      "Loss: 0.16012539676955945\n"
     ]
    },
    {
     "name": "stdout",
     "output_type": "stream",
     "text": [
      "Loss: 0.15749212577136237\n",
      "Loss: 0.1546247961984032\n",
      "Loss: 0.15345636674067478\n"
     ]
    },
    {
     "name": "stdout",
     "output_type": "stream",
     "text": [
      "Loss: 0.15241538837061583\n",
      "Loss: 0.15017119095026035\n"
     ]
    },
    {
     "name": "stdout",
     "output_type": "stream",
     "text": [
      "Loss: 0.14887844962967628\n",
      "Loss: 0.14356348352500442\n",
      "Loss: 0.1410302116056644\n"
     ]
    },
    {
     "name": "stdout",
     "output_type": "stream",
     "text": [
      "Loss: 0.1380035090550796\n",
      "Loss: 0.135465552170126\n"
     ]
    },
    {
     "name": "stdout",
     "output_type": "stream",
     "text": [
      "Loss: 0.13408551245593206\n",
      "Loss: 0.12735713994846493\n",
      "Loss: 0.12684071155113238\n",
      "Loss: 0.12305755977855365\n"
     ]
    },
    {
     "name": "stdout",
     "output_type": "stream",
     "text": [
      "Loss: 0.12249550789167496\n",
      "Loss: 0.11892494467705733\n",
      "Loss: 0.1186718036505938\n"
     ]
    },
    {
     "name": "stdout",
     "output_type": "stream",
     "text": [
      "Loss: 0.11559111998079742\n",
      "Loss: 0.11456928933875773\n",
      "Loss: 0.1127835079035281\n"
     ]
    },
    {
     "name": "stdout",
     "output_type": "stream",
     "text": [
      "Loss: 0.1115795013739679\n",
      "Loss: 0.10840096884123025\n"
     ]
    },
    {
     "name": "stdout",
     "output_type": "stream",
     "text": [
      "Loss: 0.09150512615869055\n",
      "Loss: 0.09101812472228657\n",
      "Loss: 0.08919554999223384\n"
     ]
    },
    {
     "name": "stdout",
     "output_type": "stream",
     "text": [
      "Loss: 0.08659742845599319\n",
      "Loss: 0.08585635441572301\n",
      "Loss: 0.0820993261010054\n"
     ]
    },
    {
     "name": "stdout",
     "output_type": "stream",
     "text": [
      "Loss: 0.07828028380871059\n",
      "Loss: 0.07755203253684691\n",
      "Loss: 0.07452697120784435\n"
     ]
    },
    {
     "name": "stdout",
     "output_type": "stream",
     "text": [
      "Loss: 0.07427928427034178\n",
      "Loss: 0.07083276888265727\n",
      "Loss: 0.0676528817170687\n"
     ]
    },
    {
     "name": "stdout",
     "output_type": "stream",
     "text": [
      "Loss: 0.0666935066552791\n",
      "Loss: 0.06280239991489814\n",
      "Loss: 0.062394034686447934\n"
     ]
    },
    {
     "name": "stdout",
     "output_type": "stream",
     "text": [
      "Loss: 0.05934560915936954\n",
      "Loss: 0.05903780051809544\n",
      "Loss: 0.056983061466980844\n"
     ]
    },
    {
     "name": "stdout",
     "output_type": "stream",
     "text": [
      "Loss: 0.0563701096261739\n",
      "Loss: 0.0532223452010349\n",
      "Loss: 0.05308648435133579\n",
      "Loss: 0.05069919652905097\n"
     ]
    },
    {
     "name": "stdout",
     "output_type": "stream",
     "text": [
      "Loss: 0.04960422583742156\n",
      "Loss: 0.048371281596497576\n"
     ]
    },
    {
     "name": "stdout",
     "output_type": "stream",
     "text": [
      "Loss: 0.045537139277027114\n",
      "Loss: 0.04503944969294934\n"
     ]
    },
    {
     "name": "stdout",
     "output_type": "stream",
     "text": [
      "Loss: 0.043262040324572516\n",
      "Loss: 0.042054384583141736\n",
      "Loss: 0.039952735413512394\n"
     ]
    },
    {
     "name": "stdout",
     "output_type": "stream",
     "text": [
      "Loss: 0.03984455210839614\n",
      "Loss: 0.03745278674890203\n",
      "Loss: 0.03655900509703044\n"
     ]
    },
    {
     "name": "stdout",
     "output_type": "stream",
     "text": [
      "Loss: 0.034628232288653686\n",
      "Loss: 0.03393327605252894\n",
      "Loss: 0.03110868724479039\n"
     ]
    },
    {
     "name": "stdout",
     "output_type": "stream",
     "text": [
      "Loss: 0.030396464061729262\n",
      "Loss: 0.029013563750755908\n",
      "Loss: 0.02739737958736563\n"
     ]
    },
    {
     "name": "stdout",
     "output_type": "stream",
     "text": [
      "Loss: 0.026791900985348407\n",
      "Loss: 0.026331063938180826\n",
      "Loss: 0.02452515666793978\n",
      "Loss: 0.02415927713088885\n"
     ]
    },
    {
     "name": "stdout",
     "output_type": "stream",
     "text": [
      "Loss: 0.022088686642638015\n",
      "Loss: 0.02160682558803154\n",
      "Loss: 0.020987970946043277\n",
      "Loss: 0.020818170541030405\n"
     ]
    },
    {
     "name": "stdout",
     "output_type": "stream",
     "text": [
      "Loss: 0.019131416034978047\n",
      "Loss: 0.018759816471932828\n",
      "Loss: 0.0181367802047331\n"
     ]
    },
    {
     "name": "stdout",
     "output_type": "stream",
     "text": [
      "Loss: 0.017649533261899216\n",
      "Loss: 0.017085902834107634\n",
      "Loss: 0.015484655764922308\n"
     ]
    },
    {
     "name": "stdout",
     "output_type": "stream",
     "text": [
      "Loss: 0.015058941384333968\n",
      "Loss: 0.013466317043468562\n",
      "Loss: 0.012931650630997358\n",
      "Loss: 0.012625338693565974\n"
     ]
    },
    {
     "name": "stdout",
     "output_type": "stream",
     "text": [
      "Loss: 0.011501394600691432\n",
      "Loss: 0.01035140668593697\n",
      "Loss: 0.010113905089198558\n"
     ]
    },
    {
     "name": "stdout",
     "output_type": "stream",
     "text": [
      "Loss: 0.009235240371158165\n",
      "Loss: 0.008723125853516206\n",
      "Loss: 0.008191977544078691\n",
      "Loss: 0.006918888030685391\n",
      "Loss: 0.006732302998966188\n"
     ]
    },
    {
     "name": "stdout",
     "output_type": "stream",
     "text": [
      "Loss: 0.0064464870206074575\n",
      "Loss: 0.006041666732659392\n"
     ]
    },
    {
     "name": "stdout",
     "output_type": "stream",
     "text": [
      "Loss: 0.005912093295069718\n",
      "Loss: 0.005353855924684993\n"
     ]
    },
    {
     "name": "stdout",
     "output_type": "stream",
     "text": [
      "Loss: 0.00526284946425856\n",
      "Loss: 0.004245035210329488\n",
      "Loss: 0.004130085516165157\n"
     ]
    },
    {
     "name": "stdout",
     "output_type": "stream",
     "text": [
      "Loss: 0.0036959860357234867\n",
      "Loss: 0.003468291999059637\n"
     ]
    },
    {
     "name": "stdout",
     "output_type": "stream",
     "text": [
      "Loss: 0.0030831464008686553\n",
      "Loss: 0.002937351523541743\n",
      "Loss: 0.002671656638495162\n",
      "Loss: 0.0025098047129714987\n"
     ]
    },
    {
     "name": "stdout",
     "output_type": "stream",
     "text": [
      "Loss: 0.0023190972153258205\n",
      "Loss: 0.002001050684166386\n",
      "Loss: 0.001851093974662267\n",
      "Loss: 0.0016189962023096913\n"
     ]
    },
    {
     "name": "stdout",
     "output_type": "stream",
     "text": [
      "Loss: 0.0015835360713496254\n",
      "Loss: 0.001421106906227952\n",
      "Loss: 0.0013727398908591367\n"
     ]
    },
    {
     "name": "stdout",
     "output_type": "stream",
     "text": [
      "Loss: 0.0012984828425963693\n",
      "Loss: 0.001215919604831008\n",
      "Loss: 0.0011585578512505455\n",
      "Loss: 0.0009616772426351938\n"
     ]
    },
    {
     "name": "stdout",
     "output_type": "stream",
     "text": [
      "Loss: 0.0009204936667842974\n",
      "Loss: 0.0008354739164394357\n",
      "Loss: 0.0007799943394490423\n",
      "Loss: 0.000737773394855308\n",
      "Loss: 0.0006930497124427012\n",
      "Loss: 0.000549407495035634\n"
     ]
    },
    {
     "name": "stdout",
     "output_type": "stream",
     "text": [
      "Loss: 0.0005340833305418383\n",
      "Loss: 0.0004633353175747327\n",
      "Loss: 0.0004274960086507082\n",
      "Loss: 0.00038009983339819974\n",
      "Loss: 0.0003495991813636774\n",
      "Loss: 0.00030184574751578204\n"
     ]
    },
    {
     "name": "stdout",
     "output_type": "stream",
     "text": [
      "Loss: 0.00023787657654388483\n",
      "Loss: 0.00022428918717477668\n",
      "Loss: 0.00021940515575338726\n",
      "Loss: 0.000196908155901414\n",
      "Loss: 0.00018144230471671475\n",
      "Loss: 0.00016990709652242665\n"
     ]
    },
    {
     "name": "stdout",
     "output_type": "stream",
     "text": [
      "Loss: 0.00015930645414352122\n",
      "Loss: 0.00014897442875503168\n",
      "Loss: 0.0001401256539889786\n",
      "Loss: 0.0001331772446966893\n",
      "Loss: 0.00012844056088211038\n",
      "Loss: 0.00011705281104956386\n"
     ]
    },
    {
     "name": "stdout",
     "output_type": "stream",
     "text": [
      "Loss: 0.00011301490390488491\n",
      "Loss: 0.00010800586606302298\n",
      "Loss: 9.756633678240236e-5\n",
      "Loss: 9.395024559097755e-5\n",
      "Loss: 8.794170442352348e-5\n",
      "Loss: 8.403206871353519e-5\n"
     ]
    },
    {
     "name": "stdout",
     "output_type": "stream",
     "text": [
      "Loss: 7.442150507716844e-5\n",
      "Loss: 7.159252558302708e-5\n",
      "Loss: 6.617667018638983e-5\n",
      "Loss: 6.139821023321534e-5\n",
      "Loss: 5.893186103336251e-5\n",
      "Loss: 5.70920215147821e-5\n"
     ]
    },
    {
     "name": "stdout",
     "output_type": "stream",
     "text": [
      "Loss: 5.310353009987585e-5\n",
      "Loss: 5.0136359368981014e-5\n",
      "Loss: 4.9285908733597655e-5\n",
      "Loss: 4.584141071394141e-5\n",
      "Loss: 4.3323672721679535e-5\n"
     ]
    },
    {
     "name": "stdout",
     "output_type": "stream",
     "text": [
      "Loss: 4.157980546427338e-5\n",
      "Loss: 3.876489414067866e-5\n",
      "Loss: 3.63624814809294e-5\n",
      "Loss: 3.5026266096718194e-5\n",
      "Loss: 3.405914277633522e-5\n"
     ]
    },
    {
     "name": "stdout",
     "output_type": "stream",
     "text": [
      "Loss: 3.3297465608084386e-5\n",
      "Loss: 3.2348182850338565e-5\n",
      "Loss: 3.0601550752699496e-5\n",
      "Loss: 2.953219021087945e-5\n"
     ]
    },
    {
     "name": "stdout",
     "output_type": "stream",
     "text": [
      "Loss: 2.847865982697574e-5\n",
      "Loss: 2.7287299597143658e-5\n",
      "Loss: 2.7001467312024127e-5\n",
      "Loss: 2.5914894437922602e-5\n",
      "Loss: 2.4889362994315905e-5\n"
     ]
    },
    {
     "name": "stdout",
     "output_type": "stream",
     "text": [
      "Loss: 2.4374113404633402e-5\n",
      "Loss: 2.3773940940368015e-5\n",
      "Loss: 2.2280994725309694e-5\n",
      "Loss: 2.0752377179955272e-5\n",
      "Loss: 2.0492335825920037e-5\n"
     ]
    },
    {
     "name": "stdout",
     "output_type": "stream",
     "text": [
      "Loss: 1.9330164889391166e-5\n",
      "Loss: 1.7884365760991048e-5\n",
      "Loss: 1.649457633075697e-5\n",
      "Loss: 1.567883611834899e-5\n",
      "Loss: 1.5402392871114597e-5\n"
     ]
    },
    {
     "name": "stdout",
     "output_type": "stream",
     "text": [
      "Loss: 1.4691693951932336e-5\n",
      "Loss: 1.4078441879499928e-5\n",
      "Loss: 1.3418120811769994e-5\n",
      "Loss: 1.3287604717023621e-5\n",
      "Loss: 1.2898458365598594e-5\n"
     ]
    },
    {
     "name": "stdout",
     "output_type": "stream",
     "text": [
      "Loss: 1.2329018485580847e-5\n",
      "Loss: 1.1766357247452285e-5\n",
      "Loss: 1.1149723393591534e-5\n",
      "Loss: 1.0219914190971838e-5\n",
      "Loss: 9.921522564236932e-6\n"
     ]
    },
    {
     "name": "stdout",
     "output_type": "stream",
     "text": [
      "Loss: 9.157004903537261e-6\n",
      "Loss: 8.67295788082574e-6\n",
      "Loss: 8.238246732722186e-6\n",
      "Loss: 7.717297655175719e-6\n",
      "Loss: 7.419297990131609e-6\n"
     ]
    },
    {
     "name": "stdout",
     "output_type": "stream",
     "text": [
      "Loss: 7.16330960799001e-6\n",
      "Loss: 6.92666340764526e-6\n",
      "Loss: 6.698053134349001e-6\n",
      "Loss: 6.419205075010485e-6\n"
     ]
    },
    {
     "name": "stdout",
     "output_type": "stream",
     "text": [
      "Loss: 6.162289176400761e-6\n",
      "Loss: 5.649386219874325e-6\n",
      "Loss: 5.270275705810409e-6\n",
      "Loss: 4.914313956185455e-6\n",
      "Loss: 4.645954921156245e-6\n"
     ]
    },
    {
     "name": "stdout",
     "output_type": "stream",
     "text": [
      "Loss: 4.391164466423826e-6\n",
      "Loss: 4.274830305254772e-6\n",
      "Loss: 4.207426911786825e-6\n",
      "Loss: 4.096260506539955e-6\n",
      "Loss: 3.9531930869990265e-6\n"
     ]
    },
    {
     "name": "stdout",
     "output_type": "stream",
     "text": [
      "Loss: 3.7685322815687654e-6\n",
      "Loss: 3.615302065411337e-6\n",
      "Loss: 3.4956353911305026e-6\n",
      "Loss: 3.4375108523652996e-6\n"
     ]
    },
    {
     "name": "stdout",
     "output_type": "stream",
     "text": [
      "Loss: 3.3519739749186014e-6\n",
      "Loss: 3.2663610619325785e-6\n",
      "Loss: 3.2008360527768396e-6\n",
      "Loss: 3.1159866923542884e-6\n",
      "Loss: 2.985368303960094e-6\n"
     ]
    },
    {
     "name": "stdout",
     "output_type": "stream",
     "text": [
      "Loss: 2.9269348036078643e-6\n",
      "Loss: 2.8910914343248814e-6\n",
      "Loss: 2.8121203384174462e-6\n",
      "Loss: 2.6653873001626333e-6\n",
      "Loss: 2.5526049336446017e-6\n"
     ]
    },
    {
     "name": "stdout",
     "output_type": "stream",
     "text": [
      "Loss: 2.438826819789344e-6\n",
      "Loss: 2.3731109662260205e-6\n",
      "Loss: 2.245297120559705e-6\n",
      "Loss: 2.1741576481064568e-6\n",
      "Loss: 2.124477031809481e-6\n"
     ]
    },
    {
     "name": "stdout",
     "output_type": "stream",
     "text": [
      "Loss: 2.0739021996949865e-6\n",
      "Loss: 2.0009387349865845e-6\n",
      "Loss: 1.9083820380382017e-6\n",
      "Loss: 1.8170210596803678e-6\n"
     ]
    },
    {
     "name": "stdout",
     "output_type": "stream",
     "text": [
      "Loss: 1.766871128132365e-6\n",
      "Loss: 1.73412528101131e-6\n",
      "Loss: 1.6889910218902352e-6\n",
      "Loss: 1.6486821169676368e-6\n"
     ]
    },
    {
     "name": "stdout",
     "output_type": "stream",
     "text": [
      "Loss: 1.5993074106846284e-6\n",
      "Loss: 1.5351841817087339e-6\n",
      "Loss: 1.4558408544049462e-6\n",
      "Loss: 1.3944619906506106e-6\n"
     ]
    },
    {
     "name": "stdout",
     "output_type": "stream",
     "text": [
      "Loss: 1.3309996189698052e-6\n",
      "Loss: 1.2710742205322902e-6\n",
      "Loss: 1.2218966336739615e-6\n",
      "Loss: 1.1900399912089534e-6\n",
      "Loss: 1.1598205368483243e-6\n"
     ]
    },
    {
     "name": "stdout",
     "output_type": "stream",
     "text": [
      "Loss: 1.1376029158927327e-6\n",
      "Loss: 1.1186924276010003e-6\n",
      "Loss: 1.1004824808582217e-6\n",
      "Loss: 1.0733800527415539e-6\n",
      "Loss: 1.0366862364730298e-6\n"
     ]
    },
    {
     "name": "stdout",
     "output_type": "stream",
     "text": [
      "Loss: 1.010571758764318e-6\n",
      "Loss: 1.001926442402498e-6\n",
      "Loss: 9.887335868034351e-7\n",
      "Loss: 9.730200116199605e-7\n",
      "Loss: 9.579305371072315e-7\n"
     ]
    },
    {
     "name": "stdout",
     "output_type": "stream",
     "text": [
      "Loss: 9.420477862142425e-7\n",
      "Loss: 9.236811054167316e-7\n",
      "Loss: 8.994026257216811e-7\n",
      "Loss: 8.89075116690375e-7\n"
     ]
    },
    {
     "name": "stdout",
     "output_type": "stream",
     "text": [
      "Loss: 8.80421532605149e-7\n",
      "Loss: 8.61568875602197e-7\n",
      "Loss: 8.363803524115223e-7\n",
      "Loss: 8.2021763053943e-7\n",
      "Loss: 8.113332375760808e-7\n"
     ]
    },
    {
     "name": "stdout",
     "output_type": "stream",
     "text": [
      "Loss: 7.886719661908687e-7\n",
      "Loss: 7.654869783584168e-7\n",
      "Loss: 7.553171151376191e-7\n",
      "Loss: 7.4888683240398e-7\n",
      "Loss: 7.376745344865231e-7\n"
     ]
    },
    {
     "name": "stdout",
     "output_type": "stream",
     "text": [
      "Loss: 7.150045242267593e-7\n",
      "Loss: 6.874005944337216e-7\n",
      "Loss: 6.792998937924091e-7\n",
      "Loss: 6.719853762243857e-7\n",
      "Loss: 6.646083247685939e-7\n"
     ]
    },
    {
     "name": "stdout",
     "output_type": "stream",
     "text": [
      "Loss: 6.545446843456836e-7\n",
      "Loss: 6.422778999281092e-7\n",
      "Loss: 6.259279771545986e-7\n",
      "Loss: 6.192982643446833e-7\n",
      "Loss: 6.140382954693753e-7\n"
     ]
    },
    {
     "name": "stdout",
     "output_type": "stream",
     "text": [
      "Loss: 6.076786192740294e-7\n",
      "Loss: 6.013785838818027e-7\n",
      "Loss: 5.974850204709871e-7\n",
      "Loss: 5.951189713170316e-7\n",
      "Loss: 5.916215496224829e-7\n"
     ]
    },
    {
     "name": "stdout",
     "output_type": "stream",
     "text": [
      "Loss: 5.837636780649017e-7\n",
      "Loss: 5.659522354829284e-7\n",
      "Loss: 5.586064577874621e-7\n",
      "Loss: 5.373625281288312e-7\n",
      "Loss: 5.252692628636374e-7\n"
     ]
    },
    {
     "name": "stdout",
     "output_type": "stream",
     "text": [
      "Loss: 5.166753973079874e-7\n",
      "Loss: 5.132092436954098e-7\n",
      "Loss: 5.074850349904631e-7\n",
      "Loss: 4.840343857098671e-7\n"
     ]
    },
    {
     "name": "stdout",
     "output_type": "stream",
     "text": [
      "Loss: 4.5754060366196665e-7\n",
      "Loss: 4.427081159505484e-7\n",
      "Loss: 4.357404639691297e-7\n",
      "Loss: 4.2758737426969374e-7\n",
      "Loss: 4.227156945182519e-7\n"
     ]
    },
    {
     "name": "stdout",
     "output_type": "stream",
     "text": [
      "Loss: 4.1823177897367284e-7\n",
      "Loss: 4.121748482857588e-7\n",
      "Loss: 4.0394450115328625e-7\n",
      "Loss: 3.9307898558618406e-7\n",
      "Loss: 3.845423048250747e-7\n"
     ]
    },
    {
     "name": "stdout",
     "output_type": "stream",
     "text": [
      "Loss: 3.75358854847312e-7\n",
      "Loss: 3.68548871876949e-7\n",
      "Loss: 3.6293158219126306e-7\n",
      "Loss: 3.6044537211497183e-7\n",
      "Loss: 3.5683940779770686e-7\n"
     ]
    },
    {
     "name": "stdout",
     "output_type": "stream",
     "text": [
      "Loss: 3.5259325938783275e-7\n",
      "Loss: 3.4877490024217694e-7\n",
      "Loss: 3.4446610878614417e-7\n",
      "Loss: 3.401468357841011e-7\n",
      "Loss: 3.3823129150775343e-7\n"
     ]
    },
    {
     "name": "stdout",
     "output_type": "stream",
     "text": [
      "Loss: 3.36518570974566e-7\n",
      "Loss: 3.3488065535079143e-7\n",
      "Loss: 3.3151534105354596e-7\n",
      "Loss: 3.2273170048328683e-7\n"
     ]
    },
    {
     "name": "stdout",
     "output_type": "stream",
     "text": [
      "Loss: 3.128845651224108e-7\n",
      "Loss: 3.02686342659124e-7\n",
      "Loss: 2.991622685969247e-7\n",
      "Loss: 2.9624484461696075e-7\n",
      "Loss: 2.9380285241542177e-7\n"
     ]
    },
    {
     "name": "stdout",
     "output_type": "stream",
     "text": [
      "Loss: 2.9032437702574304e-7\n",
      "Loss: 2.861308679082163e-7\n",
      "Loss: 2.8412653216905847e-7\n",
      "Loss: 2.8130490031106136e-7\n"
     ]
    },
    {
     "name": "stdout",
     "output_type": "stream",
     "text": [
      "Loss: 2.7791863472228957e-7\n",
      "Loss: 2.7159750839992156e-7\n",
      "Loss: 2.664894968994904e-7\n",
      "Loss: 2.608773967317627e-7\n",
      "Loss: 2.58777532715881e-7\n"
     ]
    },
    {
     "name": "stdout",
     "output_type": "stream",
     "text": [
      "Loss: 2.558612607080557e-7\n",
      "Loss: 2.5381240576287706e-7\n",
      "Loss: 2.518613180133458e-7\n",
      "Loss: 2.477351429032207e-7\n"
     ]
    },
    {
     "name": "stdout",
     "output_type": "stream",
     "text": [
      "Loss: 2.405117265233884e-7\n",
      "Loss: 2.377818159186955e-7\n",
      "Loss: 2.334198287498655e-7\n",
      "Loss: 2.2997866958572343e-7\n",
      "Loss: 2.28946361737954e-7\n"
     ]
    },
    {
     "name": "stdout",
     "output_type": "stream",
     "text": [
      "Loss: 2.2811616343206842e-7\n",
      "Loss: 2.2778936361810405e-7\n",
      "Loss: 2.2696107977862393e-7\n",
      "Loss: 2.2279164706430546e-7\n"
     ]
    },
    {
     "name": "stdout",
     "output_type": "stream",
     "text": [
      "Loss: 2.147587815890862e-7\n",
      "Loss: 2.0620313180511983e-7\n",
      "Loss: 2.0224347995892815e-7\n",
      "Loss: 1.9805778675340092e-7\n"
     ]
    },
    {
     "name": "stdout",
     "output_type": "stream",
     "text": [
      "Loss: 1.9681771095120383e-7\n",
      "Loss: 1.958482825686144e-7\n",
      "Loss: 1.9495517104713108e-7\n",
      "Loss: 1.9425202311762682e-7\n",
      "Loss: 1.937391674918499e-7\n"
     ]
    },
    {
     "name": "stdout",
     "output_type": "stream",
     "text": [
      "Loss: 1.9295224490838196e-7\n",
      "Loss: 1.9112082454480178e-7\n",
      "Loss: 1.8849870430862785e-7\n",
      "Loss: 1.8694818134331766e-7\n",
      "Loss: 1.847039072026598e-7\n"
     ]
    },
    {
     "name": "stdout",
     "output_type": "stream",
     "text": [
      "Loss: 1.835792029971028e-7\n",
      "Loss: 1.8260102483894155e-7\n",
      "Loss: 1.8178063934816566e-7\n",
      "Loss: 1.8102329369398134e-7\n",
      "Loss: 1.8029335554105858e-7\n"
     ]
    },
    {
     "name": "stdout",
     "output_type": "stream",
     "text": [
      "Loss: 1.799725944495597e-7\n",
      "Loss: 1.7968455784427653e-7\n",
      "Loss: 1.7914119835277242e-7\n",
      "Loss: 1.7799408077012587e-7\n",
      "Loss: 1.765137465865112e-7\n"
     ]
    },
    {
     "name": "stdout",
     "output_type": "stream",
     "text": [
      "Loss: 1.7362927438398549e-7\n",
      "Loss: 1.683932595015605e-7\n",
      "Loss: 1.650683883421055e-7\n",
      "Loss: 1.6304124446620397e-7\n",
      "Loss: 1.620769370910437e-7\n"
     ]
    },
    {
     "name": "stdout",
     "output_type": "stream",
     "text": [
      "Loss: 1.6106386276511186e-7\n",
      "Loss: 1.6066024392847037e-7\n",
      "Loss: 1.6049116030128382e-7\n",
      "Loss: 1.6030117564274422e-7\n",
      "Loss: 1.6005417713124735e-7\n"
     ]
    },
    {
     "name": "stdout",
     "output_type": "stream",
     "text": [
      "Loss: 1.5951569096919463e-7\n",
      "Loss: 1.5707991105876627e-7\n",
      "Loss: 1.502737117829994e-7\n",
      "Loss: 1.459881855813313e-7\n",
      "Loss: 1.4523925373777e-7\n"
     ]
    },
    {
     "name": "stdout",
     "output_type": "stream",
     "text": [
      "Loss: 1.4403031206056528e-7\n",
      "Loss: 1.4340741119568972e-7\n",
      "Loss: 1.4279385621063683e-7\n",
      "Loss: 1.4225812816033465e-7\n",
      "Loss: 1.417995260356192e-7\n"
     ]
    },
    {
     "name": "stdout",
     "output_type": "stream",
     "text": [
      "Loss: 1.4156112669447793e-7\n",
      "Loss: 1.4134785952257094e-7\n",
      "Loss: 1.4114789501193817e-7\n",
      "Loss: 1.4077958167953706e-7\n",
      "Loss: 1.4009195656457388e-7\n"
     ]
    },
    {
     "name": "stdout",
     "output_type": "stream",
     "text": [
      "Loss: 1.394996220668699e-7\n",
      "Loss: 1.3882013103419786e-7\n",
      "Loss: 1.3724012952665234e-7\n",
      "Loss: 1.3504462016695258e-7\n",
      "Loss: 1.3257386965079713e-7\n"
     ]
    },
    {
     "name": "stdout",
     "output_type": "stream",
     "text": [
      "Loss: 1.3089701839775354e-7\n",
      "Loss: 1.2938578390489885e-7\n",
      "Loss: 1.2863801116947367e-7\n",
      "Loss: 1.2808848400375422e-7\n",
      "Loss: 1.276845052840958e-7\n",
      "Loss: 1.2730321762276335e-7\n"
     ]
    },
    {
     "name": "stdout",
     "output_type": "stream",
     "text": [
      "Loss: 1.266746785732286e-7\n",
      "Loss: 1.2626710949627237e-7\n",
      "Loss: 1.260774975226201e-7\n",
      "Loss: 1.2590942218464695e-7\n",
      "Loss: 1.2579826063545088e-7\n"
     ]
    },
    {
     "name": "stdout",
     "output_type": "stream",
     "text": [
      "Loss: 1.2564357064703056e-7\n",
      "Loss: 1.2538823634029355e-7\n",
      "Loss: 1.243251378741908e-7\n",
      "Loss: 1.217180455853815e-7\n"
     ]
    },
    {
     "name": "stdout",
     "output_type": "stream",
     "text": [
      "Loss: 1.1956864401867004e-7\n",
      "Loss: 1.1866188589486453e-7\n",
      "Loss: 1.1851677092775769e-7\n",
      "Loss: 1.1824705903981987e-7\n",
      "Loss: 1.1802234257150952e-7\n"
     ]
    },
    {
     "name": "stdout",
     "output_type": "stream",
     "text": [
      "Loss: 1.1745238279755241e-7\n",
      "Loss: 1.1679578699388865e-7\n",
      "Loss: 1.1650030604113081e-7\n",
      "Loss: 1.158364778474399e-7\n",
      "Loss: 1.1569238300954195e-7\n"
     ]
    },
    {
     "name": "stdout",
     "output_type": "stream",
     "text": [
      "Loss: 1.1498840954292924e-7\n",
      "Loss: 1.1349581067466223e-7\n",
      "Loss: 1.1276208418935174e-7\n",
      "Loss: 1.1038554988887684e-7\n",
      "Loss: 1.0951864410043372e-7\n",
      "Loss: 1.072011856907526e-7\n"
     ]
    },
    {
     "name": "stdout",
     "output_type": "stream",
     "text": [
      "Loss: 1.0615530959653596e-7\n",
      "Loss: 1.0463360336315348e-7\n",
      "Loss: 1.0378677512108395e-7\n",
      "Loss: 1.0304195694942486e-7\n",
      "Loss: 1.0269536374035506e-7\n",
      "Loss: 1.024738823749974e-7\n"
     ]
    },
    {
     "name": "stdout",
     "output_type": "stream",
     "text": [
      "Loss: 1.0226622992233111e-7\n",
      "Loss: 1.0210985168080423e-7\n",
      "Loss: 1.0194627768588984e-7\n",
      "Loss: 1.0158443936556768e-7\n",
      "Loss: 1.0111868735688793e-7\n"
     ]
    },
    {
     "name": "stdout",
     "output_type": "stream",
     "text": [
      "Loss: 1.005466941323924e-7\n",
      "Loss: 1.0013479666966219e-7\n",
      "Loss: 9.974876849898442e-8\n",
      "Loss: 9.923248837553638e-8\n"
     ]
    },
    {
     "name": "stdout",
     "output_type": "stream",
     "text": [
      "Loss: 9.852717643690229e-8\n",
      "Loss: 9.7866346979906e-8\n",
      "Loss: 9.741184705314122e-8\n",
      "Loss: 9.721293773306241e-8\n",
      "Loss: 9.689332730003809e-8\n"
     ]
    },
    {
     "name": "stdout",
     "output_type": "stream",
     "text": [
      "Loss: 9.649921633682423e-8\n",
      "Loss: 9.601316436352691e-8\n",
      "Loss: 9.57072743966533e-8\n",
      "Loss: 9.552598529702473e-8\n",
      "Loss: 9.53024248816159e-8\n"
     ]
    },
    {
     "name": "stdout",
     "output_type": "stream",
     "text": [
      "Loss: 9.50772907013574e-8\n",
      "Loss: 9.487342495375463e-8\n",
      "Loss: 9.4794619569621e-8\n",
      "Loss: 9.464612916901327e-8\n",
      "Loss: 9.446144548966171e-8\n"
     ]
    },
    {
     "name": "stdout",
     "output_type": "stream",
     "text": [
      "Loss: 9.416175688574924e-8\n",
      "Loss: 9.389701274773309e-8\n",
      "Loss: 9.326258084302204e-8\n",
      "Loss: 9.190550350566137e-8\n",
      "Loss: 9.022151849073894e-8\n"
     ]
    },
    {
     "name": "stdout",
     "output_type": "stream",
     "text": [
      "Loss: 8.783946848108772e-8\n",
      "Loss: 8.649567164793147e-8\n",
      "Loss: 8.510900527695313e-8\n",
      "Loss: 8.453453792842451e-8\n",
      "Loss: 8.336623674970148e-8\n",
      "Loss: 8.298524753864033e-8\n"
     ]
    },
    {
     "name": "stdout",
     "output_type": "stream",
     "text": [
      "Loss: 8.273759015304405e-8\n",
      "Loss: 8.259380493804086e-8\n",
      "Loss: 8.249574448966415e-8\n",
      "Loss: 8.227430355503452e-8\n",
      "Loss: 8.203687777017594e-8\n"
     ]
    },
    {
     "name": "stdout",
     "output_type": "stream",
     "text": [
      "Loss: 8.195277901165553e-8\n",
      "Loss: 8.186651572455629e-8\n",
      "Loss: 8.178669447397258e-8\n",
      "Loss: 8.172153260312616e-8\n",
      "Loss: 8.165859380488702e-8\n"
     ]
    },
    {
     "name": "stdout",
     "output_type": "stream",
     "text": [
      "Loss: 8.16065938764631e-8\n",
      "Loss: 8.150002755075543e-8\n",
      "Loss: 8.135664469376522e-8\n",
      "Loss: 8.11207501683463e-8\n",
      "Loss: 8.089429698335358e-8\n",
      "Loss: 8.059721243449592e-8\n"
     ]
    },
    {
     "name": "stdout",
     "output_type": "stream",
     "text": [
      "Loss: 7.970191881364511e-8\n",
      "Loss: 7.877437484066406e-8\n",
      "Loss: 7.70102960757119e-8\n",
      "Loss: 7.592696035766185e-8\n"
     ]
    },
    {
     "name": "stdout",
     "output_type": "stream",
     "text": [
      "Loss: 7.472920294688128e-8\n",
      "Loss: 7.40672684648974e-8\n",
      "Loss: 7.244957248358543e-8\n",
      "Loss: 7.173751723138081e-8\n",
      "Loss: 7.115044457178892e-8\n"
     ]
    },
    {
     "name": "stdout",
     "output_type": "stream",
     "text": [
      "Loss: 7.058064572010491e-8\n",
      "Loss: 7.001138841367437e-8\n",
      "Loss: 6.945080718003621e-8\n",
      "Loss: 6.860286366308268e-8\n",
      "Loss: 6.761365640788125e-8\n",
      "Loss: 6.624850824534553e-8\n"
     ]
    },
    {
     "name": "stdout",
     "output_type": "stream",
     "text": [
      "Loss: 6.554973684226948e-8\n",
      "Loss: 6.50358678034857e-8\n",
      "Loss: 6.468099134999116e-8\n",
      "Loss: 6.446204655928238e-8\n",
      "Loss: 6.435177018727956e-8\n"
     ]
    },
    {
     "name": "stdout",
     "output_type": "stream",
     "text": [
      "Loss: 6.426424403126484e-8\n",
      "Loss: 6.41800986364471e-8\n",
      "Loss: 6.410862041682087e-8\n",
      "Loss: 6.406432900853274e-8\n"
     ]
    },
    {
     "name": "stdout",
     "output_type": "stream",
     "text": [
      "Loss: 6.400545571295044e-8\n",
      "Loss: 6.392781950668974e-8\n",
      "Loss: 6.383340091310483e-8\n",
      "Loss: 6.368674267201925e-8\n",
      "Loss: 6.346302269922762e-8\n"
     ]
    },
    {
     "name": "stdout",
     "output_type": "stream",
     "text": [
      "Loss: 6.325911824097938e-8\n",
      "Loss: 6.307357350541997e-8\n",
      "Loss: 6.291156392074991e-8\n",
      "Loss: 6.280702909972613e-8\n",
      "Loss: 6.27079736706978e-8\n"
     ]
    },
    {
     "name": "stdout",
     "output_type": "stream",
     "text": [
      "Loss: 6.263010737783403e-8\n",
      "Loss: 6.253312084532516e-8\n",
      "Loss: 6.24260464015873e-8\n",
      "Loss: 6.230425762695616e-8\n",
      "Loss: 6.221898244862245e-8\n"
     ]
    },
    {
     "name": "stdout",
     "output_type": "stream",
     "text": [
      "Loss: 6.213723292788776e-8\n",
      "Loss: 6.205666964104815e-8\n",
      "Loss: 6.196575823615331e-8\n",
      "Loss: 6.187542887284149e-8\n",
      "Loss: 6.179992097892508e-8\n"
     ]
    },
    {
     "name": "stdout",
     "output_type": "stream",
     "text": [
      "Loss: 6.17012122659552e-8\n",
      "Loss: 6.15474121291732e-8\n",
      "Loss: 6.138188556929526e-8\n",
      "Loss: 6.107206948234288e-8\n",
      "Loss: 6.072840750217114e-8\n"
     ]
    },
    {
     "name": "stdout",
     "output_type": "stream",
     "text": [
      "Loss: 6.037119492715947e-8\n",
      "Loss: 5.985097504913878e-8\n",
      "Loss: 5.9269375992557565e-8\n",
      "Loss: 5.8716607933679454e-8\n",
      "Loss: 5.7662743073700376e-8\n"
     ]
    },
    {
     "name": "stdout",
     "output_type": "stream",
     "text": [
      "Loss: 5.604703233046777e-8\n",
      "Loss: 5.502864601528783e-8\n",
      "Loss: 5.355897343219741e-8\n",
      "Loss: 5.140669705998874e-8\n",
      "Loss: 5.103625898176237e-8\n",
      "Loss: 5.020187516104907e-8\n"
     ]
    },
    {
     "name": "stdout",
     "output_type": "stream",
     "text": [
      "Loss: 4.968086766580578e-8\n",
      "Loss: 4.940401556489868e-8\n",
      "Loss: 4.891739306279377e-8\n",
      "Loss: 4.843423888621836e-8\n"
     ]
    },
    {
     "name": "stdout",
     "output_type": "stream",
     "text": [
      "Loss: 4.792822926417094e-8\n",
      "Loss: 4.776146109564186e-8\n",
      "Loss: 4.755108787939104e-8\n",
      "Loss: 4.734868808439458e-8\n",
      "Loss: 4.700622680636896e-8\n",
      "Loss: 4.665497787987212e-8\n"
     ]
    },
    {
     "name": "stdout",
     "output_type": "stream",
     "text": [
      "Loss: 4.64725889637231e-8\n",
      "Loss: 4.6281255616616356e-8\n",
      "Loss: 4.6078514659487375e-8\n",
      "Loss: 4.59342635072344e-8\n",
      "Loss: 4.5638487269738854e-8\n"
     ]
    },
    {
     "name": "stdout",
     "output_type": "stream",
     "text": [
      "Loss: 4.534203201709902e-8\n",
      "Loss: 4.509951239886563e-8\n",
      "Loss: 4.4942538959773826e-8\n",
      "Loss: 4.471321240666166e-8\n",
      "Loss: 4.456262434634929e-8\n"
     ]
    },
    {
     "name": "stdout",
     "output_type": "stream",
     "text": [
      "Loss: 4.4445817951663305e-8\n",
      "Loss: 4.435734970607599e-8\n",
      "Loss: 4.426751896724061e-8\n",
      "Loss: 4.419468978791493e-8\n",
      "Loss: 4.414039952367908e-8\n"
     ]
    },
    {
     "name": "stdout",
     "output_type": "stream",
     "text": [
      "Loss: 4.409955935221218e-8\n",
      "Loss: 4.4057663348000355e-8\n",
      "Loss: 4.402198100116948e-8\n",
      "Loss: 4.396823261660691e-8\n",
      "Loss: 4.392559451153343e-8\n",
      "Loss: 4.388573645337639e-8\n"
     ]
    },
    {
     "name": "stdout",
     "output_type": "stream",
     "text": [
      "Loss: 4.384851371063395e-8\n",
      "Loss: 4.3811313098692955e-8\n",
      "Loss: 4.378292679487544e-8\n",
      "Loss: 4.3750551667533965e-8\n"
     ]
    },
    {
     "name": "stdout",
     "output_type": "stream",
     "text": [
      "Loss: 4.3718733360810684e-8\n",
      "Loss: 4.369551291138836e-8\n",
      "Loss: 4.3663958314161343e-8\n",
      "Loss: 4.363074396977589e-8\n",
      "Loss: 4.3603175200824977e-8\n"
     ]
    },
    {
     "name": "stdout",
     "output_type": "stream",
     "text": [
      "Loss: 4.3569078331149856e-8\n",
      "Loss: 4.350973032337643e-8\n",
      "Loss: 4.343146941297665e-8\n",
      "Loss: 4.3373551185480946e-8\n",
      "Loss: 4.3313297919828035e-8\n"
     ]
    },
    {
     "name": "stdout",
     "output_type": "stream",
     "text": [
      "Loss: 4.32113616186923e-8\n",
      "Loss: 4.308446961884068e-8\n",
      "Loss: 4.279920865781107e-8\n",
      "Loss: 4.268508192862239e-8\n",
      "Loss: 4.258403817640394e-8\n"
     ]
    },
    {
     "name": "stdout",
     "output_type": "stream",
     "text": [
      "Loss: 4.250317834455893e-8\n",
      "Loss: 4.237385094115442e-8\n",
      "Loss: 4.227938736737976e-8\n",
      "Loss: 4.2161050096442085e-8\n",
      "Loss: 4.200207934293344e-8\n"
     ]
    },
    {
     "name": "stdout",
     "output_type": "stream",
     "text": [
      "Loss: 4.185707919442604e-8\n",
      "Loss: 4.170583320188151e-8\n",
      "Loss: 4.148327087771379e-8\n",
      "Loss: 4.127355504716185e-8\n",
      "Loss: 4.113864641648371e-8\n",
      "Loss: 4.0888233409761506e-8\n"
     ]
    },
    {
     "name": "stdout",
     "output_type": "stream",
     "text": [
      "Loss: 4.074620487520959e-8\n",
      "Loss: 4.046107037595243e-8\n",
      "Loss: 4.029022904822761e-8\n",
      "Loss: 4.0066840409338716e-8\n",
      "Loss: 3.9875014691515894e-8\n"
     ]
    },
    {
     "name": "stdout",
     "output_type": "stream",
     "text": [
      "Loss: 3.978060633706769e-8\n",
      "Loss: 3.963674894097348e-8\n",
      "Loss: 3.9411076369029464e-8\n",
      "Loss: 3.926724506933236e-8\n",
      "Loss: 3.902766285593568e-8\n"
     ]
    },
    {
     "name": "stdout",
     "output_type": "stream",
     "text": [
      "Loss: 3.8854729490934336e-8\n",
      "Loss: 3.848821109872171e-8\n",
      "Loss: 3.812644358520536e-8\n",
      "Loss: 3.777689954948821e-8\n",
      "Loss: 3.740511933663338e-8\n"
     ]
    },
    {
     "name": "stdout",
     "output_type": "stream",
     "text": [
      "Loss: 3.713962659448212e-8\n",
      "Loss: 3.6835767696589846e-8\n",
      "Loss: 3.6587610183234546e-8\n",
      "Loss: 3.6254073647685214e-8\n",
      "Loss: 3.602127640853342e-8\n",
      "Loss: 3.564775350708968e-8\n"
     ]
    },
    {
     "name": "stdout",
     "output_type": "stream",
     "text": [
      "Loss: 3.530986116902438e-8\n",
      "Loss: 3.520845655064086e-8\n",
      "Loss: 3.4844657191562985e-8\n",
      "Loss: 3.4439943849304075e-8\n",
      "Loss: 3.3743966769227694e-8\n",
      "Loss: 3.348742533586741e-8\n"
     ]
    },
    {
     "name": "stdout",
     "output_type": "stream",
     "text": [
      "Loss: 3.313639755972184e-8\n",
      "Loss: 3.2912830877973966e-8\n",
      "Loss: 3.254479720270027e-8\n",
      "Loss: 3.2344479899784285e-8\n",
      "Loss: 3.1961058072065917e-8\n"
     ]
    },
    {
     "name": "stdout",
     "output_type": "stream",
     "text": [
      "Loss: 3.171562090062143e-8\n",
      "Loss: 3.1539971247482093e-8\n",
      "Loss: 3.133479339818927e-8\n",
      "Loss: 3.126655637116289e-8\n",
      "Loss: 3.111856330740642e-8\n",
      "Loss: 3.10090172890927e-8\n"
     ]
    },
    {
     "name": "stdout",
     "output_type": "stream",
     "text": [
      "Loss: 3.088893880176744e-8\n",
      "Loss: 3.0770061653879286e-8\n",
      "Loss: 3.068799072229321e-8\n",
      "Loss: 3.061683496242949e-8\n",
      "Loss: 3.05326852155291e-8\n"
     ]
    },
    {
     "name": "stdout",
     "output_type": "stream",
     "text": [
      "Loss: 3.0480781377513406e-8\n",
      "Loss: 3.0429199920620676e-8\n",
      "Loss: 3.0391154787144264e-8\n",
      "Loss: 3.0358216916297586e-8\n",
      "Loss: 3.031173287219598e-8\n"
     ]
    },
    {
     "name": "stdout",
     "output_type": "stream",
     "text": [
      "Loss: 3.0265924467160485e-8\n",
      "Loss: 3.0221840228087874e-8\n",
      "Loss: 3.0186998822694955e-8\n",
      "Loss: 3.013387966635635e-8\n"
     ]
    },
    {
     "name": "stdout",
     "output_type": "stream",
     "text": [
      "Loss: 3.006019185342888e-8\n",
      "Loss: 2.995947477666813e-8\n",
      "Loss: 2.98335811343403e-8\n",
      "Loss: 2.9624575792677995e-8\n"
     ]
    },
    {
     "name": "stdout",
     "output_type": "stream",
     "text": [
      "Loss: 2.946664213557612e-8\n",
      "Loss: 2.9282232206717896e-8\n",
      "Loss: 2.9139701100825487e-8\n",
      "Loss: 2.897053918202702e-8\n",
      "Loss: 2.8883650701039424e-8\n"
     ]
    },
    {
     "name": "stdout",
     "output_type": "stream",
     "text": [
      "Loss: 2.8823006747651347e-8\n",
      "Loss: 2.877202383544995e-8\n",
      "Loss: 2.8725921177990137e-8\n",
      "Loss: 2.8696488953173337e-8\n"
     ]
    },
    {
     "name": "stdout",
     "output_type": "stream",
     "text": [
      "Loss: 2.8673458614234887e-8\n",
      "Loss: 2.8650532951727966e-8\n",
      "Loss: 2.8611585859335937e-8\n",
      "Loss: 2.8534587472717757e-8\n"
     ]
    },
    {
     "name": "stdout",
     "output_type": "stream",
     "text": [
      "Loss: 2.844020398047831e-8\n",
      "Loss: 2.8355906260108855e-8\n",
      "Loss: 2.8277146575763875e-8\n",
      "Loss: 2.82262458072509e-8\n",
      "Loss: 2.817525250438319e-8\n"
     ]
    },
    {
     "name": "stdout",
     "output_type": "stream",
     "text": [
      "Loss: 2.8092049846670818e-8\n",
      "Loss: 2.7948019794679465e-8\n",
      "Loss: 2.7775057288900542e-8\n",
      "Loss: 2.7700818694190503e-8\n",
      "Loss: 2.7539823320468434e-8\n"
     ]
    },
    {
     "name": "stdout",
     "output_type": "stream",
     "text": [
      "Loss: 2.7395341263332102e-8\n",
      "Loss: 2.7264317498503113e-8\n",
      "Loss: 2.7176753769970842e-8\n",
      "Loss: 2.7080760465803084e-8\n",
      "Loss: 2.6988105505370734e-8\n"
     ]
    },
    {
     "name": "stdout",
     "output_type": "stream",
     "text": [
      "Loss: 2.6881561843527698e-8\n",
      "Loss: 2.6714567528330394e-8\n",
      "Loss: 2.6443327561615364e-8\n",
      "Loss: 2.6023777159869098e-8\n"
     ]
    },
    {
     "name": "stdout",
     "output_type": "stream",
     "text": [
      "Loss: 2.548639423220336e-8\n",
      "Loss: 2.5179752961075963e-8\n",
      "Loss: 2.4882409201051726e-8\n",
      "Loss: 2.4653790941182214e-8\n",
      "Loss: 2.438538692705725e-8\n"
     ]
    },
    {
     "name": "stdout",
     "output_type": "stream",
     "text": [
      "Loss: 2.4167283169571822e-8\n",
      "Loss: 2.3915522003024368e-8\n",
      "Loss: 2.3607743368430182e-8\n",
      "Loss: 2.3265996473361044e-8\n",
      "Loss: 2.265817663838682e-8\n"
     ]
    },
    {
     "name": "stdout",
     "output_type": "stream",
     "text": [
      "Loss: 2.2246888850384142e-8\n",
      "Loss: 2.178757994815813e-8\n",
      "Loss: 2.1412774298816725e-8\n",
      "Loss: 2.101927826681461e-8\n",
      "Loss: 2.0721907403773464e-8\n"
     ]
    },
    {
     "name": "stdout",
     "output_type": "stream",
     "text": [
      "Loss: 2.0305865754166055e-8\n",
      "Loss: 1.9829865874918082e-8\n",
      "Loss: 1.9601170422344818e-8\n",
      "Loss: 1.9434207966338276e-8\n",
      "Loss: 1.9374424083981e-8\n"
     ]
    },
    {
     "name": "stdout",
     "output_type": "stream",
     "text": [
      "Loss: 1.9346073064127826e-8\n",
      "Loss: 1.9321614898079707e-8\n",
      "Loss: 1.9283356129299023e-8\n",
      "Loss: 1.922885757403943e-8\n"
     ]
    },
    {
     "name": "stdout",
     "output_type": "stream",
     "text": [
      "Loss: 1.9148621225554064e-8\n",
      "Loss: 1.901462321942814e-8\n",
      "Loss: 1.8879035981369876e-8\n",
      "Loss: 1.8780574873106502e-8\n"
     ]
    },
    {
     "name": "stdout",
     "output_type": "stream",
     "text": [
      "Loss: 1.873599711286062e-8\n",
      "Loss: 1.86922281983791e-8\n",
      "Loss: 1.864869958407571e-8\n",
      "Loss: 1.860877058116982e-8\n",
      "Loss: 1.8587325075140188e-8\n"
     ]
    },
    {
     "name": "stdout",
     "output_type": "stream",
     "text": [
      "Loss: 1.8567436226168888e-8\n",
      "Loss: 1.8542020292791468e-8\n",
      "Loss: 1.8508809733237875e-8\n",
      "Loss: 1.847253532044329e-8\n"
     ]
    },
    {
     "name": "stdout",
     "output_type": "stream",
     "text": [
      "Loss: 1.8442194162040082e-8\n",
      "Loss: 1.8424552397208362e-8\n",
      "Loss: 1.8402252053532667e-8\n",
      "Loss: 1.8380531571510127e-8\n"
     ]
    },
    {
     "name": "stdout",
     "output_type": "stream",
     "text": [
      "Loss: 1.8360598355376722e-8\n",
      "Loss: 1.8318617851752953e-8\n",
      "Loss: 1.8263370852898927e-8\n",
      "Loss: 1.8223370553859402e-8\n",
      "Loss: 1.819852531483995e-8\n"
     ]
    },
    {
     "name": "stdout",
     "output_type": "stream",
     "text": [
      "Loss: 1.8180437958837814e-8\n",
      "Loss: 1.8153609225574002e-8\n",
      "Loss: 1.8116784979690973e-8\n",
      "Loss: 1.807006625190078e-8\n",
      "Loss: 1.8023202080148253e-8\n"
     ]
    },
    {
     "name": "stdout",
     "output_type": "stream",
     "text": [
      "Loss: 1.7993989126834418e-8\n",
      "Loss: 1.7972015128236605e-8\n",
      "Loss: 1.7946079630178384e-8\n",
      "Loss: 1.7930774814095304e-8\n"
     ]
    },
    {
     "name": "stdout",
     "output_type": "stream",
     "text": [
      "Loss: 1.7918389449926994e-8\n",
      "Loss: 1.7893542097619407e-8\n",
      "Loss: 1.784038846835493e-8\n",
      "Loss: 1.776529979527857e-8\n",
      "Loss: 1.7720417703017146e-8\n"
     ]
    },
    {
     "name": "stdout",
     "output_type": "stream",
     "text": [
      "Loss: 1.7688112859249116e-8\n",
      "Loss: 1.7656719328028878e-8\n",
      "Loss: 1.7570358269241422e-8\n",
      "Loss: 1.7419215531692823e-8\n"
     ]
    },
    {
     "name": "stdout",
     "output_type": "stream",
     "text": [
      "Loss: 1.7216539390073528e-8\n",
      "Loss: 1.7099300922293267e-8\n",
      "Loss: 1.7002831007969653e-8\n",
      "Loss: 1.694317851346919e-8\n",
      "Loss: 1.6826393043629477e-8\n"
     ]
    },
    {
     "name": "stdout",
     "output_type": "stream",
     "text": [
      "Loss: 1.666269058925528e-8\n",
      "Loss: 1.6370758333425673e-8\n",
      "Loss: 1.612348499622422e-8\n",
      "Loss: 1.5880092325505127e-8\n",
      "Loss: 1.5755936730193826e-8\n",
      "Loss: 1.5509135937237205e-8\n"
     ]
    },
    {
     "name": "stdout",
     "output_type": "stream",
     "text": [
      "Loss: 1.539995654424459e-8\n",
      "Loss: 1.5327657206406997e-8\n",
      "Loss: 1.5233963229649327e-8\n",
      "Loss: 1.5152463861008816e-8\n",
      "Loss: 1.505700529478459e-8\n"
     ]
    },
    {
     "name": "stdout",
     "output_type": "stream",
     "text": [
      "Loss: 1.50209494629929e-8\n",
      "Loss: 1.498193734288922e-8\n",
      "Loss: 1.493277778849883e-8\n",
      "Loss: 1.491145621407589e-8\n",
      "Loss: 1.4831510320734746e-8\n"
     ]
    },
    {
     "name": "stdout",
     "output_type": "stream",
     "text": [
      "Loss: 1.4770231913039424e-8\n",
      "Loss: 1.4717163480602384e-8\n",
      "Loss: 1.4673115540609127e-8\n",
      "Loss: 1.4637800923229565e-8\n",
      "Loss: 1.4592112354136897e-8\n",
      "Loss: 1.4568680096478482e-8\n"
     ]
    },
    {
     "name": "stdout",
     "output_type": "stream",
     "text": [
      "Loss: 1.4552094516749445e-8\n",
      "Loss: 1.4537638427662225e-8\n",
      "Loss: 1.4516532847685771e-8\n",
      "Loss: 1.4495911130628838e-8\n",
      "Loss: 1.4480879489395796e-8\n"
     ]
    },
    {
     "name": "stdout",
     "output_type": "stream",
     "text": [
      "Loss: 1.44739902199481e-8\n",
      "Loss: 1.4465286914403967e-8\n",
      "Loss: 1.446101012549575e-8\n",
      "Loss: 1.4455817440811283e-8\n",
      "Loss: 1.4450972458589159e-8\n",
      "Loss: 1.4445490160559609e-8\n"
     ]
    },
    {
     "name": "stdout",
     "output_type": "stream",
     "text": [
      "Loss: 1.4438517025684272e-8\n",
      "Loss: 1.4431678545903012e-8\n",
      "Loss: 1.4424901172380565e-8\n",
      "Loss: 1.4417811795436443e-8\n"
     ]
    },
    {
     "name": "stdout",
     "output_type": "stream",
     "text": [
      "Loss: 1.4408745109475908e-8\n",
      "Loss: 1.4399245389772746e-8\n",
      "Loss: 1.4386730846676426e-8\n",
      "Loss: 1.437341224793974e-8\n"
     ]
    },
    {
     "name": "stdout",
     "output_type": "stream",
     "text": [
      "Loss: 1.4356041204876644e-8\n",
      "Loss: 1.4337539420319522e-8\n",
      "Loss: 1.4314625960107853e-8\n",
      "Loss: 1.4299661193661673e-8\n"
     ]
    },
    {
     "name": "stdout",
     "output_type": "stream",
     "text": [
      "Loss: 1.4282488276931687e-8\n",
      "Loss: 1.4258343643538193e-8\n",
      "Loss: 1.4239898548077475e-8\n",
      "Loss: 1.4224654539805234e-8\n",
      "Loss: 1.4209508656894214e-8\n"
     ]
    },
    {
     "name": "stdout",
     "output_type": "stream",
     "text": [
      "Loss: 1.4189816675754848e-8\n",
      "Loss: 1.4168945772353543e-8\n",
      "Loss: 1.4150811644472045e-8\n",
      "Loss: 1.413577895783693e-8\n"
     ]
    },
    {
     "name": "stdout",
     "output_type": "stream",
     "text": [
      "Loss: 1.4112762546720044e-8\n",
      "Loss: 1.4083194830619388e-8\n",
      "Loss: 1.4056662226559515e-8\n",
      "Loss: 1.4001464195584032e-8\n"
     ]
    },
    {
     "name": "stdout",
     "output_type": "stream",
     "text": [
      "Loss: 1.3929700809046954e-8\n",
      "Loss: 1.3879057775954063e-8\n",
      "Loss: 1.3828605773540283e-8\n",
      "Loss: 1.3782220334722966e-8\n",
      "Loss: 1.3736268222114805e-8\n"
     ]
    },
    {
     "name": "stdout",
     "output_type": "stream",
     "text": [
      "Loss: 1.3695133591213452e-8\n",
      "Loss: 1.3591650199256212e-8\n",
      "Loss: 1.3437281581265916e-8\n",
      "Loss: 1.3372622718659996e-8\n",
      "Loss: 1.3186239107592768e-8\n"
     ]
    },
    {
     "name": "stdout",
     "output_type": "stream",
     "text": [
      "Loss: 1.2972399828735646e-8\n",
      "Loss: 1.2645269676447096e-8\n",
      "Loss: 1.2494450173478645e-8\n",
      "Loss: 1.2393611817197573e-8\n",
      "Loss: 1.1982029118969113e-8\n"
     ]
    },
    {
     "name": "stdout",
     "output_type": "stream",
     "text": [
      "Loss: 1.1890543832376834e-8\n",
      "Loss: 1.1649254452005129e-8\n",
      "Loss: 1.156340878110147e-8\n",
      "Loss: 1.1452651563712574e-8\n",
      "Loss: 1.1398817189801074e-8\n",
      "Loss: 1.1344569585376327e-8\n"
     ]
    },
    {
     "name": "stdout",
     "output_type": "stream",
     "text": [
      "Loss: 1.1289778902892182e-8\n",
      "Loss: 1.125526532285528e-8\n",
      "Loss: 1.1229010485877138e-8\n",
      "Loss: 1.1188378219162232e-8\n",
      "Loss: 1.1155263629375583e-8\n"
     ]
    },
    {
     "name": "stdout",
     "output_type": "stream",
     "text": [
      "Loss: 1.1119282629599605e-8\n",
      "Loss: 1.1080407471568634e-8\n",
      "Loss: 1.1046416958530058e-8\n",
      "Loss: 1.1005088483563868e-8\n",
      "Loss: 1.0975983643521348e-8\n",
      "Loss: 1.0941697375329858e-8\n"
     ]
    },
    {
     "name": "stdout",
     "output_type": "stream",
     "text": [
      "Loss: 1.0912756536205166e-8\n",
      "Loss: 1.0888755572232176e-8\n",
      "Loss: 1.0872770932233705e-8\n",
      "Loss: 1.085941872981746e-8\n",
      "Loss: 1.0846242783685334e-8\n"
     ]
    },
    {
     "name": "stdout",
     "output_type": "stream",
     "text": [
      "Loss: 1.082946095927316e-8\n",
      "Loss: 1.0815475888265296e-8\n",
      "Loss: 1.080254810937175e-8\n",
      "Loss: 1.0786265758232283e-8\n"
     ]
    },
    {
     "name": "stdout",
     "output_type": "stream",
     "text": [
      "Loss: 1.0769283698692368e-8\n",
      "Loss: 1.0755665391112268e-8\n",
      "Loss: 1.0747055920474265e-8\n",
      "Loss: 1.0736061359005596e-8\n"
     ]
    },
    {
     "name": "stdout",
     "output_type": "stream",
     "text": [
      "Loss: 1.07126282087948e-8\n",
      "Loss: 1.0681141976484347e-8\n",
      "Loss: 1.0640023752568152e-8\n",
      "Loss: 1.058744873046517e-8\n"
     ]
    },
    {
     "name": "stdout",
     "output_type": "stream",
     "text": [
      "Loss: 1.053854065168576e-8\n",
      "Loss: 1.0517915296143452e-8\n",
      "Loss: 1.0498963339545029e-8\n",
      "Loss: 1.0484059270806658e-8\n",
      "Loss: 1.0462929753648921e-8\n"
     ]
    },
    {
     "name": "stdout",
     "output_type": "stream",
     "text": [
      "Loss: 1.0444323454767851e-8\n",
      "Loss: 1.0431739434550208e-8\n",
      "Loss: 1.04257273792848e-8\n",
      "Loss: 1.0421868317275558e-8\n",
      "Loss: 1.0419662140999794e-8\n"
     ]
    },
    {
     "name": "stdout",
     "output_type": "stream",
     "text": [
      "Loss: 1.0417778010225434e-8\n",
      "Loss: 1.0416221158363822e-8\n",
      "Loss: 1.0414437132716782e-8\n",
      "Loss: 1.0410876505364849e-8\n",
      "Loss: 1.0406660830037042e-8\n"
     ]
    },
    {
     "name": "stdout",
     "output_type": "stream",
     "text": [
      "Loss: 1.0402380832085635e-8\n",
      "Loss: 1.0398005291260248e-8\n",
      "Loss: 1.0394515054112057e-8\n",
      "Loss: 1.0390075267009741e-8\n"
     ]
    },
    {
     "name": "stdout",
     "output_type": "stream",
     "text": [
      "Loss: 1.0385437986174464e-8\n",
      "Loss: 1.0379078689428913e-8\n",
      "Loss: 1.0366492328620254e-8\n",
      "Loss: 1.0332113693102934e-8\n"
     ]
    },
    {
     "name": "stdout",
     "output_type": "stream",
     "text": [
      "Loss: 1.0267205689973707e-8\n",
      "Loss: 1.0165388104435663e-8\n",
      "Loss: 1.0006021287511598e-8\n",
      "Loss: 9.864725084085129e-9\n",
      "Loss: 9.719936110796278e-9\n",
      "Loss: 9.506377660054325e-9\n"
     ]
    },
    {
     "name": "stdout",
     "output_type": "stream",
     "text": [
      "Loss: 9.39164097669525e-9\n",
      "Loss: 9.304330879144493e-9\n",
      "Loss: 9.209214673940327e-9\n",
      "Loss: 9.122270969229835e-9\n",
      "Loss: 9.059012289246358e-9\n",
      "Loss: 8.991440096636749e-9\n"
     ]
    },
    {
     "name": "stdout",
     "output_type": "stream",
     "text": [
      "Loss: 8.92402968172021e-9\n",
      "Loss: 8.868394915743818e-9\n",
      "Loss: 8.839620599144978e-9\n",
      "Loss: 8.798806240657951e-9\n",
      "Loss: 8.765393917020579e-9\n"
     ]
    },
    {
     "name": "stdout",
     "output_type": "stream",
     "text": [
      "Loss: 8.719625546243045e-9\n",
      "Loss: 8.675835907404213e-9\n",
      "Loss: 8.638923651230918e-9\n",
      "Loss: 8.579558603346683e-9\n",
      "Loss: 8.518897469583913e-9\n",
      "Loss: 8.459620544713945e-9\n"
     ]
    },
    {
     "name": "stdout",
     "output_type": "stream",
     "text": [
      "Loss: 8.376457986800532e-9\n",
      "Loss: 8.316160619022768e-9\n",
      "Loss: 8.238263075918863e-9\n",
      "Loss: 8.151991991227046e-9\n",
      "Loss: 8.113230668826834e-9\n",
      "Loss: 8.055619009806614e-9\n"
     ]
    },
    {
     "name": "stdout",
     "output_type": "stream",
     "text": [
      "Loss: 8.015133729559252e-9\n",
      "Loss: 7.961869272993236e-9\n",
      "Loss: 7.925430648750639e-9\n",
      "Loss: 7.890977814276114e-9\n",
      "Loss: 7.875836620421936e-9\n",
      "Loss: 7.859919355657886e-9\n"
     ]
    },
    {
     "name": "stdout",
     "output_type": "stream",
     "text": [
      "Loss: 7.844834187433244e-9\n",
      "Loss: 7.836161074285233e-9\n",
      "Loss: 7.827055041887064e-9\n",
      "Loss: 7.819207584215384e-9\n",
      "Loss: 7.814608735578484e-9\n"
     ]
    },
    {
     "name": "stdout",
     "output_type": "stream",
     "text": [
      "Loss: 7.81209728026357e-9\n",
      "Loss: 7.809843397192221e-9\n",
      "Loss: 7.805705236242524e-9\n",
      "Loss: 7.797843781902735e-9\n",
      "Loss: 7.78930849655291e-9\n"
     ]
    },
    {
     "name": "stdout",
     "output_type": "stream",
     "text": [
      "Loss: 7.782804986164665e-9\n",
      "Loss: 7.780134287347676e-9\n",
      "Loss: 7.778634949697108e-9\n",
      "Loss: 7.777401515175416e-9\n"
     ]
    },
    {
     "name": "stdout",
     "output_type": "stream",
     "text": [
      "Loss: 7.776064067411764e-9\n",
      "Loss: 7.775081034950521e-9\n",
      "Loss: 7.774333372195574e-9\n",
      "Loss: 7.772596600153702e-9\n"
     ]
    },
    {
     "name": "stdout",
     "output_type": "stream",
     "text": [
      "Loss: 7.76740275311839e-9\n",
      "Loss: 7.759126389358764e-9\n",
      "Loss: 7.752305831990678e-9\n",
      "Loss: 7.746910270534656e-9\n",
      "Loss: 7.739636204006367e-9\n"
     ]
    },
    {
     "name": "stdout",
     "output_type": "stream",
     "text": [
      "Loss: 7.702047739464096e-9\n",
      "Loss: 7.610519606858831e-9\n",
      "Loss: 7.52208705028943e-9\n",
      "Loss: 7.498016161987155e-9\n",
      "Loss: 7.452592019773228e-9\n"
     ]
    },
    {
     "name": "stdout",
     "output_type": "stream",
     "text": [
      "Loss: 7.421551974711016e-9\n",
      "Loss: 7.379436986926571e-9\n",
      "Loss: 7.347106957630118e-9\n",
      "Loss: 7.303762021077394e-9\n",
      "Loss: 7.276567039823713e-9\n",
      "Loss: 7.24850931528895e-9\n"
     ]
    },
    {
     "name": "stdout",
     "output_type": "stream",
     "text": [
      "Loss: 7.203819598803297e-9\n",
      "Loss: 7.141243222930206e-9\n",
      "Loss: 7.050652029433109e-9\n",
      "Loss: 6.992326019259064e-9\n",
      "Loss: 6.869071184238464e-9\n",
      "Loss: 6.817921113477409e-9\n"
     ]
    },
    {
     "name": "stdout",
     "output_type": "stream",
     "text": [
      "Loss: 6.687664841161063e-9\n",
      "Loss: 6.5864403745160964e-9\n",
      "Loss: 6.500309009789815e-9\n",
      "Loss: 6.4637227327039505e-9\n",
      "Loss: 6.387579225805538e-9\n",
      "Loss: 6.355711633900089e-9\n"
     ]
    },
    {
     "name": "stdout",
     "output_type": "stream",
     "text": [
      "Loss: 6.310313781772925e-9\n",
      "Loss: 6.2609613478043656e-9\n",
      "Loss: 6.212771219510432e-9\n",
      "Loss: 6.1427982667055306e-9\n",
      "Loss: 6.1061622753766594e-9\n",
      "Loss: 6.08960322977491e-9\n"
     ]
    },
    {
     "name": "stdout",
     "output_type": "stream",
     "text": [
      "Loss: 6.062095836580945e-9\n",
      "Loss: 6.042417871977435e-9\n",
      "Loss: 6.011514901682788e-9\n",
      "Loss: 5.9854678043658995e-9\n",
      "Loss: 5.95987728458733e-9\n",
      "Loss: 5.9405347819592444e-9\n"
     ]
    },
    {
     "name": "stdout",
     "output_type": "stream",
     "text": [
      "Loss: 5.8906728149631765e-9\n",
      "Loss: 5.844514394516577e-9\n",
      "Loss: 5.814893218258441e-9\n",
      "Loss: 5.787187381110827e-9\n",
      "Loss: 5.7536640223034795e-9\n"
     ]
    },
    {
     "name": "stdout",
     "output_type": "stream",
     "text": [
      "Loss: 5.7221288222503135e-9\n",
      "Loss: 5.685457319574004e-9\n",
      "Loss: 5.6598088615773036e-9\n",
      "Loss: 5.628433887065431e-9\n",
      "Loss: 5.612382299556348e-9\n",
      "Loss: 5.587281028207691e-9\n"
     ]
    },
    {
     "name": "stdout",
     "output_type": "stream",
     "text": [
      "Loss: 5.568343953377763e-9\n",
      "Loss: 5.541514041418485e-9\n",
      "Loss: 5.525991385161998e-9\n",
      "Loss: 5.508351027625703e-9\n",
      "Loss: 5.488009465002307e-9\n",
      "Loss: 5.4650944124194386e-9\n"
     ]
    },
    {
     "name": "stdout",
     "output_type": "stream",
     "text": [
      "Loss: 5.4301069814713e-9\n",
      "Loss: 5.41401659204828e-9\n",
      "Loss: 5.3942886658700726e-9\n",
      "Loss: 5.376726134742346e-9\n",
      "Loss: 5.363950473972132e-9\n",
      "Loss: 5.353165254569874e-9\n"
     ]
    },
    {
     "name": "stdout",
     "output_type": "stream",
     "text": [
      "Loss: 5.346149896198165e-9\n",
      "Loss: 5.340086902763148e-9\n",
      "Loss: 5.334503794585106e-9\n",
      "Loss: 5.329261584626819e-9\n"
     ]
    },
    {
     "name": "stdout",
     "output_type": "stream",
     "text": [
      "Loss: 5.325056971885333e-9\n",
      "Loss: 5.321055619417174e-9\n",
      "Loss: 5.315946004029686e-9\n",
      "Loss: 5.310125839855281e-9\n",
      "Loss: 5.304854019609285e-9\n"
     ]
    },
    {
     "name": "stdout",
     "output_type": "stream",
     "text": [
      "Loss: 5.300847833903543e-9\n",
      "Loss: 5.295700662674169e-9\n",
      "Loss: 5.2847129595606165e-9\n",
      "Loss: 5.274840444258885e-9\n",
      "Loss: 5.2663456417751405e-9\n"
     ]
    },
    {
     "name": "stdout",
     "output_type": "stream",
     "text": [
      "Loss: 5.259980098880376e-9\n",
      "Loss: 5.2535284264210815e-9\n",
      "Loss: 5.24668572873279e-9\n",
      "Loss: 5.2406361371615764e-9\n",
      "Loss: 5.234079456766782e-9\n"
     ]
    },
    {
     "name": "stdout",
     "output_type": "stream",
     "text": [
      "Loss: 5.22954628438228e-9\n",
      "Loss: 5.2263650825506156e-9\n",
      "Loss: 5.222358737467018e-9\n",
      "Loss: 5.217194797657308e-9\n"
     ]
    },
    {
     "name": "stdout",
     "output_type": "stream",
     "text": [
      "Loss: 5.2103905614251175e-9\n",
      "Loss: 5.199113434531321e-9\n",
      "Loss: 5.187218701620521e-9\n",
      "Loss: 5.175664453465882e-9\n",
      "Loss: 5.169974138332256e-9\n"
     ]
    },
    {
     "name": "stdout",
     "output_type": "stream",
     "text": [
      "Loss: 5.1667730610713274e-9\n",
      "Loss: 5.163359638998823e-9\n",
      "Loss: 5.158227128445512e-9\n",
      "Loss: 5.151447225685943e-9\n",
      "Loss: 5.141726276344611e-9\n"
     ]
    },
    {
     "name": "stdout",
     "output_type": "stream",
     "text": [
      "Loss: 5.126990263410949e-9\n",
      "Loss: 5.1156151656603925e-9\n",
      "Loss: 5.105767791531766e-9\n",
      "Loss: 5.099164525499261e-9\n",
      "Loss: 5.091028038666076e-9\n"
     ]
    },
    {
     "name": "stdout",
     "output_type": "stream",
     "text": [
      "Loss: 5.0836671121850686e-9\n",
      "Loss: 5.078217299765136e-9\n",
      "Loss: 5.0731723272190585e-9\n",
      "Loss: 5.068772196265427e-9\n",
      "Loss: 5.0656680387935876e-9\n"
     ]
    },
    {
     "name": "stdout",
     "output_type": "stream",
     "text": [
      "Loss: 5.063544126162704e-9\n",
      "Loss: 5.060661199678443e-9\n",
      "Loss: 5.056276743091734e-9\n",
      "Loss: 5.050380026652275e-9\n",
      "Loss: 5.046308153902942e-9\n"
     ]
    },
    {
     "name": "stdout",
     "output_type": "stream",
     "text": [
      "Loss: 5.044185023390494e-9\n",
      "Loss: 5.042116739453504e-9\n",
      "Loss: 5.039899480636568e-9\n",
      "Loss: 5.036353935590492e-9\n"
     ]
    },
    {
     "name": "stdout",
     "output_type": "stream",
     "text": [
      "Loss: 5.029372104568304e-9\n",
      "Loss: 5.021090506747563e-9\n",
      "Loss: 5.017795065958593e-9\n",
      "Loss: 5.015967154001285e-9\n",
      "Loss: 5.013564536369121e-9\n"
     ]
    },
    {
     "name": "stdout",
     "output_type": "stream",
     "text": [
      "Loss: 5.00992678641325e-9\n",
      "Loss: 5.002942141862721e-9\n",
      "Loss: 4.9920852238388556e-9\n",
      "Loss: 4.981067832320732e-9\n"
     ]
    },
    {
     "name": "stdout",
     "output_type": "stream",
     "text": [
      "Loss: 4.9759366574355495e-9\n",
      "Loss: 4.9703388149763826e-9\n",
      "Loss: 4.9601963703435914e-9\n",
      "Loss: 4.951718628095346e-9\n",
      "Loss: 4.945589942933324e-9\n"
     ]
    },
    {
     "name": "stdout",
     "output_type": "stream",
     "text": [
      "Loss: 4.942476883440635e-9\n",
      "Loss: 4.9379462445970816e-9\n",
      "Loss: 4.936116916159091e-9\n",
      "Loss: 4.934709898227032e-9\n",
      "Loss: 4.933632829266148e-9\n"
     ]
    },
    {
     "name": "stdout",
     "output_type": "stream",
     "text": [
      "Loss: 4.933119332817277e-9\n",
      "Loss: 4.932425540337825e-9\n",
      "Loss: 4.931752628328995e-9\n",
      "Loss: 4.930675320214685e-9\n"
     ]
    },
    {
     "name": "stdout",
     "output_type": "stream",
     "text": [
      "Loss: 4.9285260001950435e-9\n",
      "Loss: 4.925702224764073e-9\n",
      "Loss: 4.9224735875212465e-9\n",
      "Loss: 4.92040319147309e-9\n"
     ]
    },
    {
     "name": "stdout",
     "output_type": "stream",
     "text": [
      "Loss: 4.919081026970898e-9\n",
      "Loss: 4.916733435795433e-9\n",
      "Loss: 4.91090833897559e-9\n",
      "Loss: 4.900141245701197e-9\n"
     ]
    },
    {
     "name": "stdout",
     "output_type": "stream",
     "text": [
      "Loss: 4.883452528895992e-9\n",
      "Loss: 4.852480358458386e-9\n",
      "Loss: 4.817420869201437e-9\n",
      "Loss: 4.74480286430868e-9\n",
      "Loss: 4.7251653085203605e-9\n"
     ]
    },
    {
     "name": "stdout",
     "output_type": "stream",
     "text": [
      "Loss: 4.601987357614871e-9\n",
      "Loss: 4.550132482468059e-9\n",
      "Loss: 4.505394706844495e-9\n",
      "Loss: 4.47515632958957e-9\n",
      "Loss: 4.454416328851154e-9\n",
      "Loss: 4.4301851882200945e-9\n",
      "Loss: 4.403301726987597e-9\n"
     ]
    },
    {
     "name": "stdout",
     "output_type": "stream",
     "text": [
      "Loss: 4.371349902115561e-9\n",
      "Loss: 4.3476363909118594e-9\n",
      "Loss: 4.313725725391231e-9\n",
      "Loss: 4.298175541700261e-9\n",
      "Loss: 4.281908563274714e-9\n",
      "Loss: 4.273532135709196e-9\n"
     ]
    },
    {
     "name": "stdout",
     "output_type": "stream",
     "text": [
      "Loss: 4.253597376586897e-9\n",
      "Loss: 4.242555522497743e-9\n",
      "Loss: 4.232093949245209e-9\n",
      "Loss: 4.221531980612399e-9\n",
      "Loss: 4.212928563336083e-9\n"
     ]
    },
    {
     "name": "stdout",
     "output_type": "stream",
     "text": [
      "Loss: 4.19512771056309e-9\n",
      "Loss: 4.179339604219497e-9\n",
      "Loss: 4.150748351029334e-9\n",
      "Loss: 4.131140617228159e-9\n",
      "Loss: 4.120539027508621e-9\n"
     ]
    },
    {
     "name": "stdout",
     "output_type": "stream",
     "text": [
      "Loss: 4.105682541195642e-9\n",
      "Loss: 4.094265201279427e-9\n",
      "Loss: 4.080777040046727e-9\n",
      "Loss: 4.0628745591528025e-9\n",
      "Loss: 4.046293463258979e-9\n"
     ]
    },
    {
     "name": "stdout",
     "output_type": "stream",
     "text": [
      "Loss: 4.0236857071478555e-9\n",
      "Loss: 3.999195461085498e-9\n",
      "Loss: 3.96439132830634e-9\n",
      "Loss: 3.945953816286017e-9\n",
      "Loss: 3.93181886454128e-9\n"
     ]
    },
    {
     "name": "stdout",
     "output_type": "stream",
     "text": [
      "Loss: 3.909662274423601e-9\n",
      "Loss: 3.881207715703977e-9\n",
      "Loss: 3.826415460369635e-9\n",
      "Loss: 3.794771599256393e-9\n",
      "Loss: 3.739696458746143e-9\n"
     ]
    },
    {
     "name": "stdout",
     "output_type": "stream",
     "text": [
      "Loss: 3.7196028715889722e-9\n",
      "Loss: 3.651741073923364e-9\n",
      "Loss: 3.6122698081488063e-9\n",
      "Loss: 3.5841042908907866e-9\n",
      "Loss: 3.522000573820827e-9\n"
     ]
    },
    {
     "name": "stdout",
     "output_type": "stream",
     "text": [
      "Loss: 3.4663189148326567e-9\n",
      "Loss: 3.4116947356217507e-9\n",
      "Loss: 3.3703394514528046e-9\n",
      "Loss: 3.356134096461076e-9\n",
      "Loss: 3.304910130255845e-9\n",
      "Loss: 3.2834887082483603e-9\n"
     ]
    },
    {
     "name": "stdout",
     "output_type": "stream",
     "text": [
      "Loss: 3.254206449502879e-9\n",
      "Loss: 3.2307448161539546e-9\n",
      "Loss: 3.2057155635288113e-9\n",
      "Loss: 3.1950636785420013e-9\n",
      "Loss: 3.1643237170623463e-9\n",
      "Loss: 3.14985257306542e-9\n"
     ]
    },
    {
     "name": "stdout",
     "output_type": "stream",
     "text": [
      "Loss: 3.128236453944591e-9\n",
      "Loss: 3.1094131165441475e-9\n",
      "Loss: 3.0939991593619748e-9\n",
      "Loss: 3.0729600952413525e-9\n",
      "Loss: 3.0657336805986515e-9\n",
      "Loss: 3.056237195373096e-9\n"
     ]
    },
    {
     "name": "stdout",
     "output_type": "stream",
     "text": [
      "Loss: 3.0475508279886033e-9\n",
      "Loss: 3.042977375086435e-9\n",
      "Loss: 3.0379900537429284e-9\n",
      "Loss: 3.031967473200564e-9\n",
      "Loss: 3.025069417998951e-9\n",
      "Loss: 3.0167018376060674e-9\n"
     ]
    },
    {
     "name": "stdout",
     "output_type": "stream",
     "text": [
      "Loss: 3.0086927409641833e-9\n",
      "Loss: 2.998765395263874e-9\n",
      "Loss: 2.986822185417706e-9\n",
      "Loss: 2.9807659122504685e-9\n",
      "Loss: 2.97421202892425e-9\n"
     ]
    },
    {
     "name": "stdout",
     "output_type": "stream",
     "text": [
      "Loss: 2.969487170290247e-9\n",
      "Loss: 2.966928747929189e-9\n",
      "Loss: 2.964839149628764e-9\n",
      "Loss: 2.9623334337038243e-9\n",
      "Loss: 2.9596959859997485e-9\n"
     ]
    },
    {
     "name": "stdout",
     "output_type": "stream",
     "text": [
      "Loss: 2.956433757366823e-9\n",
      "Loss: 2.9539603846565757e-9\n",
      "Loss: 2.9505722000442512e-9\n",
      "Loss: 2.946895183535402e-9\n",
      "Loss: 2.9421812055031324e-9\n"
     ]
    },
    {
     "name": "stdout",
     "output_type": "stream",
     "text": [
      "Loss: 2.938142471800011e-9\n",
      "Loss: 2.934026237437992e-9\n",
      "Loss: 2.9300120810623796e-9\n",
      "Loss: 2.924937844799959e-9\n",
      "Loss: 2.9213313486498426e-9\n"
     ]
    },
    {
     "name": "stdout",
     "output_type": "stream",
     "text": [
      "Loss: 2.916031920739537e-9\n",
      "Loss: 2.9073333481445317e-9\n",
      "Loss: 2.896470951398469e-9\n",
      "Loss: 2.8860669423723265e-9\n",
      "Loss: 2.8644476678778257e-9\n"
     ]
    },
    {
     "name": "stdout",
     "output_type": "stream",
     "text": [
      "Loss: 2.851313194181371e-9\n",
      "Loss: 2.8281402489652924e-9\n",
      "Loss: 2.815644747872277e-9\n",
      "Loss: 2.807170881389439e-9\n",
      "Loss: 2.7899265227771376e-9\n"
     ]
    },
    {
     "name": "stdout",
     "output_type": "stream",
     "text": [
      "Loss: 2.7714090859280007e-9\n",
      "Loss: 2.7567228172490456e-9\n",
      "Loss: 2.7381860761662296e-9\n",
      "Loss: 2.7273918608557043e-9\n",
      "Loss: 2.718224700363545e-9\n"
     ]
    },
    {
     "name": "stdout",
     "output_type": "stream",
     "text": [
      "Loss: 2.7137048667622764e-9\n",
      "Loss: 2.708531537299751e-9\n",
      "Loss: 2.7027115918426717e-9\n",
      "Loss: 2.695443041070652e-9\n",
      "Loss: 2.690147949180309e-9\n"
     ]
    },
    {
     "name": "stdout",
     "output_type": "stream",
     "text": [
      "Loss: 2.685875829278271e-9\n",
      "Loss: 2.6822133197103597e-9\n",
      "Loss: 2.677460957704629e-9\n",
      "Loss: 2.6740792336289042e-9\n",
      "Loss: 2.6707921816694943e-9\n"
     ]
    },
    {
     "name": "stdout",
     "output_type": "stream",
     "text": [
      "Loss: 2.6678311039653837e-9\n",
      "Loss: 2.664439081293762e-9\n",
      "Loss: 2.6607243811806675e-9\n",
      "Loss: 2.6575126176518877e-9\n",
      "Loss: 2.6539917979438933e-9\n"
     ]
    },
    {
     "name": "stdout",
     "output_type": "stream",
     "text": [
      "Loss: 2.647581749855093e-9\n",
      "Loss: 2.6411178687007146e-9\n",
      "Loss: 2.631103918046454e-9\n",
      "Loss: 2.6233550228109356e-9\n",
      "Loss: 2.6174589264347293e-9\n"
     ]
    },
    {
     "name": "stdout",
     "output_type": "stream",
     "text": [
      "Loss: 2.6137725641795865e-9\n",
      "Loss: 2.610577823216754e-9\n",
      "Loss: 2.6061078974560064e-9\n",
      "Loss: 2.6014670623570225e-9\n",
      "Loss: 2.594077536037407e-9\n"
     ]
    },
    {
     "name": "stdout",
     "output_type": "stream",
     "text": [
      "Loss: 2.5883173403362656e-9\n",
      "Loss: 2.582753999479873e-9\n",
      "Loss: 2.579094860809812e-9\n"
     ]
    },
    {
     "name": "stdout",
     "output_type": "stream",
     "text": [
      "Loss: 2.5740395137623595e-9\n",
      "Loss: 2.5692326474393857e-9\n",
      "Loss: 2.5666203639910785e-9\n",
      "Loss: 2.5636787622091383e-9\n",
      "Loss: 2.5612830226247838e-9\n"
     ]
    },
    {
     "name": "stdout",
     "output_type": "stream",
     "text": [
      "Loss: 2.55751168950435e-9\n",
      "Loss: 2.550280147113971e-9\n",
      "Loss: 2.542702184360759e-9\n",
      "Loss: 2.538594674880879e-9\n",
      "Loss: 2.5312216107701827e-9\n",
      "Loss: 2.5291493098144226e-9\n"
     ]
    },
    {
     "name": "stdout",
     "output_type": "stream",
     "text": [
      "Loss: 2.52712515259411e-9\n",
      "Loss: 2.5254359591900468e-9\n",
      "Loss: 2.5239557700749455e-9\n",
      "Loss: 2.5226159572364503e-9\n",
      "Loss: 2.521227902605369e-9\n"
     ]
    },
    {
     "name": "stdout",
     "output_type": "stream",
     "text": [
      "Loss: 2.519934882275672e-9\n",
      "Loss: 2.519051865594771e-9\n",
      "Loss: 2.5175356691038684e-9\n",
      "Loss: 2.5160999544119283e-9\n"
     ]
    },
    {
     "name": "stdout",
     "output_type": "stream",
     "text": [
      "Loss: 2.5151840460711572e-9\n",
      "Loss: 2.5147153616109547e-9\n",
      "Loss: 2.5140798112879453e-9\n",
      "Loss: 2.5132386302181364e-9\n"
     ]
    },
    {
     "name": "stdout",
     "output_type": "stream",
     "text": [
      "Loss: 2.5122803313728294e-9\n",
      "Loss: 2.5106940351872832e-9\n",
      "Loss: 2.5083377444806913e-9\n",
      "Loss: 2.505399284165788e-9\n",
      "Loss: 2.5005030931240533e-9\n"
     ]
    },
    {
     "name": "stdout",
     "output_type": "stream",
     "text": [
      "Loss: 2.494875230439028e-9\n",
      "Loss: 2.490152783011988e-9\n",
      "Loss: 2.487851097395525e-9\n",
      "Loss: 2.4844131919856082e-9\n",
      "Loss: 2.481244320731926e-9\n"
     ]
    },
    {
     "name": "stdout",
     "output_type": "stream",
     "text": [
      "Loss: 2.4793674764217526e-9\n",
      "Loss: 2.478185240702354e-9\n",
      "Loss: 2.4773546123269633e-9\n",
      "Loss: 2.4764887435098516e-9\n"
     ]
    },
    {
     "name": "stdout",
     "output_type": "stream",
     "text": [
      "Loss: 2.4755822704613764e-9\n",
      "Loss: 2.473310263406464e-9\n",
      "Loss: 2.4696739871180593e-9\n",
      "Loss: 2.467156854324516e-9\n"
     ]
    },
    {
     "name": "stdout",
     "output_type": "stream",
     "text": [
      "Loss: 2.4661292258048767e-9\n",
      "Loss: 2.4652319437963356e-9\n",
      "Loss: 2.463447440428033e-9\n",
      "Loss: 2.4605270112602515e-9\n",
      "Loss: 2.4571552012231623e-9\n"
     ]
    },
    {
     "name": "stdout",
     "output_type": "stream",
     "text": [
      "Loss: 2.4552570095751664e-9\n",
      "Loss: 2.4541815532270946e-9\n",
      "Loss: 2.4537683999194858e-9\n",
      "Loss: 2.453268160499673e-9\n",
      "Loss: 2.4523882391230778e-9\n",
      "Loss: 2.450746016080973e-9\n"
     ]
    },
    {
     "name": "stdout",
     "output_type": "stream",
     "text": [
      "Loss: 2.448633796019808e-9\n",
      "Loss: 2.446417179512687e-9\n",
      "Loss: 2.4444791765041018e-9\n",
      "Loss: 2.44275830061355e-9\n",
      "Loss: 2.440652910554245e-9\n"
     ]
    },
    {
     "name": "stdout",
     "output_type": "stream",
     "text": [
      "Loss: 2.4377972208975204e-9\n",
      "Loss: 2.4349356088319903e-9\n",
      "Loss: 2.432017672303332e-9\n",
      "Loss: 2.428779256476091e-9\n",
      "Loss: 2.42151761920057e-9\n"
     ]
    },
    {
     "name": "stdout",
     "output_type": "stream",
     "text": [
      "Loss: 2.4057399745521834e-9\n",
      "Loss: 2.384004374613761e-9\n",
      "Loss: 2.378408235057282e-9\n",
      "Loss: 2.3668367142577824e-9\n",
      "Loss: 2.3528092514841573e-9\n",
      "Loss: 2.326589068710494e-9\n"
     ]
    },
    {
     "name": "stdout",
     "output_type": "stream",
     "text": [
      "Loss: 2.313266867876981e-9\n",
      "Loss: 2.297758197973999e-9\n",
      "Loss: 2.289848972933848e-9\n",
      "Loss: 2.2766116505108615e-9\n",
      "Loss: 2.2660941509793703e-9\n",
      "Loss: 2.2579403666829966e-9\n"
     ]
    },
    {
     "name": "stdout",
     "output_type": "stream",
     "text": [
      "Loss: 2.2483488459825956e-9\n",
      "Loss: 2.241058581723221e-9\n",
      "Loss: 2.2322629720085605e-9\n",
      "Loss: 2.2209337471962685e-9\n",
      "Loss: 2.2083499105279045e-9\n"
     ]
    },
    {
     "name": "stdout",
     "output_type": "stream",
     "text": [
      "Loss: 2.1934432240166514e-9\n",
      "Loss: 2.182783173766487e-9\n",
      "Loss: 2.171650237707871e-9\n",
      "Loss: 2.162865184053319e-9\n",
      "Loss: 2.1491849034258303e-9\n",
      "Loss: 2.1399988530757992e-9\n",
      "Loss: 2.12557867103344e-9\n"
     ]
    },
    {
     "name": "stdout",
     "output_type": "stream",
     "text": [
      "Loss: 2.1139425001806044e-9\n",
      "Loss: 2.1050207145041075e-9\n",
      "Loss: 2.095016276266744e-9\n",
      "Loss: 2.0863975540858402e-9\n",
      "Loss: 2.07889048582437e-9\n",
      "Loss: 2.0687817455281447e-9\n"
     ]
    },
    {
     "name": "stdout",
     "output_type": "stream",
     "text": [
      "Loss: 2.0631615082340724e-9\n",
      "Loss: 2.0562967694596115e-9\n",
      "Loss: 2.0492238365582692e-9\n",
      "Loss: 2.041838445748596e-9\n",
      "Loss: 2.0331428795951735e-9\n",
      "Loss: 2.028119921456476e-9\n"
     ]
    },
    {
     "name": "stdout",
     "output_type": "stream",
     "text": [
      "Loss: 2.020461928253178e-9\n",
      "Loss: 2.015428102301891e-9\n",
      "Loss: 2.0105839908858237e-9\n",
      "Loss: 2.0063388596863495e-9\n",
      "Loss: 2.0027945272624755e-9\n"
     ]
    },
    {
     "name": "stdout",
     "output_type": "stream",
     "text": [
      "Loss: 1.9985096778701156e-9\n",
      "Loss: 1.9913446650045225e-9\n",
      "Loss: 1.9832849032689815e-9\n",
      "Loss: 1.976832091189153e-9\n",
      "Loss: 1.973966540671632e-9\n"
     ]
    },
    {
     "name": "stdout",
     "output_type": "stream",
     "text": [
      "Loss: 1.970048917728747e-9\n",
      "Loss: 1.9684572366756146e-9\n",
      "Loss: 1.967259239542389e-9\n",
      "Loss: 1.9664307130980473e-9\n",
      "Loss: 1.965773273649585e-9\n"
     ]
    },
    {
     "name": "stdout",
     "output_type": "stream",
     "text": [
      "Loss: 1.9648775649406148e-9\n",
      "Loss: 1.9638298282967417e-9\n",
      "Loss: 1.963058480132772e-9\n",
      "Loss: 1.961522120911101e-9\n",
      "Loss: 1.9595902473423708e-9\n"
     ]
    },
    {
     "name": "stdout",
     "output_type": "stream",
     "text": [
      "Loss: 1.9580107623978754e-9\n",
      "Loss: 1.956432716167719e-9\n",
      "Loss: 1.9548668792599046e-9\n",
      "Loss: 1.95270366533705e-9\n",
      "Loss: 1.950081790013765e-9\n"
     ]
    },
    {
     "name": "stdout",
     "output_type": "stream",
     "text": [
      "Loss: 1.9481870168595633e-9\n",
      "Loss: 1.9458425239780005e-9\n",
      "Loss: 1.944028425511378e-9\n",
      "Loss: 1.9429255506153184e-9\n",
      "Loss: 1.941298630100224e-9\n"
     ]
    },
    {
     "name": "stdout",
     "output_type": "stream",
     "text": [
      "Loss: 1.9387214256932722e-9\n",
      "Loss: 1.935747572702495e-9\n",
      "Loss: 1.932694399607813e-9\n",
      "Loss: 1.9305929540721495e-9\n",
      "Loss: 1.9278096347299523e-9\n"
     ]
    },
    {
     "name": "stdout",
     "output_type": "stream",
     "text": [
      "Loss: 1.92431400877422e-9\n",
      "Loss: 1.9194279585581165e-9\n",
      "Loss: 1.914256217057736e-9\n",
      "Loss: 1.90834161732447e-9\n",
      "Loss: 1.904616198232648e-9\n"
     ]
    },
    {
     "name": "stdout",
     "output_type": "stream",
     "text": [
      "Loss: 1.8999586728408933e-9\n",
      "Loss: 1.8961550566970874e-9\n",
      "Loss: 1.8933784197510272e-9\n",
      "Loss: 1.891343945880938e-9\n",
      "Loss: 1.890048045370619e-9\n",
      "Loss: 1.888782456298842e-9\n"
     ]
    },
    {
     "name": "stdout",
     "output_type": "stream",
     "text": [
      "Loss: 1.8879066345918864e-9\n",
      "Loss: 1.8870355618005946e-9\n",
      "Loss: 1.8862791771935097e-9\n",
      "Loss: 1.8854562041446057e-9\n",
      "Loss: 1.8844731721524535e-9\n"
     ]
    },
    {
     "name": "stdout",
     "output_type": "stream",
     "text": [
      "Loss: 1.883789766016874e-9\n",
      "Loss: 1.883135183319065e-9\n",
      "Loss: 1.882241469862803e-9\n",
      "Loss: 1.881124066902347e-9\n"
     ]
    },
    {
     "name": "stdout",
     "output_type": "stream",
     "text": [
      "Loss: 1.880058877426136e-9\n",
      "Loss: 1.879407028205339e-9\n",
      "Loss: 1.8782466566303274e-9\n",
      "Loss: 1.8759573776674625e-9\n"
     ]
    },
    {
     "name": "stdout",
     "output_type": "stream",
     "text": [
      "Loss: 1.8733279730410477e-9\n",
      "Loss: 1.8692180167481555e-9\n",
      "Loss: 1.8649475730587054e-9\n",
      "Loss: 1.860782073771228e-9\n",
      "Loss: 1.8577105364504585e-9\n"
     ]
    },
    {
     "name": "stdout",
     "output_type": "stream",
     "text": [
      "Loss: 1.8542436952265617e-9\n",
      "Loss: 1.8518320055036518e-9\n",
      "Loss: 1.8492085725987874e-9\n",
      "Loss: 1.848200929013951e-9\n",
      "Loss: 1.8471725708259078e-9\n"
     ]
    },
    {
     "name": "stdout",
     "output_type": "stream",
     "text": [
      "Loss: 1.8463399147969867e-9\n",
      "Loss: 1.8447094777840645e-9\n",
      "Loss: 1.8422623792171044e-9\n",
      "Loss: 1.837232343350417e-9\n",
      "Loss: 1.8330107042398092e-9\n"
     ]
    },
    {
     "name": "stdout",
     "output_type": "stream",
     "text": [
      "Loss: 1.8270491428279414e-9\n",
      "Loss: 1.82193833154086e-9\n",
      "Loss: 1.8186608790146728e-9\n",
      "Loss: 1.8140167839292608e-9\n"
     ]
    },
    {
     "name": "stdout",
     "output_type": "stream",
     "text": [
      "Loss: 1.8107699763748963e-9\n",
      "Loss: 1.8064812311515602e-9\n",
      "Loss: 1.8037623249082447e-9\n",
      "Loss: 1.8012608435927962e-9\n",
      "Loss: 1.7986658034526433e-9\n"
     ]
    },
    {
     "name": "stdout",
     "output_type": "stream",
     "text": [
      "Loss: 1.794778241125996e-9\n",
      "Loss: 1.7927761153477224e-9\n",
      "Loss: 1.7857601530811796e-9\n",
      "Loss: 1.7791789487587873e-9\n",
      "Loss: 1.7679804577915257e-9\n",
      "Loss: 1.7614377901084623e-9\n"
     ]
    },
    {
     "name": "stdout",
     "output_type": "stream",
     "text": [
      "Loss: 1.755006039982473e-9\n",
      "Loss: 1.7514117930910507e-9\n",
      "Loss: 1.7482477390644741e-9\n",
      "Loss: 1.7457576826927421e-9\n",
      "Loss: 1.7429535100539543e-9\n",
      "Loss: 1.7403683036207945e-9\n"
     ]
    },
    {
     "name": "stdout",
     "output_type": "stream",
     "text": [
      "Loss: 1.7384109935476466e-9\n",
      "Loss: 1.7355910616427782e-9\n",
      "Loss: 1.7342353381835746e-9\n",
      "Loss: 1.732507863133571e-9\n",
      "Loss: 1.7311093745435589e-9\n"
     ]
    },
    {
     "name": "stdout",
     "output_type": "stream",
     "text": [
      "Loss: 1.7299410335918213e-9\n",
      "Loss: 1.728978798838609e-9\n",
      "Loss: 1.7283112303463956e-9\n",
      "Loss: 1.7276487911626833e-9\n",
      "Loss: 1.7267226909408369e-9\n"
     ]
    },
    {
     "name": "stdout",
     "output_type": "stream",
     "text": [
      "Loss: 1.7252223436800987e-9\n",
      "Loss: 1.7243509518202594e-9\n",
      "Loss: 1.7235902527154436e-9\n",
      "Loss: 1.722783987785465e-9\n",
      "Loss: 1.7218846709437202e-9\n"
     ]
    },
    {
     "name": "stdout",
     "output_type": "stream",
     "text": [
      "Loss: 1.7207188183484242e-9\n",
      "Loss: 1.7195572495485364e-9\n",
      "Loss: 1.7185240000800455e-9\n",
      "Loss: 1.716668386378383e-9\n",
      "Loss: 1.7142300705310244e-9\n"
     ]
    },
    {
     "name": "stdout",
     "output_type": "stream",
     "text": [
      "Loss: 1.7091761032840025e-9\n",
      "Loss: 1.7050419256514667e-9\n",
      "Loss: 1.7033659496933489e-9\n",
      "Loss: 1.7012645407514193e-9\n",
      "Loss: 1.6995672064005696e-9\n"
     ]
    },
    {
     "name": "stdout",
     "output_type": "stream",
     "text": [
      "Loss: 1.6975886284017744e-9\n",
      "Loss: 1.6944697429343657e-9\n",
      "Loss: 1.6911788542497721e-9\n",
      "Loss: 1.6884826871859344e-9\n",
      "Loss: 1.6873557485372233e-9\n"
     ]
    },
    {
     "name": "stdout",
     "output_type": "stream",
     "text": [
      "Loss: 1.6859656099575458e-9\n",
      "Loss: 1.6843838775099794e-9\n",
      "Loss: 1.6829062761745735e-9\n",
      "Loss: 1.6819111115573369e-9\n",
      "Loss: 1.6806438583703762e-9\n"
     ]
    },
    {
     "name": "stdout",
     "output_type": "stream",
     "text": [
      "Loss: 1.6794724554612112e-9\n",
      "Loss: 1.6784925441254837e-9\n",
      "Loss: 1.6770919360414862e-9\n",
      "Loss: 1.6741901828878928e-9\n",
      "Loss: 1.6700813739315086e-9\n"
     ]
    },
    {
     "name": "stdout",
     "output_type": "stream",
     "text": [
      "Loss: 1.6636141959594726e-9\n",
      "Loss: 1.6559521971249697e-9\n",
      "Loss: 1.650225658459871e-9\n",
      "Loss: 1.646332408120862e-9\n",
      "Loss: 1.6422826364990404e-9\n"
     ]
    },
    {
     "name": "stdout",
     "output_type": "stream",
     "text": [
      "Loss: 1.6397198409953027e-9\n",
      "Loss: 1.636548765534756e-9\n",
      "Loss: 1.6325279905455803e-9\n",
      "Loss: 1.6285397017551531e-9\n",
      "Loss: 1.6248594849701834e-9\n"
     ]
    },
    {
     "name": "stdout",
     "output_type": "stream",
     "text": [
      "Loss: 1.6219546956126245e-9\n",
      "Loss: 1.6175818131704763e-9\n",
      "Loss: 1.6157133864249144e-9\n",
      "Loss: 1.6137788209842354e-9\n",
      "Loss: 1.6120636085042602e-9\n"
     ]
    },
    {
     "name": "stdout",
     "output_type": "stream",
     "text": [
      "Loss: 1.6108038798605857e-9\n",
      "Loss: 1.6095380658987514e-9\n",
      "Loss: 1.6078656092591616e-9\n",
      "Loss: 1.6051214176182334e-9\n",
      "Loss: 1.6022841760492338e-9\n"
     ]
    },
    {
     "name": "stdout",
     "output_type": "stream",
     "text": [
      "Loss: 1.5955869995202031e-9\n",
      "Loss: 1.5918289082823251e-9\n",
      "Loss: 1.5896875417155773e-9\n",
      "Loss: 1.5881989530069513e-9\n",
      "Loss: 1.5863988043214908e-9\n"
     ]
    },
    {
     "name": "stdout",
     "output_type": "stream",
     "text": [
      "Loss: 1.5839757076744705e-9\n",
      "Loss: 1.5811985461080729e-9\n",
      "Loss: 1.5795131632695355e-9\n",
      "Loss: 1.5760909839066976e-9\n",
      "Loss: 1.5725874147780664e-9\n"
     ]
    },
    {
     "name": "stdout",
     "output_type": "stream",
     "text": [
      "Loss: 1.5698247955229976e-9\n",
      "Loss: 1.565894290973343e-9\n",
      "Loss: 1.5628684945596153e-9\n",
      "Loss: 1.560755142547131e-9\n",
      "Loss: 1.5591004461747232e-9\n",
      "Loss: 1.5573521485549836e-9\n"
     ]
    },
    {
     "name": "stdout",
     "output_type": "stream",
     "text": [
      "Loss: 1.5558106983638966e-9\n",
      "Loss: 1.5537517643871306e-9\n",
      "Loss: 1.5516805969437543e-9\n",
      "Loss: 1.549429874930752e-9\n",
      "Loss: 1.5473626253600553e-9\n"
     ]
    },
    {
     "name": "stdout",
     "output_type": "stream",
     "text": [
      "Loss: 1.5457442804572137e-9\n",
      "Loss: 1.5443781128764036e-9\n",
      "Loss: 1.541434300680806e-9\n",
      "Loss: 1.5370881318332455e-9\n",
      "Loss: 1.5311311995551673e-9\n"
     ]
    },
    {
     "name": "stdout",
     "output_type": "stream",
     "text": [
      "Loss: 1.5237769893005314e-9\n",
      "Loss: 1.5098699295778068e-9\n",
      "Loss: 1.4985290835097733e-9\n",
      "Loss: 1.4882303378168557e-9\n",
      "Loss: 1.4760234247436705e-9\n",
      "Loss: 1.4662750903656123e-9\n"
     ]
    },
    {
     "name": "stdout",
     "output_type": "stream",
     "text": [
      "Loss: 1.458362212146497e-9\n",
      "Loss: 1.4460223618206978e-9\n",
      "Loss: 1.4362786595003926e-9\n",
      "Loss: 1.4259060049487512e-9\n",
      "Loss: 1.42044708714598e-9\n",
      "Loss: 1.4154850787376401e-9\n"
     ]
    },
    {
     "name": "stdout",
     "output_type": "stream",
     "text": [
      "Loss: 1.4122376801100401e-9\n",
      "Loss: 1.4096220934406414e-9\n",
      "Loss: 1.4070049357752469e-9\n",
      "Loss: 1.403407377906697e-9\n",
      "Loss: 1.400131487143941e-9\n",
      "Loss: 1.3968587942943477e-9\n"
     ]
    },
    {
     "name": "stdout",
     "output_type": "stream",
     "text": [
      "Loss: 1.3926548785061953e-9\n",
      "Loss: 1.388277994795883e-9\n",
      "Loss: 1.3795314677886023e-9\n",
      "Loss: 1.373220254124832e-9\n",
      "Loss: 1.3704744216512903e-9\n",
      "Loss: 1.3666798570109633e-9\n"
     ]
    },
    {
     "name": "stdout",
     "output_type": "stream",
     "text": [
      "Loss: 1.3636065669723083e-9\n",
      "Loss: 1.3606002520819372e-9\n",
      "Loss: 1.3585530023719869e-9\n",
      "Loss: 1.3565246204975486e-9\n",
      "Loss: 1.3546693442533923e-9\n",
      "Loss: 1.3530543042015069e-9\n"
     ]
    },
    {
     "name": "stdout",
     "output_type": "stream",
     "text": [
      "Loss: 1.3516407438642754e-9\n",
      "Loss: 1.3504883513816398e-9\n",
      "Loss: 1.3491897109462166e-9\n",
      "Loss: 1.3480159239681654e-9\n",
      "Loss: 1.3466692154335388e-9\n"
     ]
    },
    {
     "name": "stdout",
     "output_type": "stream",
     "text": [
      "Loss: 1.3454688742507927e-9\n",
      "Loss: 1.3445018051895556e-9\n",
      "Loss: 1.3438738519221568e-9\n",
      "Loss: 1.3430414784935303e-9\n"
     ]
    },
    {
     "name": "stdout",
     "output_type": "stream",
     "text": [
      "Loss: 1.341874176576104e-9\n",
      "Loss: 1.3408718565853858e-9\n",
      "Loss: 1.3394773938568158e-9\n",
      "Loss: 1.3384345089567093e-9\n",
      "Loss: 1.3378487190132175e-9\n",
      "Loss: 1.3373842491860591e-9\n"
     ]
    },
    {
     "name": "stdout",
     "output_type": "stream",
     "text": [
      "Loss: 1.3368947297979782e-9\n",
      "Loss: 1.3367095844716032e-9\n",
      "Loss: 1.3365572581539746e-9\n",
      "Loss: 1.3363158026653239e-9\n",
      "Loss: 1.336022957092754e-9\n"
     ]
    },
    {
     "name": "stdout",
     "output_type": "stream",
     "text": [
      "Loss: 1.335576018644976e-9\n",
      "Loss: 1.3349384842267697e-9\n",
      "Loss: 1.334397696416219e-9\n",
      "Loss: 1.3340297448939972e-9\n"
     ]
    },
    {
     "name": "stdout",
     "output_type": "stream",
     "text": [
      "Loss: 1.3335331641152668e-9\n",
      "Loss: 1.333048245916881e-9\n",
      "Loss: 1.3326670885033052e-9\n",
      "Loss: 1.3322691071041209e-9\n",
      "Loss: 1.3317579060529476e-9\n"
     ]
    },
    {
     "name": "stdout",
     "output_type": "stream",
     "text": [
      "Loss: 1.3310355489305709e-9\n",
      "Loss: 1.330284044859187e-9\n",
      "Loss: 1.3297512929767565e-9\n",
      "Loss: 1.3294521950301496e-9\n",
      "Loss: 1.3291239952092847e-9\n"
     ]
    },
    {
     "name": "stdout",
     "output_type": "stream",
     "text": [
      "Loss: 1.3287712454258905e-9\n",
      "Loss: 1.328147375423613e-9\n",
      "Loss: 1.32721311411384e-9\n",
      "Loss: 1.325357719214972e-9\n",
      "Loss: 1.3220598658966092e-9\n"
     ]
    },
    {
     "name": "stdout",
     "output_type": "stream",
     "text": [
      "Loss: 1.3169216190223062e-9\n",
      "Loss: 1.3114686020436957e-9\n",
      "Loss: 1.307970694762676e-9\n",
      "Loss: 1.3027980035412575e-9\n",
      "Loss: 1.299251506742936e-9\n",
      "Loss: 1.2967511431874297e-9\n"
     ]
    },
    {
     "name": "stdout",
     "output_type": "stream",
     "text": [
      "Loss: 1.2942945685367026e-9\n",
      "Loss: 1.291379991394503e-9\n",
      "Loss: 1.2894369790109358e-9\n",
      "Loss: 1.286682366720469e-9\n",
      "Loss: 1.2831017270650285e-9\n",
      "Loss: 1.2814669556589467e-9\n"
     ]
    },
    {
     "name": "stdout",
     "output_type": "stream",
     "text": [
      "Loss: 1.279388110983888e-9\n",
      "Loss: 1.2781983589924716e-9\n",
      "Loss: 1.276424725121209e-9\n",
      "Loss: 1.2751372319744322e-9\n",
      "Loss: 1.274313123348466e-9\n",
      "Loss: 1.2729777180792451e-9\n"
     ]
    },
    {
     "name": "stdout",
     "output_type": "stream",
     "text": [
      "Loss: 1.2713689482133592e-9\n",
      "Loss: 1.2681331597963606e-9\n",
      "Loss: 1.2638439650385562e-9\n",
      "Loss: 1.2587305614535731e-9\n",
      "Loss: 1.2555000932038215e-9\n"
     ]
    },
    {
     "name": "stdout",
     "output_type": "stream",
     "text": [
      "Loss: 1.2534999728519812e-9\n",
      "Loss: 1.2524748313110165e-9\n",
      "Loss: 1.2501808256902305e-9\n",
      "Loss: 1.247090700769271e-9\n",
      "Loss: 1.2433962677305754e-9\n",
      "Loss: 1.2383924238455973e-9\n"
     ]
    },
    {
     "name": "stdout",
     "output_type": "stream",
     "text": [
      "Loss: 1.234914878639318e-9\n",
      "Loss: 1.2330099076146786e-9\n",
      "Loss: 1.228906239126049e-9\n",
      "Loss: 1.2235929463708522e-9\n",
      "Loss: 1.2200918006024594e-9\n",
      "Loss: 1.2168656214103352e-9\n"
     ]
    },
    {
     "name": "stdout",
     "output_type": "stream",
     "text": [
      "Loss: 1.2134561185272423e-9\n",
      "Loss: 1.2098021154360112e-9\n",
      "Loss: 1.2072460625408494e-9\n",
      "Loss: 1.2029388748588094e-9\n",
      "Loss: 1.2004301018609777e-9\n",
      "Loss: 1.199233934587499e-9\n",
      "Loss: 1.1984064095967202e-9\n"
     ]
    },
    {
     "name": "stdout",
     "output_type": "stream",
     "text": [
      "Loss: 1.1975843263656115e-9\n",
      "Loss: 1.1962226549160014e-9\n",
      "Loss: 1.1944490526622227e-9\n",
      "Loss: 1.1923426253748283e-9\n",
      "Loss: 1.1908938441829936e-9\n"
     ]
    },
    {
     "name": "stdout",
     "output_type": "stream",
     "text": [
      "Loss: 1.1891635170815033e-9\n",
      "Loss: 1.186195585912201e-9\n",
      "Loss: 1.1834428216184888e-9\n",
      "Loss: 1.1820940752752961e-9\n",
      "Loss: 1.1800405511931931e-9\n"
     ]
    },
    {
     "name": "stdout",
     "output_type": "stream",
     "text": [
      "Loss: 1.177939950390253e-9\n",
      "Loss: 1.1756167852982513e-9\n",
      "Loss: 1.1738398682668403e-9\n",
      "Loss: 1.171922208187747e-9\n",
      "Loss: 1.170188885759865e-9\n"
     ]
    },
    {
     "name": "stdout",
     "output_type": "stream",
     "text": [
      "Loss: 1.1675060480569457e-9\n",
      "Loss: 1.1633566383337784e-9\n",
      "Loss: 1.1581201952697062e-9\n",
      "Loss: 1.1540565130763885e-9\n",
      "Loss: 1.1487215623692027e-9\n",
      "Loss: 1.1452737559629877e-9\n"
     ]
    },
    {
     "name": "stdout",
     "output_type": "stream",
     "text": [
      "Loss: 1.1419527785998264e-9\n",
      "Loss: 1.139588942819088e-9\n",
      "Loss: 1.1372836142791951e-9\n",
      "Loss: 1.1357987005095478e-9\n",
      "Loss: 1.1349300513113058e-9\n",
      "Loss: 1.1343209515662081e-9\n"
     ]
    },
    {
     "name": "stdout",
     "output_type": "stream",
     "text": [
      "Loss: 1.1335524187464238e-9\n",
      "Loss: 1.1324398790104328e-9\n",
      "Loss: 1.1312379555781562e-9\n",
      "Loss: 1.1296830746817757e-9\n",
      "Loss: 1.1274260443032736e-9\n"
     ]
    },
    {
     "name": "stdout",
     "output_type": "stream",
     "text": [
      "Loss: 1.125535236164095e-9\n",
      "Loss: 1.1234820017610183e-9\n",
      "Loss: 1.1219475451710535e-9\n",
      "Loss: 1.1194693990973938e-9\n",
      "Loss: 1.1178441209877245e-9\n",
      "Loss: 1.1152800165460563e-9\n"
     ]
    },
    {
     "name": "stdout",
     "output_type": "stream",
     "text": [
      "Loss: 1.11329665178664e-9\n",
      "Loss: 1.1115980845565475e-9\n",
      "Loss: 1.1090701706910636e-9\n",
      "Loss: 1.1069280382479376e-9\n",
      "Loss: 1.1053416208431386e-9\n"
     ]
    },
    {
     "name": "stdout",
     "output_type": "stream",
     "text": [
      "Loss: 1.1041785459401717e-9\n",
      "Loss: 1.10349802505805e-9\n",
      "Loss: 1.1027753020047073e-9\n",
      "Loss: 1.1021746640258636e-9\n",
      "Loss: 1.1017063435274569e-9\n"
     ]
    },
    {
     "name": "stdout",
     "output_type": "stream",
     "text": [
      "Loss: 1.1013479474747076e-9\n",
      "Loss: 1.1009549565405162e-9\n",
      "Loss: 1.1006800895611364e-9\n",
      "Loss: 1.1004030890944206e-9\n",
      "Loss: 1.1001720660862428e-9\n"
     ]
    },
    {
     "name": "stdout",
     "output_type": "stream",
     "text": [
      "Loss: 1.0998581123148464e-9\n",
      "Loss: 1.0994199383702003e-9\n",
      "Loss: 1.098953924298501e-9\n",
      "Loss: 1.0987668498691931e-9\n",
      "Loss: 1.0986846560353664e-9\n"
     ]
    },
    {
     "name": "stdout",
     "output_type": "stream",
     "text": [
      "Loss: 1.0985784042960411e-9\n",
      "Loss: 1.0983859253727083e-9\n",
      "Loss: 1.0980229328692504e-9\n",
      "Loss: 1.097271152187864e-9\n"
     ]
    },
    {
     "name": "stdout",
     "output_type": "stream",
     "text": [
      "Loss: 1.0966080799256682e-9\n",
      "Loss: 1.0960502957219443e-9\n",
      "Loss: 1.0955444318373898e-9\n",
      "Loss: 1.0950721379426495e-9\n",
      "Loss: 1.0947927081656393e-9\n"
     ]
    },
    {
     "name": "stdout",
     "output_type": "stream",
     "text": [
      "Loss: 1.094657483414943e-9\n",
      "Loss: 1.094530458399605e-9\n",
      "Loss: 1.094411115204065e-9\n",
      "Loss: 1.0942194425269102e-9\n",
      "Loss: 1.093848370590434e-9\n"
     ]
    },
    {
     "name": "stdout",
     "output_type": "stream",
     "text": [
      "Loss: 1.0932581862071602e-9\n",
      "Loss: 1.0927257629446351e-9\n",
      "Loss: 1.0923138146527252e-9\n",
      "Loss: 1.0921048900308897e-9\n",
      "Loss: 1.0918333955418123e-9\n"
     ]
    },
    {
     "name": "stdout",
     "output_type": "stream",
     "text": [
      "Loss: 1.0914850214934095e-9\n",
      "Loss: 1.0911336353544826e-9\n",
      "Loss: 1.0908743118540877e-9\n",
      "Loss: 1.0906687267871654e-9\n",
      "Loss: 1.090398862958752e-9\n"
     ]
    },
    {
     "name": "stdout",
     "output_type": "stream",
     "text": [
      "Loss: 1.0900411008218304e-9\n",
      "Loss: 1.0898493431016563e-9\n",
      "Loss: 1.0896915001789085e-9\n",
      "Loss: 1.0895585002206513e-9\n",
      "Loss: 1.0894005080338597e-9\n"
     ]
    },
    {
     "name": "stdout",
     "output_type": "stream",
     "text": [
      "Loss: 1.0893146118884811e-9\n",
      "Loss: 1.0892425283033553e-9\n",
      "Loss: 1.0891794039593355e-9\n",
      "Loss: 1.0890711043988849e-9\n",
      "Loss: 1.0888991106682505e-9\n"
     ]
    },
    {
     "name": "stdout",
     "output_type": "stream",
     "text": [
      "Loss: 1.0886955450664494e-9\n",
      "Loss: 1.088367911450769e-9\n",
      "Loss: 1.0878163159952717e-9\n",
      "Loss: 1.0868940459856211e-9\n",
      "Loss: 1.0862056236403001e-9\n"
     ]
    },
    {
     "name": "stdout",
     "output_type": "stream",
     "text": [
      "Loss: 1.0854186196026564e-9\n",
      "Loss: 1.0843658422313852e-9\n",
      "Loss: 1.082724999333186e-9\n",
      "Loss: 1.0796280401905116e-9\n",
      "Loss: 1.0767233038743246e-9\n",
      "Loss: 1.073596477275001e-9\n"
     ]
    },
    {
     "name": "stdout",
     "output_type": "stream",
     "text": [
      "Loss: 1.0712319139782357e-9\n",
      "Loss: 1.0676798373038427e-9\n",
      "Loss: 1.0670888373716666e-9\n",
      "Loss: 1.0645759501373445e-9\n",
      "Loss: 1.0607463664904257e-9\n",
      "Loss: 1.0589376589574846e-9\n"
     ]
    },
    {
     "name": "stdout",
     "output_type": "stream",
     "text": [
      "Loss: 1.053750483542788e-9\n",
      "Loss: 1.0512473473767622e-9\n",
      "Loss: 1.0471947256833344e-9\n",
      "Loss: 1.0423201383127585e-9\n",
      "Loss: 1.0405531571227692e-9\n",
      "Loss: 1.0357383988935985e-9\n"
     ]
    },
    {
     "name": "stdout",
     "output_type": "stream",
     "text": [
      "Loss: 1.0316510446663652e-9\n",
      "Loss: 1.0296679954820311e-9\n",
      "Loss: 1.0285327080369497e-9\n",
      "Loss: 1.0272710503324206e-9\n",
      "Loss: 1.0265448062521677e-9\n",
      "Loss: 1.0261689114825292e-9\n"
     ]
    },
    {
     "name": "stdout",
     "output_type": "stream",
     "text": [
      "Loss: 1.0256741857437617e-9\n",
      "Loss: 1.0252156419149055e-9\n",
      "Loss: 1.0246986456455802e-9\n",
      "Loss: 1.0240369554148814e-9\n",
      "Loss: 1.0232001999324595e-9\n",
      "Loss: 1.022552291971707e-9\n"
     ]
    },
    {
     "name": "stdout",
     "output_type": "stream",
     "text": [
      "Loss: 1.0218927628546948e-9\n",
      "Loss: 1.021425340503087e-9\n",
      "Loss: 1.0208152902595574e-9\n",
      "Loss: 1.0202845195303395e-9\n",
      "Loss: 1.0200247712368303e-9\n"
     ]
    },
    {
     "name": "stdout",
     "output_type": "stream",
     "text": [
      "Loss: 1.0196147326850756e-9\n",
      "Loss: 1.019368439758867e-9\n",
      "Loss: 1.0191088233179523e-9\n",
      "Loss: 1.0185800269913641e-9\n",
      "Loss: 1.018206737119648e-9\n"
     ]
    },
    {
     "name": "stdout",
     "output_type": "stream",
     "text": [
      "Loss: 1.0180200805177434e-9\n",
      "Loss: 1.017912889227748e-9\n",
      "Loss: 1.0178300231386525e-9\n",
      "Loss: 1.0176405592046208e-9\n",
      "Loss: 1.0174277103174717e-9\n"
     ]
    },
    {
     "name": "stdout",
     "output_type": "stream",
     "text": [
      "Loss: 1.0173252557411562e-9\n",
      "Loss: 1.0172732462079199e-9\n",
      "Loss: 1.0172036992137329e-9\n",
      "Loss: 1.0171615350371608e-9\n",
      "Loss: 1.017107681287095e-9\n"
     ]
    },
    {
     "name": "stdout",
     "output_type": "stream",
     "text": [
      "Loss: 1.0170318636661058e-9\n",
      "Loss: 1.0168307811901254e-9\n",
      "Loss: 1.016626855498078e-9\n",
      "Loss: 1.016390292013917e-9\n",
      "Loss: 1.016240830426789e-9\n"
     ]
    },
    {
     "name": "stdout",
     "output_type": "stream",
     "text": [
      "Loss: 1.0161599555174516e-9\n",
      "Loss: 1.016120770315222e-9\n",
      "Loss: 1.0160536598225693e-9\n",
      "Loss: 1.0159758080930914e-9\n",
      "Loss: 1.0159062527370049e-9\n"
     ]
    },
    {
     "name": "stdout",
     "output_type": "stream",
     "text": [
      "Loss: 1.0158596021319901e-9\n",
      "Loss: 1.0157932610706076e-9\n",
      "Loss: 1.0156990304657529e-9\n",
      "Loss: 1.0156440046035418e-9\n",
      "Loss: 1.01548588262977e-9\n"
     ]
    },
    {
     "name": "stdout",
     "output_type": "stream",
     "text": [
      "Loss: 1.015317816668037e-9\n",
      "Loss: 1.0151692640775485e-9\n",
      "Loss: 1.0148474819007304e-9\n",
      "Loss: 1.01414532370449e-9\n",
      "Loss: 1.0134954602852848e-9\n"
     ]
    },
    {
     "name": "stdout",
     "output_type": "stream",
     "text": [
      "Loss: 1.0130022889598346e-9\n",
      "Loss: 1.0125919345707499e-9\n",
      "Loss: 1.0124173767758973e-9\n",
      "Loss: 1.0122722582788255e-9\n",
      "Loss: 1.0120087022866917e-9\n"
     ]
    },
    {
     "name": "stdout",
     "output_type": "stream",
     "text": [
      "Loss: 1.0114609453420927e-9\n",
      "Loss: 1.0102495843962417e-9\n",
      "Loss: 1.0085801544776638e-9\n",
      "Loss: 1.0067056343767997e-9\n",
      "Loss: 1.005102731091319e-9\n"
     ]
    },
    {
     "name": "stdout",
     "output_type": "stream",
     "text": [
      "Loss: 1.0023483407757893e-9\n",
      "Loss: 1.0007461429029036e-9\n",
      "Loss: 9.970992408034241e-10\n",
      "Loss: 9.939049595487304e-10\n",
      "Loss: 9.895211913173898e-10\n",
      "Loss: 9.877484317542545e-10\n"
     ]
    },
    {
     "name": "stdout",
     "output_type": "stream",
     "text": [
      "Loss: 9.84760357144771e-10\n",
      "Loss: 9.82615939523536e-10\n",
      "Loss: 9.815165985188856e-10\n",
      "Loss: 9.806044035284934e-10\n",
      "Loss: 9.79505860844885e-10\n"
     ]
    },
    {
     "name": "stdout",
     "output_type": "stream",
     "text": [
      "Loss: 9.790145411606474e-10\n",
      "Loss: 9.785962510334817e-10\n",
      "Loss: 9.781631044408883e-10\n",
      "Loss: 9.775217857937635e-10\n",
      "Loss: 9.771636366423784e-10\n"
     ]
    },
    {
     "name": "stdout",
     "output_type": "stream",
     "text": [
      "Loss: 9.768728773627676e-10\n",
      "Loss: 9.766421468660049e-10\n",
      "Loss: 9.76229629506877e-10\n",
      "Loss: 9.756261287317235e-10\n",
      "Loss: 9.74946473274074e-10\n"
     ]
    },
    {
     "name": "stdout",
     "output_type": "stream",
     "text": [
      "Loss: 9.74029063092606e-10\n",
      "Loss: 9.728316840387735e-10\n",
      "Loss: 9.714320161578477e-10\n",
      "Loss: 9.690515398518957e-10\n",
      "Loss: 9.654295204745454e-10\n"
     ]
    },
    {
     "name": "stdout",
     "output_type": "stream",
     "text": [
      "Loss: 9.624919538427137e-10\n",
      "Loss: 9.59941216815837e-10\n",
      "Loss: 9.575546919685282e-10\n"
     ]
    },
    {
     "name": "stdout",
     "output_type": "stream",
     "text": [
      "Loss: 9.554835423731658e-10\n",
      "Loss: 9.516472508930197e-10\n",
      "Loss: 9.491447390418125e-10\n",
      "Loss: 9.436193713373372e-10\n"
     ]
    },
    {
     "name": "stdout",
     "output_type": "stream",
     "text": [
      "Loss: 9.351023863091643e-10\n",
      "Loss: 9.307889404120504e-10\n",
      "Loss: 9.172751181469456e-10\n",
      "Loss: 9.148102913618558e-10\n",
      "Loss: 9.068119709918992e-10\n"
     ]
    },
    {
     "name": "stdout",
     "output_type": "stream",
     "text": [
      "Loss: 8.925184686552811e-10\n",
      "Loss: 8.874684787224895e-10\n",
      "Loss: 8.786931796247667e-10\n",
      "Loss: 8.72301925439396e-10\n",
      "Loss: 8.622516791142571e-10\n",
      "Loss: 8.579514784738353e-10\n"
     ]
    },
    {
     "name": "stdout",
     "output_type": "stream",
     "text": [
      "Loss: 8.495654797282536e-10\n",
      "Loss: 8.445625329927775e-10\n",
      "Loss: 8.375130964156158e-10\n",
      "Loss: 8.242294655156144e-10\n",
      "Loss: 8.174042090170954e-10\n",
      "Loss: 8.082351430843447e-10\n"
     ]
    },
    {
     "name": "stdout",
     "output_type": "stream",
     "text": [
      "Loss: 8.040463883058044e-10\n",
      "Loss: 7.988267623604063e-10\n",
      "Loss: 7.92803223882689e-10\n",
      "Loss: 7.889150728066268e-10\n",
      "Loss: 7.8427138682e-10\n",
      "Loss: 7.792219448488165e-10\n",
      "Loss: 7.755831687321239e-10\n"
     ]
    },
    {
     "name": "stdout",
     "output_type": "stream",
     "text": [
      "Loss: 7.670986216906285e-10\n",
      "Loss: 7.63632054779674e-10\n",
      "Loss: 7.588742037881597e-10\n",
      "Loss: 7.550009143378176e-10\n",
      "Loss: 7.506092913785514e-10\n",
      "Loss: 7.462916504044039e-10\n",
      "Loss: 7.429084847058114e-10\n"
     ]
    },
    {
     "name": "stdout",
     "output_type": "stream",
     "text": [
      "Loss: 7.406370420624904e-10\n",
      "Loss: 7.390558869956179e-10\n",
      "Loss: 7.383899975591477e-10\n",
      "Loss: 7.378376819428765e-10\n",
      "Loss: 7.371646486678682e-10\n",
      "Loss: 7.361842718387376e-10\n"
     ]
    },
    {
     "name": "stdout",
     "output_type": "stream",
     "text": [
      "Loss: 7.349864710349538e-10\n",
      "Loss: 7.338904209499158e-10\n",
      "Loss: 7.325646996489706e-10\n",
      "Loss: 7.31177094949665e-10\n",
      "Loss: 7.29937185660117e-10\n"
     ]
    },
    {
     "name": "stdout",
     "output_type": "stream",
     "text": [
      "Loss: 7.288339966690813e-10\n",
      "Loss: 7.278887291278595e-10\n",
      "Loss: 7.268380199309405e-10\n",
      "Loss: 7.25823441866965e-10\n",
      "Loss: 7.249109299591656e-10\n"
     ]
    },
    {
     "name": "stdout",
     "output_type": "stream",
     "text": [
      "Loss: 7.23068394026124e-10\n",
      "Loss: 7.217329373916869e-10\n",
      "Loss: 7.208229592882821e-10\n",
      "Loss: 7.202018451816039e-10\n",
      "Loss: 7.198049235688029e-10\n"
     ]
    },
    {
     "name": "stdout",
     "output_type": "stream",
     "text": [
      "Loss: 7.192769820081216e-10\n",
      "Loss: 7.188464657478286e-10\n",
      "Loss: 7.184698500397623e-10\n",
      "Loss: 7.18013293441037e-10\n"
     ]
    },
    {
     "name": "stdout",
     "output_type": "stream",
     "text": [
      "Loss: 7.174688172147773e-10\n",
      "Loss: 7.171011180651801e-10\n",
      "Loss: 7.167984321125199e-10\n",
      "Loss: 7.165741845883436e-10\n",
      "Loss: 7.163583004746032e-10\n"
     ]
    },
    {
     "name": "stdout",
     "output_type": "stream",
     "text": [
      "Loss: 7.160076764145361e-10\n",
      "Loss: 7.156815705419157e-10\n",
      "Loss: 7.155099973239927e-10\n",
      "Loss: 7.153769581952941e-10\n",
      "Loss: 7.153011802425703e-10\n"
     ]
    },
    {
     "name": "stdout",
     "output_type": "stream",
     "text": [
      "Loss: 7.152131235443267e-10\n",
      "Loss: 7.151102517610635e-10\n",
      "Loss: 7.150502977411625e-10\n",
      "Loss: 7.149930911874843e-10\n",
      "Loss: 7.149119755371122e-10\n"
     ]
    },
    {
     "name": "stdout",
     "output_type": "stream",
     "text": [
      "Loss: 7.14896525579574e-10\n",
      "Loss: 7.148120635766428e-10\n",
      "Loss: 7.147109225828029e-10\n",
      "Loss: 7.146355932738064e-10\n",
      "Loss: 7.145399929103886e-10\n"
     ]
    },
    {
     "name": "stdout",
     "output_type": "stream",
     "text": [
      "Loss: 7.143834058018359e-10\n",
      "Loss: 7.142186867569682e-10\n",
      "Loss: 7.141140789410541e-10\n"
     ]
    },
    {
     "data": {
      "text/plain": [
       "u: \u001b[0mComponentVector{Float64}(layer_1 = (weight = [-0.0008469800027969534; -0.014081919353404058; … ; -0.0009574465864219871; -0.021604323321490853;;], bias = [0.08513239163399704; -0.0913426239878377; … ; -0.04355859879076259; -0.029895128282376414;;]), layer_2 = (weight = [-0.003259982798225785 0.20923025406933476 … -1.2501445676770087 0.01736965598519211; -0.2412459056055053 0.0004454031962428371 … 0.6379748780102901 -0.03252731617032152; … ; 0.08257679678151665 -0.3217368579880741 … -0.22202537231787936 -0.18677048078788389; -0.3019376210563828 0.07497801270114567 … -0.10597099372949824 0.004032708415411528], bias = [-0.5515708484531617; 0.11063596254903552; … ; 0.2712518449520668; -0.062089155113281384;;]), layer_3 = (weight = [-0.3094982306048961 0.6532344779149716 … 0.5211574495401613 -0.45111645947645757; -0.7340323688099778 0.28827101964671936 … -0.33313844892450745 0.700106488464395; … ; -0.2659397477147365 -0.37645957129712976 … 0.5526122166754981 -0.14420228032615562; -1.301995371439927 0.9860257039013863 … -0.6037863436605865 0.5712956879014061], bias = [-0.18914329208245254; -0.1309131792382396; … ; 0.2061944063040954; -0.16737870350711387;;]), layer_4 = (weight = [-0.716629103173311 0.30827137419752526 … -1.1822504021516205 0.48491105818576746; 0.27860089341883887 0.9648378676009974 … 0.19577387418495587 -0.13128243188447508; … ; -0.7743200162977018 -0.7025325759717608 … 0.12629205694542237 0.3913632355756804; 0.7490676997383052 -0.12284171937504808 … 0.02222350095060083 -0.06486484984822025], bias = [0.25232143462256423; 0.3176236043102999; … ; 0.21436226102803482; 0.060537035149474235;;]), layer_5 = (weight = [-0.19753633552884542 11.405460177618437 … -9.053828471346709 10.793691751147659], bias = [0.6199176634916338;;]))"
      ]
     },
     "metadata": {},
     "output_type": "display_data"
    }
   ],
   "source": [
    "function callback(p, l)\n",
    "    println(\"Loss: $l\")\n",
    "    return false\n",
    "end\n",
    "\n",
    "res = Optimization.solve(prob, BFGS(); maxiters=2000, callback=callback)"
   ]
  },
  {
   "cell_type": "code",
   "execution_count": 4,
   "metadata": {},
   "outputs": [
    {
     "data": {
      "image/png": "[encoded data removed]",
      "image/svg+xml": [
       "<?xml version=\"1.0\" encoding=\"utf-8\"?>\n",
       "<svg xmlns=\"http://www.w3.org/2000/svg\" xmlns:xlink=\"http://www.w3.org/1999/xlink\" width=\"600\" height=\"400\" viewBox=\"0 0 2400 1600\">\n",
       "<defs>\n",
       "  <clipPath id=\"clip010\">\n",
       "    <rect x=\"0\" y=\"0\" width=\"2400\" height=\"1600\"/>\n",
       "  </clipPath>\n",
       "</defs>\n",
       "<path clip-path=\"url(#clip010)\" d=\"M0 1600 L2400 1600 L2400 0 L0 0  Z\" fill=\"#ffffff\" fill-rule=\"evenodd\" fill-opacity=\"1\"/>\n",
       "<defs>\n",
       "  <clipPath id=\"clip011\">\n",
       "    <rect x=\"480\" y=\"0\" width=\"1681\" height=\"1600\"/>\n",
       "  </clipPath>\n",
       "</defs>\n",
       "<path clip-path=\"url(#clip010)\" d=\"M209.029 1486.45 L2352.76 1486.45 L2352.76 47.2441 L209.029 47.2441  Z\" fill=\"#ffffff\" fill-rule=\"evenodd\" fill-opacity=\"1\"/>\n",
       "<defs>\n",
       "  <clipPath id=\"clip012\">\n",
       "    <rect x=\"209\" y=\"47\" width=\"2145\" height=\"1440\"/>\n",
       "  </clipPath>\n",
       "</defs>\n",
       "<polyline clip-path=\"url(#clip012)\" style=\"stroke:#000000; stroke-linecap:round; stroke-linejoin:round; stroke-width:2; stroke-opacity:0.1; fill:none\" points=\"438.232,1486.45 438.232,47.2441 \"/>\n",
       "<polyline clip-path=\"url(#clip012)\" style=\"stroke:#000000; stroke-linecap:round; stroke-linejoin:round; stroke-width:2; stroke-opacity:0.1; fill:none\" points=\"859.562,1486.45 859.562,47.2441 \"/>\n",
       "<polyline clip-path=\"url(#clip012)\" style=\"stroke:#000000; stroke-linecap:round; stroke-linejoin:round; stroke-width:2; stroke-opacity:0.1; fill:none\" points=\"1280.89,1486.45 1280.89,47.2441 \"/>\n",
       "<polyline clip-path=\"url(#clip012)\" style=\"stroke:#000000; stroke-linecap:round; stroke-linejoin:round; stroke-width:2; stroke-opacity:0.1; fill:none\" points=\"1702.22,1486.45 1702.22,47.2441 \"/>\n",
       "<polyline clip-path=\"url(#clip012)\" style=\"stroke:#000000; stroke-linecap:round; stroke-linejoin:round; stroke-width:2; stroke-opacity:0.1; fill:none\" points=\"2123.55,1486.45 2123.55,47.2441 \"/>\n",
       "<polyline clip-path=\"url(#clip010)\" style=\"stroke:#000000; stroke-linecap:round; stroke-linejoin:round; stroke-width:4; stroke-opacity:1; fill:none\" points=\"209.029,1486.45 2352.76,1486.45 \"/>\n",
       "<polyline clip-path=\"url(#clip010)\" style=\"stroke:#000000; stroke-linecap:round; stroke-linejoin:round; stroke-width:4; stroke-opacity:1; fill:none\" points=\"438.232,1486.45 438.232,1467.55 \"/>\n",
       "<polyline clip-path=\"url(#clip010)\" style=\"stroke:#000000; stroke-linecap:round; stroke-linejoin:round; stroke-width:4; stroke-opacity:1; fill:none\" points=\"859.562,1486.45 859.562,1467.55 \"/>\n",
       "<polyline clip-path=\"url(#clip010)\" style=\"stroke:#000000; stroke-linecap:round; stroke-linejoin:round; stroke-width:4; stroke-opacity:1; fill:none\" points=\"1280.89,1486.45 1280.89,1467.55 \"/>\n",
       "<polyline clip-path=\"url(#clip010)\" style=\"stroke:#000000; stroke-linecap:round; stroke-linejoin:round; stroke-width:4; stroke-opacity:1; fill:none\" points=\"1702.22,1486.45 1702.22,1467.55 \"/>\n",
       "<polyline clip-path=\"url(#clip010)\" style=\"stroke:#000000; stroke-linecap:round; stroke-linejoin:round; stroke-width:4; stroke-opacity:1; fill:none\" points=\"2123.55,1486.45 2123.55,1467.55 \"/>\n",
       "<path clip-path=\"url(#clip010)\" d=\"M377.214 1532.02 L406.89 1532.02 L406.89 1535.95 L377.214 1535.95 L377.214 1532.02 Z\" fill=\"#000000\" fill-rule=\"nonzero\" fill-opacity=\"1\" /><path clip-path=\"url(#clip010)\" d=\"M417.028 1514.29 L435.385 1514.29 L435.385 1518.22 L421.311 1518.22 L421.311 1526.7 Q422.329 1526.35 423.348 1526.19 Q424.366 1526 425.385 1526 Q431.172 1526 434.552 1529.17 Q437.931 1532.34 437.931 1537.76 Q437.931 1543.34 434.459 1546.44 Q430.987 1549.52 424.667 1549.52 Q422.491 1549.52 420.223 1549.15 Q417.978 1548.78 415.57 1548.04 L415.57 1543.34 Q417.653 1544.47 419.876 1545.03 Q422.098 1545.58 424.575 1545.58 Q428.579 1545.58 430.917 1543.48 Q433.255 1541.37 433.255 1537.76 Q433.255 1534.15 430.917 1532.04 Q428.579 1529.94 424.575 1529.94 Q422.7 1529.94 420.825 1530.35 Q418.973 1530.77 417.028 1531.65 L417.028 1514.29 Z\" fill=\"#000000\" fill-rule=\"nonzero\" fill-opacity=\"1\" /><path clip-path=\"url(#clip010)\" d=\"M457.144 1517.37 Q453.533 1517.37 451.704 1520.93 Q449.899 1524.47 449.899 1531.6 Q449.899 1538.71 451.704 1542.27 Q453.533 1545.82 457.144 1545.82 Q460.778 1545.82 462.584 1542.27 Q464.412 1538.71 464.412 1531.6 Q464.412 1524.47 462.584 1520.93 Q460.778 1517.37 457.144 1517.37 M457.144 1513.66 Q462.954 1513.66 466.01 1518.27 Q469.088 1522.85 469.088 1531.6 Q469.088 1540.33 466.01 1544.94 Q462.954 1549.52 457.144 1549.52 Q451.334 1549.52 448.255 1544.94 Q445.2 1540.33 445.2 1531.6 Q445.2 1522.85 448.255 1518.27 Q451.334 1513.66 457.144 1513.66 Z\" fill=\"#000000\" fill-rule=\"nonzero\" fill-opacity=\"1\" /><path clip-path=\"url(#clip010)\" d=\"M487.306 1517.37 Q483.695 1517.37 481.866 1520.93 Q480.061 1524.47 480.061 1531.6 Q480.061 1538.71 481.866 1542.27 Q483.695 1545.82 487.306 1545.82 Q490.94 1545.82 492.746 1542.27 Q494.574 1538.71 494.574 1531.6 Q494.574 1524.47 492.746 1520.93 Q490.94 1517.37 487.306 1517.37 M487.306 1513.66 Q493.116 1513.66 496.172 1518.27 Q499.25 1522.85 499.25 1531.6 Q499.25 1540.33 496.172 1544.94 Q493.116 1549.52 487.306 1549.52 Q481.496 1549.52 478.417 1544.94 Q475.361 1540.33 475.361 1531.6 Q475.361 1522.85 478.417 1518.27 Q481.496 1513.66 487.306 1513.66 Z\" fill=\"#000000\" fill-rule=\"nonzero\" fill-opacity=\"1\" /><path clip-path=\"url(#clip010)\" d=\"M798.544 1532.02 L828.22 1532.02 L828.22 1535.95 L798.544 1535.95 L798.544 1532.02 Z\" fill=\"#000000\" fill-rule=\"nonzero\" fill-opacity=\"1\" /><path clip-path=\"url(#clip010)\" d=\"M842.34 1544.91 L858.659 1544.91 L858.659 1548.85 L836.715 1548.85 L836.715 1544.91 Q839.377 1542.16 843.96 1537.53 Q848.567 1532.88 849.747 1531.53 Q851.993 1529.01 852.872 1527.27 Q853.775 1525.51 853.775 1523.82 Q853.775 1521.07 851.831 1519.33 Q849.909 1517.6 846.808 1517.6 Q844.609 1517.6 842.155 1518.36 Q839.724 1519.13 836.947 1520.68 L836.947 1515.95 Q839.771 1514.82 842.224 1514.24 Q844.678 1513.66 846.715 1513.66 Q852.085 1513.66 855.28 1516.35 Q858.474 1519.03 858.474 1523.52 Q858.474 1525.65 857.664 1527.57 Q856.877 1529.47 854.77 1532.07 Q854.192 1532.74 851.09 1535.95 Q847.988 1539.15 842.34 1544.91 Z\" fill=\"#000000\" fill-rule=\"nonzero\" fill-opacity=\"1\" /><path clip-path=\"url(#clip010)\" d=\"M868.52 1514.29 L886.877 1514.29 L886.877 1518.22 L872.803 1518.22 L872.803 1526.7 Q873.821 1526.35 874.84 1526.19 Q875.858 1526 876.877 1526 Q882.664 1526 886.043 1529.17 Q889.423 1532.34 889.423 1537.76 Q889.423 1543.34 885.951 1546.44 Q882.479 1549.52 876.159 1549.52 Q873.983 1549.52 871.715 1549.15 Q869.469 1548.78 867.062 1548.04 L867.062 1543.34 Q869.145 1544.47 871.368 1545.03 Q873.59 1545.58 876.067 1545.58 Q880.071 1545.58 882.409 1543.48 Q884.747 1541.37 884.747 1537.76 Q884.747 1534.15 882.409 1532.04 Q880.071 1529.94 876.067 1529.94 Q874.192 1529.94 872.317 1530.35 Q870.465 1530.77 868.52 1531.65 L868.52 1514.29 Z\" fill=\"#000000\" fill-rule=\"nonzero\" fill-opacity=\"1\" /><path clip-path=\"url(#clip010)\" d=\"M908.636 1517.37 Q905.025 1517.37 903.196 1520.93 Q901.391 1524.47 901.391 1531.6 Q901.391 1538.71 903.196 1542.27 Q905.025 1545.82 908.636 1545.82 Q912.27 1545.82 914.076 1542.27 Q915.904 1538.71 915.904 1531.6 Q915.904 1524.47 914.076 1520.93 Q912.27 1517.37 908.636 1517.37 M908.636 1513.66 Q914.446 1513.66 917.502 1518.27 Q920.58 1522.85 920.58 1531.6 Q920.58 1540.33 917.502 1544.94 Q914.446 1549.52 908.636 1549.52 Q902.826 1549.52 899.747 1544.94 Q896.692 1540.33 896.692 1531.6 Q896.692 1522.85 899.747 1518.27 Q902.826 1513.66 908.636 1513.66 Z\" fill=\"#000000\" fill-rule=\"nonzero\" fill-opacity=\"1\" /><path clip-path=\"url(#clip010)\" d=\"M1280.89 1517.37 Q1277.28 1517.37 1275.45 1520.93 Q1273.65 1524.47 1273.65 1531.6 Q1273.65 1538.71 1275.45 1542.27 Q1277.28 1545.82 1280.89 1545.82 Q1284.53 1545.82 1286.33 1542.27 Q1288.16 1538.71 1288.16 1531.6 Q1288.16 1524.47 1286.33 1520.93 Q1284.53 1517.37 1280.89 1517.37 M1280.89 1513.66 Q1286.7 1513.66 1289.76 1518.27 Q1292.84 1522.85 1292.84 1531.6 Q1292.84 1540.33 1289.76 1544.94 Q1286.7 1549.52 1280.89 1549.52 Q1275.08 1549.52 1272 1544.94 Q1268.95 1540.33 1268.95 1531.6 Q1268.95 1522.85 1272 1518.27 Q1275.08 1513.66 1280.89 1513.66 Z\" fill=\"#000000\" fill-rule=\"nonzero\" fill-opacity=\"1\" /><path clip-path=\"url(#clip010)\" d=\"M1665.91 1544.91 L1682.23 1544.91 L1682.23 1548.85 L1660.29 1548.85 L1660.29 1544.91 Q1662.95 1542.16 1667.53 1537.53 Q1672.14 1532.88 1673.32 1531.53 Q1675.57 1529.01 1676.45 1527.27 Q1677.35 1525.51 1677.35 1523.82 Q1677.35 1521.07 1675.41 1519.33 Q1673.48 1517.6 1670.38 1517.6 Q1668.18 1517.6 1665.73 1518.36 Q1663.3 1519.13 1660.52 1520.68 L1660.52 1515.95 Q1663.35 1514.82 1665.8 1514.24 Q1668.25 1513.66 1670.29 1513.66 Q1675.66 1513.66 1678.85 1516.35 Q1682.05 1519.03 1682.05 1523.52 Q1682.05 1525.65 1681.24 1527.57 Q1680.45 1529.47 1678.35 1532.07 Q1677.77 1532.74 1674.66 1535.95 Q1671.56 1539.15 1665.91 1544.91 Z\" fill=\"#000000\" fill-rule=\"nonzero\" fill-opacity=\"1\" /><path clip-path=\"url(#clip010)\" d=\"M1692.1 1514.29 L1710.45 1514.29 L1710.45 1518.22 L1696.38 1518.22 L1696.38 1526.7 Q1697.4 1526.35 1698.41 1526.19 Q1699.43 1526 1700.45 1526 Q1706.24 1526 1709.62 1529.17 Q1713 1532.34 1713 1537.76 Q1713 1543.34 1709.53 1546.44 Q1706.05 1549.52 1699.73 1549.52 Q1697.56 1549.52 1695.29 1549.15 Q1693.04 1548.78 1690.64 1548.04 L1690.64 1543.34 Q1692.72 1544.47 1694.94 1545.03 Q1697.16 1545.58 1699.64 1545.58 Q1703.65 1545.58 1705.98 1543.48 Q1708.32 1541.37 1708.32 1537.76 Q1708.32 1534.15 1705.98 1532.04 Q1703.65 1529.94 1699.64 1529.94 Q1697.77 1529.94 1695.89 1530.35 Q1694.04 1530.77 1692.1 1531.65 L1692.1 1514.29 Z\" fill=\"#000000\" fill-rule=\"nonzero\" fill-opacity=\"1\" /><path clip-path=\"url(#clip010)\" d=\"M1732.21 1517.37 Q1728.6 1517.37 1726.77 1520.93 Q1724.97 1524.47 1724.97 1531.6 Q1724.97 1538.71 1726.77 1542.27 Q1728.6 1545.82 1732.21 1545.82 Q1735.84 1545.82 1737.65 1542.27 Q1739.48 1538.71 1739.48 1531.6 Q1739.48 1524.47 1737.65 1520.93 Q1735.84 1517.37 1732.21 1517.37 M1732.21 1513.66 Q1738.02 1513.66 1741.08 1518.27 Q1744.15 1522.85 1744.15 1531.6 Q1744.15 1540.33 1741.08 1544.94 Q1738.02 1549.52 1732.21 1549.52 Q1726.4 1549.52 1723.32 1544.94 Q1720.27 1540.33 1720.27 1531.6 Q1720.27 1522.85 1723.32 1518.27 Q1726.4 1513.66 1732.21 1513.66 Z\" fill=\"#000000\" fill-rule=\"nonzero\" fill-opacity=\"1\" /><path clip-path=\"url(#clip010)\" d=\"M2083.17 1514.29 L2101.53 1514.29 L2101.53 1518.22 L2087.45 1518.22 L2087.45 1526.7 Q2088.47 1526.35 2089.49 1526.19 Q2090.51 1526 2091.53 1526 Q2097.31 1526 2100.69 1529.17 Q2104.07 1532.34 2104.07 1537.76 Q2104.07 1543.34 2100.6 1546.44 Q2097.13 1549.52 2090.81 1549.52 Q2088.63 1549.52 2086.37 1549.15 Q2084.12 1548.78 2081.71 1548.04 L2081.71 1543.34 Q2083.8 1544.47 2086.02 1545.03 Q2088.24 1545.58 2090.72 1545.58 Q2094.72 1545.58 2097.06 1543.48 Q2099.4 1541.37 2099.4 1537.76 Q2099.4 1534.15 2097.06 1532.04 Q2094.72 1529.94 2090.72 1529.94 Q2088.84 1529.94 2086.97 1530.35 Q2085.12 1530.77 2083.17 1531.65 L2083.17 1514.29 Z\" fill=\"#000000\" fill-rule=\"nonzero\" fill-opacity=\"1\" /><path clip-path=\"url(#clip010)\" d=\"M2123.29 1517.37 Q2119.68 1517.37 2117.85 1520.93 Q2116.04 1524.47 2116.04 1531.6 Q2116.04 1538.71 2117.85 1542.27 Q2119.68 1545.82 2123.29 1545.82 Q2126.92 1545.82 2128.73 1542.27 Q2130.55 1538.71 2130.55 1531.6 Q2130.55 1524.47 2128.73 1520.93 Q2126.92 1517.37 2123.29 1517.37 M2123.29 1513.66 Q2129.1 1513.66 2132.15 1518.27 Q2135.23 1522.85 2135.23 1531.6 Q2135.23 1540.33 2132.15 1544.94 Q2129.1 1549.52 2123.29 1549.52 Q2117.48 1549.52 2114.4 1544.94 Q2111.34 1540.33 2111.34 1531.6 Q2111.34 1522.85 2114.4 1518.27 Q2117.48 1513.66 2123.29 1513.66 Z\" fill=\"#000000\" fill-rule=\"nonzero\" fill-opacity=\"1\" /><path clip-path=\"url(#clip010)\" d=\"M2153.45 1517.37 Q2149.84 1517.37 2148.01 1520.93 Q2146.2 1524.47 2146.2 1531.6 Q2146.2 1538.71 2148.01 1542.27 Q2149.84 1545.82 2153.45 1545.82 Q2157.08 1545.82 2158.89 1542.27 Q2160.72 1538.71 2160.72 1531.6 Q2160.72 1524.47 2158.89 1520.93 Q2157.08 1517.37 2153.45 1517.37 M2153.45 1513.66 Q2159.26 1513.66 2162.31 1518.27 Q2165.39 1522.85 2165.39 1531.6 Q2165.39 1540.33 2162.31 1544.94 Q2159.26 1549.52 2153.45 1549.52 Q2147.64 1549.52 2144.56 1544.94 Q2141.5 1540.33 2141.5 1531.6 Q2141.5 1522.85 2144.56 1518.27 Q2147.64 1513.66 2153.45 1513.66 Z\" fill=\"#000000\" fill-rule=\"nonzero\" fill-opacity=\"1\" /><polyline clip-path=\"url(#clip012)\" style=\"stroke:#000000; stroke-linecap:round; stroke-linejoin:round; stroke-width:2; stroke-opacity:0.1; fill:none\" points=\"209.029,1445.72 2352.76,1445.72 \"/>\n",
       "<polyline clip-path=\"url(#clip012)\" style=\"stroke:#000000; stroke-linecap:round; stroke-linejoin:round; stroke-width:2; stroke-opacity:0.1; fill:none\" points=\"209.029,1106.28 2352.76,1106.28 \"/>\n",
       "<polyline clip-path=\"url(#clip012)\" style=\"stroke:#000000; stroke-linecap:round; stroke-linejoin:round; stroke-width:2; stroke-opacity:0.1; fill:none\" points=\"209.029,766.846 2352.76,766.846 \"/>\n",
       "<polyline clip-path=\"url(#clip012)\" style=\"stroke:#000000; stroke-linecap:round; stroke-linejoin:round; stroke-width:2; stroke-opacity:0.1; fill:none\" points=\"209.029,427.41 2352.76,427.41 \"/>\n",
       "<polyline clip-path=\"url(#clip012)\" style=\"stroke:#000000; stroke-linecap:round; stroke-linejoin:round; stroke-width:2; stroke-opacity:0.1; fill:none\" points=\"209.029,87.9744 2352.76,87.9744 \"/>\n",
       "<polyline clip-path=\"url(#clip010)\" style=\"stroke:#000000; stroke-linecap:round; stroke-linejoin:round; stroke-width:4; stroke-opacity:1; fill:none\" points=\"209.029,1486.45 209.029,47.2441 \"/>\n",
       "<polyline clip-path=\"url(#clip010)\" style=\"stroke:#000000; stroke-linecap:round; stroke-linejoin:round; stroke-width:4; stroke-opacity:1; fill:none\" points=\"209.029,1445.72 227.926,1445.72 \"/>\n",
       "<polyline clip-path=\"url(#clip010)\" style=\"stroke:#000000; stroke-linecap:round; stroke-linejoin:round; stroke-width:4; stroke-opacity:1; fill:none\" points=\"209.029,1106.28 227.926,1106.28 \"/>\n",
       "<polyline clip-path=\"url(#clip010)\" style=\"stroke:#000000; stroke-linecap:round; stroke-linejoin:round; stroke-width:4; stroke-opacity:1; fill:none\" points=\"209.029,766.846 227.926,766.846 \"/>\n",
       "<polyline clip-path=\"url(#clip010)\" style=\"stroke:#000000; stroke-linecap:round; stroke-linejoin:round; stroke-width:4; stroke-opacity:1; fill:none\" points=\"209.029,427.41 227.926,427.41 \"/>\n",
       "<polyline clip-path=\"url(#clip010)\" style=\"stroke:#000000; stroke-linecap:round; stroke-linejoin:round; stroke-width:4; stroke-opacity:1; fill:none\" points=\"209.029,87.9744 227.926,87.9744 \"/>\n",
       "<path clip-path=\"url(#clip010)\" d=\"M50.9921 1446.17 L80.6679 1446.17 L80.6679 1450.1 L50.9921 1450.1 L50.9921 1446.17 Z\" fill=\"#000000\" fill-rule=\"nonzero\" fill-opacity=\"1\" /><path clip-path=\"url(#clip010)\" d=\"M91.5706 1459.06 L99.2095 1459.06 L99.2095 1432.7 L90.8993 1434.36 L90.8993 1430.1 L99.1632 1428.44 L103.839 1428.44 L103.839 1459.06 L111.478 1459.06 L111.478 1463 L91.5706 1463 L91.5706 1459.06 Z\" fill=\"#000000\" fill-rule=\"nonzero\" fill-opacity=\"1\" /><path clip-path=\"url(#clip010)\" d=\"M130.922 1431.52 Q127.311 1431.52 125.482 1435.08 Q123.677 1438.62 123.677 1445.75 Q123.677 1452.86 125.482 1456.42 Q127.311 1459.96 130.922 1459.96 Q134.556 1459.96 136.362 1456.42 Q138.191 1452.86 138.191 1445.75 Q138.191 1438.62 136.362 1435.08 Q134.556 1431.52 130.922 1431.52 M130.922 1427.81 Q136.732 1427.81 139.788 1432.42 Q142.867 1437 142.867 1445.75 Q142.867 1454.48 139.788 1459.08 Q136.732 1463.67 130.922 1463.67 Q125.112 1463.67 122.033 1459.08 Q118.978 1454.48 118.978 1445.75 Q118.978 1437 122.033 1432.42 Q125.112 1427.81 130.922 1427.81 Z\" fill=\"#000000\" fill-rule=\"nonzero\" fill-opacity=\"1\" /><path clip-path=\"url(#clip010)\" d=\"M161.084 1431.52 Q157.473 1431.52 155.644 1435.08 Q153.839 1438.62 153.839 1445.75 Q153.839 1452.86 155.644 1456.42 Q157.473 1459.96 161.084 1459.96 Q164.718 1459.96 166.524 1456.42 Q168.353 1452.86 168.353 1445.75 Q168.353 1438.62 166.524 1435.08 Q164.718 1431.52 161.084 1431.52 M161.084 1427.81 Q166.894 1427.81 169.95 1432.42 Q173.029 1437 173.029 1445.75 Q173.029 1454.48 169.95 1459.08 Q166.894 1463.67 161.084 1463.67 Q155.274 1463.67 152.195 1459.08 Q149.14 1454.48 149.14 1445.75 Q149.14 1437 152.195 1432.42 Q155.274 1427.81 161.084 1427.81 Z\" fill=\"#000000\" fill-rule=\"nonzero\" fill-opacity=\"1\" /><path clip-path=\"url(#clip010)\" d=\"M81.154 1106.73 L110.83 1106.73 L110.83 1110.67 L81.154 1110.67 L81.154 1106.73 Z\" fill=\"#000000\" fill-rule=\"nonzero\" fill-opacity=\"1\" /><path clip-path=\"url(#clip010)\" d=\"M120.969 1089 L139.325 1089 L139.325 1092.94 L125.251 1092.94 L125.251 1101.41 Q126.27 1101.06 127.288 1100.9 Q128.307 1100.71 129.325 1100.71 Q135.112 1100.71 138.492 1103.89 Q141.871 1107.06 141.871 1112.47 Q141.871 1118.05 138.399 1121.15 Q134.927 1124.23 128.607 1124.23 Q126.432 1124.23 124.163 1123.86 Q121.918 1123.49 119.51 1122.75 L119.51 1118.05 Q121.594 1119.19 123.816 1119.74 Q126.038 1120.3 128.515 1120.3 Q132.519 1120.3 134.857 1118.19 Q137.195 1116.08 137.195 1112.47 Q137.195 1108.86 134.857 1106.76 Q132.519 1104.65 128.515 1104.65 Q126.64 1104.65 124.765 1105.07 Q122.913 1105.48 120.969 1106.36 L120.969 1089 Z\" fill=\"#000000\" fill-rule=\"nonzero\" fill-opacity=\"1\" /><path clip-path=\"url(#clip010)\" d=\"M161.084 1092.08 Q157.473 1092.08 155.644 1095.64 Q153.839 1099.19 153.839 1106.32 Q153.839 1113.42 155.644 1116.99 Q157.473 1120.53 161.084 1120.53 Q164.718 1120.53 166.524 1116.99 Q168.353 1113.42 168.353 1106.32 Q168.353 1099.19 166.524 1095.64 Q164.718 1092.08 161.084 1092.08 M161.084 1088.38 Q166.894 1088.38 169.95 1092.98 Q173.029 1097.57 173.029 1106.32 Q173.029 1115.04 169.95 1119.65 Q166.894 1124.23 161.084 1124.23 Q155.274 1124.23 152.195 1119.65 Q149.14 1115.04 149.14 1106.32 Q149.14 1097.57 152.195 1092.98 Q155.274 1088.38 161.084 1088.38 Z\" fill=\"#000000\" fill-rule=\"nonzero\" fill-opacity=\"1\" /><path clip-path=\"url(#clip010)\" d=\"M161.084 752.644 Q157.473 752.644 155.644 756.209 Q153.839 759.751 153.839 766.88 Q153.839 773.987 155.644 777.551 Q157.473 781.093 161.084 781.093 Q164.718 781.093 166.524 777.551 Q168.353 773.987 168.353 766.88 Q168.353 759.751 166.524 756.209 Q164.718 752.644 161.084 752.644 M161.084 748.941 Q166.894 748.941 169.95 753.547 Q173.029 758.13 173.029 766.88 Q173.029 775.607 169.95 780.214 Q166.894 784.797 161.084 784.797 Q155.274 784.797 152.195 780.214 Q149.14 775.607 149.14 766.88 Q149.14 758.13 152.195 753.547 Q155.274 748.941 161.084 748.941 Z\" fill=\"#000000\" fill-rule=\"nonzero\" fill-opacity=\"1\" /><path clip-path=\"url(#clip010)\" d=\"M120.969 410.13 L139.325 410.13 L139.325 414.065 L125.251 414.065 L125.251 422.537 Q126.27 422.19 127.288 422.028 Q128.307 421.843 129.325 421.843 Q135.112 421.843 138.492 425.014 Q141.871 428.185 141.871 433.602 Q141.871 439.181 138.399 442.283 Q134.927 445.361 128.607 445.361 Q126.432 445.361 124.163 444.991 Q121.918 444.621 119.51 443.88 L119.51 439.181 Q121.594 440.315 123.816 440.871 Q126.038 441.426 128.515 441.426 Q132.519 441.426 134.857 439.32 Q137.195 437.213 137.195 433.602 Q137.195 429.991 134.857 427.885 Q132.519 425.778 128.515 425.778 Q126.64 425.778 124.765 426.195 Q122.913 426.611 120.969 427.491 L120.969 410.13 Z\" fill=\"#000000\" fill-rule=\"nonzero\" fill-opacity=\"1\" /><path clip-path=\"url(#clip010)\" d=\"M161.084 413.209 Q157.473 413.209 155.644 416.773 Q153.839 420.315 153.839 427.445 Q153.839 434.551 155.644 438.116 Q157.473 441.658 161.084 441.658 Q164.718 441.658 166.524 438.116 Q168.353 434.551 168.353 427.445 Q168.353 420.315 166.524 416.773 Q164.718 413.209 161.084 413.209 M161.084 409.505 Q166.894 409.505 169.95 414.111 Q173.029 418.695 173.029 427.445 Q173.029 436.172 169.95 440.778 Q166.894 445.361 161.084 445.361 Q155.274 445.361 152.195 440.778 Q149.14 436.172 149.14 427.445 Q149.14 418.695 152.195 414.111 Q155.274 409.505 161.084 409.505 Z\" fill=\"#000000\" fill-rule=\"nonzero\" fill-opacity=\"1\" /><path clip-path=\"url(#clip010)\" d=\"M91.5706 101.319 L99.2095 101.319 L99.2095 74.9537 L90.8993 76.6203 L90.8993 72.3611 L99.1632 70.6944 L103.839 70.6944 L103.839 101.319 L111.478 101.319 L111.478 105.254 L91.5706 105.254 L91.5706 101.319 Z\" fill=\"#000000\" fill-rule=\"nonzero\" fill-opacity=\"1\" /><path clip-path=\"url(#clip010)\" d=\"M130.922 73.7731 Q127.311 73.7731 125.482 77.3379 Q123.677 80.8796 123.677 88.0092 Q123.677 95.1156 125.482 98.6804 Q127.311 102.222 130.922 102.222 Q134.556 102.222 136.362 98.6804 Q138.191 95.1156 138.191 88.0092 Q138.191 80.8796 136.362 77.3379 Q134.556 73.7731 130.922 73.7731 M130.922 70.0694 Q136.732 70.0694 139.788 74.6759 Q142.867 79.2592 142.867 88.0092 Q142.867 96.736 139.788 101.342 Q136.732 105.926 130.922 105.926 Q125.112 105.926 122.033 101.342 Q118.978 96.736 118.978 88.0092 Q118.978 79.2592 122.033 74.6759 Q125.112 70.0694 130.922 70.0694 Z\" fill=\"#000000\" fill-rule=\"nonzero\" fill-opacity=\"1\" /><path clip-path=\"url(#clip010)\" d=\"M161.084 73.7731 Q157.473 73.7731 155.644 77.3379 Q153.839 80.8796 153.839 88.0092 Q153.839 95.1156 155.644 98.6804 Q157.473 102.222 161.084 102.222 Q164.718 102.222 166.524 98.6804 Q168.353 95.1156 168.353 88.0092 Q168.353 80.8796 166.524 77.3379 Q164.718 73.7731 161.084 73.7731 M161.084 70.0694 Q166.894 70.0694 169.95 74.6759 Q173.029 79.2592 173.029 88.0092 Q173.029 96.736 169.95 101.342 Q166.894 105.926 161.084 105.926 Q155.274 105.926 152.195 101.342 Q149.14 96.736 149.14 88.0092 Q149.14 79.2592 152.195 74.6759 Q155.274 70.0694 161.084 70.0694 Z\" fill=\"#000000\" fill-rule=\"nonzero\" fill-opacity=\"1\" /><polyline clip-path=\"url(#clip012)\" style=\"stroke:#009af9; stroke-linecap:round; stroke-linejoin:round; stroke-width:4; stroke-opacity:1; fill:none\" points=\"269.7,577.158 271.724,569.341 273.749,561.554 275.773,553.796 277.798,546.069 279.822,538.374 281.846,530.712 283.871,523.084 285.895,515.491 287.92,507.935 289.944,500.415 291.969,492.934 293.993,485.492 296.017,478.091 298.042,470.732 300.066,463.415 302.091,456.142 304.115,448.914 306.139,441.732 308.164,434.597 310.188,427.511 312.213,420.473 314.237,413.485 316.261,406.548 318.286,399.663 320.31,392.831 322.335,386.053 324.359,379.329 326.383,372.662 328.408,366.051 330.432,359.499 332.457,353.004 334.481,346.57 336.506,340.196 338.53,333.884 340.554,327.634 342.579,321.448 344.603,315.326 346.628,309.269 348.652,303.278 350.676,297.354 352.701,291.498 354.725,285.711 356.75,279.993 358.774,274.345 360.798,268.769 362.823,263.264 364.847,257.832 366.872,252.473 368.896,247.189 370.92,241.979 372.945,236.846 374.969,231.788 376.994,226.808 379.018,221.905 381.043,217.081 383.067,212.337 385.091,207.672 387.116,203.089 389.14,198.586 391.165,194.166 393.189,189.828 395.213,185.573 397.238,181.403 399.262,177.316 401.287,173.315 403.311,169.4 405.335,165.571 407.36,161.829 409.384,158.174 411.409,154.607 413.433,151.128 415.457,147.738 417.482,144.437 419.506,141.226 421.531,138.106 423.555,135.076 425.58,132.137 427.604,129.29 429.628,126.534 431.653,123.871 433.677,121.301 435.702,118.824 437.726,116.44 439.75,114.15 441.775,111.955 443.799,109.854 445.824,107.847 447.848,105.936 449.872,104.12 451.897,102.4 453.921,100.776 455.946,99.2477 457.97,97.816 459.994,96.4807 462.019,95.2423 464.043,94.1008 466.068,93.0563 468.092,92.1091 470.117,91.2592 472.141,90.5069 474.165,89.852 476.19,89.2949 478.214,88.8355 480.239,88.4739 482.263,88.2102 484.287,88.0443 486.312,87.9764 488.336,88.0063 490.361,88.1342 492.385,88.36 494.409,88.6837 496.434,89.1052 498.458,89.6245 500.483,90.2414 502.507,90.9561 504.531,91.7682 506.556,92.6778 508.58,93.6847 510.605,94.7887 512.629,95.9898 514.653,97.2876 516.678,98.6821 518.702,100.173 520.727,101.76 522.751,103.443 524.776,105.222 526.8,107.097 528.824,109.066 530.849,111.131 532.873,113.29 534.898,115.543 536.922,117.89 538.946,120.331 540.971,122.865 542.995,125.492 545.02,128.212 547.044,131.023 549.068,133.927 551.093,136.921 553.117,140.007 555.142,143.183 557.166,146.449 559.19,149.804 561.215,153.249 563.239,156.782 565.264,160.403 567.288,164.112 569.313,167.908 571.337,171.79 573.361,175.758 575.386,179.811 577.41,183.949 579.435,188.171 581.459,192.477 583.483,196.865 585.508,201.336 587.532,205.889 589.557,210.522 591.581,215.235 593.605,220.028 595.63,224.9 597.654,229.85 599.679,234.878 601.703,239.982 603.727,245.162 605.752,250.418 607.776,255.748 609.801,261.152 611.825,266.629 613.85,272.178 615.874,277.798 617.898,283.489 619.923,289.25 621.947,295.08 623.972,300.977 625.996,306.942 628.02,312.974 630.045,319.07 632.069,325.232 634.094,331.457 636.118,337.745 638.142,344.095 640.167,350.506 642.191,356.976 644.216,363.506 646.24,370.095 648.264,376.74 650.289,383.442 652.313,390.199 654.338,397.011 656.362,403.875 658.387,410.793 660.411,417.761 662.435,424.78 664.46,431.849 666.484,438.965 668.509,446.129 670.533,453.34 672.557,460.595 674.582,467.895 676.606,475.238 678.631,482.623 680.655,490.048 682.679,497.514 684.704,505.019 686.728,512.561 688.753,520.14 690.777,527.754 692.801,535.403 694.826,543.086 696.85,550.8 698.875,558.546 700.899,566.322 702.924,574.127 704.948,581.96 706.972,589.819 708.997,597.704 711.021,605.614 713.046,613.547 715.07,621.502 717.094,629.478 719.119,637.474 721.143,645.488 723.168,653.521 725.192,661.569 727.216,669.633 729.241,677.71 731.265,685.801 733.29,693.903 735.314,702.016 737.338,710.137 739.363,718.267 741.387,726.404 743.412,734.547 745.436,742.694 747.461,750.845 749.485,758.998 751.509,767.152 753.534,775.306 755.558,783.459 757.583,791.609 759.607,799.756 761.631,807.898 763.656,816.035 765.68,824.164 767.705,832.285 769.729,840.397 771.753,848.498 773.778,856.588 775.802,864.665 777.827,872.727 779.851,880.775 781.875,888.806 783.9,896.819 785.924,904.814 787.949,912.788 789.973,920.742 791.997,928.673 794.022,936.581 796.046,944.464 798.071,952.321 800.095,960.152 802.12,967.955 804.144,975.728 806.168,983.472 808.193,991.184 810.217,998.864 812.242,1006.51 814.266,1014.12 816.29,1021.7 818.315,1029.24 820.339,1036.74 822.364,1044.2 824.388,1051.62 826.412,1059.01 828.437,1066.35 830.461,1073.64 832.486,1080.89 834.51,1088.1 836.534,1095.26 838.559,1102.38 840.583,1109.44 842.608,1116.46 844.632,1123.42 846.657,1130.33 848.681,1137.2 850.705,1144 852.73,1150.76 854.754,1157.45 856.779,1164.09 858.803,1170.68 860.827,1177.2 862.852,1183.67 864.876,1190.08 866.901,1196.42 868.925,1202.7 870.949,1208.92 872.974,1215.08 874.998,1221.17 877.023,1227.2 879.047,1233.16 881.071,1239.05 883.096,1244.88 885.12,1250.63 887.145,1256.32 889.169,1261.93 891.194,1267.48 893.218,1272.95 895.242,1278.35 897.267,1283.67 899.291,1288.92 901.316,1294.1 903.34,1299.19 905.364,1304.22 907.389,1309.16 909.413,1314.03 911.438,1318.81 913.462,1323.52 915.486,1328.15 917.511,1332.69 919.535,1337.16 921.56,1341.54 923.584,1345.84 925.608,1350.06 927.633,1354.19 929.657,1358.23 931.682,1362.2 933.706,1366.07 935.731,1369.86 937.755,1373.56 939.779,1377.18 941.804,1380.7 943.828,1384.14 945.853,1387.49 947.877,1390.75 949.901,1393.92 951.926,1397 953.95,1399.99 955.975,1402.88 957.999,1405.69 960.023,1408.4 962.048,1411.02 964.072,1413.55 966.097,1415.98 968.121,1418.32 970.145,1420.57 972.17,1422.72 974.194,1424.78 976.219,1426.74 978.243,1428.61 980.268,1430.38 982.292,1432.05 984.316,1433.63 986.341,1435.12 988.365,1436.51 990.39,1437.8 992.414,1438.99 994.438,1440.09 996.463,1441.09 998.487,1441.99 1000.51,1442.79 1002.54,1443.5 1004.56,1444.11 1006.58,1444.62 1008.61,1445.04 1010.63,1445.35 1012.66,1445.57 1014.68,1445.69 1016.71,1445.71 1018.73,1445.64 1020.76,1445.46 1022.78,1445.19 1024.8,1444.82 1026.83,1444.36 1028.85,1443.79 1030.88,1443.13 1032.9,1442.37 1034.93,1441.51 1036.95,1440.56 1038.98,1439.51 1041,1438.36 1043.02,1437.11 1045.05,1435.77 1047.07,1434.33 1049.1,1432.8 1051.12,1431.17 1053.15,1429.44 1055.17,1427.62 1057.2,1425.7 1059.22,1423.68 1061.24,1421.58 1063.27,1419.37 1065.29,1417.08 1067.32,1414.68 1069.34,1412.2 1071.37,1409.62 1073.39,1406.95 1075.41,1404.19 1077.44,1401.34 1079.46,1398.39 1081.49,1395.35 1083.51,1392.23 1085.54,1389.01 1087.56,1385.7 1089.59,1382.3 1091.61,1378.82 1093.63,1375.25 1095.66,1371.58 1097.68,1367.84 1099.71,1364 1101.73,1360.08 1103.76,1356.07 1105.78,1351.98 1107.81,1347.8 1109.83,1343.54 1111.85,1339.2 1113.88,1334.77 1115.9,1330.26 1117.93,1325.67 1119.95,1321 1121.98,1316.25 1124,1311.42 1126.02,1306.51 1128.05,1301.52 1130.07,1296.46 1132.1,1291.32 1134.12,1286.11 1136.15,1280.82 1138.17,1275.45 1140.2,1270.02 1142.22,1264.51 1144.24,1258.93 1146.27,1253.27 1148.29,1247.55 1150.32,1241.76 1152.34,1235.9 1154.37,1229.97 1156.39,1223.97 1158.42,1217.91 1160.44,1211.78 1162.46,1205.59 1164.49,1199.33 1166.51,1193.02 1168.54,1186.64 1170.56,1180.2 1172.59,1173.7 1174.61,1167.14 1176.64,1160.53 1178.66,1153.86 1180.68,1147.13 1182.71,1140.35 1184.73,1133.51 1186.76,1126.62 1188.78,1119.68 1190.81,1112.69 1192.83,1105.65 1194.85,1098.56 1196.88,1091.42 1198.9,1084.23 1200.93,1077 1202.95,1069.73 1204.98,1062.41 1207,1055.04 1209.03,1047.64 1211.05,1040.19 1213.07,1032.71 1215.1,1025.19 1217.12,1017.63 1219.15,1010.03 1221.17,1002.4 1223.2,994.739 1225.22,987.042 1227.25,979.312 1229.27,971.552 1231.29,963.763 1233.32,955.944 1235.34,948.099 1237.37,940.227 1239.39,932.331 1241.42,924.41 1243.44,916.467 1245.47,908.502 1247.49,900.517 1249.51,892.513 1251.54,884.491 1253.56,876.451 1255.59,868.396 1257.61,860.326 1259.64,852.243 1261.66,844.147 1263.68,836.04 1265.71,827.923 1267.73,819.797 1269.76,811.663 1271.78,803.523 1273.81,795.378 1275.83,787.229 1277.86,779.076 1279.88,770.923 1281.9,762.768 1283.93,754.615 1285.95,746.463 1287.98,738.314 1290,730.169 1292.03,722.029 1294.05,713.895 1296.08,705.769 1298.1,697.652 1300.12,689.545 1302.15,681.449 1304.17,673.365 1306.2,665.295 1308.22,657.24 1310.25,649.201 1312.27,641.178 1314.29,633.174 1316.32,625.19 1318.34,617.225 1320.37,609.282 1322.39,601.362 1324.42,593.465 1326.44,585.593 1328.47,577.748 1330.49,569.929 1332.51,562.139 1334.54,554.379 1336.56,546.65 1338.59,538.952 1340.61,531.287 1342.64,523.657 1344.66,516.061 1346.69,508.502 1348.71,500.98 1350.73,493.496 1352.76,486.052 1354.78,478.648 1356.81,471.286 1358.83,463.966 1360.86,456.69 1362.88,449.458 1364.91,442.273 1366.93,435.134 1368.95,428.043 1370.98,421.001 1373,414.009 1375.03,407.068 1377.05,400.179 1379.08,393.342 1381.1,386.56 1383.12,379.833 1385.15,373.161 1387.17,366.547 1389.2,359.99 1391.22,353.492 1393.25,347.053 1395.27,340.675 1397.3,334.358 1399.32,328.104 1401.34,321.913 1403.37,315.786 1405.39,309.725 1407.42,303.729 1409.44,297.8 1411.47,291.938 1413.49,286.145 1415.52,280.422 1417.54,274.769 1419.56,269.186 1421.59,263.676 1423.61,258.238 1425.64,252.874 1427.66,247.583 1429.69,242.368 1431.71,237.229 1433.74,232.165 1435.76,227.18 1437.78,222.271 1439.81,217.442 1441.83,212.692 1443.86,208.022 1445.88,203.432 1447.91,198.923 1449.93,194.497 1451.95,190.153 1453.98,185.892 1456,181.715 1458.03,177.623 1460.05,173.615 1462.08,169.693 1464.1,165.858 1466.13,162.109 1468.15,158.447 1470.17,154.873 1472.2,151.387 1474.22,147.99 1476.25,144.683 1478.27,141.465 1480.3,138.337 1482.32,135.3 1484.35,132.355 1486.37,129.5 1488.39,126.738 1490.42,124.068 1492.44,121.491 1494.47,119.007 1496.49,116.617 1498.52,114.32 1500.54,112.118 1502.56,110.01 1504.59,107.997 1506.61,106.079 1508.64,104.256 1510.66,102.528 1512.69,100.897 1514.71,99.3615 1516.74,97.9223 1518.76,96.5797 1520.78,95.3337 1522.81,94.1845 1524.83,93.1324 1526.86,92.1775 1528.88,91.32 1530.91,90.5599 1532.93,89.8974 1534.96,89.3327 1536.98,88.8658 1539,88.4968 1541.03,88.2258 1543.05,88.0527 1545.08,87.9777 1547.1,88.0007 1549.13,88.1216 1551.15,88.3405 1553.18,88.6573 1555.2,89.0719 1557.22,89.5843 1559.25,90.1943 1561.27,90.9018 1563.3,91.7068 1565.32,92.609 1567.35,93.6085 1569.37,94.7049 1571.39,95.8983 1573.42,97.1885 1575.44,98.5752 1577.47,100.058 1579.49,101.638 1581.52,103.313 1583.54,105.084 1585.57,106.951 1587.59,108.913 1589.61,110.971 1591.64,113.123 1593.66,115.369 1595.69,117.71 1597.71,120.144 1599.74,122.672 1601.76,125.292 1603.79,128.005 1605.81,130.811 1607.83,133.708 1609.86,136.696 1611.88,139.775 1613.91,142.944 1615.93,146.204 1617.96,149.552 1619.98,152.99 1622.01,156.516 1624.03,160.13 1626.05,163.831 1628.08,167.62 1630.1,171.495 1632.13,175.456 1634.15,179.503 1636.18,183.634 1638.2,187.849 1640.22,192.149 1642.25,196.531 1644.27,200.996 1646.3,205.542 1648.32,210.17 1650.35,214.878 1652.37,219.665 1654.4,224.532 1656.42,229.477 1658.44,234.499 1660.47,239.598 1662.49,244.773 1664.52,250.023 1666.54,255.348 1668.57,260.746 1670.59,266.217 1672.62,271.76 1674.64,277.375 1676.66,283.06 1678.69,288.816 1680.71,294.64 1682.74,300.532 1684.76,306.491 1686.79,312.518 1688.81,318.609 1690.83,324.766 1692.86,330.986 1694.88,337.269 1696.91,343.615 1698.93,350.021 1700.96,356.488 1702.98,363.014 1705.01,369.598 1707.03,376.239 1709.05,382.937 1711.08,389.69 1713.1,396.498 1715.13,403.359 1717.15,410.272 1719.18,417.237 1721.2,424.252 1723.23,431.317 1725.25,438.43 1727.27,445.59 1729.3,452.797 1731.32,460.049 1733.35,467.345 1735.37,474.684 1737.4,482.066 1739.42,489.488 1741.45,496.951 1743.47,504.453 1745.49,511.992 1747.52,519.569 1749.54,527.181 1751.57,534.828 1753.59,542.508 1755.62,550.22 1757.64,557.964 1759.66,565.738 1761.69,573.541 1763.71,581.371 1765.74,589.229 1767.76,597.112 1769.79,605.02 1771.81,612.951 1773.84,620.904 1775.86,628.878 1777.88,636.872 1779.91,644.885 1781.93,652.916 1783.96,660.963 1785.98,669.026 1788.01,677.102 1790.03,685.192 1792.06,693.293 1794.08,701.405 1796.1,709.526 1798.13,717.656 1800.15,725.792 1802.18,733.935 1804.2,742.082 1806.23,750.233 1808.25,758.386 1810.28,766.54 1812.3,774.694 1814.32,782.847 1816.35,790.998 1818.37,799.145 1820.4,807.288 1822.42,815.425 1824.45,823.554 1826.47,831.676 1828.49,839.789 1830.52,847.89 1832.54,855.981 1834.57,864.058 1836.59,872.122 1838.62,880.17 1840.64,888.202 1842.67,896.217 1844.69,904.212 1846.71,912.189 1848.74,920.144 1850.76,928.077 1852.79,935.986 1854.81,943.871 1856.84,951.731 1858.86,959.564 1860.89,967.369 1862.91,975.145 1864.93,982.891 1866.96,990.605 1868.98,998.288 1871.01,1005.94 1873.03,1013.55 1875.06,1021.13 1877.08,1028.67 1879.1,1036.18 1881.13,1043.64 1883.15,1051.07 1885.18,1058.45 1887.2,1065.8 1889.23,1073.1 1891.25,1080.35 1893.28,1087.56 1895.3,1094.73 1897.32,1101.84 1899.35,1108.91 1901.37,1115.93 1903.4,1122.9 1905.42,1129.82 1907.45,1136.68 1909.47,1143.49 1911.5,1150.25 1913.52,1156.95 1915.54,1163.6 1917.57,1170.18 1919.59,1176.71 1921.62,1183.19 1923.64,1189.6 1925.67,1195.95 1927.69,1202.23 1929.72,1208.46 1931.74,1214.62 1933.76,1220.72 1935.79,1226.75 1937.81,1232.71 1939.84,1238.61 1941.86,1244.44 1943.89,1250.2 1945.91,1255.89 1947.93,1261.51 1949.96,1267.06 1951.98,1272.54 1954.01,1277.94 1956.03,1283.27 1958.06,1288.53 1960.08,1293.71 1962.11,1298.81 1964.13,1303.84 1966.15,1308.79 1968.18,1313.66 1970.2,1318.46 1972.23,1323.17 1974.25,1327.8 1976.28,1332.35 1978.3,1336.82 1980.33,1341.21 1982.35,1345.52 1984.37,1349.74 1986.4,1353.88 1988.42,1357.93 1990.45,1361.9 1992.47,1365.78 1994.5,1369.58 1996.52,1373.29 1998.55,1376.91 2000.57,1380.44 2002.59,1383.89 2004.62,1387.24 2006.64,1390.51 2008.67,1393.68 2010.69,1396.77 2012.72,1399.77 2014.74,1402.67 2016.76,1405.48 2018.79,1408.2 2020.81,1410.83 2022.84,1413.36 2024.86,1415.8 2026.89,1418.15 2028.91,1420.4 2030.94,1422.56 2032.96,1424.62 2034.98,1426.59 2037.01,1428.47 2039.03,1430.25 2041.06,1431.93 2043.08,1433.52 2045.11,1435.01 2047.13,1436.4 2049.16,1437.7 2051.18,1438.9 2053.2,1440.01 2055.23,1441.01 2057.25,1441.92 2059.28,1442.74 2061.3,1443.45 2063.33,1444.07 2065.35,1444.59 2067.38,1445.01 2069.4,1445.33 2071.42,1445.56 2073.45,1445.69 2075.47,1445.72 2077.5,1445.65 2079.52,1445.48 2081.55,1445.22 2083.57,1444.86 2085.59,1444.4 2087.62,1443.84 2089.64,1443.18 2091.67,1442.43 2093.69,1441.58 2095.72,1440.63 2097.74,1439.59 2099.77,1438.45 2101.79,1437.21 2103.81,1435.87 2105.84,1434.44 2107.86,1432.91 2109.89,1431.29 2111.91,1429.57 2113.94,1427.75 2115.96,1425.84 2117.99,1423.84 2120.01,1421.74 2122.03,1419.54 2124.06,1417.25 2126.08,1414.87 2128.11,1412.39 2130.13,1409.82 2132.16,1407.16 2134.18,1404.4 2136.2,1401.55 2138.23,1398.62 2140.25,1395.58 2142.28,1392.46 2144.3,1389.25 2146.33,1385.95 2148.35,1382.56 2150.38,1379.08 2152.4,1375.52 2154.42,1371.86 2156.45,1368.12 2158.47,1364.29 2160.5,1360.37 2162.52,1356.37 2164.55,1352.29 2166.57,1348.12 2168.6,1343.86 2170.62,1339.53 2172.64,1335.11 2174.67,1330.6 2176.69,1326.02 2178.72,1321.35 2180.74,1316.61 2182.77,1311.79 2184.79,1306.88 2186.82,1301.9 2188.84,1296.85 2190.86,1291.71 2192.89,1286.5 2194.91,1281.22 2196.94,1275.86 2198.96,1270.43 2200.99,1264.92 2203.01,1259.34 2205.03,1253.7 2207.06,1247.98 2209.08,1242.19 2211.11,1236.34 2213.13,1230.41 2215.16,1224.42 2217.18,1218.37 2219.21,1212.24 2221.23,1206.06 2223.25,1199.81 2225.28,1193.49 2227.3,1187.12 2229.33,1180.69 2231.35,1174.19 2233.38,1167.64 2235.4,1161.03 2237.43,1154.36 2239.45,1147.64 2241.47,1140.86 2243.5,1134.03 2245.52,1127.14 2247.55,1120.21 2249.57,1113.22 2251.6,1106.18 2253.62,1099.09 2255.65,1091.96 2257.67,1084.78 2259.69,1077.55 2261.72,1070.28 2263.74,1062.96 2265.77,1055.6 2267.79,1048.2 2269.82,1040.76 2271.84,1033.28 2273.86,1025.76 2275.89,1018.2 2277.91,1010.61 2279.94,1002.98 2281.96,995.316 2283.99,987.621 2286.01,979.894 2288.04,972.137 2290.06,964.349 2292.08,956.533 \"/>\n",
       "<polyline clip-path=\"url(#clip012)\" style=\"stroke:#e26f46; stroke-linecap:round; stroke-linejoin:round; stroke-width:4; stroke-opacity:1; fill:none\" points=\"269.7,577.158 271.724,569.342 273.749,561.555 275.773,553.797 277.798,546.07 279.822,538.375 281.846,530.713 283.871,523.084 285.895,515.491 287.92,507.935 289.944,500.415 291.969,492.934 293.993,485.493 296.017,478.092 298.042,470.733 300.066,463.416 302.091,456.144 304.115,448.916 306.139,441.734 308.164,434.599 310.188,427.512 312.213,420.474 314.237,413.486 316.261,406.548 318.286,399.663 320.31,392.831 322.335,386.053 324.359,379.329 326.383,372.662 328.408,366.051 330.432,359.499 332.457,353.005 334.481,346.571 336.506,340.197 338.53,333.885 340.554,327.635 342.579,321.449 344.603,315.327 346.628,309.271 348.652,303.28 350.676,297.356 352.701,291.5 354.725,285.712 356.75,279.994 358.774,274.346 360.798,268.77 362.823,263.265 364.847,257.832 366.872,252.474 368.896,247.189 370.92,241.979 372.945,236.845 374.969,231.788 376.994,226.808 379.018,221.906 381.043,217.082 383.067,212.338 385.091,207.673 387.116,203.09 389.14,198.587 391.165,194.167 393.189,189.829 395.213,185.575 397.238,181.404 399.262,177.318 401.287,173.317 403.311,169.402 405.335,165.572 407.36,161.83 409.384,158.175 411.409,154.607 413.433,151.129 415.457,147.738 417.482,144.438 419.506,141.227 421.531,138.106 423.555,135.076 425.58,132.137 427.604,129.29 429.628,126.534 431.653,123.871 433.677,121.301 435.702,118.824 437.726,116.441 439.75,114.151 441.775,111.956 443.799,109.855 445.824,107.849 447.848,105.937 449.872,104.122 451.897,102.402 453.921,100.777 455.946,99.2492 457.97,97.8173 459.994,96.482 462.019,95.2435 464.043,94.1018 466.068,93.0572 468.092,92.1099 470.117,91.2599 472.141,90.5073 474.165,89.8524 476.19,89.2951 478.214,88.8356 480.239,88.4739 482.263,88.2101 484.287,88.0442 486.312,87.9763 488.336,88.0063 490.361,88.1342 492.385,88.3601 494.409,88.6839 496.434,89.1056 498.458,89.625 500.483,90.2421 502.507,90.9569 504.531,91.7692 506.556,92.6788 508.58,93.6858 510.605,94.7899 512.629,95.9909 514.653,97.2888 516.678,98.6833 518.702,100.174 520.727,101.761 522.751,103.444 524.776,105.223 526.8,107.097 528.824,109.067 530.849,111.131 532.873,113.29 534.898,115.543 536.922,117.89 538.946,120.331 540.971,122.865 542.995,125.492 545.02,128.212 547.044,131.023 549.068,133.927 551.093,136.922 553.117,140.007 555.142,143.183 557.166,146.45 559.19,149.805 561.215,153.25 563.239,156.783 565.264,160.404 567.288,164.113 569.313,167.909 571.337,171.791 573.361,175.759 575.386,179.812 577.41,183.95 579.435,188.172 581.459,192.477 583.483,196.866 585.508,201.336 587.532,205.889 589.557,210.522 591.581,215.235 593.605,220.028 595.63,224.9 597.654,229.85 599.679,234.878 601.703,239.982 603.727,245.163 605.752,250.418 607.776,255.749 609.801,261.152 611.825,266.629 613.85,272.178 615.874,277.799 617.898,283.49 619.923,289.251 621.947,295.08 623.972,300.978 625.996,306.943 628.02,312.974 630.045,319.071 632.069,325.232 634.094,331.457 636.118,337.745 638.142,344.095 640.167,350.506 642.191,356.977 644.216,363.507 646.24,370.095 648.264,376.741 650.289,383.443 652.313,390.2 654.338,397.011 656.362,403.876 658.387,410.793 660.411,417.762 662.435,424.781 664.46,431.849 666.484,438.965 668.509,446.129 670.533,453.34 672.557,460.595 674.582,467.895 676.606,475.237 678.631,482.622 680.655,490.048 682.679,497.514 684.704,505.018 686.728,512.561 688.753,520.14 690.777,527.755 692.801,535.404 694.826,543.086 696.85,550.801 698.875,558.547 700.899,566.323 702.924,574.129 704.948,581.961 706.972,589.821 708.997,597.706 711.021,605.615 713.046,613.548 715.07,621.503 717.094,629.479 719.119,637.474 721.143,645.489 723.168,653.521 725.192,661.569 727.216,669.632 729.241,677.709 731.265,685.8 733.29,693.902 735.314,702.014 737.338,710.136 739.363,718.266 741.387,726.403 743.412,734.546 745.436,742.693 747.461,750.844 749.485,758.998 751.509,767.152 753.534,775.306 755.558,783.46 757.583,791.61 759.607,799.758 761.631,807.9 763.656,816.037 765.68,824.166 767.705,832.287 769.729,840.399 771.753,848.5 773.778,856.589 775.802,864.666 777.827,872.728 779.851,880.775 781.875,888.805 783.9,896.818 785.924,904.813 787.949,912.787 789.973,920.74 791.997,928.671 794.022,936.579 796.046,944.462 798.071,952.32 800.095,960.15 802.12,967.953 804.144,975.727 806.168,983.471 808.193,991.183 810.217,998.863 812.242,1006.51 814.266,1014.12 816.29,1021.7 818.315,1029.24 820.339,1036.74 822.364,1044.2 824.388,1051.63 826.412,1059.01 828.437,1066.35 830.461,1073.64 832.486,1080.9 834.51,1088.1 836.534,1095.26 838.559,1102.38 840.583,1109.44 842.608,1116.46 844.632,1123.42 846.657,1130.33 848.681,1137.19 850.705,1144 852.73,1150.75 854.754,1157.45 856.779,1164.09 858.803,1170.68 860.827,1177.2 862.852,1183.67 864.876,1190.08 866.901,1196.42 868.925,1202.7 870.949,1208.92 872.974,1215.08 874.998,1221.17 877.023,1227.2 879.047,1233.16 881.071,1239.05 883.096,1244.88 885.12,1250.63 887.145,1256.32 889.169,1261.93 891.194,1267.48 893.218,1272.95 895.242,1278.35 897.267,1283.67 899.291,1288.92 901.316,1294.1 903.34,1299.19 905.364,1304.22 907.389,1309.16 909.413,1314.03 911.438,1318.81 913.462,1323.52 915.486,1328.15 917.511,1332.69 919.535,1337.16 921.56,1341.54 923.584,1345.84 925.608,1350.06 927.633,1354.19 929.657,1358.23 931.682,1362.2 933.706,1366.07 935.731,1369.86 937.755,1373.56 939.779,1377.18 941.804,1380.7 943.828,1384.14 945.853,1387.49 947.877,1390.75 949.901,1393.92 951.926,1397 953.95,1399.99 955.975,1402.88 957.999,1405.69 960.023,1408.4 962.048,1411.02 964.072,1413.55 966.097,1415.98 968.121,1418.32 970.145,1420.57 972.17,1422.72 974.194,1424.78 976.219,1426.74 978.243,1428.61 980.268,1430.38 982.292,1432.05 984.316,1433.63 986.341,1435.12 988.365,1436.5 990.39,1437.79 992.414,1438.99 994.438,1440.08 996.463,1441.08 998.487,1441.99 1000.51,1442.79 1002.54,1443.5 1004.56,1444.11 1006.58,1444.62 1008.61,1445.03 1010.63,1445.35 1012.66,1445.57 1014.68,1445.69 1016.71,1445.71 1018.73,1445.64 1020.76,1445.46 1022.78,1445.19 1024.8,1444.82 1026.83,1444.36 1028.85,1443.79 1030.88,1443.13 1032.9,1442.37 1034.93,1441.51 1036.95,1440.56 1038.98,1439.51 1041,1438.36 1043.02,1437.11 1045.05,1435.77 1047.07,1434.33 1049.1,1432.8 1051.12,1431.16 1053.15,1429.44 1055.17,1427.61 1057.2,1425.7 1059.22,1423.68 1061.24,1421.57 1063.27,1419.37 1065.29,1417.07 1067.32,1414.68 1069.34,1412.2 1071.37,1409.62 1073.39,1406.95 1075.41,1404.19 1077.44,1401.34 1079.46,1398.39 1081.49,1395.35 1083.51,1392.23 1085.54,1389.01 1087.56,1385.7 1089.59,1382.3 1091.61,1378.82 1093.63,1375.24 1095.66,1371.58 1097.68,1367.83 1099.71,1364 1101.73,1360.08 1103.76,1356.07 1105.78,1351.98 1107.81,1347.8 1109.83,1343.54 1111.85,1339.19 1113.88,1334.77 1115.9,1330.26 1117.93,1325.67 1119.95,1321 1121.98,1316.25 1124,1311.42 1126.02,1306.51 1128.05,1301.53 1130.07,1296.46 1132.1,1291.32 1134.12,1286.11 1136.15,1280.82 1138.17,1275.45 1140.2,1270.02 1142.22,1264.5 1144.24,1258.92 1146.27,1253.27 1148.29,1247.55 1150.32,1241.75 1152.34,1235.89 1154.37,1229.96 1156.39,1223.97 1158.42,1217.91 1160.44,1211.78 1162.46,1205.59 1164.49,1199.33 1166.51,1193.02 1168.54,1186.64 1170.56,1180.2 1172.59,1173.7 1174.61,1167.14 1176.64,1160.53 1178.66,1153.86 1180.68,1147.13 1182.71,1140.35 1184.73,1133.51 1186.76,1126.62 1188.78,1119.68 1190.81,1112.69 1192.83,1105.65 1194.85,1098.56 1196.88,1091.42 1198.9,1084.23 1200.93,1077 1202.95,1069.73 1204.98,1062.41 1207,1055.04 1209.03,1047.64 1211.05,1040.2 1213.07,1032.71 1215.1,1025.19 1217.12,1017.63 1219.15,1010.03 1221.17,1002.4 1223.2,994.739 1225.22,987.041 1227.25,979.312 1229.27,971.552 1231.29,963.762 1233.32,955.944 1235.34,948.099 1237.37,940.227 1239.39,932.331 1241.42,924.41 1243.44,916.467 1245.47,908.503 1247.49,900.517 1249.51,892.513 1251.54,884.49 1253.56,876.451 1255.59,868.396 1257.61,860.326 1259.64,852.242 1261.66,844.146 1263.68,836.039 1265.71,827.922 1267.73,819.797 1269.76,811.663 1271.78,803.523 1273.81,795.378 1275.83,787.229 1277.86,779.077 1279.88,770.923 1281.9,762.768 1283.93,754.614 1285.95,746.462 1287.98,738.313 1290,730.168 1292.03,722.028 1294.05,713.894 1296.08,705.769 1298.1,697.652 1300.12,689.545 1302.15,681.449 1304.17,673.366 1306.2,665.296 1308.22,657.24 1310.25,649.201 1312.27,641.178 1314.29,633.174 1316.32,625.189 1318.34,617.224 1320.37,609.281 1322.39,601.36 1324.42,593.464 1326.44,585.592 1328.47,577.747 1330.49,569.929 1332.51,562.139 1334.54,554.379 1336.56,546.65 1338.59,538.952 1340.61,531.288 1342.64,523.657 1344.66,516.061 1346.69,508.502 1348.71,500.979 1350.73,493.495 1352.76,486.051 1354.78,478.647 1356.81,471.285 1358.83,463.965 1360.86,456.689 1362.88,449.458 1364.91,442.272 1366.93,435.134 1368.95,428.043 1370.98,421.001 1373,414.009 1375.03,407.068 1377.05,400.179 1379.08,393.343 1381.1,386.56 1383.12,379.833 1385.15,373.161 1387.17,366.546 1389.2,359.989 1391.22,353.491 1393.25,347.052 1395.27,340.674 1397.3,334.357 1399.32,328.103 1401.34,321.912 1403.37,315.785 1405.39,309.724 1407.42,303.728 1409.44,297.799 1411.47,291.938 1413.49,286.145 1415.52,280.422 1417.54,274.769 1419.56,269.186 1421.59,263.676 1423.61,258.238 1425.64,252.874 1427.66,247.584 1429.69,242.368 1431.71,237.229 1433.74,232.166 1435.76,227.18 1437.78,222.271 1439.81,217.442 1441.83,212.691 1443.86,208.021 1445.88,203.431 1447.91,198.923 1449.93,194.496 1451.95,190.152 1453.98,185.892 1456,181.715 1458.03,177.622 1460.05,173.615 1462.08,169.693 1464.1,165.857 1466.13,162.108 1468.15,158.447 1470.17,154.873 1472.2,151.387 1474.22,147.99 1476.25,144.683 1478.27,141.465 1480.3,138.337 1482.32,135.3 1484.35,132.355 1486.37,129.5 1488.39,126.738 1490.42,124.068 1492.44,121.491 1494.47,119.007 1496.49,116.617 1498.52,114.32 1500.54,112.117 1502.56,110.009 1504.59,107.996 1506.61,106.078 1508.64,104.255 1510.66,102.528 1512.69,100.896 1514.71,99.3607 1516.74,97.9216 1518.76,96.5791 1520.78,95.3332 1522.81,94.1843 1524.83,93.1324 1526.86,92.1777 1528.88,91.3204 1530.91,90.5605 1532.93,89.8982 1534.96,89.3336 1536.98,88.8667 1539,88.4977 1541.03,88.2265 1543.05,88.0533 1545.08,87.978 1547.1,88.0006 1549.13,88.1212 1551.15,88.3397 1553.18,88.6562 1555.2,89.0705 1557.22,89.5825 1559.25,90.1923 1561.27,90.8997 1563.3,91.7047 1565.32,92.6071 1567.35,93.6067 1569.37,94.7035 1571.39,95.8973 1573.42,97.1879 1575.44,98.5751 1577.47,100.059 1579.49,101.639 1581.52,103.314 1583.54,105.086 1585.57,106.953 1587.59,108.915 1589.61,110.972 1591.64,113.124 1593.66,115.37 1595.69,117.71 1597.71,120.144 1599.74,122.671 1601.76,125.291 1603.79,128.004 1605.81,130.809 1607.83,133.705 1609.86,136.693 1611.88,139.772 1613.91,142.942 1615.93,146.201 1617.96,149.55 1619.98,152.988 1622.01,156.514 1624.03,160.129 1626.05,163.831 1628.08,167.62 1630.1,171.496 1632.13,175.457 1634.15,179.504 1636.18,183.636 1638.2,187.851 1640.22,192.151 1642.25,196.533 1644.27,200.997 1646.3,205.544 1648.32,210.171 1650.35,214.878 1652.37,219.665 1654.4,224.531 1656.42,229.476 1658.44,234.497 1660.47,239.596 1662.49,244.771 1664.52,250.021 1666.54,255.345 1668.57,260.744 1670.59,266.215 1672.62,271.759 1674.64,277.374 1676.66,283.06 1678.69,288.815 1680.71,294.64 1682.74,300.532 1684.76,306.492 1686.79,312.518 1688.81,318.61 1690.83,324.767 1692.86,330.987 1694.88,337.271 1696.91,343.616 1698.93,350.022 1700.96,356.488 1702.98,363.014 1705.01,369.598 1707.03,376.239 1709.05,382.937 1711.08,389.69 1713.1,396.497 1715.13,403.358 1717.15,410.271 1719.18,417.236 1721.2,424.251 1723.23,431.316 1725.25,438.429 1727.27,445.589 1729.3,452.796 1731.32,460.048 1733.35,467.344 1735.37,474.684 1737.4,482.066 1739.42,489.488 1741.45,496.951 1743.47,504.453 1745.49,511.993 1747.52,519.569 1749.54,527.181 1751.57,534.828 1753.59,542.508 1755.62,550.22 1757.64,557.964 1759.66,565.738 1761.69,573.541 1763.71,581.372 1765.74,589.229 1767.76,597.112 1769.79,605.02 1771.81,612.951 1773.84,620.904 1775.86,628.879 1777.88,636.873 1779.91,644.886 1781.93,652.916 1783.96,660.963 1785.98,669.025 1788.01,677.102 1790.03,685.191 1792.06,693.292 1794.08,701.404 1796.1,709.525 1798.13,717.655 1800.15,725.791 1802.18,733.933 1804.2,742.081 1806.23,750.231 1808.25,758.385 1810.28,766.539 1812.3,774.693 1814.32,782.847 1816.35,790.998 1818.37,799.145 1820.4,807.288 1822.42,815.425 1824.45,823.555 1826.47,831.677 1828.49,839.789 1830.52,847.891 1832.54,855.982 1834.57,864.059 1836.59,872.122 1838.62,880.17 1840.64,888.202 1842.67,896.217 1844.69,904.212 1846.71,912.188 1848.74,920.143 1850.76,928.076 1852.79,935.985 1854.81,943.87 1856.84,951.73 1858.86,959.563 1860.89,967.368 1862.91,975.144 1864.93,982.89 1866.96,990.605 1868.98,998.287 1871.01,1005.94 1873.03,1013.55 1875.06,1021.13 1877.08,1028.67 1879.1,1036.18 1881.13,1043.64 1883.15,1051.07 1885.18,1058.45 1887.2,1065.8 1889.23,1073.1 1891.25,1080.35 1893.28,1087.56 1895.3,1094.73 1897.32,1101.84 1899.35,1108.91 1901.37,1115.93 1903.4,1122.9 1905.42,1129.82 1907.45,1136.68 1909.47,1143.49 1911.5,1150.25 1913.52,1156.95 1915.54,1163.6 1917.57,1170.18 1919.59,1176.71 1921.62,1183.19 1923.64,1189.6 1925.67,1195.95 1927.69,1202.23 1929.72,1208.46 1931.74,1214.62 1933.76,1220.72 1935.79,1226.75 1937.81,1232.71 1939.84,1238.61 1941.86,1244.44 1943.89,1250.2 1945.91,1255.89 1947.93,1261.51 1949.96,1267.06 1951.98,1272.54 1954.01,1277.94 1956.03,1283.27 1958.06,1288.53 1960.08,1293.71 1962.11,1298.81 1964.13,1303.84 1966.15,1308.79 1968.18,1313.66 1970.2,1318.46 1972.23,1323.17 1974.25,1327.8 1976.28,1332.35 1978.3,1336.83 1980.33,1341.21 1982.35,1345.52 1984.37,1349.74 1986.4,1353.88 1988.42,1357.93 1990.45,1361.9 1992.47,1365.78 1994.5,1369.58 1996.52,1373.29 1998.55,1376.91 2000.57,1380.44 2002.59,1383.89 2004.62,1387.24 2006.64,1390.51 2008.67,1393.68 2010.69,1396.77 2012.72,1399.76 2014.74,1402.67 2016.76,1405.48 2018.79,1408.2 2020.81,1410.83 2022.84,1413.36 2024.86,1415.8 2026.89,1418.15 2028.91,1420.4 2030.94,1422.56 2032.96,1424.62 2034.98,1426.59 2037.01,1428.47 2039.03,1430.25 2041.06,1431.93 2043.08,1433.52 2045.11,1435.01 2047.13,1436.4 2049.16,1437.7 2051.18,1438.9 2053.2,1440.01 2055.23,1441.01 2057.25,1441.92 2059.28,1442.73 2061.3,1443.45 2063.33,1444.07 2065.35,1444.59 2067.38,1445.01 2069.4,1445.33 2071.42,1445.56 2073.45,1445.68 2075.47,1445.71 2077.5,1445.65 2079.52,1445.48 2081.55,1445.22 2083.57,1444.86 2085.59,1444.4 2087.62,1443.84 2089.64,1443.18 2091.67,1442.43 2093.69,1441.58 2095.72,1440.63 2097.74,1439.59 2099.77,1438.45 2101.79,1437.21 2103.81,1435.87 2105.84,1434.44 2107.86,1432.91 2109.89,1431.29 2111.91,1429.57 2113.94,1427.75 2115.96,1425.84 2117.99,1423.84 2120.01,1421.74 2122.03,1419.54 2124.06,1417.25 2126.08,1414.87 2128.11,1412.39 2130.13,1409.82 2132.16,1407.16 2134.18,1404.4 2136.2,1401.55 2138.23,1398.62 2140.25,1395.59 2142.28,1392.46 2144.3,1389.25 2146.33,1385.95 2148.35,1382.56 2150.38,1379.08 2152.4,1375.52 2154.42,1371.86 2156.45,1368.12 2158.47,1364.29 2160.5,1360.37 2162.52,1356.37 2164.55,1352.29 2166.57,1348.12 2168.6,1343.86 2170.62,1339.52 2172.64,1335.1 2174.67,1330.6 2176.69,1326.02 2178.72,1321.35 2180.74,1316.61 2182.77,1311.79 2184.79,1306.88 2186.82,1301.9 2188.84,1296.85 2190.86,1291.71 2192.89,1286.5 2194.91,1281.22 2196.94,1275.86 2198.96,1270.43 2200.99,1264.92 2203.01,1259.34 2205.03,1253.7 2207.06,1247.98 2209.08,1242.19 2211.11,1236.34 2213.13,1230.41 2215.16,1224.42 2217.18,1218.36 2219.21,1212.24 2221.23,1206.06 2223.25,1199.81 2225.28,1193.49 2227.3,1187.12 2229.33,1180.69 2231.35,1174.19 2233.38,1167.64 2235.4,1161.03 2237.43,1154.36 2239.45,1147.64 2241.47,1140.86 2243.5,1134.03 2245.52,1127.14 2247.55,1120.21 2249.57,1113.22 2251.6,1106.18 2253.62,1099.09 2255.65,1091.96 2257.67,1084.78 2259.69,1077.55 2261.72,1070.27 2263.74,1062.96 2265.77,1055.6 2267.79,1048.2 2269.82,1040.76 2271.84,1033.28 2273.86,1025.76 2275.89,1018.2 2277.91,1010.61 2279.94,1002.98 2281.96,995.316 2283.99,987.621 2286.01,979.894 2288.04,972.136 2290.06,964.349 2292.08,956.533 \"/>\n",
       "<path clip-path=\"url(#clip010)\" d=\"M1967.74 250.738 L2281.3 250.738 L2281.3 95.2176 L1967.74 95.2176  Z\" fill=\"#ffffff\" fill-rule=\"evenodd\" fill-opacity=\"1\"/>\n",
       "<polyline clip-path=\"url(#clip010)\" style=\"stroke:#000000; stroke-linecap:round; stroke-linejoin:round; stroke-width:4; stroke-opacity:1; fill:none\" points=\"1967.74,250.738 2281.3,250.738 2281.3,95.2176 1967.74,95.2176 1967.74,250.738 \"/>\n",
       "<polyline clip-path=\"url(#clip010)\" style=\"stroke:#009af9; stroke-linecap:round; stroke-linejoin:round; stroke-width:4; stroke-opacity:1; fill:none\" points=\"1991.56,147.058 2134.47,147.058 \"/>\n",
       "<path clip-path=\"url(#clip010)\" d=\"M2162.57 160.449 L2162.57 174.199 L2158.29 174.199 L2158.29 138.412 L2162.57 138.412 L2162.57 142.347 Q2163.91 140.032 2165.95 138.921 Q2168.01 137.787 2170.86 137.787 Q2175.58 137.787 2178.52 141.537 Q2181.48 145.287 2181.48 151.398 Q2181.48 157.509 2178.52 161.259 Q2175.58 165.009 2170.86 165.009 Q2168.01 165.009 2165.95 163.898 Q2163.91 162.763 2162.57 160.449 M2177.06 151.398 Q2177.06 146.699 2175.12 144.037 Q2173.2 141.352 2169.82 141.352 Q2166.44 141.352 2164.49 144.037 Q2162.57 146.699 2162.57 151.398 Q2162.57 156.097 2164.49 158.782 Q2166.44 161.444 2169.82 161.444 Q2173.2 161.444 2175.12 158.782 Q2177.06 156.097 2177.06 151.398 Z\" fill=\"#000000\" fill-rule=\"nonzero\" fill-opacity=\"1\" /><path clip-path=\"url(#clip010)\" d=\"M2203.57 142.393 Q2202.85 141.977 2201.99 141.791 Q2201.16 141.583 2200.14 141.583 Q2196.53 141.583 2194.59 143.944 Q2192.66 146.282 2192.66 150.68 L2192.66 164.338 L2188.38 164.338 L2188.38 138.412 L2192.66 138.412 L2192.66 142.44 Q2194.01 140.078 2196.16 138.944 Q2198.31 137.787 2201.39 137.787 Q2201.83 137.787 2202.36 137.856 Q2202.9 137.903 2203.54 138.018 L2203.57 142.393 Z\" fill=\"#000000\" fill-rule=\"nonzero\" fill-opacity=\"1\" /><path clip-path=\"url(#clip010)\" d=\"M2229.17 150.31 L2229.17 152.393 L2209.59 152.393 Q2209.86 156.791 2212.22 159.106 Q2214.61 161.398 2218.85 161.398 Q2221.3 161.398 2223.59 160.796 Q2225.91 160.194 2228.17 158.99 L2228.17 163.018 Q2225.88 163.99 2223.47 164.5 Q2221.07 165.009 2218.59 165.009 Q2212.39 165.009 2208.75 161.398 Q2205.14 157.787 2205.14 151.629 Q2205.14 145.264 2208.57 141.537 Q2212.02 137.787 2217.85 137.787 Q2223.08 137.787 2226.11 141.166 Q2229.17 144.523 2229.17 150.31 M2224.91 149.06 Q2224.86 145.565 2222.94 143.481 Q2221.04 141.398 2217.9 141.398 Q2214.33 141.398 2212.18 143.412 Q2210.05 145.426 2209.72 149.083 L2224.91 149.06 Z\" fill=\"#000000\" fill-rule=\"nonzero\" fill-opacity=\"1\" /><path clip-path=\"url(#clip010)\" d=\"M2253.22 142.347 L2253.22 128.319 L2257.48 128.319 L2257.48 164.338 L2253.22 164.338 L2253.22 160.449 Q2251.88 162.763 2249.82 163.898 Q2247.78 165.009 2244.91 165.009 Q2240.21 165.009 2237.25 161.259 Q2234.31 157.509 2234.31 151.398 Q2234.31 145.287 2237.25 141.537 Q2240.21 137.787 2244.91 137.787 Q2247.78 137.787 2249.82 138.921 Q2251.88 140.032 2253.22 142.347 M2238.71 151.398 Q2238.71 156.097 2240.63 158.782 Q2242.57 161.444 2245.95 161.444 Q2249.33 161.444 2251.28 158.782 Q2253.22 156.097 2253.22 151.398 Q2253.22 146.699 2251.28 144.037 Q2249.33 141.352 2245.95 141.352 Q2242.57 141.352 2240.63 144.037 Q2238.71 146.699 2238.71 151.398 Z\" fill=\"#000000\" fill-rule=\"nonzero\" fill-opacity=\"1\" /><polyline clip-path=\"url(#clip010)\" style=\"stroke:#e26f46; stroke-linecap:round; stroke-linejoin:round; stroke-width:4; stroke-opacity:1; fill:none\" points=\"1991.56,198.898 2134.47,198.898 \"/>\n",
       "<path clip-path=\"url(#clip010)\" d=\"M2165.7 182.891 L2165.7 190.252 L2174.47 190.252 L2174.47 193.562 L2165.7 193.562 L2165.7 207.636 Q2165.7 210.807 2166.55 211.71 Q2167.43 212.613 2170.1 212.613 L2174.47 212.613 L2174.47 216.178 L2170.1 216.178 Q2165.16 216.178 2163.29 214.349 Q2161.41 212.497 2161.41 207.636 L2161.41 193.562 L2158.29 193.562 L2158.29 190.252 L2161.41 190.252 L2161.41 182.891 L2165.7 182.891 Z\" fill=\"#000000\" fill-rule=\"nonzero\" fill-opacity=\"1\" /><path clip-path=\"url(#clip010)\" d=\"M2195.1 194.233 Q2194.38 193.817 2193.52 193.631 Q2192.69 193.423 2191.67 193.423 Q2188.06 193.423 2186.11 195.784 Q2184.19 198.122 2184.19 202.52 L2184.19 216.178 L2179.91 216.178 L2179.91 190.252 L2184.19 190.252 L2184.19 194.28 Q2185.54 191.918 2187.69 190.784 Q2189.84 189.627 2192.92 189.627 Q2193.36 189.627 2193.89 189.696 Q2194.42 189.743 2195.07 189.858 L2195.1 194.233 Z\" fill=\"#000000\" fill-rule=\"nonzero\" fill-opacity=\"1\" /><path clip-path=\"url(#clip010)\" d=\"M2199.12 205.946 L2199.12 190.252 L2203.38 190.252 L2203.38 205.784 Q2203.38 209.465 2204.82 211.316 Q2206.25 213.145 2209.12 213.145 Q2212.57 213.145 2214.56 210.946 Q2216.58 208.747 2216.58 204.951 L2216.58 190.252 L2220.84 190.252 L2220.84 216.178 L2216.58 216.178 L2216.58 212.196 Q2215.03 214.557 2212.97 215.715 Q2210.93 216.849 2208.22 216.849 Q2203.75 216.849 2201.44 214.071 Q2199.12 211.293 2199.12 205.946 M2209.84 189.627 L2209.84 189.627 Z\" fill=\"#000000\" fill-rule=\"nonzero\" fill-opacity=\"1\" /><path clip-path=\"url(#clip010)\" d=\"M2251.78 202.15 L2251.78 204.233 L2232.2 204.233 Q2232.48 208.631 2234.84 210.946 Q2237.22 213.238 2241.46 213.238 Q2243.91 213.238 2246.21 212.636 Q2248.52 212.034 2250.79 210.83 L2250.79 214.858 Q2248.5 215.83 2246.09 216.34 Q2243.68 216.849 2241.21 216.849 Q2235 216.849 2231.37 213.238 Q2227.76 209.627 2227.76 203.469 Q2227.76 197.104 2231.18 193.377 Q2234.63 189.627 2240.47 189.627 Q2245.7 189.627 2248.73 193.006 Q2251.78 196.363 2251.78 202.15 M2247.53 200.9 Q2247.48 197.405 2245.56 195.321 Q2243.66 193.238 2240.51 193.238 Q2236.95 193.238 2234.79 195.252 Q2232.66 197.266 2232.34 200.923 L2247.53 200.9 Z\" fill=\"#000000\" fill-rule=\"nonzero\" fill-opacity=\"1\" /></svg>\n"
      ],
      "text/html": [
       "<?xml version=\"1.0\" encoding=\"utf-8\"?>\n",
       "<svg xmlns=\"http://www.w3.org/2000/svg\" xmlns:xlink=\"http://www.w3.org/1999/xlink\" width=\"600\" height=\"400\" viewBox=\"0 0 2400 1600\">\n",
       "<defs>\n",
       "  <clipPath id=\"clip060\">\n",
       "    <rect x=\"0\" y=\"0\" width=\"2400\" height=\"1600\"/>\n",
       "  </clipPath>\n",
       "</defs>\n",
       "<path clip-path=\"url(#clip060)\" d=\"M0 1600 L2400 1600 L2400 0 L0 0  Z\" fill=\"#ffffff\" fill-rule=\"evenodd\" fill-opacity=\"1\"/>\n",
       "<defs>\n",
       "  <clipPath id=\"clip061\">\n",
       "    <rect x=\"480\" y=\"0\" width=\"1681\" height=\"1600\"/>\n",
       "  </clipPath>\n",
       "</defs>\n",
       "<path clip-path=\"url(#clip060)\" d=\"M209.029 1486.45 L2352.76 1486.45 L2352.76 47.2441 L209.029 47.2441  Z\" fill=\"#ffffff\" fill-rule=\"evenodd\" fill-opacity=\"1\"/>\n",
       "<defs>\n",
       "  <clipPath id=\"clip062\">\n",
       "    <rect x=\"209\" y=\"47\" width=\"2145\" height=\"1440\"/>\n",
       "  </clipPath>\n",
       "</defs>\n",
       "<polyline clip-path=\"url(#clip062)\" style=\"stroke:#000000; stroke-linecap:round; stroke-linejoin:round; stroke-width:2; stroke-opacity:0.1; fill:none\" points=\"438.232,1486.45 438.232,47.2441 \"/>\n",
       "<polyline clip-path=\"url(#clip062)\" style=\"stroke:#000000; stroke-linecap:round; stroke-linejoin:round; stroke-width:2; stroke-opacity:0.1; fill:none\" points=\"859.562,1486.45 859.562,47.2441 \"/>\n",
       "<polyline clip-path=\"url(#clip062)\" style=\"stroke:#000000; stroke-linecap:round; stroke-linejoin:round; stroke-width:2; stroke-opacity:0.1; fill:none\" points=\"1280.89,1486.45 1280.89,47.2441 \"/>\n",
       "<polyline clip-path=\"url(#clip062)\" style=\"stroke:#000000; stroke-linecap:round; stroke-linejoin:round; stroke-width:2; stroke-opacity:0.1; fill:none\" points=\"1702.22,1486.45 1702.22,47.2441 \"/>\n",
       "<polyline clip-path=\"url(#clip062)\" style=\"stroke:#000000; stroke-linecap:round; stroke-linejoin:round; stroke-width:2; stroke-opacity:0.1; fill:none\" points=\"2123.55,1486.45 2123.55,47.2441 \"/>\n",
       "<polyline clip-path=\"url(#clip060)\" style=\"stroke:#000000; stroke-linecap:round; stroke-linejoin:round; stroke-width:4; stroke-opacity:1; fill:none\" points=\"209.029,1486.45 2352.76,1486.45 \"/>\n",
       "<polyline clip-path=\"url(#clip060)\" style=\"stroke:#000000; stroke-linecap:round; stroke-linejoin:round; stroke-width:4; stroke-opacity:1; fill:none\" points=\"438.232,1486.45 438.232,1467.55 \"/>\n",
       "<polyline clip-path=\"url(#clip060)\" style=\"stroke:#000000; stroke-linecap:round; stroke-linejoin:round; stroke-width:4; stroke-opacity:1; fill:none\" points=\"859.562,1486.45 859.562,1467.55 \"/>\n",
       "<polyline clip-path=\"url(#clip060)\" style=\"stroke:#000000; stroke-linecap:round; stroke-linejoin:round; stroke-width:4; stroke-opacity:1; fill:none\" points=\"1280.89,1486.45 1280.89,1467.55 \"/>\n",
       "<polyline clip-path=\"url(#clip060)\" style=\"stroke:#000000; stroke-linecap:round; stroke-linejoin:round; stroke-width:4; stroke-opacity:1; fill:none\" points=\"1702.22,1486.45 1702.22,1467.55 \"/>\n",
       "<polyline clip-path=\"url(#clip060)\" style=\"stroke:#000000; stroke-linecap:round; stroke-linejoin:round; stroke-width:4; stroke-opacity:1; fill:none\" points=\"2123.55,1486.45 2123.55,1467.55 \"/>\n",
       "<path clip-path=\"url(#clip060)\" d=\"M377.214 1532.02 L406.89 1532.02 L406.89 1535.95 L377.214 1535.95 L377.214 1532.02 Z\" fill=\"#000000\" fill-rule=\"nonzero\" fill-opacity=\"1\" /><path clip-path=\"url(#clip060)\" d=\"M417.028 1514.29 L435.385 1514.29 L435.385 1518.22 L421.311 1518.22 L421.311 1526.7 Q422.329 1526.35 423.348 1526.19 Q424.366 1526 425.385 1526 Q431.172 1526 434.552 1529.17 Q437.931 1532.34 437.931 1537.76 Q437.931 1543.34 434.459 1546.44 Q430.987 1549.52 424.667 1549.52 Q422.491 1549.52 420.223 1549.15 Q417.978 1548.78 415.57 1548.04 L415.57 1543.34 Q417.653 1544.47 419.876 1545.03 Q422.098 1545.58 424.575 1545.58 Q428.579 1545.58 430.917 1543.48 Q433.255 1541.37 433.255 1537.76 Q433.255 1534.15 430.917 1532.04 Q428.579 1529.94 424.575 1529.94 Q422.7 1529.94 420.825 1530.35 Q418.973 1530.77 417.028 1531.65 L417.028 1514.29 Z\" fill=\"#000000\" fill-rule=\"nonzero\" fill-opacity=\"1\" /><path clip-path=\"url(#clip060)\" d=\"M457.144 1517.37 Q453.533 1517.37 451.704 1520.93 Q449.899 1524.47 449.899 1531.6 Q449.899 1538.71 451.704 1542.27 Q453.533 1545.82 457.144 1545.82 Q460.778 1545.82 462.584 1542.27 Q464.412 1538.71 464.412 1531.6 Q464.412 1524.47 462.584 1520.93 Q460.778 1517.37 457.144 1517.37 M457.144 1513.66 Q462.954 1513.66 466.01 1518.27 Q469.088 1522.85 469.088 1531.6 Q469.088 1540.33 466.01 1544.94 Q462.954 1549.52 457.144 1549.52 Q451.334 1549.52 448.255 1544.94 Q445.2 1540.33 445.2 1531.6 Q445.2 1522.85 448.255 1518.27 Q451.334 1513.66 457.144 1513.66 Z\" fill=\"#000000\" fill-rule=\"nonzero\" fill-opacity=\"1\" /><path clip-path=\"url(#clip060)\" d=\"M487.306 1517.37 Q483.695 1517.37 481.866 1520.93 Q480.061 1524.47 480.061 1531.6 Q480.061 1538.71 481.866 1542.27 Q483.695 1545.82 487.306 1545.82 Q490.94 1545.82 492.746 1542.27 Q494.574 1538.71 494.574 1531.6 Q494.574 1524.47 492.746 1520.93 Q490.94 1517.37 487.306 1517.37 M487.306 1513.66 Q493.116 1513.66 496.172 1518.27 Q499.25 1522.85 499.25 1531.6 Q499.25 1540.33 496.172 1544.94 Q493.116 1549.52 487.306 1549.52 Q481.496 1549.52 478.417 1544.94 Q475.361 1540.33 475.361 1531.6 Q475.361 1522.85 478.417 1518.27 Q481.496 1513.66 487.306 1513.66 Z\" fill=\"#000000\" fill-rule=\"nonzero\" fill-opacity=\"1\" /><path clip-path=\"url(#clip060)\" d=\"M798.544 1532.02 L828.22 1532.02 L828.22 1535.95 L798.544 1535.95 L798.544 1532.02 Z\" fill=\"#000000\" fill-rule=\"nonzero\" fill-opacity=\"1\" /><path clip-path=\"url(#clip060)\" d=\"M842.34 1544.91 L858.659 1544.91 L858.659 1548.85 L836.715 1548.85 L836.715 1544.91 Q839.377 1542.16 843.96 1537.53 Q848.567 1532.88 849.747 1531.53 Q851.993 1529.01 852.872 1527.27 Q853.775 1525.51 853.775 1523.82 Q853.775 1521.07 851.831 1519.33 Q849.909 1517.6 846.808 1517.6 Q844.609 1517.6 842.155 1518.36 Q839.724 1519.13 836.947 1520.68 L836.947 1515.95 Q839.771 1514.82 842.224 1514.24 Q844.678 1513.66 846.715 1513.66 Q852.085 1513.66 855.28 1516.35 Q858.474 1519.03 858.474 1523.52 Q858.474 1525.65 857.664 1527.57 Q856.877 1529.47 854.77 1532.07 Q854.192 1532.74 851.09 1535.95 Q847.988 1539.15 842.34 1544.91 Z\" fill=\"#000000\" fill-rule=\"nonzero\" fill-opacity=\"1\" /><path clip-path=\"url(#clip060)\" d=\"M868.52 1514.29 L886.877 1514.29 L886.877 1518.22 L872.803 1518.22 L872.803 1526.7 Q873.821 1526.35 874.84 1526.19 Q875.858 1526 876.877 1526 Q882.664 1526 886.043 1529.17 Q889.423 1532.34 889.423 1537.76 Q889.423 1543.34 885.951 1546.44 Q882.479 1549.52 876.159 1549.52 Q873.983 1549.52 871.715 1549.15 Q869.469 1548.78 867.062 1548.04 L867.062 1543.34 Q869.145 1544.47 871.368 1545.03 Q873.59 1545.58 876.067 1545.58 Q880.071 1545.58 882.409 1543.48 Q884.747 1541.37 884.747 1537.76 Q884.747 1534.15 882.409 1532.04 Q880.071 1529.94 876.067 1529.94 Q874.192 1529.94 872.317 1530.35 Q870.465 1530.77 868.52 1531.65 L868.52 1514.29 Z\" fill=\"#000000\" fill-rule=\"nonzero\" fill-opacity=\"1\" /><path clip-path=\"url(#clip060)\" d=\"M908.636 1517.37 Q905.025 1517.37 903.196 1520.93 Q901.391 1524.47 901.391 1531.6 Q901.391 1538.71 903.196 1542.27 Q905.025 1545.82 908.636 1545.82 Q912.27 1545.82 914.076 1542.27 Q915.904 1538.71 915.904 1531.6 Q915.904 1524.47 914.076 1520.93 Q912.27 1517.37 908.636 1517.37 M908.636 1513.66 Q914.446 1513.66 917.502 1518.27 Q920.58 1522.85 920.58 1531.6 Q920.58 1540.33 917.502 1544.94 Q914.446 1549.52 908.636 1549.52 Q902.826 1549.52 899.747 1544.94 Q896.692 1540.33 896.692 1531.6 Q896.692 1522.85 899.747 1518.27 Q902.826 1513.66 908.636 1513.66 Z\" fill=\"#000000\" fill-rule=\"nonzero\" fill-opacity=\"1\" /><path clip-path=\"url(#clip060)\" d=\"M1280.89 1517.37 Q1277.28 1517.37 1275.45 1520.93 Q1273.65 1524.47 1273.65 1531.6 Q1273.65 1538.71 1275.45 1542.27 Q1277.28 1545.82 1280.89 1545.82 Q1284.53 1545.82 1286.33 1542.27 Q1288.16 1538.71 1288.16 1531.6 Q1288.16 1524.47 1286.33 1520.93 Q1284.53 1517.37 1280.89 1517.37 M1280.89 1513.66 Q1286.7 1513.66 1289.76 1518.27 Q1292.84 1522.85 1292.84 1531.6 Q1292.84 1540.33 1289.76 1544.94 Q1286.7 1549.52 1280.89 1549.52 Q1275.08 1549.52 1272 1544.94 Q1268.95 1540.33 1268.95 1531.6 Q1268.95 1522.85 1272 1518.27 Q1275.08 1513.66 1280.89 1513.66 Z\" fill=\"#000000\" fill-rule=\"nonzero\" fill-opacity=\"1\" /><path clip-path=\"url(#clip060)\" d=\"M1665.91 1544.91 L1682.23 1544.91 L1682.23 1548.85 L1660.29 1548.85 L1660.29 1544.91 Q1662.95 1542.16 1667.53 1537.53 Q1672.14 1532.88 1673.32 1531.53 Q1675.57 1529.01 1676.45 1527.27 Q1677.35 1525.51 1677.35 1523.82 Q1677.35 1521.07 1675.41 1519.33 Q1673.48 1517.6 1670.38 1517.6 Q1668.18 1517.6 1665.73 1518.36 Q1663.3 1519.13 1660.52 1520.68 L1660.52 1515.95 Q1663.35 1514.82 1665.8 1514.24 Q1668.25 1513.66 1670.29 1513.66 Q1675.66 1513.66 1678.85 1516.35 Q1682.05 1519.03 1682.05 1523.52 Q1682.05 1525.65 1681.24 1527.57 Q1680.45 1529.47 1678.35 1532.07 Q1677.77 1532.74 1674.66 1535.95 Q1671.56 1539.15 1665.91 1544.91 Z\" fill=\"#000000\" fill-rule=\"nonzero\" fill-opacity=\"1\" /><path clip-path=\"url(#clip060)\" d=\"M1692.1 1514.29 L1710.45 1514.29 L1710.45 1518.22 L1696.38 1518.22 L1696.38 1526.7 Q1697.4 1526.35 1698.41 1526.19 Q1699.43 1526 1700.45 1526 Q1706.24 1526 1709.62 1529.17 Q1713 1532.34 1713 1537.76 Q1713 1543.34 1709.53 1546.44 Q1706.05 1549.52 1699.73 1549.52 Q1697.56 1549.52 1695.29 1549.15 Q1693.04 1548.78 1690.64 1548.04 L1690.64 1543.34 Q1692.72 1544.47 1694.94 1545.03 Q1697.16 1545.58 1699.64 1545.58 Q1703.65 1545.58 1705.98 1543.48 Q1708.32 1541.37 1708.32 1537.76 Q1708.32 1534.15 1705.98 1532.04 Q1703.65 1529.94 1699.64 1529.94 Q1697.77 1529.94 1695.89 1530.35 Q1694.04 1530.77 1692.1 1531.65 L1692.1 1514.29 Z\" fill=\"#000000\" fill-rule=\"nonzero\" fill-opacity=\"1\" /><path clip-path=\"url(#clip060)\" d=\"M1732.21 1517.37 Q1728.6 1517.37 1726.77 1520.93 Q1724.97 1524.47 1724.97 1531.6 Q1724.97 1538.71 1726.77 1542.27 Q1728.6 1545.82 1732.21 1545.82 Q1735.84 1545.82 1737.65 1542.27 Q1739.48 1538.71 1739.48 1531.6 Q1739.48 1524.47 1737.65 1520.93 Q1735.84 1517.37 1732.21 1517.37 M1732.21 1513.66 Q1738.02 1513.66 1741.08 1518.27 Q1744.15 1522.85 1744.15 1531.6 Q1744.15 1540.33 1741.08 1544.94 Q1738.02 1549.52 1732.21 1549.52 Q1726.4 1549.52 1723.32 1544.94 Q1720.27 1540.33 1720.27 1531.6 Q1720.27 1522.85 1723.32 1518.27 Q1726.4 1513.66 1732.21 1513.66 Z\" fill=\"#000000\" fill-rule=\"nonzero\" fill-opacity=\"1\" /><path clip-path=\"url(#clip060)\" d=\"M2083.17 1514.29 L2101.53 1514.29 L2101.53 1518.22 L2087.45 1518.22 L2087.45 1526.7 Q2088.47 1526.35 2089.49 1526.19 Q2090.51 1526 2091.53 1526 Q2097.31 1526 2100.69 1529.17 Q2104.07 1532.34 2104.07 1537.76 Q2104.07 1543.34 2100.6 1546.44 Q2097.13 1549.52 2090.81 1549.52 Q2088.63 1549.52 2086.37 1549.15 Q2084.12 1548.78 2081.71 1548.04 L2081.71 1543.34 Q2083.8 1544.47 2086.02 1545.03 Q2088.24 1545.58 2090.72 1545.58 Q2094.72 1545.58 2097.06 1543.48 Q2099.4 1541.37 2099.4 1537.76 Q2099.4 1534.15 2097.06 1532.04 Q2094.72 1529.94 2090.72 1529.94 Q2088.84 1529.94 2086.97 1530.35 Q2085.12 1530.77 2083.17 1531.65 L2083.17 1514.29 Z\" fill=\"#000000\" fill-rule=\"nonzero\" fill-opacity=\"1\" /><path clip-path=\"url(#clip060)\" d=\"M2123.29 1517.37 Q2119.68 1517.37 2117.85 1520.93 Q2116.04 1524.47 2116.04 1531.6 Q2116.04 1538.71 2117.85 1542.27 Q2119.68 1545.82 2123.29 1545.82 Q2126.92 1545.82 2128.73 1542.27 Q2130.55 1538.71 2130.55 1531.6 Q2130.55 1524.47 2128.73 1520.93 Q2126.92 1517.37 2123.29 1517.37 M2123.29 1513.66 Q2129.1 1513.66 2132.15 1518.27 Q2135.23 1522.85 2135.23 1531.6 Q2135.23 1540.33 2132.15 1544.94 Q2129.1 1549.52 2123.29 1549.52 Q2117.48 1549.52 2114.4 1544.94 Q2111.34 1540.33 2111.34 1531.6 Q2111.34 1522.85 2114.4 1518.27 Q2117.48 1513.66 2123.29 1513.66 Z\" fill=\"#000000\" fill-rule=\"nonzero\" fill-opacity=\"1\" /><path clip-path=\"url(#clip060)\" d=\"M2153.45 1517.37 Q2149.84 1517.37 2148.01 1520.93 Q2146.2 1524.47 2146.2 1531.6 Q2146.2 1538.71 2148.01 1542.27 Q2149.84 1545.82 2153.45 1545.82 Q2157.08 1545.82 2158.89 1542.27 Q2160.72 1538.71 2160.72 1531.6 Q2160.72 1524.47 2158.89 1520.93 Q2157.08 1517.37 2153.45 1517.37 M2153.45 1513.66 Q2159.26 1513.66 2162.31 1518.27 Q2165.39 1522.85 2165.39 1531.6 Q2165.39 1540.33 2162.31 1544.94 Q2159.26 1549.52 2153.45 1549.52 Q2147.64 1549.52 2144.56 1544.94 Q2141.5 1540.33 2141.5 1531.6 Q2141.5 1522.85 2144.56 1518.27 Q2147.64 1513.66 2153.45 1513.66 Z\" fill=\"#000000\" fill-rule=\"nonzero\" fill-opacity=\"1\" /><polyline clip-path=\"url(#clip062)\" style=\"stroke:#000000; stroke-linecap:round; stroke-linejoin:round; stroke-width:2; stroke-opacity:0.1; fill:none\" points=\"209.029,1445.72 2352.76,1445.72 \"/>\n",
       "<polyline clip-path=\"url(#clip062)\" style=\"stroke:#000000; stroke-linecap:round; stroke-linejoin:round; stroke-width:2; stroke-opacity:0.1; fill:none\" points=\"209.029,1106.28 2352.76,1106.28 \"/>\n",
       "<polyline clip-path=\"url(#clip062)\" style=\"stroke:#000000; stroke-linecap:round; stroke-linejoin:round; stroke-width:2; stroke-opacity:0.1; fill:none\" points=\"209.029,766.846 2352.76,766.846 \"/>\n",
       "<polyline clip-path=\"url(#clip062)\" style=\"stroke:#000000; stroke-linecap:round; stroke-linejoin:round; stroke-width:2; stroke-opacity:0.1; fill:none\" points=\"209.029,427.41 2352.76,427.41 \"/>\n",
       "<polyline clip-path=\"url(#clip062)\" style=\"stroke:#000000; stroke-linecap:round; stroke-linejoin:round; stroke-width:2; stroke-opacity:0.1; fill:none\" points=\"209.029,87.9744 2352.76,87.9744 \"/>\n",
       "<polyline clip-path=\"url(#clip060)\" style=\"stroke:#000000; stroke-linecap:round; stroke-linejoin:round; stroke-width:4; stroke-opacity:1; fill:none\" points=\"209.029,1486.45 209.029,47.2441 \"/>\n",
       "<polyline clip-path=\"url(#clip060)\" style=\"stroke:#000000; stroke-linecap:round; stroke-linejoin:round; stroke-width:4; stroke-opacity:1; fill:none\" points=\"209.029,1445.72 227.926,1445.72 \"/>\n",
       "<polyline clip-path=\"url(#clip060)\" style=\"stroke:#000000; stroke-linecap:round; stroke-linejoin:round; stroke-width:4; stroke-opacity:1; fill:none\" points=\"209.029,1106.28 227.926,1106.28 \"/>\n",
       "<polyline clip-path=\"url(#clip060)\" style=\"stroke:#000000; stroke-linecap:round; stroke-linejoin:round; stroke-width:4; stroke-opacity:1; fill:none\" points=\"209.029,766.846 227.926,766.846 \"/>\n",
       "<polyline clip-path=\"url(#clip060)\" style=\"stroke:#000000; stroke-linecap:round; stroke-linejoin:round; stroke-width:4; stroke-opacity:1; fill:none\" points=\"209.029,427.41 227.926,427.41 \"/>\n",
       "<polyline clip-path=\"url(#clip060)\" style=\"stroke:#000000; stroke-linecap:round; stroke-linejoin:round; stroke-width:4; stroke-opacity:1; fill:none\" points=\"209.029,87.9744 227.926,87.9744 \"/>\n",
       "<path clip-path=\"url(#clip060)\" d=\"M50.9921 1446.17 L80.6679 1446.17 L80.6679 1450.1 L50.9921 1450.1 L50.9921 1446.17 Z\" fill=\"#000000\" fill-rule=\"nonzero\" fill-opacity=\"1\" /><path clip-path=\"url(#clip060)\" d=\"M91.5706 1459.06 L99.2095 1459.06 L99.2095 1432.7 L90.8993 1434.36 L90.8993 1430.1 L99.1632 1428.44 L103.839 1428.44 L103.839 1459.06 L111.478 1459.06 L111.478 1463 L91.5706 1463 L91.5706 1459.06 Z\" fill=\"#000000\" fill-rule=\"nonzero\" fill-opacity=\"1\" /><path clip-path=\"url(#clip060)\" d=\"M130.922 1431.52 Q127.311 1431.52 125.482 1435.08 Q123.677 1438.62 123.677 1445.75 Q123.677 1452.86 125.482 1456.42 Q127.311 1459.96 130.922 1459.96 Q134.556 1459.96 136.362 1456.42 Q138.191 1452.86 138.191 1445.75 Q138.191 1438.62 136.362 1435.08 Q134.556 1431.52 130.922 1431.52 M130.922 1427.81 Q136.732 1427.81 139.788 1432.42 Q142.867 1437 142.867 1445.75 Q142.867 1454.48 139.788 1459.08 Q136.732 1463.67 130.922 1463.67 Q125.112 1463.67 122.033 1459.08 Q118.978 1454.48 118.978 1445.75 Q118.978 1437 122.033 1432.42 Q125.112 1427.81 130.922 1427.81 Z\" fill=\"#000000\" fill-rule=\"nonzero\" fill-opacity=\"1\" /><path clip-path=\"url(#clip060)\" d=\"M161.084 1431.52 Q157.473 1431.52 155.644 1435.08 Q153.839 1438.62 153.839 1445.75 Q153.839 1452.86 155.644 1456.42 Q157.473 1459.96 161.084 1459.96 Q164.718 1459.96 166.524 1456.42 Q168.353 1452.86 168.353 1445.75 Q168.353 1438.62 166.524 1435.08 Q164.718 1431.52 161.084 1431.52 M161.084 1427.81 Q166.894 1427.81 169.95 1432.42 Q173.029 1437 173.029 1445.75 Q173.029 1454.48 169.95 1459.08 Q166.894 1463.67 161.084 1463.67 Q155.274 1463.67 152.195 1459.08 Q149.14 1454.48 149.14 1445.75 Q149.14 1437 152.195 1432.42 Q155.274 1427.81 161.084 1427.81 Z\" fill=\"#000000\" fill-rule=\"nonzero\" fill-opacity=\"1\" /><path clip-path=\"url(#clip060)\" d=\"M81.154 1106.73 L110.83 1106.73 L110.83 1110.67 L81.154 1110.67 L81.154 1106.73 Z\" fill=\"#000000\" fill-rule=\"nonzero\" fill-opacity=\"1\" /><path clip-path=\"url(#clip060)\" d=\"M120.969 1089 L139.325 1089 L139.325 1092.94 L125.251 1092.94 L125.251 1101.41 Q126.27 1101.06 127.288 1100.9 Q128.307 1100.71 129.325 1100.71 Q135.112 1100.71 138.492 1103.89 Q141.871 1107.06 141.871 1112.47 Q141.871 1118.05 138.399 1121.15 Q134.927 1124.23 128.607 1124.23 Q126.432 1124.23 124.163 1123.86 Q121.918 1123.49 119.51 1122.75 L119.51 1118.05 Q121.594 1119.19 123.816 1119.74 Q126.038 1120.3 128.515 1120.3 Q132.519 1120.3 134.857 1118.19 Q137.195 1116.08 137.195 1112.47 Q137.195 1108.86 134.857 1106.76 Q132.519 1104.65 128.515 1104.65 Q126.64 1104.65 124.765 1105.07 Q122.913 1105.48 120.969 1106.36 L120.969 1089 Z\" fill=\"#000000\" fill-rule=\"nonzero\" fill-opacity=\"1\" /><path clip-path=\"url(#clip060)\" d=\"M161.084 1092.08 Q157.473 1092.08 155.644 1095.64 Q153.839 1099.19 153.839 1106.32 Q153.839 1113.42 155.644 1116.99 Q157.473 1120.53 161.084 1120.53 Q164.718 1120.53 166.524 1116.99 Q168.353 1113.42 168.353 1106.32 Q168.353 1099.19 166.524 1095.64 Q164.718 1092.08 161.084 1092.08 M161.084 1088.38 Q166.894 1088.38 169.95 1092.98 Q173.029 1097.57 173.029 1106.32 Q173.029 1115.04 169.95 1119.65 Q166.894 1124.23 161.084 1124.23 Q155.274 1124.23 152.195 1119.65 Q149.14 1115.04 149.14 1106.32 Q149.14 1097.57 152.195 1092.98 Q155.274 1088.38 161.084 1088.38 Z\" fill=\"#000000\" fill-rule=\"nonzero\" fill-opacity=\"1\" /><path clip-path=\"url(#clip060)\" d=\"M161.084 752.644 Q157.473 752.644 155.644 756.209 Q153.839 759.751 153.839 766.88 Q153.839 773.987 155.644 777.551 Q157.473 781.093 161.084 781.093 Q164.718 781.093 166.524 777.551 Q168.353 773.987 168.353 766.88 Q168.353 759.751 166.524 756.209 Q164.718 752.644 161.084 752.644 M161.084 748.941 Q166.894 748.941 169.95 753.547 Q173.029 758.13 173.029 766.88 Q173.029 775.607 169.95 780.214 Q166.894 784.797 161.084 784.797 Q155.274 784.797 152.195 780.214 Q149.14 775.607 149.14 766.88 Q149.14 758.13 152.195 753.547 Q155.274 748.941 161.084 748.941 Z\" fill=\"#000000\" fill-rule=\"nonzero\" fill-opacity=\"1\" /><path clip-path=\"url(#clip060)\" d=\"M120.969 410.13 L139.325 410.13 L139.325 414.065 L125.251 414.065 L125.251 422.537 Q126.27 422.19 127.288 422.028 Q128.307 421.843 129.325 421.843 Q135.112 421.843 138.492 425.014 Q141.871 428.185 141.871 433.602 Q141.871 439.181 138.399 442.283 Q134.927 445.361 128.607 445.361 Q126.432 445.361 124.163 444.991 Q121.918 444.621 119.51 443.88 L119.51 439.181 Q121.594 440.315 123.816 440.871 Q126.038 441.426 128.515 441.426 Q132.519 441.426 134.857 439.32 Q137.195 437.213 137.195 433.602 Q137.195 429.991 134.857 427.885 Q132.519 425.778 128.515 425.778 Q126.64 425.778 124.765 426.195 Q122.913 426.611 120.969 427.491 L120.969 410.13 Z\" fill=\"#000000\" fill-rule=\"nonzero\" fill-opacity=\"1\" /><path clip-path=\"url(#clip060)\" d=\"M161.084 413.209 Q157.473 413.209 155.644 416.773 Q153.839 420.315 153.839 427.445 Q153.839 434.551 155.644 438.116 Q157.473 441.658 161.084 441.658 Q164.718 441.658 166.524 438.116 Q168.353 434.551 168.353 427.445 Q168.353 420.315 166.524 416.773 Q164.718 413.209 161.084 413.209 M161.084 409.505 Q166.894 409.505 169.95 414.111 Q173.029 418.695 173.029 427.445 Q173.029 436.172 169.95 440.778 Q166.894 445.361 161.084 445.361 Q155.274 445.361 152.195 440.778 Q149.14 436.172 149.14 427.445 Q149.14 418.695 152.195 414.111 Q155.274 409.505 161.084 409.505 Z\" fill=\"#000000\" fill-rule=\"nonzero\" fill-opacity=\"1\" /><path clip-path=\"url(#clip060)\" d=\"M91.5706 101.319 L99.2095 101.319 L99.2095 74.9537 L90.8993 76.6203 L90.8993 72.3611 L99.1632 70.6944 L103.839 70.6944 L103.839 101.319 L111.478 101.319 L111.478 105.254 L91.5706 105.254 L91.5706 101.319 Z\" fill=\"#000000\" fill-rule=\"nonzero\" fill-opacity=\"1\" /><path clip-path=\"url(#clip060)\" d=\"M130.922 73.7731 Q127.311 73.7731 125.482 77.3379 Q123.677 80.8796 123.677 88.0092 Q123.677 95.1156 125.482 98.6804 Q127.311 102.222 130.922 102.222 Q134.556 102.222 136.362 98.6804 Q138.191 95.1156 138.191 88.0092 Q138.191 80.8796 136.362 77.3379 Q134.556 73.7731 130.922 73.7731 M130.922 70.0694 Q136.732 70.0694 139.788 74.6759 Q142.867 79.2592 142.867 88.0092 Q142.867 96.736 139.788 101.342 Q136.732 105.926 130.922 105.926 Q125.112 105.926 122.033 101.342 Q118.978 96.736 118.978 88.0092 Q118.978 79.2592 122.033 74.6759 Q125.112 70.0694 130.922 70.0694 Z\" fill=\"#000000\" fill-rule=\"nonzero\" fill-opacity=\"1\" /><path clip-path=\"url(#clip060)\" d=\"M161.084 73.7731 Q157.473 73.7731 155.644 77.3379 Q153.839 80.8796 153.839 88.0092 Q153.839 95.1156 155.644 98.6804 Q157.473 102.222 161.084 102.222 Q164.718 102.222 166.524 98.6804 Q168.353 95.1156 168.353 88.0092 Q168.353 80.8796 166.524 77.3379 Q164.718 73.7731 161.084 73.7731 M161.084 70.0694 Q166.894 70.0694 169.95 74.6759 Q173.029 79.2592 173.029 88.0092 Q173.029 96.736 169.95 101.342 Q166.894 105.926 161.084 105.926 Q155.274 105.926 152.195 101.342 Q149.14 96.736 149.14 88.0092 Q149.14 79.2592 152.195 74.6759 Q155.274 70.0694 161.084 70.0694 Z\" fill=\"#000000\" fill-rule=\"nonzero\" fill-opacity=\"1\" /><polyline clip-path=\"url(#clip062)\" style=\"stroke:#009af9; stroke-linecap:round; stroke-linejoin:round; stroke-width:4; stroke-opacity:1; fill:none\" points=\"269.7,577.158 271.724,569.341 273.749,561.554 275.773,553.796 277.798,546.069 279.822,538.374 281.846,530.712 283.871,523.084 285.895,515.491 287.92,507.935 289.944,500.415 291.969,492.934 293.993,485.492 296.017,478.091 298.042,470.732 300.066,463.415 302.091,456.142 304.115,448.914 306.139,441.732 308.164,434.597 310.188,427.511 312.213,420.473 314.237,413.485 316.261,406.548 318.286,399.663 320.31,392.831 322.335,386.053 324.359,379.329 326.383,372.662 328.408,366.051 330.432,359.499 332.457,353.004 334.481,346.57 336.506,340.196 338.53,333.884 340.554,327.634 342.579,321.448 344.603,315.326 346.628,309.269 348.652,303.278 350.676,297.354 352.701,291.498 354.725,285.711 356.75,279.993 358.774,274.345 360.798,268.769 362.823,263.264 364.847,257.832 366.872,252.473 368.896,247.189 370.92,241.979 372.945,236.846 374.969,231.788 376.994,226.808 379.018,221.905 381.043,217.081 383.067,212.337 385.091,207.672 387.116,203.089 389.14,198.586 391.165,194.166 393.189,189.828 395.213,185.573 397.238,181.403 399.262,177.316 401.287,173.315 403.311,169.4 405.335,165.571 407.36,161.829 409.384,158.174 411.409,154.607 413.433,151.128 415.457,147.738 417.482,144.437 419.506,141.226 421.531,138.106 423.555,135.076 425.58,132.137 427.604,129.29 429.628,126.534 431.653,123.871 433.677,121.301 435.702,118.824 437.726,116.44 439.75,114.15 441.775,111.955 443.799,109.854 445.824,107.847 447.848,105.936 449.872,104.12 451.897,102.4 453.921,100.776 455.946,99.2477 457.97,97.816 459.994,96.4807 462.019,95.2423 464.043,94.1008 466.068,93.0563 468.092,92.1091 470.117,91.2592 472.141,90.5069 474.165,89.852 476.19,89.2949 478.214,88.8355 480.239,88.4739 482.263,88.2102 484.287,88.0443 486.312,87.9764 488.336,88.0063 490.361,88.1342 492.385,88.36 494.409,88.6837 496.434,89.1052 498.458,89.6245 500.483,90.2414 502.507,90.9561 504.531,91.7682 506.556,92.6778 508.58,93.6847 510.605,94.7887 512.629,95.9898 514.653,97.2876 516.678,98.6821 518.702,100.173 520.727,101.76 522.751,103.443 524.776,105.222 526.8,107.097 528.824,109.066 530.849,111.131 532.873,113.29 534.898,115.543 536.922,117.89 538.946,120.331 540.971,122.865 542.995,125.492 545.02,128.212 547.044,131.023 549.068,133.927 551.093,136.921 553.117,140.007 555.142,143.183 557.166,146.449 559.19,149.804 561.215,153.249 563.239,156.782 565.264,160.403 567.288,164.112 569.313,167.908 571.337,171.79 573.361,175.758 575.386,179.811 577.41,183.949 579.435,188.171 581.459,192.477 583.483,196.865 585.508,201.336 587.532,205.889 589.557,210.522 591.581,215.235 593.605,220.028 595.63,224.9 597.654,229.85 599.679,234.878 601.703,239.982 603.727,245.162 605.752,250.418 607.776,255.748 609.801,261.152 611.825,266.629 613.85,272.178 615.874,277.798 617.898,283.489 619.923,289.25 621.947,295.08 623.972,300.977 625.996,306.942 628.02,312.974 630.045,319.07 632.069,325.232 634.094,331.457 636.118,337.745 638.142,344.095 640.167,350.506 642.191,356.976 644.216,363.506 646.24,370.095 648.264,376.74 650.289,383.442 652.313,390.199 654.338,397.011 656.362,403.875 658.387,410.793 660.411,417.761 662.435,424.78 664.46,431.849 666.484,438.965 668.509,446.129 670.533,453.34 672.557,460.595 674.582,467.895 676.606,475.238 678.631,482.623 680.655,490.048 682.679,497.514 684.704,505.019 686.728,512.561 688.753,520.14 690.777,527.754 692.801,535.403 694.826,543.086 696.85,550.8 698.875,558.546 700.899,566.322 702.924,574.127 704.948,581.96 706.972,589.819 708.997,597.704 711.021,605.614 713.046,613.547 715.07,621.502 717.094,629.478 719.119,637.474 721.143,645.488 723.168,653.521 725.192,661.569 727.216,669.633 729.241,677.71 731.265,685.801 733.29,693.903 735.314,702.016 737.338,710.137 739.363,718.267 741.387,726.404 743.412,734.547 745.436,742.694 747.461,750.845 749.485,758.998 751.509,767.152 753.534,775.306 755.558,783.459 757.583,791.609 759.607,799.756 761.631,807.898 763.656,816.035 765.68,824.164 767.705,832.285 769.729,840.397 771.753,848.498 773.778,856.588 775.802,864.665 777.827,872.727 779.851,880.775 781.875,888.806 783.9,896.819 785.924,904.814 787.949,912.788 789.973,920.742 791.997,928.673 794.022,936.581 796.046,944.464 798.071,952.321 800.095,960.152 802.12,967.955 804.144,975.728 806.168,983.472 808.193,991.184 810.217,998.864 812.242,1006.51 814.266,1014.12 816.29,1021.7 818.315,1029.24 820.339,1036.74 822.364,1044.2 824.388,1051.62 826.412,1059.01 828.437,1066.35 830.461,1073.64 832.486,1080.89 834.51,1088.1 836.534,1095.26 838.559,1102.38 840.583,1109.44 842.608,1116.46 844.632,1123.42 846.657,1130.33 848.681,1137.2 850.705,1144 852.73,1150.76 854.754,1157.45 856.779,1164.09 858.803,1170.68 860.827,1177.2 862.852,1183.67 864.876,1190.08 866.901,1196.42 868.925,1202.7 870.949,1208.92 872.974,1215.08 874.998,1221.17 877.023,1227.2 879.047,1233.16 881.071,1239.05 883.096,1244.88 885.12,1250.63 887.145,1256.32 889.169,1261.93 891.194,1267.48 893.218,1272.95 895.242,1278.35 897.267,1283.67 899.291,1288.92 901.316,1294.1 903.34,1299.19 905.364,1304.22 907.389,1309.16 909.413,1314.03 911.438,1318.81 913.462,1323.52 915.486,1328.15 917.511,1332.69 919.535,1337.16 921.56,1341.54 923.584,1345.84 925.608,1350.06 927.633,1354.19 929.657,1358.23 931.682,1362.2 933.706,1366.07 935.731,1369.86 937.755,1373.56 939.779,1377.18 941.804,1380.7 943.828,1384.14 945.853,1387.49 947.877,1390.75 949.901,1393.92 951.926,1397 953.95,1399.99 955.975,1402.88 957.999,1405.69 960.023,1408.4 962.048,1411.02 964.072,1413.55 966.097,1415.98 968.121,1418.32 970.145,1420.57 972.17,1422.72 974.194,1424.78 976.219,1426.74 978.243,1428.61 980.268,1430.38 982.292,1432.05 984.316,1433.63 986.341,1435.12 988.365,1436.51 990.39,1437.8 992.414,1438.99 994.438,1440.09 996.463,1441.09 998.487,1441.99 1000.51,1442.79 1002.54,1443.5 1004.56,1444.11 1006.58,1444.62 1008.61,1445.04 1010.63,1445.35 1012.66,1445.57 1014.68,1445.69 1016.71,1445.71 1018.73,1445.64 1020.76,1445.46 1022.78,1445.19 1024.8,1444.82 1026.83,1444.36 1028.85,1443.79 1030.88,1443.13 1032.9,1442.37 1034.93,1441.51 1036.95,1440.56 1038.98,1439.51 1041,1438.36 1043.02,1437.11 1045.05,1435.77 1047.07,1434.33 1049.1,1432.8 1051.12,1431.17 1053.15,1429.44 1055.17,1427.62 1057.2,1425.7 1059.22,1423.68 1061.24,1421.58 1063.27,1419.37 1065.29,1417.08 1067.32,1414.68 1069.34,1412.2 1071.37,1409.62 1073.39,1406.95 1075.41,1404.19 1077.44,1401.34 1079.46,1398.39 1081.49,1395.35 1083.51,1392.23 1085.54,1389.01 1087.56,1385.7 1089.59,1382.3 1091.61,1378.82 1093.63,1375.25 1095.66,1371.58 1097.68,1367.84 1099.71,1364 1101.73,1360.08 1103.76,1356.07 1105.78,1351.98 1107.81,1347.8 1109.83,1343.54 1111.85,1339.2 1113.88,1334.77 1115.9,1330.26 1117.93,1325.67 1119.95,1321 1121.98,1316.25 1124,1311.42 1126.02,1306.51 1128.05,1301.52 1130.07,1296.46 1132.1,1291.32 1134.12,1286.11 1136.15,1280.82 1138.17,1275.45 1140.2,1270.02 1142.22,1264.51 1144.24,1258.93 1146.27,1253.27 1148.29,1247.55 1150.32,1241.76 1152.34,1235.9 1154.37,1229.97 1156.39,1223.97 1158.42,1217.91 1160.44,1211.78 1162.46,1205.59 1164.49,1199.33 1166.51,1193.02 1168.54,1186.64 1170.56,1180.2 1172.59,1173.7 1174.61,1167.14 1176.64,1160.53 1178.66,1153.86 1180.68,1147.13 1182.71,1140.35 1184.73,1133.51 1186.76,1126.62 1188.78,1119.68 1190.81,1112.69 1192.83,1105.65 1194.85,1098.56 1196.88,1091.42 1198.9,1084.23 1200.93,1077 1202.95,1069.73 1204.98,1062.41 1207,1055.04 1209.03,1047.64 1211.05,1040.19 1213.07,1032.71 1215.1,1025.19 1217.12,1017.63 1219.15,1010.03 1221.17,1002.4 1223.2,994.739 1225.22,987.042 1227.25,979.312 1229.27,971.552 1231.29,963.763 1233.32,955.944 1235.34,948.099 1237.37,940.227 1239.39,932.331 1241.42,924.41 1243.44,916.467 1245.47,908.502 1247.49,900.517 1249.51,892.513 1251.54,884.491 1253.56,876.451 1255.59,868.396 1257.61,860.326 1259.64,852.243 1261.66,844.147 1263.68,836.04 1265.71,827.923 1267.73,819.797 1269.76,811.663 1271.78,803.523 1273.81,795.378 1275.83,787.229 1277.86,779.076 1279.88,770.923 1281.9,762.768 1283.93,754.615 1285.95,746.463 1287.98,738.314 1290,730.169 1292.03,722.029 1294.05,713.895 1296.08,705.769 1298.1,697.652 1300.12,689.545 1302.15,681.449 1304.17,673.365 1306.2,665.295 1308.22,657.24 1310.25,649.201 1312.27,641.178 1314.29,633.174 1316.32,625.19 1318.34,617.225 1320.37,609.282 1322.39,601.362 1324.42,593.465 1326.44,585.593 1328.47,577.748 1330.49,569.929 1332.51,562.139 1334.54,554.379 1336.56,546.65 1338.59,538.952 1340.61,531.287 1342.64,523.657 1344.66,516.061 1346.69,508.502 1348.71,500.98 1350.73,493.496 1352.76,486.052 1354.78,478.648 1356.81,471.286 1358.83,463.966 1360.86,456.69 1362.88,449.458 1364.91,442.273 1366.93,435.134 1368.95,428.043 1370.98,421.001 1373,414.009 1375.03,407.068 1377.05,400.179 1379.08,393.342 1381.1,386.56 1383.12,379.833 1385.15,373.161 1387.17,366.547 1389.2,359.99 1391.22,353.492 1393.25,347.053 1395.27,340.675 1397.3,334.358 1399.32,328.104 1401.34,321.913 1403.37,315.786 1405.39,309.725 1407.42,303.729 1409.44,297.8 1411.47,291.938 1413.49,286.145 1415.52,280.422 1417.54,274.769 1419.56,269.186 1421.59,263.676 1423.61,258.238 1425.64,252.874 1427.66,247.583 1429.69,242.368 1431.71,237.229 1433.74,232.165 1435.76,227.18 1437.78,222.271 1439.81,217.442 1441.83,212.692 1443.86,208.022 1445.88,203.432 1447.91,198.923 1449.93,194.497 1451.95,190.153 1453.98,185.892 1456,181.715 1458.03,177.623 1460.05,173.615 1462.08,169.693 1464.1,165.858 1466.13,162.109 1468.15,158.447 1470.17,154.873 1472.2,151.387 1474.22,147.99 1476.25,144.683 1478.27,141.465 1480.3,138.337 1482.32,135.3 1484.35,132.355 1486.37,129.5 1488.39,126.738 1490.42,124.068 1492.44,121.491 1494.47,119.007 1496.49,116.617 1498.52,114.32 1500.54,112.118 1502.56,110.01 1504.59,107.997 1506.61,106.079 1508.64,104.256 1510.66,102.528 1512.69,100.897 1514.71,99.3615 1516.74,97.9223 1518.76,96.5797 1520.78,95.3337 1522.81,94.1845 1524.83,93.1324 1526.86,92.1775 1528.88,91.32 1530.91,90.5599 1532.93,89.8974 1534.96,89.3327 1536.98,88.8658 1539,88.4968 1541.03,88.2258 1543.05,88.0527 1545.08,87.9777 1547.1,88.0007 1549.13,88.1216 1551.15,88.3405 1553.18,88.6573 1555.2,89.0719 1557.22,89.5843 1559.25,90.1943 1561.27,90.9018 1563.3,91.7068 1565.32,92.609 1567.35,93.6085 1569.37,94.7049 1571.39,95.8983 1573.42,97.1885 1575.44,98.5752 1577.47,100.058 1579.49,101.638 1581.52,103.313 1583.54,105.084 1585.57,106.951 1587.59,108.913 1589.61,110.971 1591.64,113.123 1593.66,115.369 1595.69,117.71 1597.71,120.144 1599.74,122.672 1601.76,125.292 1603.79,128.005 1605.81,130.811 1607.83,133.708 1609.86,136.696 1611.88,139.775 1613.91,142.944 1615.93,146.204 1617.96,149.552 1619.98,152.99 1622.01,156.516 1624.03,160.13 1626.05,163.831 1628.08,167.62 1630.1,171.495 1632.13,175.456 1634.15,179.503 1636.18,183.634 1638.2,187.849 1640.22,192.149 1642.25,196.531 1644.27,200.996 1646.3,205.542 1648.32,210.17 1650.35,214.878 1652.37,219.665 1654.4,224.532 1656.42,229.477 1658.44,234.499 1660.47,239.598 1662.49,244.773 1664.52,250.023 1666.54,255.348 1668.57,260.746 1670.59,266.217 1672.62,271.76 1674.64,277.375 1676.66,283.06 1678.69,288.816 1680.71,294.64 1682.74,300.532 1684.76,306.491 1686.79,312.518 1688.81,318.609 1690.83,324.766 1692.86,330.986 1694.88,337.269 1696.91,343.615 1698.93,350.021 1700.96,356.488 1702.98,363.014 1705.01,369.598 1707.03,376.239 1709.05,382.937 1711.08,389.69 1713.1,396.498 1715.13,403.359 1717.15,410.272 1719.18,417.237 1721.2,424.252 1723.23,431.317 1725.25,438.43 1727.27,445.59 1729.3,452.797 1731.32,460.049 1733.35,467.345 1735.37,474.684 1737.4,482.066 1739.42,489.488 1741.45,496.951 1743.47,504.453 1745.49,511.992 1747.52,519.569 1749.54,527.181 1751.57,534.828 1753.59,542.508 1755.62,550.22 1757.64,557.964 1759.66,565.738 1761.69,573.541 1763.71,581.371 1765.74,589.229 1767.76,597.112 1769.79,605.02 1771.81,612.951 1773.84,620.904 1775.86,628.878 1777.88,636.872 1779.91,644.885 1781.93,652.916 1783.96,660.963 1785.98,669.026 1788.01,677.102 1790.03,685.192 1792.06,693.293 1794.08,701.405 1796.1,709.526 1798.13,717.656 1800.15,725.792 1802.18,733.935 1804.2,742.082 1806.23,750.233 1808.25,758.386 1810.28,766.54 1812.3,774.694 1814.32,782.847 1816.35,790.998 1818.37,799.145 1820.4,807.288 1822.42,815.425 1824.45,823.554 1826.47,831.676 1828.49,839.789 1830.52,847.89 1832.54,855.981 1834.57,864.058 1836.59,872.122 1838.62,880.17 1840.64,888.202 1842.67,896.217 1844.69,904.212 1846.71,912.189 1848.74,920.144 1850.76,928.077 1852.79,935.986 1854.81,943.871 1856.84,951.731 1858.86,959.564 1860.89,967.369 1862.91,975.145 1864.93,982.891 1866.96,990.605 1868.98,998.288 1871.01,1005.94 1873.03,1013.55 1875.06,1021.13 1877.08,1028.67 1879.1,1036.18 1881.13,1043.64 1883.15,1051.07 1885.18,1058.45 1887.2,1065.8 1889.23,1073.1 1891.25,1080.35 1893.28,1087.56 1895.3,1094.73 1897.32,1101.84 1899.35,1108.91 1901.37,1115.93 1903.4,1122.9 1905.42,1129.82 1907.45,1136.68 1909.47,1143.49 1911.5,1150.25 1913.52,1156.95 1915.54,1163.6 1917.57,1170.18 1919.59,1176.71 1921.62,1183.19 1923.64,1189.6 1925.67,1195.95 1927.69,1202.23 1929.72,1208.46 1931.74,1214.62 1933.76,1220.72 1935.79,1226.75 1937.81,1232.71 1939.84,1238.61 1941.86,1244.44 1943.89,1250.2 1945.91,1255.89 1947.93,1261.51 1949.96,1267.06 1951.98,1272.54 1954.01,1277.94 1956.03,1283.27 1958.06,1288.53 1960.08,1293.71 1962.11,1298.81 1964.13,1303.84 1966.15,1308.79 1968.18,1313.66 1970.2,1318.46 1972.23,1323.17 1974.25,1327.8 1976.28,1332.35 1978.3,1336.82 1980.33,1341.21 1982.35,1345.52 1984.37,1349.74 1986.4,1353.88 1988.42,1357.93 1990.45,1361.9 1992.47,1365.78 1994.5,1369.58 1996.52,1373.29 1998.55,1376.91 2000.57,1380.44 2002.59,1383.89 2004.62,1387.24 2006.64,1390.51 2008.67,1393.68 2010.69,1396.77 2012.72,1399.77 2014.74,1402.67 2016.76,1405.48 2018.79,1408.2 2020.81,1410.83 2022.84,1413.36 2024.86,1415.8 2026.89,1418.15 2028.91,1420.4 2030.94,1422.56 2032.96,1424.62 2034.98,1426.59 2037.01,1428.47 2039.03,1430.25 2041.06,1431.93 2043.08,1433.52 2045.11,1435.01 2047.13,1436.4 2049.16,1437.7 2051.18,1438.9 2053.2,1440.01 2055.23,1441.01 2057.25,1441.92 2059.28,1442.74 2061.3,1443.45 2063.33,1444.07 2065.35,1444.59 2067.38,1445.01 2069.4,1445.33 2071.42,1445.56 2073.45,1445.69 2075.47,1445.72 2077.5,1445.65 2079.52,1445.48 2081.55,1445.22 2083.57,1444.86 2085.59,1444.4 2087.62,1443.84 2089.64,1443.18 2091.67,1442.43 2093.69,1441.58 2095.72,1440.63 2097.74,1439.59 2099.77,1438.45 2101.79,1437.21 2103.81,1435.87 2105.84,1434.44 2107.86,1432.91 2109.89,1431.29 2111.91,1429.57 2113.94,1427.75 2115.96,1425.84 2117.99,1423.84 2120.01,1421.74 2122.03,1419.54 2124.06,1417.25 2126.08,1414.87 2128.11,1412.39 2130.13,1409.82 2132.16,1407.16 2134.18,1404.4 2136.2,1401.55 2138.23,1398.62 2140.25,1395.58 2142.28,1392.46 2144.3,1389.25 2146.33,1385.95 2148.35,1382.56 2150.38,1379.08 2152.4,1375.52 2154.42,1371.86 2156.45,1368.12 2158.47,1364.29 2160.5,1360.37 2162.52,1356.37 2164.55,1352.29 2166.57,1348.12 2168.6,1343.86 2170.62,1339.53 2172.64,1335.11 2174.67,1330.6 2176.69,1326.02 2178.72,1321.35 2180.74,1316.61 2182.77,1311.79 2184.79,1306.88 2186.82,1301.9 2188.84,1296.85 2190.86,1291.71 2192.89,1286.5 2194.91,1281.22 2196.94,1275.86 2198.96,1270.43 2200.99,1264.92 2203.01,1259.34 2205.03,1253.7 2207.06,1247.98 2209.08,1242.19 2211.11,1236.34 2213.13,1230.41 2215.16,1224.42 2217.18,1218.37 2219.21,1212.24 2221.23,1206.06 2223.25,1199.81 2225.28,1193.49 2227.3,1187.12 2229.33,1180.69 2231.35,1174.19 2233.38,1167.64 2235.4,1161.03 2237.43,1154.36 2239.45,1147.64 2241.47,1140.86 2243.5,1134.03 2245.52,1127.14 2247.55,1120.21 2249.57,1113.22 2251.6,1106.18 2253.62,1099.09 2255.65,1091.96 2257.67,1084.78 2259.69,1077.55 2261.72,1070.28 2263.74,1062.96 2265.77,1055.6 2267.79,1048.2 2269.82,1040.76 2271.84,1033.28 2273.86,1025.76 2275.89,1018.2 2277.91,1010.61 2279.94,1002.98 2281.96,995.316 2283.99,987.621 2286.01,979.894 2288.04,972.137 2290.06,964.349 2292.08,956.533 \"/>\n",
       "<polyline clip-path=\"url(#clip062)\" style=\"stroke:#e26f46; stroke-linecap:round; stroke-linejoin:round; stroke-width:4; stroke-opacity:1; fill:none\" points=\"269.7,577.158 271.724,569.342 273.749,561.555 275.773,553.797 277.798,546.07 279.822,538.375 281.846,530.713 283.871,523.084 285.895,515.491 287.92,507.935 289.944,500.415 291.969,492.934 293.993,485.493 296.017,478.092 298.042,470.733 300.066,463.416 302.091,456.144 304.115,448.916 306.139,441.734 308.164,434.599 310.188,427.512 312.213,420.474 314.237,413.486 316.261,406.548 318.286,399.663 320.31,392.831 322.335,386.053 324.359,379.329 326.383,372.662 328.408,366.051 330.432,359.499 332.457,353.005 334.481,346.571 336.506,340.197 338.53,333.885 340.554,327.635 342.579,321.449 344.603,315.327 346.628,309.271 348.652,303.28 350.676,297.356 352.701,291.5 354.725,285.712 356.75,279.994 358.774,274.346 360.798,268.77 362.823,263.265 364.847,257.832 366.872,252.474 368.896,247.189 370.92,241.979 372.945,236.845 374.969,231.788 376.994,226.808 379.018,221.906 381.043,217.082 383.067,212.338 385.091,207.673 387.116,203.09 389.14,198.587 391.165,194.167 393.189,189.829 395.213,185.575 397.238,181.404 399.262,177.318 401.287,173.317 403.311,169.402 405.335,165.572 407.36,161.83 409.384,158.175 411.409,154.607 413.433,151.129 415.457,147.738 417.482,144.438 419.506,141.227 421.531,138.106 423.555,135.076 425.58,132.137 427.604,129.29 429.628,126.534 431.653,123.871 433.677,121.301 435.702,118.824 437.726,116.441 439.75,114.151 441.775,111.956 443.799,109.855 445.824,107.849 447.848,105.937 449.872,104.122 451.897,102.402 453.921,100.777 455.946,99.2492 457.97,97.8173 459.994,96.482 462.019,95.2435 464.043,94.1018 466.068,93.0572 468.092,92.1099 470.117,91.2599 472.141,90.5073 474.165,89.8524 476.19,89.2951 478.214,88.8356 480.239,88.4739 482.263,88.2101 484.287,88.0442 486.312,87.9763 488.336,88.0063 490.361,88.1342 492.385,88.3601 494.409,88.6839 496.434,89.1056 498.458,89.625 500.483,90.2421 502.507,90.9569 504.531,91.7692 506.556,92.6788 508.58,93.6858 510.605,94.7899 512.629,95.9909 514.653,97.2888 516.678,98.6833 518.702,100.174 520.727,101.761 522.751,103.444 524.776,105.223 526.8,107.097 528.824,109.067 530.849,111.131 532.873,113.29 534.898,115.543 536.922,117.89 538.946,120.331 540.971,122.865 542.995,125.492 545.02,128.212 547.044,131.023 549.068,133.927 551.093,136.922 553.117,140.007 555.142,143.183 557.166,146.45 559.19,149.805 561.215,153.25 563.239,156.783 565.264,160.404 567.288,164.113 569.313,167.909 571.337,171.791 573.361,175.759 575.386,179.812 577.41,183.95 579.435,188.172 581.459,192.477 583.483,196.866 585.508,201.336 587.532,205.889 589.557,210.522 591.581,215.235 593.605,220.028 595.63,224.9 597.654,229.85 599.679,234.878 601.703,239.982 603.727,245.163 605.752,250.418 607.776,255.749 609.801,261.152 611.825,266.629 613.85,272.178 615.874,277.799 617.898,283.49 619.923,289.251 621.947,295.08 623.972,300.978 625.996,306.943 628.02,312.974 630.045,319.071 632.069,325.232 634.094,331.457 636.118,337.745 638.142,344.095 640.167,350.506 642.191,356.977 644.216,363.507 646.24,370.095 648.264,376.741 650.289,383.443 652.313,390.2 654.338,397.011 656.362,403.876 658.387,410.793 660.411,417.762 662.435,424.781 664.46,431.849 666.484,438.965 668.509,446.129 670.533,453.34 672.557,460.595 674.582,467.895 676.606,475.237 678.631,482.622 680.655,490.048 682.679,497.514 684.704,505.018 686.728,512.561 688.753,520.14 690.777,527.755 692.801,535.404 694.826,543.086 696.85,550.801 698.875,558.547 700.899,566.323 702.924,574.129 704.948,581.961 706.972,589.821 708.997,597.706 711.021,605.615 713.046,613.548 715.07,621.503 717.094,629.479 719.119,637.474 721.143,645.489 723.168,653.521 725.192,661.569 727.216,669.632 729.241,677.709 731.265,685.8 733.29,693.902 735.314,702.014 737.338,710.136 739.363,718.266 741.387,726.403 743.412,734.546 745.436,742.693 747.461,750.844 749.485,758.998 751.509,767.152 753.534,775.306 755.558,783.46 757.583,791.61 759.607,799.758 761.631,807.9 763.656,816.037 765.68,824.166 767.705,832.287 769.729,840.399 771.753,848.5 773.778,856.589 775.802,864.666 777.827,872.728 779.851,880.775 781.875,888.805 783.9,896.818 785.924,904.813 787.949,912.787 789.973,920.74 791.997,928.671 794.022,936.579 796.046,944.462 798.071,952.32 800.095,960.15 802.12,967.953 804.144,975.727 806.168,983.471 808.193,991.183 810.217,998.863 812.242,1006.51 814.266,1014.12 816.29,1021.7 818.315,1029.24 820.339,1036.74 822.364,1044.2 824.388,1051.63 826.412,1059.01 828.437,1066.35 830.461,1073.64 832.486,1080.9 834.51,1088.1 836.534,1095.26 838.559,1102.38 840.583,1109.44 842.608,1116.46 844.632,1123.42 846.657,1130.33 848.681,1137.19 850.705,1144 852.73,1150.75 854.754,1157.45 856.779,1164.09 858.803,1170.68 860.827,1177.2 862.852,1183.67 864.876,1190.08 866.901,1196.42 868.925,1202.7 870.949,1208.92 872.974,1215.08 874.998,1221.17 877.023,1227.2 879.047,1233.16 881.071,1239.05 883.096,1244.88 885.12,1250.63 887.145,1256.32 889.169,1261.93 891.194,1267.48 893.218,1272.95 895.242,1278.35 897.267,1283.67 899.291,1288.92 901.316,1294.1 903.34,1299.19 905.364,1304.22 907.389,1309.16 909.413,1314.03 911.438,1318.81 913.462,1323.52 915.486,1328.15 917.511,1332.69 919.535,1337.16 921.56,1341.54 923.584,1345.84 925.608,1350.06 927.633,1354.19 929.657,1358.23 931.682,1362.2 933.706,1366.07 935.731,1369.86 937.755,1373.56 939.779,1377.18 941.804,1380.7 943.828,1384.14 945.853,1387.49 947.877,1390.75 949.901,1393.92 951.926,1397 953.95,1399.99 955.975,1402.88 957.999,1405.69 960.023,1408.4 962.048,1411.02 964.072,1413.55 966.097,1415.98 968.121,1418.32 970.145,1420.57 972.17,1422.72 974.194,1424.78 976.219,1426.74 978.243,1428.61 980.268,1430.38 982.292,1432.05 984.316,1433.63 986.341,1435.12 988.365,1436.5 990.39,1437.79 992.414,1438.99 994.438,1440.08 996.463,1441.08 998.487,1441.99 1000.51,1442.79 1002.54,1443.5 1004.56,1444.11 1006.58,1444.62 1008.61,1445.03 1010.63,1445.35 1012.66,1445.57 1014.68,1445.69 1016.71,1445.71 1018.73,1445.64 1020.76,1445.46 1022.78,1445.19 1024.8,1444.82 1026.83,1444.36 1028.85,1443.79 1030.88,1443.13 1032.9,1442.37 1034.93,1441.51 1036.95,1440.56 1038.98,1439.51 1041,1438.36 1043.02,1437.11 1045.05,1435.77 1047.07,1434.33 1049.1,1432.8 1051.12,1431.16 1053.15,1429.44 1055.17,1427.61 1057.2,1425.7 1059.22,1423.68 1061.24,1421.57 1063.27,1419.37 1065.29,1417.07 1067.32,1414.68 1069.34,1412.2 1071.37,1409.62 1073.39,1406.95 1075.41,1404.19 1077.44,1401.34 1079.46,1398.39 1081.49,1395.35 1083.51,1392.23 1085.54,1389.01 1087.56,1385.7 1089.59,1382.3 1091.61,1378.82 1093.63,1375.24 1095.66,1371.58 1097.68,1367.83 1099.71,1364 1101.73,1360.08 1103.76,1356.07 1105.78,1351.98 1107.81,1347.8 1109.83,1343.54 1111.85,1339.19 1113.88,1334.77 1115.9,1330.26 1117.93,1325.67 1119.95,1321 1121.98,1316.25 1124,1311.42 1126.02,1306.51 1128.05,1301.53 1130.07,1296.46 1132.1,1291.32 1134.12,1286.11 1136.15,1280.82 1138.17,1275.45 1140.2,1270.02 1142.22,1264.5 1144.24,1258.92 1146.27,1253.27 1148.29,1247.55 1150.32,1241.75 1152.34,1235.89 1154.37,1229.96 1156.39,1223.97 1158.42,1217.91 1160.44,1211.78 1162.46,1205.59 1164.49,1199.33 1166.51,1193.02 1168.54,1186.64 1170.56,1180.2 1172.59,1173.7 1174.61,1167.14 1176.64,1160.53 1178.66,1153.86 1180.68,1147.13 1182.71,1140.35 1184.73,1133.51 1186.76,1126.62 1188.78,1119.68 1190.81,1112.69 1192.83,1105.65 1194.85,1098.56 1196.88,1091.42 1198.9,1084.23 1200.93,1077 1202.95,1069.73 1204.98,1062.41 1207,1055.04 1209.03,1047.64 1211.05,1040.2 1213.07,1032.71 1215.1,1025.19 1217.12,1017.63 1219.15,1010.03 1221.17,1002.4 1223.2,994.739 1225.22,987.041 1227.25,979.312 1229.27,971.552 1231.29,963.762 1233.32,955.944 1235.34,948.099 1237.37,940.227 1239.39,932.331 1241.42,924.41 1243.44,916.467 1245.47,908.503 1247.49,900.517 1249.51,892.513 1251.54,884.49 1253.56,876.451 1255.59,868.396 1257.61,860.326 1259.64,852.242 1261.66,844.146 1263.68,836.039 1265.71,827.922 1267.73,819.797 1269.76,811.663 1271.78,803.523 1273.81,795.378 1275.83,787.229 1277.86,779.077 1279.88,770.923 1281.9,762.768 1283.93,754.614 1285.95,746.462 1287.98,738.313 1290,730.168 1292.03,722.028 1294.05,713.894 1296.08,705.769 1298.1,697.652 1300.12,689.545 1302.15,681.449 1304.17,673.366 1306.2,665.296 1308.22,657.24 1310.25,649.201 1312.27,641.178 1314.29,633.174 1316.32,625.189 1318.34,617.224 1320.37,609.281 1322.39,601.36 1324.42,593.464 1326.44,585.592 1328.47,577.747 1330.49,569.929 1332.51,562.139 1334.54,554.379 1336.56,546.65 1338.59,538.952 1340.61,531.288 1342.64,523.657 1344.66,516.061 1346.69,508.502 1348.71,500.979 1350.73,493.495 1352.76,486.051 1354.78,478.647 1356.81,471.285 1358.83,463.965 1360.86,456.689 1362.88,449.458 1364.91,442.272 1366.93,435.134 1368.95,428.043 1370.98,421.001 1373,414.009 1375.03,407.068 1377.05,400.179 1379.08,393.343 1381.1,386.56 1383.12,379.833 1385.15,373.161 1387.17,366.546 1389.2,359.989 1391.22,353.491 1393.25,347.052 1395.27,340.674 1397.3,334.357 1399.32,328.103 1401.34,321.912 1403.37,315.785 1405.39,309.724 1407.42,303.728 1409.44,297.799 1411.47,291.938 1413.49,286.145 1415.52,280.422 1417.54,274.769 1419.56,269.186 1421.59,263.676 1423.61,258.238 1425.64,252.874 1427.66,247.584 1429.69,242.368 1431.71,237.229 1433.74,232.166 1435.76,227.18 1437.78,222.271 1439.81,217.442 1441.83,212.691 1443.86,208.021 1445.88,203.431 1447.91,198.923 1449.93,194.496 1451.95,190.152 1453.98,185.892 1456,181.715 1458.03,177.622 1460.05,173.615 1462.08,169.693 1464.1,165.857 1466.13,162.108 1468.15,158.447 1470.17,154.873 1472.2,151.387 1474.22,147.99 1476.25,144.683 1478.27,141.465 1480.3,138.337 1482.32,135.3 1484.35,132.355 1486.37,129.5 1488.39,126.738 1490.42,124.068 1492.44,121.491 1494.47,119.007 1496.49,116.617 1498.52,114.32 1500.54,112.117 1502.56,110.009 1504.59,107.996 1506.61,106.078 1508.64,104.255 1510.66,102.528 1512.69,100.896 1514.71,99.3607 1516.74,97.9216 1518.76,96.5791 1520.78,95.3332 1522.81,94.1843 1524.83,93.1324 1526.86,92.1777 1528.88,91.3204 1530.91,90.5605 1532.93,89.8982 1534.96,89.3336 1536.98,88.8667 1539,88.4977 1541.03,88.2265 1543.05,88.0533 1545.08,87.978 1547.1,88.0006 1549.13,88.1212 1551.15,88.3397 1553.18,88.6562 1555.2,89.0705 1557.22,89.5825 1559.25,90.1923 1561.27,90.8997 1563.3,91.7047 1565.32,92.6071 1567.35,93.6067 1569.37,94.7035 1571.39,95.8973 1573.42,97.1879 1575.44,98.5751 1577.47,100.059 1579.49,101.639 1581.52,103.314 1583.54,105.086 1585.57,106.953 1587.59,108.915 1589.61,110.972 1591.64,113.124 1593.66,115.37 1595.69,117.71 1597.71,120.144 1599.74,122.671 1601.76,125.291 1603.79,128.004 1605.81,130.809 1607.83,133.705 1609.86,136.693 1611.88,139.772 1613.91,142.942 1615.93,146.201 1617.96,149.55 1619.98,152.988 1622.01,156.514 1624.03,160.129 1626.05,163.831 1628.08,167.62 1630.1,171.496 1632.13,175.457 1634.15,179.504 1636.18,183.636 1638.2,187.851 1640.22,192.151 1642.25,196.533 1644.27,200.997 1646.3,205.544 1648.32,210.171 1650.35,214.878 1652.37,219.665 1654.4,224.531 1656.42,229.476 1658.44,234.497 1660.47,239.596 1662.49,244.771 1664.52,250.021 1666.54,255.345 1668.57,260.744 1670.59,266.215 1672.62,271.759 1674.64,277.374 1676.66,283.06 1678.69,288.815 1680.71,294.64 1682.74,300.532 1684.76,306.492 1686.79,312.518 1688.81,318.61 1690.83,324.767 1692.86,330.987 1694.88,337.271 1696.91,343.616 1698.93,350.022 1700.96,356.488 1702.98,363.014 1705.01,369.598 1707.03,376.239 1709.05,382.937 1711.08,389.69 1713.1,396.497 1715.13,403.358 1717.15,410.271 1719.18,417.236 1721.2,424.251 1723.23,431.316 1725.25,438.429 1727.27,445.589 1729.3,452.796 1731.32,460.048 1733.35,467.344 1735.37,474.684 1737.4,482.066 1739.42,489.488 1741.45,496.951 1743.47,504.453 1745.49,511.993 1747.52,519.569 1749.54,527.181 1751.57,534.828 1753.59,542.508 1755.62,550.22 1757.64,557.964 1759.66,565.738 1761.69,573.541 1763.71,581.372 1765.74,589.229 1767.76,597.112 1769.79,605.02 1771.81,612.951 1773.84,620.904 1775.86,628.879 1777.88,636.873 1779.91,644.886 1781.93,652.916 1783.96,660.963 1785.98,669.025 1788.01,677.102 1790.03,685.191 1792.06,693.292 1794.08,701.404 1796.1,709.525 1798.13,717.655 1800.15,725.791 1802.18,733.933 1804.2,742.081 1806.23,750.231 1808.25,758.385 1810.28,766.539 1812.3,774.693 1814.32,782.847 1816.35,790.998 1818.37,799.145 1820.4,807.288 1822.42,815.425 1824.45,823.555 1826.47,831.677 1828.49,839.789 1830.52,847.891 1832.54,855.982 1834.57,864.059 1836.59,872.122 1838.62,880.17 1840.64,888.202 1842.67,896.217 1844.69,904.212 1846.71,912.188 1848.74,920.143 1850.76,928.076 1852.79,935.985 1854.81,943.87 1856.84,951.73 1858.86,959.563 1860.89,967.368 1862.91,975.144 1864.93,982.89 1866.96,990.605 1868.98,998.287 1871.01,1005.94 1873.03,1013.55 1875.06,1021.13 1877.08,1028.67 1879.1,1036.18 1881.13,1043.64 1883.15,1051.07 1885.18,1058.45 1887.2,1065.8 1889.23,1073.1 1891.25,1080.35 1893.28,1087.56 1895.3,1094.73 1897.32,1101.84 1899.35,1108.91 1901.37,1115.93 1903.4,1122.9 1905.42,1129.82 1907.45,1136.68 1909.47,1143.49 1911.5,1150.25 1913.52,1156.95 1915.54,1163.6 1917.57,1170.18 1919.59,1176.71 1921.62,1183.19 1923.64,1189.6 1925.67,1195.95 1927.69,1202.23 1929.72,1208.46 1931.74,1214.62 1933.76,1220.72 1935.79,1226.75 1937.81,1232.71 1939.84,1238.61 1941.86,1244.44 1943.89,1250.2 1945.91,1255.89 1947.93,1261.51 1949.96,1267.06 1951.98,1272.54 1954.01,1277.94 1956.03,1283.27 1958.06,1288.53 1960.08,1293.71 1962.11,1298.81 1964.13,1303.84 1966.15,1308.79 1968.18,1313.66 1970.2,1318.46 1972.23,1323.17 1974.25,1327.8 1976.28,1332.35 1978.3,1336.83 1980.33,1341.21 1982.35,1345.52 1984.37,1349.74 1986.4,1353.88 1988.42,1357.93 1990.45,1361.9 1992.47,1365.78 1994.5,1369.58 1996.52,1373.29 1998.55,1376.91 2000.57,1380.44 2002.59,1383.89 2004.62,1387.24 2006.64,1390.51 2008.67,1393.68 2010.69,1396.77 2012.72,1399.76 2014.74,1402.67 2016.76,1405.48 2018.79,1408.2 2020.81,1410.83 2022.84,1413.36 2024.86,1415.8 2026.89,1418.15 2028.91,1420.4 2030.94,1422.56 2032.96,1424.62 2034.98,1426.59 2037.01,1428.47 2039.03,1430.25 2041.06,1431.93 2043.08,1433.52 2045.11,1435.01 2047.13,1436.4 2049.16,1437.7 2051.18,1438.9 2053.2,1440.01 2055.23,1441.01 2057.25,1441.92 2059.28,1442.73 2061.3,1443.45 2063.33,1444.07 2065.35,1444.59 2067.38,1445.01 2069.4,1445.33 2071.42,1445.56 2073.45,1445.68 2075.47,1445.71 2077.5,1445.65 2079.52,1445.48 2081.55,1445.22 2083.57,1444.86 2085.59,1444.4 2087.62,1443.84 2089.64,1443.18 2091.67,1442.43 2093.69,1441.58 2095.72,1440.63 2097.74,1439.59 2099.77,1438.45 2101.79,1437.21 2103.81,1435.87 2105.84,1434.44 2107.86,1432.91 2109.89,1431.29 2111.91,1429.57 2113.94,1427.75 2115.96,1425.84 2117.99,1423.84 2120.01,1421.74 2122.03,1419.54 2124.06,1417.25 2126.08,1414.87 2128.11,1412.39 2130.13,1409.82 2132.16,1407.16 2134.18,1404.4 2136.2,1401.55 2138.23,1398.62 2140.25,1395.59 2142.28,1392.46 2144.3,1389.25 2146.33,1385.95 2148.35,1382.56 2150.38,1379.08 2152.4,1375.52 2154.42,1371.86 2156.45,1368.12 2158.47,1364.29 2160.5,1360.37 2162.52,1356.37 2164.55,1352.29 2166.57,1348.12 2168.6,1343.86 2170.62,1339.52 2172.64,1335.1 2174.67,1330.6 2176.69,1326.02 2178.72,1321.35 2180.74,1316.61 2182.77,1311.79 2184.79,1306.88 2186.82,1301.9 2188.84,1296.85 2190.86,1291.71 2192.89,1286.5 2194.91,1281.22 2196.94,1275.86 2198.96,1270.43 2200.99,1264.92 2203.01,1259.34 2205.03,1253.7 2207.06,1247.98 2209.08,1242.19 2211.11,1236.34 2213.13,1230.41 2215.16,1224.42 2217.18,1218.36 2219.21,1212.24 2221.23,1206.06 2223.25,1199.81 2225.28,1193.49 2227.3,1187.12 2229.33,1180.69 2231.35,1174.19 2233.38,1167.64 2235.4,1161.03 2237.43,1154.36 2239.45,1147.64 2241.47,1140.86 2243.5,1134.03 2245.52,1127.14 2247.55,1120.21 2249.57,1113.22 2251.6,1106.18 2253.62,1099.09 2255.65,1091.96 2257.67,1084.78 2259.69,1077.55 2261.72,1070.27 2263.74,1062.96 2265.77,1055.6 2267.79,1048.2 2269.82,1040.76 2271.84,1033.28 2273.86,1025.76 2275.89,1018.2 2277.91,1010.61 2279.94,1002.98 2281.96,995.316 2283.99,987.621 2286.01,979.894 2288.04,972.136 2290.06,964.349 2292.08,956.533 \"/>\n",
       "<path clip-path=\"url(#clip060)\" d=\"M1967.74 250.738 L2281.3 250.738 L2281.3 95.2176 L1967.74 95.2176  Z\" fill=\"#ffffff\" fill-rule=\"evenodd\" fill-opacity=\"1\"/>\n",
       "<polyline clip-path=\"url(#clip060)\" style=\"stroke:#000000; stroke-linecap:round; stroke-linejoin:round; stroke-width:4; stroke-opacity:1; fill:none\" points=\"1967.74,250.738 2281.3,250.738 2281.3,95.2176 1967.74,95.2176 1967.74,250.738 \"/>\n",
       "<polyline clip-path=\"url(#clip060)\" style=\"stroke:#009af9; stroke-linecap:round; stroke-linejoin:round; stroke-width:4; stroke-opacity:1; fill:none\" points=\"1991.56,147.058 2134.47,147.058 \"/>\n",
       "<path clip-path=\"url(#clip060)\" d=\"M2162.57 160.449 L2162.57 174.199 L2158.29 174.199 L2158.29 138.412 L2162.57 138.412 L2162.57 142.347 Q2163.91 140.032 2165.95 138.921 Q2168.01 137.787 2170.86 137.787 Q2175.58 137.787 2178.52 141.537 Q2181.48 145.287 2181.48 151.398 Q2181.48 157.509 2178.52 161.259 Q2175.58 165.009 2170.86 165.009 Q2168.01 165.009 2165.95 163.898 Q2163.91 162.763 2162.57 160.449 M2177.06 151.398 Q2177.06 146.699 2175.12 144.037 Q2173.2 141.352 2169.82 141.352 Q2166.44 141.352 2164.49 144.037 Q2162.57 146.699 2162.57 151.398 Q2162.57 156.097 2164.49 158.782 Q2166.44 161.444 2169.82 161.444 Q2173.2 161.444 2175.12 158.782 Q2177.06 156.097 2177.06 151.398 Z\" fill=\"#000000\" fill-rule=\"nonzero\" fill-opacity=\"1\" /><path clip-path=\"url(#clip060)\" d=\"M2203.57 142.393 Q2202.85 141.977 2201.99 141.791 Q2201.16 141.583 2200.14 141.583 Q2196.53 141.583 2194.59 143.944 Q2192.66 146.282 2192.66 150.68 L2192.66 164.338 L2188.38 164.338 L2188.38 138.412 L2192.66 138.412 L2192.66 142.44 Q2194.01 140.078 2196.16 138.944 Q2198.31 137.787 2201.39 137.787 Q2201.83 137.787 2202.36 137.856 Q2202.9 137.903 2203.54 138.018 L2203.57 142.393 Z\" fill=\"#000000\" fill-rule=\"nonzero\" fill-opacity=\"1\" /><path clip-path=\"url(#clip060)\" d=\"M2229.17 150.31 L2229.17 152.393 L2209.59 152.393 Q2209.86 156.791 2212.22 159.106 Q2214.61 161.398 2218.85 161.398 Q2221.3 161.398 2223.59 160.796 Q2225.91 160.194 2228.17 158.99 L2228.17 163.018 Q2225.88 163.99 2223.47 164.5 Q2221.07 165.009 2218.59 165.009 Q2212.39 165.009 2208.75 161.398 Q2205.14 157.787 2205.14 151.629 Q2205.14 145.264 2208.57 141.537 Q2212.02 137.787 2217.85 137.787 Q2223.08 137.787 2226.11 141.166 Q2229.17 144.523 2229.17 150.31 M2224.91 149.06 Q2224.86 145.565 2222.94 143.481 Q2221.04 141.398 2217.9 141.398 Q2214.33 141.398 2212.18 143.412 Q2210.05 145.426 2209.72 149.083 L2224.91 149.06 Z\" fill=\"#000000\" fill-rule=\"nonzero\" fill-opacity=\"1\" /><path clip-path=\"url(#clip060)\" d=\"M2253.22 142.347 L2253.22 128.319 L2257.48 128.319 L2257.48 164.338 L2253.22 164.338 L2253.22 160.449 Q2251.88 162.763 2249.82 163.898 Q2247.78 165.009 2244.91 165.009 Q2240.21 165.009 2237.25 161.259 Q2234.31 157.509 2234.31 151.398 Q2234.31 145.287 2237.25 141.537 Q2240.21 137.787 2244.91 137.787 Q2247.78 137.787 2249.82 138.921 Q2251.88 140.032 2253.22 142.347 M2238.71 151.398 Q2238.71 156.097 2240.63 158.782 Q2242.57 161.444 2245.95 161.444 Q2249.33 161.444 2251.28 158.782 Q2253.22 156.097 2253.22 151.398 Q2253.22 146.699 2251.28 144.037 Q2249.33 141.352 2245.95 141.352 Q2242.57 141.352 2240.63 144.037 Q2238.71 146.699 2238.71 151.398 Z\" fill=\"#000000\" fill-rule=\"nonzero\" fill-opacity=\"1\" /><polyline clip-path=\"url(#clip060)\" style=\"stroke:#e26f46; stroke-linecap:round; stroke-linejoin:round; stroke-width:4; stroke-opacity:1; fill:none\" points=\"1991.56,198.898 2134.47,198.898 \"/>\n",
       "<path clip-path=\"url(#clip060)\" d=\"M2165.7 182.891 L2165.7 190.252 L2174.47 190.252 L2174.47 193.562 L2165.7 193.562 L2165.7 207.636 Q2165.7 210.807 2166.55 211.71 Q2167.43 212.613 2170.1 212.613 L2174.47 212.613 L2174.47 216.178 L2170.1 216.178 Q2165.16 216.178 2163.29 214.349 Q2161.41 212.497 2161.41 207.636 L2161.41 193.562 L2158.29 193.562 L2158.29 190.252 L2161.41 190.252 L2161.41 182.891 L2165.7 182.891 Z\" fill=\"#000000\" fill-rule=\"nonzero\" fill-opacity=\"1\" /><path clip-path=\"url(#clip060)\" d=\"M2195.1 194.233 Q2194.38 193.817 2193.52 193.631 Q2192.69 193.423 2191.67 193.423 Q2188.06 193.423 2186.11 195.784 Q2184.19 198.122 2184.19 202.52 L2184.19 216.178 L2179.91 216.178 L2179.91 190.252 L2184.19 190.252 L2184.19 194.28 Q2185.54 191.918 2187.69 190.784 Q2189.84 189.627 2192.92 189.627 Q2193.36 189.627 2193.89 189.696 Q2194.42 189.743 2195.07 189.858 L2195.1 194.233 Z\" fill=\"#000000\" fill-rule=\"nonzero\" fill-opacity=\"1\" /><path clip-path=\"url(#clip060)\" d=\"M2199.12 205.946 L2199.12 190.252 L2203.38 190.252 L2203.38 205.784 Q2203.38 209.465 2204.82 211.316 Q2206.25 213.145 2209.12 213.145 Q2212.57 213.145 2214.56 210.946 Q2216.58 208.747 2216.58 204.951 L2216.58 190.252 L2220.84 190.252 L2220.84 216.178 L2216.58 216.178 L2216.58 212.196 Q2215.03 214.557 2212.97 215.715 Q2210.93 216.849 2208.22 216.849 Q2203.75 216.849 2201.44 214.071 Q2199.12 211.293 2199.12 205.946 M2209.84 189.627 L2209.84 189.627 Z\" fill=\"#000000\" fill-rule=\"nonzero\" fill-opacity=\"1\" /><path clip-path=\"url(#clip060)\" d=\"M2251.78 202.15 L2251.78 204.233 L2232.2 204.233 Q2232.48 208.631 2234.84 210.946 Q2237.22 213.238 2241.46 213.238 Q2243.91 213.238 2246.21 212.636 Q2248.52 212.034 2250.79 210.83 L2250.79 214.858 Q2248.5 215.83 2246.09 216.34 Q2243.68 216.849 2241.21 216.849 Q2235 216.849 2231.37 213.238 Q2227.76 209.627 2227.76 203.469 Q2227.76 197.104 2231.18 193.377 Q2234.63 189.627 2240.47 189.627 Q2245.7 189.627 2248.73 193.006 Q2251.78 196.363 2251.78 202.15 M2247.53 200.9 Q2247.48 197.405 2245.56 195.321 Q2243.66 193.238 2240.51 193.238 Q2236.95 193.238 2234.79 195.252 Q2232.66 197.266 2232.34 200.923 L2247.53 200.9 Z\" fill=\"#000000\" fill-rule=\"nonzero\" fill-opacity=\"1\" /></svg>\n"
      ]
     },
     "metadata": {},
     "output_type": "display_data"
    }
   ],
   "source": [
    "xs = reshape(range(-600, 600, length=1000), 1, :)\n",
    "u_pred = pinn.phi(xs, res.u)\n",
    "u_true = @. 100*sin(ω*xs)\n",
    "\n",
    "using Plots\n",
    "plot(vec(xs),vec(u_pred), label=\"pred\")\n",
    "plot!(vec(xs),vec(u_true), label=\"true\")"
   ]
  }
 ],
 "metadata": {
  "kernelspec": {
   "display_name": "Julia 1.9.0",
   "language": "julia",
   "name": "julia-1.9"
  },
  "language_info": {
   "file_extension": ".jl",
   "mimetype": "application/julia",
   "name": "julia",
   "version": "1.9.0"
  },
  "orig_nbformat": 4
 },
 "nbformat": 4,
 "nbformat_minor": 2
}
