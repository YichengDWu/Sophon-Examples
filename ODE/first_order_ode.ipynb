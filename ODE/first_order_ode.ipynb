{
 "cells": [
  {
   "cell_type": "code",
   "execution_count": 7,
   "metadata": {},
   "outputs": [
    {
     "data": {
      "text/latex": [
       "$$ \\begin{align}\n",
       "\\frac{\\mathrm{d} u\\left( t \\right)}{\\mathrm{d}t} =& \\cos\\left( 0.01 t \\right)\n",
       "\\end{align}\n",
       " $$"
      ],
      "text/plain": [
       "PDESystem\n",
       "Equations: Equation[Differential(t)(u(t)) ~ cos(0.01t)]\n",
       "Boundary Conditions: Equation[u(0) ~ 0]\n",
       "Domain: Symbolics.VarDomainPairing[Symbolics.VarDomainPairing(t, -600..600)]\n",
       "Dependent Variables: Num[u(t)]\n",
       "Independent Variables: Num[t]\n",
       "Parameters: SciMLBase.NullParameters()\n",
       "Default Parameter ValuesDict{Any, Any}()"
      ]
     },
     "metadata": {},
     "output_type": "display_data"
    }
   ],
   "source": [
    "using ModelingToolkit, Sophon, DomainSets\n",
    "using Optimization, OptimizationOptimJL\n",
    "\n",
    "@parameters t\n",
    "@variables u(..)\n",
    "Dₜ = Differential(t)\n",
    "ω = 0.01\n",
    "\n",
    "eq = Dₜ(u(t))~cos(0.01*t)\n",
    "bcs = [\n",
    "    u(0)~0,\n",
    "]\n",
    "\n",
    "domain = [t∈-600..600]\n",
    "@named ode = PDESystem(eq, bcs, domain, [t], [u(t)])"
   ]
  },
  {
   "cell_type": "code",
   "execution_count": 8,
   "metadata": {},
   "outputs": [
    {
     "data": {
      "text/plain": [
       "\u001b[38;2;86;182;194mOptimizationProblem\u001b[0m. In-place: \u001b[38;2;86;182;194mtrue\u001b[0m\n",
       "u0: \u001b[0mComponentVector{Float64}(layer_1 = (weight = [0.006017545238137245; 0.006414422765374184; … ; 0.007929150015115738; 0.003908184822648764;;], bias = [0.0; 0.0; … ; 0.0; 0.0;;]), layer_2 = (weight = [0.49175822734832764 0.1821165531873703 … -0.5225852131843567 -0.4593692421913147; -0.09437508881092072 0.19317561388015747 … 0.5099614858627319 0.21738359332084656; … ; -0.1187041774392128 -0.3791513442993164 … 0.3000846803188324 0.37995684146881104; 0.34222930669784546 0.2747454047203064 … 0.3346489369869232 -0.06474653631448746], bias = [0.0; 0.0; … ; 0.0; 0.0;;]), layer_3 = (weight = [0.13294094800949097 0.00464947335422039 … -0.4577961564064026 -0.3174424469470978; 0.13026131689548492 -0.14535300433635712 … 0.1874852329492569 -0.5963847041130066; … ; 0.5559506416320801 -0.5556327700614929 … -0.10092776268720627 -0.5929818749427795; 0.49339592456817627 -0.10563833266496658 … -0.42385807633399963 -0.2200382649898529], bias = [0.0; 0.0; … ; 0.0; 0.0;;]), layer_4 = (weight = [-0.0722743421792984 0.2020232081413269 … 0.4499039947986603 0.4332645535469055; -0.46473515033721924 0.09774865955114365 … 0.340334951877594 0.49517399072647095; … ; -0.41953593492507935 0.4596417546272278 … -0.5690400004386902 0.594730794429779; -0.32953935861587524 0.5561778545379639 … 0.3336549699306488 0.09832938015460968], bias = [0.0; 0.0; … ; 0.0; 0.0;;]), layer_5 = (weight = [0.1276003122329712 0.4310506582260132 … -0.3611793518066406 0.5033330321311951], bias = [0.0;;]))"
      ]
     },
     "metadata": {},
     "output_type": "display_data"
    }
   ],
   "source": [
    "sampler = QuasiRandomSampler(1000, 1)\n",
    "pinn = PINN(Siren(1,16,16,16,16,1; omega=0.01f0))\n",
    "strategy = NonAdaptiveTraining(1, 50)\n",
    "\n",
    "prob = Sophon.discretize(ode, pinn, sampler, strategy)"
   ]
  },
  {
   "cell_type": "code",
   "execution_count": 9,
   "metadata": {},
   "outputs": [
    {
     "name": "stdout",
     "output_type": "stream",
     "text": [
      "Loss: 0.48315812443988365\n",
      "Loss: 0.4784420612635684\n"
     ]
    },
    {
     "name": "stdout",
     "output_type": "stream",
     "text": [
      "Loss: 0.4753487801771852\n",
      "Loss: 0.4730881719260219\n"
     ]
    },
    {
     "name": "stdout",
     "output_type": "stream",
     "text": [
      "Loss: 0.4728165251652835\n",
      "Loss: 0.47252396622934695\n",
      "Loss: 0.47176196181315033\n",
      "Loss: 0.47122636464495554\n"
     ]
    },
    {
     "name": "stdout",
     "output_type": "stream",
     "text": [
      "Loss: 0.4707343337319097\n",
      "Loss: 0.4700699486912609\n"
     ]
    },
    {
     "name": "stdout",
     "output_type": "stream",
     "text": [
      "Loss: 0.46981782025236263\n",
      "Loss: 0.46923854681334964\n",
      "Loss: 0.46823555683044926\n"
     ]
    },
    {
     "name": "stdout",
     "output_type": "stream",
     "text": [
      "Loss: 0.46812949826545014\n",
      "Loss: 0.468093047802376\n",
      "Loss: 0.4679029457045812\n"
     ]
    },
    {
     "name": "stdout",
     "output_type": "stream",
     "text": [
      "Loss: 0.4674294307063725\n",
      "Loss: 0.46733589393438\n",
      "Loss: 0.46705864882411646\n",
      "Loss: 0.4668910511306923\n"
     ]
    },
    {
     "name": "stdout",
     "output_type": "stream",
     "text": [
      "Loss: 0.4662737533832819\n",
      "Loss: 0.46432925191980295\n",
      "Loss: 0.4636532431839833\n",
      "Loss: 0.4627918407427908\n",
      "Loss: 0.46259831882055885\n",
      "Loss: 0.46169813902776335\n"
     ]
    },
    {
     "name": "stdout",
     "output_type": "stream",
     "text": [
      "Loss: 0.45973670801602173\n",
      "Loss: 0.459062755257294\n",
      "Loss: 0.45823644015815534\n",
      "Loss: 0.4569778485166013\n",
      "Loss: 0.4549945145862279\n"
     ]
    },
    {
     "name": "stdout",
     "output_type": "stream",
     "text": [
      "Loss: 0.44971460589957324\n",
      "Loss: 0.44810487992879827\n",
      "Loss: 0.44510824750313843\n"
     ]
    },
    {
     "name": "stdout",
     "output_type": "stream",
     "text": [
      "Loss: 0.4391186319438192\n",
      "Loss: 0.4379247688232696\n",
      "Loss: 0.43558847993118877\n",
      "Loss: 0.43345478487982586\n",
      "Loss: 0.4255672728922284\n"
     ]
    },
    {
     "name": "stdout",
     "output_type": "stream",
     "text": [
      "Loss: 0.4223690762710513\n",
      "Loss: 0.41884790347728984\n",
      "Loss: 0.4141391433481728\n"
     ]
    },
    {
     "name": "stdout",
     "output_type": "stream",
     "text": [
      "Loss: 0.4056794999512934\n",
      "Loss: 0.4012307749263488\n",
      "Loss: 0.39999517477351737\n",
      "Loss: 0.39638781502087994\n"
     ]
    },
    {
     "name": "stdout",
     "output_type": "stream",
     "text": [
      "Loss: 0.3949961619288145\n",
      "Loss: 0.387559709226963\n",
      "Loss: 0.3865260241470214\n",
      "Loss: 0.3838805478883584\n"
     ]
    },
    {
     "name": "stdout",
     "output_type": "stream",
     "text": [
      "Loss: 0.3805345600543988\n",
      "Loss: 0.37964417229473246\n",
      "Loss: 0.3748129952065788\n"
     ]
    },
    {
     "name": "stdout",
     "output_type": "stream",
     "text": [
      "Loss: 0.37346722879720967\n",
      "Loss: 0.36617984584440594\n",
      "Loss: 0.36493804978277267\n",
      "Loss: 0.3562318617583938\n"
     ]
    },
    {
     "name": "stdout",
     "output_type": "stream",
     "text": [
      "Loss: 0.3467214748787048\n",
      "Loss: 0.34537101560070926\n",
      "Loss: 0.34168137247490277\n",
      "Loss: 0.33925857729809566\n",
      "Loss: 0.33754584160794027\n"
     ]
    },
    {
     "name": "stdout",
     "output_type": "stream",
     "text": [
      "Loss: 0.33488769752454794\n",
      "Loss: 0.3304902424529916\n",
      "Loss: 0.3295580091868802\n",
      "Loss: 0.3245981954526926\n"
     ]
    },
    {
     "name": "stdout",
     "output_type": "stream",
     "text": [
      "Loss: 0.32265512932960616\n",
      "Loss: 0.31782925101042836\n",
      "Loss: 0.30858280919601583\n",
      "Loss: 0.3081560987752805\n",
      "Loss: 0.30470253710485995\n"
     ]
    },
    {
     "name": "stdout",
     "output_type": "stream",
     "text": [
      "Loss: 0.302152226776262\n",
      "Loss: 0.2939748039492806\n",
      "Loss: 0.29239237785810734\n",
      "Loss: 0.2844338931696269\n",
      "Loss: 0.2822750984439469\n"
     ]
    },
    {
     "name": "stdout",
     "output_type": "stream",
     "text": [
      "Loss: 0.278586562109257\n",
      "Loss: 0.2736365939182755\n",
      "Loss: 0.2723687042255139\n",
      "Loss: 0.2692364463756775\n"
     ]
    },
    {
     "name": "stdout",
     "output_type": "stream",
     "text": [
      "Loss: 0.26726357921763905\n",
      "Loss: 0.26233321380861385\n",
      "Loss: 0.25915895047380233\n"
     ]
    },
    {
     "name": "stdout",
     "output_type": "stream",
     "text": [
      "Loss: 0.2565226409571838\n",
      "Loss: 0.24791225985060666\n",
      "Loss: 0.24320179129209127\n"
     ]
    },
    {
     "name": "stdout",
     "output_type": "stream",
     "text": [
      "Loss: 0.23646964972958526\n",
      "Loss: 0.23320485689208215\n",
      "Loss: 0.22858445191895765\n"
     ]
    },
    {
     "name": "stdout",
     "output_type": "stream",
     "text": [
      "Loss: 0.2241631887407873\n",
      "Loss: 0.220379135307428\n"
     ]
    },
    {
     "name": "stdout",
     "output_type": "stream",
     "text": [
      "Loss: 0.2168756716447027\n",
      "Loss: 0.2131302831262762\n",
      "Loss: 0.20913116415453412\n"
     ]
    },
    {
     "name": "stdout",
     "output_type": "stream",
     "text": [
      "Loss: 0.20534293848567287\n",
      "Loss: 0.19181957004368616\n",
      "Loss: 0.19071178974972064\n",
      "Loss: 0.18650223597794907\n"
     ]
    },
    {
     "name": "stdout",
     "output_type": "stream",
     "text": [
      "Loss: 0.18494653376362097\n",
      "Loss: 0.1826475164734481\n",
      "Loss: 0.18135882129702027\n",
      "Loss: 0.17790595202816092\n"
     ]
    },
    {
     "name": "stdout",
     "output_type": "stream",
     "text": [
      "Loss: 0.17413866514327353\n",
      "Loss: 0.17248454474455627\n",
      "Loss: 0.16358326239440607\n",
      "Loss: 0.16297805690706996\n",
      "Loss: 0.15932948541216765\n"
     ]
    },
    {
     "name": "stdout",
     "output_type": "stream",
     "text": [
      "Loss: 0.15271698485935292\n",
      "Loss: 0.15095409487862363\n",
      "Loss: 0.14557667553618192\n",
      "Loss: 0.1393331439701848\n"
     ]
    },
    {
     "name": "stdout",
     "output_type": "stream",
     "text": [
      "Loss: 0.13759768536786865\n",
      "Loss: 0.13309240756060378\n",
      "Loss: 0.12859420410002903\n",
      "Loss: 0.12771778340997939\n"
     ]
    },
    {
     "name": "stdout",
     "output_type": "stream",
     "text": [
      "Loss: 0.11927603502966283\n",
      "Loss: 0.11808705064628958\n",
      "Loss: 0.1142700248153765\n",
      "Loss: 0.11308952783871622\n",
      "Loss: 0.11160834251838189\n"
     ]
    },
    {
     "name": "stdout",
     "output_type": "stream",
     "text": [
      "Loss: 0.10711877804876087\n",
      "Loss: 0.10159008395524505\n",
      "Loss: 0.10126966566282358\n",
      "Loss: 0.09918427541888614\n"
     ]
    },
    {
     "name": "stdout",
     "output_type": "stream",
     "text": [
      "Loss: 0.09646398805089758\n",
      "Loss: 0.09577121995575462\n",
      "Loss: 0.09465037599114687\n"
     ]
    },
    {
     "name": "stdout",
     "output_type": "stream",
     "text": [
      "Loss: 0.09258242187063655\n",
      "Loss: 0.09044788808988174\n",
      "Loss: 0.08771698927317752\n"
     ]
    },
    {
     "name": "stdout",
     "output_type": "stream",
     "text": [
      "Loss: 0.08512670066573318\n",
      "Loss: 0.08154190586701196\n",
      "Loss: 0.07946228125673037\n"
     ]
    },
    {
     "name": "stdout",
     "output_type": "stream",
     "text": [
      "Loss: 0.07530802355483159\n",
      "Loss: 0.07445044501543469\n",
      "Loss: 0.07209883971478305\n",
      "Loss: 0.07036512876467371\n"
     ]
    },
    {
     "name": "stdout",
     "output_type": "stream",
     "text": [
      "Loss: 0.06736968686513213\n",
      "Loss: 0.0652644166350924\n"
     ]
    },
    {
     "name": "stdout",
     "output_type": "stream",
     "text": [
      "Loss: 0.06444830015895128\n",
      "Loss: 0.06144003374700709\n",
      "Loss: 0.06055925646428088\n",
      "Loss: 0.05933730709361813\n"
     ]
    },
    {
     "name": "stdout",
     "output_type": "stream",
     "text": [
      "Loss: 0.05632299727974462\n",
      "Loss: 0.0547638682081007\n",
      "Loss: 0.05262652932117071\n",
      "Loss: 0.05231005933007617\n",
      "Loss: 0.0505187030957277\n"
     ]
    },
    {
     "name": "stdout",
     "output_type": "stream",
     "text": [
      "Loss: 0.04980329189505998\n",
      "Loss: 0.047703812767923945\n",
      "Loss: 0.04537267648269741\n",
      "Loss: 0.04474845274234115\n",
      "Loss: 0.04299455544931134\n"
     ]
    },
    {
     "name": "stdout",
     "output_type": "stream",
     "text": [
      "Loss: 0.04202723432702678\n",
      "Loss: 0.041468944313280624\n",
      "Loss: 0.040432672050930506\n",
      "Loss: 0.03991436303090433\n",
      "Loss: 0.03497342581668055\n"
     ]
    },
    {
     "name": "stdout",
     "output_type": "stream",
     "text": [
      "Loss: 0.034649844234585184\n",
      "Loss: 0.03318918830081529\n",
      "Loss: 0.03270696708250622\n",
      "Loss: 0.031963888235258885\n"
     ]
    },
    {
     "name": "stdout",
     "output_type": "stream",
     "text": [
      "Loss: 0.031009200151831024\n",
      "Loss: 0.029226270143536147\n",
      "Loss: 0.028828368064575633\n"
     ]
    },
    {
     "name": "stdout",
     "output_type": "stream",
     "text": [
      "Loss: 0.026063912163604926\n",
      "Loss: 0.025678368482257127\n",
      "Loss: 0.024297096722705417\n",
      "Loss: 0.022538883602928272\n"
     ]
    },
    {
     "name": "stdout",
     "output_type": "stream",
     "text": [
      "Loss: 0.02204465380936647\n",
      "Loss: 0.021415188415754835\n",
      "Loss: 0.020849662404094436\n",
      "Loss: 0.02004629139538563\n"
     ]
    },
    {
     "name": "stdout",
     "output_type": "stream",
     "text": [
      "Loss: 0.018951385425067826\n",
      "Loss: 0.0180536801638789\n",
      "Loss: 0.01715488312602982\n"
     ]
    },
    {
     "name": "stdout",
     "output_type": "stream",
     "text": [
      "Loss: 0.016285843160317726\n",
      "Loss: 0.014664545083625294\n",
      "Loss: 0.014282881062262\n",
      "Loss: 0.013251047040531694\n"
     ]
    },
    {
     "name": "stdout",
     "output_type": "stream",
     "text": [
      "Loss: 0.012736075273116189\n",
      "Loss: 0.012345672646944389\n",
      "Loss: 0.011240681668685889\n",
      "Loss: 0.011082380815312052\n"
     ]
    },
    {
     "name": "stdout",
     "output_type": "stream",
     "text": [
      "Loss: 0.010369307743816605\n",
      "Loss: 0.010209638097132868\n",
      "Loss: 0.008983452429878686\n",
      "Loss: 0.008837809122109616\n",
      "Loss: 0.00779322730816446\n"
     ]
    },
    {
     "name": "stdout",
     "output_type": "stream",
     "text": [
      "Loss: 0.007530109770591994\n",
      "Loss: 0.00633940170403764\n",
      "Loss: 0.0062078996937671195\n",
      "Loss: 0.005575040018603229\n",
      "Loss: 0.0053519391593141955\n",
      "Loss: 0.0047904665310726955\n"
     ]
    },
    {
     "name": "stdout",
     "output_type": "stream",
     "text": [
      "Loss: 0.004645494839161176\n",
      "Loss: 0.0043556145802590845\n",
      "Loss: 0.004144191784263142\n",
      "Loss: 0.003828141964699613\n",
      "Loss: 0.0030167995276081457\n"
     ]
    },
    {
     "name": "stdout",
     "output_type": "stream",
     "text": [
      "Loss: 0.0029249790512106133\n",
      "Loss: 0.00262046222689749\n",
      "Loss: 0.0023922037894032744\n",
      "Loss: 0.002065665209384596\n",
      "Loss: 0.0018686774662123348\n",
      "Loss: 0.001637919147086736\n"
     ]
    },
    {
     "name": "stdout",
     "output_type": "stream",
     "text": [
      "Loss: 0.0014266958425352045\n",
      "Loss: 0.0013623340570454701\n",
      "Loss: 0.001318798303734612\n",
      "Loss: 0.001239456389842456\n",
      "Loss: 0.0010145406135582747\n",
      "Loss: 0.0008859190617255227\n",
      "Loss: 0.000875762671069045\n"
     ]
    },
    {
     "name": "stdout",
     "output_type": "stream",
     "text": [
      "Loss: 0.0008126510130483718\n",
      "Loss: 0.0007568488185987073\n",
      "Loss: 0.0007275022810506607\n",
      "Loss: 0.0006677540909259593\n",
      "Loss: 0.0005320525140405844\n",
      "Loss: 0.0005159991102491153\n"
     ]
    },
    {
     "name": "stdout",
     "output_type": "stream",
     "text": [
      "Loss: 0.00047883625454345853\n",
      "Loss: 0.0004452741009386825\n",
      "Loss: 0.00039290292468470683\n",
      "Loss: 0.00038068645614626034\n",
      "Loss: 0.00033796460480555975\n",
      "Loss: 0.0003251127441901594\n",
      "Loss: 0.0003019556297148352\n",
      "Loss: 0.000277934215684518\n"
     ]
    },
    {
     "name": "stdout",
     "output_type": "stream",
     "text": [
      "Loss: 0.0002590833738626195\n",
      "Loss: 0.0002354037285083314\n",
      "Loss: 0.00022503935890047074\n",
      "Loss: 0.00021530307842221766\n",
      "Loss: 0.00019491261757844882\n",
      "Loss: 0.0001874037566216756\n"
     ]
    },
    {
     "name": "stdout",
     "output_type": "stream",
     "text": [
      "Loss: 0.00017766082630811034\n",
      "Loss: 0.00016788287445371132\n",
      "Loss: 0.00015395582100014103\n",
      "Loss: 0.00014911469089171707\n",
      "Loss: 0.00014267620417837264\n",
      "Loss: 0.00013071931077870535\n"
     ]
    },
    {
     "name": "stdout",
     "output_type": "stream",
     "text": [
      "Loss: 0.00012081849985733153\n",
      "Loss: 0.00011614279046953285\n",
      "Loss: 0.00010779437552891419\n",
      "Loss: 0.0001007404215940468\n",
      "Loss: 9.509684499933122e-5\n",
      "Loss: 8.807237023471625e-5\n"
     ]
    },
    {
     "name": "stdout",
     "output_type": "stream",
     "text": [
      "Loss: 8.255877971745075e-5\n",
      "Loss: 7.89691984235588e-5\n",
      "Loss: 7.427448933533882e-5\n",
      "Loss: 6.98441296184028e-5\n",
      "Loss: 6.711217176142379e-5\n",
      "Loss: 6.369688241317439e-5\n"
     ]
    },
    {
     "name": "stdout",
     "output_type": "stream",
     "text": [
      "Loss: 6.0125027146575275e-5\n",
      "Loss: 5.6908693945367794e-5\n",
      "Loss: 5.2807500531503334e-5\n",
      "Loss: 5.181903719091172e-5\n",
      "Loss: 4.8933093021051244e-5\n"
     ]
    },
    {
     "name": "stdout",
     "output_type": "stream",
     "text": [
      "Loss: 4.616865619234033e-5\n",
      "Loss: 4.4081248483381305e-5\n",
      "Loss: 4.248131029419485e-5\n",
      "Loss: 4.0703459803923946e-5\n",
      "Loss: 3.8573807988867204e-5\n",
      "Loss: 3.6261364362744536e-5\n"
     ]
    },
    {
     "name": "stdout",
     "output_type": "stream",
     "text": [
      "Loss: 3.423230243538785e-5\n",
      "Loss: 3.287775528692298e-5\n",
      "Loss: 3.111716293386424e-5\n",
      "Loss: 2.969947513852703e-5\n",
      "Loss: 2.8301117531657813e-5\n",
      "Loss: 2.6892648253755396e-5\n"
     ]
    },
    {
     "name": "stdout",
     "output_type": "stream",
     "text": [
      "Loss: 2.5828719743695857e-5\n",
      "Loss: 2.4343107601903025e-5\n",
      "Loss: 2.302000710327992e-5\n",
      "Loss: 2.1464488936001e-5\n",
      "Loss: 2.0446331835112184e-5\n",
      "Loss: 1.960602929874334e-5\n"
     ]
    },
    {
     "name": "stdout",
     "output_type": "stream",
     "text": [
      "Loss: 1.8752352039199867e-5\n",
      "Loss: 1.7831163563051272e-5\n",
      "Loss: 1.7117748596588366e-5\n",
      "Loss: 1.650640423305606e-5\n",
      "Loss: 1.612366310869368e-5\n"
     ]
    },
    {
     "name": "stdout",
     "output_type": "stream",
     "text": [
      "Loss: 1.5620185826898563e-5\n",
      "Loss: 1.4964354978472285e-5\n",
      "Loss: 1.417244487866336e-5\n",
      "Loss: 1.332303776001112e-5\n",
      "Loss: 1.2894734326032326e-5\n"
     ]
    },
    {
     "name": "stdout",
     "output_type": "stream",
     "text": [
      "Loss: 1.2693763161711221e-5\n",
      "Loss: 1.2287834885121797e-5\n",
      "Loss: 1.1815209559269785e-5\n",
      "Loss: 1.1555583175760873e-5\n",
      "Loss: 1.1198439468844804e-5\n"
     ]
    },
    {
     "name": "stdout",
     "output_type": "stream",
     "text": [
      "Loss: 1.0953991716503523e-5\n",
      "Loss: 1.0643741614444842e-5\n",
      "Loss: 1.0128464966057527e-5\n",
      "Loss: 9.552573543188473e-6\n",
      "Loss: 9.214208159701864e-6\n",
      "Loss: 8.979019276338848e-6\n"
     ]
    },
    {
     "name": "stdout",
     "output_type": "stream",
     "text": [
      "Loss: 8.658724976271059e-6\n",
      "Loss: 8.247506153634817e-6\n",
      "Loss: 7.984326228007251e-6\n",
      "Loss: 7.761790487178201e-6\n",
      "Loss: 7.505108000983589e-6\n"
     ]
    },
    {
     "name": "stdout",
     "output_type": "stream",
     "text": [
      "Loss: 7.303621449957397e-6\n",
      "Loss: 7.132910909790272e-6\n",
      "Loss: 7.031510157578546e-6\n",
      "Loss: 6.847536820911603e-6\n",
      "Loss: 6.666876619875504e-6\n"
     ]
    },
    {
     "name": "stdout",
     "output_type": "stream",
     "text": [
      "Loss: 6.452802255932821e-6\n",
      "Loss: 6.232536326233195e-6\n",
      "Loss: 6.07259604397536e-6\n",
      "Loss: 5.945669262205621e-6\n",
      "Loss: 5.834211433877946e-6\n"
     ]
    },
    {
     "name": "stdout",
     "output_type": "stream",
     "text": [
      "Loss: 5.721463565003051e-6\n",
      "Loss: 5.5636266258228196e-6\n",
      "Loss: 5.4084924528782894e-6\n",
      "Loss: 5.272795775138977e-6\n",
      "Loss: 5.105011081059961e-6\n"
     ]
    },
    {
     "name": "stdout",
     "output_type": "stream",
     "text": [
      "Loss: 5.002636914914094e-6\n",
      "Loss: 4.888132256892491e-6\n",
      "Loss: 4.757937467722632e-6\n",
      "Loss: 4.61082353550039e-6\n"
     ]
    },
    {
     "name": "stdout",
     "output_type": "stream",
     "text": [
      "Loss: 4.493791774188097e-6\n",
      "Loss: 4.410377118600621e-6\n",
      "Loss: 4.252453457278801e-6\n",
      "Loss: 4.148642247806313e-6\n",
      "Loss: 4.049772557468327e-6\n"
     ]
    },
    {
     "name": "stdout",
     "output_type": "stream",
     "text": [
      "Loss: 3.937393907627266e-6\n",
      "Loss: 3.825386350431777e-6\n",
      "Loss: 3.703016072399841e-6\n",
      "Loss: 3.6128318740114855e-6\n",
      "Loss: 3.546418489401739e-6\n"
     ]
    },
    {
     "name": "stdout",
     "output_type": "stream",
     "text": [
      "Loss: 3.4447040272961656e-6\n",
      "Loss: 3.3055182862250367e-6\n",
      "Loss: 3.216854671843491e-6\n",
      "Loss: 3.1225301095999895e-6\n",
      "Loss: 3.033170398009281e-6\n"
     ]
    },
    {
     "name": "stdout",
     "output_type": "stream",
     "text": [
      "Loss: 2.9524921235221547e-6\n",
      "Loss: 2.881603220608142e-6\n",
      "Loss: 2.8196576723642734e-6\n",
      "Loss: 2.731087686914653e-6\n",
      "Loss: 2.6145746322509706e-6\n"
     ]
    },
    {
     "name": "stdout",
     "output_type": "stream",
     "text": [
      "Loss: 2.5089658722586634e-6\n",
      "Loss: 2.440045578918859e-6\n",
      "Loss: 2.4075559928945355e-6\n",
      "Loss: 2.357818702815426e-6\n",
      "Loss: 2.282605883068457e-6\n"
     ]
    },
    {
     "name": "stdout",
     "output_type": "stream",
     "text": [
      "Loss: 2.2260624018678505e-6\n",
      "Loss: 2.1693450352293716e-6\n",
      "Loss: 2.1024696797330613e-6\n",
      "Loss: 2.0562964323378902e-6\n",
      "Loss: 2.0176964670011187e-6\n"
     ]
    },
    {
     "name": "stdout",
     "output_type": "stream",
     "text": [
      "Loss: 1.970484634732462e-6\n",
      "Loss: 1.924444088559714e-6\n",
      "Loss: 1.8898320017777245e-6\n",
      "Loss: 1.8587814888851692e-6\n",
      "Loss: 1.8295826598161217e-6\n"
     ]
    },
    {
     "name": "stdout",
     "output_type": "stream",
     "text": [
      "Loss: 1.7997935593769965e-6\n",
      "Loss: 1.7721481788960097e-6\n",
      "Loss: 1.7423099292843699e-6\n",
      "Loss: 1.7167357582619338e-6\n",
      "Loss: 1.687337338422289e-6\n"
     ]
    },
    {
     "name": "stdout",
     "output_type": "stream",
     "text": [
      "Loss: 1.6503130363834816e-6\n",
      "Loss: 1.6248835217957143e-6\n",
      "Loss: 1.6032208678394179e-6\n",
      "Loss: 1.5784500198447964e-6\n",
      "Loss: 1.5477107286989112e-6\n"
     ]
    },
    {
     "name": "stdout",
     "output_type": "stream",
     "text": [
      "Loss: 1.5173031107837906e-6\n",
      "Loss: 1.4885680159923962e-6\n",
      "Loss: 1.4633539620796318e-6\n",
      "Loss: 1.4390275410099712e-6\n",
      "Loss: 1.4177528642780501e-6\n"
     ]
    },
    {
     "name": "stdout",
     "output_type": "stream",
     "text": [
      "Loss: 1.3993309724545297e-6\n",
      "Loss: 1.377203226374817e-6\n",
      "Loss: 1.3457783046251293e-6\n",
      "Loss: 1.3221121768442519e-6\n",
      "Loss: 1.304486911381274e-6\n"
     ]
    },
    {
     "name": "stdout",
     "output_type": "stream",
     "text": [
      "Loss: 1.2863752507415607e-6\n",
      "Loss: 1.2741827549315183e-6\n",
      "Loss: 1.2616536503588986e-6\n",
      "Loss: 1.2380682558386837e-6\n",
      "Loss: 1.2181981400989738e-6\n"
     ]
    },
    {
     "name": "stdout",
     "output_type": "stream",
     "text": [
      "Loss: 1.2019312822057804e-6\n",
      "Loss: 1.1816070273942972e-6\n",
      "Loss: 1.1615555875444107e-6\n",
      "Loss: 1.1441409792292034e-6\n",
      "Loss: 1.1230716282243863e-6\n",
      "Loss: 1.1036174169415567e-6\n"
     ]
    },
    {
     "name": "stdout",
     "output_type": "stream",
     "text": [
      "Loss: 1.0826755145256944e-6\n",
      "Loss: 1.064919707099806e-6\n",
      "Loss: 1.0508228270357703e-6\n",
      "Loss: 1.0394389647809945e-6\n",
      "Loss: 1.0246599906855176e-6\n"
     ]
    },
    {
     "name": "stdout",
     "output_type": "stream",
     "text": [
      "Loss: 1.0070889979527529e-6\n",
      "Loss: 9.79798618050488e-7\n",
      "Loss: 9.587700906254165e-7\n",
      "Loss: 9.501255538678557e-7\n",
      "Loss: 9.396988849662675e-7\n"
     ]
    },
    {
     "name": "stdout",
     "output_type": "stream",
     "text": [
      "Loss: 9.224468314489247e-7\n",
      "Loss: 9.097787612252782e-7\n",
      "Loss: 8.971831376422115e-7\n",
      "Loss: 8.815212495216461e-7\n",
      "Loss: 8.682311894473153e-7\n"
     ]
    },
    {
     "name": "stdout",
     "output_type": "stream",
     "text": [
      "Loss: 8.536048134537217e-7\n",
      "Loss: 8.390353623761412e-7\n",
      "Loss: 8.236620416074394e-7\n",
      "Loss: 8.108960170880273e-7\n",
      "Loss: 8.011953434279751e-7\n"
     ]
    },
    {
     "name": "stdout",
     "output_type": "stream",
     "text": [
      "Loss: 7.915321279032708e-7\n",
      "Loss: 7.841658911699721e-7\n",
      "Loss: 7.761460951530991e-7\n",
      "Loss: 7.631793347686876e-7\n",
      "Loss: 7.402260865231865e-7\n"
     ]
    },
    {
     "name": "stdout",
     "output_type": "stream",
     "text": [
      "Loss: 7.176078989135418e-7\n",
      "Loss: 7.030722135101163e-7\n",
      "Loss: 6.939404003433888e-7\n",
      "Loss: 6.881955908027976e-7\n",
      "Loss: 6.834664834715552e-7\n"
     ]
    },
    {
     "name": "stdout",
     "output_type": "stream",
     "text": [
      "Loss: 6.767334331755315e-7\n",
      "Loss: 6.627803362158421e-7\n",
      "Loss: 6.499146467390686e-7\n",
      "Loss: 6.389057601952684e-7\n",
      "Loss: 6.306211941676843e-7\n",
      "Loss: 6.22430859956187e-7\n"
     ]
    },
    {
     "name": "stdout",
     "output_type": "stream",
     "text": [
      "Loss: 6.109083947402422e-7\n",
      "Loss: 6.012030087072161e-7\n",
      "Loss: 5.906216633717366e-7\n",
      "Loss: 5.712727245098179e-7\n",
      "Loss: 5.484796869074635e-7\n"
     ]
    },
    {
     "name": "stdout",
     "output_type": "stream",
     "text": [
      "Loss: 5.357433403254508e-7\n",
      "Loss: 5.214080839292316e-7\n",
      "Loss: 5.049500648154045e-7\n",
      "Loss: 4.92956535958904e-7\n",
      "Loss: 4.857752602765094e-7\n"
     ]
    },
    {
     "name": "stdout",
     "output_type": "stream",
     "text": [
      "Loss: 4.802466671464646e-7\n",
      "Loss: 4.732496884914997e-7\n",
      "Loss: 4.6596522997076767e-7\n",
      "Loss: 4.588935221920602e-7\n",
      "Loss: 4.5314199464247483e-7\n"
     ]
    },
    {
     "name": "stdout",
     "output_type": "stream",
     "text": [
      "Loss: 4.471922312313303e-7\n",
      "Loss: 4.419267498065416e-7\n",
      "Loss: 4.3591011508993556e-7\n",
      "Loss: 4.286651260332545e-7\n",
      "Loss: 4.1850229721111e-7\n"
     ]
    },
    {
     "name": "stdout",
     "output_type": "stream",
     "text": [
      "Loss: 4.132909068482808e-7\n",
      "Loss: 4.092803275881386e-7\n",
      "Loss: 4.028782388678798e-7\n",
      "Loss: 3.9683326463966575e-7\n",
      "Loss: 3.9331464335701986e-7\n"
     ]
    },
    {
     "name": "stdout",
     "output_type": "stream",
     "text": [
      "Loss: 3.898900837692366e-7\n",
      "Loss: 3.851071009774296e-7\n",
      "Loss: 3.759617902126937e-7\n",
      "Loss: 3.66755267231022e-7\n",
      "Loss: 3.6106807567387204e-7\n"
     ]
    },
    {
     "name": "stdout",
     "output_type": "stream",
     "text": [
      "Loss: 3.580361435453009e-7\n",
      "Loss: 3.535129006892786e-7\n",
      "Loss: 3.477818468509882e-7\n",
      "Loss: 3.448423371550106e-7\n",
      "Loss: 3.4154558968284675e-7\n"
     ]
    },
    {
     "name": "stdout",
     "output_type": "stream",
     "text": [
      "Loss: 3.3617672376050563e-7\n",
      "Loss: 3.2972058374938563e-7\n",
      "Loss: 3.2396517024562665e-7\n",
      "Loss: 3.213753080416193e-7\n",
      "Loss: 3.19169328715134e-7\n"
     ]
    },
    {
     "name": "stdout",
     "output_type": "stream",
     "text": [
      "Loss: 3.135809725924484e-7\n",
      "Loss: 3.059902302930152e-7\n",
      "Loss: 3.0252130318281464e-7\n",
      "Loss: 3.0125530313627944e-7\n",
      "Loss: 2.9991063291530233e-7\n"
     ]
    },
    {
     "name": "stdout",
     "output_type": "stream",
     "text": [
      "Loss: 2.962752440587511e-7\n",
      "Loss: 2.8834078363708994e-7\n",
      "Loss: 2.8086718090121795e-7\n",
      "Loss: 2.776969038220993e-7\n",
      "Loss: 2.7616189053149526e-7\n"
     ]
    },
    {
     "name": "stdout",
     "output_type": "stream",
     "text": [
      "Loss: 2.7535987980810144e-7\n",
      "Loss: 2.739938657965284e-7\n",
      "Loss: 2.696157633160442e-7\n",
      "Loss: 2.623056957497889e-7\n",
      "Loss: 2.582402126821846e-7\n"
     ]
    },
    {
     "name": "stdout",
     "output_type": "stream",
     "text": [
      "Loss: 2.5668798145011695e-7\n",
      "Loss: 2.5475126983502993e-7\n",
      "Loss: 2.5050354505758714e-7\n",
      "Loss: 2.4446456423635877e-7\n"
     ]
    },
    {
     "name": "stdout",
     "output_type": "stream",
     "text": [
      "Loss: 2.3815007788246284e-7\n",
      "Loss: 2.3374740834995585e-7\n",
      "Loss: 2.309207670662034e-7\n",
      "Loss: 2.295506422628624e-7\n",
      "Loss: 2.2854543639154517e-7\n"
     ]
    },
    {
     "name": "stdout",
     "output_type": "stream",
     "text": [
      "Loss: 2.26614408257583e-7\n",
      "Loss: 2.2251506627911213e-7\n",
      "Loss: 2.1777315075297948e-7\n",
      "Loss: 2.1477832212177657e-7\n",
      "Loss: 2.1331812881509906e-7\n",
      "Loss: 2.1231131364521234e-7\n"
     ]
    },
    {
     "name": "stdout",
     "output_type": "stream",
     "text": [
      "Loss: 2.1122656324685607e-7\n",
      "Loss: 2.094006794082353e-7\n",
      "Loss: 2.053317672771998e-7\n",
      "Loss: 2.014679357880425e-7\n",
      "Loss: 1.9897245245837997e-7\n"
     ]
    },
    {
     "name": "stdout",
     "output_type": "stream",
     "text": [
      "Loss: 1.9607883586972872e-7\n",
      "Loss: 1.940902432632348e-7\n",
      "Loss: 1.927887937932076e-7\n",
      "Loss: 1.918179652231708e-7\n",
      "Loss: 1.9055113711372115e-7\n",
      "Loss: 1.8901502106764823e-7\n"
     ]
    },
    {
     "name": "stdout",
     "output_type": "stream",
     "text": [
      "Loss: 1.8672522417896895e-7\n",
      "Loss: 1.8327619802040744e-7\n",
      "Loss: 1.792615066754302e-7\n",
      "Loss: 1.7728922061947024e-7\n",
      "Loss: 1.7671885096889843e-7\n"
     ]
    },
    {
     "name": "stdout",
     "output_type": "stream",
     "text": [
      "Loss: 1.763585920022078e-7\n",
      "Loss: 1.7557337375100944e-7\n",
      "Loss: 1.7183429984604737e-7\n",
      "Loss: 1.6505408588627845e-7\n",
      "Loss: 1.600884390839347e-7\n"
     ]
    },
    {
     "name": "stdout",
     "output_type": "stream",
     "text": [
      "Loss: 1.584147312918225e-7\n",
      "Loss: 1.577005765077875e-7\n",
      "Loss: 1.5731828030432884e-7\n",
      "Loss: 1.5676512180315556e-7\n",
      "Loss: 1.5561588627701801e-7\n"
     ]
    },
    {
     "name": "stdout",
     "output_type": "stream",
     "text": [
      "Loss: 1.5356055456517935e-7\n",
      "Loss: 1.5060068367399306e-7\n",
      "Loss: 1.4793979928102716e-7\n",
      "Loss: 1.4647421158726133e-7\n",
      "Loss: 1.4490411793013573e-7\n"
     ]
    },
    {
     "name": "stdout",
     "output_type": "stream",
     "text": [
      "Loss: 1.4395684480463457e-7\n",
      "Loss: 1.4350977025823158e-7\n",
      "Loss: 1.432234911652931e-7\n",
      "Loss: 1.4266531829529205e-7\n",
      "Loss: 1.4048698437579678e-7\n"
     ]
    },
    {
     "name": "stdout",
     "output_type": "stream",
     "text": [
      "Loss: 1.346755555870547e-7\n",
      "Loss: 1.3156862647399683e-7\n",
      "Loss: 1.30519224584325e-7\n",
      "Loss: 1.2991273671721554e-7\n",
      "Loss: 1.296444894281182e-7\n"
     ]
    },
    {
     "name": "stdout",
     "output_type": "stream",
     "text": [
      "Loss: 1.2947038450915738e-7\n",
      "Loss: 1.2902170562788664e-7\n",
      "Loss: 1.2740466773671316e-7\n",
      "Loss: 1.248586411942384e-7\n"
     ]
    },
    {
     "name": "stdout",
     "output_type": "stream",
     "text": [
      "Loss: 1.2292598569315273e-7\n",
      "Loss: 1.2190341676988133e-7\n",
      "Loss: 1.214556017833799e-7\n",
      "Loss: 1.2128303720294824e-7\n",
      "Loss: 1.2111408848685681e-7\n"
     ]
    },
    {
     "name": "stdout",
     "output_type": "stream",
     "text": [
      "Loss: 1.2077945203629332e-7\n",
      "Loss: 1.1914356828096819e-7\n",
      "Loss: 1.1644186659930842e-7\n",
      "Loss: 1.1466170948199159e-7\n",
      "Loss: 1.1395436843926793e-7\n"
     ]
    },
    {
     "name": "stdout",
     "output_type": "stream",
     "text": [
      "Loss: 1.1371129356903189e-7\n",
      "Loss: 1.1355511609064494e-7\n",
      "Loss: 1.1335092677140859e-7\n",
      "Loss: 1.1305716727177674e-7\n",
      "Loss: 1.1224733698950601e-7\n"
     ]
    },
    {
     "name": "stdout",
     "output_type": "stream",
     "text": [
      "Loss: 1.0958676407792869e-7\n",
      "Loss: 1.0457837513659777e-7\n",
      "Loss: 1.0202218018060672e-7\n",
      "Loss: 1.0113254244751712e-7\n",
      "Loss: 1.0086678941563265e-7\n",
      "Loss: 1.007752419900772e-7\n"
     ]
    },
    {
     "name": "stdout",
     "output_type": "stream",
     "text": [
      "Loss: 1.0068375496360003e-7\n",
      "Loss: 1.0059691927164868e-7\n",
      "Loss: 1.0037122653233697e-7\n",
      "Loss: 9.942222261597759e-8\n",
      "Loss: 9.667976546799855e-8\n"
     ]
    },
    {
     "name": "stdout",
     "output_type": "stream",
     "text": [
      "Loss: 9.316073044161955e-8\n",
      "Loss: 9.217595223846098e-8\n",
      "Loss: 9.172424932180851e-8\n",
      "Loss: 9.14723232540844e-8\n",
      "Loss: 9.129581417704767e-8\n",
      "Loss: 9.104650573723794e-8\n"
     ]
    },
    {
     "name": "stdout",
     "output_type": "stream",
     "text": [
      "Loss: 9.084733603284784e-8\n",
      "Loss: 9.066101322803766e-8\n",
      "Loss: 9.021469529334471e-8\n",
      "Loss: 8.857990508869495e-8\n",
      "Loss: 8.604478608945335e-8\n"
     ]
    },
    {
     "name": "stdout",
     "output_type": "stream",
     "text": [
      "Loss: 8.374640826534349e-8\n",
      "Loss: 8.247187650025729e-8\n",
      "Loss: 8.204249984896756e-8\n",
      "Loss: 8.147699102533358e-8\n",
      "Loss: 8.094034427538114e-8\n",
      "Loss: 8.051930915992933e-8\n"
     ]
    },
    {
     "name": "stdout",
     "output_type": "stream",
     "text": [
      "Loss: 8.027852983223962e-8\n",
      "Loss: 8.015966379594985e-8\n",
      "Loss: 8.008419479667135e-8\n",
      "Loss: 7.997830566999753e-8\n",
      "Loss: 7.982303686312003e-8\n"
     ]
    },
    {
     "name": "stdout",
     "output_type": "stream",
     "text": [
      "Loss: 7.954829654167559e-8\n",
      "Loss: 7.86385487281797e-8\n",
      "Loss: 7.575605445158097e-8\n",
      "Loss: 7.314383154579774e-8\n",
      "Loss: 7.180473275722017e-8\n"
     ]
    },
    {
     "name": "stdout",
     "output_type": "stream",
     "text": [
      "Loss: 7.128462221459517e-8\n",
      "Loss: 7.102406042990885e-8\n",
      "Loss: 7.093250202521617e-8\n",
      "Loss: 7.087642907465335e-8\n",
      "Loss: 7.077505645613988e-8\n"
     ]
    },
    {
     "name": "stdout",
     "output_type": "stream",
     "text": [
      "Loss: 7.055593105526513e-8\n",
      "Loss: 6.990370519386994e-8\n",
      "Loss: 6.808987784207372e-8\n",
      "Loss: 6.508552935525585e-8\n",
      "Loss: 6.201585426975939e-8\n"
     ]
    },
    {
     "name": "stdout",
     "output_type": "stream",
     "text": [
      "Loss: 6.010399025222318e-8\n",
      "Loss: 5.940956101309505e-8\n",
      "Loss: 5.897673993457136e-8\n",
      "Loss: 5.878346616943828e-8\n",
      "Loss: 5.865253745227431e-8\n"
     ]
    },
    {
     "name": "stdout",
     "output_type": "stream",
     "text": [
      "Loss: 5.853469907371876e-8\n",
      "Loss: 5.842996084890479e-8\n",
      "Loss: 5.8352961405826333e-8\n",
      "Loss: 5.8279899491394975e-8\n",
      "Loss: 5.815218648980269e-8\n"
     ]
    },
    {
     "name": "stdout",
     "output_type": "stream",
     "text": [
      "Loss: 5.786963879880251e-8\n",
      "Loss: 5.7083787659624114e-8\n",
      "Loss: 5.5609898028814546e-8\n",
      "Loss: 5.4306311525531984e-8\n",
      "Loss: 5.3680279325698265e-8\n",
      "Loss: 5.340752611988916e-8\n"
     ]
    },
    {
     "name": "stdout",
     "output_type": "stream",
     "text": [
      "Loss: 5.3303646442006606e-8\n",
      "Loss: 5.324550122572998e-8\n",
      "Loss: 5.3189919963587625e-8\n",
      "Loss: 5.312129541179836e-8\n",
      "Loss: 5.3007626783298814e-8\n"
     ]
    },
    {
     "name": "stdout",
     "output_type": "stream",
     "text": [
      "Loss: 5.261472634791508e-8\n",
      "Loss: 5.1101185100134585e-8\n",
      "Loss: 4.868636826419103e-8\n",
      "Loss: 4.7787845189007585e-8\n",
      "Loss: 4.762956505440687e-8\n",
      "Loss: 4.748873134518052e-8\n"
     ]
    },
    {
     "name": "stdout",
     "output_type": "stream",
     "text": [
      "Loss: 4.744308524632986e-8\n",
      "Loss: 4.741561239903725e-8\n",
      "Loss: 4.739034927726173e-8\n",
      "Loss: 4.733899057277502e-8\n",
      "Loss: 4.716397641344843e-8\n"
     ]
    },
    {
     "name": "stdout",
     "output_type": "stream",
     "text": [
      "Loss: 4.666211771562108e-8\n",
      "Loss: 4.558256603442253e-8\n",
      "Loss: 4.505602293885387e-8\n",
      "Loss: 4.475098182052963e-8\n",
      "Loss: 4.462755712382856e-8\n",
      "Loss: 4.4584959237735595e-8\n"
     ]
    },
    {
     "name": "stdout",
     "output_type": "stream",
     "text": [
      "Loss: 4.453154475551137e-8\n",
      "Loss: 4.449435902872279e-8\n",
      "Loss: 4.446330530982457e-8\n",
      "Loss: 4.442325185638837e-8\n",
      "Loss: 4.432632514634033e-8\n"
     ]
    },
    {
     "name": "stdout",
     "output_type": "stream",
     "text": [
      "Loss: 4.4081356984959614e-8\n",
      "Loss: 4.361429924793256e-8\n",
      "Loss: 4.296729736374264e-8\n",
      "Loss: 4.218905078452391e-8\n",
      "Loss: 4.1751935883004886e-8\n",
      "Loss: 4.1653348059788305e-8\n"
     ]
    },
    {
     "name": "stdout",
     "output_type": "stream",
     "text": [
      "Loss: 4.157151419239243e-8\n",
      "Loss: 4.15283894586106e-8\n",
      "Loss: 4.1504701329061865e-8\n",
      "Loss: 4.1479396362535426e-8\n",
      "Loss: 4.1428047607481313e-8\n"
     ]
    },
    {
     "name": "stdout",
     "output_type": "stream",
     "text": [
      "Loss: 4.1343501057182346e-8\n",
      "Loss: 4.1195324456109405e-8\n",
      "Loss: 4.086796975247628e-8\n",
      "Loss: 4.0202187802491927e-8\n",
      "Loss: 3.9358191321695807e-8\n"
     ]
    },
    {
     "name": "stdout",
     "output_type": "stream",
     "text": [
      "Loss: 3.901752148488461e-8\n",
      "Loss: 3.886502351664336e-8\n",
      "Loss: 3.883650187498363e-8\n",
      "Loss: 3.8818887248923e-8\n",
      "Loss: 3.879872277407911e-8\n",
      "Loss: 3.8742877649319975e-8\n"
     ]
    },
    {
     "name": "stdout",
     "output_type": "stream",
     "text": [
      "Loss: 3.858496820832706e-8\n",
      "Loss: 3.805445541867578e-8\n",
      "Loss: 3.689527353732311e-8\n",
      "Loss: 3.585330331596538e-8\n",
      "Loss: 3.528261883155166e-8\n",
      "Loss: 3.49581758206944e-8\n"
     ]
    },
    {
     "name": "stdout",
     "output_type": "stream",
     "text": [
      "Loss: 3.479422866018965e-8\n",
      "Loss: 3.469004629999089e-8\n",
      "Loss: 3.465171823280684e-8\n",
      "Loss: 3.463015014155593e-8\n",
      "Loss: 3.459511111200149e-8\n"
     ]
    },
    {
     "name": "stdout",
     "output_type": "stream",
     "text": [
      "Loss: 3.455247352332208e-8\n",
      "Loss: 3.451298846147161e-8\n",
      "Loss: 3.446264557301211e-8\n",
      "Loss: 3.437163867319004e-8\n",
      "Loss: 3.4092301436052977e-8\n"
     ]
    },
    {
     "name": "stdout",
     "output_type": "stream",
     "text": [
      "Loss: 3.352224777156563e-8\n",
      "Loss: 3.2777588008541935e-8\n",
      "Loss: 3.210649358872247e-8\n",
      "Loss: 3.167169585147981e-8\n",
      "Loss: 3.1088776249608396e-8\n"
     ]
    },
    {
     "name": "stdout",
     "output_type": "stream",
     "text": [
      "Loss: 3.077793925524654e-8\n",
      "Loss: 3.0644547481814024e-8\n",
      "Loss: 3.059698915082102e-8\n",
      "Loss: 3.057532187175864e-8\n",
      "Loss: 3.0558840417225736e-8\n"
     ]
    },
    {
     "name": "stdout",
     "output_type": "stream",
     "text": [
      "Loss: 3.054723685903298e-8\n",
      "Loss: 3.05351390784264e-8\n",
      "Loss: 3.0508695663387725e-8\n",
      "Loss: 3.042420368715288e-8\n",
      "Loss: 3.003214353700983e-8\n"
     ]
    },
    {
     "name": "stdout",
     "output_type": "stream",
     "text": [
      "Loss: 2.8457341746184418e-8\n",
      "Loss: 2.735847670559899e-8\n",
      "Loss: 2.7081300400571012e-8\n",
      "Loss: 2.646535883800758e-8\n",
      "Loss: 2.6309940859320652e-8\n",
      "Loss: 2.6233859926031187e-8\n"
     ]
    },
    {
     "name": "stdout",
     "output_type": "stream",
     "text": [
      "Loss: 2.6208535080593475e-8\n",
      "Loss: 2.6192418719718848e-8\n",
      "Loss: 2.617021058869348e-8\n",
      "Loss: 2.6152184758563513e-8\n",
      "Loss: 2.6131591738618994e-8\n"
     ]
    },
    {
     "name": "stdout",
     "output_type": "stream",
     "text": [
      "Loss: 2.6090950918466557e-8\n",
      "Loss: 2.6035529793679514e-8\n",
      "Loss: 2.593446435635011e-8\n",
      "Loss: 2.572000493476886e-8\n",
      "Loss: 2.521081214091293e-8\n"
     ]
    },
    {
     "name": "stdout",
     "output_type": "stream",
     "text": [
      "Loss: 2.455827260059119e-8\n",
      "Loss: 2.4184989750194133e-8\n",
      "Loss: 2.3753281841788693e-8\n",
      "Loss: 2.340704251181867e-8\n",
      "Loss: 2.323817960171297e-8\n",
      "Loss: 2.2943676024725517e-8\n"
     ]
    },
    {
     "name": "stdout",
     "output_type": "stream",
     "text": [
      "Loss: 2.2624369698906687e-8\n",
      "Loss: 2.2241878990238967e-8\n",
      "Loss: 2.1950807509341413e-8\n",
      "Loss: 2.1750383547674056e-8\n",
      "Loss: 2.1641675904474194e-8\n"
     ]
    },
    {
     "name": "stdout",
     "output_type": "stream",
     "text": [
      "Loss: 2.1585271798675692e-8\n",
      "Loss: 2.1548029102957177e-8\n",
      "Loss: 2.152534622812191e-8\n",
      "Loss: 2.151369906393738e-8\n",
      "Loss: 2.1505639421130436e-8\n"
     ]
    },
    {
     "name": "stdout",
     "output_type": "stream",
     "text": [
      "Loss: 2.14965144658394e-8\n",
      "Loss: 2.147993329923225e-8\n",
      "Loss: 2.145328840772125e-8\n",
      "Loss: 2.1414119441066755e-8\n",
      "Loss: 2.1384597115379106e-8\n"
     ]
    },
    {
     "name": "stdout",
     "output_type": "stream",
     "text": [
      "Loss: 2.1360967792199698e-8\n",
      "Loss: 2.1339266643345342e-8\n",
      "Loss: 2.132234340326477e-8\n",
      "Loss: 2.1277705689089902e-8\n",
      "Loss: 2.1195855553158628e-8\n"
     ]
    },
    {
     "name": "stdout",
     "output_type": "stream",
     "text": [
      "Loss: 2.1031803658453174e-8\n",
      "Loss: 2.0743369880186238e-8\n",
      "Loss: 2.0427805362038184e-8\n",
      "Loss: 2.0259033833940038e-8\n",
      "Loss: 2.0094747617812422e-8\n"
     ]
    },
    {
     "name": "stdout",
     "output_type": "stream",
     "text": [
      "Loss: 1.999371279449517e-8\n",
      "Loss: 1.994656722016862e-8\n",
      "Loss: 1.9930059496848314e-8\n",
      "Loss: 1.992217102144917e-8\n",
      "Loss: 1.991824604904251e-8\n"
     ]
    },
    {
     "name": "stdout",
     "output_type": "stream",
     "text": [
      "Loss: 1.9915572307834233e-8\n",
      "Loss: 1.9911008615400553e-8\n",
      "Loss: 1.990249483892068e-8\n",
      "Loss: 1.9876976803252956e-8\n",
      "Loss: 1.9740519445256342e-8\n"
     ]
    },
    {
     "name": "stdout",
     "output_type": "stream",
     "text": [
      "Loss: 1.931940476894318e-8\n",
      "Loss: 1.883047460186805e-8\n",
      "Loss: 1.825469004677478e-8\n",
      "Loss: 1.7998329001829107e-8\n",
      "Loss: 1.781442285696035e-8\n",
      "Loss: 1.772663934282337e-8\n"
     ]
    },
    {
     "name": "stdout",
     "output_type": "stream",
     "text": [
      "Loss: 1.7709315599676263e-8\n",
      "Loss: 1.7691571841203927e-8\n",
      "Loss: 1.768316113378901e-8\n",
      "Loss: 1.767894515603827e-8\n",
      "Loss: 1.767436725725348e-8\n"
     ]
    },
    {
     "name": "stdout",
     "output_type": "stream",
     "text": [
      "Loss: 1.76645484022281e-8\n",
      "Loss: 1.7644519679116308e-8\n",
      "Loss: 1.7614519789242065e-8\n",
      "Loss: 1.753720459023333e-8\n",
      "Loss: 1.730501089360567e-8\n"
     ]
    },
    {
     "name": "stdout",
     "output_type": "stream",
     "text": [
      "Loss: 1.6977750807279353e-8\n",
      "Loss: 1.6507809755780235e-8\n",
      "Loss: 1.6119955402076578e-8\n",
      "Loss: 1.5800119680434537e-8\n",
      "Loss: 1.5569311601328735e-8\n"
     ]
    },
    {
     "name": "stdout",
     "output_type": "stream",
     "text": [
      "Loss: 1.5366808266981357e-8\n",
      "Loss: 1.5214386725924895e-8\n",
      "Loss: 1.510813318251535e-8\n",
      "Loss: 1.4960142761440644e-8\n",
      "Loss: 1.4833004185042051e-8\n"
     ]
    },
    {
     "name": "stdout",
     "output_type": "stream",
     "text": [
      "Loss: 1.4698899655163023e-8\n",
      "Loss: 1.4610119582712201e-8\n",
      "Loss: 1.4571868640205568e-8\n",
      "Loss: 1.4538108080456408e-8\n",
      "Loss: 1.4515871090948087e-8\n",
      "Loss: 1.4504822679096616e-8\n"
     ]
    },
    {
     "name": "stdout",
     "output_type": "stream",
     "text": [
      "Loss: 1.449873263902135e-8\n",
      "Loss: 1.4493009675682979e-8\n",
      "Loss: 1.4488684258388537e-8\n",
      "Loss: 1.4483969990932497e-8\n",
      "Loss: 1.4479977384541128e-8\n"
     ]
    },
    {
     "name": "stdout",
     "output_type": "stream",
     "text": [
      "Loss: 1.4476761456880474e-8\n",
      "Loss: 1.4473028087797629e-8\n",
      "Loss: 1.4465425290090074e-8\n",
      "Loss: 1.4449660843825701e-8\n",
      "Loss: 1.4411642835567794e-8\n"
     ]
    },
    {
     "name": "stdout",
     "output_type": "stream",
     "text": [
      "Loss: 1.4295692848614755e-8\n",
      "Loss: 1.4003590499438102e-8\n",
      "Loss: 1.3622786347106313e-8\n",
      "Loss: 1.3379592755420451e-8\n",
      "Loss: 1.3073124854705802e-8\n",
      "Loss: 1.29538449357762e-8\n"
     ]
    }
   ],
   "source": [
    "function callback(p, l)\n",
    "    println(\"Loss: $l\")\n",
    "    return false\n",
    "end\n",
    "\n",
    "res = Optimization.solve(prob, BFGS(); maxiters=2000, callback=callback)"
   ]
  },
  {
   "cell_type": "code",
   "execution_count": null,
   "metadata": {},
   "outputs": [],
   "source": [
    "xs = reshape(range(-600, 600, length=1000), 1, :)\n",
    "u_pred = pinn.phi(xs, res.u)\n",
    "u_true = @. 100*sin(ω*xs)\n",
    "\n",
    "using Plots\n",
    "plot(vec(xs),vec(u_pred), label=\"pred\")\n",
    "plot!(vec(xs),vec(u_true), label=\"true\")"
   ]
  }
 ],
 "metadata": {
  "kernelspec": {
   "display_name": "Julia 1.9.0",
   "language": "julia",
   "name": "julia-1.9"
  },
  "language_info": {
   "file_extension": ".jl",
   "mimetype": "application/julia",
   "name": "julia",
   "version": "1.9.0"
  },
  "orig_nbformat": 4
 },
 "nbformat": 4,
 "nbformat_minor": 2
}
