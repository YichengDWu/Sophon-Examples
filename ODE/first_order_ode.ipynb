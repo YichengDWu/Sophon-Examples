{
 "cells": [
  {
   "cell_type": "code",
   "execution_count": 1,
   "metadata": {},
   "outputs": [
    {
     "data": {
      "text/latex": [
       "$$ \\begin{align}\n",
       "\\frac{\\mathrm{d} u\\left( t \\right)}{\\mathrm{d}t} =& \\cos\\left( 0.01 t \\right)\n",
       "\\end{align}\n",
       " $$"
      ],
      "text/plain": [
       "PDESystem\n",
       "Equations: Equation[Differential(t)(u(t)) ~ cos(0.01t)]\n",
       "Boundary Conditions: Equation[u(0) ~ 0]\n",
       "Domain: Symbolics.VarDomainPairing[Symbolics.VarDomainPairing(t, -600..600)]\n",
       "Dependent Variables: Num[u(t)]\n",
       "Independent Variables: Num[t]\n",
       "Parameters: SciMLBase.NullParameters()\n",
       "Default Parameter ValuesDict{Any, Any}()"
      ]
     },
     "metadata": {},
     "output_type": "display_data"
    }
   ],
   "source": [
    "using ModelingToolkit, Sophon, DomainSets\n",
    "using Optimization, OptimizationOptimJL\n",
    "\n",
    "@parameters t\n",
    "@variables u(..)\n",
    "Dₜ = Differential(t)\n",
    "ω = 0.01\n",
    "\n",
    "eq = Dₜ(u(t))~cos(0.01*t)\n",
    "bcs = [\n",
    "    u(0)~0,\n",
    "]\n",
    "\n",
    "domain = [t∈-600..600]\n",
    "@named ode = PDESystem(eq, bcs, domain, [t], [u(t)])"
   ]
  },
  {
   "cell_type": "code",
   "execution_count": 2,
   "metadata": {},
   "outputs": [
    {
     "data": {
      "text/plain": [
       "\u001b[38;2;86;182;194mOptimizationProblem\u001b[0m. In-place: \u001b[38;2;86;182;194mtrue\u001b[0m\n",
       "u0: \u001b[0mComponentVector{Float64}(layer_1 = (weight = [0.002697080373764038; -0.009475725702941418; … ; 6.007551928632893e-5; 0.005619778297841549;;], bias = [0.0; 0.0; … ; 0.0; 0.0;;]), layer_2 = (weight = [0.5644921660423279 -0.5170191526412964 … 0.1521855592727661 0.2215651422739029; -0.47357550263404846 0.34990063309669495 … -0.26299992203712463 -0.31563976407051086; … ; -0.5382025241851807 -0.0013928491389378905 … 0.022067314013838768 -0.22288498282432556; -0.48909905552864075 0.284065306186676 … 0.1294878125190735 -0.2591482698917389], bias = [0.0; 0.0; … ; 0.0; 0.0;;]), layer_3 = (weight = [-0.3126019835472107 0.3422688841819763 … -0.5054457783699036 -0.29168736934661865; -0.47509077191352844 0.5310904383659363 … 0.5437829494476318 -0.5511395931243896; … ; -0.45017358660697937 -0.2463662475347519 … -0.1712510883808136 -0.22401079535484314; 0.13801755011081696 0.06716284900903702 … 0.49868905544281006 0.5633015632629395], bias = [0.0; 0.0; … ; 0.0; 0.0;;]), layer_4 = (weight = [-0.16567561030387878 -0.20786719024181366 … 0.046795714646577835 -0.045296795666217804; -0.24049730598926544 0.42808815836906433 … 0.026686711236834526 0.19778195023536682; … ; 0.25401005148887634 -0.37495994567871094 … -0.17779923975467682 0.02408059500157833; -0.4469175338745117 -0.00041208771290257573 … -0.12526357173919678 -0.18068473041057587], bias = [0.0; 0.0; … ; 0.0; 0.0;;]), layer_5 = (weight = [-0.5910178422927856 0.4638839364051819 … -0.08262624591588974 -0.5063369274139404], bias = [0.0;;]))"
      ]
     },
     "metadata": {},
     "output_type": "display_data"
    }
   ],
   "source": [
    "sampler = QuasiRandomSampler(1000, 1)\n",
    "pinn = PINN(Siren(1,16,16,16,16,1; omega=0.01f0))\n",
    "strategy = NonAdaptiveTraining(1, 50)\n",
    "\n",
    "prob = Sophon.discretize(ode, pinn, sampler, strategy)"
   ]
  },
  {
   "cell_type": "code",
   "execution_count": 3,
   "metadata": {},
   "outputs": [
    {
     "name": "stdout",
     "output_type": "stream",
     "text": [
      "Loss: 0.4797419829208991\n"
     ]
    },
    {
     "name": "stdout",
     "output_type": "stream",
     "text": [
      "Loss: 0.4728865969566627\n"
     ]
    },
    {
     "name": "stdout",
     "output_type": "stream",
     "text": [
      "Loss: 0.46611381888183034\n",
      "Loss: 0.46560118350715063\n"
     ]
    },
    {
     "name": "stdout",
     "output_type": "stream",
     "text": [
      "Loss: 0.46443802828731734\n",
      "Loss: 0.4633316620547564\n",
      "Loss: 0.462915383632409\n"
     ]
    },
    {
     "name": "stdout",
     "output_type": "stream",
     "text": [
      "Loss: 0.4626338370887731\n",
      "Loss: 0.4618240584538558\n"
     ]
    },
    {
     "name": "stdout",
     "output_type": "stream",
     "text": [
      "Loss: 0.46161684826520305\n",
      "Loss: 0.46117698507532956\n"
     ]
    },
    {
     "name": "stdout",
     "output_type": "stream",
     "text": [
      "Loss: 0.46072901876686345\n",
      "Loss: 0.46059646235999857\n",
      "Loss: 0.4602164385857959\n"
     ]
    },
    {
     "name": "stdout",
     "output_type": "stream",
     "text": [
      "Loss: 0.45986859469451774\n",
      "Loss: 0.45977140995168014\n"
     ]
    },
    {
     "name": "stdout",
     "output_type": "stream",
     "text": [
      "Loss: 0.45966909748586143\n",
      "Loss: 0.4592711450242294\n",
      "Loss: 0.4571798190566863\n"
     ]
    },
    {
     "name": "stdout",
     "output_type": "stream",
     "text": [
      "Loss: 0.45536142842294264\n",
      "Loss: 0.45441718529658237\n",
      "Loss: 0.450539636559707\n",
      "Loss: 0.4492076320262807\n",
      "Loss: 0.44759414662298097\n",
      "Loss: 0.4437086636699056\n"
     ]
    },
    {
     "name": "stdout",
     "output_type": "stream",
     "text": [
      "Loss: 0.4415087319703609\n",
      "Loss: 0.4388513453957707\n",
      "Loss: 0.43562733311923246\n",
      "Loss: 0.43397665229371407\n",
      "Loss: 0.43039514796153416\n"
     ]
    },
    {
     "name": "stdout",
     "output_type": "stream",
     "text": [
      "Loss: 0.4278267694862355\n",
      "Loss: 0.4218125195833227\n",
      "Loss: 0.4137307667059059\n"
     ]
    },
    {
     "name": "stdout",
     "output_type": "stream",
     "text": [
      "Loss: 0.4086903633178216\n",
      "Loss: 0.4042059004906051\n",
      "Loss: 0.398719385677717\n"
     ]
    },
    {
     "name": "stdout",
     "output_type": "stream",
     "text": [
      "Loss: 0.3939591830979944\n",
      "Loss: 0.3920454269044545\n",
      "Loss: 0.3818661555373346\n"
     ]
    },
    {
     "name": "stdout",
     "output_type": "stream",
     "text": [
      "Loss: 0.3798584302153054\n",
      "Loss: 0.3768785862114042\n",
      "Loss: 0.3709478368594862\n",
      "Loss: 0.36916166136871187\n"
     ]
    },
    {
     "name": "stdout",
     "output_type": "stream",
     "text": [
      "Loss: 0.3674159578964118\n",
      "Loss: 0.3656345619213641\n",
      "Loss: 0.362879453132057\n"
     ]
    },
    {
     "name": "stdout",
     "output_type": "stream",
     "text": [
      "Loss: 0.359186223100911\n",
      "Loss: 0.35682145903956325\n",
      "Loss: 0.3545030088284908\n"
     ]
    },
    {
     "name": "stdout",
     "output_type": "stream",
     "text": [
      "Loss: 0.35319413589551607\n",
      "Loss: 0.35001216024929604\n",
      "Loss: 0.3487428646462324\n"
     ]
    },
    {
     "name": "stdout",
     "output_type": "stream",
     "text": [
      "Loss: 0.34724887912466207\n",
      "Loss: 0.3452591333263135\n",
      "Loss: 0.33187960654282245\n"
     ]
    },
    {
     "name": "stdout",
     "output_type": "stream",
     "text": [
      "Loss: 0.3310112701770388\n",
      "Loss: 0.3236331023193073\n",
      "Loss: 0.31920744678584223\n"
     ]
    },
    {
     "name": "stdout",
     "output_type": "stream",
     "text": [
      "Loss: 0.31841653322737395\n",
      "Loss: 0.3133567982533148\n",
      "Loss: 0.3106170195448547\n"
     ]
    },
    {
     "name": "stdout",
     "output_type": "stream",
     "text": [
      "Loss: 0.29514063446425415\n",
      "Loss: 0.2906656563269151\n"
     ]
    },
    {
     "name": "stdout",
     "output_type": "stream",
     "text": [
      "Loss: 0.2871606164921638\n",
      "Loss: 0.28579880430834353\n",
      "Loss: 0.27737409084353054\n",
      "Loss: 0.2759591430394486\n",
      "Loss: 0.2720279058343168\n"
     ]
    },
    {
     "name": "stdout",
     "output_type": "stream",
     "text": [
      "Loss: 0.2681849530220722\n",
      "Loss: 0.26663969286892225\n",
      "Loss: 0.2610595981138801\n"
     ]
    },
    {
     "name": "stdout",
     "output_type": "stream",
     "text": [
      "Loss: 0.2560942850070391\n",
      "Loss: 0.25352582848240784\n",
      "Loss: 0.24822050870493104\n"
     ]
    },
    {
     "name": "stdout",
     "output_type": "stream",
     "text": [
      "Loss: 0.23600456870946396\n",
      "Loss: 0.23545519284432911\n",
      "Loss: 0.22656330525123095\n",
      "Loss: 0.2247957018948977\n"
     ]
    },
    {
     "name": "stdout",
     "output_type": "stream",
     "text": [
      "Loss: 0.2232274109816043\n",
      "Loss: 0.21294881306741772\n",
      "Loss: 0.21252946321296853\n",
      "Loss: 0.209822427076205\n",
      "Loss: 0.20801047892877494\n"
     ]
    },
    {
     "name": "stdout",
     "output_type": "stream",
     "text": [
      "Loss: 0.2023484880760073\n",
      "Loss: 0.19943802130161528\n",
      "Loss: 0.19811899715843523\n",
      "Loss: 0.1906164129867884\n"
     ]
    },
    {
     "name": "stdout",
     "output_type": "stream",
     "text": [
      "Loss: 0.18958461294667034\n",
      "Loss: 0.18645103911129943\n",
      "Loss: 0.18380134867900866\n",
      "Loss: 0.17281688385404861\n"
     ]
    },
    {
     "name": "stdout",
     "output_type": "stream",
     "text": [
      "Loss: 0.17000424825205315\n",
      "Loss: 0.16883948516686462\n",
      "Loss: 0.16314845357573354\n"
     ]
    },
    {
     "name": "stdout",
     "output_type": "stream",
     "text": [
      "Loss: 0.1626798910735504\n",
      "Loss: 0.15986791752328264\n"
     ]
    },
    {
     "name": "stdout",
     "output_type": "stream",
     "text": [
      "Loss: 0.15546553787400766\n",
      "Loss: 0.15304540673066716\n",
      "Loss: 0.15200161355742797\n"
     ]
    },
    {
     "name": "stdout",
     "output_type": "stream",
     "text": [
      "Loss: 0.1465427799954207\n",
      "Loss: 0.1406458484454085\n",
      "Loss: 0.13975741716069284\n"
     ]
    },
    {
     "name": "stdout",
     "output_type": "stream",
     "text": [
      "Loss: 0.13145531750089398\n",
      "Loss: 0.12907476070929103\n"
     ]
    },
    {
     "name": "stdout",
     "output_type": "stream",
     "text": [
      "Loss: 0.1258818252159157\n",
      "Loss: 0.1252739041748674\n",
      "Loss: 0.12436475270310626\n"
     ]
    },
    {
     "name": "stdout",
     "output_type": "stream",
     "text": [
      "Loss: 0.1230871925290164\n",
      "Loss: 0.11901500976807408\n"
     ]
    },
    {
     "name": "stdout",
     "output_type": "stream",
     "text": [
      "Loss: 0.11768246874073428\n",
      "Loss: 0.1097467832610782\n"
     ]
    },
    {
     "name": "stdout",
     "output_type": "stream",
     "text": [
      "Loss: 0.10761245969068016\n",
      "Loss: 0.10610455281261152\n",
      "Loss: 0.10081816683488222\n"
     ]
    },
    {
     "name": "stdout",
     "output_type": "stream",
     "text": [
      "Loss: 0.10028030680829207\n",
      "Loss: 0.09797127922974574\n",
      "Loss: 0.09354547308252417\n"
     ]
    },
    {
     "name": "stdout",
     "output_type": "stream",
     "text": [
      "Loss: 0.0924395411164743\n",
      "Loss: 0.09033157525155885\n",
      "Loss: 0.08954759646234196\n"
     ]
    },
    {
     "name": "stdout",
     "output_type": "stream",
     "text": [
      "Loss: 0.08820098473971733\n",
      "Loss: 0.08680186131889248\n",
      "Loss: 0.08520065534137183\n"
     ]
    },
    {
     "name": "stdout",
     "output_type": "stream",
     "text": [
      "Loss: 0.08195833783697318\n",
      "Loss: 0.07853937597159506\n",
      "Loss: 0.07519124231870779\n"
     ]
    },
    {
     "name": "stdout",
     "output_type": "stream",
     "text": [
      "Loss: 0.07430096531557066\n",
      "Loss: 0.07189232605075016\n"
     ]
    },
    {
     "name": "stdout",
     "output_type": "stream",
     "text": [
      "Loss: 0.07033641265289953\n",
      "Loss: 0.06872227176074708\n",
      "Loss: 0.06577797234982913\n"
     ]
    },
    {
     "name": "stdout",
     "output_type": "stream",
     "text": [
      "Loss: 0.06391349707294423\n",
      "Loss: 0.06288175026284658\n"
     ]
    },
    {
     "name": "stdout",
     "output_type": "stream",
     "text": [
      "Loss: 0.06053527217622075\n",
      "Loss: 0.05730139677496816\n"
     ]
    },
    {
     "name": "stdout",
     "output_type": "stream",
     "text": [
      "Loss: 0.05515410776140174\n",
      "Loss: 0.05406291329018407\n"
     ]
    },
    {
     "name": "stdout",
     "output_type": "stream",
     "text": [
      "Loss: 0.05191530494036367\n",
      "Loss: 0.050707845811725424\n",
      "Loss: 0.049145532945454824\n",
      "Loss: 0.045599129035880065\n"
     ]
    },
    {
     "name": "stdout",
     "output_type": "stream",
     "text": [
      "Loss: 0.04471200343096324\n",
      "Loss: 0.04177760401308301\n",
      "Loss: 0.04064887236769873\n"
     ]
    },
    {
     "name": "stdout",
     "output_type": "stream",
     "text": [
      "Loss: 0.03962338274828929\n",
      "Loss: 0.033981872616445\n",
      "Loss: 0.03366680433232417\n",
      "Loss: 0.03264406484053961\n"
     ]
    },
    {
     "name": "stdout",
     "output_type": "stream",
     "text": [
      "Loss: 0.029863022682400868\n",
      "Loss: 0.02825110865942374\n",
      "Loss: 0.02728715115363099\n"
     ]
    },
    {
     "name": "stdout",
     "output_type": "stream",
     "text": [
      "Loss: 0.02564419794752095\n",
      "Loss: 0.023382527085802303\n"
     ]
    },
    {
     "name": "stdout",
     "output_type": "stream",
     "text": [
      "Loss: 0.02224955070219268\n",
      "Loss: 0.01995039152460671\n",
      "Loss: 0.019588310112560778\n",
      "Loss: 0.01738816846527107\n",
      "Loss: 0.016971953168088486\n"
     ]
    },
    {
     "name": "stdout",
     "output_type": "stream",
     "text": [
      "Loss: 0.016336466522931678\n",
      "Loss: 0.015954677974482717\n",
      "Loss: 0.015254373749314303\n"
     ]
    },
    {
     "name": "stdout",
     "output_type": "stream",
     "text": [
      "Loss: 0.014850297031879674\n",
      "Loss: 0.014005804139593299\n",
      "Loss: 0.01361472206802966\n"
     ]
    },
    {
     "name": "stdout",
     "output_type": "stream",
     "text": [
      "Loss: 0.013063257598374966\n",
      "Loss: 0.012766034843717066\n",
      "Loss: 0.012176624640963621\n"
     ]
    },
    {
     "name": "stdout",
     "output_type": "stream",
     "text": [
      "Loss: 0.011820696985325707\n",
      "Loss: 0.011637671435939098\n",
      "Loss: 0.010681403256435438\n"
     ]
    },
    {
     "name": "stdout",
     "output_type": "stream",
     "text": [
      "Loss: 0.01056713595778407\n",
      "Loss: 0.00972098265769241\n",
      "Loss: 0.00942570283762172\n"
     ]
    },
    {
     "name": "stdout",
     "output_type": "stream",
     "text": [
      "Loss: 0.00885833977332015\n",
      "Loss: 0.008567112215345155\n",
      "Loss: 0.007822030875758544\n",
      "Loss: 0.0076850429830595665\n"
     ]
    },
    {
     "name": "stdout",
     "output_type": "stream",
     "text": [
      "Loss: 0.00717656844549718\n",
      "Loss: 0.0070100418393697845\n",
      "Loss: 0.006692247474334962\n",
      "Loss: 0.0062529114109520995\n"
     ]
    },
    {
     "name": "stdout",
     "output_type": "stream",
     "text": [
      "Loss: 0.005882977659820072\n",
      "Loss: 0.005631832402072473\n"
     ]
    },
    {
     "name": "stdout",
     "output_type": "stream",
     "text": [
      "Loss: 0.005430696424700475\n",
      "Loss: 0.005165624528002756\n",
      "Loss: 0.005023629310714176\n"
     ]
    },
    {
     "name": "stdout",
     "output_type": "stream",
     "text": [
      "Loss: 0.00476260363181386\n",
      "Loss: 0.004365480650005352\n",
      "Loss: 0.004029195948480772\n"
     ]
    },
    {
     "name": "stdout",
     "output_type": "stream",
     "text": [
      "Loss: 0.0038514035514879805\n",
      "Loss: 0.0034812181416374556\n",
      "Loss: 0.0032915342981667613\n",
      "Loss: 0.002962033304140104\n"
     ]
    },
    {
     "name": "stdout",
     "output_type": "stream",
     "text": [
      "Loss: 0.002798321989836079\n",
      "Loss: 0.00240386648478951\n",
      "Loss: 0.0022698384821228205\n",
      "Loss: 0.0019698348781803827\n"
     ]
    },
    {
     "name": "stdout",
     "output_type": "stream",
     "text": [
      "Loss: 0.0018490171815356011\n",
      "Loss: 0.0015881993309316519\n",
      "Loss: 0.0015036900550432883\n",
      "Loss: 0.0014418454017980063\n",
      "Loss: 0.001215247484415573\n",
      "Loss: 0.0011896363535121727\n",
      "Loss: 0.0011673038215172528\n"
     ]
    },
    {
     "name": "stdout",
     "output_type": "stream",
     "text": [
      "Loss: 0.0009822198609424687\n",
      "Loss: 0.0009311506259837054\n",
      "Loss: 0.0007707040938512244\n",
      "Loss: 0.0006554484452446557\n",
      "Loss: 0.000620760246263487\n",
      "Loss: 0.0005714418820914165\n"
     ]
    },
    {
     "name": "stdout",
     "output_type": "stream",
     "text": [
      "Loss: 0.0005308065121987404\n",
      "Loss: 0.0004880163029778437\n",
      "Loss: 0.0004014097855040958\n"
     ]
    },
    {
     "name": "stdout",
     "output_type": "stream",
     "text": [
      "Loss: 0.0003629327921575857\n",
      "Loss: 0.0003483226919176797\n",
      "Loss: 0.0002959307164946995\n",
      "Loss: 0.00028361687485650705\n",
      "Loss: 0.00024412997843029888\n",
      "Loss: 0.00022917251067529495\n",
      "Loss: 0.00021818988659842045\n"
     ]
    },
    {
     "name": "stdout",
     "output_type": "stream",
     "text": [
      "Loss: 0.00019286635532942689\n",
      "Loss: 0.0001807778597897965\n",
      "Loss: 0.00015821664364448537\n",
      "Loss: 0.00015459094602195852\n",
      "Loss: 0.0001439601879361488\n",
      "Loss: 0.00012364066089482444\n",
      "Loss: 0.0001155927182171369\n"
     ]
    },
    {
     "name": "stdout",
     "output_type": "stream",
     "text": [
      "Loss: 0.00010786713130974089\n",
      "Loss: 0.00010208924356884107\n",
      "Loss: 9.357597103961876e-5\n",
      "Loss: 8.498617648044036e-5\n",
      "Loss: 8.161023583609398e-5\n",
      "Loss: 7.675236131938836e-5\n",
      "Loss: 7.297348224113475e-5\n",
      "Loss: 6.814881126020254e-5\n"
     ]
    },
    {
     "name": "stdout",
     "output_type": "stream",
     "text": [
      "Loss: 6.330176456576554e-5\n",
      "Loss: 5.950736448823668e-5\n",
      "Loss: 5.591406207611207e-5\n",
      "Loss: 5.27179475988132e-5\n",
      "Loss: 4.891195425100284e-5\n",
      "Loss: 4.526542399226814e-5\n",
      "Loss: 4.261245654576083e-5\n"
     ]
    },
    {
     "name": "stdout",
     "output_type": "stream",
     "text": [
      "Loss: 3.993311800263665e-5\n",
      "Loss: 3.7258700578913534e-5\n",
      "Loss: 3.596412826159468e-5\n",
      "Loss: 3.433353015515609e-5\n",
      "Loss: 3.227857197433574e-5\n",
      "Loss: 3.076162830858319e-5\n",
      "Loss: 2.993413942488648e-5\n"
     ]
    },
    {
     "name": "stdout",
     "output_type": "stream",
     "text": [
      "Loss: 2.9174603626256454e-5\n",
      "Loss: 2.7890732887502018e-5\n",
      "Loss: 2.6277475815583124e-5\n",
      "Loss: 2.5197760910623226e-5\n",
      "Loss: 2.450442509192188e-5\n",
      "Loss: 2.314868267737696e-5\n",
      "Loss: 2.197532190431319e-5\n"
     ]
    },
    {
     "name": "stdout",
     "output_type": "stream",
     "text": [
      "Loss: 2.0821681416232152e-5\n",
      "Loss: 1.9399823058617502e-5\n",
      "Loss: 1.8345909911573827e-5\n",
      "Loss: 1.7501087614830105e-5\n",
      "Loss: 1.6989155500833746e-5\n",
      "Loss: 1.653340758177461e-5\n"
     ]
    },
    {
     "name": "stdout",
     "output_type": "stream",
     "text": [
      "Loss: 1.6081280032220557e-5\n",
      "Loss: 1.553622861265386e-5\n",
      "Loss: 1.5098689708478328e-5\n",
      "Loss: 1.4845263552557691e-5\n",
      "Loss: 1.443602621907994e-5\n",
      "Loss: 1.3933781293179531e-5\n"
     ]
    },
    {
     "name": "stdout",
     "output_type": "stream",
     "text": [
      "Loss: 1.3191970768077276e-5\n",
      "Loss: 1.241558810015089e-5\n",
      "Loss: 1.1847387274593068e-5\n",
      "Loss: 1.134349257731346e-5\n",
      "Loss: 1.1111210162687127e-5\n",
      "Loss: 1.0885246623467835e-5\n"
     ]
    },
    {
     "name": "stdout",
     "output_type": "stream",
     "text": [
      "Loss: 1.0641566779997481e-5\n",
      "Loss: 1.0259235187972497e-5\n",
      "Loss: 9.972348339476168e-6\n",
      "Loss: 9.640561451704689e-6\n",
      "Loss: 9.248296338955902e-6\n"
     ]
    },
    {
     "name": "stdout",
     "output_type": "stream",
     "text": [
      "Loss: 8.54154253404944e-6\n",
      "Loss: 7.912981452174587e-6\n",
      "Loss: 7.60353748562197e-6\n",
      "Loss: 7.151806246803199e-6\n",
      "Loss: 6.790161465324375e-6\n"
     ]
    },
    {
     "name": "stdout",
     "output_type": "stream",
     "text": [
      "Loss: 6.446008071527536e-6\n",
      "Loss: 6.214461017254012e-6\n",
      "Loss: 5.835678494172434e-6\n",
      "Loss: 5.462622102523671e-6\n",
      "Loss: 5.05979498892857e-6\n",
      "Loss: 4.843253215592659e-6\n"
     ]
    },
    {
     "name": "stdout",
     "output_type": "stream",
     "text": [
      "Loss: 4.529956990898311e-6\n",
      "Loss: 4.369932079068445e-6\n",
      "Loss: 4.196157116055263e-6\n",
      "Loss: 4.067659249808672e-6\n",
      "Loss: 3.922282225081281e-6\n"
     ]
    },
    {
     "name": "stdout",
     "output_type": "stream",
     "text": [
      "Loss: 3.8126152887497102e-6\n",
      "Loss: 3.6946656158918137e-6\n",
      "Loss: 3.5789902377577985e-6\n",
      "Loss: 3.4922699343953814e-6\n",
      "Loss: 3.3471165577177875e-6\n"
     ]
    },
    {
     "name": "stdout",
     "output_type": "stream",
     "text": [
      "Loss: 3.1808811600048825e-6\n",
      "Loss: 2.9034596223300672e-6\n",
      "Loss: 2.6802126954024645e-6\n",
      "Loss: 2.5594258988693113e-6\n",
      "Loss: 2.456908963849395e-6\n"
     ]
    },
    {
     "name": "stdout",
     "output_type": "stream",
     "text": [
      "Loss: 2.3574902096763285e-6\n",
      "Loss: 2.279737382734694e-6\n",
      "Loss: 2.1918580375293666e-6\n",
      "Loss: 2.0979628474227347e-6\n",
      "Loss: 2.021758334475081e-6\n"
     ]
    },
    {
     "name": "stdout",
     "output_type": "stream",
     "text": [
      "Loss: 1.967942469340743e-6\n",
      "Loss: 1.9279347211347035e-6\n",
      "Loss: 1.8824952726428336e-6\n",
      "Loss: 1.846621852663866e-6\n",
      "Loss: 1.8099985955698966e-6\n"
     ]
    },
    {
     "name": "stdout",
     "output_type": "stream",
     "text": [
      "Loss: 1.783847684277652e-6\n",
      "Loss: 1.7607717946122207e-6\n",
      "Loss: 1.740662586081181e-6\n",
      "Loss: 1.7161582919186699e-6\n"
     ]
    },
    {
     "name": "stdout",
     "output_type": "stream",
     "text": [
      "Loss: 1.6440921601055572e-6\n",
      "Loss: 1.5447844275092493e-6\n",
      "Loss: 1.486181962485328e-6\n",
      "Loss: 1.4537831656333822e-6\n",
      "Loss: 1.4350252742725485e-6\n"
     ]
    },
    {
     "name": "stdout",
     "output_type": "stream",
     "text": [
      "Loss: 1.4203548016511939e-6\n",
      "Loss: 1.3883933710051041e-6\n",
      "Loss: 1.300809189044329e-6\n",
      "Loss: 1.1906474090301357e-6\n",
      "Loss: 1.1265344252169001e-6\n"
     ]
    },
    {
     "name": "stdout",
     "output_type": "stream",
     "text": [
      "Loss: 1.0964560893723147e-6\n",
      "Loss: 1.0848637941818719e-6\n",
      "Loss: 1.0808278121169473e-6\n",
      "Loss: 1.0742208514198109e-6\n",
      "Loss: 1.063857198602628e-6\n"
     ]
    },
    {
     "name": "stdout",
     "output_type": "stream",
     "text": [
      "Loss: 1.0435925678950325e-6\n",
      "Loss: 1.0171544740163492e-6\n",
      "Loss: 9.989788060235758e-7\n",
      "Loss: 9.913293623017728e-7\n",
      "Loss: 9.849700240036829e-7\n"
     ]
    },
    {
     "name": "stdout",
     "output_type": "stream",
     "text": [
      "Loss: 9.772263581970072e-7\n",
      "Loss: 9.617299140548944e-7\n",
      "Loss: 9.336219825436216e-7\n",
      "Loss: 9.08852220945612e-7\n",
      "Loss: 8.97531797287284e-7\n"
     ]
    },
    {
     "name": "stdout",
     "output_type": "stream",
     "text": [
      "Loss: 8.926121253127246e-7\n",
      "Loss: 8.875831842756119e-7\n",
      "Loss: 8.733550281883127e-7\n",
      "Loss: 8.476199114463179e-7\n"
     ]
    },
    {
     "name": "stdout",
     "output_type": "stream",
     "text": [
      "Loss: 8.407994708048396e-7\n",
      "Loss: 8.383855701764626e-7\n",
      "Loss: 8.337249940879589e-7\n",
      "Loss: 8.233208257119177e-7\n",
      "Loss: 8.078393708081224e-7\n"
     ]
    },
    {
     "name": "stdout",
     "output_type": "stream",
     "text": [
      "Loss: 7.94419409426112e-7\n",
      "Loss: 7.842140913830226e-7\n",
      "Loss: 7.77659323422506e-7\n",
      "Loss: 7.724495127388709e-7\n"
     ]
    },
    {
     "name": "stdout",
     "output_type": "stream",
     "text": [
      "Loss: 7.674469014786933e-7\n",
      "Loss: 7.624768616977103e-7\n",
      "Loss: 7.581285087580324e-7\n",
      "Loss: 7.489855116042091e-7\n",
      "Loss: 7.127300190696455e-7\n"
     ]
    },
    {
     "name": "stdout",
     "output_type": "stream",
     "text": [
      "Loss: 6.449180178260308e-7\n",
      "Loss: 6.078440603631337e-7\n",
      "Loss: 5.772245913934629e-7\n",
      "Loss: 5.611432950024135e-7\n",
      "Loss: 5.578245127836401e-7\n",
      "Loss: 5.55949041339813e-7\n"
     ]
    },
    {
     "name": "stdout",
     "output_type": "stream",
     "text": [
      "Loss: 5.549920460051547e-7\n",
      "Loss: 5.530422945672769e-7\n",
      "Loss: 5.496027690231537e-7\n",
      "Loss: 5.393700716109878e-7\n",
      "Loss: 5.203384373762933e-7\n"
     ]
    },
    {
     "name": "stdout",
     "output_type": "stream",
     "text": [
      "Loss: 5.054178741484534e-7\n",
      "Loss: 4.983360490436537e-7\n",
      "Loss: 4.942802721991676e-7\n",
      "Loss: 4.917339448624144e-7\n",
      "Loss: 4.906041609304234e-7\n",
      "Loss: 4.884075785343104e-7\n"
     ]
    },
    {
     "name": "stdout",
     "output_type": "stream",
     "text": [
      "Loss: 4.789597072463358e-7\n",
      "Loss: 4.587418767643747e-7\n",
      "Loss: 4.4637589124362566e-7\n",
      "Loss: 4.3679743190678185e-7\n",
      "Loss: 4.2716017867420835e-7\n"
     ]
    },
    {
     "name": "stdout",
     "output_type": "stream",
     "text": [
      "Loss: 4.234631497167397e-7\n",
      "Loss: 4.2263749227096074e-7\n",
      "Loss: 4.219256249658929e-7\n",
      "Loss: 4.198516172534889e-7\n"
     ]
    },
    {
     "name": "stdout",
     "output_type": "stream",
     "text": [
      "Loss: 4.1058259237216806e-7\n",
      "Loss: 3.9492610509060866e-7\n",
      "Loss: 3.8402063637344497e-7\n",
      "Loss: 3.8244026125261415e-7\n",
      "Loss: 3.81948935417075e-7\n",
      "Loss: 3.8165950219246503e-7\n"
     ]
    },
    {
     "name": "stdout",
     "output_type": "stream",
     "text": [
      "Loss: 3.812994850108978e-7\n",
      "Loss: 3.805616585282892e-7\n",
      "Loss: 3.785736435245689e-7\n",
      "Loss: 3.6654719545571336e-7\n",
      "Loss: 3.465437750828345e-7\n"
     ]
    },
    {
     "name": "stdout",
     "output_type": "stream",
     "text": [
      "Loss: 3.312199993462118e-7\n",
      "Loss: 3.1703911434848804e-7\n",
      "Loss: 3.050567488186294e-7\n",
      "Loss: 3.011015698804039e-7\n",
      "Loss: 2.9931610886613605e-7\n",
      "Loss: 2.977909558732019e-7\n"
     ]
    },
    {
     "name": "stdout",
     "output_type": "stream",
     "text": [
      "Loss: 2.97129170291505e-7\n",
      "Loss: 2.9636804539770743e-7\n",
      "Loss: 2.9548465424599683e-7\n",
      "Loss: 2.9364366313641627e-7\n",
      "Loss: 2.905986683179931e-7\n"
     ]
    },
    {
     "name": "stdout",
     "output_type": "stream",
     "text": [
      "Loss: 2.8669777837306595e-7\n",
      "Loss: 2.802228051666711e-7\n",
      "Loss: 2.7076669811966476e-7\n",
      "Loss: 2.680401052217001e-7\n",
      "Loss: 2.631012218396944e-7\n"
     ]
    },
    {
     "name": "stdout",
     "output_type": "stream",
     "text": [
      "Loss: 2.568973721038906e-7\n",
      "Loss: 2.4382379846194756e-7\n",
      "Loss: 2.3203586737312531e-7\n",
      "Loss: 2.2221347693841956e-7\n",
      "Loss: 2.1456430599616052e-7\n"
     ]
    },
    {
     "name": "stdout",
     "output_type": "stream",
     "text": [
      "Loss: 2.0591684527888102e-7\n",
      "Loss: 1.9842055467057666e-7\n",
      "Loss: 1.9076446159745191e-7\n",
      "Loss: 1.8477717891886915e-7\n"
     ]
    },
    {
     "name": "stdout",
     "output_type": "stream",
     "text": [
      "Loss: 1.815394514261862e-7\n",
      "Loss: 1.7987009506097452e-7\n",
      "Loss: 1.792465809102468e-7\n",
      "Loss: 1.78723708001228e-7\n"
     ]
    },
    {
     "name": "stdout",
     "output_type": "stream",
     "text": [
      "Loss: 1.7807884260176662e-7\n",
      "Loss: 1.769276826531916e-7\n",
      "Loss: 1.7546322595437832e-7\n",
      "Loss: 1.7401015904184944e-7\n"
     ]
    },
    {
     "name": "stdout",
     "output_type": "stream",
     "text": [
      "Loss: 1.7225326395664354e-7\n",
      "Loss: 1.7045508895312597e-7\n",
      "Loss: 1.6799018663468184e-7\n",
      "Loss: 1.6586342669730605e-7\n",
      "Loss: 1.6278631370362027e-7\n",
      "Loss: 1.5925914906265963e-7\n"
     ]
    },
    {
     "name": "stdout",
     "output_type": "stream",
     "text": [
      "Loss: 1.5472999329335685e-7\n",
      "Loss: 1.5352290234094715e-7\n",
      "Loss: 1.5106637020532238e-7\n",
      "Loss: 1.4966778395005796e-7\n",
      "Loss: 1.4817907722225709e-7\n"
     ]
    },
    {
     "name": "stdout",
     "output_type": "stream",
     "text": [
      "Loss: 1.4724602301565274e-7\n",
      "Loss: 1.4647565292242396e-7\n",
      "Loss: 1.4581512736593766e-7\n",
      "Loss: 1.4480080157835004e-7\n"
     ]
    },
    {
     "name": "stdout",
     "output_type": "stream",
     "text": [
      "Loss: 1.4413529438574107e-7\n",
      "Loss: 1.4392098985800543e-7\n",
      "Loss: 1.4334030599119508e-7\n",
      "Loss: 1.42813193339103e-7\n",
      "Loss: 1.4220502608949343e-7\n"
     ]
    },
    {
     "name": "stdout",
     "output_type": "stream",
     "text": [
      "Loss: 1.4134619801239816e-7\n",
      "Loss: 1.3979926886910534e-7\n",
      "Loss: 1.37349501510583e-7\n",
      "Loss: 1.3566588116161218e-7\n"
     ]
    },
    {
     "name": "stdout",
     "output_type": "stream",
     "text": [
      "Loss: 1.330705648586877e-7\n",
      "Loss: 1.2845768932022333e-7\n",
      "Loss: 1.247292574566766e-7\n",
      "Loss: 1.22630812801036e-7\n"
     ]
    },
    {
     "name": "stdout",
     "output_type": "stream",
     "text": [
      "Loss: 1.210066539179814e-7\n",
      "Loss: 1.1913258413008315e-7\n",
      "Loss: 1.173747309659879e-7\n",
      "Loss: 1.1645374780525509e-7\n",
      "Loss: 1.1605233493524962e-7\n"
     ]
    },
    {
     "name": "stdout",
     "output_type": "stream",
     "text": [
      "Loss: 1.1572913275609679e-7\n",
      "Loss: 1.1546240604221891e-7\n",
      "Loss: 1.1524499745358622e-7\n",
      "Loss: 1.1511725362296845e-7\n"
     ]
    },
    {
     "name": "stdout",
     "output_type": "stream",
     "text": [
      "Loss: 1.1503156913727203e-7\n",
      "Loss: 1.1486948612953049e-7\n",
      "Loss: 1.1459520779520508e-7\n",
      "Loss: 1.1401663740729943e-7\n",
      "Loss: 1.1290206010845074e-7\n"
     ]
    },
    {
     "name": "stdout",
     "output_type": "stream",
     "text": [
      "Loss: 1.1077267120819084e-7\n",
      "Loss: 1.0816080609151382e-7\n",
      "Loss: 1.0653763129716648e-7\n",
      "Loss: 1.0475626582135533e-7\n",
      "Loss: 1.0351881927515276e-7\n"
     ]
    },
    {
     "name": "stdout",
     "output_type": "stream",
     "text": [
      "Loss: 1.0296834095060287e-7\n",
      "Loss: 1.0277025699744419e-7\n",
      "Loss: 1.0262421698168418e-7\n",
      "Loss: 1.0252380573456937e-7\n",
      "Loss: 1.0232749772839325e-7\n"
     ]
    },
    {
     "name": "stdout",
     "output_type": "stream",
     "text": [
      "Loss: 1.0145721118912736e-7\n",
      "Loss: 9.945803636843547e-8\n",
      "Loss: 9.682448300412212e-8\n",
      "Loss: 9.590255407426289e-8\n",
      "Loss: 9.484788747506119e-8\n",
      "Loss: 9.348325857874153e-8\n"
     ]
    },
    {
     "name": "stdout",
     "output_type": "stream",
     "text": [
      "Loss: 9.175748563452162e-8\n",
      "Loss: 8.89862983572719e-8\n",
      "Loss: 8.760009205242967e-8\n",
      "Loss: 8.721433060639857e-8\n",
      "Loss: 8.705261566468331e-8\n"
     ]
    },
    {
     "name": "stdout",
     "output_type": "stream",
     "text": [
      "Loss: 8.697728782297612e-8\n",
      "Loss: 8.692859905445204e-8\n",
      "Loss: 8.68533853777063e-8\n",
      "Loss: 8.662951237181215e-8\n"
     ]
    },
    {
     "name": "stdout",
     "output_type": "stream",
     "text": [
      "Loss: 8.632197919471912e-8\n",
      "Loss: 8.611432547296264e-8\n",
      "Loss: 8.592927033460713e-8\n",
      "Loss: 8.56900138316189e-8\n",
      "Loss: 8.500824884423096e-8\n"
     ]
    },
    {
     "name": "stdout",
     "output_type": "stream",
     "text": [
      "Loss: 8.289129898479396e-8\n",
      "Loss: 8.059846001661243e-8\n",
      "Loss: 7.892585504895772e-8\n",
      "Loss: 7.83030656721625e-8\n",
      "Loss: 7.765084210923719e-8\n",
      "Loss: 7.689016724143867e-8\n"
     ]
    },
    {
     "name": "stdout",
     "output_type": "stream",
     "text": [
      "Loss: 7.630404516123948e-8\n",
      "Loss: 7.594822107865604e-8\n",
      "Loss: 7.578205059065404e-8\n",
      "Loss: 7.56956277135003e-8\n",
      "Loss: 7.564608277224425e-8\n"
     ]
    },
    {
     "name": "stdout",
     "output_type": "stream",
     "text": [
      "Loss: 7.559987098329383e-8\n",
      "Loss: 7.554829558450223e-8\n",
      "Loss: 7.549860664389599e-8\n",
      "Loss: 7.541632237194622e-8\n",
      "Loss: 7.53151145797752e-8\n"
     ]
    },
    {
     "name": "stdout",
     "output_type": "stream",
     "text": [
      "Loss: 7.523296415305624e-8\n",
      "Loss: 7.503290013777326e-8\n",
      "Loss: 7.451733573262359e-8\n",
      "Loss: 7.371623500042196e-8\n",
      "Loss: 7.222816262069019e-8\n"
     ]
    },
    {
     "name": "stdout",
     "output_type": "stream",
     "text": [
      "Loss: 6.902500903361771e-8\n",
      "Loss: 6.652747274897065e-8\n",
      "Loss: 6.52915538869028e-8\n",
      "Loss: 6.447064045465911e-8\n",
      "Loss: 6.350489571891121e-8\n",
      "Loss: 6.328124811273953e-8\n",
      "Loss: 6.306351250019468e-8\n"
     ]
    },
    {
     "name": "stdout",
     "output_type": "stream",
     "text": [
      "Loss: 6.290171831682832e-8\n",
      "Loss: 6.281637670006234e-8\n",
      "Loss: 6.275903340629782e-8\n",
      "Loss: 6.271383414805042e-8\n",
      "Loss: 6.267242957560848e-8\n"
     ]
    },
    {
     "name": "stdout",
     "output_type": "stream",
     "text": [
      "Loss: 6.262385880935328e-8\n",
      "Loss: 6.257219416098358e-8\n",
      "Loss: 6.253848811551914e-8\n",
      "Loss: 6.250541125280237e-8\n",
      "Loss: 6.244735627527994e-8\n"
     ]
    },
    {
     "name": "stdout",
     "output_type": "stream",
     "text": [
      "Loss: 6.229286520938243e-8\n",
      "Loss: 6.164199871884172e-8\n",
      "Loss: 5.983487830262576e-8\n",
      "Loss: 5.886201383671796e-8\n",
      "Loss: 5.761580168529048e-8\n",
      "Loss: 5.6744336438178875e-8\n"
     ]
    },
    {
     "name": "stdout",
     "output_type": "stream",
     "text": [
      "Loss: 5.5990902327810456e-8\n",
      "Loss: 5.5452306196227726e-8\n",
      "Loss: 5.4918313603042195e-8\n",
      "Loss: 5.427466871312036e-8\n",
      "Loss: 5.3810329723478513e-8\n",
      "Loss: 5.342106082491931e-8\n"
     ]
    },
    {
     "name": "stdout",
     "output_type": "stream",
     "text": [
      "Loss: 5.2874993157238514e-8\n",
      "Loss: 5.260175968786707e-8\n",
      "Loss: 5.233835473828346e-8\n",
      "Loss: 5.225587749279044e-8\n",
      "Loss: 5.2156434330257246e-8\n",
      "Loss: 5.2086185532512855e-8\n"
     ]
    },
    {
     "name": "stdout",
     "output_type": "stream",
     "text": [
      "Loss: 5.2036232455352794e-8\n",
      "Loss: 5.201188886306434e-8\n",
      "Loss: 5.197754859241143e-8\n",
      "Loss: 5.1932637165491947e-8\n",
      "Loss: 5.1901553957179295e-8\n"
     ]
    },
    {
     "name": "stdout",
     "output_type": "stream",
     "text": [
      "Loss: 5.185751135459861e-8\n",
      "Loss: 5.176719240402968e-8\n",
      "Loss: 5.155338251450146e-8\n",
      "Loss: 5.1192881015295634e-8\n"
     ]
    },
    {
     "name": "stdout",
     "output_type": "stream",
     "text": [
      "Loss: 5.037548383626414e-8\n",
      "Loss: 4.925218241165223e-8\n",
      "Loss: 4.834644266372752e-8\n",
      "Loss: 4.751518927487947e-8\n",
      "Loss: 4.6801861306936546e-8\n",
      "Loss: 4.569205866244004e-8\n",
      "Loss: 4.456015755071974e-8\n"
     ]
    },
    {
     "name": "stdout",
     "output_type": "stream",
     "text": [
      "Loss: 4.303156957408412e-8\n",
      "Loss: 4.218492149518436e-8\n",
      "Loss: 4.1471111797825885e-8\n",
      "Loss: 4.059758977598208e-8\n",
      "Loss: 4.024076390435791e-8\n",
      "Loss: 3.988773753393805e-8\n",
      "Loss: 3.9651244360012416e-8\n"
     ]
    },
    {
     "name": "stdout",
     "output_type": "stream",
     "text": [
      "Loss: 3.941517697750208e-8\n",
      "Loss: 3.925483253328264e-8\n",
      "Loss: 3.902285768186805e-8\n",
      "Loss: 3.8871678999082874e-8\n",
      "Loss: 3.8784491767998175e-8\n",
      "Loss: 3.87132242949476e-8\n",
      "Loss: 3.8664901305683775e-8\n"
     ]
    },
    {
     "name": "stdout",
     "output_type": "stream",
     "text": [
      "Loss: 3.858357344651308e-8\n",
      "Loss: 3.849070701399033e-8\n",
      "Loss: 3.8418119738533415e-8\n",
      "Loss: 3.833632304837218e-8\n",
      "Loss: 3.819872338487525e-8\n"
     ]
    },
    {
     "name": "stdout",
     "output_type": "stream",
     "text": [
      "Loss: 3.809825130248172e-8\n",
      "Loss: 3.803132494681972e-8\n",
      "Loss: 3.798209457938934e-8\n",
      "Loss: 3.792474176965207e-8\n",
      "Loss: 3.788205281655857e-8\n"
     ]
    },
    {
     "name": "stdout",
     "output_type": "stream",
     "text": [
      "Loss: 3.785136360379345e-8\n",
      "Loss: 3.783612894356167e-8\n",
      "Loss: 3.782622508784443e-8\n",
      "Loss: 3.7816859045842434e-8\n",
      "Loss: 3.780596869712057e-8\n"
     ]
    },
    {
     "name": "stdout",
     "output_type": "stream",
     "text": [
      "Loss: 3.778478701493046e-8\n",
      "Loss: 3.7749573699521534e-8\n",
      "Loss: 3.770803948964652e-8\n",
      "Loss: 3.7666776376216986e-8\n",
      "Loss: 3.758979570390551e-8\n",
      "Loss: 3.744512074936973e-8\n"
     ]
    },
    {
     "name": "stdout",
     "output_type": "stream",
     "text": [
      "Loss: 3.723050896377446e-8\n",
      "Loss: 3.707837536521283e-8\n",
      "Loss: 3.688029434192915e-8\n",
      "Loss: 3.667147988847565e-8\n",
      "Loss: 3.6382793459796614e-8\n",
      "Loss: 3.610469192904411e-8\n"
     ]
    },
    {
     "name": "stdout",
     "output_type": "stream",
     "text": [
      "Loss: 3.583426224852969e-8\n",
      "Loss: 3.5730523107528326e-8\n",
      "Loss: 3.547425620664957e-8\n",
      "Loss: 3.5193198676286404e-8\n",
      "Loss: 3.503025918219944e-8\n",
      "Loss: 3.494342803088327e-8\n",
      "Loss: 3.4819875162611526e-8\n"
     ]
    },
    {
     "name": "stdout",
     "output_type": "stream",
     "text": [
      "Loss: 3.4720641160728755e-8\n",
      "Loss: 3.464815963646185e-8\n",
      "Loss: 3.458787105620471e-8\n",
      "Loss: 3.453092468665791e-8\n",
      "Loss: 3.450100577828862e-8\n",
      "Loss: 3.447665621518634e-8\n"
     ]
    },
    {
     "name": "stdout",
     "output_type": "stream",
     "text": [
      "Loss: 3.444922990601708e-8\n",
      "Loss: 3.441380286838536e-8\n",
      "Loss: 3.436867843256298e-8\n",
      "Loss: 3.431558859773801e-8\n",
      "Loss: 3.425087144462111e-8\n"
     ]
    },
    {
     "name": "stdout",
     "output_type": "stream",
     "text": [
      "Loss: 3.4177578830270855e-8\n",
      "Loss: 3.408792785527662e-8\n",
      "Loss: 3.402072813185124e-8\n",
      "Loss: 3.3902406458630514e-8\n",
      "Loss: 3.38488154969703e-8\n",
      "Loss: 3.37874021462547e-8\n"
     ]
    },
    {
     "name": "stdout",
     "output_type": "stream",
     "text": [
      "Loss: 3.37385816313052e-8\n",
      "Loss: 3.369294324106528e-8\n",
      "Loss: 3.3658070975914395e-8\n",
      "Loss: 3.361627057816716e-8\n",
      "Loss: 3.355379661375781e-8\n",
      "Loss: 3.348874357327333e-8\n"
     ]
    },
    {
     "name": "stdout",
     "output_type": "stream",
     "text": [
      "Loss: 3.3440470321894554e-8\n",
      "Loss: 3.338227828525901e-8\n",
      "Loss: 3.331911269253129e-8\n",
      "Loss: 3.328841636985837e-8\n",
      "Loss: 3.323895109840304e-8\n",
      "Loss: 3.3184830811448016e-8\n"
     ]
    },
    {
     "name": "stdout",
     "output_type": "stream",
     "text": [
      "Loss: 3.308235334205912e-8\n",
      "Loss: 3.2974931933555136e-8\n",
      "Loss: 3.2886292255907124e-8\n",
      "Loss: 3.280010850149403e-8\n",
      "Loss: 3.265808429429844e-8\n"
     ]
    },
    {
     "name": "stdout",
     "output_type": "stream",
     "text": [
      "Loss: 3.241249119404854e-8\n",
      "Loss: 3.2281067916872e-8\n",
      "Loss: 3.206160122630283e-8\n",
      "Loss: 3.167480236413916e-8\n",
      "Loss: 3.148275105662535e-8\n",
      "Loss: 3.1139148556578215e-8\n"
     ]
    },
    {
     "name": "stdout",
     "output_type": "stream",
     "text": [
      "Loss: 3.094735864184201e-8\n",
      "Loss: 3.054279460724438e-8\n",
      "Loss: 3.0353179890526846e-8\n",
      "Loss: 2.99437051587632e-8\n",
      "Loss: 2.9490784351551754e-8\n",
      "Loss: 2.9103599662297568e-8\n"
     ]
    },
    {
     "name": "stdout",
     "output_type": "stream",
     "text": [
      "Loss: 2.8435525782817455e-8\n",
      "Loss: 2.7808425075099115e-8\n",
      "Loss: 2.729043371381675e-8\n",
      "Loss: 2.7027892734836903e-8\n",
      "Loss: 2.6858998541283857e-8\n",
      "Loss: 2.644064015887376e-8\n",
      "Loss: 2.6253211187335214e-8\n"
     ]
    },
    {
     "name": "stdout",
     "output_type": "stream",
     "text": [
      "Loss: 2.5832456987971433e-8\n",
      "Loss: 2.5608543598053387e-8\n",
      "Loss: 2.5318469764465045e-8\n",
      "Loss: 2.5033598937651446e-8\n",
      "Loss: 2.4868391702182968e-8\n",
      "Loss: 2.4656446063225635e-8\n"
     ]
    },
    {
     "name": "stdout",
     "output_type": "stream",
     "text": [
      "Loss: 2.440655706161446e-8\n",
      "Loss: 2.4058633328374807e-8\n",
      "Loss: 2.3325423191305082e-8\n",
      "Loss: 2.2905962882300823e-8\n",
      "Loss: 2.253041656558014e-8\n",
      "Loss: 2.2318735023415827e-8\n"
     ]
    },
    {
     "name": "stdout",
     "output_type": "stream",
     "text": [
      "Loss: 2.2069014218681505e-8\n",
      "Loss: 2.1831254242980897e-8\n",
      "Loss: 2.1638589995304586e-8\n",
      "Loss: 2.154751916234677e-8\n",
      "Loss: 2.1442371413648967e-8\n",
      "Loss: 2.135311435897254e-8\n"
     ]
    },
    {
     "name": "stdout",
     "output_type": "stream",
     "text": [
      "Loss: 2.128292196417074e-8\n",
      "Loss: 2.123430095488975e-8\n",
      "Loss: 2.118139477094295e-8\n",
      "Loss: 2.1137667545263103e-8\n",
      "Loss: 2.109413921258707e-8\n"
     ]
    },
    {
     "name": "stdout",
     "output_type": "stream",
     "text": [
      "Loss: 2.1060799445622e-8\n",
      "Loss: 2.1024528125814588e-8\n",
      "Loss: 2.0982250971547107e-8\n",
      "Loss: 2.0938601764186e-8\n",
      "Loss: 2.091120031679738e-8\n"
     ]
    },
    {
     "name": "stdout",
     "output_type": "stream",
     "text": [
      "Loss: 2.0887297647318903e-8\n",
      "Loss: 2.0870455612063507e-8\n",
      "Loss: 2.0852775033131054e-8\n",
      "Loss: 2.083551974075974e-8\n",
      "Loss: 2.0822432243261184e-8\n"
     ]
    },
    {
     "name": "stdout",
     "output_type": "stream",
     "text": [
      "Loss: 2.0809211764912394e-8\n",
      "Loss: 2.0795548658983826e-8\n",
      "Loss: 2.0778266699869673e-8\n",
      "Loss: 2.0753707909867715e-8\n",
      "Loss: 2.0717284387981437e-8\n"
     ]
    },
    {
     "name": "stdout",
     "output_type": "stream",
     "text": [
      "Loss: 2.063742612451544e-8\n",
      "Loss: 2.0571629497356215e-8\n",
      "Loss: 2.0546025864432713e-8\n",
      "Loss: 2.0528335066377933e-8\n",
      "Loss: 2.0504538743464987e-8\n"
     ]
    },
    {
     "name": "stdout",
     "output_type": "stream",
     "text": [
      "Loss: 2.044943934842882e-8\n",
      "Loss: 2.0351485078713753e-8\n",
      "Loss: 2.0215254956937333e-8\n",
      "Loss: 2.0077570001460706e-8\n",
      "Loss: 1.9956202332298965e-8\n"
     ]
    },
    {
     "name": "stdout",
     "output_type": "stream",
     "text": [
      "Loss: 1.989982154038734e-8\n",
      "Loss: 1.9829690552172983e-8\n",
      "Loss: 1.975159987899355e-8\n",
      "Loss: 1.9643248580386213e-8\n",
      "Loss: 1.9550427184630687e-8\n"
     ]
    },
    {
     "name": "stdout",
     "output_type": "stream",
     "text": [
      "Loss: 1.9453513543045604e-8\n",
      "Loss: 1.934644060775086e-8\n",
      "Loss: 1.9190784407299208e-8\n",
      "Loss: 1.9085845565099933e-8\n",
      "Loss: 1.9037259798361286e-8\n",
      "Loss: 1.8949856099707863e-8\n"
     ]
    },
    {
     "name": "stdout",
     "output_type": "stream",
     "text": [
      "Loss: 1.883879441550629e-8\n",
      "Loss: 1.872861344702218e-8\n",
      "Loss: 1.85969286258849e-8\n",
      "Loss: 1.8515674342944592e-8\n",
      "Loss: 1.8449753035482472e-8\n",
      "Loss: 1.8322025557938877e-8\n"
     ]
    },
    {
     "name": "stdout",
     "output_type": "stream",
     "text": [
      "Loss: 1.817151176364097e-8\n",
      "Loss: 1.802275694841975e-8\n",
      "Loss: 1.7903644664028195e-8\n",
      "Loss: 1.786120244228105e-8\n",
      "Loss: 1.7737585756114978e-8\n"
     ]
    },
    {
     "name": "stdout",
     "output_type": "stream",
     "text": [
      "Loss: 1.7633011330404127e-8\n",
      "Loss: 1.7439476779908185e-8\n",
      "Loss: 1.729656775608807e-8\n",
      "Loss: 1.7174507203141657e-8\n",
      "Loss: 1.7007941074558706e-8\n"
     ]
    },
    {
     "name": "stdout",
     "output_type": "stream",
     "text": [
      "Loss: 1.6848855586268578e-8\n",
      "Loss: 1.668862191330659e-8\n",
      "Loss: 1.6559771270996975e-8\n",
      "Loss: 1.6492814850195316e-8\n",
      "Loss: 1.6424651182895825e-8\n",
      "Loss: 1.639404052972814e-8\n"
     ]
    },
    {
     "name": "stdout",
     "output_type": "stream",
     "text": [
      "Loss: 1.636752597275972e-8\n",
      "Loss: 1.6346619987177558e-8\n",
      "Loss: 1.632507609791488e-8\n",
      "Loss: 1.628141499881958e-8\n",
      "Loss: 1.624571694838504e-8\n"
     ]
    },
    {
     "name": "stdout",
     "output_type": "stream",
     "text": [
      "Loss: 1.6224943978081712e-8\n",
      "Loss: 1.620643089259416e-8\n",
      "Loss: 1.619728870320447e-8\n",
      "Loss: 1.618584617303426e-8\n",
      "Loss: 1.617447668076793e-8\n"
     ]
    },
    {
     "name": "stdout",
     "output_type": "stream",
     "text": [
      "Loss: 1.6167934847183595e-8\n",
      "Loss: 1.6160759395940814e-8\n",
      "Loss: 1.6144631238431263e-8\n",
      "Loss: 1.6111805658558028e-8\n",
      "Loss: 1.6048714697272362e-8\n"
     ]
    },
    {
     "name": "stdout",
     "output_type": "stream",
     "text": [
      "Loss: 1.5976761778005977e-8\n",
      "Loss: 1.591594294607012e-8\n",
      "Loss: 1.5902356033690117e-8\n",
      "Loss: 1.5886061533614495e-8\n",
      "Loss: 1.5869791663004487e-8\n",
      "Loss: 1.5859953984199933e-8\n"
     ]
    },
    {
     "name": "stdout",
     "output_type": "stream",
     "text": [
      "Loss: 1.5850766751446218e-8\n",
      "Loss: 1.584161717489095e-8\n",
      "Loss: 1.583340907994265e-8\n",
      "Loss: 1.5826388583067008e-8\n",
      "Loss: 1.5818263895540927e-8\n"
     ]
    },
    {
     "name": "stdout",
     "output_type": "stream",
     "text": [
      "Loss: 1.58107739510458e-8\n",
      "Loss: 1.5801449477025022e-8\n",
      "Loss: 1.578893982429124e-8\n",
      "Loss: 1.5766100010201108e-8\n",
      "Loss: 1.574128629928982e-8\n",
      "Loss: 1.570769246802572e-8\n"
     ]
    },
    {
     "name": "stdout",
     "output_type": "stream",
     "text": [
      "Loss: 1.5608588848616792e-8\n",
      "Loss: 1.5516900202939575e-8\n",
      "Loss: 1.5426094886965312e-8\n",
      "Loss: 1.5286874152506068e-8\n",
      "Loss: 1.5132839031924145e-8\n",
      "Loss: 1.5039667153106497e-8\n"
     ]
    },
    {
     "name": "stdout",
     "output_type": "stream",
     "text": [
      "Loss: 1.484404755802431e-8\n",
      "Loss: 1.4725864350616178e-8\n",
      "Loss: 1.4634284470877633e-8\n",
      "Loss: 1.4597977702432299e-8\n",
      "Loss: 1.4552971054654565e-8\n",
      "Loss: 1.4533255012906243e-8\n",
      "Loss: 1.4491611530810114e-8\n"
     ]
    },
    {
     "name": "stdout",
     "output_type": "stream",
     "text": [
      "Loss: 1.4460969718606379e-8\n",
      "Loss: 1.4436190032553723e-8\n",
      "Loss: 1.4422033344109207e-8\n",
      "Loss: 1.4413346459912703e-8\n",
      "Loss: 1.4411007223069255e-8\n"
     ]
    },
    {
     "name": "stdout",
     "output_type": "stream",
     "text": [
      "Loss: 1.440922859008266e-8\n",
      "Loss: 1.440513110936626e-8\n",
      "Loss: 1.440072969345089e-8\n",
      "Loss: 1.4398165775645172e-8\n",
      "Loss: 1.439661562031707e-8\n"
     ]
    },
    {
     "name": "stdout",
     "output_type": "stream",
     "text": [
      "Loss: 1.439368333903039e-8\n",
      "Loss: 1.4381659180830723e-8\n",
      "Loss: 1.4347776985396375e-8\n",
      "Loss: 1.4257222436537423e-8\n",
      "Loss: 1.4221536872278254e-8\n",
      "Loss: 1.4173430123411257e-8\n"
     ]
    },
    {
     "name": "stdout",
     "output_type": "stream",
     "text": [
      "Loss: 1.4138872187368706e-8\n",
      "Loss: 1.4101583775159267e-8\n",
      "Loss: 1.4075858201355518e-8\n",
      "Loss: 1.4058711510514529e-8\n",
      "Loss: 1.403913560446357e-8\n",
      "Loss: 1.4019516139081995e-8\n"
     ]
    },
    {
     "name": "stdout",
     "output_type": "stream",
     "text": [
      "Loss: 1.399766244002689e-8\n",
      "Loss: 1.3971256571258583e-8\n",
      "Loss: 1.3930732512395091e-8\n",
      "Loss: 1.3876164891223811e-8\n",
      "Loss: 1.382421263965226e-8\n",
      "Loss: 1.3743277513129022e-8\n"
     ]
    },
    {
     "name": "stdout",
     "output_type": "stream",
     "text": [
      "Loss: 1.3670546050175259e-8\n",
      "Loss: 1.3625652875678287e-8\n",
      "Loss: 1.3592331154993827e-8\n",
      "Loss: 1.3539047145823877e-8\n",
      "Loss: 1.3513904458705733e-8\n",
      "Loss: 1.3488084504765982e-8\n",
      "Loss: 1.3465860438319325e-8\n"
     ]
    },
    {
     "name": "stdout",
     "output_type": "stream",
     "text": [
      "Loss: 1.3431655488575284e-8\n",
      "Loss: 1.3405420597000774e-8\n",
      "Loss: 1.337646922913555e-8\n",
      "Loss: 1.3342540125761954e-8\n",
      "Loss: 1.3302317379838842e-8\n"
     ]
    },
    {
     "name": "stdout",
     "output_type": "stream",
     "text": [
      "Loss: 1.3239938654906171e-8\n",
      "Loss: 1.3116041545124269e-8\n",
      "Loss: 1.3045792030818602e-8\n",
      "Loss: 1.2985101184317973e-8\n",
      "Loss: 1.2898645228216153e-8\n"
     ]
    },
    {
     "name": "stdout",
     "output_type": "stream",
     "text": [
      "Loss: 1.2826533099920518e-8\n",
      "Loss: 1.2789914685835214e-8\n",
      "Loss: 1.2720284613033998e-8\n",
      "Loss: 1.2615739004192932e-8\n",
      "Loss: 1.248170784427985e-8\n"
     ]
    },
    {
     "name": "stdout",
     "output_type": "stream",
     "text": [
      "Loss: 1.2395017152039203e-8\n",
      "Loss: 1.2292891740258167e-8\n",
      "Loss: 1.2238364575832756e-8\n",
      "Loss: 1.2205757934409032e-8\n",
      "Loss: 1.2183560945740746e-8\n",
      "Loss: 1.2154225412484754e-8\n"
     ]
    },
    {
     "name": "stdout",
     "output_type": "stream",
     "text": [
      "Loss: 1.2134454839293644e-8\n",
      "Loss: 1.2118617777015906e-8\n",
      "Loss: 1.2094817039604186e-8\n",
      "Loss: 1.2081217027185963e-8\n",
      "Loss: 1.2075841015393956e-8\n"
     ]
    },
    {
     "name": "stdout",
     "output_type": "stream",
     "text": [
      "Loss: 1.2068806309967953e-8\n",
      "Loss: 1.206066420909143e-8\n",
      "Loss: 1.2052670517276537e-8\n",
      "Loss: 1.2046407208921434e-8\n",
      "Loss: 1.2043059797531309e-8\n"
     ]
    },
    {
     "name": "stdout",
     "output_type": "stream",
     "text": [
      "Loss: 1.2040911370745788e-8\n",
      "Loss: 1.2038958916316091e-8\n",
      "Loss: 1.2036932498428796e-8\n",
      "Loss: 1.2035061281351954e-8\n",
      "Loss: 1.2034022166221483e-8\n"
     ]
    },
    {
     "name": "stdout",
     "output_type": "stream",
     "text": [
      "Loss: 1.2032937670808468e-8\n",
      "Loss: 1.2030983050318378e-8\n",
      "Loss: 1.2023611678406191e-8\n",
      "Loss: 1.1977156392496981e-8\n"
     ]
    },
    {
     "name": "stdout",
     "output_type": "stream",
     "text": [
      "Loss: 1.1764376072907161e-8\n",
      "Loss: 1.1571176873853532e-8\n",
      "Loss: 1.1502172099758033e-8\n",
      "Loss: 1.1382452469220772e-8\n",
      "Loss: 1.132192604665983e-8\n",
      "Loss: 1.1290254293032896e-8\n"
     ]
    },
    {
     "name": "stdout",
     "output_type": "stream",
     "text": [
      "Loss: 1.1242264791516701e-8\n",
      "Loss: 1.1168867424833906e-8\n",
      "Loss: 1.1057940540605154e-8\n",
      "Loss: 1.099196676215849e-8\n",
      "Loss: 1.0925723942851833e-8\n"
     ]
    },
    {
     "name": "stdout",
     "output_type": "stream",
     "text": [
      "Loss: 1.0868669529963715e-8\n",
      "Loss: 1.0832749491749672e-8\n",
      "Loss: 1.079954018467196e-8\n",
      "Loss: 1.0768026223591083e-8\n",
      "Loss: 1.0705612726550013e-8\n"
     ]
    },
    {
     "name": "stdout",
     "output_type": "stream",
     "text": [
      "Loss: 1.0638022085968649e-8\n",
      "Loss: 1.0474698552807623e-8\n",
      "Loss: 1.027487139612271e-8\n",
      "Loss: 1.0228830820431526e-8\n",
      "Loss: 1.0113597409301475e-8\n",
      "Loss: 1.0041139043389776e-8\n"
     ]
    },
    {
     "name": "stdout",
     "output_type": "stream",
     "text": [
      "Loss: 9.951200382234844e-9\n",
      "Loss: 9.868201646075172e-9\n",
      "Loss: 9.772221945990547e-9\n",
      "Loss: 9.692662211106175e-9\n",
      "Loss: 9.597915485115064e-9\n",
      "Loss: 9.538780544984773e-9\n"
     ]
    },
    {
     "name": "stdout",
     "output_type": "stream",
     "text": [
      "Loss: 9.486318806427713e-9\n",
      "Loss: 9.461279185904681e-9\n",
      "Loss: 9.386843824061393e-9\n",
      "Loss: 9.328259332634832e-9\n",
      "Loss: 9.241373456912134e-9\n",
      "Loss: 9.171239020042722e-9\n"
     ]
    },
    {
     "name": "stdout",
     "output_type": "stream",
     "text": [
      "Loss: 9.111929295803095e-9\n",
      "Loss: 9.078880485613201e-9\n",
      "Loss: 9.03096598273571e-9\n",
      "Loss: 8.98391194553643e-9\n",
      "Loss: 8.925622269601884e-9\n"
     ]
    },
    {
     "name": "stdout",
     "output_type": "stream",
     "text": [
      "Loss: 8.87911779350303e-9\n",
      "Loss: 8.823484711871148e-9\n",
      "Loss: 8.790123193810291e-9\n",
      "Loss: 8.738015638255001e-9\n",
      "Loss: 8.697033558162044e-9\n"
     ]
    },
    {
     "name": "stdout",
     "output_type": "stream",
     "text": [
      "Loss: 8.662139342468149e-9\n",
      "Loss: 8.613420211403379e-9\n",
      "Loss: 8.576129425258855e-9\n",
      "Loss: 8.50240517317287e-9\n",
      "Loss: 8.438866267731807e-9\n",
      "Loss: 8.342019988286814e-9\n"
     ]
    },
    {
     "name": "stdout",
     "output_type": "stream",
     "text": [
      "Loss: 8.297705399007176e-9\n",
      "Loss: 8.263698844616495e-9\n",
      "Loss: 8.231524061882443e-9\n",
      "Loss: 8.195622726524175e-9\n",
      "Loss: 8.177343693014883e-9\n",
      "Loss: 8.140180552807743e-9\n"
     ]
    },
    {
     "name": "stdout",
     "output_type": "stream",
     "text": [
      "Loss: 8.119103274878202e-9\n",
      "Loss: 8.09531207737453e-9\n",
      "Loss: 8.065535853128163e-9\n",
      "Loss: 8.043160242761917e-9\n",
      "Loss: 8.025875923842208e-9\n",
      "Loss: 8.013802065178292e-9\n"
     ]
    },
    {
     "name": "stdout",
     "output_type": "stream",
     "text": [
      "Loss: 8.005717613452543e-9\n",
      "Loss: 7.990537542413368e-9\n",
      "Loss: 7.970899116690313e-9\n",
      "Loss: 7.956859631256268e-9\n",
      "Loss: 7.94850086808057e-9\n",
      "Loss: 7.939323502450014e-9\n"
     ]
    },
    {
     "name": "stdout",
     "output_type": "stream",
     "text": [
      "Loss: 7.923771345645157e-9\n",
      "Loss: 7.901740811877224e-9\n",
      "Loss: 7.879410050539115e-9\n",
      "Loss: 7.86389039286817e-9\n",
      "Loss: 7.854707762272343e-9\n",
      "Loss: 7.844390584383073e-9\n"
     ]
    },
    {
     "name": "stdout",
     "output_type": "stream",
     "text": [
      "Loss: 7.838466650170923e-9\n",
      "Loss: 7.831276797510873e-9\n",
      "Loss: 7.823249735228797e-9\n",
      "Loss: 7.814804194852211e-9\n",
      "Loss: 7.807492818534012e-9\n",
      "Loss: 7.799060169387732e-9\n"
     ]
    },
    {
     "name": "stdout",
     "output_type": "stream",
     "text": [
      "Loss: 7.786883238243142e-9\n",
      "Loss: 7.775680568331675e-9\n",
      "Loss: 7.76559211957312e-9\n",
      "Loss: 7.757089244868108e-9\n"
     ]
    },
    {
     "name": "stdout",
     "output_type": "stream",
     "text": [
      "Loss: 7.745777508104005e-9\n",
      "Loss: 7.737347507054894e-9\n",
      "Loss: 7.727761069025934e-9\n",
      "Loss: 7.721126914223795e-9\n",
      "Loss: 7.714353298965763e-9\n",
      "Loss: 7.708789380591377e-9\n"
     ]
    },
    {
     "name": "stdout",
     "output_type": "stream",
     "text": [
      "Loss: 7.7019201002325e-9\n",
      "Loss: 7.694923698769217e-9\n",
      "Loss: 7.689803792470077e-9\n",
      "Loss: 7.685189792707627e-9\n",
      "Loss: 7.68092275970863e-9\n"
     ]
    },
    {
     "name": "stdout",
     "output_type": "stream",
     "text": [
      "Loss: 7.678478539278057e-9\n",
      "Loss: 7.676651597628173e-9\n",
      "Loss: 7.674996412352098e-9\n",
      "Loss: 7.67139792817472e-9\n",
      "Loss: 7.664568158575524e-9\n"
     ]
    },
    {
     "name": "stdout",
     "output_type": "stream",
     "text": [
      "Loss: 7.657295830026236e-9\n",
      "Loss: 7.6534327390289e-9\n",
      "Loss: 7.650732825810792e-9\n",
      "Loss: 7.648930139259483e-9\n",
      "Loss: 7.64767576523069e-9\n"
     ]
    },
    {
     "name": "stdout",
     "output_type": "stream",
     "text": [
      "Loss: 7.646010765456767e-9\n",
      "Loss: 7.64420776342131e-9\n",
      "Loss: 7.642316093570904e-9\n",
      "Loss: 7.640417720098581e-9\n",
      "Loss: 7.636834174543154e-9\n"
     ]
    },
    {
     "name": "stdout",
     "output_type": "stream",
     "text": [
      "Loss: 7.63423216521542e-9\n",
      "Loss: 7.630564523513104e-9\n",
      "Loss: 7.62793993479807e-9\n",
      "Loss: 7.624850745436946e-9\n",
      "Loss: 7.622864613764446e-9\n"
     ]
    },
    {
     "name": "stdout",
     "output_type": "stream",
     "text": [
      "Loss: 7.621310377766383e-9\n",
      "Loss: 7.619750022382777e-9\n",
      "Loss: 7.617595094729403e-9\n",
      "Loss: 7.613829938382375e-9\n",
      "Loss: 7.612353777952676e-9\n"
     ]
    },
    {
     "name": "stdout",
     "output_type": "stream",
     "text": [
      "Loss: 7.61030527603417e-9\n",
      "Loss: 7.606905717025445e-9\n",
      "Loss: 7.601911661027538e-9\n",
      "Loss: 7.598228270131373e-9\n",
      "Loss: 7.587275276570986e-9\n"
     ]
    },
    {
     "name": "stdout",
     "output_type": "stream",
     "text": [
      "Loss: 7.579348236392707e-9\n",
      "Loss: 7.5624809429922e-9\n",
      "Loss: 7.557266490453341e-9\n",
      "Loss: 7.540302398336716e-9\n",
      "Loss: 7.529164331650596e-9\n",
      "Loss: 7.52273783593049e-9\n"
     ]
    },
    {
     "name": "stdout",
     "output_type": "stream",
     "text": [
      "Loss: 7.514399927967261e-9\n",
      "Loss: 7.509690720753228e-9\n",
      "Loss: 7.506413207236373e-9\n",
      "Loss: 7.502520516229368e-9\n",
      "Loss: 7.499651619650492e-9\n"
     ]
    },
    {
     "name": "stdout",
     "output_type": "stream",
     "text": [
      "Loss: 7.496776107576987e-9\n",
      "Loss: 7.494164563656607e-9\n",
      "Loss: 7.491397612911358e-9\n",
      "Loss: 7.488793044634315e-9\n",
      "Loss: 7.486440333977105e-9\n"
     ]
    },
    {
     "name": "stdout",
     "output_type": "stream",
     "text": [
      "Loss: 7.484318656203382e-9\n",
      "Loss: 7.48182689797168e-9\n",
      "Loss: 7.480397570330668e-9\n",
      "Loss: 7.478499668065149e-9\n",
      "Loss: 7.475734874093198e-9\n"
     ]
    },
    {
     "name": "stdout",
     "output_type": "stream",
     "text": [
      "Loss: 7.472757633833906e-9\n",
      "Loss: 7.469183762728972e-9\n",
      "Loss: 7.465435037708955e-9\n",
      "Loss: 7.460254482364576e-9\n"
     ]
    },
    {
     "name": "stdout",
     "output_type": "stream",
     "text": [
      "Loss: 7.452602956111228e-9\n",
      "Loss: 7.4443619516315765e-9\n",
      "Loss: 7.439918634283165e-9\n",
      "Loss: 7.433483410758928e-9\n",
      "Loss: 7.420209875566311e-9\n",
      "Loss: 7.398314332816899e-9\n"
     ]
    },
    {
     "name": "stdout",
     "output_type": "stream",
     "text": [
      "Loss: 7.35821656706739e-9\n",
      "Loss: 7.3490455719230074e-9\n",
      "Loss: 7.318773136130777e-9\n",
      "Loss: 7.2988586768887864e-9\n",
      "Loss: 7.266060453668152e-9\n",
      "Loss: 7.250455932513392e-9\n",
      "Loss: 7.2227811036538645e-9\n"
     ]
    },
    {
     "name": "stdout",
     "output_type": "stream",
     "text": [
      "Loss: 7.2026244744699185e-9\n",
      "Loss: 7.1645767323070806e-9\n",
      "Loss: 7.136248302570683e-9\n",
      "Loss: 7.11566931106382e-9\n",
      "Loss: 7.097386322736765e-9\n",
      "Loss: 7.079869821940245e-9\n",
      "Loss: 7.06440735847912e-9\n"
     ]
    },
    {
     "name": "stdout",
     "output_type": "stream",
     "text": [
      "Loss: 7.052968322932489e-9\n",
      "Loss: 7.041161084349768e-9\n",
      "Loss: 7.029755270696322e-9\n",
      "Loss: 7.016139046451222e-9\n",
      "Loss: 7.001082730873643e-9\n",
      "Loss: 6.988943975729497e-9\n"
     ]
    },
    {
     "name": "stdout",
     "output_type": "stream",
     "text": [
      "Loss: 6.976016145510943e-9\n",
      "Loss: 6.966100260368989e-9\n",
      "Loss: 6.9538367726666975e-9\n",
      "Loss: 6.939629201702037e-9\n",
      "Loss: 6.920195041293792e-9\n",
      "Loss: 6.879206911020687e-9\n"
     ]
    },
    {
     "name": "stdout",
     "output_type": "stream",
     "text": [
      "Loss: 6.842030709099096e-9\n",
      "Loss: 6.83086597429147e-9\n",
      "Loss: 6.7920252878276505e-9\n",
      "Loss: 6.758802236218884e-9\n",
      "Loss: 6.728234694513713e-9\n",
      "Loss: 6.7046109209285764e-9\n",
      "Loss: 6.662746621202486e-9\n"
     ]
    },
    {
     "name": "stdout",
     "output_type": "stream",
     "text": [
      "Loss: 6.600640952231596e-9\n",
      "Loss: 6.562637364631241e-9\n",
      "Loss: 6.519016499948135e-9\n",
      "Loss: 6.481941827595776e-9\n",
      "Loss: 6.434641475689447e-9\n",
      "Loss: 6.3721235119691525e-9\n",
      "Loss: 6.323705600788539e-9\n"
     ]
    },
    {
     "name": "stdout",
     "output_type": "stream",
     "text": [
      "Loss: 6.27351870641139e-9\n",
      "Loss: 6.244259883646696e-9\n",
      "Loss: 6.2177477044056976e-9\n",
      "Loss: 6.20176586411577e-9\n",
      "Loss: 6.1860235754834304e-9\n",
      "Loss: 6.1705624817336665e-9\n"
     ]
    },
    {
     "name": "stdout",
     "output_type": "stream",
     "text": [
      "Loss: 6.1429880045990335e-9\n",
      "Loss: 6.115564576109042e-9\n",
      "Loss: 6.091767192188311e-9\n",
      "Loss: 6.062086170622008e-9\n",
      "Loss: 6.045602011546758e-9\n",
      "Loss: 6.02589248762154e-9\n"
     ]
    },
    {
     "name": "stdout",
     "output_type": "stream",
     "text": [
      "Loss: 5.999861563074368e-9\n",
      "Loss: 5.9610737776805585e-9\n",
      "Loss: 5.911520701608742e-9\n",
      "Loss: 5.880826905184492e-9\n",
      "Loss: 5.845124296636466e-9\n",
      "Loss: 5.7819443899378315e-9\n"
     ]
    },
    {
     "name": "stdout",
     "output_type": "stream",
     "text": [
      "Loss: 5.700971025500374e-9\n",
      "Loss: 5.664243989320654e-9\n",
      "Loss: 5.610477295841153e-9\n",
      "Loss: 5.576769293443389e-9\n",
      "Loss: 5.5266059085895474e-9\n",
      "Loss: 5.4938748373207085e-9\n"
     ]
    },
    {
     "name": "stdout",
     "output_type": "stream",
     "text": [
      "Loss: 5.4614637337504825e-9\n",
      "Loss: 5.435780241546062e-9\n",
      "Loss: 5.4095957692566186e-9\n",
      "Loss: 5.385443376193785e-9\n",
      "Loss: 5.362976475032895e-9\n"
     ]
    },
    {
     "name": "stdout",
     "output_type": "stream",
     "text": [
      "Loss: 5.33801309795381e-9\n",
      "Loss: 5.319595696153353e-9\n",
      "Loss: 5.279523854146949e-9\n",
      "Loss: 5.240681569527748e-9\n",
      "Loss: 5.200890183215252e-9\n"
     ]
    },
    {
     "name": "stdout",
     "output_type": "stream",
     "text": [
      "Loss: 5.164352793359406e-9\n",
      "Loss: 5.135347799248368e-9\n",
      "Loss: 5.123376003690361e-9\n",
      "Loss: 5.10129767001069e-9\n",
      "Loss: 5.083708499434948e-9\n",
      "Loss: 5.04505982661788e-9\n"
     ]
    },
    {
     "name": "stdout",
     "output_type": "stream",
     "text": [
      "Loss: 5.013785931714291e-9\n",
      "Loss: 4.970586878592157e-9\n",
      "Loss: 4.928147143284763e-9\n",
      "Loss: 4.879989264323692e-9\n",
      "Loss: 4.793879719473016e-9\n",
      "Loss: 4.76052808399224e-9\n"
     ]
    },
    {
     "name": "stdout",
     "output_type": "stream",
     "text": [
      "Loss: 4.714753228896105e-9\n",
      "Loss: 4.666702079243967e-9\n",
      "Loss: 4.622477089723633e-9\n",
      "Loss: 4.588946656287218e-9\n",
      "Loss: 4.554266329507399e-9\n"
     ]
    },
    {
     "name": "stdout",
     "output_type": "stream",
     "text": [
      "Loss: 4.526734591364434e-9\n",
      "Loss: 4.500940858709784e-9\n",
      "Loss: 4.473629406084329e-9\n",
      "Loss: 4.444901838261563e-9\n",
      "Loss: 4.412671761970675e-9\n"
     ]
    },
    {
     "name": "stdout",
     "output_type": "stream",
     "text": [
      "Loss: 4.385766044936309e-9\n",
      "Loss: 4.367833454436708e-9\n",
      "Loss: 4.34744150127617e-9\n",
      "Loss: 4.330759094547564e-9\n",
      "Loss: 4.286270556346913e-9\n"
     ]
    },
    {
     "name": "stdout",
     "output_type": "stream",
     "text": [
      "Loss: 4.235934736130568e-9\n",
      "Loss: 4.204996273659378e-9\n",
      "Loss: 4.170625669749123e-9\n",
      "Loss: 4.141608663495598e-9\n",
      "Loss: 4.109315453771762e-9\n"
     ]
    },
    {
     "name": "stdout",
     "output_type": "stream",
     "text": [
      "Loss: 4.075809807368313e-9\n",
      "Loss: 4.043571353473259e-9\n",
      "Loss: 4.031276860638436e-9\n",
      "Loss: 4.010411116897357e-9\n",
      "Loss: 3.996480816872908e-9\n",
      "Loss: 3.962374669244221e-9\n"
     ]
    },
    {
     "name": "stdout",
     "output_type": "stream",
     "text": [
      "Loss: 3.93558429078704e-9\n",
      "Loss: 3.911799529864188e-9\n",
      "Loss: 3.890450553953835e-9\n",
      "Loss: 3.870084595671908e-9\n",
      "Loss: 3.858171445027487e-9\n",
      "Loss: 3.847130191748575e-9\n"
     ]
    },
    {
     "name": "stdout",
     "output_type": "stream",
     "text": [
      "Loss: 3.8383398193732385e-9\n",
      "Loss: 3.820387008537468e-9\n",
      "Loss: 3.80378432069152e-9\n",
      "Loss: 3.782783519872499e-9\n",
      "Loss: 3.773928553467441e-9\n",
      "Loss: 3.764446836934663e-9\n"
     ]
    },
    {
     "name": "stdout",
     "output_type": "stream",
     "text": [
      "Loss: 3.751445153017989e-9\n",
      "Loss: 3.736735385131908e-9\n",
      "Loss: 3.7155055430405196e-9\n",
      "Loss: 3.6980236597636064e-9\n",
      "Loss: 3.6870182702773287e-9\n",
      "Loss: 3.671096829908374e-9\n"
     ]
    },
    {
     "name": "stdout",
     "output_type": "stream",
     "text": [
      "Loss: 3.6571147060264176e-9\n",
      "Loss: 3.645011422783657e-9\n",
      "Loss: 3.637752509147681e-9\n",
      "Loss: 3.6341228294493465e-9\n",
      "Loss: 3.630437337398952e-9\n"
     ]
    },
    {
     "name": "stdout",
     "output_type": "stream",
     "text": [
      "Loss: 3.626198746213285e-9\n",
      "Loss: 3.6229658591835865e-9\n",
      "Loss: 3.619831721620926e-9\n",
      "Loss: 3.6166581674034198e-9\n",
      "Loss: 3.6133338644423096e-9\n"
     ]
    },
    {
     "name": "stdout",
     "output_type": "stream",
     "text": [
      "Loss: 3.6105504831559916e-9\n",
      "Loss: 3.605828617973515e-9\n",
      "Loss: 3.599650371063202e-9\n",
      "Loss: 3.5942285509648246e-9\n"
     ]
    },
    {
     "name": "stdout",
     "output_type": "stream",
     "text": [
      "Loss: 3.59017986830152e-9\n",
      "Loss: 3.586471165034116e-9\n",
      "Loss: 3.5827965771578762e-9\n",
      "Loss: 3.579160158662553e-9\n",
      "Loss: 3.575730280651011e-9\n"
     ]
    },
    {
     "name": "stdout",
     "output_type": "stream",
     "text": [
      "Loss: 3.5710384664240975e-9\n",
      "Loss: 3.5667625729576722e-9\n",
      "Loss: 3.563786572144446e-9\n",
      "Loss: 3.5619286077879955e-9\n",
      "Loss: 3.560624202998237e-9\n"
     ]
    },
    {
     "name": "stdout",
     "output_type": "stream",
     "text": [
      "Loss: 3.559316742684195e-9\n",
      "Loss: 3.556892429680662e-9\n",
      "Loss: 3.5523075042016128e-9\n",
      "Loss: 3.547385809790649e-9\n",
      "Loss: 3.5438421788159896e-9\n"
     ]
    },
    {
     "name": "stdout",
     "output_type": "stream",
     "text": [
      "Loss: 3.5413321044688843e-9\n",
      "Loss: 3.5391752133202427e-9\n",
      "Loss: 3.5375522359419897e-9\n",
      "Loss: 3.5355763210058707e-9\n",
      "Loss: 3.5329128602386258e-9\n"
     ]
    },
    {
     "name": "stdout",
     "output_type": "stream",
     "text": [
      "Loss: 3.528078907118022e-9\n",
      "Loss: 3.520881304697003e-9\n",
      "Loss: 3.514818898371874e-9\n",
      "Loss: 3.500695675987063e-9\n",
      "Loss: 3.4853560578822206e-9\n"
     ]
    },
    {
     "name": "stdout",
     "output_type": "stream",
     "text": [
      "Loss: 3.4730724069053284e-9\n",
      "Loss: 3.466234247396289e-9\n",
      "Loss: 3.4618508183050543e-9\n",
      "Loss: 3.455424983367665e-9\n",
      "Loss: 3.4484437848609583e-9\n",
      "Loss: 3.4427642820059538e-9\n"
     ]
    },
    {
     "name": "stdout",
     "output_type": "stream",
     "text": [
      "Loss: 3.4354397773565497e-9\n",
      "Loss: 3.4290321879122848e-9\n",
      "Loss: 3.4234847546884044e-9\n",
      "Loss: 3.420057837101651e-9\n"
     ]
    },
    {
     "name": "stdout",
     "output_type": "stream",
     "text": [
      "Loss: 3.416635122279106e-9\n",
      "Loss: 3.412657762982119e-9\n",
      "Loss: 3.408352750360083e-9\n",
      "Loss: 3.4066419618989277e-9\n",
      "Loss: 3.4044508143214234e-9\n"
     ]
    },
    {
     "name": "stdout",
     "output_type": "stream",
     "text": [
      "Loss: 3.402971741386059e-9\n",
      "Loss: 3.4003079624268774e-9\n",
      "Loss: 3.397544595794245e-9\n",
      "Loss: 3.394403913517882e-9\n",
      "Loss: 3.3906571488210636e-9\n"
     ]
    },
    {
     "name": "stdout",
     "output_type": "stream",
     "text": [
      "Loss: 3.383110698032944e-9\n",
      "Loss: 3.3781159836585808e-9\n",
      "Loss: 3.3713455972874884e-9\n",
      "Loss: 3.367596667845328e-9\n",
      "Loss: 3.3653953097774305e-9\n"
     ]
    },
    {
     "name": "stdout",
     "output_type": "stream",
     "text": [
      "Loss: 3.363847811327111e-9\n",
      "Loss: 3.3626615609510563e-9\n",
      "Loss: 3.3616476316573695e-9\n",
      "Loss: 3.3587507970758554e-9\n",
      "Loss: 3.3543190352901042e-9\n"
     ]
    },
    {
     "name": "stdout",
     "output_type": "stream",
     "text": [
      "Loss: 3.3476280810874986e-9\n",
      "Loss: 3.337884232555561e-9\n",
      "Loss: 3.3266738381865804e-9\n",
      "Loss: 3.316435180876584e-9\n",
      "Loss: 3.3097637405558088e-9\n"
     ]
    },
    {
     "name": "stdout",
     "output_type": "stream",
     "text": [
      "Loss: 3.3033293157833665e-9\n",
      "Loss: 3.299248273207404e-9\n",
      "Loss: 3.2948580908545122e-9\n",
      "Loss: 3.291648637778319e-9\n",
      "Loss: 3.287837336926881e-9\n"
     ]
    },
    {
     "name": "stdout",
     "output_type": "stream",
     "text": [
      "Loss: 3.284431026898978e-9\n",
      "Loss: 3.2775298642842452e-9\n",
      "Loss: 3.25356608740165e-9\n",
      "Loss: 3.225058056360882e-9\n",
      "Loss: 3.195495244991515e-9\n",
      "Loss: 3.1793419036236e-9\n"
     ]
    },
    {
     "name": "stdout",
     "output_type": "stream",
     "text": [
      "Loss: 3.1522149102878663e-9\n",
      "Loss: 3.1320101828632524e-9\n",
      "Loss: 3.1044661207308337e-9\n",
      "Loss: 3.0644858896793345e-9\n",
      "Loss: 3.0109938686691154e-9\n",
      "Loss: 2.970181854761804e-9\n"
     ]
    },
    {
     "name": "stdout",
     "output_type": "stream",
     "text": [
      "Loss: 2.9366967712851135e-9\n",
      "Loss: 2.90907096004025e-9\n",
      "Loss: 2.884231895663278e-9\n",
      "Loss: 2.873568813022571e-9\n",
      "Loss: 2.861240235796298e-9\n",
      "Loss: 2.8495032366857823e-9\n"
     ]
    },
    {
     "name": "stdout",
     "output_type": "stream",
     "text": [
      "Loss: 2.8387773875132396e-9\n",
      "Loss: 2.8303510102233293e-9\n",
      "Loss: 2.81645520386421e-9\n",
      "Loss: 2.807870635513248e-9\n",
      "Loss: 2.8005725555407332e-9\n",
      "Loss: 2.797505498228168e-9\n"
     ]
    },
    {
     "name": "stdout",
     "output_type": "stream",
     "text": [
      "Loss: 2.7958801182446592e-9\n",
      "Loss: 2.7941887777947007e-9\n",
      "Loss: 2.7914447939404255e-9\n",
      "Loss: 2.788802087761257e-9\n",
      "Loss: 2.7866775825077855e-9\n"
     ]
    },
    {
     "name": "stdout",
     "output_type": "stream",
     "text": [
      "Loss: 2.7821522352970576e-9\n",
      "Loss: 2.7711310783000384e-9\n",
      "Loss: 2.7565589704464182e-9\n",
      "Loss: 2.7428897667022537e-9\n",
      "Loss: 2.7384600556096404e-9\n"
     ]
    },
    {
     "name": "stdout",
     "output_type": "stream",
     "text": [
      "Loss: 2.7349789344627887e-9\n",
      "Loss: 2.7322362016546843e-9\n",
      "Loss: 2.7290756546718955e-9\n",
      "Loss: 2.7265075228901277e-9\n"
     ]
    },
    {
     "name": "stdout",
     "output_type": "stream",
     "text": [
      "Loss: 2.7243606659012698e-9\n",
      "Loss: 2.7231441707299297e-9\n",
      "Loss: 2.722195193257671e-9\n",
      "Loss: 2.720716441377668e-9\n"
     ]
    },
    {
     "name": "stdout",
     "output_type": "stream",
     "text": [
      "Loss: 2.718806510823133e-9\n",
      "Loss: 2.7167761353154077e-9\n",
      "Loss: 2.7150467639036337e-9\n",
      "Loss: 2.714039167611414e-9\n"
     ]
    },
    {
     "name": "stdout",
     "output_type": "stream",
     "text": [
      "Loss: 2.713380368216598e-9\n",
      "Loss: 2.71300370998324e-9\n",
      "Loss: 2.7127470836290932e-9\n",
      "Loss: 2.7126397941351362e-9\n",
      "Loss: 2.712566921012044e-9\n"
     ]
    },
    {
     "name": "stdout",
     "output_type": "stream",
     "text": [
      "Loss: 2.712449079559642e-9\n",
      "Loss: 2.712282664075829e-9\n",
      "Loss: 2.7120899131592423e-9\n",
      "Loss: 2.7119378412679235e-9\n",
      "Loss: 2.7116700284107713e-9\n"
     ]
    },
    {
     "name": "stdout",
     "output_type": "stream",
     "text": [
      "Loss: 2.7103206093076306e-9\n",
      "Loss: 2.7021637769803685e-9\n",
      "Loss: 2.687697908797479e-9\n",
      "Loss: 2.6709367953943817e-9\n",
      "Loss: 2.6666632870050147e-9\n"
     ]
    },
    {
     "name": "stdout",
     "output_type": "stream",
     "text": [
      "Loss: 2.6596679473219043e-9\n",
      "Loss: 2.657096047967603e-9\n",
      "Loss: 2.6523603153539047e-9\n",
      "Loss: 2.648480307010137e-9\n",
      "Loss: 2.6442653048191073e-9\n"
     ]
    },
    {
     "name": "stdout",
     "output_type": "stream",
     "text": [
      "Loss: 2.641145748688386e-9\n",
      "Loss: 2.639195385542433e-9\n",
      "Loss: 2.638551187609538e-9\n",
      "Loss: 2.637176544902147e-9\n",
      "Loss: 2.6361592646643955e-9\n",
      "Loss: 2.6354696240150244e-9\n",
      "Loss: 2.634676022932599e-9\n"
     ]
    },
    {
     "name": "stdout",
     "output_type": "stream",
     "text": [
      "Loss: 2.633927705148117e-9\n",
      "Loss: 2.633169342798563e-9\n",
      "Loss: 2.6321434783664177e-9\n",
      "Loss: 2.6311853848456993e-9\n",
      "Loss: 2.629781433947288e-9\n",
      "Loss: 2.628607159209236e-9\n"
     ]
    },
    {
     "name": "stdout",
     "output_type": "stream",
     "text": [
      "Loss: 2.626598440067536e-9\n",
      "Loss: 2.6236777784497906e-9\n",
      "Loss: 2.6224271324679565e-9\n",
      "Loss: 2.615901627384096e-9\n",
      "Loss: 2.6048263229173665e-9\n",
      "Loss: 2.5978926711146343e-9\n"
     ]
    },
    {
     "name": "stdout",
     "output_type": "stream",
     "text": [
      "Loss: 2.5892172597461603e-9\n",
      "Loss: 2.587227619690946e-9\n",
      "Loss: 2.5812276643653713e-9\n",
      "Loss: 2.57490350291992e-9\n",
      "Loss: 2.563096393810702e-9\n",
      "Loss: 2.552841060703684e-9\n",
      "Loss: 2.54731939084788e-9\n"
     ]
    },
    {
     "name": "stdout",
     "output_type": "stream",
     "text": [
      "Loss: 2.533234428678687e-9\n",
      "Loss: 2.518519491021443e-9\n",
      "Loss: 2.5083785598534192e-9\n",
      "Loss: 2.4921501029360345e-9\n",
      "Loss: 2.473618470480051e-9\n",
      "Loss: 2.4600610417764977e-9\n"
     ]
    },
    {
     "name": "stdout",
     "output_type": "stream",
     "text": [
      "Loss: 2.4451977133538684e-9\n",
      "Loss: 2.4133783987179918e-9\n",
      "Loss: 2.3762162582369896e-9\n",
      "Loss: 2.3217903377445e-9\n",
      "Loss: 2.28670102624998e-9\n",
      "Loss: 2.248448846449118e-9\n"
     ]
    },
    {
     "name": "stdout",
     "output_type": "stream",
     "text": [
      "Loss: 2.2250029936337647e-9\n",
      "Loss: 2.1738636026446797e-9\n",
      "Loss: 2.1494429027160112e-9\n",
      "Loss: 2.100885364003931e-9\n",
      "Loss: 2.0778690530803748e-9\n"
     ]
    },
    {
     "name": "stdout",
     "output_type": "stream",
     "text": [
      "Loss: 2.0499163787647475e-9\n",
      "Loss: 2.0287329483113046e-9\n",
      "Loss: 2.003846161652295e-9\n",
      "Loss: 1.990442427866684e-9\n",
      "Loss: 1.9821127918490466e-9\n",
      "Loss: 1.9731216600419416e-9\n"
     ]
    },
    {
     "name": "stdout",
     "output_type": "stream",
     "text": [
      "Loss: 1.9673069142389743e-9\n",
      "Loss: 1.9633408661966574e-9\n",
      "Loss: 1.9595937757125307e-9\n",
      "Loss: 1.956436898082899e-9\n",
      "Loss: 1.9527462034442017e-9\n"
     ]
    },
    {
     "name": "stdout",
     "output_type": "stream",
     "text": [
      "Loss: 1.94896498608276e-9\n",
      "Loss: 1.9444741290892365e-9\n",
      "Loss: 1.940884664289959e-9\n",
      "Loss: 1.9389316002004607e-9\n",
      "Loss: 1.9349854719599656e-9\n"
     ]
    },
    {
     "name": "stdout",
     "output_type": "stream",
     "text": [
      "Loss: 1.9309269323868225e-9\n",
      "Loss: 1.928035339544402e-9\n",
      "Loss: 1.925657507422366e-9\n",
      "Loss: 1.922735883935743e-9\n",
      "Loss: 1.921039832314101e-9\n"
     ]
    },
    {
     "name": "stdout",
     "output_type": "stream",
     "text": [
      "Loss: 1.9185891655326704e-9\n",
      "Loss: 1.9163497801391944e-9\n",
      "Loss: 1.9135927134945296e-9\n",
      "Loss: 1.912066703512664e-9\n"
     ]
    },
    {
     "name": "stdout",
     "output_type": "stream",
     "text": [
      "Loss: 1.91072831073593e-9\n",
      "Loss: 1.910002327474026e-9\n",
      "Loss: 1.9092173121382763e-9\n",
      "Loss: 1.908508490502167e-9\n",
      "Loss: 1.9077869682795078e-9\n"
     ]
    },
    {
     "name": "stdout",
     "output_type": "stream",
     "text": [
      "Loss: 1.9070718470853744e-9\n",
      "Loss: 1.9061977294541794e-9\n",
      "Loss: 1.904261690872376e-9\n",
      "Loss: 1.901238994235182e-9\n",
      "Loss: 1.899295471107008e-9\n"
     ]
    },
    {
     "name": "stdout",
     "output_type": "stream",
     "text": [
      "Loss: 1.8975133829345756e-9\n",
      "Loss: 1.8966663154597913e-9\n",
      "Loss: 1.8957772796882953e-9\n",
      "Loss: 1.8954645874979254e-9\n",
      "Loss: 1.895117487344346e-9\n",
      "Loss: 1.8946596918658124e-9\n"
     ]
    },
    {
     "name": "stdout",
     "output_type": "stream",
     "text": [
      "Loss: 1.8938477440052084e-9\n",
      "Loss: 1.8931528413817383e-9\n",
      "Loss: 1.8924178726686362e-9\n",
      "Loss: 1.891277619856996e-9\n",
      "Loss: 1.889777530773654e-9\n"
     ]
    },
    {
     "name": "stdout",
     "output_type": "stream",
     "text": [
      "Loss: 1.888745182256185e-9\n",
      "Loss: 1.8869719770969007e-9\n",
      "Loss: 1.8859011902983798e-9\n",
      "Loss: 1.884737383659473e-9\n",
      "Loss: 1.883797907334966e-9\n"
     ]
    },
    {
     "name": "stdout",
     "output_type": "stream",
     "text": [
      "Loss: 1.8826254927031742e-9\n",
      "Loss: 1.8814915497252275e-9\n",
      "Loss: 1.8807119969672697e-9\n",
      "Loss: 1.8797801235849086e-9\n",
      "Loss: 1.8782545589843494e-9\n",
      "Loss: 1.875481452762982e-9\n"
     ]
    },
    {
     "name": "stdout",
     "output_type": "stream",
     "text": [
      "Loss: 1.8731166495611133e-9\n",
      "Loss: 1.8691649343507703e-9\n",
      "Loss: 1.8650190170801943e-9\n",
      "Loss: 1.8591564434782728e-9\n",
      "Loss: 1.855271744136085e-9\n"
     ]
    },
    {
     "name": "stdout",
     "output_type": "stream",
     "text": [
      "Loss: 1.8536415057672251e-9\n",
      "Loss: 1.8524971633856235e-9\n",
      "Loss: 1.8516254396215346e-9\n",
      "Loss: 1.8503036218831926e-9\n",
      "Loss: 1.8495244779448408e-9\n",
      "Loss: 1.848850746678703e-9\n"
     ]
    },
    {
     "name": "stdout",
     "output_type": "stream",
     "text": [
      "Loss: 1.848347328559662e-9\n",
      "Loss: 1.847866208487325e-9\n",
      "Loss: 1.8475977692002496e-9\n",
      "Loss: 1.84730027090942e-9\n",
      "Loss: 1.8467497122034981e-9\n"
     ]
    },
    {
     "name": "stdout",
     "output_type": "stream",
     "text": [
      "Loss: 1.8456542078591557e-9\n",
      "Loss: 1.8442263250785328e-9\n",
      "Loss: 1.8417349014020373e-9\n",
      "Loss: 1.8388489006979274e-9\n",
      "Loss: 1.833569015347543e-9\n",
      "Loss: 1.8242972043858675e-9\n"
     ]
    },
    {
     "name": "stdout",
     "output_type": "stream",
     "text": [
      "Loss: 1.8170367353945362e-9\n",
      "Loss: 1.8043127062909803e-9\n",
      "Loss: 1.7858144551161717e-9\n",
      "Loss: 1.781467035973252e-9\n",
      "Loss: 1.7684279278625448e-9\n",
      "Loss: 1.7638801003240678e-9\n",
      "Loss: 1.7565207664424364e-9\n"
     ]
    },
    {
     "name": "stdout",
     "output_type": "stream",
     "text": [
      "Loss: 1.7540353842742037e-9\n",
      "Loss: 1.7499585067063016e-9\n",
      "Loss: 1.747260904191871e-9\n",
      "Loss: 1.7442455552198565e-9\n",
      "Loss: 1.7432913403592614e-9\n",
      "Loss: 1.7418852313618527e-9\n"
     ]
    },
    {
     "name": "stdout",
     "output_type": "stream",
     "text": [
      "Loss: 1.740874442895473e-9\n",
      "Loss: 1.7400101119139559e-9\n",
      "Loss: 1.738934967322114e-9\n",
      "Loss: 1.737394375058173e-9\n",
      "Loss: 1.7361155504415983e-9\n"
     ]
    },
    {
     "name": "stdout",
     "output_type": "stream",
     "text": [
      "Loss: 1.7343992830578494e-9\n",
      "Loss: 1.7332439126331193e-9\n",
      "Loss: 1.7324068850002414e-9\n",
      "Loss: 1.7315679186615644e-9\n",
      "Loss: 1.730915679948556e-9\n"
     ]
    },
    {
     "name": "stdout",
     "output_type": "stream",
     "text": [
      "Loss: 1.7302326769422934e-9\n",
      "Loss: 1.729291464679676e-9\n",
      "Loss: 1.7280539858179444e-9\n",
      "Loss: 1.7270094239372857e-9\n",
      "Loss: 1.7261292932188998e-9\n"
     ]
    },
    {
     "name": "stdout",
     "output_type": "stream",
     "text": [
      "Loss: 1.7255753555664006e-9\n",
      "Loss: 1.7252598470737547e-9\n",
      "Loss: 1.7247911782130869e-9\n",
      "Loss: 1.7244057059038202e-9\n",
      "Loss: 1.724186570708973e-9\n"
     ]
    },
    {
     "name": "stdout",
     "output_type": "stream",
     "text": [
      "Loss: 1.7239284026715506e-9\n",
      "Loss: 1.723733275564228e-9\n",
      "Loss: 1.7235988948359857e-9\n",
      "Loss: 1.7232550374376804e-9\n",
      "Loss: 1.7225136055787161e-9\n",
      "Loss: 1.7218467077337441e-9\n"
     ]
    },
    {
     "name": "stdout",
     "output_type": "stream",
     "text": [
      "Loss: 1.7210756722778337e-9\n",
      "Loss: 1.7204382035986085e-9\n",
      "Loss: 1.71956812172354e-9\n",
      "Loss: 1.7186792964257597e-9\n"
     ]
    },
    {
     "name": "stdout",
     "output_type": "stream",
     "text": [
      "Loss: 1.7165711274211535e-9\n",
      "Loss: 1.713351837387813e-9\n",
      "Loss: 1.7076335115919554e-9\n",
      "Loss: 1.697577946542218e-9\n",
      "Loss: 1.6919569218690565e-9\n",
      "Loss: 1.684035419695847e-9\n"
     ]
    },
    {
     "name": "stdout",
     "output_type": "stream",
     "text": [
      "Loss: 1.6755976177152976e-9\n",
      "Loss: 1.6705727637374213e-9\n",
      "Loss: 1.6666385890949425e-9\n",
      "Loss: 1.6632562218710606e-9\n",
      "Loss: 1.6594986099317199e-9\n",
      "Loss: 1.6521185659104955e-9\n"
     ]
    },
    {
     "name": "stdout",
     "output_type": "stream",
     "text": [
      "Loss: 1.6419037059457178e-9\n",
      "Loss: 1.6364696320618739e-9\n",
      "Loss: 1.6275290019552872e-9\n",
      "Loss: 1.6221580893236693e-9\n",
      "Loss: 1.6155187648972476e-9\n",
      "Loss: 1.6113712012508457e-9\n",
      "Loss: 1.6081411320352474e-9\n"
     ]
    },
    {
     "name": "stdout",
     "output_type": "stream",
     "text": [
      "Loss: 1.601957308788334e-9\n",
      "Loss: 1.5911418299808525e-9\n",
      "Loss: 1.5791966434528727e-9\n",
      "Loss: 1.5667464053243075e-9\n",
      "Loss: 1.5566341792876348e-9\n",
      "Loss: 1.543786120851128e-9\n",
      "Loss: 1.531069822903774e-9\n"
     ]
    },
    {
     "name": "stdout",
     "output_type": "stream",
     "text": [
      "Loss: 1.5226939839178924e-9\n",
      "Loss: 1.5042457182779725e-9\n",
      "Loss: 1.4874087609833637e-9\n",
      "Loss: 1.4717233477576236e-9\n",
      "Loss: 1.4515373416640474e-9\n",
      "Loss: 1.4306842378570407e-9\n",
      "Loss: 1.413258074945407e-9\n"
     ]
    },
    {
     "name": "stdout",
     "output_type": "stream",
     "text": [
      "Loss: 1.391843877210216e-9\n",
      "Loss: 1.3553784657725937e-9\n",
      "Loss: 1.3209312043097145e-9\n",
      "Loss: 1.3022172740328683e-9\n",
      "Loss: 1.2836760347752415e-9\n",
      "Loss: 1.2611015840652374e-9\n",
      "Loss: 1.2447540806165964e-9\n",
      "Loss: 1.2387030684839933e-9\n"
     ]
    },
    {
     "name": "stdout",
     "output_type": "stream",
     "text": [
      "Loss: 1.2308388517827261e-9\n",
      "Loss: 1.2231216734292648e-9\n",
      "Loss: 1.2175553513453553e-9\n",
      "Loss: 1.2127474977523007e-9\n",
      "Loss: 1.2093766991397262e-9\n",
      "Loss: 1.2039465245008377e-9\n"
     ]
    },
    {
     "name": "stdout",
     "output_type": "stream",
     "text": [
      "Loss: 1.195592302361445e-9\n",
      "Loss: 1.185365079983221e-9\n",
      "Loss: 1.1794590476207962e-9\n",
      "Loss: 1.1723994105177384e-9\n",
      "Loss: 1.1674286575915098e-9\n",
      "Loss: 1.1646258575857269e-9\n"
     ]
    },
    {
     "name": "stdout",
     "output_type": "stream",
     "text": [
      "Loss: 1.1611515803435544e-9\n",
      "Loss: 1.1572780553235754e-9\n",
      "Loss: 1.1511726743301701e-9\n",
      "Loss: 1.1470523050558811e-9\n",
      "Loss: 1.143644490585727e-9\n",
      "Loss: 1.1401426116585162e-9\n"
     ]
    },
    {
     "name": "stdout",
     "output_type": "stream",
     "text": [
      "Loss: 1.1374039914347386e-9\n",
      "Loss: 1.1353441276390412e-9\n",
      "Loss: 1.1335496539167713e-9\n",
      "Loss: 1.1312637444287246e-9\n",
      "Loss: 1.1286112761381007e-9\n",
      "Loss: 1.1263212796732312e-9\n"
     ]
    },
    {
     "name": "stdout",
     "output_type": "stream",
     "text": [
      "Loss: 1.1238327288194458e-9\n",
      "Loss: 1.120250971072158e-9\n",
      "Loss: 1.1159732829981297e-9\n",
      "Loss: 1.111555718334112e-9\n",
      "Loss: 1.1083261411327494e-9\n",
      "Loss: 1.103591497900999e-9\n"
     ]
    },
    {
     "name": "stdout",
     "output_type": "stream",
     "text": [
      "Loss: 1.0972575363451405e-9\n",
      "Loss: 1.092003546435698e-9\n",
      "Loss: 1.0897981170530444e-9\n",
      "Loss: 1.0873251422158788e-9\n",
      "Loss: 1.0853014621712571e-9\n",
      "Loss: 1.0823454111529933e-9\n"
     ]
    },
    {
     "name": "stdout",
     "output_type": "stream",
     "text": [
      "Loss: 1.080089574247485e-9\n",
      "Loss: 1.076851807293802e-9\n",
      "Loss: 1.075137972668949e-9\n",
      "Loss: 1.0728707171525763e-9\n",
      "Loss: 1.0701314814768661e-9\n",
      "Loss: 1.0675174025364206e-9\n"
     ]
    },
    {
     "name": "stdout",
     "output_type": "stream",
     "text": [
      "Loss: 1.066283624479659e-9\n",
      "Loss: 1.0648485206794473e-9\n",
      "Loss: 1.0637075530527325e-9\n",
      "Loss: 1.0618238462171374e-9\n"
     ]
    },
    {
     "name": "stdout",
     "output_type": "stream",
     "text": [
      "Loss: 1.0581828309729548e-9\n",
      "Loss: 1.0517345840716741e-9\n",
      "Loss: 1.0470545623827877e-9\n",
      "Loss: 1.0451322586199232e-9\n",
      "Loss: 1.043264117539099e-9\n"
     ]
    },
    {
     "name": "stdout",
     "output_type": "stream",
     "text": [
      "Loss: 1.0413766284326272e-9\n",
      "Loss: 1.0395754780728e-9\n",
      "Loss: 1.0368596141282605e-9\n",
      "Loss: 1.035057284549522e-9\n",
      "Loss: 1.0339046260092058e-9\n"
     ]
    },
    {
     "name": "stdout",
     "output_type": "stream",
     "text": [
      "Loss: 1.032865531309895e-9\n",
      "Loss: 1.0320087474906918e-9\n",
      "Loss: 1.0312620737214472e-9\n",
      "Loss: 1.0307184573531475e-9\n",
      "Loss: 1.02969260884414e-9\n"
     ]
    },
    {
     "name": "stdout",
     "output_type": "stream",
     "text": [
      "Loss: 1.0278105430105568e-9\n",
      "Loss: 1.0254014962656895e-9\n",
      "Loss: 1.0238639130520058e-9\n",
      "Loss: 1.0221105464755845e-9\n"
     ]
    },
    {
     "name": "stdout",
     "output_type": "stream",
     "text": [
      "Loss: 1.021287977597585e-9\n",
      "Loss: 1.0192607018902194e-9\n",
      "Loss: 1.016522871029379e-9\n",
      "Loss: 1.0135856409954337e-9\n",
      "Loss: 1.011951961921137e-9\n"
     ]
    },
    {
     "name": "stdout",
     "output_type": "stream",
     "text": [
      "Loss: 1.0086093010674103e-9\n",
      "Loss: 1.0065576105952938e-9\n",
      "Loss: 1.003526884936634e-9\n",
      "Loss: 1.0010729118499527e-9\n",
      "Loss: 9.973066661607545e-10\n"
     ]
    },
    {
     "name": "stdout",
     "output_type": "stream",
     "text": [
      "Loss: 9.93857585232702e-10\n",
      "Loss: 9.916608594899898e-10\n",
      "Loss: 9.882589816701627e-10\n",
      "Loss: 9.85614198940471e-10\n",
      "Loss: 9.846017194132976e-10\n",
      "Loss: 9.831407425255935e-10\n",
      "Loss: 9.818909631858871e-10\n"
     ]
    },
    {
     "name": "stdout",
     "output_type": "stream",
     "text": [
      "Loss: 9.79772693248833e-10\n",
      "Loss: 9.768438780819464e-10\n",
      "Loss: 9.716889669585087e-10\n",
      "Loss: 9.671712934819498e-10\n",
      "Loss: 9.657986016751415e-10\n"
     ]
    },
    {
     "name": "stdout",
     "output_type": "stream",
     "text": [
      "Loss: 9.62317566635038e-10\n",
      "Loss: 9.602690149246514e-10\n",
      "Loss: 9.572029776228459e-10\n",
      "Loss: 9.551358873619769e-10\n",
      "Loss: 9.517391817951572e-10\n"
     ]
    },
    {
     "name": "stdout",
     "output_type": "stream",
     "text": [
      "Loss: 9.474188070381734e-10\n",
      "Loss: 9.443619608873204e-10\n",
      "Loss: 9.420056510827736e-10\n",
      "Loss: 9.40334067175596e-10\n",
      "Loss: 9.378782390139909e-10\n"
     ]
    },
    {
     "name": "stdout",
     "output_type": "stream",
     "text": [
      "Loss: 9.360110729382932e-10\n",
      "Loss: 9.348454247741033e-10\n",
      "Loss: 9.338558918932957e-10\n",
      "Loss: 9.33322377525639e-10\n",
      "Loss: 9.328288349834364e-10\n",
      "Loss: 9.323155951741795e-10\n"
     ]
    },
    {
     "name": "stdout",
     "output_type": "stream",
     "text": [
      "Loss: 9.317846018235723e-10\n",
      "Loss: 9.313671279894419e-10\n",
      "Loss: 9.309733159426274e-10\n",
      "Loss: 9.305850828184898e-10\n",
      "Loss: 9.301964334402662e-10\n"
     ]
    },
    {
     "name": "stdout",
     "output_type": "stream",
     "text": [
      "Loss: 9.296680923880081e-10\n",
      "Loss: 9.29019405329011e-10\n",
      "Loss: 9.283417538428889e-10\n",
      "Loss: 9.278252425238967e-10\n",
      "Loss: 9.272644933331134e-10\n"
     ]
    },
    {
     "name": "stdout",
     "output_type": "stream",
     "text": [
      "Loss: 9.267475089351026e-10\n",
      "Loss: 9.261914581921349e-10\n",
      "Loss: 9.256257499813318e-10\n",
      "Loss: 9.250062562170118e-10\n",
      "Loss: 9.243032442880167e-10\n"
     ]
    },
    {
     "name": "stdout",
     "output_type": "stream",
     "text": [
      "Loss: 9.239069867618569e-10\n",
      "Loss: 9.235853061424522e-10\n",
      "Loss: 9.229817169854784e-10\n",
      "Loss: 9.218603547871047e-10\n",
      "Loss: 9.209584020953997e-10\n"
     ]
    },
    {
     "name": "stdout",
     "output_type": "stream",
     "text": [
      "Loss: 9.20383449956517e-10\n",
      "Loss: 9.195410282281978e-10\n",
      "Loss: 9.185957214092966e-10\n",
      "Loss: 9.177127000948534e-10\n",
      "Loss: 9.171034566895872e-10\n",
      "Loss: 9.161517251730553e-10\n"
     ]
    },
    {
     "name": "stdout",
     "output_type": "stream",
     "text": [
      "Loss: 9.151818562988082e-10\n",
      "Loss: 9.145760594555482e-10\n",
      "Loss: 9.139084203192911e-10\n",
      "Loss: 9.130915407797405e-10\n",
      "Loss: 9.122266331998886e-10\n",
      "Loss: 9.110644546819046e-10\n",
      "Loss: 9.101248684727227e-10\n"
     ]
    },
    {
     "name": "stdout",
     "output_type": "stream",
     "text": [
      "Loss: 9.084193682108729e-10\n",
      "Loss: 9.062803891853848e-10\n",
      "Loss: 9.050522232460194e-10\n",
      "Loss: 9.026884610276343e-10\n",
      "Loss: 9.014354082163433e-10\n"
     ]
    },
    {
     "name": "stdout",
     "output_type": "stream",
     "text": [
      "Loss: 9.004407699868948e-10\n",
      "Loss: 8.996112139935944e-10\n",
      "Loss: 8.988576717171269e-10\n",
      "Loss: 8.983903466662688e-10\n",
      "Loss: 8.978847286473743e-10\n"
     ]
    },
    {
     "name": "stdout",
     "output_type": "stream",
     "text": [
      "Loss: 8.972887660776705e-10\n",
      "Loss: 8.967208575757242e-10\n",
      "Loss: 8.962040672309105e-10\n",
      "Loss: 8.956343812631589e-10\n"
     ]
    },
    {
     "name": "stdout",
     "output_type": "stream",
     "text": [
      "Loss: 8.951601007078502e-10\n",
      "Loss: 8.948101920613477e-10\n",
      "Loss: 8.945195177652357e-10\n",
      "Loss: 8.942835429763579e-10\n"
     ]
    },
    {
     "name": "stdout",
     "output_type": "stream",
     "text": [
      "Loss: 8.940929426547114e-10\n",
      "Loss: 8.938695820844446e-10\n",
      "Loss: 8.936290771797051e-10\n",
      "Loss: 8.93296878794223e-10\n"
     ]
    },
    {
     "name": "stdout",
     "output_type": "stream",
     "text": [
      "Loss: 8.931475295851579e-10\n",
      "Loss: 8.930385076072631e-10\n",
      "Loss: 8.929969979614078e-10\n",
      "Loss: 8.928945393303337e-10\n"
     ]
    },
    {
     "name": "stdout",
     "output_type": "stream",
     "text": [
      "Loss: 8.926512534561764e-10\n",
      "Loss: 8.916716677000936e-10\n",
      "Loss: 8.907549211205966e-10\n",
      "Loss: 8.901784758292595e-10\n"
     ]
    },
    {
     "name": "stdout",
     "output_type": "stream",
     "text": [
      "Loss: 8.894510225120962e-10\n",
      "Loss: 8.887480679367329e-10\n",
      "Loss: 8.881437902662851e-10\n",
      "Loss: 8.876945930700483e-10\n",
      "Loss: 8.87092000143921e-10\n"
     ]
    },
    {
     "name": "stdout",
     "output_type": "stream",
     "text": [
      "Loss: 8.865439866887634e-10\n",
      "Loss: 8.860749103107515e-10\n",
      "Loss: 8.858593128548436e-10\n",
      "Loss: 8.855990910727157e-10\n",
      "Loss: 8.854207277792644e-10\n"
     ]
    },
    {
     "name": "stdout",
     "output_type": "stream",
     "text": [
      "Loss: 8.852803303379127e-10\n",
      "Loss: 8.851418186368701e-10\n",
      "Loss: 8.849900848779303e-10\n",
      "Loss: 8.848877792699303e-10\n",
      "Loss: 8.848144484666959e-10\n"
     ]
    },
    {
     "name": "stdout",
     "output_type": "stream",
     "text": [
      "Loss: 8.847217619789734e-10\n",
      "Loss: 8.846877342432526e-10\n",
      "Loss: 8.846056279967191e-10\n",
      "Loss: 8.845516113618638e-10\n",
      "Loss: 8.844184079806841e-10\n"
     ]
    },
    {
     "name": "stdout",
     "output_type": "stream",
     "text": [
      "Loss: 8.843009539027445e-10\n",
      "Loss: 8.841442550251058e-10\n",
      "Loss: 8.839681661334781e-10\n",
      "Loss: 8.838323752464554e-10\n",
      "Loss: 8.837416889104143e-10\n"
     ]
    },
    {
     "name": "stdout",
     "output_type": "stream",
     "text": [
      "Loss: 8.836563214649257e-10\n",
      "Loss: 8.835581124637907e-10\n",
      "Loss: 8.833901727931861e-10\n",
      "Loss: 8.832881401481883e-10\n",
      "Loss: 8.83117014496574e-10\n"
     ]
    },
    {
     "name": "stdout",
     "output_type": "stream",
     "text": [
      "Loss: 8.830349437409879e-10\n",
      "Loss: 8.82933038437888e-10\n",
      "Loss: 8.828292949315221e-10\n",
      "Loss: 8.827340425298389e-10\n",
      "Loss: 8.826922671652894e-10\n"
     ]
    },
    {
     "name": "stdout",
     "output_type": "stream",
     "text": [
      "Loss: 8.82591410308798e-10\n"
     ]
    },
    {
     "name": "stdout",
     "output_type": "stream",
     "text": [
      "Loss: 8.825768954431255e-10\n",
      "Loss: 8.825272405078626e-10\n",
      "Loss: 8.824887272956723e-10\n",
      "Loss: 8.824593657990202e-10\n",
      "Loss: 8.823748468459048e-10\n",
      "Loss: 8.823620107703058e-10\n"
     ]
    },
    {
     "name": "stdout",
     "output_type": "stream",
     "text": [
      "Loss: 8.8229612952981e-10\n",
      "Loss: 8.82199102113604e-10\n",
      "Loss: 8.820672942333273e-10\n",
      "Loss: 8.81896250537351e-10\n",
      "Loss: 8.818278272763885e-10\n",
      "Loss: 8.816808986386919e-10\n"
     ]
    },
    {
     "name": "stdout",
     "output_type": "stream",
     "text": [
      "Loss: 8.815479438448417e-10\n",
      "Loss: 8.814671798839852e-10\n",
      "Loss: 8.813302863979068e-10\n",
      "Loss: 8.812118956114105e-10\n",
      "Loss: 8.810462755458005e-10\n",
      "Loss: 8.809329033527245e-10\n"
     ]
    },
    {
     "name": "stdout",
     "output_type": "stream",
     "text": [
      "Loss: 8.807145809273723e-10\n",
      "Loss: 8.803562503161972e-10\n",
      "Loss: 8.801768904353881e-10\n",
      "Loss: 8.796676036079004e-10\n",
      "Loss: 8.79344783411344e-10\n",
      "Loss: 8.788713721697651e-10\n",
      "Loss: 8.785459736388712e-10\n"
     ]
    },
    {
     "name": "stdout",
     "output_type": "stream",
     "text": [
      "Loss: 8.781794369270342e-10\n",
      "Loss: 8.77820876602917e-10\n",
      "Loss: 8.775155986113203e-10\n",
      "Loss: 8.770902738147319e-10\n",
      "Loss: 8.765638752865236e-10\n"
     ]
    },
    {
     "name": "stdout",
     "output_type": "stream",
     "text": [
      "Loss: 8.762197067608066e-10\n",
      "Loss: 8.757698032627142e-10\n",
      "Loss: 8.754629679454242e-10\n",
      "Loss: 8.749411449797785e-10\n"
     ]
    },
    {
     "name": "stdout",
     "output_type": "stream",
     "text": [
      "Loss: 8.746384377720738e-10\n",
      "Loss: 8.74294765784858e-10\n",
      "Loss: 8.740483691527529e-10\n",
      "Loss: 8.738727196802877e-10\n",
      "Loss: 8.736447514109326e-10\n",
      "Loss: 8.733807742819921e-10\n"
     ]
    },
    {
     "name": "stdout",
     "output_type": "stream",
     "text": [
      "Loss: 8.731945788132608e-10\n",
      "Loss: 8.728784883791666e-10\n",
      "Loss: 8.726619367827469e-10\n",
      "Loss: 8.725491283251708e-10\n",
      "Loss: 8.722777833626988e-10\n",
      "Loss: 8.721829376120305e-10\n",
      "Loss: 8.719204556237633e-10\n"
     ]
    },
    {
     "name": "stdout",
     "output_type": "stream",
     "text": [
      "Loss: 8.717165880787571e-10\n",
      "Loss: 8.715864333506985e-10\n",
      "Loss: 8.714123506636745e-10\n",
      "Loss: 8.713107657133236e-10\n",
      "Loss: 8.711585920131319e-10\n"
     ]
    },
    {
     "name": "stdout",
     "output_type": "stream",
     "text": [
      "Loss: 8.709873513360604e-10\n",
      "Loss: 8.708313839087541e-10\n",
      "Loss: 8.706994548071317e-10\n",
      "Loss: 8.706118285640486e-10\n",
      "Loss: 8.705238002427208e-10\n"
     ]
    },
    {
     "name": "stdout",
     "output_type": "stream",
     "text": [
      "Loss: 8.704473238601306e-10\n",
      "Loss: 8.704061757011645e-10\n",
      "Loss: 8.703106594138302e-10\n",
      "Loss: 8.701894751186947e-10\n",
      "Loss: 8.700680450430689e-10\n",
      "Loss: 8.699810077865382e-10\n"
     ]
    },
    {
     "name": "stdout",
     "output_type": "stream",
     "text": [
      "Loss: 8.698758040985164e-10\n",
      "Loss: 8.698235567737081e-10\n",
      "Loss: 8.697509725077691e-10\n",
      "Loss: 8.696301255122854e-10\n",
      "Loss: 8.694906306861321e-10\n"
     ]
    },
    {
     "name": "stdout",
     "output_type": "stream",
     "text": [
      "Loss: 8.691549845398054e-10\n",
      "Loss: 8.688626834505379e-10\n",
      "Loss: 8.685902294876925e-10\n",
      "Loss: 8.681753283308755e-10\n",
      "Loss: 8.675144726851023e-10\n",
      "Loss: 8.669211495127293e-10\n"
     ]
    },
    {
     "name": "stdout",
     "output_type": "stream",
     "text": [
      "Loss: 8.66352766492713e-10\n",
      "Loss: 8.655324723508505e-10\n",
      "Loss: 8.6403763761538e-10\n",
      "Loss: 8.631341523305649e-10\n",
      "Loss: 8.617833638382462e-10\n"
     ]
    },
    {
     "name": "stdout",
     "output_type": "stream",
     "text": [
      "Loss: 8.610288694162675e-10\n",
      "Loss: 8.603002994843297e-10\n",
      "Loss: 8.593808605536779e-10\n",
      "Loss: 8.585570196230969e-10\n",
      "Loss: 8.576876914585528e-10\n"
     ]
    },
    {
     "name": "stdout",
     "output_type": "stream",
     "text": [
      "Loss: 8.567125401992953e-10\n",
      "Loss: 8.559016751166808e-10\n",
      "Loss: 8.553164845942369e-10\n",
      "Loss: 8.549214173461373e-10\n",
      "Loss: 8.544124646953796e-10\n"
     ]
    },
    {
     "name": "stdout",
     "output_type": "stream",
     "text": [
      "Loss: 8.539907806015637e-10\n",
      "Loss: 8.532355893705757e-10\n",
      "Loss: 8.52505285072566e-10\n",
      "Loss: 8.521176362168312e-10\n",
      "Loss: 8.516702707115195e-10\n"
     ]
    },
    {
     "name": "stdout",
     "output_type": "stream",
     "text": [
      "Loss: 8.51222472628736e-10\n",
      "Loss: 8.507270041014373e-10\n",
      "Loss: 8.501560521530746e-10\n",
      "Loss: 8.499179178312017e-10\n",
      "Loss: 8.496225975487417e-10\n"
     ]
    },
    {
     "name": "stdout",
     "output_type": "stream",
     "text": [
      "Loss: 8.493818483963579e-10\n",
      "Loss: 8.491204691042412e-10\n",
      "Loss: 8.489366811034579e-10\n",
      "Loss: 8.488022495228122e-10\n",
      "Loss: 8.486750141836259e-10\n"
     ]
    },
    {
     "name": "stdout",
     "output_type": "stream",
     "text": [
      "Loss: 8.485220897537124e-10\n",
      "Loss: 8.482782601223011e-10\n",
      "Loss: 8.48085016229022e-10\n",
      "Loss: 8.478363575050527e-10\n",
      "Loss: 8.476605583155886e-10\n"
     ]
    },
    {
     "name": "stdout",
     "output_type": "stream",
     "text": [
      "Loss: 8.475566476066252e-10\n",
      "Loss: 8.474609642787245e-10\n",
      "Loss: 8.472765491857409e-10\n",
      "Loss: 8.470737497719848e-10\n",
      "Loss: 8.469213155837184e-10\n"
     ]
    },
    {
     "name": "stdout",
     "output_type": "stream",
     "text": [
      "Loss: 8.46827614872991e-10\n",
      "Loss: 8.467476522131678e-10\n",
      "Loss: 8.466877923800367e-10\n",
      "Loss: 8.466200589670128e-10\n",
      "Loss: 8.46563735806504e-10\n",
      "Loss: 8.465065177629949e-10\n"
     ]
    },
    {
     "name": "stdout",
     "output_type": "stream",
     "text": [
      "Loss: 8.463892343532771e-10\n",
      "Loss: 8.463047296356216e-10\n",
      "Loss: 8.46193529944161e-10\n",
      "Loss: 8.461277661030519e-10\n",
      "Loss: 8.460644053835576e-10\n"
     ]
    },
    {
     "name": "stdout",
     "output_type": "stream",
     "text": [
      "Loss: 8.460184052450919e-10\n",
      "Loss: 8.459967829346077e-10\n",
      "Loss: 8.459695090285675e-10\n",
      "Loss: 8.458961182985816e-10\n",
      "Loss: 8.458571597196062e-10\n"
     ]
    },
    {
     "name": "stdout",
     "output_type": "stream",
     "text": [
      "Loss: 8.458008638438126e-10\n",
      "Loss: 8.457169138281251e-10\n",
      "Loss: 8.455976611053779e-10\n",
      "Loss: 8.455436729009968e-10\n",
      "Loss: 8.454213662147796e-10\n"
     ]
    },
    {
     "name": "stdout",
     "output_type": "stream",
     "text": [
      "Loss: 8.452590893243375e-10\n",
      "Loss: 8.45131124316611e-10\n",
      "Loss: 8.448479660537382e-10\n",
      "Loss: 8.445609661326301e-10\n",
      "Loss: 8.442225415519148e-10\n"
     ]
    },
    {
     "name": "stdout",
     "output_type": "stream",
     "text": [
      "Loss: 8.440295489751162e-10\n",
      "Loss: 8.436892650071539e-10\n",
      "Loss: 8.43001000791331e-10\n",
      "Loss: 8.425236724781461e-10\n",
      "Loss: 8.422046627671862e-10\n",
      "Loss: 8.415390970490692e-10\n"
     ]
    },
    {
     "name": "stdout",
     "output_type": "stream",
     "text": [
      "Loss: 8.41048664546546e-10\n",
      "Loss: 8.402134323133274e-10\n",
      "Loss: 8.394978983992702e-10\n",
      "Loss: 8.389472819158869e-10\n",
      "Loss: 8.378473618818982e-10\n"
     ]
    },
    {
     "name": "stdout",
     "output_type": "stream",
     "text": [
      "Loss: 8.3677327700543e-10\n",
      "Loss: 8.348718305088247e-10\n",
      "Loss: 8.340150831802973e-10\n",
      "Loss: 8.325255659871102e-10\n",
      "Loss: 8.310174983650576e-10\n",
      "Loss: 8.28823366213621e-10\n"
     ]
    },
    {
     "name": "stdout",
     "output_type": "stream",
     "text": [
      "Loss: 8.276839398276251e-10\n",
      "Loss: 8.258112291018577e-10\n",
      "Loss: 8.242743900630321e-10\n",
      "Loss: 8.236642547646077e-10\n",
      "Loss: 8.222930239376653e-10\n",
      "Loss: 8.211357594270098e-10\n"
     ]
    },
    {
     "name": "stdout",
     "output_type": "stream",
     "text": [
      "Loss: 8.199228850490856e-10\n",
      "Loss: 8.190258344807716e-10\n",
      "Loss: 8.18010341888184e-10\n",
      "Loss: 8.172700087830803e-10\n"
     ]
    },
    {
     "name": "stdout",
     "output_type": "stream",
     "text": [
      "Loss: 8.167094188873475e-10\n",
      "Loss: 8.155944429074964e-10\n",
      "Loss: 8.146002454956454e-10\n",
      "Loss: 8.139491172188757e-10\n",
      "Loss: 8.132670344424702e-10\n"
     ]
    },
    {
     "name": "stdout",
     "output_type": "stream",
     "text": [
      "Loss: 8.124031550054822e-10\n",
      "Loss: 8.119457757750767e-10\n",
      "Loss: 8.11470981620473e-10\n",
      "Loss: 8.112571950801758e-10\n",
      "Loss: 8.111037860410827e-10\n",
      "Loss: 8.109754164892141e-10\n"
     ]
    },
    {
     "name": "stdout",
     "output_type": "stream",
     "text": [
      "Loss: 8.108518926235027e-10\n",
      "Loss: 8.107556736885783e-10\n",
      "Loss: 8.105713521008536e-10\n",
      "Loss: 8.10263867555269e-10\n",
      "Loss: 8.100012871312436e-10\n"
     ]
    },
    {
     "name": "stdout",
     "output_type": "stream",
     "text": [
      "Loss: 8.098061146563006e-10\n",
      "Loss: 8.09657758732277e-10\n",
      "Loss: 8.095496035478988e-10\n",
      "Loss: 8.094722439604634e-10\n",
      "Loss: 8.093577600178604e-10\n"
     ]
    },
    {
     "name": "stdout",
     "output_type": "stream",
     "text": [
      "Loss: 8.093040015004324e-10\n",
      "Loss: 8.092378474361797e-10\n",
      "Loss: 8.092297565638664e-10\n",
      "Loss: 8.091213105434331e-10\n"
     ]
    },
    {
     "name": "stdout",
     "output_type": "stream",
     "text": [
      "Loss: 8.089405168431229e-10\n",
      "Loss: 8.086843462312767e-10\n",
      "Loss: 8.083955201789542e-10\n",
      "Loss: 8.079395815683891e-10\n"
     ]
    },
    {
     "name": "stdout",
     "output_type": "stream",
     "text": [
      "Loss: 8.075305874146041e-10\n",
      "Loss: 8.071593451395218e-10\n",
      "Loss: 8.067930323323211e-10\n",
      "Loss: 8.0649674306107e-10\n",
      "Loss: 8.062605012558512e-10\n"
     ]
    },
    {
     "name": "stdout",
     "output_type": "stream",
     "text": [
      "Loss: 8.060642353002181e-10\n",
      "Loss: 8.059718182031263e-10\n",
      "Loss: 8.058670328808394e-10\n",
      "Loss: 8.057999608089211e-10\n",
      "Loss: 8.057471253297295e-10\n"
     ]
    },
    {
     "name": "stdout",
     "output_type": "stream",
     "text": [
      "Loss: 8.057252119052714e-10\n",
      "Loss: 8.056716854417705e-10\n",
      "Loss: 8.056244632977802e-10\n",
      "Loss: 8.055952029064389e-10\n",
      "Loss: 8.055573828099508e-10\n"
     ]
    },
    {
     "name": "stdout",
     "output_type": "stream",
     "text": [
      "Loss: 8.055269282096485e-10\n"
     ]
    },
    {
     "name": "stdout",
     "output_type": "stream",
     "text": [
      "Loss: 8.055268728035751e-10\n",
      "Loss: 8.054749193109672e-10\n",
      "Loss: 8.05431478924285e-10\n",
      "Loss: 8.053925019453105e-10\n",
      "Loss: 8.052790162040163e-10\n"
     ]
    },
    {
     "name": "stdout",
     "output_type": "stream",
     "text": [
      "Loss: 8.052320458073462e-10\n",
      "Loss: 8.05113007969384e-10\n",
      "Loss: 8.049897411173228e-10\n",
      "Loss: 8.048708161610468e-10\n",
      "Loss: 8.048151176248403e-10\n",
      "Loss: 8.047366346469126e-10\n"
     ]
    },
    {
     "name": "stdout",
     "output_type": "stream",
     "text": [
      "Loss: 8.046389978508769e-10\n",
      "Loss: 8.045363827847536e-10\n",
      "Loss: 8.043380321611941e-10\n",
      "Loss: 8.040586379754041e-10\n",
      "Loss: 8.033262851596247e-10\n"
     ]
    },
    {
     "name": "stdout",
     "output_type": "stream",
     "text": [
      "Loss: 8.017630818801959e-10\n",
      "Loss: 7.992250534392969e-10\n",
      "Loss: 7.946439990273263e-10\n",
      "Loss: 7.871246925865259e-10\n",
      "Loss: 7.844213733052763e-10\n"
     ]
    },
    {
     "name": "stdout",
     "output_type": "stream",
     "text": [
      "Loss: 7.77930567677671e-10\n",
      "Loss: 7.764683343032972e-10\n",
      "Loss: 7.729357631875051e-10\n",
      "Loss: 7.714032894227433e-10\n",
      "Loss: 7.690798999449602e-10\n",
      "Loss: 7.674458815123831e-10\n",
      "Loss: 7.641235225652501e-10\n"
     ]
    },
    {
     "name": "stdout",
     "output_type": "stream",
     "text": [
      "Loss: 7.606302537270585e-10\n",
      "Loss: 7.572157167470896e-10\n",
      "Loss: 7.543539551031167e-10\n",
      "Loss: 7.51132026153184e-10\n",
      "Loss: 7.477062249620658e-10\n",
      "Loss: 7.430523928455805e-10\n",
      "Loss: 7.392183924365026e-10\n"
     ]
    },
    {
     "name": "stdout",
     "output_type": "stream",
     "text": [
      "Loss: 7.347565553153219e-10\n",
      "Loss: 7.299252191521839e-10\n",
      "Loss: 7.274763684802282e-10\n",
      "Loss: 7.233548194730506e-10\n",
      "Loss: 7.215029771135193e-10\n",
      "Loss: 7.193726720704938e-10\n",
      "Loss: 7.178534745334233e-10\n"
     ]
    },
    {
     "name": "stdout",
     "output_type": "stream",
     "text": [
      "Loss: 7.160954467953203e-10\n",
      "Loss: 7.147290277569173e-10\n",
      "Loss: 7.137785023993575e-10\n",
      "Loss: 7.127178224021603e-10\n",
      "Loss: 7.120589150783159e-10\n",
      "Loss: 7.114978557986912e-10\n",
      "Loss: 7.109160900949493e-10\n"
     ]
    },
    {
     "name": "stdout",
     "output_type": "stream",
     "text": [
      "Loss: 7.104341951527194e-10\n",
      "Loss: 7.097285631015401e-10\n",
      "Loss: 7.092111240580036e-10\n",
      "Loss: 7.087908414807341e-10\n",
      "Loss: 7.084799033886823e-10\n",
      "Loss: 7.082509175836768e-10\n"
     ]
    },
    {
     "name": "stdout",
     "output_type": "stream",
     "text": [
      "Loss: 7.080174977659686e-10\n",
      "Loss: 7.078613426116705e-10\n",
      "Loss: 7.076099366866416e-10\n",
      "Loss: 7.071868286721015e-10\n",
      "Loss: 7.067314645147287e-10\n"
     ]
    },
    {
     "name": "stdout",
     "output_type": "stream",
     "text": [
      "Loss: 7.062964945748572e-10\n",
      "Loss: 7.059958145523674e-10\n",
      "Loss: 7.055730135982531e-10\n"
     ]
    },
    {
     "name": "stdout",
     "output_type": "stream",
     "text": [
      "Loss: 7.047946920928991e-10\n",
      "Loss: 7.035359459247253e-10\n",
      "Loss: 7.024766077820024e-10\n",
      "Loss: 7.009304617190229e-10\n",
      "Loss: 7.000575850637245e-10\n",
      "Loss: 6.990310189832705e-10\n"
     ]
    },
    {
     "name": "stdout",
     "output_type": "stream",
     "text": [
      "Loss: 6.984932865288597e-10\n",
      "Loss: 6.980019340502089e-10\n",
      "Loss: 6.975828357667124e-10\n"
     ]
    },
    {
     "data": {
      "text/plain": [
       "u: \u001b[0mComponentVector{Float64}(layer_1 = (weight = [-0.003611744797647704; -0.004104779754369003; … ; -0.0037577347882950065; 0.0007648685020557036;;], bias = [-0.2903394308855167; -0.23062196842127833; … ; 0.1474123545106558; 0.08415693219001953;;]), layer_2 = (weight = [1.437681398920625 -1.0062844929585821 … -0.158790818029875 0.14466880507111876; 0.5963937152656211 -0.6674913823718799 … -1.7940903546743803 -1.3647527931487045; … ; -0.4513344396904726 -1.097418832257279 … -0.31707027860985765 -0.0337526931461428; -0.06795625602769452 0.2906381305068917 … 0.15655839712552994 -0.16008488292048126], bias = [0.0334411369818171; 0.30400641602786493; … ; -0.2592654061881339; 0.5124957859846183;;]), layer_3 = (weight = [0.09565687547937753 0.5783687246678366 … -1.750067523454672 -0.44522054970973834; 0.1304038286990826 1.135597877579795 … 0.03354576422597504 -1.2896358724822163; … ; -0.5290409765003735 -0.050301919093223194 … -0.3999589626337344 0.22660507413684916; 0.4698017566282452 -0.2705526468692284 … 0.48127547162277007 -0.24686163501229752], bias = [-0.31803926647164854; -0.2737083112489849; … ; 0.23760559504810708; -0.15725689686633124;;]), layer_4 = (weight = [-1.6955075479923671 -1.446472858277203 … -1.741658691489296 1.683629081708608; 0.6325332963115008 0.7224336589636778 … 0.23031710438341263 -1.1504868377756754; … ; -1.00955912522199 -0.7325307498639745 … -0.7637426150199786 1.2021495994092597; -0.41834550081335 -0.049270250998085366 … 0.1364997787836658 0.20324480873209103], bias = [-0.09550814502631731; 0.30921206796091893; … ; -0.05250126351193246; -0.18616756488770023;;]), layer_5 = (weight = [-4.160909712294678 8.121881956333636 … -7.993165121818256 -8.220702508847834], bias = [0.3913762937000712;;]))"
      ]
     },
     "metadata": {},
     "output_type": "display_data"
    }
   ],
   "source": [
    "function callback(p, l)\n",
    "    println(\"Loss: $l\")\n",
    "    return false\n",
    "end\n",
    "\n",
    "res = Optimization.solve(prob, BFGS(); maxiters=2000, callback=callback)"
   ]
  },
  {
   "cell_type": "code",
   "execution_count": 4,
   "metadata": {},
   "outputs": [
    {
     "data": {
      "image/png": "[encoded data removed]",
      "image/svg+xml": [
       "<?xml version=\"1.0\" encoding=\"utf-8\"?>\n",
       "<svg xmlns=\"http://www.w3.org/2000/svg\" xmlns:xlink=\"http://www.w3.org/1999/xlink\" width=\"600\" height=\"400\" viewBox=\"0 0 2400 1600\">\n",
       "<defs>\n",
       "  <clipPath id=\"clip790\">\n",
       "    <rect x=\"0\" y=\"0\" width=\"2400\" height=\"1600\"/>\n",
       "  </clipPath>\n",
       "</defs>\n",
       "<path clip-path=\"url(#clip790)\" d=\"M0 1600 L2400 1600 L2400 0 L0 0  Z\" fill=\"#ffffff\" fill-rule=\"evenodd\" fill-opacity=\"1\"/>\n",
       "<defs>\n",
       "  <clipPath id=\"clip791\">\n",
       "    <rect x=\"480\" y=\"0\" width=\"1681\" height=\"1600\"/>\n",
       "  </clipPath>\n",
       "</defs>\n",
       "<path clip-path=\"url(#clip790)\" d=\"M209.029 1486.45 L2352.76 1486.45 L2352.76 47.2441 L209.029 47.2441  Z\" fill=\"#ffffff\" fill-rule=\"evenodd\" fill-opacity=\"1\"/>\n",
       "<defs>\n",
       "  <clipPath id=\"clip792\">\n",
       "    <rect x=\"209\" y=\"47\" width=\"2145\" height=\"1440\"/>\n",
       "  </clipPath>\n",
       "</defs>\n",
       "<polyline clip-path=\"url(#clip792)\" style=\"stroke:#000000; stroke-linecap:round; stroke-linejoin:round; stroke-width:2; stroke-opacity:0.1; fill:none\" points=\"438.232,1486.45 438.232,47.2441 \"/>\n",
       "<polyline clip-path=\"url(#clip792)\" style=\"stroke:#000000; stroke-linecap:round; stroke-linejoin:round; stroke-width:2; stroke-opacity:0.1; fill:none\" points=\"859.562,1486.45 859.562,47.2441 \"/>\n",
       "<polyline clip-path=\"url(#clip792)\" style=\"stroke:#000000; stroke-linecap:round; stroke-linejoin:round; stroke-width:2; stroke-opacity:0.1; fill:none\" points=\"1280.89,1486.45 1280.89,47.2441 \"/>\n",
       "<polyline clip-path=\"url(#clip792)\" style=\"stroke:#000000; stroke-linecap:round; stroke-linejoin:round; stroke-width:2; stroke-opacity:0.1; fill:none\" points=\"1702.22,1486.45 1702.22,47.2441 \"/>\n",
       "<polyline clip-path=\"url(#clip792)\" style=\"stroke:#000000; stroke-linecap:round; stroke-linejoin:round; stroke-width:2; stroke-opacity:0.1; fill:none\" points=\"2123.55,1486.45 2123.55,47.2441 \"/>\n",
       "<polyline clip-path=\"url(#clip790)\" style=\"stroke:#000000; stroke-linecap:round; stroke-linejoin:round; stroke-width:4; stroke-opacity:1; fill:none\" points=\"209.029,1486.45 2352.76,1486.45 \"/>\n",
       "<polyline clip-path=\"url(#clip790)\" style=\"stroke:#000000; stroke-linecap:round; stroke-linejoin:round; stroke-width:4; stroke-opacity:1; fill:none\" points=\"438.232,1486.45 438.232,1467.55 \"/>\n",
       "<polyline clip-path=\"url(#clip790)\" style=\"stroke:#000000; stroke-linecap:round; stroke-linejoin:round; stroke-width:4; stroke-opacity:1; fill:none\" points=\"859.562,1486.45 859.562,1467.55 \"/>\n",
       "<polyline clip-path=\"url(#clip790)\" style=\"stroke:#000000; stroke-linecap:round; stroke-linejoin:round; stroke-width:4; stroke-opacity:1; fill:none\" points=\"1280.89,1486.45 1280.89,1467.55 \"/>\n",
       "<polyline clip-path=\"url(#clip790)\" style=\"stroke:#000000; stroke-linecap:round; stroke-linejoin:round; stroke-width:4; stroke-opacity:1; fill:none\" points=\"1702.22,1486.45 1702.22,1467.55 \"/>\n",
       "<polyline clip-path=\"url(#clip790)\" style=\"stroke:#000000; stroke-linecap:round; stroke-linejoin:round; stroke-width:4; stroke-opacity:1; fill:none\" points=\"2123.55,1486.45 2123.55,1467.55 \"/>\n",
       "<path clip-path=\"url(#clip790)\" d=\"M377.214 1532.02 L406.89 1532.02 L406.89 1535.95 L377.214 1535.95 L377.214 1532.02 Z\" fill=\"#000000\" fill-rule=\"nonzero\" fill-opacity=\"1\" /><path clip-path=\"url(#clip790)\" d=\"M417.028 1514.29 L435.385 1514.29 L435.385 1518.22 L421.311 1518.22 L421.311 1526.7 Q422.329 1526.35 423.348 1526.19 Q424.366 1526 425.385 1526 Q431.172 1526 434.552 1529.17 Q437.931 1532.34 437.931 1537.76 Q437.931 1543.34 434.459 1546.44 Q430.987 1549.52 424.667 1549.52 Q422.491 1549.52 420.223 1549.15 Q417.978 1548.78 415.57 1548.04 L415.57 1543.34 Q417.653 1544.47 419.876 1545.03 Q422.098 1545.58 424.575 1545.58 Q428.579 1545.58 430.917 1543.48 Q433.255 1541.37 433.255 1537.76 Q433.255 1534.15 430.917 1532.04 Q428.579 1529.94 424.575 1529.94 Q422.7 1529.94 420.825 1530.35 Q418.973 1530.77 417.028 1531.65 L417.028 1514.29 Z\" fill=\"#000000\" fill-rule=\"nonzero\" fill-opacity=\"1\" /><path clip-path=\"url(#clip790)\" d=\"M457.144 1517.37 Q453.533 1517.37 451.704 1520.93 Q449.899 1524.47 449.899 1531.6 Q449.899 1538.71 451.704 1542.27 Q453.533 1545.82 457.144 1545.82 Q460.778 1545.82 462.584 1542.27 Q464.412 1538.71 464.412 1531.6 Q464.412 1524.47 462.584 1520.93 Q460.778 1517.37 457.144 1517.37 M457.144 1513.66 Q462.954 1513.66 466.01 1518.27 Q469.088 1522.85 469.088 1531.6 Q469.088 1540.33 466.01 1544.94 Q462.954 1549.52 457.144 1549.52 Q451.334 1549.52 448.255 1544.94 Q445.2 1540.33 445.2 1531.6 Q445.2 1522.85 448.255 1518.27 Q451.334 1513.66 457.144 1513.66 Z\" fill=\"#000000\" fill-rule=\"nonzero\" fill-opacity=\"1\" /><path clip-path=\"url(#clip790)\" d=\"M487.306 1517.37 Q483.695 1517.37 481.866 1520.93 Q480.061 1524.47 480.061 1531.6 Q480.061 1538.71 481.866 1542.27 Q483.695 1545.82 487.306 1545.82 Q490.94 1545.82 492.746 1542.27 Q494.574 1538.71 494.574 1531.6 Q494.574 1524.47 492.746 1520.93 Q490.94 1517.37 487.306 1517.37 M487.306 1513.66 Q493.116 1513.66 496.172 1518.27 Q499.25 1522.85 499.25 1531.6 Q499.25 1540.33 496.172 1544.94 Q493.116 1549.52 487.306 1549.52 Q481.496 1549.52 478.417 1544.94 Q475.361 1540.33 475.361 1531.6 Q475.361 1522.85 478.417 1518.27 Q481.496 1513.66 487.306 1513.66 Z\" fill=\"#000000\" fill-rule=\"nonzero\" fill-opacity=\"1\" /><path clip-path=\"url(#clip790)\" d=\"M798.544 1532.02 L828.22 1532.02 L828.22 1535.95 L798.544 1535.95 L798.544 1532.02 Z\" fill=\"#000000\" fill-rule=\"nonzero\" fill-opacity=\"1\" /><path clip-path=\"url(#clip790)\" d=\"M842.34 1544.91 L858.659 1544.91 L858.659 1548.85 L836.715 1548.85 L836.715 1544.91 Q839.377 1542.16 843.96 1537.53 Q848.567 1532.88 849.747 1531.53 Q851.993 1529.01 852.872 1527.27 Q853.775 1525.51 853.775 1523.82 Q853.775 1521.07 851.831 1519.33 Q849.909 1517.6 846.808 1517.6 Q844.609 1517.6 842.155 1518.36 Q839.724 1519.13 836.947 1520.68 L836.947 1515.95 Q839.771 1514.82 842.224 1514.24 Q844.678 1513.66 846.715 1513.66 Q852.085 1513.66 855.28 1516.35 Q858.474 1519.03 858.474 1523.52 Q858.474 1525.65 857.664 1527.57 Q856.877 1529.47 854.77 1532.07 Q854.192 1532.74 851.09 1535.95 Q847.988 1539.15 842.34 1544.91 Z\" fill=\"#000000\" fill-rule=\"nonzero\" fill-opacity=\"1\" /><path clip-path=\"url(#clip790)\" d=\"M868.52 1514.29 L886.877 1514.29 L886.877 1518.22 L872.803 1518.22 L872.803 1526.7 Q873.821 1526.35 874.84 1526.19 Q875.858 1526 876.877 1526 Q882.664 1526 886.043 1529.17 Q889.423 1532.34 889.423 1537.76 Q889.423 1543.34 885.951 1546.44 Q882.479 1549.52 876.159 1549.52 Q873.983 1549.52 871.715 1549.15 Q869.469 1548.78 867.062 1548.04 L867.062 1543.34 Q869.145 1544.47 871.368 1545.03 Q873.59 1545.58 876.067 1545.58 Q880.071 1545.58 882.409 1543.48 Q884.747 1541.37 884.747 1537.76 Q884.747 1534.15 882.409 1532.04 Q880.071 1529.94 876.067 1529.94 Q874.192 1529.94 872.317 1530.35 Q870.465 1530.77 868.52 1531.65 L868.52 1514.29 Z\" fill=\"#000000\" fill-rule=\"nonzero\" fill-opacity=\"1\" /><path clip-path=\"url(#clip790)\" d=\"M908.636 1517.37 Q905.025 1517.37 903.196 1520.93 Q901.391 1524.47 901.391 1531.6 Q901.391 1538.71 903.196 1542.27 Q905.025 1545.82 908.636 1545.82 Q912.27 1545.82 914.076 1542.27 Q915.904 1538.71 915.904 1531.6 Q915.904 1524.47 914.076 1520.93 Q912.27 1517.37 908.636 1517.37 M908.636 1513.66 Q914.446 1513.66 917.502 1518.27 Q920.58 1522.85 920.58 1531.6 Q920.58 1540.33 917.502 1544.94 Q914.446 1549.52 908.636 1549.52 Q902.826 1549.52 899.747 1544.94 Q896.692 1540.33 896.692 1531.6 Q896.692 1522.85 899.747 1518.27 Q902.826 1513.66 908.636 1513.66 Z\" fill=\"#000000\" fill-rule=\"nonzero\" fill-opacity=\"1\" /><path clip-path=\"url(#clip790)\" d=\"M1280.89 1517.37 Q1277.28 1517.37 1275.45 1520.93 Q1273.65 1524.47 1273.65 1531.6 Q1273.65 1538.71 1275.45 1542.27 Q1277.28 1545.82 1280.89 1545.82 Q1284.53 1545.82 1286.33 1542.27 Q1288.16 1538.71 1288.16 1531.6 Q1288.16 1524.47 1286.33 1520.93 Q1284.53 1517.37 1280.89 1517.37 M1280.89 1513.66 Q1286.7 1513.66 1289.76 1518.27 Q1292.84 1522.85 1292.84 1531.6 Q1292.84 1540.33 1289.76 1544.94 Q1286.7 1549.52 1280.89 1549.52 Q1275.08 1549.52 1272 1544.94 Q1268.95 1540.33 1268.95 1531.6 Q1268.95 1522.85 1272 1518.27 Q1275.08 1513.66 1280.89 1513.66 Z\" fill=\"#000000\" fill-rule=\"nonzero\" fill-opacity=\"1\" /><path clip-path=\"url(#clip790)\" d=\"M1665.91 1544.91 L1682.23 1544.91 L1682.23 1548.85 L1660.29 1548.85 L1660.29 1544.91 Q1662.95 1542.16 1667.53 1537.53 Q1672.14 1532.88 1673.32 1531.53 Q1675.57 1529.01 1676.45 1527.27 Q1677.35 1525.51 1677.35 1523.82 Q1677.35 1521.07 1675.41 1519.33 Q1673.48 1517.6 1670.38 1517.6 Q1668.18 1517.6 1665.73 1518.36 Q1663.3 1519.13 1660.52 1520.68 L1660.52 1515.95 Q1663.35 1514.82 1665.8 1514.24 Q1668.25 1513.66 1670.29 1513.66 Q1675.66 1513.66 1678.85 1516.35 Q1682.05 1519.03 1682.05 1523.52 Q1682.05 1525.65 1681.24 1527.57 Q1680.45 1529.47 1678.35 1532.07 Q1677.77 1532.74 1674.66 1535.95 Q1671.56 1539.15 1665.91 1544.91 Z\" fill=\"#000000\" fill-rule=\"nonzero\" fill-opacity=\"1\" /><path clip-path=\"url(#clip790)\" d=\"M1692.1 1514.29 L1710.45 1514.29 L1710.45 1518.22 L1696.38 1518.22 L1696.38 1526.7 Q1697.4 1526.35 1698.41 1526.19 Q1699.43 1526 1700.45 1526 Q1706.24 1526 1709.62 1529.17 Q1713 1532.34 1713 1537.76 Q1713 1543.34 1709.53 1546.44 Q1706.05 1549.52 1699.73 1549.52 Q1697.56 1549.52 1695.29 1549.15 Q1693.04 1548.78 1690.64 1548.04 L1690.64 1543.34 Q1692.72 1544.47 1694.94 1545.03 Q1697.16 1545.58 1699.64 1545.58 Q1703.65 1545.58 1705.98 1543.48 Q1708.32 1541.37 1708.32 1537.76 Q1708.32 1534.15 1705.98 1532.04 Q1703.65 1529.94 1699.64 1529.94 Q1697.77 1529.94 1695.89 1530.35 Q1694.04 1530.77 1692.1 1531.65 L1692.1 1514.29 Z\" fill=\"#000000\" fill-rule=\"nonzero\" fill-opacity=\"1\" /><path clip-path=\"url(#clip790)\" d=\"M1732.21 1517.37 Q1728.6 1517.37 1726.77 1520.93 Q1724.97 1524.47 1724.97 1531.6 Q1724.97 1538.71 1726.77 1542.27 Q1728.6 1545.82 1732.21 1545.82 Q1735.84 1545.82 1737.65 1542.27 Q1739.48 1538.71 1739.48 1531.6 Q1739.48 1524.47 1737.65 1520.93 Q1735.84 1517.37 1732.21 1517.37 M1732.21 1513.66 Q1738.02 1513.66 1741.08 1518.27 Q1744.15 1522.85 1744.15 1531.6 Q1744.15 1540.33 1741.08 1544.94 Q1738.02 1549.52 1732.21 1549.52 Q1726.4 1549.52 1723.32 1544.94 Q1720.27 1540.33 1720.27 1531.6 Q1720.27 1522.85 1723.32 1518.27 Q1726.4 1513.66 1732.21 1513.66 Z\" fill=\"#000000\" fill-rule=\"nonzero\" fill-opacity=\"1\" /><path clip-path=\"url(#clip790)\" d=\"M2083.17 1514.29 L2101.53 1514.29 L2101.53 1518.22 L2087.45 1518.22 L2087.45 1526.7 Q2088.47 1526.35 2089.49 1526.19 Q2090.51 1526 2091.53 1526 Q2097.31 1526 2100.69 1529.17 Q2104.07 1532.34 2104.07 1537.76 Q2104.07 1543.34 2100.6 1546.44 Q2097.13 1549.52 2090.81 1549.52 Q2088.63 1549.52 2086.37 1549.15 Q2084.12 1548.78 2081.71 1548.04 L2081.71 1543.34 Q2083.8 1544.47 2086.02 1545.03 Q2088.24 1545.58 2090.72 1545.58 Q2094.72 1545.58 2097.06 1543.48 Q2099.4 1541.37 2099.4 1537.76 Q2099.4 1534.15 2097.06 1532.04 Q2094.72 1529.94 2090.72 1529.94 Q2088.84 1529.94 2086.97 1530.35 Q2085.12 1530.77 2083.17 1531.65 L2083.17 1514.29 Z\" fill=\"#000000\" fill-rule=\"nonzero\" fill-opacity=\"1\" /><path clip-path=\"url(#clip790)\" d=\"M2123.29 1517.37 Q2119.68 1517.37 2117.85 1520.93 Q2116.04 1524.47 2116.04 1531.6 Q2116.04 1538.71 2117.85 1542.27 Q2119.68 1545.82 2123.29 1545.82 Q2126.92 1545.82 2128.73 1542.27 Q2130.55 1538.71 2130.55 1531.6 Q2130.55 1524.47 2128.73 1520.93 Q2126.92 1517.37 2123.29 1517.37 M2123.29 1513.66 Q2129.1 1513.66 2132.15 1518.27 Q2135.23 1522.85 2135.23 1531.6 Q2135.23 1540.33 2132.15 1544.94 Q2129.1 1549.52 2123.29 1549.52 Q2117.48 1549.52 2114.4 1544.94 Q2111.34 1540.33 2111.34 1531.6 Q2111.34 1522.85 2114.4 1518.27 Q2117.48 1513.66 2123.29 1513.66 Z\" fill=\"#000000\" fill-rule=\"nonzero\" fill-opacity=\"1\" /><path clip-path=\"url(#clip790)\" d=\"M2153.45 1517.37 Q2149.84 1517.37 2148.01 1520.93 Q2146.2 1524.47 2146.2 1531.6 Q2146.2 1538.71 2148.01 1542.27 Q2149.84 1545.82 2153.45 1545.82 Q2157.08 1545.82 2158.89 1542.27 Q2160.72 1538.71 2160.72 1531.6 Q2160.72 1524.47 2158.89 1520.93 Q2157.08 1517.37 2153.45 1517.37 M2153.45 1513.66 Q2159.26 1513.66 2162.31 1518.27 Q2165.39 1522.85 2165.39 1531.6 Q2165.39 1540.33 2162.31 1544.94 Q2159.26 1549.52 2153.45 1549.52 Q2147.64 1549.52 2144.56 1544.94 Q2141.5 1540.33 2141.5 1531.6 Q2141.5 1522.85 2144.56 1518.27 Q2147.64 1513.66 2153.45 1513.66 Z\" fill=\"#000000\" fill-rule=\"nonzero\" fill-opacity=\"1\" /><polyline clip-path=\"url(#clip792)\" style=\"stroke:#000000; stroke-linecap:round; stroke-linejoin:round; stroke-width:2; stroke-opacity:0.1; fill:none\" points=\"209.029,1445.72 2352.76,1445.72 \"/>\n",
       "<polyline clip-path=\"url(#clip792)\" style=\"stroke:#000000; stroke-linecap:round; stroke-linejoin:round; stroke-width:2; stroke-opacity:0.1; fill:none\" points=\"209.029,1106.28 2352.76,1106.28 \"/>\n",
       "<polyline clip-path=\"url(#clip792)\" style=\"stroke:#000000; stroke-linecap:round; stroke-linejoin:round; stroke-width:2; stroke-opacity:0.1; fill:none\" points=\"209.029,766.846 2352.76,766.846 \"/>\n",
       "<polyline clip-path=\"url(#clip792)\" style=\"stroke:#000000; stroke-linecap:round; stroke-linejoin:round; stroke-width:2; stroke-opacity:0.1; fill:none\" points=\"209.029,427.41 2352.76,427.41 \"/>\n",
       "<polyline clip-path=\"url(#clip792)\" style=\"stroke:#000000; stroke-linecap:round; stroke-linejoin:round; stroke-width:2; stroke-opacity:0.1; fill:none\" points=\"209.029,87.9746 2352.76,87.9746 \"/>\n",
       "<polyline clip-path=\"url(#clip790)\" style=\"stroke:#000000; stroke-linecap:round; stroke-linejoin:round; stroke-width:4; stroke-opacity:1; fill:none\" points=\"209.029,1486.45 209.029,47.2441 \"/>\n",
       "<polyline clip-path=\"url(#clip790)\" style=\"stroke:#000000; stroke-linecap:round; stroke-linejoin:round; stroke-width:4; stroke-opacity:1; fill:none\" points=\"209.029,1445.72 227.926,1445.72 \"/>\n",
       "<polyline clip-path=\"url(#clip790)\" style=\"stroke:#000000; stroke-linecap:round; stroke-linejoin:round; stroke-width:4; stroke-opacity:1; fill:none\" points=\"209.029,1106.28 227.926,1106.28 \"/>\n",
       "<polyline clip-path=\"url(#clip790)\" style=\"stroke:#000000; stroke-linecap:round; stroke-linejoin:round; stroke-width:4; stroke-opacity:1; fill:none\" points=\"209.029,766.846 227.926,766.846 \"/>\n",
       "<polyline clip-path=\"url(#clip790)\" style=\"stroke:#000000; stroke-linecap:round; stroke-linejoin:round; stroke-width:4; stroke-opacity:1; fill:none\" points=\"209.029,427.41 227.926,427.41 \"/>\n",
       "<polyline clip-path=\"url(#clip790)\" style=\"stroke:#000000; stroke-linecap:round; stroke-linejoin:round; stroke-width:4; stroke-opacity:1; fill:none\" points=\"209.029,87.9746 227.926,87.9746 \"/>\n",
       "<path clip-path=\"url(#clip790)\" d=\"M50.9921 1446.17 L80.6679 1446.17 L80.6679 1450.1 L50.9921 1450.1 L50.9921 1446.17 Z\" fill=\"#000000\" fill-rule=\"nonzero\" fill-opacity=\"1\" /><path clip-path=\"url(#clip790)\" d=\"M91.5706 1459.06 L99.2095 1459.06 L99.2095 1432.7 L90.8993 1434.36 L90.8993 1430.1 L99.1632 1428.44 L103.839 1428.44 L103.839 1459.06 L111.478 1459.06 L111.478 1463 L91.5706 1463 L91.5706 1459.06 Z\" fill=\"#000000\" fill-rule=\"nonzero\" fill-opacity=\"1\" /><path clip-path=\"url(#clip790)\" d=\"M130.922 1431.52 Q127.311 1431.52 125.482 1435.08 Q123.677 1438.62 123.677 1445.75 Q123.677 1452.86 125.482 1456.42 Q127.311 1459.96 130.922 1459.96 Q134.556 1459.96 136.362 1456.42 Q138.191 1452.86 138.191 1445.75 Q138.191 1438.62 136.362 1435.08 Q134.556 1431.52 130.922 1431.52 M130.922 1427.81 Q136.732 1427.81 139.788 1432.42 Q142.867 1437 142.867 1445.75 Q142.867 1454.48 139.788 1459.08 Q136.732 1463.67 130.922 1463.67 Q125.112 1463.67 122.033 1459.08 Q118.978 1454.48 118.978 1445.75 Q118.978 1437 122.033 1432.42 Q125.112 1427.81 130.922 1427.81 Z\" fill=\"#000000\" fill-rule=\"nonzero\" fill-opacity=\"1\" /><path clip-path=\"url(#clip790)\" d=\"M161.084 1431.52 Q157.473 1431.52 155.644 1435.08 Q153.839 1438.62 153.839 1445.75 Q153.839 1452.86 155.644 1456.42 Q157.473 1459.96 161.084 1459.96 Q164.718 1459.96 166.524 1456.42 Q168.353 1452.86 168.353 1445.75 Q168.353 1438.62 166.524 1435.08 Q164.718 1431.52 161.084 1431.52 M161.084 1427.81 Q166.894 1427.81 169.95 1432.42 Q173.029 1437 173.029 1445.75 Q173.029 1454.48 169.95 1459.08 Q166.894 1463.67 161.084 1463.67 Q155.274 1463.67 152.195 1459.08 Q149.14 1454.48 149.14 1445.75 Q149.14 1437 152.195 1432.42 Q155.274 1427.81 161.084 1427.81 Z\" fill=\"#000000\" fill-rule=\"nonzero\" fill-opacity=\"1\" /><path clip-path=\"url(#clip790)\" d=\"M81.154 1106.73 L110.83 1106.73 L110.83 1110.67 L81.154 1110.67 L81.154 1106.73 Z\" fill=\"#000000\" fill-rule=\"nonzero\" fill-opacity=\"1\" /><path clip-path=\"url(#clip790)\" d=\"M120.969 1089 L139.325 1089 L139.325 1092.94 L125.251 1092.94 L125.251 1101.41 Q126.27 1101.06 127.288 1100.9 Q128.307 1100.71 129.325 1100.71 Q135.112 1100.71 138.492 1103.89 Q141.871 1107.06 141.871 1112.47 Q141.871 1118.05 138.399 1121.15 Q134.927 1124.23 128.607 1124.23 Q126.432 1124.23 124.163 1123.86 Q121.918 1123.49 119.51 1122.75 L119.51 1118.05 Q121.594 1119.19 123.816 1119.74 Q126.038 1120.3 128.515 1120.3 Q132.519 1120.3 134.857 1118.19 Q137.195 1116.08 137.195 1112.47 Q137.195 1108.86 134.857 1106.76 Q132.519 1104.65 128.515 1104.65 Q126.64 1104.65 124.765 1105.07 Q122.913 1105.48 120.969 1106.36 L120.969 1089 Z\" fill=\"#000000\" fill-rule=\"nonzero\" fill-opacity=\"1\" /><path clip-path=\"url(#clip790)\" d=\"M161.084 1092.08 Q157.473 1092.08 155.644 1095.64 Q153.839 1099.19 153.839 1106.32 Q153.839 1113.42 155.644 1116.99 Q157.473 1120.53 161.084 1120.53 Q164.718 1120.53 166.524 1116.99 Q168.353 1113.42 168.353 1106.32 Q168.353 1099.19 166.524 1095.64 Q164.718 1092.08 161.084 1092.08 M161.084 1088.38 Q166.894 1088.38 169.95 1092.98 Q173.029 1097.57 173.029 1106.32 Q173.029 1115.04 169.95 1119.65 Q166.894 1124.23 161.084 1124.23 Q155.274 1124.23 152.195 1119.65 Q149.14 1115.04 149.14 1106.32 Q149.14 1097.57 152.195 1092.98 Q155.274 1088.38 161.084 1088.38 Z\" fill=\"#000000\" fill-rule=\"nonzero\" fill-opacity=\"1\" /><path clip-path=\"url(#clip790)\" d=\"M161.084 752.644 Q157.473 752.644 155.644 756.209 Q153.839 759.751 153.839 766.88 Q153.839 773.987 155.644 777.552 Q157.473 781.093 161.084 781.093 Q164.718 781.093 166.524 777.552 Q168.353 773.987 168.353 766.88 Q168.353 759.751 166.524 756.209 Q164.718 752.644 161.084 752.644 M161.084 748.941 Q166.894 748.941 169.95 753.547 Q173.029 758.13 173.029 766.88 Q173.029 775.607 169.95 780.214 Q166.894 784.797 161.084 784.797 Q155.274 784.797 152.195 780.214 Q149.14 775.607 149.14 766.88 Q149.14 758.13 152.195 753.547 Q155.274 748.941 161.084 748.941 Z\" fill=\"#000000\" fill-rule=\"nonzero\" fill-opacity=\"1\" /><path clip-path=\"url(#clip790)\" d=\"M120.969 410.13 L139.325 410.13 L139.325 414.065 L125.251 414.065 L125.251 422.537 Q126.27 422.19 127.288 422.028 Q128.307 421.843 129.325 421.843 Q135.112 421.843 138.492 425.014 Q141.871 428.186 141.871 433.602 Q141.871 439.181 138.399 442.283 Q134.927 445.361 128.607 445.361 Q126.432 445.361 124.163 444.991 Q121.918 444.621 119.51 443.88 L119.51 439.181 Q121.594 440.315 123.816 440.871 Q126.038 441.426 128.515 441.426 Q132.519 441.426 134.857 439.32 Q137.195 437.213 137.195 433.602 Q137.195 429.991 134.857 427.885 Q132.519 425.778 128.515 425.778 Q126.64 425.778 124.765 426.195 Q122.913 426.612 120.969 427.491 L120.969 410.13 Z\" fill=\"#000000\" fill-rule=\"nonzero\" fill-opacity=\"1\" /><path clip-path=\"url(#clip790)\" d=\"M161.084 413.209 Q157.473 413.209 155.644 416.774 Q153.839 420.315 153.839 427.445 Q153.839 434.551 155.644 438.116 Q157.473 441.658 161.084 441.658 Q164.718 441.658 166.524 438.116 Q168.353 434.551 168.353 427.445 Q168.353 420.315 166.524 416.774 Q164.718 413.209 161.084 413.209 M161.084 409.505 Q166.894 409.505 169.95 414.112 Q173.029 418.695 173.029 427.445 Q173.029 436.172 169.95 440.778 Q166.894 445.361 161.084 445.361 Q155.274 445.361 152.195 440.778 Q149.14 436.172 149.14 427.445 Q149.14 418.695 152.195 414.112 Q155.274 409.505 161.084 409.505 Z\" fill=\"#000000\" fill-rule=\"nonzero\" fill-opacity=\"1\" /><path clip-path=\"url(#clip790)\" d=\"M91.5706 101.319 L99.2095 101.319 L99.2095 74.9539 L90.8993 76.6205 L90.8993 72.3613 L99.1632 70.6946 L103.839 70.6946 L103.839 101.319 L111.478 101.319 L111.478 105.255 L91.5706 105.255 L91.5706 101.319 Z\" fill=\"#000000\" fill-rule=\"nonzero\" fill-opacity=\"1\" /><path clip-path=\"url(#clip790)\" d=\"M130.922 73.7733 Q127.311 73.7733 125.482 77.3381 Q123.677 80.8798 123.677 88.0093 Q123.677 95.1158 125.482 98.6806 Q127.311 102.222 130.922 102.222 Q134.556 102.222 136.362 98.6806 Q138.191 95.1158 138.191 88.0093 Q138.191 80.8798 136.362 77.3381 Q134.556 73.7733 130.922 73.7733 M130.922 70.0696 Q136.732 70.0696 139.788 74.6761 Q142.867 79.2594 142.867 88.0093 Q142.867 96.7361 139.788 101.343 Q136.732 105.926 130.922 105.926 Q125.112 105.926 122.033 101.343 Q118.978 96.7361 118.978 88.0093 Q118.978 79.2594 122.033 74.6761 Q125.112 70.0696 130.922 70.0696 Z\" fill=\"#000000\" fill-rule=\"nonzero\" fill-opacity=\"1\" /><path clip-path=\"url(#clip790)\" d=\"M161.084 73.7733 Q157.473 73.7733 155.644 77.3381 Q153.839 80.8798 153.839 88.0093 Q153.839 95.1158 155.644 98.6806 Q157.473 102.222 161.084 102.222 Q164.718 102.222 166.524 98.6806 Q168.353 95.1158 168.353 88.0093 Q168.353 80.8798 166.524 77.3381 Q164.718 73.7733 161.084 73.7733 M161.084 70.0696 Q166.894 70.0696 169.95 74.6761 Q173.029 79.2594 173.029 88.0093 Q173.029 96.7361 169.95 101.343 Q166.894 105.926 161.084 105.926 Q155.274 105.926 152.195 101.343 Q149.14 96.7361 149.14 88.0093 Q149.14 79.2594 152.195 74.6761 Q155.274 70.0696 161.084 70.0696 Z\" fill=\"#000000\" fill-rule=\"nonzero\" fill-opacity=\"1\" /><polyline clip-path=\"url(#clip792)\" style=\"stroke:#009af9; stroke-linecap:round; stroke-linejoin:round; stroke-width:4; stroke-opacity:1; fill:none\" points=\"269.7,577.16 271.724,569.346 273.749,561.559 275.773,553.801 277.798,546.073 279.822,538.377 281.846,530.714 283.871,523.085 285.895,515.492 287.92,507.935 289.944,500.416 291.969,492.935 293.993,485.494 296.017,478.093 298.042,470.735 300.066,463.419 302.091,456.147 304.115,448.919 306.139,441.737 308.164,434.602 310.188,427.515 312.213,420.477 314.237,413.488 316.261,406.551 318.286,399.665 320.31,392.833 322.335,386.054 324.359,379.33 326.383,372.663 328.408,366.052 330.432,359.499 332.457,353.005 334.481,346.571 336.506,340.198 338.53,333.886 340.554,327.637 342.579,321.451 344.603,315.329 346.628,309.273 348.652,303.282 350.676,297.359 352.701,291.503 354.725,285.715 356.75,279.997 358.774,274.349 360.798,268.772 362.823,263.267 364.847,257.835 366.872,252.476 368.896,247.191 370.92,241.981 372.945,236.847 374.969,231.789 376.994,226.809 379.018,221.907 381.043,217.083 383.067,212.339 385.091,207.674 387.116,203.091 389.14,198.589 391.165,194.169 393.189,189.831 395.213,185.577 397.238,181.406 399.262,177.32 401.287,173.319 403.311,169.404 405.335,165.575 407.36,161.832 409.384,158.177 411.409,154.609 413.433,151.13 415.457,147.74 417.482,144.439 419.506,141.228 421.531,138.107 423.555,135.077 425.58,132.138 427.604,129.291 429.628,126.535 431.653,123.872 433.677,121.302 435.702,118.826 437.726,116.442 439.75,114.153 441.775,111.958 443.799,109.857 445.824,107.851 447.848,105.94 449.872,104.124 451.897,102.404 453.921,100.78 455.946,99.2521 457.97,97.8201 459.994,96.4847 462.019,95.2459 464.043,94.104 466.068,93.0592 468.092,92.1115 470.117,91.2612 472.141,90.5083 474.165,89.8531 476.19,89.2956 478.214,88.8359 480.239,88.474 482.263,88.2101 484.287,88.0442 486.312,87.9763 488.336,88.0064 490.361,88.1345 492.385,88.3606 494.409,88.6846 496.434,89.1066 498.458,89.6263 500.483,90.2438 502.507,90.9589 504.531,91.7715 506.556,92.6815 508.58,93.6887 510.605,94.793 512.629,95.9942 514.653,97.2922 516.678,98.6866 518.702,100.177 520.727,101.764 522.751,103.447 524.776,105.226 526.8,107.1 528.824,109.069 530.849,111.133 532.873,113.291 534.898,115.544 536.922,117.891 538.946,120.331 540.971,122.865 542.995,125.492 545.02,128.211 547.044,131.023 549.068,133.926 551.093,136.921 553.117,140.007 555.142,143.183 557.166,146.45 559.19,149.806 561.215,153.251 563.239,156.784 565.264,160.406 567.288,164.115 569.313,167.911 571.337,171.793 573.361,175.761 575.386,179.815 577.41,183.953 579.435,188.175 581.459,192.481 583.483,196.869 585.508,201.339 587.532,205.891 589.557,210.524 591.581,215.238 593.605,220.03 595.63,224.902 597.654,229.852 599.679,234.879 601.703,239.983 603.727,245.163 605.752,250.418 607.776,255.748 609.801,261.152 611.825,266.629 613.85,272.178 615.874,277.798 617.898,283.49 619.923,289.251 621.947,295.08 623.972,300.979 625.996,306.944 628.02,312.975 630.045,319.073 632.069,325.234 634.094,331.46 636.118,337.748 638.142,344.098 640.167,350.509 642.191,356.98 644.216,363.51 646.24,370.098 648.264,376.744 650.289,383.445 652.313,390.202 654.338,397.013 656.362,403.877 658.387,410.794 660.411,417.762 662.435,424.781 664.46,431.849 666.484,438.965 668.509,446.129 670.533,453.339 672.557,460.594 674.582,467.894 676.606,475.236 678.631,482.621 680.655,490.047 682.679,497.513 684.704,505.018 686.728,512.561 688.753,520.14 690.777,527.756 692.801,535.405 694.826,543.088 696.85,550.803 698.875,558.549 700.899,566.326 702.924,574.131 704.948,581.964 706.972,589.823 708.997,597.708 711.021,605.618 713.046,613.55 715.07,621.505 717.094,629.48 719.119,637.476 721.143,645.49 723.168,653.521 725.192,661.569 727.216,669.632 729.241,677.709 731.265,685.799 733.29,693.901 735.314,702.013 737.338,710.135 739.363,718.265 741.387,726.402 743.412,734.545 745.436,742.693 747.461,750.844 749.485,758.998 751.509,767.153 753.534,775.307 755.558,783.461 757.583,791.612 759.607,799.759 761.631,807.902 763.656,816.039 765.68,824.168 767.705,832.289 769.729,840.401 771.753,848.502 773.778,856.591 775.802,864.667 777.827,872.729 779.851,880.775 781.875,888.805 783.9,896.818 785.924,904.812 787.949,912.786 789.973,920.739 791.997,928.67 794.022,936.578 796.046,944.461 798.071,952.319 800.095,960.15 802.12,967.953 804.144,975.727 806.168,983.471 808.193,991.184 810.217,998.864 812.242,1006.51 814.266,1014.12 816.29,1021.7 818.315,1029.24 820.339,1036.74 822.364,1044.2 824.388,1051.63 826.412,1059.01 828.437,1066.35 830.461,1073.64 832.486,1080.9 834.51,1088.1 836.534,1095.26 838.559,1102.37 840.583,1109.44 842.608,1116.45 844.632,1123.42 846.657,1130.33 848.681,1137.19 850.705,1144 852.73,1150.75 854.754,1157.45 856.779,1164.09 858.803,1170.68 860.827,1177.2 862.852,1183.67 864.876,1190.08 866.901,1196.42 868.925,1202.7 870.949,1208.93 872.974,1215.08 874.998,1221.17 877.023,1227.2 879.047,1233.16 881.071,1239.05 883.096,1244.88 885.12,1250.63 887.145,1256.32 889.169,1261.93 891.194,1267.48 893.218,1272.95 895.242,1278.35 897.267,1283.67 899.291,1288.92 901.316,1294.09 903.34,1299.19 905.364,1304.22 907.389,1309.16 909.413,1314.03 911.438,1318.81 913.462,1323.52 915.486,1328.15 917.511,1332.69 919.535,1337.16 921.56,1341.54 923.584,1345.84 925.608,1350.06 927.633,1354.19 929.657,1358.23 931.682,1362.2 933.706,1366.07 935.731,1369.86 937.755,1373.56 939.779,1377.18 941.804,1380.7 943.828,1384.14 945.853,1387.49 947.877,1390.75 949.901,1393.92 951.926,1397 953.95,1399.99 955.975,1402.88 957.999,1405.69 960.023,1408.4 962.048,1411.02 964.072,1413.55 966.097,1415.98 968.121,1418.32 970.145,1420.57 972.17,1422.72 974.194,1424.78 976.219,1426.74 978.243,1428.61 980.268,1430.38 982.292,1432.05 984.316,1433.63 986.341,1435.12 988.365,1436.5 990.39,1437.79 992.414,1438.99 994.438,1440.08 996.463,1441.08 998.487,1441.99 1000.51,1442.79 1002.54,1443.5 1004.56,1444.11 1006.58,1444.62 1008.61,1445.04 1010.63,1445.35 1012.66,1445.57 1014.68,1445.69 1016.71,1445.71 1018.73,1445.64 1020.76,1445.47 1022.78,1445.19 1024.8,1444.83 1026.83,1444.36 1028.85,1443.79 1030.88,1443.13 1032.9,1442.37 1034.93,1441.51 1036.95,1440.56 1038.98,1439.51 1041,1438.36 1043.02,1437.11 1045.05,1435.77 1047.07,1434.33 1049.1,1432.79 1051.12,1431.16 1053.15,1429.43 1055.17,1427.61 1057.2,1425.69 1059.22,1423.68 1061.24,1421.57 1063.27,1419.37 1065.29,1417.07 1067.32,1414.68 1069.34,1412.2 1071.37,1409.62 1073.39,1406.95 1075.41,1404.19 1077.44,1401.34 1079.46,1398.39 1081.49,1395.35 1083.51,1392.23 1085.54,1389.01 1087.56,1385.7 1089.59,1382.3 1091.61,1378.82 1093.63,1375.24 1095.66,1371.58 1097.68,1367.83 1099.71,1364 1101.73,1360.07 1103.76,1356.07 1105.78,1351.97 1107.81,1347.8 1109.83,1343.54 1111.85,1339.19 1113.88,1334.77 1115.9,1330.26 1117.93,1325.67 1119.95,1321 1121.98,1316.25 1124,1311.42 1126.02,1306.51 1128.05,1301.53 1130.07,1296.46 1132.1,1291.32 1134.12,1286.11 1136.15,1280.82 1138.17,1275.45 1140.2,1270.01 1142.22,1264.5 1144.24,1258.92 1146.27,1253.27 1148.29,1247.54 1150.32,1241.75 1152.34,1235.89 1154.37,1229.96 1156.39,1223.97 1158.42,1217.9 1160.44,1211.78 1162.46,1205.59 1164.49,1199.33 1166.51,1193.02 1168.54,1186.64 1170.56,1180.2 1172.59,1173.7 1174.61,1167.15 1176.64,1160.53 1178.66,1153.86 1180.68,1147.13 1182.71,1140.35 1184.73,1133.51 1186.76,1126.62 1188.78,1119.68 1190.81,1112.69 1192.83,1105.65 1194.85,1098.56 1196.88,1091.42 1198.9,1084.23 1200.93,1077 1202.95,1069.72 1204.98,1062.41 1207,1055.04 1209.03,1047.64 1211.05,1040.2 1213.07,1032.71 1215.1,1025.19 1217.12,1017.63 1219.15,1010.04 1221.17,1002.4 1223.2,994.74 1225.22,987.043 1227.25,979.313 1229.27,971.553 1231.29,963.763 1233.32,955.945 1235.34,948.099 1237.37,940.227 1239.39,932.331 1241.42,924.41 1243.44,916.466 1245.47,908.502 1247.49,900.516 1249.51,892.512 1251.54,884.49 1253.56,876.45 1255.59,868.395 1257.61,860.326 1259.64,852.242 1261.66,844.147 1263.68,836.04 1265.71,827.924 1267.73,819.798 1269.76,811.665 1271.78,803.525 1273.81,795.379 1275.83,787.23 1277.86,779.077 1279.88,770.923 1281.9,762.768 1283.93,754.614 1285.95,746.462 1287.98,738.312 1290,730.167 1292.03,722.027 1294.05,713.894 1296.08,705.769 1298.1,697.652 1300.12,689.545 1302.15,681.45 1304.17,673.366 1306.2,665.296 1308.22,657.241 1310.25,649.202 1312.27,641.179 1314.29,633.174 1316.32,625.189 1318.34,617.224 1320.37,609.281 1322.39,601.36 1324.42,593.464 1326.44,585.592 1328.47,577.747 1330.49,569.929 1332.51,562.139 1334.54,554.379 1336.56,546.65 1338.59,538.952 1340.61,531.287 1342.64,523.657 1344.66,516.061 1346.69,508.502 1348.71,500.98 1350.73,493.496 1352.76,486.052 1354.78,478.648 1356.81,471.286 1358.83,463.966 1360.86,456.69 1362.88,449.458 1364.91,442.273 1366.93,435.134 1368.95,428.043 1370.98,421.001 1373,414.009 1375.03,407.067 1377.05,400.178 1379.08,393.342 1381.1,386.56 1383.12,379.832 1385.15,373.161 1387.17,366.546 1389.2,359.989 1391.22,353.491 1393.25,347.053 1395.27,340.675 1397.3,334.359 1399.32,328.104 1401.34,321.914 1403.37,315.787 1405.39,309.725 1407.42,303.729 1409.44,297.8 1411.47,291.939 1413.49,286.146 1415.52,280.422 1417.54,274.768 1419.56,269.186 1421.59,263.675 1423.61,258.237 1425.64,252.873 1427.66,247.582 1429.69,242.367 1431.71,237.228 1433.74,232.164 1435.76,227.179 1437.78,222.271 1439.81,217.441 1441.83,212.691 1443.86,208.021 1445.88,203.432 1447.91,198.924 1449.93,194.498 1451.95,190.154 1453.98,185.893 1456,181.716 1458.03,177.624 1460.05,173.616 1462.08,169.694 1464.1,165.858 1466.13,162.109 1468.15,158.447 1470.17,154.873 1472.2,151.387 1474.22,147.989 1476.25,144.682 1478.27,141.464 1480.3,138.336 1482.32,135.299 1484.35,132.353 1486.37,129.499 1488.39,126.737 1490.42,124.067 1492.44,121.491 1494.47,119.007 1496.49,116.617 1498.52,114.32 1500.54,112.118 1502.56,110.01 1504.59,107.997 1506.61,106.079 1508.64,104.256 1510.66,102.529 1512.69,100.898 1514.71,99.3621 1516.74,97.9229 1518.76,96.5801 1520.78,95.334 1522.81,94.1847 1524.83,93.1325 1526.86,92.1775 1528.88,91.3199 1530.91,90.5597 1532.93,89.8972 1534.96,89.3324 1536.98,88.8655 1539,88.4964 1541.03,88.2252 1543.05,88.0521 1545.08,87.9769 1547.1,87.9997 1549.13,88.1206 1551.15,88.3394 1553.18,88.6561 1555.2,89.0706 1557.22,89.583 1559.25,90.1931 1561.27,90.9007 1563.3,91.7059 1565.32,92.6084 1567.35,93.6082 1569.37,94.705 1571.39,95.8987 1573.42,97.1893 1575.44,98.5763 1577.47,100.06 1579.49,101.639 1581.52,103.315 1583.54,105.086 1585.57,106.953 1587.59,108.915 1589.61,110.972 1591.64,113.124 1593.66,115.37 1595.69,117.71 1597.71,120.143 1599.74,122.67 1601.76,125.29 1603.79,128.003 1605.81,130.808 1607.83,133.705 1609.86,136.693 1611.88,139.772 1613.91,142.941 1615.93,146.201 1617.96,149.55 1619.98,152.988 1622.01,156.515 1624.03,160.13 1626.05,163.832 1628.08,167.621 1630.1,171.497 1632.13,175.459 1634.15,179.505 1636.18,183.637 1638.2,187.853 1640.22,192.152 1642.25,196.534 1644.27,200.998 1646.3,205.544 1648.32,210.171 1650.35,214.878 1652.37,219.665 1654.4,224.531 1656.42,229.475 1658.44,234.497 1660.47,239.595 1662.49,244.77 1664.52,250.02 1666.54,255.344 1668.57,260.743 1670.59,266.214 1672.62,271.758 1674.64,277.373 1676.66,283.059 1678.69,288.815 1680.71,294.64 1682.74,300.533 1684.76,306.493 1686.79,312.519 1688.81,318.611 1690.83,324.768 1692.86,330.988 1694.88,337.271 1696.91,343.617 1698.93,350.023 1700.96,356.489 1702.98,363.014 1705.01,369.598 1707.03,376.239 1709.05,382.936 1711.08,389.689 1713.1,396.496 1715.13,403.357 1717.15,410.27 1719.18,417.235 1721.2,424.25 1723.23,431.315 1725.25,438.428 1727.27,445.589 1729.3,452.796 1731.32,460.048 1733.35,467.344 1735.37,474.684 1737.4,482.066 1739.42,489.489 1741.45,496.952 1743.47,504.454 1745.49,511.994 1747.52,519.57 1749.54,527.182 1751.57,534.828 1753.59,542.508 1755.62,550.221 1757.64,557.964 1759.66,565.738 1761.69,573.54 1763.71,581.371 1765.74,589.228 1767.76,597.111 1769.79,605.019 1771.81,612.95 1773.84,620.903 1775.86,628.878 1777.88,636.872 1779.91,644.885 1781.93,652.916 1783.96,660.963 1785.98,669.026 1788.01,677.102 1790.03,685.192 1792.06,693.293 1794.08,701.405 1796.1,709.526 1798.13,717.656 1800.15,725.792 1802.18,733.935 1804.2,742.082 1806.23,750.232 1808.25,758.385 1810.28,766.54 1812.3,774.694 1814.32,782.847 1816.35,790.998 1818.37,799.145 1820.4,807.287 1822.42,815.424 1824.45,823.554 1826.47,831.676 1828.49,839.788 1830.52,847.89 1832.54,855.981 1834.57,864.058 1836.59,872.122 1838.62,880.17 1840.64,888.202 1842.67,896.217 1844.69,904.213 1846.71,912.189 1848.74,920.144 1850.76,928.077 1852.79,935.986 1854.81,943.871 1856.84,951.731 1858.86,959.564 1860.89,967.369 1862.91,975.145 1864.93,982.891 1866.96,990.606 1868.98,998.288 1871.01,1005.94 1873.03,1013.55 1875.06,1021.13 1877.08,1028.67 1879.1,1036.18 1881.13,1043.64 1883.15,1051.07 1885.18,1058.45 1887.2,1065.8 1889.23,1073.1 1891.25,1080.35 1893.28,1087.56 1895.3,1094.72 1897.32,1101.84 1899.35,1108.91 1901.37,1115.93 1903.4,1122.9 1905.42,1129.81 1907.45,1136.68 1909.47,1143.49 1911.5,1150.25 1913.52,1156.95 1915.54,1163.6 1917.57,1170.18 1919.59,1176.71 1921.62,1183.19 1923.64,1189.6 1925.67,1195.95 1927.69,1202.23 1929.72,1208.46 1931.74,1214.62 1933.76,1220.72 1935.79,1226.75 1937.81,1232.71 1939.84,1238.61 1941.86,1244.44 1943.89,1250.2 1945.91,1255.89 1947.93,1261.51 1949.96,1267.06 1951.98,1272.54 1954.01,1277.94 1956.03,1283.27 1958.06,1288.53 1960.08,1293.71 1962.11,1298.81 1964.13,1303.84 1966.15,1308.79 1968.18,1313.66 1970.2,1318.45 1972.23,1323.17 1974.25,1327.8 1976.28,1332.35 1978.3,1336.83 1980.33,1341.21 1982.35,1345.52 1984.37,1349.74 1986.4,1353.88 1988.42,1357.93 1990.45,1361.9 1992.47,1365.78 1994.5,1369.58 1996.52,1373.29 1998.55,1376.91 2000.57,1380.44 2002.59,1383.89 2004.62,1387.24 2006.64,1390.51 2008.67,1393.68 2010.69,1396.77 2012.72,1399.76 2014.74,1402.67 2016.76,1405.48 2018.79,1408.2 2020.81,1410.83 2022.84,1413.36 2024.86,1415.8 2026.89,1418.15 2028.91,1420.4 2030.94,1422.56 2032.96,1424.62 2034.98,1426.59 2037.01,1428.47 2039.03,1430.25 2041.06,1431.93 2043.08,1433.52 2045.11,1435.01 2047.13,1436.4 2049.16,1437.7 2051.18,1438.9 2053.2,1440.01 2055.23,1441.01 2057.25,1441.92 2059.28,1442.74 2061.3,1443.45 2063.33,1444.07 2065.35,1444.59 2067.38,1445.01 2069.4,1445.33 2071.42,1445.56 2073.45,1445.69 2075.47,1445.72 2077.5,1445.65 2079.52,1445.48 2081.55,1445.22 2083.57,1444.86 2085.59,1444.4 2087.62,1443.84 2089.64,1443.18 2091.67,1442.43 2093.69,1441.58 2095.72,1440.63 2097.74,1439.59 2099.77,1438.45 2101.79,1437.21 2103.81,1435.87 2105.84,1434.44 2107.86,1432.91 2109.89,1431.29 2111.91,1429.57 2113.94,1427.76 2115.96,1425.84 2117.99,1423.84 2120.01,1421.74 2122.03,1419.54 2124.06,1417.25 2126.08,1414.87 2128.11,1412.39 2130.13,1409.82 2132.16,1407.16 2134.18,1404.4 2136.2,1401.55 2138.23,1398.62 2140.25,1395.59 2142.28,1392.46 2144.3,1389.25 2146.33,1385.95 2148.35,1382.56 2150.38,1379.08 2152.4,1375.52 2154.42,1371.86 2156.45,1368.12 2158.47,1364.29 2160.5,1360.37 2162.52,1356.37 2164.55,1352.29 2166.57,1348.12 2168.6,1343.86 2170.62,1339.53 2172.64,1335.1 2174.67,1330.6 2176.69,1326.02 2178.72,1321.35 2180.74,1316.61 2182.77,1311.79 2184.79,1306.88 2186.82,1301.9 2188.84,1296.85 2190.86,1291.71 2192.89,1286.5 2194.91,1281.22 2196.94,1275.86 2198.96,1270.43 2200.99,1264.92 2203.01,1259.35 2205.03,1253.7 2207.06,1247.98 2209.08,1242.19 2211.11,1236.34 2213.13,1230.41 2215.16,1224.42 2217.18,1218.36 2219.21,1212.24 2221.23,1206.06 2223.25,1199.81 2225.28,1193.49 2227.3,1187.12 2229.33,1180.69 2231.35,1174.19 2233.38,1167.64 2235.4,1161.03 2237.43,1154.36 2239.45,1147.64 2241.47,1140.86 2243.5,1134.03 2245.52,1127.14 2247.55,1120.21 2249.57,1113.22 2251.6,1106.18 2253.62,1099.09 2255.65,1091.96 2257.67,1084.78 2259.69,1077.55 2261.72,1070.28 2263.74,1062.96 2265.77,1055.6 2267.79,1048.2 2269.82,1040.76 2271.84,1033.28 2273.86,1025.76 2275.89,1018.2 2277.91,1010.61 2279.94,1002.98 2281.96,995.317 2283.99,987.622 2286.01,979.895 2288.04,972.137 2290.06,964.35 2292.08,956.534 \"/>\n",
       "<polyline clip-path=\"url(#clip792)\" style=\"stroke:#e26f46; stroke-linecap:round; stroke-linejoin:round; stroke-width:4; stroke-opacity:1; fill:none\" points=\"269.7,577.159 271.724,569.343 273.749,561.555 275.773,553.797 277.798,546.07 279.822,538.375 281.846,530.713 283.871,523.085 285.895,515.492 287.92,507.935 289.944,500.415 291.969,492.934 293.993,485.493 296.017,478.092 298.042,470.733 300.066,463.417 302.091,456.144 304.115,448.916 306.139,441.734 308.164,434.599 310.188,427.512 312.213,420.474 314.237,413.486 316.261,406.548 318.286,399.663 320.31,392.831 322.335,386.053 324.359,379.329 326.383,372.662 328.408,366.052 330.432,359.499 332.457,353.005 334.481,346.571 336.506,340.197 338.53,333.885 340.554,327.636 342.579,321.449 344.603,315.327 346.628,309.271 348.652,303.28 350.676,297.356 352.701,291.5 354.725,285.713 356.75,279.994 358.774,274.347 360.798,268.77 362.823,263.265 364.847,257.833 366.872,252.474 368.896,247.189 370.92,241.98 372.945,236.846 374.969,231.788 376.994,226.808 379.018,221.906 381.043,217.082 383.067,212.338 385.091,207.673 387.116,203.09 389.14,198.587 391.165,194.167 393.189,189.829 395.213,185.575 397.238,181.404 399.262,177.318 401.287,173.317 403.311,169.402 405.335,165.573 407.36,161.83 409.384,158.175 411.409,154.608 413.433,151.129 415.457,147.739 417.482,144.438 419.506,141.227 421.531,138.106 423.555,135.076 425.58,132.137 427.604,129.29 429.628,126.534 431.653,123.872 433.677,121.301 435.702,118.824 437.726,116.441 439.75,114.151 441.775,111.956 443.799,109.855 445.824,107.849 447.848,105.938 449.872,104.122 451.897,102.402 453.921,100.777 455.946,99.2493 457.97,97.8175 459.994,96.4822 462.019,95.2437 464.043,94.102 466.068,93.0574 468.092,92.11 470.117,91.26 472.141,90.5075 474.165,89.8525 476.19,89.2953 478.214,88.8358 480.239,88.4741 482.263,88.2103 484.287,88.0444 486.312,87.9765 488.336,88.0065 490.361,88.1344 492.385,88.3603 494.409,88.6841 496.434,89.1057 498.458,89.6252 500.483,90.2423 502.507,90.9571 504.531,91.7693 506.556,92.679 508.58,93.686 510.605,94.7901 512.629,95.9911 514.653,97.289 516.678,98.6834 518.702,100.174 520.727,101.761 522.751,103.444 524.776,105.223 526.8,107.097 528.824,109.067 530.849,111.131 532.873,113.29 534.898,115.543 536.922,117.89 538.946,120.331 540.971,122.865 542.995,125.492 545.02,128.212 547.044,131.024 549.068,133.927 551.093,136.922 553.117,140.008 555.142,143.184 557.166,146.45 559.19,149.805 561.215,153.25 563.239,156.783 565.264,160.404 567.288,164.113 569.313,167.909 571.337,171.791 573.361,175.759 575.386,179.812 577.41,183.95 579.435,188.172 581.459,192.477 583.483,196.866 585.508,201.337 587.532,205.889 589.557,210.522 591.581,215.235 593.605,220.028 595.63,224.9 597.654,229.85 599.679,234.878 601.703,239.982 603.727,245.163 605.752,250.419 607.776,255.749 609.801,261.153 611.825,266.63 613.85,272.179 615.874,277.799 617.898,283.49 619.923,289.251 621.947,295.08 623.972,300.978 625.996,306.943 628.02,312.974 630.045,319.071 632.069,325.232 634.094,331.458 636.118,337.746 638.142,344.095 640.167,350.506 642.191,356.977 644.216,363.507 646.24,370.095 648.264,376.741 650.289,383.443 652.313,390.2 654.338,397.011 656.362,403.876 658.387,410.793 660.411,417.762 662.435,424.781 664.46,431.849 666.484,438.966 668.509,446.129 670.533,453.34 672.557,460.595 674.582,467.895 676.606,475.237 678.631,482.622 680.655,490.048 682.679,497.514 684.704,505.019 686.728,512.561 688.753,520.14 690.777,527.755 692.801,535.404 694.826,543.087 696.85,550.801 698.875,558.547 700.899,566.324 702.924,574.129 704.948,581.961 706.972,589.821 708.997,597.706 711.021,605.616 713.046,613.548 715.07,621.503 717.094,629.479 719.119,637.475 721.143,645.489 723.168,653.521 725.192,661.569 727.216,669.632 729.241,677.71 731.265,685.8 733.29,693.902 735.314,702.014 737.338,710.136 739.363,718.266 741.387,726.403 743.412,734.546 745.436,742.693 747.461,750.844 749.485,758.998 751.509,767.152 753.534,775.307 755.558,783.46 757.583,791.61 759.607,799.758 761.631,807.9 763.656,816.037 765.68,824.166 767.705,832.287 769.729,840.399 771.753,848.5 773.778,856.589 775.802,864.666 777.827,872.728 779.851,880.775 781.875,888.805 783.9,896.818 785.924,904.813 787.949,912.787 789.973,920.74 791.997,928.671 794.022,936.579 796.046,944.462 798.071,952.32 800.095,960.15 802.12,967.953 804.144,975.727 806.168,983.471 808.193,991.183 810.217,998.863 812.242,1006.51 814.266,1014.12 816.29,1021.7 818.315,1029.24 820.339,1036.74 822.364,1044.2 824.388,1051.63 826.412,1059.01 828.437,1066.35 830.461,1073.64 832.486,1080.9 834.51,1088.1 836.534,1095.26 838.559,1102.38 840.583,1109.44 842.608,1116.46 844.632,1123.42 846.657,1130.33 848.681,1137.19 850.705,1144 852.73,1150.75 854.754,1157.45 856.779,1164.09 858.803,1170.68 860.827,1177.2 862.852,1183.67 864.876,1190.08 866.901,1196.42 868.925,1202.7 870.949,1208.92 872.974,1215.08 874.998,1221.17 877.023,1227.2 879.047,1233.16 881.071,1239.05 883.096,1244.88 885.12,1250.63 887.145,1256.32 889.169,1261.93 891.194,1267.48 893.218,1272.95 895.242,1278.35 897.267,1283.67 899.291,1288.92 901.316,1294.1 903.34,1299.19 905.364,1304.22 907.389,1309.16 909.413,1314.03 911.438,1318.81 913.462,1323.52 915.486,1328.15 917.511,1332.69 919.535,1337.16 921.56,1341.54 923.584,1345.84 925.608,1350.06 927.633,1354.19 929.657,1358.23 931.682,1362.2 933.706,1366.07 935.731,1369.86 937.755,1373.56 939.779,1377.18 941.804,1380.7 943.828,1384.14 945.853,1387.49 947.877,1390.75 949.901,1393.92 951.926,1397 953.95,1399.99 955.975,1402.88 957.999,1405.69 960.023,1408.4 962.048,1411.02 964.072,1413.55 966.097,1415.98 968.121,1418.32 970.145,1420.57 972.17,1422.72 974.194,1424.78 976.219,1426.74 978.243,1428.61 980.268,1430.38 982.292,1432.05 984.316,1433.63 986.341,1435.12 988.365,1436.5 990.39,1437.79 992.414,1438.99 994.438,1440.08 996.463,1441.08 998.487,1441.99 1000.51,1442.79 1002.54,1443.5 1004.56,1444.11 1006.58,1444.62 1008.61,1445.03 1010.63,1445.35 1012.66,1445.57 1014.68,1445.69 1016.71,1445.71 1018.73,1445.64 1020.76,1445.46 1022.78,1445.19 1024.8,1444.82 1026.83,1444.36 1028.85,1443.79 1030.88,1443.13 1032.9,1442.37 1034.93,1441.51 1036.95,1440.56 1038.98,1439.51 1041,1438.36 1043.02,1437.11 1045.05,1435.77 1047.07,1434.33 1049.1,1432.79 1051.12,1431.16 1053.15,1429.44 1055.17,1427.61 1057.2,1425.69 1059.22,1423.68 1061.24,1421.57 1063.27,1419.37 1065.29,1417.07 1067.32,1414.68 1069.34,1412.2 1071.37,1409.62 1073.39,1406.95 1075.41,1404.19 1077.44,1401.34 1079.46,1398.39 1081.49,1395.35 1083.51,1392.23 1085.54,1389.01 1087.56,1385.7 1089.59,1382.3 1091.61,1378.82 1093.63,1375.24 1095.66,1371.58 1097.68,1367.83 1099.71,1364 1101.73,1360.08 1103.76,1356.07 1105.78,1351.98 1107.81,1347.8 1109.83,1343.54 1111.85,1339.19 1113.88,1334.77 1115.9,1330.26 1117.93,1325.67 1119.95,1321 1121.98,1316.25 1124,1311.42 1126.02,1306.51 1128.05,1301.53 1130.07,1296.46 1132.1,1291.32 1134.12,1286.11 1136.15,1280.82 1138.17,1275.45 1140.2,1270.02 1142.22,1264.5 1144.24,1258.92 1146.27,1253.27 1148.29,1247.55 1150.32,1241.75 1152.34,1235.89 1154.37,1229.96 1156.39,1223.97 1158.42,1217.91 1160.44,1211.78 1162.46,1205.59 1164.49,1199.33 1166.51,1193.02 1168.54,1186.64 1170.56,1180.2 1172.59,1173.7 1174.61,1167.14 1176.64,1160.53 1178.66,1153.86 1180.68,1147.13 1182.71,1140.35 1184.73,1133.51 1186.76,1126.62 1188.78,1119.68 1190.81,1112.69 1192.83,1105.65 1194.85,1098.56 1196.88,1091.42 1198.9,1084.23 1200.93,1077 1202.95,1069.73 1204.98,1062.41 1207,1055.04 1209.03,1047.64 1211.05,1040.2 1213.07,1032.71 1215.1,1025.19 1217.12,1017.63 1219.15,1010.03 1221.17,1002.4 1223.2,994.739 1225.22,987.041 1227.25,979.312 1229.27,971.552 1231.29,963.762 1233.32,955.944 1235.34,948.099 1237.37,940.227 1239.39,932.331 1241.42,924.41 1243.44,916.467 1245.47,908.503 1247.49,900.517 1249.51,892.513 1251.54,884.49 1253.56,876.451 1255.59,868.396 1257.61,860.326 1259.64,852.242 1261.66,844.146 1263.68,836.039 1265.71,827.922 1267.73,819.797 1269.76,811.663 1271.78,803.523 1273.81,795.378 1275.83,787.229 1277.86,779.077 1279.88,770.923 1281.9,762.768 1283.93,754.614 1285.95,746.462 1287.98,738.313 1290,730.168 1292.03,722.028 1294.05,713.894 1296.08,705.769 1298.1,697.652 1300.12,689.545 1302.15,681.449 1304.17,673.366 1306.2,665.296 1308.22,657.24 1310.25,649.201 1312.27,641.178 1314.29,633.174 1316.32,625.189 1318.34,617.224 1320.37,609.281 1322.39,601.361 1324.42,593.464 1326.44,585.593 1328.47,577.747 1330.49,569.929 1332.51,562.14 1334.54,554.379 1336.56,546.65 1338.59,538.952 1340.61,531.288 1342.64,523.657 1344.66,516.061 1346.69,508.502 1348.71,500.979 1350.73,493.495 1352.76,486.051 1354.78,478.647 1356.81,471.285 1358.83,463.965 1360.86,456.689 1362.88,449.458 1364.91,442.272 1366.93,435.134 1368.95,428.043 1370.98,421.001 1373,414.009 1375.03,407.068 1377.05,400.179 1379.08,393.343 1381.1,386.56 1383.12,379.833 1385.15,373.161 1387.17,366.546 1389.2,359.989 1391.22,353.491 1393.25,347.052 1395.27,340.674 1397.3,334.357 1399.32,328.103 1401.34,321.912 1403.37,315.785 1405.39,309.724 1407.42,303.728 1409.44,297.799 1411.47,291.938 1413.49,286.145 1415.52,280.422 1417.54,274.769 1419.56,269.187 1421.59,263.676 1423.61,258.238 1425.64,252.874 1427.66,247.584 1429.69,242.369 1431.71,237.229 1433.74,232.166 1435.76,227.18 1437.78,222.272 1439.81,217.442 1441.83,212.692 1443.86,208.021 1445.88,203.431 1447.91,198.923 1449.93,194.496 1451.95,190.153 1453.98,185.892 1456,181.715 1458.03,177.622 1460.05,173.615 1462.08,169.693 1464.1,165.857 1466.13,162.108 1468.15,158.447 1470.17,154.873 1472.2,151.387 1474.22,147.99 1476.25,144.683 1478.27,141.465 1480.3,138.337 1482.32,135.301 1484.35,132.355 1486.37,129.501 1488.39,126.738 1490.42,124.069 1492.44,121.491 1494.47,119.007 1496.49,116.617 1498.52,114.32 1500.54,112.118 1502.56,110.01 1504.59,107.996 1506.61,106.078 1508.64,104.255 1510.66,102.528 1512.69,100.896 1514.71,99.3609 1516.74,97.9218 1518.76,96.5792 1520.78,95.3334 1522.81,94.1845 1524.83,93.1326 1526.86,92.1779 1528.88,91.3205 1530.91,90.5607 1532.93,89.8984 1534.96,89.3338 1536.98,88.8669 1539,88.4979 1541.03,88.2267 1543.05,88.0535 1545.08,87.9782 1547.1,88.0008 1549.13,88.1214 1551.15,88.3399 1553.18,88.6564 1555.2,89.0706 1557.22,89.5827 1559.25,90.1925 1561.27,90.8999 1563.3,91.7049 1565.32,92.6073 1567.35,93.6069 1569.37,94.7037 1571.39,95.8975 1573.42,97.1881 1575.44,98.5753 1577.47,100.059 1579.49,101.639 1581.52,103.315 1583.54,105.086 1585.57,106.953 1587.59,108.915 1589.61,110.973 1591.64,113.124 1593.66,115.371 1595.69,117.711 1597.71,120.144 1599.74,122.672 1601.76,125.292 1603.79,128.004 1605.81,130.809 1607.83,133.706 1609.86,136.694 1611.88,139.772 1613.91,142.942 1615.93,146.201 1617.96,149.55 1619.98,152.988 1622.01,156.514 1624.03,160.129 1626.05,163.831 1628.08,167.62 1630.1,171.496 1632.13,175.457 1634.15,179.504 1636.18,183.636 1638.2,187.852 1640.22,192.151 1642.25,196.533 1644.27,200.998 1646.3,205.544 1648.32,210.171 1650.35,214.878 1652.37,219.665 1654.4,224.531 1656.42,229.476 1658.44,234.497 1660.47,239.596 1662.49,244.771 1664.52,250.021 1666.54,255.345 1668.57,260.744 1670.59,266.215 1672.62,271.759 1674.64,277.374 1676.66,283.06 1678.69,288.815 1680.71,294.64 1682.74,300.532 1684.76,306.492 1686.79,312.519 1688.81,318.611 1690.83,324.767 1692.86,330.987 1694.88,337.271 1696.91,343.616 1698.93,350.022 1700.96,356.489 1702.98,363.014 1705.01,369.598 1707.03,376.239 1709.05,382.937 1711.08,389.69 1713.1,396.497 1715.13,403.358 1717.15,410.271 1719.18,417.236 1721.2,424.251 1723.23,431.316 1725.25,438.429 1727.27,445.589 1729.3,452.796 1731.32,460.048 1733.35,467.344 1735.37,474.684 1737.4,482.066 1739.42,489.488 1741.45,496.951 1743.47,504.453 1745.49,511.993 1747.52,519.569 1749.54,527.181 1751.57,534.828 1753.59,542.508 1755.62,550.22 1757.64,557.964 1759.66,565.738 1761.69,573.541 1763.71,581.372 1765.74,589.229 1767.76,597.112 1769.79,605.02 1771.81,612.951 1773.84,620.904 1775.86,628.879 1777.88,636.873 1779.91,644.886 1781.93,652.916 1783.96,660.963 1785.98,669.026 1788.01,677.102 1790.03,685.191 1792.06,693.292 1794.08,701.404 1796.1,709.525 1798.13,717.655 1800.15,725.791 1802.18,733.934 1804.2,742.081 1806.23,750.232 1808.25,758.385 1810.28,766.539 1812.3,774.694 1814.32,782.847 1816.35,790.998 1818.37,799.145 1820.4,807.288 1822.42,815.425 1824.45,823.555 1826.47,831.677 1828.49,839.789 1830.52,847.891 1832.54,855.982 1834.57,864.059 1836.59,872.122 1838.62,880.171 1840.64,888.202 1842.67,896.217 1844.69,904.212 1846.71,912.188 1848.74,920.143 1850.76,928.076 1852.79,935.985 1854.81,943.87 1856.84,951.73 1858.86,959.563 1860.89,967.368 1862.91,975.144 1864.93,982.89 1866.96,990.605 1868.98,998.287 1871.01,1005.94 1873.03,1013.55 1875.06,1021.13 1877.08,1028.67 1879.1,1036.18 1881.13,1043.64 1883.15,1051.07 1885.18,1058.45 1887.2,1065.8 1889.23,1073.1 1891.25,1080.35 1893.28,1087.56 1895.3,1094.73 1897.32,1101.84 1899.35,1108.91 1901.37,1115.93 1903.4,1122.9 1905.42,1129.82 1907.45,1136.68 1909.47,1143.49 1911.5,1150.25 1913.52,1156.95 1915.54,1163.6 1917.57,1170.18 1919.59,1176.71 1921.62,1183.18 1923.64,1189.6 1925.67,1195.95 1927.69,1202.23 1929.72,1208.46 1931.74,1214.62 1933.76,1220.72 1935.79,1226.75 1937.81,1232.71 1939.84,1238.61 1941.86,1244.44 1943.89,1250.2 1945.91,1255.89 1947.93,1261.51 1949.96,1267.06 1951.98,1272.54 1954.01,1277.94 1956.03,1283.27 1958.06,1288.53 1960.08,1293.71 1962.11,1298.81 1964.13,1303.84 1966.15,1308.79 1968.18,1313.66 1970.2,1318.46 1972.23,1323.17 1974.25,1327.8 1976.28,1332.35 1978.3,1336.83 1980.33,1341.21 1982.35,1345.52 1984.37,1349.74 1986.4,1353.88 1988.42,1357.93 1990.45,1361.9 1992.47,1365.78 1994.5,1369.58 1996.52,1373.29 1998.55,1376.91 2000.57,1380.44 2002.59,1383.89 2004.62,1387.24 2006.64,1390.51 2008.67,1393.68 2010.69,1396.77 2012.72,1399.76 2014.74,1402.67 2016.76,1405.48 2018.79,1408.2 2020.81,1410.83 2022.84,1413.36 2024.86,1415.8 2026.89,1418.15 2028.91,1420.4 2030.94,1422.56 2032.96,1424.62 2034.98,1426.59 2037.01,1428.47 2039.03,1430.25 2041.06,1431.93 2043.08,1433.52 2045.11,1435.01 2047.13,1436.4 2049.16,1437.7 2051.18,1438.9 2053.2,1440.01 2055.23,1441.01 2057.25,1441.92 2059.28,1442.73 2061.3,1443.45 2063.33,1444.07 2065.35,1444.59 2067.38,1445.01 2069.4,1445.33 2071.42,1445.56 2073.45,1445.68 2075.47,1445.71 2077.5,1445.65 2079.52,1445.48 2081.55,1445.22 2083.57,1444.86 2085.59,1444.4 2087.62,1443.84 2089.64,1443.18 2091.67,1442.43 2093.69,1441.58 2095.72,1440.63 2097.74,1439.59 2099.77,1438.45 2101.79,1437.21 2103.81,1435.87 2105.84,1434.44 2107.86,1432.91 2109.89,1431.29 2111.91,1429.57 2113.94,1427.75 2115.96,1425.84 2117.99,1423.84 2120.01,1421.74 2122.03,1419.54 2124.06,1417.25 2126.08,1414.87 2128.11,1412.39 2130.13,1409.82 2132.16,1407.16 2134.18,1404.4 2136.2,1401.55 2138.23,1398.62 2140.25,1395.59 2142.28,1392.46 2144.3,1389.25 2146.33,1385.95 2148.35,1382.56 2150.38,1379.08 2152.4,1375.52 2154.42,1371.86 2156.45,1368.12 2158.47,1364.29 2160.5,1360.37 2162.52,1356.37 2164.55,1352.29 2166.57,1348.12 2168.6,1343.86 2170.62,1339.52 2172.64,1335.1 2174.67,1330.6 2176.69,1326.02 2178.72,1321.35 2180.74,1316.61 2182.77,1311.79 2184.79,1306.88 2186.82,1301.9 2188.84,1296.85 2190.86,1291.71 2192.89,1286.5 2194.91,1281.22 2196.94,1275.86 2198.96,1270.43 2200.99,1264.92 2203.01,1259.34 2205.03,1253.7 2207.06,1247.98 2209.08,1242.19 2211.11,1236.34 2213.13,1230.41 2215.16,1224.42 2217.18,1218.36 2219.21,1212.24 2221.23,1206.06 2223.25,1199.81 2225.28,1193.49 2227.3,1187.12 2229.33,1180.69 2231.35,1174.19 2233.38,1167.64 2235.4,1161.03 2237.43,1154.36 2239.45,1147.64 2241.47,1140.86 2243.5,1134.03 2245.52,1127.14 2247.55,1120.21 2249.57,1113.22 2251.6,1106.18 2253.62,1099.09 2255.65,1091.96 2257.67,1084.78 2259.69,1077.55 2261.72,1070.27 2263.74,1062.96 2265.77,1055.6 2267.79,1048.2 2269.82,1040.76 2271.84,1033.28 2273.86,1025.76 2275.89,1018.2 2277.91,1010.61 2279.94,1002.98 2281.96,995.316 2283.99,987.621 2286.01,979.894 2288.04,972.136 2290.06,964.349 2292.08,956.533 \"/>\n",
       "<path clip-path=\"url(#clip790)\" d=\"M1967.74 250.738 L2281.3 250.738 L2281.3 95.2176 L1967.74 95.2176  Z\" fill=\"#ffffff\" fill-rule=\"evenodd\" fill-opacity=\"1\"/>\n",
       "<polyline clip-path=\"url(#clip790)\" style=\"stroke:#000000; stroke-linecap:round; stroke-linejoin:round; stroke-width:4; stroke-opacity:1; fill:none\" points=\"1967.74,250.738 2281.3,250.738 2281.3,95.2176 1967.74,95.2176 1967.74,250.738 \"/>\n",
       "<polyline clip-path=\"url(#clip790)\" style=\"stroke:#009af9; stroke-linecap:round; stroke-linejoin:round; stroke-width:4; stroke-opacity:1; fill:none\" points=\"1991.56,147.058 2134.47,147.058 \"/>\n",
       "<path clip-path=\"url(#clip790)\" d=\"M2162.57 160.449 L2162.57 174.199 L2158.29 174.199 L2158.29 138.412 L2162.57 138.412 L2162.57 142.347 Q2163.91 140.032 2165.95 138.921 Q2168.01 137.787 2170.86 137.787 Q2175.58 137.787 2178.52 141.537 Q2181.48 145.287 2181.48 151.398 Q2181.48 157.509 2178.52 161.259 Q2175.58 165.009 2170.86 165.009 Q2168.01 165.009 2165.95 163.898 Q2163.91 162.763 2162.57 160.449 M2177.06 151.398 Q2177.06 146.699 2175.12 144.037 Q2173.2 141.352 2169.82 141.352 Q2166.44 141.352 2164.49 144.037 Q2162.57 146.699 2162.57 151.398 Q2162.57 156.097 2164.49 158.782 Q2166.44 161.444 2169.82 161.444 Q2173.2 161.444 2175.12 158.782 Q2177.06 156.097 2177.06 151.398 Z\" fill=\"#000000\" fill-rule=\"nonzero\" fill-opacity=\"1\" /><path clip-path=\"url(#clip790)\" d=\"M2203.57 142.393 Q2202.85 141.977 2201.99 141.791 Q2201.16 141.583 2200.14 141.583 Q2196.53 141.583 2194.59 143.944 Q2192.66 146.282 2192.66 150.68 L2192.66 164.338 L2188.38 164.338 L2188.38 138.412 L2192.66 138.412 L2192.66 142.44 Q2194.01 140.078 2196.16 138.944 Q2198.31 137.787 2201.39 137.787 Q2201.83 137.787 2202.36 137.856 Q2202.9 137.903 2203.54 138.018 L2203.57 142.393 Z\" fill=\"#000000\" fill-rule=\"nonzero\" fill-opacity=\"1\" /><path clip-path=\"url(#clip790)\" d=\"M2229.17 150.31 L2229.17 152.393 L2209.59 152.393 Q2209.86 156.791 2212.22 159.106 Q2214.61 161.398 2218.85 161.398 Q2221.3 161.398 2223.59 160.796 Q2225.91 160.194 2228.17 158.99 L2228.17 163.018 Q2225.88 163.99 2223.47 164.5 Q2221.07 165.009 2218.59 165.009 Q2212.39 165.009 2208.75 161.398 Q2205.14 157.787 2205.14 151.629 Q2205.14 145.264 2208.57 141.537 Q2212.02 137.787 2217.85 137.787 Q2223.08 137.787 2226.11 141.166 Q2229.17 144.523 2229.17 150.31 M2224.91 149.06 Q2224.86 145.565 2222.94 143.481 Q2221.04 141.398 2217.9 141.398 Q2214.33 141.398 2212.18 143.412 Q2210.05 145.426 2209.72 149.083 L2224.91 149.06 Z\" fill=\"#000000\" fill-rule=\"nonzero\" fill-opacity=\"1\" /><path clip-path=\"url(#clip790)\" d=\"M2253.22 142.347 L2253.22 128.319 L2257.48 128.319 L2257.48 164.338 L2253.22 164.338 L2253.22 160.449 Q2251.88 162.763 2249.82 163.898 Q2247.78 165.009 2244.91 165.009 Q2240.21 165.009 2237.25 161.259 Q2234.31 157.509 2234.31 151.398 Q2234.31 145.287 2237.25 141.537 Q2240.21 137.787 2244.91 137.787 Q2247.78 137.787 2249.82 138.921 Q2251.88 140.032 2253.22 142.347 M2238.71 151.398 Q2238.71 156.097 2240.63 158.782 Q2242.57 161.444 2245.95 161.444 Q2249.33 161.444 2251.28 158.782 Q2253.22 156.097 2253.22 151.398 Q2253.22 146.699 2251.28 144.037 Q2249.33 141.352 2245.95 141.352 Q2242.57 141.352 2240.63 144.037 Q2238.71 146.699 2238.71 151.398 Z\" fill=\"#000000\" fill-rule=\"nonzero\" fill-opacity=\"1\" /><polyline clip-path=\"url(#clip790)\" style=\"stroke:#e26f46; stroke-linecap:round; stroke-linejoin:round; stroke-width:4; stroke-opacity:1; fill:none\" points=\"1991.56,198.898 2134.47,198.898 \"/>\n",
       "<path clip-path=\"url(#clip790)\" d=\"M2165.7 182.891 L2165.7 190.252 L2174.47 190.252 L2174.47 193.562 L2165.7 193.562 L2165.7 207.636 Q2165.7 210.807 2166.55 211.71 Q2167.43 212.613 2170.1 212.613 L2174.47 212.613 L2174.47 216.178 L2170.1 216.178 Q2165.16 216.178 2163.29 214.349 Q2161.41 212.497 2161.41 207.636 L2161.41 193.562 L2158.29 193.562 L2158.29 190.252 L2161.41 190.252 L2161.41 182.891 L2165.7 182.891 Z\" fill=\"#000000\" fill-rule=\"nonzero\" fill-opacity=\"1\" /><path clip-path=\"url(#clip790)\" d=\"M2195.1 194.233 Q2194.38 193.817 2193.52 193.631 Q2192.69 193.423 2191.67 193.423 Q2188.06 193.423 2186.11 195.784 Q2184.19 198.122 2184.19 202.52 L2184.19 216.178 L2179.91 216.178 L2179.91 190.252 L2184.19 190.252 L2184.19 194.28 Q2185.54 191.918 2187.69 190.784 Q2189.84 189.627 2192.92 189.627 Q2193.36 189.627 2193.89 189.696 Q2194.42 189.743 2195.07 189.858 L2195.1 194.233 Z\" fill=\"#000000\" fill-rule=\"nonzero\" fill-opacity=\"1\" /><path clip-path=\"url(#clip790)\" d=\"M2199.12 205.946 L2199.12 190.252 L2203.38 190.252 L2203.38 205.784 Q2203.38 209.465 2204.82 211.316 Q2206.25 213.145 2209.12 213.145 Q2212.57 213.145 2214.56 210.946 Q2216.58 208.747 2216.58 204.951 L2216.58 190.252 L2220.84 190.252 L2220.84 216.178 L2216.58 216.178 L2216.58 212.196 Q2215.03 214.557 2212.97 215.715 Q2210.93 216.849 2208.22 216.849 Q2203.75 216.849 2201.44 214.071 Q2199.12 211.293 2199.12 205.946 M2209.84 189.627 L2209.84 189.627 Z\" fill=\"#000000\" fill-rule=\"nonzero\" fill-opacity=\"1\" /><path clip-path=\"url(#clip790)\" d=\"M2251.78 202.15 L2251.78 204.233 L2232.2 204.233 Q2232.48 208.631 2234.84 210.946 Q2237.22 213.238 2241.46 213.238 Q2243.91 213.238 2246.21 212.636 Q2248.52 212.034 2250.79 210.83 L2250.79 214.858 Q2248.5 215.83 2246.09 216.34 Q2243.68 216.849 2241.21 216.849 Q2235 216.849 2231.37 213.238 Q2227.76 209.627 2227.76 203.469 Q2227.76 197.104 2231.18 193.377 Q2234.63 189.627 2240.47 189.627 Q2245.7 189.627 2248.73 193.006 Q2251.78 196.363 2251.78 202.15 M2247.53 200.9 Q2247.48 197.405 2245.56 195.321 Q2243.66 193.238 2240.51 193.238 Q2236.95 193.238 2234.79 195.252 Q2232.66 197.266 2232.34 200.923 L2247.53 200.9 Z\" fill=\"#000000\" fill-rule=\"nonzero\" fill-opacity=\"1\" /></svg>\n"
      ],
      "text/html": [
       "<?xml version=\"1.0\" encoding=\"utf-8\"?>\n",
       "<svg xmlns=\"http://www.w3.org/2000/svg\" xmlns:xlink=\"http://www.w3.org/1999/xlink\" width=\"600\" height=\"400\" viewBox=\"0 0 2400 1600\">\n",
       "<defs>\n",
       "  <clipPath id=\"clip840\">\n",
       "    <rect x=\"0\" y=\"0\" width=\"2400\" height=\"1600\"/>\n",
       "  </clipPath>\n",
       "</defs>\n",
       "<path clip-path=\"url(#clip840)\" d=\"M0 1600 L2400 1600 L2400 0 L0 0  Z\" fill=\"#ffffff\" fill-rule=\"evenodd\" fill-opacity=\"1\"/>\n",
       "<defs>\n",
       "  <clipPath id=\"clip841\">\n",
       "    <rect x=\"480\" y=\"0\" width=\"1681\" height=\"1600\"/>\n",
       "  </clipPath>\n",
       "</defs>\n",
       "<path clip-path=\"url(#clip840)\" d=\"M209.029 1486.45 L2352.76 1486.45 L2352.76 47.2441 L209.029 47.2441  Z\" fill=\"#ffffff\" fill-rule=\"evenodd\" fill-opacity=\"1\"/>\n",
       "<defs>\n",
       "  <clipPath id=\"clip842\">\n",
       "    <rect x=\"209\" y=\"47\" width=\"2145\" height=\"1440\"/>\n",
       "  </clipPath>\n",
       "</defs>\n",
       "<polyline clip-path=\"url(#clip842)\" style=\"stroke:#000000; stroke-linecap:round; stroke-linejoin:round; stroke-width:2; stroke-opacity:0.1; fill:none\" points=\"438.232,1486.45 438.232,47.2441 \"/>\n",
       "<polyline clip-path=\"url(#clip842)\" style=\"stroke:#000000; stroke-linecap:round; stroke-linejoin:round; stroke-width:2; stroke-opacity:0.1; fill:none\" points=\"859.562,1486.45 859.562,47.2441 \"/>\n",
       "<polyline clip-path=\"url(#clip842)\" style=\"stroke:#000000; stroke-linecap:round; stroke-linejoin:round; stroke-width:2; stroke-opacity:0.1; fill:none\" points=\"1280.89,1486.45 1280.89,47.2441 \"/>\n",
       "<polyline clip-path=\"url(#clip842)\" style=\"stroke:#000000; stroke-linecap:round; stroke-linejoin:round; stroke-width:2; stroke-opacity:0.1; fill:none\" points=\"1702.22,1486.45 1702.22,47.2441 \"/>\n",
       "<polyline clip-path=\"url(#clip842)\" style=\"stroke:#000000; stroke-linecap:round; stroke-linejoin:round; stroke-width:2; stroke-opacity:0.1; fill:none\" points=\"2123.55,1486.45 2123.55,47.2441 \"/>\n",
       "<polyline clip-path=\"url(#clip840)\" style=\"stroke:#000000; stroke-linecap:round; stroke-linejoin:round; stroke-width:4; stroke-opacity:1; fill:none\" points=\"209.029,1486.45 2352.76,1486.45 \"/>\n",
       "<polyline clip-path=\"url(#clip840)\" style=\"stroke:#000000; stroke-linecap:round; stroke-linejoin:round; stroke-width:4; stroke-opacity:1; fill:none\" points=\"438.232,1486.45 438.232,1467.55 \"/>\n",
       "<polyline clip-path=\"url(#clip840)\" style=\"stroke:#000000; stroke-linecap:round; stroke-linejoin:round; stroke-width:4; stroke-opacity:1; fill:none\" points=\"859.562,1486.45 859.562,1467.55 \"/>\n",
       "<polyline clip-path=\"url(#clip840)\" style=\"stroke:#000000; stroke-linecap:round; stroke-linejoin:round; stroke-width:4; stroke-opacity:1; fill:none\" points=\"1280.89,1486.45 1280.89,1467.55 \"/>\n",
       "<polyline clip-path=\"url(#clip840)\" style=\"stroke:#000000; stroke-linecap:round; stroke-linejoin:round; stroke-width:4; stroke-opacity:1; fill:none\" points=\"1702.22,1486.45 1702.22,1467.55 \"/>\n",
       "<polyline clip-path=\"url(#clip840)\" style=\"stroke:#000000; stroke-linecap:round; stroke-linejoin:round; stroke-width:4; stroke-opacity:1; fill:none\" points=\"2123.55,1486.45 2123.55,1467.55 \"/>\n",
       "<path clip-path=\"url(#clip840)\" d=\"M377.214 1532.02 L406.89 1532.02 L406.89 1535.95 L377.214 1535.95 L377.214 1532.02 Z\" fill=\"#000000\" fill-rule=\"nonzero\" fill-opacity=\"1\" /><path clip-path=\"url(#clip840)\" d=\"M417.028 1514.29 L435.385 1514.29 L435.385 1518.22 L421.311 1518.22 L421.311 1526.7 Q422.329 1526.35 423.348 1526.19 Q424.366 1526 425.385 1526 Q431.172 1526 434.552 1529.17 Q437.931 1532.34 437.931 1537.76 Q437.931 1543.34 434.459 1546.44 Q430.987 1549.52 424.667 1549.52 Q422.491 1549.52 420.223 1549.15 Q417.978 1548.78 415.57 1548.04 L415.57 1543.34 Q417.653 1544.47 419.876 1545.03 Q422.098 1545.58 424.575 1545.58 Q428.579 1545.58 430.917 1543.48 Q433.255 1541.37 433.255 1537.76 Q433.255 1534.15 430.917 1532.04 Q428.579 1529.94 424.575 1529.94 Q422.7 1529.94 420.825 1530.35 Q418.973 1530.77 417.028 1531.65 L417.028 1514.29 Z\" fill=\"#000000\" fill-rule=\"nonzero\" fill-opacity=\"1\" /><path clip-path=\"url(#clip840)\" d=\"M457.144 1517.37 Q453.533 1517.37 451.704 1520.93 Q449.899 1524.47 449.899 1531.6 Q449.899 1538.71 451.704 1542.27 Q453.533 1545.82 457.144 1545.82 Q460.778 1545.82 462.584 1542.27 Q464.412 1538.71 464.412 1531.6 Q464.412 1524.47 462.584 1520.93 Q460.778 1517.37 457.144 1517.37 M457.144 1513.66 Q462.954 1513.66 466.01 1518.27 Q469.088 1522.85 469.088 1531.6 Q469.088 1540.33 466.01 1544.94 Q462.954 1549.52 457.144 1549.52 Q451.334 1549.52 448.255 1544.94 Q445.2 1540.33 445.2 1531.6 Q445.2 1522.85 448.255 1518.27 Q451.334 1513.66 457.144 1513.66 Z\" fill=\"#000000\" fill-rule=\"nonzero\" fill-opacity=\"1\" /><path clip-path=\"url(#clip840)\" d=\"M487.306 1517.37 Q483.695 1517.37 481.866 1520.93 Q480.061 1524.47 480.061 1531.6 Q480.061 1538.71 481.866 1542.27 Q483.695 1545.82 487.306 1545.82 Q490.94 1545.82 492.746 1542.27 Q494.574 1538.71 494.574 1531.6 Q494.574 1524.47 492.746 1520.93 Q490.94 1517.37 487.306 1517.37 M487.306 1513.66 Q493.116 1513.66 496.172 1518.27 Q499.25 1522.85 499.25 1531.6 Q499.25 1540.33 496.172 1544.94 Q493.116 1549.52 487.306 1549.52 Q481.496 1549.52 478.417 1544.94 Q475.361 1540.33 475.361 1531.6 Q475.361 1522.85 478.417 1518.27 Q481.496 1513.66 487.306 1513.66 Z\" fill=\"#000000\" fill-rule=\"nonzero\" fill-opacity=\"1\" /><path clip-path=\"url(#clip840)\" d=\"M798.544 1532.02 L828.22 1532.02 L828.22 1535.95 L798.544 1535.95 L798.544 1532.02 Z\" fill=\"#000000\" fill-rule=\"nonzero\" fill-opacity=\"1\" /><path clip-path=\"url(#clip840)\" d=\"M842.34 1544.91 L858.659 1544.91 L858.659 1548.85 L836.715 1548.85 L836.715 1544.91 Q839.377 1542.16 843.96 1537.53 Q848.567 1532.88 849.747 1531.53 Q851.993 1529.01 852.872 1527.27 Q853.775 1525.51 853.775 1523.82 Q853.775 1521.07 851.831 1519.33 Q849.909 1517.6 846.808 1517.6 Q844.609 1517.6 842.155 1518.36 Q839.724 1519.13 836.947 1520.68 L836.947 1515.95 Q839.771 1514.82 842.224 1514.24 Q844.678 1513.66 846.715 1513.66 Q852.085 1513.66 855.28 1516.35 Q858.474 1519.03 858.474 1523.52 Q858.474 1525.65 857.664 1527.57 Q856.877 1529.47 854.77 1532.07 Q854.192 1532.74 851.09 1535.95 Q847.988 1539.15 842.34 1544.91 Z\" fill=\"#000000\" fill-rule=\"nonzero\" fill-opacity=\"1\" /><path clip-path=\"url(#clip840)\" d=\"M868.52 1514.29 L886.877 1514.29 L886.877 1518.22 L872.803 1518.22 L872.803 1526.7 Q873.821 1526.35 874.84 1526.19 Q875.858 1526 876.877 1526 Q882.664 1526 886.043 1529.17 Q889.423 1532.34 889.423 1537.76 Q889.423 1543.34 885.951 1546.44 Q882.479 1549.52 876.159 1549.52 Q873.983 1549.52 871.715 1549.15 Q869.469 1548.78 867.062 1548.04 L867.062 1543.34 Q869.145 1544.47 871.368 1545.03 Q873.59 1545.58 876.067 1545.58 Q880.071 1545.58 882.409 1543.48 Q884.747 1541.37 884.747 1537.76 Q884.747 1534.15 882.409 1532.04 Q880.071 1529.94 876.067 1529.94 Q874.192 1529.94 872.317 1530.35 Q870.465 1530.77 868.52 1531.65 L868.52 1514.29 Z\" fill=\"#000000\" fill-rule=\"nonzero\" fill-opacity=\"1\" /><path clip-path=\"url(#clip840)\" d=\"M908.636 1517.37 Q905.025 1517.37 903.196 1520.93 Q901.391 1524.47 901.391 1531.6 Q901.391 1538.71 903.196 1542.27 Q905.025 1545.82 908.636 1545.82 Q912.27 1545.82 914.076 1542.27 Q915.904 1538.71 915.904 1531.6 Q915.904 1524.47 914.076 1520.93 Q912.27 1517.37 908.636 1517.37 M908.636 1513.66 Q914.446 1513.66 917.502 1518.27 Q920.58 1522.85 920.58 1531.6 Q920.58 1540.33 917.502 1544.94 Q914.446 1549.52 908.636 1549.52 Q902.826 1549.52 899.747 1544.94 Q896.692 1540.33 896.692 1531.6 Q896.692 1522.85 899.747 1518.27 Q902.826 1513.66 908.636 1513.66 Z\" fill=\"#000000\" fill-rule=\"nonzero\" fill-opacity=\"1\" /><path clip-path=\"url(#clip840)\" d=\"M1280.89 1517.37 Q1277.28 1517.37 1275.45 1520.93 Q1273.65 1524.47 1273.65 1531.6 Q1273.65 1538.71 1275.45 1542.27 Q1277.28 1545.82 1280.89 1545.82 Q1284.53 1545.82 1286.33 1542.27 Q1288.16 1538.71 1288.16 1531.6 Q1288.16 1524.47 1286.33 1520.93 Q1284.53 1517.37 1280.89 1517.37 M1280.89 1513.66 Q1286.7 1513.66 1289.76 1518.27 Q1292.84 1522.85 1292.84 1531.6 Q1292.84 1540.33 1289.76 1544.94 Q1286.7 1549.52 1280.89 1549.52 Q1275.08 1549.52 1272 1544.94 Q1268.95 1540.33 1268.95 1531.6 Q1268.95 1522.85 1272 1518.27 Q1275.08 1513.66 1280.89 1513.66 Z\" fill=\"#000000\" fill-rule=\"nonzero\" fill-opacity=\"1\" /><path clip-path=\"url(#clip840)\" d=\"M1665.91 1544.91 L1682.23 1544.91 L1682.23 1548.85 L1660.29 1548.85 L1660.29 1544.91 Q1662.95 1542.16 1667.53 1537.53 Q1672.14 1532.88 1673.32 1531.53 Q1675.57 1529.01 1676.45 1527.27 Q1677.35 1525.51 1677.35 1523.82 Q1677.35 1521.07 1675.41 1519.33 Q1673.48 1517.6 1670.38 1517.6 Q1668.18 1517.6 1665.73 1518.36 Q1663.3 1519.13 1660.52 1520.68 L1660.52 1515.95 Q1663.35 1514.82 1665.8 1514.24 Q1668.25 1513.66 1670.29 1513.66 Q1675.66 1513.66 1678.85 1516.35 Q1682.05 1519.03 1682.05 1523.52 Q1682.05 1525.65 1681.24 1527.57 Q1680.45 1529.47 1678.35 1532.07 Q1677.77 1532.74 1674.66 1535.95 Q1671.56 1539.15 1665.91 1544.91 Z\" fill=\"#000000\" fill-rule=\"nonzero\" fill-opacity=\"1\" /><path clip-path=\"url(#clip840)\" d=\"M1692.1 1514.29 L1710.45 1514.29 L1710.45 1518.22 L1696.38 1518.22 L1696.38 1526.7 Q1697.4 1526.35 1698.41 1526.19 Q1699.43 1526 1700.45 1526 Q1706.24 1526 1709.62 1529.17 Q1713 1532.34 1713 1537.76 Q1713 1543.34 1709.53 1546.44 Q1706.05 1549.52 1699.73 1549.52 Q1697.56 1549.52 1695.29 1549.15 Q1693.04 1548.78 1690.64 1548.04 L1690.64 1543.34 Q1692.72 1544.47 1694.94 1545.03 Q1697.16 1545.58 1699.64 1545.58 Q1703.65 1545.58 1705.98 1543.48 Q1708.32 1541.37 1708.32 1537.76 Q1708.32 1534.15 1705.98 1532.04 Q1703.65 1529.94 1699.64 1529.94 Q1697.77 1529.94 1695.89 1530.35 Q1694.04 1530.77 1692.1 1531.65 L1692.1 1514.29 Z\" fill=\"#000000\" fill-rule=\"nonzero\" fill-opacity=\"1\" /><path clip-path=\"url(#clip840)\" d=\"M1732.21 1517.37 Q1728.6 1517.37 1726.77 1520.93 Q1724.97 1524.47 1724.97 1531.6 Q1724.97 1538.71 1726.77 1542.27 Q1728.6 1545.82 1732.21 1545.82 Q1735.84 1545.82 1737.65 1542.27 Q1739.48 1538.71 1739.48 1531.6 Q1739.48 1524.47 1737.65 1520.93 Q1735.84 1517.37 1732.21 1517.37 M1732.21 1513.66 Q1738.02 1513.66 1741.08 1518.27 Q1744.15 1522.85 1744.15 1531.6 Q1744.15 1540.33 1741.08 1544.94 Q1738.02 1549.52 1732.21 1549.52 Q1726.4 1549.52 1723.32 1544.94 Q1720.27 1540.33 1720.27 1531.6 Q1720.27 1522.85 1723.32 1518.27 Q1726.4 1513.66 1732.21 1513.66 Z\" fill=\"#000000\" fill-rule=\"nonzero\" fill-opacity=\"1\" /><path clip-path=\"url(#clip840)\" d=\"M2083.17 1514.29 L2101.53 1514.29 L2101.53 1518.22 L2087.45 1518.22 L2087.45 1526.7 Q2088.47 1526.35 2089.49 1526.19 Q2090.51 1526 2091.53 1526 Q2097.31 1526 2100.69 1529.17 Q2104.07 1532.34 2104.07 1537.76 Q2104.07 1543.34 2100.6 1546.44 Q2097.13 1549.52 2090.81 1549.52 Q2088.63 1549.52 2086.37 1549.15 Q2084.12 1548.78 2081.71 1548.04 L2081.71 1543.34 Q2083.8 1544.47 2086.02 1545.03 Q2088.24 1545.58 2090.72 1545.58 Q2094.72 1545.58 2097.06 1543.48 Q2099.4 1541.37 2099.4 1537.76 Q2099.4 1534.15 2097.06 1532.04 Q2094.72 1529.94 2090.72 1529.94 Q2088.84 1529.94 2086.97 1530.35 Q2085.12 1530.77 2083.17 1531.65 L2083.17 1514.29 Z\" fill=\"#000000\" fill-rule=\"nonzero\" fill-opacity=\"1\" /><path clip-path=\"url(#clip840)\" d=\"M2123.29 1517.37 Q2119.68 1517.37 2117.85 1520.93 Q2116.04 1524.47 2116.04 1531.6 Q2116.04 1538.71 2117.85 1542.27 Q2119.68 1545.82 2123.29 1545.82 Q2126.92 1545.82 2128.73 1542.27 Q2130.55 1538.71 2130.55 1531.6 Q2130.55 1524.47 2128.73 1520.93 Q2126.92 1517.37 2123.29 1517.37 M2123.29 1513.66 Q2129.1 1513.66 2132.15 1518.27 Q2135.23 1522.85 2135.23 1531.6 Q2135.23 1540.33 2132.15 1544.94 Q2129.1 1549.52 2123.29 1549.52 Q2117.48 1549.52 2114.4 1544.94 Q2111.34 1540.33 2111.34 1531.6 Q2111.34 1522.85 2114.4 1518.27 Q2117.48 1513.66 2123.29 1513.66 Z\" fill=\"#000000\" fill-rule=\"nonzero\" fill-opacity=\"1\" /><path clip-path=\"url(#clip840)\" d=\"M2153.45 1517.37 Q2149.84 1517.37 2148.01 1520.93 Q2146.2 1524.47 2146.2 1531.6 Q2146.2 1538.71 2148.01 1542.27 Q2149.84 1545.82 2153.45 1545.82 Q2157.08 1545.82 2158.89 1542.27 Q2160.72 1538.71 2160.72 1531.6 Q2160.72 1524.47 2158.89 1520.93 Q2157.08 1517.37 2153.45 1517.37 M2153.45 1513.66 Q2159.26 1513.66 2162.31 1518.27 Q2165.39 1522.85 2165.39 1531.6 Q2165.39 1540.33 2162.31 1544.94 Q2159.26 1549.52 2153.45 1549.52 Q2147.64 1549.52 2144.56 1544.94 Q2141.5 1540.33 2141.5 1531.6 Q2141.5 1522.85 2144.56 1518.27 Q2147.64 1513.66 2153.45 1513.66 Z\" fill=\"#000000\" fill-rule=\"nonzero\" fill-opacity=\"1\" /><polyline clip-path=\"url(#clip842)\" style=\"stroke:#000000; stroke-linecap:round; stroke-linejoin:round; stroke-width:2; stroke-opacity:0.1; fill:none\" points=\"209.029,1445.72 2352.76,1445.72 \"/>\n",
       "<polyline clip-path=\"url(#clip842)\" style=\"stroke:#000000; stroke-linecap:round; stroke-linejoin:round; stroke-width:2; stroke-opacity:0.1; fill:none\" points=\"209.029,1106.28 2352.76,1106.28 \"/>\n",
       "<polyline clip-path=\"url(#clip842)\" style=\"stroke:#000000; stroke-linecap:round; stroke-linejoin:round; stroke-width:2; stroke-opacity:0.1; fill:none\" points=\"209.029,766.846 2352.76,766.846 \"/>\n",
       "<polyline clip-path=\"url(#clip842)\" style=\"stroke:#000000; stroke-linecap:round; stroke-linejoin:round; stroke-width:2; stroke-opacity:0.1; fill:none\" points=\"209.029,427.41 2352.76,427.41 \"/>\n",
       "<polyline clip-path=\"url(#clip842)\" style=\"stroke:#000000; stroke-linecap:round; stroke-linejoin:round; stroke-width:2; stroke-opacity:0.1; fill:none\" points=\"209.029,87.9746 2352.76,87.9746 \"/>\n",
       "<polyline clip-path=\"url(#clip840)\" style=\"stroke:#000000; stroke-linecap:round; stroke-linejoin:round; stroke-width:4; stroke-opacity:1; fill:none\" points=\"209.029,1486.45 209.029,47.2441 \"/>\n",
       "<polyline clip-path=\"url(#clip840)\" style=\"stroke:#000000; stroke-linecap:round; stroke-linejoin:round; stroke-width:4; stroke-opacity:1; fill:none\" points=\"209.029,1445.72 227.926,1445.72 \"/>\n",
       "<polyline clip-path=\"url(#clip840)\" style=\"stroke:#000000; stroke-linecap:round; stroke-linejoin:round; stroke-width:4; stroke-opacity:1; fill:none\" points=\"209.029,1106.28 227.926,1106.28 \"/>\n",
       "<polyline clip-path=\"url(#clip840)\" style=\"stroke:#000000; stroke-linecap:round; stroke-linejoin:round; stroke-width:4; stroke-opacity:1; fill:none\" points=\"209.029,766.846 227.926,766.846 \"/>\n",
       "<polyline clip-path=\"url(#clip840)\" style=\"stroke:#000000; stroke-linecap:round; stroke-linejoin:round; stroke-width:4; stroke-opacity:1; fill:none\" points=\"209.029,427.41 227.926,427.41 \"/>\n",
       "<polyline clip-path=\"url(#clip840)\" style=\"stroke:#000000; stroke-linecap:round; stroke-linejoin:round; stroke-width:4; stroke-opacity:1; fill:none\" points=\"209.029,87.9746 227.926,87.9746 \"/>\n",
       "<path clip-path=\"url(#clip840)\" d=\"M50.9921 1446.17 L80.6679 1446.17 L80.6679 1450.1 L50.9921 1450.1 L50.9921 1446.17 Z\" fill=\"#000000\" fill-rule=\"nonzero\" fill-opacity=\"1\" /><path clip-path=\"url(#clip840)\" d=\"M91.5706 1459.06 L99.2095 1459.06 L99.2095 1432.7 L90.8993 1434.36 L90.8993 1430.1 L99.1632 1428.44 L103.839 1428.44 L103.839 1459.06 L111.478 1459.06 L111.478 1463 L91.5706 1463 L91.5706 1459.06 Z\" fill=\"#000000\" fill-rule=\"nonzero\" fill-opacity=\"1\" /><path clip-path=\"url(#clip840)\" d=\"M130.922 1431.52 Q127.311 1431.52 125.482 1435.08 Q123.677 1438.62 123.677 1445.75 Q123.677 1452.86 125.482 1456.42 Q127.311 1459.96 130.922 1459.96 Q134.556 1459.96 136.362 1456.42 Q138.191 1452.86 138.191 1445.75 Q138.191 1438.62 136.362 1435.08 Q134.556 1431.52 130.922 1431.52 M130.922 1427.81 Q136.732 1427.81 139.788 1432.42 Q142.867 1437 142.867 1445.75 Q142.867 1454.48 139.788 1459.08 Q136.732 1463.67 130.922 1463.67 Q125.112 1463.67 122.033 1459.08 Q118.978 1454.48 118.978 1445.75 Q118.978 1437 122.033 1432.42 Q125.112 1427.81 130.922 1427.81 Z\" fill=\"#000000\" fill-rule=\"nonzero\" fill-opacity=\"1\" /><path clip-path=\"url(#clip840)\" d=\"M161.084 1431.52 Q157.473 1431.52 155.644 1435.08 Q153.839 1438.62 153.839 1445.75 Q153.839 1452.86 155.644 1456.42 Q157.473 1459.96 161.084 1459.96 Q164.718 1459.96 166.524 1456.42 Q168.353 1452.86 168.353 1445.75 Q168.353 1438.62 166.524 1435.08 Q164.718 1431.52 161.084 1431.52 M161.084 1427.81 Q166.894 1427.81 169.95 1432.42 Q173.029 1437 173.029 1445.75 Q173.029 1454.48 169.95 1459.08 Q166.894 1463.67 161.084 1463.67 Q155.274 1463.67 152.195 1459.08 Q149.14 1454.48 149.14 1445.75 Q149.14 1437 152.195 1432.42 Q155.274 1427.81 161.084 1427.81 Z\" fill=\"#000000\" fill-rule=\"nonzero\" fill-opacity=\"1\" /><path clip-path=\"url(#clip840)\" d=\"M81.154 1106.73 L110.83 1106.73 L110.83 1110.67 L81.154 1110.67 L81.154 1106.73 Z\" fill=\"#000000\" fill-rule=\"nonzero\" fill-opacity=\"1\" /><path clip-path=\"url(#clip840)\" d=\"M120.969 1089 L139.325 1089 L139.325 1092.94 L125.251 1092.94 L125.251 1101.41 Q126.27 1101.06 127.288 1100.9 Q128.307 1100.71 129.325 1100.71 Q135.112 1100.71 138.492 1103.89 Q141.871 1107.06 141.871 1112.47 Q141.871 1118.05 138.399 1121.15 Q134.927 1124.23 128.607 1124.23 Q126.432 1124.23 124.163 1123.86 Q121.918 1123.49 119.51 1122.75 L119.51 1118.05 Q121.594 1119.19 123.816 1119.74 Q126.038 1120.3 128.515 1120.3 Q132.519 1120.3 134.857 1118.19 Q137.195 1116.08 137.195 1112.47 Q137.195 1108.86 134.857 1106.76 Q132.519 1104.65 128.515 1104.65 Q126.64 1104.65 124.765 1105.07 Q122.913 1105.48 120.969 1106.36 L120.969 1089 Z\" fill=\"#000000\" fill-rule=\"nonzero\" fill-opacity=\"1\" /><path clip-path=\"url(#clip840)\" d=\"M161.084 1092.08 Q157.473 1092.08 155.644 1095.64 Q153.839 1099.19 153.839 1106.32 Q153.839 1113.42 155.644 1116.99 Q157.473 1120.53 161.084 1120.53 Q164.718 1120.53 166.524 1116.99 Q168.353 1113.42 168.353 1106.32 Q168.353 1099.19 166.524 1095.64 Q164.718 1092.08 161.084 1092.08 M161.084 1088.38 Q166.894 1088.38 169.95 1092.98 Q173.029 1097.57 173.029 1106.32 Q173.029 1115.04 169.95 1119.65 Q166.894 1124.23 161.084 1124.23 Q155.274 1124.23 152.195 1119.65 Q149.14 1115.04 149.14 1106.32 Q149.14 1097.57 152.195 1092.98 Q155.274 1088.38 161.084 1088.38 Z\" fill=\"#000000\" fill-rule=\"nonzero\" fill-opacity=\"1\" /><path clip-path=\"url(#clip840)\" d=\"M161.084 752.644 Q157.473 752.644 155.644 756.209 Q153.839 759.751 153.839 766.88 Q153.839 773.987 155.644 777.552 Q157.473 781.093 161.084 781.093 Q164.718 781.093 166.524 777.552 Q168.353 773.987 168.353 766.88 Q168.353 759.751 166.524 756.209 Q164.718 752.644 161.084 752.644 M161.084 748.941 Q166.894 748.941 169.95 753.547 Q173.029 758.13 173.029 766.88 Q173.029 775.607 169.95 780.214 Q166.894 784.797 161.084 784.797 Q155.274 784.797 152.195 780.214 Q149.14 775.607 149.14 766.88 Q149.14 758.13 152.195 753.547 Q155.274 748.941 161.084 748.941 Z\" fill=\"#000000\" fill-rule=\"nonzero\" fill-opacity=\"1\" /><path clip-path=\"url(#clip840)\" d=\"M120.969 410.13 L139.325 410.13 L139.325 414.065 L125.251 414.065 L125.251 422.537 Q126.27 422.19 127.288 422.028 Q128.307 421.843 129.325 421.843 Q135.112 421.843 138.492 425.014 Q141.871 428.186 141.871 433.602 Q141.871 439.181 138.399 442.283 Q134.927 445.361 128.607 445.361 Q126.432 445.361 124.163 444.991 Q121.918 444.621 119.51 443.88 L119.51 439.181 Q121.594 440.315 123.816 440.871 Q126.038 441.426 128.515 441.426 Q132.519 441.426 134.857 439.32 Q137.195 437.213 137.195 433.602 Q137.195 429.991 134.857 427.885 Q132.519 425.778 128.515 425.778 Q126.64 425.778 124.765 426.195 Q122.913 426.612 120.969 427.491 L120.969 410.13 Z\" fill=\"#000000\" fill-rule=\"nonzero\" fill-opacity=\"1\" /><path clip-path=\"url(#clip840)\" d=\"M161.084 413.209 Q157.473 413.209 155.644 416.774 Q153.839 420.315 153.839 427.445 Q153.839 434.551 155.644 438.116 Q157.473 441.658 161.084 441.658 Q164.718 441.658 166.524 438.116 Q168.353 434.551 168.353 427.445 Q168.353 420.315 166.524 416.774 Q164.718 413.209 161.084 413.209 M161.084 409.505 Q166.894 409.505 169.95 414.112 Q173.029 418.695 173.029 427.445 Q173.029 436.172 169.95 440.778 Q166.894 445.361 161.084 445.361 Q155.274 445.361 152.195 440.778 Q149.14 436.172 149.14 427.445 Q149.14 418.695 152.195 414.112 Q155.274 409.505 161.084 409.505 Z\" fill=\"#000000\" fill-rule=\"nonzero\" fill-opacity=\"1\" /><path clip-path=\"url(#clip840)\" d=\"M91.5706 101.319 L99.2095 101.319 L99.2095 74.9539 L90.8993 76.6205 L90.8993 72.3613 L99.1632 70.6946 L103.839 70.6946 L103.839 101.319 L111.478 101.319 L111.478 105.255 L91.5706 105.255 L91.5706 101.319 Z\" fill=\"#000000\" fill-rule=\"nonzero\" fill-opacity=\"1\" /><path clip-path=\"url(#clip840)\" d=\"M130.922 73.7733 Q127.311 73.7733 125.482 77.3381 Q123.677 80.8798 123.677 88.0093 Q123.677 95.1158 125.482 98.6806 Q127.311 102.222 130.922 102.222 Q134.556 102.222 136.362 98.6806 Q138.191 95.1158 138.191 88.0093 Q138.191 80.8798 136.362 77.3381 Q134.556 73.7733 130.922 73.7733 M130.922 70.0696 Q136.732 70.0696 139.788 74.6761 Q142.867 79.2594 142.867 88.0093 Q142.867 96.7361 139.788 101.343 Q136.732 105.926 130.922 105.926 Q125.112 105.926 122.033 101.343 Q118.978 96.7361 118.978 88.0093 Q118.978 79.2594 122.033 74.6761 Q125.112 70.0696 130.922 70.0696 Z\" fill=\"#000000\" fill-rule=\"nonzero\" fill-opacity=\"1\" /><path clip-path=\"url(#clip840)\" d=\"M161.084 73.7733 Q157.473 73.7733 155.644 77.3381 Q153.839 80.8798 153.839 88.0093 Q153.839 95.1158 155.644 98.6806 Q157.473 102.222 161.084 102.222 Q164.718 102.222 166.524 98.6806 Q168.353 95.1158 168.353 88.0093 Q168.353 80.8798 166.524 77.3381 Q164.718 73.7733 161.084 73.7733 M161.084 70.0696 Q166.894 70.0696 169.95 74.6761 Q173.029 79.2594 173.029 88.0093 Q173.029 96.7361 169.95 101.343 Q166.894 105.926 161.084 105.926 Q155.274 105.926 152.195 101.343 Q149.14 96.7361 149.14 88.0093 Q149.14 79.2594 152.195 74.6761 Q155.274 70.0696 161.084 70.0696 Z\" fill=\"#000000\" fill-rule=\"nonzero\" fill-opacity=\"1\" /><polyline clip-path=\"url(#clip842)\" style=\"stroke:#009af9; stroke-linecap:round; stroke-linejoin:round; stroke-width:4; stroke-opacity:1; fill:none\" points=\"269.7,577.16 271.724,569.346 273.749,561.559 275.773,553.801 277.798,546.073 279.822,538.377 281.846,530.714 283.871,523.085 285.895,515.492 287.92,507.935 289.944,500.416 291.969,492.935 293.993,485.494 296.017,478.093 298.042,470.735 300.066,463.419 302.091,456.147 304.115,448.919 306.139,441.737 308.164,434.602 310.188,427.515 312.213,420.477 314.237,413.488 316.261,406.551 318.286,399.665 320.31,392.833 322.335,386.054 324.359,379.33 326.383,372.663 328.408,366.052 330.432,359.499 332.457,353.005 334.481,346.571 336.506,340.198 338.53,333.886 340.554,327.637 342.579,321.451 344.603,315.329 346.628,309.273 348.652,303.282 350.676,297.359 352.701,291.503 354.725,285.715 356.75,279.997 358.774,274.349 360.798,268.772 362.823,263.267 364.847,257.835 366.872,252.476 368.896,247.191 370.92,241.981 372.945,236.847 374.969,231.789 376.994,226.809 379.018,221.907 381.043,217.083 383.067,212.339 385.091,207.674 387.116,203.091 389.14,198.589 391.165,194.169 393.189,189.831 395.213,185.577 397.238,181.406 399.262,177.32 401.287,173.319 403.311,169.404 405.335,165.575 407.36,161.832 409.384,158.177 411.409,154.609 413.433,151.13 415.457,147.74 417.482,144.439 419.506,141.228 421.531,138.107 423.555,135.077 425.58,132.138 427.604,129.291 429.628,126.535 431.653,123.872 433.677,121.302 435.702,118.826 437.726,116.442 439.75,114.153 441.775,111.958 443.799,109.857 445.824,107.851 447.848,105.94 449.872,104.124 451.897,102.404 453.921,100.78 455.946,99.2521 457.97,97.8201 459.994,96.4847 462.019,95.2459 464.043,94.104 466.068,93.0592 468.092,92.1115 470.117,91.2612 472.141,90.5083 474.165,89.8531 476.19,89.2956 478.214,88.8359 480.239,88.474 482.263,88.2101 484.287,88.0442 486.312,87.9763 488.336,88.0064 490.361,88.1345 492.385,88.3606 494.409,88.6846 496.434,89.1066 498.458,89.6263 500.483,90.2438 502.507,90.9589 504.531,91.7715 506.556,92.6815 508.58,93.6887 510.605,94.793 512.629,95.9942 514.653,97.2922 516.678,98.6866 518.702,100.177 520.727,101.764 522.751,103.447 524.776,105.226 526.8,107.1 528.824,109.069 530.849,111.133 532.873,113.291 534.898,115.544 536.922,117.891 538.946,120.331 540.971,122.865 542.995,125.492 545.02,128.211 547.044,131.023 549.068,133.926 551.093,136.921 553.117,140.007 555.142,143.183 557.166,146.45 559.19,149.806 561.215,153.251 563.239,156.784 565.264,160.406 567.288,164.115 569.313,167.911 571.337,171.793 573.361,175.761 575.386,179.815 577.41,183.953 579.435,188.175 581.459,192.481 583.483,196.869 585.508,201.339 587.532,205.891 589.557,210.524 591.581,215.238 593.605,220.03 595.63,224.902 597.654,229.852 599.679,234.879 601.703,239.983 603.727,245.163 605.752,250.418 607.776,255.748 609.801,261.152 611.825,266.629 613.85,272.178 615.874,277.798 617.898,283.49 619.923,289.251 621.947,295.08 623.972,300.979 625.996,306.944 628.02,312.975 630.045,319.073 632.069,325.234 634.094,331.46 636.118,337.748 638.142,344.098 640.167,350.509 642.191,356.98 644.216,363.51 646.24,370.098 648.264,376.744 650.289,383.445 652.313,390.202 654.338,397.013 656.362,403.877 658.387,410.794 660.411,417.762 662.435,424.781 664.46,431.849 666.484,438.965 668.509,446.129 670.533,453.339 672.557,460.594 674.582,467.894 676.606,475.236 678.631,482.621 680.655,490.047 682.679,497.513 684.704,505.018 686.728,512.561 688.753,520.14 690.777,527.756 692.801,535.405 694.826,543.088 696.85,550.803 698.875,558.549 700.899,566.326 702.924,574.131 704.948,581.964 706.972,589.823 708.997,597.708 711.021,605.618 713.046,613.55 715.07,621.505 717.094,629.48 719.119,637.476 721.143,645.49 723.168,653.521 725.192,661.569 727.216,669.632 729.241,677.709 731.265,685.799 733.29,693.901 735.314,702.013 737.338,710.135 739.363,718.265 741.387,726.402 743.412,734.545 745.436,742.693 747.461,750.844 749.485,758.998 751.509,767.153 753.534,775.307 755.558,783.461 757.583,791.612 759.607,799.759 761.631,807.902 763.656,816.039 765.68,824.168 767.705,832.289 769.729,840.401 771.753,848.502 773.778,856.591 775.802,864.667 777.827,872.729 779.851,880.775 781.875,888.805 783.9,896.818 785.924,904.812 787.949,912.786 789.973,920.739 791.997,928.67 794.022,936.578 796.046,944.461 798.071,952.319 800.095,960.15 802.12,967.953 804.144,975.727 806.168,983.471 808.193,991.184 810.217,998.864 812.242,1006.51 814.266,1014.12 816.29,1021.7 818.315,1029.24 820.339,1036.74 822.364,1044.2 824.388,1051.63 826.412,1059.01 828.437,1066.35 830.461,1073.64 832.486,1080.9 834.51,1088.1 836.534,1095.26 838.559,1102.37 840.583,1109.44 842.608,1116.45 844.632,1123.42 846.657,1130.33 848.681,1137.19 850.705,1144 852.73,1150.75 854.754,1157.45 856.779,1164.09 858.803,1170.68 860.827,1177.2 862.852,1183.67 864.876,1190.08 866.901,1196.42 868.925,1202.7 870.949,1208.93 872.974,1215.08 874.998,1221.17 877.023,1227.2 879.047,1233.16 881.071,1239.05 883.096,1244.88 885.12,1250.63 887.145,1256.32 889.169,1261.93 891.194,1267.48 893.218,1272.95 895.242,1278.35 897.267,1283.67 899.291,1288.92 901.316,1294.09 903.34,1299.19 905.364,1304.22 907.389,1309.16 909.413,1314.03 911.438,1318.81 913.462,1323.52 915.486,1328.15 917.511,1332.69 919.535,1337.16 921.56,1341.54 923.584,1345.84 925.608,1350.06 927.633,1354.19 929.657,1358.23 931.682,1362.2 933.706,1366.07 935.731,1369.86 937.755,1373.56 939.779,1377.18 941.804,1380.7 943.828,1384.14 945.853,1387.49 947.877,1390.75 949.901,1393.92 951.926,1397 953.95,1399.99 955.975,1402.88 957.999,1405.69 960.023,1408.4 962.048,1411.02 964.072,1413.55 966.097,1415.98 968.121,1418.32 970.145,1420.57 972.17,1422.72 974.194,1424.78 976.219,1426.74 978.243,1428.61 980.268,1430.38 982.292,1432.05 984.316,1433.63 986.341,1435.12 988.365,1436.5 990.39,1437.79 992.414,1438.99 994.438,1440.08 996.463,1441.08 998.487,1441.99 1000.51,1442.79 1002.54,1443.5 1004.56,1444.11 1006.58,1444.62 1008.61,1445.04 1010.63,1445.35 1012.66,1445.57 1014.68,1445.69 1016.71,1445.71 1018.73,1445.64 1020.76,1445.47 1022.78,1445.19 1024.8,1444.83 1026.83,1444.36 1028.85,1443.79 1030.88,1443.13 1032.9,1442.37 1034.93,1441.51 1036.95,1440.56 1038.98,1439.51 1041,1438.36 1043.02,1437.11 1045.05,1435.77 1047.07,1434.33 1049.1,1432.79 1051.12,1431.16 1053.15,1429.43 1055.17,1427.61 1057.2,1425.69 1059.22,1423.68 1061.24,1421.57 1063.27,1419.37 1065.29,1417.07 1067.32,1414.68 1069.34,1412.2 1071.37,1409.62 1073.39,1406.95 1075.41,1404.19 1077.44,1401.34 1079.46,1398.39 1081.49,1395.35 1083.51,1392.23 1085.54,1389.01 1087.56,1385.7 1089.59,1382.3 1091.61,1378.82 1093.63,1375.24 1095.66,1371.58 1097.68,1367.83 1099.71,1364 1101.73,1360.07 1103.76,1356.07 1105.78,1351.97 1107.81,1347.8 1109.83,1343.54 1111.85,1339.19 1113.88,1334.77 1115.9,1330.26 1117.93,1325.67 1119.95,1321 1121.98,1316.25 1124,1311.42 1126.02,1306.51 1128.05,1301.53 1130.07,1296.46 1132.1,1291.32 1134.12,1286.11 1136.15,1280.82 1138.17,1275.45 1140.2,1270.01 1142.22,1264.5 1144.24,1258.92 1146.27,1253.27 1148.29,1247.54 1150.32,1241.75 1152.34,1235.89 1154.37,1229.96 1156.39,1223.97 1158.42,1217.9 1160.44,1211.78 1162.46,1205.59 1164.49,1199.33 1166.51,1193.02 1168.54,1186.64 1170.56,1180.2 1172.59,1173.7 1174.61,1167.15 1176.64,1160.53 1178.66,1153.86 1180.68,1147.13 1182.71,1140.35 1184.73,1133.51 1186.76,1126.62 1188.78,1119.68 1190.81,1112.69 1192.83,1105.65 1194.85,1098.56 1196.88,1091.42 1198.9,1084.23 1200.93,1077 1202.95,1069.72 1204.98,1062.41 1207,1055.04 1209.03,1047.64 1211.05,1040.2 1213.07,1032.71 1215.1,1025.19 1217.12,1017.63 1219.15,1010.04 1221.17,1002.4 1223.2,994.74 1225.22,987.043 1227.25,979.313 1229.27,971.553 1231.29,963.763 1233.32,955.945 1235.34,948.099 1237.37,940.227 1239.39,932.331 1241.42,924.41 1243.44,916.466 1245.47,908.502 1247.49,900.516 1249.51,892.512 1251.54,884.49 1253.56,876.45 1255.59,868.395 1257.61,860.326 1259.64,852.242 1261.66,844.147 1263.68,836.04 1265.71,827.924 1267.73,819.798 1269.76,811.665 1271.78,803.525 1273.81,795.379 1275.83,787.23 1277.86,779.077 1279.88,770.923 1281.9,762.768 1283.93,754.614 1285.95,746.462 1287.98,738.312 1290,730.167 1292.03,722.027 1294.05,713.894 1296.08,705.769 1298.1,697.652 1300.12,689.545 1302.15,681.45 1304.17,673.366 1306.2,665.296 1308.22,657.241 1310.25,649.202 1312.27,641.179 1314.29,633.174 1316.32,625.189 1318.34,617.224 1320.37,609.281 1322.39,601.36 1324.42,593.464 1326.44,585.592 1328.47,577.747 1330.49,569.929 1332.51,562.139 1334.54,554.379 1336.56,546.65 1338.59,538.952 1340.61,531.287 1342.64,523.657 1344.66,516.061 1346.69,508.502 1348.71,500.98 1350.73,493.496 1352.76,486.052 1354.78,478.648 1356.81,471.286 1358.83,463.966 1360.86,456.69 1362.88,449.458 1364.91,442.273 1366.93,435.134 1368.95,428.043 1370.98,421.001 1373,414.009 1375.03,407.067 1377.05,400.178 1379.08,393.342 1381.1,386.56 1383.12,379.832 1385.15,373.161 1387.17,366.546 1389.2,359.989 1391.22,353.491 1393.25,347.053 1395.27,340.675 1397.3,334.359 1399.32,328.104 1401.34,321.914 1403.37,315.787 1405.39,309.725 1407.42,303.729 1409.44,297.8 1411.47,291.939 1413.49,286.146 1415.52,280.422 1417.54,274.768 1419.56,269.186 1421.59,263.675 1423.61,258.237 1425.64,252.873 1427.66,247.582 1429.69,242.367 1431.71,237.228 1433.74,232.164 1435.76,227.179 1437.78,222.271 1439.81,217.441 1441.83,212.691 1443.86,208.021 1445.88,203.432 1447.91,198.924 1449.93,194.498 1451.95,190.154 1453.98,185.893 1456,181.716 1458.03,177.624 1460.05,173.616 1462.08,169.694 1464.1,165.858 1466.13,162.109 1468.15,158.447 1470.17,154.873 1472.2,151.387 1474.22,147.989 1476.25,144.682 1478.27,141.464 1480.3,138.336 1482.32,135.299 1484.35,132.353 1486.37,129.499 1488.39,126.737 1490.42,124.067 1492.44,121.491 1494.47,119.007 1496.49,116.617 1498.52,114.32 1500.54,112.118 1502.56,110.01 1504.59,107.997 1506.61,106.079 1508.64,104.256 1510.66,102.529 1512.69,100.898 1514.71,99.3621 1516.74,97.9229 1518.76,96.5801 1520.78,95.334 1522.81,94.1847 1524.83,93.1325 1526.86,92.1775 1528.88,91.3199 1530.91,90.5597 1532.93,89.8972 1534.96,89.3324 1536.98,88.8655 1539,88.4964 1541.03,88.2252 1543.05,88.0521 1545.08,87.9769 1547.1,87.9997 1549.13,88.1206 1551.15,88.3394 1553.18,88.6561 1555.2,89.0706 1557.22,89.583 1559.25,90.1931 1561.27,90.9007 1563.3,91.7059 1565.32,92.6084 1567.35,93.6082 1569.37,94.705 1571.39,95.8987 1573.42,97.1893 1575.44,98.5763 1577.47,100.06 1579.49,101.639 1581.52,103.315 1583.54,105.086 1585.57,106.953 1587.59,108.915 1589.61,110.972 1591.64,113.124 1593.66,115.37 1595.69,117.71 1597.71,120.143 1599.74,122.67 1601.76,125.29 1603.79,128.003 1605.81,130.808 1607.83,133.705 1609.86,136.693 1611.88,139.772 1613.91,142.941 1615.93,146.201 1617.96,149.55 1619.98,152.988 1622.01,156.515 1624.03,160.13 1626.05,163.832 1628.08,167.621 1630.1,171.497 1632.13,175.459 1634.15,179.505 1636.18,183.637 1638.2,187.853 1640.22,192.152 1642.25,196.534 1644.27,200.998 1646.3,205.544 1648.32,210.171 1650.35,214.878 1652.37,219.665 1654.4,224.531 1656.42,229.475 1658.44,234.497 1660.47,239.595 1662.49,244.77 1664.52,250.02 1666.54,255.344 1668.57,260.743 1670.59,266.214 1672.62,271.758 1674.64,277.373 1676.66,283.059 1678.69,288.815 1680.71,294.64 1682.74,300.533 1684.76,306.493 1686.79,312.519 1688.81,318.611 1690.83,324.768 1692.86,330.988 1694.88,337.271 1696.91,343.617 1698.93,350.023 1700.96,356.489 1702.98,363.014 1705.01,369.598 1707.03,376.239 1709.05,382.936 1711.08,389.689 1713.1,396.496 1715.13,403.357 1717.15,410.27 1719.18,417.235 1721.2,424.25 1723.23,431.315 1725.25,438.428 1727.27,445.589 1729.3,452.796 1731.32,460.048 1733.35,467.344 1735.37,474.684 1737.4,482.066 1739.42,489.489 1741.45,496.952 1743.47,504.454 1745.49,511.994 1747.52,519.57 1749.54,527.182 1751.57,534.828 1753.59,542.508 1755.62,550.221 1757.64,557.964 1759.66,565.738 1761.69,573.54 1763.71,581.371 1765.74,589.228 1767.76,597.111 1769.79,605.019 1771.81,612.95 1773.84,620.903 1775.86,628.878 1777.88,636.872 1779.91,644.885 1781.93,652.916 1783.96,660.963 1785.98,669.026 1788.01,677.102 1790.03,685.192 1792.06,693.293 1794.08,701.405 1796.1,709.526 1798.13,717.656 1800.15,725.792 1802.18,733.935 1804.2,742.082 1806.23,750.232 1808.25,758.385 1810.28,766.54 1812.3,774.694 1814.32,782.847 1816.35,790.998 1818.37,799.145 1820.4,807.287 1822.42,815.424 1824.45,823.554 1826.47,831.676 1828.49,839.788 1830.52,847.89 1832.54,855.981 1834.57,864.058 1836.59,872.122 1838.62,880.17 1840.64,888.202 1842.67,896.217 1844.69,904.213 1846.71,912.189 1848.74,920.144 1850.76,928.077 1852.79,935.986 1854.81,943.871 1856.84,951.731 1858.86,959.564 1860.89,967.369 1862.91,975.145 1864.93,982.891 1866.96,990.606 1868.98,998.288 1871.01,1005.94 1873.03,1013.55 1875.06,1021.13 1877.08,1028.67 1879.1,1036.18 1881.13,1043.64 1883.15,1051.07 1885.18,1058.45 1887.2,1065.8 1889.23,1073.1 1891.25,1080.35 1893.28,1087.56 1895.3,1094.72 1897.32,1101.84 1899.35,1108.91 1901.37,1115.93 1903.4,1122.9 1905.42,1129.81 1907.45,1136.68 1909.47,1143.49 1911.5,1150.25 1913.52,1156.95 1915.54,1163.6 1917.57,1170.18 1919.59,1176.71 1921.62,1183.19 1923.64,1189.6 1925.67,1195.95 1927.69,1202.23 1929.72,1208.46 1931.74,1214.62 1933.76,1220.72 1935.79,1226.75 1937.81,1232.71 1939.84,1238.61 1941.86,1244.44 1943.89,1250.2 1945.91,1255.89 1947.93,1261.51 1949.96,1267.06 1951.98,1272.54 1954.01,1277.94 1956.03,1283.27 1958.06,1288.53 1960.08,1293.71 1962.11,1298.81 1964.13,1303.84 1966.15,1308.79 1968.18,1313.66 1970.2,1318.45 1972.23,1323.17 1974.25,1327.8 1976.28,1332.35 1978.3,1336.83 1980.33,1341.21 1982.35,1345.52 1984.37,1349.74 1986.4,1353.88 1988.42,1357.93 1990.45,1361.9 1992.47,1365.78 1994.5,1369.58 1996.52,1373.29 1998.55,1376.91 2000.57,1380.44 2002.59,1383.89 2004.62,1387.24 2006.64,1390.51 2008.67,1393.68 2010.69,1396.77 2012.72,1399.76 2014.74,1402.67 2016.76,1405.48 2018.79,1408.2 2020.81,1410.83 2022.84,1413.36 2024.86,1415.8 2026.89,1418.15 2028.91,1420.4 2030.94,1422.56 2032.96,1424.62 2034.98,1426.59 2037.01,1428.47 2039.03,1430.25 2041.06,1431.93 2043.08,1433.52 2045.11,1435.01 2047.13,1436.4 2049.16,1437.7 2051.18,1438.9 2053.2,1440.01 2055.23,1441.01 2057.25,1441.92 2059.28,1442.74 2061.3,1443.45 2063.33,1444.07 2065.35,1444.59 2067.38,1445.01 2069.4,1445.33 2071.42,1445.56 2073.45,1445.69 2075.47,1445.72 2077.5,1445.65 2079.52,1445.48 2081.55,1445.22 2083.57,1444.86 2085.59,1444.4 2087.62,1443.84 2089.64,1443.18 2091.67,1442.43 2093.69,1441.58 2095.72,1440.63 2097.74,1439.59 2099.77,1438.45 2101.79,1437.21 2103.81,1435.87 2105.84,1434.44 2107.86,1432.91 2109.89,1431.29 2111.91,1429.57 2113.94,1427.76 2115.96,1425.84 2117.99,1423.84 2120.01,1421.74 2122.03,1419.54 2124.06,1417.25 2126.08,1414.87 2128.11,1412.39 2130.13,1409.82 2132.16,1407.16 2134.18,1404.4 2136.2,1401.55 2138.23,1398.62 2140.25,1395.59 2142.28,1392.46 2144.3,1389.25 2146.33,1385.95 2148.35,1382.56 2150.38,1379.08 2152.4,1375.52 2154.42,1371.86 2156.45,1368.12 2158.47,1364.29 2160.5,1360.37 2162.52,1356.37 2164.55,1352.29 2166.57,1348.12 2168.6,1343.86 2170.62,1339.53 2172.64,1335.1 2174.67,1330.6 2176.69,1326.02 2178.72,1321.35 2180.74,1316.61 2182.77,1311.79 2184.79,1306.88 2186.82,1301.9 2188.84,1296.85 2190.86,1291.71 2192.89,1286.5 2194.91,1281.22 2196.94,1275.86 2198.96,1270.43 2200.99,1264.92 2203.01,1259.35 2205.03,1253.7 2207.06,1247.98 2209.08,1242.19 2211.11,1236.34 2213.13,1230.41 2215.16,1224.42 2217.18,1218.36 2219.21,1212.24 2221.23,1206.06 2223.25,1199.81 2225.28,1193.49 2227.3,1187.12 2229.33,1180.69 2231.35,1174.19 2233.38,1167.64 2235.4,1161.03 2237.43,1154.36 2239.45,1147.64 2241.47,1140.86 2243.5,1134.03 2245.52,1127.14 2247.55,1120.21 2249.57,1113.22 2251.6,1106.18 2253.62,1099.09 2255.65,1091.96 2257.67,1084.78 2259.69,1077.55 2261.72,1070.28 2263.74,1062.96 2265.77,1055.6 2267.79,1048.2 2269.82,1040.76 2271.84,1033.28 2273.86,1025.76 2275.89,1018.2 2277.91,1010.61 2279.94,1002.98 2281.96,995.317 2283.99,987.622 2286.01,979.895 2288.04,972.137 2290.06,964.35 2292.08,956.534 \"/>\n",
       "<polyline clip-path=\"url(#clip842)\" style=\"stroke:#e26f46; stroke-linecap:round; stroke-linejoin:round; stroke-width:4; stroke-opacity:1; fill:none\" points=\"269.7,577.159 271.724,569.343 273.749,561.555 275.773,553.797 277.798,546.07 279.822,538.375 281.846,530.713 283.871,523.085 285.895,515.492 287.92,507.935 289.944,500.415 291.969,492.934 293.993,485.493 296.017,478.092 298.042,470.733 300.066,463.417 302.091,456.144 304.115,448.916 306.139,441.734 308.164,434.599 310.188,427.512 312.213,420.474 314.237,413.486 316.261,406.548 318.286,399.663 320.31,392.831 322.335,386.053 324.359,379.329 326.383,372.662 328.408,366.052 330.432,359.499 332.457,353.005 334.481,346.571 336.506,340.197 338.53,333.885 340.554,327.636 342.579,321.449 344.603,315.327 346.628,309.271 348.652,303.28 350.676,297.356 352.701,291.5 354.725,285.713 356.75,279.994 358.774,274.347 360.798,268.77 362.823,263.265 364.847,257.833 366.872,252.474 368.896,247.189 370.92,241.98 372.945,236.846 374.969,231.788 376.994,226.808 379.018,221.906 381.043,217.082 383.067,212.338 385.091,207.673 387.116,203.09 389.14,198.587 391.165,194.167 393.189,189.829 395.213,185.575 397.238,181.404 399.262,177.318 401.287,173.317 403.311,169.402 405.335,165.573 407.36,161.83 409.384,158.175 411.409,154.608 413.433,151.129 415.457,147.739 417.482,144.438 419.506,141.227 421.531,138.106 423.555,135.076 425.58,132.137 427.604,129.29 429.628,126.534 431.653,123.872 433.677,121.301 435.702,118.824 437.726,116.441 439.75,114.151 441.775,111.956 443.799,109.855 445.824,107.849 447.848,105.938 449.872,104.122 451.897,102.402 453.921,100.777 455.946,99.2493 457.97,97.8175 459.994,96.4822 462.019,95.2437 464.043,94.102 466.068,93.0574 468.092,92.11 470.117,91.26 472.141,90.5075 474.165,89.8525 476.19,89.2953 478.214,88.8358 480.239,88.4741 482.263,88.2103 484.287,88.0444 486.312,87.9765 488.336,88.0065 490.361,88.1344 492.385,88.3603 494.409,88.6841 496.434,89.1057 498.458,89.6252 500.483,90.2423 502.507,90.9571 504.531,91.7693 506.556,92.679 508.58,93.686 510.605,94.7901 512.629,95.9911 514.653,97.289 516.678,98.6834 518.702,100.174 520.727,101.761 522.751,103.444 524.776,105.223 526.8,107.097 528.824,109.067 530.849,111.131 532.873,113.29 534.898,115.543 536.922,117.89 538.946,120.331 540.971,122.865 542.995,125.492 545.02,128.212 547.044,131.024 549.068,133.927 551.093,136.922 553.117,140.008 555.142,143.184 557.166,146.45 559.19,149.805 561.215,153.25 563.239,156.783 565.264,160.404 567.288,164.113 569.313,167.909 571.337,171.791 573.361,175.759 575.386,179.812 577.41,183.95 579.435,188.172 581.459,192.477 583.483,196.866 585.508,201.337 587.532,205.889 589.557,210.522 591.581,215.235 593.605,220.028 595.63,224.9 597.654,229.85 599.679,234.878 601.703,239.982 603.727,245.163 605.752,250.419 607.776,255.749 609.801,261.153 611.825,266.63 613.85,272.179 615.874,277.799 617.898,283.49 619.923,289.251 621.947,295.08 623.972,300.978 625.996,306.943 628.02,312.974 630.045,319.071 632.069,325.232 634.094,331.458 636.118,337.746 638.142,344.095 640.167,350.506 642.191,356.977 644.216,363.507 646.24,370.095 648.264,376.741 650.289,383.443 652.313,390.2 654.338,397.011 656.362,403.876 658.387,410.793 660.411,417.762 662.435,424.781 664.46,431.849 666.484,438.966 668.509,446.129 670.533,453.34 672.557,460.595 674.582,467.895 676.606,475.237 678.631,482.622 680.655,490.048 682.679,497.514 684.704,505.019 686.728,512.561 688.753,520.14 690.777,527.755 692.801,535.404 694.826,543.087 696.85,550.801 698.875,558.547 700.899,566.324 702.924,574.129 704.948,581.961 706.972,589.821 708.997,597.706 711.021,605.616 713.046,613.548 715.07,621.503 717.094,629.479 719.119,637.475 721.143,645.489 723.168,653.521 725.192,661.569 727.216,669.632 729.241,677.71 731.265,685.8 733.29,693.902 735.314,702.014 737.338,710.136 739.363,718.266 741.387,726.403 743.412,734.546 745.436,742.693 747.461,750.844 749.485,758.998 751.509,767.152 753.534,775.307 755.558,783.46 757.583,791.61 759.607,799.758 761.631,807.9 763.656,816.037 765.68,824.166 767.705,832.287 769.729,840.399 771.753,848.5 773.778,856.589 775.802,864.666 777.827,872.728 779.851,880.775 781.875,888.805 783.9,896.818 785.924,904.813 787.949,912.787 789.973,920.74 791.997,928.671 794.022,936.579 796.046,944.462 798.071,952.32 800.095,960.15 802.12,967.953 804.144,975.727 806.168,983.471 808.193,991.183 810.217,998.863 812.242,1006.51 814.266,1014.12 816.29,1021.7 818.315,1029.24 820.339,1036.74 822.364,1044.2 824.388,1051.63 826.412,1059.01 828.437,1066.35 830.461,1073.64 832.486,1080.9 834.51,1088.1 836.534,1095.26 838.559,1102.38 840.583,1109.44 842.608,1116.46 844.632,1123.42 846.657,1130.33 848.681,1137.19 850.705,1144 852.73,1150.75 854.754,1157.45 856.779,1164.09 858.803,1170.68 860.827,1177.2 862.852,1183.67 864.876,1190.08 866.901,1196.42 868.925,1202.7 870.949,1208.92 872.974,1215.08 874.998,1221.17 877.023,1227.2 879.047,1233.16 881.071,1239.05 883.096,1244.88 885.12,1250.63 887.145,1256.32 889.169,1261.93 891.194,1267.48 893.218,1272.95 895.242,1278.35 897.267,1283.67 899.291,1288.92 901.316,1294.1 903.34,1299.19 905.364,1304.22 907.389,1309.16 909.413,1314.03 911.438,1318.81 913.462,1323.52 915.486,1328.15 917.511,1332.69 919.535,1337.16 921.56,1341.54 923.584,1345.84 925.608,1350.06 927.633,1354.19 929.657,1358.23 931.682,1362.2 933.706,1366.07 935.731,1369.86 937.755,1373.56 939.779,1377.18 941.804,1380.7 943.828,1384.14 945.853,1387.49 947.877,1390.75 949.901,1393.92 951.926,1397 953.95,1399.99 955.975,1402.88 957.999,1405.69 960.023,1408.4 962.048,1411.02 964.072,1413.55 966.097,1415.98 968.121,1418.32 970.145,1420.57 972.17,1422.72 974.194,1424.78 976.219,1426.74 978.243,1428.61 980.268,1430.38 982.292,1432.05 984.316,1433.63 986.341,1435.12 988.365,1436.5 990.39,1437.79 992.414,1438.99 994.438,1440.08 996.463,1441.08 998.487,1441.99 1000.51,1442.79 1002.54,1443.5 1004.56,1444.11 1006.58,1444.62 1008.61,1445.03 1010.63,1445.35 1012.66,1445.57 1014.68,1445.69 1016.71,1445.71 1018.73,1445.64 1020.76,1445.46 1022.78,1445.19 1024.8,1444.82 1026.83,1444.36 1028.85,1443.79 1030.88,1443.13 1032.9,1442.37 1034.93,1441.51 1036.95,1440.56 1038.98,1439.51 1041,1438.36 1043.02,1437.11 1045.05,1435.77 1047.07,1434.33 1049.1,1432.79 1051.12,1431.16 1053.15,1429.44 1055.17,1427.61 1057.2,1425.69 1059.22,1423.68 1061.24,1421.57 1063.27,1419.37 1065.29,1417.07 1067.32,1414.68 1069.34,1412.2 1071.37,1409.62 1073.39,1406.95 1075.41,1404.19 1077.44,1401.34 1079.46,1398.39 1081.49,1395.35 1083.51,1392.23 1085.54,1389.01 1087.56,1385.7 1089.59,1382.3 1091.61,1378.82 1093.63,1375.24 1095.66,1371.58 1097.68,1367.83 1099.71,1364 1101.73,1360.08 1103.76,1356.07 1105.78,1351.98 1107.81,1347.8 1109.83,1343.54 1111.85,1339.19 1113.88,1334.77 1115.9,1330.26 1117.93,1325.67 1119.95,1321 1121.98,1316.25 1124,1311.42 1126.02,1306.51 1128.05,1301.53 1130.07,1296.46 1132.1,1291.32 1134.12,1286.11 1136.15,1280.82 1138.17,1275.45 1140.2,1270.02 1142.22,1264.5 1144.24,1258.92 1146.27,1253.27 1148.29,1247.55 1150.32,1241.75 1152.34,1235.89 1154.37,1229.96 1156.39,1223.97 1158.42,1217.91 1160.44,1211.78 1162.46,1205.59 1164.49,1199.33 1166.51,1193.02 1168.54,1186.64 1170.56,1180.2 1172.59,1173.7 1174.61,1167.14 1176.64,1160.53 1178.66,1153.86 1180.68,1147.13 1182.71,1140.35 1184.73,1133.51 1186.76,1126.62 1188.78,1119.68 1190.81,1112.69 1192.83,1105.65 1194.85,1098.56 1196.88,1091.42 1198.9,1084.23 1200.93,1077 1202.95,1069.73 1204.98,1062.41 1207,1055.04 1209.03,1047.64 1211.05,1040.2 1213.07,1032.71 1215.1,1025.19 1217.12,1017.63 1219.15,1010.03 1221.17,1002.4 1223.2,994.739 1225.22,987.041 1227.25,979.312 1229.27,971.552 1231.29,963.762 1233.32,955.944 1235.34,948.099 1237.37,940.227 1239.39,932.331 1241.42,924.41 1243.44,916.467 1245.47,908.503 1247.49,900.517 1249.51,892.513 1251.54,884.49 1253.56,876.451 1255.59,868.396 1257.61,860.326 1259.64,852.242 1261.66,844.146 1263.68,836.039 1265.71,827.922 1267.73,819.797 1269.76,811.663 1271.78,803.523 1273.81,795.378 1275.83,787.229 1277.86,779.077 1279.88,770.923 1281.9,762.768 1283.93,754.614 1285.95,746.462 1287.98,738.313 1290,730.168 1292.03,722.028 1294.05,713.894 1296.08,705.769 1298.1,697.652 1300.12,689.545 1302.15,681.449 1304.17,673.366 1306.2,665.296 1308.22,657.24 1310.25,649.201 1312.27,641.178 1314.29,633.174 1316.32,625.189 1318.34,617.224 1320.37,609.281 1322.39,601.361 1324.42,593.464 1326.44,585.593 1328.47,577.747 1330.49,569.929 1332.51,562.14 1334.54,554.379 1336.56,546.65 1338.59,538.952 1340.61,531.288 1342.64,523.657 1344.66,516.061 1346.69,508.502 1348.71,500.979 1350.73,493.495 1352.76,486.051 1354.78,478.647 1356.81,471.285 1358.83,463.965 1360.86,456.689 1362.88,449.458 1364.91,442.272 1366.93,435.134 1368.95,428.043 1370.98,421.001 1373,414.009 1375.03,407.068 1377.05,400.179 1379.08,393.343 1381.1,386.56 1383.12,379.833 1385.15,373.161 1387.17,366.546 1389.2,359.989 1391.22,353.491 1393.25,347.052 1395.27,340.674 1397.3,334.357 1399.32,328.103 1401.34,321.912 1403.37,315.785 1405.39,309.724 1407.42,303.728 1409.44,297.799 1411.47,291.938 1413.49,286.145 1415.52,280.422 1417.54,274.769 1419.56,269.187 1421.59,263.676 1423.61,258.238 1425.64,252.874 1427.66,247.584 1429.69,242.369 1431.71,237.229 1433.74,232.166 1435.76,227.18 1437.78,222.272 1439.81,217.442 1441.83,212.692 1443.86,208.021 1445.88,203.431 1447.91,198.923 1449.93,194.496 1451.95,190.153 1453.98,185.892 1456,181.715 1458.03,177.622 1460.05,173.615 1462.08,169.693 1464.1,165.857 1466.13,162.108 1468.15,158.447 1470.17,154.873 1472.2,151.387 1474.22,147.99 1476.25,144.683 1478.27,141.465 1480.3,138.337 1482.32,135.301 1484.35,132.355 1486.37,129.501 1488.39,126.738 1490.42,124.069 1492.44,121.491 1494.47,119.007 1496.49,116.617 1498.52,114.32 1500.54,112.118 1502.56,110.01 1504.59,107.996 1506.61,106.078 1508.64,104.255 1510.66,102.528 1512.69,100.896 1514.71,99.3609 1516.74,97.9218 1518.76,96.5792 1520.78,95.3334 1522.81,94.1845 1524.83,93.1326 1526.86,92.1779 1528.88,91.3205 1530.91,90.5607 1532.93,89.8984 1534.96,89.3338 1536.98,88.8669 1539,88.4979 1541.03,88.2267 1543.05,88.0535 1545.08,87.9782 1547.1,88.0008 1549.13,88.1214 1551.15,88.3399 1553.18,88.6564 1555.2,89.0706 1557.22,89.5827 1559.25,90.1925 1561.27,90.8999 1563.3,91.7049 1565.32,92.6073 1567.35,93.6069 1569.37,94.7037 1571.39,95.8975 1573.42,97.1881 1575.44,98.5753 1577.47,100.059 1579.49,101.639 1581.52,103.315 1583.54,105.086 1585.57,106.953 1587.59,108.915 1589.61,110.973 1591.64,113.124 1593.66,115.371 1595.69,117.711 1597.71,120.144 1599.74,122.672 1601.76,125.292 1603.79,128.004 1605.81,130.809 1607.83,133.706 1609.86,136.694 1611.88,139.772 1613.91,142.942 1615.93,146.201 1617.96,149.55 1619.98,152.988 1622.01,156.514 1624.03,160.129 1626.05,163.831 1628.08,167.62 1630.1,171.496 1632.13,175.457 1634.15,179.504 1636.18,183.636 1638.2,187.852 1640.22,192.151 1642.25,196.533 1644.27,200.998 1646.3,205.544 1648.32,210.171 1650.35,214.878 1652.37,219.665 1654.4,224.531 1656.42,229.476 1658.44,234.497 1660.47,239.596 1662.49,244.771 1664.52,250.021 1666.54,255.345 1668.57,260.744 1670.59,266.215 1672.62,271.759 1674.64,277.374 1676.66,283.06 1678.69,288.815 1680.71,294.64 1682.74,300.532 1684.76,306.492 1686.79,312.519 1688.81,318.611 1690.83,324.767 1692.86,330.987 1694.88,337.271 1696.91,343.616 1698.93,350.022 1700.96,356.489 1702.98,363.014 1705.01,369.598 1707.03,376.239 1709.05,382.937 1711.08,389.69 1713.1,396.497 1715.13,403.358 1717.15,410.271 1719.18,417.236 1721.2,424.251 1723.23,431.316 1725.25,438.429 1727.27,445.589 1729.3,452.796 1731.32,460.048 1733.35,467.344 1735.37,474.684 1737.4,482.066 1739.42,489.488 1741.45,496.951 1743.47,504.453 1745.49,511.993 1747.52,519.569 1749.54,527.181 1751.57,534.828 1753.59,542.508 1755.62,550.22 1757.64,557.964 1759.66,565.738 1761.69,573.541 1763.71,581.372 1765.74,589.229 1767.76,597.112 1769.79,605.02 1771.81,612.951 1773.84,620.904 1775.86,628.879 1777.88,636.873 1779.91,644.886 1781.93,652.916 1783.96,660.963 1785.98,669.026 1788.01,677.102 1790.03,685.191 1792.06,693.292 1794.08,701.404 1796.1,709.525 1798.13,717.655 1800.15,725.791 1802.18,733.934 1804.2,742.081 1806.23,750.232 1808.25,758.385 1810.28,766.539 1812.3,774.694 1814.32,782.847 1816.35,790.998 1818.37,799.145 1820.4,807.288 1822.42,815.425 1824.45,823.555 1826.47,831.677 1828.49,839.789 1830.52,847.891 1832.54,855.982 1834.57,864.059 1836.59,872.122 1838.62,880.171 1840.64,888.202 1842.67,896.217 1844.69,904.212 1846.71,912.188 1848.74,920.143 1850.76,928.076 1852.79,935.985 1854.81,943.87 1856.84,951.73 1858.86,959.563 1860.89,967.368 1862.91,975.144 1864.93,982.89 1866.96,990.605 1868.98,998.287 1871.01,1005.94 1873.03,1013.55 1875.06,1021.13 1877.08,1028.67 1879.1,1036.18 1881.13,1043.64 1883.15,1051.07 1885.18,1058.45 1887.2,1065.8 1889.23,1073.1 1891.25,1080.35 1893.28,1087.56 1895.3,1094.73 1897.32,1101.84 1899.35,1108.91 1901.37,1115.93 1903.4,1122.9 1905.42,1129.82 1907.45,1136.68 1909.47,1143.49 1911.5,1150.25 1913.52,1156.95 1915.54,1163.6 1917.57,1170.18 1919.59,1176.71 1921.62,1183.18 1923.64,1189.6 1925.67,1195.95 1927.69,1202.23 1929.72,1208.46 1931.74,1214.62 1933.76,1220.72 1935.79,1226.75 1937.81,1232.71 1939.84,1238.61 1941.86,1244.44 1943.89,1250.2 1945.91,1255.89 1947.93,1261.51 1949.96,1267.06 1951.98,1272.54 1954.01,1277.94 1956.03,1283.27 1958.06,1288.53 1960.08,1293.71 1962.11,1298.81 1964.13,1303.84 1966.15,1308.79 1968.18,1313.66 1970.2,1318.46 1972.23,1323.17 1974.25,1327.8 1976.28,1332.35 1978.3,1336.83 1980.33,1341.21 1982.35,1345.52 1984.37,1349.74 1986.4,1353.88 1988.42,1357.93 1990.45,1361.9 1992.47,1365.78 1994.5,1369.58 1996.52,1373.29 1998.55,1376.91 2000.57,1380.44 2002.59,1383.89 2004.62,1387.24 2006.64,1390.51 2008.67,1393.68 2010.69,1396.77 2012.72,1399.76 2014.74,1402.67 2016.76,1405.48 2018.79,1408.2 2020.81,1410.83 2022.84,1413.36 2024.86,1415.8 2026.89,1418.15 2028.91,1420.4 2030.94,1422.56 2032.96,1424.62 2034.98,1426.59 2037.01,1428.47 2039.03,1430.25 2041.06,1431.93 2043.08,1433.52 2045.11,1435.01 2047.13,1436.4 2049.16,1437.7 2051.18,1438.9 2053.2,1440.01 2055.23,1441.01 2057.25,1441.92 2059.28,1442.73 2061.3,1443.45 2063.33,1444.07 2065.35,1444.59 2067.38,1445.01 2069.4,1445.33 2071.42,1445.56 2073.45,1445.68 2075.47,1445.71 2077.5,1445.65 2079.52,1445.48 2081.55,1445.22 2083.57,1444.86 2085.59,1444.4 2087.62,1443.84 2089.64,1443.18 2091.67,1442.43 2093.69,1441.58 2095.72,1440.63 2097.74,1439.59 2099.77,1438.45 2101.79,1437.21 2103.81,1435.87 2105.84,1434.44 2107.86,1432.91 2109.89,1431.29 2111.91,1429.57 2113.94,1427.75 2115.96,1425.84 2117.99,1423.84 2120.01,1421.74 2122.03,1419.54 2124.06,1417.25 2126.08,1414.87 2128.11,1412.39 2130.13,1409.82 2132.16,1407.16 2134.18,1404.4 2136.2,1401.55 2138.23,1398.62 2140.25,1395.59 2142.28,1392.46 2144.3,1389.25 2146.33,1385.95 2148.35,1382.56 2150.38,1379.08 2152.4,1375.52 2154.42,1371.86 2156.45,1368.12 2158.47,1364.29 2160.5,1360.37 2162.52,1356.37 2164.55,1352.29 2166.57,1348.12 2168.6,1343.86 2170.62,1339.52 2172.64,1335.1 2174.67,1330.6 2176.69,1326.02 2178.72,1321.35 2180.74,1316.61 2182.77,1311.79 2184.79,1306.88 2186.82,1301.9 2188.84,1296.85 2190.86,1291.71 2192.89,1286.5 2194.91,1281.22 2196.94,1275.86 2198.96,1270.43 2200.99,1264.92 2203.01,1259.34 2205.03,1253.7 2207.06,1247.98 2209.08,1242.19 2211.11,1236.34 2213.13,1230.41 2215.16,1224.42 2217.18,1218.36 2219.21,1212.24 2221.23,1206.06 2223.25,1199.81 2225.28,1193.49 2227.3,1187.12 2229.33,1180.69 2231.35,1174.19 2233.38,1167.64 2235.4,1161.03 2237.43,1154.36 2239.45,1147.64 2241.47,1140.86 2243.5,1134.03 2245.52,1127.14 2247.55,1120.21 2249.57,1113.22 2251.6,1106.18 2253.62,1099.09 2255.65,1091.96 2257.67,1084.78 2259.69,1077.55 2261.72,1070.27 2263.74,1062.96 2265.77,1055.6 2267.79,1048.2 2269.82,1040.76 2271.84,1033.28 2273.86,1025.76 2275.89,1018.2 2277.91,1010.61 2279.94,1002.98 2281.96,995.316 2283.99,987.621 2286.01,979.894 2288.04,972.136 2290.06,964.349 2292.08,956.533 \"/>\n",
       "<path clip-path=\"url(#clip840)\" d=\"M1967.74 250.738 L2281.3 250.738 L2281.3 95.2176 L1967.74 95.2176  Z\" fill=\"#ffffff\" fill-rule=\"evenodd\" fill-opacity=\"1\"/>\n",
       "<polyline clip-path=\"url(#clip840)\" style=\"stroke:#000000; stroke-linecap:round; stroke-linejoin:round; stroke-width:4; stroke-opacity:1; fill:none\" points=\"1967.74,250.738 2281.3,250.738 2281.3,95.2176 1967.74,95.2176 1967.74,250.738 \"/>\n",
       "<polyline clip-path=\"url(#clip840)\" style=\"stroke:#009af9; stroke-linecap:round; stroke-linejoin:round; stroke-width:4; stroke-opacity:1; fill:none\" points=\"1991.56,147.058 2134.47,147.058 \"/>\n",
       "<path clip-path=\"url(#clip840)\" d=\"M2162.57 160.449 L2162.57 174.199 L2158.29 174.199 L2158.29 138.412 L2162.57 138.412 L2162.57 142.347 Q2163.91 140.032 2165.95 138.921 Q2168.01 137.787 2170.86 137.787 Q2175.58 137.787 2178.52 141.537 Q2181.48 145.287 2181.48 151.398 Q2181.48 157.509 2178.52 161.259 Q2175.58 165.009 2170.86 165.009 Q2168.01 165.009 2165.95 163.898 Q2163.91 162.763 2162.57 160.449 M2177.06 151.398 Q2177.06 146.699 2175.12 144.037 Q2173.2 141.352 2169.82 141.352 Q2166.44 141.352 2164.49 144.037 Q2162.57 146.699 2162.57 151.398 Q2162.57 156.097 2164.49 158.782 Q2166.44 161.444 2169.82 161.444 Q2173.2 161.444 2175.12 158.782 Q2177.06 156.097 2177.06 151.398 Z\" fill=\"#000000\" fill-rule=\"nonzero\" fill-opacity=\"1\" /><path clip-path=\"url(#clip840)\" d=\"M2203.57 142.393 Q2202.85 141.977 2201.99 141.791 Q2201.16 141.583 2200.14 141.583 Q2196.53 141.583 2194.59 143.944 Q2192.66 146.282 2192.66 150.68 L2192.66 164.338 L2188.38 164.338 L2188.38 138.412 L2192.66 138.412 L2192.66 142.44 Q2194.01 140.078 2196.16 138.944 Q2198.31 137.787 2201.39 137.787 Q2201.83 137.787 2202.36 137.856 Q2202.9 137.903 2203.54 138.018 L2203.57 142.393 Z\" fill=\"#000000\" fill-rule=\"nonzero\" fill-opacity=\"1\" /><path clip-path=\"url(#clip840)\" d=\"M2229.17 150.31 L2229.17 152.393 L2209.59 152.393 Q2209.86 156.791 2212.22 159.106 Q2214.61 161.398 2218.85 161.398 Q2221.3 161.398 2223.59 160.796 Q2225.91 160.194 2228.17 158.99 L2228.17 163.018 Q2225.88 163.99 2223.47 164.5 Q2221.07 165.009 2218.59 165.009 Q2212.39 165.009 2208.75 161.398 Q2205.14 157.787 2205.14 151.629 Q2205.14 145.264 2208.57 141.537 Q2212.02 137.787 2217.85 137.787 Q2223.08 137.787 2226.11 141.166 Q2229.17 144.523 2229.17 150.31 M2224.91 149.06 Q2224.86 145.565 2222.94 143.481 Q2221.04 141.398 2217.9 141.398 Q2214.33 141.398 2212.18 143.412 Q2210.05 145.426 2209.72 149.083 L2224.91 149.06 Z\" fill=\"#000000\" fill-rule=\"nonzero\" fill-opacity=\"1\" /><path clip-path=\"url(#clip840)\" d=\"M2253.22 142.347 L2253.22 128.319 L2257.48 128.319 L2257.48 164.338 L2253.22 164.338 L2253.22 160.449 Q2251.88 162.763 2249.82 163.898 Q2247.78 165.009 2244.91 165.009 Q2240.21 165.009 2237.25 161.259 Q2234.31 157.509 2234.31 151.398 Q2234.31 145.287 2237.25 141.537 Q2240.21 137.787 2244.91 137.787 Q2247.78 137.787 2249.82 138.921 Q2251.88 140.032 2253.22 142.347 M2238.71 151.398 Q2238.71 156.097 2240.63 158.782 Q2242.57 161.444 2245.95 161.444 Q2249.33 161.444 2251.28 158.782 Q2253.22 156.097 2253.22 151.398 Q2253.22 146.699 2251.28 144.037 Q2249.33 141.352 2245.95 141.352 Q2242.57 141.352 2240.63 144.037 Q2238.71 146.699 2238.71 151.398 Z\" fill=\"#000000\" fill-rule=\"nonzero\" fill-opacity=\"1\" /><polyline clip-path=\"url(#clip840)\" style=\"stroke:#e26f46; stroke-linecap:round; stroke-linejoin:round; stroke-width:4; stroke-opacity:1; fill:none\" points=\"1991.56,198.898 2134.47,198.898 \"/>\n",
       "<path clip-path=\"url(#clip840)\" d=\"M2165.7 182.891 L2165.7 190.252 L2174.47 190.252 L2174.47 193.562 L2165.7 193.562 L2165.7 207.636 Q2165.7 210.807 2166.55 211.71 Q2167.43 212.613 2170.1 212.613 L2174.47 212.613 L2174.47 216.178 L2170.1 216.178 Q2165.16 216.178 2163.29 214.349 Q2161.41 212.497 2161.41 207.636 L2161.41 193.562 L2158.29 193.562 L2158.29 190.252 L2161.41 190.252 L2161.41 182.891 L2165.7 182.891 Z\" fill=\"#000000\" fill-rule=\"nonzero\" fill-opacity=\"1\" /><path clip-path=\"url(#clip840)\" d=\"M2195.1 194.233 Q2194.38 193.817 2193.52 193.631 Q2192.69 193.423 2191.67 193.423 Q2188.06 193.423 2186.11 195.784 Q2184.19 198.122 2184.19 202.52 L2184.19 216.178 L2179.91 216.178 L2179.91 190.252 L2184.19 190.252 L2184.19 194.28 Q2185.54 191.918 2187.69 190.784 Q2189.84 189.627 2192.92 189.627 Q2193.36 189.627 2193.89 189.696 Q2194.42 189.743 2195.07 189.858 L2195.1 194.233 Z\" fill=\"#000000\" fill-rule=\"nonzero\" fill-opacity=\"1\" /><path clip-path=\"url(#clip840)\" d=\"M2199.12 205.946 L2199.12 190.252 L2203.38 190.252 L2203.38 205.784 Q2203.38 209.465 2204.82 211.316 Q2206.25 213.145 2209.12 213.145 Q2212.57 213.145 2214.56 210.946 Q2216.58 208.747 2216.58 204.951 L2216.58 190.252 L2220.84 190.252 L2220.84 216.178 L2216.58 216.178 L2216.58 212.196 Q2215.03 214.557 2212.97 215.715 Q2210.93 216.849 2208.22 216.849 Q2203.75 216.849 2201.44 214.071 Q2199.12 211.293 2199.12 205.946 M2209.84 189.627 L2209.84 189.627 Z\" fill=\"#000000\" fill-rule=\"nonzero\" fill-opacity=\"1\" /><path clip-path=\"url(#clip840)\" d=\"M2251.78 202.15 L2251.78 204.233 L2232.2 204.233 Q2232.48 208.631 2234.84 210.946 Q2237.22 213.238 2241.46 213.238 Q2243.91 213.238 2246.21 212.636 Q2248.52 212.034 2250.79 210.83 L2250.79 214.858 Q2248.5 215.83 2246.09 216.34 Q2243.68 216.849 2241.21 216.849 Q2235 216.849 2231.37 213.238 Q2227.76 209.627 2227.76 203.469 Q2227.76 197.104 2231.18 193.377 Q2234.63 189.627 2240.47 189.627 Q2245.7 189.627 2248.73 193.006 Q2251.78 196.363 2251.78 202.15 M2247.53 200.9 Q2247.48 197.405 2245.56 195.321 Q2243.66 193.238 2240.51 193.238 Q2236.95 193.238 2234.79 195.252 Q2232.66 197.266 2232.34 200.923 L2247.53 200.9 Z\" fill=\"#000000\" fill-rule=\"nonzero\" fill-opacity=\"1\" /></svg>\n"
      ]
     },
     "metadata": {},
     "output_type": "display_data"
    }
   ],
   "source": [
    "xs = reshape(range(-600, 600, length=1000), 1, :)\n",
    "u_pred = pinn.phi(xs, res.u)\n",
    "u_true = @. 100*sin(ω*xs)\n",
    "\n",
    "using Plots\n",
    "plot(vec(xs),vec(u_pred), label=\"pred\")\n",
    "plot!(vec(xs),vec(u_true), label=\"true\")"
   ]
  }
 ],
 "metadata": {
  "kernelspec": {
   "display_name": "Julia 1.9.0",
   "language": "julia",
   "name": "julia-1.9"
  },
  "language_info": {
   "file_extension": ".jl",
   "mimetype": "application/julia",
   "name": "julia",
   "version": "1.9.0"
  },
  "orig_nbformat": 4
 },
 "nbformat": 4,
 "nbformat_minor": 2
}
