{
 "cells": [
  {
   "cell_type": "code",
   "execution_count": null,
   "metadata": {},
   "outputs": [],
   "source": [
    "using ModelingToolkit, Sophon, DomainSets\n",
    "using Optimization, OptimizationOptimJL\n",
    "\n",
    "@parameters x y\n",
    "@variables u(..)\n",
    "Dxx = Differential(x)^2\n",
    "Dyy = Differential(y)^2\n",
    "\n",
    "eq = Dxx(u(x, y)) + Dyy(u(x, y)) ~ 0\n",
    "\n",
    "bcs = [u(-1, y) ~ 75,\n",
    "       u(1, y) ~ 0,\n",
    "       u(x, -1) ~ 50,\n",
    "       u(x, 1) ~ 0]\n",
    "\n",
    "\n",
    "# Space and time domains\n",
    "domains = [x ∈ Interval(-1.0, 1.0),\n",
    "           y ∈ Interval(-1.0, 1.0)]\n",
    "\n",
    "@named pdesys = PDESystem([eq], bcs, domains, [x, y], [u(x, y)])"
   ]
  },
  {
   "cell_type": "code",
   "execution_count": null,
   "metadata": {},
   "outputs": [],
   "source": []
  }
 ],
 "metadata": {
  "kernelspec": {
   "display_name": "Julia 1.9.0",
   "language": "julia",
   "name": "julia-1.9"
  },
  "language_info": {
   "file_extension": ".jl",
   "mimetype": "application/julia",
   "name": "julia",
   "version": "1.9.0"
  },
  "orig_nbformat": 4
 },
 "nbformat": 4,
 "nbformat_minor": 2
}
