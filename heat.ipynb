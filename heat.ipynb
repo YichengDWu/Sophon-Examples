{
 "cells": [
  {
   "cell_type": "code",
   "execution_count": 24,
   "metadata": {},
   "outputs": [
    {
     "data": {
      "text/latex": [
       "$$ \\begin{align}\n",
       "\\frac{\\mathrm{d}}{\\mathrm{d}y} \\frac{\\mathrm{d}}{\\mathrm{d}y} u\\left( x, y \\right) + \\frac{\\mathrm{d}}{\\mathrm{d}x} \\frac{\\mathrm{d}}{\\mathrm{d}x} u\\left( x, y \\right) =& 0\n",
       "\\end{align}\n",
       " $$"
      ],
      "text/plain": [
       "PDESystem\n",
       "Equations: Equation[Differential(y)(Differential(y)(u(x, y))) + Differential(x)(Differential(x)(u(x, y))) ~ 0]\n",
       "Boundary Conditions: Equation[u(-1, y) ~ 1, u(1, y) ~ 0, u(x, -1) ~ 0.6666666666666666, u(x, 1) ~ 0]\n",
       "Domain: Symbolics.VarDomainPairing[Symbolics.VarDomainPairing(x, -1.0..1.0), Symbolics.VarDomainPairing(y, -1.0..1.0)]\n",
       "Dependent Variables: Num[u(x, y)]\n",
       "Independent Variables: Num[x, y]\n",
       "Parameters: SciMLBase.NullParameters()\n",
       "Default Parameter ValuesDict{Any, Any}()"
      ]
     },
     "metadata": {},
     "output_type": "display_data"
    }
   ],
   "source": [
    "using ModelingToolkit, Sophon, DomainSets\n",
    "using Optimization, OptimizationOptimJL\n",
    "\n",
    "@parameters x y\n",
    "@variables u(..)\n",
    "Dxx = Differential(x)^2\n",
    "Dyy = Differential(y)^2\n",
    "\n",
    "eq = Dxx(u(x, y)) + Dyy(u(x, y)) ~ 0\n",
    "\n",
    "bcs = [u(-1, y) ~ 1,\n",
    "       u(1, y) ~ 0,\n",
    "       u(x, -1) ~ 50/75,\n",
    "       u(x, 1) ~ 0]\n",
    "\n",
    "\n",
    "# Space and time domains\n",
    "domains = [x ∈ Interval(-1.0, 1.0),\n",
    "           y ∈ Interval(-1.0, 1.0)]\n",
    "\n",
    "@named pde_system = PDESystem([eq], bcs, domains, [x, y], [u(x, y)])"
   ]
  },
  {
   "cell_type": "code",
   "execution_count": 25,
   "metadata": {},
   "outputs": [
    {
     "data": {
      "text/plain": [
       "\u001b[38;2;86;182;194mOptimizationProblem\u001b[0m. In-place: \u001b[38;2;86;182;194mtrue\u001b[0m\n",
       "u0: \u001b[0mComponentVector{Float64}(layer_1 = (weight = [-0.9062318801879883 0.93593430519104; -0.522209644317627 -1.3223326206207275; … ; -1.911845326423645 -1.5321487188339233; -0.43629759550094604 -0.15970802307128906], bias = [0.0; 0.0; … ; 0.0; 0.0;;]), layer_2 = (weight = [0.6441393494606018 0.10598668456077576 … -0.22159533202648163 0.16871033608913422; -0.3870008587837219 0.5705342292785645 … 0.19368821382522583 0.2766816318035126; … ; 0.46211403608322144 0.3394051790237427 … -0.11117629706859589 -0.16786235570907593; 0.23933613300323486 0.12539352476596832 … -0.3184807002544403 0.01967969723045826], bias = [0.0; 0.0; … ; 0.0; 0.0;;]), layer_3 = (weight = [-0.2514708936214447 -0.2421545535326004 … -0.18750989437103271 0.5346493124961853; 0.06382148712873459 0.3718229830265045 … -0.39304691553115845 0.33742737770080566; … ; -0.4117743670940399 0.5693962574005127 … -0.37741729617118835 0.23135127127170563; 0.4032992422580719 -0.3693874776363373 … -0.3273611068725586 0.400012731552124], bias = [0.0; 0.0; … ; 0.0; 0.0;;]), layer_4 = (weight = [-0.17570771276950836 -0.06093781441450119 … -0.16649897396564484 0.33818161487579346; 0.6361196041107178 -0.37091538310050964 … -0.46062543988227844 0.25796663761138916; … ; -0.4491398334503174 -0.1437961608171463 … 0.014892298728227615 -0.6305918097496033; -0.5165550708770752 0.22994117438793182 … -0.14971964061260223 -0.10997342318296432], bias = [0.0; 0.0; … ; 0.0; 0.0;;]), layer_5 = (weight = [-0.2824774980545044 -0.4580894410610199 … -0.03196072205901146 0.12807974219322205; 0.5423291921615601 -0.11270212382078171 … 0.12394648790359497 -0.2667733132839203; … ; -0.493851900100708 -0.3528423011302948 … 0.2919481098651886 0.3263311982154846; -0.16174258291721344 0.39364179968833923 … 0.16178013384342194 -0.27098914980888367], bias = [0.0; 0.0; … ; 0.0; 0.0;;]), layer_6 = (weight = [-0.1723957508802414 0.08151020109653473 … 0.08812876045703888 -0.4460749626159668; -0.11857335269451141 0.2404867559671402 … 0.26776543259620667 -0.495123028755188; … ; 0.5306157469749451 0.12637431919574738 … 0.455486536026001 -0.6172419786453247; 0.5841003060340881 -0.09649407118558884 … -0.594870924949646 -0.39780646562576294], bias = [0.0; 0.0; … ; 0.0; 0.0;;]), layer_7 = (weight = [-0.011753307655453682 0.4468790888786316 … 0.212839275598526 0.16963981091976166], bias = [0.0;;]))"
      ]
     },
     "metadata": {},
     "output_type": "display_data"
    }
   ],
   "source": [
    "chain = FullyConnected(2, 1, tanh; hidden_dims=20, num_layers=6)\n",
    "pinn = PINN(chain)\n",
    "sampler = QuasiRandomSampler(2000, 200)\n",
    "strategy = NonAdaptiveTraining(1, 10)\n",
    "prob = Sophon.discretize(pde_system, pinn, sampler, strategy)"
   ]
  },
  {
   "cell_type": "code",
   "execution_count": 29,
   "metadata": {},
   "outputs": [
    {
     "name": "stdout",
     "output_type": "stream",
     "text": [
      "Loss: 734.0989893362084\n"
     ]
    },
    {
     "name": "stdout",
     "output_type": "stream",
     "text": [
      "Loss: 501.33382366591553\n",
      "Loss: 357.94385423106894\n"
     ]
    },
    {
     "name": "stdout",
     "output_type": "stream",
     "text": [
      "Loss: 267.9493356378049\n",
      "Loss: 190.50825661364962\n"
     ]
    },
    {
     "name": "stdout",
     "output_type": "stream",
     "text": [
      "Loss: 136.1200752463741\n",
      "Loss: 117.11254853632876\n"
     ]
    },
    {
     "name": "stdout",
     "output_type": "stream",
     "text": [
      "Loss: 94.99805086531873\n",
      "Loss: 78.10372291660045\n"
     ]
    },
    {
     "name": "stdout",
     "output_type": "stream",
     "text": [
      "Loss: 62.752471014032615\n",
      "Loss: 47.80138510725376\n"
     ]
    },
    {
     "name": "stdout",
     "output_type": "stream",
     "text": [
      "Loss: 37.103545402437895\n",
      "Loss: 28.726068058178683\n"
     ]
    },
    {
     "name": "stdout",
     "output_type": "stream",
     "text": [
      "Loss: 21.152001644573577\n",
      "Loss: 18.52008794447565\n"
     ]
    },
    {
     "name": "stdout",
     "output_type": "stream",
     "text": [
      "Loss: 14.222857130764885\n",
      "Loss: 12.45299195706632\n",
      "Loss: 10.18498940254797\n"
     ]
    },
    {
     "name": "stdout",
     "output_type": "stream",
     "text": [
      "Loss: 8.853596070426502\n",
      "Loss: 7.514368293229249\n"
     ]
    },
    {
     "name": "stdout",
     "output_type": "stream",
     "text": [
      "Loss: 6.411079903341592\n",
      "Loss: 5.603768804771864\n"
     ]
    },
    {
     "name": "stdout",
     "output_type": "stream",
     "text": [
      "Loss: 5.161146459995838\n",
      "Loss: 4.701882108522362\n"
     ]
    },
    {
     "name": "stdout",
     "output_type": "stream",
     "text": [
      "Loss: 4.40332281159928\n",
      "Loss: 4.106608669855323\n"
     ]
    },
    {
     "name": "stdout",
     "output_type": "stream",
     "text": [
      "Loss: 3.8603394813176344\n",
      "Loss: 3.6386387567282283\n"
     ]
    },
    {
     "name": "stdout",
     "output_type": "stream",
     "text": [
      "Loss: 3.4496740114229336\n",
      "Loss: 3.301414572361833\n"
     ]
    },
    {
     "name": "stdout",
     "output_type": "stream",
     "text": [
      "Loss: 3.17054908992102\n",
      "Loss: 3.0606024748082095\n"
     ]
    },
    {
     "name": "stdout",
     "output_type": "stream",
     "text": [
      "Loss: 2.970355288537726\n",
      "Loss: 2.8925099841917348\n"
     ]
    },
    {
     "name": "stdout",
     "output_type": "stream",
     "text": [
      "Loss: 2.8276988504842064\n",
      "Loss: 2.7581979759903676\n"
     ]
    },
    {
     "name": "stdout",
     "output_type": "stream",
     "text": [
      "Loss: 2.6884905645711097\n",
      "Loss: 2.6198942098768327\n"
     ]
    },
    {
     "name": "stdout",
     "output_type": "stream",
     "text": [
      "Loss: 2.5561569483279194\n",
      "Loss: 2.502543468599768\n"
     ]
    },
    {
     "name": "stdout",
     "output_type": "stream",
     "text": [
      "Loss: 2.460756550837314\n",
      "Loss: 2.4176377609616213\n"
     ]
    },
    {
     "name": "stdout",
     "output_type": "stream",
     "text": [
      "Loss: 2.376811241934917\n",
      "Loss: 2.3401076973430435\n"
     ]
    },
    {
     "name": "stdout",
     "output_type": "stream",
     "text": [
      "Loss: 2.3060471222874144\n",
      "Loss: 2.27367266322041\n"
     ]
    },
    {
     "name": "stdout",
     "output_type": "stream",
     "text": [
      "Loss: 2.2486272991698657\n",
      "Loss: 2.23310822151936\n"
     ]
    },
    {
     "name": "stdout",
     "output_type": "stream",
     "text": [
      "Loss: 2.2129353859234215\n",
      "Loss: 2.191132379963732\n"
     ]
    },
    {
     "name": "stdout",
     "output_type": "stream",
     "text": [
      "Loss: 2.175219603595224\n",
      "Loss: 2.1587332615455748\n"
     ]
    },
    {
     "name": "stdout",
     "output_type": "stream",
     "text": [
      "Loss: 2.143439228518553\n",
      "Loss: 2.126413893160084\n"
     ]
    },
    {
     "name": "stdout",
     "output_type": "stream",
     "text": [
      "Loss: 2.1078071824684246\n",
      "Loss: 2.088077693104448\n"
     ]
    },
    {
     "name": "stdout",
     "output_type": "stream",
     "text": [
      "Loss: 2.066049571022266\n",
      "Loss: 2.0439362183752308\n"
     ]
    },
    {
     "name": "stdout",
     "output_type": "stream",
     "text": [
      "Loss: 2.0237516051976927\n",
      "Loss: 2.002822696770085\n"
     ]
    },
    {
     "name": "stdout",
     "output_type": "stream",
     "text": [
      "Loss: 1.9879534310093745\n",
      "Loss: 1.9703862113490818\n"
     ]
    },
    {
     "name": "stdout",
     "output_type": "stream",
     "text": [
      "Loss: 1.9540067554378715\n",
      "Loss: 1.935173201728165\n"
     ]
    },
    {
     "name": "stdout",
     "output_type": "stream",
     "text": [
      "Loss: 1.914347218616704\n",
      "Loss: 1.8915848067674288\n"
     ]
    },
    {
     "name": "stdout",
     "output_type": "stream",
     "text": [
      "Loss: 1.8686275389219928\n",
      "Loss: 1.8509010268321486\n"
     ]
    },
    {
     "name": "stdout",
     "output_type": "stream",
     "text": [
      "Loss: 1.8348589601158047\n",
      "Loss: 1.8201420709184561\n"
     ]
    },
    {
     "name": "stdout",
     "output_type": "stream",
     "text": [
      "Loss: 1.8043047524501459\n",
      "Loss: 1.7931929181788329\n"
     ]
    },
    {
     "name": "stdout",
     "output_type": "stream",
     "text": [
      "Loss: 1.7813103134471269\n",
      "Loss: 1.7692587066126246\n"
     ]
    },
    {
     "name": "stdout",
     "output_type": "stream",
     "text": [
      "Loss: 1.7564277108558641\n",
      "Loss: 1.7418333624371298\n"
     ]
    },
    {
     "name": "stdout",
     "output_type": "stream",
     "text": [
      "Loss: 1.7260030466197853\n",
      "Loss: 1.7107894174995617\n"
     ]
    },
    {
     "name": "stdout",
     "output_type": "stream",
     "text": [
      "Loss: 1.694141250944904\n",
      "Loss: 1.677408302371952\n"
     ]
    },
    {
     "name": "stdout",
     "output_type": "stream",
     "text": [
      "Loss: 1.6592759969001007\n",
      "Loss: 1.644423590751979\n"
     ]
    },
    {
     "name": "stdout",
     "output_type": "stream",
     "text": [
      "Loss: 1.626311643421236\n",
      "Loss: 1.609765412759629\n"
     ]
    },
    {
     "name": "stdout",
     "output_type": "stream",
     "text": [
      "Loss: 1.5938163791972555\n",
      "Loss: 1.5789456905234838\n"
     ]
    },
    {
     "name": "stdout",
     "output_type": "stream",
     "text": [
      "Loss: 1.566407249206478\n",
      "Loss: 1.5546025678930264\n"
     ]
    },
    {
     "name": "stdout",
     "output_type": "stream",
     "text": [
      "Loss: 1.545048173537436\n",
      "Loss: 1.532922295171993\n"
     ]
    },
    {
     "name": "stdout",
     "output_type": "stream",
     "text": [
      "Loss: 1.5224162511667287\n",
      "Loss: 1.511101966923623\n"
     ]
    },
    {
     "name": "stdout",
     "output_type": "stream",
     "text": [
      "Loss: 1.499312932959186\n",
      "Loss: 1.486895641103899\n"
     ]
    },
    {
     "name": "stdout",
     "output_type": "stream",
     "text": [
      "Loss: 1.4746532604287004\n",
      "Loss: 1.4616209145318966\n"
     ]
    },
    {
     "name": "stdout",
     "output_type": "stream",
     "text": [
      "Loss: 1.4484444793165059\n",
      "Loss: 1.4345940676124112\n"
     ]
    },
    {
     "name": "stdout",
     "output_type": "stream",
     "text": [
      "Loss: 1.423494419741628\n",
      "Loss: 1.4101387370583924\n"
     ]
    },
    {
     "name": "stdout",
     "output_type": "stream",
     "text": [
      "Loss: 1.400162078952175\n",
      "Loss: 1.3901731872424947\n"
     ]
    },
    {
     "name": "stdout",
     "output_type": "stream",
     "text": [
      "Loss: 1.3805560120421247\n",
      "Loss: 1.3720311558622997\n"
     ]
    },
    {
     "name": "stdout",
     "output_type": "stream",
     "text": [
      "Loss: 1.3625354713644182\n",
      "Loss: 1.3545498714131556\n"
     ]
    },
    {
     "name": "stdout",
     "output_type": "stream",
     "text": [
      "Loss: 1.3467463037001046\n",
      "Loss: 1.3392281568869422\n"
     ]
    },
    {
     "name": "stdout",
     "output_type": "stream",
     "text": [
      "Loss: 1.331611519375866\n",
      "Loss: 1.323860404717084\n"
     ]
    },
    {
     "name": "stdout",
     "output_type": "stream",
     "text": [
      "Loss: 1.3150971081199723\n",
      "Loss: 1.306148262137552\n"
     ]
    },
    {
     "name": "stdout",
     "output_type": "stream",
     "text": [
      "Loss: 1.2964283125276272\n",
      "Loss: 1.2861131951082678\n"
     ]
    },
    {
     "name": "stdout",
     "output_type": "stream",
     "text": [
      "Loss: 1.2775185200678763\n",
      "Loss: 1.2694563701400277\n"
     ]
    },
    {
     "name": "stdout",
     "output_type": "stream",
     "text": [
      "Loss: 1.2606450675253051\n",
      "Loss: 1.255838435461809\n"
     ]
    },
    {
     "name": "stdout",
     "output_type": "stream",
     "text": [
      "Loss: 1.2485047373976133\n",
      "Loss: 1.244101806876002\n"
     ]
    },
    {
     "name": "stdout",
     "output_type": "stream",
     "text": [
      "Loss: 1.2388981810758626\n",
      "Loss: 1.233552056476051\n"
     ]
    },
    {
     "name": "stdout",
     "output_type": "stream",
     "text": [
      "Loss: 1.2276084724547396\n",
      "Loss: 1.2212562829992337\n"
     ]
    },
    {
     "name": "stdout",
     "output_type": "stream",
     "text": [
      "Loss: 1.2143972776992373\n",
      "Loss: 1.2069554138941934\n"
     ]
    },
    {
     "name": "stdout",
     "output_type": "stream",
     "text": [
      "Loss: 1.1992674957765677\n",
      "Loss: 1.1914649206508092\n"
     ]
    },
    {
     "name": "stdout",
     "output_type": "stream",
     "text": [
      "Loss: 1.1834643267067904\n",
      "Loss: 1.1760790660397347\n"
     ]
    },
    {
     "name": "stdout",
     "output_type": "stream",
     "text": [
      "Loss: 1.1702924872030973\n",
      "Loss: 1.1651356070287022\n"
     ]
    },
    {
     "name": "stdout",
     "output_type": "stream",
     "text": [
      "Loss: 1.1590011540095284\n",
      "Loss: 1.153935646070126\n"
     ]
    },
    {
     "name": "stdout",
     "output_type": "stream",
     "text": [
      "Loss: 1.1491803309888418\n",
      "Loss: 1.1445043495124958\n"
     ]
    },
    {
     "name": "stdout",
     "output_type": "stream",
     "text": [
      "Loss: 1.1393874090194687\n",
      "Loss: 1.1339263076816\n"
     ]
    },
    {
     "name": "stdout",
     "output_type": "stream",
     "text": [
      "Loss: 1.128110544435824\n",
      "Loss: 1.1225967336769145\n"
     ]
    },
    {
     "name": "stdout",
     "output_type": "stream",
     "text": [
      "Loss: 1.1172340527804807\n",
      "Loss: 1.1110398346524155\n"
     ]
    },
    {
     "name": "stdout",
     "output_type": "stream",
     "text": [
      "Loss: 1.1044852645800205\n",
      "Loss: 1.0980063601982568\n"
     ]
    },
    {
     "name": "stdout",
     "output_type": "stream",
     "text": [
      "Loss: 1.0911061688577024\n",
      "Loss: 1.0848572420312437\n"
     ]
    },
    {
     "name": "stdout",
     "output_type": "stream",
     "text": [
      "Loss: 1.078590416550824\n",
      "Loss: 1.0729829719645223\n"
     ]
    },
    {
     "name": "stdout",
     "output_type": "stream",
     "text": [
      "Loss: 1.0676804582724675\n",
      "Loss: 1.063110432303143\n"
     ]
    },
    {
     "name": "stdout",
     "output_type": "stream",
     "text": [
      "Loss: 1.0583597906718671\n",
      "Loss: 1.0535168677841609\n"
     ]
    },
    {
     "name": "stdout",
     "output_type": "stream",
     "text": [
      "Loss: 1.0487498367109507\n",
      "Loss: 1.0437609573470517\n"
     ]
    },
    {
     "name": "stdout",
     "output_type": "stream",
     "text": [
      "Loss: 1.0398354633140705\n",
      "Loss: 1.035004385109795\n"
     ]
    },
    {
     "name": "stdout",
     "output_type": "stream",
     "text": [
      "Loss: 1.0305397247794281\n",
      "Loss: 1.026916682392887\n"
     ]
    },
    {
     "name": "stdout",
     "output_type": "stream",
     "text": [
      "Loss: 1.0223552145693233\n",
      "Loss: 1.0182397149498617\n"
     ]
    },
    {
     "name": "stdout",
     "output_type": "stream",
     "text": [
      "Loss: 1.0138052708698901\n",
      "Loss: 1.0090194921467452\n"
     ]
    },
    {
     "name": "stdout",
     "output_type": "stream",
     "text": [
      "Loss: 1.003785289126665\n",
      "Loss: 0.9983790759072764\n"
     ]
    },
    {
     "name": "stdout",
     "output_type": "stream",
     "text": [
      "Loss: 0.9933253586309365\n",
      "Loss: 0.9877329800997114\n"
     ]
    },
    {
     "name": "stdout",
     "output_type": "stream",
     "text": [
      "Loss: 0.9821670657424867\n",
      "Loss: 0.9765868226934755\n"
     ]
    },
    {
     "name": "stdout",
     "output_type": "stream",
     "text": [
      "Loss: 0.9711105156253391\n",
      "Loss: 0.9655067210727877\n"
     ]
    },
    {
     "name": "stdout",
     "output_type": "stream",
     "text": [
      "Loss: 0.9601131426853915\n",
      "Loss: 0.9546954844859927\n"
     ]
    },
    {
     "name": "stdout",
     "output_type": "stream",
     "text": [
      "Loss: 0.9485014129200633\n",
      "Loss: 0.9417446450154034\n"
     ]
    },
    {
     "name": "stdout",
     "output_type": "stream",
     "text": [
      "Loss: 0.9343785295951135\n",
      "Loss: 0.9266509460731909\n"
     ]
    },
    {
     "name": "stdout",
     "output_type": "stream",
     "text": [
      "Loss: 0.9195892791448379\n",
      "Loss: 0.9136298502565172\n"
     ]
    },
    {
     "name": "stdout",
     "output_type": "stream",
     "text": [
      "Loss: 0.9086219300517352\n",
      "Loss: 0.9049334214706871\n"
     ]
    },
    {
     "name": "stdout",
     "output_type": "stream",
     "text": [
      "Loss: 0.8991624653610956\n",
      "Loss: 0.8949313544057713\n"
     ]
    },
    {
     "name": "stdout",
     "output_type": "stream",
     "text": [
      "Loss: 0.8912308297039367\n",
      "Loss: 0.8867856770983119\n"
     ]
    },
    {
     "name": "stdout",
     "output_type": "stream",
     "text": [
      "Loss: 0.8834974197743117\n",
      "Loss: 0.8802645094092083\n"
     ]
    },
    {
     "name": "stdout",
     "output_type": "stream",
     "text": [
      "Loss: 0.8770242494348599\n",
      "Loss: 0.8737494860471302\n"
     ]
    },
    {
     "name": "stdout",
     "output_type": "stream",
     "text": [
      "Loss: 0.8708292229508308\n",
      "Loss: 0.8677379983183766\n"
     ]
    },
    {
     "name": "stdout",
     "output_type": "stream",
     "text": [
      "Loss: 0.8645142369025031\n",
      "Loss: 0.8611401336172275\n"
     ]
    },
    {
     "name": "stdout",
     "output_type": "stream",
     "text": [
      "Loss: 0.8581604648694967\n",
      "Loss: 0.8553390359755608\n"
     ]
    },
    {
     "name": "stdout",
     "output_type": "stream",
     "text": [
      "Loss: 0.852326262786662\n",
      "Loss: 0.8493164534753561\n"
     ]
    },
    {
     "name": "stdout",
     "output_type": "stream",
     "text": [
      "Loss: 0.8459319460585378\n",
      "Loss: 0.8425705094038058\n"
     ]
    },
    {
     "name": "stdout",
     "output_type": "stream",
     "text": [
      "Loss: 0.8388700590211093\n",
      "Loss: 0.8351008530835633\n"
     ]
    },
    {
     "name": "stdout",
     "output_type": "stream",
     "text": [
      "Loss: 0.8313140481002006\n",
      "Loss: 0.8281524627786392\n"
     ]
    },
    {
     "name": "stdout",
     "output_type": "stream",
     "text": [
      "Loss: 0.8252948474246231\n",
      "Loss: 0.8219691615931267\n"
     ]
    },
    {
     "name": "stdout",
     "output_type": "stream",
     "text": [
      "Loss: 0.818829080441567\n",
      "Loss: 0.815695100874875\n"
     ]
    },
    {
     "name": "stdout",
     "output_type": "stream",
     "text": [
      "Loss: 0.8118458015660359\n",
      "Loss: 0.8077864897413297\n"
     ]
    },
    {
     "name": "stdout",
     "output_type": "stream",
     "text": [
      "Loss: 0.803333147308515\n",
      "Loss: 0.7984225995992721\n"
     ]
    },
    {
     "name": "stdout",
     "output_type": "stream",
     "text": [
      "Loss: 0.7928797613278402\n",
      "Loss: 0.7883180006581693\n"
     ]
    },
    {
     "name": "stdout",
     "output_type": "stream",
     "text": [
      "Loss: 0.7836051927128034\n",
      "Loss: 0.7789295357554826\n"
     ]
    },
    {
     "name": "stdout",
     "output_type": "stream",
     "text": [
      "Loss: 0.7743797464984314\n",
      "Loss: 0.7705916175408384\n"
     ]
    },
    {
     "name": "stdout",
     "output_type": "stream",
     "text": [
      "Loss: 0.7662117246749648\n",
      "Loss: 0.7632392943228682\n"
     ]
    },
    {
     "name": "stdout",
     "output_type": "stream",
     "text": [
      "Loss: 0.76043947366687\n",
      "Loss: 0.7580169060727276\n"
     ]
    },
    {
     "name": "stdout",
     "output_type": "stream",
     "text": [
      "Loss: 0.7549122613160815\n",
      "Loss: 0.7520758238998053\n"
     ]
    },
    {
     "name": "stdout",
     "output_type": "stream",
     "text": [
      "Loss: 0.7491712717405552\n",
      "Loss: 0.7461524176134554\n"
     ]
    },
    {
     "name": "stdout",
     "output_type": "stream",
     "text": [
      "Loss: 0.7433513100883085\n",
      "Loss: 0.7404720083640692\n"
     ]
    },
    {
     "name": "stdout",
     "output_type": "stream",
     "text": [
      "Loss: 0.7377192168979627\n",
      "Loss: 0.7347743983094766\n"
     ]
    },
    {
     "name": "stdout",
     "output_type": "stream",
     "text": [
      "Loss: 0.7323268268226735\n",
      "Loss: 0.7297337384860817\n"
     ]
    },
    {
     "name": "stdout",
     "output_type": "stream",
     "text": [
      "Loss: 0.726622859299898\n",
      "Loss: 0.7235437354595121\n"
     ]
    },
    {
     "name": "stdout",
     "output_type": "stream",
     "text": [
      "Loss: 0.7203701260743925\n",
      "Loss: 0.7168687668735645\n"
     ]
    },
    {
     "name": "stdout",
     "output_type": "stream",
     "text": [
      "Loss: 0.7135847122779957\n",
      "Loss: 0.7100982772162401\n"
     ]
    },
    {
     "name": "stdout",
     "output_type": "stream",
     "text": [
      "Loss: 0.7075618239956306\n",
      "Loss: 0.7044680562206969\n"
     ]
    },
    {
     "name": "stdout",
     "output_type": "stream",
     "text": [
      "Loss: 0.7015141932419838\n",
      "Loss: 0.698695635024774\n"
     ]
    },
    {
     "name": "stdout",
     "output_type": "stream",
     "text": [
      "Loss: 0.6954452569082544\n",
      "Loss: 0.6919569296185716\n"
     ]
    },
    {
     "name": "stdout",
     "output_type": "stream",
     "text": [
      "Loss: 0.6883728552224158\n",
      "Loss: 0.6844859899520503\n"
     ]
    },
    {
     "name": "stdout",
     "output_type": "stream",
     "text": [
      "Loss: 0.6802521512990952\n",
      "Loss: 0.6757823726656299\n"
     ]
    },
    {
     "name": "stdout",
     "output_type": "stream",
     "text": [
      "Loss: 0.6722399339068542\n",
      "Loss: 0.6687828545749841\n"
     ]
    },
    {
     "name": "stdout",
     "output_type": "stream",
     "text": [
      "Loss: 0.665011376567473\n",
      "Loss: 0.6622638135214868\n"
     ]
    },
    {
     "name": "stdout",
     "output_type": "stream",
     "text": [
      "Loss: 0.6601364078526029\n",
      "Loss: 0.6571748971942881\n"
     ]
    },
    {
     "name": "stdout",
     "output_type": "stream",
     "text": [
      "Loss: 0.6547533129194761\n",
      "Loss: 0.6522812786090668\n"
     ]
    },
    {
     "name": "stdout",
     "output_type": "stream",
     "text": [
      "Loss: 0.6496140392075546\n",
      "Loss: 0.646767409745112\n"
     ]
    },
    {
     "name": "stdout",
     "output_type": "stream",
     "text": [
      "Loss: 0.6444994437547333\n",
      "Loss: 0.6418846544876442\n"
     ]
    },
    {
     "name": "stdout",
     "output_type": "stream",
     "text": [
      "Loss: 0.6393342023513414\n",
      "Loss: 0.6368726127304818\n"
     ]
    },
    {
     "name": "stdout",
     "output_type": "stream",
     "text": [
      "Loss: 0.634341720512194\n",
      "Loss: 0.631816541366457\n"
     ]
    },
    {
     "name": "stdout",
     "output_type": "stream",
     "text": [
      "Loss: 0.6294448068675514\n",
      "Loss: 0.6268044928090004\n"
     ]
    },
    {
     "name": "stdout",
     "output_type": "stream",
     "text": [
      "Loss: 0.624117348142136\n",
      "Loss: 0.6215186667623736\n"
     ]
    },
    {
     "name": "stdout",
     "output_type": "stream",
     "text": [
      "Loss: 0.619053323589291\n",
      "Loss: 0.6162665268991232\n"
     ]
    },
    {
     "name": "stdout",
     "output_type": "stream",
     "text": [
      "Loss: 0.6135808337104969\n",
      "Loss: 0.6112991062896996\n"
     ]
    },
    {
     "name": "stdout",
     "output_type": "stream",
     "text": [
      "Loss: 0.6090263266521907\n",
      "Loss: 0.6071504687597784\n"
     ]
    },
    {
     "name": "stdout",
     "output_type": "stream",
     "text": [
      "Loss: 0.6050645631840743\n",
      "Loss: 0.6035729173278817\n"
     ]
    },
    {
     "name": "stdout",
     "output_type": "stream",
     "text": [
      "Loss: 0.6018417860585932\n",
      "Loss: 0.5998688447965825\n"
     ]
    },
    {
     "name": "stdout",
     "output_type": "stream",
     "text": [
      "Loss: 0.5979157707260537\n",
      "Loss: 0.5959284791560839\n"
     ]
    },
    {
     "name": "stdout",
     "output_type": "stream",
     "text": [
      "Loss: 0.5938644393906068\n",
      "Loss: 0.5923648544810172\n"
     ]
    },
    {
     "name": "stdout",
     "output_type": "stream",
     "text": [
      "Loss: 0.5909200643128636\n",
      "Loss: 0.5891456502455218\n"
     ]
    },
    {
     "name": "stdout",
     "output_type": "stream",
     "text": [
      "Loss: 0.5875879935496416\n",
      "Loss: 0.5858148709657747\n"
     ]
    },
    {
     "name": "stdout",
     "output_type": "stream",
     "text": [
      "Loss: 0.583822667220379\n",
      "Loss: 0.5816386127647034\n"
     ]
    },
    {
     "name": "stdout",
     "output_type": "stream",
     "text": [
      "Loss: 0.5793411426542836\n",
      "Loss: 0.5774776027635259\n"
     ]
    },
    {
     "name": "stdout",
     "output_type": "stream",
     "text": [
      "Loss: 0.5756456778483305\n",
      "Loss: 0.5739580485800884\n"
     ]
    },
    {
     "name": "stdout",
     "output_type": "stream",
     "text": [
      "Loss: 0.5723713734588436\n",
      "Loss: 0.5707710952304464\n"
     ]
    },
    {
     "name": "stdout",
     "output_type": "stream",
     "text": [
      "Loss: 0.5692046916995435\n",
      "Loss: 0.5676156881204908\n"
     ]
    },
    {
     "name": "stdout",
     "output_type": "stream",
     "text": [
      "Loss: 0.5660599335860135\n",
      "Loss: 0.5642773663969693\n"
     ]
    },
    {
     "name": "stdout",
     "output_type": "stream",
     "text": [
      "Loss: 0.5622524399901276\n",
      "Loss: 0.5599655178377679\n"
     ]
    },
    {
     "name": "stdout",
     "output_type": "stream",
     "text": [
      "Loss: 0.5574469415565833\n",
      "Loss: 0.5546661793300768\n"
     ]
    },
    {
     "name": "stdout",
     "output_type": "stream",
     "text": [
      "Loss: 0.5519525840738659\n",
      "Loss: 0.5507959086808327\n"
     ]
    },
    {
     "name": "stdout",
     "output_type": "stream",
     "text": [
      "Loss: 0.5482890334004524\n",
      "Loss: 0.546720009478335\n"
     ]
    },
    {
     "name": "stdout",
     "output_type": "stream",
     "text": [
      "Loss: 0.5447374176698709\n",
      "Loss: 0.5441241590445929\n"
     ]
    },
    {
     "name": "stdout",
     "output_type": "stream",
     "text": [
      "Loss: 0.542353309369595\n",
      "Loss: 0.5415674546287481\n"
     ]
    },
    {
     "name": "stdout",
     "output_type": "stream",
     "text": [
      "Loss: 0.5402369181649838\n",
      "Loss: 0.5397041048210753\n"
     ]
    },
    {
     "name": "stdout",
     "output_type": "stream",
     "text": [
      "Loss: 0.538712798184591\n",
      "Loss: 0.5379288089709975\n"
     ]
    },
    {
     "name": "stdout",
     "output_type": "stream",
     "text": [
      "Loss: 0.5370215480252902\n",
      "Loss: 0.5359615450100659\n"
     ]
    },
    {
     "name": "stdout",
     "output_type": "stream",
     "text": [
      "Loss: 0.5349474663356388\n",
      "Loss: 0.5339444654614998\n"
     ]
    },
    {
     "name": "stdout",
     "output_type": "stream",
     "text": [
      "Loss: 0.5328835753392858\n",
      "Loss: 0.5316947991002389\n"
     ]
    },
    {
     "name": "stdout",
     "output_type": "stream",
     "text": [
      "Loss: 0.5304732231786654\n",
      "Loss: 0.5291321049583558\n"
     ]
    },
    {
     "name": "stdout",
     "output_type": "stream",
     "text": [
      "Loss: 0.527664538420149\n",
      "Loss: 0.5262251810229989\n"
     ]
    },
    {
     "name": "stdout",
     "output_type": "stream",
     "text": [
      "Loss: 0.5251976129484167\n",
      "Loss: 0.5236422832373583\n"
     ]
    },
    {
     "name": "stdout",
     "output_type": "stream",
     "text": [
      "Loss: 0.5222943371054722\n",
      "Loss: 0.5209731525771031\n"
     ]
    },
    {
     "name": "stdout",
     "output_type": "stream",
     "text": [
      "Loss: 0.5196286946445361\n",
      "Loss: 0.518257692262146\n"
     ]
    },
    {
     "name": "stdout",
     "output_type": "stream",
     "text": [
      "Loss: 0.5167883661537076\n",
      "Loss: 0.5151771155602205\n"
     ]
    },
    {
     "name": "stdout",
     "output_type": "stream",
     "text": [
      "Loss: 0.5138299944543332\n",
      "Loss: 0.5122854971303797\n"
     ]
    },
    {
     "name": "stdout",
     "output_type": "stream",
     "text": [
      "Loss: 0.510808995241311\n",
      "Loss: 0.5092409646605186\n"
     ]
    },
    {
     "name": "stdout",
     "output_type": "stream",
     "text": [
      "Loss: 0.507543396542897\n",
      "Loss: 0.5058861407554328\n"
     ]
    },
    {
     "name": "stdout",
     "output_type": "stream",
     "text": [
      "Loss: 0.5044996783055025\n",
      "Loss: 0.504063104936306\n"
     ]
    },
    {
     "name": "stdout",
     "output_type": "stream",
     "text": [
      "Loss: 0.5022703582225292\n",
      "Loss: 0.5013066328433645\n"
     ]
    },
    {
     "name": "stdout",
     "output_type": "stream",
     "text": [
      "Loss: 0.5004062051955647\n",
      "Loss: 0.4993681329809275\n"
     ]
    },
    {
     "name": "stdout",
     "output_type": "stream",
     "text": [
      "Loss: 0.4982894779086302\n",
      "Loss: 0.4972358875599673\n"
     ]
    },
    {
     "name": "stdout",
     "output_type": "stream",
     "text": [
      "Loss: 0.49612649133969033\n",
      "Loss: 0.4951049515880433\n"
     ]
    },
    {
     "name": "stdout",
     "output_type": "stream",
     "text": [
      "Loss: 0.4938174604271357\n",
      "Loss: 0.49248434849731604\n"
     ]
    },
    {
     "name": "stdout",
     "output_type": "stream",
     "text": [
      "Loss: 0.49115333454463667\n",
      "Loss: 0.4896326613128522\n"
     ]
    },
    {
     "name": "stdout",
     "output_type": "stream",
     "text": [
      "Loss: 0.488054218296674\n",
      "Loss: 0.4863548388574379\n"
     ]
    },
    {
     "name": "stdout",
     "output_type": "stream",
     "text": [
      "Loss: 0.48458124805605785\n",
      "Loss: 0.484442338364416\n"
     ]
    },
    {
     "name": "stdout",
     "output_type": "stream",
     "text": [
      "Loss: 0.4835107641800551\n",
      "Loss: 0.48199225885441294\n"
     ]
    },
    {
     "name": "stdout",
     "output_type": "stream",
     "text": [
      "Loss: 0.48079450703546717\n",
      "Loss: 0.4801187223431067\n"
     ]
    },
    {
     "name": "stdout",
     "output_type": "stream",
     "text": [
      "Loss: 0.47938988729598464\n",
      "Loss: 0.47880898134713723\n"
     ]
    },
    {
     "name": "stdout",
     "output_type": "stream",
     "text": [
      "Loss: 0.47819903914430667\n",
      "Loss: 0.4776221189137959\n"
     ]
    },
    {
     "name": "stdout",
     "output_type": "stream",
     "text": [
      "Loss: 0.4768728983809016\n",
      "Loss: 0.4761567759746471\n"
     ]
    },
    {
     "name": "stdout",
     "output_type": "stream",
     "text": [
      "Loss: 0.47542148398345263\n",
      "Loss: 0.47461318740667957\n"
     ]
    },
    {
     "name": "stdout",
     "output_type": "stream",
     "text": [
      "Loss: 0.4737461338979778\n",
      "Loss: 0.4728063245690292\n"
     ]
    },
    {
     "name": "stdout",
     "output_type": "stream",
     "text": [
      "Loss: 0.47183078944893525\n",
      "Loss: 0.47084619151523704\n"
     ]
    },
    {
     "name": "stdout",
     "output_type": "stream",
     "text": [
      "Loss: 0.46975544439097133\n",
      "Loss: 0.4686122792564035\n"
     ]
    },
    {
     "name": "stdout",
     "output_type": "stream",
     "text": [
      "Loss: 0.46752240371081955\n",
      "Loss: 0.46610982685244184\n"
     ]
    },
    {
     "name": "stdout",
     "output_type": "stream",
     "text": [
      "Loss: 0.46471062703549354\n",
      "Loss: 0.4632279849395492\n"
     ]
    },
    {
     "name": "stdout",
     "output_type": "stream",
     "text": [
      "Loss: 0.46190045340654956\n",
      "Loss: 0.4613148434725434\n"
     ]
    },
    {
     "name": "stdout",
     "output_type": "stream",
     "text": [
      "Loss: 0.4597125445670086\n",
      "Loss: 0.45864876282323974\n"
     ]
    },
    {
     "name": "stdout",
     "output_type": "stream",
     "text": [
      "Loss: 0.4575627602927493\n",
      "Loss: 0.45651994515898336\n"
     ]
    },
    {
     "name": "stdout",
     "output_type": "stream",
     "text": [
      "Loss: 0.45535692384260174\n",
      "Loss: 0.454253951282501\n"
     ]
    },
    {
     "name": "stdout",
     "output_type": "stream",
     "text": [
      "Loss: 0.45310379034236936\n",
      "Loss: 0.45191756419021456\n"
     ]
    },
    {
     "name": "stdout",
     "output_type": "stream",
     "text": [
      "Loss: 0.4505916264890026\n",
      "Loss: 0.44915708732594706\n"
     ]
    },
    {
     "name": "stdout",
     "output_type": "stream",
     "text": [
      "Loss: 0.4476820699993156\n",
      "Loss: 0.4466369017588583\n"
     ]
    },
    {
     "name": "stdout",
     "output_type": "stream",
     "text": [
      "Loss: 0.44596460505151014\n",
      "Loss: 0.44495320519812687\n"
     ]
    },
    {
     "name": "stdout",
     "output_type": "stream",
     "text": [
      "Loss: 0.44375478284280134\n",
      "Loss: 0.4429127211180533\n"
     ]
    },
    {
     "name": "stdout",
     "output_type": "stream",
     "text": [
      "Loss: 0.44202197861901765\n",
      "Loss: 0.4412167304129151\n"
     ]
    },
    {
     "name": "stdout",
     "output_type": "stream",
     "text": [
      "Loss: 0.4403000627000279\n",
      "Loss: 0.43928979405567115\n"
     ]
    },
    {
     "name": "stdout",
     "output_type": "stream",
     "text": [
      "Loss: 0.4384242307259143\n",
      "Loss: 0.437656897096913\n"
     ]
    },
    {
     "name": "stdout",
     "output_type": "stream",
     "text": [
      "Loss: 0.43681840881534517\n",
      "Loss: 0.4359912119383702\n"
     ]
    },
    {
     "name": "stdout",
     "output_type": "stream",
     "text": [
      "Loss: 0.43514766212580586\n",
      "Loss: 0.4342631666610386\n"
     ]
    },
    {
     "name": "stdout",
     "output_type": "stream",
     "text": [
      "Loss: 0.43344178926939797\n",
      "Loss: 0.4325728469533064\n"
     ]
    },
    {
     "name": "stdout",
     "output_type": "stream",
     "text": [
      "Loss: 0.4316774320023657\n",
      "Loss: 0.43081458936674494\n"
     ]
    },
    {
     "name": "stdout",
     "output_type": "stream",
     "text": [
      "Loss: 0.4302649910794924\n",
      "Loss: 0.42940966680114606\n"
     ]
    },
    {
     "name": "stdout",
     "output_type": "stream",
     "text": [
      "Loss: 0.42863814148539153\n",
      "Loss: 0.4278809211195077\n"
     ]
    },
    {
     "name": "stdout",
     "output_type": "stream",
     "text": [
      "Loss: 0.42701470023284305\n",
      "Loss: 0.4262243603862359\n"
     ]
    },
    {
     "name": "stdout",
     "output_type": "stream",
     "text": [
      "Loss: 0.4253528416771079\n",
      "Loss: 0.4246863530535271\n"
     ]
    },
    {
     "name": "stdout",
     "output_type": "stream",
     "text": [
      "Loss: 0.4238446299666646\n",
      "Loss: 0.4230588588948672\n"
     ]
    },
    {
     "name": "stdout",
     "output_type": "stream",
     "text": [
      "Loss: 0.422270113472998\n",
      "Loss: 0.4214405931566213\n"
     ]
    },
    {
     "name": "stdout",
     "output_type": "stream",
     "text": [
      "Loss: 0.4205433364102703\n",
      "Loss: 0.4198474225322214\n"
     ]
    },
    {
     "name": "stdout",
     "output_type": "stream",
     "text": [
      "Loss: 0.4189443359622235\n",
      "Loss: 0.41814887086186225\n"
     ]
    },
    {
     "name": "stdout",
     "output_type": "stream",
     "text": [
      "Loss: 0.4172656017729558\n",
      "Loss: 0.41656473112404885\n"
     ]
    },
    {
     "name": "stdout",
     "output_type": "stream",
     "text": [
      "Loss: 0.415901636270032\n",
      "Loss: 0.41508969854073663\n"
     ]
    },
    {
     "name": "stdout",
     "output_type": "stream",
     "text": [
      "Loss: 0.4142867953123754\n",
      "Loss: 0.41339241545209304\n"
     ]
    },
    {
     "name": "stdout",
     "output_type": "stream",
     "text": [
      "Loss: 0.4124185116243655\n",
      "Loss: 0.41141248336963715\n"
     ]
    },
    {
     "name": "stdout",
     "output_type": "stream",
     "text": [
      "Loss: 0.41058222151604284\n",
      "Loss: 0.409873771835844\n"
     ]
    },
    {
     "name": "stdout",
     "output_type": "stream",
     "text": [
      "Loss: 0.40916227038504677\n",
      "Loss: 0.40865285739715895\n"
     ]
    },
    {
     "name": "stdout",
     "output_type": "stream",
     "text": [
      "Loss: 0.40803918065230244\n",
      "Loss: 0.40761705185442776\n"
     ]
    },
    {
     "name": "stdout",
     "output_type": "stream",
     "text": [
      "Loss: 0.4070561572016882\n",
      "Loss: 0.4064944453502643\n"
     ]
    },
    {
     "name": "stdout",
     "output_type": "stream",
     "text": [
      "Loss: 0.40587162978153074\n",
      "Loss: 0.40524776495424\n"
     ]
    },
    {
     "name": "stdout",
     "output_type": "stream",
     "text": [
      "Loss: 0.40463387041762894\n",
      "Loss: 0.4039395782621662\n"
     ]
    },
    {
     "name": "stdout",
     "output_type": "stream",
     "text": [
      "Loss: 0.40321495310701666\n",
      "Loss: 0.4024787471653064\n"
     ]
    },
    {
     "name": "stdout",
     "output_type": "stream",
     "text": [
      "Loss: 0.4017152539211691\n",
      "Loss: 0.401067937705141\n"
     ]
    },
    {
     "name": "stdout",
     "output_type": "stream",
     "text": [
      "Loss: 0.40039776664093707\n",
      "Loss: 0.3997564512885793\n"
     ]
    },
    {
     "name": "stdout",
     "output_type": "stream",
     "text": [
      "Loss: 0.39911786080790135\n",
      "Loss: 0.3984540070861044\n"
     ]
    },
    {
     "name": "stdout",
     "output_type": "stream",
     "text": [
      "Loss: 0.3977526732564691\n",
      "Loss: 0.39699791900082343\n"
     ]
    },
    {
     "name": "stdout",
     "output_type": "stream",
     "text": [
      "Loss: 0.39616610950341025\n",
      "Loss: 0.3952626746304563\n"
     ]
    },
    {
     "name": "stdout",
     "output_type": "stream",
     "text": [
      "Loss: 0.39432582779087866\n",
      "Loss: 0.39366442358069764\n"
     ]
    },
    {
     "name": "stdout",
     "output_type": "stream",
     "text": [
      "Loss: 0.39294543935360604\n",
      "Loss: 0.39231753360039673\n"
     ]
    },
    {
     "name": "stdout",
     "output_type": "stream",
     "text": [
      "Loss: 0.3916107404080637\n",
      "Loss: 0.390991475581092\n"
     ]
    },
    {
     "name": "stdout",
     "output_type": "stream",
     "text": [
      "Loss: 0.3903456095552108\n",
      "Loss: 0.3896880243203694\n"
     ]
    },
    {
     "name": "stdout",
     "output_type": "stream",
     "text": [
      "Loss: 0.3889910095259366\n",
      "Loss: 0.38827054382663995\n"
     ]
    },
    {
     "name": "stdout",
     "output_type": "stream",
     "text": [
      "Loss: 0.38778098167032327\n",
      "Loss: 0.3871502060066495\n"
     ]
    },
    {
     "name": "stdout",
     "output_type": "stream",
     "text": [
      "Loss: 0.3866408740334239\n",
      "Loss: 0.38613585419543994\n"
     ]
    },
    {
     "name": "stdout",
     "output_type": "stream",
     "text": [
      "Loss: 0.3856000354595763\n",
      "Loss: 0.3850584950038191\n"
     ]
    },
    {
     "name": "stdout",
     "output_type": "stream",
     "text": [
      "Loss: 0.3844873642117155\n",
      "Loss: 0.38385000449407364\n"
     ]
    },
    {
     "name": "stdout",
     "output_type": "stream",
     "text": [
      "Loss: 0.38320128532016084\n",
      "Loss: 0.38253823780877066\n"
     ]
    },
    {
     "name": "stdout",
     "output_type": "stream",
     "text": [
      "Loss: 0.3820172167186817\n",
      "Loss: 0.38133567594287016\n"
     ]
    },
    {
     "name": "stdout",
     "output_type": "stream",
     "text": [
      "Loss: 0.3806925773895766\n",
      "Loss: 0.3801155362837484\n"
     ]
    },
    {
     "name": "stdout",
     "output_type": "stream",
     "text": [
      "Loss: 0.379565465807676\n",
      "Loss: 0.37907923807786115\n"
     ]
    },
    {
     "name": "stdout",
     "output_type": "stream",
     "text": [
      "Loss: 0.37865409422831586\n",
      "Loss: 0.378120113443266\n"
     ]
    },
    {
     "name": "stdout",
     "output_type": "stream",
     "text": [
      "Loss: 0.37768053609440627\n",
      "Loss: 0.3772053097507165\n"
     ]
    },
    {
     "name": "stdout",
     "output_type": "stream",
     "text": [
      "Loss: 0.37675616989716343\n",
      "Loss: 0.3762548054966729\n"
     ]
    },
    {
     "name": "stdout",
     "output_type": "stream",
     "text": [
      "Loss: 0.37575311227542946\n",
      "Loss: 0.3751861585639817\n"
     ]
    },
    {
     "name": "stdout",
     "output_type": "stream",
     "text": [
      "Loss: 0.37458039044758873\n",
      "Loss: 0.37397743201893874\n"
     ]
    },
    {
     "name": "stdout",
     "output_type": "stream",
     "text": [
      "Loss: 0.3732741500425139\n",
      "Loss: 0.3725772171897328\n"
     ]
    },
    {
     "name": "stdout",
     "output_type": "stream",
     "text": [
      "Loss: 0.37196000029984866\n",
      "Loss: 0.37147246855328675\n"
     ]
    },
    {
     "name": "stdout",
     "output_type": "stream",
     "text": [
      "Loss: 0.370832066025674\n",
      "Loss: 0.3702996243873962\n"
     ]
    },
    {
     "name": "stdout",
     "output_type": "stream",
     "text": [
      "Loss: 0.36976926949236455\n",
      "Loss: 0.3691438679306088\n"
     ]
    },
    {
     "name": "stdout",
     "output_type": "stream",
     "text": [
      "Loss: 0.368495168814175\n",
      "Loss: 0.36788221672022675\n"
     ]
    },
    {
     "name": "stdout",
     "output_type": "stream",
     "text": [
      "Loss: 0.3671738631004551\n",
      "Loss: 0.3665832033202572\n"
     ]
    },
    {
     "name": "stdout",
     "output_type": "stream",
     "text": [
      "Loss: 0.36595069637970734\n",
      "Loss: 0.36530659234840446\n"
     ]
    },
    {
     "name": "stdout",
     "output_type": "stream",
     "text": [
      "Loss: 0.36475088748215234\n",
      "Loss: 0.3642938136338799\n"
     ]
    },
    {
     "name": "stdout",
     "output_type": "stream",
     "text": [
      "Loss: 0.36376206046173226\n",
      "Loss: 0.36328887131003873\n"
     ]
    },
    {
     "name": "stdout",
     "output_type": "stream",
     "text": [
      "Loss: 0.3627853986857218\n",
      "Loss: 0.3623948255020446\n"
     ]
    },
    {
     "name": "stdout",
     "output_type": "stream",
     "text": [
      "Loss: 0.3619225203310283\n",
      "Loss: 0.3614861312051499\n"
     ]
    },
    {
     "name": "stdout",
     "output_type": "stream",
     "text": [
      "Loss: 0.3610066580723146\n",
      "Loss: 0.36050409100092473\n"
     ]
    },
    {
     "name": "stdout",
     "output_type": "stream",
     "text": [
      "Loss: 0.35995330773470824\n",
      "Loss: 0.35933259087054975\n"
     ]
    },
    {
     "name": "stdout",
     "output_type": "stream",
     "text": [
      "Loss: 0.35862508870798854\n",
      "Loss: 0.3579206842081448\n"
     ]
    },
    {
     "name": "stdout",
     "output_type": "stream",
     "text": [
      "Loss: 0.3574153861629611\n",
      "Loss: 0.35667082974954334\n"
     ]
    },
    {
     "name": "stdout",
     "output_type": "stream",
     "text": [
      "Loss: 0.3561079927821157\n",
      "Loss: 0.3555910888323552\n"
     ]
    },
    {
     "name": "stdout",
     "output_type": "stream",
     "text": [
      "Loss: 0.35509178600456537\n",
      "Loss: 0.35479974837642747\n"
     ]
    },
    {
     "name": "stdout",
     "output_type": "stream",
     "text": [
      "Loss: 0.35445864393218807\n",
      "Loss: 0.3540089780461622\n"
     ]
    },
    {
     "name": "stdout",
     "output_type": "stream",
     "text": [
      "Loss: 0.3536476527782475\n",
      "Loss: 0.35322309920777106\n"
     ]
    },
    {
     "name": "stdout",
     "output_type": "stream",
     "text": [
      "Loss: 0.35280944009451565\n",
      "Loss: 0.3524240562724936\n"
     ]
    },
    {
     "name": "stdout",
     "output_type": "stream",
     "text": [
      "Loss: 0.3520206239473769\n",
      "Loss: 0.3515470859714985\n"
     ]
    },
    {
     "name": "stdout",
     "output_type": "stream",
     "text": [
      "Loss: 0.3510773892150364\n",
      "Loss: 0.35057889063119746\n"
     ]
    },
    {
     "name": "stdout",
     "output_type": "stream",
     "text": [
      "Loss: 0.3501403266957903\n",
      "Loss: 0.34970483672290115\n"
     ]
    },
    {
     "name": "stdout",
     "output_type": "stream",
     "text": [
      "Loss: 0.3492298776724336\n",
      "Loss: 0.3487261976042813\n"
     ]
    },
    {
     "name": "stdout",
     "output_type": "stream",
     "text": [
      "Loss: 0.3482013679080748\n",
      "Loss: 0.34764518159232727\n"
     ]
    },
    {
     "name": "stdout",
     "output_type": "stream",
     "text": [
      "Loss: 0.34716569007633097\n",
      "Loss: 0.3468361429583708\n"
     ]
    },
    {
     "name": "stdout",
     "output_type": "stream",
     "text": [
      "Loss: 0.34645369464453746\n",
      "Loss: 0.3460527614508195\n"
     ]
    },
    {
     "name": "stdout",
     "output_type": "stream",
     "text": [
      "Loss: 0.3457385684287185\n",
      "Loss: 0.34534320531490487\n"
     ]
    },
    {
     "name": "stdout",
     "output_type": "stream",
     "text": [
      "Loss: 0.34492396071475273\n",
      "Loss: 0.3444561125952732\n"
     ]
    },
    {
     "name": "stdout",
     "output_type": "stream",
     "text": [
      "Loss: 0.34394646771770837\n",
      "Loss: 0.34349221270355645\n"
     ]
    },
    {
     "name": "stdout",
     "output_type": "stream",
     "text": [
      "Loss: 0.34327572788444993\n",
      "Loss: 0.3428184539406759\n"
     ]
    },
    {
     "name": "stdout",
     "output_type": "stream",
     "text": [
      "Loss: 0.3425387418010366\n",
      "Loss: 0.3422574844595939\n",
      "Loss: 0.3419347301414615\n"
     ]
    },
    {
     "name": "stdout",
     "output_type": "stream",
     "text": [
      "Loss: 0.34161990860659597\n",
      "Loss: 0.34127389805341335\n"
     ]
    },
    {
     "name": "stdout",
     "output_type": "stream",
     "text": [
      "Loss: 0.34091909850903634\n",
      "Loss: 0.340577832689116\n"
     ]
    },
    {
     "name": "stdout",
     "output_type": "stream",
     "text": [
      "Loss: 0.34032766712549195\n",
      "Loss: 0.33992269325074237\n"
     ]
    },
    {
     "name": "stdout",
     "output_type": "stream",
     "text": [
      "Loss: 0.33957028821609514\n",
      "Loss: 0.3392185105134505\n"
     ]
    },
    {
     "name": "stdout",
     "output_type": "stream",
     "text": [
      "Loss: 0.33894336205231435\n",
      "Loss: 0.3386084164615274\n"
     ]
    },
    {
     "name": "stdout",
     "output_type": "stream",
     "text": [
      "Loss: 0.338323371993543\n",
      "Loss: 0.3380354027152072\n"
     ]
    },
    {
     "name": "stdout",
     "output_type": "stream",
     "text": [
      "Loss: 0.33774023694560895\n",
      "Loss: 0.33743459785151475\n"
     ]
    },
    {
     "name": "stdout",
     "output_type": "stream",
     "text": [
      "Loss: 0.3371403342623287\n",
      "Loss: 0.33685329865610464\n"
     ]
    },
    {
     "name": "stdout",
     "output_type": "stream",
     "text": [
      "Loss: 0.33657162610372815\n",
      "Loss: 0.3362638888211794\n"
     ]
    },
    {
     "name": "stdout",
     "output_type": "stream",
     "text": [
      "Loss: 0.33595075333183655\n",
      "Loss: 0.33565829625441523\n"
     ]
    },
    {
     "name": "stdout",
     "output_type": "stream",
     "text": [
      "Loss: 0.3353634897594101\n",
      "Loss: 0.3350563513767492\n"
     ]
    },
    {
     "name": "stdout",
     "output_type": "stream",
     "text": [
      "Loss: 0.3347359343943329\n",
      "Loss: 0.3343967381867923\n"
     ]
    },
    {
     "name": "stdout",
     "output_type": "stream",
     "text": [
      "Loss: 0.3341066105295901\n",
      "Loss: 0.3338005945325118\n"
     ]
    },
    {
     "name": "stdout",
     "output_type": "stream",
     "text": [
      "Loss: 0.33347035135748065\n",
      "Loss: 0.33310978873344216\n"
     ]
    },
    {
     "name": "stdout",
     "output_type": "stream",
     "text": [
      "Loss: 0.3327078233774618\n",
      "Loss: 0.3322604338902033\n"
     ]
    },
    {
     "name": "stdout",
     "output_type": "stream",
     "text": [
      "Loss: 0.3318305432337283\n",
      "Loss: 0.33138909881535394\n"
     ]
    },
    {
     "name": "stdout",
     "output_type": "stream",
     "text": [
      "Loss: 0.33106974473731327\n",
      "Loss: 0.33071093835963067\n"
     ]
    },
    {
     "name": "stdout",
     "output_type": "stream",
     "text": [
      "Loss: 0.33025304573220066\n",
      "Loss: 0.329897163330196\n"
     ]
    },
    {
     "name": "stdout",
     "output_type": "stream",
     "text": [
      "Loss: 0.329554158129832\n",
      "Loss: 0.32918937599505915\n"
     ]
    },
    {
     "name": "stdout",
     "output_type": "stream",
     "text": [
      "Loss: 0.32886091137317575\n",
      "Loss: 0.3285787626703438\n"
     ]
    },
    {
     "name": "stdout",
     "output_type": "stream",
     "text": [
      "Loss: 0.3283027488375983\n",
      "Loss: 0.32799786941274245\n"
     ]
    },
    {
     "name": "stdout",
     "output_type": "stream",
     "text": [
      "Loss: 0.327729144404177\n",
      "Loss: 0.3274555727056211\n"
     ]
    },
    {
     "name": "stdout",
     "output_type": "stream",
     "text": [
      "Loss: 0.3271632870005308\n",
      "Loss: 0.3268420745548148\n"
     ]
    },
    {
     "name": "stdout",
     "output_type": "stream",
     "text": [
      "Loss: 0.32649428537069514\n",
      "Loss: 0.3261741343906941\n"
     ]
    },
    {
     "name": "stdout",
     "output_type": "stream",
     "text": [
      "Loss: 0.32585826570866694\n",
      "Loss: 0.32554541142213517\n"
     ]
    },
    {
     "name": "stdout",
     "output_type": "stream",
     "text": [
      "Loss: 0.32526041947847306\n",
      "Loss: 0.3249609863620351\n"
     ]
    },
    {
     "name": "stdout",
     "output_type": "stream",
     "text": [
      "Loss: 0.3247090530791882\n",
      "Loss: 0.3244598539086283\n"
     ]
    },
    {
     "name": "stdout",
     "output_type": "stream",
     "text": [
      "Loss: 0.32420204407248254\n",
      "Loss: 0.32395723580640645\n"
     ]
    },
    {
     "name": "stdout",
     "output_type": "stream",
     "text": [
      "Loss: 0.32369398093510904\n",
      "Loss: 0.3234305917864774\n"
     ]
    },
    {
     "name": "stdout",
     "output_type": "stream",
     "text": [
      "Loss: 0.3231563889922091\n",
      "Loss: 0.32286852693982787\n"
     ]
    },
    {
     "name": "stdout",
     "output_type": "stream",
     "text": [
      "Loss: 0.3225695920409585\n",
      "Loss: 0.3222479059707057\n"
     ]
    },
    {
     "name": "stdout",
     "output_type": "stream",
     "text": [
      "Loss: 0.3219230604235323\n",
      "Loss: 0.32164805036768696\n"
     ]
    },
    {
     "name": "stdout",
     "output_type": "stream",
     "text": [
      "Loss: 0.32138413462331916\n",
      "Loss: 0.32107380021299675\n"
     ]
    },
    {
     "name": "stdout",
     "output_type": "stream",
     "text": [
      "Loss: 0.32078080651083135\n",
      "Loss: 0.3204601082488567\n"
     ]
    },
    {
     "name": "stdout",
     "output_type": "stream",
     "text": [
      "Loss: 0.3201130496212549\n",
      "Loss: 0.31978920149755785\n"
     ]
    },
    {
     "name": "stdout",
     "output_type": "stream",
     "text": [
      "Loss: 0.31946570766433346\n",
      "Loss: 0.3191870002710179\n"
     ]
    },
    {
     "name": "stdout",
     "output_type": "stream",
     "text": [
      "Loss: 0.3188869119741297\n",
      "Loss: 0.31867846004379574\n"
     ]
    },
    {
     "name": "stdout",
     "output_type": "stream",
     "text": [
      "Loss: 0.31840176924443897\n",
      "Loss: 0.3181713278404309\n"
     ]
    },
    {
     "name": "stdout",
     "output_type": "stream",
     "text": [
      "Loss: 0.31793013252299035\n",
      "Loss: 0.31770336818914063\n"
     ]
    },
    {
     "name": "stdout",
     "output_type": "stream",
     "text": [
      "Loss: 0.317516598591244\n",
      "Loss: 0.3173005459560413\n"
     ]
    },
    {
     "name": "stdout",
     "output_type": "stream",
     "text": [
      "Loss: 0.3170750612482742\n",
      "Loss: 0.31682273929292876\n"
     ]
    },
    {
     "name": "stdout",
     "output_type": "stream",
     "text": [
      "Loss: 0.3165453246794748\n",
      "Loss: 0.3162641824293345\n"
     ]
    },
    {
     "name": "stdout",
     "output_type": "stream",
     "text": [
      "Loss: 0.31596595657850335\n",
      "Loss: 0.315682105890103\n"
     ]
    },
    {
     "name": "stdout",
     "output_type": "stream",
     "text": [
      "Loss: 0.315429560688007\n",
      "Loss: 0.31518221860260226\n"
     ]
    },
    {
     "name": "stdout",
     "output_type": "stream",
     "text": [
      "Loss: 0.31493299989660734\n",
      "Loss: 0.3147646298734918\n"
     ]
    },
    {
     "name": "stdout",
     "output_type": "stream",
     "text": [
      "Loss: 0.31449795232798405\n",
      "Loss: 0.31427254454516246\n"
     ]
    },
    {
     "name": "stdout",
     "output_type": "stream",
     "text": [
      "Loss: 0.3140293703340445\n",
      "Loss: 0.3137744355928247\n"
     ]
    },
    {
     "name": "stdout",
     "output_type": "stream",
     "text": [
      "Loss: 0.3135444121961619\n",
      "Loss: 0.31327959040003694\n"
     ]
    },
    {
     "name": "stdout",
     "output_type": "stream",
     "text": [
      "Loss: 0.31303178516312397\n",
      "Loss: 0.31274560701385923\n"
     ]
    },
    {
     "name": "stdout",
     "output_type": "stream",
     "text": [
      "Loss: 0.31248981169314766\n",
      "Loss: 0.31220741204762087\n"
     ]
    },
    {
     "name": "stdout",
     "output_type": "stream",
     "text": [
      "Loss: 0.3119104035544735\n",
      "Loss: 0.3117645350055851\n"
     ]
    },
    {
     "name": "stdout",
     "output_type": "stream",
     "text": [
      "Loss: 0.31144596157343246\n",
      "Loss: 0.3112145314033323\n"
     ]
    },
    {
     "name": "stdout",
     "output_type": "stream",
     "text": [
      "Loss: 0.31093244991519947\n",
      "Loss: 0.3106411328493633\n"
     ]
    },
    {
     "name": "stdout",
     "output_type": "stream",
     "text": [
      "Loss: 0.3103204647957492\n",
      "Loss: 0.31001507135909945\n"
     ]
    },
    {
     "name": "stdout",
     "output_type": "stream",
     "text": [
      "Loss: 0.30970738753486704\n",
      "Loss: 0.30945247266366854\n"
     ]
    },
    {
     "name": "stdout",
     "output_type": "stream",
     "text": [
      "Loss: 0.3092202606116825\n",
      "Loss: 0.3089349908288883\n"
     ]
    },
    {
     "name": "stdout",
     "output_type": "stream",
     "text": [
      "Loss: 0.30869409210661386\n",
      "Loss: 0.3084461443705324\n"
     ]
    },
    {
     "name": "stdout",
     "output_type": "stream",
     "text": [
      "Loss: 0.3082349381139489\n",
      "Loss: 0.3079533567350018\n"
     ]
    },
    {
     "name": "stdout",
     "output_type": "stream",
     "text": [
      "Loss: 0.3076995191674925\n",
      "Loss: 0.30746149969412395\n"
     ]
    },
    {
     "name": "stdout",
     "output_type": "stream",
     "text": [
      "Loss: 0.3073390085352893\n",
      "Loss: 0.30709065808035474\n"
     ]
    },
    {
     "name": "stdout",
     "output_type": "stream",
     "text": [
      "Loss: 0.3069179048020899\n",
      "Loss: 0.30672683721744065\n"
     ]
    },
    {
     "name": "stdout",
     "output_type": "stream",
     "text": [
      "Loss: 0.30651856003269107\n",
      "Loss: 0.3062810351530554\n"
     ]
    },
    {
     "name": "stdout",
     "output_type": "stream",
     "text": [
      "Loss: 0.3060144999497301\n",
      "Loss: 0.3057201581497656\n"
     ]
    },
    {
     "name": "stdout",
     "output_type": "stream",
     "text": [
      "Loss: 0.30542364263202376\n",
      "Loss: 0.3051670223634173\n"
     ]
    },
    {
     "name": "stdout",
     "output_type": "stream",
     "text": [
      "Loss: 0.30494014677739567\n",
      "Loss: 0.30469380629606635\n"
     ]
    },
    {
     "name": "stdout",
     "output_type": "stream",
     "text": [
      "Loss: 0.30444079390835077\n",
      "Loss: 0.3041838982395946\n"
     ]
    },
    {
     "name": "stdout",
     "output_type": "stream",
     "text": [
      "Loss: 0.30391135708151\n",
      "Loss: 0.3036524124077376\n"
     ]
    },
    {
     "name": "stdout",
     "output_type": "stream",
     "text": [
      "Loss: 0.30335782791821686\n",
      "Loss: 0.30321991079881133\n"
     ]
    },
    {
     "name": "stdout",
     "output_type": "stream",
     "text": [
      "Loss: 0.30293080547613027\n",
      "Loss: 0.3029396978811747\n"
     ]
    },
    {
     "name": "stdout",
     "output_type": "stream",
     "text": [
      "Loss: 0.3027350249779305\n",
      "Loss: 0.30248952858815115\n"
     ]
    },
    {
     "name": "stdout",
     "output_type": "stream",
     "text": [
      "Loss: 0.3023756723599316\n",
      "Loss: 0.3022340326864959\n"
     ]
    },
    {
     "name": "stdout",
     "output_type": "stream",
     "text": [
      "Loss: 0.3020921236841554\n",
      "Loss: 0.3019241960825355\n"
     ]
    },
    {
     "name": "stdout",
     "output_type": "stream",
     "text": [
      "Loss: 0.30173723868452185\n",
      "Loss: 0.3015217487937909\n"
     ]
    },
    {
     "name": "stdout",
     "output_type": "stream",
     "text": [
      "Loss: 0.30127632488068634\n",
      "Loss: 0.30100039028663245\n"
     ]
    },
    {
     "name": "stdout",
     "output_type": "stream",
     "text": [
      "Loss: 0.30070564887994766\n",
      "Loss: 0.3005918555779378\n"
     ]
    },
    {
     "name": "stdout",
     "output_type": "stream",
     "text": [
      "Loss: 0.30028608545921626\n",
      "Loss: 0.30009334750856514\n"
     ]
    },
    {
     "name": "stdout",
     "output_type": "stream",
     "text": [
      "Loss: 0.29992893697081313\n",
      "Loss: 0.29978346852418236\n"
     ]
    },
    {
     "name": "stdout",
     "output_type": "stream",
     "text": [
      "Loss: 0.2996250035339589\n",
      "Loss: 0.29944732048736555\n"
     ]
    },
    {
     "name": "stdout",
     "output_type": "stream",
     "text": [
      "Loss: 0.29926365136462074\n",
      "Loss: 0.29905644626212485\n"
     ]
    },
    {
     "name": "stdout",
     "output_type": "stream",
     "text": [
      "Loss: 0.29883647042039085\n",
      "Loss: 0.2986475318994811\n"
     ]
    },
    {
     "name": "stdout",
     "output_type": "stream",
     "text": [
      "Loss: 0.29843541590346034\n",
      "Loss: 0.29824797450025925\n"
     ]
    },
    {
     "name": "stdout",
     "output_type": "stream",
     "text": [
      "Loss: 0.29813243176138954\n",
      "Loss: 0.2979163581466216\n"
     ]
    },
    {
     "name": "stdout",
     "output_type": "stream",
     "text": [
      "Loss: 0.29774688478677447\n",
      "Loss: 0.29756336636900854\n"
     ]
    },
    {
     "name": "stdout",
     "output_type": "stream",
     "text": [
      "Loss: 0.2973710942254528\n",
      "Loss: 0.29716482603976396\n"
     ]
    },
    {
     "name": "stdout",
     "output_type": "stream",
     "text": [
      "Loss: 0.29696057114432833\n",
      "Loss: 0.29678685094932944\n"
     ]
    },
    {
     "name": "stdout",
     "output_type": "stream",
     "text": [
      "Loss: 0.2966327049249215\n",
      "Loss: 0.2964606102204318\n"
     ]
    },
    {
     "name": "stdout",
     "output_type": "stream",
     "text": [
      "Loss: 0.29630432780815386\n",
      "Loss: 0.2961510019605725\n"
     ]
    },
    {
     "name": "stdout",
     "output_type": "stream",
     "text": [
      "Loss: 0.2959855902961463\n",
      "Loss: 0.2958080300423251\n"
     ]
    },
    {
     "name": "stdout",
     "output_type": "stream",
     "text": [
      "Loss: 0.2956110686673104\n",
      "Loss: 0.2954054077545901\n"
     ]
    },
    {
     "name": "stdout",
     "output_type": "stream",
     "text": [
      "Loss: 0.2952044673870544\n",
      "Loss: 0.29501686965380325\n"
     ]
    },
    {
     "name": "stdout",
     "output_type": "stream",
     "text": [
      "Loss: 0.2948663094558866\n",
      "Loss: 0.2946894122280708\n"
     ]
    },
    {
     "name": "stdout",
     "output_type": "stream",
     "text": [
      "Loss: 0.2945348248079704\n",
      "Loss: 0.2943673956311114\n"
     ]
    },
    {
     "name": "stdout",
     "output_type": "stream",
     "text": [
      "Loss: 0.294200708513179\n"
     ]
    },
    {
     "name": "stdout",
     "output_type": "stream",
     "text": [
      "Loss: 0.2940174008099119\n"
     ]
    },
    {
     "name": "stdout",
     "output_type": "stream",
     "text": [
      "Loss: 0.293826568193826\n",
      "Loss: 0.29364236356994783\n"
     ]
    },
    {
     "name": "stdout",
     "output_type": "stream",
     "text": [
      "Loss: 0.29345793921464225\n",
      "Loss: 0.2932671116560659\n"
     ]
    },
    {
     "name": "stdout",
     "output_type": "stream",
     "text": [
      "Loss: 0.2930746037857991\n",
      "Loss: 0.2929323241418373\n"
     ]
    },
    {
     "name": "stdout",
     "output_type": "stream",
     "text": [
      "Loss: 0.29274275455921733\n",
      "Loss: 0.29257204892905553\n"
     ]
    },
    {
     "name": "stdout",
     "output_type": "stream",
     "text": [
      "Loss: 0.29239653586319625\n",
      "Loss: 0.29221181423892384\n"
     ]
    },
    {
     "name": "stdout",
     "output_type": "stream",
     "text": [
      "Loss: 0.29204266821412983\n",
      "Loss: 0.29185764179219037\n"
     ]
    },
    {
     "name": "stdout",
     "output_type": "stream",
     "text": [
      "Loss: 0.2916593404681994\n",
      "Loss: 0.2914816852217011\n"
     ]
    },
    {
     "name": "stdout",
     "output_type": "stream",
     "text": [
      "Loss: 0.2912809936159705\n",
      "Loss: 0.2910955788658156\n"
     ]
    },
    {
     "name": "stdout",
     "output_type": "stream",
     "text": [
      "Loss: 0.29091075176934234\n",
      "Loss: 0.29071887985603984\n"
     ]
    },
    {
     "name": "stdout",
     "output_type": "stream",
     "text": [
      "Loss: 0.290595460923058\n",
      "Loss: 0.2904581883461856\n"
     ]
    },
    {
     "name": "stdout",
     "output_type": "stream",
     "text": [
      "Loss: 0.29030338400580363\n",
      "Loss: 0.2901353278079548\n"
     ]
    },
    {
     "name": "stdout",
     "output_type": "stream",
     "text": [
      "Loss: 0.2899701534019482\n",
      "Loss: 0.2897891303239404\n"
     ]
    },
    {
     "name": "stdout",
     "output_type": "stream",
     "text": [
      "Loss: 0.28958965697045225\n",
      "Loss: 0.2893584877143942\n"
     ]
    },
    {
     "name": "stdout",
     "output_type": "stream",
     "text": [
      "Loss: 0.28910427991849486\n",
      "Loss: 0.2888668350560605\n"
     ]
    },
    {
     "name": "stdout",
     "output_type": "stream",
     "text": [
      "Loss: 0.28863571759886897\n",
      "Loss: 0.28844609708886915\n"
     ]
    },
    {
     "name": "stdout",
     "output_type": "stream",
     "text": [
      "Loss: 0.2882534200156677\n",
      "Loss: 0.2880999448056223\n"
     ]
    },
    {
     "name": "stdout",
     "output_type": "stream",
     "text": [
      "Loss: 0.2879546625823304\n",
      "Loss: 0.2878027056749919\n"
     ]
    },
    {
     "name": "stdout",
     "output_type": "stream",
     "text": [
      "Loss: 0.2876395204424417\n",
      "Loss: 0.2874678308906158\n"
     ]
    },
    {
     "name": "stdout",
     "output_type": "stream",
     "text": [
      "Loss: 0.2872752915454162\n",
      "Loss: 0.2870593083432778\n"
     ]
    },
    {
     "name": "stdout",
     "output_type": "stream",
     "text": [
      "Loss: 0.2868301206343768\n",
      "Loss: 0.28663101138517083\n"
     ]
    },
    {
     "name": "stdout",
     "output_type": "stream",
     "text": [
      "Loss: 0.2865045501040207\n",
      "Loss: 0.28626207308324786\n"
     ]
    },
    {
     "name": "stdout",
     "output_type": "stream",
     "text": [
      "Loss: 0.2861199947128601\n",
      "Loss: 0.28593347254768625\n"
     ]
    },
    {
     "name": "stdout",
     "output_type": "stream",
     "text": [
      "Loss: 0.2857711507847493\n",
      "Loss: 0.28559435171925984\n"
     ]
    },
    {
     "name": "stdout",
     "output_type": "stream",
     "text": [
      "Loss: 0.28539978537124905\n",
      "Loss: 0.2851798644357064\n"
     ]
    },
    {
     "name": "stdout",
     "output_type": "stream",
     "text": [
      "Loss: 0.2849447284624802\n",
      "Loss: 0.28474305493500845\n"
     ]
    },
    {
     "name": "stdout",
     "output_type": "stream",
     "text": [
      "Loss: 0.28458453121797617\n",
      "Loss: 0.2844534996945659\n"
     ]
    },
    {
     "name": "stdout",
     "output_type": "stream",
     "text": [
      "Loss: 0.28426090210823785\n",
      "Loss: 0.2841288433982718\n"
     ]
    },
    {
     "name": "stdout",
     "output_type": "stream",
     "text": [
      "Loss: 0.28398554978463\n",
      "Loss: 0.2838311255237271\n"
     ]
    },
    {
     "name": "stdout",
     "output_type": "stream",
     "text": [
      "Loss: 0.28370154171700795\n",
      "Loss: 0.2835553411506004\n"
     ]
    },
    {
     "name": "stdout",
     "output_type": "stream",
     "text": [
      "Loss: 0.28342099683425276\n",
      "Loss: 0.283263104470818\n"
     ]
    },
    {
     "name": "stdout",
     "output_type": "stream",
     "text": [
      "Loss: 0.28309126301728726\n",
      "Loss: 0.2829411257710662\n"
     ]
    },
    {
     "name": "stdout",
     "output_type": "stream",
     "text": [
      "Loss: 0.28280416863822055\n",
      "Loss: 0.28264857386377595\n"
     ]
    },
    {
     "name": "stdout",
     "output_type": "stream",
     "text": [
      "Loss: 0.28250042983846013\n",
      "Loss: 0.2823398180475389\n"
     ]
    },
    {
     "name": "stdout",
     "output_type": "stream",
     "text": [
      "Loss: 0.2821600077244953\n",
      "Loss: 0.2819781492305067\n"
     ]
    },
    {
     "name": "stdout",
     "output_type": "stream",
     "text": [
      "Loss: 0.2818270127970872\n",
      "Loss: 0.28166852626933875\n"
     ]
    },
    {
     "name": "stdout",
     "output_type": "stream",
     "text": [
      "Loss: 0.28153503825299087\n",
      "Loss: 0.2814057667847267\n"
     ]
    },
    {
     "name": "stdout",
     "output_type": "stream",
     "text": [
      "Loss: 0.28128680210983403\n",
      "Loss: 0.28116164531830184\n"
     ]
    },
    {
     "name": "stdout",
     "output_type": "stream",
     "text": [
      "Loss: 0.2810141474945066\n",
      "Loss: 0.28089770599597386\n"
     ]
    },
    {
     "name": "stdout",
     "output_type": "stream",
     "text": [
      "Loss: 0.28076407571274686\n",
      "Loss: 0.2806443840362383\n"
     ]
    },
    {
     "name": "stdout",
     "output_type": "stream",
     "text": [
      "Loss: 0.28051198371466907\n",
      "Loss: 0.28038335011243476\n"
     ]
    },
    {
     "name": "stdout",
     "output_type": "stream",
     "text": [
      "Loss: 0.28024099278622117\n",
      "Loss: 0.28008256793819586\n"
     ]
    },
    {
     "name": "stdout",
     "output_type": "stream",
     "text": [
      "Loss: 0.27993657654286797\n",
      "Loss: 0.27980150011607785\n"
     ]
    },
    {
     "name": "stdout",
     "output_type": "stream",
     "text": [
      "Loss: 0.27966093013996307\n",
      "Loss: 0.2795293665654894\n"
     ]
    },
    {
     "name": "stdout",
     "output_type": "stream",
     "text": [
      "Loss: 0.2793838098348482\n",
      "Loss: 0.27922015033081005\n"
     ]
    },
    {
     "name": "stdout",
     "output_type": "stream",
     "text": [
      "Loss: 0.27903599591281864\n",
      "Loss: 0.27884464494211597\n"
     ]
    },
    {
     "name": "stdout",
     "output_type": "stream",
     "text": [
      "Loss: 0.27868929744727106\n",
      "Loss: 0.27851945847941323\n"
     ]
    },
    {
     "name": "stdout",
     "output_type": "stream",
     "text": [
      "Loss: 0.2783709174206524\n",
      "Loss: 0.278224197492859\n"
     ]
    },
    {
     "name": "stdout",
     "output_type": "stream",
     "text": [
      "Loss: 0.2780807531847437\n",
      "Loss: 0.2779456668741027\n"
     ]
    },
    {
     "name": "stdout",
     "output_type": "stream",
     "text": [
      "Loss: 0.27780678905531725\n",
      "Loss: 0.2776589459872756\n"
     ]
    },
    {
     "name": "stdout",
     "output_type": "stream",
     "text": [
      "Loss: 0.2775357430044044\n",
      "Loss: 0.27741622148510725\n"
     ]
    },
    {
     "name": "stdout",
     "output_type": "stream",
     "text": [
      "Loss: 0.2772898589182868\n",
      "Loss: 0.2771705638966315\n"
     ]
    },
    {
     "name": "stdout",
     "output_type": "stream",
     "text": [
      "Loss: 0.27704108470420175\n",
      "Loss: 0.2768905754825103\n"
     ]
    },
    {
     "name": "stdout",
     "output_type": "stream",
     "text": [
      "Loss: 0.2767356826532792\n",
      "Loss: 0.2766007061060973\n"
     ]
    },
    {
     "name": "stdout",
     "output_type": "stream",
     "text": [
      "Loss: 0.2764675675697553\n",
      "Loss: 0.2763332377103171\n"
     ]
    },
    {
     "name": "stdout",
     "output_type": "stream",
     "text": [
      "Loss: 0.27624152380364564\n",
      "Loss: 0.27610989650863976\n"
     ]
    },
    {
     "name": "stdout",
     "output_type": "stream",
     "text": [
      "Loss: 0.2759988520818415\n",
      "Loss: 0.27587248868269976\n"
     ]
    },
    {
     "name": "stdout",
     "output_type": "stream",
     "text": [
      "Loss: 0.27573119594868395\n",
      "Loss: 0.2755748598886558\n"
     ]
    },
    {
     "name": "stdout",
     "output_type": "stream",
     "text": [
      "Loss: 0.2753994762379147\n",
      "Loss: 0.2752249584457833\n"
     ]
    },
    {
     "name": "stdout",
     "output_type": "stream",
     "text": [
      "Loss: 0.2750985451259372\n",
      "Loss: 0.27492065391126963\n"
     ]
    },
    {
     "name": "stdout",
     "output_type": "stream",
     "text": [
      "Loss: 0.27478543029668545\n",
      "Loss: 0.2746465981843913\n"
     ]
    },
    {
     "name": "stdout",
     "output_type": "stream",
     "text": [
      "Loss: 0.27451047132925854\n",
      "Loss: 0.27439325253741825\n"
     ]
    },
    {
     "name": "stdout",
     "output_type": "stream",
     "text": [
      "Loss: 0.27425780660133336\n",
      "Loss: 0.27419087362469197\n"
     ]
    },
    {
     "name": "stdout",
     "output_type": "stream",
     "text": [
      "Loss: 0.27405433699838183\n",
      "Loss: 0.273941905449537\n"
     ]
    },
    {
     "name": "stdout",
     "output_type": "stream",
     "text": [
      "Loss: 0.2738456898056469\n",
      "Loss: 0.27373960963821115\n"
     ]
    },
    {
     "name": "stdout",
     "output_type": "stream",
     "text": [
      "Loss: 0.2736456639728389\n",
      "Loss: 0.2735415587768416\n"
     ]
    },
    {
     "name": "stdout",
     "output_type": "stream",
     "text": [
      "Loss: 0.2734338232958755\n",
      "Loss: 0.2733151659621698\n"
     ]
    },
    {
     "name": "stdout",
     "output_type": "stream",
     "text": [
      "Loss: 0.2731777051082147\n",
      "Loss: 0.27302032998022235\n"
     ]
    },
    {
     "name": "stdout",
     "output_type": "stream",
     "text": [
      "Loss: 0.27284476480759295\n",
      "Loss: 0.2726534880279424\n"
     ]
    },
    {
     "name": "stdout",
     "output_type": "stream",
     "text": [
      "Loss: 0.27248790835951\n",
      "Loss: 0.2723104453386748\n"
     ]
    },
    {
     "name": "stdout",
     "output_type": "stream",
     "text": [
      "Loss: 0.27214715110768123\n",
      "Loss: 0.2720094035596444\n"
     ]
    },
    {
     "name": "stdout",
     "output_type": "stream",
     "text": [
      "Loss: 0.27183586801520776\n",
      "Loss: 0.27167341048154703\n"
     ]
    },
    {
     "name": "stdout",
     "output_type": "stream",
     "text": [
      "Loss: 0.2715360059667186\n",
      "Loss: 0.27140350354479104\n"
     ]
    },
    {
     "name": "stdout",
     "output_type": "stream",
     "text": [
      "Loss: 0.2712677154887638\n",
      "Loss: 0.27115544674359676\n"
     ]
    },
    {
     "name": "stdout",
     "output_type": "stream",
     "text": [
      "Loss: 0.271046802894982\n",
      "Loss: 0.27094932233488334\n"
     ]
    },
    {
     "name": "stdout",
     "output_type": "stream",
     "text": [
      "Loss: 0.27084139427152526\n",
      "Loss: 0.2707340145497665\n"
     ]
    },
    {
     "name": "stdout",
     "output_type": "stream",
     "text": [
      "Loss: 0.2706422646521554\n",
      "Loss: 0.2705386343927755\n"
     ]
    },
    {
     "name": "stdout",
     "output_type": "stream",
     "text": [
      "Loss: 0.2704302051682189\n",
      "Loss: 0.27030689370912264\n"
     ]
    },
    {
     "name": "stdout",
     "output_type": "stream",
     "text": [
      "Loss: 0.27017667338720475\n",
      "Loss: 0.2700511112628903\n"
     ]
    },
    {
     "name": "stdout",
     "output_type": "stream",
     "text": [
      "Loss: 0.2699484207546997\n",
      "Loss: 0.2698261166755761\n"
     ]
    },
    {
     "name": "stdout",
     "output_type": "stream",
     "text": [
      "Loss: 0.2697378311801769\n",
      "Loss: 0.269621540276543\n"
     ]
    },
    {
     "name": "stdout",
     "output_type": "stream",
     "text": [
      "Loss: 0.269521457194645\n",
      "Loss: 0.2694055478799814\n"
     ]
    },
    {
     "name": "stdout",
     "output_type": "stream",
     "text": [
      "Loss: 0.2692866817583964\n",
      "Loss: 0.2691577429473219\n"
     ]
    },
    {
     "name": "stdout",
     "output_type": "stream",
     "text": [
      "Loss: 0.2690284002280565\n",
      "Loss: 0.26889777275723076\n"
     ]
    },
    {
     "name": "stdout",
     "output_type": "stream",
     "text": [
      "Loss: 0.2687760019349717\n",
      "Loss: 0.2686627073037255\n"
     ]
    },
    {
     "name": "stdout",
     "output_type": "stream",
     "text": [
      "Loss: 0.26856207859569403\n",
      "Loss: 0.26847011473869375\n"
     ]
    },
    {
     "name": "stdout",
     "output_type": "stream",
     "text": [
      "Loss: 0.2683604266371347\n",
      "Loss: 0.26825460523606864\n"
     ]
    },
    {
     "name": "stdout",
     "output_type": "stream",
     "text": [
      "Loss: 0.26815320479071447\n",
      "Loss: 0.2680386728147034\n"
     ]
    },
    {
     "name": "stdout",
     "output_type": "stream",
     "text": [
      "Loss: 0.267921175453834\n",
      "Loss: 0.2678161940087523\n"
     ]
    },
    {
     "name": "stdout",
     "output_type": "stream",
     "text": [
      "Loss: 0.2677210720950684\n",
      "Loss: 0.2675979455725175\n"
     ]
    },
    {
     "name": "stdout",
     "output_type": "stream",
     "text": [
      "Loss: 0.26749353685249616\n",
      "Loss: 0.26739014199019767\n"
     ]
    },
    {
     "name": "stdout",
     "output_type": "stream",
     "text": [
      "Loss: 0.2672955549681309\n",
      "Loss: 0.26719547246830794\n"
     ]
    },
    {
     "name": "stdout",
     "output_type": "stream",
     "text": [
      "Loss: 0.2670973696143205\n",
      "Loss: 0.2669856519616842\n"
     ]
    },
    {
     "name": "stdout",
     "output_type": "stream",
     "text": [
      "Loss: 0.2668655529825511\n",
      "Loss: 0.2667247211215111\n"
     ]
    },
    {
     "name": "stdout",
     "output_type": "stream",
     "text": [
      "Loss: 0.26661317305952925\n",
      "Loss: 0.26644848278144373\n"
     ]
    },
    {
     "name": "stdout",
     "output_type": "stream",
     "text": [
      "Loss: 0.26633534270627957\n",
      "Loss: 0.2662419251578383\n"
     ]
    },
    {
     "name": "stdout",
     "output_type": "stream",
     "text": [
      "Loss: 0.26612605327399413\n",
      "Loss: 0.2659938476177392\n"
     ]
    },
    {
     "name": "stdout",
     "output_type": "stream",
     "text": [
      "Loss: 0.2658778327169468\n",
      "Loss: 0.26578103322311397\n"
     ]
    },
    {
     "name": "stdout",
     "output_type": "stream",
     "text": [
      "Loss: 0.2656791685649483\n",
      "Loss: 0.2655706742901551\n"
     ]
    },
    {
     "name": "stdout",
     "output_type": "stream",
     "text": [
      "Loss: 0.2654636602964628\n",
      "Loss: 0.2653480714827503\n"
     ]
    },
    {
     "name": "stdout",
     "output_type": "stream",
     "text": [
      "Loss: 0.26523776164846835\n",
      "Loss: 0.26512165143725586\n"
     ]
    },
    {
     "name": "stdout",
     "output_type": "stream",
     "text": [
      "Loss: 0.26500483747491244\n",
      "Loss: 0.26488145796041407\n"
     ]
    },
    {
     "name": "stdout",
     "output_type": "stream",
     "text": [
      "Loss: 0.2647573306517776\n",
      "Loss: 0.2646334141691873\n"
     ]
    },
    {
     "name": "stdout",
     "output_type": "stream",
     "text": [
      "Loss: 0.2645059718823163\n",
      "Loss: 0.26441113535967736\n"
     ]
    },
    {
     "name": "stdout",
     "output_type": "stream",
     "text": [
      "Loss: 0.2642824928943699\n",
      "Loss: 0.26419868639255484\n"
     ]
    },
    {
     "name": "stdout",
     "output_type": "stream",
     "text": [
      "Loss: 0.2640923942960495\n",
      "Loss: 0.26399129899294155\n"
     ]
    },
    {
     "name": "stdout",
     "output_type": "stream",
     "text": [
      "Loss: 0.2638747474150648\n",
      "Loss: 0.2637453840387977\n"
     ]
    },
    {
     "name": "stdout",
     "output_type": "stream",
     "text": [
      "Loss: 0.2636085119065736\n",
      "Loss: 0.26347005707662036\n"
     ]
    },
    {
     "name": "stdout",
     "output_type": "stream",
     "text": [
      "Loss: 0.2633331327988271\n",
      "Loss: 0.2632150549891864\n"
     ]
    },
    {
     "name": "stdout",
     "output_type": "stream",
     "text": [
      "Loss: 0.26310935535167557\n",
      "Loss: 0.2629943885416176\n"
     ]
    },
    {
     "name": "stdout",
     "output_type": "stream",
     "text": [
      "Loss: 0.26288281247176915\n",
      "Loss: 0.26278245405165407\n"
     ]
    },
    {
     "name": "stdout",
     "output_type": "stream",
     "text": [
      "Loss: 0.26266242952077373\n",
      "Loss: 0.2625377349439512\n"
     ]
    },
    {
     "name": "stdout",
     "output_type": "stream",
     "text": [
      "Loss: 0.26241226380389726\n",
      "Loss: 0.26229144755047057\n"
     ]
    },
    {
     "name": "stdout",
     "output_type": "stream",
     "text": [
      "Loss: 0.26216274455927024\n",
      "Loss: 0.262062528921103\n"
     ]
    },
    {
     "name": "stdout",
     "output_type": "stream",
     "text": [
      "Loss: 0.2619580292546315\n",
      "Loss: 0.2618718669109431\n"
     ]
    },
    {
     "name": "stdout",
     "output_type": "stream",
     "text": [
      "Loss: 0.2617694706588434\n",
      "Loss: 0.2616656111986997\n"
     ]
    },
    {
     "name": "stdout",
     "output_type": "stream",
     "text": [
      "Loss: 0.26155438652972857\n",
      "Loss: 0.26144319332218263\n"
     ]
    },
    {
     "name": "stdout",
     "output_type": "stream",
     "text": [
      "Loss: 0.26131527120382175\n",
      "Loss: 0.26117307156818836\n"
     ]
    },
    {
     "name": "stdout",
     "output_type": "stream",
     "text": [
      "Loss: 0.2610211403145724\n",
      "Loss: 0.2608572237021733\n"
     ]
    },
    {
     "name": "stdout",
     "output_type": "stream",
     "text": [
      "Loss: 0.2607054556690916\n",
      "Loss: 0.26059195586225464\n"
     ]
    },
    {
     "name": "stdout",
     "output_type": "stream",
     "text": [
      "Loss: 0.26047524174330666\n",
      "Loss: 0.26034637681361417\n"
     ]
    },
    {
     "name": "stdout",
     "output_type": "stream",
     "text": [
      "Loss: 0.2602392854612643\n",
      "Loss: 0.2601483856920424\n"
     ]
    },
    {
     "name": "stdout",
     "output_type": "stream",
     "text": [
      "Loss: 0.2600440601639297\n",
      "Loss: 0.25993667052667635\n"
     ]
    },
    {
     "name": "stdout",
     "output_type": "stream",
     "text": [
      "Loss: 0.2598181179177269\n",
      "Loss: 0.25970014131851504\n"
     ]
    },
    {
     "name": "stdout",
     "output_type": "stream",
     "text": [
      "Loss: 0.2595754643930099\n",
      "Loss: 0.2594471119067952\n"
     ]
    },
    {
     "name": "stdout",
     "output_type": "stream",
     "text": [
      "Loss: 0.259335944838134\n",
      "Loss: 0.2592357447451229\n"
     ]
    },
    {
     "name": "stdout",
     "output_type": "stream",
     "text": [
      "Loss: 0.2591311810501937\n",
      "Loss: 0.25906586596055214\n"
     ]
    },
    {
     "name": "stdout",
     "output_type": "stream",
     "text": [
      "Loss: 0.25897481210495354\n",
      "Loss: 0.2589055823173543\n"
     ]
    },
    {
     "name": "stdout",
     "output_type": "stream",
     "text": [
      "Loss: 0.2588210232918211\n",
      "Loss: 0.25873616102590613\n"
     ]
    },
    {
     "name": "stdout",
     "output_type": "stream",
     "text": [
      "Loss: 0.25865409230015146\n",
      "Loss: 0.25865409230015146\n"
     ]
    },
    {
     "data": {
      "text/plain": [
       "u: \u001b[0mComponentVector{Float64}(layer_1 = (weight = [-0.9220341904911239 0.9264604421363973; -0.5217340523526308 -1.3244438475894031; … ; -1.6676531887495947 -1.5525623367230825; -0.4357117797287566 -0.15689682114900028], bias = [0.011571217393268501; -0.0003925940101196953; … ; 0.0002616298086506489; -0.0016048943607827424;;]), layer_2 = (weight = [0.6402116435966337 0.10897612183095497 … -0.2277781032025506 0.15322926333616038; -0.39038755401066744 0.567325012692526 … 0.1861953540472262 0.05257871951032286; … ; 0.4750111988611404 0.4198936540219279 … -0.12104140605968916 -0.20208176943844644; 0.25225296065390473 0.15702740749013588 … -0.27548652086197495 0.040007512459149804], bias = [-0.00046390968087059524; -0.001631397687299087; … ; -0.005655643750864914; 0.0020118614174872017;;]), layer_3 = (weight = [-0.2531578965503016 -0.24153572114308916 … -0.1872641241127513 0.5335709861234532; 0.06396108583871589 0.36813971699535347 … -0.43610365635092774 0.3406054296854093; … ; -0.4083163943238352 0.5840105023724629 … -0.4182878326729353 0.2178991715371516; 0.40736469537225894 -0.35616452220400174 … 0.2778635999687224 0.3874755418959954], bias = [-0.001968610385010481; -0.0010849536877276474; … ; 0.010111864291771293; 0.008087215993081867;;]), layer_4 = (weight = [-0.17903235389463962 -0.5240591999301651 … -0.15912373907611574 0.3348595023556705; 0.6378891603978399 -0.3706294963325935 … -0.4645436727302795 0.2513754121558573; … ; -0.38860092933338297 -0.14854120922155584 … -0.050064891309991616 -0.6315245624877168; -0.47256841657166115 0.18695794846616245 … -0.15651070286827481 -0.10210847311563341], bias = [-0.0002452003994166628; 0.0018376239224391342; … ; 0.0515652956042423; -0.022026681372201946;;]), layer_5 = (weight = [-0.2838154646587823 -0.45764648889157306 … 0.01832398397479901 0.12106506944345466; 0.5366155034523625 -0.09245949112826735 … 0.12402601145777344 -0.26814920736330666; … ; -0.47504864534342955 -0.33219058575526794 … 0.2785005211481719 0.30547519905062614; -0.16018797784299288 0.3965632737354529 … 0.16571970440905534 -0.27295501612820905], bias = [-0.06860228547336891; 0.06797763894630982; … ; 0.03575021588657843; 0.0006250149594886433;;]), layer_6 = (weight = [0.1639036618569222 -0.07558312480438167 … 0.12027559860903052 -0.26481860710074534; -0.11470222807074461 0.24262173374717602 … 0.2695144499187905 -0.5005208521186733; … ; 0.5293680263627403 0.1858626097676844 … 0.4564330062721479 -0.4876336007784569; 0.5826602360557932 -0.09156679588838479 … -0.5870516113377893 -0.4036312430211866], bias = [-0.8923930855974316; 0.03496379198608811; … ; 0.0027325554431760555; -0.010674302378160144;;]), layer_7 = (weight = [-0.06341542384443112 0.42467231053278237 … 0.20233786822088243 0.16812947264044387], bias = [0.2609347747385804;;]))"
      ]
     },
     "metadata": {},
     "output_type": "display_data"
    }
   ],
   "source": [
    "function callback(p, l)\n",
    "    println(\"Loss: $l\")\n",
    "    return false\n",
    "end\n",
    "\n",
    "res = Optimization.solve(prob, BFGS(); maxiters=2000, callback=callback)"
   ]
  },
  {
   "cell_type": "code",
   "execution_count": null,
   "metadata": {},
   "outputs": [],
   "source": [
    "using ProgressMeter\n",
    "@showprogress reduce(1:10) do x, y\n",
    "    sleep(0.1)\n",
    "    x + y\n",
    "end"
   ]
  },
  {
   "cell_type": "code",
   "execution_count": 30,
   "metadata": {},
   "outputs": [
    {
     "data": {
      "image/png": "[encoded data removed]"
     },
     "metadata": {},
     "output_type": "display_data"
    }
   ],
   "source": [
    "using CairoMakie, MakiePublication\n",
    "\n",
    "phi = pinn.phi\n",
    "xs, ys = [infimum(d.domain):0.01:supremum(d.domain) for d in pde_system.domain]\n",
    "axis = (xlabel=L\"x\", ylabel=L\"y\", title=\"Prediction\")\n",
    "u_pred = [sum(pinn.phi([x, y], res.u)) for x in xs, y in ys]\n",
    "fig, ax, hm = heatmap(xs, ys, u_pred, axis=axis, colormap=:jet)\n",
    "Colorbar(fig[1,2], hm)\n",
    "fig"
   ]
  }
 ],
 "metadata": {
  "kernelspec": {
   "display_name": "Julia 1.9.0",
   "language": "julia",
   "name": "julia-1.9"
  },
  "language_info": {
   "file_extension": ".jl",
   "mimetype": "application/julia",
   "name": "julia",
   "version": "1.9.0"
  },
  "orig_nbformat": 4
 },
 "nbformat": 4,
 "nbformat_minor": 2
}
