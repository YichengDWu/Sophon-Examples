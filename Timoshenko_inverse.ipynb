{
 "cells": [
  {
   "cell_type": "code",
   "execution_count": 1,
   "metadata": {},
   "outputs": [
    {
     "data": {
      "text/latex": [
       "$$ \\begin{align}\n",
       " - \\frac{\\mathrm{d}}{\\mathrm{d}x} \\frac{\\mathrm{d}}{\\mathrm{d}x} \\theta\\left( x, t \\right) - \\frac{\\mathrm{d}}{\\mathrm{d}x} w\\left( x, t \\right) + \\frac{\\mathrm{d}}{\\mathrm{d}t} \\frac{\\mathrm{d}}{\\mathrm{d}t} \\theta\\left( x, t \\right) \\alpha\\left( x, t \\right) + \\theta\\left( x, t \\right) =& 0 \\\\\n",
       " - \\frac{\\mathrm{d}}{\\mathrm{d}x} \\frac{\\mathrm{d}}{\\mathrm{d}x} w\\left( x, t \\right) + \\frac{\\mathrm{d}}{\\mathrm{d}t} \\frac{\\mathrm{d}}{\\mathrm{d}t} w\\left( x, t \\right) + \\frac{\\mathrm{d}}{\\mathrm{d}x} \\theta\\left( x, t \\right) =&  - 1.5708 \\cos\\left( t \\right) \\sin\\left( x \\right) + \\cos\\left( t \\right)\n",
       "\\end{align}\n",
       " $$"
      ],
      "text/plain": [
       "PDESystem\n",
       "Equations: Equation[Differential(t)(Differential(t)(θ(x, t)))*α(x, t) + θ(x, t) - Differential(x)(Differential(x)(θ(x, t))) - Differential(x)(w(x, t)) ~ 0.0, Differential(t)(Differential(t)(w(x, t))) + Differential(x)(θ(x, t)) - Differential(x)(Differential(x)(w(x, t))) ~ cos(t) - 1.5707963267948966cos(t)*sin(x)]\n",
       "Boundary Conditions: Equation[θ(x, 0.0) ~ x + 1.5707963267948966cos(x) - 1.5707963267948966, Differential(t)(θ(x, 0.0)) ~ 0.0, w(x, 0.0) ~ 1.5707963267948966sin(x), Differential(t)(w(x, 0.0)) ~ 0.0, θ(0.0, t) ~ 0.0, θ(π, t) ~ 0.0, w(0.0, t) ~ 0.0, w(π, t) ~ 0.0]\n",
       "Domain: Symbolics.VarDomainPairing[Symbolics.VarDomainPairing(x, 0.0..3.141592653589793), Symbolics.VarDomainPairing(t, 0.0..1.0)]\n",
       "Dependent Variables: Num[θ(x, t), w(x, t), α(x, t)]\n",
       "Independent Variables: Num[x, t]\n",
       "Parameters: SciMLBase.NullParameters()\n",
       "Default Parameter ValuesDict{Any, Any}()"
      ]
     },
     "metadata": {},
     "output_type": "display_data"
    }
   ],
   "source": [
    "using ModelingToolkit, IntervalSets, Sophon, CairoMakie, Lux\n",
    "using Optimization, OptimizationOptimJL\n",
    "\n",
    "@parameters x,t\n",
    "@variables θ(..), w(..), α(..)\n",
    "Dₜ = Differential(t)\n",
    "Dₜ² = Differential(t)^2\n",
    "Dₓ = Differential(x)\n",
    "Dₓ² = Differential(x)^2\n",
    "\n",
    "g(x,t) = cos(t) - π/2 * sin(x)*cos(t)\n",
    "\n",
    "eqs = [\n",
    "    α(x,t) * Dₜ²(θ(x,t)) - Dₓ²(θ(x,t)) + θ(x,t) - Dₓ(w(x,t)) ~ 0.0,\n",
    "    Dₜ²(w(x,t)) - Dₓ²(w(x,t)) + Dₓ(θ(x,t)) ~ g(x,t)]\n",
    "\n",
    "bcs = [\n",
    "    θ(x, 0.0) ~ π/2*cos(x) + x - π/2,\n",
    "    Dₜ(θ(x, 0.0)) ~ 0.0,\n",
    "    w(x, 0.0) ~ π/2*sin(x),\n",
    "    Dₜ(w(x, 0.0)) ~ 0.0,\n",
    "    θ(0.0, t) ~ 0.0,\n",
    "    θ(π, t) ~ 0.0,\n",
    "    w(0.0, t) ~ 0.0, \n",
    "    w(π, t) ~ 0.0]\n",
    "\n",
    "    \n",
    "domains = [x ∈ Interval(0.0, π),\n",
    "           t ∈ Interval(0.0, 1.0)]\n",
    "\n",
    "@named timo = PDESystem(eqs, bcs, domains, [x,t], [θ(x,t),w(x,t),α(x,t)])"
   ]
  },
  {
   "cell_type": "code",
   "execution_count": 2,
   "metadata": {},
   "outputs": [
    {
     "data": {
      "text/plain": [
       "NonAdaptiveTraining{Int64, Int64}(1, 10)"
      ]
     },
     "metadata": {},
     "output_type": "display_data"
    }
   ],
   "source": [
    "pinn = PINN(θ = FullyConnected(2,1, tanh; hidden_dims=16,num_layers=3),\n",
    "            w = FullyConnected(2,1, tanh; hidden_dims=16,num_layers=3),\n",
    "            α = ConstantFunction())\n",
    "\n",
    "sampler = QuasiRandomSampler(2000, 500)\n",
    "strategy = NonAdaptiveTraining(1, 10)"
   ]
  },
  {
   "cell_type": "code",
   "execution_count": 15,
   "metadata": {},
   "outputs": [
    {
     "data": {
      "text/plain": [
       "1×5005 Matrix{Float64}:\n",
       " 0.312069  1.12682  1.52972  0.809748  …  0.826509  0.437509  0.119769"
      ]
     },
     "metadata": {},
     "output_type": "display_data"
    }
   ],
   "source": [
    "# generate training data\n",
    "x_train = [0.2,0.8,1.8,2.6,3.0]\n",
    "t_train = 0.0:0.001:1.0\n",
    "θ_analytic(x,t) = (π/2*cos(x) + x - π/2)*cos(t)\n",
    "w_analytic(x,t) = π/2*sin(x)*cos(t)\n",
    "\n",
    "coord_data = stack(vec(vcat.(x_train, t_train')))\n",
    "θ_data = reshape(θ_analytic.(x_train, t_train'), 1, :)\n",
    "w_data = reshape(w_analytic.(x_train, t_train'), 1, :)"
   ]
  },
  {
   "cell_type": "code",
   "execution_count": 16,
   "metadata": {},
   "outputs": [
    {
     "data": {
      "text/plain": [
       "additional_loss (generic function with 1 method)"
      ]
     },
     "metadata": {},
     "output_type": "display_data"
    }
   ],
   "source": [
    "function additional_loss(phi, ps)\n",
    "    (sum(abs2, phi.θ(coord_data, ps.θ) .- θ_data) + sum(abs2, phi.w(coord_data, ps.w) .- w_data))/50000\n",
    "end"
   ]
  },
  {
   "cell_type": "code",
   "execution_count": null,
   "metadata": {},
   "outputs": [],
   "source": []
  }
 ],
 "metadata": {
  "kernelspec": {
   "display_name": "Julia 1.9.0",
   "language": "julia",
   "name": "julia-1.9"
  },
  "language_info": {
   "file_extension": ".jl",
   "mimetype": "application/julia",
   "name": "julia",
   "version": "1.9.0"
  },
  "orig_nbformat": 4
 },
 "nbformat": 4,
 "nbformat_minor": 2
}
