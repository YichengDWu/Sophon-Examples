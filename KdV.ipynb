{
 "cells": [
  {
   "cell_type": "code",
   "execution_count": 7,
   "metadata": {},
   "outputs": [
    {
     "data": {
      "text/latex": [
       "$$ \\begin{align}\n",
       "0.0025 \\frac{\\mathrm{d}}{\\mathrm{d}x} \\frac{\\mathrm{d}}{\\mathrm{d}x} \\frac{\\mathrm{d}}{\\mathrm{d}x} u\\left( t, x \\right) + \\frac{\\mathrm{d}}{\\mathrm{d}x} u\\left( t, x \\right) u\\left( t, x \\right) + \\frac{\\mathrm{d}}{\\mathrm{d}t} u\\left( t, x \\right) =& 0\n",
       "\\end{align}\n",
       " $$"
      ],
      "text/plain": [
       "PDESystem\n",
       "Equations: Equation[0.0025Differential(x)(Differential(x)(Differential(x)(u(t, x)))) + Differential(x)(u(t, x))*u(t, x) + Differential(t)(u(t, x)) ~ 0]\n",
       "Boundary Conditions: Equation[u(0, x) ~ cospi(x), u(t, -1.0) ~ u(t, 1.0)]\n",
       "Domain: Symbolics.VarDomainPairing[Symbolics.VarDomainPairing(t, 0.0..1.0), Symbolics.VarDomainPairing(x, -1.0..1.0)]\n",
       "Dependent Variables: Num[u(t, x)]\n",
       "Independent Variables: Num[t, x]\n",
       "Parameters: SciMLBase.NullParameters()\n",
       "Default Parameter ValuesDict{Any, Any}()"
      ]
     },
     "metadata": {},
     "output_type": "display_data"
    }
   ],
   "source": [
    "using IntervalSets, ModelingToolkit\n",
    "using Sophon\n",
    "using Optimization, OptimizationOptimJL, OptimizationOptimisers\n",
    "\n",
    "@parameters t, x\n",
    "@variables u(..)\n",
    "Dₜ = Differential(t)\n",
    "Dₓ = Differential(x)\n",
    "Dₓ² = Differential(x)^2\n",
    "Dₓ³ = Differential(x)^3\n",
    "\n",
    "ν = 0.0025\n",
    "eqs = [Dₜ(u(t, x)) + Dₓ(u(t, x)) * u(t, x) + ν * Dₓ³(u(t, x)) ~ 0]\n",
    "\n",
    "bcs = [u(0, x) ~ cospi(x), u(t, -1.0) ~ u(t, 1.0)]\n",
    "\n",
    "domain = [t ∈ Interval(0.0, 1.0), x ∈ Interval(-1.0, 1.0)]\n",
    "\n",
    "@named KdV = PDESystem(eqs, bcs, domain, [t, x], [u(t, x)])"
   ]
  },
  {
   "cell_type": "code",
   "execution_count": 8,
   "metadata": {},
   "outputs": [
    {
     "data": {
      "text/plain": [
       "\u001b[38;2;86;182;194mOptimizationProblem\u001b[0m. In-place: \u001b[38;2;86;182;194mtrue\u001b[0m\n",
       "u0: \u001b[0mComponentVector{Float64}(layer_1 = (weight = [-0.3574291467666626 0.44355887174606323; -0.22252494096755981 -0.12271589040756226; … ; 0.18562239408493042 -0.048625946044921875; 0.4865678548812866 -0.34288883209228516], bias = [0.0; 0.0; … ; 0.0; 0.0;;]), layer_2 = (weight = [0.3345227837562561 -0.4815898537635803 … 0.5414704084396362 0.5150880813598633; 0.27623847126960754 0.31603410840034485 … -0.4150436222553253 -0.28433656692504883; … ; 0.020570293068885803 -0.17411461472511292 … 0.35798653960227966 0.5019278526306152; 0.4501550495624542 -0.38078048825263977 … -0.31427398324012756 0.6102972626686096], bias = [0.0; 0.0; … ; 0.0; 0.0;;]), layer_3 = (weight = [-0.10392026603221893 0.5003921389579773 … -0.06917525082826614 -0.2937462627887726; 0.5142396092414856 -0.09268425405025482 … 0.22379259765148163 0.3525296151638031; … ; -0.5313180685043335 -0.4876193404197693 … -0.5719847083091736 0.11568714678287506; 0.5750924944877625 0.4424934983253479 … 0.5363209843635559 0.16389606893062592], bias = [0.0; 0.0; … ; 0.0; 0.0;;]), layer_4 = (weight = [0.5648704767227173 0.0019483828218653798 … 0.12360294908285141 -0.27958568930625916; 0.3394450843334198 -0.581145703792572 … -0.450846791267395 0.28078100085258484; … ; -0.5859717130661011 0.2760278880596161 … -0.3861181437969208 0.10466348379850388; 0.03592696785926819 -0.5466532111167908 … -0.1423443704843521 -0.33819422125816345], bias = [0.0; 0.0; … ; 0.0; 0.0;;]), layer_5 = (weight = [-0.4757309854030609 -0.5103983283042908 … -0.3456595242023468 0.5820206999778748; -0.5334828495979309 -0.13663090765476227 … 0.05598326399922371 -0.13069793581962585; … ; 0.09305831044912338 -0.22446121275424957 … -0.5665473937988281 -0.5987831354141235; -0.5053761005401611 0.030252639204263687 … -0.40787607431411743 -0.34717634320259094], bias = [0.0; 0.0; … ; 0.0; 0.0;;]), layer_6 = (weight = [-0.04108656570315361 -0.582033097743988 … 0.5070506930351257 0.28643563389778137], bias = [0.0;;]))"
      ]
     },
     "metadata": {},
     "output_type": "display_data"
    }
   ],
   "source": [
    "chain = Siren(2, 1; hidden_dims=16, num_layers=5, omega=1f0)\n",
    "pinn = PINN(chain)\n",
    "sampler = BetaRandomSampler(1000, (300, 100))\n",
    "strategy = NonAdaptiveTraining(1, (50, 1))\n",
    "prob = Sophon.discretize(KdV, pinn, sampler, strategy)"
   ]
  },
  {
   "cell_type": "code",
   "execution_count": 9,
   "metadata": {},
   "outputs": [
    {
     "name": "stdout",
     "output_type": "stream",
     "text": [
      "Loss: 130.00800231043178\n"
     ]
    },
    {
     "name": "stdout",
     "output_type": "stream",
     "text": [
      "Loss: 28.230802149997835\n"
     ]
    },
    {
     "name": "stdout",
     "output_type": "stream",
     "text": [
      "Loss: 24.482968523376186\n"
     ]
    },
    {
     "name": "stdout",
     "output_type": "stream",
     "text": [
      "Loss: 17.332912519986387\n"
     ]
    },
    {
     "name": "stdout",
     "output_type": "stream",
     "text": [
      "Loss: 15.209975787550238\n"
     ]
    },
    {
     "name": "stdout",
     "output_type": "stream",
     "text": [
      "Loss: 11.16756187649107\n"
     ]
    },
    {
     "name": "stdout",
     "output_type": "stream",
     "text": [
      "Loss: 9.686885520487287\n"
     ]
    },
    {
     "name": "stdout",
     "output_type": "stream",
     "text": [
      "Loss: 3.8963215920058083\n"
     ]
    },
    {
     "name": "stdout",
     "output_type": "stream",
     "text": [
      "Loss: 2.0753324680711582\n"
     ]
    },
    {
     "name": "stdout",
     "output_type": "stream",
     "text": [
      "Loss: 1.6436929634548865\n",
      "Loss: 1.1166956947136264\n"
     ]
    },
    {
     "name": "stdout",
     "output_type": "stream",
     "text": [
      "Loss: 0.9338239172724505\n"
     ]
    },
    {
     "name": "stdout",
     "output_type": "stream",
     "text": [
      "Loss: 0.8849922658599599\n"
     ]
    },
    {
     "name": "stdout",
     "output_type": "stream",
     "text": [
      "Loss: 0.7818199986394182\n",
      "Loss: 0.7503829102934761\n"
     ]
    },
    {
     "name": "stdout",
     "output_type": "stream",
     "text": [
      "Loss: 0.7439258279805463\n",
      "Loss: 0.7309738949895528\n"
     ]
    },
    {
     "name": "stdout",
     "output_type": "stream",
     "text": [
      "Loss: 0.6778650021867495\n"
     ]
    },
    {
     "name": "stdout",
     "output_type": "stream",
     "text": [
      "Loss: 0.6411016078750118\n",
      "Loss: 0.6228411689066653\n"
     ]
    },
    {
     "name": "stdout",
     "output_type": "stream",
     "text": [
      "Loss: 0.5814877506220127\n"
     ]
    },
    {
     "name": "stdout",
     "output_type": "stream",
     "text": [
      "Loss: 0.5268074470901755\n",
      "Loss: 0.5020931198544396\n"
     ]
    },
    {
     "name": "stdout",
     "output_type": "stream",
     "text": [
      "Loss: 0.46695892934903366\n",
      "Loss: 0.45942801376504067\n"
     ]
    },
    {
     "name": "stdout",
     "output_type": "stream",
     "text": [
      "Loss: 0.42749212188354\n"
     ]
    },
    {
     "name": "stdout",
     "output_type": "stream",
     "text": [
      "Loss: 0.4044256022529047\n",
      "Loss: 0.3942358539639897\n"
     ]
    },
    {
     "name": "stdout",
     "output_type": "stream",
     "text": [
      "Loss: 0.3851273461336689\n",
      "Loss: 0.37477934361596116\n"
     ]
    },
    {
     "name": "stdout",
     "output_type": "stream",
     "text": [
      "Loss: 0.35708802148276614\n",
      "Loss: 0.3427835457870991\n"
     ]
    },
    {
     "name": "stdout",
     "output_type": "stream",
     "text": [
      "Loss: 0.32732018846008987\n",
      "Loss: 0.3233539421614433\n"
     ]
    },
    {
     "name": "stdout",
     "output_type": "stream",
     "text": [
      "Loss: 0.3079632077756617\n"
     ]
    },
    {
     "name": "stdout",
     "output_type": "stream",
     "text": [
      "Loss: 0.2964903713591512\n"
     ]
    },
    {
     "name": "stdout",
     "output_type": "stream",
     "text": [
      "Loss: 0.2908984367542848\n",
      "Loss: 0.2857769511365699\n"
     ]
    },
    {
     "name": "stdout",
     "output_type": "stream",
     "text": [
      "Loss: 0.2731046127807858\n",
      "Loss: 0.26942626862628266\n"
     ]
    },
    {
     "name": "stdout",
     "output_type": "stream",
     "text": [
      "Loss: 0.2670620217695893\n",
      "Loss: 0.2638596204708216\n"
     ]
    },
    {
     "name": "stdout",
     "output_type": "stream",
     "text": [
      "Loss: 0.25232893158111797\n"
     ]
    },
    {
     "name": "stdout",
     "output_type": "stream",
     "text": [
      "Loss: 0.24820253172619278\n",
      "Loss: 0.2448238464687211\n"
     ]
    },
    {
     "name": "stdout",
     "output_type": "stream",
     "text": [
      "Loss: 0.23497263862494722\n"
     ]
    },
    {
     "name": "stdout",
     "output_type": "stream",
     "text": [
      "Loss: 0.22721264249683226\n",
      "Loss: 0.22641118444326483\n"
     ]
    },
    {
     "name": "stdout",
     "output_type": "stream",
     "text": [
      "Loss: 0.22249648331125763\n",
      "Loss: 0.22124779348149592\n"
     ]
    },
    {
     "name": "stdout",
     "output_type": "stream",
     "text": [
      "Loss: 0.21908758177598667\n"
     ]
    },
    {
     "name": "stdout",
     "output_type": "stream",
     "text": [
      "Loss: 0.21508692706177734\n",
      "Loss: 0.21357133923124566\n"
     ]
    },
    {
     "name": "stdout",
     "output_type": "stream",
     "text": [
      "Loss: 0.20909105471082332\n"
     ]
    },
    {
     "name": "stdout",
     "output_type": "stream",
     "text": [
      "Loss: 0.2062548555878122\n",
      "Loss: 0.19993678407275467\n"
     ]
    },
    {
     "name": "stdout",
     "output_type": "stream",
     "text": [
      "Loss: 0.1974840523027227\n",
      "Loss: 0.19531269402330195\n"
     ]
    },
    {
     "name": "stdout",
     "output_type": "stream",
     "text": [
      "Loss: 0.19226577142586088\n",
      "Loss: 0.19124459482109868\n"
     ]
    },
    {
     "name": "stdout",
     "output_type": "stream",
     "text": [
      "Loss: 0.18809250081363882\n",
      "Loss: 0.18603942310459506\n"
     ]
    },
    {
     "name": "stdout",
     "output_type": "stream",
     "text": [
      "Loss: 0.18220345469861318\n",
      "Loss: 0.18066625857165908\n"
     ]
    },
    {
     "name": "stdout",
     "output_type": "stream",
     "text": [
      "Loss: 0.17843998934587357\n",
      "Loss: 0.177152264713032\n"
     ]
    },
    {
     "name": "stdout",
     "output_type": "stream",
     "text": [
      "Loss: 0.17509685408315043\n",
      "Loss: 0.17375209194410748\n"
     ]
    },
    {
     "name": "stdout",
     "output_type": "stream",
     "text": [
      "Loss: 0.17134345255663896\n",
      "Loss: 0.17043301548530948\n"
     ]
    },
    {
     "name": "stdout",
     "output_type": "stream",
     "text": [
      "Loss: 0.16842392050310726\n",
      "Loss: 0.16787138125465195\n"
     ]
    },
    {
     "name": "stdout",
     "output_type": "stream",
     "text": [
      "Loss: 0.16734990237497874\n",
      "Loss: 0.16633980332419934\n"
     ]
    },
    {
     "name": "stdout",
     "output_type": "stream",
     "text": [
      "Loss: 0.16593550332147625\n",
      "Loss: 0.16425692798273614\n"
     ]
    },
    {
     "name": "stdout",
     "output_type": "stream",
     "text": [
      "Loss: 0.16331006136326562\n",
      "Loss: 0.16213628343864114\n"
     ]
    },
    {
     "name": "stdout",
     "output_type": "stream",
     "text": [
      "Loss: 0.1608270169927396\n",
      "Loss: 0.15996990132445746\n"
     ]
    },
    {
     "name": "stdout",
     "output_type": "stream",
     "text": [
      "Loss: 0.15922303278569452\n",
      "Loss: 0.15774328954702785\n"
     ]
    },
    {
     "name": "stdout",
     "output_type": "stream",
     "text": [
      "Loss: 0.1551267890498426\n",
      "Loss: 0.1537047659552211\n"
     ]
    },
    {
     "name": "stdout",
     "output_type": "stream",
     "text": [
      "Loss: 0.152865481020566\n"
     ]
    },
    {
     "name": "stdout",
     "output_type": "stream",
     "text": [
      "Loss: 0.15148172726911038\n",
      "Loss: 0.15124533746191934\n"
     ]
    },
    {
     "name": "stdout",
     "output_type": "stream",
     "text": [
      "Loss: 0.1505747005490516\n",
      "Loss: 0.14948776001315528\n"
     ]
    },
    {
     "name": "stdout",
     "output_type": "stream",
     "text": [
      "Loss: 0.1478124431474138\n"
     ]
    },
    {
     "name": "stdout",
     "output_type": "stream",
     "text": [
      "Loss: 0.14563933417750904\n",
      "Loss: 0.1448805693009846\n"
     ]
    },
    {
     "name": "stdout",
     "output_type": "stream",
     "text": [
      "Loss: 0.14408418718684635\n"
     ]
    },
    {
     "name": "stdout",
     "output_type": "stream",
     "text": [
      "Loss: 0.14201055914718616\n",
      "Loss: 0.14134616179561332\n"
     ]
    },
    {
     "name": "stdout",
     "output_type": "stream",
     "text": [
      "Loss: 0.140727825726885\n",
      "Loss: 0.14007796521329907\n"
     ]
    },
    {
     "name": "stdout",
     "output_type": "stream",
     "text": [
      "Loss: 0.13905794859278817\n"
     ]
    },
    {
     "name": "stdout",
     "output_type": "stream",
     "text": [
      "Loss: 0.13591839593258084\n",
      "Loss: 0.13518898475641658\n"
     ]
    },
    {
     "name": "stdout",
     "output_type": "stream",
     "text": [
      "Loss: 0.13351556741398918\n",
      "Loss: 0.13227095583661533\n"
     ]
    },
    {
     "name": "stdout",
     "output_type": "stream",
     "text": [
      "Loss: 0.13005295941420908\n",
      "Loss: 0.12917551956512396\n"
     ]
    },
    {
     "name": "stdout",
     "output_type": "stream",
     "text": [
      "Loss: 0.12786976622294616\n",
      "Loss: 0.1262939526717036\n"
     ]
    },
    {
     "name": "stdout",
     "output_type": "stream",
     "text": [
      "Loss: 0.12365105766030995\n",
      "Loss: 0.12281298336835772\n"
     ]
    },
    {
     "name": "stdout",
     "output_type": "stream",
     "text": [
      "Loss: 0.12150969635353331\n",
      "Loss: 0.11877717262280303\n"
     ]
    },
    {
     "name": "stdout",
     "output_type": "stream",
     "text": [
      "Loss: 0.11703033582561782\n",
      "Loss: 0.11474384179463254\n"
     ]
    },
    {
     "name": "stdout",
     "output_type": "stream",
     "text": [
      "Loss: 0.11193309315571755\n",
      "Loss: 0.11041019298431581\n"
     ]
    },
    {
     "name": "stdout",
     "output_type": "stream",
     "text": [
      "Loss: 0.10910665327168717\n",
      "Loss: 0.1073395800536222\n"
     ]
    },
    {
     "name": "stdout",
     "output_type": "stream",
     "text": [
      "Loss: 0.1055146676074859\n",
      "Loss: 0.10423495478329321\n"
     ]
    },
    {
     "name": "stdout",
     "output_type": "stream",
     "text": [
      "Loss: 0.10365114581437371\n",
      "Loss: 0.10261943323975531\n"
     ]
    },
    {
     "name": "stdout",
     "output_type": "stream",
     "text": [
      "Loss: 0.10164188828159017\n",
      "Loss: 0.10097358331959187\n"
     ]
    },
    {
     "name": "stdout",
     "output_type": "stream",
     "text": [
      "Loss: 0.09984415907984302\n",
      "Loss: 0.0986803596175401\n"
     ]
    },
    {
     "name": "stdout",
     "output_type": "stream",
     "text": [
      "Loss: 0.0976762252182788\n",
      "Loss: 0.09647329299628035\n"
     ]
    },
    {
     "name": "stdout",
     "output_type": "stream",
     "text": [
      "Loss: 0.09498405932711225\n",
      "Loss: 0.09416161274507062\n"
     ]
    },
    {
     "name": "stdout",
     "output_type": "stream",
     "text": [
      "Loss: 0.09134775259834681\n",
      "Loss: 0.08989652729964483\n"
     ]
    },
    {
     "name": "stdout",
     "output_type": "stream",
     "text": [
      "Loss: 0.08801693099051118\n",
      "Loss: 0.08514463673151962\n"
     ]
    },
    {
     "name": "stdout",
     "output_type": "stream",
     "text": [
      "Loss: 0.0839633335950591\n",
      "Loss: 0.08295407808486731\n"
     ]
    },
    {
     "name": "stdout",
     "output_type": "stream",
     "text": [
      "Loss: 0.08198486461109379\n"
     ]
    },
    {
     "name": "stdout",
     "output_type": "stream",
     "text": [
      "Loss: 0.08017025621881839\n",
      "Loss: 0.07893572348690756\n"
     ]
    },
    {
     "name": "stdout",
     "output_type": "stream",
     "text": [
      "Loss: 0.07862850602517041\n",
      "Loss: 0.07752702267098327\n"
     ]
    },
    {
     "name": "stdout",
     "output_type": "stream",
     "text": [
      "Loss: 0.07690495712716315\n"
     ]
    },
    {
     "name": "stdout",
     "output_type": "stream",
     "text": [
      "Loss: 0.07416387338040997\n",
      "Loss: 0.07370577956845636\n"
     ]
    },
    {
     "name": "stdout",
     "output_type": "stream",
     "text": [
      "Loss: 0.07317642378203669\n",
      "Loss: 0.07283074904446633\n"
     ]
    },
    {
     "name": "stdout",
     "output_type": "stream",
     "text": [
      "Loss: 0.07080359999424156\n",
      "Loss: 0.07034457893479915\n"
     ]
    },
    {
     "name": "stdout",
     "output_type": "stream",
     "text": [
      "Loss: 0.06945033666164176\n",
      "Loss: 0.06730080836060363\n"
     ]
    },
    {
     "name": "stdout",
     "output_type": "stream",
     "text": [
      "Loss: 0.06634531138635946\n",
      "Loss: 0.06448820465561261\n"
     ]
    },
    {
     "name": "stdout",
     "output_type": "stream",
     "text": [
      "Loss: 0.06362268929349207\n",
      "Loss: 0.06305282543771343\n"
     ]
    },
    {
     "name": "stdout",
     "output_type": "stream",
     "text": [
      "Loss: 0.062453268100034785\n"
     ]
    },
    {
     "name": "stdout",
     "output_type": "stream",
     "text": [
      "Loss: 0.06031074293970716\n",
      "Loss: 0.059799265869822794\n"
     ]
    },
    {
     "name": "stdout",
     "output_type": "stream",
     "text": [
      "Loss: 0.05907005022338166\n",
      "Loss: 0.058111517941346065\n"
     ]
    },
    {
     "name": "stdout",
     "output_type": "stream",
     "text": [
      "Loss: 0.05741879085652666\n",
      "Loss: 0.05699978284957059\n"
     ]
    },
    {
     "name": "stdout",
     "output_type": "stream",
     "text": [
      "Loss: 0.05577935444010411\n",
      "Loss: 0.05496985232190681\n"
     ]
    },
    {
     "name": "stdout",
     "output_type": "stream",
     "text": [
      "Loss: 0.05415198638476816\n",
      "Loss: 0.053449010550782314\n"
     ]
    },
    {
     "name": "stdout",
     "output_type": "stream",
     "text": [
      "Loss: 0.05283100063647195\n",
      "Loss: 0.05199960023335813\n"
     ]
    },
    {
     "name": "stdout",
     "output_type": "stream",
     "text": [
      "Loss: 0.05097887011729638\n",
      "Loss: 0.05036245215554724\n"
     ]
    },
    {
     "name": "stdout",
     "output_type": "stream",
     "text": [
      "Loss: 0.04955187019014661\n",
      "Loss: 0.04804295105062534\n"
     ]
    },
    {
     "name": "stdout",
     "output_type": "stream",
     "text": [
      "Loss: 0.04730423979983146\n",
      "Loss: 0.046314085510508245\n"
     ]
    },
    {
     "name": "stdout",
     "output_type": "stream",
     "text": [
      "Loss: 0.04521976156946946\n",
      "Loss: 0.044250267173563014\n"
     ]
    },
    {
     "name": "stdout",
     "output_type": "stream",
     "text": [
      "Loss: 0.04344129188823421\n",
      "Loss: 0.04192543466399724\n"
     ]
    },
    {
     "name": "stdout",
     "output_type": "stream",
     "text": [
      "Loss: 0.04029872108619813\n",
      "Loss: 0.03988461388343903\n"
     ]
    },
    {
     "name": "stdout",
     "output_type": "stream",
     "text": [
      "Loss: 0.03899659679673192\n",
      "Loss: 0.03733294419446958\n"
     ]
    },
    {
     "name": "stdout",
     "output_type": "stream",
     "text": [
      "Loss: 0.03587654855646738\n",
      "Loss: 0.03391093915713073\n"
     ]
    },
    {
     "name": "stdout",
     "output_type": "stream",
     "text": [
      "Loss: 0.03187999125901421\n",
      "Loss: 0.031006832916699124\n"
     ]
    },
    {
     "name": "stdout",
     "output_type": "stream",
     "text": [
      "Loss: 0.029893337441463316\n",
      "Loss: 0.02861583445430593\n"
     ]
    },
    {
     "name": "stdout",
     "output_type": "stream",
     "text": [
      "Loss: 0.027649592072871817\n",
      "Loss: 0.02722952665948178\n"
     ]
    },
    {
     "name": "stdout",
     "output_type": "stream",
     "text": [
      "Loss: 0.026623285800943492\n",
      "Loss: 0.025577758779835116\n"
     ]
    },
    {
     "name": "stdout",
     "output_type": "stream",
     "text": [
      "Loss: 0.025185450439434185\n",
      "Loss: 0.024666915198642083\n"
     ]
    },
    {
     "name": "stdout",
     "output_type": "stream",
     "text": [
      "Loss: 0.0242177469358019\n",
      "Loss: 0.02376105649238914\n"
     ]
    },
    {
     "name": "stdout",
     "output_type": "stream",
     "text": [
      "Loss: 0.023218505536771003\n",
      "Loss: 0.022658674752026393\n"
     ]
    },
    {
     "name": "stdout",
     "output_type": "stream",
     "text": [
      "Loss: 0.021944833115298535\n",
      "Loss: 0.021309935041979623\n"
     ]
    },
    {
     "name": "stdout",
     "output_type": "stream",
     "text": [
      "Loss: 0.02082778979807745\n",
      "Loss: 0.020332829784963966\n"
     ]
    },
    {
     "name": "stdout",
     "output_type": "stream",
     "text": [
      "Loss: 0.019787372665814727\n",
      "Loss: 0.019523958202106874\n"
     ]
    },
    {
     "name": "stdout",
     "output_type": "stream",
     "text": [
      "Loss: 0.018963857234159123\n",
      "Loss: 0.01847491674391665\n"
     ]
    },
    {
     "name": "stdout",
     "output_type": "stream",
     "text": [
      "Loss: 0.017893061709561398\n",
      "Loss: 0.017478602310091247\n"
     ]
    },
    {
     "name": "stdout",
     "output_type": "stream",
     "text": [
      "Loss: 0.017052471530659894\n",
      "Loss: 0.016565901634449088\n"
     ]
    },
    {
     "name": "stdout",
     "output_type": "stream",
     "text": [
      "Loss: 0.01622367155464567\n",
      "Loss: 0.016025217553307484\n"
     ]
    },
    {
     "name": "stdout",
     "output_type": "stream",
     "text": [
      "Loss: 0.015837557358626225\n",
      "Loss: 0.015630530538627486\n"
     ]
    },
    {
     "name": "stdout",
     "output_type": "stream",
     "text": [
      "Loss: 0.015329183422060109\n",
      "Loss: 0.015111825557424617\n"
     ]
    },
    {
     "name": "stdout",
     "output_type": "stream",
     "text": [
      "Loss: 0.01489034356449397\n",
      "Loss: 0.014509881965089769\n"
     ]
    },
    {
     "name": "stdout",
     "output_type": "stream",
     "text": [
      "Loss: 0.014308966155081138\n",
      "Loss: 0.013960775122108126\n"
     ]
    },
    {
     "name": "stdout",
     "output_type": "stream",
     "text": [
      "Loss: 0.013652560222269223\n",
      "Loss: 0.01319703816922454\n"
     ]
    },
    {
     "name": "stdout",
     "output_type": "stream",
     "text": [
      "Loss: 0.01283198116321053\n",
      "Loss: 0.012578567419367255\n"
     ]
    },
    {
     "name": "stdout",
     "output_type": "stream",
     "text": [
      "Loss: 0.01229683853615841\n",
      "Loss: 0.012012605403617236\n"
     ]
    },
    {
     "name": "stdout",
     "output_type": "stream",
     "text": [
      "Loss: 0.011755471205025646\n",
      "Loss: 0.01151627345286509\n"
     ]
    },
    {
     "name": "stdout",
     "output_type": "stream",
     "text": [
      "Loss: 0.011291664164817677\n",
      "Loss: 0.011096995825524565\n"
     ]
    },
    {
     "name": "stdout",
     "output_type": "stream",
     "text": [
      "Loss: 0.010880739461208733\n",
      "Loss: 0.010809068305855693\n"
     ]
    },
    {
     "name": "stdout",
     "output_type": "stream",
     "text": [
      "Loss: 0.010553620186940263\n",
      "Loss: 0.0103814240524301\n"
     ]
    },
    {
     "name": "stdout",
     "output_type": "stream",
     "text": [
      "Loss: 0.010202112379604679\n",
      "Loss: 0.010056654208016921\n"
     ]
    },
    {
     "name": "stdout",
     "output_type": "stream",
     "text": [
      "Loss: 0.009855325094962147\n",
      "Loss: 0.009653185459104721\n"
     ]
    },
    {
     "name": "stdout",
     "output_type": "stream",
     "text": [
      "Loss: 0.009515543662677777\n",
      "Loss: 0.009346428015381889\n"
     ]
    },
    {
     "name": "stdout",
     "output_type": "stream",
     "text": [
      "Loss: 0.009223337046768181\n",
      "Loss: 0.00901494558680194\n"
     ]
    },
    {
     "name": "stdout",
     "output_type": "stream",
     "text": [
      "Loss: 0.00877183875007095\n",
      "Loss: 0.008595506135658165\n"
     ]
    },
    {
     "name": "stdout",
     "output_type": "stream",
     "text": [
      "Loss: 0.008466995063597584\n",
      "Loss: 0.008363749945941168\n"
     ]
    },
    {
     "name": "stdout",
     "output_type": "stream",
     "text": [
      "Loss: 0.008246033236990863\n"
     ]
    },
    {
     "name": "stdout",
     "output_type": "stream",
     "text": [
      "Loss: 0.008067340913718702\n",
      "Loss: 0.007943682348126223\n"
     ]
    },
    {
     "name": "stdout",
     "output_type": "stream",
     "text": [
      "Loss: 0.007808339993724718\n",
      "Loss: 0.007688127188861869\n"
     ]
    },
    {
     "name": "stdout",
     "output_type": "stream",
     "text": [
      "Loss: 0.00756254389567497\n",
      "Loss: 0.007435637589850638\n"
     ]
    },
    {
     "name": "stdout",
     "output_type": "stream",
     "text": [
      "Loss: 0.007297673242696459\n",
      "Loss: 0.007186250101701258\n"
     ]
    },
    {
     "name": "stdout",
     "output_type": "stream",
     "text": [
      "Loss: 0.007048462743769371\n",
      "Loss: 0.006931373130298515\n"
     ]
    },
    {
     "name": "stdout",
     "output_type": "stream",
     "text": [
      "Loss: 0.006820649803882352\n",
      "Loss: 0.006638162490622674\n"
     ]
    },
    {
     "name": "stdout",
     "output_type": "stream",
     "text": [
      "Loss: 0.0065089509862946955\n",
      "Loss: 0.006379965560318133\n"
     ]
    },
    {
     "name": "stdout",
     "output_type": "stream",
     "text": [
      "Loss: 0.006298917496787082\n",
      "Loss: 0.00619594793049135\n"
     ]
    },
    {
     "name": "stdout",
     "output_type": "stream",
     "text": [
      "Loss: 0.006128245100849958\n",
      "Loss: 0.006041647369057044\n"
     ]
    },
    {
     "name": "stdout",
     "output_type": "stream",
     "text": [
      "Loss: 0.005941783291500874\n",
      "Loss: 0.005833445337341651\n"
     ]
    },
    {
     "name": "stdout",
     "output_type": "stream",
     "text": [
      "Loss: 0.005727114514781645\n",
      "Loss: 0.005651476710732191\n"
     ]
    },
    {
     "name": "stdout",
     "output_type": "stream",
     "text": [
      "Loss: 0.005554943410186569\n",
      "Loss: 0.005476854439307935\n"
     ]
    },
    {
     "name": "stdout",
     "output_type": "stream",
     "text": [
      "Loss: 0.00541248363194212\n",
      "Loss: 0.005350437086522956\n"
     ]
    },
    {
     "name": "stdout",
     "output_type": "stream",
     "text": [
      "Loss: 0.0052857725849004104\n",
      "Loss: 0.005216586796730265\n"
     ]
    },
    {
     "name": "stdout",
     "output_type": "stream",
     "text": [
      "Loss: 0.00515957728694698\n",
      "Loss: 0.0050712256956424165\n"
     ]
    },
    {
     "name": "stdout",
     "output_type": "stream",
     "text": [
      "Loss: 0.004982829964206894\n",
      "Loss: 0.004921218207300209\n"
     ]
    },
    {
     "name": "stdout",
     "output_type": "stream",
     "text": [
      "Loss: 0.00482915243787474\n",
      "Loss: 0.004742127551306264\n"
     ]
    },
    {
     "name": "stdout",
     "output_type": "stream",
     "text": [
      "Loss: 0.004641301826407592\n",
      "Loss: 0.004551119472956288\n"
     ]
    },
    {
     "name": "stdout",
     "output_type": "stream",
     "text": [
      "Loss: 0.0044607978274478445\n",
      "Loss: 0.004380343203055266\n"
     ]
    },
    {
     "name": "stdout",
     "output_type": "stream",
     "text": [
      "Loss: 0.0043021053207087856\n",
      "Loss: 0.004223914401796605\n"
     ]
    },
    {
     "name": "stdout",
     "output_type": "stream",
     "text": [
      "Loss: 0.004131744897144582\n",
      "Loss: 0.0040658436925227704\n"
     ]
    },
    {
     "name": "stdout",
     "output_type": "stream",
     "text": [
      "Loss: 0.003955440928449773\n",
      "Loss: 0.003839088702700142\n"
     ]
    },
    {
     "name": "stdout",
     "output_type": "stream",
     "text": [
      "Loss: 0.0037529839097012146\n",
      "Loss: 0.003663529684627732\n"
     ]
    },
    {
     "name": "stdout",
     "output_type": "stream",
     "text": [
      "Loss: 0.0035393970487333547\n",
      "Loss: 0.0034282292338449266\n"
     ]
    },
    {
     "name": "stdout",
     "output_type": "stream",
     "text": [
      "Loss: 0.0033304178186942105\n",
      "Loss: 0.0032701445022928527\n"
     ]
    },
    {
     "name": "stdout",
     "output_type": "stream",
     "text": [
      "Loss: 0.0031930337640002178\n",
      "Loss: 0.0031228627479474367\n"
     ]
    },
    {
     "name": "stdout",
     "output_type": "stream",
     "text": [
      "Loss: 0.0030440781202039097\n",
      "Loss: 0.002992731283735583\n"
     ]
    },
    {
     "name": "stdout",
     "output_type": "stream",
     "text": [
      "Loss: 0.002914649101767006\n",
      "Loss: 0.002835887143649276\n"
     ]
    },
    {
     "name": "stdout",
     "output_type": "stream",
     "text": [
      "Loss: 0.0027956756842081954\n",
      "Loss: 0.002751936074429343\n"
     ]
    },
    {
     "name": "stdout",
     "output_type": "stream",
     "text": [
      "Loss: 0.0026803827105601834\n",
      "Loss: 0.002639191099899889\n"
     ]
    },
    {
     "name": "stdout",
     "output_type": "stream",
     "text": [
      "Loss: 0.002589215600076714\n",
      "Loss: 0.002554593663614579\n"
     ]
    },
    {
     "name": "stdout",
     "output_type": "stream",
     "text": [
      "Loss: 0.002491559619510263\n",
      "Loss: 0.002453808378345048\n"
     ]
    },
    {
     "name": "stdout",
     "output_type": "stream",
     "text": [
      "Loss: 0.002421416259584322\n",
      "Loss: 0.002387537428606076\n"
     ]
    },
    {
     "name": "stdout",
     "output_type": "stream",
     "text": [
      "Loss: 0.002345914173931811\n",
      "Loss: 0.002301726572670823\n"
     ]
    },
    {
     "name": "stdout",
     "output_type": "stream",
     "text": [
      "Loss: 0.0022516545627670483\n",
      "Loss: 0.002199272247358992\n"
     ]
    },
    {
     "name": "stdout",
     "output_type": "stream",
     "text": [
      "Loss: 0.002152735866473931\n",
      "Loss: 0.0021051244848946426\n"
     ]
    },
    {
     "name": "stdout",
     "output_type": "stream",
     "text": [
      "Loss: 0.002075886022954214\n",
      "Loss: 0.0020311643381462877\n"
     ]
    },
    {
     "name": "stdout",
     "output_type": "stream",
     "text": [
      "Loss: 0.001993964787859877\n",
      "Loss: 0.001959354873740022\n"
     ]
    },
    {
     "name": "stdout",
     "output_type": "stream",
     "text": [
      "Loss: 0.0019060150288385928\n",
      "Loss: 0.0018638331131984778\n"
     ]
    },
    {
     "name": "stdout",
     "output_type": "stream",
     "text": [
      "Loss: 0.0018217649145325452\n",
      "Loss: 0.001779285381921402\n"
     ]
    },
    {
     "name": "stdout",
     "output_type": "stream",
     "text": [
      "Loss: 0.0017221723491761835\n",
      "Loss: 0.0016798601769767454\n"
     ]
    },
    {
     "name": "stdout",
     "output_type": "stream",
     "text": [
      "Loss: 0.0016326633348826911\n",
      "Loss: 0.001608374581021462\n"
     ]
    },
    {
     "name": "stdout",
     "output_type": "stream",
     "text": [
      "Loss: 0.0015829444992852672\n",
      "Loss: 0.0015647303369447662\n"
     ]
    },
    {
     "name": "stdout",
     "output_type": "stream",
     "text": [
      "Loss: 0.001537035251821185\n",
      "Loss: 0.0015167758855643434\n"
     ]
    },
    {
     "name": "stdout",
     "output_type": "stream",
     "text": [
      "Loss: 0.001502614296915106\n",
      "Loss: 0.0014815925942232122\n"
     ]
    },
    {
     "name": "stdout",
     "output_type": "stream",
     "text": [
      "Loss: 0.001459233315335141\n",
      "Loss: 0.0014316478357682383\n"
     ]
    },
    {
     "name": "stdout",
     "output_type": "stream",
     "text": [
      "Loss: 0.0014007249842827045\n",
      "Loss: 0.0013698263407591375\n"
     ]
    },
    {
     "name": "stdout",
     "output_type": "stream",
     "text": [
      "Loss: 0.001339972994110893\n",
      "Loss: 0.0013113092211165128\n"
     ]
    },
    {
     "name": "stdout",
     "output_type": "stream",
     "text": [
      "Loss: 0.0012895054923255861\n",
      "Loss: 0.0012638014750170454\n"
     ]
    },
    {
     "name": "stdout",
     "output_type": "stream",
     "text": [
      "Loss: 0.0012346840311478282\n",
      "Loss: 0.0012147937946429034\n"
     ]
    },
    {
     "name": "stdout",
     "output_type": "stream",
     "text": [
      "Loss: 0.0011891737084880568\n",
      "Loss: 0.0011630414987684676\n"
     ]
    },
    {
     "name": "stdout",
     "output_type": "stream",
     "text": [
      "Loss: 0.0011381548572076622\n",
      "Loss: 0.0011227090884184663\n"
     ]
    },
    {
     "name": "stdout",
     "output_type": "stream",
     "text": [
      "Loss: 0.0011043516121883514\n",
      "Loss: 0.0010912817974674102\n"
     ]
    },
    {
     "name": "stdout",
     "output_type": "stream",
     "text": [
      "Loss: 0.0010773754974872758\n",
      "Loss: 0.0010620940712124183\n"
     ]
    },
    {
     "name": "stdout",
     "output_type": "stream",
     "text": [
      "Loss: 0.001050127255894798\n",
      "Loss: 0.0010374781040548577\n"
     ]
    },
    {
     "name": "stdout",
     "output_type": "stream",
     "text": [
      "Loss: 0.001026024938380081\n",
      "Loss: 0.0010163957878146983\n"
     ]
    },
    {
     "name": "stdout",
     "output_type": "stream",
     "text": [
      "Loss: 0.0010067048543510775\n",
      "Loss: 0.0009969006362479712\n"
     ]
    },
    {
     "name": "stdout",
     "output_type": "stream",
     "text": [
      "Loss: 0.0009841330050115553\n",
      "Loss: 0.0009701981725425011\n"
     ]
    },
    {
     "name": "stdout",
     "output_type": "stream",
     "text": [
      "Loss: 0.0009601990780439115\n",
      "Loss: 0.0009512405104332797\n"
     ]
    },
    {
     "name": "stdout",
     "output_type": "stream",
     "text": [
      "Loss: 0.000941451056337445\n",
      "Loss: 0.0009318070385834983\n"
     ]
    },
    {
     "name": "stdout",
     "output_type": "stream",
     "text": [
      "Loss: 0.000923558866930765\n",
      "Loss: 0.000914060788528036\n"
     ]
    },
    {
     "name": "stdout",
     "output_type": "stream",
     "text": [
      "Loss: 0.0009049536792124643\n"
     ]
    },
    {
     "name": "stdout",
     "output_type": "stream",
     "text": [
      "Loss: 0.0008903940344855512\n",
      "Loss: 0.0008768782623612937\n"
     ]
    },
    {
     "name": "stdout",
     "output_type": "stream",
     "text": [
      "Loss: 0.0008582147808638008\n",
      "Loss: 0.0008425852651326997\n"
     ]
    },
    {
     "name": "stdout",
     "output_type": "stream",
     "text": [
      "Loss: 0.0008317539023397253\n",
      "Loss: 0.0008163829706847803\n"
     ]
    },
    {
     "name": "stdout",
     "output_type": "stream",
     "text": [
      "Loss: 0.0008075270046108076\n",
      "Loss: 0.0008017148110344133\n"
     ]
    },
    {
     "name": "stdout",
     "output_type": "stream",
     "text": [
      "Loss: 0.0007949409665452719\n",
      "Loss: 0.0007868189231972396\n"
     ]
    },
    {
     "name": "stdout",
     "output_type": "stream",
     "text": [
      "Loss: 0.0007753876907384069\n",
      "Loss: 0.0007699153192709356\n"
     ]
    },
    {
     "name": "stdout",
     "output_type": "stream",
     "text": [
      "Loss: 0.0007620556665495771\n",
      "Loss: 0.0007547198457371457\n"
     ]
    },
    {
     "name": "stdout",
     "output_type": "stream",
     "text": [
      "Loss: 0.0007453490845502489\n",
      "Loss: 0.0007366013045361183\n"
     ]
    },
    {
     "name": "stdout",
     "output_type": "stream",
     "text": [
      "Loss: 0.000728332047426396\n",
      "Loss: 0.0007168318671658885\n"
     ]
    },
    {
     "name": "stdout",
     "output_type": "stream",
     "text": [
      "Loss: 0.0007059234592150926\n",
      "Loss: 0.0006972926455747877\n"
     ]
    },
    {
     "name": "stdout",
     "output_type": "stream",
     "text": [
      "Loss: 0.0006898250540006372\n",
      "Loss: 0.0006833046997397843\n"
     ]
    },
    {
     "name": "stdout",
     "output_type": "stream",
     "text": [
      "Loss: 0.0006778079617547679\n",
      "Loss: 0.0006727465211072491\n"
     ]
    },
    {
     "name": "stdout",
     "output_type": "stream",
     "text": [
      "Loss: 0.0006644735259259592\n",
      "Loss: 0.000657917128483444\n"
     ]
    },
    {
     "name": "stdout",
     "output_type": "stream",
     "text": [
      "Loss: 0.0006525687220665904\n",
      "Loss: 0.0006464900535332019\n"
     ]
    },
    {
     "name": "stdout",
     "output_type": "stream",
     "text": [
      "Loss: 0.0006419540230692606\n",
      "Loss: 0.0006367989740954862\n"
     ]
    },
    {
     "name": "stdout",
     "output_type": "stream",
     "text": [
      "Loss: 0.000630953571151182\n",
      "Loss: 0.000625566550380289\n"
     ]
    },
    {
     "name": "stdout",
     "output_type": "stream",
     "text": [
      "Loss: 0.0006191641990802392\n",
      "Loss: 0.0006122281580429551\n"
     ]
    },
    {
     "name": "stdout",
     "output_type": "stream",
     "text": [
      "Loss: 0.0006078582839344882\n",
      "Loss: 0.0006027839574035217\n"
     ]
    },
    {
     "name": "stdout",
     "output_type": "stream",
     "text": [
      "Loss: 0.0005970812019106061\n",
      "Loss: 0.0005906554843758778\n"
     ]
    },
    {
     "name": "stdout",
     "output_type": "stream",
     "text": [
      "Loss: 0.0005840062900638319\n",
      "Loss: 0.0005790004399019477\n"
     ]
    },
    {
     "name": "stdout",
     "output_type": "stream",
     "text": [
      "Loss: 0.0005731491608955962\n",
      "Loss: 0.0005689854552411309\n"
     ]
    },
    {
     "name": "stdout",
     "output_type": "stream",
     "text": [
      "Loss: 0.0005644579936169093\n"
     ]
    },
    {
     "name": "stdout",
     "output_type": "stream",
     "text": [
      "Loss: 0.0005584929963785488\n",
      "Loss: 0.0005534235456204187\n"
     ]
    },
    {
     "name": "stdout",
     "output_type": "stream",
     "text": [
      "Loss: 0.0005472192848661067\n",
      "Loss: 0.0005413982592724087\n"
     ]
    },
    {
     "name": "stdout",
     "output_type": "stream",
     "text": [
      "Loss: 0.0005367663277431371\n",
      "Loss: 0.0005325821400304678\n"
     ]
    },
    {
     "name": "stdout",
     "output_type": "stream",
     "text": [
      "Loss: 0.0005287921645127714\n",
      "Loss: 0.0005244144532976979\n"
     ]
    },
    {
     "name": "stdout",
     "output_type": "stream",
     "text": [
      "Loss: 0.000519639470302125\n",
      "Loss: 0.0005129000103545502\n"
     ]
    },
    {
     "name": "stdout",
     "output_type": "stream",
     "text": [
      "Loss: 0.0005070400898170581\n",
      "Loss: 0.0005034603919463694\n"
     ]
    },
    {
     "name": "stdout",
     "output_type": "stream",
     "text": [
      "Loss: 0.0004999829358641372\n",
      "Loss: 0.0004963309370643356\n"
     ]
    },
    {
     "name": "stdout",
     "output_type": "stream",
     "text": [
      "Loss: 0.0004922963847374314\n"
     ]
    },
    {
     "name": "stdout",
     "output_type": "stream",
     "text": [
      "Loss: 0.0004875354675551347\n",
      "Loss: 0.00048355726777064313\n"
     ]
    },
    {
     "name": "stdout",
     "output_type": "stream",
     "text": [
      "Loss: 0.00048036762021945613\n",
      "Loss: 0.0004774357303443759\n"
     ]
    },
    {
     "name": "stdout",
     "output_type": "stream",
     "text": [
      "Loss: 0.0004740476217712667\n",
      "Loss: 0.00047157828358466004\n"
     ]
    },
    {
     "name": "stdout",
     "output_type": "stream",
     "text": [
      "Loss: 0.000468458424672433\n",
      "Loss: 0.00046466159378089143\n"
     ]
    },
    {
     "name": "stdout",
     "output_type": "stream",
     "text": [
      "Loss: 0.000461513329733622\n",
      "Loss: 0.00045906079039494715\n"
     ]
    },
    {
     "name": "stdout",
     "output_type": "stream",
     "text": [
      "Loss: 0.00045647632769695566\n",
      "Loss: 0.0004543795430338854\n"
     ]
    },
    {
     "name": "stdout",
     "output_type": "stream",
     "text": [
      "Loss: 0.0004513444186778039\n",
      "Loss: 0.0004475273865151576\n"
     ]
    },
    {
     "name": "stdout",
     "output_type": "stream",
     "text": [
      "Loss: 0.0004439136266703964\n",
      "Loss: 0.00044199675520895326\n"
     ]
    },
    {
     "name": "stdout",
     "output_type": "stream",
     "text": [
      "Loss: 0.00043979021787922087\n",
      "Loss: 0.0004375547624819614\n"
     ]
    },
    {
     "name": "stdout",
     "output_type": "stream",
     "text": [
      "Loss: 0.00043460166894209183\n",
      "Loss: 0.0004299923743912386\n"
     ]
    },
    {
     "name": "stdout",
     "output_type": "stream",
     "text": [
      "Loss: 0.0004271637244550033\n",
      "Loss: 0.00042459461909699625\n"
     ]
    },
    {
     "name": "stdout",
     "output_type": "stream",
     "text": [
      "Loss: 0.00042246562371009335\n",
      "Loss: 0.00041933153826605174\n"
     ]
    },
    {
     "name": "stdout",
     "output_type": "stream",
     "text": [
      "Loss: 0.00041516665592489157\n",
      "Loss: 0.00041239023774301305\n"
     ]
    },
    {
     "name": "stdout",
     "output_type": "stream",
     "text": [
      "Loss: 0.000409785812681161\n",
      "Loss: 0.0004074606339051942\n"
     ]
    },
    {
     "name": "stdout",
     "output_type": "stream",
     "text": [
      "Loss: 0.00040524534187407006\n"
     ]
    },
    {
     "name": "stdout",
     "output_type": "stream",
     "text": [
      "Loss: 0.0004028333172373042\n",
      "Loss: 0.0003999613426217616\n"
     ]
    },
    {
     "name": "stdout",
     "output_type": "stream",
     "text": [
      "Loss: 0.00039675313352314904\n",
      "Loss: 0.0003938121430922106\n"
     ]
    },
    {
     "name": "stdout",
     "output_type": "stream",
     "text": [
      "Loss: 0.00039119683824127567\n",
      "Loss: 0.0003891165777948442\n"
     ]
    },
    {
     "name": "stdout",
     "output_type": "stream",
     "text": [
      "Loss: 0.0003872569578129482\n",
      "Loss: 0.00038545670997566247\n"
     ]
    },
    {
     "name": "stdout",
     "output_type": "stream",
     "text": [
      "Loss: 0.0003828880254609707\n",
      "Loss: 0.0003801674316008471\n"
     ]
    },
    {
     "name": "stdout",
     "output_type": "stream",
     "text": [
      "Loss: 0.00037837243770798236\n",
      "Loss: 0.0003761390359511565\n"
     ]
    },
    {
     "name": "stdout",
     "output_type": "stream",
     "text": [
      "Loss: 0.00037429639425814966\n",
      "Loss: 0.0003718846819579401\n"
     ]
    },
    {
     "name": "stdout",
     "output_type": "stream",
     "text": [
      "Loss: 0.00036941476525037266\n",
      "Loss: 0.00036614934936505904\n"
     ]
    },
    {
     "name": "stdout",
     "output_type": "stream",
     "text": [
      "Loss: 0.0003635093152135053\n",
      "Loss: 0.0003616457207815125\n"
     ]
    },
    {
     "name": "stdout",
     "output_type": "stream",
     "text": [
      "Loss: 0.00035939479195104106\n",
      "Loss: 0.000356876101272492\n"
     ]
    },
    {
     "name": "stdout",
     "output_type": "stream",
     "text": [
      "Loss: 0.00035420636453416303\n",
      "Loss: 0.0003515527884392556\n"
     ]
    },
    {
     "name": "stdout",
     "output_type": "stream",
     "text": [
      "Loss: 0.0003490546953492487\n",
      "Loss: 0.00034720272013514283\n"
     ]
    },
    {
     "name": "stdout",
     "output_type": "stream",
     "text": [
      "Loss: 0.00034413056648805135\n"
     ]
    },
    {
     "name": "stdout",
     "output_type": "stream",
     "text": [
      "Loss: 0.00034188971944340395\n",
      "Loss: 0.00033996359507676796\n"
     ]
    },
    {
     "name": "stdout",
     "output_type": "stream",
     "text": [
      "Loss: 0.0003376443545584482\n",
      "Loss: 0.0003360544175981662\n"
     ]
    },
    {
     "name": "stdout",
     "output_type": "stream",
     "text": [
      "Loss: 0.00033447462262695636\n",
      "Loss: 0.00033292635323811925\n"
     ]
    },
    {
     "name": "stdout",
     "output_type": "stream",
     "text": [
      "Loss: 0.000330197773829766\n",
      "Loss: 0.00032793902812650093\n"
     ]
    },
    {
     "name": "stdout",
     "output_type": "stream",
     "text": [
      "Loss: 0.00032516205377909575\n",
      "Loss: 0.0003230995289315567\n"
     ]
    },
    {
     "name": "stdout",
     "output_type": "stream",
     "text": [
      "Loss: 0.0003207170394812671\n",
      "Loss: 0.0003187300520655233\n"
     ]
    },
    {
     "name": "stdout",
     "output_type": "stream",
     "text": [
      "Loss: 0.0003173449777546767\n",
      "Loss: 0.0003160563178653731\n"
     ]
    },
    {
     "name": "stdout",
     "output_type": "stream",
     "text": [
      "Loss: 0.0003146906647090394\n",
      "Loss: 0.0003135893201951743\n"
     ]
    },
    {
     "name": "stdout",
     "output_type": "stream",
     "text": [
      "Loss: 0.00031226808834520115\n",
      "Loss: 0.00031070263261943237\n"
     ]
    },
    {
     "name": "stdout",
     "output_type": "stream",
     "text": [
      "Loss: 0.00030918472857468973\n",
      "Loss: 0.0003071707648048356\n"
     ]
    },
    {
     "name": "stdout",
     "output_type": "stream",
     "text": [
      "Loss: 0.00030477278762265213\n",
      "Loss: 0.00030246905019588513\n"
     ]
    },
    {
     "name": "stdout",
     "output_type": "stream",
     "text": [
      "Loss: 0.0002998993512762291\n",
      "Loss: 0.0002984295710582706\n"
     ]
    },
    {
     "name": "stdout",
     "output_type": "stream",
     "text": [
      "Loss: 0.0002968223022552667\n",
      "Loss: 0.00029565866998136565\n"
     ]
    },
    {
     "name": "stdout",
     "output_type": "stream",
     "text": [
      "Loss: 0.00029418356548786405\n",
      "Loss: 0.0002929244840313612\n"
     ]
    },
    {
     "name": "stdout",
     "output_type": "stream",
     "text": [
      "Loss: 0.00029148503517023176\n",
      "Loss: 0.0002896411770975974\n"
     ]
    },
    {
     "name": "stdout",
     "output_type": "stream",
     "text": [
      "Loss: 0.00028787016521150205\n",
      "Loss: 0.0002856406212513926\n"
     ]
    },
    {
     "name": "stdout",
     "output_type": "stream",
     "text": [
      "Loss: 0.0002834216355536523\n",
      "Loss: 0.0002817784545089129\n"
     ]
    },
    {
     "name": "stdout",
     "output_type": "stream",
     "text": [
      "Loss: 0.0002802531627209721\n",
      "Loss: 0.0002791177158263804\n"
     ]
    },
    {
     "name": "stdout",
     "output_type": "stream",
     "text": [
      "Loss: 0.0002778360354906247\n",
      "Loss: 0.000276795012860127\n"
     ]
    },
    {
     "name": "stdout",
     "output_type": "stream",
     "text": [
      "Loss: 0.0002758546578128125\n",
      "Loss: 0.0002749983125931115\n"
     ]
    },
    {
     "name": "stdout",
     "output_type": "stream",
     "text": [
      "Loss: 0.00027445212227837146\n",
      "Loss: 0.00027356533589115834\n"
     ]
    },
    {
     "name": "stdout",
     "output_type": "stream",
     "text": [
      "Loss: 0.0002725324927687195\n",
      "Loss: 0.00027159440591717113\n"
     ]
    },
    {
     "name": "stdout",
     "output_type": "stream",
     "text": [
      "Loss: 0.00027044106982136083\n",
      "Loss: 0.00026899420352477754\n"
     ]
    },
    {
     "name": "stdout",
     "output_type": "stream",
     "text": [
      "Loss: 0.0002674243312996374\n",
      "Loss: 0.0002658085886691958\n"
     ]
    },
    {
     "name": "stdout",
     "output_type": "stream",
     "text": [
      "Loss: 0.0002641136984531899\n",
      "Loss: 0.0002626443750274003\n"
     ]
    },
    {
     "name": "stdout",
     "output_type": "stream",
     "text": [
      "Loss: 0.000261349838985833\n",
      "Loss: 0.0002597671467220668\n"
     ]
    },
    {
     "name": "stdout",
     "output_type": "stream",
     "text": [
      "Loss: 0.0002583996878510685\n",
      "Loss: 0.00025752570668899366\n"
     ]
    },
    {
     "name": "stdout",
     "output_type": "stream",
     "text": [
      "Loss: 0.00025636597556868366\n",
      "Loss: 0.0002552510208449161\n"
     ]
    },
    {
     "name": "stdout",
     "output_type": "stream",
     "text": [
      "Loss: 0.0002541707075849762\n",
      "Loss: 0.0002532124363719922\n"
     ]
    },
    {
     "name": "stdout",
     "output_type": "stream",
     "text": [
      "Loss: 0.0002522029643066812\n",
      "Loss: 0.00025133361365140027\n"
     ]
    },
    {
     "name": "stdout",
     "output_type": "stream",
     "text": [
      "Loss: 0.00025053332221778885\n",
      "Loss: 0.0002494578883213925\n"
     ]
    },
    {
     "name": "stdout",
     "output_type": "stream",
     "text": [
      "Loss: 0.00024819911437386184\n",
      "Loss: 0.0002468789132132168\n"
     ]
    },
    {
     "name": "stdout",
     "output_type": "stream",
     "text": [
      "Loss: 0.0002454642593291503\n",
      "Loss: 0.0002443896048467559\n"
     ]
    },
    {
     "name": "stdout",
     "output_type": "stream",
     "text": [
      "Loss: 0.00024366750616272546\n",
      "Loss: 0.00024293081273258878\n"
     ]
    },
    {
     "name": "stdout",
     "output_type": "stream",
     "text": [
      "Loss: 0.000241948502645095\n",
      "Loss: 0.00024009709166063597\n"
     ]
    },
    {
     "name": "stdout",
     "output_type": "stream",
     "text": [
      "Loss: 0.0002381628282294406\n",
      "Loss: 0.00023673190640824057\n"
     ]
    },
    {
     "name": "stdout",
     "output_type": "stream",
     "text": [
      "Loss: 0.00023534888257201143\n",
      "Loss: 0.00023401449419443952\n"
     ]
    },
    {
     "name": "stdout",
     "output_type": "stream",
     "text": [
      "Loss: 0.00023301233945391026\n",
      "Loss: 0.00023217015147924952\n"
     ]
    },
    {
     "name": "stdout",
     "output_type": "stream",
     "text": [
      "Loss: 0.0002314015087765121\n",
      "Loss: 0.00023058070222644638\n"
     ]
    },
    {
     "name": "stdout",
     "output_type": "stream",
     "text": [
      "Loss: 0.00022963889677932146\n",
      "Loss: 0.00022869273995013433\n"
     ]
    },
    {
     "name": "stdout",
     "output_type": "stream",
     "text": [
      "Loss: 0.00022778535871893253\n",
      "Loss: 0.00022686671866971938\n"
     ]
    },
    {
     "name": "stdout",
     "output_type": "stream",
     "text": [
      "Loss: 0.00022595038891942422\n",
      "Loss: 0.00022497216481965279\n"
     ]
    },
    {
     "name": "stdout",
     "output_type": "stream",
     "text": [
      "Loss: 0.00022401989992959048\n",
      "Loss: 0.00022329534928874271\n"
     ]
    },
    {
     "name": "stdout",
     "output_type": "stream",
     "text": [
      "Loss: 0.0002227289207271164\n",
      "Loss: 0.00022219373749764803\n"
     ]
    },
    {
     "name": "stdout",
     "output_type": "stream",
     "text": [
      "Loss: 0.00022157578960498774\n",
      "Loss: 0.00022090979068463298\n"
     ]
    },
    {
     "name": "stdout",
     "output_type": "stream",
     "text": [
      "Loss: 0.0002200961722178211\n",
      "Loss: 0.00021915498607917193\n"
     ]
    },
    {
     "name": "stdout",
     "output_type": "stream",
     "text": [
      "Loss: 0.00021819612102135416\n",
      "Loss: 0.0002172844990465052\n"
     ]
    },
    {
     "name": "stdout",
     "output_type": "stream",
     "text": [
      "Loss: 0.00021638939914438485\n",
      "Loss: 0.0002156076271528136\n"
     ]
    },
    {
     "name": "stdout",
     "output_type": "stream",
     "text": [
      "Loss: 0.00021514108104167944\n",
      "Loss: 0.0002146254565984427\n"
     ]
    },
    {
     "name": "stdout",
     "output_type": "stream",
     "text": [
      "Loss: 0.00021397426839904352\n",
      "Loss: 0.00021322364825122534\n"
     ]
    },
    {
     "name": "stdout",
     "output_type": "stream",
     "text": [
      "Loss: 0.00021265034504958585\n",
      "Loss: 0.0002121268515498514\n"
     ]
    },
    {
     "name": "stdout",
     "output_type": "stream",
     "text": [
      "Loss: 0.0002115371902199745\n",
      "Loss: 0.00021062621037695305\n"
     ]
    },
    {
     "name": "stdout",
     "output_type": "stream",
     "text": [
      "Loss: 0.00020968742732782895\n",
      "Loss: 0.0002089025492343927\n"
     ]
    },
    {
     "name": "stdout",
     "output_type": "stream",
     "text": [
      "Loss: 0.00020771424725688604\n",
      "Loss: 0.00020684184506945962\n"
     ]
    },
    {
     "name": "stdout",
     "output_type": "stream",
     "text": [
      "Loss: 0.000206227267420529\n",
      "Loss: 0.00020565056145332005\n"
     ]
    },
    {
     "name": "stdout",
     "output_type": "stream",
     "text": [
      "Loss: 0.00020489634851409983\n",
      "Loss: 0.0002038519593139908\n"
     ]
    },
    {
     "name": "stdout",
     "output_type": "stream",
     "text": [
      "Loss: 0.00020291946152867365\n",
      "Loss: 0.0002020974286929706\n"
     ]
    },
    {
     "name": "stdout",
     "output_type": "stream",
     "text": [
      "Loss: 0.00020127937487805425\n",
      "Loss: 0.00020048626354135193\n"
     ]
    },
    {
     "name": "stdout",
     "output_type": "stream",
     "text": [
      "Loss: 0.0001996392660144228\n",
      "Loss: 0.0001990366734935705\n"
     ]
    },
    {
     "name": "stdout",
     "output_type": "stream",
     "text": [
      "Loss: 0.0001981845970664747\n",
      "Loss: 0.0001973759744919463\n"
     ]
    },
    {
     "name": "stdout",
     "output_type": "stream",
     "text": [
      "Loss: 0.00019679445515922587\n",
      "Loss: 0.00019635137483432557\n"
     ]
    },
    {
     "name": "stdout",
     "output_type": "stream",
     "text": [
      "Loss: 0.00019584960769708932\n",
      "Loss: 0.0001952621485231259\n"
     ]
    },
    {
     "name": "stdout",
     "output_type": "stream",
     "text": [
      "Loss: 0.00019438553622023427\n",
      "Loss: 0.0001934319070489082\n"
     ]
    },
    {
     "name": "stdout",
     "output_type": "stream",
     "text": [
      "Loss: 0.0001925107161954496\n",
      "Loss: 0.00019159320859261849\n"
     ]
    },
    {
     "name": "stdout",
     "output_type": "stream",
     "text": [
      "Loss: 0.00019099749036165684\n",
      "Loss: 0.00019042555908283846\n"
     ]
    },
    {
     "name": "stdout",
     "output_type": "stream",
     "text": [
      "Loss: 0.00018987365273841601\n"
     ]
    },
    {
     "name": "stdout",
     "output_type": "stream",
     "text": [
      "Loss: 0.00018924642880969325\n"
     ]
    },
    {
     "name": "stdout",
     "output_type": "stream",
     "text": [
      "Loss: 0.00018856893771163934\n",
      "Loss: 0.00018792851479244199\n"
     ]
    },
    {
     "name": "stdout",
     "output_type": "stream",
     "text": [
      "Loss: 0.00018722906268725536\n",
      "Loss: 0.00018656703754176132\n"
     ]
    },
    {
     "name": "stdout",
     "output_type": "stream",
     "text": [
      "Loss: 0.0001858709718006912\n",
      "Loss: 0.00018547591319549751\n"
     ]
    },
    {
     "name": "stdout",
     "output_type": "stream",
     "text": [
      "Loss: 0.00018499990844871717\n",
      "Loss: 0.00018424697425709535\n"
     ]
    },
    {
     "name": "stdout",
     "output_type": "stream",
     "text": [
      "Loss: 0.00018348797712394122\n",
      "Loss: 0.00018269738548067278\n"
     ]
    },
    {
     "name": "stdout",
     "output_type": "stream",
     "text": [
      "Loss: 0.00018188715365221765\n",
      "Loss: 0.0001810107073656219\n"
     ]
    },
    {
     "name": "stdout",
     "output_type": "stream",
     "text": [
      "Loss: 0.00018009938836793094\n",
      "Loss: 0.00017951905097693025\n"
     ]
    },
    {
     "name": "stdout",
     "output_type": "stream",
     "text": [
      "Loss: 0.00017870496015462393\n",
      "Loss: 0.00017800816337830539\n"
     ]
    },
    {
     "name": "stdout",
     "output_type": "stream",
     "text": [
      "Loss: 0.00017735825361888543\n",
      "Loss: 0.00017668268152419607\n"
     ]
    },
    {
     "name": "stdout",
     "output_type": "stream",
     "text": [
      "Loss: 0.00017614790325050006\n",
      "Loss: 0.0001755673305036676\n"
     ]
    },
    {
     "name": "stdout",
     "output_type": "stream",
     "text": [
      "Loss: 0.00017493534174990795\n",
      "Loss: 0.00017440039309736912\n"
     ]
    },
    {
     "name": "stdout",
     "output_type": "stream",
     "text": [
      "Loss: 0.00017377724411766644\n",
      "Loss: 0.00017332692940337692\n"
     ]
    },
    {
     "name": "stdout",
     "output_type": "stream",
     "text": [
      "Loss: 0.00017277329629390318\n",
      "Loss: 0.00017212011413015747\n"
     ]
    },
    {
     "name": "stdout",
     "output_type": "stream",
     "text": [
      "Loss: 0.00017159202754003943\n",
      "Loss: 0.00017097721176655918\n"
     ]
    },
    {
     "name": "stdout",
     "output_type": "stream",
     "text": [
      "Loss: 0.00017007889482325759\n",
      "Loss: 0.00016923784510378617\n"
     ]
    },
    {
     "name": "stdout",
     "output_type": "stream",
     "text": [
      "Loss: 0.00016854950279577958\n",
      "Loss: 0.00016777660127701826\n"
     ]
    },
    {
     "name": "stdout",
     "output_type": "stream",
     "text": [
      "Loss: 0.00016686357468786796\n",
      "Loss: 0.0001660023901337646\n"
     ]
    },
    {
     "name": "stdout",
     "output_type": "stream",
     "text": [
      "Loss: 0.0001650094898078739\n",
      "Loss: 0.00016419458958173618\n"
     ]
    },
    {
     "name": "stdout",
     "output_type": "stream",
     "text": [
      "Loss: 0.00016344408065314392\n",
      "Loss: 0.00016303328203938773\n"
     ]
    },
    {
     "name": "stdout",
     "output_type": "stream",
     "text": [
      "Loss: 0.0001624558949888249\n",
      "Loss: 0.00016192107201539442\n"
     ]
    },
    {
     "name": "stdout",
     "output_type": "stream",
     "text": [
      "Loss: 0.0001613767123830735\n",
      "Loss: 0.0001607436199464855\n"
     ]
    },
    {
     "name": "stdout",
     "output_type": "stream",
     "text": [
      "Loss: 0.0001601657962529903\n",
      "Loss: 0.00015972436104932927\n"
     ]
    },
    {
     "name": "stdout",
     "output_type": "stream",
     "text": [
      "Loss: 0.00015921044681343268\n"
     ]
    },
    {
     "name": "stdout",
     "output_type": "stream",
     "text": [
      "Loss: 0.000158502695683175\n",
      "Loss: 0.00015788556393740857\n"
     ]
    },
    {
     "name": "stdout",
     "output_type": "stream",
     "text": [
      "Loss: 0.00015731832987106\n",
      "Loss: 0.00015686715301603093\n"
     ]
    },
    {
     "name": "stdout",
     "output_type": "stream",
     "text": [
      "Loss: 0.00015637336222623508\n"
     ]
    },
    {
     "name": "stdout",
     "output_type": "stream",
     "text": [
      "Loss: 0.0001559785689935075\n",
      "Loss: 0.00015550422979017327\n"
     ]
    },
    {
     "name": "stdout",
     "output_type": "stream",
     "text": [
      "Loss: 0.0001550949017167736\n",
      "Loss: 0.0001546838901363552\n"
     ]
    },
    {
     "name": "stdout",
     "output_type": "stream",
     "text": [
      "Loss: 0.0001541421076274433\n",
      "Loss: 0.00015361204060698231\n"
     ]
    },
    {
     "name": "stdout",
     "output_type": "stream",
     "text": [
      "Loss: 0.00015309685532717971\n",
      "Loss: 0.0001523749290661402\n"
     ]
    },
    {
     "name": "stdout",
     "output_type": "stream",
     "text": [
      "Loss: 0.00015167551426846572\n",
      "Loss: 0.00015112253594557466\n"
     ]
    },
    {
     "name": "stdout",
     "output_type": "stream",
     "text": [
      "Loss: 0.0001505604762430878\n",
      "Loss: 0.00014992183935742134\n"
     ]
    },
    {
     "name": "stdout",
     "output_type": "stream",
     "text": [
      "Loss: 0.00014891281972522453\n",
      "Loss: 0.00014795293609597344\n"
     ]
    },
    {
     "name": "stdout",
     "output_type": "stream",
     "text": [
      "Loss: 0.00014677778296073664\n",
      "Loss: 0.00014595840338129062\n"
     ]
    },
    {
     "name": "stdout",
     "output_type": "stream",
     "text": [
      "Loss: 0.00014514837977976433\n",
      "Loss: 0.00014439331652094315\n"
     ]
    },
    {
     "name": "stdout",
     "output_type": "stream",
     "text": [
      "Loss: 0.00014372131769285662\n",
      "Loss: 0.00014319894159811763\n"
     ]
    },
    {
     "name": "stdout",
     "output_type": "stream",
     "text": [
      "Loss: 0.00014263749346319566\n",
      "Loss: 0.00014203571036931322\n"
     ]
    },
    {
     "name": "stdout",
     "output_type": "stream",
     "text": [
      "Loss: 0.0001412953975090144\n",
      "Loss: 0.00014049437429076663\n"
     ]
    },
    {
     "name": "stdout",
     "output_type": "stream",
     "text": [
      "Loss: 0.00013980351070722898\n",
      "Loss: 0.00013910920307787114\n"
     ]
    },
    {
     "name": "stdout",
     "output_type": "stream",
     "text": [
      "Loss: 0.00013875168494768088\n",
      "Loss: 0.00013836219166129518\n"
     ]
    },
    {
     "name": "stdout",
     "output_type": "stream",
     "text": [
      "Loss: 0.00013800266093257508\n",
      "Loss: 0.000137703803485508\n"
     ]
    },
    {
     "name": "stdout",
     "output_type": "stream",
     "text": [
      "Loss: 0.00013730261382743607\n",
      "Loss: 0.0001369074881048225\n"
     ]
    },
    {
     "name": "stdout",
     "output_type": "stream",
     "text": [
      "Loss: 0.0001365665356708067\n",
      "Loss: 0.00013623927898901312\n"
     ]
    },
    {
     "name": "stdout",
     "output_type": "stream",
     "text": [
      "Loss: 0.00013575517784059795\n"
     ]
    },
    {
     "name": "stdout",
     "output_type": "stream",
     "text": [
      "Loss: 0.0001352751458340266\n"
     ]
    },
    {
     "name": "stdout",
     "output_type": "stream",
     "text": [
      "Loss: 0.00013471805568183477\n"
     ]
    },
    {
     "name": "stdout",
     "output_type": "stream",
     "text": [
      "Loss: 0.0001341659994684028\n"
     ]
    },
    {
     "name": "stdout",
     "output_type": "stream",
     "text": [
      "Loss: 0.00013367229845735542\n"
     ]
    },
    {
     "name": "stdout",
     "output_type": "stream",
     "text": [
      "Loss: 0.00013304618859343715\n",
      "Loss: 0.00013229976686048375\n"
     ]
    },
    {
     "name": "stdout",
     "output_type": "stream",
     "text": [
      "Loss: 0.00013118666163955975\n",
      "Loss: 0.00013037412525363317\n"
     ]
    },
    {
     "name": "stdout",
     "output_type": "stream",
     "text": [
      "Loss: 0.0001297495232364914\n",
      "Loss: 0.000129182577612355\n"
     ]
    },
    {
     "name": "stdout",
     "output_type": "stream",
     "text": [
      "Loss: 0.00012857405570920456\n",
      "Loss: 0.00012811988037605377\n"
     ]
    },
    {
     "name": "stdout",
     "output_type": "stream",
     "text": [
      "Loss: 0.00012743332561057866\n",
      "Loss: 0.0001267571940902685\n"
     ]
    },
    {
     "name": "stdout",
     "output_type": "stream",
     "text": [
      "Loss: 0.00012598692589052774\n",
      "Loss: 0.0001253508377582421\n"
     ]
    },
    {
     "name": "stdout",
     "output_type": "stream",
     "text": [
      "Loss: 0.00012469025995978612\n",
      "Loss: 0.00012368620722178836\n"
     ]
    },
    {
     "name": "stdout",
     "output_type": "stream",
     "text": [
      "Loss: 0.00012257524058478043\n",
      "Loss: 0.00012172351844612402\n"
     ]
    },
    {
     "name": "stdout",
     "output_type": "stream",
     "text": [
      "Loss: 0.00012087949822527121\n",
      "Loss: 0.00012036103093313487\n"
     ]
    },
    {
     "name": "stdout",
     "output_type": "stream",
     "text": [
      "Loss: 0.00011981461461774937\n",
      "Loss: 0.00011926946060267396\n"
     ]
    },
    {
     "name": "stdout",
     "output_type": "stream",
     "text": [
      "Loss: 0.00011879924663532241\n",
      "Loss: 0.00011843141628353537\n"
     ]
    },
    {
     "name": "stdout",
     "output_type": "stream",
     "text": [
      "Loss: 0.0001180293204447499\n",
      "Loss: 0.00011764178687704396\n"
     ]
    },
    {
     "name": "stdout",
     "output_type": "stream",
     "text": [
      "Loss: 0.00011733848505989742\n"
     ]
    },
    {
     "name": "stdout",
     "output_type": "stream",
     "text": [
      "Loss: 0.00011682194648551484\n",
      "Loss: 0.0001162811909429556\n"
     ]
    },
    {
     "name": "stdout",
     "output_type": "stream",
     "text": [
      "Loss: 0.00011579925124806893\n",
      "Loss: 0.00011522870538956316\n"
     ]
    },
    {
     "name": "stdout",
     "output_type": "stream",
     "text": [
      "Loss: 0.00011480894029383536\n",
      "Loss: 0.00011425487329826253\n"
     ]
    },
    {
     "name": "stdout",
     "output_type": "stream",
     "text": [
      "Loss: 0.00011380921151804518\n",
      "Loss: 0.00011344613451141016\n"
     ]
    },
    {
     "name": "stdout",
     "output_type": "stream",
     "text": [
      "Loss: 0.00011303436445460331\n",
      "Loss: 0.00011261779715668006\n"
     ]
    },
    {
     "name": "stdout",
     "output_type": "stream",
     "text": [
      "Loss: 0.00011226479093285222\n",
      "Loss: 0.00011175387778039184\n"
     ]
    },
    {
     "name": "stdout",
     "output_type": "stream",
     "text": [
      "Loss: 0.00011122456283418103\n",
      "Loss: 0.00011058260169454417\n"
     ]
    },
    {
     "name": "stdout",
     "output_type": "stream",
     "text": [
      "Loss: 0.0001101397338554248\n",
      "Loss: 0.00010956653679333587\n"
     ]
    },
    {
     "name": "stdout",
     "output_type": "stream",
     "text": [
      "Loss: 0.00010900564562746107\n",
      "Loss: 0.00010825367779667063\n"
     ]
    },
    {
     "name": "stdout",
     "output_type": "stream",
     "text": [
      "Loss: 0.00010755388961566311\n",
      "Loss: 0.00010686126501704774\n"
     ]
    },
    {
     "name": "stdout",
     "output_type": "stream",
     "text": [
      "Loss: 0.00010630402394526125\n",
      "Loss: 0.0001058003767954894\n"
     ]
    },
    {
     "name": "stdout",
     "output_type": "stream",
     "text": [
      "Loss: 0.00010536489181392473\n",
      "Loss: 0.00010498034640124383\n"
     ]
    },
    {
     "name": "stdout",
     "output_type": "stream",
     "text": [
      "Loss: 0.0001045049247633097\n",
      "Loss: 0.00010415735491526257\n"
     ]
    },
    {
     "name": "stdout",
     "output_type": "stream",
     "text": [
      "Loss: 0.0001037842231344377\n",
      "Loss: 0.00010348948096332072\n"
     ]
    },
    {
     "name": "stdout",
     "output_type": "stream",
     "text": [
      "Loss: 0.00010304470103484305\n",
      "Loss: 0.00010258216296504948\n"
     ]
    },
    {
     "name": "stdout",
     "output_type": "stream",
     "text": [
      "Loss: 0.00010197787204348558\n",
      "Loss: 0.0001014365706667216\n"
     ]
    },
    {
     "name": "stdout",
     "output_type": "stream",
     "text": [
      "Loss: 0.000100844545951951\n",
      "Loss: 0.00010038079932269687\n"
     ]
    },
    {
     "name": "stdout",
     "output_type": "stream",
     "text": [
      "Loss: 9.98057542607205e-5\n",
      "Loss: 9.917417042191948e-5\n"
     ]
    },
    {
     "name": "stdout",
     "output_type": "stream",
     "text": [
      "Loss: 9.85964576342299e-5\n",
      "Loss: 9.808937834602411e-5\n"
     ]
    },
    {
     "name": "stdout",
     "output_type": "stream",
     "text": [
      "Loss: 9.75911648316739e-5\n"
     ]
    },
    {
     "name": "stdout",
     "output_type": "stream",
     "text": [
      "Loss: 9.702779710225827e-5\n",
      "Loss: 9.652028231891768e-5\n"
     ]
    },
    {
     "name": "stdout",
     "output_type": "stream",
     "text": [
      "Loss: 9.608993968807153e-5\n",
      "Loss: 9.578270444009816e-5\n"
     ]
    },
    {
     "name": "stdout",
     "output_type": "stream",
     "text": [
      "Loss: 9.554950560301906e-5\n",
      "Loss: 9.5306194733127e-5\n"
     ]
    },
    {
     "name": "stdout",
     "output_type": "stream",
     "text": [
      "Loss: 9.503038195105403e-5\n",
      "Loss: 9.477804293260855e-5\n"
     ]
    },
    {
     "name": "stdout",
     "output_type": "stream",
     "text": [
      "Loss: 9.446276793710901e-5\n",
      "Loss: 9.424453566015213e-5\n"
     ]
    },
    {
     "name": "stdout",
     "output_type": "stream",
     "text": [
      "Loss: 9.395875610538292e-5\n",
      "Loss: 9.368445002236531e-5\n"
     ]
    },
    {
     "name": "stdout",
     "output_type": "stream",
     "text": [
      "Loss: 9.330110035910618e-5\n"
     ]
    },
    {
     "name": "stdout",
     "output_type": "stream",
     "text": [
      "Loss: 9.292087082993193e-5\n"
     ]
    },
    {
     "name": "stdout",
     "output_type": "stream",
     "text": [
      "Loss: 9.25087125404207e-5\n",
      "Loss: 9.208096851723188e-5\n"
     ]
    },
    {
     "name": "stdout",
     "output_type": "stream",
     "text": [
      "Loss: 9.17373445531684e-5\n",
      "Loss: 9.136147595470231e-5\n"
     ]
    },
    {
     "name": "stdout",
     "output_type": "stream",
     "text": [
      "Loss: 9.110058229352937e-5\n",
      "Loss: 9.079784378911588e-5\n"
     ]
    },
    {
     "name": "stdout",
     "output_type": "stream",
     "text": [
      "Loss: 9.051335856404843e-5\n",
      "Loss: 9.024096245597923e-5\n"
     ]
    },
    {
     "name": "stdout",
     "output_type": "stream",
     "text": [
      "Loss: 8.992711054439784e-5\n"
     ]
    },
    {
     "name": "stdout",
     "output_type": "stream",
     "text": [
      "Loss: 8.959251338788648e-5\n"
     ]
    },
    {
     "name": "stdout",
     "output_type": "stream",
     "text": [
      "Loss: 8.932209698195924e-5\n"
     ]
    },
    {
     "name": "stdout",
     "output_type": "stream",
     "text": [
      "Loss: 8.887729037415713e-5\n"
     ]
    },
    {
     "name": "stdout",
     "output_type": "stream",
     "text": [
      "Loss: 8.83570564482607e-5\n",
      "Loss: 8.771183257719111e-5\n"
     ]
    },
    {
     "name": "stdout",
     "output_type": "stream",
     "text": [
      "Loss: 8.717741441205497e-5\n",
      "Loss: 8.672254650204667e-5\n"
     ]
    },
    {
     "name": "stdout",
     "output_type": "stream",
     "text": [
      "Loss: 8.638988752847281e-5\n",
      "Loss: 8.588178882937476e-5\n"
     ]
    },
    {
     "name": "stdout",
     "output_type": "stream",
     "text": [
      "Loss: 8.535080141130424e-5\n",
      "Loss: 8.476918014234589e-5\n"
     ]
    },
    {
     "name": "stdout",
     "output_type": "stream",
     "text": [
      "Loss: 8.437652698632608e-5\n",
      "Loss: 8.393545209791226e-5\n"
     ]
    },
    {
     "name": "stdout",
     "output_type": "stream",
     "text": [
      "Loss: 8.348803688177449e-5\n",
      "Loss: 8.326822648609323e-5\n"
     ]
    },
    {
     "name": "stdout",
     "output_type": "stream",
     "text": [
      "Loss: 8.304675263772217e-5\n"
     ]
    },
    {
     "name": "stdout",
     "output_type": "stream",
     "text": [
      "Loss: 8.276947722622901e-5\n",
      "Loss: 8.248845415278865e-5\n"
     ]
    },
    {
     "name": "stdout",
     "output_type": "stream",
     "text": [
      "Loss: 8.217772706656647e-5\n",
      "Loss: 8.188388071019365e-5\n"
     ]
    },
    {
     "name": "stdout",
     "output_type": "stream",
     "text": [
      "Loss: 8.164673772596522e-5\n",
      "Loss: 8.140374673541086e-5\n"
     ]
    },
    {
     "name": "stdout",
     "output_type": "stream",
     "text": [
      "Loss: 8.113429289804531e-5\n"
     ]
    },
    {
     "name": "stdout",
     "output_type": "stream",
     "text": [
      "Loss: 8.076052348421682e-5\n",
      "Loss: 8.036361814587245e-5\n"
     ]
    },
    {
     "name": "stdout",
     "output_type": "stream",
     "text": [
      "Loss: 7.997064038288243e-5\n",
      "Loss: 7.963761343362038e-5\n"
     ]
    },
    {
     "name": "stdout",
     "output_type": "stream",
     "text": [
      "Loss: 7.928066611400872e-5\n",
      "Loss: 7.894882388499089e-5\n"
     ]
    },
    {
     "name": "stdout",
     "output_type": "stream",
     "text": [
      "Loss: 7.863227683436696e-5\n",
      "Loss: 7.832171877701777e-5\n"
     ]
    },
    {
     "name": "stdout",
     "output_type": "stream",
     "text": [
      "Loss: 7.797898627021977e-5\n",
      "Loss: 7.769242898812908e-5\n"
     ]
    },
    {
     "name": "stdout",
     "output_type": "stream",
     "text": [
      "Loss: 7.748406061990721e-5\n"
     ]
    },
    {
     "name": "stdout",
     "output_type": "stream",
     "text": [
      "Loss: 7.722250964751249e-5\n"
     ]
    },
    {
     "name": "stdout",
     "output_type": "stream",
     "text": [
      "Loss: 7.682068121101071e-5\n"
     ]
    },
    {
     "name": "stdout",
     "output_type": "stream",
     "text": [
      "Loss: 7.63772739784851e-5\n",
      "Loss: 7.603584844794183e-5\n"
     ]
    },
    {
     "name": "stdout",
     "output_type": "stream",
     "text": [
      "Loss: 7.578501913209278e-5\n",
      "Loss: 7.552462429162616e-5\n"
     ]
    },
    {
     "name": "stdout",
     "output_type": "stream",
     "text": [
      "Loss: 7.529432729232326e-5\n",
      "Loss: 7.499229796031135e-5\n"
     ]
    },
    {
     "name": "stdout",
     "output_type": "stream",
     "text": [
      "Loss: 7.459948828508014e-5\n",
      "Loss: 7.406412771145583e-5\n"
     ]
    },
    {
     "name": "stdout",
     "output_type": "stream",
     "text": [
      "Loss: 7.336245200681327e-5\n",
      "Loss: 7.288896389280137e-5\n"
     ]
    },
    {
     "name": "stdout",
     "output_type": "stream",
     "text": [
      "Loss: 7.258252083662238e-5\n",
      "Loss: 7.236128855768939e-5\n"
     ]
    },
    {
     "name": "stdout",
     "output_type": "stream",
     "text": [
      "Loss: 7.217569374482769e-5\n"
     ]
    },
    {
     "name": "stdout",
     "output_type": "stream",
     "text": [
      "Loss: 7.200984745583296e-5\n",
      "Loss: 7.184126252600077e-5\n"
     ]
    },
    {
     "name": "stdout",
     "output_type": "stream",
     "text": [
      "Loss: 7.164404745640569e-5\n"
     ]
    },
    {
     "name": "stdout",
     "output_type": "stream",
     "text": [
      "Loss: 7.142010308299741e-5\n",
      "Loss: 7.12302099355771e-5\n"
     ]
    },
    {
     "name": "stdout",
     "output_type": "stream",
     "text": [
      "Loss: 7.102064585954732e-5\n"
     ]
    },
    {
     "name": "stdout",
     "output_type": "stream",
     "text": [
      "Loss: 7.075384178439945e-5\n"
     ]
    },
    {
     "name": "stdout",
     "output_type": "stream",
     "text": [
      "Loss: 7.046303427676313e-5\n",
      "Loss: 7.025286195302937e-5\n"
     ]
    },
    {
     "name": "stdout",
     "output_type": "stream",
     "text": [
      "Loss: 7.002675196990192e-5\n"
     ]
    },
    {
     "name": "stdout",
     "output_type": "stream",
     "text": [
      "Loss: 6.984575571375701e-5\n",
      "Loss: 6.961615046770789e-5\n"
     ]
    },
    {
     "name": "stdout",
     "output_type": "stream",
     "text": [
      "Loss: 6.936037659068885e-5\n",
      "Loss: 6.909262517100591e-5\n"
     ]
    },
    {
     "name": "stdout",
     "output_type": "stream",
     "text": [
      "Loss: 6.88244179460874e-5\n",
      "Loss: 6.852338002834898e-5\n"
     ]
    },
    {
     "name": "stdout",
     "output_type": "stream",
     "text": [
      "Loss: 6.831500210282158e-5\n",
      "Loss: 6.806169115831017e-5\n"
     ]
    },
    {
     "name": "stdout",
     "output_type": "stream",
     "text": [
      "Loss: 6.780721461049455e-5\n",
      "Loss: 6.755805281035908e-5\n"
     ]
    },
    {
     "name": "stdout",
     "output_type": "stream",
     "text": [
      "Loss: 6.730193881840034e-5\n",
      "Loss: 6.706299195300796e-5\n"
     ]
    },
    {
     "name": "stdout",
     "output_type": "stream",
     "text": [
      "Loss: 6.67950242410265e-5\n",
      "Loss: 6.646923502494675e-5\n"
     ]
    },
    {
     "name": "stdout",
     "output_type": "stream",
     "text": [
      "Loss: 6.611516202095507e-5\n",
      "Loss: 6.593208849151017e-5\n"
     ]
    },
    {
     "name": "stdout",
     "output_type": "stream",
     "text": [
      "Loss: 6.569601500988993e-5\n",
      "Loss: 6.553338177708882e-5\n"
     ]
    },
    {
     "name": "stdout",
     "output_type": "stream",
     "text": [
      "Loss: 6.54178557976663e-5\n",
      "Loss: 6.531377148018977e-5\n"
     ]
    },
    {
     "name": "stdout",
     "output_type": "stream",
     "text": [
      "Loss: 6.516550691085154e-5\n",
      "Loss: 6.4961402075861e-5\n"
     ]
    },
    {
     "name": "stdout",
     "output_type": "stream",
     "text": [
      "Loss: 6.479037342648736e-5\n",
      "Loss: 6.458194086197458e-5\n"
     ]
    },
    {
     "name": "stdout",
     "output_type": "stream",
     "text": [
      "Loss: 6.436068597090488e-5\n",
      "Loss: 6.414736796794083e-5\n"
     ]
    },
    {
     "name": "stdout",
     "output_type": "stream",
     "text": [
      "Loss: 6.393401611810868e-5\n",
      "Loss: 6.38250747186719e-5\n"
     ]
    },
    {
     "name": "stdout",
     "output_type": "stream",
     "text": [
      "Loss: 6.372900831744604e-5\n",
      "Loss: 6.363039456635412e-5\n"
     ]
    },
    {
     "name": "stdout",
     "output_type": "stream",
     "text": [
      "Loss: 6.351216893908743e-5\n",
      "Loss: 6.338617776045088e-5\n"
     ]
    },
    {
     "name": "stdout",
     "output_type": "stream",
     "text": [
      "Loss: 6.327034608264099e-5\n",
      "Loss: 6.314204436883567e-5\n"
     ]
    },
    {
     "name": "stdout",
     "output_type": "stream",
     "text": [
      "Loss: 6.300587347730681e-5\n",
      "Loss: 6.287034803133398e-5\n"
     ]
    },
    {
     "name": "stdout",
     "output_type": "stream",
     "text": [
      "Loss: 6.274207560558809e-5\n",
      "Loss: 6.258416196897913e-5\n"
     ]
    },
    {
     "name": "stdout",
     "output_type": "stream",
     "text": [
      "Loss: 6.243400231486943e-5\n",
      "Loss: 6.225809382353977e-5\n"
     ]
    },
    {
     "name": "stdout",
     "output_type": "stream",
     "text": [
      "Loss: 6.209318259801332e-5\n",
      "Loss: 6.186095606848624e-5\n"
     ]
    },
    {
     "name": "stdout",
     "output_type": "stream",
     "text": [
      "Loss: 6.158127901036739e-5\n",
      "Loss: 6.129747961916104e-5\n"
     ]
    },
    {
     "name": "stdout",
     "output_type": "stream",
     "text": [
      "Loss: 6.098766117619808e-5\n",
      "Loss: 6.065074536537119e-5\n"
     ]
    },
    {
     "name": "stdout",
     "output_type": "stream",
     "text": [
      "Loss: 6.044055920971663e-5\n",
      "Loss: 6.02628944589577e-5\n"
     ]
    },
    {
     "name": "stdout",
     "output_type": "stream",
     "text": [
      "Loss: 6.008405528393191e-5\n",
      "Loss: 5.9933170649470734e-5\n"
     ]
    },
    {
     "name": "stdout",
     "output_type": "stream",
     "text": [
      "Loss: 5.9804735518940335e-5\n",
      "Loss: 5.9686001228181643e-5\n"
     ]
    },
    {
     "name": "stdout",
     "output_type": "stream",
     "text": [
      "Loss: 5.953215153479998e-5\n",
      "Loss: 5.938812385399883e-5\n"
     ]
    },
    {
     "name": "stdout",
     "output_type": "stream",
     "text": [
      "Loss: 5.923744529296563e-5\n",
      "Loss: 5.9099497858742924e-5\n"
     ]
    },
    {
     "name": "stdout",
     "output_type": "stream",
     "text": [
      "Loss: 5.890890587151167e-5\n",
      "Loss: 5.869421253597931e-5\n"
     ]
    },
    {
     "name": "stdout",
     "output_type": "stream",
     "text": [
      "Loss: 5.8523069903612496e-5\n",
      "Loss: 5.8384733648955994e-5\n"
     ]
    },
    {
     "name": "stdout",
     "output_type": "stream",
     "text": [
      "Loss: 5.827261619230183e-5\n",
      "Loss: 5.818255873071979e-5\n"
     ]
    },
    {
     "name": "stdout",
     "output_type": "stream",
     "text": [
      "Loss: 5.8082332869227154e-5\n",
      "Loss: 5.790923115424775e-5\n"
     ]
    },
    {
     "name": "stdout",
     "output_type": "stream",
     "text": [
      "Loss: 5.7733546994000676e-5\n"
     ]
    },
    {
     "name": "stdout",
     "output_type": "stream",
     "text": [
      "Loss: 5.756874227619538e-5\n"
     ]
    },
    {
     "name": "stdout",
     "output_type": "stream",
     "text": [
      "Loss: 5.7401223555107756e-5\n",
      "Loss: 5.7302739427696394e-5\n"
     ]
    },
    {
     "name": "stdout",
     "output_type": "stream",
     "text": [
      "Loss: 5.7156284697680835e-5\n",
      "Loss: 5.7014454494706715e-5\n"
     ]
    },
    {
     "name": "stdout",
     "output_type": "stream",
     "text": [
      "Loss: 5.6892453975250685e-5\n",
      "Loss: 5.679671743713713e-5\n"
     ]
    },
    {
     "name": "stdout",
     "output_type": "stream",
     "text": [
      "Loss: 5.6685470251200396e-5\n",
      "Loss: 5.658364005811988e-5\n"
     ]
    },
    {
     "name": "stdout",
     "output_type": "stream",
     "text": [
      "Loss: 5.64469603084904e-5\n",
      "Loss: 5.629053159680229e-5\n"
     ]
    },
    {
     "name": "stdout",
     "output_type": "stream",
     "text": [
      "Loss: 5.610332910155092e-5\n",
      "Loss: 5.592780158482721e-5\n"
     ]
    },
    {
     "name": "stdout",
     "output_type": "stream",
     "text": [
      "Loss: 5.57856136170381e-5\n",
      "Loss: 5.564958773821674e-5\n"
     ]
    },
    {
     "name": "stdout",
     "output_type": "stream",
     "text": [
      "Loss: 5.552053121106876e-5\n",
      "Loss: 5.537251323357103e-5\n"
     ]
    },
    {
     "name": "stdout",
     "output_type": "stream",
     "text": [
      "Loss: 5.518816631177764e-5\n"
     ]
    },
    {
     "name": "stdout",
     "output_type": "stream",
     "text": [
      "Loss: 5.506267419590639e-5\n",
      "Loss: 5.495993633825918e-5\n"
     ]
    },
    {
     "name": "stdout",
     "output_type": "stream",
     "text": [
      "Loss: 5.4839533834912346e-5\n",
      "Loss: 5.4719645950631596e-5\n"
     ]
    },
    {
     "name": "stdout",
     "output_type": "stream",
     "text": [
      "Loss: 5.460497787000244e-5\n"
     ]
    },
    {
     "name": "stdout",
     "output_type": "stream",
     "text": [
      "Loss: 5.4513881430089295e-5\n",
      "Loss: 5.443658522267171e-5\n"
     ]
    },
    {
     "name": "stdout",
     "output_type": "stream",
     "text": [
      "Loss: 5.432137675915034e-5\n"
     ]
    },
    {
     "name": "stdout",
     "output_type": "stream",
     "text": [
      "Loss: 5.420292980801524e-5\n",
      "Loss: 5.409363260696892e-5\n"
     ]
    },
    {
     "name": "stdout",
     "output_type": "stream",
     "text": [
      "Loss: 5.394320700819694e-5\n"
     ]
    },
    {
     "name": "stdout",
     "output_type": "stream",
     "text": [
      "Loss: 5.382458297957162e-5\n"
     ]
    },
    {
     "name": "stdout",
     "output_type": "stream",
     "text": [
      "Loss: 5.3679941800995954e-5\n"
     ]
    },
    {
     "name": "stdout",
     "output_type": "stream",
     "text": [
      "Loss: 5.351102197160876e-5\n"
     ]
    },
    {
     "name": "stdout",
     "output_type": "stream",
     "text": [
      "Loss: 5.334757776891188e-5\n",
      "Loss: 5.324726836632964e-5\n"
     ]
    },
    {
     "name": "stdout",
     "output_type": "stream",
     "text": [
      "Loss: 5.315285444784487e-5\n",
      "Loss: 5.306151424898426e-5\n"
     ]
    },
    {
     "name": "stdout",
     "output_type": "stream",
     "text": [
      "Loss: 5.293964567897294e-5\n"
     ]
    },
    {
     "name": "stdout",
     "output_type": "stream",
     "text": [
      "Loss: 5.27941818989162e-5\n",
      "Loss: 5.2616279250231966e-5\n"
     ]
    },
    {
     "name": "stdout",
     "output_type": "stream",
     "text": [
      "Loss: 5.239409743701611e-5\n",
      "Loss: 5.210542609647178e-5\n"
     ]
    },
    {
     "name": "stdout",
     "output_type": "stream",
     "text": [
      "Loss: 5.18138992664453e-5\n",
      "Loss: 5.1555491012959936e-5\n"
     ]
    },
    {
     "name": "stdout",
     "output_type": "stream",
     "text": [
      "Loss: 5.136580739407847e-5\n",
      "Loss: 5.125379141536646e-5\n"
     ]
    },
    {
     "name": "stdout",
     "output_type": "stream",
     "text": [
      "Loss: 5.1142280729016957e-5\n",
      "Loss: 5.103289018202866e-5\n"
     ]
    },
    {
     "name": "stdout",
     "output_type": "stream",
     "text": [
      "Loss: 5.092951559088446e-5\n",
      "Loss: 5.081375380098278e-5\n"
     ]
    },
    {
     "name": "stdout",
     "output_type": "stream",
     "text": [
      "Loss: 5.0661081768731436e-5\n",
      "Loss: 5.053537646675842e-5\n"
     ]
    },
    {
     "name": "stdout",
     "output_type": "stream",
     "text": [
      "Loss: 5.03704253674563e-5\n",
      "Loss: 5.017305567982235e-5\n"
     ]
    },
    {
     "name": "stdout",
     "output_type": "stream",
     "text": [
      "Loss: 4.996927058695936e-5\n",
      "Loss: 4.9820077465767166e-5\n"
     ]
    },
    {
     "name": "stdout",
     "output_type": "stream",
     "text": [
      "Loss: 4.968395586793488e-5\n",
      "Loss: 4.956018192106376e-5\n"
     ]
    },
    {
     "name": "stdout",
     "output_type": "stream",
     "text": [
      "Loss: 4.9471528625555365e-5\n",
      "Loss: 4.939385099123784e-5\n"
     ]
    },
    {
     "name": "stdout",
     "output_type": "stream",
     "text": [
      "Loss: 4.9310528017979485e-5\n",
      "Loss: 4.917473554221896e-5\n"
     ]
    },
    {
     "name": "stdout",
     "output_type": "stream",
     "text": [
      "Loss: 4.9010924580805614e-5\n",
      "Loss: 4.8813233841447604e-5\n"
     ]
    },
    {
     "name": "stdout",
     "output_type": "stream",
     "text": [
      "Loss: 4.8673938487442205e-5\n",
      "Loss: 4.851075332837803e-5\n"
     ]
    },
    {
     "name": "stdout",
     "output_type": "stream",
     "text": [
      "Loss: 4.837845673723204e-5\n",
      "Loss: 4.81962333522431e-5\n"
     ]
    },
    {
     "name": "stdout",
     "output_type": "stream",
     "text": [
      "Loss: 4.804559154008549e-5\n",
      "Loss: 4.7954022241024074e-5\n"
     ]
    },
    {
     "name": "stdout",
     "output_type": "stream",
     "text": [
      "Loss: 4.787028795487737e-5\n",
      "Loss: 4.778588892270978e-5\n"
     ]
    },
    {
     "name": "stdout",
     "output_type": "stream",
     "text": [
      "Loss: 4.769796508015714e-5\n",
      "Loss: 4.759092099608517e-5\n"
     ]
    },
    {
     "name": "stdout",
     "output_type": "stream",
     "text": [
      "Loss: 4.7482178114038604e-5\n",
      "Loss: 4.738196830357604e-5\n"
     ]
    },
    {
     "name": "stdout",
     "output_type": "stream",
     "text": [
      "Loss: 4.728978152424842e-5\n",
      "Loss: 4.71945831698411e-5\n"
     ]
    },
    {
     "name": "stdout",
     "output_type": "stream",
     "text": [
      "Loss: 4.7055107603308956e-5\n",
      "Loss: 4.6937581687969386e-5\n"
     ]
    },
    {
     "name": "stdout",
     "output_type": "stream",
     "text": [
      "Loss: 4.6806820854644536e-5\n"
     ]
    },
    {
     "name": "stdout",
     "output_type": "stream",
     "text": [
      "Loss: 4.666192838864789e-5\n",
      "Loss: 4.6482980000520126e-5\n"
     ]
    },
    {
     "name": "stdout",
     "output_type": "stream",
     "text": [
      "Loss: 4.628389668089131e-5\n",
      "Loss: 4.610486934766615e-5\n"
     ]
    },
    {
     "name": "stdout",
     "output_type": "stream",
     "text": [
      "Loss: 4.5958941089664546e-5\n",
      "Loss: 4.584405451745442e-5\n"
     ]
    },
    {
     "name": "stdout",
     "output_type": "stream",
     "text": [
      "Loss: 4.573126846617343e-5\n",
      "Loss: 4.5634859301541995e-5\n"
     ]
    },
    {
     "name": "stdout",
     "output_type": "stream",
     "text": [
      "Loss: 4.555899953478537e-5\n",
      "Loss: 4.547529009100863e-5\n"
     ]
    },
    {
     "data": {
      "text/plain": [
       "u: \u001b[0mComponentVector{Float64}(layer_1 = (weight = [-0.3920962166837483 1.1466185473168917; -0.5805204933627477 -0.5081644557863346; … ; -0.2129372845719186 0.2688367788577435; 0.101253302272483 -0.4944215042893333], bias = [0.0012594882309967376; 0.5077957902783458; … ; -0.18944686234754943; 0.16238944130687477;;]), layer_2 = (weight = [-0.20882874832938297 -0.6199648884051133 … 0.499498072162254 0.6747305103724787; 0.04656255732054681 0.20845329994880102 … -0.45271253307295567 -0.11063708429092169; … ; 0.23427004594189102 -0.29312445035227586 … 0.41404961754247255 0.5296444699543822; 0.4976545147514165 -0.31311255613524774 … -0.30527450881522755 0.6654748724843782], bias = [-0.2475826153424511; 0.3872647530512512; … ; 0.20622105939937424; -0.11941398516548905;;]), layer_3 = (weight = [-0.2151663399370082 0.5132211581459004 … 0.4549407978051786 -0.07513474475628626; 0.428298747375856 0.05979512420106661 … 0.212087973814861 0.42010563420663755; … ; 0.13332431630248867 -0.20891496366001874 … -0.6268185234702918 0.11785725629631935; 0.6599207996695479 0.6402562618217844 … 0.7192230922212486 0.19925432180831643], bias = [0.19695410935932595; -0.07634548777050232; … ; -0.37215079992589006; -0.1032152184419442;;]), layer_4 = (weight = [0.4097468695938418 -0.17159289740506484 … 1.057246863434064 -0.21157675600453352; 0.04784118494724982 -0.15101417041290632 … -0.3026790781809851 0.01477674904080934; … ; -0.6162306185428797 -0.2355773831238938 … -0.07667499334001263 -0.5828793381894025; -0.16743466100262389 -0.9368312496092119 … 0.0030988258889176256 -0.11399010807043035], bias = [0.19352866118645884; 0.13697398760984966; … ; 0.31863251440313495; 0.05476369688014285;;]), layer_5 = (weight = [-0.9585157564674638 -0.4718446467776724 … 0.07882456869860881 1.1730558382664695; -0.04238583200324689 -0.2725348881225787 … 0.031194476692344864 -0.11960184825033611; … ; -0.4101540601992307 -0.060262936625334614 … -0.5753269267715098 -0.9015032513462246; -0.34382221946734387 0.008741339760241716 … -0.9508463729621753 -0.33515738009349705], bias = [-0.22102067927492244; -0.1892619221132015; … ; 0.05333311901928958; 0.022094387660578817;;]), layer_6 = (weight = [-0.06938681908399662 -0.3913323421829936 … 0.7654907692905986 0.35482834647483685], bias = [-0.23758121082851932;;]))"
      ]
     },
     "metadata": {},
     "output_type": "display_data"
    }
   ],
   "source": [
    "function callback(p, l)\n",
    "    println(\"Loss: $l\")\n",
    "    return false\n",
    "end\n",
    "\n",
    "res = Optimization.solve(prob, BFGS(); maxiters=1000, callback=callback)"
   ]
  },
  {
   "cell_type": "code",
   "execution_count": 10,
   "metadata": {},
   "outputs": [
    {
     "data": {
      "image/png": "[encoded data removed]"
     },
     "metadata": {},
     "output_type": "display_data"
    }
   ],
   "source": [
    "using CairoMakie, MakiePublication\n",
    "\n",
    "phi = pinn.phi\n",
    "xs, ts = [infimum(d.domain):0.01:supremum(d.domain) for d in KdV.domain]\n",
    "axis = (xlabel=L\"t\", ylabel=L\"x\", title=\"Prediction\")\n",
    "u_pred = [sum(pinn.phi([x, t], res.u)) for x in xs, t in ts]\n",
    "heatmap(ts, xs, u_pred, axis=axis, colormap=:jet)"
   ]
  },
  {
   "cell_type": "code",
   "execution_count": 11,
   "metadata": {},
   "outputs": [
    {
     "data": {
      "image/png": "[encoded data removed]"
     },
     "metadata": {},
     "output_type": "display_data"
    },
    {
     "data": {
      "image/png": "[encoded data removed]"
     },
     "metadata": {},
     "output_type": "display_data"
    },
    {
     "data": {
      "image/png": "[encoded data removed]"
     },
     "metadata": {},
     "output_type": "display_data"
    },
    {
     "data": {
      "image/png": "[encoded data removed]"
     },
     "metadata": {},
     "output_type": "display_data"
    },
    {
     "data": {
      "image/png": "[encoded data removed]"
     },
     "metadata": {},
     "output_type": "display_data"
    },
    {
     "data": {
      "image/png": "[encoded data removed]"
     },
     "metadata": {},
     "output_type": "display_data"
    }
   ],
   "source": [
    "for α in [0.6, 0.8, 1.0] \n",
    "    sampler = remake(sampler; α=α)\n",
    "    data = Sophon.sample(KdV, sampler)\n",
    "    prob = remake(prob; p=data, u0=res.u)\n",
    "    res = Optimization.solve(prob, BFGS(); maxiters=1000)\n",
    "\n",
    "    u_pred = [sum(pinn.phi([x, t], res.u)) for x in xs, t in ts]\n",
    "    fig, ax, hm = heatmap(ts, xs, u_pred, axis=axis, colormap=:jet)\n",
    "    display(fig)\n",
    "\n",
    "    fig2 = lines(vec(xs),vec([sum(pinn.phi([x, 1.0], res.u)) for x in xs]))\n",
    "    display(fig2)\n",
    "end\n"
   ]
  },
  {
   "cell_type": "code",
   "execution_count": null,
   "metadata": {},
   "outputs": [],
   "source": [
    "res.objective"
   ]
  }
 ],
 "metadata": {
  "kernelspec": {
   "display_name": "Julia 1.9.0",
   "language": "julia",
   "name": "julia-1.9"
  },
  "language_info": {
   "file_extension": ".jl",
   "mimetype": "application/julia",
   "name": "julia",
   "version": "1.9.0"
  },
  "orig_nbformat": 4
 },
 "nbformat": 4,
 "nbformat_minor": 2
}
