{
 "cells": [
  {
   "cell_type": "code",
   "execution_count": 12,
   "metadata": {},
   "outputs": [
    {
     "data": {
      "text/latex": [
       "$$ \\begin{align}\n",
       "\\frac{\\mathrm{d}}{\\mathrm{d}t} u\\left( t, x \\right) =& \\frac{\\mathrm{d}}{\\mathrm{d}x} \\frac{\\mathrm{d}}{\\mathrm{d}x} \\left(  - 0.02 \\frac{\\mathrm{d}}{\\mathrm{d}x} \\frac{\\mathrm{d}}{\\mathrm{d}x} u\\left( t, x \\right) - u\\left( t, x \\right) + \\left( u\\left( t, x \\right) \\right)^{3} \\right)\n",
       "\\end{align}\n",
       " $$"
      ],
      "text/plain": [
       "PDESystem\n",
       "Equations: Equation[Differential(t)(u(t, x)) ~ Differential(x)(Differential(x)(u(t, x)^3 - 0.02Differential(x)(Differential(x)(u(t, x))) - u(t, x)))]\n",
       "Boundary Conditions: Equation[u(0, x) ~ cospi(x) - exp(-39.47841760435743abs2(x)), u(t, -1.0) ~ u(t, 1.0), Differential(x)(u(t, -1.0)) ~ Differential(x)(u(t, 1.0))]\n",
       "Domain: Symbolics.VarDomainPairing[Symbolics.VarDomainPairing(t, 0.0..0.25), Symbolics.VarDomainPairing(x, -1.0..1.0)]\n",
       "Dependent Variables: Num[u(t, x)]\n",
       "Independent Variables: Num[t, x]\n",
       "Parameters: SciMLBase.NullParameters()\n",
       "Default Parameter ValuesDict{Any, Any}()"
      ]
     },
     "metadata": {},
     "output_type": "display_data"
    }
   ],
   "source": [
    "using ModelingToolkit, Sophon, DomainSets\n",
    "using Optimization, OptimizationOptimJL\n",
    "\n",
    "@parameters t, x\n",
    "@variables u(..)\n",
    "Dt = Differential(t)\n",
    "Dx = Differential(x)\n",
    "Dxx = Differential(x)^2\n",
    "\n",
    "r1 = 0.02\n",
    "r2 = 1\n",
    "\n",
    "eq = Dt(u(t, x)) ~ Dxx(r2*(u(t,x)^3 - u(t,x)) - r1 * Dxx(u(t,x)))\n",
    "\n",
    "bcs = [u(0, x) ~ cospi(x)-exp(-4*π*π*abs2(x)),\n",
    "    u(t, -1.0) ~ u(t, 1.0),\n",
    "    Dx(u(t, -1.0)) ~ Dx(u(t, 1.0))]\n",
    "\n",
    "domains = [t ∈ Interval(0.0, 0.25),\n",
    "    x ∈ Interval(-1.0, 1.0)]\n",
    "\n",
    "@named pde_system = PDESystem(eq, bcs, domains, [t,x], [u(t,x)])"
   ]
  },
  {
   "cell_type": "code",
   "execution_count": 13,
   "metadata": {},
   "outputs": [
    {
     "data": {
      "text/plain": [
       "\u001b[38;2;86;182;194mOptimizationProblem\u001b[0m. In-place: \u001b[38;2;86;182;194mtrue\u001b[0m\n",
       "u0: \u001b[0mComponentVector{Float64}(layer_1 = (weight = [-0.5386627912521362 1.5582267045974731; 1.991929531097412 -0.09577541798353195; … ; -0.4733268618583679 -1.5853675603866577; 0.1954130381345749 -1.082320213317871], bias = [0.0; 0.0; … ; 0.0; 0.0;;]), layer_2 = (weight = [-0.5370195508003235 0.5638769865036011 … -0.07387085258960724 0.6608429551124573; -0.6040573120117188 -0.32470741868019104 … 0.20104482769966125 0.6971802115440369; … ; 0.557422399520874 -0.2192048728466034 … 0.7208107113838196 0.5727482438087463; 0.5951223373413086 -0.4111434817314148 … -0.4710530638694763 -0.6651031374931335], bias = [0.0; 0.0; … ; 0.0; 0.0;;]), layer_3 = (weight = [-0.24150630831718445 -0.22274662554264069 … 0.38873568177223206 -0.46499529480934143; 0.543647289276123 -0.6152505278587341 … -0.20794226229190826 0.5516670346260071; … ; -0.5870752334594727 -0.14728426933288574 … 0.2803768813610077 0.6341552734375; -0.10604557394981384 -0.1449953019618988 … -0.17302045226097107 -0.41904154419898987], bias = [0.0; 0.0; … ; 0.0; 0.0;;]), layer_4 = (weight = [-0.5782979130744934 0.3002563714981079 … 0.2892131507396698 0.6550125479698181; 0.27906328439712524 0.24670159816741943 … 0.3142583966255188 0.5175347328186035; … ; 0.23720264434814453 -0.35440000891685486 … -0.4410993456840515 -0.009742853231728077; 0.1021229475736618 0.34778469800949097 … 0.06777618080377579 0.4689885675907135], bias = [0.0; 0.0; … ; 0.0; 0.0;;]), layer_5 = (weight = [-0.11191751062870026 0.431204229593277 … 0.5613872408866882 0.4748000204563141; 0.19218723475933075 0.45187535881996155 … 0.5533896088600159 -0.014147600159049034; … ; -0.6215121150016785 0.1591786891222 … 0.14570963382720947 -0.6627513766288757; -0.24588420987129211 -0.44710299372673035 … -0.22781863808631897 -0.4509716033935547], bias = [0.0; 0.0; … ; 0.0; 0.0;;]), layer_6 = (weight = [0.4827533960342407 0.09999753534793854 … -0.06724226474761963 -0.1585906744003296], bias = [0.0;;]))"
      ]
     },
     "metadata": {},
     "output_type": "display_data"
    }
   ],
   "source": [
    "chain = FullyConnected(2, 1, tanh; hidden_dims=16, num_layers=5)\n",
    "pinn = PINN(chain)\n",
    "sampler = QuasiRandomSampler(1000, (400, 100, 100))\n",
    "strategy = NonAdaptiveTraining(1, (100,10,10))\n",
    "prob = Sophon.discretize(pde_system, pinn, sampler, strategy)"
   ]
  },
  {
   "cell_type": "code",
   "execution_count": 14,
   "metadata": {},
   "outputs": [
    {
     "name": "stdout",
     "output_type": "stream",
     "text": [
      "Loss: 77907.20357835328\n"
     ]
    },
    {
     "name": "stdout",
     "output_type": "stream",
     "text": [
      "Loss: 5.659097607584907\n"
     ]
    },
    {
     "name": "stdout",
     "output_type": "stream",
     "text": [
      "Loss: 0.9369346600711415\n"
     ]
    },
    {
     "name": "stdout",
     "output_type": "stream",
     "text": [
      "Loss: 0.4431025440620505\n"
     ]
    },
    {
     "name": "stdout",
     "output_type": "stream",
     "text": [
      "Loss: 0.046335294983777114\n"
     ]
    },
    {
     "name": "stdout",
     "output_type": "stream",
     "text": [
      "Loss: 0.011075294709975621\n"
     ]
    },
    {
     "name": "stdout",
     "output_type": "stream",
     "text": [
      "Loss: 0.0035521152061379025\n"
     ]
    },
    {
     "name": "stdout",
     "output_type": "stream",
     "text": [
      "Loss: 0.0010856901722733551\n"
     ]
    },
    {
     "name": "stdout",
     "output_type": "stream",
     "text": [
      "Loss: 0.0004821761364173165\n"
     ]
    },
    {
     "name": "stdout",
     "output_type": "stream",
     "text": [
      "Loss: 0.00026248849501052146\n"
     ]
    },
    {
     "name": "stdout",
     "output_type": "stream",
     "text": [
      "Loss: 0.00017077378154857668\n"
     ]
    },
    {
     "data": {
      "text/plain": [
       "u: \u001b[0mComponentVector{Float64}(layer_1 = (weight = [0.40194976445453023 1.5260736955860474; 5.26081739338062 0.23180224466043858; … ; -2.0585230072019836 -0.6979718056925401; -0.18351279440033494 -0.7115991280608063], bias = [-0.7981321213653033; 0.6043527612332309; … ; -0.016471324713741662; -0.02237298680002165;;]), layer_2 = (weight = [-0.515159513145308 0.36903295456058394 … -0.08863901836212561 0.49694144969423165; -0.6699847046655082 -0.7173857656963164 … 0.2118480057000574 0.8950758161271257; … ; 0.7577351697278569 -0.4854158579113223 … 1.1098143167278736 0.8981613914347749; 0.3375356338701183 -0.28215506588973116 … 0.2666122607520043 -0.5571328895608845], bias = [-0.41950978671464656; 0.1402773683955731; … ; -0.29647765377971136; 0.08060527662053094;;]), layer_3 = (weight = [-0.0449504009173851 -0.4305505292959506 … 0.2871966819788088 -0.6507363164969368; 0.1698431177225843 -1.3044139822675074 … -1.031883715957972 0.7123768290687803; … ; -0.5261767408122602 -0.11561590263444971 … 0.529430192309495 0.4032321990225535; 0.366319369038961 -0.3422747483336824 … -0.30287057734794004 -0.5247396615542576], bias = [0.4283563140022465; -0.03878497840897791; … ; 0.832866167000536; -0.06301760464097224;;]), layer_4 = (weight = [0.10435823179500868 0.38083915942265445 … -0.21919587622122258 0.5618228360049999; -0.10161129455456537 0.2770686145905349 … 0.6400020251259246 0.008707888672577997; … ; 0.25992605023776433 -0.12306018043717577 … -0.30970599980652713 -0.13356297921036833; 0.5580040642953911 0.9762025967177453 … 0.11992221433201784 0.1908342360730061], bias = [0.030272220879818932; 0.0072126349495405095; … ; 0.1858742430231457; -0.3515438403032611;;]), layer_5 = (weight = [-0.10413793753921258 0.20025992030683112 … 0.627626835310364 0.3302004404826694; 0.37052120710495995 0.40197451111569676 … 0.6744663425811991 -0.10407547472570916; … ; -0.11618699486048693 0.24361224314879334 … -0.018718357332607908 -0.5263416047304189; 0.4435374537651554 -1.1889905538854086 … 1.1766094084057623 0.3046732562738574], bias = [0.10002824574272555; 0.2522684511834442; … ; 0.13713744988575388; 0.2373175209450558;;]), layer_6 = (weight = [0.18444651025780165 0.03398081452641031 … 0.1373101165703732 -0.48095176672501033], bias = [0.33642087885671956;;]))"
      ]
     },
     "metadata": {},
     "output_type": "display_data"
    }
   ],
   "source": [
    "i = 0\n",
    "function callback(p, l)\n",
    "    global i\n",
    "    i%100==0 && println(\"Loss: $l\")\n",
    "    i += 1\n",
    "    return false\n",
    "end\n",
    "\n",
    "res = Optimization.solve(prob, BFGS(); maxiters=1000, callback=callback)"
   ]
  },
  {
   "cell_type": "code",
   "execution_count": 15,
   "metadata": {},
   "outputs": [
    {
     "data": {
      "image/png": "[encoded data removed]"
     },
     "metadata": {},
     "output_type": "display_data"
    }
   ],
   "source": [
    "using CairoMakie, MakiePublication\n",
    "\n",
    "phi = pinn.phi\n",
    "ts = 0.0:0.01:1.0\n",
    "xs = -1.0:0.01:1.0\n",
    "\n",
    "axis = (xlabel=L\"t\", ylabel=L\"x\", title=\"Prediction\")\n",
    "u_pred = [sum(pinn.phi([t, x], res.u)) for t in ts, x in xs]\n",
    "heatmap(ts, xs, u_pred, axis=axis, colormap=:jet)"
   ]
  },
  {
   "cell_type": "code",
   "execution_count": 18,
   "metadata": {},
   "outputs": [
    {
     "name": "stdout",
     "output_type": "stream",
     "text": [
      "Loss: 3.2986215201065776\n"
     ]
    },
    {
     "name": "stdout",
     "output_type": "stream",
     "text": [
      "Loss: 0.0011902355908056594\n"
     ]
    }
   ],
   "source": [
    "# sequential training\n",
    "for tmax in [0.5, 0.75, 1.0]\n",
    "    i = 0\n",
    "    pde_system.domain[1] = t ∈ 0.0..tmax\n",
    "    data = Sophon.sample(pde_system, sampler)\n",
    "    prob = remake(prob; u0=res.u, p=data)\n",
    "    res = Optimization.solve(prob, BFGS(); maxiters=1000, callback=callback)\n",
    "\n",
    "    ts, xs = [infimum(d.domain):0.01:supremum(d.domain) for d in pde_system.domain]\n",
    "    u_pred = [sum(pinn.phi([t, x], res.u)) for t in ts, x in xs]\n",
    "    fig, ax, hm = heatmap(ts, xs, u_pred, axis=axis, colormap=:jet)\n",
    "    display(fig)\n",
    "end"
   ]
  },
  {
   "cell_type": "code",
   "execution_count": 6,
   "metadata": {},
   "outputs": [
    {
     "name": "stdout",
     "output_type": "stream",
     "text": [
      "Loss: 0.6842902725954241\n"
     ]
    }
   ],
   "source": [
    "using JLD2\n",
    "jldsave(\"cahn-hilliard_finitediff.jld2\"; pde=pde_system, pinn=pinn, res=res, prob=prob)"
   ]
  },
  {
   "attachments": {},
   "cell_type": "markdown",
   "metadata": {},
   "source": [
    "# Improve accuracy with taylordiff"
   ]
  },
  {
   "cell_type": "code",
   "execution_count": null,
   "metadata": {},
   "outputs": [],
   "source": [
    "using TaylorDiff\n",
    "prob = Sophon.discretize(pde_system, pinn, sampler, strategy; derivative=Sophon.taylordiff)\n",
    "prob = remake(prob; u0=res.u)\n",
    "i=0\n",
    "res2 = Optimization.solve(prob, BFGS(); maxiters=1000, callback=callback)"
   ]
  },
  {
   "cell_type": "code",
   "execution_count": null,
   "metadata": {},
   "outputs": [],
   "source": [
    "phi = pinn.phi\n",
    "ts, xs = [infimum(d.domain):0.01:supremum(d.domain) for d in pde_system.domain]\n",
    "axis = (xlabel=L\"t\", ylabel=L\"x\", title=\"Prediction\")\n",
    "u_pred = [sum(pinn.phi([t, x], res.u)) for t in ts, x in xs]\n",
    "heatmap(ts, xs, u_pred, axis=axis, colormap=:jet)"
   ]
  },
  {
   "cell_type": "code",
   "execution_count": null,
   "metadata": {},
   "outputs": [],
   "source": [
    "using JLD2\n",
    "jldsave(\"cahn-hilliard_finitediff_taylordiff.jld2\"; pde=pde_system, pinn=pinn, res=res2, prob=prob)"
   ]
  }
 ],
 "metadata": {
  "kernelspec": {
   "display_name": "Julia 1.9.0",
   "language": "julia",
   "name": "julia-1.9"
  },
  "language_info": {
   "file_extension": ".jl",
   "mimetype": "application/julia",
   "name": "julia",
   "version": "1.9.0"
  },
  "orig_nbformat": 4
 },
 "nbformat": 4,
 "nbformat_minor": 2
}
