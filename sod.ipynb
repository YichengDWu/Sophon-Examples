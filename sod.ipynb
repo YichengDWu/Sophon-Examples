{
 "cells": [
  {
   "cell_type": "code",
   "execution_count": 38,
   "metadata": {},
   "outputs": [
    {
     "data": {
      "text/latex": [
       "$$ \\begin{align}\n",
       "\\frac{\\mathrm{d}}{\\mathrm{d}x} u\\left( t, x \\right) \\rho\\left( t, x \\right) + \\frac{\\mathrm{d}}{\\mathrm{d}t} \\rho\\left( t, x \\right) =& 0 \\\\\n",
       "\\frac{\\mathrm{d}}{\\mathrm{d}x} \\left( \\left( u\\left( t, x \\right) \\right)^{2} \\rho\\left( t, x \\right) + p\\left( t, x \\right) \\right) + \\frac{\\mathrm{d}}{\\mathrm{d}t} u\\left( t, x \\right) \\rho\\left( t, x \\right) =& 0 \\\\\n",
       "\\frac{\\mathrm{d}}{\\mathrm{d}t} \\left( 2.5 p\\left( t, x \\right) + 0.5 \\left|u\\left( t, x \\right)\\right|^{2} \\rho\\left( t, x \\right) \\right) + \\frac{\\mathrm{d}}{\\mathrm{d}x} \\left( 3.5 p\\left( t, x \\right) + 0.5 \\left|u\\left( t, x \\right)\\right|^{2} \\rho\\left( t, x \\right) \\right) u\\left( t, x \\right) =& 0\n",
       "\\end{align}\n",
       " $$"
      ],
      "text/plain": [
       "PDESystem\n",
       "Equations: Equation[Differential(x)(u(t, x)*ρ(t, x)) + Differential(t)(ρ(t, x)) ~ 0.0, Differential(x)((u(t, x)^2)*ρ(t, x) + p(t, x)) + Differential(t)(u(t, x)*ρ(t, x)) ~ 0.0, Differential(t)(2.5000000000000004p(t, x) + 0.5abs2(u(t, x))*ρ(t, x)) + Differential(x)((3.5000000000000004p(t, x) + 0.5abs2(u(t, x))*ρ(t, x))*u(t, x)) ~ 0.0]\n",
       "Boundary Conditions: Equation[ρ(0, x) ~ ρ₀(x), u(0, x) ~ 0.0, p(0, x) ~ p₀(x), u(t, 0) ~ 0.0, u(t, 1) ~ 0.0]\n",
       "Domain: Symbolics.VarDomainPairing[Symbolics.VarDomainPairing(t, 0.0..0.2), Symbolics.VarDomainPairing(x, 0.0..1.0)]\n",
       "Dependent Variables: Num[u(t, x), ρ(t, x), p(t, x)]\n",
       "Independent Variables: Num[t, x]\n",
       "Parameters: SciMLBase.NullParameters()\n",
       "Default Parameter ValuesDict{Any, Any}()"
      ]
     },
     "metadata": {},
     "output_type": "display_data"
    }
   ],
   "source": [
    "using Optimization, OptimizationOptimJL, Plots\n",
    "using ModelingToolkit, IntervalSets\n",
    "using Sophon\n",
    "using ChainRulesCore\n",
    "\n",
    "@parameters t, x\n",
    "@variables u(..), ρ(..), p(..)\n",
    "Dₓ = Differential(x)\n",
    "Dₜ = Differential(t)\n",
    "\n",
    "u₀(x) = 0.0\n",
    "ρ₀(x) = ifelse(x < 0.5, 1.0, 0.125)\n",
    "@register_symbolic ρ₀(x)\n",
    "p₀(x) = ifelse(x < 0.5, 1.0, 0.1)\n",
    "@register_symbolic p₀(x)\n",
    "\n",
    "bcs = [ρ(0, x) ~ ρ₀(x), u(0, x) ~ u₀(x), p(0, x) ~ p₀(x), u(t, 0) ~ 0.0, u(t, 1) ~ 0.0]\n",
    "\n",
    "γ = 1.4\n",
    "E(t, x) = p(t, x) / (γ - 1) + 0.5 * ρ(t, x) * abs2(u(t, x))\n",
    "\n",
    "eqs = [\n",
    "    Dₜ(ρ(t, x)) + Dₓ(ρ(t, x) * u(t, x)) ~ 0.0,\n",
    "    Dₜ(ρ(t, x) * u(t, x)) + Dₓ(ρ(t, x) * u(t, x) * u(t, x) + p(t, x)) ~ 0.0,\n",
    "    Dₜ(E(t, x)) + Dₓ(u(t, x) * (E(t, x) + p(t, x))) ~ 0.0,\n",
    "]\n",
    "\n",
    "t_min, t_max = 0.0, 0.2\n",
    "x_min, x_max = 0.0, 1.0\n",
    "domains = [t ∈ Interval(t_min, t_max), x ∈ Interval(x_min, x_max)]\n",
    "\n",
    "@named pde_system = PDESystem(eqs, bcs, domains, [t, x], [u(t, x), ρ(t, x), p(t, x)])"
   ]
  },
  {
   "cell_type": "code",
   "execution_count": 39,
   "metadata": {},
   "outputs": [
    {
     "data": {
      "text/plain": [
       "\u001b[38;2;86;182;194mOptimizationProblem\u001b[0m. In-place: \u001b[38;2;86;182;194mtrue\u001b[0m\n",
       "u0: \u001b[0mComponentVector{Float64}(u = (layer_1 = (weight = [0.2695924937725067 1.9268028736114502; -0.21252557635307312 -0.7415732145309448; … ; 0.7171503901481628 -1.5442533493041992; -0.9443339705467224 -1.5292670726776123], bias = [0.0; 0.0; … ; 0.0; 0.0;;]), layer_2 = (weight = [-0.6643564701080322 -0.6925046443939209 … 0.008272568695247173 -0.21165762841701508; -0.16472826898097992 0.6727578639984131 … 0.312429279088974 0.3575981855392456; … ; -0.40722420811653137 0.5163592100143433 … 0.5410106778144836 0.501392126083374; 0.4628823697566986 -0.28122982382774353 … -0.09267458319664001 0.5269978642463684], bias = [0.0; 0.0; … ; 0.0; 0.0;;]), layer_3 = (weight = [0.07574213296175003 0.0266563780605793 … 0.13516564667224884 0.11330641061067581; 0.09291994571685791 -0.1699279546737671 … 0.495624303817749 0.6320878863334656; … ; -0.5844491124153137 -0.6654408574104309 … -0.49571728706359863 0.4476800858974457; -0.4677067697048187 -0.5325641632080078 … 0.20752698183059692 0.5733031034469604], bias = [0.0; 0.0; … ; 0.0; 0.0;;]), layer_4 = (weight = [-0.18406978249549866 -0.6436874270439148 … -0.2005947083234787 -0.5888243317604065; -0.680199146270752 -0.5643839240074158 … -0.49766144156455994 0.21053147315979004; … ; -0.275375097990036 -0.6615275144577026 … -0.46376848220825195 -0.31109586358070374; -0.022616492584347725 -0.4695976674556732 … -0.35308828949928284 0.2767135798931122], bias = [0.0; 0.0; … ; 0.0; 0.0;;]), layer_5 = (weight = [0.1296001523733139 -0.4429965317249298 … 0.09848302602767944 -0.44249236583709717], bias = [0.0;;])), ρ = (layer_1 = (weight = [-1.383985996246338 1.9664382934570312; 0.141835555434227 1.6461246013641357; … ; 1.9775748252868652 -0.532006561756134; -1.6100358963012695 1.5156644582748413], bias = [0.0; 0.0; … ; 0.0; 0.0;;]), layer_2 = (weight = [0.6231563091278076 0.6316910982131958 … 0.2692590653896332 -0.47089993953704834; -0.6160199642181396 -0.3068791925907135 … 0.57253497838974 -0.25549155473709106; … ; 0.6857014298439026 0.2190626561641693 … -0.24350620806217194 -0.039415422827005386; 0.11752454936504364 0.2690589725971222 … -0.20426809787750244 0.14748232066631317], bias = [0.0; 0.0; … ; 0.0; 0.0;;]), layer_3 = (weight = [0.27987927198410034 -0.36044272780418396 … 0.0012349877506494522 -0.10045986622571945; -0.005306791048496962 -0.368378221988678 … -0.37495139241218567 0.6481338739395142; … ; -0.7012841105461121 -0.5548320412635803 … -0.2773556411266327 0.7189379334449768; 0.22250117361545563 -0.5817605257034302 … 0.2940579354763031 -0.1621750146150589], bias = [0.0; 0.0; … ; 0.0; 0.0;;]), layer_4 = (weight = [0.618172824382782 -0.04961046203970909 … -0.03481770679354668 0.5494076609611511; -0.37550243735313416 0.26813429594039917 … 0.5360419750213623 0.5070592164993286; … ; 0.3524988889694214 -0.1807727813720703 … 0.021264933049678802 0.3279939889907837; 0.47531983256340027 -0.061834387481212616 … -0.23057346045970917 0.4912560284137726], bias = [0.0; 0.0; … ; 0.0; 0.0;;]), layer_5 = (weight = [-0.2154681533575058 0.4706544876098633 … -0.1241578683257103 0.476688414812088], bias = [0.0;;])), p = (layer_1 = (weight = [-0.0026671942323446274 -1.1487820148468018; 0.24604544043540955 -0.28217872977256775; … ; 1.7305431365966797 -0.21349866688251495; -0.5535811185836792 -1.014197587966919], bias = [0.0; 0.0; … ; 0.0; 0.0;;]), layer_2 = (weight = [-0.6073698997497559 -0.3285946846008301 … -0.4691977798938751 -0.3670969605445862; 0.3560256063938141 -0.5450166463851929 … 0.5067266821861267 -0.3653753697872162; … ; 0.16831675171852112 -0.03818473964929581 … -0.19871172308921814 0.7118216753005981; 0.1202940046787262 -0.18360374867916107 … -0.5942010879516602 -0.5133559703826904], bias = [0.0; 0.0; … ; 0.0; 0.0;;]), layer_3 = (weight = [0.5616220831871033 -0.714725911617279 … -0.030894309282302856 -0.6182916760444641; -0.49311742186546326 -0.14878252148628235 … 0.35075175762176514 0.16508926451206207; … ; -0.306270956993103 0.6134427189826965 … -0.0015564889181405306 -0.35372838377952576; 0.4485204517841339 -0.49482178688049316 … 0.18899640440940857 -0.5409348607063293], bias = [0.0; 0.0; … ; 0.0; 0.0;;]), layer_4 = (weight = [0.041929446160793304 -0.4406909644603729 … 0.43804118037223816 -0.30989161133766174; 0.0021230948623269796 0.6874906420707703 … 0.2407466471195221 -0.026000212877988815; … ; -0.337748646736145 -0.5280954837799072 … -0.2711469531059265 -0.2133205384016037; 0.7151716351509094 0.3735942542552948 … -0.6156554818153381 0.638721227645874], bias = [0.0; 0.0; … ; 0.0; 0.0;;]), layer_5 = (weight = [-0.6564891934394836 0.06585362553596497 … -0.343946635723114 -0.29202499985694885], bias = [0.0;;])))"
      ]
     },
     "metadata": {},
     "output_type": "display_data"
    }
   ],
   "source": [
    "pinn = PINN(u=FullyConnected(2, 1, tanh; num_layers=4, hidden_dims=16),\n",
    "            ρ=FullyConnected(2, 1, tanh; num_layers=4, hidden_dims=16),\n",
    "            p=FullyConnected(2, 1, tanh; num_layers=4, hidden_dims=16))\n",
    "\n",
    "sampler = QuasiRandomSampler(1000, 400)\n",
    "\n",
    "function pde_weights(phi, x, θ)\n",
    "    ux = Sophon.finitediff(phi.u, x, θ.u, 1, 1)\n",
    "    ρx = Sophon.finitediff(phi.ρ, x, θ.ρ, 1, 1)\n",
    "    px = Sophon.finitediff(phi.p, x, θ.p, 1, 1)\n",
    "    d = ux .+ ρx .+ px\n",
    "\n",
    "    return ChainRulesCore.@ignore_derivatives inv.(0.2 .* abs.(d) .+ 1)\n",
    "end\n",
    "\n",
    "strategy = AdaptiveTraining(pde_weights, Returns(10))\n",
    "prob = Sophon.discretize(pde_system, pinn, sampler, strategy)"
   ]
  },
  {
   "cell_type": "code",
   "execution_count": 40,
   "metadata": {},
   "outputs": [],
   "source": [
    "res = Optimization.solve(prob, BFGS(); maxiters=1000)\n",
    "res.objective"
   ]
  },
  {
   "cell_type": "code",
   "execution_count": null,
   "metadata": {},
   "outputs": [],
   "source": [
    "using Plots\n",
    "θ = res.u\n",
    "phi = pinn.phi\n",
    "xs = x_min:0.01:x_max\n",
    "\n",
    "phi = pinn.phi\n",
    "p1 = plot(xs, [first(phi.u([t_max, x], θ.u)) for x in xs]; label=\"u(t=1,x)\")\n",
    "p2 = plot!(xs, [first(phi.ρ([t_max, x], θ.ρ)) for x in xs]; label=\"ρ(t=1,x)\")\n",
    "p3 = plot!(xs, [first(phi.p([t_max, x], θ.p)) for x in xs]; label=\"p(t=1,x)\")"
   ]
  }
 ],
 "metadata": {
  "kernelspec": {
   "display_name": "Julia 1.9.0",
   "language": "julia",
   "name": "julia-1.9"
  },
  "language_info": {
   "file_extension": ".jl",
   "mimetype": "application/julia",
   "name": "julia",
   "version": "1.9.0"
  },
  "orig_nbformat": 4
 },
 "nbformat": 4,
 "nbformat_minor": 2
}
