{
 "cells": [
  {
   "cell_type": "code",
   "execution_count": 13,
   "metadata": {},
   "outputs": [
    {
     "data": {
      "text/latex": [
       "$$ \\begin{align}\n",
       "\\frac{\\mathrm{d}}{\\mathrm{d}x} u\\left( t, x \\right) \\rho\\left( t, x \\right) + \\frac{\\mathrm{d}}{\\mathrm{d}t} \\rho\\left( t, x \\right) =& 0 \\\\\n",
       "\\frac{\\mathrm{d}}{\\mathrm{d}x} \\left( \\left( u\\left( t, x \\right) \\right)^{2} \\rho\\left( t, x \\right) + p\\left( t, x \\right) \\right) + \\frac{\\mathrm{d}}{\\mathrm{d}t} u\\left( t, x \\right) \\rho\\left( t, x \\right) =& 0 \\\\\n",
       "\\frac{\\mathrm{d}}{\\mathrm{d}t} \\left( 2.5 p\\left( t, x \\right) + 0.5 \\left|u\\left( t, x \\right)\\right|^{2} \\rho\\left( t, x \\right) \\right) + \\frac{\\mathrm{d}}{\\mathrm{d}x} \\left( 3.5 p\\left( t, x \\right) + 0.5 \\left|u\\left( t, x \\right)\\right|^{2} \\rho\\left( t, x \\right) \\right) u\\left( t, x \\right) =& 0\n",
       "\\end{align}\n",
       " $$"
      ],
      "text/plain": [
       "PDESystem\n",
       "Equations: Equation[Differential(x)(u(t, x)*ρ(t, x)) + Differential(t)(ρ(t, x)) ~ 0.0, Differential(x)((u(t, x)^2)*ρ(t, x) + p(t, x)) + Differential(t)(u(t, x)*ρ(t, x)) ~ 0.0, Differential(t)(2.5000000000000004p(t, x) + 0.5abs2(u(t, x))*ρ(t, x)) + Differential(x)((3.5000000000000004p(t, x) + 0.5abs2(u(t, x))*ρ(t, x))*u(t, x)) ~ 0.0]\n",
       "Boundary Conditions: Equation[ρ(0, x) ~ ρ₀(x), u(0, x) ~ 0.0, p(0, x) ~ p₀(x), u(t, 0) ~ 0.0, u(t, 1) ~ 0.0]\n",
       "Domain: Symbolics.VarDomainPairing[Symbolics.VarDomainPairing(t, 0.0..0.2), Symbolics.VarDomainPairing(x, 0.0..1.0)]\n",
       "Dependent Variables: Num[u(t, x), ρ(t, x), p(t, x)]\n",
       "Independent Variables: Num[t, x]\n",
       "Parameters: SciMLBase.NullParameters()\n",
       "Default Parameter ValuesDict{Any, Any}()"
      ]
     },
     "metadata": {},
     "output_type": "display_data"
    }
   ],
   "source": [
    "using Optimization, OptimizationOptimJL, Plots\n",
    "using ModelingToolkit, IntervalSets\n",
    "using Sophon\n",
    "using ChainRulesCore\n",
    "\n",
    "@parameters t, x\n",
    "@variables u(..), ρ(..), p(..)\n",
    "Dₓ = Differential(x)\n",
    "Dₜ = Differential(t)\n",
    "\n",
    "u₀(x) = 0.0\n",
    "ρ₀(x) = ifelse(x < 0.5, 1.0, 0.125)\n",
    "@register ρ₀(x)\n",
    "p₀(x) = ifelse(x < 0.5, 1.0, 0.1)\n",
    "@register p₀(x)\n",
    "\n",
    "bcs = [ρ(0, x) ~ ρ₀(x), u(0, x) ~ u₀(x), p(0, x) ~ p₀(x), u(t, 0) ~ 0.0, u(t, 1) ~ 0.0]\n",
    "\n",
    "γ = 1.4\n",
    "E(t, x) = p(t, x) / (γ - 1) + 0.5 * ρ(t, x) * abs2(u(t, x))\n",
    "\n",
    "eqs = [\n",
    "    Dₜ(ρ(t, x)) + Dₓ(ρ(t, x) * u(t, x)) ~ 0.0,\n",
    "    Dₜ(ρ(t, x) * u(t, x)) + Dₓ(ρ(t, x) * u(t, x) * u(t, x) + p(t, x)) ~ 0.0,\n",
    "    Dₜ(E(t, x)) + Dₓ(u(t, x) * (E(t, x) + p(t, x))) ~ 0.0,\n",
    "]\n",
    "\n",
    "t_min, t_max = 0.0, 0.2\n",
    "x_min, x_max = 0.0, 1.0\n",
    "domains = [t ∈ Interval(t_min, t_max), x ∈ Interval(x_min, x_max)]\n",
    "\n",
    "@named pde_system = PDESystem(eqs, bcs, domains, [t, x], [u(t, x), ρ(t, x), p(t, x)])"
   ]
  },
  {
   "cell_type": "code",
   "execution_count": 14,
   "metadata": {},
   "outputs": [],
   "source": [
    "pinn = PINN(u=FullyConnected(2, 1, tanh; num_layers=4, hidden_dims=16),\n",
    "            ρ=FullyConnected(2, 1, tanh; num_layers=4, hidden_dims=16),\n",
    "            p=FullyConnected(2, 1, tanh; num_layers=4, hidden_dims=16))\n",
    "\n",
    "sampler = QuasiRandomSampler(1000, 400)\n",
    "\n",
    "function pde_weights(phi, x, θ)\n",
    "    ux = Sophon.finitediff(phi.u, x, θ.u, 1, 1)\n",
    "    ρx = Sophon.finitediff(phi.ρ, x, θ.ρ, 1, 1)\n",
    "    px = Sophon.finitediff(phi.p, x, θ.p, 1, 1)\n",
    "    d = ux .+ ρx .+ px\n",
    "\n",
    "    return ChainRulesCore.@ignore_derivatives inv.(0.2 .* abs.(d) .+ 1)\n",
    "end\n",
    "\n",
    "strategy = AdaptiveTraining(pde_weights, Returns(10))\n",
    "prob = Sophon.discretize(pde_system, pinn, sampler, strategy)\n",
    "\n",
    "res = Optimization.solve(prob, BFGS(); maxiters=1000)"
   ]
  },
  {
   "cell_type": "code",
   "execution_count": null,
   "metadata": {},
   "outputs": [],
   "source": [
    "res.objective"
   ]
  },
  {
   "cell_type": "code",
   "execution_count": null,
   "metadata": {},
   "outputs": [],
   "source": [
    "using Plots\n",
    "θ = res.u\n",
    "phi = pinn.phi\n",
    "xs = x_min:0.01:x_max\n",
    "\n",
    "phi = pinn.phi\n",
    "p1 = plot(xs, [first(phi.u([t_max, x], θ.u)) for x in xs]; label=\"u(t=1,x)\")\n",
    "p2 = plot!(xs, [first(phi.ρ([t_max, x], θ.ρ)) for x in xs]; label=\"ρ(t=1,x)\")\n",
    "p3 = plot!(xs, [first(phi.p([t_max, x], θ.p)) for x in xs]; label=\"p(t=1,x)\")"
   ]
  }
 ],
 "metadata": {
  "kernelspec": {
   "display_name": "Julia 1.9.0",
   "language": "julia",
   "name": "julia-1.9"
  },
  "language_info": {
   "file_extension": ".jl",
   "mimetype": "application/julia",
   "name": "julia",
   "version": "1.9.0"
  },
  "orig_nbformat": 4
 },
 "nbformat": 4,
 "nbformat_minor": 2
}
