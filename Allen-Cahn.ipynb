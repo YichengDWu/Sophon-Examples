{
 "cells": [
  {
   "cell_type": "code",
   "execution_count": 29,
   "metadata": {},
   "outputs": [
    {
     "data": {
      "text/latex": [
       "$$ \\begin{align}\n",
       " - 0.0001 \\frac{\\mathrm{d}}{\\mathrm{d}x} \\frac{\\mathrm{d}}{\\mathrm{d}x} u\\left( x, t \\right) + 5 \\left( -1 + \\left|u\\left( x, t \\right)\\right|^{2} \\right) u\\left( x, t \\right) + \\frac{\\mathrm{d}}{\\mathrm{d}t} u\\left( x, t \\right) =& 0\n",
       "\\end{align}\n",
       " $$"
      ],
      "text/plain": [
       "PDESystem\n",
       "Equations: Equation[5(abs2(u(x, t)) - 1.0)*u(x, t) + Differential(t)(u(x, t)) - 0.0001Differential(x)(Differential(x)(u(x, t))) ~ 0.0]\n",
       "Boundary Conditions: Equation[u(x, 0) ~ (x^2)*cospi(x), u(-1, t) ~ u(1, t)]\n",
       "Domain: Symbolics.VarDomainPairing[Symbolics.VarDomainPairing(x, -1.0..1.0), Symbolics.VarDomainPairing(t, 0.0..1.0)]\n",
       "Dependent Variables: Num[u(x, t)]\n",
       "Independent Variables: Num[x, t]\n",
       "Parameters: SciMLBase.NullParameters()\n",
       "Default Parameter ValuesDict{Any, Any}()"
      ]
     },
     "metadata": {},
     "output_type": "display_data"
    }
   ],
   "source": [
    "using ModelingToolkit, IntervalSets\n",
    "using Sophon\n",
    "using Optimization, OptimizationOptimJL\n",
    "\n",
    "@parameters t, x\n",
    "@variables u(..)\n",
    "Dₓ = Differential(x)\n",
    "Dₓ² = Differential(x)^2\n",
    "Dₜ = Differential(t)\n",
    "\n",
    "eq = Dₜ(u(x, t)) - 0.0001 * Dₓ²(u(x, t)) + 5 * u(x,t) * (abs2(u(x,t)) - 1.0) ~ 0.0\n",
    "\n",
    "domain = [x ∈ -1.0..1.0, t ∈ 0.0..1.0]\n",
    "\n",
    "bcs = [u(x,0) ~ x^2 * cospi(x),\n",
    "       u(-1,t) ~ u(1,t)]\n",
    "\n",
    "@named allen = PDESystem(eq, bcs, domain, [x, t], [u(x, t)])"
   ]
  },
  {
   "cell_type": "code",
   "execution_count": 30,
   "metadata": {},
   "outputs": [
    {
     "data": {
      "text/plain": [
       "\u001b[38;2;86;182;194mOptimizationProblem\u001b[0m. In-place: \u001b[38;2;86;182;194mtrue\u001b[0m\n",
       "u0: \u001b[0mComponentVector{Float64}(layer_1 = (weight = [1.4698566198349 1.5925624370574951; 1.4981614351272583 -2.00053071975708; … ; 0.5229988098144531 -0.7267827987670898; 1.461683988571167 0.8543596863746643], bias = [0.0; 0.0; … ; 0.0; 0.0;;]), layer_2 = (weight = [-0.5153428316116333 -0.21700425446033478 … -0.44999098777770996 -0.5528876185417175; 0.005548626650124788 0.41884082555770874 … -0.40657904744148254 0.45437759160995483; … ; 0.45568975806236267 -0.4285447895526886 … 0.4721025824546814 0.497051477432251; -0.608670175075531 0.05350417643785477 … 0.19836905598640442 -0.5709465742111206], bias = [0.0; 0.0; … ; 0.0; 0.0;;]), layer_3 = (weight = [-0.18274196982383728 0.09796511381864548 … -0.3494469225406647 0.5994585156440735; -0.07018352299928665 -0.085513636469841 … -0.04295856133103371 -0.5470152497291565; … ; 0.2726452946662903 0.00703947339206934 … -0.33892297744750977 0.6923531293869019; 0.6603239178657532 0.16973455250263214 … 0.09035783261060715 0.6524897813796997], bias = [0.0; 0.0; … ; 0.0; 0.0;;]), layer_4 = (weight = [-0.5719923973083496 0.05075657740235329 … -0.09153363108634949 0.570075273513794; 0.173867866396904 -0.03428267687559128 … 0.14497379958629608 -0.7215120196342468; … ; -0.22348710894584656 -0.5485894083976746 … 0.6071338653564453 0.487244188785553; 0.6482107043266296 0.29799193143844604 … -0.18400776386260986 0.5622365474700928], bias = [0.0; 0.0; … ; 0.0; 0.0;;]), layer_5 = (weight = [0.5102795958518982 -0.4186766743659973 … -0.16871464252471924 -0.057641107589006424], bias = [0.0;;]))"
      ]
     },
     "metadata": {},
     "output_type": "display_data"
    }
   ],
   "source": [
    "chain = FullyConnected(2, 1, tanh; hidden_dims=16, num_layers=4)\n",
    "pinn = PINN(chain)\n",
    "sampler = BetaRandomSampler(1000, (300, 100))\n",
    "strategy = NonAdaptiveTraining(1, (50, 1))\n",
    "prob = Sophon.discretize(allen, pinn, sampler, strategy)"
   ]
  },
  {
   "cell_type": "code",
   "execution_count": 31,
   "metadata": {},
   "outputs": [
    {
     "name": "stdout",
     "output_type": "stream",
     "text": [
      "Loss: 44.98702673315397\n"
     ]
    },
    {
     "name": "stdout",
     "output_type": "stream",
     "text": [
      "Loss: 18.20247076818053\n"
     ]
    },
    {
     "name": "stdout",
     "output_type": "stream",
     "text": [
      "Loss: 14.995489017071364\n"
     ]
    },
    {
     "name": "stdout",
     "output_type": "stream",
     "text": [
      "Loss: 7.5936389022021\n",
      "Loss: 6.348671550275914\n"
     ]
    },
    {
     "name": "stdout",
     "output_type": "stream",
     "text": [
      "Loss: 5.327406637919029\n"
     ]
    },
    {
     "name": "stdout",
     "output_type": "stream",
     "text": [
      "Loss: 4.57280543927111\n",
      "Loss: 3.985416202973313\n"
     ]
    },
    {
     "name": "stdout",
     "output_type": "stream",
     "text": [
      "Loss: 3.791380963035638\n",
      "Loss: 3.509031255401552\n"
     ]
    },
    {
     "name": "stdout",
     "output_type": "stream",
     "text": [
      "Loss: 3.105884395616309\n",
      "Loss: 2.8143197521824375\n"
     ]
    },
    {
     "name": "stdout",
     "output_type": "stream",
     "text": [
      "Loss: 2.6686773899327254\n",
      "Loss: 2.3619381467494303\n"
     ]
    },
    {
     "name": "stdout",
     "output_type": "stream",
     "text": [
      "Loss: 2.1471998440401188\n",
      "Loss: 1.905607057375031\n"
     ]
    },
    {
     "name": "stdout",
     "output_type": "stream",
     "text": [
      "Loss: 1.7959211619386855\n",
      "Loss: 1.4727660959327362\n"
     ]
    },
    {
     "name": "stdout",
     "output_type": "stream",
     "text": [
      "Loss: 1.2651959363525294\n",
      "Loss: 1.224670661722476\n"
     ]
    },
    {
     "name": "stdout",
     "output_type": "stream",
     "text": [
      "Loss: 1.204034659142567\n",
      "Loss: 1.1151689790302344\n"
     ]
    },
    {
     "name": "stdout",
     "output_type": "stream",
     "text": [
      "Loss: 1.0750558326712256\n",
      "Loss: 1.0410109401219478\n"
     ]
    },
    {
     "name": "stdout",
     "output_type": "stream",
     "text": [
      "Loss: 0.9803147555982211\n",
      "Loss: 0.9667206486906428\n",
      "Loss: 0.9543575733045468\n"
     ]
    },
    {
     "name": "stdout",
     "output_type": "stream",
     "text": [
      "Loss: 0.9522397109276917\n",
      "Loss: 0.9420420717450076\n",
      "Loss: 0.9376910532034058\n"
     ]
    },
    {
     "name": "stdout",
     "output_type": "stream",
     "text": [
      "Loss: 0.9295551926965321\n",
      "Loss: 0.9232459143875414\n",
      "Loss: 0.9158131592253524\n"
     ]
    },
    {
     "name": "stdout",
     "output_type": "stream",
     "text": [
      "Loss: 0.9120545740362834\n",
      "Loss: 0.9003436540109231\n"
     ]
    },
    {
     "name": "stdout",
     "output_type": "stream",
     "text": [
      "Loss: 0.8954131747734538\n"
     ]
    },
    {
     "name": "stdout",
     "output_type": "stream",
     "text": [
      "Loss: 0.8491554544835871\n",
      "Loss: 0.8421804178364208\n",
      "Loss: 0.7650594867390056\n"
     ]
    },
    {
     "name": "stdout",
     "output_type": "stream",
     "text": [
      "Loss: 0.7001999368709332\n",
      "Loss: 0.6701973991435866\n"
     ]
    },
    {
     "name": "stdout",
     "output_type": "stream",
     "text": [
      "Loss: 0.6536955284952349\n",
      "Loss: 0.6211214331054641\n"
     ]
    },
    {
     "name": "stdout",
     "output_type": "stream",
     "text": [
      "Loss: 0.6055430030508107\n",
      "Loss: 0.590273030523716\n",
      "Loss: 0.5724435549577326\n"
     ]
    },
    {
     "name": "stdout",
     "output_type": "stream",
     "text": [
      "Loss: 0.5543171975038053\n",
      "Loss: 0.54166841407095\n",
      "Loss: 0.525557368604459\n"
     ]
    },
    {
     "name": "stdout",
     "output_type": "stream",
     "text": [
      "Loss: 0.5193749778320739\n",
      "Loss: 0.505484038823521\n",
      "Loss: 0.49339241258417327\n"
     ]
    },
    {
     "name": "stdout",
     "output_type": "stream",
     "text": [
      "Loss: 0.48901317030636854\n",
      "Loss: 0.48350497054918534\n"
     ]
    },
    {
     "name": "stdout",
     "output_type": "stream",
     "text": [
      "Loss: 0.4706704210039405\n",
      "Loss: 0.4679866494767268\n"
     ]
    },
    {
     "name": "stdout",
     "output_type": "stream",
     "text": [
      "Loss: 0.4646517742510853\n"
     ]
    },
    {
     "name": "stdout",
     "output_type": "stream",
     "text": [
      "Loss: 0.45867056072304\n",
      "Loss: 0.45652083340136246\n",
      "Loss: 0.45461934702171025\n"
     ]
    },
    {
     "name": "stdout",
     "output_type": "stream",
     "text": [
      "Loss: 0.45117698480072743\n",
      "Loss: 0.44890758708640827\n",
      "Loss: 0.4472257319188141\n"
     ]
    },
    {
     "name": "stdout",
     "output_type": "stream",
     "text": [
      "Loss: 0.445164390931892\n",
      "Loss: 0.4399790356584819\n",
      "Loss: 0.43806526086632275\n"
     ]
    },
    {
     "name": "stdout",
     "output_type": "stream",
     "text": [
      "Loss: 0.4284390853640424\n",
      "Loss: 0.42652611918227895\n",
      "Loss: 0.42364564850129455\n"
     ]
    },
    {
     "name": "stdout",
     "output_type": "stream",
     "text": [
      "Loss: 0.4213891710167774\n",
      "Loss: 0.4202209312227569\n",
      "Loss: 0.4182452321265829\n"
     ]
    },
    {
     "name": "stdout",
     "output_type": "stream",
     "text": [
      "Loss: 0.41098530726166616\n"
     ]
    },
    {
     "name": "stdout",
     "output_type": "stream",
     "text": [
      "Loss: 0.3988616188716285\n"
     ]
    },
    {
     "name": "stdout",
     "output_type": "stream",
     "text": [
      "Loss: 0.3744436414905054\n"
     ]
    },
    {
     "name": "stdout",
     "output_type": "stream",
     "text": [
      "Loss: 0.3656527015505344\n",
      "Loss: 0.3595780943028898\n"
     ]
    },
    {
     "name": "stdout",
     "output_type": "stream",
     "text": [
      "Loss: 0.35024980769409236\n",
      "Loss: 0.34363541213786497\n"
     ]
    },
    {
     "name": "stdout",
     "output_type": "stream",
     "text": [
      "Loss: 0.33896419245277637\n",
      "Loss: 0.33160443539275364\n",
      "Loss: 0.29934520645651924\n"
     ]
    },
    {
     "name": "stdout",
     "output_type": "stream",
     "text": [
      "Loss: 0.27291740202254305\n",
      "Loss: 0.2580491087190391\n",
      "Loss: 0.24458629755450975\n"
     ]
    },
    {
     "name": "stdout",
     "output_type": "stream",
     "text": [
      "Loss: 0.2269857208326638\n",
      "Loss: 0.22228291444304416\n",
      "Loss: 0.21613318258628714\n"
     ]
    },
    {
     "name": "stdout",
     "output_type": "stream",
     "text": [
      "Loss: 0.20124516699302306\n",
      "Loss: 0.18548180743871157\n",
      "Loss: 0.17150213165023667\n"
     ]
    },
    {
     "name": "stdout",
     "output_type": "stream",
     "text": [
      "Loss: 0.15832840409029877\n",
      "Loss: 0.13558515029092727\n",
      "Loss: 0.13071044126488332\n"
     ]
    },
    {
     "name": "stdout",
     "output_type": "stream",
     "text": [
      "Loss: 0.11753310054328725\n",
      "Loss: 0.10165373138435263\n"
     ]
    },
    {
     "name": "stdout",
     "output_type": "stream",
     "text": [
      "Loss: 0.09680356630914096\n",
      "Loss: 0.08686081122162416\n",
      "Loss: 0.07423995334056133\n"
     ]
    },
    {
     "name": "stdout",
     "output_type": "stream",
     "text": [
      "Loss: 0.07037427938814494\n",
      "Loss: 0.06521380934371561\n",
      "Loss: 0.06075237895038322\n"
     ]
    },
    {
     "name": "stdout",
     "output_type": "stream",
     "text": [
      "Loss: 0.058083626701258814\n",
      "Loss: 0.05616882221526231\n",
      "Loss: 0.05376587927990706\n"
     ]
    },
    {
     "name": "stdout",
     "output_type": "stream",
     "text": [
      "Loss: 0.051430727191355524\n",
      "Loss: 0.0490848273090182\n",
      "Loss: 0.0463165110653758\n"
     ]
    },
    {
     "name": "stdout",
     "output_type": "stream",
     "text": [
      "Loss: 0.045148912327479654\n",
      "Loss: 0.042392646907904126\n",
      "Loss: 0.041547865694704304\n"
     ]
    },
    {
     "name": "stdout",
     "output_type": "stream",
     "text": [
      "Loss: 0.040574863219492406\n",
      "Loss: 0.037851537449851765\n",
      "Loss: 0.03708038770635672\n"
     ]
    },
    {
     "name": "stdout",
     "output_type": "stream",
     "text": [
      "Loss: 0.036262907799124375\n",
      "Loss: 0.03596276948370315\n",
      "Loss: 0.034879174940110204\n"
     ]
    },
    {
     "name": "stdout",
     "output_type": "stream",
     "text": [
      "Loss: 0.033699005704580655\n",
      "Loss: 0.03235428732008954\n",
      "Loss: 0.030958458322244604\n"
     ]
    },
    {
     "name": "stdout",
     "output_type": "stream",
     "text": [
      "Loss: 0.0288583433273071\n",
      "Loss: 0.027501446504634597\n",
      "Loss: 0.027032320220365925\n"
     ]
    },
    {
     "name": "stdout",
     "output_type": "stream",
     "text": [
      "Loss: 0.02664597661247151\n",
      "Loss: 0.02615245453807549\n",
      "Loss: 0.025697919261014886\n"
     ]
    },
    {
     "name": "stdout",
     "output_type": "stream",
     "text": [
      "Loss: 0.025428728221604555\n",
      "Loss: 0.025020850900325325\n",
      "Loss: 0.024734999505975956\n"
     ]
    },
    {
     "name": "stdout",
     "output_type": "stream",
     "text": [
      "Loss: 0.02418354617327095\n",
      "Loss: 0.023624484329356904\n",
      "Loss: 0.02327616784764292\n"
     ]
    },
    {
     "name": "stdout",
     "output_type": "stream",
     "text": [
      "Loss: 0.022439483182805062\n",
      "Loss: 0.02149151291643806\n",
      "Loss: 0.021080212500218277\n"
     ]
    },
    {
     "name": "stdout",
     "output_type": "stream",
     "text": [
      "Loss: 0.020698975009834326\n",
      "Loss: 0.02017744111032187\n",
      "Loss: 0.019846247921178235\n"
     ]
    },
    {
     "name": "stdout",
     "output_type": "stream",
     "text": [
      "Loss: 0.019460048408640455\n",
      "Loss: 0.019210550123523625\n",
      "Loss: 0.018949249901473786\n"
     ]
    },
    {
     "name": "stdout",
     "output_type": "stream",
     "text": [
      "Loss: 0.01863350622472931\n",
      "Loss: 0.018340192732265878\n",
      "Loss: 0.018075448315131637\n"
     ]
    },
    {
     "name": "stdout",
     "output_type": "stream",
     "text": [
      "Loss: 0.017769384584176966\n",
      "Loss: 0.01747368131058604\n",
      "Loss: 0.017245948249445097\n"
     ]
    },
    {
     "name": "stdout",
     "output_type": "stream",
     "text": [
      "Loss: 0.016966929160265962\n",
      "Loss: 0.016744168458664128\n"
     ]
    },
    {
     "name": "stdout",
     "output_type": "stream",
     "text": [
      "Loss: 0.016455885642963297\n",
      "Loss: 0.01630911478063492\n"
     ]
    },
    {
     "name": "stdout",
     "output_type": "stream",
     "text": [
      "Loss: 0.016039049886016683\n",
      "Loss: 0.015754515111847212\n"
     ]
    },
    {
     "name": "stdout",
     "output_type": "stream",
     "text": [
      "Loss: 0.01557714884355433\n",
      "Loss: 0.015322960591276965\n"
     ]
    },
    {
     "name": "stdout",
     "output_type": "stream",
     "text": [
      "Loss: 0.015141859233815794\n",
      "Loss: 0.014928236054066936\n"
     ]
    },
    {
     "name": "stdout",
     "output_type": "stream",
     "text": [
      "Loss: 0.01474529174570803\n",
      "Loss: 0.014532698243198389\n",
      "Loss: 0.01427760385653456\n"
     ]
    },
    {
     "name": "stdout",
     "output_type": "stream",
     "text": [
      "Loss: 0.014163618833896172\n",
      "Loss: 0.013936747676329866\n"
     ]
    },
    {
     "name": "stdout",
     "output_type": "stream",
     "text": [
      "Loss: 0.013750652581089928\n",
      "Loss: 0.013563492630005164\n"
     ]
    },
    {
     "name": "stdout",
     "output_type": "stream",
     "text": [
      "Loss: 0.0134230371817858\n",
      "Loss: 0.0133177093005285\n"
     ]
    },
    {
     "name": "stdout",
     "output_type": "stream",
     "text": [
      "Loss: 0.01316718352832397\n",
      "Loss: 0.013052029068927756\n"
     ]
    },
    {
     "name": "stdout",
     "output_type": "stream",
     "text": [
      "Loss: 0.012898960490532642\n",
      "Loss: 0.012764534603223951\n"
     ]
    },
    {
     "name": "stdout",
     "output_type": "stream",
     "text": [
      "Loss: 0.012601544168584639\n",
      "Loss: 0.012486072259264475\n",
      "Loss: 0.012422661498591293\n"
     ]
    },
    {
     "name": "stdout",
     "output_type": "stream",
     "text": [
      "Loss: 0.012270432551376732\n",
      "Loss: 0.012098279103380662\n",
      "Loss: 0.011932836621804195\n"
     ]
    },
    {
     "name": "stdout",
     "output_type": "stream",
     "text": [
      "Loss: 0.011795144633631691\n",
      "Loss: 0.011703029465973708\n",
      "Loss: 0.011594818658362213\n"
     ]
    },
    {
     "name": "stdout",
     "output_type": "stream",
     "text": [
      "Loss: 0.011541998386113831\n",
      "Loss: 0.01147325609184756\n"
     ]
    },
    {
     "name": "stdout",
     "output_type": "stream",
     "text": [
      "Loss: 0.011373475453627564\n",
      "Loss: 0.011323954131703376\n"
     ]
    },
    {
     "name": "stdout",
     "output_type": "stream",
     "text": [
      "Loss: 0.011217181797107987\n",
      "Loss: 0.011102438424799257\n"
     ]
    },
    {
     "name": "stdout",
     "output_type": "stream",
     "text": [
      "Loss: 0.011005450954581709\n",
      "Loss: 0.01092926295509514\n",
      "Loss: 0.010837237390562223\n"
     ]
    },
    {
     "name": "stdout",
     "output_type": "stream",
     "text": [
      "Loss: 0.010763408746321998\n",
      "Loss: 0.010694037795498185\n",
      "Loss: 0.010619414031832817\n"
     ]
    },
    {
     "name": "stdout",
     "output_type": "stream",
     "text": [
      "Loss: 0.010567521360613672\n",
      "Loss: 0.010504907900112909\n"
     ]
    },
    {
     "name": "stdout",
     "output_type": "stream",
     "text": [
      "Loss: 0.010448562690868227\n",
      "Loss: 0.010370846570717882\n"
     ]
    },
    {
     "name": "stdout",
     "output_type": "stream",
     "text": [
      "Loss: 0.010317669450811225\n",
      "Loss: 0.010273935801809388\n"
     ]
    },
    {
     "name": "stdout",
     "output_type": "stream",
     "text": [
      "Loss: 0.010234792678428096\n",
      "Loss: 0.01018980003581085\n"
     ]
    },
    {
     "name": "stdout",
     "output_type": "stream",
     "text": [
      "Loss: 0.010162512053244217\n",
      "Loss: 0.010140000652642717\n"
     ]
    },
    {
     "name": "stdout",
     "output_type": "stream",
     "text": [
      "Loss: 0.010114502146684953\n",
      "Loss: 0.010086743443603214\n",
      "Loss: 0.010056205839438963\n"
     ]
    },
    {
     "name": "stdout",
     "output_type": "stream",
     "text": [
      "Loss: 0.010021729890916826\n",
      "Loss: 0.009997302551233293\n",
      "Loss: 0.009979102244145482\n"
     ]
    },
    {
     "name": "stdout",
     "output_type": "stream",
     "text": [
      "Loss: 0.009961998093894382\n",
      "Loss: 0.009939455168937954\n",
      "Loss: 0.009908435447120348\n"
     ]
    },
    {
     "name": "stdout",
     "output_type": "stream",
     "text": [
      "Loss: 0.009885146010002607\n",
      "Loss: 0.009863857709805987\n"
     ]
    },
    {
     "name": "stdout",
     "output_type": "stream",
     "text": [
      "Loss: 0.00983921700759393\n",
      "Loss: 0.009808755395894887\n"
     ]
    },
    {
     "name": "stdout",
     "output_type": "stream",
     "text": [
      "Loss: 0.009784414780747557\n",
      "Loss: 0.009769204965352076\n"
     ]
    },
    {
     "name": "stdout",
     "output_type": "stream",
     "text": [
      "Loss: 0.00975186678760981\n",
      "Loss: 0.009732736526130346\n"
     ]
    },
    {
     "name": "stdout",
     "output_type": "stream",
     "text": [
      "Loss: 0.009705777101753243\n",
      "Loss: 0.009684482208374536\n"
     ]
    },
    {
     "name": "stdout",
     "output_type": "stream",
     "text": [
      "Loss: 0.009657191910205393\n",
      "Loss: 0.009636637561596714\n"
     ]
    },
    {
     "name": "stdout",
     "output_type": "stream",
     "text": [
      "Loss: 0.00961952486471861\n",
      "Loss: 0.009603476651893011\n"
     ]
    },
    {
     "name": "stdout",
     "output_type": "stream",
     "text": [
      "Loss: 0.009587825792183792\n",
      "Loss: 0.00957864939600833\n"
     ]
    },
    {
     "name": "stdout",
     "output_type": "stream",
     "text": [
      "Loss: 0.009559226570426833\n",
      "Loss: 0.009533646180263236\n"
     ]
    },
    {
     "name": "stdout",
     "output_type": "stream",
     "text": [
      "Loss: 0.009516012622025376\n",
      "Loss: 0.009505855332174705\n",
      "Loss: 0.00949750653924825\n"
     ]
    },
    {
     "name": "stdout",
     "output_type": "stream",
     "text": [
      "Loss: 0.00948713042977601\n",
      "Loss: 0.009474780837797738\n"
     ]
    },
    {
     "name": "stdout",
     "output_type": "stream",
     "text": [
      "Loss: 0.009463260280542526\n",
      "Loss: 0.009445832048668265\n"
     ]
    },
    {
     "name": "stdout",
     "output_type": "stream",
     "text": [
      "Loss: 0.009434256766508772\n",
      "Loss: 0.009427651536432042\n",
      "Loss: 0.00941779325823779\n"
     ]
    },
    {
     "name": "stdout",
     "output_type": "stream",
     "text": [
      "Loss: 0.009406788577892958\n",
      "Loss: 0.00939544648773231\n"
     ]
    },
    {
     "name": "stdout",
     "output_type": "stream",
     "text": [
      "Loss: 0.00938118001307548\n",
      "Loss: 0.009367094522085976\n"
     ]
    },
    {
     "name": "stdout",
     "output_type": "stream",
     "text": [
      "Loss: 0.00935448608136491\n",
      "Loss: 0.00934640804873582\n"
     ]
    },
    {
     "name": "stdout",
     "output_type": "stream",
     "text": [
      "Loss: 0.009341353842996173\n",
      "Loss: 0.00933453159644881\n"
     ]
    },
    {
     "name": "stdout",
     "output_type": "stream",
     "text": [
      "Loss: 0.009327780836658068\n",
      "Loss: 0.009317623482144401\n"
     ]
    },
    {
     "name": "stdout",
     "output_type": "stream",
     "text": [
      "Loss: 0.00930908319949908\n",
      "Loss: 0.009301819147786744\n"
     ]
    },
    {
     "name": "stdout",
     "output_type": "stream",
     "text": [
      "Loss: 0.009296525216305862\n",
      "Loss: 0.009289235133059248\n"
     ]
    },
    {
     "name": "stdout",
     "output_type": "stream",
     "text": [
      "Loss: 0.009282206370501637\n",
      "Loss: 0.009274708697481758\n"
     ]
    },
    {
     "name": "stdout",
     "output_type": "stream",
     "text": [
      "Loss: 0.009270873010987234\n",
      "Loss: 0.009265262547895557\n"
     ]
    },
    {
     "name": "stdout",
     "output_type": "stream",
     "text": [
      "Loss: 0.009257741325599957\n",
      "Loss: 0.00924695457998055\n"
     ]
    },
    {
     "name": "stdout",
     "output_type": "stream",
     "text": [
      "Loss: 0.009239445112128498\n",
      "Loss: 0.009230875901585667\n"
     ]
    },
    {
     "name": "stdout",
     "output_type": "stream",
     "text": [
      "Loss: 0.009217746275259476\n",
      "Loss: 0.009206168044719689\n"
     ]
    },
    {
     "name": "stdout",
     "output_type": "stream",
     "text": [
      "Loss: 0.009200483618356601\n",
      "Loss: 0.009193008533216737\n"
     ]
    },
    {
     "name": "stdout",
     "output_type": "stream",
     "text": [
      "Loss: 0.009184033255079964\n",
      "Loss: 0.009175772273773279\n",
      "Loss: 0.009169011043666495\n"
     ]
    },
    {
     "name": "stdout",
     "output_type": "stream",
     "text": [
      "Loss: 0.009164350719604659\n",
      "Loss: 0.009158408340121677\n"
     ]
    },
    {
     "name": "stdout",
     "output_type": "stream",
     "text": [
      "Loss: 0.009153838365032385\n",
      "Loss: 0.009147491938497641\n"
     ]
    },
    {
     "name": "stdout",
     "output_type": "stream",
     "text": [
      "Loss: 0.009139966271478846\n",
      "Loss: 0.009129834803430714\n",
      "Loss: 0.00911738135696697\n"
     ]
    },
    {
     "name": "stdout",
     "output_type": "stream",
     "text": [
      "Loss: 0.009111081769748907\n",
      "Loss: 0.009105433525921728\n",
      "Loss: 0.00910116227703685\n"
     ]
    },
    {
     "name": "stdout",
     "output_type": "stream",
     "text": [
      "Loss: 0.009095111268454258\n",
      "Loss: 0.009089061937328924\n",
      "Loss: 0.00908252644563545\n"
     ]
    },
    {
     "name": "stdout",
     "output_type": "stream",
     "text": [
      "Loss: 0.00907487103659568\n",
      "Loss: 0.009068321708692886\n"
     ]
    },
    {
     "name": "stdout",
     "output_type": "stream",
     "text": [
      "Loss: 0.009062281716521079\n",
      "Loss: 0.009053001138147127\n"
     ]
    },
    {
     "name": "stdout",
     "output_type": "stream",
     "text": [
      "Loss: 0.009045395301629284\n",
      "Loss: 0.009037537392412531\n",
      "Loss: 0.009033925843639686\n"
     ]
    },
    {
     "name": "stdout",
     "output_type": "stream",
     "text": [
      "Loss: 0.009031763327532704\n",
      "Loss: 0.009029997493994303\n"
     ]
    },
    {
     "name": "stdout",
     "output_type": "stream",
     "text": [
      "Loss: 0.00902665422351975\n",
      "Loss: 0.009021313270089459\n"
     ]
    },
    {
     "name": "stdout",
     "output_type": "stream",
     "text": [
      "Loss: 0.009016778314253732\n",
      "Loss: 0.009011543846858238\n",
      "Loss: 0.009006052557072193\n"
     ]
    },
    {
     "name": "stdout",
     "output_type": "stream",
     "text": [
      "Loss: 0.009000182068418974\n",
      "Loss: 0.00899737419416468\n",
      "Loss: 0.008994758295118999\n"
     ]
    },
    {
     "name": "stdout",
     "output_type": "stream",
     "text": [
      "Loss: 0.008989738999585297\n",
      "Loss: 0.00898366700014146\n"
     ]
    },
    {
     "name": "stdout",
     "output_type": "stream",
     "text": [
      "Loss: 0.008974752799994927\n",
      "Loss: 0.008968430926421299\n"
     ]
    },
    {
     "name": "stdout",
     "output_type": "stream",
     "text": [
      "Loss: 0.00896385913419172\n",
      "Loss: 0.008960739486266701\n",
      "Loss: 0.008958282471487401\n"
     ]
    },
    {
     "name": "stdout",
     "output_type": "stream",
     "text": [
      "Loss: 0.008954662718226258\n",
      "Loss: 0.008951355061093555\n",
      "Loss: 0.008949106380317783\n"
     ]
    },
    {
     "name": "stdout",
     "output_type": "stream",
     "text": [
      "Loss: 0.008945275269633152\n",
      "Loss: 0.008939748820956949\n"
     ]
    },
    {
     "name": "stdout",
     "output_type": "stream",
     "text": [
      "Loss: 0.008935295243184633\n",
      "Loss: 0.00893251066239355\n"
     ]
    },
    {
     "name": "stdout",
     "output_type": "stream",
     "text": [
      "Loss: 0.008929930804384372\n",
      "Loss: 0.008926447281986771\n"
     ]
    },
    {
     "name": "stdout",
     "output_type": "stream",
     "text": [
      "Loss: 0.008922974447319985\n",
      "Loss: 0.008920389437493846\n",
      "Loss: 0.008916430583667652\n"
     ]
    },
    {
     "name": "stdout",
     "output_type": "stream",
     "text": [
      "Loss: 0.008909273952212877\n",
      "Loss: 0.00890231949180124\n"
     ]
    },
    {
     "name": "stdout",
     "output_type": "stream",
     "text": [
      "Loss: 0.008897125537959686\n",
      "Loss: 0.008890469042407529\n"
     ]
    },
    {
     "name": "stdout",
     "output_type": "stream",
     "text": [
      "Loss: 0.008884807332228604\n",
      "Loss: 0.00888046028020467\n"
     ]
    },
    {
     "name": "stdout",
     "output_type": "stream",
     "text": [
      "Loss: 0.008874762349484403\n",
      "Loss: 0.008870997245117246\n",
      "Loss: 0.008868059602815252\n"
     ]
    },
    {
     "name": "stdout",
     "output_type": "stream",
     "text": [
      "Loss: 0.008865258883005347\n",
      "Loss: 0.008862437479365347\n"
     ]
    },
    {
     "name": "stdout",
     "output_type": "stream",
     "text": [
      "Loss: 0.008860277109698311\n",
      "Loss: 0.008857101623700776\n",
      "Loss: 0.008854274242882092\n"
     ]
    },
    {
     "name": "stdout",
     "output_type": "stream",
     "text": [
      "Loss: 0.008851661400950357\n",
      "Loss: 0.008848872815009156\n"
     ]
    },
    {
     "name": "stdout",
     "output_type": "stream",
     "text": [
      "Loss: 0.00884613088163315\n",
      "Loss: 0.008842332490681826\n"
     ]
    },
    {
     "name": "stdout",
     "output_type": "stream",
     "text": [
      "Loss: 0.00883771333223911\n",
      "Loss: 0.008833858042650054\n"
     ]
    },
    {
     "name": "stdout",
     "output_type": "stream",
     "text": [
      "Loss: 0.008830448326962075\n",
      "Loss: 0.008825317455296865\n"
     ]
    },
    {
     "name": "stdout",
     "output_type": "stream",
     "text": [
      "Loss: 0.008818667754428343\n",
      "Loss: 0.008812885788162292\n",
      "Loss: 0.00880904640237577\n"
     ]
    },
    {
     "name": "stdout",
     "output_type": "stream",
     "text": [
      "Loss: 0.00880377699035094\n",
      "Loss: 0.008800872597138132\n",
      "Loss: 0.008798509866110688\n"
     ]
    },
    {
     "name": "stdout",
     "output_type": "stream",
     "text": [
      "Loss: 0.00879384013439015\n",
      "Loss: 0.008788781149754307\n"
     ]
    },
    {
     "name": "stdout",
     "output_type": "stream",
     "text": [
      "Loss: 0.008785244130439069\n",
      "Loss: 0.008782212112919787\n",
      "Loss: 0.008778114432203107\n"
     ]
    },
    {
     "name": "stdout",
     "output_type": "stream",
     "text": [
      "Loss: 0.008770780006570023\n",
      "Loss: 0.008764327427787691\n",
      "Loss: 0.008760676633935188\n"
     ]
    },
    {
     "name": "stdout",
     "output_type": "stream",
     "text": [
      "Loss: 0.008754931349815923\n",
      "Loss: 0.008750897398480463\n",
      "Loss: 0.008746304090579794\n"
     ]
    },
    {
     "name": "stdout",
     "output_type": "stream",
     "text": [
      "Loss: 0.008743602076615776\n",
      "Loss: 0.00874010652092832\n"
     ]
    },
    {
     "name": "stdout",
     "output_type": "stream",
     "text": [
      "Loss: 0.008736025092120174\n",
      "Loss: 0.008732832443810408\n"
     ]
    },
    {
     "name": "stdout",
     "output_type": "stream",
     "text": [
      "Loss: 0.008729102671153054\n",
      "Loss: 0.008726511980135238\n",
      "Loss: 0.008723186407213366\n"
     ]
    },
    {
     "name": "stdout",
     "output_type": "stream",
     "text": [
      "Loss: 0.008719170578282443\n",
      "Loss: 0.008715100378420855\n"
     ]
    },
    {
     "name": "stdout",
     "output_type": "stream",
     "text": [
      "Loss: 0.008710605326014302\n",
      "Loss: 0.00870793051654884\n"
     ]
    },
    {
     "name": "stdout",
     "output_type": "stream",
     "text": [
      "Loss: 0.008704081431619073\n",
      "Loss: 0.008697754586207418\n"
     ]
    },
    {
     "name": "stdout",
     "output_type": "stream",
     "text": [
      "Loss: 0.008690017453151722\n",
      "Loss: 0.00868539218867383\n"
     ]
    },
    {
     "name": "stdout",
     "output_type": "stream",
     "text": [
      "Loss: 0.00868100338196434\n",
      "Loss: 0.008678315875703273\n",
      "Loss: 0.008675023146992564\n"
     ]
    },
    {
     "name": "stdout",
     "output_type": "stream",
     "text": [
      "Loss: 0.008669380191400391\n",
      "Loss: 0.008663944531665581\n"
     ]
    },
    {
     "name": "stdout",
     "output_type": "stream",
     "text": [
      "Loss: 0.008657232723400502\n",
      "Loss: 0.008650240692095008\n"
     ]
    },
    {
     "name": "stdout",
     "output_type": "stream",
     "text": [
      "Loss: 0.008645717905518881\n",
      "Loss: 0.008642019823877271\n"
     ]
    },
    {
     "name": "stdout",
     "output_type": "stream",
     "text": [
      "Loss: 0.00863998374483207\n",
      "Loss: 0.008638301288959557\n",
      "Loss: 0.008636630405180474\n"
     ]
    },
    {
     "name": "stdout",
     "output_type": "stream",
     "text": [
      "Loss: 0.008634126008372864\n",
      "Loss: 0.00863210557399513\n"
     ]
    },
    {
     "name": "stdout",
     "output_type": "stream",
     "text": [
      "Loss: 0.008629502376785845\n",
      "Loss: 0.00862661279659764\n"
     ]
    },
    {
     "name": "stdout",
     "output_type": "stream",
     "text": [
      "Loss: 0.00862280287241435\n",
      "Loss: 0.008619772893218492\n"
     ]
    },
    {
     "name": "stdout",
     "output_type": "stream",
     "text": [
      "Loss: 0.008616421407286357\n",
      "Loss: 0.008612111260654257\n"
     ]
    },
    {
     "name": "stdout",
     "output_type": "stream",
     "text": [
      "Loss: 0.00860555778939516\n",
      "Loss: 0.008600003819412701\n",
      "Loss: 0.008595456102023868\n"
     ]
    },
    {
     "name": "stdout",
     "output_type": "stream",
     "text": [
      "Loss: 0.008590527730827866\n",
      "Loss: 0.00858592720229359\n"
     ]
    },
    {
     "name": "stdout",
     "output_type": "stream",
     "text": [
      "Loss: 0.008580816554734912\n",
      "Loss: 0.00857713983310337\n",
      "Loss: 0.008573842932759939\n"
     ]
    },
    {
     "name": "stdout",
     "output_type": "stream",
     "text": [
      "Loss: 0.008571231390322865\n",
      "Loss: 0.008566301809041433\n"
     ]
    },
    {
     "name": "stdout",
     "output_type": "stream",
     "text": [
      "Loss: 0.008559227555717253\n",
      "Loss: 0.008552581772281609\n",
      "Loss: 0.0085464210203831\n"
     ]
    },
    {
     "name": "stdout",
     "output_type": "stream",
     "text": [
      "Loss: 0.008543197396018231\n",
      "Loss: 0.008539635677650327\n",
      "Loss: 0.008534835898568603\n"
     ]
    },
    {
     "name": "stdout",
     "output_type": "stream",
     "text": [
      "Loss: 0.008531589249519076\n",
      "Loss: 0.00852767256016587\n"
     ]
    },
    {
     "name": "stdout",
     "output_type": "stream",
     "text": [
      "Loss: 0.00852242323224361\n",
      "Loss: 0.008517889694634165\n"
     ]
    },
    {
     "name": "stdout",
     "output_type": "stream",
     "text": [
      "Loss: 0.008512197150250951\n",
      "Loss: 0.008506596009872013\n"
     ]
    },
    {
     "name": "stdout",
     "output_type": "stream",
     "text": [
      "Loss: 0.008500970781743536\n",
      "Loss: 0.008497715842878423\n",
      "Loss: 0.00849493140873241\n"
     ]
    },
    {
     "name": "stdout",
     "output_type": "stream",
     "text": [
      "Loss: 0.008492209973053468\n",
      "Loss: 0.008489031770846447\n",
      "Loss: 0.00848577723260964\n"
     ]
    },
    {
     "name": "stdout",
     "output_type": "stream",
     "text": [
      "Loss: 0.008483114662342563\n",
      "Loss: 0.008478938061765329\n"
     ]
    },
    {
     "name": "stdout",
     "output_type": "stream",
     "text": [
      "Loss: 0.008474105804036285\n",
      "Loss: 0.008466740231138822\n"
     ]
    },
    {
     "name": "stdout",
     "output_type": "stream",
     "text": [
      "Loss: 0.008460827899685051\n",
      "Loss: 0.008456117235255092\n"
     ]
    },
    {
     "name": "stdout",
     "output_type": "stream",
     "text": [
      "Loss: 0.008452631632132479\n",
      "Loss: 0.008447636757402626\n"
     ]
    },
    {
     "name": "stdout",
     "output_type": "stream",
     "text": [
      "Loss: 0.008443072912196108\n",
      "Loss: 0.008438485270187106\n"
     ]
    },
    {
     "name": "stdout",
     "output_type": "stream",
     "text": [
      "Loss: 0.00843319179879894\n",
      "Loss: 0.00842683556501124\n"
     ]
    },
    {
     "name": "stdout",
     "output_type": "stream",
     "text": [
      "Loss: 0.008424176326261525\n",
      "Loss: 0.008422072102638034\n"
     ]
    },
    {
     "name": "stdout",
     "output_type": "stream",
     "text": [
      "Loss: 0.008419804745236688\n",
      "Loss: 0.008414155188726628\n"
     ]
    },
    {
     "name": "stdout",
     "output_type": "stream",
     "text": [
      "Loss: 0.008404523166076634\n",
      "Loss: 0.008396672620499453\n"
     ]
    },
    {
     "name": "stdout",
     "output_type": "stream",
     "text": [
      "Loss: 0.008387209053714026\n",
      "Loss: 0.008381823974284316\n"
     ]
    },
    {
     "name": "stdout",
     "output_type": "stream",
     "text": [
      "Loss: 0.008376403964869897\n",
      "Loss: 0.008372081050964302\n"
     ]
    },
    {
     "name": "stdout",
     "output_type": "stream",
     "text": [
      "Loss: 0.008367813265854904\n",
      "Loss: 0.008364115947767049\n"
     ]
    },
    {
     "name": "stdout",
     "output_type": "stream",
     "text": [
      "Loss: 0.008360425144036909\n",
      "Loss: 0.00835490626253826\n"
     ]
    },
    {
     "name": "stdout",
     "output_type": "stream",
     "text": [
      "Loss: 0.008351807120987808\n",
      "Loss: 0.008349480813515291\n"
     ]
    },
    {
     "name": "stdout",
     "output_type": "stream",
     "text": [
      "Loss: 0.008346024417936875\n",
      "Loss: 0.008342893550608986\n"
     ]
    },
    {
     "name": "stdout",
     "output_type": "stream",
     "text": [
      "Loss: 0.008337212673519456\n",
      "Loss: 0.008331083359122185\n"
     ]
    },
    {
     "name": "stdout",
     "output_type": "stream",
     "text": [
      "Loss: 0.008325069184659379\n",
      "Loss: 0.008319124811937955\n"
     ]
    },
    {
     "name": "stdout",
     "output_type": "stream",
     "text": [
      "Loss: 0.00831382633313857\n",
      "Loss: 0.008309300869681988\n"
     ]
    },
    {
     "name": "stdout",
     "output_type": "stream",
     "text": [
      "Loss: 0.008303551414553174\n",
      "Loss: 0.008298424466133658\n"
     ]
    },
    {
     "name": "stdout",
     "output_type": "stream",
     "text": [
      "Loss: 0.00829133812595746\n",
      "Loss: 0.008285547407398989\n"
     ]
    },
    {
     "name": "stdout",
     "output_type": "stream",
     "text": [
      "Loss: 0.00828174467995478\n",
      "Loss: 0.008275585789926146\n"
     ]
    },
    {
     "name": "stdout",
     "output_type": "stream",
     "text": [
      "Loss: 0.008268418132713144\n",
      "Loss: 0.008258837053698368\n"
     ]
    },
    {
     "name": "stdout",
     "output_type": "stream",
     "text": [
      "Loss: 0.008253438289865122\n",
      "Loss: 0.008246264531998898\n"
     ]
    },
    {
     "name": "stdout",
     "output_type": "stream",
     "text": [
      "Loss: 0.00823900282947775\n",
      "Loss: 0.008231808658541178\n"
     ]
    },
    {
     "name": "stdout",
     "output_type": "stream",
     "text": [
      "Loss: 0.008226401601055432\n",
      "Loss: 0.008221008600378468\n"
     ]
    },
    {
     "name": "stdout",
     "output_type": "stream",
     "text": [
      "Loss: 0.008215803861420429\n",
      "Loss: 0.00820986195560129\n"
     ]
    },
    {
     "name": "stdout",
     "output_type": "stream",
     "text": [
      "Loss: 0.008200025235422289\n",
      "Loss: 0.008189746498327356\n"
     ]
    },
    {
     "name": "stdout",
     "output_type": "stream",
     "text": [
      "Loss: 0.008181177793436167\n",
      "Loss: 0.008174249579967967\n"
     ]
    },
    {
     "name": "stdout",
     "output_type": "stream",
     "text": [
      "Loss: 0.00816684580071886\n",
      "Loss: 0.008160562996485132\n"
     ]
    },
    {
     "name": "stdout",
     "output_type": "stream",
     "text": [
      "Loss: 0.008155800989409927\n",
      "Loss: 0.008149361082060968\n"
     ]
    },
    {
     "name": "stdout",
     "output_type": "stream",
     "text": [
      "Loss: 0.0081396221171727\n",
      "Loss: 0.008129535287348203\n"
     ]
    },
    {
     "name": "stdout",
     "output_type": "stream",
     "text": [
      "Loss: 0.00812221274178552\n",
      "Loss: 0.008114514468317818\n"
     ]
    },
    {
     "name": "stdout",
     "output_type": "stream",
     "text": [
      "Loss: 0.008108878841716405\n",
      "Loss: 0.008097003225178626\n"
     ]
    },
    {
     "name": "stdout",
     "output_type": "stream",
     "text": [
      "Loss: 0.008087205137468018\n",
      "Loss: 0.008078585763346465\n",
      "Loss: 0.008067385443268965\n"
     ]
    },
    {
     "name": "stdout",
     "output_type": "stream",
     "text": [
      "Loss: 0.008057182668605398\n",
      "Loss: 0.008043613386195043\n",
      "Loss: 0.008030721310059153\n"
     ]
    },
    {
     "name": "stdout",
     "output_type": "stream",
     "text": [
      "Loss: 0.008018585841986349\n",
      "Loss: 0.008009352378157933\n",
      "Loss: 0.008001066836119007\n"
     ]
    },
    {
     "name": "stdout",
     "output_type": "stream",
     "text": [
      "Loss: 0.007989852266524688\n",
      "Loss: 0.007980815761082996\n",
      "Loss: 0.007971610324290047\n"
     ]
    },
    {
     "name": "stdout",
     "output_type": "stream",
     "text": [
      "Loss: 0.00796156496446447\n",
      "Loss: 0.007939919174563647\n"
     ]
    },
    {
     "name": "stdout",
     "output_type": "stream",
     "text": [
      "Loss: 0.007917629299232861\n",
      "Loss: 0.007894742703159593\n",
      "Loss: 0.007876606310388211\n"
     ]
    },
    {
     "name": "stdout",
     "output_type": "stream",
     "text": [
      "Loss: 0.007857072193874454\n",
      "Loss: 0.007839582463929531\n",
      "Loss: 0.00782634473018442\n"
     ]
    },
    {
     "name": "stdout",
     "output_type": "stream",
     "text": [
      "Loss: 0.007812750248222849\n",
      "Loss: 0.007791789722282371\n"
     ]
    },
    {
     "name": "stdout",
     "output_type": "stream",
     "text": [
      "Loss: 0.00776971649580093\n",
      "Loss: 0.007741233493242517\n"
     ]
    },
    {
     "name": "stdout",
     "output_type": "stream",
     "text": [
      "Loss: 0.007713958049100557\n",
      "Loss: 0.007676648287373658\n"
     ]
    },
    {
     "name": "stdout",
     "output_type": "stream",
     "text": [
      "Loss: 0.007640960995420515\n",
      "Loss: 0.007597737080149514\n",
      "Loss: 0.0075814031446153505\n"
     ]
    },
    {
     "name": "stdout",
     "output_type": "stream",
     "text": [
      "Loss: 0.0075469730772515465\n",
      "Loss: 0.007514873825322492\n"
     ]
    },
    {
     "name": "stdout",
     "output_type": "stream",
     "text": [
      "Loss: 0.007484183569229563\n",
      "Loss: 0.007446538349474826\n"
     ]
    },
    {
     "name": "stdout",
     "output_type": "stream",
     "text": [
      "Loss: 0.007414751685321457\n",
      "Loss: 0.00737769236908325\n",
      "Loss: 0.007347271943054009\n"
     ]
    },
    {
     "name": "stdout",
     "output_type": "stream",
     "text": [
      "Loss: 0.0073208297660787855\n",
      "Loss: 0.007283739721867688\n",
      "Loss: 0.007252349579364656\n"
     ]
    },
    {
     "name": "stdout",
     "output_type": "stream",
     "text": [
      "Loss: 0.00721818943082176\n",
      "Loss: 0.007184239718062001\n"
     ]
    },
    {
     "name": "stdout",
     "output_type": "stream",
     "text": [
      "Loss: 0.007140366774426028\n",
      "Loss: 0.007080713107943227\n"
     ]
    },
    {
     "name": "stdout",
     "output_type": "stream",
     "text": [
      "Loss: 0.007039437378516085\n",
      "Loss: 0.0069873413803494\n",
      "Loss: 0.006953093394178752\n"
     ]
    },
    {
     "name": "stdout",
     "output_type": "stream",
     "text": [
      "Loss: 0.006904162153126228\n",
      "Loss: 0.006869537739682087\n",
      "Loss: 0.006804616006992146\n"
     ]
    },
    {
     "name": "stdout",
     "output_type": "stream",
     "text": [
      "Loss: 0.006755276060459534\n",
      "Loss: 0.006709389674982593\n"
     ]
    },
    {
     "name": "stdout",
     "output_type": "stream",
     "text": [
      "Loss: 0.006663826608599022\n",
      "Loss: 0.006609989332134354\n"
     ]
    },
    {
     "name": "stdout",
     "output_type": "stream",
     "text": [
      "Loss: 0.006550015513722697\n",
      "Loss: 0.006505994884431368\n"
     ]
    },
    {
     "name": "stdout",
     "output_type": "stream",
     "text": [
      "Loss: 0.006378783802169549\n",
      "Loss: 0.006308948131359457\n"
     ]
    },
    {
     "name": "stdout",
     "output_type": "stream",
     "text": [
      "Loss: 0.006219408094111789\n",
      "Loss: 0.0061350028037890315\n"
     ]
    },
    {
     "name": "stdout",
     "output_type": "stream",
     "text": [
      "Loss: 0.0060826830616725076\n",
      "Loss: 0.006019227050357699\n"
     ]
    },
    {
     "name": "stdout",
     "output_type": "stream",
     "text": [
      "Loss: 0.005924371877749173\n",
      "Loss: 0.005891664890803771\n"
     ]
    },
    {
     "name": "stdout",
     "output_type": "stream",
     "text": [
      "Loss: 0.0057702909653545185\n",
      "Loss: 0.005694969676463327\n"
     ]
    },
    {
     "name": "stdout",
     "output_type": "stream",
     "text": [
      "Loss: 0.005615539220269528\n",
      "Loss: 0.005515500084876159\n"
     ]
    },
    {
     "name": "stdout",
     "output_type": "stream",
     "text": [
      "Loss: 0.005447955618614443\n",
      "Loss: 0.005382695508497361\n"
     ]
    },
    {
     "name": "stdout",
     "output_type": "stream",
     "text": [
      "Loss: 0.005318345413914435\n",
      "Loss: 0.005262580901248444\n"
     ]
    },
    {
     "name": "stdout",
     "output_type": "stream",
     "text": [
      "Loss: 0.005212945208997251\n",
      "Loss: 0.0051095999070727765\n"
     ]
    },
    {
     "name": "stdout",
     "output_type": "stream",
     "text": [
      "Loss: 0.0049692875740544075\n",
      "Loss: 0.0048625031242088695\n"
     ]
    },
    {
     "name": "stdout",
     "output_type": "stream",
     "text": [
      "Loss: 0.004762311015263135\n",
      "Loss: 0.004630567410304993\n",
      "Loss: 0.00453423535956225\n"
     ]
    },
    {
     "name": "stdout",
     "output_type": "stream",
     "text": [
      "Loss: 0.0044483449757853535\n",
      "Loss: 0.00438724782850829\n"
     ]
    },
    {
     "name": "stdout",
     "output_type": "stream",
     "text": [
      "Loss: 0.004287210458297075\n",
      "Loss: 0.004180304585099313\n"
     ]
    },
    {
     "name": "stdout",
     "output_type": "stream",
     "text": [
      "Loss: 0.004054091611649945\n",
      "Loss: 0.003949205529522571\n"
     ]
    },
    {
     "name": "stdout",
     "output_type": "stream",
     "text": [
      "Loss: 0.0038656370747267355\n",
      "Loss: 0.003798067071030281\n",
      "Loss: 0.0037045777443040907\n"
     ]
    },
    {
     "name": "stdout",
     "output_type": "stream",
     "text": [
      "Loss: 0.003580426531641444\n",
      "Loss: 0.003507391479467129\n",
      "Loss: 0.0034353120186545864\n"
     ]
    },
    {
     "name": "stdout",
     "output_type": "stream",
     "text": [
      "Loss: 0.0033741032192808906\n",
      "Loss: 0.0033144275438328997\n",
      "Loss: 0.0032576478612539915\n"
     ]
    },
    {
     "name": "stdout",
     "output_type": "stream",
     "text": [
      "Loss: 0.0031979511191951456\n",
      "Loss: 0.003132696226220662\n",
      "Loss: 0.003041300624832991\n"
     ]
    },
    {
     "name": "stdout",
     "output_type": "stream",
     "text": [
      "Loss: 0.002982554638975909\n",
      "Loss: 0.002928059941065687\n"
     ]
    },
    {
     "name": "stdout",
     "output_type": "stream",
     "text": [
      "Loss: 0.002828676772484274\n",
      "Loss: 0.0027638013231773176\n",
      "Loss: 0.002671495772425724\n"
     ]
    },
    {
     "name": "stdout",
     "output_type": "stream",
     "text": [
      "Loss: 0.002626116489294422\n",
      "Loss: 0.002585628362283278\n"
     ]
    },
    {
     "name": "stdout",
     "output_type": "stream",
     "text": [
      "Loss: 0.0025491594196682815\n",
      "Loss: 0.0024837142988858893\n"
     ]
    },
    {
     "name": "stdout",
     "output_type": "stream",
     "text": [
      "Loss: 0.002434692023820031\n",
      "Loss: 0.0023884387538579822\n"
     ]
    },
    {
     "name": "stdout",
     "output_type": "stream",
     "text": [
      "Loss: 0.002313193538821306\n",
      "Loss: 0.002264389937507554\n",
      "Loss: 0.002210703370184513\n"
     ]
    },
    {
     "name": "stdout",
     "output_type": "stream",
     "text": [
      "Loss: 0.002165801255871201\n",
      "Loss: 0.002129898635386993\n",
      "Loss: 0.0021114553979056615\n"
     ]
    },
    {
     "name": "stdout",
     "output_type": "stream",
     "text": [
      "Loss: 0.0020748812926232618\n",
      "Loss: 0.0020351316573780994\n"
     ]
    },
    {
     "name": "stdout",
     "output_type": "stream",
     "text": [
      "Loss: 0.001989577364441033\n",
      "Loss: 0.0019610237123792477\n",
      "Loss: 0.001927641280249594\n"
     ]
    },
    {
     "name": "stdout",
     "output_type": "stream",
     "text": [
      "Loss: 0.0018924773069337974\n",
      "Loss: 0.0018607409624878716\n"
     ]
    },
    {
     "name": "stdout",
     "output_type": "stream",
     "text": [
      "Loss: 0.0018263286907926168\n",
      "Loss: 0.0017731110748634169\n"
     ]
    },
    {
     "name": "stdout",
     "output_type": "stream",
     "text": [
      "Loss: 0.0017227121914328287\n",
      "Loss: 0.0016872757485176765\n",
      "Loss: 0.0016356055818477987\n"
     ]
    },
    {
     "name": "stdout",
     "output_type": "stream",
     "text": [
      "Loss: 0.0015960838665263384\n",
      "Loss: 0.0015585485346871768\n"
     ]
    },
    {
     "name": "stdout",
     "output_type": "stream",
     "text": [
      "Loss: 0.0015259412193695146\n",
      "Loss: 0.001504077424590934\n"
     ]
    },
    {
     "name": "stdout",
     "output_type": "stream",
     "text": [
      "Loss: 0.0014714081437805842\n",
      "Loss: 0.001441532874831104\n"
     ]
    },
    {
     "name": "stdout",
     "output_type": "stream",
     "text": [
      "Loss: 0.0014161315177310537\n",
      "Loss: 0.001387028152624263\n"
     ]
    },
    {
     "name": "stdout",
     "output_type": "stream",
     "text": [
      "Loss: 0.0013592733352066303\n",
      "Loss: 0.0013372200397462767\n",
      "Loss: 0.0013049260397456955\n"
     ]
    },
    {
     "name": "stdout",
     "output_type": "stream",
     "text": [
      "Loss: 0.0012754094057916298\n",
      "Loss: 0.0012550178887828476\n"
     ]
    },
    {
     "name": "stdout",
     "output_type": "stream",
     "text": [
      "Loss: 0.0012314455664009\n",
      "Loss: 0.0012005122728539319\n"
     ]
    },
    {
     "name": "stdout",
     "output_type": "stream",
     "text": [
      "Loss: 0.0011712456001902415\n",
      "Loss: 0.0011318461002658917\n"
     ]
    },
    {
     "name": "stdout",
     "output_type": "stream",
     "text": [
      "Loss: 0.0011060584543310411\n",
      "Loss: 0.001089152860759436\n"
     ]
    },
    {
     "name": "stdout",
     "output_type": "stream",
     "text": [
      "Loss: 0.0010665264430715843\n",
      "Loss: 0.0010411588714415512\n"
     ]
    },
    {
     "name": "stdout",
     "output_type": "stream",
     "text": [
      "Loss: 0.0010251957520035432\n",
      "Loss: 0.0010100116076544154\n",
      "Loss: 0.0009854340826161787\n"
     ]
    },
    {
     "name": "stdout",
     "output_type": "stream",
     "text": [
      "Loss: 0.0009641396678041607\n",
      "Loss: 0.0009446069933150305\n",
      "Loss: 0.0009326336701203791\n"
     ]
    },
    {
     "name": "stdout",
     "output_type": "stream",
     "text": [
      "Loss: 0.0009217764036325649\n",
      "Loss: 0.0009101453293770052\n"
     ]
    },
    {
     "name": "stdout",
     "output_type": "stream",
     "text": [
      "Loss: 0.0008990842540850709\n",
      "Loss: 0.0008868188477229715\n"
     ]
    },
    {
     "name": "stdout",
     "output_type": "stream",
     "text": [
      "Loss: 0.0008689481996619118\n",
      "Loss: 0.0008564741842987008\n",
      "Loss: 0.0008468691991736734\n"
     ]
    },
    {
     "name": "stdout",
     "output_type": "stream",
     "text": [
      "Loss: 0.0008354022257680791\n",
      "Loss: 0.0008219161575603989\n"
     ]
    },
    {
     "name": "stdout",
     "output_type": "stream",
     "text": [
      "Loss: 0.0008056286458609917\n",
      "Loss: 0.0007903178449186688\n"
     ]
    },
    {
     "name": "stdout",
     "output_type": "stream",
     "text": [
      "Loss: 0.0007726840271150722\n",
      "Loss: 0.0007585502631060295\n"
     ]
    },
    {
     "name": "stdout",
     "output_type": "stream",
     "text": [
      "Loss: 0.000743954105175436\n",
      "Loss: 0.0007329753790373555\n"
     ]
    },
    {
     "name": "stdout",
     "output_type": "stream",
     "text": [
      "Loss: 0.0007190949500559684\n",
      "Loss: 0.0007056391054006833\n"
     ]
    },
    {
     "name": "stdout",
     "output_type": "stream",
     "text": [
      "Loss: 0.0006965693051465583\n",
      "Loss: 0.0006869830574912812\n"
     ]
    },
    {
     "name": "stdout",
     "output_type": "stream",
     "text": [
      "Loss: 0.0006804132150208553\n",
      "Loss: 0.0006699711766850497\n"
     ]
    },
    {
     "name": "stdout",
     "output_type": "stream",
     "text": [
      "Loss: 0.0006580871109980477\n",
      "Loss: 0.0006484079775598952\n"
     ]
    },
    {
     "name": "stdout",
     "output_type": "stream",
     "text": [
      "Loss: 0.0006406845079937006\n",
      "Loss: 0.000630441726277588\n"
     ]
    },
    {
     "name": "stdout",
     "output_type": "stream",
     "text": [
      "Loss: 0.0006228465393197175\n",
      "Loss: 0.0006140553165231799\n"
     ]
    },
    {
     "name": "stdout",
     "output_type": "stream",
     "text": [
      "Loss: 0.0006042397418499371\n",
      "Loss: 0.0005942045656716332\n"
     ]
    },
    {
     "name": "stdout",
     "output_type": "stream",
     "text": [
      "Loss: 0.0005864806415217327\n",
      "Loss: 0.0005804889331580119\n"
     ]
    },
    {
     "name": "stdout",
     "output_type": "stream",
     "text": [
      "Loss: 0.0005761060436901937\n",
      "Loss: 0.000571944562990283\n"
     ]
    },
    {
     "name": "stdout",
     "output_type": "stream",
     "text": [
      "Loss: 0.0005671924399886152\n",
      "Loss: 0.0005611373754728438\n"
     ]
    },
    {
     "name": "stdout",
     "output_type": "stream",
     "text": [
      "Loss: 0.0005534593845854682\n",
      "Loss: 0.0005472231609561177\n"
     ]
    },
    {
     "name": "stdout",
     "output_type": "stream",
     "text": [
      "Loss: 0.0005417601163308938\n",
      "Loss: 0.0005359574108444389\n"
     ]
    },
    {
     "name": "stdout",
     "output_type": "stream",
     "text": [
      "Loss: 0.0005293992060317361\n",
      "Loss: 0.0005221592828421173\n"
     ]
    },
    {
     "name": "stdout",
     "output_type": "stream",
     "text": [
      "Loss: 0.0005170095145396326\n",
      "Loss: 0.0005122697118878948\n"
     ]
    },
    {
     "name": "stdout",
     "output_type": "stream",
     "text": [
      "Loss: 0.000507432465615246\n",
      "Loss: 0.0005024054594476797\n"
     ]
    },
    {
     "name": "stdout",
     "output_type": "stream",
     "text": [
      "Loss: 0.000498267765154593\n",
      "Loss: 0.0004928883455365608\n"
     ]
    },
    {
     "name": "stdout",
     "output_type": "stream",
     "text": [
      "Loss: 0.00048692793500312463\n",
      "Loss: 0.0004811952279196369\n"
     ]
    },
    {
     "name": "stdout",
     "output_type": "stream",
     "text": [
      "Loss: 0.00047502182776694045\n",
      "Loss: 0.0004684812018158914\n"
     ]
    },
    {
     "name": "stdout",
     "output_type": "stream",
     "text": [
      "Loss: 0.00046314327546662906\n",
      "Loss: 0.0004576387579949574\n"
     ]
    },
    {
     "name": "stdout",
     "output_type": "stream",
     "text": [
      "Loss: 0.00045288073351643673\n",
      "Loss: 0.0004478407022108115\n"
     ]
    },
    {
     "name": "stdout",
     "output_type": "stream",
     "text": [
      "Loss: 0.00044291147747374396\n",
      "Loss: 0.00043718772821957385\n"
     ]
    },
    {
     "name": "stdout",
     "output_type": "stream",
     "text": [
      "Loss: 0.0004314432153162288\n",
      "Loss: 0.0004278189627326595\n"
     ]
    },
    {
     "name": "stdout",
     "output_type": "stream",
     "text": [
      "Loss: 0.0004220571492386071\n",
      "Loss: 0.0004154089083421637\n"
     ]
    },
    {
     "name": "stdout",
     "output_type": "stream",
     "text": [
      "Loss: 0.00040863633786286733\n",
      "Loss: 0.0004027967209776407\n"
     ]
    },
    {
     "name": "stdout",
     "output_type": "stream",
     "text": [
      "Loss: 0.00039940328114228827\n",
      "Loss: 0.0003967189081468018\n"
     ]
    },
    {
     "name": "stdout",
     "output_type": "stream",
     "text": [
      "Loss: 0.0003924949211786708\n",
      "Loss: 0.00038655032974309697\n"
     ]
    },
    {
     "name": "stdout",
     "output_type": "stream",
     "text": [
      "Loss: 0.00038218916167503616\n",
      "Loss: 0.00037798054346241877\n"
     ]
    },
    {
     "name": "stdout",
     "output_type": "stream",
     "text": [
      "Loss: 0.00037414473006370386\n",
      "Loss: 0.00037053083438554394\n"
     ]
    },
    {
     "name": "stdout",
     "output_type": "stream",
     "text": [
      "Loss: 0.000367091548353236\n",
      "Loss: 0.0003620269760237402\n"
     ]
    },
    {
     "name": "stdout",
     "output_type": "stream",
     "text": [
      "Loss: 0.00035763619800448617\n",
      "Loss: 0.0003537633651421358\n"
     ]
    },
    {
     "name": "stdout",
     "output_type": "stream",
     "text": [
      "Loss: 0.0003500179441545449\n",
      "Loss: 0.00034775236536366543\n"
     ]
    },
    {
     "name": "stdout",
     "output_type": "stream",
     "text": [
      "Loss: 0.00034520614714438243\n",
      "Loss: 0.0003423267963175944\n"
     ]
    },
    {
     "name": "stdout",
     "output_type": "stream",
     "text": [
      "Loss: 0.00033885009620770903\n",
      "Loss: 0.0003335991497041702\n"
     ]
    },
    {
     "name": "stdout",
     "output_type": "stream",
     "text": [
      "Loss: 0.0003298877735468774\n",
      "Loss: 0.0003265582665028116\n"
     ]
    },
    {
     "name": "stdout",
     "output_type": "stream",
     "text": [
      "Loss: 0.0003226161481216898\n",
      "Loss: 0.0003186935019202215\n"
     ]
    },
    {
     "name": "stdout",
     "output_type": "stream",
     "text": [
      "Loss: 0.0003147218226544163\n",
      "Loss: 0.00031113838940182093\n"
     ]
    },
    {
     "name": "stdout",
     "output_type": "stream",
     "text": [
      "Loss: 0.0003092557454229942\n"
     ]
    },
    {
     "name": "stdout",
     "output_type": "stream",
     "text": [
      "Loss: 0.00030657186162873245\n",
      "Loss: 0.0003027723554108414\n"
     ]
    },
    {
     "name": "stdout",
     "output_type": "stream",
     "text": [
      "Loss: 0.00029873243369976535\n",
      "Loss: 0.00029578908170711717\n"
     ]
    },
    {
     "name": "stdout",
     "output_type": "stream",
     "text": [
      "Loss: 0.00029376055156080984\n"
     ]
    },
    {
     "name": "stdout",
     "output_type": "stream",
     "text": [
      "Loss: 0.00029112589390221157\n",
      "Loss: 0.0002891506799028373\n"
     ]
    },
    {
     "name": "stdout",
     "output_type": "stream",
     "text": [
      "Loss: 0.00028685797418343987\n",
      "Loss: 0.00028423280578702666\n"
     ]
    },
    {
     "name": "stdout",
     "output_type": "stream",
     "text": [
      "Loss: 0.0002817181611040032\n",
      "Loss: 0.0002798942110131228\n"
     ]
    },
    {
     "name": "stdout",
     "output_type": "stream",
     "text": [
      "Loss: 0.00027759125943890975\n",
      "Loss: 0.0002748385820630451\n"
     ]
    },
    {
     "name": "stdout",
     "output_type": "stream",
     "text": [
      "Loss: 0.0002729039238556658\n",
      "Loss: 0.0002704777009027438\n"
     ]
    },
    {
     "name": "stdout",
     "output_type": "stream",
     "text": [
      "Loss: 0.00026741666693969317\n",
      "Loss: 0.00026508030353657137\n",
      "Loss: 0.00026311915968501865\n"
     ]
    },
    {
     "name": "stdout",
     "output_type": "stream",
     "text": [
      "Loss: 0.0002603975755923969\n",
      "Loss: 0.00025699153675596274\n"
     ]
    },
    {
     "name": "stdout",
     "output_type": "stream",
     "text": [
      "Loss: 0.0002529435858972578\n",
      "Loss: 0.00024969525722014994\n"
     ]
    },
    {
     "name": "stdout",
     "output_type": "stream",
     "text": [
      "Loss: 0.00024769921657624407\n",
      "Loss: 0.00024521715561026577\n"
     ]
    },
    {
     "name": "stdout",
     "output_type": "stream",
     "text": [
      "Loss: 0.00024283321468351974\n",
      "Loss: 0.00024066322993095617\n"
     ]
    },
    {
     "name": "stdout",
     "output_type": "stream",
     "text": [
      "Loss: 0.00023898746827749476\n",
      "Loss: 0.00023774183722038506\n"
     ]
    },
    {
     "name": "stdout",
     "output_type": "stream",
     "text": [
      "Loss: 0.00023649846009838438\n",
      "Loss: 0.0002349839108932027\n"
     ]
    },
    {
     "name": "stdout",
     "output_type": "stream",
     "text": [
      "Loss: 0.00023328764672335875\n",
      "Loss: 0.00023163129294448924\n"
     ]
    },
    {
     "name": "stdout",
     "output_type": "stream",
     "text": [
      "Loss: 0.00023036488764495853\n",
      "Loss: 0.00022879591477780058\n"
     ]
    },
    {
     "name": "stdout",
     "output_type": "stream",
     "text": [
      "Loss: 0.00022718634632465346\n",
      "Loss: 0.00022487867229742378\n"
     ]
    },
    {
     "name": "stdout",
     "output_type": "stream",
     "text": [
      "Loss: 0.00022184506474443646\n",
      "Loss: 0.00021890561362502019\n"
     ]
    },
    {
     "name": "stdout",
     "output_type": "stream",
     "text": [
      "Loss: 0.00021598201206919618\n",
      "Loss: 0.00021401133819032308\n"
     ]
    },
    {
     "name": "stdout",
     "output_type": "stream",
     "text": [
      "Loss: 0.00021149271344231009\n",
      "Loss: 0.0002082170126062141\n"
     ]
    },
    {
     "name": "stdout",
     "output_type": "stream",
     "text": [
      "Loss: 0.00020464601812136406\n",
      "Loss: 0.0002023853886059279\n"
     ]
    },
    {
     "name": "stdout",
     "output_type": "stream",
     "text": [
      "Loss: 0.00020051776658152855\n",
      "Loss: 0.00019784169334001523\n"
     ]
    },
    {
     "name": "stdout",
     "output_type": "stream",
     "text": [
      "Loss: 0.00019578605717458138\n",
      "Loss: 0.0001932672233857858\n"
     ]
    },
    {
     "name": "stdout",
     "output_type": "stream",
     "text": [
      "Loss: 0.00019204977724626322\n",
      "Loss: 0.00019025821427579785\n"
     ]
    },
    {
     "name": "stdout",
     "output_type": "stream",
     "text": [
      "Loss: 0.0001885041103849361\n",
      "Loss: 0.0001868724693804942\n"
     ]
    },
    {
     "name": "stdout",
     "output_type": "stream",
     "text": [
      "Loss: 0.0001854442827093322\n",
      "Loss: 0.0001843794828251179\n"
     ]
    },
    {
     "name": "stdout",
     "output_type": "stream",
     "text": [
      "Loss: 0.00018350192874361747\n",
      "Loss: 0.0001824341538576306\n"
     ]
    },
    {
     "name": "stdout",
     "output_type": "stream",
     "text": [
      "Loss: 0.00018073156488480316\n",
      "Loss: 0.00017837631008303277\n"
     ]
    },
    {
     "name": "stdout",
     "output_type": "stream",
     "text": [
      "Loss: 0.00017613270171725214\n",
      "Loss: 0.00017429488219387185\n"
     ]
    },
    {
     "name": "stdout",
     "output_type": "stream",
     "text": [
      "Loss: 0.0001724555452750567\n",
      "Loss: 0.00017074358997175735\n"
     ]
    },
    {
     "name": "stdout",
     "output_type": "stream",
     "text": [
      "Loss: 0.00016919639280996225\n",
      "Loss: 0.00016763440876217705\n"
     ]
    },
    {
     "name": "stdout",
     "output_type": "stream",
     "text": [
      "Loss: 0.00016609813648386218\n",
      "Loss: 0.00016494682188817345\n"
     ]
    },
    {
     "name": "stdout",
     "output_type": "stream",
     "text": [
      "Loss: 0.0001636998496653663\n",
      "Loss: 0.00016256502736775692\n"
     ]
    },
    {
     "name": "stdout",
     "output_type": "stream",
     "text": [
      "Loss: 0.0001614451892162188\n",
      "Loss: 0.00016040137479545973\n"
     ]
    },
    {
     "name": "stdout",
     "output_type": "stream",
     "text": [
      "Loss: 0.00015954308513184596\n",
      "Loss: 0.00015881371186278587\n"
     ]
    },
    {
     "name": "stdout",
     "output_type": "stream",
     "text": [
      "Loss: 0.00015811105765264604\n",
      "Loss: 0.00015709776802760986\n"
     ]
    },
    {
     "name": "stdout",
     "output_type": "stream",
     "text": [
      "Loss: 0.00015478391411174523\n",
      "Loss: 0.00015206963255212132\n"
     ]
    },
    {
     "name": "stdout",
     "output_type": "stream",
     "text": [
      "Loss: 0.00015060253051342692\n",
      "Loss: 0.00014924725912029304\n"
     ]
    },
    {
     "name": "stdout",
     "output_type": "stream",
     "text": [
      "Loss: 0.00014787420287302249\n",
      "Loss: 0.00014665770991703755\n"
     ]
    },
    {
     "name": "stdout",
     "output_type": "stream",
     "text": [
      "Loss: 0.00014535682517564626\n",
      "Loss: 0.00014419677148644678\n"
     ]
    },
    {
     "name": "stdout",
     "output_type": "stream",
     "text": [
      "Loss: 0.0001430637823322483\n",
      "Loss: 0.0001420584624193996\n"
     ]
    },
    {
     "name": "stdout",
     "output_type": "stream",
     "text": [
      "Loss: 0.00014094474557561844\n",
      "Loss: 0.00013997557053568142\n"
     ]
    },
    {
     "name": "stdout",
     "output_type": "stream",
     "text": [
      "Loss: 0.00013896349938713226\n",
      "Loss: 0.00013796457113855246\n"
     ]
    },
    {
     "name": "stdout",
     "output_type": "stream",
     "text": [
      "Loss: 0.00013697220239935207\n",
      "Loss: 0.00013625118676257347\n"
     ]
    },
    {
     "name": "stdout",
     "output_type": "stream",
     "text": [
      "Loss: 0.00013564848088704542\n",
      "Loss: 0.00013501681961467621\n"
     ]
    },
    {
     "name": "stdout",
     "output_type": "stream",
     "text": [
      "Loss: 0.0001343936745473973\n",
      "Loss: 0.00013361892385084276\n"
     ]
    },
    {
     "name": "stdout",
     "output_type": "stream",
     "text": [
      "Loss: 0.00013287912378134412\n",
      "Loss: 0.0001318301944069827\n"
     ]
    },
    {
     "name": "stdout",
     "output_type": "stream",
     "text": [
      "Loss: 0.00013032128187610167\n",
      "Loss: 0.00012925772696920716\n"
     ]
    },
    {
     "name": "stdout",
     "output_type": "stream",
     "text": [
      "Loss: 0.00012834547768899224\n",
      "Loss: 0.00012705635496690996\n"
     ]
    },
    {
     "name": "stdout",
     "output_type": "stream",
     "text": [
      "Loss: 0.00012597882226710784\n",
      "Loss: 0.00012503457874417457\n"
     ]
    },
    {
     "name": "stdout",
     "output_type": "stream",
     "text": [
      "Loss: 0.00012422651490426477\n"
     ]
    },
    {
     "name": "stdout",
     "output_type": "stream",
     "text": [
      "Loss: 0.00012333204688658606\n",
      "Loss: 0.00012240547411120802\n"
     ]
    },
    {
     "name": "stdout",
     "output_type": "stream",
     "text": [
      "Loss: 0.00012153396117370496\n",
      "Loss: 0.00012065571702433772\n"
     ]
    },
    {
     "name": "stdout",
     "output_type": "stream",
     "text": [
      "Loss: 0.00012007232236033107\n",
      "Loss: 0.00011939280057909604\n"
     ]
    },
    {
     "name": "stdout",
     "output_type": "stream",
     "text": [
      "Loss: 0.0001184908459164874\n",
      "Loss: 0.00011733605553211098\n"
     ]
    },
    {
     "name": "stdout",
     "output_type": "stream",
     "text": [
      "Loss: 0.00011670240179089608\n",
      "Loss: 0.00011622596739717777\n"
     ]
    },
    {
     "name": "stdout",
     "output_type": "stream",
     "text": [
      "Loss: 0.00011541051186075541\n",
      "Loss: 0.00011413604899849743\n"
     ]
    },
    {
     "name": "stdout",
     "output_type": "stream",
     "text": [
      "Loss: 0.00011292143302718784\n",
      "Loss: 0.00011145481643742562\n"
     ]
    },
    {
     "name": "stdout",
     "output_type": "stream",
     "text": [
      "Loss: 0.0001103132097806764\n",
      "Loss: 0.00010912689904672372\n"
     ]
    },
    {
     "name": "stdout",
     "output_type": "stream",
     "text": [
      "Loss: 0.0001084377610465238\n",
      "Loss: 0.00010781324143549812\n",
      "Loss: 0.00010732579038007955\n"
     ]
    },
    {
     "name": "stdout",
     "output_type": "stream",
     "text": [
      "Loss: 0.0001069090618239832\n",
      "Loss: 0.00010642626556315919\n"
     ]
    },
    {
     "name": "stdout",
     "output_type": "stream",
     "text": [
      "Loss: 0.00010586821376677523\n",
      "Loss: 0.0001053158321987608\n"
     ]
    },
    {
     "name": "stdout",
     "output_type": "stream",
     "text": [
      "Loss: 0.00010466569497245734\n",
      "Loss: 0.00010406859395262769\n"
     ]
    },
    {
     "name": "stdout",
     "output_type": "stream",
     "text": [
      "Loss: 0.0001033754937110198\n",
      "Loss: 0.00010263958604981013\n"
     ]
    },
    {
     "name": "stdout",
     "output_type": "stream",
     "text": [
      "Loss: 0.00010173913822408061\n",
      "Loss: 0.0001008958045019991\n"
     ]
    },
    {
     "name": "stdout",
     "output_type": "stream",
     "text": [
      "Loss: 0.00010015548080337966\n",
      "Loss: 9.958994367747835e-5\n"
     ]
    },
    {
     "name": "stdout",
     "output_type": "stream",
     "text": [
      "Loss: 9.910056428027524e-5\n"
     ]
    },
    {
     "name": "stdout",
     "output_type": "stream",
     "text": [
      "Loss: 9.844555106554493e-5\n",
      "Loss: 9.789479785476986e-5\n"
     ]
    },
    {
     "name": "stdout",
     "output_type": "stream",
     "text": [
      "Loss: 9.74193707711013e-5\n",
      "Loss: 9.699602026516025e-5\n"
     ]
    },
    {
     "name": "stdout",
     "output_type": "stream",
     "text": [
      "Loss: 9.656075294142661e-5\n",
      "Loss: 9.594435916875691e-5\n"
     ]
    },
    {
     "name": "stdout",
     "output_type": "stream",
     "text": [
      "Loss: 9.51391014336289e-5\n",
      "Loss: 9.41556864028793e-5\n"
     ]
    },
    {
     "name": "stdout",
     "output_type": "stream",
     "text": [
      "Loss: 9.296634335332452e-5\n",
      "Loss: 9.082577191936755e-5\n"
     ]
    },
    {
     "name": "stdout",
     "output_type": "stream",
     "text": [
      "Loss: 8.906075955713131e-5\n",
      "Loss: 8.743178750927667e-5\n"
     ]
    },
    {
     "name": "stdout",
     "output_type": "stream",
     "text": [
      "Loss: 8.623949129485941e-5\n",
      "Loss: 8.534435673955389e-5\n"
     ]
    },
    {
     "name": "stdout",
     "output_type": "stream",
     "text": [
      "Loss: 8.468441537675719e-5\n",
      "Loss: 8.406828288162487e-5\n"
     ]
    },
    {
     "name": "stdout",
     "output_type": "stream",
     "text": [
      "Loss: 8.357785232102368e-5\n",
      "Loss: 8.31880934676434e-5\n"
     ]
    },
    {
     "name": "stdout",
     "output_type": "stream",
     "text": [
      "Loss: 8.293434026170202e-5\n"
     ]
    },
    {
     "name": "stdout",
     "output_type": "stream",
     "text": [
      "Loss: 8.260344718989527e-5\n",
      "Loss: 8.201785857281745e-5\n"
     ]
    },
    {
     "name": "stdout",
     "output_type": "stream",
     "text": [
      "Loss: 8.122872404259011e-5\n",
      "Loss: 8.054359567393745e-5\n"
     ]
    },
    {
     "name": "stdout",
     "output_type": "stream",
     "text": [
      "Loss: 7.978191558629805e-5\n",
      "Loss: 7.916843868268637e-5\n"
     ]
    },
    {
     "name": "stdout",
     "output_type": "stream",
     "text": [
      "Loss: 7.885198934532384e-5\n",
      "Loss: 7.853520840995568e-5\n"
     ]
    },
    {
     "name": "stdout",
     "output_type": "stream",
     "text": [
      "Loss: 7.812217679275686e-5\n",
      "Loss: 7.742225983463858e-5\n"
     ]
    },
    {
     "name": "stdout",
     "output_type": "stream",
     "text": [
      "Loss: 7.682148910725017e-5\n",
      "Loss: 7.628098240355822e-5\n"
     ]
    },
    {
     "name": "stdout",
     "output_type": "stream",
     "text": [
      "Loss: 7.561277999534196e-5\n",
      "Loss: 7.486274715487077e-5\n"
     ]
    },
    {
     "name": "stdout",
     "output_type": "stream",
     "text": [
      "Loss: 7.418920921194179e-5\n",
      "Loss: 7.375953415197033e-5\n"
     ]
    },
    {
     "name": "stdout",
     "output_type": "stream",
     "text": [
      "Loss: 7.335616241282857e-5\n",
      "Loss: 7.299563361542794e-5\n"
     ]
    },
    {
     "name": "stdout",
     "output_type": "stream",
     "text": [
      "Loss: 7.261414731482755e-5\n",
      "Loss: 7.228845136157015e-5\n"
     ]
    },
    {
     "name": "stdout",
     "output_type": "stream",
     "text": [
      "Loss: 7.175624138790007e-5\n",
      "Loss: 7.124666931337048e-5\n"
     ]
    },
    {
     "name": "stdout",
     "output_type": "stream",
     "text": [
      "Loss: 7.072125559506439e-5\n",
      "Loss: 6.997449927821607e-5\n"
     ]
    },
    {
     "name": "stdout",
     "output_type": "stream",
     "text": [
      "Loss: 6.932788599545473e-5\n",
      "Loss: 6.900010218766192e-5\n",
      "Loss: 6.875614013174294e-5\n"
     ]
    },
    {
     "name": "stdout",
     "output_type": "stream",
     "text": [
      "Loss: 6.858537444953626e-5\n",
      "Loss: 6.839620856000289e-5\n"
     ]
    },
    {
     "name": "stdout",
     "output_type": "stream",
     "text": [
      "Loss: 6.792219897492813e-5\n",
      "Loss: 6.735799958670728e-5\n"
     ]
    },
    {
     "name": "stdout",
     "output_type": "stream",
     "text": [
      "Loss: 6.70147011560308e-5\n",
      "Loss: 6.677068565122076e-5\n"
     ]
    },
    {
     "name": "stdout",
     "output_type": "stream",
     "text": [
      "Loss: 6.643842771914594e-5\n",
      "Loss: 6.607159169569031e-5\n"
     ]
    },
    {
     "name": "stdout",
     "output_type": "stream",
     "text": [
      "Loss: 6.567614997367351e-5\n",
      "Loss: 6.535472548496073e-5\n"
     ]
    },
    {
     "name": "stdout",
     "output_type": "stream",
     "text": [
      "Loss: 6.51141785064894e-5\n",
      "Loss: 6.48828166500265e-5\n"
     ]
    },
    {
     "name": "stdout",
     "output_type": "stream",
     "text": [
      "Loss: 6.465776713859302e-5\n",
      "Loss: 6.441082885016049e-5\n"
     ]
    },
    {
     "name": "stdout",
     "output_type": "stream",
     "text": [
      "Loss: 6.39508750136649e-5\n",
      "Loss: 6.340511875963568e-5\n"
     ]
    },
    {
     "name": "stdout",
     "output_type": "stream",
     "text": [
      "Loss: 6.283133280649025e-5\n"
     ]
    },
    {
     "name": "stdout",
     "output_type": "stream",
     "text": [
      "Loss: 6.236194477556885e-5\n",
      "Loss: 6.193228196736835e-5\n"
     ]
    },
    {
     "name": "stdout",
     "output_type": "stream",
     "text": [
      "Loss: 6.160647926304992e-5\n",
      "Loss: 6.133843711830268e-5\n"
     ]
    },
    {
     "name": "stdout",
     "output_type": "stream",
     "text": [
      "Loss: 6.088644499793196e-5\n",
      "Loss: 6.0517225950983486e-5\n"
     ]
    },
    {
     "name": "stdout",
     "output_type": "stream",
     "text": [
      "Loss: 6.0173296679890434e-5\n",
      "Loss: 5.9732468284388714e-5\n"
     ]
    },
    {
     "name": "stdout",
     "output_type": "stream",
     "text": [
      "Loss: 5.9381691084100935e-5\n",
      "Loss: 5.914747176080432e-5\n"
     ]
    },
    {
     "name": "stdout",
     "output_type": "stream",
     "text": [
      "Loss: 5.887699542468956e-5\n",
      "Loss: 5.86317200195872e-5\n"
     ]
    },
    {
     "name": "stdout",
     "output_type": "stream",
     "text": [
      "Loss: 5.839200204323879e-5\n",
      "Loss: 5.8139480707651196e-5\n"
     ]
    },
    {
     "name": "stdout",
     "output_type": "stream",
     "text": [
      "Loss: 5.7838261267536717e-5\n",
      "Loss: 5.735202421480202e-5\n"
     ]
    },
    {
     "name": "stdout",
     "output_type": "stream",
     "text": [
      "Loss: 5.674129657106206e-5\n",
      "Loss: 5.636309888182443e-5\n"
     ]
    },
    {
     "name": "stdout",
     "output_type": "stream",
     "text": [
      "Loss: 5.618979627693827e-5\n",
      "Loss: 5.6066929647363005e-5\n"
     ]
    },
    {
     "name": "stdout",
     "output_type": "stream",
     "text": [
      "Loss: 5.5871661317783264e-5\n",
      "Loss: 5.568771486785087e-5\n"
     ]
    },
    {
     "name": "stdout",
     "output_type": "stream",
     "text": [
      "Loss: 5.5385179150062555e-5\n",
      "Loss: 5.5056525525837355e-5\n"
     ]
    },
    {
     "name": "stdout",
     "output_type": "stream",
     "text": [
      "Loss: 5.4679649858426657e-5\n",
      "Loss: 5.4148945803024025e-5\n"
     ]
    },
    {
     "name": "stdout",
     "output_type": "stream",
     "text": [
      "Loss: 5.372795211529459e-5\n",
      "Loss: 5.351079706443363e-5\n"
     ]
    },
    {
     "name": "stdout",
     "output_type": "stream",
     "text": [
      "Loss: 5.337389552789721e-5\n",
      "Loss: 5.321012939764585e-5\n"
     ]
    },
    {
     "name": "stdout",
     "output_type": "stream",
     "text": [
      "Loss: 5.298550026246193e-5\n",
      "Loss: 5.264922954470479e-5\n"
     ]
    },
    {
     "name": "stdout",
     "output_type": "stream",
     "text": [
      "Loss: 5.235163334275346e-5\n",
      "Loss: 5.209548659888718e-5\n"
     ]
    },
    {
     "name": "stdout",
     "output_type": "stream",
     "text": [
      "Loss: 5.184858477728373e-5\n",
      "Loss: 5.156557588742718e-5\n"
     ]
    },
    {
     "name": "stdout",
     "output_type": "stream",
     "text": [
      "Loss: 5.133285845711679e-5\n",
      "Loss: 5.106076039048281e-5\n"
     ]
    },
    {
     "name": "stdout",
     "output_type": "stream",
     "text": [
      "Loss: 5.085769869806936e-5\n",
      "Loss: 5.068984690679752e-5\n"
     ]
    },
    {
     "name": "stdout",
     "output_type": "stream",
     "text": [
      "Loss: 5.0455869853079334e-5\n",
      "Loss: 5.017701510657573e-5\n"
     ]
    },
    {
     "name": "stdout",
     "output_type": "stream",
     "text": [
      "Loss: 4.99293273410641e-5\n",
      "Loss: 4.977192436507237e-5\n"
     ]
    },
    {
     "name": "stdout",
     "output_type": "stream",
     "text": [
      "Loss: 4.9648823048329675e-5\n",
      "Loss: 4.9486673470684636e-5\n"
     ]
    },
    {
     "name": "stdout",
     "output_type": "stream",
     "text": [
      "Loss: 4.9296830081109735e-5\n",
      "Loss: 4.912413409883979e-5\n"
     ]
    },
    {
     "name": "stdout",
     "output_type": "stream",
     "text": [
      "Loss: 4.888463012969394e-5\n",
      "Loss: 4.857074055939322e-5\n"
     ]
    },
    {
     "name": "stdout",
     "output_type": "stream",
     "text": [
      "Loss: 4.8213074850527144e-5\n",
      "Loss: 4.799809497295183e-5\n"
     ]
    },
    {
     "name": "stdout",
     "output_type": "stream",
     "text": [
      "Loss: 4.774603588908845e-5\n",
      "Loss: 4.7514644738969135e-5\n"
     ]
    },
    {
     "name": "stdout",
     "output_type": "stream",
     "text": [
      "Loss: 4.728993715006215e-5\n",
      "Loss: 4.7009141675190415e-5\n"
     ]
    },
    {
     "name": "stdout",
     "output_type": "stream",
     "text": [
      "Loss: 4.670850081073842e-5\n",
      "Loss: 4.6470221204627593e-5\n"
     ]
    },
    {
     "name": "stdout",
     "output_type": "stream",
     "text": [
      "Loss: 4.6297329073864384e-5\n",
      "Loss: 4.611303241876592e-5\n"
     ]
    },
    {
     "name": "stdout",
     "output_type": "stream",
     "text": [
      "Loss: 4.583777974617742e-5\n",
      "Loss: 4.5470866278021644e-5\n"
     ]
    },
    {
     "name": "stdout",
     "output_type": "stream",
     "text": [
      "Loss: 4.5018317157220207e-5\n",
      "Loss: 4.445459891720488e-5\n"
     ]
    },
    {
     "name": "stdout",
     "output_type": "stream",
     "text": [
      "Loss: 4.387172108764417e-5\n",
      "Loss: 4.332344734580882e-5\n",
      "Loss: 4.2845254902725006e-5\n"
     ]
    },
    {
     "name": "stdout",
     "output_type": "stream",
     "text": [
      "Loss: 4.253341673544109e-5\n",
      "Loss: 4.235786059792729e-5\n"
     ]
    },
    {
     "name": "stdout",
     "output_type": "stream",
     "text": [
      "Loss: 4.224619580433114e-5\n",
      "Loss: 4.218701171251076e-5\n"
     ]
    },
    {
     "name": "stdout",
     "output_type": "stream",
     "text": [
      "Loss: 4.2087995831854165e-5\n",
      "Loss: 4.197903028600109e-5\n"
     ]
    },
    {
     "name": "stdout",
     "output_type": "stream",
     "text": [
      "Loss: 4.170279665825259e-5\n",
      "Loss: 4.1356053180322954e-5\n"
     ]
    },
    {
     "name": "stdout",
     "output_type": "stream",
     "text": [
      "Loss: 4.10768226332793e-5\n",
      "Loss: 4.078504739318808e-5\n"
     ]
    },
    {
     "name": "stdout",
     "output_type": "stream",
     "text": [
      "Loss: 4.059860676380137e-5\n",
      "Loss: 4.042286915187288e-5\n"
     ]
    },
    {
     "data": {
      "text/plain": [
       "u: \u001b[0mComponentVector{Float64}(layer_1 = (weight = [2.80641718631523 0.6557756578698686; 1.4266945095470318 -0.8783212646222041; … ; 0.8008478730502606 -0.8087564717313618; 2.2782819519935096 1.2114436424902661], bias = [-2.0169100345589337; 0.5065200281803994; … ; 0.6463349704162958; -0.13126984973852693;;]), layer_2 = (weight = [-0.8087294148925803 -0.2332560220188731 … -0.3854764778795967 -0.5494403703351767; 0.022297409821127667 -0.016093669034510073 … -0.49174324918555845 -0.0047393733321688366; … ; 0.5241000417508866 -0.31878903452143537 … 0.7177391906906554 1.1600656497925106; -2.8808015442246084 -0.5865506136660533 … -0.14822834898015708 -0.709314352608551], bias = [-0.5558145296774603; 0.7139192562340807; … ; 0.5722975206929012; 0.5702362918450086;;]), layer_3 = (weight = [-0.6449852632831458 -0.33437106276208167 … 0.15352819079180458 0.872952098813823; -0.0037698085303170046 0.3408797088444681 … -0.30751112923020124 0.024118539063009356; … ; -0.047488032215661405 0.4896767574963244 … -0.14687424011637518 -0.09687130898422419; 1.0729542707345117 -0.05336070833366685 … 0.3884968126224567 0.2742549768919156], bias = [0.6401344555928004; -0.9467878084990842; … ; 0.3803250599277942; 0.9637892105510149;;]), layer_4 = (weight = [-0.6432778599791996 0.19023372334231442 … 0.2574463825605739 0.5665232699825978; 0.09383729990932302 -0.1205865701456816 … 0.141789757150161 -0.9556208540651264; … ; -0.42716592955231525 -0.5557713495441572 … 0.4970363355629724 0.027971002721810617; 0.7380966441446122 0.5710916571784115 … -0.6786693772743192 0.726172238480821], bias = [-0.29973796898267935; -0.5946590966294218; … ; -0.3421328501744198; -0.14743458696600903;;]), layer_5 = (weight = [-0.2232257043417717 -0.018322261437749714 … -0.1402010791618552 0.5731004343957369], bias = [0.6666498778417023;;]))"
      ]
     },
     "metadata": {},
     "output_type": "display_data"
    }
   ],
   "source": [
    "function callback(p, l)\n",
    "    println(\"Loss: $l\")\n",
    "    return false\n",
    "end\n",
    "\n",
    "res = Optimization.solve(prob, BFGS(); maxiters=1000, callback=callback)"
   ]
  },
  {
   "cell_type": "code",
   "execution_count": 32,
   "metadata": {},
   "outputs": [
    {
     "data": {
      "image/png": "[encoded data removed]"
     },
     "metadata": {},
     "output_type": "display_data"
    }
   ],
   "source": [
    "using CairoMakie, MakiePublication\n",
    "\n",
    "phi = pinn.phi\n",
    "xs, ts = [infimum(d.domain):0.01:supremum(d.domain) for d in allen.domain]\n",
    "axis = (xlabel=L\"t\", ylabel=L\"x\", title=\"Prediction\")\n",
    "u_pred = [sum(pinn.phi([x, t], res.u)) for x in xs, t in ts]\n",
    "heatmap(ts, xs, u_pred', axis=axis)"
   ]
  },
  {
   "cell_type": "code",
   "execution_count": 33,
   "metadata": {},
   "outputs": [
    {
     "data": {
      "image/png": "[encoded data removed]"
     },
     "metadata": {},
     "output_type": "display_data"
    }
   ],
   "source": [
    "lines(vec(xs),vec([sum(pinn.phi([x, 1.0], res.u)) for x in xs]))"
   ]
  },
  {
   "cell_type": "code",
   "execution_count": 34,
   "metadata": {},
   "outputs": [
    {
     "data": {
      "image/png": "[encoded data removed]"
     },
     "metadata": {},
     "output_type": "display_data"
    },
    {
     "data": {
      "image/png": "[encoded data removed]"
     },
     "metadata": {},
     "output_type": "display_data"
    },
    {
     "data": {
      "image/png": "[encoded data removed]"
     },
     "metadata": {},
     "output_type": "display_data"
    },
    {
     "data": {
      "image/png": "[encoded data removed]"
     },
     "metadata": {},
     "output_type": "display_data"
    },
    {
     "data": {
      "image/png": "[encoded data removed]"
     },
     "metadata": {},
     "output_type": "display_data"
    },
    {
     "data": {
      "image/png": "[encoded data removed]"
     },
     "metadata": {},
     "output_type": "display_data"
    }
   ],
   "source": [
    "for α in [0.6, 0.8, 1.0] \n",
    "    sampler = remake(sampler; α=α)\n",
    "    data = Sophon.sample(allen, sampler)\n",
    "    prob = remake(prob; p=data, u0=res.u)\n",
    "    res = Optimization.solve(prob, BFGS(); maxiters=1000)\n",
    "\n",
    "    u_pred = [sum(pinn.phi([x, t], res.u)) for x in xs, t in ts]\n",
    "    fig, ax, hm = heatmap(ts, xs, u_pred', axis=axis)\n",
    "    display(fig)\n",
    "\n",
    "    fig2 = lines(vec(xs),vec([sum(pinn.phi([x, 1.0], res.u)) for x in xs]))\n",
    "    display(fig2)\n",
    "end\n"
   ]
  }
 ],
 "metadata": {
  "kernelspec": {
   "display_name": "Julia 1.9.0",
   "language": "julia",
   "name": "julia-1.9"
  },
  "language_info": {
   "file_extension": ".jl",
   "mimetype": "application/julia",
   "name": "julia",
   "version": "1.9.0"
  },
  "orig_nbformat": 4
 },
 "nbformat": 4,
 "nbformat_minor": 2
}
